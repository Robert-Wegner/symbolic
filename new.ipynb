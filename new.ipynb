{
 "cells": [
  {
   "cell_type": "code",
   "execution_count": 11,
   "id": "63bc356e",
   "metadata": {},
   "outputs": [
    {
     "data": {
      "application/javascript": [
       "IPython.OutputArea.auto_scroll_threshold = 9999;\n"
      ],
      "text/plain": [
       "<IPython.core.display.Javascript object>"
      ]
     },
     "metadata": {},
     "output_type": "display_data"
    }
   ],
   "source": [
    "%%javascript\n",
    "IPython.OutputArea.auto_scroll_threshold = 9999;"
   ]
  },
  {
   "cell_type": "code",
   "execution_count": 12,
   "id": "3e952281",
   "metadata": {},
   "outputs": [
    {
     "name": "stdout",
     "output_type": "stream",
     "text": [
      "env: USE_SYMENGINE=1\n"
     ]
    }
   ],
   "source": [
    "from sympy import *\n",
    "from IPython.display import display\n",
    "import time\n",
    "import pickle\n",
    "import datetime\n",
    "%env USE_SYMENGINE 1\n",
    "\n",
    "epsilon, epsiloninv, u, v, a, theta = symbols('\\\\epsilon, \\\\eta, u, v, a, \\\\theta', real=True)\n",
    "\n",
    "\n",
    "q = symbols('q', real=False)\n",
    "q_conj = symbols('\\\\tilde{q}', real=False)\n",
    "\n",
    "\n",
    "W_plus = Symbol('W_+', real=True)\n",
    "W_minus = Symbol('W_-', real=True)\n",
    "w_plus = Symbol('w_+', real=True)\n",
    "w_minus = Symbol('w_-', real=True)\n",
    "V_sym = Symbol('V')\n",
    "N_sym = Symbol('N')\n",
    "A_sym = Symbol('A')\n",
    "phi_sym = Symbol('\\\\phi')\n",
    "n_sym = Symbol('n')\n",
    "a_sym = Symbol('a')\n",
    "\n",
    "differentiable_symbols = [u, v, a, theta, q, q_conj, w_plus, w_minus, W_plus, W_minus, V_sym, N_sym, A_sym, phi_sym, n_sym, a_sym]\n"
   ]
  },
  {
   "cell_type": "code",
   "execution_count": 13,
   "id": "d541f094",
   "metadata": {},
   "outputs": [],
   "source": [
    "\n",
    "def var_deriv_name(var):\n",
    "    if \"_{x\" in var.name:\n",
    "        return var.name[:-1] + 'x}'\n",
    "    else:\n",
    "        return '(' + var.name + ')_{x}'\n",
    "        #return var.name + '_x'\n",
    "        \n",
    "def get_var_name_from_deriv(sym):\n",
    "    start = sym.name.find('(')\n",
    "    end = sym.name.find(')')\n",
    "    if start != -1 and end != -1:\n",
    "        sym_name = sym.name[start+1:end]\n",
    "        return sym_name\n",
    "        #orders.append(len(sym.name) - 4 - sym.name.find(')_{'))\n",
    "    else:\n",
    "        sym_name = sym.name\n",
    "        return sym_name\n",
    "        #orders.append(0)\n",
    "\n",
    "def get_order_from_deriv(sym):\n",
    "    start = sym.name.find('(')\n",
    "    end = sym.name.find(')')\n",
    "    if start != -1 and end != -1:\n",
    "        sym_name = sym.name[start+1:end]\n",
    "        return len(sym.name) - 4 - sym.name.find(')_{')\n",
    "    else:\n",
    "        return 0\n",
    "        \n",
    "def deriv(poly, append_to_list=True):\n",
    "    res = 0\n",
    "    original = differentiable_symbols.copy()\n",
    "    for sym in original:\n",
    "        deriv_term = Derivative(poly, sym).doit()\n",
    "        if deriv_term != 0:\n",
    "            #print(\"looking at: \", sym)\n",
    "            newName = var_deriv_name(sym)\n",
    "\n",
    "            if newName in [s.name for s in differentiable_symbols]:\n",
    "                dsym = differentiable_symbols[[s.name for s in differentiable_symbols].index(newName)]\n",
    "                #print(\"newName found: \", dsym)\n",
    "            else:\n",
    "                dsym = Symbol(newName, real=True)\n",
    "                if append_to_list:\n",
    "                    print(\"new differentiable symbol: \", dsym)\n",
    "                    differentiable_symbols.append(dsym)\n",
    "                #print(\"newName not found: \", dsym)\n",
    "            #print(\"syms: \", syms)\n",
    "            res += deriv_term * dsym\n",
    "            #print(\"res: \", res)\n",
    "    \n",
    "    return res\n",
    "    \n",
    "\n",
    "def higher_deriv(var, n):\n",
    "    if n > 0:\n",
    "        return deriv(higher_deriv(var, n-1))\n",
    "    else:\n",
    "        return var\n",
    "    \n",
    "def variation(expr, sym):\n",
    "    if not hasattr(expr, 'free_symbols'):\n",
    "        return 0\n",
    "    \n",
    "    res = 0\n",
    "    order = 0\n",
    "\n",
    "    syms = []\n",
    "    orders = []\n",
    "\n",
    "    start = sym.name.find('(')\n",
    "    end = sym.name.find(')')\n",
    "    if start != -1 and end != -1:\n",
    "        sym_name = sym.name[start+1:end]\n",
    "        syms.append(sym)\n",
    "        orders.append(len(sym.name) - 4 - sym.name.find(')_{'))\n",
    "    else:\n",
    "        sym_name = sym.name\n",
    "        syms.append(sym)\n",
    "        orders.append(0)\n",
    "\n",
    "    for s in expr.free_symbols:\n",
    "        start = s.name.find('(')\n",
    "        end = s.name.find(')')\n",
    "        if start != -1 and end != -1 and sym_name == s.name[start+1:end]:\n",
    "            if s.name not in [sym.name for sym in syms]:\n",
    "                syms.append(s)\n",
    "                orders.append(len(s.name) - 4 - s.name.find(')_{'))    \n",
    "    \n",
    "    for (sym, order) in zip(syms, orders):\n",
    "        res += (-1)**order * higher_deriv(Derivative(expr, sym).doit(), order)\n",
    "\n",
    "    return simplify(res)\n",
    "\n",
    "def polynomize(expr):\n",
    "    return simplify(Poly(expr, epsilon, epsiloninv).subs(epsiloninv, 1/epsilon))\n",
    "\n",
    "def depolynomize(poly):\n",
    "    monoms = poly.monoms()\n",
    "    coeffs = poly.coeffs()\n",
    "    \n",
    "    X = 0\n",
    "    for (k, m) in enumerate(monoms):\n",
    "        X += epsilon**m[0] * epsiloninv**m[1] * coeffs[k]\n",
    "            \n",
    "    return X\n",
    "\n",
    "def poly_simplify(expr):\n",
    "    return depolynomize(polynomize(expr))\n",
    "\n",
    "def substituter(expr, var, sub, magnitude=1, scale=1):\n",
    "    if not hasattr(expr, 'subs'):\n",
    "        return expr\n",
    "    for subvar in sub.free_symbols:\n",
    "        if var in differentiable_symbols and subvar not in differentiable_symbols:\n",
    "            print(\"Warning: Substituting differentiable by non-differentiable symbol.\")\n",
    "            #differentiable_symbols.append(subvar)\n",
    "            pass\n",
    "        \n",
    "    original = differentiable_symbols.copy()\n",
    "    expr = expr.subs(var, magnitude * sub)\n",
    "    \n",
    "    cont = True\n",
    "    m = 0\n",
    "    while cont:\n",
    "        #print(\"var\", var, \"sub\", sub)\n",
    "        dvar = deriv(var, append_to_list=False)\n",
    "        m += 1\n",
    "        \n",
    "        if dvar in differentiable_symbols:\n",
    "            dsub = simplify(deriv(sub))\n",
    "            #print(\"new sub variable from\", sub, \"to\", dsub)\n",
    "            expr = simplify(expr.subs(dvar, magnitude * scale**m * dsub))\n",
    "                    \n",
    "            var = dvar\n",
    "            sub = dsub\n",
    "                    \n",
    "            #print(\"substited\", var, \"by\", sub)\n",
    "        else: \n",
    "            cont = False\n",
    "            \n",
    "    if hasattr(expr, 'applyfunc'):\n",
    "        return expr.applyfunc(poly_simplify)\n",
    "    else:\n",
    "        return poly_simplify(expr)\n",
    "    \n",
    "def multi_substituter(expr, data, magnitude=1, scale=1):\n",
    "    for (var, sub) in data:\n",
    "        expr = substituter(expr, var, sub, magnitude=magnitude, scale=scale)\n",
    "    return expr\n",
    "\n",
    "def extract_deriv(expr, k): \n",
    "    expr = simplify(expr).expand()\n",
    "    #print(\"expr =\", expr) \n",
    "    res = 0\n",
    "    if isinstance(expr, Add):\n",
    "        for mon in expr.args:\n",
    "            #print(\"mon =\", mon)\n",
    "            count = 0\n",
    "            if hasattr(mon, \"name\"):\n",
    "                #print(mon.name)\n",
    "                if \"_{x\" in mon.name:\n",
    "                    count += 1\n",
    "                    #print(\"count =\", count)\n",
    "            else:\n",
    "                for fac in mon.args:\n",
    "                    #print(\"fac =\", fac)\n",
    "                    if hasattr(fac, \"name\"):\n",
    "                        #print(fac.name)\n",
    "                        if \"_{x\" in fac.name:\n",
    "                            count += 1\n",
    "                            #print(\"count =\", count)\n",
    "                    elif isinstance(fac, Pow):\n",
    "                        #print(fac.base.name, fac.exp)\n",
    "                        if \"_{x\" in fac.base.name and fac.exp > 0:\n",
    "                            count += fac.exp     \n",
    "                            #print(\"count =\", count)\n",
    "            #print(\"final count =\", count)\n",
    "            if count == k:\n",
    "                res += mon\n",
    "\n",
    "    else:\n",
    "        mon = expr\n",
    "        #print(\"mon =\", mon)\n",
    "        count = 0\n",
    "        if hasattr(mon, \"name\"):\n",
    "            #print(mon.name)\n",
    "            if \"_{x\" in mon.name:\n",
    "                count += 1\n",
    "                #print(\"count =\", count)\n",
    "        elif hasattr(mon, \"args\"):\n",
    "            for fac in mon.args:\n",
    "                #print(\"fac =\", fac)\n",
    "                if hasattr(fac, \"name\"):\n",
    "                    #print(fac.name)\n",
    "                    if \"_{x\" in fac.name:\n",
    "                        count += 1\n",
    "                        #print(\"count =\", count)\n",
    "                elif isinstance(fac, Pow):\n",
    "                    #print(fac.base.name, fac.exp)\n",
    "                    if \"_{x\" in fac.base.name and fac.exp > 0:\n",
    "                        count += fac.exp     \n",
    "                        #print(\"count =\", count)\n",
    "        #print(\"final count =\", count)\n",
    "        if count == k:\n",
    "            res += mon\n",
    "\n",
    "    #print(\"res =\", res)\n",
    "    return res\n",
    "        \n",
    "def extract_deriv_alt(expr, k):\n",
    "    expr = simplify(expr).expand()\n",
    "    #print(\"expr =\", expr) \n",
    "    res = 0\n",
    "    if isinstance(expr, Add):\n",
    "        for mon in expr.args:\n",
    "            presence_deriv_q_conj = False\n",
    "            #print(\"mon =\", mon)\n",
    "            count = 0\n",
    "            if hasattr(mon, \"name\"):\n",
    "                #print(mon.name)\n",
    "                if \"_{x\" in mon.name:\n",
    "                    count += 1\n",
    "                    if get_var_name_from_deriv(mon) == q_conj.name:\n",
    "                        presence_deriv_q_conj = True\n",
    "            else:\n",
    "                for fac in mon.args:\n",
    "                    #print(\"fac =\", fac)\n",
    "                    if hasattr(fac, \"name\"):\n",
    "                        #print(fac.name)\n",
    "                        if \"_{x\" in fac.name:\n",
    "                            count += 1\n",
    "                            if get_var_name_from_deriv(fac) == q_conj.name:\n",
    "                                presence_deriv_q_conj = True\n",
    "                            #print(\"count =\", count)\n",
    "                    elif isinstance(fac, Pow):\n",
    "                        #print(fac.base.name, fac.exp)\n",
    "                        if \"_{x\" in fac.base.name and fac.exp > 0:\n",
    "                            count += fac.exp     \n",
    "                            if get_var_name_from_deriv(fac.base) == q_conj.name:\n",
    "                                presence_deriv_q_conj = True\n",
    "                            #print(\"count =\", count)\n",
    "            #print(\"final count =\", count)\n",
    "            if count == k and presence_deriv_q_conj:\n",
    "                res += mon\n",
    "\n",
    "    else:\n",
    "        presence_deriv_q_conj = False\n",
    "        mon = expr\n",
    "        #print(\"mon =\", mon)\n",
    "        count = 0\n",
    "        if hasattr(mon, \"name\"):\n",
    "            #print(mon.name)\n",
    "            if \"_{x\" in mon.name:\n",
    "                count += 1\n",
    "                if get_var_name_from_deriv(mon) == q_conj.name:\n",
    "                    presence_deriv_q_conj = True\n",
    "                #print(\"count =\", count)\n",
    "        elif hasattr(mon, \"args\"):\n",
    "            for fac in mon.args:\n",
    "                #print(\"fac =\", fac)\n",
    "                if hasattr(fac, \"name\"):\n",
    "                    #print(fac.name)\n",
    "                    if \"_{x\" in fac.name:\n",
    "                        count += 1\n",
    "                        if get_var_name_from_deriv(fac) == q_conj.name:\n",
    "                            presence_deriv_q_conj = True\n",
    "                        #print(\"count =\", count)\n",
    "                elif isinstance(fac, Pow):\n",
    "                    #print(fac.base.name, fac.exp)\n",
    "                    if \"_{x\" in fac.base.name and fac.exp > 0:\n",
    "                        count += fac.exp   \n",
    "                        if get_var_name_from_deriv(fac.base) == q_conj.name:\n",
    "                            presence_deriv_q_conj = True\n",
    "                        #print(\"count =\", count)\n",
    "        #print(\"final count =\", count)\n",
    "        if count == k and presence_deriv_q_conj:\n",
    "            res += mon\n",
    "\n",
    "    #print(\"res =\", res)\n",
    "    return res\n",
    "\n",
    "N = 7"
   ]
  },
  {
   "cell_type": "code",
   "execution_count": 19,
   "id": "affbc21d",
   "metadata": {},
   "outputs": [
    {
     "data": {
      "text/latex": [
       "$\\displaystyle (a)_{xx} (a)_{x} (v)_{x} e^{v} \\sin{\\left(2 (a)_{x} \\right)}$"
      ],
      "text/plain": [
       "(a)_{xx}*(a)_{x}*(v)_{x}*exp(v)*sin(2*(a)_{x})"
      ]
     },
     "metadata": {},
     "output_type": "display_data"
    }
   ],
   "source": [
    "X = q * deriv(sin(q)**2) * deriv(exp(u))\n",
    "display(multi_substituter(X, [(u, v), (q, deriv(a))]))\n"
   ]
  },
  {
   "cell_type": "code",
   "execution_count": 8,
   "id": "f969c284",
   "metadata": {},
   "outputs": [],
   "source": [
    "def get_expansion(eqn, x0, var, num):\n",
    "    ser = series(eqn, x0=0, x=var, n=num).removeO()\n",
    "    return [simplify(ser.coeff(var**n) if n > 0 else ser.subs(var, 0)) for n in range(0, num)]\n",
    "\n",
    "delta = Symbol('\\\\delta')\n",
    "\n"
   ]
  },
  {
   "cell_type": "code",
   "execution_count": null,
   "id": "46c9250c",
   "metadata": {},
   "outputs": [],
   "source": [
    "if w_plus not in differentiable_symbols: \n",
    "    differentiable_symbols.append(w_plus) \n",
    "if w_minus not in differentiable_symbols:\n",
    "    differentiable_symbols.append(w_minus) \n",
    "\n",
    "print(differentiable_symbols)\n",
    "\n",
    "a_subs_q = sqrt(q * q_conj)\n",
    "v_subs_q = (deriv(q) / q - deriv(q_conj) / q_conj) / (2 * I)\n",
    "\n",
    "\n",
    "expr = deriv(deriv(w_plus - w_minus))\n",
    "display(expr)\n",
    "expr2 = multi_substituter(expr, [(w_plus, v_subs_q/2 + a_subs_q-1), (w_minus, v_subs_q/2 - a_subs_q+1)])\n",
    "display(simplify(expr2.subs(q_conj, abs(q)**2 / q)))\n",
    "\n",
    "\n",
    "#print(differentiable_symbols)"
   ]
  },
  {
   "cell_type": "code",
   "execution_count": 16,
   "id": "ec297efc",
   "metadata": {},
   "outputs": [
    {
     "name": "stdout",
     "output_type": "stream",
     "text": [
      "n = 0\n"
     ]
    },
    {
     "data": {
      "text/latex": [
       "$\\displaystyle \\sigma_{0} = \\operatorname{Poly}{\\left( \\left(- \\frac{\\sqrt{2} i u}{4} - \\frac{\\sqrt{2} i v}{4}\\right) \\epsilon, \\epsilon, \\frac{1}{\\epsilon}, domain=\\mathtt{\\text{EX}} \\right)}$"
      ],
      "text/plain": [
       "Eq(\\sigma_{0}, Poly((-sqrt(2)*I*u/4 - sqrt(2)*I*v/4)*\\epsilon, \\epsilon, 1/\\epsilon, domain='EX'))"
      ]
     },
     "metadata": {},
     "output_type": "display_data"
    },
    {
     "name": "stdout",
     "output_type": "stream",
     "text": [
      "Warning: Substituting differentiable by non-differentiable symbol.\n",
      "Warning: Substituting differentiable by non-differentiable symbol.\n"
     ]
    },
    {
     "data": {
      "text/latex": [
       "$\\displaystyle \\sigma_{0} = \\operatorname{Poly}{\\left( \\left(- \\frac{\\sqrt{2} i u}{4} - \\frac{\\sqrt{2} i v}{4}\\right) \\epsilon^{3}, \\epsilon, \\frac{1}{\\epsilon}, domain=\\mathtt{\\text{EX}} \\right)}$"
      ],
      "text/plain": [
       "Eq(\\sigma_{0}, Poly((-sqrt(2)*I*u/4 - sqrt(2)*I*v/4)*\\epsilon**3, \\epsilon, 1/\\epsilon, domain='EX'))"
      ]
     },
     "metadata": {},
     "output_type": "display_data"
    },
    {
     "name": "stdout",
     "output_type": "stream",
     "text": [
      "n = 1\n"
     ]
    },
    {
     "data": {
      "text/latex": [
       "$\\displaystyle \\sigma_{1} = \\operatorname{Poly}{\\left( \\left(- \\frac{u^{2}}{8} + \\frac{u v}{4} - \\frac{v^{2}}{8}\\right) \\epsilon^{2} + \\left(- \\frac{\\sqrt{2} i (u)_{x}}{4} + \\frac{\\sqrt{2} i (v)_{x}}{4}\\right) \\epsilon + \\frac{u}{2} - \\frac{v}{2}, \\epsilon, \\frac{1}{\\epsilon}, domain=\\mathtt{\\text{EX}} \\right)}$"
      ],
      "text/plain": [
       "Eq(\\sigma_{1}, Poly((-u**2/8 + u*v/4 - v**2/8)*\\epsilon**2 + (-sqrt(2)*I*(u)_{x}/4 + sqrt(2)*I*(v)_{x}/4)*\\epsilon + u/2 - v/2, \\epsilon, 1/\\epsilon, domain='EX'))"
      ]
     },
     "metadata": {},
     "output_type": "display_data"
    },
    {
     "name": "stdout",
     "output_type": "stream",
     "text": [
      "Warning: Substituting differentiable by non-differentiable symbol.\n",
      "Warning: Substituting differentiable by non-differentiable symbol.\n"
     ]
    },
    {
     "data": {
      "text/latex": [
       "$\\displaystyle \\sigma_{1} = \\operatorname{Poly}{\\left( \\left(- \\frac{u^{2}}{8} + \\frac{u v}{4} - \\frac{v^{2}}{8}\\right) \\epsilon^{6} + \\left(- \\frac{\\sqrt{2} i (u)_{x}}{4} + \\frac{\\sqrt{2} i (v)_{x}}{4}\\right) \\epsilon^{3} + \\left(\\frac{u}{2} - \\frac{v}{2}\\right) \\epsilon^{2}, \\epsilon, \\frac{1}{\\epsilon}, domain=\\mathtt{\\text{EX}} \\right)}$"
      ],
      "text/plain": [
       "Eq(\\sigma_{1}, Poly((-u**2/8 + u*v/4 - v**2/8)*\\epsilon**6 + (-sqrt(2)*I*(u)_{x}/4 + sqrt(2)*I*(v)_{x}/4)*\\epsilon**3 + (u/2 - v/2)*\\epsilon**2, \\epsilon, 1/\\epsilon, domain='EX'))"
      ]
     },
     "metadata": {},
     "output_type": "display_data"
    },
    {
     "name": "stdout",
     "output_type": "stream",
     "text": [
      "n = 2\n"
     ]
    },
    {
     "data": {
      "text/latex": [
       "$\\displaystyle \\sigma_{2} = \\operatorname{Poly}{\\left( \\left(\\frac{\\sqrt{2} i u^{3}}{16} - \\frac{\\sqrt{2} i u^{2} v}{16} - \\frac{\\sqrt{2} i u v^{2}}{16} + \\frac{\\sqrt{2} i v^{3}}{16}\\right) \\epsilon^{3} + \\left(- \\frac{(u)_{x} u}{2} + \\frac{(v)_{x} v}{2}\\right) \\epsilon^{2} + \\left(- \\frac{\\sqrt{2} i (u)_{xx}}{4} + \\frac{\\sqrt{2} i (v)_{xx}}{4} - \\frac{\\sqrt{2} i u^{2}}{4} + \\frac{\\sqrt{2} i v^{2}}{4}\\right) \\epsilon + \\left(\\frac{\\sqrt{2} i u}{4} + \\frac{\\sqrt{2} i v}{4}\\right) \\frac{1}{\\epsilon} + \\frac{(u)_{x}}{2} + \\frac{(v)_{x}}{2}, \\epsilon, \\frac{1}{\\epsilon}, domain=\\mathtt{\\text{EX}} \\right)}$"
      ],
      "text/plain": [
       "Eq(\\sigma_{2}, Poly((sqrt(2)*I*u**3/16 - sqrt(2)*I*u**2*v/16 - sqrt(2)*I*u*v**2/16 + sqrt(2)*I*v**3/16)*\\epsilon**3 + (-(u)_{x}*u/2 + (v)_{x}*v/2)*\\epsilon**2 + (-sqrt(2)*I*(u)_{xx}/4 + sqrt(2)*I*(v)_{xx}/4 - sqrt(2)*I*u**2/4 + sqrt(2)*I*v**2/4)*\\epsilon + (sqrt(2)*I*u/4 + sqrt(2)*I*v/4)*(1/\\epsilon) + (u)_{x}/2 + (v)_{x}/2, \\epsilon, 1/\\epsilon, domain='EX'))"
      ]
     },
     "metadata": {},
     "output_type": "display_data"
    },
    {
     "name": "stdout",
     "output_type": "stream",
     "text": [
      "Warning: Substituting differentiable by non-differentiable symbol.\n",
      "Warning: Substituting differentiable by non-differentiable symbol.\n"
     ]
    },
    {
     "data": {
      "text/latex": [
       "$\\displaystyle \\sigma_{2} = \\operatorname{Poly}{\\left( \\left(\\frac{\\sqrt{2} i u^{3}}{16} - \\frac{\\sqrt{2} i u^{2} v}{16} - \\frac{\\sqrt{2} i u v^{2}}{16} + \\frac{\\sqrt{2} i v^{3}}{16}\\right) \\epsilon^{9} + \\left(- \\frac{(u)_{x} u}{2} + \\frac{(v)_{x} v}{2}\\right) \\epsilon^{6} + \\left(- \\frac{\\sqrt{2} i u^{2}}{4} + \\frac{\\sqrt{2} i v^{2}}{4}\\right) \\epsilon^{5} + \\left(- \\frac{\\sqrt{2} i (u)_{xx}}{4} + \\frac{\\sqrt{2} i (v)_{xx}}{4}\\right) \\epsilon^{3} + \\left(\\frac{(u)_{x}}{2} + \\frac{(v)_{x}}{2}\\right) \\epsilon^{2} + \\left(\\frac{\\sqrt{2} i u}{4} + \\frac{\\sqrt{2} i v}{4}\\right) \\epsilon, \\epsilon, \\frac{1}{\\epsilon}, domain=\\mathtt{\\text{EX}} \\right)}$"
      ],
      "text/plain": [
       "Eq(\\sigma_{2}, Poly((sqrt(2)*I*u**3/16 - sqrt(2)*I*u**2*v/16 - sqrt(2)*I*u*v**2/16 + sqrt(2)*I*v**3/16)*\\epsilon**9 + (-(u)_{x}*u/2 + (v)_{x}*v/2)*\\epsilon**6 + (-sqrt(2)*I*u**2/4 + sqrt(2)*I*v**2/4)*\\epsilon**5 + (-sqrt(2)*I*(u)_{xx}/4 + sqrt(2)*I*(v)_{xx}/4)*\\epsilon**3 + ((u)_{x}/2 + (v)_{x}/2)*\\epsilon**2 + (sqrt(2)*I*u/4 + sqrt(2)*I*v/4)*\\epsilon, \\epsilon, 1/\\epsilon, domain='EX'))"
      ]
     },
     "metadata": {},
     "output_type": "display_data"
    },
    {
     "name": "stdout",
     "output_type": "stream",
     "text": [
      "n = 3\n"
     ]
    },
    {
     "data": {
      "text/latex": [
       "$\\displaystyle \\sigma_{3} = \\operatorname{Poly}{\\left( \\left(\\frac{5 u^{4}}{64} - \\frac{u^{3} v}{16} - \\frac{u^{2} v^{2}}{32} - \\frac{u v^{3}}{16} + \\frac{5 v^{4}}{64}\\right) \\epsilon^{4} + \\left(\\frac{\\sqrt{2} i (u)_{x} u^{2}}{2} - \\frac{\\sqrt{2} i (v)_{x} v^{2}}{2}\\right) \\epsilon^{3} + \\left(- \\frac{3 (u)_{xx} u}{4} - \\frac{(u)_{xx} v}{4} - \\frac{5 (u)_{x}^{2}}{8} - \\frac{(u)_{x} (v)_{x}}{4} + \\frac{(v)_{xx} u}{4} + \\frac{3 (v)_{xx} v}{4} + \\frac{7 (v)_{x}^{2}}{8} - \\frac{3 u^{3}}{8} + \\frac{u^{2} v}{8} - \\frac{u v^{2}}{8} + \\frac{3 v^{3}}{8}\\right) \\epsilon^{2} + \\left(- \\frac{\\sqrt{2} i (u)_{xxx}}{4} - \\sqrt{2} i (u)_{x} u + \\frac{\\sqrt{2} i (v)_{xxx}}{4} - \\sqrt{2} i (v)_{x} v\\right) \\epsilon + \\left(\\frac{\\sqrt{2} i (u)_{x}}{4} - \\frac{\\sqrt{2} i (v)_{x}}{4}\\right) \\frac{1}{\\epsilon} + \\frac{(u)_{xx}}{2} + \\frac{(v)_{xx}}{2} + \\frac{u^{2}}{2} + \\frac{v^{2}}{2}, \\epsilon, \\frac{1}{\\epsilon}, domain=\\mathtt{\\text{EX}} \\right)}$"
      ],
      "text/plain": [
       "Eq(\\sigma_{3}, Poly((5*u**4/64 - u**3*v/16 - u**2*v**2/32 - u*v**3/16 + 5*v**4/64)*\\epsilon**4 + (sqrt(2)*I*(u)_{x}*u**2/2 - sqrt(2)*I*(v)_{x}*v**2/2)*\\epsilon**3 + (-3*(u)_{xx}*u/4 - (u)_{xx}*v/4 - 5*(u)_{x}**2/8 - (u)_{x}*(v)_{x}/4 + (v)_{xx}*u/4 + 3*(v)_{xx}*v/4 + 7*(v)_{x}**2/8 - 3*u**3/8 + u**2*v/8 - u*v**2/8 + 3*v**3/8)*\\epsilon**2 + (-sqrt(2)*I*(u)_{xxx}/4 - sqrt(2)*I*(u)_{x}*u + sqrt(2)*I*(v)_{xxx}/4 - sqrt(2)*I*(v)_{x}*v)*\\epsilon + (sqrt(2)*I*(u)_{x}/4 - sqrt(2)*I*(v)_{x}/4)*(1/\\epsilon) + (u)_{xx}/2 + (v)_{xx}/2 + u**2/2 + v**2/2, \\epsilon, 1/\\epsilon, domain='EX'))"
      ]
     },
     "metadata": {},
     "output_type": "display_data"
    },
    {
     "name": "stdout",
     "output_type": "stream",
     "text": [
      "Warning: Substituting differentiable by non-differentiable symbol.\n",
      "Warning: Substituting differentiable by non-differentiable symbol.\n"
     ]
    },
    {
     "data": {
      "text/latex": [
       "$\\displaystyle \\sigma_{3} = \\operatorname{Poly}{\\left( \\left(\\frac{5 u^{4}}{64} - \\frac{u^{3} v}{16} - \\frac{u^{2} v^{2}}{32} - \\frac{u v^{3}}{16} + \\frac{5 v^{4}}{64}\\right) \\epsilon^{12} + \\left(\\frac{\\sqrt{2} i (u)_{x} u^{2}}{2} - \\frac{\\sqrt{2} i (v)_{x} v^{2}}{2}\\right) \\epsilon^{9} + \\left(- \\frac{3 u^{3}}{8} + \\frac{u^{2} v}{8} - \\frac{u v^{2}}{8} + \\frac{3 v^{3}}{8}\\right) \\epsilon^{8} + \\left(- \\frac{3 (u)_{xx} u}{4} - \\frac{(u)_{xx} v}{4} - \\frac{5 (u)_{x}^{2}}{8} - \\frac{(u)_{x} (v)_{x}}{4} + \\frac{(v)_{xx} u}{4} + \\frac{3 (v)_{xx} v}{4} + \\frac{7 (v)_{x}^{2}}{8}\\right) \\epsilon^{6} + \\left(- \\sqrt{2} i (u)_{x} u - \\sqrt{2} i (v)_{x} v\\right) \\epsilon^{5} + \\left(\\frac{u^{2}}{2} + \\frac{v^{2}}{2}\\right) \\epsilon^{4} + \\left(- \\frac{\\sqrt{2} i (u)_{xxx}}{4} + \\frac{\\sqrt{2} i (v)_{xxx}}{4}\\right) \\epsilon^{3} + \\left(\\frac{(u)_{xx}}{2} + \\frac{(v)_{xx}}{2}\\right) \\epsilon^{2} + \\left(\\frac{\\sqrt{2} i (u)_{x}}{4} - \\frac{\\sqrt{2} i (v)_{x}}{4}\\right) \\epsilon, \\epsilon, \\frac{1}{\\epsilon}, domain=\\mathtt{\\text{EX}} \\right)}$"
      ],
      "text/plain": [
       "Eq(\\sigma_{3}, Poly((5*u**4/64 - u**3*v/16 - u**2*v**2/32 - u*v**3/16 + 5*v**4/64)*\\epsilon**12 + (sqrt(2)*I*(u)_{x}*u**2/2 - sqrt(2)*I*(v)_{x}*v**2/2)*\\epsilon**9 + (-3*u**3/8 + u**2*v/8 - u*v**2/8 + 3*v**3/8)*\\epsilon**8 + (-3*(u)_{xx}*u/4 - (u)_{xx}*v/4 - 5*(u)_{x}**2/8 - (u)_{x}*(v)_{x}/4 + (v)_{xx}*u/4 + 3*(v)_{xx}*v/4 + 7*(v)_{x}**2/8)*\\epsilon**6 + (-sqrt(2)*I*(u)_{x}*u - sqrt(2)*I*(v)_{x}*v)*\\epsilon**5 + (u**2/2 + v**2/2)*\\epsilon**4 + (-sqrt(2)*I*(u)_{xxx}/4 + sqrt(2)*I*(v)_{xxx}/4)*\\epsilon**3 + ((u)_{xx}/2 + (v)_{xx}/2)*\\epsilon**2 + (sqrt(2)*I*(u)_{x}/4 - sqrt(2)*I*(v)_{x}/4)*\\epsilon, \\epsilon, 1/\\epsilon, domain='EX'))"
      ]
     },
     "metadata": {},
     "output_type": "display_data"
    },
    {
     "name": "stdout",
     "output_type": "stream",
     "text": [
      "n = 4\n"
     ]
    },
    {
     "data": {
      "text/latex": [
       "$\\displaystyle \\sigma_{4} = \\operatorname{Poly}{\\left( \\left(- \\frac{7 \\sqrt{2} i u^{5}}{128} + \\frac{5 \\sqrt{2} i u^{4} v}{128} + \\frac{\\sqrt{2} i u^{3} v^{2}}{64} + \\frac{\\sqrt{2} i u^{2} v^{3}}{64} + \\frac{5 \\sqrt{2} i u v^{4}}{128} - \\frac{7 \\sqrt{2} i v^{5}}{128}\\right) \\epsilon^{5} + \\left((u)_{x} u^{3} - (v)_{x} v^{3}\\right) \\epsilon^{4} + \\left(\\frac{15 \\sqrt{2} i (u)_{xx} u^{2}}{16} + \\frac{3 \\sqrt{2} i (u)_{xx} u v}{8} + \\frac{3 \\sqrt{2} i (u)_{xx} v^{2}}{16} + \\frac{25 \\sqrt{2} i (u)_{x}^{2} u}{16} + \\frac{5 \\sqrt{2} i (u)_{x}^{2} v}{16} + \\frac{3 \\sqrt{2} i (u)_{x} (v)_{x} u}{8} + \\frac{3 \\sqrt{2} i (u)_{x} (v)_{x} v}{8} - \\frac{3 \\sqrt{2} i (v)_{xx} u^{2}}{16} - \\frac{3 \\sqrt{2} i (v)_{xx} u v}{8} - \\frac{15 \\sqrt{2} i (v)_{xx} v^{2}}{16} - \\frac{7 \\sqrt{2} i (v)_{x}^{2} u}{16} - \\frac{35 \\sqrt{2} i (v)_{x}^{2} v}{16} + \\frac{5 \\sqrt{2} i u^{4}}{16} - \\frac{\\sqrt{2} i u^{3} v}{8} + \\frac{\\sqrt{2} i u v^{3}}{8} - \\frac{5 \\sqrt{2} i v^{4}}{16}\\right) \\epsilon^{3} + \\left(- (u)_{xxx} u - \\frac{(u)_{xxx} v}{2} - \\frac{9 (u)_{xx} (u)_{x}}{4} - \\frac{3 (u)_{xx} (v)_{x}}{4} + \\frac{(u)_{x} (v)_{xx}}{4} - 3 (u)_{x} u^{2} + \\frac{(v)_{xxx} u}{2} + (v)_{xxx} v + \\frac{11 (v)_{xx} (v)_{x}}{4} - 3 (v)_{x} v^{2}\\right) \\epsilon^{2} + \\left(- \\frac{\\sqrt{2} i (u)_{xxxx}}{4} - \\frac{3 \\sqrt{2} i (u)_{xx} u}{2} - \\frac{5 \\sqrt{2} i (u)_{x}^{2}}{4} + \\frac{\\sqrt{2} i (v)_{xxxx}}{4} - \\frac{3 \\sqrt{2} i (v)_{xx} v}{2} - \\frac{7 \\sqrt{2} i (v)_{x}^{2}}{4} - \\frac{9 \\sqrt{2} i u^{3}}{16} + \\frac{\\sqrt{2} i u^{2} v}{16} + \\frac{\\sqrt{2} i u v^{2}}{16} - \\frac{9 \\sqrt{2} i v^{3}}{16}\\right) \\epsilon + \\left(\\frac{\\sqrt{2} i u}{8} + \\frac{\\sqrt{2} i v}{8}\\right) \\frac{1}{\\epsilon^{3}} + \\left(\\frac{\\sqrt{2} i (u)_{xx}}{4} - \\frac{\\sqrt{2} i (v)_{xx}}{4} + \\frac{\\sqrt{2} i u^{2}}{4} - \\frac{\\sqrt{2} i v^{2}}{4}\\right) \\frac{1}{\\epsilon} + \\frac{(u)_{xxx}}{2} + 2 (u)_{x} u + \\frac{(v)_{xxx}}{2} - 2 (v)_{x} v, \\epsilon, \\frac{1}{\\epsilon}, domain=\\mathtt{\\text{EX}} \\right)}$"
      ],
      "text/plain": [
       "Eq(\\sigma_{4}, Poly((-7*sqrt(2)*I*u**5/128 + 5*sqrt(2)*I*u**4*v/128 + sqrt(2)*I*u**3*v**2/64 + sqrt(2)*I*u**2*v**3/64 + 5*sqrt(2)*I*u*v**4/128 - 7*sqrt(2)*I*v**5/128)*\\epsilon**5 + ((u)_{x}*u**3 - (v)_{x}*v**3)*\\epsilon**4 + (15*sqrt(2)*I*(u)_{xx}*u**2/16 + 3*sqrt(2)*I*(u)_{xx}*u*v/8 + 3*sqrt(2)*I*(u)_{xx}*v**2/16 + 25*sqrt(2)*I*(u)_{x}**2*u/16 + 5*sqrt(2)*I*(u)_{x}**2*v/16 + 3*sqrt(2)*I*(u)_{x}*(v)_{x}*u/8 + 3*sqrt(2)*I*(u)_{x}*(v)_{x}*v/8 - 3*sqrt(2)*I*(v)_{xx}*u**2/16 - 3*sqrt(2)*I*(v)_{xx}*u*v/8 - 15*sqrt(2)*I*(v)_{xx}*v**2/16 - 7*sqrt(2)*I*(v)_{x}**2*u/16 - 35*sqrt(2)*I*(v)_{x}**2*v/16 + 5*sqrt(2)*I*u**4/16 - sqrt(2)*I*u**3*v/8 + sqrt(2)*I*u*v**3/8 - 5*sqrt(2)*I*v**4/16)*\\epsilon**3 + (-(u)_{xxx}*u - (u)_{xxx}*v/2 - 9*(u)_{xx}*(u)_{x}/4 - 3*(u)_{xx}*(v)_{x}/4 + (u)_{x}*(v)_{xx}/4 - 3*(u)_{x}*u**2 + (v)_{xxx}*u/2 + (v)_{xxx}*v + 11*(v)_{xx}*(v)_{x}/4 - 3*(v)_{x}*v**2)*\\epsilon**2 + (-sqrt(2)*I*(u)_{xxxx}/4 - 3*sqrt(2)*I*(u)_{xx}*u/2 - 5*sqrt(2)*I*(u)_{x}**2/4 + sqrt(2)*I*(v)_{xxxx}/4 - 3*sqrt(2)*I*(v)_{xx}*v/2 - 7*sqrt(2)*I*(v)_{x}**2/4 - 9*sqrt(2)*I*u**3/16 + sqrt(2)*I*u**2*v/16 + sqrt(2)*I*u*v**2/16 - 9*sqrt(2)*I*v**3/16)*\\epsilon + (sqrt(2)*I*u/8 + sqrt(2)*I*v/8)*(1/\\epsilon)**3 + (sqrt(2)*I*(u)_{xx}/4 - sqrt(2)*I*(v)_{xx}/4 + sqrt(2)*I*u**2/4 - sqrt(2)*I*v**2/4)*(1/\\epsilon) + (u)_{xxx}/2 + 2*(u)_{x}*u + (v)_{xxx}/2 - 2*(v)_{x}*v, \\epsilon, 1/\\epsilon, domain='EX'))"
      ]
     },
     "metadata": {},
     "output_type": "display_data"
    },
    {
     "name": "stdout",
     "output_type": "stream",
     "text": [
      "Warning: Substituting differentiable by non-differentiable symbol.\n",
      "Warning: Substituting differentiable by non-differentiable symbol.\n"
     ]
    },
    {
     "data": {
      "text/latex": [
       "$\\displaystyle \\sigma_{4} = \\operatorname{Poly}{\\left( \\left(- \\frac{7 \\sqrt{2} i u^{5}}{128} + \\frac{5 \\sqrt{2} i u^{4} v}{128} + \\frac{\\sqrt{2} i u^{3} v^{2}}{64} + \\frac{\\sqrt{2} i u^{2} v^{3}}{64} + \\frac{5 \\sqrt{2} i u v^{4}}{128} - \\frac{7 \\sqrt{2} i v^{5}}{128}\\right) \\epsilon^{15} + \\left((u)_{x} u^{3} - (v)_{x} v^{3}\\right) \\epsilon^{12} + \\left(\\frac{5 \\sqrt{2} i u^{4}}{16} - \\frac{\\sqrt{2} i u^{3} v}{8} + \\frac{\\sqrt{2} i u v^{3}}{8} - \\frac{5 \\sqrt{2} i v^{4}}{16}\\right) \\epsilon^{11} + \\left(\\frac{15 \\sqrt{2} i (u)_{xx} u^{2}}{16} + \\frac{3 \\sqrt{2} i (u)_{xx} u v}{8} + \\frac{3 \\sqrt{2} i (u)_{xx} v^{2}}{16} + \\frac{25 \\sqrt{2} i (u)_{x}^{2} u}{16} + \\frac{5 \\sqrt{2} i (u)_{x}^{2} v}{16} + \\frac{3 \\sqrt{2} i (u)_{x} (v)_{x} u}{8} + \\frac{3 \\sqrt{2} i (u)_{x} (v)_{x} v}{8} - \\frac{3 \\sqrt{2} i (v)_{xx} u^{2}}{16} - \\frac{3 \\sqrt{2} i (v)_{xx} u v}{8} - \\frac{15 \\sqrt{2} i (v)_{xx} v^{2}}{16} - \\frac{7 \\sqrt{2} i (v)_{x}^{2} u}{16} - \\frac{35 \\sqrt{2} i (v)_{x}^{2} v}{16}\\right) \\epsilon^{9} + \\left(- 3 (u)_{x} u^{2} - 3 (v)_{x} v^{2}\\right) \\epsilon^{8} + \\left(- \\frac{9 \\sqrt{2} i u^{3}}{16} + \\frac{\\sqrt{2} i u^{2} v}{16} + \\frac{\\sqrt{2} i u v^{2}}{16} - \\frac{9 \\sqrt{2} i v^{3}}{16}\\right) \\epsilon^{7} + \\left(- (u)_{xxx} u - \\frac{(u)_{xxx} v}{2} - \\frac{9 (u)_{xx} (u)_{x}}{4} - \\frac{3 (u)_{xx} (v)_{x}}{4} + \\frac{(u)_{x} (v)_{xx}}{4} + \\frac{(v)_{xxx} u}{2} + (v)_{xxx} v + \\frac{11 (v)_{xx} (v)_{x}}{4}\\right) \\epsilon^{6} + \\left(- \\frac{3 \\sqrt{2} i (u)_{xx} u}{2} - \\frac{5 \\sqrt{2} i (u)_{x}^{2}}{4} - \\frac{3 \\sqrt{2} i (v)_{xx} v}{2} - \\frac{7 \\sqrt{2} i (v)_{x}^{2}}{4}\\right) \\epsilon^{5} + \\left(2 (u)_{x} u - 2 (v)_{x} v\\right) \\epsilon^{4} + \\left(- \\frac{\\sqrt{2} i (u)_{xxxx}}{4} + \\frac{\\sqrt{2} i (v)_{xxxx}}{4} + \\frac{\\sqrt{2} i u^{2}}{4} - \\frac{\\sqrt{2} i v^{2}}{4}\\right) \\epsilon^{3} + \\left(\\frac{(u)_{xxx}}{2} + \\frac{(v)_{xxx}}{2}\\right) \\epsilon^{2} + \\left(\\frac{\\sqrt{2} i (u)_{xx}}{4} - \\frac{\\sqrt{2} i (v)_{xx}}{4}\\right) \\epsilon + \\left(\\frac{\\sqrt{2} i u}{8} + \\frac{\\sqrt{2} i v}{8}\\right) \\frac{1}{\\epsilon}, \\epsilon, \\frac{1}{\\epsilon}, domain=\\mathtt{\\text{EX}} \\right)}$"
      ],
      "text/plain": [
       "Eq(\\sigma_{4}, Poly((-7*sqrt(2)*I*u**5/128 + 5*sqrt(2)*I*u**4*v/128 + sqrt(2)*I*u**3*v**2/64 + sqrt(2)*I*u**2*v**3/64 + 5*sqrt(2)*I*u*v**4/128 - 7*sqrt(2)*I*v**5/128)*\\epsilon**15 + ((u)_{x}*u**3 - (v)_{x}*v**3)*\\epsilon**12 + (5*sqrt(2)*I*u**4/16 - sqrt(2)*I*u**3*v/8 + sqrt(2)*I*u*v**3/8 - 5*sqrt(2)*I*v**4/16)*\\epsilon**11 + (15*sqrt(2)*I*(u)_{xx}*u**2/16 + 3*sqrt(2)*I*(u)_{xx}*u*v/8 + 3*sqrt(2)*I*(u)_{xx}*v**2/16 + 25*sqrt(2)*I*(u)_{x}**2*u/16 + 5*sqrt(2)*I*(u)_{x}**2*v/16 + 3*sqrt(2)*I*(u)_{x}*(v)_{x}*u/8 + 3*sqrt(2)*I*(u)_{x}*(v)_{x}*v/8 - 3*sqrt(2)*I*(v)_{xx}*u**2/16 - 3*sqrt(2)*I*(v)_{xx}*u*v/8 - 15*sqrt(2)*I*(v)_{xx}*v**2/16 - 7*sqrt(2)*I*(v)_{x}**2*u/16 - 35*sqrt(2)*I*(v)_{x}**2*v/16)*\\epsilon**9 + (-3*(u)_{x}*u**2 - 3*(v)_{x}*v**2)*\\epsilon**8 + (-9*sqrt(2)*I*u**3/16 + sqrt(2)*I*u**2*v/16 + sqrt(2)*I*u*v**2/16 - 9*sqrt(2)*I*v**3/16)*\\epsilon**7 + (-(u)_{xxx}*u - (u)_{xxx}*v/2 - 9*(u)_{xx}*(u)_{x}/4 - 3*(u)_{xx}*(v)_{x}/4 + (u)_{x}*(v)_{xx}/4 + (v)_{xxx}*u/2 + (v)_{xxx}*v + 11*(v)_{xx}*(v)_{x}/4)*\\epsilon**6 + (-3*sqrt(2)*I*(u)_{xx}*u/2 - 5*sqrt(2)*I*(u)_{x}**2/4 - 3*sqrt(2)*I*(v)_{xx}*v/2 - 7*sqrt(2)*I*(v)_{x}**2/4)*\\epsilon**5 + (2*(u)_{x}*u - 2*(v)_{x}*v)*\\epsilon**4 + (-sqrt(2)*I*(u)_{xxxx}/4 + sqrt(2)*I*(v)_{xxxx}/4 + sqrt(2)*I*u**2/4 - sqrt(2)*I*v**2/4)*\\epsilon**3 + ((u)_{xxx}/2 + (v)_{xxx}/2)*\\epsilon**2 + (sqrt(2)*I*(u)_{xx}/4 - sqrt(2)*I*(v)_{xx}/4)*\\epsilon + (sqrt(2)*I*u/8 + sqrt(2)*I*v/8)*(1/\\epsilon), \\epsilon, 1/\\epsilon, domain='EX'))"
      ]
     },
     "metadata": {},
     "output_type": "display_data"
    },
    {
     "name": "stdout",
     "output_type": "stream",
     "text": [
      "n = 5\n"
     ]
    },
    {
     "data": {
      "text/latex": [
       "$\\displaystyle \\sigma_{5} = \\operatorname{Poly}{\\left( \\left(- \\frac{21 u^{6}}{256} + \\frac{7 u^{5} v}{128} + \\frac{5 u^{4} v^{2}}{256} + \\frac{u^{3} v^{3}}{64} + \\frac{5 u^{2} v^{4}}{256} + \\frac{7 u v^{5}}{128} - \\frac{21 v^{6}}{256}\\right) \\epsilon^{6} + \\left(- \\sqrt{2} i (u)_{x} u^{4} + \\sqrt{2} i (v)_{x} v^{4}\\right) \\epsilon^{5} + \\left(\\frac{35 (u)_{xx} u^{3}}{16} + \\frac{15 (u)_{xx} u^{2} v}{16} + \\frac{9 (u)_{xx} u v^{2}}{16} + \\frac{5 (u)_{xx} v^{3}}{16} + \\frac{175 (u)_{x}^{2} u^{2}}{32} + \\frac{25 (u)_{x}^{2} u v}{16} + \\frac{15 (u)_{x}^{2} v^{2}}{32} + \\frac{15 (u)_{x} (v)_{x} u^{2}}{16} + \\frac{9 (u)_{x} (v)_{x} u v}{8} + \\frac{15 (u)_{x} (v)_{x} v^{2}}{16} - \\frac{5 (v)_{xx} u^{3}}{16} - \\frac{9 (v)_{xx} u^{2} v}{16} - \\frac{15 (v)_{xx} u v^{2}}{16} - \\frac{35 (v)_{xx} v^{3}}{16} - \\frac{21 (v)_{x}^{2} u^{2}}{32} - \\frac{35 (v)_{x}^{2} u v}{16} - \\frac{245 (v)_{x}^{2} v^{2}}{32} + \\frac{35 u^{5}}{64} - \\frac{15 u^{4} v}{64} - \\frac{u^{3} v^{2}}{32} + \\frac{u^{2} v^{3}}{32} + \\frac{15 u v^{4}}{64} - \\frac{35 v^{5}}{64}\\right) \\epsilon^{4} + \\left(\\frac{3 \\sqrt{2} i (u)_{xxx} u^{2}}{2} + \\sqrt{2} i (u)_{xxx} u v + \\frac{\\sqrt{2} i (u)_{xxx} v^{2}}{2} + \\frac{27 \\sqrt{2} i (u)_{xx} (u)_{x} u}{4} + \\frac{9 \\sqrt{2} i (u)_{xx} (u)_{x} v}{4} + \\frac{3 \\sqrt{2} i (u)_{xx} (v)_{x} u}{2} + \\frac{3 \\sqrt{2} i (u)_{xx} (v)_{x} v}{2} + \\frac{15 \\sqrt{2} i (u)_{x}^{3}}{8} + \\frac{9 \\sqrt{2} i (u)_{x}^{2} (v)_{x}}{8} - \\frac{\\sqrt{2} i (u)_{x} (v)_{xx} u}{2} - \\frac{\\sqrt{2} i (u)_{x} (v)_{xx} v}{2} - \\frac{3 \\sqrt{2} i (u)_{x} (v)_{x}^{2}}{8} + 4 \\sqrt{2} i (u)_{x} u^{3} - \\frac{\\sqrt{2} i (v)_{xxx} u^{2}}{2} - \\sqrt{2} i (v)_{xxx} u v - \\frac{3 \\sqrt{2} i (v)_{xxx} v^{2}}{2} - \\frac{11 \\sqrt{2} i (v)_{xx} (v)_{x} u}{4} - \\frac{33 \\sqrt{2} i (v)_{xx} (v)_{x} v}{4} - \\frac{21 \\sqrt{2} i (v)_{x}^{3}}{8} + 4 \\sqrt{2} i (v)_{x} v^{3}\\right) \\epsilon^{3} + \\left(- \\frac{5 (u)_{xxxx} u}{4} - \\frac{3 (u)_{xxxx} v}{4} - \\frac{7 (u)_{xxx} (u)_{x}}{2} - \\frac{3 (u)_{xxx} (v)_{x}}{2} - \\frac{19 (u)_{xx}^{2}}{8} - \\frac{(u)_{xx} (v)_{xx}}{4} - \\frac{45 (u)_{xx} u^{2}}{8} - \\frac{3 (u)_{xx} u v}{4} + \\frac{3 (u)_{xx} v^{2}}{8} - \\frac{75 (u)_{x}^{2} u}{8} - \\frac{5 (u)_{x}^{2} v}{8} + (u)_{x} (v)_{xxx} - \\frac{3 (u)_{x} (v)_{x} u}{4} + \\frac{3 (u)_{x} (v)_{x} v}{4} + \\frac{3 (v)_{xxxx} u}{4} + \\frac{5 (v)_{xxxx} v}{4} + 4 (v)_{xxx} (v)_{x} + \\frac{21 (v)_{xx}^{2}}{8} + \\frac{3 (v)_{xx} u^{2}}{8} - \\frac{3 (v)_{xx} u v}{4} - \\frac{45 (v)_{xx} v^{2}}{8} - \\frac{7 (v)_{x}^{2} u}{8} - \\frac{105 (v)_{x}^{2} v}{8} - \\frac{5 u^{4}}{4} + \\frac{u^{3} v}{4} + \\frac{u v^{3}}{4} - \\frac{5 v^{4}}{4}\\right) \\epsilon^{2} + \\left(- \\frac{\\sqrt{2} i (u)_{xxxxx}}{4} - 2 \\sqrt{2} i (u)_{xxx} u - \\frac{9 \\sqrt{2} i (u)_{xx} (u)_{x}}{2} - \\frac{9 \\sqrt{2} i (u)_{x} u^{2}}{2} + \\frac{\\sqrt{2} i (v)_{xxxxx}}{4} - 2 \\sqrt{2} i (v)_{xxx} v - \\frac{11 \\sqrt{2} i (v)_{xx} (v)_{x}}{2} + \\frac{9 \\sqrt{2} i (v)_{x} v^{2}}{2}\\right) \\epsilon + \\left(\\frac{\\sqrt{2} i (u)_{x}}{8} - \\frac{\\sqrt{2} i (v)_{x}}{8}\\right) \\frac{1}{\\epsilon^{3}} + \\left(\\frac{\\sqrt{2} i (u)_{xxx}}{4} + \\sqrt{2} i (u)_{x} u - \\frac{\\sqrt{2} i (v)_{xxx}}{4} + \\sqrt{2} i (v)_{x} v\\right) \\frac{1}{\\epsilon} + \\frac{(u)_{xxxx}}{2} + 3 (u)_{xx} u + \\frac{5 (u)_{x}^{2}}{2} + \\frac{(v)_{xxxx}}{2} - 3 (v)_{xx} v - \\frac{7 (v)_{x}^{2}}{2} + u^{3} - v^{3}, \\epsilon, \\frac{1}{\\epsilon}, domain=\\mathtt{\\text{EX}} \\right)}$"
      ],
      "text/plain": [
       "Eq(\\sigma_{5}, Poly((-21*u**6/256 + 7*u**5*v/128 + 5*u**4*v**2/256 + u**3*v**3/64 + 5*u**2*v**4/256 + 7*u*v**5/128 - 21*v**6/256)*\\epsilon**6 + (-sqrt(2)*I*(u)_{x}*u**4 + sqrt(2)*I*(v)_{x}*v**4)*\\epsilon**5 + (35*(u)_{xx}*u**3/16 + 15*(u)_{xx}*u**2*v/16 + 9*(u)_{xx}*u*v**2/16 + 5*(u)_{xx}*v**3/16 + 175*(u)_{x}**2*u**2/32 + 25*(u)_{x}**2*u*v/16 + 15*(u)_{x}**2*v**2/32 + 15*(u)_{x}*(v)_{x}*u**2/16 + 9*(u)_{x}*(v)_{x}*u*v/8 + 15*(u)_{x}*(v)_{x}*v**2/16 - 5*(v)_{xx}*u**3/16 - 9*(v)_{xx}*u**2*v/16 - 15*(v)_{xx}*u*v**2/16 - 35*(v)_{xx}*v**3/16 - 21*(v)_{x}**2*u**2/32 - 35*(v)_{x}**2*u*v/16 - 245*(v)_{x}**2*v**2/32 + 35*u**5/64 - 15*u**4*v/64 - u**3*v**2/32 + u**2*v**3/32 + 15*u*v**4/64 - 35*v**5/64)*\\epsilon**4 + (3*sqrt(2)*I*(u)_{xxx}*u**2/2 + sqrt(2)*I*(u)_{xxx}*u*v + sqrt(2)*I*(u)_{xxx}*v**2/2 + 27*sqrt(2)*I*(u)_{xx}*(u)_{x}*u/4 + 9*sqrt(2)*I*(u)_{xx}*(u)_{x}*v/4 + 3*sqrt(2)*I*(u)_{xx}*(v)_{x}*u/2 + 3*sqrt(2)*I*(u)_{xx}*(v)_{x}*v/2 + 15*sqrt(2)*I*(u)_{x}**3/8 + 9*sqrt(2)*I*(u)_{x}**2*(v)_{x}/8 - sqrt(2)*I*(u)_{x}*(v)_{xx}*u/2 - sqrt(2)*I*(u)_{x}*(v)_{xx}*v/2 - 3*sqrt(2)*I*(u)_{x}*(v)_{x}**2/8 + 4*sqrt(2)*I*(u)_{x}*u**3 - sqrt(2)*I*(v)_{xxx}*u**2/2 - sqrt(2)*I*(v)_{xxx}*u*v - 3*sqrt(2)*I*(v)_{xxx}*v**2/2 - 11*sqrt(2)*I*(v)_{xx}*(v)_{x}*u/4 - 33*sqrt(2)*I*(v)_{xx}*(v)_{x}*v/4 - 21*sqrt(2)*I*(v)_{x}**3/8 + 4*sqrt(2)*I*(v)_{x}*v**3)*\\epsilon**3 + (-5*(u)_{xxxx}*u/4 - 3*(u)_{xxxx}*v/4 - 7*(u)_{xxx}*(u)_{x}/2 - 3*(u)_{xxx}*(v)_{x}/2 - 19*(u)_{xx}**2/8 - (u)_{xx}*(v)_{xx}/4 - 45*(u)_{xx}*u**2/8 - 3*(u)_{xx}*u*v/4 + 3*(u)_{xx}*v**2/8 - 75*(u)_{x}**2*u/8 - 5*(u)_{x}**2*v/8 + (u)_{x}*(v)_{xxx} - 3*(u)_{x}*(v)_{x}*u/4 + 3*(u)_{x}*(v)_{x}*v/4 + 3*(v)_{xxxx}*u/4 + 5*(v)_{xxxx}*v/4 + 4*(v)_{xxx}*(v)_{x} + 21*(v)_{xx}**2/8 + 3*(v)_{xx}*u**2/8 - 3*(v)_{xx}*u*v/4 - 45*(v)_{xx}*v**2/8 - 7*(v)_{x}**2*u/8 - 105*(v)_{x}**2*v/8 - 5*u**4/4 + u**3*v/4 + u*v**3/4 - 5*v**4/4)*\\epsilon**2 + (-sqrt(2)*I*(u)_{xxxxx}/4 - 2*sqrt(2)*I*(u)_{xxx}*u - 9*sqrt(2)*I*(u)_{xx}*(u)_{x}/2 - 9*sqrt(2)*I*(u)_{x}*u**2/2 + sqrt(2)*I*(v)_{xxxxx}/4 - 2*sqrt(2)*I*(v)_{xxx}*v - 11*sqrt(2)*I*(v)_{xx}*(v)_{x}/2 + 9*sqrt(2)*I*(v)_{x}*v**2/2)*\\epsilon + (sqrt(2)*I*(u)_{x}/8 - sqrt(2)*I*(v)_{x}/8)*(1/\\epsilon)**3 + (sqrt(2)*I*(u)_{xxx}/4 + sqrt(2)*I*(u)_{x}*u - sqrt(2)*I*(v)_{xxx}/4 + sqrt(2)*I*(v)_{x}*v)*(1/\\epsilon) + (u)_{xxxx}/2 + 3*(u)_{xx}*u + 5*(u)_{x}**2/2 + (v)_{xxxx}/2 - 3*(v)_{xx}*v - 7*(v)_{x}**2/2 + u**3 - v**3, \\epsilon, 1/\\epsilon, domain='EX'))"
      ]
     },
     "metadata": {},
     "output_type": "display_data"
    },
    {
     "name": "stdout",
     "output_type": "stream",
     "text": [
      "Warning: Substituting differentiable by non-differentiable symbol.\n",
      "Warning: Substituting differentiable by non-differentiable symbol.\n"
     ]
    },
    {
     "data": {
      "text/latex": [
       "$\\displaystyle \\sigma_{5} = \\operatorname{Poly}{\\left( \\left(- \\frac{21 u^{6}}{256} + \\frac{7 u^{5} v}{128} + \\frac{5 u^{4} v^{2}}{256} + \\frac{u^{3} v^{3}}{64} + \\frac{5 u^{2} v^{4}}{256} + \\frac{7 u v^{5}}{128} - \\frac{21 v^{6}}{256}\\right) \\epsilon^{18} + \\left(- \\sqrt{2} i (u)_{x} u^{4} + \\sqrt{2} i (v)_{x} v^{4}\\right) \\epsilon^{15} + \\left(\\frac{35 u^{5}}{64} - \\frac{15 u^{4} v}{64} - \\frac{u^{3} v^{2}}{32} + \\frac{u^{2} v^{3}}{32} + \\frac{15 u v^{4}}{64} - \\frac{35 v^{5}}{64}\\right) \\epsilon^{14} + \\left(\\frac{35 (u)_{xx} u^{3}}{16} + \\frac{15 (u)_{xx} u^{2} v}{16} + \\frac{9 (u)_{xx} u v^{2}}{16} + \\frac{5 (u)_{xx} v^{3}}{16} + \\frac{175 (u)_{x}^{2} u^{2}}{32} + \\frac{25 (u)_{x}^{2} u v}{16} + \\frac{15 (u)_{x}^{2} v^{2}}{32} + \\frac{15 (u)_{x} (v)_{x} u^{2}}{16} + \\frac{9 (u)_{x} (v)_{x} u v}{8} + \\frac{15 (u)_{x} (v)_{x} v^{2}}{16} - \\frac{5 (v)_{xx} u^{3}}{16} - \\frac{9 (v)_{xx} u^{2} v}{16} - \\frac{15 (v)_{xx} u v^{2}}{16} - \\frac{35 (v)_{xx} v^{3}}{16} - \\frac{21 (v)_{x}^{2} u^{2}}{32} - \\frac{35 (v)_{x}^{2} u v}{16} - \\frac{245 (v)_{x}^{2} v^{2}}{32}\\right) \\epsilon^{12} + \\left(4 \\sqrt{2} i (u)_{x} u^{3} + 4 \\sqrt{2} i (v)_{x} v^{3}\\right) \\epsilon^{11} + \\left(- \\frac{5 u^{4}}{4} + \\frac{u^{3} v}{4} + \\frac{u v^{3}}{4} - \\frac{5 v^{4}}{4}\\right) \\epsilon^{10} + \\left(\\frac{3 \\sqrt{2} i (u)_{xxx} u^{2}}{2} + \\sqrt{2} i (u)_{xxx} u v + \\frac{\\sqrt{2} i (u)_{xxx} v^{2}}{2} + \\frac{27 \\sqrt{2} i (u)_{xx} (u)_{x} u}{4} + \\frac{9 \\sqrt{2} i (u)_{xx} (u)_{x} v}{4} + \\frac{3 \\sqrt{2} i (u)_{xx} (v)_{x} u}{2} + \\frac{3 \\sqrt{2} i (u)_{xx} (v)_{x} v}{2} + \\frac{15 \\sqrt{2} i (u)_{x}^{3}}{8} + \\frac{9 \\sqrt{2} i (u)_{x}^{2} (v)_{x}}{8} - \\frac{\\sqrt{2} i (u)_{x} (v)_{xx} u}{2} - \\frac{\\sqrt{2} i (u)_{x} (v)_{xx} v}{2} - \\frac{3 \\sqrt{2} i (u)_{x} (v)_{x}^{2}}{8} - \\frac{\\sqrt{2} i (v)_{xxx} u^{2}}{2} - \\sqrt{2} i (v)_{xxx} u v - \\frac{3 \\sqrt{2} i (v)_{xxx} v^{2}}{2} - \\frac{11 \\sqrt{2} i (v)_{xx} (v)_{x} u}{4} - \\frac{33 \\sqrt{2} i (v)_{xx} (v)_{x} v}{4} - \\frac{21 \\sqrt{2} i (v)_{x}^{3}}{8}\\right) \\epsilon^{9} + \\left(- \\frac{45 (u)_{xx} u^{2}}{8} - \\frac{3 (u)_{xx} u v}{4} + \\frac{3 (u)_{xx} v^{2}}{8} - \\frac{75 (u)_{x}^{2} u}{8} - \\frac{5 (u)_{x}^{2} v}{8} - \\frac{3 (u)_{x} (v)_{x} u}{4} + \\frac{3 (u)_{x} (v)_{x} v}{4} + \\frac{3 (v)_{xx} u^{2}}{8} - \\frac{3 (v)_{xx} u v}{4} - \\frac{45 (v)_{xx} v^{2}}{8} - \\frac{7 (v)_{x}^{2} u}{8} - \\frac{105 (v)_{x}^{2} v}{8}\\right) \\epsilon^{8} + \\left(- \\frac{9 \\sqrt{2} i (u)_{x} u^{2}}{2} + \\frac{9 \\sqrt{2} i (v)_{x} v^{2}}{2}\\right) \\epsilon^{7} + \\left(- \\frac{5 (u)_{xxxx} u}{4} - \\frac{3 (u)_{xxxx} v}{4} - \\frac{7 (u)_{xxx} (u)_{x}}{2} - \\frac{3 (u)_{xxx} (v)_{x}}{2} - \\frac{19 (u)_{xx}^{2}}{8} - \\frac{(u)_{xx} (v)_{xx}}{4} + (u)_{x} (v)_{xxx} + \\frac{3 (v)_{xxxx} u}{4} + \\frac{5 (v)_{xxxx} v}{4} + 4 (v)_{xxx} (v)_{x} + \\frac{21 (v)_{xx}^{2}}{8} + u^{3} - v^{3}\\right) \\epsilon^{6} + \\left(- 2 \\sqrt{2} i (u)_{xxx} u - \\frac{9 \\sqrt{2} i (u)_{xx} (u)_{x}}{2} - 2 \\sqrt{2} i (v)_{xxx} v - \\frac{11 \\sqrt{2} i (v)_{xx} (v)_{x}}{2}\\right) \\epsilon^{5} + \\left(3 (u)_{xx} u + \\frac{5 (u)_{x}^{2}}{2} - 3 (v)_{xx} v - \\frac{7 (v)_{x}^{2}}{2}\\right) \\epsilon^{4} + \\left(- \\frac{\\sqrt{2} i (u)_{xxxxx}}{4} + \\sqrt{2} i (u)_{x} u + \\frac{\\sqrt{2} i (v)_{xxxxx}}{4} + \\sqrt{2} i (v)_{x} v\\right) \\epsilon^{3} + \\left(\\frac{(u)_{xxxx}}{2} + \\frac{(v)_{xxxx}}{2}\\right) \\epsilon^{2} + \\left(\\frac{\\sqrt{2} i (u)_{xxx}}{4} - \\frac{\\sqrt{2} i (v)_{xxx}}{4}\\right) \\epsilon + \\left(\\frac{\\sqrt{2} i (u)_{x}}{8} - \\frac{\\sqrt{2} i (v)_{x}}{8}\\right) \\frac{1}{\\epsilon}, \\epsilon, \\frac{1}{\\epsilon}, domain=\\mathtt{\\text{EX}} \\right)}$"
      ],
      "text/plain": [
       "Eq(\\sigma_{5}, Poly((-21*u**6/256 + 7*u**5*v/128 + 5*u**4*v**2/256 + u**3*v**3/64 + 5*u**2*v**4/256 + 7*u*v**5/128 - 21*v**6/256)*\\epsilon**18 + (-sqrt(2)*I*(u)_{x}*u**4 + sqrt(2)*I*(v)_{x}*v**4)*\\epsilon**15 + (35*u**5/64 - 15*u**4*v/64 - u**3*v**2/32 + u**2*v**3/32 + 15*u*v**4/64 - 35*v**5/64)*\\epsilon**14 + (35*(u)_{xx}*u**3/16 + 15*(u)_{xx}*u**2*v/16 + 9*(u)_{xx}*u*v**2/16 + 5*(u)_{xx}*v**3/16 + 175*(u)_{x}**2*u**2/32 + 25*(u)_{x}**2*u*v/16 + 15*(u)_{x}**2*v**2/32 + 15*(u)_{x}*(v)_{x}*u**2/16 + 9*(u)_{x}*(v)_{x}*u*v/8 + 15*(u)_{x}*(v)_{x}*v**2/16 - 5*(v)_{xx}*u**3/16 - 9*(v)_{xx}*u**2*v/16 - 15*(v)_{xx}*u*v**2/16 - 35*(v)_{xx}*v**3/16 - 21*(v)_{x}**2*u**2/32 - 35*(v)_{x}**2*u*v/16 - 245*(v)_{x}**2*v**2/32)*\\epsilon**12 + (4*sqrt(2)*I*(u)_{x}*u**3 + 4*sqrt(2)*I*(v)_{x}*v**3)*\\epsilon**11 + (-5*u**4/4 + u**3*v/4 + u*v**3/4 - 5*v**4/4)*\\epsilon**10 + (3*sqrt(2)*I*(u)_{xxx}*u**2/2 + sqrt(2)*I*(u)_{xxx}*u*v + sqrt(2)*I*(u)_{xxx}*v**2/2 + 27*sqrt(2)*I*(u)_{xx}*(u)_{x}*u/4 + 9*sqrt(2)*I*(u)_{xx}*(u)_{x}*v/4 + 3*sqrt(2)*I*(u)_{xx}*(v)_{x}*u/2 + 3*sqrt(2)*I*(u)_{xx}*(v)_{x}*v/2 + 15*sqrt(2)*I*(u)_{x}**3/8 + 9*sqrt(2)*I*(u)_{x}**2*(v)_{x}/8 - sqrt(2)*I*(u)_{x}*(v)_{xx}*u/2 - sqrt(2)*I*(u)_{x}*(v)_{xx}*v/2 - 3*sqrt(2)*I*(u)_{x}*(v)_{x}**2/8 - sqrt(2)*I*(v)_{xxx}*u**2/2 - sqrt(2)*I*(v)_{xxx}*u*v - 3*sqrt(2)*I*(v)_{xxx}*v**2/2 - 11*sqrt(2)*I*(v)_{xx}*(v)_{x}*u/4 - 33*sqrt(2)*I*(v)_{xx}*(v)_{x}*v/4 - 21*sqrt(2)*I*(v)_{x}**3/8)*\\epsilon**9 + (-45*(u)_{xx}*u**2/8 - 3*(u)_{xx}*u*v/4 + 3*(u)_{xx}*v**2/8 - 75*(u)_{x}**2*u/8 - 5*(u)_{x}**2*v/8 - 3*(u)_{x}*(v)_{x}*u/4 + 3*(u)_{x}*(v)_{x}*v/4 + 3*(v)_{xx}*u**2/8 - 3*(v)_{xx}*u*v/4 - 45*(v)_{xx}*v**2/8 - 7*(v)_{x}**2*u/8 - 105*(v)_{x}**2*v/8)*\\epsilon**8 + (-9*sqrt(2)*I*(u)_{x}*u**2/2 + 9*sqrt(2)*I*(v)_{x}*v**2/2)*\\epsilon**7 + (-5*(u)_{xxxx}*u/4 - 3*(u)_{xxxx}*v/4 - 7*(u)_{xxx}*(u)_{x}/2 - 3*(u)_{xxx}*(v)_{x}/2 - 19*(u)_{xx}**2/8 - (u)_{xx}*(v)_{xx}/4 + (u)_{x}*(v)_{xxx} + 3*(v)_{xxxx}*u/4 + 5*(v)_{xxxx}*v/4 + 4*(v)_{xxx}*(v)_{x} + 21*(v)_{xx}**2/8 + u**3 - v**3)*\\epsilon**6 + (-2*sqrt(2)*I*(u)_{xxx}*u - 9*sqrt(2)*I*(u)_{xx}*(u)_{x}/2 - 2*sqrt(2)*I*(v)_{xxx}*v - 11*sqrt(2)*I*(v)_{xx}*(v)_{x}/2)*\\epsilon**5 + (3*(u)_{xx}*u + 5*(u)_{x}**2/2 - 3*(v)_{xx}*v - 7*(v)_{x}**2/2)*\\epsilon**4 + (-sqrt(2)*I*(u)_{xxxxx}/4 + sqrt(2)*I*(u)_{x}*u + sqrt(2)*I*(v)_{xxxxx}/4 + sqrt(2)*I*(v)_{x}*v)*\\epsilon**3 + ((u)_{xxxx}/2 + (v)_{xxxx}/2)*\\epsilon**2 + (sqrt(2)*I*(u)_{xxx}/4 - sqrt(2)*I*(v)_{xxx}/4)*\\epsilon + (sqrt(2)*I*(u)_{x}/8 - sqrt(2)*I*(v)_{x}/8)*(1/\\epsilon), \\epsilon, 1/\\epsilon, domain='EX'))"
      ]
     },
     "metadata": {},
     "output_type": "display_data"
    },
    {
     "name": "stdout",
     "output_type": "stream",
     "text": [
      "n = 6\n"
     ]
    },
    {
     "data": {
      "text/latex": [
       "$\\displaystyle \\sigma_{6} = \\operatorname{Poly}{\\left( \\left(\\frac{33 \\sqrt{2} i u^{7}}{512} - \\frac{21 \\sqrt{2} i u^{6} v}{512} - \\frac{7 \\sqrt{2} i u^{5} v^{2}}{512} - \\frac{5 \\sqrt{2} i u^{4} v^{3}}{512} - \\frac{5 \\sqrt{2} i u^{3} v^{4}}{512} - \\frac{7 \\sqrt{2} i u^{2} v^{5}}{512} - \\frac{21 \\sqrt{2} i u v^{6}}{512} + \\frac{33 \\sqrt{2} i v^{7}}{512}\\right) \\epsilon^{7} + \\left(- 2 (u)_{x} u^{5} + 2 (v)_{x} v^{5}\\right) \\epsilon^{6} + \\left(- \\frac{315 \\sqrt{2} i (u)_{xx} u^{4}}{128} - \\frac{35 \\sqrt{2} i (u)_{xx} u^{3} v}{32} - \\frac{45 \\sqrt{2} i (u)_{xx} u^{2} v^{2}}{64} - \\frac{15 \\sqrt{2} i (u)_{xx} u v^{3}}{32} - \\frac{35 \\sqrt{2} i (u)_{xx} v^{4}}{128} - \\frac{525 \\sqrt{2} i (u)_{x}^{2} u^{3}}{64} - \\frac{175 \\sqrt{2} i (u)_{x}^{2} u^{2} v}{64} - \\frac{75 \\sqrt{2} i (u)_{x}^{2} u v^{2}}{64} - \\frac{25 \\sqrt{2} i (u)_{x}^{2} v^{3}}{64} - \\frac{35 \\sqrt{2} i (u)_{x} (v)_{x} u^{3}}{32} - \\frac{45 \\sqrt{2} i (u)_{x} (v)_{x} u^{2} v}{32} - \\frac{45 \\sqrt{2} i (u)_{x} (v)_{x} u v^{2}}{32} - \\frac{35 \\sqrt{2} i (u)_{x} (v)_{x} v^{3}}{32} + \\frac{35 \\sqrt{2} i (v)_{xx} u^{4}}{128} + \\frac{15 \\sqrt{2} i (v)_{xx} u^{3} v}{32} + \\frac{45 \\sqrt{2} i (v)_{xx} u^{2} v^{2}}{64} + \\frac{35 \\sqrt{2} i (v)_{xx} u v^{3}}{32} + \\frac{315 \\sqrt{2} i (v)_{xx} v^{4}}{128} + \\frac{35 \\sqrt{2} i (v)_{x}^{2} u^{3}}{64} + \\frac{105 \\sqrt{2} i (v)_{x}^{2} u^{2} v}{64} + \\frac{245 \\sqrt{2} i (v)_{x}^{2} u v^{2}}{64} + \\frac{735 \\sqrt{2} i (v)_{x}^{2} v^{3}}{64} - \\frac{63 \\sqrt{2} i u^{6}}{128} + \\frac{7 \\sqrt{2} i u^{5} v}{32} + \\frac{5 \\sqrt{2} i u^{4} v^{2}}{128} - \\frac{5 \\sqrt{2} i u^{2} v^{4}}{128} - \\frac{7 \\sqrt{2} i u v^{5}}{32} + \\frac{63 \\sqrt{2} i v^{6}}{128}\\right) \\epsilon^{5} + \\left(4 (u)_{xxx} u^{3} + 3 (u)_{xxx} u^{2} v + 2 (u)_{xxx} u v^{2} + (u)_{xxx} v^{3} + 27 (u)_{xx} (u)_{x} u^{2} + \\frac{27 (u)_{xx} (u)_{x} u v}{2} + \\frac{9 (u)_{xx} (u)_{x} v^{2}}{2} + \\frac{9 (u)_{xx} (v)_{x} u^{2}}{2} + 6 (u)_{xx} (v)_{x} u v + \\frac{9 (u)_{xx} (v)_{x} v^{2}}{2} + 15 (u)_{x}^{3} u + \\frac{15 (u)_{x}^{3} v}{4} + \\frac{27 (u)_{x}^{2} (v)_{x} u}{4} + \\frac{9 (u)_{x}^{2} (v)_{x} v}{2} - \\frac{3 (u)_{x} (v)_{xx} u^{2}}{2} - 2 (u)_{x} (v)_{xx} u v - \\frac{3 (u)_{x} (v)_{xx} v^{2}}{2} - \\frac{3 (u)_{x} (v)_{x}^{2} u}{2} - \\frac{9 (u)_{x} (v)_{x}^{2} v}{4} + 10 (u)_{x} u^{4} - (v)_{xxx} u^{3} - 2 (v)_{xxx} u^{2} v - 3 (v)_{xxx} u v^{2} - 4 (v)_{xxx} v^{3} - \\frac{11 (v)_{xx} (v)_{x} u^{2}}{2} - \\frac{33 (v)_{xx} (v)_{x} u v}{2} - 33 (v)_{xx} (v)_{x} v^{2} - \\frac{21 (v)_{x}^{3} u}{4} - 21 (v)_{x}^{3} v + 10 (v)_{x} v^{4}\\right) \\epsilon^{4} + \\left(\\frac{35 \\sqrt{2} i (u)_{xxxx} u^{2}}{16} + \\frac{15 \\sqrt{2} i (u)_{xxxx} u v}{8} + \\frac{15 \\sqrt{2} i (u)_{xxxx} v^{2}}{16} + \\frac{49 \\sqrt{2} i (u)_{xxx} (u)_{x} u}{4} + \\frac{21 \\sqrt{2} i (u)_{xxx} (u)_{x} v}{4} + \\frac{15 \\sqrt{2} i (u)_{xxx} (v)_{x} u}{4} + \\frac{15 \\sqrt{2} i (u)_{xxx} (v)_{x} v}{4} + \\frac{133 \\sqrt{2} i (u)_{xx}^{2} u}{16} + \\frac{57 \\sqrt{2} i (u)_{xx}^{2} v}{16} + \\frac{221 \\sqrt{2} i (u)_{xx} (u)_{x}^{2}}{16} + \\frac{61 \\sqrt{2} i (u)_{xx} (u)_{x} (v)_{x}}{8} + \\frac{5 \\sqrt{2} i (u)_{xx} (v)_{xx} u}{8} + \\frac{5 \\sqrt{2} i (u)_{xx} (v)_{xx} v}{8} + \\frac{17 \\sqrt{2} i (u)_{xx} (v)_{x}^{2}}{16} + \\frac{35 \\sqrt{2} i (u)_{xx} u^{3}}{4} + \\frac{15 \\sqrt{2} i (u)_{xx} u^{2} v}{8} - \\frac{5 \\sqrt{2} i (u)_{xx} v^{3}}{8} + \\frac{3 \\sqrt{2} i (u)_{x}^{2} (v)_{xx}}{16} + \\frac{175 \\sqrt{2} i (u)_{x}^{2} u^{2}}{8} + \\frac{25 \\sqrt{2} i (u)_{x}^{2} u v}{8} - \\frac{5 \\sqrt{2} i (u)_{x} (v)_{xxx} u}{2} - \\frac{5 \\sqrt{2} i (u)_{x} (v)_{xxx} v}{2} - \\frac{45 \\sqrt{2} i (u)_{x} (v)_{xx} (v)_{x}}{8} + \\frac{15 \\sqrt{2} i (u)_{x} (v)_{x} u^{2}}{8} - \\frac{15 \\sqrt{2} i (u)_{x} (v)_{x} v^{2}}{8} - \\frac{15 \\sqrt{2} i (v)_{xxxx} u^{2}}{16} - \\frac{15 \\sqrt{2} i (v)_{xxxx} u v}{8} - \\frac{35 \\sqrt{2} i (v)_{xxxx} v^{2}}{16} - 6 \\sqrt{2} i (v)_{xxx} (v)_{x} u - 14 \\sqrt{2} i (v)_{xxx} (v)_{x} v - \\frac{63 \\sqrt{2} i (v)_{xx}^{2} u}{16} - \\frac{147 \\sqrt{2} i (v)_{xx}^{2} v}{16} - \\frac{273 \\sqrt{2} i (v)_{xx} (v)_{x}^{2}}{16} - \\frac{5 \\sqrt{2} i (v)_{xx} u^{3}}{8} + \\frac{15 \\sqrt{2} i (v)_{xx} u v^{2}}{8} + \\frac{35 \\sqrt{2} i (v)_{xx} v^{3}}{4} + \\frac{35 \\sqrt{2} i (v)_{x}^{2} u v}{8} + \\frac{245 \\sqrt{2} i (v)_{x}^{2} v^{2}}{8} + \\frac{175 \\sqrt{2} i u^{5}}{128} - \\frac{45 \\sqrt{2} i u^{4} v}{128} - \\frac{\\sqrt{2} i u^{3} v^{2}}{64} - \\frac{\\sqrt{2} i u^{2} v^{3}}{64} - \\frac{45 \\sqrt{2} i u v^{4}}{128} + \\frac{175 \\sqrt{2} i v^{5}}{128}\\right) \\epsilon^{3} + \\left(- \\frac{3 (u)_{xxxxx} u}{2} - (u)_{xxxxx} v - 5 (u)_{xxxx} (u)_{x} - \\frac{5 (u)_{xxxx} (v)_{x}}{2} - \\frac{17 (u)_{xxx} (u)_{xx}}{2} - \\frac{3 (u)_{xxx} (v)_{xx}}{2} - 9 (u)_{xxx} u^{2} - 2 (u)_{xxx} u v + (u)_{xxx} v^{2} - \\frac{81 (u)_{xx} (u)_{x} u}{2} - \\frac{9 (u)_{xx} (u)_{x} v}{2} + (u)_{xx} (v)_{xxx} - 3 (u)_{xx} (v)_{x} u + 3 (u)_{xx} (v)_{x} v - \\frac{45 (u)_{x}^{3}}{4} - \\frac{9 (u)_{x}^{2} (v)_{x}}{4} + 2 (u)_{x} (v)_{xxxx} + (u)_{x} (v)_{xx} u - (u)_{x} (v)_{xx} v - \\frac{3 (u)_{x} (v)_{x}^{2}}{4} - 16 (u)_{x} u^{3} + (v)_{xxxxx} u + \\frac{3 (v)_{xxxxx} v}{2} + \\frac{11 (v)_{xxxx} (v)_{x}}{2} + 9 (v)_{xxx} (v)_{xx} + (v)_{xxx} u^{2} - 2 (v)_{xxx} u v - 9 (v)_{xxx} v^{2} - \\frac{11 (v)_{xx} (v)_{x} u}{2} - \\frac{99 (v)_{xx} (v)_{x} v}{2} - \\frac{63 (v)_{x}^{3}}{4} + 16 (v)_{x} v^{3}\\right) \\epsilon^{2} + \\left(- \\frac{\\sqrt{2} i (u)_{xxxxxx}}{4} - \\frac{5 \\sqrt{2} i (u)_{xxxx} u}{2} - 7 \\sqrt{2} i (u)_{xxx} (u)_{x} - \\frac{19 \\sqrt{2} i (u)_{xx}^{2}}{4} - \\frac{135 \\sqrt{2} i (u)_{xx} u^{2}}{16} - \\frac{3 \\sqrt{2} i (u)_{xx} u v}{8} - \\frac{3 \\sqrt{2} i (u)_{xx} v^{2}}{16} - \\frac{225 \\sqrt{2} i (u)_{x}^{2} u}{16} - \\frac{5 \\sqrt{2} i (u)_{x}^{2} v}{16} - \\frac{3 \\sqrt{2} i (u)_{x} (v)_{x} u}{8} - \\frac{3 \\sqrt{2} i (u)_{x} (v)_{x} v}{8} + \\frac{\\sqrt{2} i (v)_{xxxxxx}}{4} - \\frac{5 \\sqrt{2} i (v)_{xxxx} v}{2} - 8 \\sqrt{2} i (v)_{xxx} (v)_{x} - \\frac{21 \\sqrt{2} i (v)_{xx}^{2}}{4} + \\frac{3 \\sqrt{2} i (v)_{xx} u^{2}}{16} + \\frac{3 \\sqrt{2} i (v)_{xx} u v}{8} + \\frac{135 \\sqrt{2} i (v)_{xx} v^{2}}{16} + \\frac{7 \\sqrt{2} i (v)_{x}^{2} u}{16} + \\frac{315 \\sqrt{2} i (v)_{x}^{2} v}{16} - \\frac{25 \\sqrt{2} i u^{4}}{16} + \\frac{\\sqrt{2} i u^{3} v}{8} - \\frac{\\sqrt{2} i u v^{3}}{8} + \\frac{25 \\sqrt{2} i v^{4}}{16}\\right) \\epsilon + \\left(\\frac{\\sqrt{2} i u}{8} + \\frac{\\sqrt{2} i v}{8}\\right) \\frac{1}{\\epsilon^{5}} + \\left(\\frac{\\sqrt{2} i (u)_{xx}}{8} - \\frac{\\sqrt{2} i (v)_{xx}}{8} + \\frac{\\sqrt{2} i u^{2}}{8} - \\frac{\\sqrt{2} i v^{2}}{8}\\right) \\frac{1}{\\epsilon^{3}} + \\left(\\frac{\\sqrt{2} i (u)_{xxxx}}{4} + \\frac{3 \\sqrt{2} i (u)_{xx} u}{2} + \\frac{5 \\sqrt{2} i (u)_{x}^{2}}{4} - \\frac{\\sqrt{2} i (v)_{xxxx}}{4} + \\frac{3 \\sqrt{2} i (v)_{xx} v}{2} + \\frac{7 \\sqrt{2} i (v)_{x}^{2}}{4} + \\frac{15 \\sqrt{2} i u^{3}}{32} + \\frac{\\sqrt{2} i u^{2} v}{32} + \\frac{\\sqrt{2} i u v^{2}}{32} + \\frac{15 \\sqrt{2} i v^{3}}{32}\\right) \\frac{1}{\\epsilon} + \\frac{(u)_{xxxxx}}{2} + 4 (u)_{xxx} u + 9 (u)_{xx} (u)_{x} + 8 (u)_{x} u^{2} + \\frac{(v)_{xxxxx}}{2} - 4 (v)_{xxx} v - 11 (v)_{xx} (v)_{x} + 8 (v)_{x} v^{2}, \\epsilon, \\frac{1}{\\epsilon}, domain=\\mathtt{\\text{EX}} \\right)}$"
      ],
      "text/plain": [
       "Eq(\\sigma_{6}, Poly((33*sqrt(2)*I*u**7/512 - 21*sqrt(2)*I*u**6*v/512 - 7*sqrt(2)*I*u**5*v**2/512 - 5*sqrt(2)*I*u**4*v**3/512 - 5*sqrt(2)*I*u**3*v**4/512 - 7*sqrt(2)*I*u**2*v**5/512 - 21*sqrt(2)*I*u*v**6/512 + 33*sqrt(2)*I*v**7/512)*\\epsilon**7 + (-2*(u)_{x}*u**5 + 2*(v)_{x}*v**5)*\\epsilon**6 + (-315*sqrt(2)*I*(u)_{xx}*u**4/128 - 35*sqrt(2)*I*(u)_{xx}*u**3*v/32 - 45*sqrt(2)*I*(u)_{xx}*u**2*v**2/64 - 15*sqrt(2)*I*(u)_{xx}*u*v**3/32 - 35*sqrt(2)*I*(u)_{xx}*v**4/128 - 525*sqrt(2)*I*(u)_{x}**2*u**3/64 - 175*sqrt(2)*I*(u)_{x}**2*u**2*v/64 - 75*sqrt(2)*I*(u)_{x}**2*u*v**2/64 - 25*sqrt(2)*I*(u)_{x}**2*v**3/64 - 35*sqrt(2)*I*(u)_{x}*(v)_{x}*u**3/32 - 45*sqrt(2)*I*(u)_{x}*(v)_{x}*u**2*v/32 - 45*sqrt(2)*I*(u)_{x}*(v)_{x}*u*v**2/32 - 35*sqrt(2)*I*(u)_{x}*(v)_{x}*v**3/32 + 35*sqrt(2)*I*(v)_{xx}*u**4/128 + 15*sqrt(2)*I*(v)_{xx}*u**3*v/32 + 45*sqrt(2)*I*(v)_{xx}*u**2*v**2/64 + 35*sqrt(2)*I*(v)_{xx}*u*v**3/32 + 315*sqrt(2)*I*(v)_{xx}*v**4/128 + 35*sqrt(2)*I*(v)_{x}**2*u**3/64 + 105*sqrt(2)*I*(v)_{x}**2*u**2*v/64 + 245*sqrt(2)*I*(v)_{x}**2*u*v**2/64 + 735*sqrt(2)*I*(v)_{x}**2*v**3/64 - 63*sqrt(2)*I*u**6/128 + 7*sqrt(2)*I*u**5*v/32 + 5*sqrt(2)*I*u**4*v**2/128 - 5*sqrt(2)*I*u**2*v**4/128 - 7*sqrt(2)*I*u*v**5/32 + 63*sqrt(2)*I*v**6/128)*\\epsilon**5 + (4*(u)_{xxx}*u**3 + 3*(u)_{xxx}*u**2*v + 2*(u)_{xxx}*u*v**2 + (u)_{xxx}*v**3 + 27*(u)_{xx}*(u)_{x}*u**2 + 27*(u)_{xx}*(u)_{x}*u*v/2 + 9*(u)_{xx}*(u)_{x}*v**2/2 + 9*(u)_{xx}*(v)_{x}*u**2/2 + 6*(u)_{xx}*(v)_{x}*u*v + 9*(u)_{xx}*(v)_{x}*v**2/2 + 15*(u)_{x}**3*u + 15*(u)_{x}**3*v/4 + 27*(u)_{x}**2*(v)_{x}*u/4 + 9*(u)_{x}**2*(v)_{x}*v/2 - 3*(u)_{x}*(v)_{xx}*u**2/2 - 2*(u)_{x}*(v)_{xx}*u*v - 3*(u)_{x}*(v)_{xx}*v**2/2 - 3*(u)_{x}*(v)_{x}**2*u/2 - 9*(u)_{x}*(v)_{x}**2*v/4 + 10*(u)_{x}*u**4 - (v)_{xxx}*u**3 - 2*(v)_{xxx}*u**2*v - 3*(v)_{xxx}*u*v**2 - 4*(v)_{xxx}*v**3 - 11*(v)_{xx}*(v)_{x}*u**2/2 - 33*(v)_{xx}*(v)_{x}*u*v/2 - 33*(v)_{xx}*(v)_{x}*v**2 - 21*(v)_{x}**3*u/4 - 21*(v)_{x}**3*v + 10*(v)_{x}*v**4)*\\epsilon**4 + (35*sqrt(2)*I*(u)_{xxxx}*u**2/16 + 15*sqrt(2)*I*(u)_{xxxx}*u*v/8 + 15*sqrt(2)*I*(u)_{xxxx}*v**2/16 + 49*sqrt(2)*I*(u)_{xxx}*(u)_{x}*u/4 + 21*sqrt(2)*I*(u)_{xxx}*(u)_{x}*v/4 + 15*sqrt(2)*I*(u)_{xxx}*(v)_{x}*u/4 + 15*sqrt(2)*I*(u)_{xxx}*(v)_{x}*v/4 + 133*sqrt(2)*I*(u)_{xx}**2*u/16 + 57*sqrt(2)*I*(u)_{xx}**2*v/16 + 221*sqrt(2)*I*(u)_{xx}*(u)_{x}**2/16 + 61*sqrt(2)*I*(u)_{xx}*(u)_{x}*(v)_{x}/8 + 5*sqrt(2)*I*(u)_{xx}*(v)_{xx}*u/8 + 5*sqrt(2)*I*(u)_{xx}*(v)_{xx}*v/8 + 17*sqrt(2)*I*(u)_{xx}*(v)_{x}**2/16 + 35*sqrt(2)*I*(u)_{xx}*u**3/4 + 15*sqrt(2)*I*(u)_{xx}*u**2*v/8 - 5*sqrt(2)*I*(u)_{xx}*v**3/8 + 3*sqrt(2)*I*(u)_{x}**2*(v)_{xx}/16 + 175*sqrt(2)*I*(u)_{x}**2*u**2/8 + 25*sqrt(2)*I*(u)_{x}**2*u*v/8 - 5*sqrt(2)*I*(u)_{x}*(v)_{xxx}*u/2 - 5*sqrt(2)*I*(u)_{x}*(v)_{xxx}*v/2 - 45*sqrt(2)*I*(u)_{x}*(v)_{xx}*(v)_{x}/8 + 15*sqrt(2)*I*(u)_{x}*(v)_{x}*u**2/8 - 15*sqrt(2)*I*(u)_{x}*(v)_{x}*v**2/8 - 15*sqrt(2)*I*(v)_{xxxx}*u**2/16 - 15*sqrt(2)*I*(v)_{xxxx}*u*v/8 - 35*sqrt(2)*I*(v)_{xxxx}*v**2/16 - 6*sqrt(2)*I*(v)_{xxx}*(v)_{x}*u - 14*sqrt(2)*I*(v)_{xxx}*(v)_{x}*v - 63*sqrt(2)*I*(v)_{xx}**2*u/16 - 147*sqrt(2)*I*(v)_{xx}**2*v/16 - 273*sqrt(2)*I*(v)_{xx}*(v)_{x}**2/16 - 5*sqrt(2)*I*(v)_{xx}*u**3/8 + 15*sqrt(2)*I*(v)_{xx}*u*v**2/8 + 35*sqrt(2)*I*(v)_{xx}*v**3/4 + 35*sqrt(2)*I*(v)_{x}**2*u*v/8 + 245*sqrt(2)*I*(v)_{x}**2*v**2/8 + 175*sqrt(2)*I*u**5/128 - 45*sqrt(2)*I*u**4*v/128 - sqrt(2)*I*u**3*v**2/64 - sqrt(2)*I*u**2*v**3/64 - 45*sqrt(2)*I*u*v**4/128 + 175*sqrt(2)*I*v**5/128)*\\epsilon**3 + (-3*(u)_{xxxxx}*u/2 - (u)_{xxxxx}*v - 5*(u)_{xxxx}*(u)_{x} - 5*(u)_{xxxx}*(v)_{x}/2 - 17*(u)_{xxx}*(u)_{xx}/2 - 3*(u)_{xxx}*(v)_{xx}/2 - 9*(u)_{xxx}*u**2 - 2*(u)_{xxx}*u*v + (u)_{xxx}*v**2 - 81*(u)_{xx}*(u)_{x}*u/2 - 9*(u)_{xx}*(u)_{x}*v/2 + (u)_{xx}*(v)_{xxx} - 3*(u)_{xx}*(v)_{x}*u + 3*(u)_{xx}*(v)_{x}*v - 45*(u)_{x}**3/4 - 9*(u)_{x}**2*(v)_{x}/4 + 2*(u)_{x}*(v)_{xxxx} + (u)_{x}*(v)_{xx}*u - (u)_{x}*(v)_{xx}*v - 3*(u)_{x}*(v)_{x}**2/4 - 16*(u)_{x}*u**3 + (v)_{xxxxx}*u + 3*(v)_{xxxxx}*v/2 + 11*(v)_{xxxx}*(v)_{x}/2 + 9*(v)_{xxx}*(v)_{xx} + (v)_{xxx}*u**2 - 2*(v)_{xxx}*u*v - 9*(v)_{xxx}*v**2 - 11*(v)_{xx}*(v)_{x}*u/2 - 99*(v)_{xx}*(v)_{x}*v/2 - 63*(v)_{x}**3/4 + 16*(v)_{x}*v**3)*\\epsilon**2 + (-sqrt(2)*I*(u)_{xxxxxx}/4 - 5*sqrt(2)*I*(u)_{xxxx}*u/2 - 7*sqrt(2)*I*(u)_{xxx}*(u)_{x} - 19*sqrt(2)*I*(u)_{xx}**2/4 - 135*sqrt(2)*I*(u)_{xx}*u**2/16 - 3*sqrt(2)*I*(u)_{xx}*u*v/8 - 3*sqrt(2)*I*(u)_{xx}*v**2/16 - 225*sqrt(2)*I*(u)_{x}**2*u/16 - 5*sqrt(2)*I*(u)_{x}**2*v/16 - 3*sqrt(2)*I*(u)_{x}*(v)_{x}*u/8 - 3*sqrt(2)*I*(u)_{x}*(v)_{x}*v/8 + sqrt(2)*I*(v)_{xxxxxx}/4 - 5*sqrt(2)*I*(v)_{xxxx}*v/2 - 8*sqrt(2)*I*(v)_{xxx}*(v)_{x} - 21*sqrt(2)*I*(v)_{xx}**2/4 + 3*sqrt(2)*I*(v)_{xx}*u**2/16 + 3*sqrt(2)*I*(v)_{xx}*u*v/8 + 135*sqrt(2)*I*(v)_{xx}*v**2/16 + 7*sqrt(2)*I*(v)_{x}**2*u/16 + 315*sqrt(2)*I*(v)_{x}**2*v/16 - 25*sqrt(2)*I*u**4/16 + sqrt(2)*I*u**3*v/8 - sqrt(2)*I*u*v**3/8 + 25*sqrt(2)*I*v**4/16)*\\epsilon + (sqrt(2)*I*u/8 + sqrt(2)*I*v/8)*(1/\\epsilon)**5 + (sqrt(2)*I*(u)_{xx}/8 - sqrt(2)*I*(v)_{xx}/8 + sqrt(2)*I*u**2/8 - sqrt(2)*I*v**2/8)*(1/\\epsilon)**3 + (sqrt(2)*I*(u)_{xxxx}/4 + 3*sqrt(2)*I*(u)_{xx}*u/2 + 5*sqrt(2)*I*(u)_{x}**2/4 - sqrt(2)*I*(v)_{xxxx}/4 + 3*sqrt(2)*I*(v)_{xx}*v/2 + 7*sqrt(2)*I*(v)_{x}**2/4 + 15*sqrt(2)*I*u**3/32 + sqrt(2)*I*u**2*v/32 + sqrt(2)*I*u*v**2/32 + 15*sqrt(2)*I*v**3/32)*(1/\\epsilon) + (u)_{xxxxx}/2 + 4*(u)_{xxx}*u + 9*(u)_{xx}*(u)_{x} + 8*(u)_{x}*u**2 + (v)_{xxxxx}/2 - 4*(v)_{xxx}*v - 11*(v)_{xx}*(v)_{x} + 8*(v)_{x}*v**2, \\epsilon, 1/\\epsilon, domain='EX'))"
      ]
     },
     "metadata": {},
     "output_type": "display_data"
    },
    {
     "name": "stdout",
     "output_type": "stream",
     "text": [
      "Warning: Substituting differentiable by non-differentiable symbol.\n",
      "Warning: Substituting differentiable by non-differentiable symbol.\n"
     ]
    },
    {
     "data": {
      "text/latex": [
       "$\\displaystyle \\sigma_{6} = \\operatorname{Poly}{\\left( \\left(\\frac{33 \\sqrt{2} i u^{7}}{512} - \\frac{21 \\sqrt{2} i u^{6} v}{512} - \\frac{7 \\sqrt{2} i u^{5} v^{2}}{512} - \\frac{5 \\sqrt{2} i u^{4} v^{3}}{512} - \\frac{5 \\sqrt{2} i u^{3} v^{4}}{512} - \\frac{7 \\sqrt{2} i u^{2} v^{5}}{512} - \\frac{21 \\sqrt{2} i u v^{6}}{512} + \\frac{33 \\sqrt{2} i v^{7}}{512}\\right) \\epsilon^{21} + \\left(- 2 (u)_{x} u^{5} + 2 (v)_{x} v^{5}\\right) \\epsilon^{18} + \\left(- \\frac{63 \\sqrt{2} i u^{6}}{128} + \\frac{7 \\sqrt{2} i u^{5} v}{32} + \\frac{5 \\sqrt{2} i u^{4} v^{2}}{128} - \\frac{5 \\sqrt{2} i u^{2} v^{4}}{128} - \\frac{7 \\sqrt{2} i u v^{5}}{32} + \\frac{63 \\sqrt{2} i v^{6}}{128}\\right) \\epsilon^{17} + \\left(- \\frac{315 \\sqrt{2} i (u)_{xx} u^{4}}{128} - \\frac{35 \\sqrt{2} i (u)_{xx} u^{3} v}{32} - \\frac{45 \\sqrt{2} i (u)_{xx} u^{2} v^{2}}{64} - \\frac{15 \\sqrt{2} i (u)_{xx} u v^{3}}{32} - \\frac{35 \\sqrt{2} i (u)_{xx} v^{4}}{128} - \\frac{525 \\sqrt{2} i (u)_{x}^{2} u^{3}}{64} - \\frac{175 \\sqrt{2} i (u)_{x}^{2} u^{2} v}{64} - \\frac{75 \\sqrt{2} i (u)_{x}^{2} u v^{2}}{64} - \\frac{25 \\sqrt{2} i (u)_{x}^{2} v^{3}}{64} - \\frac{35 \\sqrt{2} i (u)_{x} (v)_{x} u^{3}}{32} - \\frac{45 \\sqrt{2} i (u)_{x} (v)_{x} u^{2} v}{32} - \\frac{45 \\sqrt{2} i (u)_{x} (v)_{x} u v^{2}}{32} - \\frac{35 \\sqrt{2} i (u)_{x} (v)_{x} v^{3}}{32} + \\frac{35 \\sqrt{2} i (v)_{xx} u^{4}}{128} + \\frac{15 \\sqrt{2} i (v)_{xx} u^{3} v}{32} + \\frac{45 \\sqrt{2} i (v)_{xx} u^{2} v^{2}}{64} + \\frac{35 \\sqrt{2} i (v)_{xx} u v^{3}}{32} + \\frac{315 \\sqrt{2} i (v)_{xx} v^{4}}{128} + \\frac{35 \\sqrt{2} i (v)_{x}^{2} u^{3}}{64} + \\frac{105 \\sqrt{2} i (v)_{x}^{2} u^{2} v}{64} + \\frac{245 \\sqrt{2} i (v)_{x}^{2} u v^{2}}{64} + \\frac{735 \\sqrt{2} i (v)_{x}^{2} v^{3}}{64}\\right) \\epsilon^{15} + \\left(10 (u)_{x} u^{4} + 10 (v)_{x} v^{4}\\right) \\epsilon^{14} + \\left(\\frac{175 \\sqrt{2} i u^{5}}{128} - \\frac{45 \\sqrt{2} i u^{4} v}{128} - \\frac{\\sqrt{2} i u^{3} v^{2}}{64} - \\frac{\\sqrt{2} i u^{2} v^{3}}{64} - \\frac{45 \\sqrt{2} i u v^{4}}{128} + \\frac{175 \\sqrt{2} i v^{5}}{128}\\right) \\epsilon^{13} + \\left(4 (u)_{xxx} u^{3} + 3 (u)_{xxx} u^{2} v + 2 (u)_{xxx} u v^{2} + (u)_{xxx} v^{3} + 27 (u)_{xx} (u)_{x} u^{2} + \\frac{27 (u)_{xx} (u)_{x} u v}{2} + \\frac{9 (u)_{xx} (u)_{x} v^{2}}{2} + \\frac{9 (u)_{xx} (v)_{x} u^{2}}{2} + 6 (u)_{xx} (v)_{x} u v + \\frac{9 (u)_{xx} (v)_{x} v^{2}}{2} + 15 (u)_{x}^{3} u + \\frac{15 (u)_{x}^{3} v}{4} + \\frac{27 (u)_{x}^{2} (v)_{x} u}{4} + \\frac{9 (u)_{x}^{2} (v)_{x} v}{2} - \\frac{3 (u)_{x} (v)_{xx} u^{2}}{2} - 2 (u)_{x} (v)_{xx} u v - \\frac{3 (u)_{x} (v)_{xx} v^{2}}{2} - \\frac{3 (u)_{x} (v)_{x}^{2} u}{2} - \\frac{9 (u)_{x} (v)_{x}^{2} v}{4} - (v)_{xxx} u^{3} - 2 (v)_{xxx} u^{2} v - 3 (v)_{xxx} u v^{2} - 4 (v)_{xxx} v^{3} - \\frac{11 (v)_{xx} (v)_{x} u^{2}}{2} - \\frac{33 (v)_{xx} (v)_{x} u v}{2} - 33 (v)_{xx} (v)_{x} v^{2} - \\frac{21 (v)_{x}^{3} u}{4} - 21 (v)_{x}^{3} v\\right) \\epsilon^{12} + \\left(\\frac{35 \\sqrt{2} i (u)_{xx} u^{3}}{4} + \\frac{15 \\sqrt{2} i (u)_{xx} u^{2} v}{8} - \\frac{5 \\sqrt{2} i (u)_{xx} v^{3}}{8} + \\frac{175 \\sqrt{2} i (u)_{x}^{2} u^{2}}{8} + \\frac{25 \\sqrt{2} i (u)_{x}^{2} u v}{8} + \\frac{15 \\sqrt{2} i (u)_{x} (v)_{x} u^{2}}{8} - \\frac{15 \\sqrt{2} i (u)_{x} (v)_{x} v^{2}}{8} - \\frac{5 \\sqrt{2} i (v)_{xx} u^{3}}{8} + \\frac{15 \\sqrt{2} i (v)_{xx} u v^{2}}{8} + \\frac{35 \\sqrt{2} i (v)_{xx} v^{3}}{4} + \\frac{35 \\sqrt{2} i (v)_{x}^{2} u v}{8} + \\frac{245 \\sqrt{2} i (v)_{x}^{2} v^{2}}{8}\\right) \\epsilon^{11} + \\left(- 16 (u)_{x} u^{3} + 16 (v)_{x} v^{3}\\right) \\epsilon^{10} + \\left(\\frac{35 \\sqrt{2} i (u)_{xxxx} u^{2}}{16} + \\frac{15 \\sqrt{2} i (u)_{xxxx} u v}{8} + \\frac{15 \\sqrt{2} i (u)_{xxxx} v^{2}}{16} + \\frac{49 \\sqrt{2} i (u)_{xxx} (u)_{x} u}{4} + \\frac{21 \\sqrt{2} i (u)_{xxx} (u)_{x} v}{4} + \\frac{15 \\sqrt{2} i (u)_{xxx} (v)_{x} u}{4} + \\frac{15 \\sqrt{2} i (u)_{xxx} (v)_{x} v}{4} + \\frac{133 \\sqrt{2} i (u)_{xx}^{2} u}{16} + \\frac{57 \\sqrt{2} i (u)_{xx}^{2} v}{16} + \\frac{221 \\sqrt{2} i (u)_{xx} (u)_{x}^{2}}{16} + \\frac{61 \\sqrt{2} i (u)_{xx} (u)_{x} (v)_{x}}{8} + \\frac{5 \\sqrt{2} i (u)_{xx} (v)_{xx} u}{8} + \\frac{5 \\sqrt{2} i (u)_{xx} (v)_{xx} v}{8} + \\frac{17 \\sqrt{2} i (u)_{xx} (v)_{x}^{2}}{16} + \\frac{3 \\sqrt{2} i (u)_{x}^{2} (v)_{xx}}{16} - \\frac{5 \\sqrt{2} i (u)_{x} (v)_{xxx} u}{2} - \\frac{5 \\sqrt{2} i (u)_{x} (v)_{xxx} v}{2} - \\frac{45 \\sqrt{2} i (u)_{x} (v)_{xx} (v)_{x}}{8} - \\frac{15 \\sqrt{2} i (v)_{xxxx} u^{2}}{16} - \\frac{15 \\sqrt{2} i (v)_{xxxx} u v}{8} - \\frac{35 \\sqrt{2} i (v)_{xxxx} v^{2}}{16} - 6 \\sqrt{2} i (v)_{xxx} (v)_{x} u - 14 \\sqrt{2} i (v)_{xxx} (v)_{x} v - \\frac{63 \\sqrt{2} i (v)_{xx}^{2} u}{16} - \\frac{147 \\sqrt{2} i (v)_{xx}^{2} v}{16} - \\frac{273 \\sqrt{2} i (v)_{xx} (v)_{x}^{2}}{16} - \\frac{25 \\sqrt{2} i u^{4}}{16} + \\frac{\\sqrt{2} i u^{3} v}{8} - \\frac{\\sqrt{2} i u v^{3}}{8} + \\frac{25 \\sqrt{2} i v^{4}}{16}\\right) \\epsilon^{9} + \\left(- 9 (u)_{xxx} u^{2} - 2 (u)_{xxx} u v + (u)_{xxx} v^{2} - \\frac{81 (u)_{xx} (u)_{x} u}{2} - \\frac{9 (u)_{xx} (u)_{x} v}{2} - 3 (u)_{xx} (v)_{x} u + 3 (u)_{xx} (v)_{x} v - \\frac{45 (u)_{x}^{3}}{4} - \\frac{9 (u)_{x}^{2} (v)_{x}}{4} + (u)_{x} (v)_{xx} u - (u)_{x} (v)_{xx} v - \\frac{3 (u)_{x} (v)_{x}^{2}}{4} + (v)_{xxx} u^{2} - 2 (v)_{xxx} u v - 9 (v)_{xxx} v^{2} - \\frac{11 (v)_{xx} (v)_{x} u}{2} - \\frac{99 (v)_{xx} (v)_{x} v}{2} - \\frac{63 (v)_{x}^{3}}{4}\\right) \\epsilon^{8} + \\left(- \\frac{135 \\sqrt{2} i (u)_{xx} u^{2}}{16} - \\frac{3 \\sqrt{2} i (u)_{xx} u v}{8} - \\frac{3 \\sqrt{2} i (u)_{xx} v^{2}}{16} - \\frac{225 \\sqrt{2} i (u)_{x}^{2} u}{16} - \\frac{5 \\sqrt{2} i (u)_{x}^{2} v}{16} - \\frac{3 \\sqrt{2} i (u)_{x} (v)_{x} u}{8} - \\frac{3 \\sqrt{2} i (u)_{x} (v)_{x} v}{8} + \\frac{3 \\sqrt{2} i (v)_{xx} u^{2}}{16} + \\frac{3 \\sqrt{2} i (v)_{xx} u v}{8} + \\frac{135 \\sqrt{2} i (v)_{xx} v^{2}}{16} + \\frac{7 \\sqrt{2} i (v)_{x}^{2} u}{16} + \\frac{315 \\sqrt{2} i (v)_{x}^{2} v}{16}\\right) \\epsilon^{7} + \\left(- \\frac{3 (u)_{xxxxx} u}{2} - (u)_{xxxxx} v - 5 (u)_{xxxx} (u)_{x} - \\frac{5 (u)_{xxxx} (v)_{x}}{2} - \\frac{17 (u)_{xxx} (u)_{xx}}{2} - \\frac{3 (u)_{xxx} (v)_{xx}}{2} + (u)_{xx} (v)_{xxx} + 2 (u)_{x} (v)_{xxxx} + 8 (u)_{x} u^{2} + (v)_{xxxxx} u + \\frac{3 (v)_{xxxxx} v}{2} + \\frac{11 (v)_{xxxx} (v)_{x}}{2} + 9 (v)_{xxx} (v)_{xx} + 8 (v)_{x} v^{2}\\right) \\epsilon^{6} + \\left(- \\frac{5 \\sqrt{2} i (u)_{xxxx} u}{2} - 7 \\sqrt{2} i (u)_{xxx} (u)_{x} - \\frac{19 \\sqrt{2} i (u)_{xx}^{2}}{4} - \\frac{5 \\sqrt{2} i (v)_{xxxx} v}{2} - 8 \\sqrt{2} i (v)_{xxx} (v)_{x} - \\frac{21 \\sqrt{2} i (v)_{xx}^{2}}{4} + \\frac{15 \\sqrt{2} i u^{3}}{32} + \\frac{\\sqrt{2} i u^{2} v}{32} + \\frac{\\sqrt{2} i u v^{2}}{32} + \\frac{15 \\sqrt{2} i v^{3}}{32}\\right) \\epsilon^{5} + \\left(4 (u)_{xxx} u + 9 (u)_{xx} (u)_{x} - 4 (v)_{xxx} v - 11 (v)_{xx} (v)_{x}\\right) \\epsilon^{4} + \\left(- \\frac{\\sqrt{2} i (u)_{xxxxxx}}{4} + \\frac{3 \\sqrt{2} i (u)_{xx} u}{2} + \\frac{5 \\sqrt{2} i (u)_{x}^{2}}{4} + \\frac{\\sqrt{2} i (v)_{xxxxxx}}{4} + \\frac{3 \\sqrt{2} i (v)_{xx} v}{2} + \\frac{7 \\sqrt{2} i (v)_{x}^{2}}{4}\\right) \\epsilon^{3} + \\left(\\frac{(u)_{xxxxx}}{2} + \\frac{(v)_{xxxxx}}{2}\\right) \\epsilon^{2} + \\left(\\frac{\\sqrt{2} i (u)_{xxxx}}{4} - \\frac{\\sqrt{2} i (v)_{xxxx}}{4} + \\frac{\\sqrt{2} i u^{2}}{8} - \\frac{\\sqrt{2} i v^{2}}{8}\\right) \\epsilon + \\left(\\frac{\\sqrt{2} i u}{8} + \\frac{\\sqrt{2} i v}{8}\\right) \\frac{1}{\\epsilon^{3}} + \\left(\\frac{\\sqrt{2} i (u)_{xx}}{8} - \\frac{\\sqrt{2} i (v)_{xx}}{8}\\right) \\frac{1}{\\epsilon}, \\epsilon, \\frac{1}{\\epsilon}, domain=\\mathtt{\\text{EX}} \\right)}$"
      ],
      "text/plain": [
       "Eq(\\sigma_{6}, Poly((33*sqrt(2)*I*u**7/512 - 21*sqrt(2)*I*u**6*v/512 - 7*sqrt(2)*I*u**5*v**2/512 - 5*sqrt(2)*I*u**4*v**3/512 - 5*sqrt(2)*I*u**3*v**4/512 - 7*sqrt(2)*I*u**2*v**5/512 - 21*sqrt(2)*I*u*v**6/512 + 33*sqrt(2)*I*v**7/512)*\\epsilon**21 + (-2*(u)_{x}*u**5 + 2*(v)_{x}*v**5)*\\epsilon**18 + (-63*sqrt(2)*I*u**6/128 + 7*sqrt(2)*I*u**5*v/32 + 5*sqrt(2)*I*u**4*v**2/128 - 5*sqrt(2)*I*u**2*v**4/128 - 7*sqrt(2)*I*u*v**5/32 + 63*sqrt(2)*I*v**6/128)*\\epsilon**17 + (-315*sqrt(2)*I*(u)_{xx}*u**4/128 - 35*sqrt(2)*I*(u)_{xx}*u**3*v/32 - 45*sqrt(2)*I*(u)_{xx}*u**2*v**2/64 - 15*sqrt(2)*I*(u)_{xx}*u*v**3/32 - 35*sqrt(2)*I*(u)_{xx}*v**4/128 - 525*sqrt(2)*I*(u)_{x}**2*u**3/64 - 175*sqrt(2)*I*(u)_{x}**2*u**2*v/64 - 75*sqrt(2)*I*(u)_{x}**2*u*v**2/64 - 25*sqrt(2)*I*(u)_{x}**2*v**3/64 - 35*sqrt(2)*I*(u)_{x}*(v)_{x}*u**3/32 - 45*sqrt(2)*I*(u)_{x}*(v)_{x}*u**2*v/32 - 45*sqrt(2)*I*(u)_{x}*(v)_{x}*u*v**2/32 - 35*sqrt(2)*I*(u)_{x}*(v)_{x}*v**3/32 + 35*sqrt(2)*I*(v)_{xx}*u**4/128 + 15*sqrt(2)*I*(v)_{xx}*u**3*v/32 + 45*sqrt(2)*I*(v)_{xx}*u**2*v**2/64 + 35*sqrt(2)*I*(v)_{xx}*u*v**3/32 + 315*sqrt(2)*I*(v)_{xx}*v**4/128 + 35*sqrt(2)*I*(v)_{x}**2*u**3/64 + 105*sqrt(2)*I*(v)_{x}**2*u**2*v/64 + 245*sqrt(2)*I*(v)_{x}**2*u*v**2/64 + 735*sqrt(2)*I*(v)_{x}**2*v**3/64)*\\epsilon**15 + (10*(u)_{x}*u**4 + 10*(v)_{x}*v**4)*\\epsilon**14 + (175*sqrt(2)*I*u**5/128 - 45*sqrt(2)*I*u**4*v/128 - sqrt(2)*I*u**3*v**2/64 - sqrt(2)*I*u**2*v**3/64 - 45*sqrt(2)*I*u*v**4/128 + 175*sqrt(2)*I*v**5/128)*\\epsilon**13 + (4*(u)_{xxx}*u**3 + 3*(u)_{xxx}*u**2*v + 2*(u)_{xxx}*u*v**2 + (u)_{xxx}*v**3 + 27*(u)_{xx}*(u)_{x}*u**2 + 27*(u)_{xx}*(u)_{x}*u*v/2 + 9*(u)_{xx}*(u)_{x}*v**2/2 + 9*(u)_{xx}*(v)_{x}*u**2/2 + 6*(u)_{xx}*(v)_{x}*u*v + 9*(u)_{xx}*(v)_{x}*v**2/2 + 15*(u)_{x}**3*u + 15*(u)_{x}**3*v/4 + 27*(u)_{x}**2*(v)_{x}*u/4 + 9*(u)_{x}**2*(v)_{x}*v/2 - 3*(u)_{x}*(v)_{xx}*u**2/2 - 2*(u)_{x}*(v)_{xx}*u*v - 3*(u)_{x}*(v)_{xx}*v**2/2 - 3*(u)_{x}*(v)_{x}**2*u/2 - 9*(u)_{x}*(v)_{x}**2*v/4 - (v)_{xxx}*u**3 - 2*(v)_{xxx}*u**2*v - 3*(v)_{xxx}*u*v**2 - 4*(v)_{xxx}*v**3 - 11*(v)_{xx}*(v)_{x}*u**2/2 - 33*(v)_{xx}*(v)_{x}*u*v/2 - 33*(v)_{xx}*(v)_{x}*v**2 - 21*(v)_{x}**3*u/4 - 21*(v)_{x}**3*v)*\\epsilon**12 + (35*sqrt(2)*I*(u)_{xx}*u**3/4 + 15*sqrt(2)*I*(u)_{xx}*u**2*v/8 - 5*sqrt(2)*I*(u)_{xx}*v**3/8 + 175*sqrt(2)*I*(u)_{x}**2*u**2/8 + 25*sqrt(2)*I*(u)_{x}**2*u*v/8 + 15*sqrt(2)*I*(u)_{x}*(v)_{x}*u**2/8 - 15*sqrt(2)*I*(u)_{x}*(v)_{x}*v**2/8 - 5*sqrt(2)*I*(v)_{xx}*u**3/8 + 15*sqrt(2)*I*(v)_{xx}*u*v**2/8 + 35*sqrt(2)*I*(v)_{xx}*v**3/4 + 35*sqrt(2)*I*(v)_{x}**2*u*v/8 + 245*sqrt(2)*I*(v)_{x}**2*v**2/8)*\\epsilon**11 + (-16*(u)_{x}*u**3 + 16*(v)_{x}*v**3)*\\epsilon**10 + (35*sqrt(2)*I*(u)_{xxxx}*u**2/16 + 15*sqrt(2)*I*(u)_{xxxx}*u*v/8 + 15*sqrt(2)*I*(u)_{xxxx}*v**2/16 + 49*sqrt(2)*I*(u)_{xxx}*(u)_{x}*u/4 + 21*sqrt(2)*I*(u)_{xxx}*(u)_{x}*v/4 + 15*sqrt(2)*I*(u)_{xxx}*(v)_{x}*u/4 + 15*sqrt(2)*I*(u)_{xxx}*(v)_{x}*v/4 + 133*sqrt(2)*I*(u)_{xx}**2*u/16 + 57*sqrt(2)*I*(u)_{xx}**2*v/16 + 221*sqrt(2)*I*(u)_{xx}*(u)_{x}**2/16 + 61*sqrt(2)*I*(u)_{xx}*(u)_{x}*(v)_{x}/8 + 5*sqrt(2)*I*(u)_{xx}*(v)_{xx}*u/8 + 5*sqrt(2)*I*(u)_{xx}*(v)_{xx}*v/8 + 17*sqrt(2)*I*(u)_{xx}*(v)_{x}**2/16 + 3*sqrt(2)*I*(u)_{x}**2*(v)_{xx}/16 - 5*sqrt(2)*I*(u)_{x}*(v)_{xxx}*u/2 - 5*sqrt(2)*I*(u)_{x}*(v)_{xxx}*v/2 - 45*sqrt(2)*I*(u)_{x}*(v)_{xx}*(v)_{x}/8 - 15*sqrt(2)*I*(v)_{xxxx}*u**2/16 - 15*sqrt(2)*I*(v)_{xxxx}*u*v/8 - 35*sqrt(2)*I*(v)_{xxxx}*v**2/16 - 6*sqrt(2)*I*(v)_{xxx}*(v)_{x}*u - 14*sqrt(2)*I*(v)_{xxx}*(v)_{x}*v - 63*sqrt(2)*I*(v)_{xx}**2*u/16 - 147*sqrt(2)*I*(v)_{xx}**2*v/16 - 273*sqrt(2)*I*(v)_{xx}*(v)_{x}**2/16 - 25*sqrt(2)*I*u**4/16 + sqrt(2)*I*u**3*v/8 - sqrt(2)*I*u*v**3/8 + 25*sqrt(2)*I*v**4/16)*\\epsilon**9 + (-9*(u)_{xxx}*u**2 - 2*(u)_{xxx}*u*v + (u)_{xxx}*v**2 - 81*(u)_{xx}*(u)_{x}*u/2 - 9*(u)_{xx}*(u)_{x}*v/2 - 3*(u)_{xx}*(v)_{x}*u + 3*(u)_{xx}*(v)_{x}*v - 45*(u)_{x}**3/4 - 9*(u)_{x}**2*(v)_{x}/4 + (u)_{x}*(v)_{xx}*u - (u)_{x}*(v)_{xx}*v - 3*(u)_{x}*(v)_{x}**2/4 + (v)_{xxx}*u**2 - 2*(v)_{xxx}*u*v - 9*(v)_{xxx}*v**2 - 11*(v)_{xx}*(v)_{x}*u/2 - 99*(v)_{xx}*(v)_{x}*v/2 - 63*(v)_{x}**3/4)*\\epsilon**8 + (-135*sqrt(2)*I*(u)_{xx}*u**2/16 - 3*sqrt(2)*I*(u)_{xx}*u*v/8 - 3*sqrt(2)*I*(u)_{xx}*v**2/16 - 225*sqrt(2)*I*(u)_{x}**2*u/16 - 5*sqrt(2)*I*(u)_{x}**2*v/16 - 3*sqrt(2)*I*(u)_{x}*(v)_{x}*u/8 - 3*sqrt(2)*I*(u)_{x}*(v)_{x}*v/8 + 3*sqrt(2)*I*(v)_{xx}*u**2/16 + 3*sqrt(2)*I*(v)_{xx}*u*v/8 + 135*sqrt(2)*I*(v)_{xx}*v**2/16 + 7*sqrt(2)*I*(v)_{x}**2*u/16 + 315*sqrt(2)*I*(v)_{x}**2*v/16)*\\epsilon**7 + (-3*(u)_{xxxxx}*u/2 - (u)_{xxxxx}*v - 5*(u)_{xxxx}*(u)_{x} - 5*(u)_{xxxx}*(v)_{x}/2 - 17*(u)_{xxx}*(u)_{xx}/2 - 3*(u)_{xxx}*(v)_{xx}/2 + (u)_{xx}*(v)_{xxx} + 2*(u)_{x}*(v)_{xxxx} + 8*(u)_{x}*u**2 + (v)_{xxxxx}*u + 3*(v)_{xxxxx}*v/2 + 11*(v)_{xxxx}*(v)_{x}/2 + 9*(v)_{xxx}*(v)_{xx} + 8*(v)_{x}*v**2)*\\epsilon**6 + (-5*sqrt(2)*I*(u)_{xxxx}*u/2 - 7*sqrt(2)*I*(u)_{xxx}*(u)_{x} - 19*sqrt(2)*I*(u)_{xx}**2/4 - 5*sqrt(2)*I*(v)_{xxxx}*v/2 - 8*sqrt(2)*I*(v)_{xxx}*(v)_{x} - 21*sqrt(2)*I*(v)_{xx}**2/4 + 15*sqrt(2)*I*u**3/32 + sqrt(2)*I*u**2*v/32 + sqrt(2)*I*u*v**2/32 + 15*sqrt(2)*I*v**3/32)*\\epsilon**5 + (4*(u)_{xxx}*u + 9*(u)_{xx}*(u)_{x} - 4*(v)_{xxx}*v - 11*(v)_{xx}*(v)_{x})*\\epsilon**4 + (-sqrt(2)*I*(u)_{xxxxxx}/4 + 3*sqrt(2)*I*(u)_{xx}*u/2 + 5*sqrt(2)*I*(u)_{x}**2/4 + sqrt(2)*I*(v)_{xxxxxx}/4 + 3*sqrt(2)*I*(v)_{xx}*v/2 + 7*sqrt(2)*I*(v)_{x}**2/4)*\\epsilon**3 + ((u)_{xxxxx}/2 + (v)_{xxxxx}/2)*\\epsilon**2 + (sqrt(2)*I*(u)_{xxxx}/4 - sqrt(2)*I*(v)_{xxxx}/4 + sqrt(2)*I*u**2/8 - sqrt(2)*I*v**2/8)*\\epsilon + (sqrt(2)*I*u/8 + sqrt(2)*I*v/8)*(1/\\epsilon)**3 + (sqrt(2)*I*(u)_{xx}/8 - sqrt(2)*I*(v)_{xx}/8)*(1/\\epsilon), \\epsilon, 1/\\epsilon, domain='EX'))"
      ]
     },
     "metadata": {},
     "output_type": "display_data"
    },
    {
     "name": "stdout",
     "output_type": "stream",
     "text": [
      "n = 7\n"
     ]
    },
    {
     "data": {
      "text/latex": [
       "$\\displaystyle \\sigma_{7} = \\operatorname{Poly}{\\left( \\left(\\frac{429 u^{8}}{4096} - \\frac{33 u^{7} v}{512} - \\frac{21 u^{6} v^{2}}{1024} - \\frac{7 u^{5} v^{3}}{512} - \\frac{25 u^{4} v^{4}}{2048} - \\frac{7 u^{3} v^{5}}{512} - \\frac{21 u^{2} v^{6}}{1024} - \\frac{33 u v^{7}}{512} + \\frac{429 v^{8}}{4096}\\right) \\epsilon^{8} + \\left(2 \\sqrt{2} i (u)_{x} u^{6} - 2 \\sqrt{2} i (v)_{x} v^{6}\\right) \\epsilon^{7} + \\left(- \\frac{693 (u)_{xx} u^{5}}{128} - \\frac{315 (u)_{xx} u^{4} v}{128} - \\frac{105 (u)_{xx} u^{3} v^{2}}{64} - \\frac{75 (u)_{xx} u^{2} v^{3}}{64} - \\frac{105 (u)_{xx} u v^{4}}{128} - \\frac{63 (u)_{xx} v^{5}}{128} - \\frac{5775 (u)_{x}^{2} u^{4}}{256} - \\frac{525 (u)_{x}^{2} u^{3} v}{64} - \\frac{525 (u)_{x}^{2} u^{2} v^{2}}{128} - \\frac{125 (u)_{x}^{2} u v^{3}}{64} - \\frac{175 (u)_{x}^{2} v^{4}}{256} - \\frac{315 (u)_{x} (v)_{x} u^{4}}{128} - \\frac{105 (u)_{x} (v)_{x} u^{3} v}{32} - \\frac{225 (u)_{x} (v)_{x} u^{2} v^{2}}{64} - \\frac{105 (u)_{x} (v)_{x} u v^{3}}{32} - \\frac{315 (u)_{x} (v)_{x} v^{4}}{128} + \\frac{63 (v)_{xx} u^{5}}{128} + \\frac{105 (v)_{xx} u^{4} v}{128} + \\frac{75 (v)_{xx} u^{3} v^{2}}{64} + \\frac{105 (v)_{xx} u^{2} v^{3}}{64} + \\frac{315 (v)_{xx} u v^{4}}{128} + \\frac{693 (v)_{xx} v^{5}}{128} + \\frac{245 (v)_{x}^{2} u^{4}}{256} + \\frac{175 (v)_{x}^{2} u^{3} v}{64} + \\frac{735 (v)_{x}^{2} u^{2} v^{2}}{128} + \\frac{735 (v)_{x}^{2} u v^{3}}{64} + \\frac{8085 (v)_{x}^{2} v^{4}}{256} - \\frac{231 u^{7}}{256} + \\frac{105 u^{6} v}{256} + \\frac{21 u^{5} v^{2}}{256} + \\frac{5 u^{4} v^{3}}{256} - \\frac{5 u^{3} v^{4}}{256} - \\frac{21 u^{2} v^{5}}{256} - \\frac{105 u v^{6}}{256} + \\frac{231 v^{7}}{256}\\right) \\epsilon^{6} + \\left(- 5 \\sqrt{2} i (u)_{xxx} u^{4} - 4 \\sqrt{2} i (u)_{xxx} u^{3} v - 3 \\sqrt{2} i (u)_{xxx} u^{2} v^{2} - 2 \\sqrt{2} i (u)_{xxx} u v^{3} - \\sqrt{2} i (u)_{xxx} v^{4} - 45 \\sqrt{2} i (u)_{xx} (u)_{x} u^{3} - 27 \\sqrt{2} i (u)_{xx} (u)_{x} u^{2} v - \\frac{27 \\sqrt{2} i (u)_{xx} (u)_{x} u v^{2}}{2} - \\frac{9 \\sqrt{2} i (u)_{xx} (u)_{x} v^{3}}{2} - 6 \\sqrt{2} i (u)_{xx} (v)_{x} u^{3} - 9 \\sqrt{2} i (u)_{xx} (v)_{x} u^{2} v - 9 \\sqrt{2} i (u)_{xx} (v)_{x} u v^{2} - 6 \\sqrt{2} i (u)_{xx} (v)_{x} v^{3} - \\frac{75 \\sqrt{2} i (u)_{x}^{3} u^{2}}{2} - 15 \\sqrt{2} i (u)_{x}^{3} u v - \\frac{15 \\sqrt{2} i (u)_{x}^{3} v^{2}}{4} - \\frac{27 \\sqrt{2} i (u)_{x}^{2} (v)_{x} u^{2}}{2} - \\frac{27 \\sqrt{2} i (u)_{x}^{2} (v)_{x} u v}{2} - \\frac{27 \\sqrt{2} i (u)_{x}^{2} (v)_{x} v^{2}}{4} + 2 \\sqrt{2} i (u)_{x} (v)_{xx} u^{3} + 3 \\sqrt{2} i (u)_{x} (v)_{xx} u^{2} v + 3 \\sqrt{2} i (u)_{x} (v)_{xx} u v^{2} + 2 \\sqrt{2} i (u)_{x} (v)_{xx} v^{3} + \\frac{9 \\sqrt{2} i (u)_{x} (v)_{x}^{2} u^{2}}{4} + \\frac{9 \\sqrt{2} i (u)_{x} (v)_{x}^{2} u v}{2} + \\frac{9 \\sqrt{2} i (u)_{x} (v)_{x}^{2} v^{2}}{2} - 12 \\sqrt{2} i (u)_{x} u^{5} + \\sqrt{2} i (v)_{xxx} u^{4} + 2 \\sqrt{2} i (v)_{xxx} u^{3} v + 3 \\sqrt{2} i (v)_{xxx} u^{2} v^{2} + 4 \\sqrt{2} i (v)_{xxx} u v^{3} + 5 \\sqrt{2} i (v)_{xxx} v^{4} + \\frac{11 \\sqrt{2} i (v)_{xx} (v)_{x} u^{3}}{2} + \\frac{33 \\sqrt{2} i (v)_{xx} (v)_{x} u^{2} v}{2} + 33 \\sqrt{2} i (v)_{xx} (v)_{x} u v^{2} + 55 \\sqrt{2} i (v)_{xx} (v)_{x} v^{3} + \\frac{21 \\sqrt{2} i (v)_{x}^{3} u^{2}}{4} + 21 \\sqrt{2} i (v)_{x}^{3} u v + \\frac{105 \\sqrt{2} i (v)_{x}^{3} v^{2}}{2} - 12 \\sqrt{2} i (v)_{x} v^{5}\\right) \\epsilon^{5} + \\left(\\frac{105 (u)_{xxxx} u^{3}}{16} + \\frac{105 (u)_{xxxx} u^{2} v}{16} + \\frac{75 (u)_{xxxx} u v^{2}}{16} + \\frac{35 (u)_{xxxx} v^{3}}{16} + \\frac{441 (u)_{xxx} (u)_{x} u^{2}}{8} + \\frac{147 (u)_{xxx} (u)_{x} u v}{4} + \\frac{105 (u)_{xxx} (u)_{x} v^{2}}{8} + \\frac{105 (u)_{xxx} (v)_{x} u^{2}}{8} + \\frac{75 (u)_{xxx} (v)_{x} u v}{4} + \\frac{105 (u)_{xxx} (v)_{x} v^{2}}{8} + \\frac{1197 (u)_{xx}^{2} u^{2}}{32} + \\frac{399 (u)_{xx}^{2} u v}{16} + \\frac{285 (u)_{xx}^{2} v^{2}}{32} + \\frac{1989 (u)_{xx} (u)_{x}^{2} u}{16} + \\frac{663 (u)_{xx} (u)_{x}^{2} v}{16} + \\frac{427 (u)_{xx} (u)_{x} (v)_{x} u}{8} + \\frac{305 (u)_{xx} (u)_{x} (v)_{x} v}{8} + \\frac{35 (u)_{xx} (v)_{xx} u^{2}}{16} + \\frac{25 (u)_{xx} (v)_{xx} u v}{8} + \\frac{35 (u)_{xx} (v)_{xx} v^{2}}{16} + \\frac{85 (u)_{xx} (v)_{x}^{2} u}{16} + \\frac{119 (u)_{xx} (v)_{x}^{2} v}{16} + \\frac{1575 (u)_{xx} u^{4}}{64} + \\frac{105 (u)_{xx} u^{3} v}{16} + \\frac{45 (u)_{xx} u^{2} v^{2}}{32} - \\frac{15 (u)_{xx} u v^{3}}{16} - \\frac{105 (u)_{xx} v^{4}}{64} + \\frac{1105 (u)_{x}^{4}}{64} + \\frac{221 (u)_{x}^{3} (v)_{x}}{16} + \\frac{21 (u)_{x}^{2} (v)_{xx} u}{16} + \\frac{15 (u)_{x}^{2} (v)_{xx} v}{16} + \\frac{87 (u)_{x}^{2} (v)_{x}^{2}}{32} + \\frac{2625 (u)_{x}^{2} u^{3}}{32} + \\frac{525 (u)_{x}^{2} u^{2} v}{32} + \\frac{75 (u)_{x}^{2} u v^{2}}{32} - \\frac{25 (u)_{x}^{2} v^{3}}{32} - \\frac{35 (u)_{x} (v)_{xxx} u^{2}}{4} - \\frac{25 (u)_{x} (v)_{xxx} u v}{2} - \\frac{35 (u)_{x} (v)_{xxx} v^{2}}{4} - \\frac{225 (u)_{x} (v)_{xx} (v)_{x} u}{8} - \\frac{315 (u)_{x} (v)_{xx} (v)_{x} v}{8} - \\frac{175 (u)_{x} (v)_{x}^{3}}{16} + \\frac{105 (u)_{x} (v)_{x} u^{3}}{16} + \\frac{45 (u)_{x} (v)_{x} u^{2} v}{16} - \\frac{45 (u)_{x} (v)_{x} u v^{2}}{16} - \\frac{105 (u)_{x} (v)_{x} v^{3}}{16} - \\frac{35 (v)_{xxxx} u^{3}}{16} - \\frac{75 (v)_{xxxx} u^{2} v}{16} - \\frac{105 (v)_{xxxx} u v^{2}}{16} - \\frac{105 (v)_{xxxx} v^{3}}{16} - 15 (v)_{xxx} (v)_{x} u^{2} - 42 (v)_{xxx} (v)_{x} u v - 63 (v)_{xxx} (v)_{x} v^{2} - \\frac{315 (v)_{xx}^{2} u^{2}}{32} - \\frac{441 (v)_{xx}^{2} u v}{16} - \\frac{1323 (v)_{xx}^{2} v^{2}}{32} - \\frac{819 (v)_{xx} (v)_{x}^{2} u}{16} - \\frac{2457 (v)_{xx} (v)_{x}^{2} v}{16} - \\frac{105 (v)_{xx} u^{4}}{64} - \\frac{15 (v)_{xx} u^{3} v}{16} + \\frac{45 (v)_{xx} u^{2} v^{2}}{32} + \\frac{105 (v)_{xx} u v^{3}}{16} + \\frac{1575 (v)_{xx} v^{4}}{64} - \\frac{1463 (v)_{x}^{4}}{64} - \\frac{35 (v)_{x}^{2} u^{3}}{32} + \\frac{105 (v)_{x}^{2} u^{2} v}{32} + \\frac{735 (v)_{x}^{2} u v^{2}}{32} + \\frac{3675 (v)_{x}^{2} v^{3}}{32} + \\frac{189 u^{6}}{64} - \\frac{7 u^{5} v}{8} - \\frac{5 u^{4} v^{2}}{64} - \\frac{5 u^{2} v^{4}}{64} - \\frac{7 u v^{5}}{8} + \\frac{189 v^{6}}{64}\\right) \\epsilon^{4} + \\left(3 \\sqrt{2} i (u)_{xxxxx} u^{2} + 3 \\sqrt{2} i (u)_{xxxxx} u v + \\frac{3 \\sqrt{2} i (u)_{xxxxx} v^{2}}{2} + 20 \\sqrt{2} i (u)_{xxxx} (u)_{x} u + 10 \\sqrt{2} i (u)_{xxxx} (u)_{x} v + \\frac{15 \\sqrt{2} i (u)_{xxxx} (v)_{x} u}{2} + \\frac{15 \\sqrt{2} i (u)_{xxxx} (v)_{x} v}{2} + 34 \\sqrt{2} i (u)_{xxx} (u)_{xx} u + 17 \\sqrt{2} i (u)_{xxx} (u)_{xx} v + \\frac{225 \\sqrt{2} i (u)_{xxx} (u)_{x}^{2}}{8} + \\frac{77 \\sqrt{2} i (u)_{xxx} (u)_{x} (v)_{x}}{4} + \\frac{9 \\sqrt{2} i (u)_{xxx} (v)_{xx} u}{2} + \\frac{9 \\sqrt{2} i (u)_{xxx} (v)_{xx} v}{2} + \\frac{41 \\sqrt{2} i (u)_{xxx} (v)_{x}^{2}}{8} + 16 \\sqrt{2} i (u)_{xxx} u^{3} + 6 \\sqrt{2} i (u)_{xxx} u^{2} v - 2 \\sqrt{2} i (u)_{xxx} v^{3} + \\frac{153 \\sqrt{2} i (u)_{xx}^{2} (u)_{x}}{4} + \\frac{51 \\sqrt{2} i (u)_{xx}^{2} (v)_{x}}{4} + \\frac{15 \\sqrt{2} i (u)_{xx} (u)_{x} (v)_{xx}}{2} + 108 \\sqrt{2} i (u)_{xx} (u)_{x} u^{2} + 27 \\sqrt{2} i (u)_{xx} (u)_{x} u v - 3 \\sqrt{2} i (u)_{xx} (v)_{xxx} u - 3 \\sqrt{2} i (u)_{xx} (v)_{xxx} v - \\frac{9 \\sqrt{2} i (u)_{xx} (v)_{xx} (v)_{x}}{2} + 9 \\sqrt{2} i (u)_{xx} (v)_{x} u^{2} - 9 \\sqrt{2} i (u)_{xx} (v)_{x} v^{2} + 60 \\sqrt{2} i (u)_{x}^{3} u + \\frac{15 \\sqrt{2} i (u)_{x}^{3} v}{2} - \\frac{25 \\sqrt{2} i (u)_{x}^{2} (v)_{xxx}}{8} + \\frac{27 \\sqrt{2} i (u)_{x}^{2} (v)_{x} u}{2} - 6 \\sqrt{2} i (u)_{x} (v)_{xxxx} u - 6 \\sqrt{2} i (u)_{x} (v)_{xxxx} v - \\frac{67 \\sqrt{2} i (u)_{x} (v)_{xxx} (v)_{x}}{4} - \\frac{43 \\sqrt{2} i (u)_{x} (v)_{xx}^{2}}{4} - 3 \\sqrt{2} i (u)_{x} (v)_{xx} u^{2} + 3 \\sqrt{2} i (u)_{x} (v)_{xx} v^{2} + \\frac{9 \\sqrt{2} i (u)_{x} (v)_{x}^{2} v}{2} + 25 \\sqrt{2} i (u)_{x} u^{4} - \\frac{3 \\sqrt{2} i (v)_{xxxxx} u^{2}}{2} - 3 \\sqrt{2} i (v)_{xxxxx} u v - 3 \\sqrt{2} i (v)_{xxxxx} v^{2} - 11 \\sqrt{2} i (v)_{xxxx} (v)_{x} u - 22 \\sqrt{2} i (v)_{xxxx} (v)_{x} v - 18 \\sqrt{2} i (v)_{xxx} (v)_{xx} u - 36 \\sqrt{2} i (v)_{xxx} (v)_{xx} v - \\frac{261 \\sqrt{2} i (v)_{xxx} (v)_{x}^{2}}{8} - 2 \\sqrt{2} i (v)_{xxx} u^{3} + 6 \\sqrt{2} i (v)_{xxx} u v^{2} + 16 \\sqrt{2} i (v)_{xxx} v^{3} - \\frac{173 \\sqrt{2} i (v)_{xx}^{2} (v)_{x}}{4} + 33 \\sqrt{2} i (v)_{xx} (v)_{x} u v + 132 \\sqrt{2} i (v)_{xx} (v)_{x} v^{2} + \\frac{21 \\sqrt{2} i (v)_{x}^{3} u}{2} + 84 \\sqrt{2} i (v)_{x}^{3} v - 25 \\sqrt{2} i (v)_{x} v^{4}\\right) \\epsilon^{3} + \\left(- \\frac{7 (u)_{xxxxxx} u}{4} - \\frac{5 (u)_{xxxxxx} v}{4} - \\frac{27 (u)_{xxxxx} (u)_{x}}{4} - \\frac{15 (u)_{xxxxx} (v)_{x}}{4} - \\frac{55 (u)_{xxxx} (u)_{xx}}{4} - \\frac{15 (u)_{xxxx} (v)_{xx}}{4} - \\frac{105 (u)_{xxxx} u^{2}}{8} - \\frac{15 (u)_{xxxx} u v}{4} + \\frac{15 (u)_{xxxx} v^{2}}{8} - \\frac{69 (u)_{xxx}^{2}}{8} - \\frac{147 (u)_{xxx} (u)_{x} u}{2} - \\frac{21 (u)_{xxx} (u)_{x} v}{2} - \\frac{(u)_{xxx} (v)_{xxx}}{4} - \\frac{15 (u)_{xxx} (v)_{x} u}{2} + \\frac{15 (u)_{xxx} (v)_{x} v}{2} - \\frac{399 (u)_{xx}^{2} u}{8} - \\frac{57 (u)_{xx}^{2} v}{8} - \\frac{663 (u)_{xx} (u)_{x}^{2}}{8} - \\frac{61 (u)_{xx} (u)_{x} (v)_{x}}{4} + \\frac{13 (u)_{xx} (v)_{xxxx}}{4} - \\frac{5 (u)_{xx} (v)_{xx} u}{4} + \\frac{5 (u)_{xx} (v)_{xx} v}{4} + \\frac{17 (u)_{xx} (v)_{x}^{2}}{8} - 35 (u)_{xx} u^{3} - \\frac{15 (u)_{xx} u^{2} v}{4} - \\frac{5 (u)_{xx} v^{3}}{4} - \\frac{3 (u)_{x}^{2} (v)_{xx}}{8} - \\frac{175 (u)_{x}^{2} u^{2}}{2} - \\frac{25 (u)_{x}^{2} u v}{4} + \\frac{13 (u)_{x} (v)_{xxxxx}}{4} + 5 (u)_{x} (v)_{xxx} u - 5 (u)_{x} (v)_{xxx} v - \\frac{45 (u)_{x} (v)_{xx} (v)_{x}}{4} - \\frac{15 (u)_{x} (v)_{x} u^{2}}{4} - \\frac{15 (u)_{x} (v)_{x} v^{2}}{4} + \\frac{5 (v)_{xxxxxx} u}{4} + \\frac{7 (v)_{xxxxxx} v}{4} + \\frac{29 (v)_{xxxxx} (v)_{x}}{4} + \\frac{57 (v)_{xxxx} (v)_{xx}}{4} + \\frac{15 (v)_{xxxx} u^{2}}{8} - \\frac{15 (v)_{xxxx} u v}{4} - \\frac{105 (v)_{xxxx} v^{2}}{8} + \\frac{71 (v)_{xxx}^{2}}{8} - 12 (v)_{xxx} (v)_{x} u - 84 (v)_{xxx} (v)_{x} v - \\frac{63 (v)_{xx}^{2} u}{8} - \\frac{441 (v)_{xx}^{2} v}{8} - \\frac{819 (v)_{xx} (v)_{x}^{2}}{8} + \\frac{5 (v)_{xx} u^{3}}{4} + \\frac{15 (v)_{xx} u v^{2}}{4} + 35 (v)_{xx} v^{3} + \\frac{35 (v)_{x}^{2} u v}{4} + \\frac{245 (v)_{x}^{2} v^{2}}{2} - \\frac{35 u^{5}}{8} + \\frac{5 u^{4} v}{8} - \\frac{5 u v^{4}}{8} + \\frac{35 v^{5}}{8}\\right) \\epsilon^{2} + \\left(- \\frac{\\sqrt{2} i (u)_{xxxxxxx}}{4} - 3 \\sqrt{2} i (u)_{xxxxx} u - 10 \\sqrt{2} i (u)_{xxxx} (u)_{x} - 17 \\sqrt{2} i (u)_{xxx} (u)_{xx} - \\frac{27 \\sqrt{2} i (u)_{xxx} u^{2}}{2} - \\sqrt{2} i (u)_{xxx} u v - \\frac{\\sqrt{2} i (u)_{xxx} v^{2}}{2} - \\frac{243 \\sqrt{2} i (u)_{xx} (u)_{x} u}{4} - \\frac{9 \\sqrt{2} i (u)_{xx} (u)_{x} v}{4} - \\frac{3 \\sqrt{2} i (u)_{xx} (v)_{x} u}{2} - \\frac{3 \\sqrt{2} i (u)_{xx} (v)_{x} v}{2} - \\frac{135 \\sqrt{2} i (u)_{x}^{3}}{8} - \\frac{9 \\sqrt{2} i (u)_{x}^{2} (v)_{x}}{8} + \\frac{\\sqrt{2} i (u)_{x} (v)_{xx} u}{2} + \\frac{\\sqrt{2} i (u)_{x} (v)_{xx} v}{2} + \\frac{3 \\sqrt{2} i (u)_{x} (v)_{x}^{2}}{8} - 20 \\sqrt{2} i (u)_{x} u^{3} + \\frac{\\sqrt{2} i (v)_{xxxxxxx}}{4} - 3 \\sqrt{2} i (v)_{xxxxx} v - 11 \\sqrt{2} i (v)_{xxxx} (v)_{x} - 18 \\sqrt{2} i (v)_{xxx} (v)_{xx} + \\frac{\\sqrt{2} i (v)_{xxx} u^{2}}{2} + \\sqrt{2} i (v)_{xxx} u v + \\frac{27 \\sqrt{2} i (v)_{xxx} v^{2}}{2} + \\frac{11 \\sqrt{2} i (v)_{xx} (v)_{x} u}{4} + \\frac{297 \\sqrt{2} i (v)_{xx} (v)_{x} v}{4} + \\frac{189 \\sqrt{2} i (v)_{x}^{3}}{8} - 20 \\sqrt{2} i (v)_{x} v^{3}\\right) \\epsilon + \\left(\\frac{\\sqrt{2} i (u)_{x}}{8} - \\frac{\\sqrt{2} i (v)_{x}}{8}\\right) \\frac{1}{\\epsilon^{5}} + \\left(\\frac{\\sqrt{2} i (u)_{xxx}}{8} + \\frac{\\sqrt{2} i (u)_{x} u}{2} - \\frac{\\sqrt{2} i (v)_{xxx}}{8} + \\frac{\\sqrt{2} i (v)_{x} v}{2}\\right) \\frac{1}{\\epsilon^{3}} + \\left(\\frac{\\sqrt{2} i (u)_{xxxxx}}{4} + 2 \\sqrt{2} i (u)_{xxx} u + \\frac{9 \\sqrt{2} i (u)_{xx} (u)_{x}}{2} + \\frac{15 \\sqrt{2} i (u)_{x} u^{2}}{4} - \\frac{\\sqrt{2} i (v)_{xxxxx}}{4} + 2 \\sqrt{2} i (v)_{xxx} v + \\frac{11 \\sqrt{2} i (v)_{xx} (v)_{x}}{2} - \\frac{15 \\sqrt{2} i (v)_{x} v^{2}}{4}\\right) \\frac{1}{\\epsilon} + \\frac{(u)_{xxxxxx}}{2} + 5 (u)_{xxxx} u + 14 (u)_{xxx} (u)_{x} + \\frac{19 (u)_{xx}^{2}}{2} + 15 (u)_{xx} u^{2} + 25 (u)_{x}^{2} u + \\frac{(v)_{xxxxxx}}{2} - 5 (v)_{xxxx} v - 16 (v)_{xxx} (v)_{x} - \\frac{21 (v)_{xx}^{2}}{2} + 15 (v)_{xx} v^{2} + 35 (v)_{x}^{2} v + \\frac{5 u^{4}}{2} + \\frac{5 v^{4}}{2}, \\epsilon, \\frac{1}{\\epsilon}, domain=\\mathtt{\\text{EX}} \\right)}$"
      ],
      "text/plain": [
       "Eq(\\sigma_{7}, Poly((429*u**8/4096 - 33*u**7*v/512 - 21*u**6*v**2/1024 - 7*u**5*v**3/512 - 25*u**4*v**4/2048 - 7*u**3*v**5/512 - 21*u**2*v**6/1024 - 33*u*v**7/512 + 429*v**8/4096)*\\epsilon**8 + (2*sqrt(2)*I*(u)_{x}*u**6 - 2*sqrt(2)*I*(v)_{x}*v**6)*\\epsilon**7 + (-693*(u)_{xx}*u**5/128 - 315*(u)_{xx}*u**4*v/128 - 105*(u)_{xx}*u**3*v**2/64 - 75*(u)_{xx}*u**2*v**3/64 - 105*(u)_{xx}*u*v**4/128 - 63*(u)_{xx}*v**5/128 - 5775*(u)_{x}**2*u**4/256 - 525*(u)_{x}**2*u**3*v/64 - 525*(u)_{x}**2*u**2*v**2/128 - 125*(u)_{x}**2*u*v**3/64 - 175*(u)_{x}**2*v**4/256 - 315*(u)_{x}*(v)_{x}*u**4/128 - 105*(u)_{x}*(v)_{x}*u**3*v/32 - 225*(u)_{x}*(v)_{x}*u**2*v**2/64 - 105*(u)_{x}*(v)_{x}*u*v**3/32 - 315*(u)_{x}*(v)_{x}*v**4/128 + 63*(v)_{xx}*u**5/128 + 105*(v)_{xx}*u**4*v/128 + 75*(v)_{xx}*u**3*v**2/64 + 105*(v)_{xx}*u**2*v**3/64 + 315*(v)_{xx}*u*v**4/128 + 693*(v)_{xx}*v**5/128 + 245*(v)_{x}**2*u**4/256 + 175*(v)_{x}**2*u**3*v/64 + 735*(v)_{x}**2*u**2*v**2/128 + 735*(v)_{x}**2*u*v**3/64 + 8085*(v)_{x}**2*v**4/256 - 231*u**7/256 + 105*u**6*v/256 + 21*u**5*v**2/256 + 5*u**4*v**3/256 - 5*u**3*v**4/256 - 21*u**2*v**5/256 - 105*u*v**6/256 + 231*v**7/256)*\\epsilon**6 + (-5*sqrt(2)*I*(u)_{xxx}*u**4 - 4*sqrt(2)*I*(u)_{xxx}*u**3*v - 3*sqrt(2)*I*(u)_{xxx}*u**2*v**2 - 2*sqrt(2)*I*(u)_{xxx}*u*v**3 - sqrt(2)*I*(u)_{xxx}*v**4 - 45*sqrt(2)*I*(u)_{xx}*(u)_{x}*u**3 - 27*sqrt(2)*I*(u)_{xx}*(u)_{x}*u**2*v - 27*sqrt(2)*I*(u)_{xx}*(u)_{x}*u*v**2/2 - 9*sqrt(2)*I*(u)_{xx}*(u)_{x}*v**3/2 - 6*sqrt(2)*I*(u)_{xx}*(v)_{x}*u**3 - 9*sqrt(2)*I*(u)_{xx}*(v)_{x}*u**2*v - 9*sqrt(2)*I*(u)_{xx}*(v)_{x}*u*v**2 - 6*sqrt(2)*I*(u)_{xx}*(v)_{x}*v**3 - 75*sqrt(2)*I*(u)_{x}**3*u**2/2 - 15*sqrt(2)*I*(u)_{x}**3*u*v - 15*sqrt(2)*I*(u)_{x}**3*v**2/4 - 27*sqrt(2)*I*(u)_{x}**2*(v)_{x}*u**2/2 - 27*sqrt(2)*I*(u)_{x}**2*(v)_{x}*u*v/2 - 27*sqrt(2)*I*(u)_{x}**2*(v)_{x}*v**2/4 + 2*sqrt(2)*I*(u)_{x}*(v)_{xx}*u**3 + 3*sqrt(2)*I*(u)_{x}*(v)_{xx}*u**2*v + 3*sqrt(2)*I*(u)_{x}*(v)_{xx}*u*v**2 + 2*sqrt(2)*I*(u)_{x}*(v)_{xx}*v**3 + 9*sqrt(2)*I*(u)_{x}*(v)_{x}**2*u**2/4 + 9*sqrt(2)*I*(u)_{x}*(v)_{x}**2*u*v/2 + 9*sqrt(2)*I*(u)_{x}*(v)_{x}**2*v**2/2 - 12*sqrt(2)*I*(u)_{x}*u**5 + sqrt(2)*I*(v)_{xxx}*u**4 + 2*sqrt(2)*I*(v)_{xxx}*u**3*v + 3*sqrt(2)*I*(v)_{xxx}*u**2*v**2 + 4*sqrt(2)*I*(v)_{xxx}*u*v**3 + 5*sqrt(2)*I*(v)_{xxx}*v**4 + 11*sqrt(2)*I*(v)_{xx}*(v)_{x}*u**3/2 + 33*sqrt(2)*I*(v)_{xx}*(v)_{x}*u**2*v/2 + 33*sqrt(2)*I*(v)_{xx}*(v)_{x}*u*v**2 + 55*sqrt(2)*I*(v)_{xx}*(v)_{x}*v**3 + 21*sqrt(2)*I*(v)_{x}**3*u**2/4 + 21*sqrt(2)*I*(v)_{x}**3*u*v + 105*sqrt(2)*I*(v)_{x}**3*v**2/2 - 12*sqrt(2)*I*(v)_{x}*v**5)*\\epsilon**5 + (105*(u)_{xxxx}*u**3/16 + 105*(u)_{xxxx}*u**2*v/16 + 75*(u)_{xxxx}*u*v**2/16 + 35*(u)_{xxxx}*v**3/16 + 441*(u)_{xxx}*(u)_{x}*u**2/8 + 147*(u)_{xxx}*(u)_{x}*u*v/4 + 105*(u)_{xxx}*(u)_{x}*v**2/8 + 105*(u)_{xxx}*(v)_{x}*u**2/8 + 75*(u)_{xxx}*(v)_{x}*u*v/4 + 105*(u)_{xxx}*(v)_{x}*v**2/8 + 1197*(u)_{xx}**2*u**2/32 + 399*(u)_{xx}**2*u*v/16 + 285*(u)_{xx}**2*v**2/32 + 1989*(u)_{xx}*(u)_{x}**2*u/16 + 663*(u)_{xx}*(u)_{x}**2*v/16 + 427*(u)_{xx}*(u)_{x}*(v)_{x}*u/8 + 305*(u)_{xx}*(u)_{x}*(v)_{x}*v/8 + 35*(u)_{xx}*(v)_{xx}*u**2/16 + 25*(u)_{xx}*(v)_{xx}*u*v/8 + 35*(u)_{xx}*(v)_{xx}*v**2/16 + 85*(u)_{xx}*(v)_{x}**2*u/16 + 119*(u)_{xx}*(v)_{x}**2*v/16 + 1575*(u)_{xx}*u**4/64 + 105*(u)_{xx}*u**3*v/16 + 45*(u)_{xx}*u**2*v**2/32 - 15*(u)_{xx}*u*v**3/16 - 105*(u)_{xx}*v**4/64 + 1105*(u)_{x}**4/64 + 221*(u)_{x}**3*(v)_{x}/16 + 21*(u)_{x}**2*(v)_{xx}*u/16 + 15*(u)_{x}**2*(v)_{xx}*v/16 + 87*(u)_{x}**2*(v)_{x}**2/32 + 2625*(u)_{x}**2*u**3/32 + 525*(u)_{x}**2*u**2*v/32 + 75*(u)_{x}**2*u*v**2/32 - 25*(u)_{x}**2*v**3/32 - 35*(u)_{x}*(v)_{xxx}*u**2/4 - 25*(u)_{x}*(v)_{xxx}*u*v/2 - 35*(u)_{x}*(v)_{xxx}*v**2/4 - 225*(u)_{x}*(v)_{xx}*(v)_{x}*u/8 - 315*(u)_{x}*(v)_{xx}*(v)_{x}*v/8 - 175*(u)_{x}*(v)_{x}**3/16 + 105*(u)_{x}*(v)_{x}*u**3/16 + 45*(u)_{x}*(v)_{x}*u**2*v/16 - 45*(u)_{x}*(v)_{x}*u*v**2/16 - 105*(u)_{x}*(v)_{x}*v**3/16 - 35*(v)_{xxxx}*u**3/16 - 75*(v)_{xxxx}*u**2*v/16 - 105*(v)_{xxxx}*u*v**2/16 - 105*(v)_{xxxx}*v**3/16 - 15*(v)_{xxx}*(v)_{x}*u**2 - 42*(v)_{xxx}*(v)_{x}*u*v - 63*(v)_{xxx}*(v)_{x}*v**2 - 315*(v)_{xx}**2*u**2/32 - 441*(v)_{xx}**2*u*v/16 - 1323*(v)_{xx}**2*v**2/32 - 819*(v)_{xx}*(v)_{x}**2*u/16 - 2457*(v)_{xx}*(v)_{x}**2*v/16 - 105*(v)_{xx}*u**4/64 - 15*(v)_{xx}*u**3*v/16 + 45*(v)_{xx}*u**2*v**2/32 + 105*(v)_{xx}*u*v**3/16 + 1575*(v)_{xx}*v**4/64 - 1463*(v)_{x}**4/64 - 35*(v)_{x}**2*u**3/32 + 105*(v)_{x}**2*u**2*v/32 + 735*(v)_{x}**2*u*v**2/32 + 3675*(v)_{x}**2*v**3/32 + 189*u**6/64 - 7*u**5*v/8 - 5*u**4*v**2/64 - 5*u**2*v**4/64 - 7*u*v**5/8 + 189*v**6/64)*\\epsilon**4 + (3*sqrt(2)*I*(u)_{xxxxx}*u**2 + 3*sqrt(2)*I*(u)_{xxxxx}*u*v + 3*sqrt(2)*I*(u)_{xxxxx}*v**2/2 + 20*sqrt(2)*I*(u)_{xxxx}*(u)_{x}*u + 10*sqrt(2)*I*(u)_{xxxx}*(u)_{x}*v + 15*sqrt(2)*I*(u)_{xxxx}*(v)_{x}*u/2 + 15*sqrt(2)*I*(u)_{xxxx}*(v)_{x}*v/2 + 34*sqrt(2)*I*(u)_{xxx}*(u)_{xx}*u + 17*sqrt(2)*I*(u)_{xxx}*(u)_{xx}*v + 225*sqrt(2)*I*(u)_{xxx}*(u)_{x}**2/8 + 77*sqrt(2)*I*(u)_{xxx}*(u)_{x}*(v)_{x}/4 + 9*sqrt(2)*I*(u)_{xxx}*(v)_{xx}*u/2 + 9*sqrt(2)*I*(u)_{xxx}*(v)_{xx}*v/2 + 41*sqrt(2)*I*(u)_{xxx}*(v)_{x}**2/8 + 16*sqrt(2)*I*(u)_{xxx}*u**3 + 6*sqrt(2)*I*(u)_{xxx}*u**2*v - 2*sqrt(2)*I*(u)_{xxx}*v**3 + 153*sqrt(2)*I*(u)_{xx}**2*(u)_{x}/4 + 51*sqrt(2)*I*(u)_{xx}**2*(v)_{x}/4 + 15*sqrt(2)*I*(u)_{xx}*(u)_{x}*(v)_{xx}/2 + 108*sqrt(2)*I*(u)_{xx}*(u)_{x}*u**2 + 27*sqrt(2)*I*(u)_{xx}*(u)_{x}*u*v - 3*sqrt(2)*I*(u)_{xx}*(v)_{xxx}*u - 3*sqrt(2)*I*(u)_{xx}*(v)_{xxx}*v - 9*sqrt(2)*I*(u)_{xx}*(v)_{xx}*(v)_{x}/2 + 9*sqrt(2)*I*(u)_{xx}*(v)_{x}*u**2 - 9*sqrt(2)*I*(u)_{xx}*(v)_{x}*v**2 + 60*sqrt(2)*I*(u)_{x}**3*u + 15*sqrt(2)*I*(u)_{x}**3*v/2 - 25*sqrt(2)*I*(u)_{x}**2*(v)_{xxx}/8 + 27*sqrt(2)*I*(u)_{x}**2*(v)_{x}*u/2 - 6*sqrt(2)*I*(u)_{x}*(v)_{xxxx}*u - 6*sqrt(2)*I*(u)_{x}*(v)_{xxxx}*v - 67*sqrt(2)*I*(u)_{x}*(v)_{xxx}*(v)_{x}/4 - 43*sqrt(2)*I*(u)_{x}*(v)_{xx}**2/4 - 3*sqrt(2)*I*(u)_{x}*(v)_{xx}*u**2 + 3*sqrt(2)*I*(u)_{x}*(v)_{xx}*v**2 + 9*sqrt(2)*I*(u)_{x}*(v)_{x}**2*v/2 + 25*sqrt(2)*I*(u)_{x}*u**4 - 3*sqrt(2)*I*(v)_{xxxxx}*u**2/2 - 3*sqrt(2)*I*(v)_{xxxxx}*u*v - 3*sqrt(2)*I*(v)_{xxxxx}*v**2 - 11*sqrt(2)*I*(v)_{xxxx}*(v)_{x}*u - 22*sqrt(2)*I*(v)_{xxxx}*(v)_{x}*v - 18*sqrt(2)*I*(v)_{xxx}*(v)_{xx}*u - 36*sqrt(2)*I*(v)_{xxx}*(v)_{xx}*v - 261*sqrt(2)*I*(v)_{xxx}*(v)_{x}**2/8 - 2*sqrt(2)*I*(v)_{xxx}*u**3 + 6*sqrt(2)*I*(v)_{xxx}*u*v**2 + 16*sqrt(2)*I*(v)_{xxx}*v**3 - 173*sqrt(2)*I*(v)_{xx}**2*(v)_{x}/4 + 33*sqrt(2)*I*(v)_{xx}*(v)_{x}*u*v + 132*sqrt(2)*I*(v)_{xx}*(v)_{x}*v**2 + 21*sqrt(2)*I*(v)_{x}**3*u/2 + 84*sqrt(2)*I*(v)_{x}**3*v - 25*sqrt(2)*I*(v)_{x}*v**4)*\\epsilon**3 + (-7*(u)_{xxxxxx}*u/4 - 5*(u)_{xxxxxx}*v/4 - 27*(u)_{xxxxx}*(u)_{x}/4 - 15*(u)_{xxxxx}*(v)_{x}/4 - 55*(u)_{xxxx}*(u)_{xx}/4 - 15*(u)_{xxxx}*(v)_{xx}/4 - 105*(u)_{xxxx}*u**2/8 - 15*(u)_{xxxx}*u*v/4 + 15*(u)_{xxxx}*v**2/8 - 69*(u)_{xxx}**2/8 - 147*(u)_{xxx}*(u)_{x}*u/2 - 21*(u)_{xxx}*(u)_{x}*v/2 - (u)_{xxx}*(v)_{xxx}/4 - 15*(u)_{xxx}*(v)_{x}*u/2 + 15*(u)_{xxx}*(v)_{x}*v/2 - 399*(u)_{xx}**2*u/8 - 57*(u)_{xx}**2*v/8 - 663*(u)_{xx}*(u)_{x}**2/8 - 61*(u)_{xx}*(u)_{x}*(v)_{x}/4 + 13*(u)_{xx}*(v)_{xxxx}/4 - 5*(u)_{xx}*(v)_{xx}*u/4 + 5*(u)_{xx}*(v)_{xx}*v/4 + 17*(u)_{xx}*(v)_{x}**2/8 - 35*(u)_{xx}*u**3 - 15*(u)_{xx}*u**2*v/4 - 5*(u)_{xx}*v**3/4 - 3*(u)_{x}**2*(v)_{xx}/8 - 175*(u)_{x}**2*u**2/2 - 25*(u)_{x}**2*u*v/4 + 13*(u)_{x}*(v)_{xxxxx}/4 + 5*(u)_{x}*(v)_{xxx}*u - 5*(u)_{x}*(v)_{xxx}*v - 45*(u)_{x}*(v)_{xx}*(v)_{x}/4 - 15*(u)_{x}*(v)_{x}*u**2/4 - 15*(u)_{x}*(v)_{x}*v**2/4 + 5*(v)_{xxxxxx}*u/4 + 7*(v)_{xxxxxx}*v/4 + 29*(v)_{xxxxx}*(v)_{x}/4 + 57*(v)_{xxxx}*(v)_{xx}/4 + 15*(v)_{xxxx}*u**2/8 - 15*(v)_{xxxx}*u*v/4 - 105*(v)_{xxxx}*v**2/8 + 71*(v)_{xxx}**2/8 - 12*(v)_{xxx}*(v)_{x}*u - 84*(v)_{xxx}*(v)_{x}*v - 63*(v)_{xx}**2*u/8 - 441*(v)_{xx}**2*v/8 - 819*(v)_{xx}*(v)_{x}**2/8 + 5*(v)_{xx}*u**3/4 + 15*(v)_{xx}*u*v**2/4 + 35*(v)_{xx}*v**3 + 35*(v)_{x}**2*u*v/4 + 245*(v)_{x}**2*v**2/2 - 35*u**5/8 + 5*u**4*v/8 - 5*u*v**4/8 + 35*v**5/8)*\\epsilon**2 + (-sqrt(2)*I*(u)_{xxxxxxx}/4 - 3*sqrt(2)*I*(u)_{xxxxx}*u - 10*sqrt(2)*I*(u)_{xxxx}*(u)_{x} - 17*sqrt(2)*I*(u)_{xxx}*(u)_{xx} - 27*sqrt(2)*I*(u)_{xxx}*u**2/2 - sqrt(2)*I*(u)_{xxx}*u*v - sqrt(2)*I*(u)_{xxx}*v**2/2 - 243*sqrt(2)*I*(u)_{xx}*(u)_{x}*u/4 - 9*sqrt(2)*I*(u)_{xx}*(u)_{x}*v/4 - 3*sqrt(2)*I*(u)_{xx}*(v)_{x}*u/2 - 3*sqrt(2)*I*(u)_{xx}*(v)_{x}*v/2 - 135*sqrt(2)*I*(u)_{x}**3/8 - 9*sqrt(2)*I*(u)_{x}**2*(v)_{x}/8 + sqrt(2)*I*(u)_{x}*(v)_{xx}*u/2 + sqrt(2)*I*(u)_{x}*(v)_{xx}*v/2 + 3*sqrt(2)*I*(u)_{x}*(v)_{x}**2/8 - 20*sqrt(2)*I*(u)_{x}*u**3 + sqrt(2)*I*(v)_{xxxxxxx}/4 - 3*sqrt(2)*I*(v)_{xxxxx}*v - 11*sqrt(2)*I*(v)_{xxxx}*(v)_{x} - 18*sqrt(2)*I*(v)_{xxx}*(v)_{xx} + sqrt(2)*I*(v)_{xxx}*u**2/2 + sqrt(2)*I*(v)_{xxx}*u*v + 27*sqrt(2)*I*(v)_{xxx}*v**2/2 + 11*sqrt(2)*I*(v)_{xx}*(v)_{x}*u/4 + 297*sqrt(2)*I*(v)_{xx}*(v)_{x}*v/4 + 189*sqrt(2)*I*(v)_{x}**3/8 - 20*sqrt(2)*I*(v)_{x}*v**3)*\\epsilon + (sqrt(2)*I*(u)_{x}/8 - sqrt(2)*I*(v)_{x}/8)*(1/\\epsilon)**5 + (sqrt(2)*I*(u)_{xxx}/8 + sqrt(2)*I*(u)_{x}*u/2 - sqrt(2)*I*(v)_{xxx}/8 + sqrt(2)*I*(v)_{x}*v/2)*(1/\\epsilon)**3 + (sqrt(2)*I*(u)_{xxxxx}/4 + 2*sqrt(2)*I*(u)_{xxx}*u + 9*sqrt(2)*I*(u)_{xx}*(u)_{x}/2 + 15*sqrt(2)*I*(u)_{x}*u**2/4 - sqrt(2)*I*(v)_{xxxxx}/4 + 2*sqrt(2)*I*(v)_{xxx}*v + 11*sqrt(2)*I*(v)_{xx}*(v)_{x}/2 - 15*sqrt(2)*I*(v)_{x}*v**2/4)*(1/\\epsilon) + (u)_{xxxxxx}/2 + 5*(u)_{xxxx}*u + 14*(u)_{xxx}*(u)_{x} + 19*(u)_{xx}**2/2 + 15*(u)_{xx}*u**2 + 25*(u)_{x}**2*u + (v)_{xxxxxx}/2 - 5*(v)_{xxxx}*v - 16*(v)_{xxx}*(v)_{x} - 21*(v)_{xx}**2/2 + 15*(v)_{xx}*v**2 + 35*(v)_{x}**2*v + 5*u**4/2 + 5*v**4/2, \\epsilon, 1/\\epsilon, domain='EX'))"
      ]
     },
     "metadata": {},
     "output_type": "display_data"
    },
    {
     "name": "stdout",
     "output_type": "stream",
     "text": [
      "Warning: Substituting differentiable by non-differentiable symbol.\n",
      "Warning: Substituting differentiable by non-differentiable symbol.\n"
     ]
    },
    {
     "data": {
      "text/latex": [
       "$\\displaystyle \\sigma_{7} = \\operatorname{Poly}{\\left( \\left(\\frac{429 u^{8}}{4096} - \\frac{33 u^{7} v}{512} - \\frac{21 u^{6} v^{2}}{1024} - \\frac{7 u^{5} v^{3}}{512} - \\frac{25 u^{4} v^{4}}{2048} - \\frac{7 u^{3} v^{5}}{512} - \\frac{21 u^{2} v^{6}}{1024} - \\frac{33 u v^{7}}{512} + \\frac{429 v^{8}}{4096}\\right) \\epsilon^{24} + \\left(2 \\sqrt{2} i (u)_{x} u^{6} - 2 \\sqrt{2} i (v)_{x} v^{6}\\right) \\epsilon^{21} + \\left(- \\frac{231 u^{7}}{256} + \\frac{105 u^{6} v}{256} + \\frac{21 u^{5} v^{2}}{256} + \\frac{5 u^{4} v^{3}}{256} - \\frac{5 u^{3} v^{4}}{256} - \\frac{21 u^{2} v^{5}}{256} - \\frac{105 u v^{6}}{256} + \\frac{231 v^{7}}{256}\\right) \\epsilon^{20} + \\left(- \\frac{693 (u)_{xx} u^{5}}{128} - \\frac{315 (u)_{xx} u^{4} v}{128} - \\frac{105 (u)_{xx} u^{3} v^{2}}{64} - \\frac{75 (u)_{xx} u^{2} v^{3}}{64} - \\frac{105 (u)_{xx} u v^{4}}{128} - \\frac{63 (u)_{xx} v^{5}}{128} - \\frac{5775 (u)_{x}^{2} u^{4}}{256} - \\frac{525 (u)_{x}^{2} u^{3} v}{64} - \\frac{525 (u)_{x}^{2} u^{2} v^{2}}{128} - \\frac{125 (u)_{x}^{2} u v^{3}}{64} - \\frac{175 (u)_{x}^{2} v^{4}}{256} - \\frac{315 (u)_{x} (v)_{x} u^{4}}{128} - \\frac{105 (u)_{x} (v)_{x} u^{3} v}{32} - \\frac{225 (u)_{x} (v)_{x} u^{2} v^{2}}{64} - \\frac{105 (u)_{x} (v)_{x} u v^{3}}{32} - \\frac{315 (u)_{x} (v)_{x} v^{4}}{128} + \\frac{63 (v)_{xx} u^{5}}{128} + \\frac{105 (v)_{xx} u^{4} v}{128} + \\frac{75 (v)_{xx} u^{3} v^{2}}{64} + \\frac{105 (v)_{xx} u^{2} v^{3}}{64} + \\frac{315 (v)_{xx} u v^{4}}{128} + \\frac{693 (v)_{xx} v^{5}}{128} + \\frac{245 (v)_{x}^{2} u^{4}}{256} + \\frac{175 (v)_{x}^{2} u^{3} v}{64} + \\frac{735 (v)_{x}^{2} u^{2} v^{2}}{128} + \\frac{735 (v)_{x}^{2} u v^{3}}{64} + \\frac{8085 (v)_{x}^{2} v^{4}}{256}\\right) \\epsilon^{18} + \\left(- 12 \\sqrt{2} i (u)_{x} u^{5} - 12 \\sqrt{2} i (v)_{x} v^{5}\\right) \\epsilon^{17} + \\left(\\frac{189 u^{6}}{64} - \\frac{7 u^{5} v}{8} - \\frac{5 u^{4} v^{2}}{64} - \\frac{5 u^{2} v^{4}}{64} - \\frac{7 u v^{5}}{8} + \\frac{189 v^{6}}{64}\\right) \\epsilon^{16} + \\left(- 5 \\sqrt{2} i (u)_{xxx} u^{4} - 4 \\sqrt{2} i (u)_{xxx} u^{3} v - 3 \\sqrt{2} i (u)_{xxx} u^{2} v^{2} - 2 \\sqrt{2} i (u)_{xxx} u v^{3} - \\sqrt{2} i (u)_{xxx} v^{4} - 45 \\sqrt{2} i (u)_{xx} (u)_{x} u^{3} - 27 \\sqrt{2} i (u)_{xx} (u)_{x} u^{2} v - \\frac{27 \\sqrt{2} i (u)_{xx} (u)_{x} u v^{2}}{2} - \\frac{9 \\sqrt{2} i (u)_{xx} (u)_{x} v^{3}}{2} - 6 \\sqrt{2} i (u)_{xx} (v)_{x} u^{3} - 9 \\sqrt{2} i (u)_{xx} (v)_{x} u^{2} v - 9 \\sqrt{2} i (u)_{xx} (v)_{x} u v^{2} - 6 \\sqrt{2} i (u)_{xx} (v)_{x} v^{3} - \\frac{75 \\sqrt{2} i (u)_{x}^{3} u^{2}}{2} - 15 \\sqrt{2} i (u)_{x}^{3} u v - \\frac{15 \\sqrt{2} i (u)_{x}^{3} v^{2}}{4} - \\frac{27 \\sqrt{2} i (u)_{x}^{2} (v)_{x} u^{2}}{2} - \\frac{27 \\sqrt{2} i (u)_{x}^{2} (v)_{x} u v}{2} - \\frac{27 \\sqrt{2} i (u)_{x}^{2} (v)_{x} v^{2}}{4} + 2 \\sqrt{2} i (u)_{x} (v)_{xx} u^{3} + 3 \\sqrt{2} i (u)_{x} (v)_{xx} u^{2} v + 3 \\sqrt{2} i (u)_{x} (v)_{xx} u v^{2} + 2 \\sqrt{2} i (u)_{x} (v)_{xx} v^{3} + \\frac{9 \\sqrt{2} i (u)_{x} (v)_{x}^{2} u^{2}}{4} + \\frac{9 \\sqrt{2} i (u)_{x} (v)_{x}^{2} u v}{2} + \\frac{9 \\sqrt{2} i (u)_{x} (v)_{x}^{2} v^{2}}{2} + \\sqrt{2} i (v)_{xxx} u^{4} + 2 \\sqrt{2} i (v)_{xxx} u^{3} v + 3 \\sqrt{2} i (v)_{xxx} u^{2} v^{2} + 4 \\sqrt{2} i (v)_{xxx} u v^{3} + 5 \\sqrt{2} i (v)_{xxx} v^{4} + \\frac{11 \\sqrt{2} i (v)_{xx} (v)_{x} u^{3}}{2} + \\frac{33 \\sqrt{2} i (v)_{xx} (v)_{x} u^{2} v}{2} + 33 \\sqrt{2} i (v)_{xx} (v)_{x} u v^{2} + 55 \\sqrt{2} i (v)_{xx} (v)_{x} v^{3} + \\frac{21 \\sqrt{2} i (v)_{x}^{3} u^{2}}{4} + 21 \\sqrt{2} i (v)_{x}^{3} u v + \\frac{105 \\sqrt{2} i (v)_{x}^{3} v^{2}}{2}\\right) \\epsilon^{15} + \\left(\\frac{1575 (u)_{xx} u^{4}}{64} + \\frac{105 (u)_{xx} u^{3} v}{16} + \\frac{45 (u)_{xx} u^{2} v^{2}}{32} - \\frac{15 (u)_{xx} u v^{3}}{16} - \\frac{105 (u)_{xx} v^{4}}{64} + \\frac{2625 (u)_{x}^{2} u^{3}}{32} + \\frac{525 (u)_{x}^{2} u^{2} v}{32} + \\frac{75 (u)_{x}^{2} u v^{2}}{32} - \\frac{25 (u)_{x}^{2} v^{3}}{32} + \\frac{105 (u)_{x} (v)_{x} u^{3}}{16} + \\frac{45 (u)_{x} (v)_{x} u^{2} v}{16} - \\frac{45 (u)_{x} (v)_{x} u v^{2}}{16} - \\frac{105 (u)_{x} (v)_{x} v^{3}}{16} - \\frac{105 (v)_{xx} u^{4}}{64} - \\frac{15 (v)_{xx} u^{3} v}{16} + \\frac{45 (v)_{xx} u^{2} v^{2}}{32} + \\frac{105 (v)_{xx} u v^{3}}{16} + \\frac{1575 (v)_{xx} v^{4}}{64} - \\frac{35 (v)_{x}^{2} u^{3}}{32} + \\frac{105 (v)_{x}^{2} u^{2} v}{32} + \\frac{735 (v)_{x}^{2} u v^{2}}{32} + \\frac{3675 (v)_{x}^{2} v^{3}}{32}\\right) \\epsilon^{14} + \\left(25 \\sqrt{2} i (u)_{x} u^{4} - 25 \\sqrt{2} i (v)_{x} v^{4}\\right) \\epsilon^{13} + \\left(\\frac{105 (u)_{xxxx} u^{3}}{16} + \\frac{105 (u)_{xxxx} u^{2} v}{16} + \\frac{75 (u)_{xxxx} u v^{2}}{16} + \\frac{35 (u)_{xxxx} v^{3}}{16} + \\frac{441 (u)_{xxx} (u)_{x} u^{2}}{8} + \\frac{147 (u)_{xxx} (u)_{x} u v}{4} + \\frac{105 (u)_{xxx} (u)_{x} v^{2}}{8} + \\frac{105 (u)_{xxx} (v)_{x} u^{2}}{8} + \\frac{75 (u)_{xxx} (v)_{x} u v}{4} + \\frac{105 (u)_{xxx} (v)_{x} v^{2}}{8} + \\frac{1197 (u)_{xx}^{2} u^{2}}{32} + \\frac{399 (u)_{xx}^{2} u v}{16} + \\frac{285 (u)_{xx}^{2} v^{2}}{32} + \\frac{1989 (u)_{xx} (u)_{x}^{2} u}{16} + \\frac{663 (u)_{xx} (u)_{x}^{2} v}{16} + \\frac{427 (u)_{xx} (u)_{x} (v)_{x} u}{8} + \\frac{305 (u)_{xx} (u)_{x} (v)_{x} v}{8} + \\frac{35 (u)_{xx} (v)_{xx} u^{2}}{16} + \\frac{25 (u)_{xx} (v)_{xx} u v}{8} + \\frac{35 (u)_{xx} (v)_{xx} v^{2}}{16} + \\frac{85 (u)_{xx} (v)_{x}^{2} u}{16} + \\frac{119 (u)_{xx} (v)_{x}^{2} v}{16} + \\frac{1105 (u)_{x}^{4}}{64} + \\frac{221 (u)_{x}^{3} (v)_{x}}{16} + \\frac{21 (u)_{x}^{2} (v)_{xx} u}{16} + \\frac{15 (u)_{x}^{2} (v)_{xx} v}{16} + \\frac{87 (u)_{x}^{2} (v)_{x}^{2}}{32} - \\frac{35 (u)_{x} (v)_{xxx} u^{2}}{4} - \\frac{25 (u)_{x} (v)_{xxx} u v}{2} - \\frac{35 (u)_{x} (v)_{xxx} v^{2}}{4} - \\frac{225 (u)_{x} (v)_{xx} (v)_{x} u}{8} - \\frac{315 (u)_{x} (v)_{xx} (v)_{x} v}{8} - \\frac{175 (u)_{x} (v)_{x}^{3}}{16} - \\frac{35 (v)_{xxxx} u^{3}}{16} - \\frac{75 (v)_{xxxx} u^{2} v}{16} - \\frac{105 (v)_{xxxx} u v^{2}}{16} - \\frac{105 (v)_{xxxx} v^{3}}{16} - 15 (v)_{xxx} (v)_{x} u^{2} - 42 (v)_{xxx} (v)_{x} u v - 63 (v)_{xxx} (v)_{x} v^{2} - \\frac{315 (v)_{xx}^{2} u^{2}}{32} - \\frac{441 (v)_{xx}^{2} u v}{16} - \\frac{1323 (v)_{xx}^{2} v^{2}}{32} - \\frac{819 (v)_{xx} (v)_{x}^{2} u}{16} - \\frac{2457 (v)_{xx} (v)_{x}^{2} v}{16} - \\frac{1463 (v)_{x}^{4}}{64} - \\frac{35 u^{5}}{8} + \\frac{5 u^{4} v}{8} - \\frac{5 u v^{4}}{8} + \\frac{35 v^{5}}{8}\\right) \\epsilon^{12} + \\left(16 \\sqrt{2} i (u)_{xxx} u^{3} + 6 \\sqrt{2} i (u)_{xxx} u^{2} v - 2 \\sqrt{2} i (u)_{xxx} v^{3} + 108 \\sqrt{2} i (u)_{xx} (u)_{x} u^{2} + 27 \\sqrt{2} i (u)_{xx} (u)_{x} u v + 9 \\sqrt{2} i (u)_{xx} (v)_{x} u^{2} - 9 \\sqrt{2} i (u)_{xx} (v)_{x} v^{2} + 60 \\sqrt{2} i (u)_{x}^{3} u + \\frac{15 \\sqrt{2} i (u)_{x}^{3} v}{2} + \\frac{27 \\sqrt{2} i (u)_{x}^{2} (v)_{x} u}{2} - 3 \\sqrt{2} i (u)_{x} (v)_{xx} u^{2} + 3 \\sqrt{2} i (u)_{x} (v)_{xx} v^{2} + \\frac{9 \\sqrt{2} i (u)_{x} (v)_{x}^{2} v}{2} - 2 \\sqrt{2} i (v)_{xxx} u^{3} + 6 \\sqrt{2} i (v)_{xxx} u v^{2} + 16 \\sqrt{2} i (v)_{xxx} v^{3} + 33 \\sqrt{2} i (v)_{xx} (v)_{x} u v + 132 \\sqrt{2} i (v)_{xx} (v)_{x} v^{2} + \\frac{21 \\sqrt{2} i (v)_{x}^{3} u}{2} + 84 \\sqrt{2} i (v)_{x}^{3} v\\right) \\epsilon^{11} + \\left(- 35 (u)_{xx} u^{3} - \\frac{15 (u)_{xx} u^{2} v}{4} - \\frac{5 (u)_{xx} v^{3}}{4} - \\frac{175 (u)_{x}^{2} u^{2}}{2} - \\frac{25 (u)_{x}^{2} u v}{4} - \\frac{15 (u)_{x} (v)_{x} u^{2}}{4} - \\frac{15 (u)_{x} (v)_{x} v^{2}}{4} + \\frac{5 (v)_{xx} u^{3}}{4} + \\frac{15 (v)_{xx} u v^{2}}{4} + 35 (v)_{xx} v^{3} + \\frac{35 (v)_{x}^{2} u v}{4} + \\frac{245 (v)_{x}^{2} v^{2}}{2}\\right) \\epsilon^{10} + \\left(3 \\sqrt{2} i (u)_{xxxxx} u^{2} + 3 \\sqrt{2} i (u)_{xxxxx} u v + \\frac{3 \\sqrt{2} i (u)_{xxxxx} v^{2}}{2} + 20 \\sqrt{2} i (u)_{xxxx} (u)_{x} u + 10 \\sqrt{2} i (u)_{xxxx} (u)_{x} v + \\frac{15 \\sqrt{2} i (u)_{xxxx} (v)_{x} u}{2} + \\frac{15 \\sqrt{2} i (u)_{xxxx} (v)_{x} v}{2} + 34 \\sqrt{2} i (u)_{xxx} (u)_{xx} u + 17 \\sqrt{2} i (u)_{xxx} (u)_{xx} v + \\frac{225 \\sqrt{2} i (u)_{xxx} (u)_{x}^{2}}{8} + \\frac{77 \\sqrt{2} i (u)_{xxx} (u)_{x} (v)_{x}}{4} + \\frac{9 \\sqrt{2} i (u)_{xxx} (v)_{xx} u}{2} + \\frac{9 \\sqrt{2} i (u)_{xxx} (v)_{xx} v}{2} + \\frac{41 \\sqrt{2} i (u)_{xxx} (v)_{x}^{2}}{8} + \\frac{153 \\sqrt{2} i (u)_{xx}^{2} (u)_{x}}{4} + \\frac{51 \\sqrt{2} i (u)_{xx}^{2} (v)_{x}}{4} + \\frac{15 \\sqrt{2} i (u)_{xx} (u)_{x} (v)_{xx}}{2} - 3 \\sqrt{2} i (u)_{xx} (v)_{xxx} u - 3 \\sqrt{2} i (u)_{xx} (v)_{xxx} v - \\frac{9 \\sqrt{2} i (u)_{xx} (v)_{xx} (v)_{x}}{2} - \\frac{25 \\sqrt{2} i (u)_{x}^{2} (v)_{xxx}}{8} - 6 \\sqrt{2} i (u)_{x} (v)_{xxxx} u - 6 \\sqrt{2} i (u)_{x} (v)_{xxxx} v - \\frac{67 \\sqrt{2} i (u)_{x} (v)_{xxx} (v)_{x}}{4} - \\frac{43 \\sqrt{2} i (u)_{x} (v)_{xx}^{2}}{4} - 20 \\sqrt{2} i (u)_{x} u^{3} - \\frac{3 \\sqrt{2} i (v)_{xxxxx} u^{2}}{2} - 3 \\sqrt{2} i (v)_{xxxxx} u v - 3 \\sqrt{2} i (v)_{xxxxx} v^{2} - 11 \\sqrt{2} i (v)_{xxxx} (v)_{x} u - 22 \\sqrt{2} i (v)_{xxxx} (v)_{x} v - 18 \\sqrt{2} i (v)_{xxx} (v)_{xx} u - 36 \\sqrt{2} i (v)_{xxx} (v)_{xx} v - \\frac{261 \\sqrt{2} i (v)_{xxx} (v)_{x}^{2}}{8} - \\frac{173 \\sqrt{2} i (v)_{xx}^{2} (v)_{x}}{4} - 20 \\sqrt{2} i (v)_{x} v^{3}\\right) \\epsilon^{9} + \\left(- \\frac{105 (u)_{xxxx} u^{2}}{8} - \\frac{15 (u)_{xxxx} u v}{4} + \\frac{15 (u)_{xxxx} v^{2}}{8} - \\frac{147 (u)_{xxx} (u)_{x} u}{2} - \\frac{21 (u)_{xxx} (u)_{x} v}{2} - \\frac{15 (u)_{xxx} (v)_{x} u}{2} + \\frac{15 (u)_{xxx} (v)_{x} v}{2} - \\frac{399 (u)_{xx}^{2} u}{8} - \\frac{57 (u)_{xx}^{2} v}{8} - \\frac{663 (u)_{xx} (u)_{x}^{2}}{8} - \\frac{61 (u)_{xx} (u)_{x} (v)_{x}}{4} - \\frac{5 (u)_{xx} (v)_{xx} u}{4} + \\frac{5 (u)_{xx} (v)_{xx} v}{4} + \\frac{17 (u)_{xx} (v)_{x}^{2}}{8} - \\frac{3 (u)_{x}^{2} (v)_{xx}}{8} + 5 (u)_{x} (v)_{xxx} u - 5 (u)_{x} (v)_{xxx} v - \\frac{45 (u)_{x} (v)_{xx} (v)_{x}}{4} + \\frac{15 (v)_{xxxx} u^{2}}{8} - \\frac{15 (v)_{xxxx} u v}{4} - \\frac{105 (v)_{xxxx} v^{2}}{8} - 12 (v)_{xxx} (v)_{x} u - 84 (v)_{xxx} (v)_{x} v - \\frac{63 (v)_{xx}^{2} u}{8} - \\frac{441 (v)_{xx}^{2} v}{8} - \\frac{819 (v)_{xx} (v)_{x}^{2}}{8} + \\frac{5 u^{4}}{2} + \\frac{5 v^{4}}{2}\\right) \\epsilon^{8} + \\left(- \\frac{27 \\sqrt{2} i (u)_{xxx} u^{2}}{2} - \\sqrt{2} i (u)_{xxx} u v - \\frac{\\sqrt{2} i (u)_{xxx} v^{2}}{2} - \\frac{243 \\sqrt{2} i (u)_{xx} (u)_{x} u}{4} - \\frac{9 \\sqrt{2} i (u)_{xx} (u)_{x} v}{4} - \\frac{3 \\sqrt{2} i (u)_{xx} (v)_{x} u}{2} - \\frac{3 \\sqrt{2} i (u)_{xx} (v)_{x} v}{2} - \\frac{135 \\sqrt{2} i (u)_{x}^{3}}{8} - \\frac{9 \\sqrt{2} i (u)_{x}^{2} (v)_{x}}{8} + \\frac{\\sqrt{2} i (u)_{x} (v)_{xx} u}{2} + \\frac{\\sqrt{2} i (u)_{x} (v)_{xx} v}{2} + \\frac{3 \\sqrt{2} i (u)_{x} (v)_{x}^{2}}{8} + \\frac{\\sqrt{2} i (v)_{xxx} u^{2}}{2} + \\sqrt{2} i (v)_{xxx} u v + \\frac{27 \\sqrt{2} i (v)_{xxx} v^{2}}{2} + \\frac{11 \\sqrt{2} i (v)_{xx} (v)_{x} u}{4} + \\frac{297 \\sqrt{2} i (v)_{xx} (v)_{x} v}{4} + \\frac{189 \\sqrt{2} i (v)_{x}^{3}}{8}\\right) \\epsilon^{7} + \\left(- \\frac{7 (u)_{xxxxxx} u}{4} - \\frac{5 (u)_{xxxxxx} v}{4} - \\frac{27 (u)_{xxxxx} (u)_{x}}{4} - \\frac{15 (u)_{xxxxx} (v)_{x}}{4} - \\frac{55 (u)_{xxxx} (u)_{xx}}{4} - \\frac{15 (u)_{xxxx} (v)_{xx}}{4} - \\frac{69 (u)_{xxx}^{2}}{8} - \\frac{(u)_{xxx} (v)_{xxx}}{4} + \\frac{13 (u)_{xx} (v)_{xxxx}}{4} + 15 (u)_{xx} u^{2} + 25 (u)_{x}^{2} u + \\frac{13 (u)_{x} (v)_{xxxxx}}{4} + \\frac{5 (v)_{xxxxxx} u}{4} + \\frac{7 (v)_{xxxxxx} v}{4} + \\frac{29 (v)_{xxxxx} (v)_{x}}{4} + \\frac{57 (v)_{xxxx} (v)_{xx}}{4} + \\frac{71 (v)_{xxx}^{2}}{8} + 15 (v)_{xx} v^{2} + 35 (v)_{x}^{2} v\\right) \\epsilon^{6} + \\left(- 3 \\sqrt{2} i (u)_{xxxxx} u - 10 \\sqrt{2} i (u)_{xxxx} (u)_{x} - 17 \\sqrt{2} i (u)_{xxx} (u)_{xx} + \\frac{15 \\sqrt{2} i (u)_{x} u^{2}}{4} - 3 \\sqrt{2} i (v)_{xxxxx} v - 11 \\sqrt{2} i (v)_{xxxx} (v)_{x} - 18 \\sqrt{2} i (v)_{xxx} (v)_{xx} - \\frac{15 \\sqrt{2} i (v)_{x} v^{2}}{4}\\right) \\epsilon^{5} + \\left(5 (u)_{xxxx} u + 14 (u)_{xxx} (u)_{x} + \\frac{19 (u)_{xx}^{2}}{2} - 5 (v)_{xxxx} v - 16 (v)_{xxx} (v)_{x} - \\frac{21 (v)_{xx}^{2}}{2}\\right) \\epsilon^{4} + \\left(- \\frac{\\sqrt{2} i (u)_{xxxxxxx}}{4} + 2 \\sqrt{2} i (u)_{xxx} u + \\frac{9 \\sqrt{2} i (u)_{xx} (u)_{x}}{2} + \\frac{\\sqrt{2} i (v)_{xxxxxxx}}{4} + 2 \\sqrt{2} i (v)_{xxx} v + \\frac{11 \\sqrt{2} i (v)_{xx} (v)_{x}}{2}\\right) \\epsilon^{3} + \\left(\\frac{(u)_{xxxxxx}}{2} + \\frac{(v)_{xxxxxx}}{2}\\right) \\epsilon^{2} + \\left(\\frac{\\sqrt{2} i (u)_{xxxxx}}{4} + \\frac{\\sqrt{2} i (u)_{x} u}{2} - \\frac{\\sqrt{2} i (v)_{xxxxx}}{4} + \\frac{\\sqrt{2} i (v)_{x} v}{2}\\right) \\epsilon + \\left(\\frac{\\sqrt{2} i (u)_{x}}{8} - \\frac{\\sqrt{2} i (v)_{x}}{8}\\right) \\frac{1}{\\epsilon^{3}} + \\left(\\frac{\\sqrt{2} i (u)_{xxx}}{8} - \\frac{\\sqrt{2} i (v)_{xxx}}{8}\\right) \\frac{1}{\\epsilon}, \\epsilon, \\frac{1}{\\epsilon}, domain=\\mathtt{\\text{EX}} \\right)}$"
      ],
      "text/plain": [
       "Eq(\\sigma_{7}, Poly((429*u**8/4096 - 33*u**7*v/512 - 21*u**6*v**2/1024 - 7*u**5*v**3/512 - 25*u**4*v**4/2048 - 7*u**3*v**5/512 - 21*u**2*v**6/1024 - 33*u*v**7/512 + 429*v**8/4096)*\\epsilon**24 + (2*sqrt(2)*I*(u)_{x}*u**6 - 2*sqrt(2)*I*(v)_{x}*v**6)*\\epsilon**21 + (-231*u**7/256 + 105*u**6*v/256 + 21*u**5*v**2/256 + 5*u**4*v**3/256 - 5*u**3*v**4/256 - 21*u**2*v**5/256 - 105*u*v**6/256 + 231*v**7/256)*\\epsilon**20 + (-693*(u)_{xx}*u**5/128 - 315*(u)_{xx}*u**4*v/128 - 105*(u)_{xx}*u**3*v**2/64 - 75*(u)_{xx}*u**2*v**3/64 - 105*(u)_{xx}*u*v**4/128 - 63*(u)_{xx}*v**5/128 - 5775*(u)_{x}**2*u**4/256 - 525*(u)_{x}**2*u**3*v/64 - 525*(u)_{x}**2*u**2*v**2/128 - 125*(u)_{x}**2*u*v**3/64 - 175*(u)_{x}**2*v**4/256 - 315*(u)_{x}*(v)_{x}*u**4/128 - 105*(u)_{x}*(v)_{x}*u**3*v/32 - 225*(u)_{x}*(v)_{x}*u**2*v**2/64 - 105*(u)_{x}*(v)_{x}*u*v**3/32 - 315*(u)_{x}*(v)_{x}*v**4/128 + 63*(v)_{xx}*u**5/128 + 105*(v)_{xx}*u**4*v/128 + 75*(v)_{xx}*u**3*v**2/64 + 105*(v)_{xx}*u**2*v**3/64 + 315*(v)_{xx}*u*v**4/128 + 693*(v)_{xx}*v**5/128 + 245*(v)_{x}**2*u**4/256 + 175*(v)_{x}**2*u**3*v/64 + 735*(v)_{x}**2*u**2*v**2/128 + 735*(v)_{x}**2*u*v**3/64 + 8085*(v)_{x}**2*v**4/256)*\\epsilon**18 + (-12*sqrt(2)*I*(u)_{x}*u**5 - 12*sqrt(2)*I*(v)_{x}*v**5)*\\epsilon**17 + (189*u**6/64 - 7*u**5*v/8 - 5*u**4*v**2/64 - 5*u**2*v**4/64 - 7*u*v**5/8 + 189*v**6/64)*\\epsilon**16 + (-5*sqrt(2)*I*(u)_{xxx}*u**4 - 4*sqrt(2)*I*(u)_{xxx}*u**3*v - 3*sqrt(2)*I*(u)_{xxx}*u**2*v**2 - 2*sqrt(2)*I*(u)_{xxx}*u*v**3 - sqrt(2)*I*(u)_{xxx}*v**4 - 45*sqrt(2)*I*(u)_{xx}*(u)_{x}*u**3 - 27*sqrt(2)*I*(u)_{xx}*(u)_{x}*u**2*v - 27*sqrt(2)*I*(u)_{xx}*(u)_{x}*u*v**2/2 - 9*sqrt(2)*I*(u)_{xx}*(u)_{x}*v**3/2 - 6*sqrt(2)*I*(u)_{xx}*(v)_{x}*u**3 - 9*sqrt(2)*I*(u)_{xx}*(v)_{x}*u**2*v - 9*sqrt(2)*I*(u)_{xx}*(v)_{x}*u*v**2 - 6*sqrt(2)*I*(u)_{xx}*(v)_{x}*v**3 - 75*sqrt(2)*I*(u)_{x}**3*u**2/2 - 15*sqrt(2)*I*(u)_{x}**3*u*v - 15*sqrt(2)*I*(u)_{x}**3*v**2/4 - 27*sqrt(2)*I*(u)_{x}**2*(v)_{x}*u**2/2 - 27*sqrt(2)*I*(u)_{x}**2*(v)_{x}*u*v/2 - 27*sqrt(2)*I*(u)_{x}**2*(v)_{x}*v**2/4 + 2*sqrt(2)*I*(u)_{x}*(v)_{xx}*u**3 + 3*sqrt(2)*I*(u)_{x}*(v)_{xx}*u**2*v + 3*sqrt(2)*I*(u)_{x}*(v)_{xx}*u*v**2 + 2*sqrt(2)*I*(u)_{x}*(v)_{xx}*v**3 + 9*sqrt(2)*I*(u)_{x}*(v)_{x}**2*u**2/4 + 9*sqrt(2)*I*(u)_{x}*(v)_{x}**2*u*v/2 + 9*sqrt(2)*I*(u)_{x}*(v)_{x}**2*v**2/2 + sqrt(2)*I*(v)_{xxx}*u**4 + 2*sqrt(2)*I*(v)_{xxx}*u**3*v + 3*sqrt(2)*I*(v)_{xxx}*u**2*v**2 + 4*sqrt(2)*I*(v)_{xxx}*u*v**3 + 5*sqrt(2)*I*(v)_{xxx}*v**4 + 11*sqrt(2)*I*(v)_{xx}*(v)_{x}*u**3/2 + 33*sqrt(2)*I*(v)_{xx}*(v)_{x}*u**2*v/2 + 33*sqrt(2)*I*(v)_{xx}*(v)_{x}*u*v**2 + 55*sqrt(2)*I*(v)_{xx}*(v)_{x}*v**3 + 21*sqrt(2)*I*(v)_{x}**3*u**2/4 + 21*sqrt(2)*I*(v)_{x}**3*u*v + 105*sqrt(2)*I*(v)_{x}**3*v**2/2)*\\epsilon**15 + (1575*(u)_{xx}*u**4/64 + 105*(u)_{xx}*u**3*v/16 + 45*(u)_{xx}*u**2*v**2/32 - 15*(u)_{xx}*u*v**3/16 - 105*(u)_{xx}*v**4/64 + 2625*(u)_{x}**2*u**3/32 + 525*(u)_{x}**2*u**2*v/32 + 75*(u)_{x}**2*u*v**2/32 - 25*(u)_{x}**2*v**3/32 + 105*(u)_{x}*(v)_{x}*u**3/16 + 45*(u)_{x}*(v)_{x}*u**2*v/16 - 45*(u)_{x}*(v)_{x}*u*v**2/16 - 105*(u)_{x}*(v)_{x}*v**3/16 - 105*(v)_{xx}*u**4/64 - 15*(v)_{xx}*u**3*v/16 + 45*(v)_{xx}*u**2*v**2/32 + 105*(v)_{xx}*u*v**3/16 + 1575*(v)_{xx}*v**4/64 - 35*(v)_{x}**2*u**3/32 + 105*(v)_{x}**2*u**2*v/32 + 735*(v)_{x}**2*u*v**2/32 + 3675*(v)_{x}**2*v**3/32)*\\epsilon**14 + (25*sqrt(2)*I*(u)_{x}*u**4 - 25*sqrt(2)*I*(v)_{x}*v**4)*\\epsilon**13 + (105*(u)_{xxxx}*u**3/16 + 105*(u)_{xxxx}*u**2*v/16 + 75*(u)_{xxxx}*u*v**2/16 + 35*(u)_{xxxx}*v**3/16 + 441*(u)_{xxx}*(u)_{x}*u**2/8 + 147*(u)_{xxx}*(u)_{x}*u*v/4 + 105*(u)_{xxx}*(u)_{x}*v**2/8 + 105*(u)_{xxx}*(v)_{x}*u**2/8 + 75*(u)_{xxx}*(v)_{x}*u*v/4 + 105*(u)_{xxx}*(v)_{x}*v**2/8 + 1197*(u)_{xx}**2*u**2/32 + 399*(u)_{xx}**2*u*v/16 + 285*(u)_{xx}**2*v**2/32 + 1989*(u)_{xx}*(u)_{x}**2*u/16 + 663*(u)_{xx}*(u)_{x}**2*v/16 + 427*(u)_{xx}*(u)_{x}*(v)_{x}*u/8 + 305*(u)_{xx}*(u)_{x}*(v)_{x}*v/8 + 35*(u)_{xx}*(v)_{xx}*u**2/16 + 25*(u)_{xx}*(v)_{xx}*u*v/8 + 35*(u)_{xx}*(v)_{xx}*v**2/16 + 85*(u)_{xx}*(v)_{x}**2*u/16 + 119*(u)_{xx}*(v)_{x}**2*v/16 + 1105*(u)_{x}**4/64 + 221*(u)_{x}**3*(v)_{x}/16 + 21*(u)_{x}**2*(v)_{xx}*u/16 + 15*(u)_{x}**2*(v)_{xx}*v/16 + 87*(u)_{x}**2*(v)_{x}**2/32 - 35*(u)_{x}*(v)_{xxx}*u**2/4 - 25*(u)_{x}*(v)_{xxx}*u*v/2 - 35*(u)_{x}*(v)_{xxx}*v**2/4 - 225*(u)_{x}*(v)_{xx}*(v)_{x}*u/8 - 315*(u)_{x}*(v)_{xx}*(v)_{x}*v/8 - 175*(u)_{x}*(v)_{x}**3/16 - 35*(v)_{xxxx}*u**3/16 - 75*(v)_{xxxx}*u**2*v/16 - 105*(v)_{xxxx}*u*v**2/16 - 105*(v)_{xxxx}*v**3/16 - 15*(v)_{xxx}*(v)_{x}*u**2 - 42*(v)_{xxx}*(v)_{x}*u*v - 63*(v)_{xxx}*(v)_{x}*v**2 - 315*(v)_{xx}**2*u**2/32 - 441*(v)_{xx}**2*u*v/16 - 1323*(v)_{xx}**2*v**2/32 - 819*(v)_{xx}*(v)_{x}**2*u/16 - 2457*(v)_{xx}*(v)_{x}**2*v/16 - 1463*(v)_{x}**4/64 - 35*u**5/8 + 5*u**4*v/8 - 5*u*v**4/8 + 35*v**5/8)*\\epsilon**12 + (16*sqrt(2)*I*(u)_{xxx}*u**3 + 6*sqrt(2)*I*(u)_{xxx}*u**2*v - 2*sqrt(2)*I*(u)_{xxx}*v**3 + 108*sqrt(2)*I*(u)_{xx}*(u)_{x}*u**2 + 27*sqrt(2)*I*(u)_{xx}*(u)_{x}*u*v + 9*sqrt(2)*I*(u)_{xx}*(v)_{x}*u**2 - 9*sqrt(2)*I*(u)_{xx}*(v)_{x}*v**2 + 60*sqrt(2)*I*(u)_{x}**3*u + 15*sqrt(2)*I*(u)_{x}**3*v/2 + 27*sqrt(2)*I*(u)_{x}**2*(v)_{x}*u/2 - 3*sqrt(2)*I*(u)_{x}*(v)_{xx}*u**2 + 3*sqrt(2)*I*(u)_{x}*(v)_{xx}*v**2 + 9*sqrt(2)*I*(u)_{x}*(v)_{x}**2*v/2 - 2*sqrt(2)*I*(v)_{xxx}*u**3 + 6*sqrt(2)*I*(v)_{xxx}*u*v**2 + 16*sqrt(2)*I*(v)_{xxx}*v**3 + 33*sqrt(2)*I*(v)_{xx}*(v)_{x}*u*v + 132*sqrt(2)*I*(v)_{xx}*(v)_{x}*v**2 + 21*sqrt(2)*I*(v)_{x}**3*u/2 + 84*sqrt(2)*I*(v)_{x}**3*v)*\\epsilon**11 + (-35*(u)_{xx}*u**3 - 15*(u)_{xx}*u**2*v/4 - 5*(u)_{xx}*v**3/4 - 175*(u)_{x}**2*u**2/2 - 25*(u)_{x}**2*u*v/4 - 15*(u)_{x}*(v)_{x}*u**2/4 - 15*(u)_{x}*(v)_{x}*v**2/4 + 5*(v)_{xx}*u**3/4 + 15*(v)_{xx}*u*v**2/4 + 35*(v)_{xx}*v**3 + 35*(v)_{x}**2*u*v/4 + 245*(v)_{x}**2*v**2/2)*\\epsilon**10 + (3*sqrt(2)*I*(u)_{xxxxx}*u**2 + 3*sqrt(2)*I*(u)_{xxxxx}*u*v + 3*sqrt(2)*I*(u)_{xxxxx}*v**2/2 + 20*sqrt(2)*I*(u)_{xxxx}*(u)_{x}*u + 10*sqrt(2)*I*(u)_{xxxx}*(u)_{x}*v + 15*sqrt(2)*I*(u)_{xxxx}*(v)_{x}*u/2 + 15*sqrt(2)*I*(u)_{xxxx}*(v)_{x}*v/2 + 34*sqrt(2)*I*(u)_{xxx}*(u)_{xx}*u + 17*sqrt(2)*I*(u)_{xxx}*(u)_{xx}*v + 225*sqrt(2)*I*(u)_{xxx}*(u)_{x}**2/8 + 77*sqrt(2)*I*(u)_{xxx}*(u)_{x}*(v)_{x}/4 + 9*sqrt(2)*I*(u)_{xxx}*(v)_{xx}*u/2 + 9*sqrt(2)*I*(u)_{xxx}*(v)_{xx}*v/2 + 41*sqrt(2)*I*(u)_{xxx}*(v)_{x}**2/8 + 153*sqrt(2)*I*(u)_{xx}**2*(u)_{x}/4 + 51*sqrt(2)*I*(u)_{xx}**2*(v)_{x}/4 + 15*sqrt(2)*I*(u)_{xx}*(u)_{x}*(v)_{xx}/2 - 3*sqrt(2)*I*(u)_{xx}*(v)_{xxx}*u - 3*sqrt(2)*I*(u)_{xx}*(v)_{xxx}*v - 9*sqrt(2)*I*(u)_{xx}*(v)_{xx}*(v)_{x}/2 - 25*sqrt(2)*I*(u)_{x}**2*(v)_{xxx}/8 - 6*sqrt(2)*I*(u)_{x}*(v)_{xxxx}*u - 6*sqrt(2)*I*(u)_{x}*(v)_{xxxx}*v - 67*sqrt(2)*I*(u)_{x}*(v)_{xxx}*(v)_{x}/4 - 43*sqrt(2)*I*(u)_{x}*(v)_{xx}**2/4 - 20*sqrt(2)*I*(u)_{x}*u**3 - 3*sqrt(2)*I*(v)_{xxxxx}*u**2/2 - 3*sqrt(2)*I*(v)_{xxxxx}*u*v - 3*sqrt(2)*I*(v)_{xxxxx}*v**2 - 11*sqrt(2)*I*(v)_{xxxx}*(v)_{x}*u - 22*sqrt(2)*I*(v)_{xxxx}*(v)_{x}*v - 18*sqrt(2)*I*(v)_{xxx}*(v)_{xx}*u - 36*sqrt(2)*I*(v)_{xxx}*(v)_{xx}*v - 261*sqrt(2)*I*(v)_{xxx}*(v)_{x}**2/8 - 173*sqrt(2)*I*(v)_{xx}**2*(v)_{x}/4 - 20*sqrt(2)*I*(v)_{x}*v**3)*\\epsilon**9 + (-105*(u)_{xxxx}*u**2/8 - 15*(u)_{xxxx}*u*v/4 + 15*(u)_{xxxx}*v**2/8 - 147*(u)_{xxx}*(u)_{x}*u/2 - 21*(u)_{xxx}*(u)_{x}*v/2 - 15*(u)_{xxx}*(v)_{x}*u/2 + 15*(u)_{xxx}*(v)_{x}*v/2 - 399*(u)_{xx}**2*u/8 - 57*(u)_{xx}**2*v/8 - 663*(u)_{xx}*(u)_{x}**2/8 - 61*(u)_{xx}*(u)_{x}*(v)_{x}/4 - 5*(u)_{xx}*(v)_{xx}*u/4 + 5*(u)_{xx}*(v)_{xx}*v/4 + 17*(u)_{xx}*(v)_{x}**2/8 - 3*(u)_{x}**2*(v)_{xx}/8 + 5*(u)_{x}*(v)_{xxx}*u - 5*(u)_{x}*(v)_{xxx}*v - 45*(u)_{x}*(v)_{xx}*(v)_{x}/4 + 15*(v)_{xxxx}*u**2/8 - 15*(v)_{xxxx}*u*v/4 - 105*(v)_{xxxx}*v**2/8 - 12*(v)_{xxx}*(v)_{x}*u - 84*(v)_{xxx}*(v)_{x}*v - 63*(v)_{xx}**2*u/8 - 441*(v)_{xx}**2*v/8 - 819*(v)_{xx}*(v)_{x}**2/8 + 5*u**4/2 + 5*v**4/2)*\\epsilon**8 + (-27*sqrt(2)*I*(u)_{xxx}*u**2/2 - sqrt(2)*I*(u)_{xxx}*u*v - sqrt(2)*I*(u)_{xxx}*v**2/2 - 243*sqrt(2)*I*(u)_{xx}*(u)_{x}*u/4 - 9*sqrt(2)*I*(u)_{xx}*(u)_{x}*v/4 - 3*sqrt(2)*I*(u)_{xx}*(v)_{x}*u/2 - 3*sqrt(2)*I*(u)_{xx}*(v)_{x}*v/2 - 135*sqrt(2)*I*(u)_{x}**3/8 - 9*sqrt(2)*I*(u)_{x}**2*(v)_{x}/8 + sqrt(2)*I*(u)_{x}*(v)_{xx}*u/2 + sqrt(2)*I*(u)_{x}*(v)_{xx}*v/2 + 3*sqrt(2)*I*(u)_{x}*(v)_{x}**2/8 + sqrt(2)*I*(v)_{xxx}*u**2/2 + sqrt(2)*I*(v)_{xxx}*u*v + 27*sqrt(2)*I*(v)_{xxx}*v**2/2 + 11*sqrt(2)*I*(v)_{xx}*(v)_{x}*u/4 + 297*sqrt(2)*I*(v)_{xx}*(v)_{x}*v/4 + 189*sqrt(2)*I*(v)_{x}**3/8)*\\epsilon**7 + (-7*(u)_{xxxxxx}*u/4 - 5*(u)_{xxxxxx}*v/4 - 27*(u)_{xxxxx}*(u)_{x}/4 - 15*(u)_{xxxxx}*(v)_{x}/4 - 55*(u)_{xxxx}*(u)_{xx}/4 - 15*(u)_{xxxx}*(v)_{xx}/4 - 69*(u)_{xxx}**2/8 - (u)_{xxx}*(v)_{xxx}/4 + 13*(u)_{xx}*(v)_{xxxx}/4 + 15*(u)_{xx}*u**2 + 25*(u)_{x}**2*u + 13*(u)_{x}*(v)_{xxxxx}/4 + 5*(v)_{xxxxxx}*u/4 + 7*(v)_{xxxxxx}*v/4 + 29*(v)_{xxxxx}*(v)_{x}/4 + 57*(v)_{xxxx}*(v)_{xx}/4 + 71*(v)_{xxx}**2/8 + 15*(v)_{xx}*v**2 + 35*(v)_{x}**2*v)*\\epsilon**6 + (-3*sqrt(2)*I*(u)_{xxxxx}*u - 10*sqrt(2)*I*(u)_{xxxx}*(u)_{x} - 17*sqrt(2)*I*(u)_{xxx}*(u)_{xx} + 15*sqrt(2)*I*(u)_{x}*u**2/4 - 3*sqrt(2)*I*(v)_{xxxxx}*v - 11*sqrt(2)*I*(v)_{xxxx}*(v)_{x} - 18*sqrt(2)*I*(v)_{xxx}*(v)_{xx} - 15*sqrt(2)*I*(v)_{x}*v**2/4)*\\epsilon**5 + (5*(u)_{xxxx}*u + 14*(u)_{xxx}*(u)_{x} + 19*(u)_{xx}**2/2 - 5*(v)_{xxxx}*v - 16*(v)_{xxx}*(v)_{x} - 21*(v)_{xx}**2/2)*\\epsilon**4 + (-sqrt(2)*I*(u)_{xxxxxxx}/4 + 2*sqrt(2)*I*(u)_{xxx}*u + 9*sqrt(2)*I*(u)_{xx}*(u)_{x}/2 + sqrt(2)*I*(v)_{xxxxxxx}/4 + 2*sqrt(2)*I*(v)_{xxx}*v + 11*sqrt(2)*I*(v)_{xx}*(v)_{x}/2)*\\epsilon**3 + ((u)_{xxxxxx}/2 + (v)_{xxxxxx}/2)*\\epsilon**2 + (sqrt(2)*I*(u)_{xxxxx}/4 + sqrt(2)*I*(u)_{x}*u/2 - sqrt(2)*I*(v)_{xxxxx}/4 + sqrt(2)*I*(v)_{x}*v/2)*\\epsilon + (sqrt(2)*I*(u)_{x}/8 - sqrt(2)*I*(v)_{x}/8)*(1/\\epsilon)**3 + (sqrt(2)*I*(u)_{xxx}/8 - sqrt(2)*I*(v)_{xxx}/8)*(1/\\epsilon), \\epsilon, 1/\\epsilon, domain='EX'))"
      ]
     },
     "metadata": {},
     "output_type": "display_data"
    },
    {
     "name": "stdout",
     "output_type": "stream",
     "text": [
      "n = 8\n"
     ]
    },
    {
     "data": {
      "text/latex": [
       "$\\displaystyle \\sigma_{8} = \\operatorname{Poly}{\\left( \\left(- \\frac{715 \\sqrt{2} i u^{9}}{8192} + \\frac{429 \\sqrt{2} i u^{8} v}{8192} + \\frac{33 \\sqrt{2} i u^{7} v^{2}}{2048} + \\frac{21 \\sqrt{2} i u^{6} v^{3}}{2048} + \\frac{35 \\sqrt{2} i u^{5} v^{4}}{4096} + \\frac{35 \\sqrt{2} i u^{4} v^{5}}{4096} + \\frac{21 \\sqrt{2} i u^{3} v^{6}}{2048} + \\frac{33 \\sqrt{2} i u^{2} v^{7}}{2048} + \\frac{429 \\sqrt{2} i u v^{8}}{8192} - \\frac{715 \\sqrt{2} i v^{9}}{8192}\\right) \\epsilon^{9} + \\left(4 (u)_{x} u^{7} - 4 (v)_{x} v^{7}\\right) \\epsilon^{8} + \\left(\\frac{3003 \\sqrt{2} i (u)_{xx} u^{6}}{512} + \\frac{693 \\sqrt{2} i (u)_{xx} u^{5} v}{256} + \\frac{945 \\sqrt{2} i (u)_{xx} u^{4} v^{2}}{512} + \\frac{175 \\sqrt{2} i (u)_{xx} u^{3} v^{3}}{128} + \\frac{525 \\sqrt{2} i (u)_{xx} u^{2} v^{4}}{512} + \\frac{189 \\sqrt{2} i (u)_{xx} u v^{5}}{256} + \\frac{231 \\sqrt{2} i (u)_{xx} v^{6}}{512} + \\frac{15015 \\sqrt{2} i (u)_{x}^{2} u^{5}}{512} + \\frac{5775 \\sqrt{2} i (u)_{x}^{2} u^{4} v}{512} + \\frac{1575 \\sqrt{2} i (u)_{x}^{2} u^{3} v^{2}}{256} + \\frac{875 \\sqrt{2} i (u)_{x}^{2} u^{2} v^{3}}{256} + \\frac{875 \\sqrt{2} i (u)_{x}^{2} u v^{4}}{512} + \\frac{315 \\sqrt{2} i (u)_{x}^{2} v^{5}}{512} + \\frac{693 \\sqrt{2} i (u)_{x} (v)_{x} u^{5}}{256} + \\frac{945 \\sqrt{2} i (u)_{x} (v)_{x} u^{4} v}{256} + \\frac{525 \\sqrt{2} i (u)_{x} (v)_{x} u^{3} v^{2}}{128} + \\frac{525 \\sqrt{2} i (u)_{x} (v)_{x} u^{2} v^{3}}{128} + \\frac{945 \\sqrt{2} i (u)_{x} (v)_{x} u v^{4}}{256} + \\frac{693 \\sqrt{2} i (u)_{x} (v)_{x} v^{5}}{256} - \\frac{231 \\sqrt{2} i (v)_{xx} u^{6}}{512} - \\frac{189 \\sqrt{2} i (v)_{xx} u^{5} v}{256} - \\frac{525 \\sqrt{2} i (v)_{xx} u^{4} v^{2}}{512} - \\frac{175 \\sqrt{2} i (v)_{xx} u^{3} v^{3}}{128} - \\frac{945 \\sqrt{2} i (v)_{xx} u^{2} v^{4}}{512} - \\frac{693 \\sqrt{2} i (v)_{xx} u v^{5}}{256} - \\frac{3003 \\sqrt{2} i (v)_{xx} v^{6}}{512} - \\frac{441 \\sqrt{2} i (v)_{x}^{2} u^{5}}{512} - \\frac{1225 \\sqrt{2} i (v)_{x}^{2} u^{4} v}{512} - \\frac{1225 \\sqrt{2} i (v)_{x}^{2} u^{3} v^{2}}{256} - \\frac{2205 \\sqrt{2} i (v)_{x}^{2} u^{2} v^{3}}{256} - \\frac{8085 \\sqrt{2} i (v)_{x}^{2} u v^{4}}{512} - \\frac{21021 \\sqrt{2} i (v)_{x}^{2} v^{5}}{512} + \\frac{429 \\sqrt{2} i u^{8}}{512} - \\frac{99 \\sqrt{2} i u^{7} v}{256} - \\frac{21 \\sqrt{2} i u^{6} v^{2}}{256} - \\frac{7 \\sqrt{2} i u^{5} v^{3}}{256} + \\frac{7 \\sqrt{2} i u^{3} v^{5}}{256} + \\frac{21 \\sqrt{2} i u^{2} v^{6}}{256} + \\frac{99 \\sqrt{2} i u v^{7}}{256} - \\frac{429 \\sqrt{2} i v^{8}}{512}\\right) \\epsilon^{7} + \\left(- 12 (u)_{xxx} u^{5} - 10 (u)_{xxx} u^{4} v - 8 (u)_{xxx} u^{3} v^{2} - 6 (u)_{xxx} u^{2} v^{3} - 4 (u)_{xxx} u v^{4} - 2 (u)_{xxx} v^{5} - 135 (u)_{xx} (u)_{x} u^{4} - 90 (u)_{xx} (u)_{x} u^{3} v - 54 (u)_{xx} (u)_{x} u^{2} v^{2} - 27 (u)_{xx} (u)_{x} u v^{3} - 9 (u)_{xx} (u)_{x} v^{4} - 15 (u)_{xx} (v)_{x} u^{4} - 24 (u)_{xx} (v)_{x} u^{3} v - 27 (u)_{xx} (v)_{x} u^{2} v^{2} - 24 (u)_{xx} (v)_{x} u v^{3} - 15 (u)_{xx} (v)_{x} v^{4} - 150 (u)_{x}^{3} u^{3} - 75 (u)_{x}^{3} u^{2} v - 30 (u)_{x}^{3} u v^{2} - \\frac{15 (u)_{x}^{3} v^{3}}{2} - 45 (u)_{x}^{2} (v)_{x} u^{3} - 54 (u)_{x}^{2} (v)_{x} u^{2} v - \\frac{81 (u)_{x}^{2} (v)_{x} u v^{2}}{2} - 18 (u)_{x}^{2} (v)_{x} v^{3} + 5 (u)_{x} (v)_{xx} u^{4} + 8 (u)_{x} (v)_{xx} u^{3} v + 9 (u)_{x} (v)_{xx} u^{2} v^{2} + 8 (u)_{x} (v)_{xx} u v^{3} + 5 (u)_{x} (v)_{xx} v^{4} + 6 (u)_{x} (v)_{x}^{2} u^{3} + \\frac{27 (u)_{x} (v)_{x}^{2} u^{2} v}{2} + 18 (u)_{x} (v)_{x}^{2} u v^{2} + 15 (u)_{x} (v)_{x}^{2} v^{3} - 28 (u)_{x} u^{6} + 2 (v)_{xxx} u^{5} + 4 (v)_{xxx} u^{4} v + 6 (v)_{xxx} u^{3} v^{2} + 8 (v)_{xxx} u^{2} v^{3} + 10 (v)_{xxx} u v^{4} + 12 (v)_{xxx} v^{5} + 11 (v)_{xx} (v)_{x} u^{4} + 33 (v)_{xx} (v)_{x} u^{3} v + 66 (v)_{xx} (v)_{x} u^{2} v^{2} + 110 (v)_{xx} (v)_{x} u v^{3} + 165 (v)_{xx} (v)_{x} v^{4} + \\frac{21 (v)_{x}^{3} u^{3}}{2} + 42 (v)_{x}^{3} u^{2} v + 105 (v)_{x}^{3} u v^{2} + 210 (v)_{x}^{3} v^{3} - 28 (v)_{x} v^{6}\\right) \\epsilon^{6} + \\left(- \\frac{1155 \\sqrt{2} i (u)_{xxxx} u^{4}}{128} - \\frac{315 \\sqrt{2} i (u)_{xxxx} u^{3} v}{32} - \\frac{525 \\sqrt{2} i (u)_{xxxx} u^{2} v^{2}}{64} - \\frac{175 \\sqrt{2} i (u)_{xxxx} u v^{3}}{32} - \\frac{315 \\sqrt{2} i (u)_{xxxx} v^{4}}{128} - \\frac{1617 \\sqrt{2} i (u)_{xxx} (u)_{x} u^{3}}{16} - \\frac{1323 \\sqrt{2} i (u)_{xxx} (u)_{x} u^{2} v}{16} - \\frac{735 \\sqrt{2} i (u)_{xxx} (u)_{x} u v^{2}}{16} - \\frac{245 \\sqrt{2} i (u)_{xxx} (u)_{x} v^{3}}{16} - \\frac{315 \\sqrt{2} i (u)_{xxx} (v)_{x} u^{3}}{16} - \\frac{525 \\sqrt{2} i (u)_{xxx} (v)_{x} u^{2} v}{16} - \\frac{525 \\sqrt{2} i (u)_{xxx} (v)_{x} u v^{2}}{16} - \\frac{315 \\sqrt{2} i (u)_{xxx} (v)_{x} v^{3}}{16} - \\frac{4389 \\sqrt{2} i (u)_{xx}^{2} u^{3}}{64} - \\frac{3591 \\sqrt{2} i (u)_{xx}^{2} u^{2} v}{64} - \\frac{1995 \\sqrt{2} i (u)_{xx}^{2} u v^{2}}{64} - \\frac{665 \\sqrt{2} i (u)_{xx}^{2} v^{3}}{64} - \\frac{21879 \\sqrt{2} i (u)_{xx} (u)_{x}^{2} u^{2}}{64} - \\frac{5967 \\sqrt{2} i (u)_{xx} (u)_{x}^{2} u v}{32} - \\frac{3315 \\sqrt{2} i (u)_{xx} (u)_{x}^{2} v^{2}}{64} - \\frac{3843 \\sqrt{2} i (u)_{xx} (u)_{x} (v)_{x} u^{2}}{32} - \\frac{2135 \\sqrt{2} i (u)_{xx} (u)_{x} (v)_{x} u v}{16} - \\frac{2135 \\sqrt{2} i (u)_{xx} (u)_{x} (v)_{x} v^{2}}{32} - \\frac{105 \\sqrt{2} i (u)_{xx} (v)_{xx} u^{3}}{32} - \\frac{175 \\sqrt{2} i (u)_{xx} (v)_{xx} u^{2} v}{32} - \\frac{175 \\sqrt{2} i (u)_{xx} (v)_{xx} u v^{2}}{32} - \\frac{105 \\sqrt{2} i (u)_{xx} (v)_{xx} v^{3}}{32} - \\frac{595 \\sqrt{2} i (u)_{xx} (v)_{x}^{2} u^{2}}{64} - \\frac{595 \\sqrt{2} i (u)_{xx} (v)_{x}^{2} u v}{32} - \\frac{1071 \\sqrt{2} i (u)_{xx} (v)_{x}^{2} v^{2}}{64} - \\frac{2079 \\sqrt{2} i (u)_{xx} u^{5}}{64} - \\frac{315 \\sqrt{2} i (u)_{xx} u^{4} v}{32} - \\frac{105 \\sqrt{2} i (u)_{xx} u^{3} v^{2}}{32} + \\frac{105 \\sqrt{2} i (u)_{xx} u v^{4}}{64} + \\frac{63 \\sqrt{2} i (u)_{xx} v^{5}}{32} - \\frac{12155 \\sqrt{2} i (u)_{x}^{4} u}{128} - \\frac{3315 \\sqrt{2} i (u)_{x}^{4} v}{128} - \\frac{1989 \\sqrt{2} i (u)_{x}^{3} (v)_{x} u}{32} - \\frac{1105 \\sqrt{2} i (u)_{x}^{3} (v)_{x} v}{32} - \\frac{189 \\sqrt{2} i (u)_{x}^{2} (v)_{xx} u^{2}}{64} - \\frac{105 \\sqrt{2} i (u)_{x}^{2} (v)_{xx} u v}{32} - \\frac{105 \\sqrt{2} i (u)_{x}^{2} (v)_{xx} v^{2}}{64} - \\frac{609 \\sqrt{2} i (u)_{x}^{2} (v)_{x}^{2} u}{64} - \\frac{609 \\sqrt{2} i (u)_{x}^{2} (v)_{x}^{2} v}{64} - \\frac{17325 \\sqrt{2} i (u)_{x}^{2} u^{4}}{128} - \\frac{525 \\sqrt{2} i (u)_{x}^{2} u^{3} v}{16} - \\frac{525 \\sqrt{2} i (u)_{x}^{2} u^{2} v^{2}}{64} + \\frac{175 \\sqrt{2} i (u)_{x}^{2} v^{4}}{128} + \\frac{105 \\sqrt{2} i (u)_{x} (v)_{xxx} u^{3}}{8} + \\frac{175 \\sqrt{2} i (u)_{x} (v)_{xxx} u^{2} v}{8} + \\frac{175 \\sqrt{2} i (u)_{x} (v)_{xxx} u v^{2}}{8} + \\frac{105 \\sqrt{2} i (u)_{x} (v)_{xxx} v^{3}}{8} + \\frac{1575 \\sqrt{2} i (u)_{x} (v)_{xx} (v)_{x} u^{2}}{32} + \\frac{1575 \\sqrt{2} i (u)_{x} (v)_{xx} (v)_{x} u v}{16} + \\frac{2835 \\sqrt{2} i (u)_{x} (v)_{xx} (v)_{x} v^{2}}{32} + \\frac{875 \\sqrt{2} i (u)_{x} (v)_{x}^{3} u}{32} + \\frac{1575 \\sqrt{2} i (u)_{x} (v)_{x}^{3} v}{32} - \\frac{315 \\sqrt{2} i (u)_{x} (v)_{x} u^{4}}{32} - \\frac{105 \\sqrt{2} i (u)_{x} (v)_{x} u^{3} v}{16} + \\frac{105 \\sqrt{2} i (u)_{x} (v)_{x} u v^{3}}{16} + \\frac{315 \\sqrt{2} i (u)_{x} (v)_{x} v^{4}}{32} + \\frac{315 \\sqrt{2} i (v)_{xxxx} u^{4}}{128} + \\frac{175 \\sqrt{2} i (v)_{xxxx} u^{3} v}{32} + \\frac{525 \\sqrt{2} i (v)_{xxxx} u^{2} v^{2}}{64} + \\frac{315 \\sqrt{2} i (v)_{xxxx} u v^{3}}{32} + \\frac{1155 \\sqrt{2} i (v)_{xxxx} v^{4}}{128} + \\frac{35 \\sqrt{2} i (v)_{xxx} (v)_{x} u^{3}}{2} + \\frac{105 \\sqrt{2} i (v)_{xxx} (v)_{x} u^{2} v}{2} + \\frac{189 \\sqrt{2} i (v)_{xxx} (v)_{x} u v^{2}}{2} + \\frac{231 \\sqrt{2} i (v)_{xxx} (v)_{x} v^{3}}{2} + \\frac{735 \\sqrt{2} i (v)_{xx}^{2} u^{3}}{64} + \\frac{2205 \\sqrt{2} i (v)_{xx}^{2} u^{2} v}{64} + \\frac{3969 \\sqrt{2} i (v)_{xx}^{2} u v^{2}}{64} + \\frac{4851 \\sqrt{2} i (v)_{xx}^{2} v^{3}}{64} + \\frac{4095 \\sqrt{2} i (v)_{xx} (v)_{x}^{2} u^{2}}{64} + \\frac{7371 \\sqrt{2} i (v)_{xx} (v)_{x}^{2} u v}{32} + \\frac{27027 \\sqrt{2} i (v)_{xx} (v)_{x}^{2} v^{2}}{64} + \\frac{63 \\sqrt{2} i (v)_{xx} u^{5}}{32} + \\frac{105 \\sqrt{2} i (v)_{xx} u^{4} v}{64} - \\frac{105 \\sqrt{2} i (v)_{xx} u^{2} v^{3}}{32} - \\frac{315 \\sqrt{2} i (v)_{xx} u v^{4}}{32} - \\frac{2079 \\sqrt{2} i (v)_{xx} v^{5}}{64} + \\frac{4389 \\sqrt{2} i (v)_{x}^{4} u}{128} + \\frac{16093 \\sqrt{2} i (v)_{x}^{4} v}{128} + \\frac{245 \\sqrt{2} i (v)_{x}^{2} u^{4}}{128} - \\frac{735 \\sqrt{2} i (v)_{x}^{2} u^{2} v^{2}}{64} - \\frac{735 \\sqrt{2} i (v)_{x}^{2} u v^{3}}{16} - \\frac{24255 \\sqrt{2} i (v)_{x}^{2} v^{4}}{128} - \\frac{1617 \\sqrt{2} i u^{7}}{512} + \\frac{525 \\sqrt{2} i u^{6} v}{512} + \\frac{63 \\sqrt{2} i u^{5} v^{2}}{512} + \\frac{5 \\sqrt{2} i u^{4} v^{3}}{512} + \\frac{5 \\sqrt{2} i u^{3} v^{4}}{512} + \\frac{63 \\sqrt{2} i u^{2} v^{5}}{512} + \\frac{525 \\sqrt{2} i u v^{6}}{512} - \\frac{1617 \\sqrt{2} i v^{7}}{512}\\right) \\epsilon^{5} + \\left(10 (u)_{xxxxx} u^{3} + 12 (u)_{xxxxx} u^{2} v + 9 (u)_{xxxxx} u v^{2} + 4 (u)_{xxxxx} v^{3} + 100 (u)_{xxxx} (u)_{x} u^{2} + 80 (u)_{xxxx} (u)_{x} u v + 30 (u)_{xxxx} (u)_{x} v^{2} + 30 (u)_{xxxx} (v)_{x} u^{2} + 45 (u)_{xxxx} (v)_{x} u v + 30 (u)_{xxxx} (v)_{x} v^{2} + 170 (u)_{xxx} (u)_{xx} u^{2} + 136 (u)_{xxx} (u)_{xx} u v + 51 (u)_{xxx} (u)_{xx} v^{2} + \\frac{1125 (u)_{xxx} (u)_{x}^{2} u}{4} + \\frac{225 (u)_{xxx} (u)_{x}^{2} v}{2} + 154 (u)_{xxx} (u)_{x} (v)_{x} u + \\frac{231 (u)_{xxx} (u)_{x} (v)_{x} v}{2} + 18 (u)_{xxx} (v)_{xx} u^{2} + 27 (u)_{xxx} (v)_{xx} u v + 18 (u)_{xxx} (v)_{xx} v^{2} + \\frac{123 (u)_{xxx} (v)_{x}^{2} u}{4} + 41 (u)_{xxx} (v)_{x}^{2} v + 50 (u)_{xxx} u^{4} + 24 (u)_{xxx} u^{3} v + 6 (u)_{xxx} u^{2} v^{2} - 4 (u)_{xxx} u v^{3} - 6 (u)_{xxx} v^{4} + \\frac{765 (u)_{xx}^{2} (u)_{x} u}{2} + 153 (u)_{xx}^{2} (u)_{x} v + 102 (u)_{xx}^{2} (v)_{x} u + \\frac{153 (u)_{xx}^{2} (v)_{x} v}{2} + \\frac{1695 (u)_{xx} (u)_{x}^{3}}{8} + \\frac{1287 (u)_{xx} (u)_{x}^{2} (v)_{x}}{8} + 60 (u)_{xx} (u)_{x} (v)_{xx} u + 45 (u)_{xx} (u)_{x} (v)_{xx} v + \\frac{429 (u)_{xx} (u)_{x} (v)_{x}^{2}}{8} + 450 (u)_{xx} (u)_{x} u^{3} + 162 (u)_{xx} (u)_{x} u^{2} v + 27 (u)_{xx} (u)_{x} u v^{2} - 9 (u)_{xx} (u)_{x} v^{3} - 12 (u)_{xx} (v)_{xxx} u^{2} - 18 (u)_{xx} (v)_{xxx} u v - 12 (u)_{xx} (v)_{xxx} v^{2} - 27 (u)_{xx} (v)_{xx} (v)_{x} u - 36 (u)_{xx} (v)_{xx} (v)_{x} v - \\frac{51 (u)_{xx} (v)_{x}^{3}}{8} + 36 (u)_{xx} (v)_{x} u^{3} + 18 (u)_{xx} (v)_{x} u^{2} v - 18 (u)_{xx} (v)_{x} u v^{2} - 36 (u)_{xx} (v)_{x} v^{3} + \\frac{105 (u)_{x}^{3} (v)_{xx}}{8} + 375 (u)_{x}^{3} u^{2} + 90 (u)_{x}^{3} u v + \\frac{15 (u)_{x}^{3} v^{2}}{2} - 25 (u)_{x}^{2} (v)_{xxx} u - \\frac{75 (u)_{x}^{2} (v)_{xxx} v}{4} - \\frac{255 (u)_{x}^{2} (v)_{xx} (v)_{x}}{8} + 81 (u)_{x}^{2} (v)_{x} u^{2} + 27 (u)_{x}^{2} (v)_{x} u v - \\frac{27 (u)_{x}^{2} (v)_{x} v^{2}}{2} - 24 (u)_{x} (v)_{xxxx} u^{2} - 36 (u)_{x} (v)_{xxxx} u v - 24 (u)_{x} (v)_{xxxx} v^{2} - \\frac{201 (u)_{x} (v)_{xxx} (v)_{x} u}{2} - 134 (u)_{x} (v)_{xxx} (v)_{x} v - \\frac{129 (u)_{x} (v)_{xx}^{2} u}{2} - 86 (u)_{x} (v)_{xx}^{2} v - \\frac{1173 (u)_{x} (v)_{xx} (v)_{x}^{2}}{8} - 12 (u)_{x} (v)_{xx} u^{3} - 6 (u)_{x} (v)_{xx} u^{2} v + 6 (u)_{x} (v)_{xx} u v^{2} + 12 (u)_{x} (v)_{xx} v^{3} - \\frac{9 (u)_{x} (v)_{x}^{2} u^{2}}{2} + 9 (u)_{x} (v)_{x}^{2} u v + 27 (u)_{x} (v)_{x}^{2} v^{2} + 72 (u)_{x} u^{5} - 4 (v)_{xxxxx} u^{3} - 9 (v)_{xxxxx} u^{2} v - 12 (v)_{xxxxx} u v^{2} - 10 (v)_{xxxxx} v^{3} - 33 (v)_{xxxx} (v)_{x} u^{2} - 88 (v)_{xxxx} (v)_{x} u v - 110 (v)_{xxxx} (v)_{x} v^{2} - 54 (v)_{xxx} (v)_{xx} u^{2} - 144 (v)_{xxx} (v)_{xx} u v - 180 (v)_{xxx} (v)_{xx} v^{2} - \\frac{261 (v)_{xxx} (v)_{x}^{2} u}{2} - \\frac{1305 (v)_{xxx} (v)_{x}^{2} v}{4} - 6 (v)_{xxx} u^{4} - 4 (v)_{xxx} u^{3} v + 6 (v)_{xxx} u^{2} v^{2} + 24 (v)_{xxx} u v^{3} + 50 (v)_{xxx} v^{4} - 173 (v)_{xx}^{2} (v)_{x} u - \\frac{865 (v)_{xx}^{2} (v)_{x} v}{2} - \\frac{2037 (v)_{xx} (v)_{x}^{3}}{8} - 11 (v)_{xx} (v)_{x} u^{3} + 33 (v)_{xx} (v)_{x} u^{2} v + 198 (v)_{xx} (v)_{x} u v^{2} + 550 (v)_{xx} (v)_{x} v^{3} + \\frac{21 (v)_{x}^{3} u^{2}}{2} + 126 (v)_{x}^{3} u v + 525 (v)_{x}^{3} v^{2} - 72 (v)_{x} v^{5}\\right) \\epsilon^{4} + \\left(\\frac{63 \\sqrt{2} i (u)_{xxxxxx} u^{2}}{16} + \\frac{35 \\sqrt{2} i (u)_{xxxxxx} u v}{8} + \\frac{35 \\sqrt{2} i (u)_{xxxxxx} v^{2}}{16} + \\frac{243 \\sqrt{2} i (u)_{xxxxx} (u)_{x} u}{8} + \\frac{135 \\sqrt{2} i (u)_{xxxxx} (u)_{x} v}{8} + \\frac{105 \\sqrt{2} i (u)_{xxxxx} (v)_{x} u}{8} + \\frac{105 \\sqrt{2} i (u)_{xxxxx} (v)_{x} v}{8} + \\frac{495 \\sqrt{2} i (u)_{xxxx} (u)_{xx} u}{8} + \\frac{275 \\sqrt{2} i (u)_{xxxx} (u)_{xx} v}{8} + \\frac{815 \\sqrt{2} i (u)_{xxxx} (u)_{x}^{2}}{16} + \\frac{325 \\sqrt{2} i (u)_{xxxx} (u)_{x} (v)_{x}}{8} + \\frac{105 \\sqrt{2} i (u)_{xxxx} (v)_{xx} u}{8} + \\frac{105 \\sqrt{2} i (u)_{xxxx} (v)_{xx} v}{8} + \\frac{215 \\sqrt{2} i (u)_{xxxx} (v)_{x}^{2}}{16} + \\frac{105 \\sqrt{2} i (u)_{xxxx} u^{3}}{4} + \\frac{105 \\sqrt{2} i (u)_{xxxx} u^{2} v}{8} - \\frac{35 \\sqrt{2} i (u)_{xxxx} v^{3}}{8} + \\frac{621 \\sqrt{2} i (u)_{xxx}^{2} u}{16} + \\frac{345 \\sqrt{2} i (u)_{xxx}^{2} v}{16} + \\frac{1391 \\sqrt{2} i (u)_{xxx} (u)_{xx} (u)_{x}}{8} + \\frac{537 \\sqrt{2} i (u)_{xxx} (u)_{xx} (v)_{x}}{8} + \\frac{241 \\sqrt{2} i (u)_{xxx} (u)_{x} (v)_{xx}}{8} + \\frac{441 \\sqrt{2} i (u)_{xxx} (u)_{x} u^{2}}{2} + \\frac{147 \\sqrt{2} i (u)_{xxx} (u)_{x} u v}{2} + \\frac{7 \\sqrt{2} i (u)_{xxx} (v)_{xxx} u}{8} + \\frac{7 \\sqrt{2} i (u)_{xxx} (v)_{xxx} v}{8} + \\frac{71 \\sqrt{2} i (u)_{xxx} (v)_{xx} (v)_{x}}{8} + \\frac{105 \\sqrt{2} i (u)_{xxx} (v)_{x} u^{2}}{4} - \\frac{105 \\sqrt{2} i (u)_{xxx} (v)_{x} v^{2}}{4} + \\frac{631 \\sqrt{2} i (u)_{xx}^{3}}{16} + \\frac{307 \\sqrt{2} i (u)_{xx}^{2} (v)_{xx}}{16} + \\frac{1197 \\sqrt{2} i (u)_{xx}^{2} u^{2}}{8} + \\frac{399 \\sqrt{2} i (u)_{xx}^{2} u v}{8} + \\frac{1989 \\sqrt{2} i (u)_{xx} (u)_{x}^{2} u}{4} + \\frac{663 \\sqrt{2} i (u)_{xx} (u)_{x}^{2} v}{8} - \\frac{31 \\sqrt{2} i (u)_{xx} (u)_{x} (v)_{xxx}}{8} + \\frac{427 \\sqrt{2} i (u)_{xx} (u)_{x} (v)_{x} u}{4} - \\frac{91 \\sqrt{2} i (u)_{xx} (v)_{xxxx} u}{8} - \\frac{91 \\sqrt{2} i (u)_{xx} (v)_{xxxx} v}{8} - \\frac{217 \\sqrt{2} i (u)_{xx} (v)_{xxx} (v)_{x}}{8} - \\frac{267 \\sqrt{2} i (u)_{xx} (v)_{xx}^{2}}{16} + \\frac{35 \\sqrt{2} i (u)_{xx} (v)_{xx} u^{2}}{8} - \\frac{35 \\sqrt{2} i (u)_{xx} (v)_{xx} v^{2}}{8} - \\frac{119 \\sqrt{2} i (u)_{xx} (v)_{x}^{2} v}{8} + \\frac{7875 \\sqrt{2} i (u)_{xx} u^{4}}{128} + \\frac{315 \\sqrt{2} i (u)_{xx} u^{3} v}{32} + \\frac{45 \\sqrt{2} i (u)_{xx} u^{2} v^{2}}{64} + \\frac{15 \\sqrt{2} i (u)_{xx} u v^{3}}{32} + \\frac{315 \\sqrt{2} i (u)_{xx} v^{4}}{128} + \\frac{1105 \\sqrt{2} i (u)_{x}^{4}}{16} + \\frac{221 \\sqrt{2} i (u)_{x}^{3} (v)_{x}}{8} - \\frac{167 \\sqrt{2} i (u)_{x}^{2} (v)_{xxxx}}{16} + \\frac{21 \\sqrt{2} i (u)_{x}^{2} (v)_{xx} u}{8} + \\frac{13125 \\sqrt{2} i (u)_{x}^{2} u^{3}}{64} + \\frac{1575 \\sqrt{2} i (u)_{x}^{2} u^{2} v}{64} + \\frac{75 \\sqrt{2} i (u)_{x}^{2} u v^{2}}{64} + \\frac{25 \\sqrt{2} i (u)_{x}^{2} v^{3}}{64} - \\frac{91 \\sqrt{2} i (u)_{x} (v)_{xxxxx} u}{8} - \\frac{91 \\sqrt{2} i (u)_{x} (v)_{xxxxx} v}{8} - \\frac{301 \\sqrt{2} i (u)_{x} (v)_{xxxx} (v)_{x}}{8} - \\frac{481 \\sqrt{2} i (u)_{x} (v)_{xxx} (v)_{xx}}{8} - \\frac{35 \\sqrt{2} i (u)_{x} (v)_{xxx} u^{2}}{2} + \\frac{35 \\sqrt{2} i (u)_{x} (v)_{xxx} v^{2}}{2} + \\frac{315 \\sqrt{2} i (u)_{x} (v)_{xx} (v)_{x} v}{4} + \\frac{175 \\sqrt{2} i (u)_{x} (v)_{x}^{3}}{8} + \\frac{315 \\sqrt{2} i (u)_{x} (v)_{x} u^{3}}{32} + \\frac{45 \\sqrt{2} i (u)_{x} (v)_{x} u^{2} v}{32} + \\frac{45 \\sqrt{2} i (u)_{x} (v)_{x} u v^{2}}{32} + \\frac{315 \\sqrt{2} i (u)_{x} (v)_{x} v^{3}}{32} - \\frac{35 \\sqrt{2} i (v)_{xxxxxx} u^{2}}{16} - \\frac{35 \\sqrt{2} i (v)_{xxxxxx} u v}{8} - \\frac{63 \\sqrt{2} i (v)_{xxxxxx} v^{2}}{16} - \\frac{145 \\sqrt{2} i (v)_{xxxxx} (v)_{x} u}{8} - \\frac{261 \\sqrt{2} i (v)_{xxxxx} (v)_{x} v}{8} - \\frac{285 \\sqrt{2} i (v)_{xxxx} (v)_{xx} u}{8} - \\frac{513 \\sqrt{2} i (v)_{xxxx} (v)_{xx} v}{8} - \\frac{911 \\sqrt{2} i (v)_{xxxx} (v)_{x}^{2}}{16} - \\frac{35 \\sqrt{2} i (v)_{xxxx} u^{3}}{8} + \\frac{105 \\sqrt{2} i (v)_{xxxx} u v^{2}}{8} + \\frac{105 \\sqrt{2} i (v)_{xxxx} v^{3}}{4} - \\frac{355 \\sqrt{2} i (v)_{xxx}^{2} u}{16} - \\frac{639 \\sqrt{2} i (v)_{xxx}^{2} v}{16} - \\frac{1511 \\sqrt{2} i (v)_{xxx} (v)_{xx} (v)_{x}}{8} + 84 \\sqrt{2} i (v)_{xxx} (v)_{x} u v + 252 \\sqrt{2} i (v)_{xxx} (v)_{x} v^{2} - \\frac{671 \\sqrt{2} i (v)_{xx}^{3}}{16} + \\frac{441 \\sqrt{2} i (v)_{xx}^{2} u v}{8} + \\frac{1323 \\sqrt{2} i (v)_{xx}^{2} v^{2}}{8} + \\frac{819 \\sqrt{2} i (v)_{xx} (v)_{x}^{2} u}{8} + \\frac{2457 \\sqrt{2} i (v)_{xx} (v)_{x}^{2} v}{4} - \\frac{315 \\sqrt{2} i (v)_{xx} u^{4}}{128} - \\frac{15 \\sqrt{2} i (v)_{xx} u^{3} v}{32} - \\frac{45 \\sqrt{2} i (v)_{xx} u^{2} v^{2}}{64} - \\frac{315 \\sqrt{2} i (v)_{xx} u v^{3}}{32} - \\frac{7875 \\sqrt{2} i (v)_{xx} v^{4}}{128} + \\frac{1463 \\sqrt{2} i (v)_{x}^{4}}{16} - \\frac{35 \\sqrt{2} i (v)_{x}^{2} u^{3}}{64} - \\frac{105 \\sqrt{2} i (v)_{x}^{2} u^{2} v}{64} - \\frac{2205 \\sqrt{2} i (v)_{x}^{2} u v^{2}}{64} - \\frac{18375 \\sqrt{2} i (v)_{x}^{2} v^{3}}{64} + \\frac{735 \\sqrt{2} i u^{6}}{128} - \\frac{35 \\sqrt{2} i u^{5} v}{32} - \\frac{5 \\sqrt{2} i u^{4} v^{2}}{128} + \\frac{5 \\sqrt{2} i u^{2} v^{4}}{128} + \\frac{35 \\sqrt{2} i u v^{5}}{32} - \\frac{735 \\sqrt{2} i v^{6}}{128}\\right) \\epsilon^{3} + \\left(- 2 (u)_{xxxxxxx} u - \\frac{3 (u)_{xxxxxxx} v}{2} - \\frac{35 (u)_{xxxxxx} (u)_{x}}{4} - \\frac{21 (u)_{xxxxxx} (v)_{x}}{4} - \\frac{83 (u)_{xxxxx} (u)_{xx}}{4} - \\frac{29 (u)_{xxxxx} (v)_{xx}}{4} - 18 (u)_{xxxxx} u^{2} - 6 (u)_{xxxxx} u v + 3 (u)_{xxxxx} v^{2} - \\frac{125 (u)_{xxxx} (u)_{xxx}}{4} - 120 (u)_{xxxx} (u)_{x} u - 20 (u)_{xxxx} (u)_{x} v - \\frac{15 (u)_{xxxx} (v)_{xxx}}{4} - 15 (u)_{xxxx} (v)_{x} u + 15 (u)_{xxxx} (v)_{x} v - 204 (u)_{xxx} (u)_{xx} u - 34 (u)_{xxx} (u)_{xx} v - \\frac{675 (u)_{xxx} (u)_{x}^{2}}{4} - \\frac{77 (u)_{xxx} (u)_{x} (v)_{x}}{2} + \\frac{13 (u)_{xxx} (v)_{xxxx}}{4} - 9 (u)_{xxx} (v)_{xx} u + 9 (u)_{xxx} (v)_{xx} v + \\frac{41 (u)_{xxx} (v)_{x}^{2}}{4} - 64 (u)_{xxx} u^{3} - 12 (u)_{xxx} u^{2} v - 4 (u)_{xxx} v^{3} - \\frac{459 (u)_{xx}^{2} (u)_{x}}{2} - \\frac{51 (u)_{xx}^{2} (v)_{x}}{2} - 15 (u)_{xx} (u)_{x} (v)_{xx} - 432 (u)_{xx} (u)_{x} u^{2} - 54 (u)_{xx} (u)_{x} u v + \\frac{27 (u)_{xx} (v)_{xxxxx}}{4} + 6 (u)_{xx} (v)_{xxx} u - 6 (u)_{xx} (v)_{xxx} v - 9 (u)_{xx} (v)_{xx} (v)_{x} - 18 (u)_{xx} (v)_{x} u^{2} - 18 (u)_{xx} (v)_{x} v^{2} - 240 (u)_{x}^{3} u - 15 (u)_{x}^{3} v + \\frac{25 (u)_{x}^{2} (v)_{xxx}}{4} - 27 (u)_{x}^{2} (v)_{x} u + \\frac{19 (u)_{x} (v)_{xxxxxx}}{4} + 12 (u)_{x} (v)_{xxxx} u - 12 (u)_{x} (v)_{xxxx} v - \\frac{67 (u)_{x} (v)_{xxx} (v)_{x}}{2} - \\frac{43 (u)_{x} (v)_{xx}^{2}}{2} + 6 (u)_{x} (v)_{xx} u^{2} + 6 (u)_{x} (v)_{xx} v^{2} + 9 (u)_{x} (v)_{x}^{2} v - 80 (u)_{x} u^{4} + \\frac{3 (v)_{xxxxxxx} u}{2} + 2 (v)_{xxxxxxx} v + \\frac{37 (v)_{xxxxxx} (v)_{x}}{4} + \\frac{85 (v)_{xxxxx} (v)_{xx}}{4} + 3 (v)_{xxxxx} u^{2} - 6 (v)_{xxxxx} u v - 18 (v)_{xxxxx} v^{2} + \\frac{127 (v)_{xxxx} (v)_{xxx}}{4} - 22 (v)_{xxxx} (v)_{x} u - 132 (v)_{xxxx} (v)_{x} v - 36 (v)_{xxx} (v)_{xx} u - 216 (v)_{xxx} (v)_{xx} v - \\frac{783 (v)_{xxx} (v)_{x}^{2}}{4} + 4 (v)_{xxx} u^{3} + 12 (v)_{xxx} u v^{2} + 64 (v)_{xxx} v^{3} - \\frac{519 (v)_{xx}^{2} (v)_{x}}{2} + 66 (v)_{xx} (v)_{x} u v + 528 (v)_{xx} (v)_{x} v^{2} + 21 (v)_{x}^{3} u + 336 (v)_{x}^{3} v - 80 (v)_{x} v^{4}\\right) \\epsilon^{2} + \\left(- \\frac{\\sqrt{2} i (u)_{xxxxxxxx}}{4} - \\frac{7 \\sqrt{2} i (u)_{xxxxxx} u}{2} - \\frac{27 \\sqrt{2} i (u)_{xxxxx} (u)_{x}}{2} - \\frac{55 \\sqrt{2} i (u)_{xxxx} (u)_{xx}}{2} - \\frac{315 \\sqrt{2} i (u)_{xxxx} u^{2}}{16} - \\frac{15 \\sqrt{2} i (u)_{xxxx} u v}{8} - \\frac{15 \\sqrt{2} i (u)_{xxxx} v^{2}}{16} - \\frac{69 \\sqrt{2} i (u)_{xxx}^{2}}{4} - \\frac{441 \\sqrt{2} i (u)_{xxx} (u)_{x} u}{4} - \\frac{21 \\sqrt{2} i (u)_{xxx} (u)_{x} v}{4} - \\frac{15 \\sqrt{2} i (u)_{xxx} (v)_{x} u}{4} - \\frac{15 \\sqrt{2} i (u)_{xxx} (v)_{x} v}{4} - \\frac{1197 \\sqrt{2} i (u)_{xx}^{2} u}{16} - \\frac{57 \\sqrt{2} i (u)_{xx}^{2} v}{16} - \\frac{1989 \\sqrt{2} i (u)_{xx} (u)_{x}^{2}}{16} - \\frac{61 \\sqrt{2} i (u)_{xx} (u)_{x} (v)_{x}}{8} - \\frac{5 \\sqrt{2} i (u)_{xx} (v)_{xx} u}{8} - \\frac{5 \\sqrt{2} i (u)_{xx} (v)_{xx} v}{8} - \\frac{17 \\sqrt{2} i (u)_{xx} (v)_{x}^{2}}{16} - \\frac{175 \\sqrt{2} i (u)_{xx} u^{3}}{4} - \\frac{15 \\sqrt{2} i (u)_{xx} u^{2} v}{8} + \\frac{5 \\sqrt{2} i (u)_{xx} v^{3}}{8} - \\frac{3 \\sqrt{2} i (u)_{x}^{2} (v)_{xx}}{16} - \\frac{875 \\sqrt{2} i (u)_{x}^{2} u^{2}}{8} - \\frac{25 \\sqrt{2} i (u)_{x}^{2} u v}{8} + \\frac{5 \\sqrt{2} i (u)_{x} (v)_{xxx} u}{2} + \\frac{5 \\sqrt{2} i (u)_{x} (v)_{xxx} v}{2} + \\frac{45 \\sqrt{2} i (u)_{x} (v)_{xx} (v)_{x}}{8} - \\frac{15 \\sqrt{2} i (u)_{x} (v)_{x} u^{2}}{8} + \\frac{15 \\sqrt{2} i (u)_{x} (v)_{x} v^{2}}{8} + \\frac{\\sqrt{2} i (v)_{xxxxxxxx}}{4} - \\frac{7 \\sqrt{2} i (v)_{xxxxxx} v}{2} - \\frac{29 \\sqrt{2} i (v)_{xxxxx} (v)_{x}}{2} - \\frac{57 \\sqrt{2} i (v)_{xxxx} (v)_{xx}}{2} + \\frac{15 \\sqrt{2} i (v)_{xxxx} u^{2}}{16} + \\frac{15 \\sqrt{2} i (v)_{xxxx} u v}{8} + \\frac{315 \\sqrt{2} i (v)_{xxxx} v^{2}}{16} - \\frac{71 \\sqrt{2} i (v)_{xxx}^{2}}{4} + 6 \\sqrt{2} i (v)_{xxx} (v)_{x} u + 126 \\sqrt{2} i (v)_{xxx} (v)_{x} v + \\frac{63 \\sqrt{2} i (v)_{xx}^{2} u}{16} + \\frac{1323 \\sqrt{2} i (v)_{xx}^{2} v}{16} + \\frac{2457 \\sqrt{2} i (v)_{xx} (v)_{x}^{2}}{16} + \\frac{5 \\sqrt{2} i (v)_{xx} u^{3}}{8} - \\frac{15 \\sqrt{2} i (v)_{xx} u v^{2}}{8} - \\frac{175 \\sqrt{2} i (v)_{xx} v^{3}}{4} - \\frac{35 \\sqrt{2} i (v)_{x}^{2} u v}{8} - \\frac{1225 \\sqrt{2} i (v)_{x}^{2} v^{2}}{8} - \\frac{1225 \\sqrt{2} i u^{5}}{256} + \\frac{75 \\sqrt{2} i u^{4} v}{256} - \\frac{\\sqrt{2} i u^{3} v^{2}}{128} - \\frac{\\sqrt{2} i u^{2} v^{3}}{128} + \\frac{75 \\sqrt{2} i u v^{4}}{256} - \\frac{1225 \\sqrt{2} i v^{5}}{256}\\right) \\epsilon + \\left(\\frac{5 \\sqrt{2} i u}{32} + \\frac{5 \\sqrt{2} i v}{32}\\right) \\frac{1}{\\epsilon^{7}} + \\left(\\frac{\\sqrt{2} i (u)_{xx}}{8} - \\frac{\\sqrt{2} i (v)_{xx}}{8} + \\frac{\\sqrt{2} i u^{2}}{8} - \\frac{\\sqrt{2} i v^{2}}{8}\\right) \\frac{1}{\\epsilon^{5}} + \\left(\\frac{\\sqrt{2} i (u)_{xxxx}}{8} + \\frac{3 \\sqrt{2} i (u)_{xx} u}{4} + \\frac{5 \\sqrt{2} i (u)_{x}^{2}}{8} - \\frac{\\sqrt{2} i (v)_{xxxx}}{8} + \\frac{3 \\sqrt{2} i (v)_{xx} v}{4} + \\frac{7 \\sqrt{2} i (v)_{x}^{2}}{8} + \\frac{7 \\sqrt{2} i u^{3}}{32} + \\frac{\\sqrt{2} i u^{2} v}{32} + \\frac{\\sqrt{2} i u v^{2}}{32} + \\frac{7 \\sqrt{2} i v^{3}}{32}\\right) \\frac{1}{\\epsilon^{3}} + \\left(\\frac{\\sqrt{2} i (u)_{xxxxxx}}{4} + \\frac{5 \\sqrt{2} i (u)_{xxxx} u}{2} + 7 \\sqrt{2} i (u)_{xxx} (u)_{x} + \\frac{19 \\sqrt{2} i (u)_{xx}^{2}}{4} + \\frac{225 \\sqrt{2} i (u)_{xx} u^{2}}{32} - \\frac{3 \\sqrt{2} i (u)_{xx} u v}{16} - \\frac{3 \\sqrt{2} i (u)_{xx} v^{2}}{32} + \\frac{375 \\sqrt{2} i (u)_{x}^{2} u}{32} - \\frac{5 \\sqrt{2} i (u)_{x}^{2} v}{32} - \\frac{3 \\sqrt{2} i (u)_{x} (v)_{x} u}{16} - \\frac{3 \\sqrt{2} i (u)_{x} (v)_{x} v}{16} - \\frac{\\sqrt{2} i (v)_{xxxxxx}}{4} + \\frac{5 \\sqrt{2} i (v)_{xxxx} v}{2} + 8 \\sqrt{2} i (v)_{xxx} (v)_{x} + \\frac{21 \\sqrt{2} i (v)_{xx}^{2}}{4} + \\frac{3 \\sqrt{2} i (v)_{xx} u^{2}}{32} + \\frac{3 \\sqrt{2} i (v)_{xx} u v}{16} - \\frac{225 \\sqrt{2} i (v)_{xx} v^{2}}{32} + \\frac{7 \\sqrt{2} i (v)_{x}^{2} u}{32} - \\frac{525 \\sqrt{2} i (v)_{x}^{2} v}{32} + \\frac{35 \\sqrt{2} i u^{4}}{32} + \\frac{\\sqrt{2} i u^{3} v}{16} - \\frac{\\sqrt{2} i u v^{3}}{16} - \\frac{35 \\sqrt{2} i v^{4}}{32}\\right) \\frac{1}{\\epsilon} + \\frac{(u)_{xxxxxxx}}{2} + 6 (u)_{xxxxx} u + 20 (u)_{xxxx} (u)_{x} + 34 (u)_{xxx} (u)_{xx} + 24 (u)_{xxx} u^{2} + 108 (u)_{xx} (u)_{x} u + 30 (u)_{x}^{3} + 32 (u)_{x} u^{3} + \\frac{(v)_{xxxxxxx}}{2} - 6 (v)_{xxxxx} v - 22 (v)_{xxxx} (v)_{x} - 36 (v)_{xxx} (v)_{xx} + 24 (v)_{xxx} v^{2} + 132 (v)_{xx} (v)_{x} v + 42 (v)_{x}^{3} - 32 (v)_{x} v^{3}, \\epsilon, \\frac{1}{\\epsilon}, domain=\\mathtt{\\text{EX}} \\right)}$"
      ],
      "text/plain": [
       "Eq(\\sigma_{8}, Poly((-715*sqrt(2)*I*u**9/8192 + 429*sqrt(2)*I*u**8*v/8192 + 33*sqrt(2)*I*u**7*v**2/2048 + 21*sqrt(2)*I*u**6*v**3/2048 + 35*sqrt(2)*I*u**5*v**4/4096 + 35*sqrt(2)*I*u**4*v**5/4096 + 21*sqrt(2)*I*u**3*v**6/2048 + 33*sqrt(2)*I*u**2*v**7/2048 + 429*sqrt(2)*I*u*v**8/8192 - 715*sqrt(2)*I*v**9/8192)*\\epsilon**9 + (4*(u)_{x}*u**7 - 4*(v)_{x}*v**7)*\\epsilon**8 + (3003*sqrt(2)*I*(u)_{xx}*u**6/512 + 693*sqrt(2)*I*(u)_{xx}*u**5*v/256 + 945*sqrt(2)*I*(u)_{xx}*u**4*v**2/512 + 175*sqrt(2)*I*(u)_{xx}*u**3*v**3/128 + 525*sqrt(2)*I*(u)_{xx}*u**2*v**4/512 + 189*sqrt(2)*I*(u)_{xx}*u*v**5/256 + 231*sqrt(2)*I*(u)_{xx}*v**6/512 + 15015*sqrt(2)*I*(u)_{x}**2*u**5/512 + 5775*sqrt(2)*I*(u)_{x}**2*u**4*v/512 + 1575*sqrt(2)*I*(u)_{x}**2*u**3*v**2/256 + 875*sqrt(2)*I*(u)_{x}**2*u**2*v**3/256 + 875*sqrt(2)*I*(u)_{x}**2*u*v**4/512 + 315*sqrt(2)*I*(u)_{x}**2*v**5/512 + 693*sqrt(2)*I*(u)_{x}*(v)_{x}*u**5/256 + 945*sqrt(2)*I*(u)_{x}*(v)_{x}*u**4*v/256 + 525*sqrt(2)*I*(u)_{x}*(v)_{x}*u**3*v**2/128 + 525*sqrt(2)*I*(u)_{x}*(v)_{x}*u**2*v**3/128 + 945*sqrt(2)*I*(u)_{x}*(v)_{x}*u*v**4/256 + 693*sqrt(2)*I*(u)_{x}*(v)_{x}*v**5/256 - 231*sqrt(2)*I*(v)_{xx}*u**6/512 - 189*sqrt(2)*I*(v)_{xx}*u**5*v/256 - 525*sqrt(2)*I*(v)_{xx}*u**4*v**2/512 - 175*sqrt(2)*I*(v)_{xx}*u**3*v**3/128 - 945*sqrt(2)*I*(v)_{xx}*u**2*v**4/512 - 693*sqrt(2)*I*(v)_{xx}*u*v**5/256 - 3003*sqrt(2)*I*(v)_{xx}*v**6/512 - 441*sqrt(2)*I*(v)_{x}**2*u**5/512 - 1225*sqrt(2)*I*(v)_{x}**2*u**4*v/512 - 1225*sqrt(2)*I*(v)_{x}**2*u**3*v**2/256 - 2205*sqrt(2)*I*(v)_{x}**2*u**2*v**3/256 - 8085*sqrt(2)*I*(v)_{x}**2*u*v**4/512 - 21021*sqrt(2)*I*(v)_{x}**2*v**5/512 + 429*sqrt(2)*I*u**8/512 - 99*sqrt(2)*I*u**7*v/256 - 21*sqrt(2)*I*u**6*v**2/256 - 7*sqrt(2)*I*u**5*v**3/256 + 7*sqrt(2)*I*u**3*v**5/256 + 21*sqrt(2)*I*u**2*v**6/256 + 99*sqrt(2)*I*u*v**7/256 - 429*sqrt(2)*I*v**8/512)*\\epsilon**7 + (-12*(u)_{xxx}*u**5 - 10*(u)_{xxx}*u**4*v - 8*(u)_{xxx}*u**3*v**2 - 6*(u)_{xxx}*u**2*v**3 - 4*(u)_{xxx}*u*v**4 - 2*(u)_{xxx}*v**5 - 135*(u)_{xx}*(u)_{x}*u**4 - 90*(u)_{xx}*(u)_{x}*u**3*v - 54*(u)_{xx}*(u)_{x}*u**2*v**2 - 27*(u)_{xx}*(u)_{x}*u*v**3 - 9*(u)_{xx}*(u)_{x}*v**4 - 15*(u)_{xx}*(v)_{x}*u**4 - 24*(u)_{xx}*(v)_{x}*u**3*v - 27*(u)_{xx}*(v)_{x}*u**2*v**2 - 24*(u)_{xx}*(v)_{x}*u*v**3 - 15*(u)_{xx}*(v)_{x}*v**4 - 150*(u)_{x}**3*u**3 - 75*(u)_{x}**3*u**2*v - 30*(u)_{x}**3*u*v**2 - 15*(u)_{x}**3*v**3/2 - 45*(u)_{x}**2*(v)_{x}*u**3 - 54*(u)_{x}**2*(v)_{x}*u**2*v - 81*(u)_{x}**2*(v)_{x}*u*v**2/2 - 18*(u)_{x}**2*(v)_{x}*v**3 + 5*(u)_{x}*(v)_{xx}*u**4 + 8*(u)_{x}*(v)_{xx}*u**3*v + 9*(u)_{x}*(v)_{xx}*u**2*v**2 + 8*(u)_{x}*(v)_{xx}*u*v**3 + 5*(u)_{x}*(v)_{xx}*v**4 + 6*(u)_{x}*(v)_{x}**2*u**3 + 27*(u)_{x}*(v)_{x}**2*u**2*v/2 + 18*(u)_{x}*(v)_{x}**2*u*v**2 + 15*(u)_{x}*(v)_{x}**2*v**3 - 28*(u)_{x}*u**6 + 2*(v)_{xxx}*u**5 + 4*(v)_{xxx}*u**4*v + 6*(v)_{xxx}*u**3*v**2 + 8*(v)_{xxx}*u**2*v**3 + 10*(v)_{xxx}*u*v**4 + 12*(v)_{xxx}*v**5 + 11*(v)_{xx}*(v)_{x}*u**4 + 33*(v)_{xx}*(v)_{x}*u**3*v + 66*(v)_{xx}*(v)_{x}*u**2*v**2 + 110*(v)_{xx}*(v)_{x}*u*v**3 + 165*(v)_{xx}*(v)_{x}*v**4 + 21*(v)_{x}**3*u**3/2 + 42*(v)_{x}**3*u**2*v + 105*(v)_{x}**3*u*v**2 + 210*(v)_{x}**3*v**3 - 28*(v)_{x}*v**6)*\\epsilon**6 + (-1155*sqrt(2)*I*(u)_{xxxx}*u**4/128 - 315*sqrt(2)*I*(u)_{xxxx}*u**3*v/32 - 525*sqrt(2)*I*(u)_{xxxx}*u**2*v**2/64 - 175*sqrt(2)*I*(u)_{xxxx}*u*v**3/32 - 315*sqrt(2)*I*(u)_{xxxx}*v**4/128 - 1617*sqrt(2)*I*(u)_{xxx}*(u)_{x}*u**3/16 - 1323*sqrt(2)*I*(u)_{xxx}*(u)_{x}*u**2*v/16 - 735*sqrt(2)*I*(u)_{xxx}*(u)_{x}*u*v**2/16 - 245*sqrt(2)*I*(u)_{xxx}*(u)_{x}*v**3/16 - 315*sqrt(2)*I*(u)_{xxx}*(v)_{x}*u**3/16 - 525*sqrt(2)*I*(u)_{xxx}*(v)_{x}*u**2*v/16 - 525*sqrt(2)*I*(u)_{xxx}*(v)_{x}*u*v**2/16 - 315*sqrt(2)*I*(u)_{xxx}*(v)_{x}*v**3/16 - 4389*sqrt(2)*I*(u)_{xx}**2*u**3/64 - 3591*sqrt(2)*I*(u)_{xx}**2*u**2*v/64 - 1995*sqrt(2)*I*(u)_{xx}**2*u*v**2/64 - 665*sqrt(2)*I*(u)_{xx}**2*v**3/64 - 21879*sqrt(2)*I*(u)_{xx}*(u)_{x}**2*u**2/64 - 5967*sqrt(2)*I*(u)_{xx}*(u)_{x}**2*u*v/32 - 3315*sqrt(2)*I*(u)_{xx}*(u)_{x}**2*v**2/64 - 3843*sqrt(2)*I*(u)_{xx}*(u)_{x}*(v)_{x}*u**2/32 - 2135*sqrt(2)*I*(u)_{xx}*(u)_{x}*(v)_{x}*u*v/16 - 2135*sqrt(2)*I*(u)_{xx}*(u)_{x}*(v)_{x}*v**2/32 - 105*sqrt(2)*I*(u)_{xx}*(v)_{xx}*u**3/32 - 175*sqrt(2)*I*(u)_{xx}*(v)_{xx}*u**2*v/32 - 175*sqrt(2)*I*(u)_{xx}*(v)_{xx}*u*v**2/32 - 105*sqrt(2)*I*(u)_{xx}*(v)_{xx}*v**3/32 - 595*sqrt(2)*I*(u)_{xx}*(v)_{x}**2*u**2/64 - 595*sqrt(2)*I*(u)_{xx}*(v)_{x}**2*u*v/32 - 1071*sqrt(2)*I*(u)_{xx}*(v)_{x}**2*v**2/64 - 2079*sqrt(2)*I*(u)_{xx}*u**5/64 - 315*sqrt(2)*I*(u)_{xx}*u**4*v/32 - 105*sqrt(2)*I*(u)_{xx}*u**3*v**2/32 + 105*sqrt(2)*I*(u)_{xx}*u*v**4/64 + 63*sqrt(2)*I*(u)_{xx}*v**5/32 - 12155*sqrt(2)*I*(u)_{x}**4*u/128 - 3315*sqrt(2)*I*(u)_{x}**4*v/128 - 1989*sqrt(2)*I*(u)_{x}**3*(v)_{x}*u/32 - 1105*sqrt(2)*I*(u)_{x}**3*(v)_{x}*v/32 - 189*sqrt(2)*I*(u)_{x}**2*(v)_{xx}*u**2/64 - 105*sqrt(2)*I*(u)_{x}**2*(v)_{xx}*u*v/32 - 105*sqrt(2)*I*(u)_{x}**2*(v)_{xx}*v**2/64 - 609*sqrt(2)*I*(u)_{x}**2*(v)_{x}**2*u/64 - 609*sqrt(2)*I*(u)_{x}**2*(v)_{x}**2*v/64 - 17325*sqrt(2)*I*(u)_{x}**2*u**4/128 - 525*sqrt(2)*I*(u)_{x}**2*u**3*v/16 - 525*sqrt(2)*I*(u)_{x}**2*u**2*v**2/64 + 175*sqrt(2)*I*(u)_{x}**2*v**4/128 + 105*sqrt(2)*I*(u)_{x}*(v)_{xxx}*u**3/8 + 175*sqrt(2)*I*(u)_{x}*(v)_{xxx}*u**2*v/8 + 175*sqrt(2)*I*(u)_{x}*(v)_{xxx}*u*v**2/8 + 105*sqrt(2)*I*(u)_{x}*(v)_{xxx}*v**3/8 + 1575*sqrt(2)*I*(u)_{x}*(v)_{xx}*(v)_{x}*u**2/32 + 1575*sqrt(2)*I*(u)_{x}*(v)_{xx}*(v)_{x}*u*v/16 + 2835*sqrt(2)*I*(u)_{x}*(v)_{xx}*(v)_{x}*v**2/32 + 875*sqrt(2)*I*(u)_{x}*(v)_{x}**3*u/32 + 1575*sqrt(2)*I*(u)_{x}*(v)_{x}**3*v/32 - 315*sqrt(2)*I*(u)_{x}*(v)_{x}*u**4/32 - 105*sqrt(2)*I*(u)_{x}*(v)_{x}*u**3*v/16 + 105*sqrt(2)*I*(u)_{x}*(v)_{x}*u*v**3/16 + 315*sqrt(2)*I*(u)_{x}*(v)_{x}*v**4/32 + 315*sqrt(2)*I*(v)_{xxxx}*u**4/128 + 175*sqrt(2)*I*(v)_{xxxx}*u**3*v/32 + 525*sqrt(2)*I*(v)_{xxxx}*u**2*v**2/64 + 315*sqrt(2)*I*(v)_{xxxx}*u*v**3/32 + 1155*sqrt(2)*I*(v)_{xxxx}*v**4/128 + 35*sqrt(2)*I*(v)_{xxx}*(v)_{x}*u**3/2 + 105*sqrt(2)*I*(v)_{xxx}*(v)_{x}*u**2*v/2 + 189*sqrt(2)*I*(v)_{xxx}*(v)_{x}*u*v**2/2 + 231*sqrt(2)*I*(v)_{xxx}*(v)_{x}*v**3/2 + 735*sqrt(2)*I*(v)_{xx}**2*u**3/64 + 2205*sqrt(2)*I*(v)_{xx}**2*u**2*v/64 + 3969*sqrt(2)*I*(v)_{xx}**2*u*v**2/64 + 4851*sqrt(2)*I*(v)_{xx}**2*v**3/64 + 4095*sqrt(2)*I*(v)_{xx}*(v)_{x}**2*u**2/64 + 7371*sqrt(2)*I*(v)_{xx}*(v)_{x}**2*u*v/32 + 27027*sqrt(2)*I*(v)_{xx}*(v)_{x}**2*v**2/64 + 63*sqrt(2)*I*(v)_{xx}*u**5/32 + 105*sqrt(2)*I*(v)_{xx}*u**4*v/64 - 105*sqrt(2)*I*(v)_{xx}*u**2*v**3/32 - 315*sqrt(2)*I*(v)_{xx}*u*v**4/32 - 2079*sqrt(2)*I*(v)_{xx}*v**5/64 + 4389*sqrt(2)*I*(v)_{x}**4*u/128 + 16093*sqrt(2)*I*(v)_{x}**4*v/128 + 245*sqrt(2)*I*(v)_{x}**2*u**4/128 - 735*sqrt(2)*I*(v)_{x}**2*u**2*v**2/64 - 735*sqrt(2)*I*(v)_{x}**2*u*v**3/16 - 24255*sqrt(2)*I*(v)_{x}**2*v**4/128 - 1617*sqrt(2)*I*u**7/512 + 525*sqrt(2)*I*u**6*v/512 + 63*sqrt(2)*I*u**5*v**2/512 + 5*sqrt(2)*I*u**4*v**3/512 + 5*sqrt(2)*I*u**3*v**4/512 + 63*sqrt(2)*I*u**2*v**5/512 + 525*sqrt(2)*I*u*v**6/512 - 1617*sqrt(2)*I*v**7/512)*\\epsilon**5 + (10*(u)_{xxxxx}*u**3 + 12*(u)_{xxxxx}*u**2*v + 9*(u)_{xxxxx}*u*v**2 + 4*(u)_{xxxxx}*v**3 + 100*(u)_{xxxx}*(u)_{x}*u**2 + 80*(u)_{xxxx}*(u)_{x}*u*v + 30*(u)_{xxxx}*(u)_{x}*v**2 + 30*(u)_{xxxx}*(v)_{x}*u**2 + 45*(u)_{xxxx}*(v)_{x}*u*v + 30*(u)_{xxxx}*(v)_{x}*v**2 + 170*(u)_{xxx}*(u)_{xx}*u**2 + 136*(u)_{xxx}*(u)_{xx}*u*v + 51*(u)_{xxx}*(u)_{xx}*v**2 + 1125*(u)_{xxx}*(u)_{x}**2*u/4 + 225*(u)_{xxx}*(u)_{x}**2*v/2 + 154*(u)_{xxx}*(u)_{x}*(v)_{x}*u + 231*(u)_{xxx}*(u)_{x}*(v)_{x}*v/2 + 18*(u)_{xxx}*(v)_{xx}*u**2 + 27*(u)_{xxx}*(v)_{xx}*u*v + 18*(u)_{xxx}*(v)_{xx}*v**2 + 123*(u)_{xxx}*(v)_{x}**2*u/4 + 41*(u)_{xxx}*(v)_{x}**2*v + 50*(u)_{xxx}*u**4 + 24*(u)_{xxx}*u**3*v + 6*(u)_{xxx}*u**2*v**2 - 4*(u)_{xxx}*u*v**3 - 6*(u)_{xxx}*v**4 + 765*(u)_{xx}**2*(u)_{x}*u/2 + 153*(u)_{xx}**2*(u)_{x}*v + 102*(u)_{xx}**2*(v)_{x}*u + 153*(u)_{xx}**2*(v)_{x}*v/2 + 1695*(u)_{xx}*(u)_{x}**3/8 + 1287*(u)_{xx}*(u)_{x}**2*(v)_{x}/8 + 60*(u)_{xx}*(u)_{x}*(v)_{xx}*u + 45*(u)_{xx}*(u)_{x}*(v)_{xx}*v + 429*(u)_{xx}*(u)_{x}*(v)_{x}**2/8 + 450*(u)_{xx}*(u)_{x}*u**3 + 162*(u)_{xx}*(u)_{x}*u**2*v + 27*(u)_{xx}*(u)_{x}*u*v**2 - 9*(u)_{xx}*(u)_{x}*v**3 - 12*(u)_{xx}*(v)_{xxx}*u**2 - 18*(u)_{xx}*(v)_{xxx}*u*v - 12*(u)_{xx}*(v)_{xxx}*v**2 - 27*(u)_{xx}*(v)_{xx}*(v)_{x}*u - 36*(u)_{xx}*(v)_{xx}*(v)_{x}*v - 51*(u)_{xx}*(v)_{x}**3/8 + 36*(u)_{xx}*(v)_{x}*u**3 + 18*(u)_{xx}*(v)_{x}*u**2*v - 18*(u)_{xx}*(v)_{x}*u*v**2 - 36*(u)_{xx}*(v)_{x}*v**3 + 105*(u)_{x}**3*(v)_{xx}/8 + 375*(u)_{x}**3*u**2 + 90*(u)_{x}**3*u*v + 15*(u)_{x}**3*v**2/2 - 25*(u)_{x}**2*(v)_{xxx}*u - 75*(u)_{x}**2*(v)_{xxx}*v/4 - 255*(u)_{x}**2*(v)_{xx}*(v)_{x}/8 + 81*(u)_{x}**2*(v)_{x}*u**2 + 27*(u)_{x}**2*(v)_{x}*u*v - 27*(u)_{x}**2*(v)_{x}*v**2/2 - 24*(u)_{x}*(v)_{xxxx}*u**2 - 36*(u)_{x}*(v)_{xxxx}*u*v - 24*(u)_{x}*(v)_{xxxx}*v**2 - 201*(u)_{x}*(v)_{xxx}*(v)_{x}*u/2 - 134*(u)_{x}*(v)_{xxx}*(v)_{x}*v - 129*(u)_{x}*(v)_{xx}**2*u/2 - 86*(u)_{x}*(v)_{xx}**2*v - 1173*(u)_{x}*(v)_{xx}*(v)_{x}**2/8 - 12*(u)_{x}*(v)_{xx}*u**3 - 6*(u)_{x}*(v)_{xx}*u**2*v + 6*(u)_{x}*(v)_{xx}*u*v**2 + 12*(u)_{x}*(v)_{xx}*v**3 - 9*(u)_{x}*(v)_{x}**2*u**2/2 + 9*(u)_{x}*(v)_{x}**2*u*v + 27*(u)_{x}*(v)_{x}**2*v**2 + 72*(u)_{x}*u**5 - 4*(v)_{xxxxx}*u**3 - 9*(v)_{xxxxx}*u**2*v - 12*(v)_{xxxxx}*u*v**2 - 10*(v)_{xxxxx}*v**3 - 33*(v)_{xxxx}*(v)_{x}*u**2 - 88*(v)_{xxxx}*(v)_{x}*u*v - 110*(v)_{xxxx}*(v)_{x}*v**2 - 54*(v)_{xxx}*(v)_{xx}*u**2 - 144*(v)_{xxx}*(v)_{xx}*u*v - 180*(v)_{xxx}*(v)_{xx}*v**2 - 261*(v)_{xxx}*(v)_{x}**2*u/2 - 1305*(v)_{xxx}*(v)_{x}**2*v/4 - 6*(v)_{xxx}*u**4 - 4*(v)_{xxx}*u**3*v + 6*(v)_{xxx}*u**2*v**2 + 24*(v)_{xxx}*u*v**3 + 50*(v)_{xxx}*v**4 - 173*(v)_{xx}**2*(v)_{x}*u - 865*(v)_{xx}**2*(v)_{x}*v/2 - 2037*(v)_{xx}*(v)_{x}**3/8 - 11*(v)_{xx}*(v)_{x}*u**3 + 33*(v)_{xx}*(v)_{x}*u**2*v + 198*(v)_{xx}*(v)_{x}*u*v**2 + 550*(v)_{xx}*(v)_{x}*v**3 + 21*(v)_{x}**3*u**2/2 + 126*(v)_{x}**3*u*v + 525*(v)_{x}**3*v**2 - 72*(v)_{x}*v**5)*\\epsilon**4 + (63*sqrt(2)*I*(u)_{xxxxxx}*u**2/16 + 35*sqrt(2)*I*(u)_{xxxxxx}*u*v/8 + 35*sqrt(2)*I*(u)_{xxxxxx}*v**2/16 + 243*sqrt(2)*I*(u)_{xxxxx}*(u)_{x}*u/8 + 135*sqrt(2)*I*(u)_{xxxxx}*(u)_{x}*v/8 + 105*sqrt(2)*I*(u)_{xxxxx}*(v)_{x}*u/8 + 105*sqrt(2)*I*(u)_{xxxxx}*(v)_{x}*v/8 + 495*sqrt(2)*I*(u)_{xxxx}*(u)_{xx}*u/8 + 275*sqrt(2)*I*(u)_{xxxx}*(u)_{xx}*v/8 + 815*sqrt(2)*I*(u)_{xxxx}*(u)_{x}**2/16 + 325*sqrt(2)*I*(u)_{xxxx}*(u)_{x}*(v)_{x}/8 + 105*sqrt(2)*I*(u)_{xxxx}*(v)_{xx}*u/8 + 105*sqrt(2)*I*(u)_{xxxx}*(v)_{xx}*v/8 + 215*sqrt(2)*I*(u)_{xxxx}*(v)_{x}**2/16 + 105*sqrt(2)*I*(u)_{xxxx}*u**3/4 + 105*sqrt(2)*I*(u)_{xxxx}*u**2*v/8 - 35*sqrt(2)*I*(u)_{xxxx}*v**3/8 + 621*sqrt(2)*I*(u)_{xxx}**2*u/16 + 345*sqrt(2)*I*(u)_{xxx}**2*v/16 + 1391*sqrt(2)*I*(u)_{xxx}*(u)_{xx}*(u)_{x}/8 + 537*sqrt(2)*I*(u)_{xxx}*(u)_{xx}*(v)_{x}/8 + 241*sqrt(2)*I*(u)_{xxx}*(u)_{x}*(v)_{xx}/8 + 441*sqrt(2)*I*(u)_{xxx}*(u)_{x}*u**2/2 + 147*sqrt(2)*I*(u)_{xxx}*(u)_{x}*u*v/2 + 7*sqrt(2)*I*(u)_{xxx}*(v)_{xxx}*u/8 + 7*sqrt(2)*I*(u)_{xxx}*(v)_{xxx}*v/8 + 71*sqrt(2)*I*(u)_{xxx}*(v)_{xx}*(v)_{x}/8 + 105*sqrt(2)*I*(u)_{xxx}*(v)_{x}*u**2/4 - 105*sqrt(2)*I*(u)_{xxx}*(v)_{x}*v**2/4 + 631*sqrt(2)*I*(u)_{xx}**3/16 + 307*sqrt(2)*I*(u)_{xx}**2*(v)_{xx}/16 + 1197*sqrt(2)*I*(u)_{xx}**2*u**2/8 + 399*sqrt(2)*I*(u)_{xx}**2*u*v/8 + 1989*sqrt(2)*I*(u)_{xx}*(u)_{x}**2*u/4 + 663*sqrt(2)*I*(u)_{xx}*(u)_{x}**2*v/8 - 31*sqrt(2)*I*(u)_{xx}*(u)_{x}*(v)_{xxx}/8 + 427*sqrt(2)*I*(u)_{xx}*(u)_{x}*(v)_{x}*u/4 - 91*sqrt(2)*I*(u)_{xx}*(v)_{xxxx}*u/8 - 91*sqrt(2)*I*(u)_{xx}*(v)_{xxxx}*v/8 - 217*sqrt(2)*I*(u)_{xx}*(v)_{xxx}*(v)_{x}/8 - 267*sqrt(2)*I*(u)_{xx}*(v)_{xx}**2/16 + 35*sqrt(2)*I*(u)_{xx}*(v)_{xx}*u**2/8 - 35*sqrt(2)*I*(u)_{xx}*(v)_{xx}*v**2/8 - 119*sqrt(2)*I*(u)_{xx}*(v)_{x}**2*v/8 + 7875*sqrt(2)*I*(u)_{xx}*u**4/128 + 315*sqrt(2)*I*(u)_{xx}*u**3*v/32 + 45*sqrt(2)*I*(u)_{xx}*u**2*v**2/64 + 15*sqrt(2)*I*(u)_{xx}*u*v**3/32 + 315*sqrt(2)*I*(u)_{xx}*v**4/128 + 1105*sqrt(2)*I*(u)_{x}**4/16 + 221*sqrt(2)*I*(u)_{x}**3*(v)_{x}/8 - 167*sqrt(2)*I*(u)_{x}**2*(v)_{xxxx}/16 + 21*sqrt(2)*I*(u)_{x}**2*(v)_{xx}*u/8 + 13125*sqrt(2)*I*(u)_{x}**2*u**3/64 + 1575*sqrt(2)*I*(u)_{x}**2*u**2*v/64 + 75*sqrt(2)*I*(u)_{x}**2*u*v**2/64 + 25*sqrt(2)*I*(u)_{x}**2*v**3/64 - 91*sqrt(2)*I*(u)_{x}*(v)_{xxxxx}*u/8 - 91*sqrt(2)*I*(u)_{x}*(v)_{xxxxx}*v/8 - 301*sqrt(2)*I*(u)_{x}*(v)_{xxxx}*(v)_{x}/8 - 481*sqrt(2)*I*(u)_{x}*(v)_{xxx}*(v)_{xx}/8 - 35*sqrt(2)*I*(u)_{x}*(v)_{xxx}*u**2/2 + 35*sqrt(2)*I*(u)_{x}*(v)_{xxx}*v**2/2 + 315*sqrt(2)*I*(u)_{x}*(v)_{xx}*(v)_{x}*v/4 + 175*sqrt(2)*I*(u)_{x}*(v)_{x}**3/8 + 315*sqrt(2)*I*(u)_{x}*(v)_{x}*u**3/32 + 45*sqrt(2)*I*(u)_{x}*(v)_{x}*u**2*v/32 + 45*sqrt(2)*I*(u)_{x}*(v)_{x}*u*v**2/32 + 315*sqrt(2)*I*(u)_{x}*(v)_{x}*v**3/32 - 35*sqrt(2)*I*(v)_{xxxxxx}*u**2/16 - 35*sqrt(2)*I*(v)_{xxxxxx}*u*v/8 - 63*sqrt(2)*I*(v)_{xxxxxx}*v**2/16 - 145*sqrt(2)*I*(v)_{xxxxx}*(v)_{x}*u/8 - 261*sqrt(2)*I*(v)_{xxxxx}*(v)_{x}*v/8 - 285*sqrt(2)*I*(v)_{xxxx}*(v)_{xx}*u/8 - 513*sqrt(2)*I*(v)_{xxxx}*(v)_{xx}*v/8 - 911*sqrt(2)*I*(v)_{xxxx}*(v)_{x}**2/16 - 35*sqrt(2)*I*(v)_{xxxx}*u**3/8 + 105*sqrt(2)*I*(v)_{xxxx}*u*v**2/8 + 105*sqrt(2)*I*(v)_{xxxx}*v**3/4 - 355*sqrt(2)*I*(v)_{xxx}**2*u/16 - 639*sqrt(2)*I*(v)_{xxx}**2*v/16 - 1511*sqrt(2)*I*(v)_{xxx}*(v)_{xx}*(v)_{x}/8 + 84*sqrt(2)*I*(v)_{xxx}*(v)_{x}*u*v + 252*sqrt(2)*I*(v)_{xxx}*(v)_{x}*v**2 - 671*sqrt(2)*I*(v)_{xx}**3/16 + 441*sqrt(2)*I*(v)_{xx}**2*u*v/8 + 1323*sqrt(2)*I*(v)_{xx}**2*v**2/8 + 819*sqrt(2)*I*(v)_{xx}*(v)_{x}**2*u/8 + 2457*sqrt(2)*I*(v)_{xx}*(v)_{x}**2*v/4 - 315*sqrt(2)*I*(v)_{xx}*u**4/128 - 15*sqrt(2)*I*(v)_{xx}*u**3*v/32 - 45*sqrt(2)*I*(v)_{xx}*u**2*v**2/64 - 315*sqrt(2)*I*(v)_{xx}*u*v**3/32 - 7875*sqrt(2)*I*(v)_{xx}*v**4/128 + 1463*sqrt(2)*I*(v)_{x}**4/16 - 35*sqrt(2)*I*(v)_{x}**2*u**3/64 - 105*sqrt(2)*I*(v)_{x}**2*u**2*v/64 - 2205*sqrt(2)*I*(v)_{x}**2*u*v**2/64 - 18375*sqrt(2)*I*(v)_{x}**2*v**3/64 + 735*sqrt(2)*I*u**6/128 - 35*sqrt(2)*I*u**5*v/32 - 5*sqrt(2)*I*u**4*v**2/128 + 5*sqrt(2)*I*u**2*v**4/128 + 35*sqrt(2)*I*u*v**5/32 - 735*sqrt(2)*I*v**6/128)*\\epsilon**3 + (-2*(u)_{xxxxxxx}*u - 3*(u)_{xxxxxxx}*v/2 - 35*(u)_{xxxxxx}*(u)_{x}/4 - 21*(u)_{xxxxxx}*(v)_{x}/4 - 83*(u)_{xxxxx}*(u)_{xx}/4 - 29*(u)_{xxxxx}*(v)_{xx}/4 - 18*(u)_{xxxxx}*u**2 - 6*(u)_{xxxxx}*u*v + 3*(u)_{xxxxx}*v**2 - 125*(u)_{xxxx}*(u)_{xxx}/4 - 120*(u)_{xxxx}*(u)_{x}*u - 20*(u)_{xxxx}*(u)_{x}*v - 15*(u)_{xxxx}*(v)_{xxx}/4 - 15*(u)_{xxxx}*(v)_{x}*u + 15*(u)_{xxxx}*(v)_{x}*v - 204*(u)_{xxx}*(u)_{xx}*u - 34*(u)_{xxx}*(u)_{xx}*v - 675*(u)_{xxx}*(u)_{x}**2/4 - 77*(u)_{xxx}*(u)_{x}*(v)_{x}/2 + 13*(u)_{xxx}*(v)_{xxxx}/4 - 9*(u)_{xxx}*(v)_{xx}*u + 9*(u)_{xxx}*(v)_{xx}*v + 41*(u)_{xxx}*(v)_{x}**2/4 - 64*(u)_{xxx}*u**3 - 12*(u)_{xxx}*u**2*v - 4*(u)_{xxx}*v**3 - 459*(u)_{xx}**2*(u)_{x}/2 - 51*(u)_{xx}**2*(v)_{x}/2 - 15*(u)_{xx}*(u)_{x}*(v)_{xx} - 432*(u)_{xx}*(u)_{x}*u**2 - 54*(u)_{xx}*(u)_{x}*u*v + 27*(u)_{xx}*(v)_{xxxxx}/4 + 6*(u)_{xx}*(v)_{xxx}*u - 6*(u)_{xx}*(v)_{xxx}*v - 9*(u)_{xx}*(v)_{xx}*(v)_{x} - 18*(u)_{xx}*(v)_{x}*u**2 - 18*(u)_{xx}*(v)_{x}*v**2 - 240*(u)_{x}**3*u - 15*(u)_{x}**3*v + 25*(u)_{x}**2*(v)_{xxx}/4 - 27*(u)_{x}**2*(v)_{x}*u + 19*(u)_{x}*(v)_{xxxxxx}/4 + 12*(u)_{x}*(v)_{xxxx}*u - 12*(u)_{x}*(v)_{xxxx}*v - 67*(u)_{x}*(v)_{xxx}*(v)_{x}/2 - 43*(u)_{x}*(v)_{xx}**2/2 + 6*(u)_{x}*(v)_{xx}*u**2 + 6*(u)_{x}*(v)_{xx}*v**2 + 9*(u)_{x}*(v)_{x}**2*v - 80*(u)_{x}*u**4 + 3*(v)_{xxxxxxx}*u/2 + 2*(v)_{xxxxxxx}*v + 37*(v)_{xxxxxx}*(v)_{x}/4 + 85*(v)_{xxxxx}*(v)_{xx}/4 + 3*(v)_{xxxxx}*u**2 - 6*(v)_{xxxxx}*u*v - 18*(v)_{xxxxx}*v**2 + 127*(v)_{xxxx}*(v)_{xxx}/4 - 22*(v)_{xxxx}*(v)_{x}*u - 132*(v)_{xxxx}*(v)_{x}*v - 36*(v)_{xxx}*(v)_{xx}*u - 216*(v)_{xxx}*(v)_{xx}*v - 783*(v)_{xxx}*(v)_{x}**2/4 + 4*(v)_{xxx}*u**3 + 12*(v)_{xxx}*u*v**2 + 64*(v)_{xxx}*v**3 - 519*(v)_{xx}**2*(v)_{x}/2 + 66*(v)_{xx}*(v)_{x}*u*v + 528*(v)_{xx}*(v)_{x}*v**2 + 21*(v)_{x}**3*u + 336*(v)_{x}**3*v - 80*(v)_{x}*v**4)*\\epsilon**2 + (-sqrt(2)*I*(u)_{xxxxxxxx}/4 - 7*sqrt(2)*I*(u)_{xxxxxx}*u/2 - 27*sqrt(2)*I*(u)_{xxxxx}*(u)_{x}/2 - 55*sqrt(2)*I*(u)_{xxxx}*(u)_{xx}/2 - 315*sqrt(2)*I*(u)_{xxxx}*u**2/16 - 15*sqrt(2)*I*(u)_{xxxx}*u*v/8 - 15*sqrt(2)*I*(u)_{xxxx}*v**2/16 - 69*sqrt(2)*I*(u)_{xxx}**2/4 - 441*sqrt(2)*I*(u)_{xxx}*(u)_{x}*u/4 - 21*sqrt(2)*I*(u)_{xxx}*(u)_{x}*v/4 - 15*sqrt(2)*I*(u)_{xxx}*(v)_{x}*u/4 - 15*sqrt(2)*I*(u)_{xxx}*(v)_{x}*v/4 - 1197*sqrt(2)*I*(u)_{xx}**2*u/16 - 57*sqrt(2)*I*(u)_{xx}**2*v/16 - 1989*sqrt(2)*I*(u)_{xx}*(u)_{x}**2/16 - 61*sqrt(2)*I*(u)_{xx}*(u)_{x}*(v)_{x}/8 - 5*sqrt(2)*I*(u)_{xx}*(v)_{xx}*u/8 - 5*sqrt(2)*I*(u)_{xx}*(v)_{xx}*v/8 - 17*sqrt(2)*I*(u)_{xx}*(v)_{x}**2/16 - 175*sqrt(2)*I*(u)_{xx}*u**3/4 - 15*sqrt(2)*I*(u)_{xx}*u**2*v/8 + 5*sqrt(2)*I*(u)_{xx}*v**3/8 - 3*sqrt(2)*I*(u)_{x}**2*(v)_{xx}/16 - 875*sqrt(2)*I*(u)_{x}**2*u**2/8 - 25*sqrt(2)*I*(u)_{x}**2*u*v/8 + 5*sqrt(2)*I*(u)_{x}*(v)_{xxx}*u/2 + 5*sqrt(2)*I*(u)_{x}*(v)_{xxx}*v/2 + 45*sqrt(2)*I*(u)_{x}*(v)_{xx}*(v)_{x}/8 - 15*sqrt(2)*I*(u)_{x}*(v)_{x}*u**2/8 + 15*sqrt(2)*I*(u)_{x}*(v)_{x}*v**2/8 + sqrt(2)*I*(v)_{xxxxxxxx}/4 - 7*sqrt(2)*I*(v)_{xxxxxx}*v/2 - 29*sqrt(2)*I*(v)_{xxxxx}*(v)_{x}/2 - 57*sqrt(2)*I*(v)_{xxxx}*(v)_{xx}/2 + 15*sqrt(2)*I*(v)_{xxxx}*u**2/16 + 15*sqrt(2)*I*(v)_{xxxx}*u*v/8 + 315*sqrt(2)*I*(v)_{xxxx}*v**2/16 - 71*sqrt(2)*I*(v)_{xxx}**2/4 + 6*sqrt(2)*I*(v)_{xxx}*(v)_{x}*u + 126*sqrt(2)*I*(v)_{xxx}*(v)_{x}*v + 63*sqrt(2)*I*(v)_{xx}**2*u/16 + 1323*sqrt(2)*I*(v)_{xx}**2*v/16 + 2457*sqrt(2)*I*(v)_{xx}*(v)_{x}**2/16 + 5*sqrt(2)*I*(v)_{xx}*u**3/8 - 15*sqrt(2)*I*(v)_{xx}*u*v**2/8 - 175*sqrt(2)*I*(v)_{xx}*v**3/4 - 35*sqrt(2)*I*(v)_{x}**2*u*v/8 - 1225*sqrt(2)*I*(v)_{x}**2*v**2/8 - 1225*sqrt(2)*I*u**5/256 + 75*sqrt(2)*I*u**4*v/256 - sqrt(2)*I*u**3*v**2/128 - sqrt(2)*I*u**2*v**3/128 + 75*sqrt(2)*I*u*v**4/256 - 1225*sqrt(2)*I*v**5/256)*\\epsilon + (5*sqrt(2)*I*u/32 + 5*sqrt(2)*I*v/32)*(1/\\epsilon)**7 + (sqrt(2)*I*(u)_{xx}/8 - sqrt(2)*I*(v)_{xx}/8 + sqrt(2)*I*u**2/8 - sqrt(2)*I*v**2/8)*(1/\\epsilon)**5 + (sqrt(2)*I*(u)_{xxxx}/8 + 3*sqrt(2)*I*(u)_{xx}*u/4 + 5*sqrt(2)*I*(u)_{x}**2/8 - sqrt(2)*I*(v)_{xxxx}/8 + 3*sqrt(2)*I*(v)_{xx}*v/4 + 7*sqrt(2)*I*(v)_{x}**2/8 + 7*sqrt(2)*I*u**3/32 + sqrt(2)*I*u**2*v/32 + sqrt(2)*I*u*v**2/32 + 7*sqrt(2)*I*v**3/32)*(1/\\epsilon)**3 + (sqrt(2)*I*(u)_{xxxxxx}/4 + 5*sqrt(2)*I*(u)_{xxxx}*u/2 + 7*sqrt(2)*I*(u)_{xxx}*(u)_{x} + 19*sqrt(2)*I*(u)_{xx}**2/4 + 225*sqrt(2)*I*(u)_{xx}*u**2/32 - 3*sqrt(2)*I*(u)_{xx}*u*v/16 - 3*sqrt(2)*I*(u)_{xx}*v**2/32 + 375*sqrt(2)*I*(u)_{x}**2*u/32 - 5*sqrt(2)*I*(u)_{x}**2*v/32 - 3*sqrt(2)*I*(u)_{x}*(v)_{x}*u/16 - 3*sqrt(2)*I*(u)_{x}*(v)_{x}*v/16 - sqrt(2)*I*(v)_{xxxxxx}/4 + 5*sqrt(2)*I*(v)_{xxxx}*v/2 + 8*sqrt(2)*I*(v)_{xxx}*(v)_{x} + 21*sqrt(2)*I*(v)_{xx}**2/4 + 3*sqrt(2)*I*(v)_{xx}*u**2/32 + 3*sqrt(2)*I*(v)_{xx}*u*v/16 - 225*sqrt(2)*I*(v)_{xx}*v**2/32 + 7*sqrt(2)*I*(v)_{x}**2*u/32 - 525*sqrt(2)*I*(v)_{x}**2*v/32 + 35*sqrt(2)*I*u**4/32 + sqrt(2)*I*u**3*v/16 - sqrt(2)*I*u*v**3/16 - 35*sqrt(2)*I*v**4/32)*(1/\\epsilon) + (u)_{xxxxxxx}/2 + 6*(u)_{xxxxx}*u + 20*(u)_{xxxx}*(u)_{x} + 34*(u)_{xxx}*(u)_{xx} + 24*(u)_{xxx}*u**2 + 108*(u)_{xx}*(u)_{x}*u + 30*(u)_{x}**3 + 32*(u)_{x}*u**3 + (v)_{xxxxxxx}/2 - 6*(v)_{xxxxx}*v - 22*(v)_{xxxx}*(v)_{x} - 36*(v)_{xxx}*(v)_{xx} + 24*(v)_{xxx}*v**2 + 132*(v)_{xx}*(v)_{x}*v + 42*(v)_{x}**3 - 32*(v)_{x}*v**3, \\epsilon, 1/\\epsilon, domain='EX'))"
      ]
     },
     "metadata": {},
     "output_type": "display_data"
    },
    {
     "name": "stdout",
     "output_type": "stream",
     "text": [
      "Warning: Substituting differentiable by non-differentiable symbol.\n"
     ]
    },
    {
     "ename": "KeyboardInterrupt",
     "evalue": "",
     "output_type": "error",
     "traceback": [
      "\u001b[1;31m---------------------------------------------------------------------------\u001b[0m",
      "\u001b[1;31mKeyboardInterrupt\u001b[0m                         Traceback (most recent call last)",
      "Cell \u001b[1;32mIn[16], line 5\u001b[0m\n\u001b[0;32m      3\u001b[0m \u001b[38;5;28mprint\u001b[39m(\u001b[38;5;124m\"\u001b[39m\u001b[38;5;124mn =\u001b[39m\u001b[38;5;124m\"\u001b[39m, n)\n\u001b[0;32m      4\u001b[0m display(Eq(sig_sym[n], polynomize(poly_simplify(sig_eq[n]))))\n\u001b[1;32m----> 5\u001b[0m display(Eq(sig_sym[n], polynomize(poly_simplify(\u001b[43mmulti_substituter\u001b[49m\u001b[43m(\u001b[49m\u001b[43msig_eq\u001b[49m\u001b[43m[\u001b[49m\u001b[43mn\u001b[49m\u001b[43m]\u001b[49m\u001b[43m,\u001b[49m\u001b[43m \u001b[49m\u001b[43m[\u001b[49m\u001b[43m(\u001b[49m\u001b[43mu\u001b[49m\u001b[43m,\u001b[49m\u001b[43m \u001b[49m\u001b[43mepsilon\u001b[49m\u001b[38;5;241;43m*\u001b[39;49m\u001b[38;5;241;43m*\u001b[39;49m\u001b[38;5;241;43m2\u001b[39;49m\u001b[43m \u001b[49m\u001b[38;5;241;43m*\u001b[39;49m\u001b[43m \u001b[49m\u001b[43mu\u001b[49m\u001b[43m)\u001b[49m\u001b[43m,\u001b[49m\u001b[43m \u001b[49m\u001b[43m(\u001b[49m\u001b[43mv\u001b[49m\u001b[43m,\u001b[49m\u001b[43m \u001b[49m\u001b[43mepsilon\u001b[49m\u001b[38;5;241;43m*\u001b[39;49m\u001b[38;5;241;43m*\u001b[39;49m\u001b[38;5;241;43m2\u001b[39;49m\u001b[43m \u001b[49m\u001b[38;5;241;43m*\u001b[39;49m\u001b[43m \u001b[49m\u001b[43mv\u001b[49m\u001b[43m)\u001b[49m\u001b[43m]\u001b[49m\u001b[43m)\u001b[49m))))\n",
      "Cell \u001b[1;32mIn[3], line 148\u001b[0m, in \u001b[0;36mmulti_substituter\u001b[1;34m(expr, data, magnitude, scale)\u001b[0m\n\u001b[0;32m    146\u001b[0m \u001b[38;5;28;01mdef\u001b[39;00m \u001b[38;5;21mmulti_substituter\u001b[39m(expr, data, magnitude\u001b[38;5;241m=\u001b[39m\u001b[38;5;241m1\u001b[39m, scale\u001b[38;5;241m=\u001b[39m\u001b[38;5;241m1\u001b[39m):\n\u001b[0;32m    147\u001b[0m     \u001b[38;5;28;01mfor\u001b[39;00m (var, sub) \u001b[38;5;129;01min\u001b[39;00m data:\n\u001b[1;32m--> 148\u001b[0m         expr \u001b[38;5;241m=\u001b[39m \u001b[43msubstituter\u001b[49m\u001b[43m(\u001b[49m\u001b[43mexpr\u001b[49m\u001b[43m,\u001b[49m\u001b[43m \u001b[49m\u001b[43mvar\u001b[49m\u001b[43m,\u001b[49m\u001b[43m \u001b[49m\u001b[43msub\u001b[49m\u001b[43m,\u001b[49m\u001b[43m \u001b[49m\u001b[43mmagnitude\u001b[49m\u001b[38;5;241;43m=\u001b[39;49m\u001b[43mmagnitude\u001b[49m\u001b[43m,\u001b[49m\u001b[43m \u001b[49m\u001b[43mscale\u001b[49m\u001b[38;5;241;43m=\u001b[39;49m\u001b[43mscale\u001b[49m\u001b[43m)\u001b[49m\n\u001b[0;32m    149\u001b[0m     \u001b[38;5;28;01mreturn\u001b[39;00m expr\n",
      "Cell \u001b[1;32mIn[3], line 132\u001b[0m, in \u001b[0;36msubstituter\u001b[1;34m(expr, var, sub, magnitude, scale)\u001b[0m\n\u001b[0;32m    130\u001b[0m dsub \u001b[38;5;241m=\u001b[39m simplify(deriv(sub))\n\u001b[0;32m    131\u001b[0m \u001b[38;5;66;03m#print(\"new sub variable from\", sub, \"to\", dsub)\u001b[39;00m\n\u001b[1;32m--> 132\u001b[0m expr \u001b[38;5;241m=\u001b[39m \u001b[43msimplify\u001b[49m\u001b[43m(\u001b[49m\u001b[43mexpr\u001b[49m\u001b[38;5;241;43m.\u001b[39;49m\u001b[43msubs\u001b[49m\u001b[43m(\u001b[49m\u001b[43mdvar\u001b[49m\u001b[43m,\u001b[49m\u001b[43m \u001b[49m\u001b[43mmagnitude\u001b[49m\u001b[43m \u001b[49m\u001b[38;5;241;43m*\u001b[39;49m\u001b[43m \u001b[49m\u001b[43mscale\u001b[49m\u001b[38;5;241;43m*\u001b[39;49m\u001b[38;5;241;43m*\u001b[39;49m\u001b[43mm\u001b[49m\u001b[43m \u001b[49m\u001b[38;5;241;43m*\u001b[39;49m\u001b[43m \u001b[49m\u001b[43mdsub\u001b[49m\u001b[43m)\u001b[49m\u001b[43m)\u001b[49m\n\u001b[0;32m    134\u001b[0m var \u001b[38;5;241m=\u001b[39m dvar\n\u001b[0;32m    135\u001b[0m sub \u001b[38;5;241m=\u001b[39m dsub\n",
      "File \u001b[1;32m~\\anaconda3\\lib\\site-packages\\sympy\\simplify\\simplify.py:753\u001b[0m, in \u001b[0;36msimplify\u001b[1;34m(expr, ratio, measure, rational, inverse, doit, **kwargs)\u001b[0m\n\u001b[0;32m    750\u001b[0m     \u001b[38;5;28;01mif\u001b[39;00m d \u001b[38;5;241m!=\u001b[39m \u001b[38;5;241m0\u001b[39m:\n\u001b[0;32m    751\u001b[0m         expr \u001b[38;5;241m=\u001b[39m signsimp(\u001b[38;5;241m-\u001b[39mn\u001b[38;5;241m/\u001b[39m(\u001b[38;5;241m-\u001b[39md))\n\u001b[1;32m--> 753\u001b[0m \u001b[38;5;28;01mif\u001b[39;00m \u001b[43mmeasure\u001b[49m\u001b[43m(\u001b[49m\u001b[43mexpr\u001b[49m\u001b[43m)\u001b[49m \u001b[38;5;241m>\u001b[39m ratio\u001b[38;5;241m*\u001b[39mmeasure(original_expr):\n\u001b[0;32m    754\u001b[0m     expr \u001b[38;5;241m=\u001b[39m original_expr\n\u001b[0;32m    756\u001b[0m \u001b[38;5;66;03m# restore floats\u001b[39;00m\n",
      "File \u001b[1;32m~\\anaconda3\\lib\\site-packages\\sympy\\core\\function.py:3169\u001b[0m, in \u001b[0;36mcount_ops\u001b[1;34m(expr, visual)\u001b[0m\n\u001b[0;32m   3167\u001b[0m     \u001b[38;5;28;01melse\u001b[39;00m:\n\u001b[0;32m   3168\u001b[0m         a \u001b[38;5;241m=\u001b[39m \u001b[38;5;241m-\u001b[39ma\n\u001b[1;32m-> 3169\u001b[0m n, d \u001b[38;5;241m=\u001b[39m \u001b[43mfraction\u001b[49m\u001b[43m(\u001b[49m\u001b[43ma\u001b[49m\u001b[43m)\u001b[49m\n\u001b[0;32m   3170\u001b[0m \u001b[38;5;28;01mif\u001b[39;00m n\u001b[38;5;241m.\u001b[39mis_Integer:\n\u001b[0;32m   3171\u001b[0m     ops\u001b[38;5;241m.\u001b[39mappend(DIV)\n",
      "File \u001b[1;32m~\\anaconda3\\lib\\site-packages\\sympy\\simplify\\radsimp.py:1141\u001b[0m, in \u001b[0;36mfraction\u001b[1;34m(expr, exact)\u001b[0m\n\u001b[0;32m   1139\u001b[0m     \u001b[38;5;28;01melse\u001b[39;00m:\n\u001b[0;32m   1140\u001b[0m         numer\u001b[38;5;241m.\u001b[39mappend(term)\n\u001b[1;32m-> 1141\u001b[0m \u001b[38;5;28;01mreturn\u001b[39;00m \u001b[43mMul\u001b[49m\u001b[43m(\u001b[49m\u001b[38;5;241;43m*\u001b[39;49m\u001b[43mnumer\u001b[49m\u001b[43m,\u001b[49m\u001b[43m \u001b[49m\u001b[43mevaluate\u001b[49m\u001b[38;5;241;43m=\u001b[39;49m\u001b[38;5;129;43;01mnot\u001b[39;49;00m\u001b[43m \u001b[49m\u001b[43mexact\u001b[49m\u001b[43m)\u001b[49m, Mul(\u001b[38;5;241m*\u001b[39mdenom, evaluate\u001b[38;5;241m=\u001b[39m\u001b[38;5;129;01mnot\u001b[39;00m exact)\n",
      "File \u001b[1;32m~\\anaconda3\\lib\\site-packages\\sympy\\core\\cache.py:70\u001b[0m, in \u001b[0;36m__cacheit.<locals>.func_wrapper.<locals>.wrapper\u001b[1;34m(*args, **kwargs)\u001b[0m\n\u001b[0;32m     67\u001b[0m \u001b[38;5;129m@wraps\u001b[39m(func)\n\u001b[0;32m     68\u001b[0m \u001b[38;5;28;01mdef\u001b[39;00m \u001b[38;5;21mwrapper\u001b[39m(\u001b[38;5;241m*\u001b[39margs, \u001b[38;5;241m*\u001b[39m\u001b[38;5;241m*\u001b[39mkwargs):\n\u001b[0;32m     69\u001b[0m     \u001b[38;5;28;01mtry\u001b[39;00m:\n\u001b[1;32m---> 70\u001b[0m         retval \u001b[38;5;241m=\u001b[39m cfunc(\u001b[38;5;241m*\u001b[39margs, \u001b[38;5;241m*\u001b[39m\u001b[38;5;241m*\u001b[39mkwargs)\n\u001b[0;32m     71\u001b[0m     \u001b[38;5;28;01mexcept\u001b[39;00m \u001b[38;5;167;01mTypeError\u001b[39;00m \u001b[38;5;28;01mas\u001b[39;00m e:\n\u001b[0;32m     72\u001b[0m         \u001b[38;5;28;01mif\u001b[39;00m \u001b[38;5;129;01mnot\u001b[39;00m e\u001b[38;5;241m.\u001b[39margs \u001b[38;5;129;01mor\u001b[39;00m \u001b[38;5;129;01mnot\u001b[39;00m e\u001b[38;5;241m.\u001b[39margs[\u001b[38;5;241m0\u001b[39m]\u001b[38;5;241m.\u001b[39mstartswith(\u001b[38;5;124m'\u001b[39m\u001b[38;5;124munhashable type:\u001b[39m\u001b[38;5;124m'\u001b[39m):\n",
      "File \u001b[1;32m~\\anaconda3\\lib\\site-packages\\sympy\\core\\operations.py:98\u001b[0m, in \u001b[0;36mAssocOp.__new__\u001b[1;34m(cls, evaluate, _sympify, *args)\u001b[0m\n\u001b[0;32m     95\u001b[0m \u001b[38;5;28;01mif\u001b[39;00m \u001b[38;5;28mlen\u001b[39m(args) \u001b[38;5;241m==\u001b[39m \u001b[38;5;241m1\u001b[39m:\n\u001b[0;32m     96\u001b[0m     \u001b[38;5;28;01mreturn\u001b[39;00m args[\u001b[38;5;241m0\u001b[39m]\n\u001b[1;32m---> 98\u001b[0m c_part, nc_part, order_symbols \u001b[38;5;241m=\u001b[39m \u001b[38;5;28;43mcls\u001b[39;49m\u001b[38;5;241;43m.\u001b[39;49m\u001b[43mflatten\u001b[49m\u001b[43m(\u001b[49m\u001b[43margs\u001b[49m\u001b[43m)\u001b[49m\n\u001b[0;32m     99\u001b[0m is_commutative \u001b[38;5;241m=\u001b[39m \u001b[38;5;129;01mnot\u001b[39;00m nc_part\n\u001b[0;32m    100\u001b[0m obj \u001b[38;5;241m=\u001b[39m \u001b[38;5;28mcls\u001b[39m\u001b[38;5;241m.\u001b[39m_from_args(c_part \u001b[38;5;241m+\u001b[39m nc_part, is_commutative)\n",
      "File \u001b[1;32m~\\anaconda3\\lib\\site-packages\\sympy\\core\\mul.py:482\u001b[0m, in \u001b[0;36mMul.flatten\u001b[1;34m(cls, seq)\u001b[0m\n\u001b[0;32m    479\u001b[0m     \u001b[38;5;28;01mreturn\u001b[39;00m new_c_powers\n\u001b[0;32m    481\u001b[0m \u001b[38;5;66;03m# in c_powers\u001b[39;00m\n\u001b[1;32m--> 482\u001b[0m c_powers \u001b[38;5;241m=\u001b[39m \u001b[43m_gather\u001b[49m\u001b[43m(\u001b[49m\u001b[43mc_powers\u001b[49m\u001b[43m)\u001b[49m\n\u001b[0;32m    484\u001b[0m \u001b[38;5;66;03m# and in num_exp\u001b[39;00m\n\u001b[0;32m    485\u001b[0m num_exp \u001b[38;5;241m=\u001b[39m _gather(num_exp)\n",
      "File \u001b[1;32m~\\anaconda3\\lib\\site-packages\\sympy\\core\\mul.py:478\u001b[0m, in \u001b[0;36mMul.flatten.<locals>._gather\u001b[1;34m(c_powers)\u001b[0m\n\u001b[0;32m    476\u001b[0m new_c_powers \u001b[38;5;241m=\u001b[39m []\n\u001b[0;32m    477\u001b[0m \u001b[38;5;28;01mfor\u001b[39;00m b, e \u001b[38;5;129;01min\u001b[39;00m common_b\u001b[38;5;241m.\u001b[39mitems():\n\u001b[1;32m--> 478\u001b[0m     \u001b[43mnew_c_powers\u001b[49m\u001b[38;5;241;43m.\u001b[39;49m\u001b[43mextend\u001b[49m\u001b[43m(\u001b[49m\u001b[43m[\u001b[49m\u001b[43m(\u001b[49m\u001b[43mb\u001b[49m\u001b[43m,\u001b[49m\u001b[43m \u001b[49m\u001b[43mc\u001b[49m\u001b[38;5;241;43m*\u001b[39;49m\u001b[43mt\u001b[49m\u001b[43m)\u001b[49m\u001b[43m \u001b[49m\u001b[38;5;28;43;01mfor\u001b[39;49;00m\u001b[43m \u001b[49m\u001b[43mt\u001b[49m\u001b[43m,\u001b[49m\u001b[43m \u001b[49m\u001b[43mc\u001b[49m\u001b[43m \u001b[49m\u001b[38;5;129;43;01min\u001b[39;49;00m\u001b[43m \u001b[49m\u001b[43me\u001b[49m\u001b[38;5;241;43m.\u001b[39;49m\u001b[43mitems\u001b[49m\u001b[43m(\u001b[49m\u001b[43m)\u001b[49m\u001b[43m]\u001b[49m\u001b[43m)\u001b[49m\n\u001b[0;32m    479\u001b[0m \u001b[38;5;28;01mreturn\u001b[39;00m new_c_powers\n",
      "\u001b[1;31mKeyboardInterrupt\u001b[0m: "
     ]
    }
   ],
   "source": [
    "N = 10\n",
    "for n in range(N):\n",
    "    print(\"n =\", n)\n",
    "    display(Eq(sig_sym[n], polynomize(poly_simplify(sig_eq[n]))))\n",
    "    display(Eq(sig_sym[n], polynomize(poly_simplify(multi_substituter(sig_eq[n], [(u, epsilon**2 * u), (v, epsilon**2 * v)])))))   "
   ]
  },
  {
   "cell_type": "code",
   "execution_count": 63,
   "id": "50098c5a",
   "metadata": {},
   "outputs": [
    {
     "name": "stdout",
     "output_type": "stream",
     "text": [
      "n = 0\n"
     ]
    },
    {
     "data": {
      "text/latex": [
       "$\\displaystyle \\text{KdV}(u) = 0$"
      ],
      "text/plain": [
       "Eq(\\text{KdV}(u), 0)"
      ]
     },
     "metadata": {},
     "output_type": "display_data"
    },
    {
     "data": {
      "text/latex": [
       "$\\displaystyle \\text{KdV}(\\text{Miura}(v)) = 0$"
      ],
      "text/plain": [
       "Eq(\\text{KdV}(\\text{Miura}(v)), 0)"
      ]
     },
     "metadata": {},
     "output_type": "display_data"
    },
    {
     "data": {
      "text/latex": [
       "$\\displaystyle \\text{mKdV}(v) = - v$"
      ],
      "text/plain": [
       "Eq(\\text{mKdV}(v), -v)"
      ]
     },
     "metadata": {},
     "output_type": "display_data"
    },
    {
     "data": {
      "text/latex": [
       "$\\displaystyle (\\text{mKdV}(v))_{x} + 2 \\cdot v \\cdot \\text{mKdV}(v) = - (v)_{x} - 2 v^{2}$"
      ],
      "text/plain": [
       "Eq((\\text{mKdV}(v))_{x} + 2 \\cdot v \\cdot \\text{mKdV}(v), -(v)_{x} - 2*v**2)"
      ]
     },
     "metadata": {},
     "output_type": "display_data"
    },
    {
     "data": {
      "text/latex": [
       "$\\displaystyle (\\text{mKdV}(v))_{x} + 2 \\cdot v \\cdot \\text{mKdV}(v) - \\text{KdV}(\\text{Miura}(v)) = - (v)_{x} - 2 v^{2}$"
      ],
      "text/plain": [
       "Eq((\\text{mKdV}(v))_{x} + 2 \\cdot v \\cdot \\text{mKdV}(v) - \\text{KdV}(\\text{Miura}(v)), -(v)_{x} - 2*v**2)"
      ]
     },
     "metadata": {},
     "output_type": "display_data"
    },
    {
     "name": "stdout",
     "output_type": "stream",
     "text": [
      "n = 2\n"
     ]
    },
    {
     "data": {
      "text/latex": [
       "$\\displaystyle \\text{KdV}(u) = - (u)_{x}$"
      ],
      "text/plain": [
       "Eq(\\text{KdV}(u), -(u)_{x})"
      ]
     },
     "metadata": {},
     "output_type": "display_data"
    },
    {
     "data": {
      "text/latex": [
       "$\\displaystyle \\text{KdV}(\\text{Miura}(v)) = - (v)_{xx} - 2 (v)_{x} v$"
      ],
      "text/plain": [
       "Eq(\\text{KdV}(\\text{Miura}(v)), -(v)_{xx} - 2*(v)_{x}*v)"
      ]
     },
     "metadata": {},
     "output_type": "display_data"
    },
    {
     "data": {
      "text/latex": [
       "$\\displaystyle \\text{mKdV}(v) = - (v)_{xx} + 2 v^{3} - 2 v$"
      ],
      "text/plain": [
       "Eq(\\text{mKdV}(v), -(v)_{xx} + 2*v**3 - 2*v)"
      ]
     },
     "metadata": {},
     "output_type": "display_data"
    },
    {
     "data": {
      "text/latex": [
       "$\\displaystyle (\\text{mKdV}(v))_{x} + 2 \\cdot v \\cdot \\text{mKdV}(v) = - (v)_{xxx} + 2 (v)_{x} \\left(3 v^{2} - 1\\right) - 2 v \\left((v)_{xx} - 2 v^{3} + 2 v\\right)$"
      ],
      "text/plain": [
       "Eq((\\text{mKdV}(v))_{x} + 2 \\cdot v \\cdot \\text{mKdV}(v), -(v)_{xxx} + 2*(v)_{x}*(3*v**2 - 1) - 2*v*((v)_{xx} - 2*v**3 + 2*v))"
      ]
     },
     "metadata": {},
     "output_type": "display_data"
    },
    {
     "data": {
      "text/latex": [
       "$\\displaystyle (\\text{mKdV}(v))_{x} + 2 \\cdot v \\cdot \\text{mKdV}(v) - \\text{KdV}(\\text{Miura}(v)) = - (v)_{xxx} + (v)_{xx} + 2 (v)_{x} v + 2 (v)_{x} \\left(3 v^{2} - 1\\right) - 2 v \\left((v)_{xx} - 2 v^{3} + 2 v\\right)$"
      ],
      "text/plain": [
       "Eq((\\text{mKdV}(v))_{x} + 2 \\cdot v \\cdot \\text{mKdV}(v) - \\text{KdV}(\\text{Miura}(v)), -(v)_{xxx} + (v)_{xx} + 2*(v)_{x}*v + 2*(v)_{x}*(3*v**2 - 1) - 2*v*((v)_{xx} - 2*v**3 + 2*v))"
      ]
     },
     "metadata": {},
     "output_type": "display_data"
    },
    {
     "name": "stdout",
     "output_type": "stream",
     "text": [
      "n = 4\n"
     ]
    },
    {
     "data": {
      "text/latex": [
       "$\\displaystyle \\text{KdV}(u) = - (u)_{xxx} + 6 (u)_{x} u$"
      ],
      "text/plain": [
       "Eq(\\text{KdV}(u), -(u)_{xxx} + 6*(u)_{x}*u)"
      ]
     },
     "metadata": {},
     "output_type": "display_data"
    },
    {
     "data": {
      "text/latex": [
       "$\\displaystyle \\text{KdV}(\\text{Miura}(v)) = - (v)_{xxxx} - 2 (v)_{xxx} v + 6 (v)_{xx} v^{2} + 12 (v)_{x}^{2} v + 12 (v)_{x} v^{3}$"
      ],
      "text/plain": [
       "Eq(\\text{KdV}(\\text{Miura}(v)), -(v)_{xxxx} - 2*(v)_{xxx}*v + 6*(v)_{xx}*v**2 + 12*(v)_{x}**2*v + 12*(v)_{x}*v**3)"
      ]
     },
     "metadata": {},
     "output_type": "display_data"
    },
    {
     "data": {
      "text/latex": [
       "$\\displaystyle \\text{mKdV}(v) = - (v)_{xxxx} + 10 (v)_{xx} v^{2} - 6 (v)_{xx} + 10 (v)_{x}^{2} v - 6 v^{5} + 12 v^{3} - 6 v$"
      ],
      "text/plain": [
       "Eq(\\text{mKdV}(v), -(v)_{xxxx} + 10*(v)_{xx}*v**2 - 6*(v)_{xx} + 10*(v)_{x}**2*v - 6*v**5 + 12*v**3 - 6*v)"
      ]
     },
     "metadata": {},
     "output_type": "display_data"
    },
    {
     "data": {
      "text/latex": [
       "$\\displaystyle (\\text{mKdV}(v))_{x} + 2 \\cdot v \\cdot \\text{mKdV}(v) = - (v)_{xxxxx} + 2 (v)_{xxx} \\left(5 v^{2} - 3\\right) + 20 (v)_{xx} (v)_{x} v + 2 (v)_{x} \\left(10 (v)_{xx} v + 5 (v)_{x}^{2} - 15 v^{4} + 18 v^{2} - 3\\right) - 2 v \\left((v)_{xxxx} - 10 (v)_{xx} v^{2} + 6 (v)_{xx} - 10 (v)_{x}^{2} v + 6 v^{5} - 12 v^{3} + 6 v\\right)$"
      ],
      "text/plain": [
       "Eq((\\text{mKdV}(v))_{x} + 2 \\cdot v \\cdot \\text{mKdV}(v), -(v)_{xxxxx} + 2*(v)_{xxx}*(5*v**2 - 3) + 20*(v)_{xx}*(v)_{x}*v + 2*(v)_{x}*(10*(v)_{xx}*v + 5*(v)_{x}**2 - 15*v**4 + 18*v**2 - 3) - 2*v*((v)_{xxxx} - 10*(v)_{xx}*v**2 + 6*(v)_{xx} - 10*(v)_{x}**2*v + 6*v**5 - 12*v**3 + 6*v))"
      ]
     },
     "metadata": {},
     "output_type": "display_data"
    },
    {
     "data": {
      "text/latex": [
       "$\\displaystyle (\\text{mKdV}(v))_{x} + 2 \\cdot v \\cdot \\text{mKdV}(v) - \\text{KdV}(\\text{Miura}(v)) = - (v)_{xxxxx} + (v)_{xxxx} + 2 (v)_{xxx} v + 2 (v)_{xxx} \\left(5 v^{2} - 3\\right) + 20 (v)_{xx} (v)_{x} v - 6 (v)_{xx} v^{2} - 12 (v)_{x}^{2} v - 12 (v)_{x} v^{3} + 2 (v)_{x} \\left(10 (v)_{xx} v + 5 (v)_{x}^{2} - 15 v^{4} + 18 v^{2} - 3\\right) - 2 v \\left((v)_{xxxx} - 10 (v)_{xx} v^{2} + 6 (v)_{xx} - 10 (v)_{x}^{2} v + 6 v^{5} - 12 v^{3} + 6 v\\right)$"
      ],
      "text/plain": [
       "Eq((\\text{mKdV}(v))_{x} + 2 \\cdot v \\cdot \\text{mKdV}(v) - \\text{KdV}(\\text{Miura}(v)), -(v)_{xxxxx} + (v)_{xxxx} + 2*(v)_{xxx}*v + 2*(v)_{xxx}*(5*v**2 - 3) + 20*(v)_{xx}*(v)_{x}*v - 6*(v)_{xx}*v**2 - 12*(v)_{x}**2*v - 12*(v)_{x}*v**3 + 2*(v)_{x}*(10*(v)_{xx}*v + 5*(v)_{x}**2 - 15*v**4 + 18*v**2 - 3) - 2*v*((v)_{xxxx} - 10*(v)_{xx}*v**2 + 6*(v)_{xx} - 10*(v)_{x}**2*v + 6*v**5 - 12*v**3 + 6*v))"
      ]
     },
     "metadata": {},
     "output_type": "display_data"
    },
    {
     "name": "stdout",
     "output_type": "stream",
     "text": [
      "n = 6\n"
     ]
    },
    {
     "data": {
      "text/latex": [
       "$\\displaystyle \\text{KdV}(u) = - (u)_{xxxxx} + 10 (u)_{xxx} u + 20 (u)_{xx} (u)_{x} - 30 (u)_{x} u^{2}$"
      ],
      "text/plain": [
       "Eq(\\text{KdV}(u), -(u)_{xxxxx} + 10*(u)_{xxx}*u + 20*(u)_{xx}*(u)_{x} - 30*(u)_{x}*u**2)"
      ]
     },
     "metadata": {},
     "output_type": "display_data"
    },
    {
     "data": {
      "text/latex": [
       "$\\displaystyle \\text{KdV}(\\text{Miura}(v)) = - (v)_{xxxxxx} - 2 (v)_{xxxxx} v + 10 (v)_{xxxx} v^{2} + 60 (v)_{xxx} (v)_{x} v + 20 (v)_{xxx} v^{3} + 40 (v)_{xx}^{2} v + 70 (v)_{xx} (v)_{x}^{2} + 80 (v)_{xx} (v)_{x} v^{2} - 30 (v)_{xx} v^{4} + 20 (v)_{x}^{3} v - 120 (v)_{x}^{2} v^{3} - 60 (v)_{x} v^{5}$"
      ],
      "text/plain": [
       "Eq(\\text{KdV}(\\text{Miura}(v)), -(v)_{xxxxxx} - 2*(v)_{xxxxx}*v + 10*(v)_{xxxx}*v**2 + 60*(v)_{xxx}*(v)_{x}*v + 20*(v)_{xxx}*v**3 + 40*(v)_{xx}**2*v + 70*(v)_{xx}*(v)_{x}**2 + 80*(v)_{xx}*(v)_{x}*v**2 - 30*(v)_{xx}*v**4 + 20*(v)_{x}**3*v - 120*(v)_{x}**2*v**3 - 60*(v)_{x}*v**5)"
      ]
     },
     "metadata": {},
     "output_type": "display_data"
    },
    {
     "data": {
      "text/latex": [
       "$\\displaystyle \\text{mKdV}(v) = - (v)_{xxxxxx} + 14 (v)_{xxxx} v^{2} - 10 (v)_{xxxx} + 56 (v)_{xxx} (v)_{x} v + 42 (v)_{xx}^{2} v + 70 (v)_{xx} (v)_{x}^{2} - 70 (v)_{xx} v^{4} + 100 (v)_{xx} v^{2} - 30 (v)_{xx} - 140 (v)_{x}^{2} v^{3} + 100 (v)_{x}^{2} v + 20 v^{7} - 60 v^{5} + 60 v^{3} - 20 v$"
      ],
      "text/plain": [
       "Eq(\\text{mKdV}(v), -(v)_{xxxxxx} + 14*(v)_{xxxx}*v**2 - 10*(v)_{xxxx} + 56*(v)_{xxx}*(v)_{x}*v + 42*(v)_{xx}**2*v + 70*(v)_{xx}*(v)_{x}**2 - 70*(v)_{xx}*v**4 + 100*(v)_{xx}*v**2 - 30*(v)_{xx} - 140*(v)_{x}**2*v**3 + 100*(v)_{x}**2*v + 20*v**7 - 60*v**5 + 60*v**3 - 20*v)"
      ]
     },
     "metadata": {},
     "output_type": "display_data"
    },
    {
     "data": {
      "text/latex": [
       "$\\displaystyle (\\text{mKdV}(v))_{x} + 2 \\cdot v \\cdot \\text{mKdV}(v) = - (v)_{xxxxxxx} - 2 (v)_{xxxxxx} v + 14 (v)_{xxxxx} v^{2} - 10 (v)_{xxxxx} + 84 (v)_{xxxx} (v)_{x} v + 28 (v)_{xxxx} v^{3} - 20 (v)_{xxxx} v + 140 (v)_{xxx} (v)_{xx} v + 126 (v)_{xxx} (v)_{x}^{2} + 112 (v)_{xxx} (v)_{x} v^{2} - 70 (v)_{xxx} v^{4} + 100 (v)_{xxx} v^{2} - 30 (v)_{xxx} + 182 (v)_{xx}^{2} (v)_{x} + 84 (v)_{xx}^{2} v^{2} + 140 (v)_{xx} (v)_{x}^{2} v - 560 (v)_{xx} (v)_{x} v^{3} + 400 (v)_{xx} (v)_{x} v - 140 (v)_{xx} v^{5} + 200 (v)_{xx} v^{3} - 60 (v)_{xx} v - 420 (v)_{x}^{3} v^{2} + 100 (v)_{x}^{3} - 280 (v)_{x}^{2} v^{4} + 200 (v)_{x}^{2} v^{2} + 140 (v)_{x} v^{6} - 300 (v)_{x} v^{4} + 180 (v)_{x} v^{2} - 20 (v)_{x} + 40 v^{8} - 120 v^{6} + 120 v^{4} - 40 v^{2}$"
      ],
      "text/plain": [
       "Eq((\\text{mKdV}(v))_{x} + 2 \\cdot v \\cdot \\text{mKdV}(v), -(v)_{xxxxxxx} - 2*(v)_{xxxxxx}*v + 14*(v)_{xxxxx}*v**2 - 10*(v)_{xxxxx} + 84*(v)_{xxxx}*(v)_{x}*v + 28*(v)_{xxxx}*v**3 - 20*(v)_{xxxx}*v + 140*(v)_{xxx}*(v)_{xx}*v + 126*(v)_{xxx}*(v)_{x}**2 + 112*(v)_{xxx}*(v)_{x}*v**2 - 70*(v)_{xxx}*v**4 + 100*(v)_{xxx}*v**2 - 30*(v)_{xxx} + 182*(v)_{xx}**2*(v)_{x} + 84*(v)_{xx}**2*v**2 + 140*(v)_{xx}*(v)_{x}**2*v - 560*(v)_{xx}*(v)_{x}*v**3 + 400*(v)_{xx}*(v)_{x}*v - 140*(v)_{xx}*v**5 + 200*(v)_{xx}*v**3 - 60*(v)_{xx}*v - 420*(v)_{x}**3*v**2 + 100*(v)_{x}**3 - 280*(v)_{x}**2*v**4 + 200*(v)_{x}**2*v**2 + 140*(v)_{x}*v**6 - 300*(v)_{x}*v**4 + 180*(v)_{x}*v**2 - 20*(v)_{x} + 40*v**8 - 120*v**6 + 120*v**4 - 40*v**2)"
      ]
     },
     "metadata": {},
     "output_type": "display_data"
    },
    {
     "data": {
      "text/latex": [
       "$\\displaystyle (\\text{mKdV}(v))_{x} + 2 \\cdot v \\cdot \\text{mKdV}(v) - \\text{KdV}(\\text{Miura}(v)) = - (v)_{xxxxxxx} - 2 (v)_{xxxxxx} v + (v)_{xxxxxx} + 14 (v)_{xxxxx} v^{2} + 2 (v)_{xxxxx} v - 10 (v)_{xxxxx} + 84 (v)_{xxxx} (v)_{x} v + 28 (v)_{xxxx} v^{3} - 10 (v)_{xxxx} v^{2} - 20 (v)_{xxxx} v + 140 (v)_{xxx} (v)_{xx} v + 126 (v)_{xxx} (v)_{x}^{2} + 112 (v)_{xxx} (v)_{x} v^{2} - 60 (v)_{xxx} (v)_{x} v - 70 (v)_{xxx} v^{4} - 20 (v)_{xxx} v^{3} + 100 (v)_{xxx} v^{2} - 30 (v)_{xxx} + 182 (v)_{xx}^{2} (v)_{x} + 84 (v)_{xx}^{2} v^{2} - 40 (v)_{xx}^{2} v + 140 (v)_{xx} (v)_{x}^{2} v - 70 (v)_{xx} (v)_{x}^{2} - 560 (v)_{xx} (v)_{x} v^{3} - 80 (v)_{xx} (v)_{x} v^{2} + 400 (v)_{xx} (v)_{x} v - 140 (v)_{xx} v^{5} + 30 (v)_{xx} v^{4} + 200 (v)_{xx} v^{3} - 60 (v)_{xx} v - 420 (v)_{x}^{3} v^{2} - 20 (v)_{x}^{3} v + 100 (v)_{x}^{3} - 280 (v)_{x}^{2} v^{4} + 120 (v)_{x}^{2} v^{3} + 200 (v)_{x}^{2} v^{2} + 140 (v)_{x} v^{6} + 60 (v)_{x} v^{5} - 300 (v)_{x} v^{4} + 180 (v)_{x} v^{2} - 20 (v)_{x} + 40 v^{8} - 120 v^{6} + 120 v^{4} - 40 v^{2}$"
      ],
      "text/plain": [
       "Eq((\\text{mKdV}(v))_{x} + 2 \\cdot v \\cdot \\text{mKdV}(v) - \\text{KdV}(\\text{Miura}(v)), -(v)_{xxxxxxx} - 2*(v)_{xxxxxx}*v + (v)_{xxxxxx} + 14*(v)_{xxxxx}*v**2 + 2*(v)_{xxxxx}*v - 10*(v)_{xxxxx} + 84*(v)_{xxxx}*(v)_{x}*v + 28*(v)_{xxxx}*v**3 - 10*(v)_{xxxx}*v**2 - 20*(v)_{xxxx}*v + 140*(v)_{xxx}*(v)_{xx}*v + 126*(v)_{xxx}*(v)_{x}**2 + 112*(v)_{xxx}*(v)_{x}*v**2 - 60*(v)_{xxx}*(v)_{x}*v - 70*(v)_{xxx}*v**4 - 20*(v)_{xxx}*v**3 + 100*(v)_{xxx}*v**2 - 30*(v)_{xxx} + 182*(v)_{xx}**2*(v)_{x} + 84*(v)_{xx}**2*v**2 - 40*(v)_{xx}**2*v + 140*(v)_{xx}*(v)_{x}**2*v - 70*(v)_{xx}*(v)_{x}**2 - 560*(v)_{xx}*(v)_{x}*v**3 - 80*(v)_{xx}*(v)_{x}*v**2 + 400*(v)_{xx}*(v)_{x}*v - 140*(v)_{xx}*v**5 + 30*(v)_{xx}*v**4 + 200*(v)_{xx}*v**3 - 60*(v)_{xx}*v - 420*(v)_{x}**3*v**2 - 20*(v)_{x}**3*v + 100*(v)_{x}**3 - 280*(v)_{x}**2*v**4 + 120*(v)_{x}**2*v**3 + 200*(v)_{x}**2*v**2 + 140*(v)_{x}*v**6 + 60*(v)_{x}*v**5 - 300*(v)_{x}*v**4 + 180*(v)_{x}*v**2 - 20*(v)_{x} + 40*v**8 - 120*v**6 + 120*v**4 - 40*v**2)"
      ]
     },
     "metadata": {},
     "output_type": "display_data"
    },
    {
     "name": "stdout",
     "output_type": "stream",
     "text": [
      "n = 8\n"
     ]
    },
    {
     "data": {
      "text/latex": [
       "$\\displaystyle \\text{KdV}(u) = - (u)_{xxxxxxx} + 14 (u)_{xxxxx} u + 42 (u)_{xxxx} (u)_{x} + 70 (u)_{xxx} (u)_{xx} - 70 (u)_{xxx} u^{2} - 280 (u)_{xx} (u)_{x} u - 70 (u)_{x}^{3} + 140 (u)_{x} u^{3}$"
      ],
      "text/plain": [
       "Eq(\\text{KdV}(u), -(u)_{xxxxxxx} + 14*(u)_{xxxxx}*u + 42*(u)_{xxxx}*(u)_{x} + 70*(u)_{xxx}*(u)_{xx} - 70*(u)_{xxx}*u**2 - 280*(u)_{xx}*(u)_{x}*u - 70*(u)_{x}**3 + 140*(u)_{x}*u**3)"
      ]
     },
     "metadata": {},
     "output_type": "display_data"
    },
    {
     "data": {
      "text/latex": [
       "$\\displaystyle \\text{KdV}(\\text{Miura}(v)) = - (v)_{xxxxxxxx} - 2 (v)_{xxxxxxx} v + 14 (v)_{xxxxxx} v^{2} + 112 (v)_{xxxxx} (v)_{x} v + 28 (v)_{xxxxx} v^{3} + 224 (v)_{xxxx} (v)_{xx} v + 210 (v)_{xxxx} (v)_{x}^{2} + 168 (v)_{xxxx} (v)_{x} v^{2} - 70 (v)_{xxxx} v^{4} + 140 (v)_{xxx}^{2} v + 756 (v)_{xxx} (v)_{xx} (v)_{x} + 280 (v)_{xxx} (v)_{xx} v^{2} + 252 (v)_{xxx} (v)_{x}^{2} v - 840 (v)_{xxx} (v)_{x} v^{3} - 140 (v)_{xxx} v^{5} + 182 (v)_{xx}^{3} + 364 (v)_{xx}^{2} (v)_{x} v - 560 (v)_{xx}^{2} v^{3} - 2940 (v)_{xx} (v)_{x}^{2} v^{2} - 1120 (v)_{xx} (v)_{x} v^{4} + 140 (v)_{xx} v^{6} - 840 (v)_{x}^{4} v - 840 (v)_{x}^{3} v^{3} + 840 (v)_{x}^{2} v^{5} + 280 (v)_{x} v^{7}$"
      ],
      "text/plain": [
       "Eq(\\text{KdV}(\\text{Miura}(v)), -(v)_{xxxxxxxx} - 2*(v)_{xxxxxxx}*v + 14*(v)_{xxxxxx}*v**2 + 112*(v)_{xxxxx}*(v)_{x}*v + 28*(v)_{xxxxx}*v**3 + 224*(v)_{xxxx}*(v)_{xx}*v + 210*(v)_{xxxx}*(v)_{x}**2 + 168*(v)_{xxxx}*(v)_{x}*v**2 - 70*(v)_{xxxx}*v**4 + 140*(v)_{xxx}**2*v + 756*(v)_{xxx}*(v)_{xx}*(v)_{x} + 280*(v)_{xxx}*(v)_{xx}*v**2 + 252*(v)_{xxx}*(v)_{x}**2*v - 840*(v)_{xxx}*(v)_{x}*v**3 - 140*(v)_{xxx}*v**5 + 182*(v)_{xx}**3 + 364*(v)_{xx}**2*(v)_{x}*v - 560*(v)_{xx}**2*v**3 - 2940*(v)_{xx}*(v)_{x}**2*v**2 - 1120*(v)_{xx}*(v)_{x}*v**4 + 140*(v)_{xx}*v**6 - 840*(v)_{x}**4*v - 840*(v)_{x}**3*v**3 + 840*(v)_{x}**2*v**5 + 280*(v)_{x}*v**7)"
      ]
     },
     "metadata": {},
     "output_type": "display_data"
    },
    {
     "data": {
      "text/latex": [
       "$\\displaystyle \\text{mKdV}(v) = - (v)_{xxxxxxxx} + 18 (v)_{xxxxxx} v^{2} - 14 (v)_{xxxxxx} + 108 (v)_{xxxxx} (v)_{x} v + 228 (v)_{xxxx} (v)_{xx} v + 210 (v)_{xxxx} (v)_{x}^{2} - 126 (v)_{xxxx} v^{4} + 196 (v)_{xxxx} v^{2} - 70 (v)_{xxxx} + 138 (v)_{xxx}^{2} v + 756 (v)_{xxx} (v)_{xx} (v)_{x} - 1008 (v)_{xxx} (v)_{x} v^{3} + 784 (v)_{xxx} (v)_{x} v + 182 (v)_{xx}^{3} - 756 (v)_{xx}^{2} v^{3} + 588 (v)_{xx}^{2} v - 3108 (v)_{xx} (v)_{x}^{2} v^{2} + 980 (v)_{xx} (v)_{x}^{2} + 420 (v)_{xx} v^{6} - 980 (v)_{xx} v^{4} + 700 (v)_{xx} v^{2} - 140 (v)_{xx} - 798 (v)_{x}^{4} v + 1260 (v)_{x}^{2} v^{5} - 1960 (v)_{x}^{2} v^{3} + 700 (v)_{x}^{2} v - 70 v^{9} + 280 v^{7} - 420 v^{5} + 280 v^{3} - 70 v$"
      ],
      "text/plain": [
       "Eq(\\text{mKdV}(v), -(v)_{xxxxxxxx} + 18*(v)_{xxxxxx}*v**2 - 14*(v)_{xxxxxx} + 108*(v)_{xxxxx}*(v)_{x}*v + 228*(v)_{xxxx}*(v)_{xx}*v + 210*(v)_{xxxx}*(v)_{x}**2 - 126*(v)_{xxxx}*v**4 + 196*(v)_{xxxx}*v**2 - 70*(v)_{xxxx} + 138*(v)_{xxx}**2*v + 756*(v)_{xxx}*(v)_{xx}*(v)_{x} - 1008*(v)_{xxx}*(v)_{x}*v**3 + 784*(v)_{xxx}*(v)_{x}*v + 182*(v)_{xx}**3 - 756*(v)_{xx}**2*v**3 + 588*(v)_{xx}**2*v - 3108*(v)_{xx}*(v)_{x}**2*v**2 + 980*(v)_{xx}*(v)_{x}**2 + 420*(v)_{xx}*v**6 - 980*(v)_{xx}*v**4 + 700*(v)_{xx}*v**2 - 140*(v)_{xx} - 798*(v)_{x}**4*v + 1260*(v)_{x}**2*v**5 - 1960*(v)_{x}**2*v**3 + 700*(v)_{x}**2*v - 70*v**9 + 280*v**7 - 420*v**5 + 280*v**3 - 70*v)"
      ]
     },
     "metadata": {},
     "output_type": "display_data"
    },
    {
     "data": {
      "text/latex": [
       "$\\displaystyle (\\text{mKdV}(v))_{x} + 2 \\cdot v \\cdot \\text{mKdV}(v) = - (v)_{xxxxxxxxx} - 2 (v)_{xxxxxxxx} v + 18 (v)_{xxxxxxx} v^{2} - 14 (v)_{xxxxxxx} + 144 (v)_{xxxxxx} (v)_{x} v + 36 (v)_{xxxxxx} v^{3} - 28 (v)_{xxxxxx} v + 336 (v)_{xxxxx} (v)_{xx} v + 318 (v)_{xxxxx} (v)_{x}^{2} + 216 (v)_{xxxxx} (v)_{x} v^{2} - 126 (v)_{xxxxx} v^{4} + 196 (v)_{xxxxx} v^{2} - 70 (v)_{xxxxx} + 504 (v)_{xxxx} (v)_{xxx} v + 1404 (v)_{xxxx} (v)_{xx} (v)_{x} + 456 (v)_{xxxx} (v)_{xx} v^{2} + 420 (v)_{xxxx} (v)_{x}^{2} v - 1512 (v)_{xxxx} (v)_{x} v^{3} + 1176 (v)_{xxxx} (v)_{x} v - 252 (v)_{xxxx} v^{5} + 392 (v)_{xxxx} v^{3} - 140 (v)_{xxxx} v + 894 (v)_{xxx}^{2} (v)_{x} + 276 (v)_{xxx}^{2} v^{2} + 1302 (v)_{xxx} (v)_{xx}^{2} + 1512 (v)_{xxx} (v)_{xx} (v)_{x} v - 2520 (v)_{xxx} (v)_{xx} v^{3} + 1960 (v)_{xxx} (v)_{xx} v - 6132 (v)_{xxx} (v)_{x}^{2} v^{2} + 1764 (v)_{xxx} (v)_{x}^{2} - 2016 (v)_{xxx} (v)_{x} v^{4} + 1568 (v)_{xxx} (v)_{x} v^{2} + 420 (v)_{xxx} v^{6} - 980 (v)_{xxx} v^{4} + 700 (v)_{xxx} v^{2} - 140 (v)_{xxx} + 364 (v)_{xx}^{3} v - 8484 (v)_{xx}^{2} (v)_{x} v^{2} + 2548 (v)_{xx}^{2} (v)_{x} - 1512 (v)_{xx}^{2} v^{4} + 1176 (v)_{xx}^{2} v^{2} - 9408 (v)_{xx} (v)_{x}^{3} v - 6216 (v)_{xx} (v)_{x}^{2} v^{3} + 1960 (v)_{xx} (v)_{x}^{2} v + 5040 (v)_{xx} (v)_{x} v^{5} - 7840 (v)_{xx} (v)_{x} v^{3} + 2800 (v)_{xx} (v)_{x} v + 840 (v)_{xx} v^{7} - 1960 (v)_{xx} v^{5} + 1400 (v)_{xx} v^{3} - 280 (v)_{xx} v - 798 (v)_{x}^{5} - 1596 (v)_{x}^{4} v^{2} + 6300 (v)_{x}^{3} v^{4} - 5880 (v)_{x}^{3} v^{2} + 700 (v)_{x}^{3} + 2520 (v)_{x}^{2} v^{6} - 3920 (v)_{x}^{2} v^{4} + 1400 (v)_{x}^{2} v^{2} - 630 (v)_{x} v^{8} + 1960 (v)_{x} v^{6} - 2100 (v)_{x} v^{4} + 840 (v)_{x} v^{2} - 70 (v)_{x} - 140 v^{10} + 560 v^{8} - 840 v^{6} + 560 v^{4} - 140 v^{2}$"
      ],
      "text/plain": [
       "Eq((\\text{mKdV}(v))_{x} + 2 \\cdot v \\cdot \\text{mKdV}(v), -(v)_{xxxxxxxxx} - 2*(v)_{xxxxxxxx}*v + 18*(v)_{xxxxxxx}*v**2 - 14*(v)_{xxxxxxx} + 144*(v)_{xxxxxx}*(v)_{x}*v + 36*(v)_{xxxxxx}*v**3 - 28*(v)_{xxxxxx}*v + 336*(v)_{xxxxx}*(v)_{xx}*v + 318*(v)_{xxxxx}*(v)_{x}**2 + 216*(v)_{xxxxx}*(v)_{x}*v**2 - 126*(v)_{xxxxx}*v**4 + 196*(v)_{xxxxx}*v**2 - 70*(v)_{xxxxx} + 504*(v)_{xxxx}*(v)_{xxx}*v + 1404*(v)_{xxxx}*(v)_{xx}*(v)_{x} + 456*(v)_{xxxx}*(v)_{xx}*v**2 + 420*(v)_{xxxx}*(v)_{x}**2*v - 1512*(v)_{xxxx}*(v)_{x}*v**3 + 1176*(v)_{xxxx}*(v)_{x}*v - 252*(v)_{xxxx}*v**5 + 392*(v)_{xxxx}*v**3 - 140*(v)_{xxxx}*v + 894*(v)_{xxx}**2*(v)_{x} + 276*(v)_{xxx}**2*v**2 + 1302*(v)_{xxx}*(v)_{xx}**2 + 1512*(v)_{xxx}*(v)_{xx}*(v)_{x}*v - 2520*(v)_{xxx}*(v)_{xx}*v**3 + 1960*(v)_{xxx}*(v)_{xx}*v - 6132*(v)_{xxx}*(v)_{x}**2*v**2 + 1764*(v)_{xxx}*(v)_{x}**2 - 2016*(v)_{xxx}*(v)_{x}*v**4 + 1568*(v)_{xxx}*(v)_{x}*v**2 + 420*(v)_{xxx}*v**6 - 980*(v)_{xxx}*v**4 + 700*(v)_{xxx}*v**2 - 140*(v)_{xxx} + 364*(v)_{xx}**3*v - 8484*(v)_{xx}**2*(v)_{x}*v**2 + 2548*(v)_{xx}**2*(v)_{x} - 1512*(v)_{xx}**2*v**4 + 1176*(v)_{xx}**2*v**2 - 9408*(v)_{xx}*(v)_{x}**3*v - 6216*(v)_{xx}*(v)_{x}**2*v**3 + 1960*(v)_{xx}*(v)_{x}**2*v + 5040*(v)_{xx}*(v)_{x}*v**5 - 7840*(v)_{xx}*(v)_{x}*v**3 + 2800*(v)_{xx}*(v)_{x}*v + 840*(v)_{xx}*v**7 - 1960*(v)_{xx}*v**5 + 1400*(v)_{xx}*v**3 - 280*(v)_{xx}*v - 798*(v)_{x}**5 - 1596*(v)_{x}**4*v**2 + 6300*(v)_{x}**3*v**4 - 5880*(v)_{x}**3*v**2 + 700*(v)_{x}**3 + 2520*(v)_{x}**2*v**6 - 3920*(v)_{x}**2*v**4 + 1400*(v)_{x}**2*v**2 - 630*(v)_{x}*v**8 + 1960*(v)_{x}*v**6 - 2100*(v)_{x}*v**4 + 840*(v)_{x}*v**2 - 70*(v)_{x} - 140*v**10 + 560*v**8 - 840*v**6 + 560*v**4 - 140*v**2)"
      ]
     },
     "metadata": {},
     "output_type": "display_data"
    },
    {
     "data": {
      "text/latex": [
       "$\\displaystyle (\\text{mKdV}(v))_{x} + 2 \\cdot v \\cdot \\text{mKdV}(v) - \\text{KdV}(\\text{Miura}(v)) = - (v)_{xxxxxxxxx} - 2 (v)_{xxxxxxxx} v + (v)_{xxxxxxxx} + 18 (v)_{xxxxxxx} v^{2} + 2 (v)_{xxxxxxx} v - 14 (v)_{xxxxxxx} + 144 (v)_{xxxxxx} (v)_{x} v + 36 (v)_{xxxxxx} v^{3} - 14 (v)_{xxxxxx} v^{2} - 28 (v)_{xxxxxx} v + 336 (v)_{xxxxx} (v)_{xx} v + 318 (v)_{xxxxx} (v)_{x}^{2} + 216 (v)_{xxxxx} (v)_{x} v^{2} - 112 (v)_{xxxxx} (v)_{x} v - 126 (v)_{xxxxx} v^{4} - 28 (v)_{xxxxx} v^{3} + 196 (v)_{xxxxx} v^{2} - 70 (v)_{xxxxx} + 504 (v)_{xxxx} (v)_{xxx} v + 1404 (v)_{xxxx} (v)_{xx} (v)_{x} + 456 (v)_{xxxx} (v)_{xx} v^{2} - 224 (v)_{xxxx} (v)_{xx} v + 420 (v)_{xxxx} (v)_{x}^{2} v - 210 (v)_{xxxx} (v)_{x}^{2} - 1512 (v)_{xxxx} (v)_{x} v^{3} - 168 (v)_{xxxx} (v)_{x} v^{2} + 1176 (v)_{xxxx} (v)_{x} v - 252 (v)_{xxxx} v^{5} + 70 (v)_{xxxx} v^{4} + 392 (v)_{xxxx} v^{3} - 140 (v)_{xxxx} v + 894 (v)_{xxx}^{2} (v)_{x} + 276 (v)_{xxx}^{2} v^{2} - 140 (v)_{xxx}^{2} v + 1302 (v)_{xxx} (v)_{xx}^{2} + 1512 (v)_{xxx} (v)_{xx} (v)_{x} v - 756 (v)_{xxx} (v)_{xx} (v)_{x} - 2520 (v)_{xxx} (v)_{xx} v^{3} - 280 (v)_{xxx} (v)_{xx} v^{2} + 1960 (v)_{xxx} (v)_{xx} v - 6132 (v)_{xxx} (v)_{x}^{2} v^{2} - 252 (v)_{xxx} (v)_{x}^{2} v + 1764 (v)_{xxx} (v)_{x}^{2} - 2016 (v)_{xxx} (v)_{x} v^{4} + 840 (v)_{xxx} (v)_{x} v^{3} + 1568 (v)_{xxx} (v)_{x} v^{2} + 420 (v)_{xxx} v^{6} + 140 (v)_{xxx} v^{5} - 980 (v)_{xxx} v^{4} + 700 (v)_{xxx} v^{2} - 140 (v)_{xxx} + 364 (v)_{xx}^{3} v - 182 (v)_{xx}^{3} - 8484 (v)_{xx}^{2} (v)_{x} v^{2} - 364 (v)_{xx}^{2} (v)_{x} v + 2548 (v)_{xx}^{2} (v)_{x} - 1512 (v)_{xx}^{2} v^{4} + 560 (v)_{xx}^{2} v^{3} + 1176 (v)_{xx}^{2} v^{2} - 9408 (v)_{xx} (v)_{x}^{3} v - 6216 (v)_{xx} (v)_{x}^{2} v^{3} + 2940 (v)_{xx} (v)_{x}^{2} v^{2} + 1960 (v)_{xx} (v)_{x}^{2} v + 5040 (v)_{xx} (v)_{x} v^{5} + 1120 (v)_{xx} (v)_{x} v^{4} - 7840 (v)_{xx} (v)_{x} v^{3} + 2800 (v)_{xx} (v)_{x} v + 840 (v)_{xx} v^{7} - 140 (v)_{xx} v^{6} - 1960 (v)_{xx} v^{5} + 1400 (v)_{xx} v^{3} - 280 (v)_{xx} v - 798 (v)_{x}^{5} - 1596 (v)_{x}^{4} v^{2} + 840 (v)_{x}^{4} v + 6300 (v)_{x}^{3} v^{4} + 840 (v)_{x}^{3} v^{3} - 5880 (v)_{x}^{3} v^{2} + 700 (v)_{x}^{3} + 2520 (v)_{x}^{2} v^{6} - 840 (v)_{x}^{2} v^{5} - 3920 (v)_{x}^{2} v^{4} + 1400 (v)_{x}^{2} v^{2} - 630 (v)_{x} v^{8} - 280 (v)_{x} v^{7} + 1960 (v)_{x} v^{6} - 2100 (v)_{x} v^{4} + 840 (v)_{x} v^{2} - 70 (v)_{x} - 140 v^{10} + 560 v^{8} - 840 v^{6} + 560 v^{4} - 140 v^{2}$"
      ],
      "text/plain": [
       "Eq((\\text{mKdV}(v))_{x} + 2 \\cdot v \\cdot \\text{mKdV}(v) - \\text{KdV}(\\text{Miura}(v)), -(v)_{xxxxxxxxx} - 2*(v)_{xxxxxxxx}*v + (v)_{xxxxxxxx} + 18*(v)_{xxxxxxx}*v**2 + 2*(v)_{xxxxxxx}*v - 14*(v)_{xxxxxxx} + 144*(v)_{xxxxxx}*(v)_{x}*v + 36*(v)_{xxxxxx}*v**3 - 14*(v)_{xxxxxx}*v**2 - 28*(v)_{xxxxxx}*v + 336*(v)_{xxxxx}*(v)_{xx}*v + 318*(v)_{xxxxx}*(v)_{x}**2 + 216*(v)_{xxxxx}*(v)_{x}*v**2 - 112*(v)_{xxxxx}*(v)_{x}*v - 126*(v)_{xxxxx}*v**4 - 28*(v)_{xxxxx}*v**3 + 196*(v)_{xxxxx}*v**2 - 70*(v)_{xxxxx} + 504*(v)_{xxxx}*(v)_{xxx}*v + 1404*(v)_{xxxx}*(v)_{xx}*(v)_{x} + 456*(v)_{xxxx}*(v)_{xx}*v**2 - 224*(v)_{xxxx}*(v)_{xx}*v + 420*(v)_{xxxx}*(v)_{x}**2*v - 210*(v)_{xxxx}*(v)_{x}**2 - 1512*(v)_{xxxx}*(v)_{x}*v**3 - 168*(v)_{xxxx}*(v)_{x}*v**2 + 1176*(v)_{xxxx}*(v)_{x}*v - 252*(v)_{xxxx}*v**5 + 70*(v)_{xxxx}*v**4 + 392*(v)_{xxxx}*v**3 - 140*(v)_{xxxx}*v + 894*(v)_{xxx}**2*(v)_{x} + 276*(v)_{xxx}**2*v**2 - 140*(v)_{xxx}**2*v + 1302*(v)_{xxx}*(v)_{xx}**2 + 1512*(v)_{xxx}*(v)_{xx}*(v)_{x}*v - 756*(v)_{xxx}*(v)_{xx}*(v)_{x} - 2520*(v)_{xxx}*(v)_{xx}*v**3 - 280*(v)_{xxx}*(v)_{xx}*v**2 + 1960*(v)_{xxx}*(v)_{xx}*v - 6132*(v)_{xxx}*(v)_{x}**2*v**2 - 252*(v)_{xxx}*(v)_{x}**2*v + 1764*(v)_{xxx}*(v)_{x}**2 - 2016*(v)_{xxx}*(v)_{x}*v**4 + 840*(v)_{xxx}*(v)_{x}*v**3 + 1568*(v)_{xxx}*(v)_{x}*v**2 + 420*(v)_{xxx}*v**6 + 140*(v)_{xxx}*v**5 - 980*(v)_{xxx}*v**4 + 700*(v)_{xxx}*v**2 - 140*(v)_{xxx} + 364*(v)_{xx}**3*v - 182*(v)_{xx}**3 - 8484*(v)_{xx}**2*(v)_{x}*v**2 - 364*(v)_{xx}**2*(v)_{x}*v + 2548*(v)_{xx}**2*(v)_{x} - 1512*(v)_{xx}**2*v**4 + 560*(v)_{xx}**2*v**3 + 1176*(v)_{xx}**2*v**2 - 9408*(v)_{xx}*(v)_{x}**3*v - 6216*(v)_{xx}*(v)_{x}**2*v**3 + 2940*(v)_{xx}*(v)_{x}**2*v**2 + 1960*(v)_{xx}*(v)_{x}**2*v + 5040*(v)_{xx}*(v)_{x}*v**5 + 1120*(v)_{xx}*(v)_{x}*v**4 - 7840*(v)_{xx}*(v)_{x}*v**3 + 2800*(v)_{xx}*(v)_{x}*v + 840*(v)_{xx}*v**7 - 140*(v)_{xx}*v**6 - 1960*(v)_{xx}*v**5 + 1400*(v)_{xx}*v**3 - 280*(v)_{xx}*v - 798*(v)_{x}**5 - 1596*(v)_{x}**4*v**2 + 840*(v)_{x}**4*v + 6300*(v)_{x}**3*v**4 + 840*(v)_{x}**3*v**3 - 5880*(v)_{x}**3*v**2 + 700*(v)_{x}**3 + 2520*(v)_{x}**2*v**6 - 840*(v)_{x}**2*v**5 - 3920*(v)_{x}**2*v**4 + 1400*(v)_{x}**2*v**2 - 630*(v)_{x}*v**8 - 280*(v)_{x}*v**7 + 1960*(v)_{x}*v**6 - 2100*(v)_{x}*v**4 + 840*(v)_{x}*v**2 - 70*(v)_{x} - 140*v**10 + 560*v**8 - 840*v**6 + 560*v**4 - 140*v**2)"
      ]
     },
     "metadata": {},
     "output_type": "display_data"
    },
    {
     "name": "stdout",
     "output_type": "stream",
     "text": [
      "n = 10\n"
     ]
    },
    {
     "data": {
      "text/latex": [
       "$\\displaystyle \\text{KdV}(u) = - (u)_{xxxxxxxxx} + 18 (u)_{xxxxxxx} u + 72 (u)_{xxxxxx} (u)_{x} + 168 (u)_{xxxxx} (u)_{xx} - 126 (u)_{xxxxx} u^{2} + 252 (u)_{xxxx} (u)_{xxx} - 756 (u)_{xxxx} (u)_{x} u - 1260 (u)_{xxx} (u)_{xx} u - 966 (u)_{xxx} (u)_{x}^{2} + 420 (u)_{xxx} u^{3} - 1302 (u)_{xx}^{2} (u)_{x} + 2520 (u)_{xx} (u)_{x} u^{2} + 1260 (u)_{x}^{3} u - 630 (u)_{x} u^{4}$"
      ],
      "text/plain": [
       "Eq(\\text{KdV}(u), -(u)_{xxxxxxxxx} + 18*(u)_{xxxxxxx}*u + 72*(u)_{xxxxxx}*(u)_{x} + 168*(u)_{xxxxx}*(u)_{xx} - 126*(u)_{xxxxx}*u**2 + 252*(u)_{xxxx}*(u)_{xxx} - 756*(u)_{xxxx}*(u)_{x}*u - 1260*(u)_{xxx}*(u)_{xx}*u - 966*(u)_{xxx}*(u)_{x}**2 + 420*(u)_{xxx}*u**3 - 1302*(u)_{xx}**2*(u)_{x} + 2520*(u)_{xx}*(u)_{x}*u**2 + 1260*(u)_{x}**3*u - 630*(u)_{x}*u**4)"
      ]
     },
     "metadata": {},
     "output_type": "display_data"
    },
    {
     "data": {
      "text/latex": [
       "$\\displaystyle \\text{KdV}(\\text{Miura}(v)) = - (v)_{xxxxxxxxxx} - 2 (v)_{xxxxxxxxx} v + 18 (v)_{xxxxxxxx} v^{2} + 180 (v)_{xxxxxxx} (v)_{x} v + 36 (v)_{xxxxxxx} v^{3} + 480 (v)_{xxxxxx} (v)_{xx} v + 462 (v)_{xxxxxx} (v)_{x}^{2} + 288 (v)_{xxxxxx} (v)_{x} v^{2} - 126 (v)_{xxxxxx} v^{4} + 840 (v)_{xxxxx} (v)_{xxx} v + 2376 (v)_{xxxxx} (v)_{xx} (v)_{x} + 672 (v)_{xxxxx} (v)_{xx} v^{2} + 636 (v)_{xxxxx} (v)_{x}^{2} v - 2016 (v)_{xxxxx} (v)_{x} v^{3} - 252 (v)_{xxxxx} v^{5} + 504 (v)_{xxxx}^{2} v + 3696 (v)_{xxxx} (v)_{xxx} (v)_{x} + 1008 (v)_{xxxx} (v)_{xxx} v^{2} + 2706 (v)_{xxxx} (v)_{xx}^{2} + 2808 (v)_{xxxx} (v)_{xx} (v)_{x} v - 4032 (v)_{xxxx} (v)_{xx} v^{3} - 10668 (v)_{xxxx} (v)_{x}^{2} v^{2} - 3024 (v)_{xxxx} (v)_{x} v^{4} + 420 (v)_{xxxx} v^{6} + 3498 (v)_{xxx}^{2} (v)_{xx} + 1788 (v)_{xxx}^{2} (v)_{x} v - 2520 (v)_{xxx}^{2} v^{3} + 2604 (v)_{xxx} (v)_{xx}^{2} v - 36792 (v)_{xxx} (v)_{xx} (v)_{x} v^{2} - 5040 (v)_{xxx} (v)_{xx} v^{4} - 21672 (v)_{xxx} (v)_{x}^{3} v - 12264 (v)_{xxx} (v)_{x}^{2} v^{3} + 7560 (v)_{xxx} (v)_{x} v^{5} + 840 (v)_{xxx} v^{7} - 8484 (v)_{xx}^{3} v^{2} - 45192 (v)_{xx}^{2} (v)_{x}^{2} v - 16968 (v)_{xx}^{2} (v)_{x} v^{3} + 5040 (v)_{xx}^{2} v^{5} - 13398 (v)_{xx} (v)_{x}^{4} - 18816 (v)_{xx} (v)_{x}^{3} v^{2} + 44100 (v)_{xx} (v)_{x}^{2} v^{4} + 10080 (v)_{xx} (v)_{x} v^{6} - 630 (v)_{xx} v^{8} - 1596 (v)_{x}^{5} v + 25200 (v)_{x}^{4} v^{3} + 12600 (v)_{x}^{3} v^{5} - 5040 (v)_{x}^{2} v^{7} - 1260 (v)_{x} v^{9}$"
      ],
      "text/plain": [
       "Eq(\\text{KdV}(\\text{Miura}(v)), -(v)_{xxxxxxxxxx} - 2*(v)_{xxxxxxxxx}*v + 18*(v)_{xxxxxxxx}*v**2 + 180*(v)_{xxxxxxx}*(v)_{x}*v + 36*(v)_{xxxxxxx}*v**3 + 480*(v)_{xxxxxx}*(v)_{xx}*v + 462*(v)_{xxxxxx}*(v)_{x}**2 + 288*(v)_{xxxxxx}*(v)_{x}*v**2 - 126*(v)_{xxxxxx}*v**4 + 840*(v)_{xxxxx}*(v)_{xxx}*v + 2376*(v)_{xxxxx}*(v)_{xx}*(v)_{x} + 672*(v)_{xxxxx}*(v)_{xx}*v**2 + 636*(v)_{xxxxx}*(v)_{x}**2*v - 2016*(v)_{xxxxx}*(v)_{x}*v**3 - 252*(v)_{xxxxx}*v**5 + 504*(v)_{xxxx}**2*v + 3696*(v)_{xxxx}*(v)_{xxx}*(v)_{x} + 1008*(v)_{xxxx}*(v)_{xxx}*v**2 + 2706*(v)_{xxxx}*(v)_{xx}**2 + 2808*(v)_{xxxx}*(v)_{xx}*(v)_{x}*v - 4032*(v)_{xxxx}*(v)_{xx}*v**3 - 10668*(v)_{xxxx}*(v)_{x}**2*v**2 - 3024*(v)_{xxxx}*(v)_{x}*v**4 + 420*(v)_{xxxx}*v**6 + 3498*(v)_{xxx}**2*(v)_{xx} + 1788*(v)_{xxx}**2*(v)_{x}*v - 2520*(v)_{xxx}**2*v**3 + 2604*(v)_{xxx}*(v)_{xx}**2*v - 36792*(v)_{xxx}*(v)_{xx}*(v)_{x}*v**2 - 5040*(v)_{xxx}*(v)_{xx}*v**4 - 21672*(v)_{xxx}*(v)_{x}**3*v - 12264*(v)_{xxx}*(v)_{x}**2*v**3 + 7560*(v)_{xxx}*(v)_{x}*v**5 + 840*(v)_{xxx}*v**7 - 8484*(v)_{xx}**3*v**2 - 45192*(v)_{xx}**2*(v)_{x}**2*v - 16968*(v)_{xx}**2*(v)_{x}*v**3 + 5040*(v)_{xx}**2*v**5 - 13398*(v)_{xx}*(v)_{x}**4 - 18816*(v)_{xx}*(v)_{x}**3*v**2 + 44100*(v)_{xx}*(v)_{x}**2*v**4 + 10080*(v)_{xx}*(v)_{x}*v**6 - 630*(v)_{xx}*v**8 - 1596*(v)_{x}**5*v + 25200*(v)_{x}**4*v**3 + 12600*(v)_{x}**3*v**5 - 5040*(v)_{x}**2*v**7 - 1260*(v)_{x}*v**9)"
      ]
     },
     "metadata": {},
     "output_type": "display_data"
    },
    {
     "data": {
      "text/latex": [
       "$\\displaystyle \\text{mKdV}(v) = - (v)_{xxxxxxxxxx} + 22 (v)_{xxxxxxxx} v^{2} - 18 (v)_{xxxxxxxx} + 176 (v)_{xxxxxxx} (v)_{x} v + 484 (v)_{xxxxxx} (v)_{xx} v + 462 (v)_{xxxxxx} (v)_{x}^{2} - 198 (v)_{xxxxxx} v^{4} + 324 (v)_{xxxxxx} v^{2} - 126 (v)_{xxxxxx} + 836 (v)_{xxxxx} (v)_{xxx} v + 2376 (v)_{xxxxx} (v)_{xx} (v)_{x} - 2376 (v)_{xxxxx} (v)_{x} v^{3} + 1944 (v)_{xxxxx} (v)_{x} v + 506 (v)_{xxxx}^{2} v + 3696 (v)_{xxxx} (v)_{xxx} (v)_{x} + 2706 (v)_{xxxx} (v)_{xx}^{2} - 5016 (v)_{xxxx} (v)_{xx} v^{3} + 4104 (v)_{xxxx} (v)_{xx} v - 11220 (v)_{xxxx} (v)_{x}^{2} v^{2} + 3780 (v)_{xxxx} (v)_{x}^{2} + 924 (v)_{xxxx} v^{6} - 2268 (v)_{xxxx} v^{4} + 1764 (v)_{xxxx} v^{2} - 420 (v)_{xxxx} + 3498 (v)_{xxx}^{2} (v)_{xx} - 3036 (v)_{xxx}^{2} v^{3} + 2484 (v)_{xxx}^{2} v - 39336 (v)_{xxx} (v)_{xx} (v)_{x} v^{2} + 13608 (v)_{xxx} (v)_{xx} (v)_{x} - 21120 (v)_{xxx} (v)_{x}^{3} v + 11088 (v)_{xxx} (v)_{x} v^{5} - 18144 (v)_{xxx} (v)_{x} v^{3} + 7056 (v)_{xxx} (v)_{x} v - 9372 (v)_{xx}^{3} v^{2} + 3276 (v)_{xx}^{3} - 44748 (v)_{xx}^{2} (v)_{x}^{2} v + 8316 (v)_{xx}^{2} v^{5} - 13608 (v)_{xx}^{2} v^{3} + 5292 (v)_{xx}^{2} v - 13398 (v)_{xx} (v)_{x}^{4} + 54516 (v)_{xx} (v)_{x}^{2} v^{4} - 55944 (v)_{xx} (v)_{x}^{2} v^{2} + 8820 (v)_{xx} (v)_{x}^{2} - 2310 (v)_{xx} v^{8} + 7560 (v)_{xx} v^{6} - 8820 (v)_{xx} v^{4} + 4200 (v)_{xx} v^{2} - 630 (v)_{xx} + 26796 (v)_{x}^{4} v^{3} - 14364 (v)_{x}^{4} v - 9240 (v)_{x}^{2} v^{7} + 22680 (v)_{x}^{2} v^{5} - 17640 (v)_{x}^{2} v^{3} + 4200 (v)_{x}^{2} v + 252 v^{11} - 1260 v^{9} + 2520 v^{7} - 2520 v^{5} + 1260 v^{3} - 252 v$"
      ],
      "text/plain": [
       "Eq(\\text{mKdV}(v), -(v)_{xxxxxxxxxx} + 22*(v)_{xxxxxxxx}*v**2 - 18*(v)_{xxxxxxxx} + 176*(v)_{xxxxxxx}*(v)_{x}*v + 484*(v)_{xxxxxx}*(v)_{xx}*v + 462*(v)_{xxxxxx}*(v)_{x}**2 - 198*(v)_{xxxxxx}*v**4 + 324*(v)_{xxxxxx}*v**2 - 126*(v)_{xxxxxx} + 836*(v)_{xxxxx}*(v)_{xxx}*v + 2376*(v)_{xxxxx}*(v)_{xx}*(v)_{x} - 2376*(v)_{xxxxx}*(v)_{x}*v**3 + 1944*(v)_{xxxxx}*(v)_{x}*v + 506*(v)_{xxxx}**2*v + 3696*(v)_{xxxx}*(v)_{xxx}*(v)_{x} + 2706*(v)_{xxxx}*(v)_{xx}**2 - 5016*(v)_{xxxx}*(v)_{xx}*v**3 + 4104*(v)_{xxxx}*(v)_{xx}*v - 11220*(v)_{xxxx}*(v)_{x}**2*v**2 + 3780*(v)_{xxxx}*(v)_{x}**2 + 924*(v)_{xxxx}*v**6 - 2268*(v)_{xxxx}*v**4 + 1764*(v)_{xxxx}*v**2 - 420*(v)_{xxxx} + 3498*(v)_{xxx}**2*(v)_{xx} - 3036*(v)_{xxx}**2*v**3 + 2484*(v)_{xxx}**2*v - 39336*(v)_{xxx}*(v)_{xx}*(v)_{x}*v**2 + 13608*(v)_{xxx}*(v)_{xx}*(v)_{x} - 21120*(v)_{xxx}*(v)_{x}**3*v + 11088*(v)_{xxx}*(v)_{x}*v**5 - 18144*(v)_{xxx}*(v)_{x}*v**3 + 7056*(v)_{xxx}*(v)_{x}*v - 9372*(v)_{xx}**3*v**2 + 3276*(v)_{xx}**3 - 44748*(v)_{xx}**2*(v)_{x}**2*v + 8316*(v)_{xx}**2*v**5 - 13608*(v)_{xx}**2*v**3 + 5292*(v)_{xx}**2*v - 13398*(v)_{xx}*(v)_{x}**4 + 54516*(v)_{xx}*(v)_{x}**2*v**4 - 55944*(v)_{xx}*(v)_{x}**2*v**2 + 8820*(v)_{xx}*(v)_{x}**2 - 2310*(v)_{xx}*v**8 + 7560*(v)_{xx}*v**6 - 8820*(v)_{xx}*v**4 + 4200*(v)_{xx}*v**2 - 630*(v)_{xx} + 26796*(v)_{x}**4*v**3 - 14364*(v)_{x}**4*v - 9240*(v)_{x}**2*v**7 + 22680*(v)_{x}**2*v**5 - 17640*(v)_{x}**2*v**3 + 4200*(v)_{x}**2*v + 252*v**11 - 1260*v**9 + 2520*v**7 - 2520*v**5 + 1260*v**3 - 252*v)"
      ]
     },
     "metadata": {},
     "output_type": "display_data"
    },
    {
     "data": {
      "text/latex": [
       "$\\displaystyle (\\text{mKdV}(v))_{x} + 2 \\cdot v \\cdot \\text{mKdV}(v) = - (v)_{xxxxxxxxxxx} - 2 (v)_{xxxxxxxxxx} v + 22 (v)_{xxxxxxxxx} v^{2} - 18 (v)_{xxxxxxxxx} + 220 (v)_{xxxxxxxx} (v)_{x} v + 44 (v)_{xxxxxxxx} v^{3} - 36 (v)_{xxxxxxxx} v + 660 (v)_{xxxxxxx} (v)_{xx} v + 638 (v)_{xxxxxxx} (v)_{x}^{2} + 352 (v)_{xxxxxxx} (v)_{x} v^{2} - 198 (v)_{xxxxxxx} v^{4} + 324 (v)_{xxxxxxx} v^{2} - 126 (v)_{xxxxxxx} + 1320 (v)_{xxxxxx} (v)_{xxx} v + 3784 (v)_{xxxxxx} (v)_{xx} (v)_{x} + 968 (v)_{xxxxxx} (v)_{xx} v^{2} + 924 (v)_{xxxxxx} (v)_{x}^{2} v - 3168 (v)_{xxxxxx} (v)_{x} v^{3} + 2592 (v)_{xxxxxx} (v)_{x} v - 396 (v)_{xxxxxx} v^{5} + 648 (v)_{xxxxxx} v^{3} - 252 (v)_{xxxxxx} v + 1848 (v)_{xxxxx} (v)_{xxxx} v + 6908 (v)_{xxxxx} (v)_{xxx} (v)_{x} + 1672 (v)_{xxxxx} (v)_{xxx} v^{2} + 5082 (v)_{xxxxx} (v)_{xx}^{2} + 4752 (v)_{xxxxx} (v)_{xx} (v)_{x} v - 7392 (v)_{xxxxx} (v)_{xx} v^{3} + 6048 (v)_{xxxxx} (v)_{xx} v - 18348 (v)_{xxxxx} (v)_{x}^{2} v^{2} + 5724 (v)_{xxxxx} (v)_{x}^{2} - 4752 (v)_{xxxxx} (v)_{x} v^{4} + 3888 (v)_{xxxxx} (v)_{x} v^{2} + 924 (v)_{xxxxx} v^{6} - 2268 (v)_{xxxxx} v^{4} + 1764 (v)_{xxxxx} v^{2} - 420 (v)_{xxxxx} + 4202 (v)_{xxxx}^{2} (v)_{x} + 1012 (v)_{xxxx}^{2} v^{2} + 16104 (v)_{xxxx} (v)_{xxx} (v)_{xx} + 7392 (v)_{xxxx} (v)_{xxx} (v)_{x} v - 11088 (v)_{xxxx} (v)_{xxx} v^{3} + 9072 (v)_{xxxx} (v)_{xxx} v + 5412 (v)_{xxxx} (v)_{xx}^{2} v - 76824 (v)_{xxxx} (v)_{xx} (v)_{x} v^{2} + 25272 (v)_{xxxx} (v)_{xx} (v)_{x} - 10032 (v)_{xxxx} (v)_{xx} v^{4} + 8208 (v)_{xxxx} (v)_{xx} v^{2} - 43560 (v)_{xxxx} (v)_{x}^{3} v - 22440 (v)_{xxxx} (v)_{x}^{2} v^{3} + 7560 (v)_{xxxx} (v)_{x}^{2} v + 16632 (v)_{xxxx} (v)_{x} v^{5} - 27216 (v)_{xxxx} (v)_{x} v^{3} + 10584 (v)_{xxxx} (v)_{x} v + 1848 (v)_{xxxx} v^{7} - 4536 (v)_{xxxx} v^{5} + 3528 (v)_{xxxx} v^{3} - 840 (v)_{xxxx} v + 3498 (v)_{xxx}^{3} + 6996 (v)_{xxx}^{2} (v)_{xx} v - 48444 (v)_{xxx}^{2} (v)_{x} v^{2} + 16092 (v)_{xxx}^{2} (v)_{x} - 6072 (v)_{xxx}^{2} v^{4} + 4968 (v)_{xxx}^{2} v^{2} - 67452 (v)_{xxx} (v)_{xx}^{2} v^{2} + 23436 (v)_{xxx} (v)_{xx}^{2} - 231528 (v)_{xxx} (v)_{xx} (v)_{x}^{2} v - 78672 (v)_{xxx} (v)_{xx} (v)_{x} v^{3} + 27216 (v)_{xxx} (v)_{xx} (v)_{x} v + 27720 (v)_{xxx} (v)_{xx} v^{5} - 45360 (v)_{xxx} (v)_{xx} v^{3} + 17640 (v)_{xxx} (v)_{xx} v - 34518 (v)_{xxx} (v)_{x}^{4} - 42240 (v)_{xxx} (v)_{x}^{3} v^{2} + 109956 (v)_{xxx} (v)_{x}^{2} v^{4} - 110376 (v)_{xxx} (v)_{x}^{2} v^{2} + 15876 (v)_{xxx} (v)_{x}^{2} + 22176 (v)_{xxx} (v)_{x} v^{6} - 36288 (v)_{xxx} (v)_{x} v^{4} + 14112 (v)_{xxx} (v)_{x} v^{2} - 2310 (v)_{xxx} v^{8} + 7560 (v)_{xxx} v^{6} - 8820 (v)_{xxx} v^{4} + 4200 (v)_{xxx} v^{2} - 630 (v)_{xxx} - 108240 (v)_{xx}^{3} (v)_{x} v - 18744 (v)_{xx}^{3} v^{3} + 6552 (v)_{xx}^{3} v - 98340 (v)_{xx}^{2} (v)_{x}^{3} - 89496 (v)_{xx}^{2} (v)_{x}^{2} v^{2} + 150612 (v)_{xx}^{2} (v)_{x} v^{4} - 152712 (v)_{xx}^{2} (v)_{x} v^{2} + 22932 (v)_{xx}^{2} (v)_{x} + 16632 (v)_{xx}^{2} v^{6} - 27216 (v)_{xx}^{2} v^{4} + 10584 (v)_{xx}^{2} v^{2} - 26796 (v)_{xx} (v)_{x}^{4} v + 325248 (v)_{xx} (v)_{x}^{3} v^{3} - 169344 (v)_{xx} (v)_{x}^{3} v + 109032 (v)_{xx} (v)_{x}^{2} v^{5} - 111888 (v)_{xx} (v)_{x}^{2} v^{3} + 17640 (v)_{xx} (v)_{x}^{2} v - 36960 (v)_{xx} (v)_{x} v^{7} + 90720 (v)_{xx} (v)_{x} v^{5} - 70560 (v)_{xx} (v)_{x} v^{3} + 16800 (v)_{xx} (v)_{x} v - 4620 (v)_{xx} v^{9} + 15120 (v)_{xx} v^{7} - 17640 (v)_{xx} v^{5} + 8400 (v)_{xx} v^{3} - 1260 (v)_{xx} v + 80388 (v)_{x}^{5} v^{2} - 14364 (v)_{x}^{5} + 53592 (v)_{x}^{4} v^{4} - 28728 (v)_{x}^{4} v^{2} - 64680 (v)_{x}^{3} v^{6} + 113400 (v)_{x}^{3} v^{4} - 52920 (v)_{x}^{3} v^{2} + 4200 (v)_{x}^{3} - 18480 (v)_{x}^{2} v^{8} + 45360 (v)_{x}^{2} v^{6} - 35280 (v)_{x}^{2} v^{4} + 8400 (v)_{x}^{2} v^{2} + 2772 (v)_{x} v^{10} - 11340 (v)_{x} v^{8} + 17640 (v)_{x} v^{6} - 12600 (v)_{x} v^{4} + 3780 (v)_{x} v^{2} - 252 (v)_{x} + 504 v^{12} - 2520 v^{10} + 5040 v^{8} - 5040 v^{6} + 2520 v^{4} - 504 v^{2}$"
      ],
      "text/plain": [
       "Eq((\\text{mKdV}(v))_{x} + 2 \\cdot v \\cdot \\text{mKdV}(v), -(v)_{xxxxxxxxxxx} - 2*(v)_{xxxxxxxxxx}*v + 22*(v)_{xxxxxxxxx}*v**2 - 18*(v)_{xxxxxxxxx} + 220*(v)_{xxxxxxxx}*(v)_{x}*v + 44*(v)_{xxxxxxxx}*v**3 - 36*(v)_{xxxxxxxx}*v + 660*(v)_{xxxxxxx}*(v)_{xx}*v + 638*(v)_{xxxxxxx}*(v)_{x}**2 + 352*(v)_{xxxxxxx}*(v)_{x}*v**2 - 198*(v)_{xxxxxxx}*v**4 + 324*(v)_{xxxxxxx}*v**2 - 126*(v)_{xxxxxxx} + 1320*(v)_{xxxxxx}*(v)_{xxx}*v + 3784*(v)_{xxxxxx}*(v)_{xx}*(v)_{x} + 968*(v)_{xxxxxx}*(v)_{xx}*v**2 + 924*(v)_{xxxxxx}*(v)_{x}**2*v - 3168*(v)_{xxxxxx}*(v)_{x}*v**3 + 2592*(v)_{xxxxxx}*(v)_{x}*v - 396*(v)_{xxxxxx}*v**5 + 648*(v)_{xxxxxx}*v**3 - 252*(v)_{xxxxxx}*v + 1848*(v)_{xxxxx}*(v)_{xxxx}*v + 6908*(v)_{xxxxx}*(v)_{xxx}*(v)_{x} + 1672*(v)_{xxxxx}*(v)_{xxx}*v**2 + 5082*(v)_{xxxxx}*(v)_{xx}**2 + 4752*(v)_{xxxxx}*(v)_{xx}*(v)_{x}*v - 7392*(v)_{xxxxx}*(v)_{xx}*v**3 + 6048*(v)_{xxxxx}*(v)_{xx}*v - 18348*(v)_{xxxxx}*(v)_{x}**2*v**2 + 5724*(v)_{xxxxx}*(v)_{x}**2 - 4752*(v)_{xxxxx}*(v)_{x}*v**4 + 3888*(v)_{xxxxx}*(v)_{x}*v**2 + 924*(v)_{xxxxx}*v**6 - 2268*(v)_{xxxxx}*v**4 + 1764*(v)_{xxxxx}*v**2 - 420*(v)_{xxxxx} + 4202*(v)_{xxxx}**2*(v)_{x} + 1012*(v)_{xxxx}**2*v**2 + 16104*(v)_{xxxx}*(v)_{xxx}*(v)_{xx} + 7392*(v)_{xxxx}*(v)_{xxx}*(v)_{x}*v - 11088*(v)_{xxxx}*(v)_{xxx}*v**3 + 9072*(v)_{xxxx}*(v)_{xxx}*v + 5412*(v)_{xxxx}*(v)_{xx}**2*v - 76824*(v)_{xxxx}*(v)_{xx}*(v)_{x}*v**2 + 25272*(v)_{xxxx}*(v)_{xx}*(v)_{x} - 10032*(v)_{xxxx}*(v)_{xx}*v**4 + 8208*(v)_{xxxx}*(v)_{xx}*v**2 - 43560*(v)_{xxxx}*(v)_{x}**3*v - 22440*(v)_{xxxx}*(v)_{x}**2*v**3 + 7560*(v)_{xxxx}*(v)_{x}**2*v + 16632*(v)_{xxxx}*(v)_{x}*v**5 - 27216*(v)_{xxxx}*(v)_{x}*v**3 + 10584*(v)_{xxxx}*(v)_{x}*v + 1848*(v)_{xxxx}*v**7 - 4536*(v)_{xxxx}*v**5 + 3528*(v)_{xxxx}*v**3 - 840*(v)_{xxxx}*v + 3498*(v)_{xxx}**3 + 6996*(v)_{xxx}**2*(v)_{xx}*v - 48444*(v)_{xxx}**2*(v)_{x}*v**2 + 16092*(v)_{xxx}**2*(v)_{x} - 6072*(v)_{xxx}**2*v**4 + 4968*(v)_{xxx}**2*v**2 - 67452*(v)_{xxx}*(v)_{xx}**2*v**2 + 23436*(v)_{xxx}*(v)_{xx}**2 - 231528*(v)_{xxx}*(v)_{xx}*(v)_{x}**2*v - 78672*(v)_{xxx}*(v)_{xx}*(v)_{x}*v**3 + 27216*(v)_{xxx}*(v)_{xx}*(v)_{x}*v + 27720*(v)_{xxx}*(v)_{xx}*v**5 - 45360*(v)_{xxx}*(v)_{xx}*v**3 + 17640*(v)_{xxx}*(v)_{xx}*v - 34518*(v)_{xxx}*(v)_{x}**4 - 42240*(v)_{xxx}*(v)_{x}**3*v**2 + 109956*(v)_{xxx}*(v)_{x}**2*v**4 - 110376*(v)_{xxx}*(v)_{x}**2*v**2 + 15876*(v)_{xxx}*(v)_{x}**2 + 22176*(v)_{xxx}*(v)_{x}*v**6 - 36288*(v)_{xxx}*(v)_{x}*v**4 + 14112*(v)_{xxx}*(v)_{x}*v**2 - 2310*(v)_{xxx}*v**8 + 7560*(v)_{xxx}*v**6 - 8820*(v)_{xxx}*v**4 + 4200*(v)_{xxx}*v**2 - 630*(v)_{xxx} - 108240*(v)_{xx}**3*(v)_{x}*v - 18744*(v)_{xx}**3*v**3 + 6552*(v)_{xx}**3*v - 98340*(v)_{xx}**2*(v)_{x}**3 - 89496*(v)_{xx}**2*(v)_{x}**2*v**2 + 150612*(v)_{xx}**2*(v)_{x}*v**4 - 152712*(v)_{xx}**2*(v)_{x}*v**2 + 22932*(v)_{xx}**2*(v)_{x} + 16632*(v)_{xx}**2*v**6 - 27216*(v)_{xx}**2*v**4 + 10584*(v)_{xx}**2*v**2 - 26796*(v)_{xx}*(v)_{x}**4*v + 325248*(v)_{xx}*(v)_{x}**3*v**3 - 169344*(v)_{xx}*(v)_{x}**3*v + 109032*(v)_{xx}*(v)_{x}**2*v**5 - 111888*(v)_{xx}*(v)_{x}**2*v**3 + 17640*(v)_{xx}*(v)_{x}**2*v - 36960*(v)_{xx}*(v)_{x}*v**7 + 90720*(v)_{xx}*(v)_{x}*v**5 - 70560*(v)_{xx}*(v)_{x}*v**3 + 16800*(v)_{xx}*(v)_{x}*v - 4620*(v)_{xx}*v**9 + 15120*(v)_{xx}*v**7 - 17640*(v)_{xx}*v**5 + 8400*(v)_{xx}*v**3 - 1260*(v)_{xx}*v + 80388*(v)_{x}**5*v**2 - 14364*(v)_{x}**5 + 53592*(v)_{x}**4*v**4 - 28728*(v)_{x}**4*v**2 - 64680*(v)_{x}**3*v**6 + 113400*(v)_{x}**3*v**4 - 52920*(v)_{x}**3*v**2 + 4200*(v)_{x}**3 - 18480*(v)_{x}**2*v**8 + 45360*(v)_{x}**2*v**6 - 35280*(v)_{x}**2*v**4 + 8400*(v)_{x}**2*v**2 + 2772*(v)_{x}*v**10 - 11340*(v)_{x}*v**8 + 17640*(v)_{x}*v**6 - 12600*(v)_{x}*v**4 + 3780*(v)_{x}*v**2 - 252*(v)_{x} + 504*v**12 - 2520*v**10 + 5040*v**8 - 5040*v**6 + 2520*v**4 - 504*v**2)"
      ]
     },
     "metadata": {},
     "output_type": "display_data"
    },
    {
     "data": {
      "text/latex": [
       "$\\displaystyle (\\text{mKdV}(v))_{x} + 2 \\cdot v \\cdot \\text{mKdV}(v) - \\text{KdV}(\\text{Miura}(v)) = - (v)_{xxxxxxxxxxx} - 2 (v)_{xxxxxxxxxx} v + (v)_{xxxxxxxxxx} + 22 (v)_{xxxxxxxxx} v^{2} + 2 (v)_{xxxxxxxxx} v - 18 (v)_{xxxxxxxxx} + 220 (v)_{xxxxxxxx} (v)_{x} v + 44 (v)_{xxxxxxxx} v^{3} - 18 (v)_{xxxxxxxx} v^{2} - 36 (v)_{xxxxxxxx} v + 660 (v)_{xxxxxxx} (v)_{xx} v + 638 (v)_{xxxxxxx} (v)_{x}^{2} + 352 (v)_{xxxxxxx} (v)_{x} v^{2} - 180 (v)_{xxxxxxx} (v)_{x} v - 198 (v)_{xxxxxxx} v^{4} - 36 (v)_{xxxxxxx} v^{3} + 324 (v)_{xxxxxxx} v^{2} - 126 (v)_{xxxxxxx} + 1320 (v)_{xxxxxx} (v)_{xxx} v + 3784 (v)_{xxxxxx} (v)_{xx} (v)_{x} + 968 (v)_{xxxxxx} (v)_{xx} v^{2} - 480 (v)_{xxxxxx} (v)_{xx} v + 924 (v)_{xxxxxx} (v)_{x}^{2} v - 462 (v)_{xxxxxx} (v)_{x}^{2} - 3168 (v)_{xxxxxx} (v)_{x} v^{3} - 288 (v)_{xxxxxx} (v)_{x} v^{2} + 2592 (v)_{xxxxxx} (v)_{x} v - 396 (v)_{xxxxxx} v^{5} + 126 (v)_{xxxxxx} v^{4} + 648 (v)_{xxxxxx} v^{3} - 252 (v)_{xxxxxx} v + 1848 (v)_{xxxxx} (v)_{xxxx} v + 6908 (v)_{xxxxx} (v)_{xxx} (v)_{x} + 1672 (v)_{xxxxx} (v)_{xxx} v^{2} - 840 (v)_{xxxxx} (v)_{xxx} v + 5082 (v)_{xxxxx} (v)_{xx}^{2} + 4752 (v)_{xxxxx} (v)_{xx} (v)_{x} v - 2376 (v)_{xxxxx} (v)_{xx} (v)_{x} - 7392 (v)_{xxxxx} (v)_{xx} v^{3} - 672 (v)_{xxxxx} (v)_{xx} v^{2} + 6048 (v)_{xxxxx} (v)_{xx} v - 18348 (v)_{xxxxx} (v)_{x}^{2} v^{2} - 636 (v)_{xxxxx} (v)_{x}^{2} v + 5724 (v)_{xxxxx} (v)_{x}^{2} - 4752 (v)_{xxxxx} (v)_{x} v^{4} + 2016 (v)_{xxxxx} (v)_{x} v^{3} + 3888 (v)_{xxxxx} (v)_{x} v^{2} + 924 (v)_{xxxxx} v^{6} + 252 (v)_{xxxxx} v^{5} - 2268 (v)_{xxxxx} v^{4} + 1764 (v)_{xxxxx} v^{2} - 420 (v)_{xxxxx} + 4202 (v)_{xxxx}^{2} (v)_{x} + 1012 (v)_{xxxx}^{2} v^{2} - 504 (v)_{xxxx}^{2} v + 16104 (v)_{xxxx} (v)_{xxx} (v)_{xx} + 7392 (v)_{xxxx} (v)_{xxx} (v)_{x} v - 3696 (v)_{xxxx} (v)_{xxx} (v)_{x} - 11088 (v)_{xxxx} (v)_{xxx} v^{3} - 1008 (v)_{xxxx} (v)_{xxx} v^{2} + 9072 (v)_{xxxx} (v)_{xxx} v + 5412 (v)_{xxxx} (v)_{xx}^{2} v - 2706 (v)_{xxxx} (v)_{xx}^{2} - 76824 (v)_{xxxx} (v)_{xx} (v)_{x} v^{2} - 2808 (v)_{xxxx} (v)_{xx} (v)_{x} v + 25272 (v)_{xxxx} (v)_{xx} (v)_{x} - 10032 (v)_{xxxx} (v)_{xx} v^{4} + 4032 (v)_{xxxx} (v)_{xx} v^{3} + 8208 (v)_{xxxx} (v)_{xx} v^{2} - 43560 (v)_{xxxx} (v)_{x}^{3} v - 22440 (v)_{xxxx} (v)_{x}^{2} v^{3} + 10668 (v)_{xxxx} (v)_{x}^{2} v^{2} + 7560 (v)_{xxxx} (v)_{x}^{2} v + 16632 (v)_{xxxx} (v)_{x} v^{5} + 3024 (v)_{xxxx} (v)_{x} v^{4} - 27216 (v)_{xxxx} (v)_{x} v^{3} + 10584 (v)_{xxxx} (v)_{x} v + 1848 (v)_{xxxx} v^{7} - 420 (v)_{xxxx} v^{6} - 4536 (v)_{xxxx} v^{5} + 3528 (v)_{xxxx} v^{3} - 840 (v)_{xxxx} v + 3498 (v)_{xxx}^{3} + 6996 (v)_{xxx}^{2} (v)_{xx} v - 3498 (v)_{xxx}^{2} (v)_{xx} - 48444 (v)_{xxx}^{2} (v)_{x} v^{2} - 1788 (v)_{xxx}^{2} (v)_{x} v + 16092 (v)_{xxx}^{2} (v)_{x} - 6072 (v)_{xxx}^{2} v^{4} + 2520 (v)_{xxx}^{2} v^{3} + 4968 (v)_{xxx}^{2} v^{2} - 67452 (v)_{xxx} (v)_{xx}^{2} v^{2} - 2604 (v)_{xxx} (v)_{xx}^{2} v + 23436 (v)_{xxx} (v)_{xx}^{2} - 231528 (v)_{xxx} (v)_{xx} (v)_{x}^{2} v - 78672 (v)_{xxx} (v)_{xx} (v)_{x} v^{3} + 36792 (v)_{xxx} (v)_{xx} (v)_{x} v^{2} + 27216 (v)_{xxx} (v)_{xx} (v)_{x} v + 27720 (v)_{xxx} (v)_{xx} v^{5} + 5040 (v)_{xxx} (v)_{xx} v^{4} - 45360 (v)_{xxx} (v)_{xx} v^{3} + 17640 (v)_{xxx} (v)_{xx} v - 34518 (v)_{xxx} (v)_{x}^{4} - 42240 (v)_{xxx} (v)_{x}^{3} v^{2} + 21672 (v)_{xxx} (v)_{x}^{3} v + 109956 (v)_{xxx} (v)_{x}^{2} v^{4} + 12264 (v)_{xxx} (v)_{x}^{2} v^{3} - 110376 (v)_{xxx} (v)_{x}^{2} v^{2} + 15876 (v)_{xxx} (v)_{x}^{2} + 22176 (v)_{xxx} (v)_{x} v^{6} - 7560 (v)_{xxx} (v)_{x} v^{5} - 36288 (v)_{xxx} (v)_{x} v^{4} + 14112 (v)_{xxx} (v)_{x} v^{2} - 2310 (v)_{xxx} v^{8} - 840 (v)_{xxx} v^{7} + 7560 (v)_{xxx} v^{6} - 8820 (v)_{xxx} v^{4} + 4200 (v)_{xxx} v^{2} - 630 (v)_{xxx} - 108240 (v)_{xx}^{3} (v)_{x} v - 18744 (v)_{xx}^{3} v^{3} + 8484 (v)_{xx}^{3} v^{2} + 6552 (v)_{xx}^{3} v - 98340 (v)_{xx}^{2} (v)_{x}^{3} - 89496 (v)_{xx}^{2} (v)_{x}^{2} v^{2} + 45192 (v)_{xx}^{2} (v)_{x}^{2} v + 150612 (v)_{xx}^{2} (v)_{x} v^{4} + 16968 (v)_{xx}^{2} (v)_{x} v^{3} - 152712 (v)_{xx}^{2} (v)_{x} v^{2} + 22932 (v)_{xx}^{2} (v)_{x} + 16632 (v)_{xx}^{2} v^{6} - 5040 (v)_{xx}^{2} v^{5} - 27216 (v)_{xx}^{2} v^{4} + 10584 (v)_{xx}^{2} v^{2} - 26796 (v)_{xx} (v)_{x}^{4} v + 13398 (v)_{xx} (v)_{x}^{4} + 325248 (v)_{xx} (v)_{x}^{3} v^{3} + 18816 (v)_{xx} (v)_{x}^{3} v^{2} - 169344 (v)_{xx} (v)_{x}^{3} v + 109032 (v)_{xx} (v)_{x}^{2} v^{5} - 44100 (v)_{xx} (v)_{x}^{2} v^{4} - 111888 (v)_{xx} (v)_{x}^{2} v^{3} + 17640 (v)_{xx} (v)_{x}^{2} v - 36960 (v)_{xx} (v)_{x} v^{7} - 10080 (v)_{xx} (v)_{x} v^{6} + 90720 (v)_{xx} (v)_{x} v^{5} - 70560 (v)_{xx} (v)_{x} v^{3} + 16800 (v)_{xx} (v)_{x} v - 4620 (v)_{xx} v^{9} + 630 (v)_{xx} v^{8} + 15120 (v)_{xx} v^{7} - 17640 (v)_{xx} v^{5} + 8400 (v)_{xx} v^{3} - 1260 (v)_{xx} v + 80388 (v)_{x}^{5} v^{2} + 1596 (v)_{x}^{5} v - 14364 (v)_{x}^{5} + 53592 (v)_{x}^{4} v^{4} - 25200 (v)_{x}^{4} v^{3} - 28728 (v)_{x}^{4} v^{2} - 64680 (v)_{x}^{3} v^{6} - 12600 (v)_{x}^{3} v^{5} + 113400 (v)_{x}^{3} v^{4} - 52920 (v)_{x}^{3} v^{2} + 4200 (v)_{x}^{3} - 18480 (v)_{x}^{2} v^{8} + 5040 (v)_{x}^{2} v^{7} + 45360 (v)_{x}^{2} v^{6} - 35280 (v)_{x}^{2} v^{4} + 8400 (v)_{x}^{2} v^{2} + 2772 (v)_{x} v^{10} + 1260 (v)_{x} v^{9} - 11340 (v)_{x} v^{8} + 17640 (v)_{x} v^{6} - 12600 (v)_{x} v^{4} + 3780 (v)_{x} v^{2} - 252 (v)_{x} + 504 v^{12} - 2520 v^{10} + 5040 v^{8} - 5040 v^{6} + 2520 v^{4} - 504 v^{2}$"
      ],
      "text/plain": [
       "Eq((\\text{mKdV}(v))_{x} + 2 \\cdot v \\cdot \\text{mKdV}(v) - \\text{KdV}(\\text{Miura}(v)), -(v)_{xxxxxxxxxxx} - 2*(v)_{xxxxxxxxxx}*v + (v)_{xxxxxxxxxx} + 22*(v)_{xxxxxxxxx}*v**2 + 2*(v)_{xxxxxxxxx}*v - 18*(v)_{xxxxxxxxx} + 220*(v)_{xxxxxxxx}*(v)_{x}*v + 44*(v)_{xxxxxxxx}*v**3 - 18*(v)_{xxxxxxxx}*v**2 - 36*(v)_{xxxxxxxx}*v + 660*(v)_{xxxxxxx}*(v)_{xx}*v + 638*(v)_{xxxxxxx}*(v)_{x}**2 + 352*(v)_{xxxxxxx}*(v)_{x}*v**2 - 180*(v)_{xxxxxxx}*(v)_{x}*v - 198*(v)_{xxxxxxx}*v**4 - 36*(v)_{xxxxxxx}*v**3 + 324*(v)_{xxxxxxx}*v**2 - 126*(v)_{xxxxxxx} + 1320*(v)_{xxxxxx}*(v)_{xxx}*v + 3784*(v)_{xxxxxx}*(v)_{xx}*(v)_{x} + 968*(v)_{xxxxxx}*(v)_{xx}*v**2 - 480*(v)_{xxxxxx}*(v)_{xx}*v + 924*(v)_{xxxxxx}*(v)_{x}**2*v - 462*(v)_{xxxxxx}*(v)_{x}**2 - 3168*(v)_{xxxxxx}*(v)_{x}*v**3 - 288*(v)_{xxxxxx}*(v)_{x}*v**2 + 2592*(v)_{xxxxxx}*(v)_{x}*v - 396*(v)_{xxxxxx}*v**5 + 126*(v)_{xxxxxx}*v**4 + 648*(v)_{xxxxxx}*v**3 - 252*(v)_{xxxxxx}*v + 1848*(v)_{xxxxx}*(v)_{xxxx}*v + 6908*(v)_{xxxxx}*(v)_{xxx}*(v)_{x} + 1672*(v)_{xxxxx}*(v)_{xxx}*v**2 - 840*(v)_{xxxxx}*(v)_{xxx}*v + 5082*(v)_{xxxxx}*(v)_{xx}**2 + 4752*(v)_{xxxxx}*(v)_{xx}*(v)_{x}*v - 2376*(v)_{xxxxx}*(v)_{xx}*(v)_{x} - 7392*(v)_{xxxxx}*(v)_{xx}*v**3 - 672*(v)_{xxxxx}*(v)_{xx}*v**2 + 6048*(v)_{xxxxx}*(v)_{xx}*v - 18348*(v)_{xxxxx}*(v)_{x}**2*v**2 - 636*(v)_{xxxxx}*(v)_{x}**2*v + 5724*(v)_{xxxxx}*(v)_{x}**2 - 4752*(v)_{xxxxx}*(v)_{x}*v**4 + 2016*(v)_{xxxxx}*(v)_{x}*v**3 + 3888*(v)_{xxxxx}*(v)_{x}*v**2 + 924*(v)_{xxxxx}*v**6 + 252*(v)_{xxxxx}*v**5 - 2268*(v)_{xxxxx}*v**4 + 1764*(v)_{xxxxx}*v**2 - 420*(v)_{xxxxx} + 4202*(v)_{xxxx}**2*(v)_{x} + 1012*(v)_{xxxx}**2*v**2 - 504*(v)_{xxxx}**2*v + 16104*(v)_{xxxx}*(v)_{xxx}*(v)_{xx} + 7392*(v)_{xxxx}*(v)_{xxx}*(v)_{x}*v - 3696*(v)_{xxxx}*(v)_{xxx}*(v)_{x} - 11088*(v)_{xxxx}*(v)_{xxx}*v**3 - 1008*(v)_{xxxx}*(v)_{xxx}*v**2 + 9072*(v)_{xxxx}*(v)_{xxx}*v + 5412*(v)_{xxxx}*(v)_{xx}**2*v - 2706*(v)_{xxxx}*(v)_{xx}**2 - 76824*(v)_{xxxx}*(v)_{xx}*(v)_{x}*v**2 - 2808*(v)_{xxxx}*(v)_{xx}*(v)_{x}*v + 25272*(v)_{xxxx}*(v)_{xx}*(v)_{x} - 10032*(v)_{xxxx}*(v)_{xx}*v**4 + 4032*(v)_{xxxx}*(v)_{xx}*v**3 + 8208*(v)_{xxxx}*(v)_{xx}*v**2 - 43560*(v)_{xxxx}*(v)_{x}**3*v - 22440*(v)_{xxxx}*(v)_{x}**2*v**3 + 10668*(v)_{xxxx}*(v)_{x}**2*v**2 + 7560*(v)_{xxxx}*(v)_{x}**2*v + 16632*(v)_{xxxx}*(v)_{x}*v**5 + 3024*(v)_{xxxx}*(v)_{x}*v**4 - 27216*(v)_{xxxx}*(v)_{x}*v**3 + 10584*(v)_{xxxx}*(v)_{x}*v + 1848*(v)_{xxxx}*v**7 - 420*(v)_{xxxx}*v**6 - 4536*(v)_{xxxx}*v**5 + 3528*(v)_{xxxx}*v**3 - 840*(v)_{xxxx}*v + 3498*(v)_{xxx}**3 + 6996*(v)_{xxx}**2*(v)_{xx}*v - 3498*(v)_{xxx}**2*(v)_{xx} - 48444*(v)_{xxx}**2*(v)_{x}*v**2 - 1788*(v)_{xxx}**2*(v)_{x}*v + 16092*(v)_{xxx}**2*(v)_{x} - 6072*(v)_{xxx}**2*v**4 + 2520*(v)_{xxx}**2*v**3 + 4968*(v)_{xxx}**2*v**2 - 67452*(v)_{xxx}*(v)_{xx}**2*v**2 - 2604*(v)_{xxx}*(v)_{xx}**2*v + 23436*(v)_{xxx}*(v)_{xx}**2 - 231528*(v)_{xxx}*(v)_{xx}*(v)_{x}**2*v - 78672*(v)_{xxx}*(v)_{xx}*(v)_{x}*v**3 + 36792*(v)_{xxx}*(v)_{xx}*(v)_{x}*v**2 + 27216*(v)_{xxx}*(v)_{xx}*(v)_{x}*v + 27720*(v)_{xxx}*(v)_{xx}*v**5 + 5040*(v)_{xxx}*(v)_{xx}*v**4 - 45360*(v)_{xxx}*(v)_{xx}*v**3 + 17640*(v)_{xxx}*(v)_{xx}*v - 34518*(v)_{xxx}*(v)_{x}**4 - 42240*(v)_{xxx}*(v)_{x}**3*v**2 + 21672*(v)_{xxx}*(v)_{x}**3*v + 109956*(v)_{xxx}*(v)_{x}**2*v**4 + 12264*(v)_{xxx}*(v)_{x}**2*v**3 - 110376*(v)_{xxx}*(v)_{x}**2*v**2 + 15876*(v)_{xxx}*(v)_{x}**2 + 22176*(v)_{xxx}*(v)_{x}*v**6 - 7560*(v)_{xxx}*(v)_{x}*v**5 - 36288*(v)_{xxx}*(v)_{x}*v**4 + 14112*(v)_{xxx}*(v)_{x}*v**2 - 2310*(v)_{xxx}*v**8 - 840*(v)_{xxx}*v**7 + 7560*(v)_{xxx}*v**6 - 8820*(v)_{xxx}*v**4 + 4200*(v)_{xxx}*v**2 - 630*(v)_{xxx} - 108240*(v)_{xx}**3*(v)_{x}*v - 18744*(v)_{xx}**3*v**3 + 8484*(v)_{xx}**3*v**2 + 6552*(v)_{xx}**3*v - 98340*(v)_{xx}**2*(v)_{x}**3 - 89496*(v)_{xx}**2*(v)_{x}**2*v**2 + 45192*(v)_{xx}**2*(v)_{x}**2*v + 150612*(v)_{xx}**2*(v)_{x}*v**4 + 16968*(v)_{xx}**2*(v)_{x}*v**3 - 152712*(v)_{xx}**2*(v)_{x}*v**2 + 22932*(v)_{xx}**2*(v)_{x} + 16632*(v)_{xx}**2*v**6 - 5040*(v)_{xx}**2*v**5 - 27216*(v)_{xx}**2*v**4 + 10584*(v)_{xx}**2*v**2 - 26796*(v)_{xx}*(v)_{x}**4*v + 13398*(v)_{xx}*(v)_{x}**4 + 325248*(v)_{xx}*(v)_{x}**3*v**3 + 18816*(v)_{xx}*(v)_{x}**3*v**2 - 169344*(v)_{xx}*(v)_{x}**3*v + 109032*(v)_{xx}*(v)_{x}**2*v**5 - 44100*(v)_{xx}*(v)_{x}**2*v**4 - 111888*(v)_{xx}*(v)_{x}**2*v**3 + 17640*(v)_{xx}*(v)_{x}**2*v - 36960*(v)_{xx}*(v)_{x}*v**7 - 10080*(v)_{xx}*(v)_{x}*v**6 + 90720*(v)_{xx}*(v)_{x}*v**5 - 70560*(v)_{xx}*(v)_{x}*v**3 + 16800*(v)_{xx}*(v)_{x}*v - 4620*(v)_{xx}*v**9 + 630*(v)_{xx}*v**8 + 15120*(v)_{xx}*v**7 - 17640*(v)_{xx}*v**5 + 8400*(v)_{xx}*v**3 - 1260*(v)_{xx}*v + 80388*(v)_{x}**5*v**2 + 1596*(v)_{x}**5*v - 14364*(v)_{x}**5 + 53592*(v)_{x}**4*v**4 - 25200*(v)_{x}**4*v**3 - 28728*(v)_{x}**4*v**2 - 64680*(v)_{x}**3*v**6 - 12600*(v)_{x}**3*v**5 + 113400*(v)_{x}**3*v**4 - 52920*(v)_{x}**3*v**2 + 4200*(v)_{x}**3 - 18480*(v)_{x}**2*v**8 + 5040*(v)_{x}**2*v**7 + 45360*(v)_{x}**2*v**6 - 35280*(v)_{x}**2*v**4 + 8400*(v)_{x}**2*v**2 + 2772*(v)_{x}*v**10 + 1260*(v)_{x}*v**9 - 11340*(v)_{x}*v**8 + 17640*(v)_{x}*v**6 - 12600*(v)_{x}*v**4 + 3780*(v)_{x}*v**2 - 252*(v)_{x} + 504*v**12 - 2520*v**10 + 5040*v**8 - 5040*v**6 + 2520*v**4 - 504*v**2)"
      ]
     },
     "metadata": {},
     "output_type": "display_data"
    }
   ],
   "source": [
    "def miura(expr):\n",
    "    return substituter(expr, u, deriv(v) + v**2)\n",
    "\n",
    "for n in range(0, N, 2):\n",
    "    print(\"n =\", n)\n",
    "    KdV = - simplify(Rational(1,2) * deriv(variation(SS_eq[n+1], u)))\n",
    "    KdVMiura = simplify(miura(KdV))\n",
    "    mKdV = simplify(multi_substituter(variation(sigq_eq[n+1], q_conj), [(q, v), (q_conj, v)]))\n",
    "    display(Eq(Symbol('\\\\text{KdV}(u)'), KdV))\n",
    "    display(Eq(Symbol('\\\\text{KdV}(\\\\text{Miura}(v))'), KdVMiura))\n",
    "    display(Eq(Symbol('\\\\text{mKdV}(v)'), mKdV))\n",
    "    display(Eq(Symbol('(\\\\text{mKdV}(v))_{x} + 2 \\cdot v \\cdot \\\\text{mKdV}(v)'), simplify(deriv(mKdV) + 2 * v * mKdV)))\n",
    "    display(Eq(Symbol('(\\\\text{mKdV}(v))_{x} + 2 \\cdot v \\cdot \\\\text{mKdV}(v) - \\\\text{KdV}(\\\\text{Miura}(v))'), simplify(deriv(mKdV) + 2 * v * mKdV - KdVMiura)))"
   ]
  },
  {
   "cell_type": "code",
   "execution_count": 49,
   "id": "858dae96",
   "metadata": {},
   "outputs": [
    {
     "name": "stdout",
     "output_type": "stream",
     "text": [
      "n = 0\n"
     ]
    },
    {
     "data": {
      "text/latex": [
       "$\\displaystyle \\text{KdV}(u) = 0$"
      ],
      "text/plain": [
       "Eq(\\text{KdV}(u), 0)"
      ]
     },
     "metadata": {},
     "output_type": "display_data"
    },
    {
     "data": {
      "text/latex": [
       "$\\displaystyle \\text{KdV}(\\text{Miura}(v)) = 0$"
      ],
      "text/plain": [
       "Eq(\\text{KdV}(\\text{Miura}(v)), 0)"
      ]
     },
     "metadata": {},
     "output_type": "display_data"
    },
    {
     "data": {
      "text/latex": [
       "$\\displaystyle \\text{mKdV}(v) = 0$"
      ],
      "text/plain": [
       "Eq(\\text{mKdV}(v), 0)"
      ]
     },
     "metadata": {},
     "output_type": "display_data"
    },
    {
     "data": {
      "text/latex": [
       "$\\displaystyle (\\text{mKdV}(v))_{x} + 2 \\cdot v \\cdot \\text{mKdV}(v) = 0$"
      ],
      "text/plain": [
       "Eq((\\text{mKdV}(v))_{x} + 2 \\cdot v \\cdot \\text{mKdV}(v), 0)"
      ]
     },
     "metadata": {},
     "output_type": "display_data"
    },
    {
     "data": {
      "text/latex": [
       "$\\displaystyle (\\text{mKdV}(v))_{x} + 2 \\cdot v \\cdot \\text{mKdV}(v) - \\text{KdV}(\\text{Miura}(v)) = 0$"
      ],
      "text/plain": [
       "Eq((\\text{mKdV}(v))_{x} + 2 \\cdot v \\cdot \\text{mKdV}(v) - \\text{KdV}(\\text{Miura}(v)), 0)"
      ]
     },
     "metadata": {},
     "output_type": "display_data"
    },
    {
     "name": "stdout",
     "output_type": "stream",
     "text": [
      "n = 2\n"
     ]
    },
    {
     "data": {
      "text/latex": [
       "$\\displaystyle \\text{KdV}(u) = - (u)_{x}$"
      ],
      "text/plain": [
       "Eq(\\text{KdV}(u), -(u)_{x})"
      ]
     },
     "metadata": {},
     "output_type": "display_data"
    },
    {
     "data": {
      "text/latex": [
       "$\\displaystyle \\text{KdV}(\\text{Miura}(v)) = - (v)_{xx} - 2 (v)_{x} v$"
      ],
      "text/plain": [
       "Eq(\\text{KdV}(\\text{Miura}(v)), -(v)_{xx} - 2*(v)_{x}*v)"
      ]
     },
     "metadata": {},
     "output_type": "display_data"
    },
    {
     "data": {
      "text/latex": [
       "$\\displaystyle \\text{mKdV}(v) = - (v)_{x}$"
      ],
      "text/plain": [
       "Eq(\\text{mKdV}(v), -(v)_{x})"
      ]
     },
     "metadata": {},
     "output_type": "display_data"
    },
    {
     "data": {
      "text/latex": [
       "$\\displaystyle (\\text{mKdV}(v))_{x} + 2 \\cdot v \\cdot \\text{mKdV}(v) = - (v)_{xx} - 2 (v)_{x} v$"
      ],
      "text/plain": [
       "Eq((\\text{mKdV}(v))_{x} + 2 \\cdot v \\cdot \\text{mKdV}(v), -(v)_{xx} - 2*(v)_{x}*v)"
      ]
     },
     "metadata": {},
     "output_type": "display_data"
    },
    {
     "data": {
      "text/latex": [
       "$\\displaystyle (\\text{mKdV}(v))_{x} + 2 \\cdot v \\cdot \\text{mKdV}(v) - \\text{KdV}(\\text{Miura}(v)) = 0$"
      ],
      "text/plain": [
       "Eq((\\text{mKdV}(v))_{x} + 2 \\cdot v \\cdot \\text{mKdV}(v) - \\text{KdV}(\\text{Miura}(v)), 0)"
      ]
     },
     "metadata": {},
     "output_type": "display_data"
    },
    {
     "name": "stdout",
     "output_type": "stream",
     "text": [
      "n = 4\n"
     ]
    },
    {
     "data": {
      "text/latex": [
       "$\\displaystyle \\text{KdV}(u) = - (u)_{xxx} + 6 (u)_{x} u$"
      ],
      "text/plain": [
       "Eq(\\text{KdV}(u), -(u)_{xxx} + 6*(u)_{x}*u)"
      ]
     },
     "metadata": {},
     "output_type": "display_data"
    },
    {
     "data": {
      "text/latex": [
       "$\\displaystyle \\text{KdV}(\\text{Miura}(v)) = - (v)_{xxxx} - 2 (v)_{xxx} v + 6 (v)_{xx} v^{2} + 12 (v)_{x}^{2} v + 12 (v)_{x} v^{3}$"
      ],
      "text/plain": [
       "Eq(\\text{KdV}(\\text{Miura}(v)), -(v)_{xxxx} - 2*(v)_{xxx}*v + 6*(v)_{xx}*v**2 + 12*(v)_{x}**2*v + 12*(v)_{x}*v**3)"
      ]
     },
     "metadata": {},
     "output_type": "display_data"
    },
    {
     "data": {
      "text/latex": [
       "$\\displaystyle \\text{mKdV}(v) = - (v)_{xxx} + 6 (v)_{x} v^{2}$"
      ],
      "text/plain": [
       "Eq(\\text{mKdV}(v), -(v)_{xxx} + 6*(v)_{x}*v**2)"
      ]
     },
     "metadata": {},
     "output_type": "display_data"
    },
    {
     "data": {
      "text/latex": [
       "$\\displaystyle (\\text{mKdV}(v))_{x} + 2 \\cdot v \\cdot \\text{mKdV}(v) = - (v)_{xxxx} + 6 (v)_{xx} v^{2} + 12 (v)_{x}^{2} v - 2 v \\left((v)_{xxx} - 6 (v)_{x} v^{2}\\right)$"
      ],
      "text/plain": [
       "Eq((\\text{mKdV}(v))_{x} + 2 \\cdot v \\cdot \\text{mKdV}(v), -(v)_{xxxx} + 6*(v)_{xx}*v**2 + 12*(v)_{x}**2*v - 2*v*((v)_{xxx} - 6*(v)_{x}*v**2))"
      ]
     },
     "metadata": {},
     "output_type": "display_data"
    },
    {
     "data": {
      "text/latex": [
       "$\\displaystyle (\\text{mKdV}(v))_{x} + 2 \\cdot v \\cdot \\text{mKdV}(v) - \\text{KdV}(\\text{Miura}(v)) = 0$"
      ],
      "text/plain": [
       "Eq((\\text{mKdV}(v))_{x} + 2 \\cdot v \\cdot \\text{mKdV}(v) - \\text{KdV}(\\text{Miura}(v)), 0)"
      ]
     },
     "metadata": {},
     "output_type": "display_data"
    },
    {
     "name": "stdout",
     "output_type": "stream",
     "text": [
      "n = 6\n"
     ]
    },
    {
     "data": {
      "text/latex": [
       "$\\displaystyle \\text{KdV}(u) = - (u)_{xxxxx} + 10 (u)_{xxx} u + 20 (u)_{xx} (u)_{x} - 30 (u)_{x} u^{2}$"
      ],
      "text/plain": [
       "Eq(\\text{KdV}(u), -(u)_{xxxxx} + 10*(u)_{xxx}*u + 20*(u)_{xx}*(u)_{x} - 30*(u)_{x}*u**2)"
      ]
     },
     "metadata": {},
     "output_type": "display_data"
    },
    {
     "data": {
      "text/latex": [
       "$\\displaystyle \\text{KdV}(\\text{Miura}(v)) = - (v)_{xxxxxx} - 2 (v)_{xxxxx} v + 10 (v)_{xxxx} v^{2} + 60 (v)_{xxx} (v)_{x} v + 20 (v)_{xxx} v^{3} + 40 (v)_{xx}^{2} v + 70 (v)_{xx} (v)_{x}^{2} + 80 (v)_{xx} (v)_{x} v^{2} - 30 (v)_{xx} v^{4} + 20 (v)_{x}^{3} v - 120 (v)_{x}^{2} v^{3} - 60 (v)_{x} v^{5}$"
      ],
      "text/plain": [
       "Eq(\\text{KdV}(\\text{Miura}(v)), -(v)_{xxxxxx} - 2*(v)_{xxxxx}*v + 10*(v)_{xxxx}*v**2 + 60*(v)_{xxx}*(v)_{x}*v + 20*(v)_{xxx}*v**3 + 40*(v)_{xx}**2*v + 70*(v)_{xx}*(v)_{x}**2 + 80*(v)_{xx}*(v)_{x}*v**2 - 30*(v)_{xx}*v**4 + 20*(v)_{x}**3*v - 120*(v)_{x}**2*v**3 - 60*(v)_{x}*v**5)"
      ]
     },
     "metadata": {},
     "output_type": "display_data"
    },
    {
     "data": {
      "text/latex": [
       "$\\displaystyle \\text{mKdV}(v) = - (v)_{xxxxx} + 10 (v)_{xxx} v^{2} + 40 (v)_{xx} (v)_{x} v + 10 (v)_{x}^{3} - 30 (v)_{x} v^{4}$"
      ],
      "text/plain": [
       "Eq(\\text{mKdV}(v), -(v)_{xxxxx} + 10*(v)_{xxx}*v**2 + 40*(v)_{xx}*(v)_{x}*v + 10*(v)_{x}**3 - 30*(v)_{x}*v**4)"
      ]
     },
     "metadata": {},
     "output_type": "display_data"
    },
    {
     "data": {
      "text/latex": [
       "$\\displaystyle (\\text{mKdV}(v))_{x} + 2 \\cdot v \\cdot \\text{mKdV}(v) = - (v)_{xxxxxx} - 2 (v)_{xxxxx} v + 10 (v)_{xxxx} v^{2} + 60 (v)_{xxx} (v)_{x} v + 20 (v)_{xxx} v^{3} + 40 (v)_{xx}^{2} v + 70 (v)_{xx} (v)_{x}^{2} + 80 (v)_{xx} (v)_{x} v^{2} - 30 (v)_{xx} v^{4} + 20 (v)_{x}^{3} v - 120 (v)_{x}^{2} v^{3} - 60 (v)_{x} v^{5}$"
      ],
      "text/plain": [
       "Eq((\\text{mKdV}(v))_{x} + 2 \\cdot v \\cdot \\text{mKdV}(v), -(v)_{xxxxxx} - 2*(v)_{xxxxx}*v + 10*(v)_{xxxx}*v**2 + 60*(v)_{xxx}*(v)_{x}*v + 20*(v)_{xxx}*v**3 + 40*(v)_{xx}**2*v + 70*(v)_{xx}*(v)_{x}**2 + 80*(v)_{xx}*(v)_{x}*v**2 - 30*(v)_{xx}*v**4 + 20*(v)_{x}**3*v - 120*(v)_{x}**2*v**3 - 60*(v)_{x}*v**5)"
      ]
     },
     "metadata": {},
     "output_type": "display_data"
    },
    {
     "data": {
      "text/latex": [
       "$\\displaystyle (\\text{mKdV}(v))_{x} + 2 \\cdot v \\cdot \\text{mKdV}(v) - \\text{KdV}(\\text{Miura}(v)) = 0$"
      ],
      "text/plain": [
       "Eq((\\text{mKdV}(v))_{x} + 2 \\cdot v \\cdot \\text{mKdV}(v) - \\text{KdV}(\\text{Miura}(v)), 0)"
      ]
     },
     "metadata": {},
     "output_type": "display_data"
    },
    {
     "name": "stdout",
     "output_type": "stream",
     "text": [
      "n = 8\n"
     ]
    },
    {
     "data": {
      "text/latex": [
       "$\\displaystyle \\text{KdV}(u) = - (u)_{xxxxxxx} + 14 (u)_{xxxxx} u + 42 (u)_{xxxx} (u)_{x} + 70 (u)_{xxx} (u)_{xx} - 70 (u)_{xxx} u^{2} - 280 (u)_{xx} (u)_{x} u - 70 (u)_{x}^{3} + 140 (u)_{x} u^{3}$"
      ],
      "text/plain": [
       "Eq(\\text{KdV}(u), -(u)_{xxxxxxx} + 14*(u)_{xxxxx}*u + 42*(u)_{xxxx}*(u)_{x} + 70*(u)_{xxx}*(u)_{xx} - 70*(u)_{xxx}*u**2 - 280*(u)_{xx}*(u)_{x}*u - 70*(u)_{x}**3 + 140*(u)_{x}*u**3)"
      ]
     },
     "metadata": {},
     "output_type": "display_data"
    },
    {
     "data": {
      "text/latex": [
       "$\\displaystyle \\text{KdV}(\\text{Miura}(v)) = - (v)_{xxxxxxxx} - 2 (v)_{xxxxxxx} v + 14 (v)_{xxxxxx} v^{2} + 112 (v)_{xxxxx} (v)_{x} v + 28 (v)_{xxxxx} v^{3} + 224 (v)_{xxxx} (v)_{xx} v + 210 (v)_{xxxx} (v)_{x}^{2} + 168 (v)_{xxxx} (v)_{x} v^{2} - 70 (v)_{xxxx} v^{4} + 140 (v)_{xxx}^{2} v + 756 (v)_{xxx} (v)_{xx} (v)_{x} + 280 (v)_{xxx} (v)_{xx} v^{2} + 252 (v)_{xxx} (v)_{x}^{2} v - 840 (v)_{xxx} (v)_{x} v^{3} - 140 (v)_{xxx} v^{5} + 182 (v)_{xx}^{3} + 364 (v)_{xx}^{2} (v)_{x} v - 560 (v)_{xx}^{2} v^{3} - 2940 (v)_{xx} (v)_{x}^{2} v^{2} - 1120 (v)_{xx} (v)_{x} v^{4} + 140 (v)_{xx} v^{6} - 840 (v)_{x}^{4} v - 840 (v)_{x}^{3} v^{3} + 840 (v)_{x}^{2} v^{5} + 280 (v)_{x} v^{7}$"
      ],
      "text/plain": [
       "Eq(\\text{KdV}(\\text{Miura}(v)), -(v)_{xxxxxxxx} - 2*(v)_{xxxxxxx}*v + 14*(v)_{xxxxxx}*v**2 + 112*(v)_{xxxxx}*(v)_{x}*v + 28*(v)_{xxxxx}*v**3 + 224*(v)_{xxxx}*(v)_{xx}*v + 210*(v)_{xxxx}*(v)_{x}**2 + 168*(v)_{xxxx}*(v)_{x}*v**2 - 70*(v)_{xxxx}*v**4 + 140*(v)_{xxx}**2*v + 756*(v)_{xxx}*(v)_{xx}*(v)_{x} + 280*(v)_{xxx}*(v)_{xx}*v**2 + 252*(v)_{xxx}*(v)_{x}**2*v - 840*(v)_{xxx}*(v)_{x}*v**3 - 140*(v)_{xxx}*v**5 + 182*(v)_{xx}**3 + 364*(v)_{xx}**2*(v)_{x}*v - 560*(v)_{xx}**2*v**3 - 2940*(v)_{xx}*(v)_{x}**2*v**2 - 1120*(v)_{xx}*(v)_{x}*v**4 + 140*(v)_{xx}*v**6 - 840*(v)_{x}**4*v - 840*(v)_{x}**3*v**3 + 840*(v)_{x}**2*v**5 + 280*(v)_{x}*v**7)"
      ]
     },
     "metadata": {},
     "output_type": "display_data"
    },
    {
     "data": {
      "text/latex": [
       "$\\displaystyle \\text{mKdV}(v) = - (v)_{xxxxxxx} + 14 (v)_{xxxxx} v^{2} + 84 (v)_{xxxx} (v)_{x} v + 140 (v)_{xxx} (v)_{xx} v + 126 (v)_{xxx} (v)_{x}^{2} - 70 (v)_{xxx} v^{4} + 182 (v)_{xx}^{2} (v)_{x} - 560 (v)_{xx} (v)_{x} v^{3} - 420 (v)_{x}^{3} v^{2} + 140 (v)_{x} v^{6}$"
      ],
      "text/plain": [
       "Eq(\\text{mKdV}(v), -(v)_{xxxxxxx} + 14*(v)_{xxxxx}*v**2 + 84*(v)_{xxxx}*(v)_{x}*v + 140*(v)_{xxx}*(v)_{xx}*v + 126*(v)_{xxx}*(v)_{x}**2 - 70*(v)_{xxx}*v**4 + 182*(v)_{xx}**2*(v)_{x} - 560*(v)_{xx}*(v)_{x}*v**3 - 420*(v)_{x}**3*v**2 + 140*(v)_{x}*v**6)"
      ]
     },
     "metadata": {},
     "output_type": "display_data"
    },
    {
     "data": {
      "text/latex": [
       "$\\displaystyle (\\text{mKdV}(v))_{x} + 2 \\cdot v \\cdot \\text{mKdV}(v) = - (v)_{xxxxxxxx} - 2 (v)_{xxxxxxx} v + 14 (v)_{xxxxxx} v^{2} + 112 (v)_{xxxxx} (v)_{x} v + 28 (v)_{xxxxx} v^{3} + 224 (v)_{xxxx} (v)_{xx} v + 210 (v)_{xxxx} (v)_{x}^{2} + 168 (v)_{xxxx} (v)_{x} v^{2} - 70 (v)_{xxxx} v^{4} + 140 (v)_{xxx}^{2} v + 756 (v)_{xxx} (v)_{xx} (v)_{x} + 280 (v)_{xxx} (v)_{xx} v^{2} + 252 (v)_{xxx} (v)_{x}^{2} v - 840 (v)_{xxx} (v)_{x} v^{3} - 140 (v)_{xxx} v^{5} + 182 (v)_{xx}^{3} + 364 (v)_{xx}^{2} (v)_{x} v - 560 (v)_{xx}^{2} v^{3} - 2940 (v)_{xx} (v)_{x}^{2} v^{2} - 1120 (v)_{xx} (v)_{x} v^{4} + 140 (v)_{xx} v^{6} - 840 (v)_{x}^{4} v - 840 (v)_{x}^{3} v^{3} + 840 (v)_{x}^{2} v^{5} + 280 (v)_{x} v^{7}$"
      ],
      "text/plain": [
       "Eq((\\text{mKdV}(v))_{x} + 2 \\cdot v \\cdot \\text{mKdV}(v), -(v)_{xxxxxxxx} - 2*(v)_{xxxxxxx}*v + 14*(v)_{xxxxxx}*v**2 + 112*(v)_{xxxxx}*(v)_{x}*v + 28*(v)_{xxxxx}*v**3 + 224*(v)_{xxxx}*(v)_{xx}*v + 210*(v)_{xxxx}*(v)_{x}**2 + 168*(v)_{xxxx}*(v)_{x}*v**2 - 70*(v)_{xxxx}*v**4 + 140*(v)_{xxx}**2*v + 756*(v)_{xxx}*(v)_{xx}*(v)_{x} + 280*(v)_{xxx}*(v)_{xx}*v**2 + 252*(v)_{xxx}*(v)_{x}**2*v - 840*(v)_{xxx}*(v)_{x}*v**3 - 140*(v)_{xxx}*v**5 + 182*(v)_{xx}**3 + 364*(v)_{xx}**2*(v)_{x}*v - 560*(v)_{xx}**2*v**3 - 2940*(v)_{xx}*(v)_{x}**2*v**2 - 1120*(v)_{xx}*(v)_{x}*v**4 + 140*(v)_{xx}*v**6 - 840*(v)_{x}**4*v - 840*(v)_{x}**3*v**3 + 840*(v)_{x}**2*v**5 + 280*(v)_{x}*v**7)"
      ]
     },
     "metadata": {},
     "output_type": "display_data"
    },
    {
     "data": {
      "text/latex": [
       "$\\displaystyle (\\text{mKdV}(v))_{x} + 2 \\cdot v \\cdot \\text{mKdV}(v) - \\text{KdV}(\\text{Miura}(v)) = 0$"
      ],
      "text/plain": [
       "Eq((\\text{mKdV}(v))_{x} + 2 \\cdot v \\cdot \\text{mKdV}(v) - \\text{KdV}(\\text{Miura}(v)), 0)"
      ]
     },
     "metadata": {},
     "output_type": "display_data"
    },
    {
     "name": "stdout",
     "output_type": "stream",
     "text": [
      "n = 10\n"
     ]
    },
    {
     "data": {
      "text/latex": [
       "$\\displaystyle \\text{KdV}(u) = - (u)_{xxxxxxxxx} + 18 (u)_{xxxxxxx} u + 72 (u)_{xxxxxx} (u)_{x} + 168 (u)_{xxxxx} (u)_{xx} - 126 (u)_{xxxxx} u^{2} + 252 (u)_{xxxx} (u)_{xxx} - 756 (u)_{xxxx} (u)_{x} u - 1260 (u)_{xxx} (u)_{xx} u - 966 (u)_{xxx} (u)_{x}^{2} + 420 (u)_{xxx} u^{3} - 1302 (u)_{xx}^{2} (u)_{x} + 2520 (u)_{xx} (u)_{x} u^{2} + 1260 (u)_{x}^{3} u - 630 (u)_{x} u^{4}$"
      ],
      "text/plain": [
       "Eq(\\text{KdV}(u), -(u)_{xxxxxxxxx} + 18*(u)_{xxxxxxx}*u + 72*(u)_{xxxxxx}*(u)_{x} + 168*(u)_{xxxxx}*(u)_{xx} - 126*(u)_{xxxxx}*u**2 + 252*(u)_{xxxx}*(u)_{xxx} - 756*(u)_{xxxx}*(u)_{x}*u - 1260*(u)_{xxx}*(u)_{xx}*u - 966*(u)_{xxx}*(u)_{x}**2 + 420*(u)_{xxx}*u**3 - 1302*(u)_{xx}**2*(u)_{x} + 2520*(u)_{xx}*(u)_{x}*u**2 + 1260*(u)_{x}**3*u - 630*(u)_{x}*u**4)"
      ]
     },
     "metadata": {},
     "output_type": "display_data"
    },
    {
     "data": {
      "text/latex": [
       "$\\displaystyle \\text{KdV}(\\text{Miura}(v)) = - (v)_{xxxxxxxxxx} - 2 (v)_{xxxxxxxxx} v + 18 (v)_{xxxxxxxx} v^{2} + 180 (v)_{xxxxxxx} (v)_{x} v + 36 (v)_{xxxxxxx} v^{3} + 480 (v)_{xxxxxx} (v)_{xx} v + 462 (v)_{xxxxxx} (v)_{x}^{2} + 288 (v)_{xxxxxx} (v)_{x} v^{2} - 126 (v)_{xxxxxx} v^{4} + 840 (v)_{xxxxx} (v)_{xxx} v + 2376 (v)_{xxxxx} (v)_{xx} (v)_{x} + 672 (v)_{xxxxx} (v)_{xx} v^{2} + 636 (v)_{xxxxx} (v)_{x}^{2} v - 2016 (v)_{xxxxx} (v)_{x} v^{3} - 252 (v)_{xxxxx} v^{5} + 504 (v)_{xxxx}^{2} v + 3696 (v)_{xxxx} (v)_{xxx} (v)_{x} + 1008 (v)_{xxxx} (v)_{xxx} v^{2} + 2706 (v)_{xxxx} (v)_{xx}^{2} + 2808 (v)_{xxxx} (v)_{xx} (v)_{x} v - 4032 (v)_{xxxx} (v)_{xx} v^{3} - 10668 (v)_{xxxx} (v)_{x}^{2} v^{2} - 3024 (v)_{xxxx} (v)_{x} v^{4} + 420 (v)_{xxxx} v^{6} + 3498 (v)_{xxx}^{2} (v)_{xx} + 1788 (v)_{xxx}^{2} (v)_{x} v - 2520 (v)_{xxx}^{2} v^{3} + 2604 (v)_{xxx} (v)_{xx}^{2} v - 36792 (v)_{xxx} (v)_{xx} (v)_{x} v^{2} - 5040 (v)_{xxx} (v)_{xx} v^{4} - 21672 (v)_{xxx} (v)_{x}^{3} v - 12264 (v)_{xxx} (v)_{x}^{2} v^{3} + 7560 (v)_{xxx} (v)_{x} v^{5} + 840 (v)_{xxx} v^{7} - 8484 (v)_{xx}^{3} v^{2} - 45192 (v)_{xx}^{2} (v)_{x}^{2} v - 16968 (v)_{xx}^{2} (v)_{x} v^{3} + 5040 (v)_{xx}^{2} v^{5} - 13398 (v)_{xx} (v)_{x}^{4} - 18816 (v)_{xx} (v)_{x}^{3} v^{2} + 44100 (v)_{xx} (v)_{x}^{2} v^{4} + 10080 (v)_{xx} (v)_{x} v^{6} - 630 (v)_{xx} v^{8} - 1596 (v)_{x}^{5} v + 25200 (v)_{x}^{4} v^{3} + 12600 (v)_{x}^{3} v^{5} - 5040 (v)_{x}^{2} v^{7} - 1260 (v)_{x} v^{9}$"
      ],
      "text/plain": [
       "Eq(\\text{KdV}(\\text{Miura}(v)), -(v)_{xxxxxxxxxx} - 2*(v)_{xxxxxxxxx}*v + 18*(v)_{xxxxxxxx}*v**2 + 180*(v)_{xxxxxxx}*(v)_{x}*v + 36*(v)_{xxxxxxx}*v**3 + 480*(v)_{xxxxxx}*(v)_{xx}*v + 462*(v)_{xxxxxx}*(v)_{x}**2 + 288*(v)_{xxxxxx}*(v)_{x}*v**2 - 126*(v)_{xxxxxx}*v**4 + 840*(v)_{xxxxx}*(v)_{xxx}*v + 2376*(v)_{xxxxx}*(v)_{xx}*(v)_{x} + 672*(v)_{xxxxx}*(v)_{xx}*v**2 + 636*(v)_{xxxxx}*(v)_{x}**2*v - 2016*(v)_{xxxxx}*(v)_{x}*v**3 - 252*(v)_{xxxxx}*v**5 + 504*(v)_{xxxx}**2*v + 3696*(v)_{xxxx}*(v)_{xxx}*(v)_{x} + 1008*(v)_{xxxx}*(v)_{xxx}*v**2 + 2706*(v)_{xxxx}*(v)_{xx}**2 + 2808*(v)_{xxxx}*(v)_{xx}*(v)_{x}*v - 4032*(v)_{xxxx}*(v)_{xx}*v**3 - 10668*(v)_{xxxx}*(v)_{x}**2*v**2 - 3024*(v)_{xxxx}*(v)_{x}*v**4 + 420*(v)_{xxxx}*v**6 + 3498*(v)_{xxx}**2*(v)_{xx} + 1788*(v)_{xxx}**2*(v)_{x}*v - 2520*(v)_{xxx}**2*v**3 + 2604*(v)_{xxx}*(v)_{xx}**2*v - 36792*(v)_{xxx}*(v)_{xx}*(v)_{x}*v**2 - 5040*(v)_{xxx}*(v)_{xx}*v**4 - 21672*(v)_{xxx}*(v)_{x}**3*v - 12264*(v)_{xxx}*(v)_{x}**2*v**3 + 7560*(v)_{xxx}*(v)_{x}*v**5 + 840*(v)_{xxx}*v**7 - 8484*(v)_{xx}**3*v**2 - 45192*(v)_{xx}**2*(v)_{x}**2*v - 16968*(v)_{xx}**2*(v)_{x}*v**3 + 5040*(v)_{xx}**2*v**5 - 13398*(v)_{xx}*(v)_{x}**4 - 18816*(v)_{xx}*(v)_{x}**3*v**2 + 44100*(v)_{xx}*(v)_{x}**2*v**4 + 10080*(v)_{xx}*(v)_{x}*v**6 - 630*(v)_{xx}*v**8 - 1596*(v)_{x}**5*v + 25200*(v)_{x}**4*v**3 + 12600*(v)_{x}**3*v**5 - 5040*(v)_{x}**2*v**7 - 1260*(v)_{x}*v**9)"
      ]
     },
     "metadata": {},
     "output_type": "display_data"
    },
    {
     "data": {
      "text/latex": [
       "$\\displaystyle \\text{mKdV}(v) = - (v)_{xxxxxxxxx} + 18 (v)_{xxxxxxx} v^{2} + 144 (v)_{xxxxxx} (v)_{x} v + 336 (v)_{xxxxx} (v)_{xx} v + 318 (v)_{xxxxx} (v)_{x}^{2} - 126 (v)_{xxxxx} v^{4} + 504 (v)_{xxxx} (v)_{xxx} v + 1404 (v)_{xxxx} (v)_{xx} (v)_{x} - 1512 (v)_{xxxx} (v)_{x} v^{3} + 894 (v)_{xxx}^{2} (v)_{x} + 1302 (v)_{xxx} (v)_{xx}^{2} - 2520 (v)_{xxx} (v)_{xx} v^{3} - 6132 (v)_{xxx} (v)_{x}^{2} v^{2} + 420 (v)_{xxx} v^{6} - 8484 (v)_{xx}^{2} (v)_{x} v^{2} - 9408 (v)_{xx} (v)_{x}^{3} v + 5040 (v)_{xx} (v)_{x} v^{5} - 798 (v)_{x}^{5} + 6300 (v)_{x}^{3} v^{4} - 630 (v)_{x} v^{8}$"
      ],
      "text/plain": [
       "Eq(\\text{mKdV}(v), -(v)_{xxxxxxxxx} + 18*(v)_{xxxxxxx}*v**2 + 144*(v)_{xxxxxx}*(v)_{x}*v + 336*(v)_{xxxxx}*(v)_{xx}*v + 318*(v)_{xxxxx}*(v)_{x}**2 - 126*(v)_{xxxxx}*v**4 + 504*(v)_{xxxx}*(v)_{xxx}*v + 1404*(v)_{xxxx}*(v)_{xx}*(v)_{x} - 1512*(v)_{xxxx}*(v)_{x}*v**3 + 894*(v)_{xxx}**2*(v)_{x} + 1302*(v)_{xxx}*(v)_{xx}**2 - 2520*(v)_{xxx}*(v)_{xx}*v**3 - 6132*(v)_{xxx}*(v)_{x}**2*v**2 + 420*(v)_{xxx}*v**6 - 8484*(v)_{xx}**2*(v)_{x}*v**2 - 9408*(v)_{xx}*(v)_{x}**3*v + 5040*(v)_{xx}*(v)_{x}*v**5 - 798*(v)_{x}**5 + 6300*(v)_{x}**3*v**4 - 630*(v)_{x}*v**8)"
      ]
     },
     "metadata": {},
     "output_type": "display_data"
    },
    {
     "data": {
      "text/latex": [
       "$\\displaystyle (\\text{mKdV}(v))_{x} + 2 \\cdot v \\cdot \\text{mKdV}(v) = - (v)_{xxxxxxxxxx} - 2 (v)_{xxxxxxxxx} v + 18 (v)_{xxxxxxxx} v^{2} + 180 (v)_{xxxxxxx} (v)_{x} v + 36 (v)_{xxxxxxx} v^{3} + 480 (v)_{xxxxxx} (v)_{xx} v + 462 (v)_{xxxxxx} (v)_{x}^{2} + 288 (v)_{xxxxxx} (v)_{x} v^{2} - 126 (v)_{xxxxxx} v^{4} + 840 (v)_{xxxxx} (v)_{xxx} v + 2376 (v)_{xxxxx} (v)_{xx} (v)_{x} + 672 (v)_{xxxxx} (v)_{xx} v^{2} + 636 (v)_{xxxxx} (v)_{x}^{2} v - 2016 (v)_{xxxxx} (v)_{x} v^{3} - 252 (v)_{xxxxx} v^{5} + 504 (v)_{xxxx}^{2} v + 3696 (v)_{xxxx} (v)_{xxx} (v)_{x} + 1008 (v)_{xxxx} (v)_{xxx} v^{2} + 2706 (v)_{xxxx} (v)_{xx}^{2} + 2808 (v)_{xxxx} (v)_{xx} (v)_{x} v - 4032 (v)_{xxxx} (v)_{xx} v^{3} - 10668 (v)_{xxxx} (v)_{x}^{2} v^{2} - 3024 (v)_{xxxx} (v)_{x} v^{4} + 420 (v)_{xxxx} v^{6} + 3498 (v)_{xxx}^{2} (v)_{xx} + 1788 (v)_{xxx}^{2} (v)_{x} v - 2520 (v)_{xxx}^{2} v^{3} + 2604 (v)_{xxx} (v)_{xx}^{2} v - 36792 (v)_{xxx} (v)_{xx} (v)_{x} v^{2} - 5040 (v)_{xxx} (v)_{xx} v^{4} - 21672 (v)_{xxx} (v)_{x}^{3} v - 12264 (v)_{xxx} (v)_{x}^{2} v^{3} + 7560 (v)_{xxx} (v)_{x} v^{5} + 840 (v)_{xxx} v^{7} - 8484 (v)_{xx}^{3} v^{2} - 45192 (v)_{xx}^{2} (v)_{x}^{2} v - 16968 (v)_{xx}^{2} (v)_{x} v^{3} + 5040 (v)_{xx}^{2} v^{5} - 13398 (v)_{xx} (v)_{x}^{4} - 18816 (v)_{xx} (v)_{x}^{3} v^{2} + 44100 (v)_{xx} (v)_{x}^{2} v^{4} + 10080 (v)_{xx} (v)_{x} v^{6} - 630 (v)_{xx} v^{8} - 1596 (v)_{x}^{5} v + 25200 (v)_{x}^{4} v^{3} + 12600 (v)_{x}^{3} v^{5} - 5040 (v)_{x}^{2} v^{7} - 1260 (v)_{x} v^{9}$"
      ],
      "text/plain": [
       "Eq((\\text{mKdV}(v))_{x} + 2 \\cdot v \\cdot \\text{mKdV}(v), -(v)_{xxxxxxxxxx} - 2*(v)_{xxxxxxxxx}*v + 18*(v)_{xxxxxxxx}*v**2 + 180*(v)_{xxxxxxx}*(v)_{x}*v + 36*(v)_{xxxxxxx}*v**3 + 480*(v)_{xxxxxx}*(v)_{xx}*v + 462*(v)_{xxxxxx}*(v)_{x}**2 + 288*(v)_{xxxxxx}*(v)_{x}*v**2 - 126*(v)_{xxxxxx}*v**4 + 840*(v)_{xxxxx}*(v)_{xxx}*v + 2376*(v)_{xxxxx}*(v)_{xx}*(v)_{x} + 672*(v)_{xxxxx}*(v)_{xx}*v**2 + 636*(v)_{xxxxx}*(v)_{x}**2*v - 2016*(v)_{xxxxx}*(v)_{x}*v**3 - 252*(v)_{xxxxx}*v**5 + 504*(v)_{xxxx}**2*v + 3696*(v)_{xxxx}*(v)_{xxx}*(v)_{x} + 1008*(v)_{xxxx}*(v)_{xxx}*v**2 + 2706*(v)_{xxxx}*(v)_{xx}**2 + 2808*(v)_{xxxx}*(v)_{xx}*(v)_{x}*v - 4032*(v)_{xxxx}*(v)_{xx}*v**3 - 10668*(v)_{xxxx}*(v)_{x}**2*v**2 - 3024*(v)_{xxxx}*(v)_{x}*v**4 + 420*(v)_{xxxx}*v**6 + 3498*(v)_{xxx}**2*(v)_{xx} + 1788*(v)_{xxx}**2*(v)_{x}*v - 2520*(v)_{xxx}**2*v**3 + 2604*(v)_{xxx}*(v)_{xx}**2*v - 36792*(v)_{xxx}*(v)_{xx}*(v)_{x}*v**2 - 5040*(v)_{xxx}*(v)_{xx}*v**4 - 21672*(v)_{xxx}*(v)_{x}**3*v - 12264*(v)_{xxx}*(v)_{x}**2*v**3 + 7560*(v)_{xxx}*(v)_{x}*v**5 + 840*(v)_{xxx}*v**7 - 8484*(v)_{xx}**3*v**2 - 45192*(v)_{xx}**2*(v)_{x}**2*v - 16968*(v)_{xx}**2*(v)_{x}*v**3 + 5040*(v)_{xx}**2*v**5 - 13398*(v)_{xx}*(v)_{x}**4 - 18816*(v)_{xx}*(v)_{x}**3*v**2 + 44100*(v)_{xx}*(v)_{x}**2*v**4 + 10080*(v)_{xx}*(v)_{x}*v**6 - 630*(v)_{xx}*v**8 - 1596*(v)_{x}**5*v + 25200*(v)_{x}**4*v**3 + 12600*(v)_{x}**3*v**5 - 5040*(v)_{x}**2*v**7 - 1260*(v)_{x}*v**9)"
      ]
     },
     "metadata": {},
     "output_type": "display_data"
    },
    {
     "data": {
      "text/latex": [
       "$\\displaystyle (\\text{mKdV}(v))_{x} + 2 \\cdot v \\cdot \\text{mKdV}(v) - \\text{KdV}(\\text{Miura}(v)) = 0$"
      ],
      "text/plain": [
       "Eq((\\text{mKdV}(v))_{x} + 2 \\cdot v \\cdot \\text{mKdV}(v) - \\text{KdV}(\\text{Miura}(v)), 0)"
      ]
     },
     "metadata": {},
     "output_type": "display_data"
    }
   ],
   "source": [
    "def miura(expr):\n",
    "    return substituter(expr, u, deriv(v) + v**2)\n",
    "\n",
    "for n in range(0, N, 2):\n",
    "    print(\"n =\", n)\n",
    "    KdV = - simplify(Rational(1,2) * deriv(variation(SS_eq[n+1], u)))\n",
    "    KdVMiura = simplify(miura(KdV))\n",
    "    mKdV = simplify(multi_substituter(variation(sigs_eq[n], q_conj), [(q, v), (q_conj, v)]))\n",
    "    display(Eq(Symbol('\\\\text{KdV}(u)'), KdV))\n",
    "    display(Eq(Symbol('\\\\text{KdV}(\\\\text{Miura}(v))'), KdVMiura))\n",
    "    display(Eq(Symbol('\\\\text{mKdV}(v)'), mKdV))\n",
    "    display(Eq(Symbol('(\\\\text{mKdV}(v))_{x} + 2 \\cdot v \\cdot \\\\text{mKdV}(v)'), simplify(deriv(mKdV) + 2 * v * mKdV)))\n",
    "    display(Eq(Symbol('(\\\\text{mKdV}(v))_{x} + 2 \\cdot v \\cdot \\\\text{mKdV}(v) - \\\\text{KdV}(\\\\text{Miura}(v))'), simplify(deriv(mKdV) + 2 * v * mKdV - KdVMiura)))"
   ]
  },
  {
   "cell_type": "code",
   "execution_count": 10,
   "id": "806432d4",
   "metadata": {},
   "outputs": [
    {
     "name": "stdout",
     "output_type": "stream",
     "text": [
      "n = 1\n",
      "n = 2\n",
      "n = 3\n",
      "n = 4\n",
      "n = 5\n",
      "new differentiable symbol:  (u)_{xxxxxx}\n",
      "new differentiable symbol:  (v)_{xxxxxx}\n",
      "n = 6\n",
      "new differentiable symbol:  (u)_{xxxxxxx}\n",
      "new differentiable symbol:  (v)_{xxxxxxx}\n",
      "n = 7\n",
      "new differentiable symbol:  (u)_{xxxxxxxx}\n",
      "new differentiable symbol:  (v)_{xxxxxxxx}\n"
     ]
    }
   ],
   "source": [
    "\n",
    "\n",
    "def q_coeff(n):\n",
    "    if n == -1:\n",
    "        return epsilon / (I * sqrt(2))\n",
    "    if n < -1 or (n % 2 == 0 and n >= 0):\n",
    "        return 0\n",
    "    else:\n",
    "        return I * catalan((n - 1) // 2) / sqrt(2)**n * epsiloninv**n\n",
    "       \n",
    "def q_coeff_plus(n):\n",
    "    if n == 0:\n",
    "        return 1\n",
    "    return q_coeff(n)\n",
    "\n",
    "def q_coeff_minus(n):\n",
    "    if n == 0:\n",
    "        return 1\n",
    "    return - q_coeff(n)\n",
    "    \n",
    "def qinv_coeff(n):\n",
    "    if n < 0 or n % 2 == 0:\n",
    "        return 0\n",
    "    return binomial(- Rational(1,2), (n-1)//2) * sqrt(2)**n * I**n * epsiloninv**n\n",
    "\n",
    "def sqrtt(x):\n",
    "    return I*sqrt(-x)\n",
    "\n",
    "\n",
    "X = Symbol('X')\n",
    "\n",
    "def get_expansion(eqn, x0, var, num):\n",
    "    epsilonpos = Symbol('epsilon_2', positive=True)\n",
    "    epsiloninvpos = Symbol('eta_2', positive=True)\n",
    "    \n",
    "    eqn = eqn.subs(epsilon, epsilonpos).subs(epsiloninv, epsiloninvpos)\n",
    "    ser = series(eqn, x0=0, x=var, n=num).removeO().subs(epsilonpos, epsilon).subs(epsiloninvpos, epsiloninv)\n",
    "    return [simplify(ser.coeff(var**n) if n > 0 else ser.subs(var, 0)) for n in range(0, num)]\n",
    "    \n",
    "N = 8\n",
    "\n",
    "h_plus = get_expansion(1 + 1 / sqrtt(1 - Rational(1, 2) / epsiloninv**2 / X**2), 0, X, N+1)\n",
    "h_minus = get_expansion(1 - 1 / sqrtt(1 - Rational(1, 2) / epsiloninv**2 / X**2), 0, X, N+1)\n",
    "\n",
    "    \n",
    "#h_plus = [binomial(-Rational(1, 2), n//2) * (sqrt(2) * I * epsiloninv)**n if n % 2 == 1 else 0 for n in range(N+1)]\n",
    "#h_plus[0] = 1\n",
    "#h_minus = [- binomial(-Rational(1, 2), n//2) * (sqrt(2) * I * epsiloninv)**n if n % 2 == 1 else 0 for n in range(N+1)]\n",
    "#h_minus[0] = 1\n",
    "\n",
    "h_plus_mod = get_expansion(1 + 1 / sqrtt(1 + Rational(1, 2) / epsiloninv**2 / X**2), 0, X, N+1)\n",
    "h_minus_mod = get_expansion(1 - 1 / sqrtt(1 + Rational(1, 2) / epsiloninv**2 / X**2), 0, X, N+1)\n",
    "\n",
    "exp1 = [get_expansion((X / sqrtt(1 - 1 / (8 * epsiloninv**2 * X**2)))**n, 0, X, N+1) for n in range(N+1)]\n",
    "\n",
    "E_plus_sym = [Symbol('E^+_{' + str(n) + '}') for n in range(N+1)]\n",
    "E_plus_eq = [E_plus_sym[n] for n in range(N+1)]\n",
    "\n",
    "E_minus_sym = [Symbol('E^-_{' + str(n) + '}') for n in range(N+1)]\n",
    "E_minus_eq = [E_plus_sym[n] for n in range(N+1)]\n",
    "\n",
    "F_plus_sym = [Symbol('F^+_{' + str(n) + '}') for n in range(N+1)]\n",
    "F_plus_eq = [E_plus_sym[n] for n in range(N+1)]\n",
    "\n",
    "F_minus_sym = [Symbol('F^-_{' + str(n) + '}') for n in range(N+1)]\n",
    "F_minus_eq = [E_plus_sym[n] for n in range(N+1)]\n",
    "\n",
    "Ft_plus_sym = [Symbol('\\\\tilde{F}^+_{' + str(n) + '}') for n in range(N+1)]\n",
    "Ft_plus_eq = [E_plus_sym[n] for n in range(N+1)]\n",
    "\n",
    "Ft_minus_sym = [Symbol('\\\\tilde{F}^-_{' + str(n) + '}') for n in range(N+1)]\n",
    "Ft_minus_eq = [E_plus_sym[n] for n in range(N+1)]\n",
    "\n",
    "G_sym = [Symbol('G_{' + str(n) + '}') for n in range(N+1)]\n",
    "G_eq = [G_sym[n] for n in range(N+1)]\n",
    "\n",
    "r_factor = 1 #Symbol('lambda', real=True) #1\n",
    "\n",
    "r_sym = [Symbol('r_{' + str(n) + '}') for n in range(N+1)]\n",
    "r_eq = [r_sym[n] for n in range(N+1)]\n",
    "r_poly = [r_sym[n] for n in range(N+1)]\n",
    "\n",
    "r_eq[0] = r_factor * I\n",
    "r_eq[1] = r_factor * epsilon / sqrt(2) * (v - u + 2 * epsiloninv**2)\n",
    "r_poly[0] = polynomize(r_eq[0])\n",
    "r_poly[1] = polynomize(r_eq[1])\n",
    "\n",
    "sig_sym = [Symbol('\\sigma_{' + str(n) + '}') for n in range(N+1)]\n",
    "sig_eq = [sig_sym[n] for n in range(N+1)]\n",
    "sig_poly = [sig_sym[n] for n in range(N+1)]\n",
    "\n",
    "sig_eq[0] = q_coeff(-1) / 2 * (v + u)\n",
    "sig_eq[1] = q_coeff(-1) / 2 * deriv(v + u) + q_coeff(-1)**2 / 4 * (v + u)**2 \n",
    "sig_eq[1] += epsilon**2 / 2 * u * v + (u - v) / 2 \n",
    "sig_eq[1] += epsilon / sqrt(2) * deriv(v) * r_eq[0]  \n",
    "\n",
    "sig_poly[0] = polynomize(sig_eq[0])\n",
    "sig_poly[1] = polynomize(sig_eq[1])\n",
    "\n",
    "sig_plus_sym = [Symbol('\\sigma_+^{' + str(n) + '}') for n in range(N+1)]\n",
    "sig_plus_eq = [sig_plus_sym[n] for n in range(N+1)]\n",
    "\n",
    "sig_minus_sym = [Symbol('\\sigma_-^{' + str(n) + '}') for n in range(N+1)]\n",
    "sig_minus_eq = [sig_minus_sym[n] for n in range(N+1)]\n",
    "\n",
    "sig_plus_eq[0] = 0\n",
    "sig_plus_eq[1] = - deriv(sig_plus_eq[0]) + sig_plus_eq[0]**2 - v\n",
    "\n",
    "sig_minus_eq[0] = 0\n",
    "sig_minus_eq[1] = deriv(sig_minus_eq[0]) + sig_minus_eq[0]**2 + u\n",
    "\n",
    "for n in range(1, N):\n",
    "    print(\"n =\", n)\n",
    "\n",
    "    X = - deriv(sig_plus_eq[n])\n",
    "    \n",
    "    for k in range(n+1):\n",
    "        X += sig_plus_eq[k] * sig_plus_eq[n-k]\n",
    "        \n",
    "    sig_plus_eq[n+1] = simplify(X)\n",
    "        \n",
    "    X = deriv(sig_minus_eq[n])\n",
    "\n",
    "    for k in range(n+1):\n",
    "        X += sig_minus_eq[k] * sig_minus_eq[n-k]\n",
    "\n",
    "    sig_minus_eq[n+1] = simplify(X)\n",
    "        \n",
    "    X = 0\n",
    "    \n",
    "    X += deriv(r_eq[n])\n",
    "\n",
    "    X += - q_coeff(n) / sqrt(2) * epsiloninv\n",
    "    \n",
    "    for k in range(0, n+1):\n",
    "        X += epsilon / sqrt(2) * (- v - epsiloninv**2) * r_eq[n-k] * r_eq[k]\n",
    "\n",
    "    for m in range(0, n+1):\n",
    "        for k in range(0, m+1):     \n",
    "            X += - epsiloninv / sqrt(2) * q_coeff(n-m) * r_eq[m-k] * r_eq[k]\n",
    "\n",
    "    for k in range(1, n+1):\n",
    "        X += - q_coeff(-1) / sqrt(2) * epsiloninv * r_eq[n+1-k] * r_eq[k]\n",
    "\n",
    "    r_eq[n+1] = r_factor * X\n",
    "    r_poly[n+1] = polynomize(r_eq[n+1])\n",
    "    r_eq[n+1] = depolynomize(r_poly[n+1])\n",
    "    \n",
    "    X = 0\n",
    "    \n",
    "    X += deriv(sig_eq[n])\n",
    "    \n",
    "    for k in range(0, n+1):\n",
    "        X += sig_eq[n-k] * sig_eq[k]\n",
    "        \n",
    "    X += q_coeff(n) / 2 * (u + v)\n",
    "    \n",
    "    X += epsilon / sqrt(2) * deriv(v) * r_eq[n]\n",
    "    \n",
    "    sig_eq[n+1] = X\n",
    "    sig_poly[n+1] = polynomize(sig_eq[n+1])\n",
    "    sig_eq[n+1] = depolynomize(sig_poly[n+1])\n",
    "\n",
    "for n in range(0, N+1):\n",
    "    E_plus_eq[n] = 0\n",
    "    for k in range(0, n+1):\n",
    "        E_plus_eq[n] += re(sig_eq[k] * h_plus[n-k])\n",
    "        #E_plus_eq[n] += re(epsilon * r_eq[k] * h_plus[n-k])\n",
    "        #E_plus_eq[n] += re(sig_eq[k] * q_coeff_plus(n-k))\n",
    "    E_minus_eq[n] = 0\n",
    "    for k in range(0, n+1):\n",
    "        E_minus_eq[n] += re(sig_eq[k] * h_minus[n-k])\n",
    "        #E_minus_eq[n] += re(epsilon * r_eq[k] * h_minus[n-k])\n",
    "        #E_minus_eq[n] += re(sig_eq[k] * q_coeff_minus(n-k))\n",
    "        \n",
    "    F_plus_eq[n] = 0\n",
    "    for k in range(0, n+1):\n",
    "        F_plus_eq[n] += re(epsilon * r_eq[k] * h_plus[n-k])\n",
    "        \n",
    "    F_minus_eq[n] = 0\n",
    "    for k in range(0, n+1):\n",
    "        F_minus_eq[n] += re(epsilon * r_eq[k] * h_minus[n-k])\n",
    "        \n",
    "    G_eq[n] = 0\n",
    "    for k in range(0, n+1):\n",
    "        G_eq[n] += im(sig_eq[k]) * qinv_coeff(n-k) / I\n",
    "    "
   ]
  },
  {
   "cell_type": "code",
   "execution_count": 7,
   "id": "15c73f7f",
   "metadata": {},
   "outputs": [
    {
     "data": {
      "text/latex": [
       "$\\displaystyle \\sigma_{0} = \\operatorname{Poly}{\\left( \\left(- \\frac{\\sqrt{2} i u}{4} - \\frac{\\sqrt{2} i v}{4}\\right) \\epsilon, \\epsilon, \\frac{1}{\\epsilon}, domain=\\mathtt{\\text{EX}} \\right)}$"
      ],
      "text/plain": [
       "Eq(\\sigma_{0}, Poly((-sqrt(2)*I*u/4 - sqrt(2)*I*v/4)*\\epsilon, \\epsilon, 1/\\epsilon, domain='EX'))"
      ]
     },
     "metadata": {},
     "output_type": "display_data"
    },
    {
     "data": {
      "text/latex": [
       "$\\displaystyle r_{0} = \\operatorname{Poly}{\\left( 1, \\epsilon, \\frac{1}{\\epsilon}, domain=\\mathbb{Z} \\right)}$"
      ],
      "text/plain": [
       "Eq(r_{0}, Poly(1, \\epsilon, 1/\\epsilon, domain='ZZ'))"
      ]
     },
     "metadata": {},
     "output_type": "display_data"
    },
    {
     "data": {
      "text/latex": [
       "$\\displaystyle \\sigma_{1} = \\operatorname{Poly}{\\left( \\left(- \\frac{u^{2}}{8} + \\frac{u v}{4} - \\frac{v^{2}}{8}\\right) \\epsilon^{2} + \\left(- \\frac{\\sqrt{2} i (u)_{x}}{4} + \\frac{\\sqrt{2} i (v)_{x}}{4}\\right) \\epsilon + \\frac{u}{2} - \\frac{v}{2}, \\epsilon, \\frac{1}{\\epsilon}, domain=\\mathtt{\\text{EX}} \\right)}$"
      ],
      "text/plain": [
       "Eq(\\sigma_{1}, Poly((-u**2/8 + u*v/4 - v**2/8)*\\epsilon**2 + (-sqrt(2)*I*(u)_{x}/4 + sqrt(2)*I*(v)_{x}/4)*\\epsilon + u/2 - v/2, \\epsilon, 1/\\epsilon, domain='EX'))"
      ]
     },
     "metadata": {},
     "output_type": "display_data"
    },
    {
     "data": {
      "text/latex": [
       "$\\displaystyle r_{1} = \\operatorname{Poly}{\\left( \\left(\\frac{\\sqrt{2} i u}{2} - \\frac{\\sqrt{2} i v}{2}\\right) \\epsilon -  \\sqrt{2} i \\frac{1}{\\epsilon}, \\epsilon, \\frac{1}{\\epsilon}, domain=\\mathtt{\\text{EX}} \\right)}$"
      ],
      "text/plain": [
       "Eq(r_{1}, Poly((sqrt(2)*I*u/2 - sqrt(2)*I*v/2)*\\epsilon - sqrt(2)*I*(1/\\epsilon), \\epsilon, 1/\\epsilon, domain='EX'))"
      ]
     },
     "metadata": {},
     "output_type": "display_data"
    },
    {
     "data": {
      "text/latex": [
       "$\\displaystyle \\sigma_{2} = \\operatorname{Poly}{\\left( \\left(\\frac{\\sqrt{2} i u^{3}}{16} - \\frac{\\sqrt{2} i u^{2} v}{16} - \\frac{\\sqrt{2} i u v^{2}}{16} + \\frac{\\sqrt{2} i v^{3}}{16}\\right) \\epsilon^{3} + \\left(- \\frac{(u)_{x} u}{2} + \\frac{(v)_{x} v}{2}\\right) \\epsilon^{2} + \\left(- \\frac{\\sqrt{2} i (u)_{xx}}{4} + \\frac{\\sqrt{2} i (v)_{xx}}{4} - \\frac{\\sqrt{2} i u^{2}}{4} + \\frac{\\sqrt{2} i v^{2}}{4}\\right) \\epsilon + \\left(\\frac{\\sqrt{2} i u}{4} + \\frac{\\sqrt{2} i v}{4}\\right) \\frac{1}{\\epsilon} + \\frac{(u)_{x}}{2} + \\frac{(v)_{x}}{2}, \\epsilon, \\frac{1}{\\epsilon}, domain=\\mathtt{\\text{EX}} \\right)}$"
      ],
      "text/plain": [
       "Eq(\\sigma_{2}, Poly((sqrt(2)*I*u**3/16 - sqrt(2)*I*u**2*v/16 - sqrt(2)*I*u*v**2/16 + sqrt(2)*I*v**3/16)*\\epsilon**3 + (-(u)_{x}*u/2 + (v)_{x}*v/2)*\\epsilon**2 + (-sqrt(2)*I*(u)_{xx}/4 + sqrt(2)*I*(v)_{xx}/4 - sqrt(2)*I*u**2/4 + sqrt(2)*I*v**2/4)*\\epsilon + (sqrt(2)*I*u/4 + sqrt(2)*I*v/4)*(1/\\epsilon) + (u)_{x}/2 + (v)_{x}/2, \\epsilon, 1/\\epsilon, domain='EX'))"
      ]
     },
     "metadata": {},
     "output_type": "display_data"
    },
    {
     "data": {
      "text/latex": [
       "$\\displaystyle r_{2} = \\operatorname{Poly}{\\left( \\left(\\frac{u^{2}}{4} + \\frac{u v}{2} - \\frac{3 v^{2}}{4}\\right) \\epsilon^{2} + \\left(\\frac{\\sqrt{2} i (u)_{x}}{2} - \\frac{\\sqrt{2} i (v)_{x}}{2}\\right) \\epsilon - \\frac{1}{\\epsilon^{2}} -  2 v, \\epsilon, \\frac{1}{\\epsilon}, domain=\\mathtt{\\text{EX}} \\right)}$"
      ],
      "text/plain": [
       "Eq(r_{2}, Poly((u**2/4 + u*v/2 - 3*v**2/4)*\\epsilon**2 + (sqrt(2)*I*(u)_{x}/2 - sqrt(2)*I*(v)_{x}/2)*\\epsilon - (1/\\epsilon)**2 - 2*v, \\epsilon, 1/\\epsilon, domain='EX'))"
      ]
     },
     "metadata": {},
     "output_type": "display_data"
    },
    {
     "data": {
      "text/latex": [
       "$\\displaystyle \\sigma_{3} = \\operatorname{Poly}{\\left( \\left(\\frac{5 u^{4}}{64} - \\frac{u^{3} v}{16} - \\frac{u^{2} v^{2}}{32} - \\frac{u v^{3}}{16} + \\frac{5 v^{4}}{64}\\right) \\epsilon^{4} + \\left(\\frac{\\sqrt{2} i (u)_{x} u^{2}}{2} - \\frac{\\sqrt{2} i (v)_{x} v^{2}}{2}\\right) \\epsilon^{3} + \\left(- \\frac{3 (u)_{xx} u}{4} - \\frac{(u)_{xx} v}{4} - \\frac{5 (u)_{x}^{2}}{8} - \\frac{(u)_{x} (v)_{x}}{4} + \\frac{(v)_{xx} u}{4} + \\frac{3 (v)_{xx} v}{4} + \\frac{7 (v)_{x}^{2}}{8} - \\frac{3 u^{3}}{8} + \\frac{u^{2} v}{8} - \\frac{u v^{2}}{8} + \\frac{3 v^{3}}{8}\\right) \\epsilon^{2} + \\left(- \\frac{\\sqrt{2} i (u)_{xxx}}{4} - \\sqrt{2} i (u)_{x} u + \\frac{\\sqrt{2} i (v)_{xxx}}{4} - \\sqrt{2} i (v)_{x} v\\right) \\epsilon + \\left(\\frac{\\sqrt{2} i (u)_{x}}{4} - \\frac{\\sqrt{2} i (v)_{x}}{4}\\right) \\frac{1}{\\epsilon} + \\frac{(u)_{xx}}{2} + \\frac{(v)_{xx}}{2} + \\frac{u^{2}}{2} + \\frac{v^{2}}{2}, \\epsilon, \\frac{1}{\\epsilon}, domain=\\mathtt{\\text{EX}} \\right)}$"
      ],
      "text/plain": [
       "Eq(\\sigma_{3}, Poly((5*u**4/64 - u**3*v/16 - u**2*v**2/32 - u*v**3/16 + 5*v**4/64)*\\epsilon**4 + (sqrt(2)*I*(u)_{x}*u**2/2 - sqrt(2)*I*(v)_{x}*v**2/2)*\\epsilon**3 + (-3*(u)_{xx}*u/4 - (u)_{xx}*v/4 - 5*(u)_{x}**2/8 - (u)_{x}*(v)_{x}/4 + (v)_{xx}*u/4 + 3*(v)_{xx}*v/4 + 7*(v)_{x}**2/8 - 3*u**3/8 + u**2*v/8 - u*v**2/8 + 3*v**3/8)*\\epsilon**2 + (-sqrt(2)*I*(u)_{xxx}/4 - sqrt(2)*I*(u)_{x}*u + sqrt(2)*I*(v)_{xxx}/4 - sqrt(2)*I*(v)_{x}*v)*\\epsilon + (sqrt(2)*I*(u)_{x}/4 - sqrt(2)*I*(v)_{x}/4)*(1/\\epsilon) + (u)_{xx}/2 + (v)_{xx}/2 + u**2/2 + v**2/2, \\epsilon, 1/\\epsilon, domain='EX'))"
      ]
     },
     "metadata": {},
     "output_type": "display_data"
    },
    {
     "data": {
      "text/latex": [
       "$\\displaystyle r_{3} = \\operatorname{Poly}{\\left( \\left(- \\frac{\\sqrt{2} i u^{3}}{8} - \\frac{\\sqrt{2} i u^{2} v}{8} - \\frac{3 \\sqrt{2} i u v^{2}}{8} + \\frac{5 \\sqrt{2} i v^{3}}{8}\\right) \\epsilon^{3} + \\left((u)_{x} u + (u)_{x} v - 2 (v)_{x} v\\right) \\epsilon^{2} + \\left(\\frac{\\sqrt{2} i (u)_{xx}}{2} - \\frac{\\sqrt{2} i (v)_{xx}}{2} + \\frac{\\sqrt{2} i u^{2}}{4} - \\frac{\\sqrt{2} i u v}{2} + \\frac{9 \\sqrt{2} i v^{2}}{4}\\right) \\epsilon + 2 \\sqrt{2} i v \\frac{1}{\\epsilon} -  2 (v)_{x}, \\epsilon, \\frac{1}{\\epsilon}, domain=\\mathtt{\\text{EX}} \\right)}$"
      ],
      "text/plain": [
       "Eq(r_{3}, Poly((-sqrt(2)*I*u**3/8 - sqrt(2)*I*u**2*v/8 - 3*sqrt(2)*I*u*v**2/8 + 5*sqrt(2)*I*v**3/8)*\\epsilon**3 + ((u)_{x}*u + (u)_{x}*v - 2*(v)_{x}*v)*\\epsilon**2 + (sqrt(2)*I*(u)_{xx}/2 - sqrt(2)*I*(v)_{xx}/2 + sqrt(2)*I*u**2/4 - sqrt(2)*I*u*v/2 + 9*sqrt(2)*I*v**2/4)*\\epsilon + 2*sqrt(2)*I*v*(1/\\epsilon) - 2*(v)_{x}, \\epsilon, 1/\\epsilon, domain='EX'))"
      ]
     },
     "metadata": {},
     "output_type": "display_data"
    },
    {
     "data": {
      "text/latex": [
       "$\\displaystyle \\sigma_{4} = \\operatorname{Poly}{\\left( \\left(- \\frac{7 \\sqrt{2} i u^{5}}{128} + \\frac{5 \\sqrt{2} i u^{4} v}{128} + \\frac{\\sqrt{2} i u^{3} v^{2}}{64} + \\frac{\\sqrt{2} i u^{2} v^{3}}{64} + \\frac{5 \\sqrt{2} i u v^{4}}{128} - \\frac{7 \\sqrt{2} i v^{5}}{128}\\right) \\epsilon^{5} + \\left((u)_{x} u^{3} - (v)_{x} v^{3}\\right) \\epsilon^{4} + \\left(\\frac{15 \\sqrt{2} i (u)_{xx} u^{2}}{16} + \\frac{3 \\sqrt{2} i (u)_{xx} u v}{8} + \\frac{3 \\sqrt{2} i (u)_{xx} v^{2}}{16} + \\frac{25 \\sqrt{2} i (u)_{x}^{2} u}{16} + \\frac{5 \\sqrt{2} i (u)_{x}^{2} v}{16} + \\frac{3 \\sqrt{2} i (u)_{x} (v)_{x} u}{8} + \\frac{3 \\sqrt{2} i (u)_{x} (v)_{x} v}{8} - \\frac{3 \\sqrt{2} i (v)_{xx} u^{2}}{16} - \\frac{3 \\sqrt{2} i (v)_{xx} u v}{8} - \\frac{15 \\sqrt{2} i (v)_{xx} v^{2}}{16} - \\frac{7 \\sqrt{2} i (v)_{x}^{2} u}{16} - \\frac{35 \\sqrt{2} i (v)_{x}^{2} v}{16} + \\frac{5 \\sqrt{2} i u^{4}}{16} - \\frac{\\sqrt{2} i u^{3} v}{8} + \\frac{\\sqrt{2} i u v^{3}}{8} - \\frac{5 \\sqrt{2} i v^{4}}{16}\\right) \\epsilon^{3} + \\left(- (u)_{xxx} u - \\frac{(u)_{xxx} v}{2} - \\frac{9 (u)_{xx} (u)_{x}}{4} - \\frac{3 (u)_{xx} (v)_{x}}{4} + \\frac{(u)_{x} (v)_{xx}}{4} - 3 (u)_{x} u^{2} + \\frac{(v)_{xxx} u}{2} + (v)_{xxx} v + \\frac{11 (v)_{xx} (v)_{x}}{4} - 3 (v)_{x} v^{2}\\right) \\epsilon^{2} + \\left(- \\frac{\\sqrt{2} i (u)_{xxxx}}{4} - \\frac{3 \\sqrt{2} i (u)_{xx} u}{2} - \\frac{5 \\sqrt{2} i (u)_{x}^{2}}{4} + \\frac{\\sqrt{2} i (v)_{xxxx}}{4} - \\frac{3 \\sqrt{2} i (v)_{xx} v}{2} - \\frac{7 \\sqrt{2} i (v)_{x}^{2}}{4} - \\frac{9 \\sqrt{2} i u^{3}}{16} + \\frac{\\sqrt{2} i u^{2} v}{16} + \\frac{\\sqrt{2} i u v^{2}}{16} - \\frac{9 \\sqrt{2} i v^{3}}{16}\\right) \\epsilon + \\left(\\frac{\\sqrt{2} i u}{8} + \\frac{\\sqrt{2} i v}{8}\\right) \\frac{1}{\\epsilon^{3}} + \\left(\\frac{\\sqrt{2} i (u)_{xx}}{4} - \\frac{\\sqrt{2} i (v)_{xx}}{4} + \\frac{\\sqrt{2} i u^{2}}{4} - \\frac{\\sqrt{2} i v^{2}}{4}\\right) \\frac{1}{\\epsilon} + \\frac{(u)_{xxx}}{2} + 2 (u)_{x} u + \\frac{(v)_{xxx}}{2} - 2 (v)_{x} v, \\epsilon, \\frac{1}{\\epsilon}, domain=\\mathtt{\\text{EX}} \\right)}$"
      ],
      "text/plain": [
       "Eq(\\sigma_{4}, Poly((-7*sqrt(2)*I*u**5/128 + 5*sqrt(2)*I*u**4*v/128 + sqrt(2)*I*u**3*v**2/64 + sqrt(2)*I*u**2*v**3/64 + 5*sqrt(2)*I*u*v**4/128 - 7*sqrt(2)*I*v**5/128)*\\epsilon**5 + ((u)_{x}*u**3 - (v)_{x}*v**3)*\\epsilon**4 + (15*sqrt(2)*I*(u)_{xx}*u**2/16 + 3*sqrt(2)*I*(u)_{xx}*u*v/8 + 3*sqrt(2)*I*(u)_{xx}*v**2/16 + 25*sqrt(2)*I*(u)_{x}**2*u/16 + 5*sqrt(2)*I*(u)_{x}**2*v/16 + 3*sqrt(2)*I*(u)_{x}*(v)_{x}*u/8 + 3*sqrt(2)*I*(u)_{x}*(v)_{x}*v/8 - 3*sqrt(2)*I*(v)_{xx}*u**2/16 - 3*sqrt(2)*I*(v)_{xx}*u*v/8 - 15*sqrt(2)*I*(v)_{xx}*v**2/16 - 7*sqrt(2)*I*(v)_{x}**2*u/16 - 35*sqrt(2)*I*(v)_{x}**2*v/16 + 5*sqrt(2)*I*u**4/16 - sqrt(2)*I*u**3*v/8 + sqrt(2)*I*u*v**3/8 - 5*sqrt(2)*I*v**4/16)*\\epsilon**3 + (-(u)_{xxx}*u - (u)_{xxx}*v/2 - 9*(u)_{xx}*(u)_{x}/4 - 3*(u)_{xx}*(v)_{x}/4 + (u)_{x}*(v)_{xx}/4 - 3*(u)_{x}*u**2 + (v)_{xxx}*u/2 + (v)_{xxx}*v + 11*(v)_{xx}*(v)_{x}/4 - 3*(v)_{x}*v**2)*\\epsilon**2 + (-sqrt(2)*I*(u)_{xxxx}/4 - 3*sqrt(2)*I*(u)_{xx}*u/2 - 5*sqrt(2)*I*(u)_{x}**2/4 + sqrt(2)*I*(v)_{xxxx}/4 - 3*sqrt(2)*I*(v)_{xx}*v/2 - 7*sqrt(2)*I*(v)_{x}**2/4 - 9*sqrt(2)*I*u**3/16 + sqrt(2)*I*u**2*v/16 + sqrt(2)*I*u*v**2/16 - 9*sqrt(2)*I*v**3/16)*\\epsilon + (sqrt(2)*I*u/8 + sqrt(2)*I*v/8)*(1/\\epsilon)**3 + (sqrt(2)*I*(u)_{xx}/4 - sqrt(2)*I*(v)_{xx}/4 + sqrt(2)*I*u**2/4 - sqrt(2)*I*v**2/4)*(1/\\epsilon) + (u)_{xxx}/2 + 2*(u)_{x}*u + (v)_{xxx}/2 - 2*(v)_{x}*v, \\epsilon, 1/\\epsilon, domain='EX'))"
      ]
     },
     "metadata": {},
     "output_type": "display_data"
    },
    {
     "data": {
      "text/latex": [
       "$\\displaystyle r_{4} = \\operatorname{Poly}{\\left( \\left(- \\frac{5 u^{4}}{32} - \\frac{u^{3} v}{8} - \\frac{3 u^{2} v^{2}}{16} - \\frac{5 u v^{3}}{8} + \\frac{35 v^{4}}{32}\\right) \\epsilon^{4} + \\left(- \\sqrt{2} i (u)_{x} u^{2} - \\sqrt{2} i (u)_{x} u v - \\sqrt{2} i (u)_{x} v^{2} + 3 \\sqrt{2} i (v)_{x} v^{2}\\right) \\epsilon^{3} + \\left(\\frac{3 (u)_{xx} u}{2} + \\frac{3 (u)_{xx} v}{2} + \\frac{5 (u)_{x}^{2}}{4} + \\frac{(u)_{x} (v)_{x}}{2} - \\frac{(v)_{xx} u}{2} - \\frac{5 (v)_{xx} v}{2} - \\frac{7 (v)_{x}^{2}}{4} + \\frac{u^{3}}{2} - \\frac{3 u v^{2}}{2} + 5 v^{3}\\right) \\epsilon^{2} + \\left(\\frac{\\sqrt{2} i (u)_{xxx}}{2} + \\sqrt{2} i (u)_{x} u - \\sqrt{2} i (u)_{x} v - \\frac{\\sqrt{2} i (v)_{xxx}}{2} + 6 \\sqrt{2} i (v)_{x} v\\right) \\epsilon -  \\frac{1}{2} \\frac{1}{\\epsilon^{4}} + 2 v \\frac{1}{\\epsilon^{2}} + 2 \\sqrt{2} i (v)_{x} \\frac{1}{\\epsilon} -  2 (v)_{xx} - \\frac{u^{2}}{4} - \\frac{u v}{2} + \\frac{27 v^{2}}{4}, \\epsilon, \\frac{1}{\\epsilon}, domain=\\mathtt{\\text{EX}} \\right)}$"
      ],
      "text/plain": [
       "Eq(r_{4}, Poly((-5*u**4/32 - u**3*v/8 - 3*u**2*v**2/16 - 5*u*v**3/8 + 35*v**4/32)*\\epsilon**4 + (-sqrt(2)*I*(u)_{x}*u**2 - sqrt(2)*I*(u)_{x}*u*v - sqrt(2)*I*(u)_{x}*v**2 + 3*sqrt(2)*I*(v)_{x}*v**2)*\\epsilon**3 + (3*(u)_{xx}*u/2 + 3*(u)_{xx}*v/2 + 5*(u)_{x}**2/4 + (u)_{x}*(v)_{x}/2 - (v)_{xx}*u/2 - 5*(v)_{xx}*v/2 - 7*(v)_{x}**2/4 + u**3/2 - 3*u*v**2/2 + 5*v**3)*\\epsilon**2 + (sqrt(2)*I*(u)_{xxx}/2 + sqrt(2)*I*(u)_{x}*u - sqrt(2)*I*(u)_{x}*v - sqrt(2)*I*(v)_{xxx}/2 + 6*sqrt(2)*I*(v)_{x}*v)*\\epsilon - 1/2*(1/\\epsilon)**4 + 2*v*(1/\\epsilon)**2 + 2*sqrt(2)*I*(v)_{x}*(1/\\epsilon) - 2*(v)_{xx} - u**2/4 - u*v/2 + 27*v**2/4, \\epsilon, 1/\\epsilon, domain='EX'))"
      ]
     },
     "metadata": {},
     "output_type": "display_data"
    }
   ],
   "source": [
    "for n in range(5):\n",
    "    display(Eq(sig_sym[n], polynomize(sig_eq[n])))\n",
    "    display(Eq(r_sym[n], polynomize(r_eq[n] / I)))"
   ]
  },
  {
   "cell_type": "code",
   "execution_count": 6,
   "id": "20f271da",
   "metadata": {},
   "outputs": [
    {
     "name": "stdout",
     "output_type": "stream",
     "text": [
      "n = 1\n",
      "n = 2\n",
      "n = 3\n",
      "n = 4\n",
      "n = 5\n",
      "n = 6\n",
      "n = 7\n",
      "new differentiable symbol:  (q)_{xxxxxxx}\n"
     ]
    }
   ],
   "source": [
    "def q_coeff(n):\n",
    "    if n == -1:\n",
    "        #return Symbol('q_{' + str(n) + '}', real=True) * epsilon / I\n",
    "        return epsilon / (I * sqrt(2))\n",
    "    if n < -1 or (n % 2 == 0 and n >= 0):\n",
    "        return 0\n",
    "    else:\n",
    "        #if n > 1:\n",
    "            #return Symbol('q_{' + str(n) + '}', real=True) * I * epsiloninv**n\n",
    "        return I * catalan((n - 1) // 2) / sqrt(2)**n * epsiloninv**n\n",
    "       \n",
    "def alt_q_coeff(n):\n",
    "    if n == -1:\n",
    "        return epsilon / I * Symbol('q_{-1}', real=True)\n",
    "    if n < -1 or (n % 2 == 0 and n >= 0):\n",
    "        return 0\n",
    "    else:\n",
    "        return I * epsiloninv**n * Symbol('q_{' + str(n) + '}', real=True)\n",
    "    \n",
    "def plus_beta_coeff(n):\n",
    "    if n == 0:\n",
    "        return - 1 * Rational(1, 2)\n",
    "    else:\n",
    "        return - q_coeff(n) * Rational(1, 2)\n",
    "    \n",
    "def minus_beta_coeff(n):\n",
    "    if n == 0:\n",
    "        return - 1 * Rational(1, 2)\n",
    "    else:\n",
    "        return q_coeff(n) * Rational(1, 2)\n",
    "\n",
    "def alt_beta_coeff(n):\n",
    "    if n == 0:\n",
    "        return - 1 #Rational(1, 2)\n",
    "    else:\n",
    "        return 0\n",
    "    \n",
    "N = 8\n",
    "\n",
    "S_sym = [Symbol('S_{' + str(n) + '}') for n in range(N+1)]\n",
    "S_eq = [S_sym[n] for n in range(N+1)]\n",
    "\n",
    "SS_sym = [Symbol('SS_{' + str(n) + '}') for n in range(N+1)]\n",
    "SS_eq = [S_sym[n] for n in range(N+1)]\n",
    "\n",
    "S_plus_sym = [Symbol('S^+_{' + str(n) + '}') for n in range(N+1)]\n",
    "S_plus_eq = [S_plus_sym[n] for n in range(N+1)]\n",
    "\n",
    "S_minus_sym = [Symbol('S^-_{' + str(n) + '}') for n in range(N+1)]\n",
    "S_minus_eq = [S_plus_sym[n] for n in range(N+1)]\n",
    "\n",
    "sigq_sym = [Symbol('\\\\sigma^q_{' + str(n) + '}') for n in range(N+1)]\n",
    "sigq_eq = [sigq_sym[n] for n in range(N+1)]\n",
    "\n",
    "rq_sym = [Symbol('r^q_{' + str(n) + '}') for n in range(N+1)]\n",
    "rq_eq = [rq_sym[n] for n in range(N+1)]\n",
    "\n",
    "Rq_sym = [Symbol('R^q_{' + str(n) + '}') for n in range(N+1)]\n",
    "Rq_eq = [rq_sym[n] for n in range(N+1)]\n",
    "\n",
    "sigs_sym = [Symbol('\\\\sigma^s_{' + str(n) + '}') for n in range(N+1)]\n",
    "sigs_eq = [sigs_sym[n] for n in range(N+1)]\n",
    "\n",
    "S_eq[0] = 0\n",
    "S_eq[1] = u\n",
    "\n",
    "SS_eq[0] = 0\n",
    "SS_eq[1] = - u\n",
    "\n",
    "S_plus_eq[0] = 0\n",
    "S_plus_eq[1] = u+v\n",
    "\n",
    "S_minus_eq[0] = 0\n",
    "S_minus_eq[1] = u-v\n",
    "\n",
    "sigq_eq[0] = 0\n",
    "sigq_eq[1] = 1 - q * q_conj\n",
    "\n",
    "sigs_eq[0] = 0\n",
    "sigs_eq[1] = - q * q_conj\n",
    "\n",
    "rq_eq[0] = 0\n",
    "rq_eq[1] = q_conj\n",
    "\n",
    "Rq_eq[0] = 0\n",
    "Rq_eq[1] = q_conj\n",
    "\n",
    "for n in range(1, N):\n",
    "    print(\"n =\", n)\n",
    "    \n",
    "    X = deriv(S_eq[n])\n",
    "    \n",
    "    for k in range(n+1):\n",
    "        X += S_eq[k] * S_eq[n-k]\n",
    "\n",
    "    S_eq[n+1] = poly_simplify(X)\n",
    "    \n",
    "    X = deriv(SS_eq[n])\n",
    "    \n",
    "    for k in range(n+1):\n",
    "        X += SS_eq[k] * SS_eq[n-k]\n",
    "\n",
    "    SS_eq[n+1] = poly_simplify(X)\n",
    "    \n",
    "    \n",
    "    \n",
    "    X = deriv(S_plus_eq[n])\n",
    "    \n",
    "    for k in range(n+1):\n",
    "        X += (S_plus_eq[k] + S_minus_eq[k])/2 * S_plus_eq[n-k]\n",
    "        \n",
    "    S_plus_eq[n+1] = poly_simplify(X)\n",
    "        \n",
    "    X = - deriv(S_minus_eq[n])\n",
    "\n",
    "    for k in range(n+1):\n",
    "        X += - (S_plus_eq[k] + S_minus_eq[k])/2 * S_minus_eq[n-k]\n",
    "\n",
    "    S_minus_eq[n+1] = poly_simplify(X)\n",
    "\n",
    "    \n",
    "    X = 0\n",
    "    \n",
    "    for m in range(0, n//2 + 1):\n",
    "        X += - deriv(rq_eq[n-2*m]) * binomial(m - Rational(n,2), m) * 4**m\n",
    "        \n",
    "    for k in range(0, n + 1):\n",
    "        for m1 in range(0, k//2 + 1):\n",
    "            for m2 in range(0, (n-k)//2 + 1):\n",
    "                X += - q * rq_eq[k-2*m1] * binomial(m1 - Rational(k,2), m1) * 4**m1 * rq_eq[n-k-2*m2] * binomial(m2 - Rational(n-k,2), m2) * 4**m2\n",
    "    \n",
    "    for m in range(1, (n+1)//2 + 1):\n",
    "        X += - rq_eq[n+1-2*m] * binomial(m - Rational(n+1,2), m) * 4**m\n",
    "        \n",
    "    rq_eq[n+1] = simplify(X)\n",
    "    \n",
    "    X = - deriv(Rq_eq[n])\n",
    "    \n",
    "    for k in range(0, n + 1):\n",
    "        X += - q * (Rq_eq[k] * Rq_eq[n-k])\n",
    "        \n",
    "    Rq_eq[n+1] = simplify(X)\n",
    "    \n",
    "    X = deriv(sigq_eq[n])\n",
    "    \n",
    "    for k in range(0, n + 1):\n",
    "        X += sigq_eq[k] * sigq_eq[n-k]\n",
    "        \n",
    "    X += - deriv(q) * rq_eq[n]\n",
    "    \n",
    "    sigq_eq[n+1] = simplify(X)\n",
    "    \n",
    "    X = deriv(sigs_eq[n])\n",
    "    \n",
    "    for k in range(0, n + 1):\n",
    "        X += sigs_eq[k] * sigs_eq[n-k]\n",
    "        \n",
    "    X += - deriv(q) * Rq_eq[n]\n",
    "    \n",
    "    sigs_eq[n+1] = simplify(X)\n",
    "    \n",
    "    #display(Eq(S_sym[n], S_eq[n]))\n",
    "    #display(Eq(S_plus_sym[n], S_plus_eq[n]))\n",
    "    #display(Eq(S_minus_sym[n], S_minus_eq[n]))\n",
    "    \n",
    "    #display(Eq(S_sym[n], simplify(deriv(variation(S_eq[n], u)) / 2)))\n",
    "    #display(Eq(S_plus_sym[n], simplify(deriv(variation(S_plus_eq[n], u)) / 2)))\n",
    "    #display(Eq(S_minus_sym[n], simplify(deriv(variation(S_minus_eq[n], v)) / 2)))\n"
   ]
  },
  {
   "cell_type": "code",
   "execution_count": null,
   "id": "ce6a836c",
   "metadata": {},
   "outputs": [],
   "source": [
    "for n in range(10):\n",
    "    error = 0\n",
    "    \n",
    "    if n % 2 == 0:\n",
    "        m = n // 2\n",
    "        for k in range(m+1):\n",
    "            error += binomial(-k, m-k) * (-4)**(m-k) * sigs_eq[2*k]\n",
    "            \n",
    "    elif n % 2 == 1:\n",
    "        m = (n - 1) // 2\n",
    "        for k in range(m+1):\n",
    "            error += binomial(-k-Rational(1,2), m-k) * (-4)**(m-k) * sigs_eq[2*k+1]\n",
    "        error += catalan(m)\n",
    "      \n",
    "    error -= sigq_eq[n]\n",
    "    \n",
    "    if simplify(error) != 0:\n",
    "        print(\"sigs error n =\", n)\n",
    "        display(simplify(error))\n",
    "\n",
    "print(\"Check 1 done\")"
   ]
  },
  {
   "cell_type": "code",
   "execution_count": 8,
   "id": "056ae94b",
   "metadata": {},
   "outputs": [
    {
     "data": {
      "text/latex": [
       "$\\displaystyle 0$"
      ],
      "text/plain": [
       "0"
      ]
     },
     "metadata": {},
     "output_type": "display_data"
    },
    {
     "data": {
      "text/latex": [
       "$\\displaystyle 0$"
      ],
      "text/plain": [
       "0"
      ]
     },
     "metadata": {},
     "output_type": "display_data"
    },
    {
     "data": {
      "text/latex": [
       "$\\displaystyle 0$"
      ],
      "text/plain": [
       "0"
      ]
     },
     "metadata": {},
     "output_type": "display_data"
    },
    {
     "data": {
      "text/latex": [
       "$\\displaystyle 0$"
      ],
      "text/plain": [
       "0"
      ]
     },
     "metadata": {},
     "output_type": "display_data"
    },
    {
     "data": {
      "text/latex": [
       "$\\displaystyle 0$"
      ],
      "text/plain": [
       "0"
      ]
     },
     "metadata": {},
     "output_type": "display_data"
    },
    {
     "data": {
      "text/latex": [
       "$\\displaystyle 0$"
      ],
      "text/plain": [
       "0"
      ]
     },
     "metadata": {},
     "output_type": "display_data"
    },
    {
     "data": {
      "text/latex": [
       "$\\displaystyle 0$"
      ],
      "text/plain": [
       "0"
      ]
     },
     "metadata": {},
     "output_type": "display_data"
    },
    {
     "data": {
      "text/latex": [
       "$\\displaystyle 0$"
      ],
      "text/plain": [
       "0"
      ]
     },
     "metadata": {},
     "output_type": "display_data"
    },
    {
     "data": {
      "text/latex": [
       "$\\displaystyle 0$"
      ],
      "text/plain": [
       "0"
      ]
     },
     "metadata": {},
     "output_type": "display_data"
    },
    {
     "data": {
      "text/latex": [
       "$\\displaystyle 0$"
      ],
      "text/plain": [
       "0"
      ]
     },
     "metadata": {},
     "output_type": "display_data"
    }
   ],
   "source": [
    "for m in range(10):\n",
    "    X = 0\n",
    "    for l in range(m+1):\n",
    "        X += (-1)**l * (catalan(l+1) - 2 * catalan(l)) * 4**(-l) * binomial(m, m-l)\n",
    "    X += 4**(-m) * catalan(m+1) * (m+1)\n",
    "    display(X)"
   ]
  },
  {
   "cell_type": "code",
   "execution_count": 61,
   "id": "855b9fd3",
   "metadata": {},
   "outputs": [
    {
     "name": "stdout",
     "output_type": "stream",
     "text": [
      "A_error 0\n",
      "At_error 0\n",
      "B_error 0\n",
      "Bt_error 0\n",
      "D_error 0\n",
      "Dt_error 0\n",
      "E_error 0\n",
      "(5, 1) 0\n",
      "(6, 1) 0\n",
      "(6, 2) 0\n",
      "(7, 1) 0\n",
      "(7, 2) 0\n",
      "(8, 1) 0\n",
      "(8, 2) 0\n",
      "(8, 3) 0\n",
      "(9, 1) 0\n",
      "(9, 2) 0\n",
      "(9, 3) 0\n",
      "(10, 1) 0\n",
      "(10, 2) 0\n",
      "(10, 3) 0\n",
      "(10, 4) 0\n",
      "(11, 1) 0\n",
      "(11, 2) 0\n",
      "(11, 3) 0\n",
      "(11, 4) 0\n",
      "(12, 1) 0\n",
      "(12, 2) 0\n",
      "(12, 3) 0\n",
      "(12, 4) 0\n",
      "(12, 5) 0\n",
      "(13, 1) 0\n",
      "(13, 2) 0\n",
      "(13, 3) 0\n",
      "(13, 4) 0\n",
      "(13, 5) 0\n",
      "(14, 1) 0\n",
      "(14, 2) 0\n",
      "(14, 3) 0\n",
      "(14, 4) 0\n",
      "(14, 5) 0\n",
      "(14, 6) 0\n",
      "(15, 1) 0\n",
      "(15, 2) 0\n",
      "(15, 3) 0\n",
      "(15, 4) 0\n",
      "(15, 5) 0\n",
      "(15, 6) 0\n",
      "(16, 1) 0\n",
      "(16, 2) 0\n",
      "(16, 3) 0\n",
      "(16, 4) 0\n",
      "(16, 5) 0\n",
      "(16, 6) 0\n",
      "(16, 7) 0\n",
      "(17, 1) 0\n",
      "(17, 2) 0\n",
      "(17, 3) 0\n",
      "(17, 4) 0\n",
      "(17, 5) 0\n",
      "(17, 6) 0\n",
      "(17, 7) 0\n",
      "(18, 1) 0\n",
      "(18, 2) 0\n",
      "(18, 3) 0\n",
      "(18, 4) 0\n",
      "(18, 5) 0\n",
      "(18, 6) 0\n",
      "(18, 7) 0\n",
      "(18, 8) 0\n",
      "(19, 1) 0\n",
      "(19, 2) 0\n",
      "(19, 3) 0\n",
      "(19, 4) 0\n",
      "(19, 5) 0\n",
      "(19, 6) 0\n",
      "(19, 7) 0\n",
      "(19, 8) 0\n",
      "[]\n",
      "[]\n",
      "[]\n",
      "[]\n",
      "[]\n",
      "[6]\n",
      "[-4]\n",
      "[10, 64]\n",
      "[-8, -44]\n",
      "[14, 148, 468]\n",
      "[-12, -120, -328]\n",
      "[18, 264, 1388, 2900]\n",
      "[-16, -228, -1136, -2060]\n",
      "[22, 412, 3012, 10512, 16356]\n",
      "[-20, -368, -2616, -8664, -11736]\n",
      "[26, 592, 5532, 26892, 70140, 86800]\n",
      "[-24, -540, -4960, -23460, -58128, -62776]\n",
      "[30, 804, 9140, 56840, 206772, 430136, 441416]\n",
      "[-28, -744, -8360, -51120, -181032, -358064, -321296]\n",
      "[34, 1048, 14028, 106180, 494476, 1436256, 2483256, 2175132]\n",
      "[-32, -980, -13008, -97340, -445856, -1261224, -2074848, -1591692]\n",
      "[]\n",
      "[]\n",
      "[]\n",
      "[]\n",
      "[]\n",
      "[6]\n",
      "[-4]\n",
      "[10, 64]\n",
      "[-8, -44]\n",
      "[14, 148, 468]\n",
      "[-12, -120, -328]\n",
      "[18, 264, 1388, 2900]\n",
      "[-16, -228, -1136, -2060]\n",
      "[22, 412, 3012, 10512, 16356]\n",
      "[-20, -368, -2616, -8664, -11736]\n",
      "[26, 592, 5532, 26892, 70140, 86800]\n",
      "[-24, -540, -4960, -23460, -58128, -62776]\n",
      "[30, 804, 9140, 56840, 206772, 430136, 441416]\n",
      "[-28, -744, -8360, -51120, -181032, -358064, -321296]\n",
      "[34, 1048, 14028, 106180, 494476, 1436256, 2483256, 2175132]\n",
      "[-32, -980, -13008, -97340, -445856, -1261224, -2074848, -1591692]\n",
      "n = 0\n",
      "n = 1\n",
      "n = 2\n",
      "n = 3\n",
      "[0, 0]\n",
      "n = 4\n",
      "[0, 0, 0]\n",
      "n = 5\n",
      "[0, 0, 0, 0]\n",
      "[0, -6]\n",
      "n = 6\n",
      "[0, 0, 0, 0, 0]\n",
      "[0, -8, -12]\n",
      "n = 7\n",
      "[0, 0, 0, 0, 0, 0]\n",
      "[0, -10, -20, -20]\n",
      "[0, -64]\n",
      "n = 8\n",
      "[0, 0, 0, 0, 0, 0, 0]\n",
      "[0, -12, -30, -40, -30]\n",
      "[0, -106, -150]\n",
      "n = 9\n",
      "[0, 0, 0, 0, 0, 0, 0, 0]\n",
      "[0, -14, -42, -70, -70, -42]\n",
      "[0, -158, -298, -288]\n",
      "[0, -468]\n",
      "n = 10\n",
      "[0, 0, 0, 0, 0, 0, 0, 0, 0]\n",
      "[0, -16, -56, -112, -140, -112, -56]\n",
      "[0, -220, -518, -668, -490]\n",
      "[0, -908, -1236]\n",
      "n = 11\n",
      "[0, 0, 0, 0, 0, 0, 0, 0, 0, 0]\n",
      "[0, -18, -72, -168, -252, -252, -168, -72]\n",
      "[0, -292, -824, -1328, -1300, -768]\n",
      "[0, -1548, -2808, -2648]\n",
      "[0, -2900]\n",
      "n = 12\n",
      "[0, 0, 0, 0, 0, 0, 0, 0, 0, 0, 0]\n",
      "[0, -20, -90, -240, -420, -504, -420, -240, -90]\n",
      "[0, -374, -1230, -2378, -2910, -2294, -1134]\n",
      "[0, -2424, -5484, -6904, -4980]\n",
      "[0, -6370, -8430]\n",
      "n = 13\n",
      "[0, 0, 0, 0, 0, 0, 0, 0, 0, 0, 0, 0]\n",
      "[0, -22, -110, -330, -660, -924, -924, -660, -330, -110]\n",
      "[0, -466, -1750, -3946, -5794, -5710, -3766, -1600]\n",
      "[0, -3572, -9676, -15220, -14660, -8556]\n",
      "[0, -12102, -21342, -19752]\n",
      "[0, -16356]\n",
      "n = 14\n",
      "[0, 0, 0, 0, 0, 0, 0, 0, 0, 0, 0, 0, 0]\n",
      "[0, -24, -132, -440, -990, -1584, -1848, -1584, -990, -440, -132]\n",
      "[0, -568, -2398, -6178, -10582, -12514, -10318, -5848, -2178]\n",
      "[0, -5028, -15860, -29916, -36020, -28068, -13748]\n",
      "[0, -20876, -45886, -56716, -40370]\n",
      "[0, -39780, -51516]\n",
      "n = 15\n",
      "[0, 0, 0, 0, 0, 0, 0, 0, 0, 0, 0, 0, 0, 0]\n",
      "[0, -26, -156, -572, -1430, -2574, -3432, -3432, -2574, -1430, -572, -156]\n",
      "[0, -680, -3188, -9238, -18082, -24946, -24682, -17488, -8688, -2880]\n",
      "[0, -6828, -24576, -54048, -78072, -76056, -49728, -20976]\n",
      "[0, -33584, -88324, -136372, -129680, -74940]\n",
      "[0, -82740, -142800, -130200]\n",
      "[0, -86800]\n",
      "n = 16\n",
      "[0, 0, 0, 0, 0, 0, 0, 0, 0, 0, 0, 0, 0, 0, 0]\n",
      "[0, -28, -182, -728, -2002, -4004, -6006, -6864, -6006, -4004, -2002, -728, -182]\n",
      "[0, -802, -4134, -13308, -29302, -46198, -53326, -45340, -28158, -12450, -3718]\n",
      "[0, -9008, -36428, -91508, -154172, -180212, -147308, -82928, -30708]\n",
      "[0, -51230, -156790, -290210, -344950, -266270, -129430]\n",
      "[0, -154952, -333172, -405832, -285740]\n",
      "[0, -230132, -292908]\n",
      "n = 17\n",
      "[0, 0, 0, 0, 0, 0, 0, 0, 0, 0, 0, 0, 0, 0, 0, 0]\n",
      "[0, -30, -210, -910, -2730, -6006, -10010, -12870, -12870, -10010, -6006, -2730, -910, -210]\n",
      "[0, -934, -5250, -18588, -45472, -80650, -106390, -105532, -78648, -43470, -17314, -4704]\n",
      "[0, -11604, -52084, -147124, -283216, -386176, -378784, -266584, -131724, -43460]\n",
      "[0, -74930, -261530, -564230, -804470, -776330, -503930, -211280]\n",
      "[0, -268820, -691228, -1051588, -989540, -567132]\n",
      "[0, -517356, -877716, -790496]\n",
      "[0, -441416]\n",
      "n = 18\n",
      "[0, 0, 0, 0, 0, 0, 0, 0, 0, 0, 0, 0, 0, 0, 0, 0, 0]\n",
      "[0, -32, -240, -1120, -3640, -8736, -16016, -22880, -25740, -22880, -16016, -8736, -3640, -1120, -240]\n",
      "[0, -1076, -6550, -25296, -68066, -134132, -199054, -225652, -196194, -130128, -64790, -23476, -5850]\n",
      "[0, -14652, -72276, -226760, -490980, -765012, -875364, -739272, -456660, -201020, -59796]\n",
      "[0, -105912, -415142, -1022762, -1700558, -1968938, -1597862, -894392, -329562]\n",
      "[0, -439756, -1315260, -2398132, -2820540, -2160076, -1043196]\n",
      "[0, -1040536, -2198588, -2646168, -1846180]\n",
      "[0, -1261144, -1582440]\n",
      "n = 19\n",
      "[0, 0, 0, 0, 0, 0, 0, 0, 0, 0, 0, 0, 0, 0, 0, 0, 0, 0]\n",
      "[0, -34, -272, -1360, -4760, -12376, -24752, -38896, -48620, -48620, -38896, -24752, -12376, -4760, -1360, -272]\n",
      "[0, -1228, -8048, -33668, -98824, -214212, -353208, -450448, -447588, -346344, -206932, -93728, -31148, -7168]\n",
      "[0, -18188, -97800, -337416, -811604, -1422500, -1860080, -1832624, -1358436, -747540, -296648, -80328]\n",
      "[0, -145516, -632816, -1752726, -3329334, -4496214, -4378206, -3063816, -1506876, -495140]\n",
      "[0, -686500, -2340616, -4973080, -7015120, -6716416, -4333000, -1807216]\n",
      "[0, -1928664, -4871520, -7321968, -6829560, -3886704]\n",
      "[0, -3034776, -5076816, -4525296]\n",
      "[0, -2175132]\n",
      "n = 20\n",
      "[0, 0, 0, 0, 0, 0, 0, 0, 0, 0, 0, 0, 0, 0, 0, 0, 0, 0, 0]\n",
      "[0, -36, -306, -1632, -6120, -17136, -37128, -63648, -87516, -97240, -87516, -63648, -37128, -17136, -6120, -1632, -306]\n",
      "[0, -1390, -9758, -43958, -139774, -330510, -599454, -849418, -949518, -839694, -585310, -318134, -132158, -40558, -8670]\n",
      "[0, -22248, -129516, -487328, -1289220, -2510440, -3692764, -4157800, -3595524, -2374304, -1177836, -425448, -105716]\n",
      "[0, -195194, -932574, -2868332, -6127478, -9455198, -10740086, -9018476, -5545182, -2431610, -720830]\n",
      "[0, -1031440, -3947860, -9576460, -15751300, -18092044, -14592340, -8127760, -2982060]\n",
      "[0, -3356172, -9856764, -17751924, -20694780, -15742476, -7560252]\n",
      "[0, -6500592, -13540824, -16134384, -11169000]\n",
      "[0, -6637602, -8229294]\n",
      "n = 0\n",
      "n = 1\n",
      "n = 2\n",
      "n = 3\n",
      "n = 4\n",
      "n = 5\n",
      "[0, 5]\n",
      "n = 6\n",
      "[0, 18]\n",
      "n = 7\n",
      "[0, 28, 19]\n",
      "[0, 50]\n",
      "n = 8\n",
      "[0, 40, 68]\n",
      "[0, 216]\n",
      "n = 9\n",
      "[0, 54, 110, 69]\n",
      "[0, 392, 266]\n",
      "[0, 350]\n",
      "n = 10\n",
      "[0, 70, 166, 250]\n",
      "[0, 640, 1088]\n",
      "[0, 1728]\n",
      "n = 11\n",
      "[0, 88, 238, 418, 251]\n",
      "[0, 972, 1980, 1242]\n",
      "[0, 3528, 2394]\n",
      "[0, 2100]\n",
      "n = 12\n",
      "[0, 108, 328, 658, 922]\n",
      "[0, 1400, 3320, 5000]\n",
      "[0, 6400, 10880]\n",
      "[0, 11520]\n",
      "n = 13\n",
      "[0, 130, 438, 988, 1582, 923]\n",
      "[0, 1936, 5236, 9196, 5522]\n",
      "[0, 10692, 21780, 13662]\n",
      "[0, 25872, 17556]\n",
      "[0, 11550]\n",
      "n = 14\n",
      "[0, 154, 570, 1428, 2572, 3430]\n",
      "[0, 2592, 7872, 15792, 22128]\n",
      "[0, 16800, 39840, 60000]\n",
      "[0, 51200, 87040]\n",
      "[0, 69120]\n",
      "n = 15\n",
      "[0, 180, 726, 2000, 4002, 6004, 3431]\n",
      "[0, 3380, 11388, 25688, 41132, 23998]\n",
      "[0, 25168, 68068, 119548, 71786]\n",
      "[0, 92664, 188760, 118404]\n",
      "[0, 168168, 114114]\n",
      "[0, 60060]\n",
      "n = 16\n",
      "[0, 208, 908, 2728, 6004, 10008, 12868]\n",
      "[0, 4312, 15960, 39984, 72016, 96040]\n",
      "[0, 36288, 110208, 221088, 309792]\n",
      "[0, 156800, 371840, 560000]\n",
      "[0, 358400, 609280]\n",
      "[0, 387072]\n",
      "n = 17\n",
      "[0, 238, 1118, 3638, 8734, 16014, 22878, 12869]\n",
      "[0, 5400, 21780, 60000, 120060, 180120, 102930]\n",
      "[0, 50700, 170820, 385320, 616980, 359970]\n",
      "[0, 251680, 680680, 1195480, 717860]\n",
      "[0, 694980, 1415700, 888030]\n",
      "[0, 1009008, 684684]\n",
      "[0, 300300]\n",
      "n = 18\n",
      "[0, 270, 1358, 4758, 12374, 24750, 38894, 48618]\n",
      "[0, 6656, 29056, 87296, 192128, 320256, 411776]\n",
      "[0, 68992, 255360, 639744, 1152256, 1536640]\n",
      "[0, 387072, 1175552, 2358272, 3304448]\n",
      "[0, 1254400, 2974720, 4480000]\n",
      "[0, 2293760, 3899392]\n",
      "[0, 2064384]\n",
      "n = 19\n",
      "[0, 304, 1630, 6118, 17134, 37126, 63646, 87514, 48619]\n",
      "[0, 8092, 38012, 123692, 296956, 544476, 777852, 437546]\n",
      "[0, 91800, 370260, 1020000, 2041020, 3062040, 1749810]\n",
      "[0, 574600, 1935960, 4366960, 6992440, 4079660]\n",
      "[0, 2139280, 5785780, 10161580, 6101810]\n",
      "[0, 4725864, 9626760, 6038604]\n",
      "[0, 5717712, 3879876]\n",
      "[0, 1458600]\n",
      "n = 20\n",
      "[0, 340, 1936, 7750, 23254, 54262, 100774, 151162, 184754]\n",
      "[0, 9720, 48888, 171288, 445464, 891000, 1400184, 1750248]\n",
      "[0, 119808, 523008, 1571328, 3458304, 5764608, 7411968]\n",
      "[0, 827904, 3064320, 7676928, 13827072, 18439680]\n",
      "[0, 3483648, 10579968, 21224448, 29740032]\n",
      "[0, 9031680, 21417984, 32256000]\n",
      "[0, 13762560, 23396352]\n",
      "[0, 10616832]\n"
     ]
    }
   ],
   "source": [
    "N = 20\n",
    "\n",
    "def AA(n, j):\n",
    "    return (-1)**(n+1) * 4**j * binomial(Rational(n,2) - 1, j)\n",
    "\n",
    "def AAt(n, j):\n",
    "    return - 4**j * binomial(Rational(n,2) - 1, j)\n",
    "\n",
    "def BB(n, j):\n",
    "    return (-1)**(n+1) * sum([(-1)**l * (catalan(l+1) - 2 * catalan(l)) * 4**(j-l) * binomial(Rational(n-1,2) - 1, j - l) for l in range(0, j+1)])\n",
    "\n",
    "def BBt(n, j):\n",
    "    return - sum([(-1)**l * (catalan(l+1) - 2 * catalan(l)) * 4**(j-l) * binomial(Rational(n-1,2) - 1, j - l) for l in range(0, j+1)])\n",
    "\n",
    "def DD(n, j):\n",
    "    return 4**j * binomial(Rational(n,2) - 1, j)\n",
    "\n",
    "def DDt(n, j):\n",
    "    return 4**j * binomial(Rational(n,2) - 1, j)\n",
    "\n",
    "def EE(n, j):\n",
    "    return - 4**j * binomial(Rational(n,2) - 1, j) - sum([(-1)**l * catalan(l) * 4**(j-l) * binomial(Rational(n,2) - 1, j - l) for l in range(0, j+1)])\n",
    "\n",
    "def EEt(n, j):\n",
    "    #return sum([catalan(l+1)* (-4)**(j-l) * binomial(1+j-Rational(n,2), j-l) for l in range(0,j+1)])\n",
    "    return sum([(-1)**l * (catalan(l+1) - 2 * catalan(l)) * 4**(j-l) * binomial(Rational(n-1,2) - 1, j - l) for l in range(0, j+1)])\n",
    "\n",
    "def FFt(n, j):\n",
    "    if n % 2 == 0:\n",
    "        return sum([4*(n//2-j-1) * catalan(k) * 4**(j-1-k) * binomial(Rational(n-1,2)-1-k, j-1-k) for k in range(j)])\n",
    "    if n % 2 == 1:\n",
    "        Y = 0\n",
    "        Y += - 4**j * Rational(1,2) * binomial(Rational(n,2)-1, j-1)\n",
    "        Y += 4**j * (2*j+1) * binomial(Rational(n,2)-1, j)\n",
    "        Y += sum([(j+1) * catalan(k) * 4**(j-k) * binomial(Rational(n-1,2)-1-k, j-k) for k in range(j+1)])\n",
    "        return Y \n",
    "\n",
    "def FFtt(n, j):\n",
    "    Y = (-1)**(n+1) * sum([4*((n-1)//2-j) * catalan(k) * 4**(j-1-k) * binomial((n-1)//2-Rational(1,2)-k, j-1-k) for k in range(j)])\n",
    "    if n % 2 == 1:\n",
    "        Y += 2 * 4**(j-1) * binomial(Rational(n,2)-1, j-1)\n",
    "    return Y\n",
    "\n",
    "def GGt(n, j):\n",
    "    if n % 2 == 0:\n",
    "        return 0\n",
    "    if n % 2 == 1:\n",
    "        return - 2 * (4*((n-1)//2-j)-3) * 4**j * binomial(Rational(n,2)-1, j)\n",
    "\n",
    "A = [[0 for j in range(n//2)] for n in range(N+1)]\n",
    "At = [[0 for j in range(n//2)] for n in range(N+1)]\n",
    "B = [[0 for j in range(n//2-1)] for n in range(N+1)]\n",
    "Bt = [[0 for j in range(n//2-1)] for n in range(N+1)]\n",
    "D = [[0 for j in range(n//2)] for n in range(N+1)]\n",
    "Dt = [[0 for j in range(n//2)] for n in range(N+1)]\n",
    "E = [[0 for j in range(n//2)] for n in range(N+1)]\n",
    "Et = [[0 for j in range(n//2-1)] for n in range(N+1)]\n",
    "\n",
    "A[2][0] = -1\n",
    "\n",
    "for n in range(2, N):\n",
    "    for j in range((n+1)//2):\n",
    "        A[n+1][j] = 0\n",
    "        for k in range(j):\n",
    "            A[n+1][j] += 2 * catalan(k) * A[n-2*k-1][j-1-k]\n",
    "        if n%2 == 1 and j == (n-1)//2:\n",
    "            A[n+1][j] += - catalan((n-1)//2) * Rational(n+1, 2)\n",
    "        else:\n",
    "            A[n+1][j] += - A[n][j]\n",
    "\n",
    "At[2][0] = -1\n",
    "\n",
    "for n in range(2, N):\n",
    "    for j in range((n+1)//2):\n",
    "        At[n+1][j] = 0\n",
    "        for k in range(j):\n",
    "            At[n+1][j] += 2 * catalan(k) * At[n-2*k-1][j-1-k]\n",
    "        if n%2 == 1 and j == (n-1)//2:\n",
    "            At[n+1][j] += - catalan((n-1)//2) * Rational(n+1, 2)\n",
    "        else:\n",
    "            At[n+1][j] += At[n][j]\n",
    "            \n",
    "        \n",
    "A_error = 0\n",
    "At_error = 0\n",
    "\n",
    "for n in range(0, N+1):\n",
    "    for j in range(n//2):\n",
    "        A_error += abs(A[n][j] - AA(n, j))\n",
    "        At_error += abs(At[n][j] - AAt(n, j))\n",
    "print(\"A_error\", A_error)\n",
    "print(\"At_error\", At_error)\n",
    "\n",
    "B[4][0] = 1\n",
    "\n",
    "for n in range(4, N):\n",
    "    for j in range((n+1)//2 - 1):\n",
    "        B[n+1][j] = 0\n",
    "        for k in range(j):\n",
    "            B[n+1][j] += 2 * catalan(k) * B[n-2*k-1][j-1-k]\n",
    "        if n%2 == 1 and j == (n-3)//2:\n",
    "            B[n+1][j] += catalan((n-1)//2) * Rational(n-1, 2)\n",
    "        else:\n",
    "            B[n+1][j] += - B[n][j]\n",
    "    \n",
    "Bt[4][0] = 1\n",
    "\n",
    "for n in range(4, N):\n",
    "    for j in range((n+1)//2 - 1):\n",
    "        Bt[n+1][j] = 0\n",
    "        for k in range(j):\n",
    "            Bt[n+1][j] += 2 * catalan(k) * Bt[n-2*k-1][j-1-k]\n",
    "        if n%2 == 1 and j == (n-3)//2:\n",
    "            Bt[n+1][j] += catalan((n-1)//2) * Rational(n-1, 2)\n",
    "        else:\n",
    "            Bt[n+1][j] += Bt[n][j]\n",
    "            \n",
    "B_error = 0\n",
    "Bt_error = 0\n",
    "for n in range(0, N+1):\n",
    "    for j in range(n//2 - 1):\n",
    "        B_error += abs(B[n][j] - BB(n, j))\n",
    "        Bt_error += abs(Bt[n][j] - BBt(n, j))\n",
    "print(\"B_error\", B_error)\n",
    "print(\"Bt_error\", Bt_error)\n",
    "\n",
    "D[2][0] = 1\n",
    "\n",
    "for n in range(2, N):\n",
    "    for j in range((n+1)//2):\n",
    "        D[n+1][j] = 0\n",
    "        for k in range(j):\n",
    "            D[n+1][j] += 2 * catalan(k) * D[n-2*k-1][j-1-k]\n",
    "        if n%2 == 1 and j == (n-1)//2:\n",
    "            D[n+1][j] += catalan((n-1)//2) * Rational(n+1, 2)\n",
    "        else:\n",
    "            D[n+1][j] += D[n][j]\n",
    "            \n",
    "Dt[2][0] = 1\n",
    "\n",
    "for n in range(2, N):\n",
    "    for j in range((n+1)//2):\n",
    "        Dt[n+1][j] = 0\n",
    "        for k in range(j):\n",
    "            Dt[n+1][j] += 2 * catalan(k) * Dt[n-2*k-1][j-1-k]\n",
    "        if n%2 == 1 and j == (n-1)//2:\n",
    "            Dt[n+1][j] += catalan((n-1)//2) * Rational(n+1, 2)\n",
    "        else:\n",
    "            Dt[n+1][j] += Dt[n][j]\n",
    "         \n",
    "D_error = 0\n",
    "Dt_error = 0\n",
    "for n in range(0, N+1):\n",
    "    for j in range(n//2):\n",
    "        D_error += abs(D[n][j] - DD(n, j))\n",
    "        Dt_error += abs(Dt[n][j] - DDt(n, j))\n",
    "print(\"D_error\", D_error)\n",
    "print(\"Dt_error\", Dt_error)\n",
    "\n",
    "for n in range(0, N+1):\n",
    "    #print([D[n][j] for j in range(n//2)])\n",
    "    pass\n",
    "for n in range(0, N+1):\n",
    "    #print([Dt[n][j] for j in range(n//2)])\n",
    "    pass\n",
    "        \n",
    "E[2][0] = -2\n",
    "\n",
    "for n in range(2, N):\n",
    "    for j in range((n+1)//2):\n",
    "        E[n+1][j] = 0\n",
    "        for k in range(j):\n",
    "            E[n+1][j] += 2 * catalan(k) * E[n-2*k-1][j-1-k]\n",
    "        if n%2 == 1 and j == (n-1)//2:\n",
    "            E[n+1][j] += - catalan((n-1)//2) * Rational(n+3, 2)\n",
    "        else:\n",
    "            E[n+1][j] += E[n][j]\n",
    "  \n",
    "E_error = 0\n",
    "\n",
    "for n in range(0, N+1):\n",
    "    for j in range(n//2 - 1):\n",
    "        E_error += abs(E[n][j] - EE(n, j))\n",
    "print(\"E_error\", E_error)\n",
    "\n",
    "for n in range(0, N+1):\n",
    "    #print([E[n][j] for j in range(n//2)])\n",
    "    pass\n",
    "        \n",
    "        \n",
    "F = [[[0 for t in range(n-1-2*j)] for j in range((n-1)//2)] for n in range(N+1)]\n",
    "G = [[[0 for t in range((n-1)//2-j)] for j in range((n-1)//2-1)] for n in range(N+1)]\n",
    "Ft = [[0 for j in range((n-1)//2)] for n in range(N+1)]\n",
    "Gt = [[0 for j in range((n-1)//2-1)] for n in range(N+1)]\n",
    "\n",
    "F[5][1][1] = -6\n",
    "\n",
    "for n in range(3, N):\n",
    "    for j in range(1, n//2):\n",
    "        for t in range(1, n-2*j):\n",
    "            F[n+1][j][t] = 0\n",
    "            for k in range(j):\n",
    "                F[n+1][j][t] += 2 * catalan(k) * F[n-2*k-1][j-1-k][t]\n",
    "            for i in range(j-1):\n",
    "                F[n+1][j][t] += 2 * DDt(t+1+2*i, i) * EEt(n-1-2*i-t, j-2-i)\n",
    "            if j != Rational(n,2)-1 and t != n-1-2*j:\n",
    "                F[n+1][j][t] += F[n][j][t]\n",
    "            if j != Rational(n,2)-1 and t != 1:\n",
    "                F[n+1][j][t] += F[n][j][t-1]\n",
    "            if t == 1:\n",
    "                F[n+1][j][t] += (j + 1) * EEt(n, j-1)\n",
    "            if t == n-1-2*j:\n",
    "                F[n+1][j][t] += - j * DDt(n, j)\n",
    "\n",
    "for n in range(5, N+1):\n",
    "    for j in range(1, (n-1)//2):\n",
    "        Ft[n][j] = sum([(-1)**t * F[n][j][t] for t in range(1, n-1-2*j)])\n",
    "        \n",
    "for n in range(5, N):\n",
    "    for j in range(1, n//2):\n",
    "        X = 2 * sum([FFtt(n-2*k-1, j-1-k) * catalan(k) for k in range(j)])\n",
    "        if n % 2 == 0:\n",
    "            X += - 2 * EEt(n, j-2)\n",
    "        X += - (j+1) * EEt(n, j-1)\n",
    "        X += (-1)**n * j * DDt(n, j)\n",
    "        \n",
    "        print((n, j), X - FFtt(n+1, j))\n",
    "        \n",
    "for n in range(0, N+1):\n",
    "    print([Ft[n][j] for j in range(1, (n-1)//2)])\n",
    "\n",
    "for n in range(0, N+1):\n",
    "    print([FFtt(n, j) for j in range(1, (n-1)//2)])\n",
    "  \n",
    "for n in range(0, N+1):\n",
    "    print(\"n =\", n)\n",
    "    for j in range(0, (n-1)//2):\n",
    "        print([F[n][j][t] for t in range(n-1-2*j)])\n",
    "        #print([F_coeffs[n][j][t] for t in range(n-1-2*j)])\n",
    "        pass\n",
    "\n",
    "G[5][0][1] = 5\n",
    "\n",
    "\n",
    "for n in range(5, N):\n",
    "    for j in range(0, n//2-1):\n",
    "        for t in range(1,n//2-j):\n",
    "            G[n+1][j][t] = 0\n",
    "            for k in range(j):\n",
    "                G[n+1][j][t] += 2 * catalan(k) * G[n-2*k-1][j-1-k][t]\n",
    "            for i in range(j+1):\n",
    "                G[n+1][j][t] += D[t+1+2*i][i] * D[n-1-2*i-t][j-i]\n",
    "                if t != Rational(n, 2) - 1 - j:\n",
    "                    G[n+1][j][t] += D[t+1+2*i][i] * D[n-1-2*i-t][j-i]\n",
    "            if j != Rational(n,2)-2:\n",
    "                if t != Rational(n, 2) - 1 - j:\n",
    "                    G[n+1][j][t] += G[n][j][t]\n",
    "                if t != 1:\n",
    "                    G[n+1][j][t] += G[n][j][t-1]\n",
    "                if t == Rational(n-1, 2) - 1 - j:\n",
    "                    G[n+1][j][t] += G[n][j][t]\n",
    "            if t == 1:\n",
    "                G[n+1][j][t] += (j + 1) * D[n][j+1]\n",
    "\n",
    "for n in range(5, N+1):\n",
    "    for j in range(0, (n-1)//2-1):\n",
    "        Gt[n][j] = (1 - (-1)**n) * sum([(-1)**t * G[n][j][t] for t in range(1, (n-1)//2-j)])\n",
    "        \n",
    "for n in range(0, N+1):\n",
    "    print(\"n =\", n)\n",
    "    for j in range(0, (n-1)//2 - 1):\n",
    "        print([G[n][j][t] for t in range((n-1)//2-j)])\n",
    "        #print([G_coeffs[n][j][t] for t in range((n-1)//2-j)])\n",
    "        pass\n",
    "        \n",
    "\n",
    "\n",
    "\n",
    "    \n"
   ]
  },
  {
   "cell_type": "code",
   "execution_count": null,
   "id": "9529184d",
   "metadata": {},
   "outputs": [],
   "source": [
    "for n in range(min(10, N+1)):\n",
    "    error = 0\n",
    "    for j in range(n//2):\n",
    "        error += DD(n, j) * (-q)**(j+1) * q_conj**j * higher_deriv(q_conj, n-1-2*j)\n",
    "    for j in range(n//2):\n",
    "        error += EE(n, j) * (-q)**j * q_conj**(j+1) * higher_deriv(q, n-1-2*j)\n",
    "    \n",
    "    error -= extract_deriv(sigs_eq[n], 1)\n",
    "    \n",
    "    if simplify(error) != 0:\n",
    "        print(\"sigs error n = \", n)\n",
    "        display(simplify(error))\n",
    "\n",
    "print(\"Check 1 done\")\n",
    "\n",
    "for n in range(min(10, N+1)):\n",
    "    error = 0\n",
    "    for j in range((n-1)//2):\n",
    "        for t in range(1, n-1-2*j):\n",
    "            error += F[n][j][t] * (-q)**j * q_conj**j * higher_deriv(q, n-1-2*j-t) * higher_deriv(q_conj, t)\n",
    "    for j in range((n-1)//2-1):\n",
    "        for t in range(1, (n-1)//2-j):\n",
    "            error += G[n][j][t] * (-q)**(j+2) * q_conj**j * higher_deriv(q_conj, n-3-2*j-t) * higher_deriv(q_conj, t)\n",
    "    \n",
    "    error -= extract_deriv_alt(sigs_eq[n], 2)\n",
    "    \n",
    "    if simplify(error) != 0:\n",
    "        print(\"sigs error n = \", n)\n",
    "        display(simplify(error))\n",
    "        \n",
    "print(\"Check 2 done\")\n",
    "\n",
    "for n in range(min(10, N+1)):\n",
    "    error = 0\n",
    "    for j in range((n-1)//2-1):\n",
    "        error += GGt(n, j) * (-q)**(j+2) * q_conj**j * higher_deriv(q_conj, n-3-2*j)\n",
    "    for j in range((n-1)//2):\n",
    "        error += FFt(n, j) * (-q)**j * q_conj**j * higher_deriv(q, n-1-2*j)\n",
    "    \n",
    "    error -= extract_deriv(variation(extract_deriv_alt(sigs_eq[n], 2), q_conj), 1)\n",
    "    \n",
    "    if simplify(error) != 0:\n",
    "        print(\"sigs error n = \", n)\n",
    "        display(simplify(error))\n",
    "\n",
    "print(\"Check 3 done\")\n"
   ]
  },
  {
   "cell_type": "code",
   "execution_count": null,
   "id": "dac961ed",
   "metadata": {},
   "outputs": [],
   "source": [
    "for n in range(min(9, N+1)):\n",
    "    error = 0\n",
    "    for j in range((n-1)//2-1):\n",
    "        error += GGt(n, j) * (-q)**(j+2) * q_conj**j * higher_deriv(q_conj, n-3-2*j)\n",
    "    for j in range((n-1)//2):\n",
    "        error += FFt(n, j) * (-q)**j * q_conj**j * higher_deriv(q, n-1-2*j)\n",
    "    for j in range(n//2):\n",
    "        error += extract_deriv(variation(DD(n, j) * (-q)**(j+1) * q_conj**j * higher_deriv(q_conj, n-1-2*j), q_conj), 1)\n",
    "    for j in range(n//2):\n",
    "        error += extract_deriv(variation(EE(n, j) * (-q)**j * q_conj**(j+1) * higher_deriv(q, n-1-2*j), q_conj), 1)\n",
    "    \n",
    "    error -= extract_deriv(variation(sigs_eq[n], q_conj), 1)\n",
    "    \n",
    "    if simplify(error) != 0:\n",
    "        print(\"sigs error n = \", n)\n",
    "        display(simplify(error))\n",
    "\n",
    "print(\"Check 4 done\")\n",
    "\n",
    "for n in range(min(9, N+1)):\n",
    "    #print(\"n =\", n)\n",
    "    error = 0\n",
    "    for j in range((n-1)//2-1):\n",
    "        error += GGt(n, j) * (-q)**(j+2) * q_conj**j * higher_deriv(q_conj, n-3-2*j)\n",
    "    for j in range((n-1)//2):\n",
    "        error += FFt(n, j) * (-q)**j * q_conj**j * higher_deriv(q, n-1-2*j)\n",
    "    for j in range(n//2-1):\n",
    "        error += (1-(-1)**n) * (j+1) * DD(n, j+1) * (-q)**(j+2) * q_conj**j * higher_deriv(q_conj, n-3-2*j)\n",
    "    for j in range(n//2):\n",
    "        error += (j+1) * (EE(n, j) + (-1)**n * DD(n, j)) * (-q)**j * q_conj**j * higher_deriv(q, n-1-2*j)\n",
    "    \n",
    "    #display(error)\n",
    "    error -= extract_deriv(variation(sigs_eq[n], q_conj), 1)\n",
    "    \n",
    "    if simplify(error) != 0:\n",
    "        print(\"sigs error n = \", n)\n",
    "        display(simplify(error))\n",
    "\n",
    "print(\"Check 5 done\")\n"
   ]
  },
  {
   "cell_type": "code",
   "execution_count": null,
   "id": "130efc76",
   "metadata": {},
   "outputs": [],
   "source": [
    "for n in range(min(9, N+1)):\n",
    "    error = 0\n",
    "    for j in range(n//2-1):\n",
    "        error += ((GGt(n, j) if j <= (n-1)//2-2 else 0) + 2 * (n%2) * (j+1) * DD(n, j+1))  * (-q)**(j+2) * q_conj**j * higher_deriv(q_conj, n-3-2*j)\n",
    "    for j in range(n//2):\n",
    "        error += ((FFt(n, j) if j <= (n-1)//2-1 else 0) + (j+1) * (EE(n, j) + (-1)**n * DD(n, j))) * (-q)**j * q_conj**j * higher_deriv(q, n-1-2*j)\n",
    "\n",
    "    #display(error)\n",
    "    error -= extract_deriv(variation(sigs_eq[n], q_conj), 1)\n",
    "    \n",
    "    if simplify(error) != 0:\n",
    "        print(\"sigs error n = \", n)\n",
    "        display(simplify(error))\n",
    "\n",
    "print(\"Check 6 done\")\n",
    "\n",
    "def JJ(n, j):\n",
    "    if n%2 == 0:\n",
    "        return 0\n",
    "    m = Rational(n-1, 2)\n",
    "    return (1 - (-1)**n) * 4**j * binomial(Rational(n,2) - 1, j)\n",
    "\n",
    "def KK(n, j):\n",
    "    if n%2 == 0:\n",
    "        m = Rational(n, 2)\n",
    "        return - 4**j * binomial(m - Rational(1,2), j)\n",
    "    elif n%2 == 1:\n",
    "        m = Rational(n-1, 2)\n",
    "        return - Rational(1,2) * 4**j * (binomial(m - Rational(1,2), j) + binomial(m + Rational(1,2), j))\n",
    "\n",
    "for n in range(min(11, N+1)):\n",
    "    print(\"n =\", n)\n",
    "    error = 0\n",
    "    for j in range(n//2-1):\n",
    "        error += JJ(n, j) * (-q)**(j+2) * q_conj**j * higher_deriv(q_conj, n-3-2*j)\n",
    "    for j in range(n//2):\n",
    "        error += KK(n, j) * (-q)**j * q_conj**j * higher_deriv(q, n-1-2*j)\n",
    "\n",
    "    #display(error)\n",
    "    error -= extract_deriv(variation(sigs_eq[n], q_conj), 1)\n",
    "    \n",
    "    if simplify(error) != 0:\n",
    "        print(\"sigs error n = \", n)\n",
    "        display(simplify(error))\n",
    "\n",
    "print(\"Check 7 done\")"
   ]
  },
  {
   "cell_type": "code",
   "execution_count": null,
   "id": "09c43e13",
   "metadata": {},
   "outputs": [],
   "source": [
    "\n",
    "\n",
    "\n",
    "def KK(n, j):\n",
    "    return (FFt(n, j) if j <= (n-1)//2-1 else 0) + (j+1) * (EE(n, j) + (-1)**n * DD(n, j))\n",
    "\n",
    "def KKo(m, j):\n",
    "    n = 2 * m + 1\n",
    "    return (FFt(n, j) if j <= (n-1)//2-1 else 0) + (j+1) * (EE(n, j) + (-1)**n * DD(n, j))\n",
    "\n",
    "def KKo2(m, j):\n",
    "    X = 0\n",
    "    X += - 4**j * binomial(m-Rational(1,2), j)\n",
    "    X += - 4**j * Rational(1,2) * binomial(m-Rational(1,2), j-1)\n",
    "    for k in range(j+1):\n",
    "        X += catalan(k) * 4**(j-k) * (j+1) * binomial(m-1-k, j-k)\n",
    "        X += - catalan(k) * 4**(j-k) * (j+1) * (-1)**k * binomial(m-Rational(1,2), j-k)\n",
    "        \n",
    "    return X\n",
    "\n",
    "def KKo3(m, j):\n",
    "    X = 0\n",
    "    X += - 4**j * binomial(m-Rational(1,2), j)\n",
    "    X += - 4**j * Rational(1,2) * binomial(m-Rational(1,2), j-1)\n",
    "\n",
    "    return X\n",
    "\n",
    "for m in range(16):\n",
    "    print([KKo(m, j) for j in range(m-1)])\n",
    "    print([KKo(m, j) - KKo3(m, j) for j in range(m-1)])\n",
    "\n",
    "\n",
    "def KKe(m, j):\n",
    "    n = 2 * m\n",
    "    return (FFt(n, j) if j <= (n-1)//2-1 else 0) + (j+1) * (EE(n, j) + (-1)**n * DD(n, j))\n",
    "\n",
    "def KKe2(m, j):\n",
    "    X = 0\n",
    "    for k in range(j):\n",
    "        X += catalan(k) * 4**(j-k) * (m-1-j) * binomial(m-1-k-Rational(1,2), j-1-k)\n",
    "    for l in range(j+1):\n",
    "        X += - (j+1) * (-1)**l * catalan(l) * 4**(j-l) * binomial(m-1, j-l)\n",
    "    return X\n",
    "\n",
    "def KKe3(m, j):\n",
    "    X = 0\n",
    "    for k in range(j+1):\n",
    "        X += 4**j * Rational(catalan(k), 4**k) * ((m-1-j) * binomial(m-1-k-Rational(1,2), j-1-k) - (-1)**k * (j+1) * binomial(m-1, j-k))\n",
    "    return X\n",
    "\n",
    "def KKe4(m, j):\n",
    "    return - 2 * 4**j * sum([binomial(-Rational(3,2), k) * binomial(m, j-k) for k in range(j+1)])\n",
    "\n",
    "def KKe5(m, j):\n",
    "    return - 4**j * binomial(m - Rational(1,2), j)\n",
    "\n",
    "for m in range(16):\n",
    "    print([KKe(m, j) for j in range(m-1)])\n",
    "    print([KKe5(m, j) for j in range(m-1)])\n",
    "\n",
    "    "
   ]
  },
  {
   "cell_type": "code",
   "execution_count": 72,
   "id": "13a9936c",
   "metadata": {},
   "outputs": [
    {
     "data": {
      "text/plain": [
       "0"
      ]
     },
     "metadata": {},
     "output_type": "display_data"
    },
    {
     "data": {
      "text/latex": [
       "$\\displaystyle - \\tilde{q} q$"
      ],
      "text/plain": [
       "-\\tilde{q}*q"
      ]
     },
     "metadata": {},
     "output_type": "display_data"
    },
    {
     "data": {
      "text/latex": [
       "$\\displaystyle - (\\tilde{q})_{x} q - 2 (q)_{x} \\tilde{q}$"
      ],
      "text/plain": [
       "-(\\tilde{q})_{x}*q - 2*(q)_{x}*\\tilde{q}"
      ]
     },
     "metadata": {},
     "output_type": "display_data"
    },
    {
     "data": {
      "text/latex": [
       "$\\displaystyle - (\\tilde{q})_{xx} q - 2 (\\tilde{q})_{x} (q)_{x} - 2 (q)_{xx} \\tilde{q} + \\tilde{q}^{2} q^{2}$"
      ],
      "text/plain": [
       "-(\\tilde{q})_{xx}*q - 2*(\\tilde{q})_{x}*(q)_{x} - 2*(q)_{xx}*\\tilde{q} + \\tilde{q}**2*q**2"
      ]
     },
     "metadata": {},
     "output_type": "display_data"
    },
    {
     "data": {
      "text/latex": [
       "$\\displaystyle - (\\tilde{q})_{xxx} q - 4 (\\tilde{q})_{xx} (q)_{x} - 4 (\\tilde{q})_{x} (q)_{xx} + 4 (\\tilde{q})_{x} \\tilde{q} q^{2} - 2 (q)_{xxx} \\tilde{q} + 7 (q)_{x} \\tilde{q}^{2} q$"
      ],
      "text/plain": [
       "-(\\tilde{q})_{xxx}*q - 4*(\\tilde{q})_{xx}*(q)_{x} - 4*(\\tilde{q})_{x}*(q)_{xx} + 4*(\\tilde{q})_{x}*\\tilde{q}*q**2 - 2*(q)_{xxx}*\\tilde{q} + 7*(q)_{x}*\\tilde{q}**2*q"
      ]
     },
     "metadata": {},
     "output_type": "display_data"
    },
    {
     "data": {
      "text/latex": [
       "$\\displaystyle - (\\tilde{q})_{xxxx} q - 4 (\\tilde{q})_{xxx} (q)_{x} - 8 (\\tilde{q})_{xx} (q)_{xx} + 6 (\\tilde{q})_{xx} \\tilde{q} q^{2} + 5 (\\tilde{q})_{x}^{2} q^{2} - 6 (\\tilde{q})_{x} (q)_{xxx} + 26 (\\tilde{q})_{x} (q)_{x} \\tilde{q} q - 2 (q)_{xxxx} \\tilde{q} + 11 (q)_{xx} \\tilde{q}^{2} q + 10 (q)_{x}^{2} \\tilde{q}^{2} - 2 \\tilde{q}^{3} q^{3}$"
      ],
      "text/plain": [
       "-(\\tilde{q})_{xxxx}*q - 4*(\\tilde{q})_{xxx}*(q)_{x} - 8*(\\tilde{q})_{xx}*(q)_{xx} + 6*(\\tilde{q})_{xx}*\\tilde{q}*q**2 + 5*(\\tilde{q})_{x}**2*q**2 - 6*(\\tilde{q})_{x}*(q)_{xxx} + 26*(\\tilde{q})_{x}*(q)_{x}*\\tilde{q}*q - 2*(q)_{xxxx}*\\tilde{q} + 11*(q)_{xx}*\\tilde{q}**2*q + 10*(q)_{x}**2*\\tilde{q}**2 - 2*\\tilde{q}**3*q**3"
      ]
     },
     "metadata": {},
     "output_type": "display_data"
    },
    {
     "data": {
      "text/latex": [
       "$\\displaystyle - (\\tilde{q})_{xxxxx} q - 6 (\\tilde{q})_{xxxx} (q)_{x} - 12 (\\tilde{q})_{xxx} (q)_{xx} + 8 (\\tilde{q})_{xxx} \\tilde{q} q^{2} + 18 (\\tilde{q})_{xx} (\\tilde{q})_{x} q^{2} - 14 (\\tilde{q})_{xx} (q)_{xxx} + 56 (\\tilde{q})_{xx} (q)_{x} \\tilde{q} q + 45 (\\tilde{q})_{x}^{2} (q)_{x} q - 8 (\\tilde{q})_{x} (q)_{xxxx} + 60 (\\tilde{q})_{x} (q)_{xx} \\tilde{q} q + 60 (\\tilde{q})_{x} (q)_{x}^{2} \\tilde{q} - 16 (\\tilde{q})_{x} \\tilde{q}^{2} q^{3} - 2 (q)_{xxxxx} \\tilde{q} + 15 (q)_{xxx} \\tilde{q}^{2} q + 40 (q)_{xx} (q)_{x} \\tilde{q}^{2} - 26 (q)_{x} \\tilde{q}^{3} q^{2}$"
      ],
      "text/plain": [
       "-(\\tilde{q})_{xxxxx}*q - 6*(\\tilde{q})_{xxxx}*(q)_{x} - 12*(\\tilde{q})_{xxx}*(q)_{xx} + 8*(\\tilde{q})_{xxx}*\\tilde{q}*q**2 + 18*(\\tilde{q})_{xx}*(\\tilde{q})_{x}*q**2 - 14*(\\tilde{q})_{xx}*(q)_{xxx} + 56*(\\tilde{q})_{xx}*(q)_{x}*\\tilde{q}*q + 45*(\\tilde{q})_{x}**2*(q)_{x}*q - 8*(\\tilde{q})_{x}*(q)_{xxxx} + 60*(\\tilde{q})_{x}*(q)_{xx}*\\tilde{q}*q + 60*(\\tilde{q})_{x}*(q)_{x}**2*\\tilde{q} - 16*(\\tilde{q})_{x}*\\tilde{q}**2*q**3 - 2*(q)_{xxxxx}*\\tilde{q} + 15*(q)_{xxx}*\\tilde{q}**2*q + 40*(q)_{xx}*(q)_{x}*\\tilde{q}**2 - 26*(q)_{x}*\\tilde{q}**3*q**2"
      ]
     },
     "metadata": {},
     "output_type": "display_data"
    },
    {
     "data": {
      "text/latex": [
       "$\\displaystyle - (\\tilde{q})_{xxxxxx} q - 6 (\\tilde{q})_{xxxxx} (q)_{x} - 18 (\\tilde{q})_{xxxx} (q)_{xx} + 10 (\\tilde{q})_{xxxx} \\tilde{q} q^{2} + 28 (\\tilde{q})_{xxx} (\\tilde{q})_{x} q^{2} - 26 (\\tilde{q})_{xxx} (q)_{xxx} + 76 (\\tilde{q})_{xxx} (q)_{x} \\tilde{q} q + 19 (\\tilde{q})_{xx}^{2} q^{2} + 176 (\\tilde{q})_{xx} (\\tilde{q})_{x} (q)_{x} q - 22 (\\tilde{q})_{xx} (q)_{xxxx} + 136 (\\tilde{q})_{xx} (q)_{xx} \\tilde{q} q + 120 (\\tilde{q})_{xx} (q)_{x}^{2} \\tilde{q} - 30 (\\tilde{q})_{xx} \\tilde{q}^{2} q^{3} + 113 (\\tilde{q})_{x}^{2} (q)_{xx} q + 98 (\\tilde{q})_{x}^{2} (q)_{x}^{2} - 50 (\\tilde{q})_{x}^{2} \\tilde{q} q^{3} - 10 (\\tilde{q})_{x} (q)_{xxxxx} + 106 (\\tilde{q})_{x} (q)_{xxx} \\tilde{q} q + 276 (\\tilde{q})_{x} (q)_{xx} (q)_{x} \\tilde{q} - 196 (\\tilde{q})_{x} (q)_{x} \\tilde{q}^{2} q^{2} - 2 (q)_{xxxxxx} \\tilde{q} + 19 (q)_{xxxx} \\tilde{q}^{2} q + 62 (q)_{xxx} (q)_{x} \\tilde{q}^{2} + 44 (q)_{xx}^{2} \\tilde{q}^{2} - 52 (q)_{xx} \\tilde{q}^{3} q^{2} - 94 (q)_{x}^{2} \\tilde{q}^{3} q + 5 \\tilde{q}^{4} q^{4}$"
      ],
      "text/plain": [
       "-(\\tilde{q})_{xxxxxx}*q - 6*(\\tilde{q})_{xxxxx}*(q)_{x} - 18*(\\tilde{q})_{xxxx}*(q)_{xx} + 10*(\\tilde{q})_{xxxx}*\\tilde{q}*q**2 + 28*(\\tilde{q})_{xxx}*(\\tilde{q})_{x}*q**2 - 26*(\\tilde{q})_{xxx}*(q)_{xxx} + 76*(\\tilde{q})_{xxx}*(q)_{x}*\\tilde{q}*q + 19*(\\tilde{q})_{xx}**2*q**2 + 176*(\\tilde{q})_{xx}*(\\tilde{q})_{x}*(q)_{x}*q - 22*(\\tilde{q})_{xx}*(q)_{xxxx} + 136*(\\tilde{q})_{xx}*(q)_{xx}*\\tilde{q}*q + 120*(\\tilde{q})_{xx}*(q)_{x}**2*\\tilde{q} - 30*(\\tilde{q})_{xx}*\\tilde{q}**2*q**3 + 113*(\\tilde{q})_{x}**2*(q)_{xx}*q + 98*(\\tilde{q})_{x}**2*(q)_{x}**2 - 50*(\\tilde{q})_{x}**2*\\tilde{q}*q**3 - 10*(\\tilde{q})_{x}*(q)_{xxxxx} + 106*(\\tilde{q})_{x}*(q)_{xxx}*\\tilde{q}*q + 276*(\\tilde{q})_{x}*(q)_{xx}*(q)_{x}*\\tilde{q} - 196*(\\tilde{q})_{x}*(q)_{x}*\\tilde{q}**2*q**2 - 2*(q)_{xxxxxx}*\\tilde{q} + 19*(q)_{xxxx}*\\tilde{q}**2*q + 62*(q)_{xxx}*(q)_{x}*\\tilde{q}**2 + 44*(q)_{xx}**2*\\tilde{q}**2 - 52*(q)_{xx}*\\tilde{q}**3*q**2 - 94*(q)_{x}**2*\\tilde{q}**3*q + 5*\\tilde{q}**4*q**4"
      ]
     },
     "metadata": {},
     "output_type": "display_data"
    }
   ],
   "source": [
    "for n in range(8):\n",
    "    display(sigs_eq[n])"
   ]
  },
  {
   "cell_type": "code",
   "execution_count": 71,
   "id": "c5265385",
   "metadata": {},
   "outputs": [
    {
     "name": "stdout",
     "output_type": "stream",
     "text": [
      "n = 0\n"
     ]
    },
    {
     "data": {
      "text/latex": [
       "$\\displaystyle 0$"
      ],
      "text/plain": [
       "0"
      ]
     },
     "metadata": {},
     "output_type": "display_data"
    },
    {
     "name": "stdout",
     "output_type": "stream",
     "text": [
      "n = 1\n"
     ]
    },
    {
     "data": {
      "text/latex": [
       "$\\displaystyle 0$"
      ],
      "text/plain": [
       "0"
      ]
     },
     "metadata": {},
     "output_type": "display_data"
    },
    {
     "name": "stdout",
     "output_type": "stream",
     "text": [
      "n = 2\n"
     ]
    },
    {
     "data": {
      "text/latex": [
       "$\\displaystyle 0$"
      ],
      "text/plain": [
       "0"
      ]
     },
     "metadata": {},
     "output_type": "display_data"
    },
    {
     "name": "stdout",
     "output_type": "stream",
     "text": [
      "n = 3\n"
     ]
    },
    {
     "data": {
      "text/latex": [
       "$\\displaystyle 0$"
      ],
      "text/plain": [
       "0"
      ]
     },
     "metadata": {},
     "output_type": "display_data"
    },
    {
     "name": "stdout",
     "output_type": "stream",
     "text": [
      "n = 4\n"
     ]
    },
    {
     "data": {
      "text/latex": [
       "$\\displaystyle 0$"
      ],
      "text/plain": [
       "0"
      ]
     },
     "metadata": {},
     "output_type": "display_data"
    },
    {
     "name": "stdout",
     "output_type": "stream",
     "text": [
      "n = 5\n"
     ]
    },
    {
     "data": {
      "text/latex": [
       "$\\displaystyle 0$"
      ],
      "text/plain": [
       "0"
      ]
     },
     "metadata": {},
     "output_type": "display_data"
    },
    {
     "name": "stdout",
     "output_type": "stream",
     "text": [
      "n = 6\n"
     ]
    },
    {
     "data": {
      "text/latex": [
       "$\\displaystyle 0$"
      ],
      "text/plain": [
       "0"
      ]
     },
     "metadata": {},
     "output_type": "display_data"
    },
    {
     "name": "stdout",
     "output_type": "stream",
     "text": [
      "n = 7\n"
     ]
    },
    {
     "data": {
      "text/latex": [
       "$\\displaystyle 0$"
      ],
      "text/plain": [
       "0"
      ]
     },
     "metadata": {},
     "output_type": "display_data"
    },
    {
     "name": "stdout",
     "output_type": "stream",
     "text": [
      "n = 8\n"
     ]
    },
    {
     "data": {
      "text/latex": [
       "$\\displaystyle 0$"
      ],
      "text/plain": [
       "0"
      ]
     },
     "metadata": {},
     "output_type": "display_data"
    },
    {
     "name": "stdout",
     "output_type": "stream",
     "text": [
      "n = 9\n"
     ]
    },
    {
     "data": {
      "text/latex": [
       "$\\displaystyle 0$"
      ],
      "text/plain": [
       "0"
      ]
     },
     "metadata": {},
     "output_type": "display_data"
    },
    {
     "name": "stdout",
     "output_type": "stream",
     "text": [
      "Check 0 done\n",
      "n = 0\n"
     ]
    },
    {
     "data": {
      "text/latex": [
       "$\\displaystyle 0$"
      ],
      "text/plain": [
       "0"
      ]
     },
     "metadata": {},
     "output_type": "display_data"
    },
    {
     "name": "stdout",
     "output_type": "stream",
     "text": [
      "n = 1\n"
     ]
    },
    {
     "data": {
      "text/latex": [
       "$\\displaystyle 0$"
      ],
      "text/plain": [
       "0"
      ]
     },
     "metadata": {},
     "output_type": "display_data"
    },
    {
     "name": "stdout",
     "output_type": "stream",
     "text": [
      "n = 2\n"
     ]
    },
    {
     "data": {
      "text/latex": [
       "$\\displaystyle 0$"
      ],
      "text/plain": [
       "0"
      ]
     },
     "metadata": {},
     "output_type": "display_data"
    },
    {
     "name": "stdout",
     "output_type": "stream",
     "text": [
      "n = 3\n"
     ]
    },
    {
     "data": {
      "text/latex": [
       "$\\displaystyle 0$"
      ],
      "text/plain": [
       "0"
      ]
     },
     "metadata": {},
     "output_type": "display_data"
    },
    {
     "name": "stdout",
     "output_type": "stream",
     "text": [
      "n = 4\n"
     ]
    },
    {
     "data": {
      "text/latex": [
       "$\\displaystyle 0$"
      ],
      "text/plain": [
       "0"
      ]
     },
     "metadata": {},
     "output_type": "display_data"
    },
    {
     "name": "stdout",
     "output_type": "stream",
     "text": [
      "n = 5\n"
     ]
    },
    {
     "data": {
      "text/latex": [
       "$\\displaystyle 0$"
      ],
      "text/plain": [
       "0"
      ]
     },
     "metadata": {},
     "output_type": "display_data"
    },
    {
     "name": "stdout",
     "output_type": "stream",
     "text": [
      "n = 6\n"
     ]
    },
    {
     "data": {
      "text/latex": [
       "$\\displaystyle 0$"
      ],
      "text/plain": [
       "0"
      ]
     },
     "metadata": {},
     "output_type": "display_data"
    },
    {
     "name": "stdout",
     "output_type": "stream",
     "text": [
      "n = 7\n"
     ]
    },
    {
     "data": {
      "text/latex": [
       "$\\displaystyle 0$"
      ],
      "text/plain": [
       "0"
      ]
     },
     "metadata": {},
     "output_type": "display_data"
    },
    {
     "name": "stdout",
     "output_type": "stream",
     "text": [
      "n = 8\n"
     ]
    },
    {
     "data": {
      "text/latex": [
       "$\\displaystyle 0$"
      ],
      "text/plain": [
       "0"
      ]
     },
     "metadata": {},
     "output_type": "display_data"
    },
    {
     "name": "stdout",
     "output_type": "stream",
     "text": [
      "n = 9\n"
     ]
    },
    {
     "data": {
      "text/latex": [
       "$\\displaystyle 0$"
      ],
      "text/plain": [
       "0"
      ]
     },
     "metadata": {},
     "output_type": "display_data"
    },
    {
     "name": "stdout",
     "output_type": "stream",
     "text": [
      "Check 1 done\n"
     ]
    }
   ],
   "source": [
    "for n in range(0, 10):\n",
    "    m = n // 2\n",
    "    X = 0\n",
    "    \n",
    "    if n % 2 == 0:\n",
    "        for j in range(m):\n",
    "            X += - 4**j * binomial(m - Rational(1,2), j) * (-q)**j * q_conj**j * higher_deriv(q, 2*m-1-2*j)\n",
    "    if n % 2 == 1:\n",
    "        for j in range(m-1): \n",
    "            X += 2 * 4**j * binomial(m - Rational(1,2), j) * (-q)**(j+2) * q_conj**j * higher_deriv(q_conj, 2*m-2-2*j)\n",
    "        for j in range(m):\n",
    "            X += - Rational(1,2) * 4**j * (binomial(m - Rational(1,2), j) + binomial(m + Rational(1,2), j)) * (-q)**j * q_conj**j * higher_deriv(q, 2*m-2*j)\n",
    "\n",
    "    X = simplify(X)\n",
    "    \n",
    "    Y = simplify(extract_deriv(variation(sigs_eq[n], q_conj), 1))\n",
    "    \n",
    "    display(Eq(X, Y, evaluate=True))\n",
    "\n",
    "for n in range(0, 10):\n",
    "    m = n // 2\n",
    "    X = 0\n",
    "    \n",
    "    if n % 2 == 0:\n",
    "        for k in range(m+1):\n",
    "            X += 4**(m-k) * binomial(m - 1, m - k) * sigs_eq[2*k]\n",
    "    if n % 2 == 1:\n",
    "        for k in range(m+1):\n",
    "            X += 4**(m-k) * binomial(m - Rational(1,2), m - k) * sigs_eq[2*k+1]\n",
    "        X += catalan(m)\n",
    "        \n",
    "    Y = sigq_eq[n]\n",
    "\n",
    "    print(\"n =\", n)\n",
    "    display(simplify(X - Y))\n",
    "\n",
    "print(\"Check 0 done\")\n",
    "\n",
    "for n in range(0, 10):\n",
    "    m = n // 2\n",
    "    X = 0\n",
    "    \n",
    "    if n % 2 == 0:\n",
    "        for k in range(m+1):\n",
    "            X += 4**(m-k) * binomial(m - 1, m - k) * sigs_eq[2*k]\n",
    "    if n % 2 == 1:\n",
    "        for k in range(m+1):\n",
    "            X += 4**(m-k) * binomial(m - Rational(1,2), m - k) * sigs_eq[2*k+1]\n",
    "        X += catalan(m)\n",
    "        \n",
    "    Y = sigq_eq[n]\n",
    "\n",
    "    print(\"n =\", n)\n",
    "    display(simplify(X - Y))\n",
    "\n",
    "print(\"Check 1 done\")\n",
    "\n"
   ]
  },
  {
   "cell_type": "code",
   "execution_count": null,
   "id": "0a675a04",
   "metadata": {},
   "outputs": [],
   "source": [
    "for n in range(-1, 11):\n",
    "    display(variation(I**n * sigs_eq[n+1], q_conj))"
   ]
  },
  {
   "cell_type": "code",
   "execution_count": null,
   "id": "15c3dc6e",
   "metadata": {},
   "outputs": [],
   "source": [
    "\n",
    "for n in range(0, 8):\n",
    "    m = n // 2\n",
    "    X = 0\n",
    "    if n % 2 == 1:\n",
    "        X += binomial(2*m, m) * q_conj**m * (- q)**(m+1)\n",
    "    \n",
    "    Y = extract_deriv(variation(sigs_eq[n], q_conj), 0)\n",
    "    display(Eq(X, Y))\n",
    "    \n",
    "print(\"Check 1 done\")\n",
    "\n",
    "for n in range(0, 8):\n",
    "    m = n // 2\n",
    "    X = 0\n",
    "    \n",
    "    if n % 2 == 0:\n",
    "        for j in range((n-1)//2):\n",
    "            for k in range(j): \n",
    "                X += catalan(k) * 4**(j-k) * (m-1-j) * binomial(m-1-k-Rational(1,2), j-1-k) * (-q)**j * q_conj**j * higher_deriv(q, 2*m-1-2*j)\n",
    "        \n",
    "    if n % 2 == 1:\n",
    "        for j in range((n-1)//2):\n",
    "            C = 4**j * (2*j+1) * binomial(m-Rational(1,2), j) - 4**j * Rational(1,2) * binomial(m-Rational(1,2), j-1)\n",
    "            for k in range(j+1):\n",
    "                C += catalan(k) * 4**(j-k) * (j+1) * binomial(m-1-k, j-k)\n",
    "            X += C * (-q)**j * q_conj**j * higher_deriv(q, n-1-2*j)\n",
    "\n",
    "        \n",
    "        for j in range((n-1)//2-1):\n",
    "            X += - (8*m-8*j-6) * 4**j * binomial(m-Rational(1,2), j) * (-q)**(j+2) * q_conj**j * higher_deriv(q_conj, n-3-2*j)\n",
    "            \n",
    "            \n",
    "    X = simplify(X)\n",
    "    \n",
    "    Y = simplify(extract_deriv(variation(extract_deriv_alt(sigs_eq[n], 2), q_conj), 1))\n",
    "    \n",
    "    display(Eq(X - Y))\n",
    "    \n",
    "print(\"Check 2 done\")\n",
    "\n",
    "for n in range(0, 10):\n",
    "    m = n // 2\n",
    "    X = 0\n",
    "    \n",
    "    if n % 2 == 0:\n",
    "        for j in range(m):\n",
    "            X += - 4**j * binomial(m - Rational(1,2), j) * (-q)**j * q_conj**j * higher_deriv(q, 2*m-1-2*j)\n",
    "    if n % 2 == 1:\n",
    "        for j in range(m-1): \n",
    "            X += 2 * 4**j * binomial(m - Rational(1,2), j) * (-q)**(j+2) * q_conj**j * higher_deriv(q_conj, 2*m-2-2*j)\n",
    "        for j in range(m):\n",
    "            X += - Rational(1,2) * 4**j * (binomial(m - Rational(1,2), j) + binomial(m + Rational(1,2), j)) * (-q)**j * q_conj**j * higher_deriv(q, 2*m-2*j)\n",
    "\n",
    "    X = simplify(X)\n",
    "    \n",
    "    Y = simplify(extract_deriv(variation(sigs_eq[n], q_conj), 1))\n",
    "    \n",
    "    display(Eq(X, Y, evaluate=True))\n",
    "    \n",
    "print(\"Check 3 done\")\n",
    "\n",
    "    \n",
    "for n in range(10):\n",
    "    X = extract_deriv_alt(deriv(extract_deriv_alt(sigs_eq[n], 2)), 2)\n",
    "    #print(\"A\", simplify(X))\n",
    "    X += extract_deriv_alt(deriv(extract_deriv(sigs_eq[n], 1)), 2)\n",
    "    #print(\"B\", simplify(X))\n",
    "    for k in range(1, n):\n",
    "        X += 2 * extract_deriv_alt(sigs_eq[k], 2) * extract_deriv(sigs_eq[n-k], 0)\n",
    "        #print(\"C\", k, simplify(X))\n",
    "        X += extract_deriv_alt(extract_deriv(sigs_eq[k], 1) * extract_deriv(sigs_eq[n-k], 1), 2)\n",
    "        #print(\"D\", k, simplify(X))\n",
    "    X += - deriv(q) * extract_deriv_alt(Rq_eq[n], 1)\n",
    "    \n",
    "    Y = deriv(extract_deriv_alt(sigs_eq[n], 2))\n",
    "    Y += deriv(extract_deriv(sigs_eq[n], 1))\n",
    "\n",
    "    for k in range(1, n):\n",
    "        Y += 2 * extract_deriv_alt(sigs_eq[k], 2) * extract_deriv(sigs_eq[n-k], 0)\n",
    "        #display(\"C\", k, X)\n",
    "        Y += extract_deriv(sigs_eq[k], 1) * extract_deriv(sigs_eq[n-k], 1)\n",
    "        \n",
    "    Y += - deriv(q) * extract_deriv_alt(Rq_eq[n], 1)\n",
    "    \n",
    "    #display(Eq(sigs_sym[n+1], sigs_eq[n+1]))\n",
    "    #display(Eq(sigs_sym[n+1], simplify(X)))\n",
    "    #display(Eq(sigs_sym[n+1], extract_deriv_alt(simplify(Y), 2)))\n",
    "    #display(Eq(sigs_sym[n+1], extract_deriv_alt(sigs_eq[n+1], 2)))\n"
   ]
  },
  {
   "cell_type": "code",
   "execution_count": null,
   "id": "d94058fd",
   "metadata": {},
   "outputs": [],
   "source": [
    "\n",
    "\n",
    "num = 20\n",
    "\n",
    "for n in range(num):\n",
    "    L = [0 for j in range(n//2)]\n",
    "    for j in range(n//2):\n",
    "        for k in range(j):\n",
    "            for t in range(1, n-2*j):\n",
    "                L[j] += (-1)**t * D[t+1+2*k][k] * E[n-1-2*k-t][j-1-k]\n",
    "    print(L)\n",
    "    LL = [0 for j in range(n//2)]\n",
    "    for j in range(n//2):\n",
    "        for k in range(j):\n",
    "            for t in range(1, n-2*j):\n",
    "                LL[j] += - 4**(j-1) * (-1)**t * binomial(Rational(t+1,2)+k-1,k) * binomial(Rational(n-t-1,2)-k-1,j-1-k)\n",
    "        for k in range(j):\n",
    "            for t in range(1, n-2*j):\n",
    "                for l in range(j-k):\n",
    "                    LL[j] += - 4**(j-1-l) * (-1)**t * binomial(Rational(t+1,2)+k-1,k) * (-1)**l * catalan(l) * binomial(Rational(n-t-1,2)-k-1,j-1-k-l)\n",
    "    print(LL)\n",
    "    LLL = [0 for j in range(n//2)]\n",
    "    for j in range(n//2):\n",
    "        for k in range(j):\n",
    "            for t in range(1, n-2*j):\n",
    "                LLL[j] += - 4**(j-1) * (-1)**t * (-1)**k * binomial(-Rational(t+1,2),k) * (-1)**(j-1-k) * binomial(-Rational(n-t-1,2)+j-1,j-1-k)\n",
    "        for k in range(j):\n",
    "            for t in range(1, n-2*j):\n",
    "                for l in range(j-k):\n",
    "                    LLL[j] += - 4**(j-1-l) * (-1)**t * (-1)**k * binomial(-Rational(t+1,2),k) * catalan(l) * (-1)**(j-1-k) * binomial(-Rational(n-t-1,2)+j-1-l,j-1-k-l)\n",
    "    print(LLL)\n",
    "    print([4**(j-1)*binomial(Rational(n,2)-1,j-1) + 4**(j-1) * sum([catalan(l)/(-4)**l * binomial(Rational(n,2)-1,j-1-l) for l in range(j)]) if n%2==0 else 0 for j in range(n//2)])\n",
    "\n",
    "print(\"-----\")\n",
    "\n",
    "for m in range(-num, num):\n",
    "    L = [0 for j in range(-num, num)]\n",
    "    for j in range(0, num):\n",
    "        X = 0\n",
    "        for k in range(j):\n",
    "            X += 2 * catalan(k) * ((8*(m-j)-6) * Rational(1,4**(k+1)) * binomial(m-k-Rational(3,2), j-1-k))\n",
    "        X += 2 * (-1)**j * binomial(j-m, j)\n",
    "        X += 8 * (j + 1) * binomial(m-1, j+1)\n",
    "        \n",
    "        X += - (8*(m-j)-6) * binomial(m-Rational(1,2), j)\n",
    "        \n",
    "        L[n] = X\n",
    "        \n",
    "    print(L)\n",
    "         \n",
    "print(\"-----\")\n",
    "\n",
    "num = 30\n",
    "for m in range(num):\n",
    "    L = [0 for j in range(num)]\n",
    "    for j in range(num):\n",
    "        X = 0\n",
    "        for k in range(j):\n",
    "            X += 2 * (8 * (m-j) - 6) * Rational(1,4**(k+1)) * binomial(m-k-Rational(3,2), j-k-1) * catalan(k)\n",
    "        X += (2 * (-1)**j * binomial(j - m, j)) if j <= m - 2 else 0\n",
    "        X += 2 * (j+1) * 4**(j+1) * binomial(m-1, j+1)\n",
    "        L[j] = X\n",
    "    print(\"m =\", m)\n",
    "    print([L[j] - (8 * (m-j) - 6) * binomial(m-Rational(1,2), j) for j in range(num)])\n",
    "    \n",
    "print(\"-----\")\n"
   ]
  },
  {
   "cell_type": "code",
   "execution_count": null,
   "id": "743f2b32",
   "metadata": {},
   "outputs": [],
   "source": [
    "for n in range(1, 14, 2):\n",
    "    print([binomial(Rational(n,2)-1, j-1) for j in range(10)])\n",
    "print(\"---\")\n",
    "for n in range(1, 20, 2):\n",
    "    print([4**j * (binomial(Rational(n,2)-1, j) - Rational(1,2) * binomial(Rational(n,2), j-1)) for j in range((n-1)//2)])"
   ]
  },
  {
   "cell_type": "code",
   "execution_count": null,
   "id": "866ca773",
   "metadata": {},
   "outputs": [],
   "source": [
    "def get_expansion(eqn, x0, var, num):\n",
    "    ser = series(eqn, x0=0, x=var, n=num).removeO()\n",
    "    return [simplify(ser.coeff(var**n) if n > 0 else ser.subs(var, 0)) for n in range(0, num)]\n",
    "\n",
    "def coeff(n, j):\n",
    "    return sum([4*(j//2-1) * catalan(k) * 4**(n-k) * binomial(Rational(j,2)-1+n-k, n-k) for k in range(n+1)])\n",
    "\n",
    "def F_even_coeff(n, j):\n",
    "    return sum([4*(n//2-j-1) * catalan(k) * 4**(j-1-k) * binomial(Rational(n-1,2)-1-k, j-1-k) for k in range(j)])\n",
    "\n",
    "def F_odd_coeff(n, j):\n",
    "    Y = 0\n",
    "    Y += - 4**j * Rational(1,2) * binomial(Rational(n,2)-1, j-1)\n",
    "    Y += 4**j * (2*j+1) * binomial(Rational(n,2)-1, j)\n",
    "    Y += sum([(j+1) * catalan(k) * 4**(j-k) * binomial(Rational(n-1,2)-1-k, j-k) for k in range(j+1)])\n",
    "    return Y \n",
    "\n",
    "def G_even_coeff(n, j):\n",
    "    return 0\n",
    "    #return 2 * 4**j * (-1)**(n//2-j) * binomial((n-1)//2, j) * (((n//2-j)%2) * (4*(n//2-j)-5) - 2*(n//2-j-1) + 2*binomial(n-2*j-3,n//2-j-1))\n",
    "\n",
    "def G_odd_coeff(n, j):\n",
    "    return - 2 * (4*((n-1)//2-j)-3) * 4**j * binomial(Rational(n,2)-1, j)\n",
    "\n",
    "def Gt_coeff(n, j):\n",
    "    if n%2 == 0:\n",
    "        return 0\n",
    "    else:\n",
    "        return - 2 * (4*((n-1)//2-j)-3) * 4**j * binomial(Rational(n,2)-1, j)\n",
    "\n",
    "print(\"---\")\n",
    "N = 60\n",
    "print(\"===\")\n",
    "for n in range(3, N-1, 2):\n",
    "    print([Ft[n][j] - F_odd_coeff(n, j) for j in range(0, (n-1)//2)])\n",
    "for n in range(4, N+1, 2):\n",
    "    print([Ft[n][j] - F_even_coeff(n, j) for j in range(0, (n-1)//2)])\n",
    "print(\"###\")\n",
    "for n in range(3, N-1, 2):\n",
    "    print([F_odd_coeff(n, j) for j in range(0, (n-1)//2)])\n",
    "for n in range(4, N+1, 2):\n",
    "    print([F_even_coeff(n, j) for j in range(0, (n-1)//2)])\n",
    "    \n",
    "print(\"---\")\n",
    "\n",
    "for m in range(1, N//2):\n",
    "    L = [0 for j in range(m)]\n",
    "    T = [0 for j in range(m)]\n",
    "\n",
    "    for j in range(0, m):\n",
    "        X = 0\n",
    "        \n",
    "        for k in range(j):\n",
    "            X += 2 * catalan(k) * Rational(1,4**j) * Ft[2*m-2*k-1][j-1-k]\n",
    "        \n",
    "        X += Rational(1,2) * binomial(m-1, j-1)\n",
    "        X += (2*j+1) * binomial(m-1, j)\n",
    "        X += sum([(-1)**k * catalan(k) * Rational(1,4**k) * Rational(1,2) * binomial(m-1, j-1-k) for k in range(j)])\n",
    "        X += sum([(-1)**k * catalan(k) * Rational(1,4**k) * (j+1) * binomial(m-1, j-k) for k in range(j+1)])\n",
    "\n",
    "        Y = Rational(1,4**j) * Ft[2*m+1][j]\n",
    "        L[j] = X - Y\n",
    "        \n",
    "    print(L)\n",
    "\n",
    "print(\"---\")\n",
    "\n",
    "for m in range(1, N//2):\n",
    "    L = [0 for j in range(m)]\n",
    "    for j in range(0, m):\n",
    "        X = 0\n",
    "        for k in range(j):\n",
    "            X += 2 * catalan(k) * Rational(1,4**j) * Ft[2*m-2*k][j-1-k]\n",
    "        \n",
    "        X += - binomial(m-Rational(1,2), j)\n",
    "        X += (j+1) * sum([(-1)**l * catalan(l) * Rational(1,4**l) * binomial(m-Rational(1,2), j-l) for l in range(j+1)])\n",
    "        \n",
    "        Y = Rational(1,4**j) * Ft[2*m+2][j]\n",
    "        #Y = Rational(1,4**j) * sum([(m-j) * catalan(k) * 4**(j-k) * binomial(m-k-Rational(1,2), j-1-k) for k in range(j)])\n",
    "        L[j] = X - Y\n",
    "    print(L)\n",
    "        \n",
    "print(\"---\")\n",
    "\n",
    "for n in range(3, N):\n",
    "    L = [0 for j in range(n//2)]\n",
    "    for j in range(0, n//2):\n",
    "        X = 0\n",
    "        for k in range(j):\n",
    "            X += 2 * catalan(k) * Ft[n-2*k-1][j-1-k]\n",
    "        \n",
    "        X += ((n+1)%2) * 2 * 4**(j-1) * binomial(Rational(n,2)-1, j-1)\n",
    "        X += ((n+1)%2) * 2 * 4**(j-1) * sum([catalan(l) / (-4)**l * binomial(Rational(n,2)-1, j-1-l) for l in range(j)])\n",
    "        \n",
    "        X += (j + (-1)**n * (j+1)) * 4**j * binomial(Rational(n,2)-1, j)\n",
    "        X += (j+1) * sum([(-1)**l * catalan(l) * 4**(j-l) * binomial(Rational(n,2)-1, j-l) for l in range(j+1)])\n",
    "        \n",
    "        Y = Ft[n+1][j]\n",
    "        L[j] = X - Y\n",
    "    print(L)\n",
    "        \n",
    "print(\"---\")\n",
    "\n",
    "for n in range(5, N+1, 2):\n",
    "    print([Gt[n][j] for j in range(0, (n-1)//2-1)])\n",
    "for n in range(5, N+1, 2):\n",
    "    print([G_odd_coeff(n, j) for j in range((n-1)//2-1)])\n",
    "for n in range(6, N+1, 2):\n",
    "    print([Gt[n][j] for j in range(0, (n-1)//2-1)])\n",
    "for n in range(6, N+1, 2):\n",
    "    print([G_even_coeff(n, j) for j in range((n-1)//2-1)])\n",
    "    \n",
    "print(\"---\")\n",
    "\n",
    "for n in range(5, N):\n",
    "    for j in range(0, n//2-1):\n",
    "        X = 0\n",
    "        for k in range(j):\n",
    "            X += 2 * ((n+1)%2) * catalan(k) * Gt[n-2*k-1][j-1-k]\n",
    "        X += - 2 * ((n+1)%2) * (-4)**j * binomial(j-Rational(n,2), j)\n",
    "        X += - 2 * ((n+1)%2) * (j + 1) * 4**(j+1) * binomial(Rational(n,2)-1, j+1)\n",
    "        \n",
    "        Y = Gt[n+1][j]\n",
    "        print(X - Gt_coeff(n+1, j))\n",
    "        #print(X - Y)\n",
    "         \n",
    "print(\"---\")\n",
    "\n",
    "for n in range(5, N):\n",
    "    for j in range(0, n//2-1):\n",
    "        X = 0\n",
    "        for k in range(j):\n",
    "            X += 4 * catalan(k) * Gt[n-2*k-1][j-1-k]\n",
    "        for t in range(1, n//2-j):\n",
    "            for i in range(j+1):\n",
    "                X += 2 * (-1)**t * D[t+1+2*i][i] * D[n-1-2*i-t][j-i]\n",
    "                if t != Rational(n,2) - 1 - j:\n",
    "                    X += 2 * (-1)**t * D[t+1+2*i][i] * D[n-1-2*i-t][j-i]\n",
    "        X += - 2 * (j + 1) * D[n][j+1]\n",
    "        if n%2 == 1:\n",
    "            X = 0\n",
    "            \n",
    "        Y = Gt[n+1][j]\n",
    "        #print(X, Y)\n",
    "\n",
    "x = Symbol('x')\n",
    "\n",
    "for j in range(1, 15, 2):\n",
    "    print(get_expansion((1 / (1 - 4*x)**Rational(j,2) - 1) / (2*x), 0, x, 8))\n",
    "\n",
    "for j in range(5, 14, 2):\n",
    "    print(get_expansion(4*(j//2-1) * ((1 - sqrt(1 - 4*x))/(2*x)) / (1 - 4*x)**Rational(j,2), 0, x, 12))\n",
    "print(\"---\")\n",
    "\n",
    "\n",
    "            "
   ]
  },
  {
   "cell_type": "code",
   "execution_count": null,
   "id": "a16d1c94",
   "metadata": {},
   "outputs": [],
   "source": [
    "def generate_sequence(limit_n, limit_r, p):\n",
    "    # Initialize the array with zeros\n",
    "    a = [[0 for _ in range(limit_r + 1)] for _ in range(limit_n + 1)]\n",
    "\n",
    "    # Base case\n",
    "    for n in range(limit_n + 1):\n",
    "        a[n][0] = 1\n",
    "    # Populate the array using the formula\n",
    "    for n in range(1, limit_n + 1):\n",
    "        for r in range(1, limit_r + 1):\n",
    "            if r > (p - 1) * n:\n",
    "                a[n][r] = 0\n",
    "            else:\n",
    "                a[n][r] = a[n][r - 1] + a[n - 1][r]\n",
    "\n",
    "    # Flatten the array to get the sequence\n",
    "    sequence = [[a[n][r] for r in range(limit_r + 1)] for n in range(limit_n + 1)]\n",
    "    return sequence\n",
    "\n",
    "def curly(n, r, m):\n",
    "    return binomial(n+r, r) - sum([binomial(m*k,k)*binomial(n+r-m*k-1,n-k)/((m-1)*k+1) for k in range(ceiling(Rational(r,m-1)))])\n",
    "\n",
    "def curly2(n, r, m):\n",
    "    if 0 <= r and r < m:\n",
    "        return binomial(n-1 + r, r)\n",
    "    if m <= r and r <= n-1 + m - 1:\n",
    "        return binomial(n-1 + r, r) - binomial(n-1 + r, r - m)\n",
    "    if r > n-1 + m - 1:\n",
    "        return 0\n",
    "\n",
    "def curly3(n, r):\n",
    "    return binomial(n - 1 + r, r) - 1\n",
    "\n",
    "for n in range(5, N):\n",
    "    j = 0\n",
    "    #print([G_coeffs[n][j][t] for t in range(1, n//2-j-1)])\n",
    "\n",
    "t = 1\n",
    "for n in range(2*t, N+1):\n",
    "    print([G_coeffs[n][j][t] for j in range(0, (n-1)//2-t)])\n",
    "t = 2\n",
    "for n in range(2*t, N+1):\n",
    "    print([G_coeffs[n][j][t] for j in range(0, (n-1)//2-t)])\n",
    "t = 3\n",
    "for n in range(2*t, N+1):\n",
    "    print([G_coeffs[n][j][t] for j in range(0, (n-1)//2-t)])\n",
    "t = 4\n",
    "for n in range(2*t, N+1):\n",
    "    print([G_coeffs[n][j][t] / 2 for j in range(0, (n-1)//2-t)])\n",
    "t = 5\n",
    "for n in range(2*t, N+1):\n",
    "    print([G_coeffs[n][j][t] / 2 for j in range(0, (n-1)//2-t)])\n",
    "\n",
    "# Compare the sequences\n",
    "for n in range(5, N):\n",
    "    j = 0\n",
    "    print([G_coeffs[n][j][t] for t in range(1, n//2-j-1)])\n",
    "    print([2*curly3(n-(t+1), t+1) for t in range(1, n//2-j-1)])\n",
    "    \n",
    "for n in range(0, 16):\n",
    "    print([curly3(n, r, 2) for r in range(0, 12)])\n",
    "for n in range(0, 16):\n",
    "    print([curly3(n, r, 3) for r in range(0, 12)])\n",
    "for n in range(0, 16):\n",
    "    print([curly3(n, r, 4) for r in range(0, 12)])\n",
    "\n",
    "    "
   ]
  },
  {
   "cell_type": "code",
   "execution_count": null,
   "id": "33983f26",
   "metadata": {},
   "outputs": [],
   "source": [
    "def get_expansion(eqn, x0, var, num):\n",
    "    ser = series(eqn, x0=0, x=var, n=num).removeO()\n",
    "    return [simplify(ser.coeff(var**n) if n > 0 else ser.subs(var, 0)) for n in range(0, num)]\n",
    "\n",
    "def coeff(n, k):\n",
    "    return sum([(-2)**(n+2) * binomial(n+k+4, j) * Rational(1,(-2)**j) for j in range(0, n+2)])\n",
    "\n",
    "for n in range(14):\n",
    "    print([coeff(n, m) for m in range(14)])\n",
    "    \n",
    "print(\"---\")\n",
    "\n",
    "x = Symbol('x')\n",
    "for k in range(0, 12):\n",
    "    print(get_expansion(2 / (1 + x) * 1 / (1 - x)**k, 0, x, 14))\n",
    "print(\"---\")\n",
    "for k in range(0, 12):\n",
    "    print(get_expansion(2 * 1 / ((1 + x)**4 * (1 - x)**k), 0, x, 14))\n",
    "print(\"---\")"
   ]
  },
  {
   "cell_type": "code",
   "execution_count": 33,
   "id": "147adba9",
   "metadata": {},
   "outputs": [
    {
     "name": "stdout",
     "output_type": "stream",
     "text": [
      "n = 5 j = 0 t = 1\n",
      "n = 6 j = 0 t = 1\n",
      "n = 7 j = 0 t = 2\n",
      "n = 7 j = 1 t = 1\n",
      "n = 7 j = 0 t = 1\n",
      "n = 8 j = 0 t = 1\n",
      "n = 8 j = 0 t = 2\n",
      "n = 8 j = 1 t = 1\n",
      "----\n",
      "----\n",
      "----\n",
      "----\n",
      "----\n",
      "[-30, -53, -82]\n",
      "[-23, -29]\n",
      "[-6]\n",
      "[-68, -137]\n",
      "[-69]\n",
      "[]\n",
      "[]\n",
      "[-120]\n",
      "[]\n",
      "[]\n",
      "[]\n",
      "[]\n",
      "[0, 0, -6, 0, 0, 0, 0, 0, 0]\n",
      "[0, -6, 6, 0, 0, 0, 0, 0]\n",
      "[0, -23, 0, 0, 0, 0, 0, 0]\n",
      "[-23, 23, 0, 0, 0, 0, 0]\n",
      "[46, -23, 0, 0, 0, 0]\n",
      "[-30, -69, 0, 0, 0, 0, 0]\n",
      "[-39, 69, 0, 0, 0, 0]\n",
      "[108, -69, 0, 0, 0]\n",
      "[-177, 69, 0, 0]\n",
      "[-68, 0, 0, 0, 0, 0]\n",
      "[68, 0, 0, 0, 0]\n",
      "[-68, 0, 0, 0]\n",
      "[68, 0, 0]\n",
      "[-68, 0]\n",
      "[-120, 0, 0, 0, 0]\n",
      "[120, 0, 0, 0]\n",
      "[-120, 0, 0]\n",
      "[120, 0]\n",
      "[-120]\n",
      "[]\n",
      "[0, 0, 0, 0]\n",
      "[0, 0, 0]\n",
      "[0, 0]\n",
      "[0]\n",
      "[]\n",
      "[]\n",
      "[]\n",
      "[0, 0, 0]\n",
      "[0, 0]\n",
      "[0]\n",
      "[]\n",
      "[]\n",
      "[]\n",
      "[]\n",
      "[]\n",
      "[0, 0]\n",
      "[0]\n",
      "[]\n",
      "[]\n",
      "[]\n",
      "[]\n",
      "[]\n",
      "[]\n",
      "[]\n",
      "[0]\n",
      "[]\n",
      "[]\n",
      "[]\n",
      "[]\n",
      "[]\n",
      "[]\n",
      "[]\n",
      "[]\n",
      "[]\n",
      "[]\n",
      "[]\n",
      "[]\n",
      "[]\n",
      "[]\n",
      "[]\n",
      "[]\n",
      "[]\n",
      "[]\n",
      "[]\n",
      "[]\n"
     ]
    }
   ],
   "source": [
    "N = 8\n",
    "\n",
    "F_coeffs = [[[0 for t in range(0,n-1-2*j)] for j in range(0, (n-1)//2)] for n in range(N+1)]\n",
    "G_coeffs = [[[0 for t in range(0,(n-1)//2-j)] for j in range(0, (n-1)//2 - 1)] for n in range(N+1)]\n",
    "\n",
    "for n in range(N+1):\n",
    "    #display(extract_deriv_alt(sigs_eq[n], 2))\n",
    "    #print(F_coeffs[n])\n",
    "    #print(G_coeffs[n])\n",
    "    pass\n",
    "\n",
    "for n in range(0, N+1):\n",
    "    \n",
    "    expr = extract_deriv_alt(sigs_eq[n], 2)\n",
    "    #display(expr)\n",
    "    \n",
    "    if isinstance(expr, Add):\n",
    "        for mon in expr.args:\n",
    "            coefficient = 0\n",
    "            #print(\"mon =\", mon)\n",
    "            count_q_conj = 0\n",
    "            t = 0\n",
    "            j = 0\n",
    "            for fac in mon.args:\n",
    "                if isinstance(fac, Pow):\n",
    "                    var_name = get_var_name_from_deriv(fac.base)\n",
    "                    order = get_order_from_deriv(fac.base)\n",
    "                    if var_name == q_conj.name:\n",
    "                        if order == 0:\n",
    "                            j = fac.exp\n",
    "                        if order > 0:\n",
    "                            count_q_conj += fac.exp\n",
    "                            t = order\n",
    "                            \n",
    "                elif isinstance(fac, Symbol):\n",
    "                    var_name = get_var_name_from_deriv(fac)\n",
    "                    order = get_order_from_deriv(fac)\n",
    "                    if var_name == q_conj.name: \n",
    "                        if order == 0:\n",
    "                            j = 1\n",
    "                        if order > 0:\n",
    "                            count_q_conj += 1\n",
    "                            t = order\n",
    "                            \n",
    "                elif isinstance(fac, Number):\n",
    "                    coefficient = fac\n",
    "                    \n",
    "            #print(\"type =\", count_q_conj, \"j =\", j, \"t =\", t, \"coeff =\", coefficient)\n",
    "            \n",
    "            if count_q_conj == 1:\n",
    "                F_coeffs[n][j][t] += (-1)**j * coefficient\n",
    "            if count_q_conj == 2:\n",
    "                if t >= (n-1)//2-j:\n",
    "                    t = n - 3 - 2 * j - t\n",
    "                print(\"n =\", n, \"j =\", j, \"t =\", t)\n",
    "                G_coeffs[n][j][t] += (-1)**j * coefficient\n",
    "\n",
    "    if isinstance(expr, Mul):\n",
    "        mon = expr\n",
    "        coefficient = 0\n",
    "        #print(\"mon =\", mon)\n",
    "        count_q_conj = 0\n",
    "        t = 0\n",
    "        j = 0\n",
    "        for fac in mon.args:\n",
    "            if isinstance(fac, Pow):\n",
    "                var_name = get_var_name_from_deriv(fac.base)\n",
    "                order = get_order_from_deriv(fac.base)\n",
    "                if var_name == q_conj.name:\n",
    "                    if order == 0:\n",
    "                        j = fac.exp\n",
    "                    if order > 0:\n",
    "                        count_q_conj += fac.exp\n",
    "                        t = order\n",
    "\n",
    "            elif isinstance(fac, Symbol):\n",
    "                var_name = get_var_name_from_deriv(fac)\n",
    "                order = get_order_from_deriv(fac)\n",
    "                if var_name == q_conj.name: \n",
    "                    if order == 0:\n",
    "                        j = 1\n",
    "                    if order > 0:\n",
    "                        count_q_conj += 1\n",
    "                        t = order\n",
    "\n",
    "            elif isinstance(fac, Number):\n",
    "                coefficient = fac\n",
    "\n",
    "        #print(\"type =\", count_q_conj, \"j =\", j, \"t =\", t, \"coeff =\", coefficient)\n",
    "\n",
    "        if count_q_conj == 1:\n",
    "            F_coeffs[n][j][t] += (-1)**j * coefficient\n",
    "        if count_q_conj == 2:\n",
    "            if t >= (n-1)//2-j:\n",
    "                t = n - 3 - 2 * j - t\n",
    "            print(\"n =\", n, \"j =\", j, \"t =\", t)\n",
    "            G_coeffs[n][j][t] += (-1)**j * coefficient\n",
    "            \n",
    "    #display(F_coeffs[n])\n",
    "    #display(G_coeffs[n])\n",
    "    \n",
    "print(\"----\")\n",
    "first = 0\n",
    "for n in range(0, N+1):\n",
    "    for j in range(0, (n-1)//2):\n",
    "        for t in range(1, n-1-2*j):\n",
    "            #print(n, j, t, F_coeffs[n][j][t])\n",
    "            first += 1\n",
    "            pass\n",
    "print(\"----\")\n",
    "for t in range(1, N):\n",
    "    for n in range(t+2, N+1):\n",
    "        for j in range(0, (n-t)//2):\n",
    "            #print(n, j, t, F_coeffs[n][j][t])\n",
    "            pass\n",
    "print(\"----\")\n",
    "third = 0\n",
    "for t in range(1, N):\n",
    "    for j in range(0, (N-t)//2):\n",
    "        for n in range(t+2+2*j, N+1):\n",
    "            #print(n, j, t, F_coeffs[n][j][t])\n",
    "            third += 1\n",
    "            pass\n",
    "        \n",
    "#print(third - first)\n",
    "\n",
    "for n in range(0, N+1):\n",
    "    #print([[F_coeffs[n][j][t] for t in range(1, n-1-2*j)] for j in range(0, (n-1)//2)])\n",
    "    pass\n",
    "print(\"----\")\n",
    "for t in range(1, N):\n",
    "    #print([[F_coeffs[n][j][t] for j in range(0, (n-t)//2)] for n in range(t+2, N+1)])\n",
    "    pass\n",
    "print(\"----\")\n",
    "\n",
    "def delta_list(A, k):\n",
    "    if k > 0:\n",
    "        return delta_list([A[n] - A[n-1] for n in range(1, len(A))], k-1)\n",
    "    if k == 0:\n",
    "        return A\n",
    "\n",
    "#for m in range(10):\n",
    "    #print([2**n * binomial(-n, m) for n in range((14-m)//2)])\n",
    "\n",
    "triangle = [[[0 for i in range(j+t+1)] for j in range((N-t)//2)] for t in range(0, N)]\n",
    "\n",
    "for t in range(1, N):\n",
    "    for j in range(0, (N-t)//2):\n",
    "        #print(\"t =\", t, \"j =\", j)\n",
    "        for i in range(j+t+1):\n",
    "            deltas = delta_list([F_coeffs[n][j][t] for n in range(1+t+2+2*j, N+1)], i)\n",
    "            if len(deltas) > 0:\n",
    "                #print(deltas)\n",
    "                triangle[t][j][i] = deltas[0]\n",
    "            else:\n",
    "                #print(\"#\")\n",
    "                break\n",
    "\n",
    "def coeff(t, j, i):\n",
    "    if j == 0 and i == 0:\n",
    "        return sum([2 * k//2 for k in range(1, t+1)])\n",
    "    else:\n",
    "        return 0\n",
    "\n",
    "    \n",
    "triangle = [[0 for i in range(t+2)] for t in range(0, N)]\n",
    "\n",
    "for t in range(1, N//2):\n",
    "    for j in range(0, (N-t)//2):\n",
    "        #print([F_coeffs[n][j][t] for n in range(1+t+2+2*j, N+1)])\n",
    "        for i in range(j+t+1):\n",
    "            if j == 1:\n",
    "                deltas = delta_list([F_coeffs[n][j][t] / 2 for n in range(1+t+2+2*j, N+1)], i)\n",
    "                print(deltas)\n",
    "                if len(deltas) > 0:\n",
    "                    triangle[t][i] = deltas[0]\n",
    "        #print(\"-----\")\n",
    "        #print(delta_list(triangle[t][j][::-1], 0))\n",
    "        #print(delta_list(triangle[t][j][::-1], 1))\n",
    "        pass\n",
    "                                \n",
    "for t in range(0, N):\n",
    "    #print([triangle[t][i] for i in range(t+2)][::-1])\n",
    "    pass\n",
    "\n",
    "for i in range(0, N+2):\n",
    "    for d in range(0, i+2):\n",
    "        print(delta_list([triangle[t][t+1-i] for t in range(i-1, N)], d))\n",
    "    "
   ]
  },
  {
   "cell_type": "code",
   "execution_count": null,
   "id": "d8520313",
   "metadata": {},
   "outputs": [],
   "source": [
    "x = Symbol('x')\n",
    "F_polys = [[(t, j) for j in range(0, (N-t)//2)] for t in range(0, N)]\n",
    "for t in range(1, N):\n",
    "    for j in range(0, (N-t)//2):\n",
    "        X = list(range(t+2+2*j, N+1))\n",
    "        Y = [F_coeffs[n][j][t] for n in X]\n",
    "        F_polys[t][j] = simplify(polys.specialpolys.interpolating_poly(len(X), x, X=X, Y=Y))\n",
    "        if Poly(F_polys[t][j], x).degree()+1 >= len(X):\n",
    "            F_polys[t][j] = Symbol(\"\\lambda\")\n",
    "    \n",
    "display(A_polys[0])\n",
    "display(A_polys[1])\n",
    "display(A_polys[2])\n",
    "display(A_polys[3])\n",
    "display(A_polys[4])\n",
    "display(A_polys[5])\n",
    "\n",
    "display(Eq(Symbol(\"F_{\" + str((1,0)) + \"}\"), F_polys[1][0] + A_polys[1]))\n",
    "display(Eq(Symbol(\"F_{\" + str((1,1)) + \"}\"), F_polys[1][1] - 3 * A_polys[2] - 2 * A_polys[1] + 4 * A_polys[0]))\n",
    "display(Eq(Symbol(\"F_{\" + str((1,2)) + \"}\"), F_polys[1][2] + 6 * A_polys[3]))\n",
    "\n",
    "for t in range(1, N):\n",
    "    for j in range(0, (N-t)//2):\n",
    "        display(Eq(Symbol(\"F_{\" + str((t,j)) + \"}\"), F_polys[t][j]))\n",
    "\n"
   ]
  },
  {
   "cell_type": "code",
   "execution_count": null,
   "id": "d9a4dd3c",
   "metadata": {},
   "outputs": [],
   "source": [
    "expr = sigs_eq[7] + q * q_conj + q**3 * q_conj**7\n",
    "display(expr)\n",
    "#display(extract_deriv(expr, 0))\n",
    "#display(extract_deriv(expr, 1))\n",
    "#display(extract_deriv(expr, 2))\n",
    "display(extract_deriv_alt(expr, 2))\n",
    "display(expr - extract_deriv(expr, 0) - extract_deriv(expr, 1) - extract_deriv(expr, 2))\n",
    "display(expr - extract_deriv(expr, 0) - extract_deriv(expr, 1) - extract_deriv_alt(expr, 2))"
   ]
  },
  {
   "cell_type": "code",
   "execution_count": null,
   "id": "c131b2d0",
   "metadata": {},
   "outputs": [],
   "source": [
    "x = Symbol('x') \n",
    "A_polys = [0 for n in range(0, N//2)] \n",
    "B_polys = [0 for n in range(0, N//2)]\n",
    "\n",
    "for k in range(0, N//2):\n",
    "    X = list(range(2*k+2, N+1)) \n",
    "    #print(\"X =\", X) \n",
    "    Y = [A_coeffs[n][k] for n in X] \n",
    "    #print(\"Y =\", Y) \n",
    "    if len(X) >= k:\n",
    "        #print(\"For A, k =\", k, \"ok\")\n",
    "        pass\n",
    "    else: \n",
    "        #print(\"For A, k =\", k, \"not ok\")\n",
    "        pass\n",
    "    A_polys[k] = simplify(polys.specialpolys.interpolating_poly(len(X), x, X=X, Y=Y))\n",
    "    \n",
    "for k in range(0, N//2):\n",
    "    X = list(range(2*k+2, N+1)) \n",
    "    #print(\"X =\", X) \n",
    "    Y = [B_coeffs[n][k] for n in X] \n",
    "    #print(\"Y =\", Y) \n",
    "    if len(X) >= k:\n",
    "        #print(\"For B, k =\", k, \"ok\")\n",
    "        pass\n",
    "    else: \n",
    "        #print(\"For B, k =\", k, \"not ok\")\n",
    "        pass\n",
    "    B_polys[k] = simplify(polys.specialpolys.interpolating_poly(len(X), x, X=X, Y=Y))\n",
    "    \n",
    "for k in range(N//2):\n",
    "    display(A_polys[k])\n",
    "    \n",
    "for k in range(N//2):\n",
    "    display(B_polys[k])\n",
    "\n",
    "display(B_polys[0] + 2 * A_polys[0])\n",
    "display(B_polys[1] + 2 * A_polys[1] - A_polys[0])\n",
    "display(B_polys[2] + 2 * A_polys[2] - A_polys[1] + 2 * A_polys[0])\n",
    "display(B_polys[3] + 2 * A_polys[3] - A_polys[2] + 2 * A_polys[1] - 5 * A_polys[0])\n",
    "display(B_polys[4] + 2 * A_polys[4] - A_polys[3] + 2 * A_polys[2] - 5 * A_polys[1] + 14 * A_polys[0])\n",
    "display(B_polys[5] + 2 * A_polys[5] - A_polys[4] + 2 * A_polys[3] - 5 * A_polys[2] + 14 * A_polys[1] - 42 * A_polys[0])\n"
   ]
  },
  {
   "cell_type": "code",
   "execution_count": null,
   "id": "8693bc50",
   "metadata": {},
   "outputs": [],
   "source": [
    "N = 16\n",
    "\n",
    "for k in range(0,N//2):\n",
    "    print([A_coeffs[n+1][k] for n in range(2*k+2, N-1)])\n",
    "    print([B_coeffs[n][k] for n in range(2*k+4, N+1)])\n",
    "\n",
    "print(\"test:\")\n",
    "for k in range(0,N//2):\n",
    "    \n",
    "    L = [A_coeffs[n][k] for n in range(2*k+3, N-1)]\n",
    "    for n in range(2*k+3, N-1):\n",
    "        L[n-(2*k+3)] -= B_coeffs[n+1][k]\n",
    "        for j in range(0, k):\n",
    "            L[n-(2*k+3)] -= binomial(2*j, j-1) * (-1)**(j+1) * B_coeffs[n+1][k-1-j]\n",
    "    print(L)\n",
    "    \n",
    "print(\"test 2:\")\n",
    "for k in range(0,N//2):\n",
    "    \n",
    "    L = [(-1)**k * B_coeffs[n+1][k] for n in range(2*k+3, N)]\n",
    "    for n in range(2*k+3, N):\n",
    "        for j in range(0, k+1):\n",
    "            #L[n-(2*k+3)] += (catalan(j+1) - 2 * catalan(j)) * (-1)**(k-j) * A_coeffs[n][k-j]\n",
    "            L[n-(2*k+3)] += (catalan(j+1) - 2 * catalan(j)) * (-1)**(n+1) * (-4)**(k-j) * binomial(Rational(n,2) - 1, k-j)\n",
    "            #L[n-(2*k+3)] += 4 / (j+3) * binomial(2*j+1,j-1) * A_coeffs[n][k-1-j]\n",
    "\n",
    "    print(L)\n"
   ]
  },
  {
   "cell_type": "code",
   "execution_count": null,
   "id": "19812655",
   "metadata": {},
   "outputs": [],
   "source": [
    "N = 16\n",
    "\n",
    "for k in range(0,N//2):\n",
    "    print([A_coeffs[n+1][k] for n in range(2*k+2, N-1)])\n",
    "    print([B_coeffs[n][k] for n in range(2*k+4, N+1)])\n",
    "\n",
    "print(\"test:\")\n",
    "for k in range(0,N//2):\n",
    "    \n",
    "    L = [A_coeffs[n][k] for n in range(2*k+3, N-1)]\n",
    "    for n in range(2*k+3, N-1):\n",
    "        L[n-(2*k+3)] -= B_coeffs[n+1][k]\n",
    "        for j in range(0, k):\n",
    "            L[n-(2*k+3)] -= binomial(2*j, j-1) * (-1)**(j+1) * B_coeffs[n+1][k-1-j]\n",
    "    print(L)\n",
    "    \n",
    "print(\"test 2:\")\n",
    "for k in range(0,N//2):\n",
    "    \n",
    "    L = [(-1)**k * B_coeffs[n+1][k] for n in range(2*k+3, N)]\n",
    "    for n in range(2*k+3, N):\n",
    "        for j in range(0, k+1):\n",
    "            #L[n-(2*k+3)] += (catalan(j+1) - 2 * catalan(j)) * (-1)**(k-j) * A_coeffs[n][k-j]\n",
    "            L[n-(2*k+3)] += (catalan(j+1) - 2 * catalan(j)) * (-1)**(n+1) * (-4)**(k-j) * binomial(Rational(n,2) - 1, k-j)\n",
    "            #L[n-(2*k+3)] += 4 / (j+3) * binomial(2*j+1,j-1) * A_coeffs[n][k-1-j]\n",
    "\n",
    "    print(L)\n"
   ]
  },
  {
   "cell_type": "code",
   "execution_count": null,
   "id": "99b80a53",
   "metadata": {},
   "outputs": [],
   "source": [
    "x = Symbol('x') \n",
    "A_polys = [0 for n in range(0, N//2)] \n",
    "B_polys = [0 for n in range(0, (N-1)//2)]\n",
    "\n",
    "for k in range(0, N//2):\n",
    "    X = list(range(2*(k+1), N+1)) \n",
    "    #print(\"X =\", X) \n",
    "    Y = [(-1)**n * A_coeffs[n][k] for n in X] \n",
    "    #print(\"Y =\", Y) \n",
    "    if len(X) >= k:\n",
    "        print(\"For A, k =\", k, \"ok\")\n",
    "    else: \n",
    "        print(\"For A, k =\", k, \"not ok\")\n",
    "    A_polys[k] = simplify(polys.specialpolys.interpolating_poly(len(X), x, X=X, Y=Y))\n",
    "    \n",
    "    #display(A_polys[k])\n",
    "    \n",
    "for k in range(0, (N-1)//2):\n",
    "    X = list(range(2*(k+2), N+1)) \n",
    "    #print(\"X =\", X) \n",
    "    Y = [(-1)**n * B_coeffs[n][k] for n in X] \n",
    "    #print(\"Y =\", Y) \n",
    "    if len(X) >= k:\n",
    "        print(\"For B, k =\", k, \"ok\")\n",
    "    else:\n",
    "        print(\"For B, k =\", k, \"not ok\")\n",
    "    B_polys[k] = simplify(polys.specialpolys.interpolating_poly(len(X), x, X=X, Y=Y))\n",
    "    \n",
    "    #display(B_polys[k])\n",
    "    \n",
    "display(simplify(- B_polys[0].subs(x, x+1)))\n",
    "display(simplify(A_polys[0]))\n",
    "\n",
    "display(simplify(- B_polys[1].subs(x, x+1)))\n",
    "display(simplify(A_polys[1]))\n",
    "\n",
    "display(simplify(- B_polys[2].subs(x, x+1)))\n",
    "display(simplify(A_polys[2] - A_polys[0]))\n",
    "\n",
    "display(simplify(- B_polys[3].subs(x, x+1)))\n",
    "display(simplify(A_polys[3] - A_polys[1] - 4 * A_polys[0]))\n",
    "\n",
    "display(simplify(- B_polys[4].subs(x, x+1)))\n",
    "display(simplify(A_polys[4] - A_polys[2] - 4 * A_polys[1] - 14 * A_polys[0]))\n",
    "\n",
    "display(simplify(- B_polys[5].subs(x, x+1)))\n",
    "display(simplify(A_polys[5] - A_polys[3] - 4 * A_polys[2] - 14 * A_polys[1] - 48 * A_polys[0]))\n",
    "\n",
    "\n",
    "display(- A_polys[0])\n",
    "display(simplify(B_polys[0].subs(x, x+1)))\n",
    "\n",
    "display(- A_polys[1])\n",
    "display(simplify(B_polys[1].subs(x, x+1)))\n",
    "\n",
    "display(- A_polys[2])\n",
    "display(simplify(B_polys[2].subs(x, x+1) + B_polys[0].subs(x, x+1)))\n",
    "\n",
    "display(- A_polys[3])\n",
    "display(simplify(B_polys[3].subs(x, x+1) + B_polys[1].subs(x, x+1) + 4 * B_polys[0].subs(x, x+1)))\n",
    "\n",
    "display(- A_polys[4])\n",
    "display(simplify(B_polys[4].subs(x, x+1) + B_polys[2].subs(x, x+1) + 4 * B_polys[1].subs(x, x+1) + 15 * B_polys[0].subs(x, x+1)))\n",
    "\n",
    "display(- A_polys[5])\n",
    "display(simplify(B_polys[5].subs(x, x+1) + B_polys[3].subs(x, x+1) + 4 * B_polys[2].subs(x, x+1) + 15 * B_polys[1].subs(x, x+1) + 56 * B_polys[0].subs(x, x+1)))\n",
    "\n",
    "\n"
   ]
  },
  {
   "cell_type": "code",
   "execution_count": null,
   "id": "ba450e71",
   "metadata": {},
   "outputs": [],
   "source": []
  },
  {
   "cell_type": "code",
   "execution_count": null,
   "id": "bfc7f478",
   "metadata": {},
   "outputs": [],
   "source": [
    "n = 5\n",
    "print([binomial(n - Rational(1,2), n - m) * (-4)**(n-m) for m in range(-3, 8)])\n",
    "\n",
    "def get_expansion(eqn, x0, var, num):\n",
    "    epsilonpos = Symbol('epsilon_2', positive=True)\n",
    "    epsiloninvpos = Symbol('eta_2', positive=True)\n",
    "    \n",
    "    eqn = eqn.subs(epsilon, epsilonpos).subs(epsiloninv, epsiloninvpos)\n",
    "    ser = series(eqn, x0=0, x=var, n=num).removeO().subs(epsilonpos, epsilon).subs(epsiloninvpos, epsiloninv)\n",
    "    return [simplify(ser.coeff(var**n) if n > 0 else ser.subs(var, 0)) for n in range(0, num)]\n",
    "\n",
    "    \n",
    "x = Symbol('x')\n",
    "\n",
    "N = 10\n",
    "for n in range(1, N+1):\n",
    "    #display(Eq(rq_sym[n], rq_eq[n]))\n",
    "    #display(Eq(Rq_sym[n], Rq_eq[n]))\n",
    "    \n",
    "    nn = n // 2\n",
    "\n",
    "    #coefficients = get_expansion((1 - 4*x)**Rational(n-2,2), 0, x, n+1)\n",
    "\n",
    "    coefficients = [binomial(Rational(n-2,2), m) * (-4)**(m) for m in range(0, n+1)]\n",
    "    \n",
    "    Y = 0\n",
    "    \n",
    "    if n % 2 == 0:\n",
    "        for m in range(1, nn+1):\n",
    "            Y += coefficients[nn-m] * sigq_eq[2*m]\n",
    "      \n",
    "    if n % 2 == 1:\n",
    "        Y += (-1)**(nn+1) * catalan(nn)\n",
    "        for m in range(0, nn+1):\n",
    "            Y += coefficients[nn-m] * sigq_eq[2*m+1]\n",
    "        \n",
    "    #display(Eq(Rq_sym[n], simplify(Rq_eq[n])))\n",
    "    \n",
    "    #display(Eq(SS_sym[n], simplify(deriv(variation(SS_eq[n], u)))))\n",
    "    \n",
    "    #display(Eq(sigs_sym[n], sigs_eq[n]))\n",
    "    #display(Eq(Rq_sym[n], extract_single_deriv(simplify(Rq_eq[n]))))\n",
    "\n",
    "    display(Eq(sigs_sym[n], simplify(extract_deriv_alt(sigs_eq[n], 2))))\n",
    "\n",
    "    #display(Eq(Rq_sym[n], extract_single_deriv(simplify(Rq_eq[n]))))\n",
    "\n",
    "    #display(Eq(rq_sym[n], simplify(rq_eq[n])))\n",
    "    #display(Eq(sigs_sym[n], simplify(sigs_eq[n])))\n",
    "\n",
    "    #display(Eq(sigq_sym[n], simplify(sigq_eq[n])))\n",
    "\n",
    "    #display(Eq(Rq_sym[n], simplify(Rq_eq[n])))\n",
    "    #display(Eq(sigq_sym[n], simplify(sigs_eq[n])))\n",
    "\n",
    "    #display(Eq(Symbol('0_{'+ str(n) + '}'), simplify(sigs_eq[n] - Y)))\n",
    "\n",
    "    Z = 0\n",
    "\n",
    "   "
   ]
  },
  {
   "cell_type": "code",
   "execution_count": null,
   "id": "83276461",
   "metadata": {},
   "outputs": [],
   "source": [
    "for n in range(N+1):\n",
    "    display(Eq(sig_sym[n], polynomize(variation(sigq_eq[n], q_conj))))\n",
    "    #display(Eq(E_minus_sym[n], polynomize(E_minus_eq[n])))"
   ]
  },
  {
   "cell_type": "code",
   "execution_count": 6,
   "id": "7350cc97",
   "metadata": {},
   "outputs": [
    {
     "name": "stdout",
     "output_type": "stream",
     "text": [
      "n = 0\n",
      "n = 1\n",
      "n = 2\n",
      "n = 3\n",
      "n = 4\n",
      "n = 5\n",
      "n = 6\n",
      "n = 7\n",
      "n = 8\n",
      "moving on...\n"
     ]
    }
   ],
   "source": [
    "\n",
    "def uv_sub(expr):\n",
    "    return multi_substituter(expr, [(u, W_minus), (v, W_plus)])\n",
    "def NV_sub(expr):\n",
    "    return multi_substituter(expr, [(u, V_sym/2 - N_sym), (v, V_sym/2 + N_sym)])\n",
    "def AV_sub(expr):\n",
    "    return multi_substituter(expr, [(u, V_sym/2 - epsiloninv**2 * (A_sym - 1)), (v, V_sym/2 + epsiloninv**2 * (A_sym - 1))])\n",
    "\n",
    "R_sym = [Symbol('R_{' + str(n) + '}') for n in range(N+1)]\n",
    "R_eq = [R_sym[n] for n in range(N+1)]\n",
    "\n",
    "EE_plus_sym = [Symbol('\\\\mathcal{E}_+^{' + str(n) + '}') for n in range(N+1)]\n",
    "EE_plus_eq = [EE_plus_sym[n] for n in range(N+1)]\n",
    "\n",
    "EE_minus_sym = [Symbol('\\\\mathcal{E}_-^{' + str(n) + '}') for n in range(N+1)]\n",
    "EE_minus_eq = [EE_minus_sym[n] for n in range(N+1)]\n",
    "\n",
    "HH_sym = [Symbol('\\\\mathcal{H}^{' + str(n-1) + '}') for n in range(N+1)]\n",
    "HH_eq = [HH_sym[n] for n in range(N+1)]\n",
    "\n",
    "EE_sym = [Symbol('\\\\mathcal{E}^{' + str(n) + '}') for n in range(N+1)]\n",
    "EE_eq = [EE_sym[n] for n in range(N+1)]\n",
    "\n",
    "PP_sym = [Symbol('\\\\mathcal{P}^{' + str(n) + '}') for n in range(N+1)]\n",
    "PP_eq = [PP_sym[n] for n in range(N+1)]\n",
    "\n",
    "EEo_sym = [Symbol('\\\\mathcal{E}_o^{' + str(n) + '}') for n in range(N+1)]\n",
    "EEo_eq = [EEo_sym[n] for n in range(N+1)]\n",
    "\n",
    "PPo_sym = [Symbol('\\\\mathcal{P}_o^{' + str(n) + '}') for n in range(N+1)]\n",
    "PPo_eq = [PPo_sym[n] for n in range(N+1)]\n",
    "\n",
    "EEh_sym = [Symbol('\\\\mathcal{E}_h^{' + str(n) + '}') for n in range(N+1)]\n",
    "EEh_eq = [EEh_sym[n] for n in range(N+1)]\n",
    "\n",
    "PPh_sym = [Symbol('\\\\mathcal{P}_h^{' + str(n) + '}') for n in range(N+1)]\n",
    "PPh_eq = [PPh_sym[n] for n in range(N+1)]\n",
    "\n",
    "EEq_sym = [Symbol('\\\\mathcal{E}_q^{' + str(n) + '}') for n in range(N+1)]\n",
    "EEq_eq = [EEq_sym[n] for n in range(N+1)]\n",
    "\n",
    "PPq_sym = [Symbol('\\\\mathcal{P}_q^{' + str(n) + '}') for n in range(N+1)]\n",
    "PPq_eq = [PPq_sym[n] for n in range(N+1)]\n",
    "\n",
    "PPm_sym = [Symbol('\\\\mathcal{P}_m^{' + str(n) + '}') for n in range(N+1)]\n",
    "PPm_eq = [PPm_sym[n] for n in range(N+1)]\n",
    "\n",
    "Y_plus_sym = [Symbol('Y_+^{' + str(n) + '}') for n in range(N+1)]\n",
    "Y_plus_eq = [Y_plus_sym[n] for n in range(N+1)]\n",
    "\n",
    "Y_minus_sym = [Symbol('Y_-^{' + str(n) + '}') for n in range(N+1)]\n",
    "Y_minus_eq = [Y_minus_sym[n] for n in range(N+1)]\n",
    "\n",
    "Yt_plus_sym = [Symbol('\\\\tilde{Y}_+^{' + str(n) + '}') for n in range(N+1)]\n",
    "Yt_plus_eq = [Y_plus_sym[n] for n in range(N+1)]\n",
    "\n",
    "Yt_minus_sym = [Symbol('\\\\tilde{Y}_-^{' + str(n) + '}') for n in range(N+1)]\n",
    "Yt_minus_eq = [Y_minus_sym[n] for n in range(N+1)]\n",
    "\n",
    "P_plus_sym = [Symbol('P_+^{' + str(n) + '}') for n in range(N+1)]\n",
    "P_plus_eq = [P_plus_sym[n] for n in range(N+1)]\n",
    "\n",
    "P_minus_sym = [Symbol('P_-^{' + str(n) + '}') for n in range(N+1)]\n",
    "P_minus_eq = [P_minus_sym[n] for n in range(N+1)]\n",
    "\n",
    "a_subs_q = sqrt(q * q_conj)\n",
    "v_subs_q = (deriv(q) / q - deriv(q_conj) / q_conj) / (2 * I)\n",
    "\n",
    "for n in range(0, N+1):\n",
    "    print(\"n =\", n)\n",
    "\n",
    "    R_eq[n] = epsilon / sqrt(2) * deriv(v) * r_eq[n]\n",
    "    HH_eq[n] = - I**(n-1) * (sqrt(2) * epsilon)**n * sig_eq[n]\n",
    "\n",
    "    if 2*n+1 < N+1:\n",
    "        EE_eq[n] = (-1)**(n+1) * (sqrt(2) * epsilon)**(2*n+1) * sig_eq[2*n+1]\n",
    "\n",
    "        EE_plus_eq[n] = sig_plus_eq[2*n+1]\n",
    "        EE_minus_eq[n] = sig_minus_eq[2*n+1]\n",
    "\n",
    "        \n",
    "    if 2*n < N+1:\n",
    "        PP_eq[n] = I * (-1)**n * (sqrt(2) * epsilon)**(2*n) * sig_eq[2*n]\n",
    "\n",
    "#print(\"substituting energy\")\n",
    "\n",
    "#EEo_eq = sqrt(2) * epsilon * multi_substituter(Matrix(EE_eq), [(v, w_plus), (u, w_minus)], magnitude=epsiloninv**2, scale=epsiloninv/sqrt(2))\n",
    "#EEo_eq = [elem for elem in EEo_eq]\n",
    "\n",
    "#EEh_eq = multi_substituter(Matrix(EEo_eq), [(w_plus, phi_sym / 2 + (a_sym - 1)), (w_minus, phi_sym / 2 - (a_sym - 1))])\n",
    "#EEh_eq = [elem for elem in EEh_eq]\n",
    "\n",
    "#EEq_eq = multi_substituter(Matrix(EEh_eq), [(phi_sym, v_subs_q), (a_sym, a_subs_q)])\n",
    "#EEq_eq = [elem for elem in EEq_eq]\n",
    "\n",
    "#print(\"substituting momentum\")\n",
    "\n",
    "#PPo_eq = sqrt(2) * epsilon * multi_substituter(Matrix(PP_eq), [(v, w_plus), (u, w_minus)], magnitude=epsiloninv**2, scale=epsiloninv/sqrt(2))\n",
    "#PPo_eq = [elem for elem in PPo_eq]\n",
    "\n",
    "#PPh_eq = multi_substituter(Matrix(PPo_eq), [(w_plus, phi_sym / 2 + (a_sym - 1)), (w_minus, phi_sym / 2 - (a_sym - 1))])\n",
    "#PPh_eq = [elem for elem in PPh_eq]\n",
    "\n",
    "#PPq_eq = multi_substituter(Matrix(PPh_eq), [(phi_sym, v_subs_q), (a_sym, a_subs_q)])\n",
    "#PPq_eq = [elem for elem in PPq_eq]\n",
    "\n",
    "#print(\"done\")\n",
    "\n",
    "print(\"moving on...\")\n",
    "for n in range(0, N+1):\n",
    "    if 2*n+1 < N+1:\n",
    "        PPm_eq[n] = 0\n",
    "        for k in range(n):\n",
    "            \n",
    "    if 2*n+1 < N+1:\n",
    "        Y_plus_eq[n] = EE_eq[n]\n",
    "        for m in range(0, n+1):\n",
    "            Y_plus_eq[n] += binomial(- Rational(1,2), m) * 2**(2*m+1) * PP_eq[n-m]\n",
    "        Yt_plus_eq[n] = (-1)**(n+1)*(epsiloninv/sqrt(2))**(2*n+1) * Y_plus_eq[n]\n",
    "        \n",
    "        Y_minus_eq[n] = EE_eq[n]\n",
    "        for m in range(0, n+1):\n",
    "            Y_minus_eq[n] += - binomial(- Rational(1,2), m) * 2**(2*m+1) * PP_eq[n-m]\n",
    "        Yt_minus_eq[n] = (-1)**(n+1)*(epsiloninv/sqrt(2))**(2*n+1) * Y_minus_eq[n]\n",
    "        \n",
    "        P_plus_eq[n] = epsiloninv**2 * (Yt_plus_eq[n] - EE_plus_eq[n])\n",
    "        P_minus_eq[n] = epsiloninv**2 * (Yt_minus_eq[n] - EE_minus_eq[n])\n"
   ]
  },
  {
   "cell_type": "code",
   "execution_count": null,
   "id": "159bae67",
   "metadata": {},
   "outputs": [],
   "source": [
    "for n in range(0, N+1): \n",
    "\n",
    "    #display(Eq(sig_sym[n], polynomize(multi_substituter(sig_eq[n], [(u, V_sym/2 - (A_sym-1)), (v, V_sym/2 + (A_sym-1))]))))\n",
    "    #display(Eq(HH_sym[n], polynomize(multi_substituter(HH_eq[n], [(u, V_sym/2 - (A_sym-1)), (v, V_sym/2 + (A_sym-1))]))))\n",
    "    \n",
    "    #display(Eq(sig_sym[n], polynomize(multi_substituter(sig_eq[n], [(u, W_minus), (v, W_plus)]))))\n",
    "\n",
    "    #display(Eq(sig_sym[n], polynomize(AV_sub(sig_eq[n]))))\n",
    "\n",
    "    #display(Eq(Symbol('\\\\frac{\\delta ' + sig_sym[n].name + '}{\\delta v}'), polynomize(AV_sub(variation(sig_eq[n], v)))))\n",
    "    #display(Eq(Symbol('\\\\frac{\\delta ' + sig_sym[n].name + '}{\\delta u}'), polynomize(AV_sub(variation(sig_eq[n], u)))))\n",
    "    #display(Eq(Symbol('\\\\frac{\\delta ' + sig_sym[n].name + '}{\\delta N}'), polynomize(AV_sub((variation(sig_eq[n], v) - variation(sig_eq[n], u))))))\n",
    "    #display(Eq(Symbol('\\\\frac{\\delta ' + sig_sym[n].name + '}{\\delta V}'), polynomize(AV_sub(variation(sig_eq[n], v)/2 + variation(sig_eq[n], u)/2))))\n",
    "\n",
    "    \n",
    "    #display(Eq(HH_sym[n], polynomize(multi_substituter(HH_eq[n], [(u, W_minus), (v, W_plus)]))))\n",
    "    pass\n",
    "\n",
    "    if 2*n < N+1:\n",
    "        #display(Eq(PP_sym[n], polynomize(multi_substituter(PP_eq[n], [(u, W_minus), (v, W_plus)]))))\n",
    "        display(Eq(PPo_sym[n], polynomize(PPo_eq[n])))\n",
    "        display(Eq(PPh_sym[n], polynomize(PPh_eq[n])))\n",
    "        display(Eq(PPq_sym[n], simplify(simplify(poly_simplify(PPq_eq[n]).subs(q_conj, abs(q)**2 / q))).expand()))\n",
    "        pass\n",
    "    if 2*n+1 < N+1:\n",
    "        #display(Eq(EE_sym[n], polynomize(multi_substituter(EE_eq[n], [(u, W_minus), (v, W_plus)]))))\n",
    "        display(Eq(EEo_sym[n], polynomize(EEo_eq[n])))\n",
    "        display(Eq(EEh_sym[n], polynomize(EEh_eq[n])))\n",
    "        display(Eq(EEq_sym[n], simplify(simplify(poly_simplify(EEq_eq[n]).subs(q_conj, abs(q)**2 / q))).expand()))\n",
    "        pass\n",
    "    pass\n",
    "\n",
    "for n in range(0, N+1): \n",
    "    if 2*n < N+1:\n",
    "        display(Eq(Symbol('\\\\frac{\\delta ' + PPq_sym[n].name + '}{\\delta \\\\overline{q}}'), simplify(simplify(variation(poly_simplify(PPq_eq[n]), q_conj).subs(q_conj, abs(q)**2 / q)))).expand())\n",
    "\n",
    "    if 2*n+1 < N+1:\n",
    "        display(Eq(Symbol('\\\\frac{\\delta ' + EEq_sym[n].name + '}{\\delta \\\\overline{q}}'), simplify(simplify(variation(poly_simplify(EEq_eq[n]), q_conj).subs(q_conj, abs(q)**2 / q)))).expand())\n",
    "\n"
   ]
  },
  {
   "cell_type": "code",
   "execution_count": null,
   "id": "1edf8ba4",
   "metadata": {},
   "outputs": [],
   "source": []
  },
  {
   "cell_type": "code",
   "execution_count": null,
   "id": "3c102698",
   "metadata": {},
   "outputs": [],
   "source": [
    "B = 0\n",
    "B += - epsilon * sqrt(2) / 4 * (EE_plus_eq[0] - EE_minus_eq[0] + epsilon**2 * (P_plus_eq[0] - P_minus_eq[0]))\n",
    "\n",
    "display(polynomize(uv_sub(PP_eq[0] - B)))\n",
    "\n",
    "B = 0\n",
    "B += (sqrt(2) * epsilon)**3 / 4 * (EE_plus_eq[1] - EE_minus_eq[1] + epsilon**2 * (P_plus_eq[1] - P_minus_eq[1]))\n",
    "B += - 2 * epsilon * sqrt(2) / 4 * (EE_plus_eq[0] - EE_minus_eq[0] + epsilon**2 * (P_plus_eq[0] - P_minus_eq[0]))\n",
    "\n",
    "display(polynomize(uv_sub(PP_eq[1] - B)))\n",
    "\n",
    "B = 0\n",
    "B += - (sqrt(2) * epsilon)**5 / 4 * (EE_plus_eq[2] - EE_minus_eq[2] + epsilon**2 * (P_plus_eq[2] - P_minus_eq[2]))\n",
    "B += 6 * epsilon * sqrt(2) / 4 * (EE_plus_eq[0] - EE_minus_eq[0] + epsilon**2 * (P_plus_eq[0] - P_minus_eq[0]))\n",
    "B += 2 * (sqrt(2) * epsilon)**3 / 4 * (EE_plus_eq[1] - EE_minus_eq[1] + epsilon**2 * (P_plus_eq[1] - P_minus_eq[1]))\n",
    "B += - 4 * epsilon * sqrt(2) / 4 * (EE_plus_eq[0] - EE_minus_eq[0] + epsilon**2 * (P_plus_eq[0] - P_minus_eq[0])) \n",
    "display(polynomize(uv_sub(PP_eq[2] - B)))"
   ]
  },
  {
   "cell_type": "code",
   "execution_count": null,
   "id": "caed4c22",
   "metadata": {},
   "outputs": [],
   "source": [
    "#hamiltonian = PP_eq[2]\n",
    "\n",
    "B = 0\n",
    "#B += 2 * epsilon * sqrt(2) / 4 * (EE_plus_eq[0] - EE_minus_eq[0] + epsilon**2 * (P_plus_eq[0] - P_minus_eq[0]))\n",
    "#B += 2 * (sqrt(2) * epsilon)**3 / 4 * (EE_plus_eq[1] - EE_minus_eq[1] + epsilon**2 * (P_plus_eq[1] - P_minus_eq[1]))\n",
    "B += - (sqrt(2) * epsilon)**5 / 4 * (EE_plus_eq[2] - EE_minus_eq[2] + epsilon**2 * (P_plus_eq[2] - P_minus_eq[2]))\n",
    "\n",
    "hamiltonian = PP_eq[2]\n",
    "varis = [poly_simplify(variation(hamiltonian, v)), poly_simplify(variation(hamiltonian, u))]\n",
    "result = Matrix([0, 0])\n",
    "\n",
    "T = 1\n",
    "result[0] += epsiloninv**2 / 2 * (- deriv((varis[0] - varis[1]) * T) - deriv(varis[0] + varis[1]) * T)\n",
    "result[1] += epsiloninv**2 / 2 * (- deriv((varis[0] - varis[1]) * T) + deriv(varis[0] + varis[1]) * T)\n",
    "\n",
    "T = - epsilon**2 / 2 * (v - u)\n",
    "result[0] += epsiloninv**2 / 2 * (- deriv((varis[0] - varis[1]) * T) - deriv(varis[0] + varis[1]) * T)\n",
    "result[1] += epsiloninv**2 / 2 * (- deriv((varis[0] - varis[1]) * T) + deriv(varis[0] + varis[1]) * T)\n",
    "\n",
    "result[0] = poly_simplify(result[0])\n",
    "result[1] = poly_simplify(result[1])\n",
    "\n",
    "\n",
    "display(polynomize(result[0]) + O(epsilon**5))\n",
    "display(polynomize(result[1]) + O(epsilon**5))"
   ]
  },
  {
   "cell_type": "code",
   "execution_count": 11,
   "id": "b6a749ce",
   "metadata": {},
   "outputs": [
    {
     "data": {
      "text/latex": [
       "$\\displaystyle 0$"
      ],
      "text/plain": [
       "0"
      ]
     },
     "metadata": {},
     "output_type": "display_data"
    },
    {
     "data": {
      "text/latex": [
       "$\\displaystyle 0$"
      ],
      "text/plain": [
       "0"
      ]
     },
     "metadata": {},
     "output_type": "display_data"
    },
    {
     "data": {
      "text/latex": [
       "$\\displaystyle 0$"
      ],
      "text/plain": [
       "0"
      ]
     },
     "metadata": {},
     "output_type": "display_data"
    },
    {
     "data": {
      "text/latex": [
       "$\\displaystyle 0$"
      ],
      "text/plain": [
       "0"
      ]
     },
     "metadata": {},
     "output_type": "display_data"
    },
    {
     "data": {
      "text/latex": [
       "$\\displaystyle (u)_{x}$"
      ],
      "text/plain": [
       "(u)_{x}"
      ]
     },
     "metadata": {},
     "output_type": "display_data"
    },
    {
     "data": {
      "text/latex": [
       "$\\displaystyle (v)_{x}$"
      ],
      "text/plain": [
       "(v)_{x}"
      ]
     },
     "metadata": {},
     "output_type": "display_data"
    },
    {
     "data": {
      "text/latex": [
       "$\\displaystyle 0$"
      ],
      "text/plain": [
       "0"
      ]
     },
     "metadata": {},
     "output_type": "display_data"
    },
    {
     "data": {
      "text/latex": [
       "$\\displaystyle 0$"
      ],
      "text/plain": [
       "0"
      ]
     },
     "metadata": {},
     "output_type": "display_data"
    },
    {
     "data": {
      "text/latex": [
       "$\\displaystyle (u)_{xxx} + 6 (u)_{x} u$"
      ],
      "text/plain": [
       "(u)_{xxx} + 6*(u)_{x}*u"
      ]
     },
     "metadata": {},
     "output_type": "display_data"
    },
    {
     "data": {
      "text/latex": [
       "$\\displaystyle (v)_{xxx} - 6 (v)_{x} v$"
      ],
      "text/plain": [
       "(v)_{xxx} - 6*(v)_{x}*v"
      ]
     },
     "metadata": {},
     "output_type": "display_data"
    },
    {
     "data": {
      "text/latex": [
       "$\\displaystyle 0$"
      ],
      "text/plain": [
       "0"
      ]
     },
     "metadata": {},
     "output_type": "display_data"
    },
    {
     "data": {
      "text/latex": [
       "$\\displaystyle 0$"
      ],
      "text/plain": [
       "0"
      ]
     },
     "metadata": {},
     "output_type": "display_data"
    },
    {
     "data": {
      "text/latex": [
       "$\\displaystyle (u)_{xxxxx} + 10 (u)_{xxx} u + 20 (u)_{xx} (u)_{x} + 30 (u)_{x} u^{2}$"
      ],
      "text/plain": [
       "(u)_{xxxxx} + 10*(u)_{xxx}*u + 20*(u)_{xx}*(u)_{x} + 30*(u)_{x}*u**2"
      ]
     },
     "metadata": {},
     "output_type": "display_data"
    },
    {
     "data": {
      "text/latex": [
       "$\\displaystyle (v)_{xxxxx} - 10 (v)_{xxx} v - 20 (v)_{xx} (v)_{x} + 30 (v)_{x} v^{2}$"
      ],
      "text/plain": [
       "(v)_{xxxxx} - 10*(v)_{xxx}*v - 20*(v)_{xx}*(v)_{x} + 30*(v)_{x}*v**2"
      ]
     },
     "metadata": {},
     "output_type": "display_data"
    },
    {
     "data": {
      "text/latex": [
       "$\\displaystyle 0$"
      ],
      "text/plain": [
       "0"
      ]
     },
     "metadata": {},
     "output_type": "display_data"
    },
    {
     "data": {
      "text/latex": [
       "$\\displaystyle 0$"
      ],
      "text/plain": [
       "0"
      ]
     },
     "metadata": {},
     "output_type": "display_data"
    }
   ],
   "source": [
    "for n in range(1, N+1):\n",
    "    display(simplify(Rational(1,2) * deriv(variation(sig_minus_eq[n], u))))\n",
    "    display(simplify(Rational(1,2) * deriv(variation(sig_plus_eq[n], v))))"
   ]
  },
  {
   "cell_type": "code",
   "execution_count": 12,
   "id": "3cd4951a",
   "metadata": {},
   "outputs": [
    {
     "data": {
      "text/latex": [
       "$\\displaystyle u_{T_{-1}} = O\\left(\\epsilon^{4}\\right)$"
      ],
      "text/plain": [
       "Eq(u_{T_{-1}}, O(\\epsilon**4))"
      ]
     },
     "metadata": {},
     "output_type": "display_data"
    },
    {
     "data": {
      "text/latex": [
       "$\\displaystyle v_{T_{-1}} = O\\left(\\epsilon^{4}\\right)$"
      ],
      "text/plain": [
       "Eq(v_{T_{-1}}, O(\\epsilon**4))"
      ]
     },
     "metadata": {},
     "output_type": "display_data"
    },
    {
     "data": {
      "text/latex": [
       "$\\displaystyle u_{T_{0}} = \\epsilon^{2} \\left(- \\frac{(u)_{x} v}{4} + \\frac{(v)_{x} v}{4}\\right) + O\\left(\\epsilon^{4}\\right)$"
      ],
      "text/plain": [
       "Eq(u_{T_{0}}, \\epsilon**2*(-(u)_{x}*v/4 + (v)_{x}*v/4) + O(\\epsilon**4))"
      ]
     },
     "metadata": {},
     "output_type": "display_data"
    },
    {
     "data": {
      "text/latex": [
       "$\\displaystyle v_{T_{0}} = \\epsilon^{2} \\left(\\frac{(u)_{x} u}{4} - \\frac{(v)_{x} u}{4}\\right) + O\\left(\\epsilon^{4}\\right)$"
      ],
      "text/plain": [
       "Eq(v_{T_{0}}, \\epsilon**2*((u)_{x}*u/4 - (v)_{x}*u/4) + O(\\epsilon**4))"
      ]
     },
     "metadata": {},
     "output_type": "display_data"
    },
    {
     "data": {
      "text/latex": [
       "$\\displaystyle u_{T_{1}} = - (v)_{x} \\epsilon^{2} + O\\left(\\epsilon^{4}\\right)$"
      ],
      "text/plain": [
       "Eq(u_{T_{1}}, -(v)_{x}*\\epsilon**2 + O(\\epsilon**4))"
      ]
     },
     "metadata": {},
     "output_type": "display_data"
    },
    {
     "data": {
      "text/latex": [
       "$\\displaystyle v_{T_{1}} = - (u)_{x} \\epsilon^{2} + O\\left(\\epsilon^{4}\\right)$"
      ],
      "text/plain": [
       "Eq(v_{T_{1}}, -(u)_{x}*\\epsilon**2 + O(\\epsilon**4))"
      ]
     },
     "metadata": {},
     "output_type": "display_data"
    },
    {
     "data": {
      "text/latex": [
       "$\\displaystyle u_{T_{2}} = \\epsilon^{2} \\left(- \\frac{(u)_{xxx}}{4} + \\frac{(v)_{xxx}}{4} - \\frac{3 (v)_{x} v}{2}\\right) - (v)_{x} + O\\left(\\epsilon^{4}\\right)$"
      ],
      "text/plain": [
       "Eq(u_{T_{2}}, \\epsilon**2*(-(u)_{xxx}/4 + (v)_{xxx}/4 - 3*(v)_{x}*v/2) - (v)_{x} + O(\\epsilon**4))"
      ]
     },
     "metadata": {},
     "output_type": "display_data"
    },
    {
     "data": {
      "text/latex": [
       "$\\displaystyle v_{T_{2}} = \\epsilon^{2} \\left(- \\frac{(u)_{xxx}}{4} - \\frac{3 (u)_{x} u}{2} + \\frac{(v)_{xxx}}{4}\\right) + (u)_{x} + O\\left(\\epsilon^{4}\\right)$"
      ],
      "text/plain": [
       "Eq(v_{T_{2}}, \\epsilon**2*(-(u)_{xxx}/4 - 3*(u)_{x}*u/2 + (v)_{xxx}/4) + (u)_{x} + O(\\epsilon**4))"
      ]
     },
     "metadata": {},
     "output_type": "display_data"
    },
    {
     "data": {
      "text/latex": [
       "$\\displaystyle u_{T_{3}} = \\epsilon^{2} \\cdot \\left(2 (v)_{xxx} - 12 (v)_{x} v\\right) - 2 (v)_{x} + O\\left(\\epsilon^{4}\\right)$"
      ],
      "text/plain": [
       "Eq(u_{T_{3}}, \\epsilon**2*(2*(v)_{xxx} - 12*(v)_{x}*v) - 2*(v)_{x} + O(\\epsilon**4))"
      ]
     },
     "metadata": {},
     "output_type": "display_data"
    },
    {
     "data": {
      "text/latex": [
       "$\\displaystyle v_{T_{3}} = \\epsilon^{2} \\cdot \\left(2 (u)_{xxx} + 12 (u)_{x} u\\right) - 2 (u)_{x} + O\\left(\\epsilon^{4}\\right)$"
      ],
      "text/plain": [
       "Eq(v_{T_{3}}, \\epsilon**2*(2*(u)_{xxx} + 12*(u)_{x}*u) - 2*(u)_{x} + O(\\epsilon**4))"
      ]
     },
     "metadata": {},
     "output_type": "display_data"
    },
    {
     "data": {
      "text/latex": [
       "$\\displaystyle u_{T_{4}} = \\epsilon^{2} \\left(\\frac{(u)_{xxxxx}}{4} - \\frac{3 (u)_{xxx} v}{4} + \\frac{9 (u)_{xx} (u)_{x}}{4} - \\frac{(u)_{xx} (v)_{x}}{4} + \\frac{3 (u)_{x} (v)_{xx}}{4} - \\frac{(v)_{xxxxx}}{4} + \\frac{13 (v)_{xxx} v}{4} + \\frac{29 (v)_{xx} (v)_{x}}{4} - \\frac{45 (v)_{x} v^{2}}{4}\\right) - 6 (v)_{x} v + (v)_{xxx} + O\\left(\\epsilon^{4}\\right)$"
      ],
      "text/plain": [
       "Eq(u_{T_{4}}, \\epsilon**2*((u)_{xxxxx}/4 - 3*(u)_{xxx}*v/4 + 9*(u)_{xx}*(u)_{x}/4 - (u)_{xx}*(v)_{x}/4 + 3*(u)_{x}*(v)_{xx}/4 - (v)_{xxxxx}/4 + 13*(v)_{xxx}*v/4 + 29*(v)_{xx}*(v)_{x}/4 - 45*(v)_{x}*v**2/4) - 6*(v)_{x}*v + (v)_{xxx} + O(\\epsilon**4))"
      ]
     },
     "metadata": {},
     "output_type": "display_data"
    },
    {
     "data": {
      "text/latex": [
       "$\\displaystyle v_{T_{4}} = \\epsilon^{2} \\left(\\frac{(u)_{xxxxx}}{4} + \\frac{13 (u)_{xxx} u}{4} + \\frac{29 (u)_{xx} (u)_{x}}{4} + \\frac{3 (u)_{xx} (v)_{x}}{4} - \\frac{(u)_{x} (v)_{xx}}{4} + \\frac{45 (u)_{x} u^{2}}{4} - \\frac{(v)_{xxxxx}}{4} - \\frac{3 (v)_{xxx} u}{4} + \\frac{9 (v)_{xx} (v)_{x}}{4}\\right) - 6 (u)_{x} u - (u)_{xxx} + O\\left(\\epsilon^{4}\\right)$"
      ],
      "text/plain": [
       "Eq(v_{T_{4}}, \\epsilon**2*((u)_{xxxxx}/4 + 13*(u)_{xxx}*u/4 + 29*(u)_{xx}*(u)_{x}/4 + 3*(u)_{xx}*(v)_{x}/4 - (u)_{x}*(v)_{xx}/4 + 45*(u)_{x}*u**2/4 - (v)_{xxxxx}/4 - 3*(v)_{xxx}*u/4 + 9*(v)_{xx}*(v)_{x}/4) - 6*(u)_{x}*u - (u)_{xxx} + O(\\epsilon**4))"
      ]
     },
     "metadata": {},
     "output_type": "display_data"
    },
    {
     "data": {
      "text/latex": [
       "$\\displaystyle u_{T_{5}} = \\epsilon^{2} \\cdot \\left(4 (v)_{xxx} - 24 (v)_{x} v\\right) + 2 (v)_{x} + O\\left(\\epsilon^{4}\\right)$"
      ],
      "text/plain": [
       "Eq(u_{T_{5}}, \\epsilon**2*(4*(v)_{xxx} - 24*(v)_{x}*v) + 2*(v)_{x} + O(\\epsilon**4))"
      ]
     },
     "metadata": {},
     "output_type": "display_data"
    },
    {
     "data": {
      "text/latex": [
       "$\\displaystyle v_{T_{5}} = \\epsilon^{2} \\cdot \\left(4 (u)_{xxx} + 24 (u)_{x} u\\right) + 2 (u)_{x} + O\\left(\\epsilon^{4}\\right)$"
      ],
      "text/plain": [
       "Eq(v_{T_{5}}, \\epsilon**2*(4*(u)_{xxx} + 24*(u)_{x}*u) + 2*(u)_{x} + O(\\epsilon**4))"
      ]
     },
     "metadata": {},
     "output_type": "display_data"
    },
    {
     "data": {
      "text/latex": [
       "$\\displaystyle u_{T_{6}} = \\epsilon^{2} \\left(- \\frac{(u)_{xxxxxxx}}{4} + \\frac{5 (u)_{xxxxx} v}{4} - 5 (u)_{xxxx} (u)_{x} + 2 (u)_{xxxx} (v)_{x} - \\frac{35 (u)_{xxx} (u)_{xx}}{4} + \\frac{5 (u)_{xxx} (v)_{xx}}{4} - \\frac{15 (u)_{xxx} v^{2}}{4} - \\frac{5 (u)_{xx} (v)_{xxx}}{4} - 5 (u)_{xx} (v)_{x} v - \\frac{15 (u)_{x}^{3}}{2} - \\frac{5 (u)_{x}^{2} (v)_{x}}{4} - \\frac{5 (u)_{x} (v)_{xxxx}}{2} + \\frac{15 (u)_{x} (v)_{xx} v}{2} + 5 (u)_{x} (v)_{x}^{2} + \\frac{(v)_{xxxxxxx}}{4} - \\frac{19 (v)_{xxxxx} v}{4} - \\frac{31 (v)_{xxxx} (v)_{x}}{2} - \\frac{105 (v)_{xxx} (v)_{xx}}{4} + 30 (v)_{xxx} v^{2} + \\frac{255 (v)_{xx} (v)_{x} v}{2} + \\frac{135 (v)_{x}^{3}}{4} - 70 (v)_{x} v^{3}\\right) - 30 (v)_{x} v^{2} + 20 (v)_{xx} (v)_{x} + 10 (v)_{xxx} v - (v)_{xxxxx} + O\\left(\\epsilon^{4}\\right)$"
      ],
      "text/plain": [
       "Eq(u_{T_{6}}, \\epsilon**2*(-(u)_{xxxxxxx}/4 + 5*(u)_{xxxxx}*v/4 - 5*(u)_{xxxx}*(u)_{x} + 2*(u)_{xxxx}*(v)_{x} - 35*(u)_{xxx}*(u)_{xx}/4 + 5*(u)_{xxx}*(v)_{xx}/4 - 15*(u)_{xxx}*v**2/4 - 5*(u)_{xx}*(v)_{xxx}/4 - 5*(u)_{xx}*(v)_{x}*v - 15*(u)_{x}**3/2 - 5*(u)_{x}**2*(v)_{x}/4 - 5*(u)_{x}*(v)_{xxxx}/2 + 15*(u)_{x}*(v)_{xx}*v/2 + 5*(u)_{x}*(v)_{x}**2 + (v)_{xxxxxxx}/4 - 19*(v)_{xxxxx}*v/4 - 31*(v)_{xxxx}*(v)_{x}/2 - 105*(v)_{xxx}*(v)_{xx}/4 + 30*(v)_{xxx}*v**2 + 255*(v)_{xx}*(v)_{x}*v/2 + 135*(v)_{x}**3/4 - 70*(v)_{x}*v**3) - 30*(v)_{x}*v**2 + 20*(v)_{xx}*(v)_{x} + 10*(v)_{xxx}*v - (v)_{xxxxx} + O(\\epsilon**4))"
      ]
     },
     "metadata": {},
     "output_type": "display_data"
    },
    {
     "data": {
      "text/latex": [
       "$\\displaystyle v_{T_{6}} = \\epsilon^{2} \\left(- \\frac{(u)_{xxxxxxx}}{4} - \\frac{19 (u)_{xxxxx} u}{4} - \\frac{31 (u)_{xxxx} (u)_{x}}{2} - \\frac{5 (u)_{xxxx} (v)_{x}}{2} - \\frac{105 (u)_{xxx} (u)_{xx}}{4} - \\frac{5 (u)_{xxx} (v)_{xx}}{4} - 30 (u)_{xxx} u^{2} - \\frac{255 (u)_{xx} (u)_{x} u}{2} + \\frac{5 (u)_{xx} (v)_{xxx}}{4} - \\frac{15 (u)_{xx} (v)_{x} u}{2} - \\frac{135 (u)_{x}^{3}}{4} - 5 (u)_{x}^{2} (v)_{x} + 2 (u)_{x} (v)_{xxxx} + 5 (u)_{x} (v)_{xx} u + \\frac{5 (u)_{x} (v)_{x}^{2}}{4} - 70 (u)_{x} u^{3} + \\frac{(v)_{xxxxxxx}}{4} + \\frac{5 (v)_{xxxxx} u}{4} - 5 (v)_{xxxx} (v)_{x} - \\frac{35 (v)_{xxx} (v)_{xx}}{4} + \\frac{15 (v)_{xxx} u^{2}}{4} + \\frac{15 (v)_{x}^{3}}{2}\\right) + 30 (u)_{x} u^{2} + 20 (u)_{xx} (u)_{x} + 10 (u)_{xxx} u + (u)_{xxxxx} + O\\left(\\epsilon^{4}\\right)$"
      ],
      "text/plain": [
       "Eq(v_{T_{6}}, \\epsilon**2*(-(u)_{xxxxxxx}/4 - 19*(u)_{xxxxx}*u/4 - 31*(u)_{xxxx}*(u)_{x}/2 - 5*(u)_{xxxx}*(v)_{x}/2 - 105*(u)_{xxx}*(u)_{xx}/4 - 5*(u)_{xxx}*(v)_{xx}/4 - 30*(u)_{xxx}*u**2 - 255*(u)_{xx}*(u)_{x}*u/2 + 5*(u)_{xx}*(v)_{xxx}/4 - 15*(u)_{xx}*(v)_{x}*u/2 - 135*(u)_{x}**3/4 - 5*(u)_{x}**2*(v)_{x} + 2*(u)_{x}*(v)_{xxxx} + 5*(u)_{x}*(v)_{xx}*u + 5*(u)_{x}*(v)_{x}**2/4 - 70*(u)_{x}*u**3 + (v)_{xxxxxxx}/4 + 5*(v)_{xxxxx}*u/4 - 5*(v)_{xxxx}*(v)_{x} - 35*(v)_{xxx}*(v)_{xx}/4 + 15*(v)_{xxx}*u**2/4 + 15*(v)_{x}**3/2) + 30*(u)_{x}*u**2 + 20*(u)_{xx}*(u)_{x} + 10*(u)_{xxx}*u + (u)_{xxxxx} + O(\\epsilon**4))"
      ]
     },
     "metadata": {},
     "output_type": "display_data"
    },
    {
     "data": {
      "text/latex": [
       "$\\displaystyle u_{T_{7}} = \\epsilon^{2} \\left(- 4 (v)_{xxx} + 24 (v)_{x} v\\right) - 4 (v)_{x} + O\\left(\\epsilon^{4}\\right)$"
      ],
      "text/plain": [
       "Eq(u_{T_{7}}, \\epsilon**2*(-4*(v)_{xxx} + 24*(v)_{x}*v) - 4*(v)_{x} + O(\\epsilon**4))"
      ]
     },
     "metadata": {},
     "output_type": "display_data"
    },
    {
     "data": {
      "text/latex": [
       "$\\displaystyle v_{T_{7}} = \\epsilon^{2} \\left(- 4 (u)_{xxx} - 24 (u)_{x} u\\right) - 4 (u)_{x} + O\\left(\\epsilon^{4}\\right)$"
      ],
      "text/plain": [
       "Eq(v_{T_{7}}, \\epsilon**2*(-4*(u)_{xxx} - 24*(u)_{x}*u) - 4*(u)_{x} + O(\\epsilon**4))"
      ]
     },
     "metadata": {},
     "output_type": "display_data"
    }
   ],
   "source": [
    "for n in range(0, N+1):\n",
    "    \n",
    "    #print(\"n =\", n)\n",
    "    nn = n - 1\n",
    "    max_order = 1\n",
    "    max_display_order = 5\n",
    "    hamiltonian = HH_eq[nn+1] #re(sig_eq[n]) if n % 2 == 1 else I * im(sig_eq[n])\n",
    "    evol = evolution(hamiltonian, max_order)\n",
    "    \n",
    "    if n % 2 == 0 and nn//2 == 0:\n",
    "        dtdT = epsilon * sqrt(2) / 2\n",
    "    elif nn % 2 == 0 and nn//2 > 0:\n",
    "        dtdT = epsiloninv**(2*(nn//2)-1) / sqrt(2)**(2*(nn//2)-1) / 2\n",
    "    elif nn % 2 == 1:\n",
    "        dtdT = epsiloninv / sqrt(2)\n",
    "        \n",
    "    display(Eq(Symbol('u_{T_{' + str(nn) + '}}'), polynomize(dtdT * evol[0]).subs(u, 0) + O(epsilon**4)))\n",
    "    display(Eq(Symbol('v_{T_{' + str(nn) + '}}'), polynomize(dtdT * evol[1]).subs(v, 0) + O(epsilon**4)))"
   ]
  },
  {
   "cell_type": "code",
   "execution_count": 9,
   "id": "332b0c67",
   "metadata": {},
   "outputs": [
    {
     "name": "stdout",
     "output_type": "stream",
     "text": [
      "moving on...\n"
     ]
    },
    {
     "name": "stderr",
     "output_type": "stream",
     "text": [
      "C:\\Users\\rober\\AppData\\Local\\Temp\\ipykernel_4936\\2110384835.py:83: SymPyDeprecationWarning: \n",
      "\n",
      "Mixing Poly with non-polynomial expressions in binary\n",
      "operations is deprecated. Either explicitly convert\n",
      "the non-Poly operand to a Poly with as_poly() or\n",
      "convert the Poly to an Expr with as_expr().\n",
      "\n",
      "See https://docs.sympy.org/latest/explanation/active-deprecations.html#deprecated-poly-nonpoly-binary-operations\n",
      "for details.\n",
      "\n",
      "This has been deprecated since SymPy version 1.6. It\n",
      "will be removed in a future version of SymPy.\n",
      "\n",
      "  display(Eq(Symbol('(W_+)_{T_{' + str(nn) + '}}'), polynomize(dtdT * uv_sub(evol[0])) + O(epsilon**4)))\n"
     ]
    },
    {
     "data": {
      "text/latex": [
       "$\\displaystyle (W_+)_{T_{-1}} = O\\left(\\epsilon^{4}\\right)$"
      ],
      "text/plain": [
       "Eq((W_+)_{T_{-1}}, O(\\epsilon**4))"
      ]
     },
     "metadata": {},
     "output_type": "display_data"
    },
    {
     "data": {
      "text/latex": [
       "$\\displaystyle (W_-)_{T_{-1}} = O\\left(\\epsilon^{4}\\right)$"
      ],
      "text/plain": [
       "Eq((W_-)_{T_{-1}}, O(\\epsilon**4))"
      ]
     },
     "metadata": {},
     "output_type": "display_data"
    },
    {
     "data": {
      "text/latex": [
       "$\\displaystyle (W_+)_{T_{0}} = O\\left(\\epsilon^{4}\\right)$"
      ],
      "text/plain": [
       "Eq((W_+)_{T_{0}}, O(\\epsilon**4))"
      ]
     },
     "metadata": {},
     "output_type": "display_data"
    },
    {
     "data": {
      "text/latex": [
       "$\\displaystyle (W_-)_{T_{0}} = O\\left(\\epsilon^{4}\\right)$"
      ],
      "text/plain": [
       "Eq((W_-)_{T_{0}}, O(\\epsilon**4))"
      ]
     },
     "metadata": {},
     "output_type": "display_data"
    },
    {
     "data": {
      "text/latex": [
       "$\\displaystyle (W_+)_{T_{1}} = O\\left(\\epsilon^{4}\\right)$"
      ],
      "text/plain": [
       "Eq((W_+)_{T_{1}}, O(\\epsilon**4))"
      ]
     },
     "metadata": {},
     "output_type": "display_data"
    },
    {
     "data": {
      "text/latex": [
       "$\\displaystyle (W_-)_{T_{1}} = O\\left(\\epsilon^{4}\\right)$"
      ],
      "text/plain": [
       "Eq((W_-)_{T_{1}}, O(\\epsilon**4))"
      ]
     },
     "metadata": {},
     "output_type": "display_data"
    },
    {
     "data": {
      "text/latex": [
       "$\\displaystyle (W_+)_{T_{2}} = \\epsilon^{2} \\left(\\frac{(W_+)_{x} W_{+}^{2}}{2} - \\frac{(W_+)_{x} W_{+} W_{-}}{2} - \\frac{(W_-)_{x} W_{+}^{2}}{4} + \\frac{(W_-)_{x} W_{-}^{2}}{4}\\right) - \\frac{(W_+)_{x}}{\\epsilon^{2}} + O\\left(\\epsilon^{4}\\right)$"
      ],
      "text/plain": [
       "Eq((W_+)_{T_{2}}, \\epsilon**2*((W_+)_{x}*W_+**2/2 - (W_+)_{x}*W_+*W_-/2 - (W_-)_{x}*W_+**2/4 + (W_-)_{x}*W_-**2/4) - (W_+)_{x}/\\epsilon**2 + O(\\epsilon**4))"
      ]
     },
     "metadata": {},
     "output_type": "display_data"
    },
    {
     "data": {
      "text/latex": [
       "$\\displaystyle (W_-)_{T_{2}} = \\epsilon^{2} \\left(\\frac{(W_+)_{x} W_{+}^{2}}{4} - \\frac{(W_+)_{x} W_{-}^{2}}{4} - \\frac{(W_-)_{x} W_{+} W_{-}}{2} + \\frac{(W_-)_{x} W_{-}^{2}}{2}\\right) - \\frac{(W_-)_{x}}{\\epsilon^{2}} + O\\left(\\epsilon^{4}\\right)$"
      ],
      "text/plain": [
       "Eq((W_-)_{T_{2}}, \\epsilon**2*((W_+)_{x}*W_+**2/4 - (W_+)_{x}*W_-**2/4 - (W_-)_{x}*W_+*W_-/2 + (W_-)_{x}*W_-**2/2) - (W_-)_{x}/\\epsilon**2 + O(\\epsilon**4))"
      ]
     },
     "metadata": {},
     "output_type": "display_data"
    },
    {
     "data": {
      "text/latex": [
       "$\\displaystyle (W_+)_{T_{3}} = O\\left(\\epsilon^{4}\\right)$"
      ],
      "text/plain": [
       "Eq((W_+)_{T_{3}}, O(\\epsilon**4))"
      ]
     },
     "metadata": {},
     "output_type": "display_data"
    },
    {
     "data": {
      "text/latex": [
       "$\\displaystyle (W_-)_{T_{3}} = O\\left(\\epsilon^{4}\\right)$"
      ],
      "text/plain": [
       "Eq((W_-)_{T_{3}}, O(\\epsilon**4))"
      ]
     },
     "metadata": {},
     "output_type": "display_data"
    },
    {
     "data": {
      "text/latex": [
       "$\\displaystyle (W_+)_{T_{4}} = \\frac{- (W_+)_{xxx} + 6 (W_+)_{x} W_{+}}{\\epsilon^{2}} + \\epsilon^{2} \\cdot \\left(\\frac{5 (W_+)_{xxx} W_{+}^{2}}{8} - \\frac{(W_+)_{xxx} W_{+} W_{-}}{2} - \\frac{(W_+)_{xxx} W_{-}^{2}}{8} + \\frac{7 (W_+)_{xx} (W_+)_{x} W_{+}}{4} - (W_+)_{xx} (W_+)_{x} W_{-} - \\frac{(W_+)_{xx} (W_-)_{x} W_{+}}{4} - \\frac{(W_+)_{xx} (W_-)_{x} W_{-}}{2} + \\frac{3 (W_+)_{x}^{3}}{8} - \\frac{3 (W_+)_{x}^{2} (W_-)_{x}}{8} - \\frac{(W_+)_{x} (W_-)_{xx} W_{+}}{2} - \\frac{(W_+)_{x} (W_-)_{xx} W_{-}}{4} - \\frac{3 (W_+)_{x} (W_-)_{x}^{2}}{8} - \\frac{9 (W_+)_{x} W_{+}^{3}}{4} + \\frac{15 (W_+)_{x} W_{+}^{2} W_{-}}{4} - \\frac{3 (W_+)_{x} W_{+} W_{-}^{2}}{4} - \\frac{3 (W_+)_{x} W_{-}^{3}}{4} - \\frac{3 (W_-)_{xxx} W_{+}^{2}}{8} + \\frac{3 (W_-)_{xxx} W_{-}^{2}}{8} - (W_-)_{xx} (W_-)_{x} W_{+} + \\frac{7 (W_-)_{xx} (W_-)_{x} W_{-}}{4} + \\frac{3 (W_-)_{x}^{3}}{8} + \\frac{3 (W_-)_{x} W_{+}^{3}}{4} - \\frac{3 (W_-)_{x} W_{+}^{2} W_{-}}{4} - \\frac{3 (W_-)_{x} W_{+} W_{-}^{2}}{4} + \\frac{3 (W_-)_{x} W_{-}^{3}}{4}\\right) + \\frac{9 (W_-)_{xx} (W_-)_{x}}{4} + \\frac{3 (W_-)_{xxx} W_{-}}{4} + \\frac{3 (W_-)_{xxx} W_{+}}{4} + \\frac{3 (W_+)_{x} W_{-}^{2}}{4} + \\frac{3 (W_+)_{x} W_{+} W_{-}}{2} + \\frac{15 (W_+)_{x} W_{+}^{2}}{4} + \\frac{3 (W_+)_{x} (W_-)_{xx}}{4} - \\frac{3 (W_+)_{xx} (W_-)_{x}}{4} - \\frac{9 (W_+)_{xx} (W_+)_{x}}{4} - \\frac{3 (W_+)_{xxx} W_{-}}{4} - \\frac{3 (W_+)_{xxx} W_{+}}{4} + O\\left(\\epsilon^{4}\\right)$"
      ],
      "text/plain": [
       "Eq((W_+)_{T_{4}}, (-(W_+)_{xxx} + 6*(W_+)_{x}*W_+)/\\epsilon**2 + \\epsilon**2*(5*(W_+)_{xxx}*W_+**2/8 - (W_+)_{xxx}*W_+*W_-/2 - (W_+)_{xxx}*W_-**2/8 + 7*(W_+)_{xx}*(W_+)_{x}*W_+/4 - (W_+)_{xx}*(W_+)_{x}*W_- - (W_+)_{xx}*(W_-)_{x}*W_+/4 - (W_+)_{xx}*(W_-)_{x}*W_-/2 + 3*(W_+)_{x}**3/8 - 3*(W_+)_{x}**2*(W_-)_{x}/8 - (W_+)_{x}*(W_-)_{xx}*W_+/2 - (W_+)_{x}*(W_-)_{xx}*W_-/4 - 3*(W_+)_{x}*(W_-)_{x}**2/8 - 9*(W_+)_{x}*W_+**3/4 + 15*(W_+)_{x}*W_+**2*W_-/4 - 3*(W_+)_{x}*W_+*W_-**2/4 - 3*(W_+)_{x}*W_-**3/4 - 3*(W_-)_{xxx}*W_+**2/8 + 3*(W_-)_{xxx}*W_-**2/8 - (W_-)_{xx}*(W_-)_{x}*W_+ + 7*(W_-)_{xx}*(W_-)_{x}*W_-/4 + 3*(W_-)_{x}**3/8 + 3*(W_-)_{x}*W_+**3/4 - 3*(W_-)_{x}*W_+**2*W_-/4 - 3*(W_-)_{x}*W_+*W_-**2/4 + 3*(W_-)_{x}*W_-**3/4) + 9*(W_-)_{xx}*(W_-)_{x}/4 + 3*(W_-)_{xxx}*W_-/4 + 3*(W_-)_{xxx}*W_+/4 + 3*(W_+)_{x}*W_-**2/4 + 3*(W_+)_{x}*W_+*W_-/2 + 15*(W_+)_{x}*W_+**2/4 + 3*(W_+)_{x}*(W_-)_{xx}/4 - 3*(W_+)_{xx}*(W_-)_{x}/4 - 9*(W_+)_{xx}*(W_+)_{x}/4 - 3*(W_+)_{xxx}*W_-/4 - 3*(W_+)_{xxx}*W_+/4 + O(\\epsilon**4))"
      ]
     },
     "metadata": {},
     "output_type": "display_data"
    },
    {
     "data": {
      "text/latex": [
       "$\\displaystyle (W_-)_{T_{4}} = \\frac{- (W_-)_{xxx} - 6 (W_-)_{x} W_{-}}{\\epsilon^{2}} + \\epsilon^{2} \\cdot \\left(\\frac{3 (W_+)_{xxx} W_{+}^{2}}{8} - \\frac{3 (W_+)_{xxx} W_{-}^{2}}{8} + \\frac{7 (W_+)_{xx} (W_+)_{x} W_{+}}{4} - (W_+)_{xx} (W_+)_{x} W_{-} - \\frac{(W_+)_{xx} (W_-)_{x} W_{+}}{4} - \\frac{(W_+)_{xx} (W_-)_{x} W_{-}}{2} + \\frac{3 (W_+)_{x}^{3}}{8} - \\frac{3 (W_+)_{x}^{2} (W_-)_{x}}{8} - \\frac{(W_+)_{x} (W_-)_{xx} W_{+}}{2} - \\frac{(W_+)_{x} (W_-)_{xx} W_{-}}{4} - \\frac{3 (W_+)_{x} (W_-)_{x}^{2}}{8} - \\frac{3 (W_+)_{x} W_{+}^{3}}{4} + \\frac{3 (W_+)_{x} W_{+}^{2} W_{-}}{4} + \\frac{3 (W_+)_{x} W_{+} W_{-}^{2}}{4} - \\frac{3 (W_+)_{x} W_{-}^{3}}{4} - \\frac{(W_-)_{xxx} W_{+}^{2}}{8} - \\frac{(W_-)_{xxx} W_{+} W_{-}}{2} + \\frac{5 (W_-)_{xxx} W_{-}^{2}}{8} - (W_-)_{xx} (W_-)_{x} W_{+} + \\frac{7 (W_-)_{xx} (W_-)_{x} W_{-}}{4} + \\frac{3 (W_-)_{x}^{3}}{8} + \\frac{3 (W_-)_{x} W_{+}^{3}}{4} + \\frac{3 (W_-)_{x} W_{+}^{2} W_{-}}{4} - \\frac{15 (W_-)_{x} W_{+} W_{-}^{2}}{4} + \\frac{9 (W_-)_{x} W_{-}^{3}}{4}\\right) + \\frac{15 (W_-)_{x} W_{-}^{2}}{4} + \\frac{3 (W_-)_{x} W_{+} W_{-}}{2} + \\frac{3 (W_-)_{x} W_{+}^{2}}{4} + \\frac{9 (W_-)_{xx} (W_-)_{x}}{4} + \\frac{3 (W_-)_{xxx} W_{-}}{4} + \\frac{3 (W_-)_{xxx} W_{+}}{4} + \\frac{3 (W_+)_{x} (W_-)_{xx}}{4} - \\frac{3 (W_+)_{xx} (W_-)_{x}}{4} - \\frac{9 (W_+)_{xx} (W_+)_{x}}{4} - \\frac{3 (W_+)_{xxx} W_{-}}{4} - \\frac{3 (W_+)_{xxx} W_{+}}{4} + O\\left(\\epsilon^{4}\\right)$"
      ],
      "text/plain": [
       "Eq((W_-)_{T_{4}}, (-(W_-)_{xxx} - 6*(W_-)_{x}*W_-)/\\epsilon**2 + \\epsilon**2*(3*(W_+)_{xxx}*W_+**2/8 - 3*(W_+)_{xxx}*W_-**2/8 + 7*(W_+)_{xx}*(W_+)_{x}*W_+/4 - (W_+)_{xx}*(W_+)_{x}*W_- - (W_+)_{xx}*(W_-)_{x}*W_+/4 - (W_+)_{xx}*(W_-)_{x}*W_-/2 + 3*(W_+)_{x}**3/8 - 3*(W_+)_{x}**2*(W_-)_{x}/8 - (W_+)_{x}*(W_-)_{xx}*W_+/2 - (W_+)_{x}*(W_-)_{xx}*W_-/4 - 3*(W_+)_{x}*(W_-)_{x}**2/8 - 3*(W_+)_{x}*W_+**3/4 + 3*(W_+)_{x}*W_+**2*W_-/4 + 3*(W_+)_{x}*W_+*W_-**2/4 - 3*(W_+)_{x}*W_-**3/4 - (W_-)_{xxx}*W_+**2/8 - (W_-)_{xxx}*W_+*W_-/2 + 5*(W_-)_{xxx}*W_-**2/8 - (W_-)_{xx}*(W_-)_{x}*W_+ + 7*(W_-)_{xx}*(W_-)_{x}*W_-/4 + 3*(W_-)_{x}**3/8 + 3*(W_-)_{x}*W_+**3/4 + 3*(W_-)_{x}*W_+**2*W_-/4 - 15*(W_-)_{x}*W_+*W_-**2/4 + 9*(W_-)_{x}*W_-**3/4) + 15*(W_-)_{x}*W_-**2/4 + 3*(W_-)_{x}*W_+*W_-/2 + 3*(W_-)_{x}*W_+**2/4 + 9*(W_-)_{xx}*(W_-)_{x}/4 + 3*(W_-)_{xxx}*W_-/4 + 3*(W_-)_{xxx}*W_+/4 + 3*(W_+)_{x}*(W_-)_{xx}/4 - 3*(W_+)_{xx}*(W_-)_{x}/4 - 9*(W_+)_{xx}*(W_+)_{x}/4 - 3*(W_+)_{xxx}*W_-/4 - 3*(W_+)_{xxx}*W_+/4 + O(\\epsilon**4))"
      ]
     },
     "metadata": {},
     "output_type": "display_data"
    },
    {
     "data": {
      "text/latex": [
       "$\\displaystyle (W_+)_{T_{5}} = O\\left(\\epsilon^{4}\\right)$"
      ],
      "text/plain": [
       "Eq((W_+)_{T_{5}}, O(\\epsilon**4))"
      ]
     },
     "metadata": {},
     "output_type": "display_data"
    },
    {
     "data": {
      "text/latex": [
       "$\\displaystyle (W_-)_{T_{5}} = O\\left(\\epsilon^{4}\\right)$"
      ],
      "text/plain": [
       "Eq((W_-)_{T_{5}}, O(\\epsilon**4))"
      ]
     },
     "metadata": {},
     "output_type": "display_data"
    },
    {
     "data": {
      "text/latex": [
       "$\\displaystyle (W_+)_{T_{6}} = \\frac{- (W_+)_{xxxxx} + 10 (W_+)_{xxx} W_{+} + 20 (W_+)_{xx} (W_+)_{x} - 30 (W_+)_{x} W_{+}^{2}}{\\epsilon^{2}} + \\epsilon^{2} \\cdot \\left(\\frac{7 (W_+)_{xxxxx} W_{+}^{2}}{8} - \\frac{(W_+)_{xxxxx} W_{+} W_{-}}{2} - \\frac{3 (W_+)_{xxxxx} W_{-}^{2}}{8} + \\frac{27 (W_+)_{xxxx} (W_+)_{x} W_{+}}{8} - \\frac{17 (W_+)_{xxxx} (W_+)_{x} W_{-}}{8} + \\frac{3 (W_+)_{xxxx} (W_-)_{x} W_{+}}{8} - \\frac{13 (W_+)_{xxxx} (W_-)_{x} W_{-}}{8} + \\frac{35 (W_+)_{xxx} (W_+)_{xx} W_{+}}{8} - \\frac{35 (W_+)_{xxx} (W_+)_{xx} W_{-}}{8} + \\frac{15 (W_+)_{xxx} (W_+)_{x}^{2}}{8} - \\frac{5 (W_+)_{xxx} (W_+)_{x} (W_-)_{x}}{4} + \\frac{5 (W_+)_{xxx} (W_-)_{xx} W_{+}}{8} - \\frac{5 (W_+)_{xxx} (W_-)_{xx} W_{-}}{8} - \\frac{5 (W_+)_{xxx} (W_-)_{x}^{2}}{8} - \\frac{35 (W_+)_{xxx} W_{+}^{3}}{16} + \\frac{155 (W_+)_{xxx} W_{+}^{2} W_{-}}{16} + \\frac{35 (W_+)_{xxx} W_{+} W_{-}^{2}}{16} + \\frac{5 (W_+)_{xxx} W_{-}^{3}}{16} + \\frac{5 (W_+)_{xx}^{2} (W_+)_{x}}{4} - \\frac{5 (W_+)_{xx}^{2} (W_-)_{x}}{4} - \\frac{15 (W_+)_{xx} (W_+)_{x} W_{+}^{2}}{16} + \\frac{325 (W_+)_{xx} (W_+)_{x} W_{+} W_{-}}{8} + \\frac{85 (W_+)_{xx} (W_+)_{x} W_{-}^{2}}{16} - \\frac{5 (W_+)_{xx} (W_-)_{xxx} W_{+}}{8} + \\frac{5 (W_+)_{xx} (W_-)_{xxx} W_{-}}{8} + \\frac{115 (W_+)_{xx} (W_-)_{x} W_{+}^{2}}{16} + \\frac{55 (W_+)_{xx} (W_-)_{x} W_{+} W_{-}}{8} + \\frac{15 (W_+)_{xx} (W_-)_{x} W_{-}^{2}}{16} + \\frac{35 (W_+)_{x}^{3} W_{+}}{8} + \\frac{85 (W_+)_{x}^{3} W_{-}}{8} - \\frac{5 (W_+)_{x}^{2} (W_-)_{xxx}}{8} + \\frac{85 (W_+)_{x}^{2} (W_-)_{x} W_{+}}{8} + \\frac{35 (W_+)_{x}^{2} (W_-)_{x} W_{-}}{8} - \\frac{13 (W_+)_{x} (W_-)_{xxxx} W_{+}}{8} + \\frac{3 (W_+)_{x} (W_-)_{xxxx} W_{-}}{8} - \\frac{5 (W_+)_{x} (W_-)_{xxx} (W_-)_{x}}{4} - \\frac{5 (W_+)_{x} (W_-)_{xx}^{2}}{4} - \\frac{15 (W_+)_{x} (W_-)_{xx} W_{+}^{2}}{16} - \\frac{55 (W_+)_{x} (W_-)_{xx} W_{+} W_{-}}{8} - \\frac{115 (W_+)_{x} (W_-)_{xx} W_{-}^{2}}{16} - \\frac{35 (W_+)_{x} (W_-)_{x}^{2} W_{+}}{8} - \\frac{85 (W_+)_{x} (W_-)_{x}^{2} W_{-}}{8} + \\frac{5 (W_+)_{x} W_{+}^{4}}{32} - \\frac{175 (W_+)_{x} W_{+}^{3} W_{-}}{8} + \\frac{75 (W_+)_{x} W_{+}^{2} W_{-}^{2}}{16} + \\frac{5 (W_+)_{x} W_{+} W_{-}^{3}}{8} - \\frac{115 (W_+)_{x} W_{-}^{4}}{32} - \\frac{5 (W_-)_{xxxxx} W_{+}^{2}}{8} + \\frac{5 (W_-)_{xxxxx} W_{-}^{2}}{8} - \\frac{17 (W_-)_{xxxx} (W_-)_{x} W_{+}}{8} + \\frac{27 (W_-)_{xxxx} (W_-)_{x} W_{-}}{8} - \\frac{35 (W_-)_{xxx} (W_-)_{xx} W_{+}}{8} + \\frac{35 (W_-)_{xxx} (W_-)_{xx} W_{-}}{8} + \\frac{15 (W_-)_{xxx} (W_-)_{x}^{2}}{8} - \\frac{5 (W_-)_{xxx} W_{+}^{3}}{16} - \\frac{75 (W_-)_{xxx} W_{+}^{2} W_{-}}{16} - \\frac{75 (W_-)_{xxx} W_{+} W_{-}^{2}}{16} - \\frac{5 (W_-)_{xxx} W_{-}^{3}}{16} + \\frac{5 (W_-)_{xx}^{2} (W_-)_{x}}{4} - \\frac{165 (W_-)_{xx} (W_-)_{x} W_{+}^{2}}{16} - \\frac{245 (W_-)_{xx} (W_-)_{x} W_{+} W_{-}}{8} - \\frac{65 (W_-)_{xx} (W_-)_{x} W_{-}^{2}}{16} - \\frac{85 (W_-)_{x}^{3} W_{+}}{8} - \\frac{35 (W_-)_{x}^{3} W_{-}}{8} - \\frac{5 (W_-)_{x} W_{+}^{4}}{2} + \\frac{5 (W_-)_{x} W_{+}^{3} W_{-}}{2} - \\frac{5 (W_-)_{x} W_{+} W_{-}^{3}}{2} + \\frac{5 (W_-)_{x} W_{-}^{4}}{2}\\right) + \\frac{15 (W_-)_{x}^{3}}{2} + \\frac{45 (W_-)_{xx} (W_-)_{x} W_{-}}{2} + \\frac{15 (W_-)_{xxx} W_{-}^{2}}{4} - \\frac{15 (W_-)_{xxx} W_{+}^{2}}{4} + \\frac{35 (W_-)_{xxx} (W_-)_{xx}}{4} + 5 (W_-)_{xxxx} (W_-)_{x} + \\frac{5 (W_-)_{xxxxx} W_{-}}{4} + \\frac{5 (W_-)_{xxxxx} W_{+}}{4} + \\frac{5 (W_+)_{x} W_{-}^{3}}{2} - \\frac{15 (W_+)_{x} W_{+}^{2} W_{-}}{2} - 35 (W_+)_{x} W_{+}^{3} + \\frac{5 (W_+)_{x} (W_-)_{x}^{2}}{4} + \\frac{5 (W_+)_{x} (W_-)_{xx} W_{-}}{2} - 5 (W_+)_{x} (W_-)_{xx} W_{+} + \\frac{5 (W_+)_{x} (W_-)_{xxxx}}{2} + 5 (W_+)_{x}^{2} (W_-)_{x} + \\frac{65 (W_+)_{x}^{3}}{4} + \\frac{15 (W_+)_{xx} (W_-)_{x} W_{+}}{2} + \\frac{5 (W_+)_{xx} (W_-)_{xxx}}{4} + 15 (W_+)_{xx} (W_+)_{x} W_{-} + \\frac{115 (W_+)_{xx} (W_+)_{x} W_{+}}{2} + \\frac{15 (W_+)_{xxx} W_{+} W_{-}}{2} + \\frac{25 (W_+)_{xxx} W_{+}^{2}}{2} - \\frac{5 (W_+)_{xxx} (W_-)_{xx}}{4} - \\frac{35 (W_+)_{xxx} (W_+)_{xx}}{4} - \\frac{5 (W_+)_{xxxx} (W_-)_{x}}{2} - 5 (W_+)_{xxxx} (W_+)_{x} - \\frac{5 (W_+)_{xxxxx} W_{-}}{4} - \\frac{5 (W_+)_{xxxxx} W_{+}}{4} + O\\left(\\epsilon^{4}\\right)$"
      ],
      "text/plain": [
       "Eq((W_+)_{T_{6}}, (-(W_+)_{xxxxx} + 10*(W_+)_{xxx}*W_+ + 20*(W_+)_{xx}*(W_+)_{x} - 30*(W_+)_{x}*W_+**2)/\\epsilon**2 + \\epsilon**2*(7*(W_+)_{xxxxx}*W_+**2/8 - (W_+)_{xxxxx}*W_+*W_-/2 - 3*(W_+)_{xxxxx}*W_-**2/8 + 27*(W_+)_{xxxx}*(W_+)_{x}*W_+/8 - 17*(W_+)_{xxxx}*(W_+)_{x}*W_-/8 + 3*(W_+)_{xxxx}*(W_-)_{x}*W_+/8 - 13*(W_+)_{xxxx}*(W_-)_{x}*W_-/8 + 35*(W_+)_{xxx}*(W_+)_{xx}*W_+/8 - 35*(W_+)_{xxx}*(W_+)_{xx}*W_-/8 + 15*(W_+)_{xxx}*(W_+)_{x}**2/8 - 5*(W_+)_{xxx}*(W_+)_{x}*(W_-)_{x}/4 + 5*(W_+)_{xxx}*(W_-)_{xx}*W_+/8 - 5*(W_+)_{xxx}*(W_-)_{xx}*W_-/8 - 5*(W_+)_{xxx}*(W_-)_{x}**2/8 - 35*(W_+)_{xxx}*W_+**3/16 + 155*(W_+)_{xxx}*W_+**2*W_-/16 + 35*(W_+)_{xxx}*W_+*W_-**2/16 + 5*(W_+)_{xxx}*W_-**3/16 + 5*(W_+)_{xx}**2*(W_+)_{x}/4 - 5*(W_+)_{xx}**2*(W_-)_{x}/4 - 15*(W_+)_{xx}*(W_+)_{x}*W_+**2/16 + 325*(W_+)_{xx}*(W_+)_{x}*W_+*W_-/8 + 85*(W_+)_{xx}*(W_+)_{x}*W_-**2/16 - 5*(W_+)_{xx}*(W_-)_{xxx}*W_+/8 + 5*(W_+)_{xx}*(W_-)_{xxx}*W_-/8 + 115*(W_+)_{xx}*(W_-)_{x}*W_+**2/16 + 55*(W_+)_{xx}*(W_-)_{x}*W_+*W_-/8 + 15*(W_+)_{xx}*(W_-)_{x}*W_-**2/16 + 35*(W_+)_{x}**3*W_+/8 + 85*(W_+)_{x}**3*W_-/8 - 5*(W_+)_{x}**2*(W_-)_{xxx}/8 + 85*(W_+)_{x}**2*(W_-)_{x}*W_+/8 + 35*(W_+)_{x}**2*(W_-)_{x}*W_-/8 - 13*(W_+)_{x}*(W_-)_{xxxx}*W_+/8 + 3*(W_+)_{x}*(W_-)_{xxxx}*W_-/8 - 5*(W_+)_{x}*(W_-)_{xxx}*(W_-)_{x}/4 - 5*(W_+)_{x}*(W_-)_{xx}**2/4 - 15*(W_+)_{x}*(W_-)_{xx}*W_+**2/16 - 55*(W_+)_{x}*(W_-)_{xx}*W_+*W_-/8 - 115*(W_+)_{x}*(W_-)_{xx}*W_-**2/16 - 35*(W_+)_{x}*(W_-)_{x}**2*W_+/8 - 85*(W_+)_{x}*(W_-)_{x}**2*W_-/8 + 5*(W_+)_{x}*W_+**4/32 - 175*(W_+)_{x}*W_+**3*W_-/8 + 75*(W_+)_{x}*W_+**2*W_-**2/16 + 5*(W_+)_{x}*W_+*W_-**3/8 - 115*(W_+)_{x}*W_-**4/32 - 5*(W_-)_{xxxxx}*W_+**2/8 + 5*(W_-)_{xxxxx}*W_-**2/8 - 17*(W_-)_{xxxx}*(W_-)_{x}*W_+/8 + 27*(W_-)_{xxxx}*(W_-)_{x}*W_-/8 - 35*(W_-)_{xxx}*(W_-)_{xx}*W_+/8 + 35*(W_-)_{xxx}*(W_-)_{xx}*W_-/8 + 15*(W_-)_{xxx}*(W_-)_{x}**2/8 - 5*(W_-)_{xxx}*W_+**3/16 - 75*(W_-)_{xxx}*W_+**2*W_-/16 - 75*(W_-)_{xxx}*W_+*W_-**2/16 - 5*(W_-)_{xxx}*W_-**3/16 + 5*(W_-)_{xx}**2*(W_-)_{x}/4 - 165*(W_-)_{xx}*(W_-)_{x}*W_+**2/16 - 245*(W_-)_{xx}*(W_-)_{x}*W_+*W_-/8 - 65*(W_-)_{xx}*(W_-)_{x}*W_-**2/16 - 85*(W_-)_{x}**3*W_+/8 - 35*(W_-)_{x}**3*W_-/8 - 5*(W_-)_{x}*W_+**4/2 + 5*(W_-)_{x}*W_+**3*W_-/2 - 5*(W_-)_{x}*W_+*W_-**3/2 + 5*(W_-)_{x}*W_-**4/2) + 15*(W_-)_{x}**3/2 + 45*(W_-)_{xx}*(W_-)_{x}*W_-/2 + 15*(W_-)_{xxx}*W_-**2/4 - 15*(W_-)_{xxx}*W_+**2/4 + 35*(W_-)_{xxx}*(W_-)_{xx}/4 + 5*(W_-)_{xxxx}*(W_-)_{x} + 5*(W_-)_{xxxxx}*W_-/4 + 5*(W_-)_{xxxxx}*W_+/4 + 5*(W_+)_{x}*W_-**3/2 - 15*(W_+)_{x}*W_+**2*W_-/2 - 35*(W_+)_{x}*W_+**3 + 5*(W_+)_{x}*(W_-)_{x}**2/4 + 5*(W_+)_{x}*(W_-)_{xx}*W_-/2 - 5*(W_+)_{x}*(W_-)_{xx}*W_+ + 5*(W_+)_{x}*(W_-)_{xxxx}/2 + 5*(W_+)_{x}**2*(W_-)_{x} + 65*(W_+)_{x}**3/4 + 15*(W_+)_{xx}*(W_-)_{x}*W_+/2 + 5*(W_+)_{xx}*(W_-)_{xxx}/4 + 15*(W_+)_{xx}*(W_+)_{x}*W_- + 115*(W_+)_{xx}*(W_+)_{x}*W_+/2 + 15*(W_+)_{xxx}*W_+*W_-/2 + 25*(W_+)_{xxx}*W_+**2/2 - 5*(W_+)_{xxx}*(W_-)_{xx}/4 - 35*(W_+)_{xxx}*(W_+)_{xx}/4 - 5*(W_+)_{xxxx}*(W_-)_{x}/2 - 5*(W_+)_{xxxx}*(W_+)_{x} - 5*(W_+)_{xxxxx}*W_-/4 - 5*(W_+)_{xxxxx}*W_+/4 + O(\\epsilon**4))"
      ]
     },
     "metadata": {},
     "output_type": "display_data"
    },
    {
     "data": {
      "text/latex": [
       "$\\displaystyle (W_-)_{T_{6}} = \\frac{- (W_-)_{xxxxx} - 10 (W_-)_{xxx} W_{-} - 20 (W_-)_{xx} (W_-)_{x} - 30 (W_-)_{x} W_{-}^{2}}{\\epsilon^{2}} + \\epsilon^{2} \\cdot \\left(\\frac{5 (W_+)_{xxxxx} W_{+}^{2}}{8} - \\frac{5 (W_+)_{xxxxx} W_{-}^{2}}{8} + \\frac{27 (W_+)_{xxxx} (W_+)_{x} W_{+}}{8} - \\frac{17 (W_+)_{xxxx} (W_+)_{x} W_{-}}{8} + \\frac{3 (W_+)_{xxxx} (W_-)_{x} W_{+}}{8} - \\frac{13 (W_+)_{xxxx} (W_-)_{x} W_{-}}{8} + \\frac{35 (W_+)_{xxx} (W_+)_{xx} W_{+}}{8} - \\frac{35 (W_+)_{xxx} (W_+)_{xx} W_{-}}{8} + \\frac{15 (W_+)_{xxx} (W_+)_{x}^{2}}{8} - \\frac{5 (W_+)_{xxx} (W_+)_{x} (W_-)_{x}}{4} + \\frac{5 (W_+)_{xxx} (W_-)_{xx} W_{+}}{8} - \\frac{5 (W_+)_{xxx} (W_-)_{xx} W_{-}}{8} - \\frac{5 (W_+)_{xxx} (W_-)_{x}^{2}}{8} + \\frac{5 (W_+)_{xxx} W_{+}^{3}}{16} + \\frac{75 (W_+)_{xxx} W_{+}^{2} W_{-}}{16} + \\frac{75 (W_+)_{xxx} W_{+} W_{-}^{2}}{16} + \\frac{5 (W_+)_{xxx} W_{-}^{3}}{16} + \\frac{5 (W_+)_{xx}^{2} (W_+)_{x}}{4} - \\frac{5 (W_+)_{xx}^{2} (W_-)_{x}}{4} + \\frac{65 (W_+)_{xx} (W_+)_{x} W_{+}^{2}}{16} + \\frac{245 (W_+)_{xx} (W_+)_{x} W_{+} W_{-}}{8} + \\frac{165 (W_+)_{xx} (W_+)_{x} W_{-}^{2}}{16} - \\frac{5 (W_+)_{xx} (W_-)_{xxx} W_{+}}{8} + \\frac{5 (W_+)_{xx} (W_-)_{xxx} W_{-}}{8} + \\frac{115 (W_+)_{xx} (W_-)_{x} W_{+}^{2}}{16} + \\frac{55 (W_+)_{xx} (W_-)_{x} W_{+} W_{-}}{8} + \\frac{15 (W_+)_{xx} (W_-)_{x} W_{-}^{2}}{16} + \\frac{35 (W_+)_{x}^{3} W_{+}}{8} + \\frac{85 (W_+)_{x}^{3} W_{-}}{8} - \\frac{5 (W_+)_{x}^{2} (W_-)_{xxx}}{8} + \\frac{85 (W_+)_{x}^{2} (W_-)_{x} W_{+}}{8} + \\frac{35 (W_+)_{x}^{2} (W_-)_{x} W_{-}}{8} - \\frac{13 (W_+)_{x} (W_-)_{xxxx} W_{+}}{8} + \\frac{3 (W_+)_{x} (W_-)_{xxxx} W_{-}}{8} - \\frac{5 (W_+)_{x} (W_-)_{xxx} (W_-)_{x}}{4} - \\frac{5 (W_+)_{x} (W_-)_{xx}^{2}}{4} - \\frac{15 (W_+)_{x} (W_-)_{xx} W_{+}^{2}}{16} - \\frac{55 (W_+)_{x} (W_-)_{xx} W_{+} W_{-}}{8} - \\frac{115 (W_+)_{x} (W_-)_{xx} W_{-}^{2}}{16} - \\frac{35 (W_+)_{x} (W_-)_{x}^{2} W_{+}}{8} - \\frac{85 (W_+)_{x} (W_-)_{x}^{2} W_{-}}{8} + \\frac{5 (W_+)_{x} W_{+}^{4}}{2} - \\frac{5 (W_+)_{x} W_{+}^{3} W_{-}}{2} + \\frac{5 (W_+)_{x} W_{+} W_{-}^{3}}{2} - \\frac{5 (W_+)_{x} W_{-}^{4}}{2} - \\frac{3 (W_-)_{xxxxx} W_{+}^{2}}{8} - \\frac{(W_-)_{xxxxx} W_{+} W_{-}}{2} + \\frac{7 (W_-)_{xxxxx} W_{-}^{2}}{8} - \\frac{17 (W_-)_{xxxx} (W_-)_{x} W_{+}}{8} + \\frac{27 (W_-)_{xxxx} (W_-)_{x} W_{-}}{8} - \\frac{35 (W_-)_{xxx} (W_-)_{xx} W_{+}}{8} + \\frac{35 (W_-)_{xxx} (W_-)_{xx} W_{-}}{8} + \\frac{15 (W_-)_{xxx} (W_-)_{x}^{2}}{8} - \\frac{5 (W_-)_{xxx} W_{+}^{3}}{16} - \\frac{35 (W_-)_{xxx} W_{+}^{2} W_{-}}{16} - \\frac{155 (W_-)_{xxx} W_{+} W_{-}^{2}}{16} + \\frac{35 (W_-)_{xxx} W_{-}^{3}}{16} + \\frac{5 (W_-)_{xx}^{2} (W_-)_{x}}{4} - \\frac{85 (W_-)_{xx} (W_-)_{x} W_{+}^{2}}{16} - \\frac{325 (W_-)_{xx} (W_-)_{x} W_{+} W_{-}}{8} + \\frac{15 (W_-)_{xx} (W_-)_{x} W_{-}^{2}}{16} - \\frac{85 (W_-)_{x}^{3} W_{+}}{8} - \\frac{35 (W_-)_{x}^{3} W_{-}}{8} - \\frac{115 (W_-)_{x} W_{+}^{4}}{32} + \\frac{5 (W_-)_{x} W_{+}^{3} W_{-}}{8} + \\frac{75 (W_-)_{x} W_{+}^{2} W_{-}^{2}}{16} - \\frac{175 (W_-)_{x} W_{+} W_{-}^{3}}{8} + \\frac{5 (W_-)_{x} W_{-}^{4}}{32}\\right) + 35 (W_-)_{x} W_{-}^{3} + \\frac{15 (W_-)_{x} W_{+} W_{-}^{2}}{2} - \\frac{5 (W_-)_{x} W_{+}^{3}}{2} + \\frac{65 (W_-)_{x}^{3}}{4} + \\frac{115 (W_-)_{xx} (W_-)_{x} W_{-}}{2} + 15 (W_-)_{xx} (W_-)_{x} W_{+} + \\frac{25 (W_-)_{xxx} W_{-}^{2}}{2} + \\frac{15 (W_-)_{xxx} W_{+} W_{-}}{2} + \\frac{35 (W_-)_{xxx} (W_-)_{xx}}{4} + 5 (W_-)_{xxxx} (W_-)_{x} + \\frac{5 (W_-)_{xxxxx} W_{-}}{4} + \\frac{5 (W_-)_{xxxxx} W_{+}}{4} + 5 (W_+)_{x} (W_-)_{x}^{2} + \\frac{15 (W_+)_{x} (W_-)_{xx} W_{-}}{2} + \\frac{5 (W_+)_{x} (W_-)_{xxxx}}{2} + \\frac{5 (W_+)_{x}^{2} (W_-)_{x}}{4} + \\frac{15 (W_+)_{x}^{3}}{2} - 5 (W_+)_{xx} (W_-)_{x} W_{-} + \\frac{5 (W_+)_{xx} (W_-)_{x} W_{+}}{2} + \\frac{5 (W_+)_{xx} (W_-)_{xxx}}{4} + \\frac{45 (W_+)_{xx} (W_+)_{x} W_{+}}{2} - \\frac{15 (W_+)_{xxx} W_{-}^{2}}{4} + \\frac{15 (W_+)_{xxx} W_{+}^{2}}{4} - \\frac{5 (W_+)_{xxx} (W_-)_{xx}}{4} - \\frac{35 (W_+)_{xxx} (W_+)_{xx}}{4} - \\frac{5 (W_+)_{xxxx} (W_-)_{x}}{2} - 5 (W_+)_{xxxx} (W_+)_{x} - \\frac{5 (W_+)_{xxxxx} W_{-}}{4} - \\frac{5 (W_+)_{xxxxx} W_{+}}{4} + O\\left(\\epsilon^{4}\\right)$"
      ],
      "text/plain": [
       "Eq((W_-)_{T_{6}}, (-(W_-)_{xxxxx} - 10*(W_-)_{xxx}*W_- - 20*(W_-)_{xx}*(W_-)_{x} - 30*(W_-)_{x}*W_-**2)/\\epsilon**2 + \\epsilon**2*(5*(W_+)_{xxxxx}*W_+**2/8 - 5*(W_+)_{xxxxx}*W_-**2/8 + 27*(W_+)_{xxxx}*(W_+)_{x}*W_+/8 - 17*(W_+)_{xxxx}*(W_+)_{x}*W_-/8 + 3*(W_+)_{xxxx}*(W_-)_{x}*W_+/8 - 13*(W_+)_{xxxx}*(W_-)_{x}*W_-/8 + 35*(W_+)_{xxx}*(W_+)_{xx}*W_+/8 - 35*(W_+)_{xxx}*(W_+)_{xx}*W_-/8 + 15*(W_+)_{xxx}*(W_+)_{x}**2/8 - 5*(W_+)_{xxx}*(W_+)_{x}*(W_-)_{x}/4 + 5*(W_+)_{xxx}*(W_-)_{xx}*W_+/8 - 5*(W_+)_{xxx}*(W_-)_{xx}*W_-/8 - 5*(W_+)_{xxx}*(W_-)_{x}**2/8 + 5*(W_+)_{xxx}*W_+**3/16 + 75*(W_+)_{xxx}*W_+**2*W_-/16 + 75*(W_+)_{xxx}*W_+*W_-**2/16 + 5*(W_+)_{xxx}*W_-**3/16 + 5*(W_+)_{xx}**2*(W_+)_{x}/4 - 5*(W_+)_{xx}**2*(W_-)_{x}/4 + 65*(W_+)_{xx}*(W_+)_{x}*W_+**2/16 + 245*(W_+)_{xx}*(W_+)_{x}*W_+*W_-/8 + 165*(W_+)_{xx}*(W_+)_{x}*W_-**2/16 - 5*(W_+)_{xx}*(W_-)_{xxx}*W_+/8 + 5*(W_+)_{xx}*(W_-)_{xxx}*W_-/8 + 115*(W_+)_{xx}*(W_-)_{x}*W_+**2/16 + 55*(W_+)_{xx}*(W_-)_{x}*W_+*W_-/8 + 15*(W_+)_{xx}*(W_-)_{x}*W_-**2/16 + 35*(W_+)_{x}**3*W_+/8 + 85*(W_+)_{x}**3*W_-/8 - 5*(W_+)_{x}**2*(W_-)_{xxx}/8 + 85*(W_+)_{x}**2*(W_-)_{x}*W_+/8 + 35*(W_+)_{x}**2*(W_-)_{x}*W_-/8 - 13*(W_+)_{x}*(W_-)_{xxxx}*W_+/8 + 3*(W_+)_{x}*(W_-)_{xxxx}*W_-/8 - 5*(W_+)_{x}*(W_-)_{xxx}*(W_-)_{x}/4 - 5*(W_+)_{x}*(W_-)_{xx}**2/4 - 15*(W_+)_{x}*(W_-)_{xx}*W_+**2/16 - 55*(W_+)_{x}*(W_-)_{xx}*W_+*W_-/8 - 115*(W_+)_{x}*(W_-)_{xx}*W_-**2/16 - 35*(W_+)_{x}*(W_-)_{x}**2*W_+/8 - 85*(W_+)_{x}*(W_-)_{x}**2*W_-/8 + 5*(W_+)_{x}*W_+**4/2 - 5*(W_+)_{x}*W_+**3*W_-/2 + 5*(W_+)_{x}*W_+*W_-**3/2 - 5*(W_+)_{x}*W_-**4/2 - 3*(W_-)_{xxxxx}*W_+**2/8 - (W_-)_{xxxxx}*W_+*W_-/2 + 7*(W_-)_{xxxxx}*W_-**2/8 - 17*(W_-)_{xxxx}*(W_-)_{x}*W_+/8 + 27*(W_-)_{xxxx}*(W_-)_{x}*W_-/8 - 35*(W_-)_{xxx}*(W_-)_{xx}*W_+/8 + 35*(W_-)_{xxx}*(W_-)_{xx}*W_-/8 + 15*(W_-)_{xxx}*(W_-)_{x}**2/8 - 5*(W_-)_{xxx}*W_+**3/16 - 35*(W_-)_{xxx}*W_+**2*W_-/16 - 155*(W_-)_{xxx}*W_+*W_-**2/16 + 35*(W_-)_{xxx}*W_-**3/16 + 5*(W_-)_{xx}**2*(W_-)_{x}/4 - 85*(W_-)_{xx}*(W_-)_{x}*W_+**2/16 - 325*(W_-)_{xx}*(W_-)_{x}*W_+*W_-/8 + 15*(W_-)_{xx}*(W_-)_{x}*W_-**2/16 - 85*(W_-)_{x}**3*W_+/8 - 35*(W_-)_{x}**3*W_-/8 - 115*(W_-)_{x}*W_+**4/32 + 5*(W_-)_{x}*W_+**3*W_-/8 + 75*(W_-)_{x}*W_+**2*W_-**2/16 - 175*(W_-)_{x}*W_+*W_-**3/8 + 5*(W_-)_{x}*W_-**4/32) + 35*(W_-)_{x}*W_-**3 + 15*(W_-)_{x}*W_+*W_-**2/2 - 5*(W_-)_{x}*W_+**3/2 + 65*(W_-)_{x}**3/4 + 115*(W_-)_{xx}*(W_-)_{x}*W_-/2 + 15*(W_-)_{xx}*(W_-)_{x}*W_+ + 25*(W_-)_{xxx}*W_-**2/2 + 15*(W_-)_{xxx}*W_+*W_-/2 + 35*(W_-)_{xxx}*(W_-)_{xx}/4 + 5*(W_-)_{xxxx}*(W_-)_{x} + 5*(W_-)_{xxxxx}*W_-/4 + 5*(W_-)_{xxxxx}*W_+/4 + 5*(W_+)_{x}*(W_-)_{x}**2 + 15*(W_+)_{x}*(W_-)_{xx}*W_-/2 + 5*(W_+)_{x}*(W_-)_{xxxx}/2 + 5*(W_+)_{x}**2*(W_-)_{x}/4 + 15*(W_+)_{x}**3/2 - 5*(W_+)_{xx}*(W_-)_{x}*W_- + 5*(W_+)_{xx}*(W_-)_{x}*W_+/2 + 5*(W_+)_{xx}*(W_-)_{xxx}/4 + 45*(W_+)_{xx}*(W_+)_{x}*W_+/2 - 15*(W_+)_{xxx}*W_-**2/4 + 15*(W_+)_{xxx}*W_+**2/4 - 5*(W_+)_{xxx}*(W_-)_{xx}/4 - 35*(W_+)_{xxx}*(W_+)_{xx}/4 - 5*(W_+)_{xxxx}*(W_-)_{x}/2 - 5*(W_+)_{xxxx}*(W_+)_{x} - 5*(W_+)_{xxxxx}*W_-/4 - 5*(W_+)_{xxxxx}*W_+/4 + O(\\epsilon**4))"
      ]
     },
     "metadata": {},
     "output_type": "display_data"
    },
    {
     "data": {
      "text/latex": [
       "$\\displaystyle (W_+)_{T_{7}} = O\\left(\\epsilon^{4}\\right)$"
      ],
      "text/plain": [
       "Eq((W_+)_{T_{7}}, O(\\epsilon**4))"
      ]
     },
     "metadata": {},
     "output_type": "display_data"
    },
    {
     "data": {
      "text/latex": [
       "$\\displaystyle (W_-)_{T_{7}} = O\\left(\\epsilon^{4}\\right)$"
      ],
      "text/plain": [
       "Eq((W_-)_{T_{7}}, O(\\epsilon**4))"
      ]
     },
     "metadata": {},
     "output_type": "display_data"
    }
   ],
   "source": [
    "W_plus = Symbol('W_+', real=True)\n",
    "W_minus = Symbol('W_-', real=True)\n",
    "V_sym = Symbol('V')\n",
    "N_sym = Symbol('N')\n",
    "A_sym = Symbol('A')\n",
    "\n",
    "#differentiable_symbols.extend([W_plus, W_minus, V_sym, N_sym, A_sym])\n",
    "\n",
    "def uv_sub(expr):\n",
    "    return multi_substituter(expr, [(u, W_minus), (v, W_plus)])\n",
    "\n",
    "def evolution(hamiltonian, order):\n",
    "    varis = [poly_simplify(variation(hamiltonian, v)), poly_simplify(variation(hamiltonian, u))]\n",
    "    result = Matrix([0, 0])\n",
    "    for k in range(order+1):\n",
    "\n",
    "        T = (-epsilon**2 / 2 * (v - u))**k\n",
    "        result[0] += epsiloninv**2 / 2 * (- deriv((varis[0] - varis[1]) * T) - deriv(varis[0] + varis[1]) * T)\n",
    "        result[1] += epsiloninv**2 / 2 * (- deriv((varis[0] - varis[1]) * T) + deriv(varis[0] + varis[1]) * T)\n",
    "\n",
    "        result[0] = poly_simplify(result[0])\n",
    "        result[1] = poly_simplify(result[1])\n",
    "        \n",
    "    return result\n",
    "\n",
    "\n",
    "def evolution2(hamiltonian, order):\n",
    "    H = multi_substituter(hamiltonian, [(u, V_sym/2 - N_sym), (v, V_sym/2 + N_sym)])\n",
    "    HH = epsiloninv / sqrt(2) * (2 * epsilon**6 * deriv(N_sym)**2 + epsilon**4 * (1 + epsilon**2 * N_sym)**2 * V_sym**2 + ((1 + epsilon**2 * N_sym)**2 - 1)**2)\n",
    "    \n",
    "    varis = [poly_simplify(variation(H, N_sym)), poly_simplify(variation(H, V_sym))]\n",
    "\n",
    "    result = Matrix([0, 0])\n",
    "    \n",
    "    for k in range(order+1):\n",
    "\n",
    "        T = (- epsilon**2 * N_sym)**k\n",
    "        result[0] += epsiloninv**2 * T * deriv(varis[1])\n",
    "        result[1] += epsiloninv**2 * deriv(T * varis[0])\n",
    "\n",
    "        result[0] = poly_simplify(result[0])\n",
    "        result[1] = poly_simplify(result[1])\n",
    "        \n",
    "    return result\n",
    "                  \n",
    "def evolution3(hamiltonian, order):\n",
    "    H = multi_substituter(hamiltonian, [(u, V_sym/2 - N_sym), (v, V_sym/2 + N_sym)])\n",
    "    HH = epsiloninv / sqrt(2) * (2 * epsilon**6 * deriv(N_sym)**2 + epsilon**4 * (1 + epsilon**2 * N_sym)**2 * V_sym**2 + ((1 + epsilon**2 * N_sym)**2 - 1)**2)\n",
    "    \n",
    "    varis = [poly_simplify(variation(H, N_sym)), poly_simplify(variation(H, V_sym))]\n",
    "\n",
    "    result = Matrix([0, 0])\n",
    "    \n",
    "    R = Symbol('R')\n",
    "    result[0] += epsiloninv**2 * 1 / (1 + epsilon**2 * N_sym) * deriv(varis[1])\n",
    "    result[1] += epsiloninv**2 * deriv(1 / (1 + epsilon**2 * N_sym) * varis[0])\n",
    "\n",
    "    #result[0] = poly_simplify(result[0])\n",
    "    #result[1] = poly_simplify(result[1])\n",
    "        \n",
    "    return result\n",
    "\n",
    "\n",
    "print(\"moving on...\")\n",
    "for n in range(0, N+1):\n",
    "    \n",
    "    #print(\"n =\", n)\n",
    "    nn = n - 1\n",
    "    max_order = 1\n",
    "    max_display_order = 5\n",
    "    hamiltonian = G_eq[nn+1] #re(sig_eq[n]) if n % 2 == 1 else I * im(sig_eq[n])\n",
    "    evol = evolution(hamiltonian, max_order)\n",
    "    \n",
    "    if n % 2 == 0 and nn//2 == 0:\n",
    "        dtdT = epsilon * sqrt(2) / 2\n",
    "    elif nn % 2 == 0 and nn//2 > 0:\n",
    "        dtdT = epsiloninv**(2*(nn//2)-1) / sqrt(2)**(2*(nn//2)-1) / 2\n",
    "    elif nn % 2 == 1:\n",
    "        dtdT = epsiloninv / sqrt(2)\n",
    "    \n",
    "    dtdT = 1\n",
    "    \n",
    "    display(Eq(Symbol('(W_+)_{T_{' + str(nn) + '}}'), polynomize(dtdT * uv_sub(evol[0])) + O(epsilon**4)))\n",
    "    display(Eq(Symbol('(W_-)_{T_{' + str(nn) + '}}'), polynomize(dtdT * uv_sub(evol[1])) + O(epsilon**4)))"
   ]
  },
  {
   "cell_type": "code",
   "execution_count": null,
   "id": "7e5ba958",
   "metadata": {},
   "outputs": [],
   "source": [
    "\n",
    "M_sym = [Symbol('M_{' + str(n) + '}') for n in range(N+1)]\n",
    "M_eq = [M_sym[n] for n in range(N+1)]\n",
    "Mt_sym = [Symbol('\\\\tilde{M}_{' + str(n) + '}') for n in range(N+1)]\n",
    "Mt_eq = [M_sym[n] for n in range(N+1)]\n",
    "N_sym = [Symbol('N_{' + str(n) + '}') for n in range(N+1)]\n",
    "N_eq = [N_sym[n] for n in range(N+1)]\n",
    "St_sym = [Symbol('\\\\tilde{S}_{' + str(n) + '}') for n in range(N+1)]\n",
    "St_eq = [M_sym[n] for n in range(N+1)]\n",
    "\n",
    "for n in range(0, N+1):\n",
    "        \n",
    "    M_eq[n] = im(S_eq[n] - 2 * S_plus_eq[n])\n",
    "    N_eq[n] = re(S_eq[n] - 2 * S_plus_eq[n])\n",
    "    \n",
    "for n in range(0, N+1):\n",
    "    Mt_eq[n] = 0\n",
    "    for k in range(0, n+1):\n",
    "        Mt_eq[n] += M_eq[k] * M_eq[n-k]\n",
    "\n",
    "for n in range(0, N):\n",
    "    print(\"n =\", n)\n",
    "\n",
    "    V = 0\n",
    "    V += deriv(S_plus_eq[n])\n",
    "    V += S_plus_eq[n+1]\n",
    "    \n",
    "    for k in range(n+1):\n",
    "        V += S_plus_eq[k] * S_plus_eq[n-k]\n",
    "    \n",
    "    V += - plus_beta_coeff(n) * u\n",
    "    \n",
    "    X = 0\n",
    "    X += deriv(M_eq[n])\n",
    "    X += M_eq[n+1]\n",
    "    \n",
    "    for k in range(n+1):\n",
    "        X += S_eq[k] * M_eq[n-k]\n",
    "        X += - N_eq[k] * M_eq[n-k]\n",
    "    \n",
    "    X += - im(q_coeff(n)) * u\n",
    "    \n",
    "    XX = 0\n",
    "    for k in range(n+1):\n",
    "        XX += deriv(M_eq[k]) * M_eq[n-k]\n",
    "    for k in range(n+2):\n",
    "        XX += M_eq[k] * M_eq[n+1-k]\n",
    "    for k in range(n+1):\n",
    "        for m in range(k+1):\n",
    "            XX += S_eq[m] * M_eq[k-m] * M_eq[n-k]\n",
    "            XX += - N_eq[m] * M_eq[k-m] * M_eq[n-k]\n",
    "\n",
    "    for k in range(-1, n+1):\n",
    "        XX += - im(q_coeff(k)) * u * M_eq[n-k]\n",
    "    \n",
    "    XXX = 0\n",
    "    XXX += deriv(Mt_eq[n]) / 2\n",
    "    XXX += Mt_eq[n+1]\n",
    "    for k in range(n+1):\n",
    "        XXX += S_eq[k] * Mt_eq[n-k]\n",
    "        XXX += - N_eq[k] * Mt_eq[n-k]\n",
    "        \n",
    "    for k in range(-1, n+1):\n",
    "        XXX += - im(q_coeff(k)) * M_eq[n-k] * u\n",
    "        \n",
    "    XXXX = XXX\n",
    "    \n",
    "    XXXX = 0\n",
    "    XXXX += deriv(Mt_eq[n]) / 2\n",
    "    XXXX += Mt_eq[n+1]\n",
    "    for k in range(n+1):\n",
    "        XXXX += S_eq[k] * Mt_eq[n-k]\n",
    "        XXXX += - N_eq[k] * Mt_eq[n-k]\n",
    "        \n",
    "    for k in range(-1, n+1):\n",
    "        XXXX += - im(q_coeff(k)) * M_eq[n-k] * u\n",
    "\n",
    "    Z = 0\n",
    "    for k in range(n+1):\n",
    "        Z += S_eq[k] * S_eq[n-k]\n",
    "    \n",
    "    \n",
    "    Y = 0\n",
    "    for k in range(n+1):\n",
    "        Y += im(S_eq[k] - 2*S_plus_eq[k]) * im(S_eq[n-k] - 2*S_plus_eq[n-k])\n",
    "    YY = 0\n",
    "    for k in range(n+1):\n",
    "        YY += im(S_plus_eq[k]) * im(S_plus_eq[n-k])\n",
    "    \n",
    "    W = 0\n",
    "    WW = 0\n",
    "    for k in range(-1,n+1):\n",
    "        W += im(q_coeff(k)) * im(S_eq[n-k] - 2*S_plus_eq[n-k])\n",
    "        WW += im(q_coeff(k)) * im(2*S_plus_eq[n-k])\n",
    "\n",
    "        \n",
    "    #display(polynomize(re(2*S_plus_eq[n]) - S_eq[n]) + O(epsilon**2))\n",
    "    #display(polynomize(WW + S_eq[n]) + O(epsilon**2))\n",
    "    #display(polynomize(re(2*S_plus_eq[n]) - WW) / 2 + O(epsilon**2))\n",
    "    display(polynomize(YY))\n",
    "    #display(polynomize(XXX))\n",
    "    #display(polynomize(Y + Z))\n",
    "    #display(polynomize(- W))\n"
   ]
  },
  {
   "cell_type": "code",
   "execution_count": null,
   "id": "1d7da362",
   "metadata": {},
   "outputs": [],
   "source": [
    "def coeff(n):\n",
    "    if n < 0 or n % 2 == 0:\n",
    "        return 0\n",
    "    return binomial(- Rational(1,2), (n-1)//2) * sqrt(2)**n * I**n * epsiloninv**n\n",
    "\n",
    "for n in range(1, N): \n",
    "    print(\"n =\", n)\n",
    "    \n",
    "    X = sig_eq[n+1]\n",
    "    \n",
    "    X += deriv(sig_eq[n])\n",
    "    \n",
    "    for k in range(0, n+1):\n",
    "        X += sig_eq[k] * sig_eq[n-k]\n",
    "        \n",
    "    X += q_coeff(n) / 2 * (u + v)\n",
    "    \n",
    "    X += - deriv(v) / sqrt(2) * epsilon * r_eq[n]\n",
    "    \n",
    "    display(polynomize(X))\n",
    "    "
   ]
  },
  {
   "cell_type": "code",
   "execution_count": null,
   "id": "e9e2e58d",
   "metadata": {},
   "outputs": [],
   "source": [
    "def coeff(n):\n",
    "    if n < 0 or n % 2 == 0:\n",
    "        return 0\n",
    "    return binomial(- Rational(1,2), (n-1)//2) * sqrt(2)**n * I**n * epsiloninv**n\n",
    "\n",
    "for n in range(1, N): \n",
    "    print(\"n =\", n)\n",
    "    \n",
    "    X = re(sig_eq[n+1])\n",
    "    \n",
    "    X += deriv(re(sig_eq[n]))\n",
    "    \n",
    "    for k in range(0, n+1):\n",
    "        X += re(sig_eq[k]) * re(sig_eq[n-k])\n",
    "        X += - im(sig_eq[k]) * im(sig_eq[n-k])\n",
    "        \n",
    "    X += re(q_coeff(n)) / 2 * (u + v)\n",
    "    \n",
    "    X += - deriv(v) / sqrt(2) * epsilon * re(r_eq[n])\n",
    "     \n",
    "        \n",
    "    Y = im(sig_eq[n+1])\n",
    "    \n",
    "    Y += deriv(im(sig_eq[n]))\n",
    "    \n",
    "    for k in range(0, n+1):\n",
    "        Y += 2 * re(sig_eq[k]) * im(sig_eq[n-k])\n",
    "        \n",
    "    Y += im(q_coeff(n)) / 2 * (u + v)\n",
    "    \n",
    "    Y += - deriv(v) / sqrt(2) * epsilon * im(r_eq[n])\n",
    "    \n",
    "    Z = 0\n",
    "    for m in range(0, n+1):\n",
    "        ZZ = im(sig_eq[m+1])\n",
    "\n",
    "        ZZ += deriv(im(sig_eq[m]))\n",
    "\n",
    "        for k in range(0, m+1):\n",
    "            ZZ += 2 * re(sig_eq[k]) * im(sig_eq[m-k])\n",
    "\n",
    "        ZZ += im(q_coeff(m)) / 2 * (u + v)\n",
    "\n",
    "        ZZ += - deriv(v) / sqrt(2) * epsilon * im(r_eq[m])\n",
    "    \n",
    "        Z += coeff(n-k) / I * ZZ \n",
    "      \n",
    "    A = re(sig_eq[n])\n",
    "    for m in range(0, n+1):\n",
    "        A += coeff(n-m) / I * im(sig_eq[m])\n",
    "        \n",
    "\n",
    "    display(polynomize(X + Z))"
   ]
  },
  {
   "cell_type": "code",
   "execution_count": null,
   "id": "3e3aeced",
   "metadata": {},
   "outputs": [],
   "source": [
    "def coeff(n):\n",
    "    if n < 0 or n % 2 == 0:\n",
    "        return 0\n",
    "    return binomial(- Rational(1,2), (n-1)//2) * sqrt(2)**n * I**n * epsiloninv**n\n",
    "\n",
    "for n in range(0, N): \n",
    "    print(\"n =\", n)\n",
    "    \n",
    "    X = E_plus_eq[n+1]\n",
    "    \n",
    "    X += deriv(E_plus_eq[n])\n",
    "    \n",
    "    for k in range(0, n+1):\n",
    "        X += re(sig_eq[k]) * re(sig_eq[n-k])\n",
    "        \n",
    "    for k in range(0, n+1):\n",
    "        X += - im(sig_eq[k]) * im(sig_eq[n-k])\n",
    "    \n",
    "    for k in range(0, n+1):\n",
    "        for m in range(0, k+1):\n",
    "            X += - 2 / I * coeff(n) * re(sig_eq[k-m]) * im(sig_eq[n-k])\n",
    "        \n",
    "    if n == 0:\n",
    "        X += u + epsilon**2 / 2 * u * v\n",
    "        \n",
    "    X += deriv(v) / sqrt(2) * F_plus_eq[n]\n",
    "    \n",
    "    display(polynomize(X))"
   ]
  },
  {
   "cell_type": "code",
   "execution_count": null,
   "id": "bb5cafa5",
   "metadata": {},
   "outputs": [],
   "source": [
    "for n in range(0, N): \n",
    "    print(\"n =\", n)\n",
    "    \n",
    "    X = E_plus_eq[n+1]\n",
    "    \n",
    "    X += deriv(E_plus_eq[n])\n",
    "    \n",
    "    for k in range(0, n+1):\n",
    "        X += E_plus_eq[k] * E_plus_eq[n-k]\n",
    "        \n",
    "    for k in range(0, n+1):\n",
    "        X += - im(sig_eq[k]) * im(sig_eq[n-k])\n",
    "    \n",
    "    #for k in range(0, n+1):\n",
    "    #    for m in range(0, k+1):\n",
    "    #        X += - 2**m * epsiloninv**(2*m) * im(sig_eq[k-m]) * im(sig_eq[n-k])\n",
    "        \n",
    "    if n == 0:\n",
    "        X += u + epsilon**2 / 2 * u * v\n",
    "        \n",
    "    X += deriv(v) / sqrt(2) * F_plus_eq[n]\n",
    "    \n",
    "    display(polynomize(X))"
   ]
  },
  {
   "cell_type": "code",
   "execution_count": null,
   "id": "6951ab5c",
   "metadata": {
    "scrolled": true
   },
   "outputs": [],
   "source": [
    "\n",
    "def G(n):\n",
    "    if n == 0:\n",
    "        return 1\n",
    "    if n % 2 == 1 and n >= 0:\n",
    "        return binomial(2 * (n//2), n//2) * sqrt(2) * I * epsiloninv**n / 2**(n//2)\n",
    "    else:\n",
    "        return 0\n",
    "    \n",
    "def q_coeff(n):\n",
    "    if n % 2 == 0 or n < 0:\n",
    "        return 0\n",
    "    else:\n",
    "        nn = (n - 1) // 2\n",
    "        if nn % 2 == 0:\n",
    "            return I**n * epsiloninv**n * catalan(nn) / (sqrt(2) * 2**nn)\n",
    "        elif nn % 2 == 1:\n",
    "            return - I**n * epsiloninv**n* catalan(nn) / (sqrt(2) * 2**nn)\n",
    "\n",
    "\n",
    "def sqrtt(x):\n",
    "    return I*sqrt(-x)\n",
    "\n",
    "X = Symbol('X')\n",
    "\n",
    "def get_expansion(eqn, x0, var, num):\n",
    "    epsilonpos = Symbol('epsilon_2', positive=True)\n",
    "    epsiloninvpos = Symbol('eta_2', positive=True)\n",
    "    \n",
    "    eqn = eqn.subs(epsilon, epsilonpos).subs(epsiloninv, epsiloninvpos)\n",
    "    ser = series(eqn, x0=0, x=var, n=num).removeO().subs(epsilonpos, epsilon).subs(epsiloninvpos, epsiloninv)\n",
    "    return [simplify(ser.coeff(var**n) if n > 0 else ser.subs(var, 0)) for n in range(0, num)]\n",
    "    \n",
    "N = 6\n",
    "\n",
    "#h_plus = get_expansion(1 + 1 / sqrtt(1 - Rational(1, 2) / epsiloninv**2 / X**2), 0, X, N+1)\n",
    "#h_minus = get_expansion(1 - 1 / sqrtt(1 - Rational(1, 2) / epsiloninv**2 / X**2), 0, X, N+1)\n",
    "\n",
    "h_plus = [binomial(-Rational(1, 2), n//2) * (sqrt(2) * I * epsiloninv)**n if n % 2 == 1 else 0 for n in range(N+1)]\n",
    "h_plus[0] = 1\n",
    "h_minus = [- binomial(-Rational(1, 2), n//2) * (sqrt(2) * I * epsiloninv)**n if n % 2 == 1 else 0 for n in range(N+1)]\n",
    "h_minus[0] = 1\n",
    "\n",
    "h_plus_mod = get_expansion(1 + 1 / sqrtt(1 + Rational(1, 2) / epsiloninv**2 / X**2), 0, X, N+1)\n",
    "h_minus_mod = get_expansion(1 - 1 / sqrtt(1 + Rational(1, 2) / epsiloninv**2 / X**2), 0, X, N+1)\n",
    "\n",
    "exp1 = [get_expansion((X / sqrtt(1 - 1 / (8 * epsiloninv**2 * X**2)))**n, 0, X, N+1) for n in range(N+1)]\n",
    "\n",
    "for n in range(N+1):\n",
    "    #print(\"n =\", n)\n",
    "    for k in range(N+1):\n",
    "        #print(\"k =\", k)\n",
    "        #display(exp1[n][k])\n",
    "        pass\n",
    "    pass\n",
    "\n",
    "E_plus_sym = [Symbol('E^+_{' + str(n) + '}') for n in range(N+1)]\n",
    "E_plus_eq = [E_plus_sym[n] for n in range(N+1)]\n",
    "\n",
    "E_minus_sym = [Symbol('E^-_{' + str(n) + '}') for n in range(N+1)]\n",
    "E_minus_eq = [E_plus_sym[n] for n in range(N+1)]\n",
    "\n",
    "F_plus_sym = [Symbol('F^+_{' + str(n) + '}') for n in range(N+1)]\n",
    "F_plus_eq = [E_plus_sym[n] for n in range(N+1)]\n",
    "\n",
    "F_minus_sym = [Symbol('F^-_{' + str(n) + '}') for n in range(N+1)]\n",
    "F_minus_eq = [E_plus_sym[n] for n in range(N+1)]\n",
    "\n",
    "Ft_plus_sym = [Symbol('\\\\tilde{F}^+_{' + str(n) + '}') for n in range(N+1)]\n",
    "Ft_plus_eq = [E_plus_sym[n] for n in range(N+1)]\n",
    "\n",
    "Ft_minus_sym = [Symbol('\\\\tilde{F}^-_{' + str(n) + '}') for n in range(N+1)]\n",
    "Ft_minus_eq = [E_plus_sym[n] for n in range(N+1)]\n",
    "\n",
    "r_sym = [Symbol('r_{' + str(n) + '}') for n in range(N+1)]\n",
    "r_eq = [r_sym[n] for n in range(N+1)]\n",
    "r_poly = [r_sym[n] for n in range(N+1)]\n",
    "\n",
    "sig_sym = [Symbol('\\sigma_{' + str(n) + '}') for n in range(N+1)]\n",
    "sig_eq = [sig_sym[n] for n in range(N+1)]\n",
    "sig_poly = [sig_sym[n] for n in range(N+1)]\n",
    "\n",
    "r_factor = 1 #Symbol('\\lambda')\n",
    "r_eq[0] = r_factor * (- I * sqrt(2) * epsiloninv)\n",
    "r_eq[1] = r_factor * (u - epsiloninv**2 + (Rational(1, 2) + epsilon**2 * v / 2) * r_eq[0]**2)\n",
    "r_poly[0] = polynomize(r_eq[0])\n",
    "r_poly[1] = polynomize(r_eq[1])\n",
    "\n",
    "\n",
    "sig_eq[0] = epsilon / (2 * sqrt(2) * I) * (u + v)\n",
    "sig_eq[1] = deriv(sig_eq[0]) + sig_eq[0]**2 + u * (1 + epsilon**2 * v / 2) - (u + v) / 2 + epsilon**2 * deriv(v) / 2 * r_eq[0]\n",
    "sig_poly[0] = polynomize(sig_eq[0])\n",
    "sig_poly[1] = polynomize(sig_eq[1])\n",
    "\n",
    "for n in range(1, N):\n",
    "    \n",
    "    print(\"n =\", n)\n",
    "    print(datetime.datetime.now())\n",
    "\n",
    "    X = 0\n",
    "\n",
    "    X += - deriv(r_eq[n]) \n",
    "    \n",
    "    X += q_coeff(n) * epsiloninv**2\n",
    "\n",
    "    for k in range(0, n+1):\n",
    "        X += (Rational(1, 2) + epsilon**2 * v / 2) * r_eq[k] * r_eq[n-k]\n",
    "\n",
    "    for k in range(1, n+1):\n",
    "        X += epsilon / (2 * sqrt(2) * I) * r_eq[k] * r_eq[n+1-k]\n",
    "\n",
    "    for k in range(0, n+1):\n",
    "        for j in range(0, k+1):\n",
    "            X += q_coeff(j) * r_eq[k-j] * r_eq[n-k] / 2\n",
    "            \n",
    "    r_eq[n+1] = r_factor * X\n",
    "    r_poly[n+1] = polynomize(r_eq[n+1])\n",
    "    r_eq[n+1] = depolynomize(r_poly[n+1])\n",
    "    \n",
    "    X = 0\n",
    "\n",
    "    X += deriv(sig_eq[n]) \n",
    "    \n",
    "    X += q_coeff(n) / 2 * (u + v)\n",
    "    \n",
    "    for k in range(0, n+1):\n",
    "        X += sig_eq[k] * sig_eq[n-k]\n",
    "\n",
    "    X += epsilon**2 * deriv(v) / 2 * r_eq[n]\n",
    "\n",
    "    sig_eq[n+1] = X\n",
    "    sig_poly[n+1] = polynomize(sig_eq[n+1])\n",
    "    sig_eq[n+1] = depolynomize(sig_poly[n+1])\n",
    "    \n",
    "    #display(Eq(r_sym[n], polynomize(r_eq[n])))\n",
    "    \n",
    "for n in range(0, N+1):\n",
    "    E_plus_eq[n] = 0\n",
    "    for k in range(0, n+1):\n",
    "        E_plus_eq[n] += re(sig_eq[k] * h_plus[n-k])\n",
    "    \n",
    "    E_minus_eq[n] = 0\n",
    "    for k in range(0, n+1):\n",
    "        E_minus_eq[n] += re(sig_eq[k] * h_minus[n-k])\n",
    "        \n",
    "    F_plus_eq[n] = 0\n",
    "    for k in range(0, n+1):\n",
    "        F_plus_eq[n] += im(sig_eq[k] * h_plus[n-k])\n",
    "        \n",
    "    F_minus_eq[n] = 0\n",
    "    for k in range(0, n+1):\n",
    "        F_minus_eq[n] += im(sig_eq[k] * h_minus[n-k])\n",
    "        \n",
    "    Ft_plus_eq[n] = 0\n",
    "    for k in range(0, N+1):\n",
    "        Ft_plus_eq[n] += exp1[k][n] * F_plus_eq[k]\n",
    "        \n",
    "    Ft_minus_eq[n] = 0\n",
    "    for k in range(0, N+1):\n",
    "        Ft_minus_eq[n] += exp1[k][n] * F_minus_eq[k]\n",
    "       \n",
    "    display(Eq(sig_sym[n], sig_poly[n]))\n",
    "    display(Eq(E_plus_sym[n], polynomize(E_plus_eq[n])))\n",
    "    display(Eq(E_minus_sym[n], polynomize(E_minus_eq[n])))\n",
    "    display(Eq(F_plus_sym[n], polynomize(F_plus_eq[n])))\n",
    "    display(Eq(F_minus_sym[n], polynomize(F_minus_eq[n])))\n",
    "    #display(Eq(Ft_plus_sym[n], polynomize(Ft_plus_eq[n])))\n",
    "    #display(Eq(Ft_minus_sym[n], polynomize(Ft_minus_eq[n])))\n",
    "\n"
   ]
  },
  {
   "cell_type": "code",
   "execution_count": null,
   "id": "4d3abc8a",
   "metadata": {},
   "outputs": [],
   "source": [
    "N = 8\n",
    "\n",
    "def polynomize_matrix(M):\n",
    "    return Matrix([[polynomize(M[0,0]), polynomize(M[0,1])], [polynomize(M[1,0]), polynomize(M[1,1])]])\n",
    "def depolynomize_matrix(M):\n",
    "    return Matrix([[depolynomize(M[0,0]), depolynomize(M[0,1])], [depolynomize(M[1,0]), depolynomize(M[1,1])]])\n",
    "\n",
    "def coeff(n):\n",
    "    return binomial(-Rational(1, 2), n//2) * (sqrt(2) * I * epsiloninv)**n if n % 2 == 1 else 0\n",
    "\n",
    "M_sym = [Symbol('M_{' + str(n) + '}') for n in range(N+1)]\n",
    "M_eq = [M_sym[n] for n in range(N+1)]\n",
    "\n",
    "M_eq[0] = Matrix([[0, - I * epsilon * sqrt(2) * (u + v) / 4], [- I * epsilon * sqrt(2) * (u + v) / 4 , 0]])\n",
    "\n",
    "P = Matrix([[0, 1], [1, 0]])\n",
    "\n",
    "for n in range(0, N):\n",
    "\n",
    "    print(\"n =\", n+1)\n",
    "\n",
    "    X = Matrix([[deriv(M_eq[n][0,0]), deriv(M_eq[n][0,1])], [deriv(M_eq[n][1,0]), deriv(M_eq[n][1,1])]])\n",
    "    \n",
    "    for k in range(0, n+1):\n",
    "        X += Rational(1, 2) * (M_eq[k] * M_eq[n-k] + P * M_eq[k] * P * M_eq[n-k])\n",
    "        \n",
    "    X -= (u + v) / 2 * epsilon**2 / 2 * Matrix([[0, - im(- coeff(n+2)) * I], [im(coeff(n+2)) * I, 0]])\n",
    "    \n",
    "    X -= Matrix([[0, (- u * (1 + epsilon**2 * v / 2) + (u + v)) * im(- coeff(n)) * I], [- u * (1 + epsilon**2 * v / 2) * im(coeff(n)) * I, 0]])\n",
    "    \n",
    "    if n == 0:\n",
    "        X -= Matrix([[- u * (1 + epsilon**2 * v / 2), 0], [0 , - u * (1 + epsilon**2 * v / 2) + (u + v)]])\n",
    "\n",
    "    M_eq[n+1] = Matrix([[depolynomize(polynomize(X[0,0])), \n",
    "                         depolynomize(polynomize(X[0,1]))], \n",
    "                        [depolynomize(polynomize(X[1,0])), \n",
    "                         depolynomize(polynomize(X[1,1]))]])\n",
    "    \n",
    "    obtained = polynomize_matrix(M_eq[n+1])\n",
    "    \n",
    "    compare = Matrix([[polynomize(E_plus_eq[n+1]) + O(epsilon**2),\n",
    "                    polynomize(I * F_minus_eq[n+1]) + O(epsilon**2)],\n",
    "                   [polynomize(I * F_plus_eq[n+1]) + O(epsilon**2),\n",
    "                    polynomize(E_minus_eq[n+1]) + O(epsilon**2)]])\n",
    "    \n",
    "    display(polynomize_matrix(M_eq[n+1]))\n"
   ]
  },
  {
   "cell_type": "code",
   "execution_count": null,
   "id": "4c712d69",
   "metadata": {},
   "outputs": [],
   "source": [
    "\n",
    "q_coeffs = [I * catalan(n//2) / sqrt(2)**n * epsiloninv**n if n % 2 == 1 else 0 for n in range(0, N+1)]\n",
    "\n",
    "\n",
    "Eh_plus_sym = [Symbol('\\\\hat{E}^+_{' + str(n) + '}') for n in range(N+1)]\n",
    "Eh_plus_eq = [Eh_plus_sym[n] for n in range(N+1)]\n",
    "\n",
    "Eh_minus_sym = [Symbol('\\\\hat{E}^-_{' + str(n) + '}') for n in range(N+1)]\n",
    "Eh_minus_eq = [Eh_minus_sym[n] for n in range(N+1)]\n",
    "\n",
    "Fh_plus_sym = [Symbol('\\\\hat{F}^+_{' + str(n) + '}') for n in range(N+1)]\n",
    "Fh_plus_eq = [Fh_plus_sym[n] for n in range(N+1)]\n",
    "\n",
    "Fh_minus_sym = [Symbol('\\\\hat{F}^-_{' + str(n) + '}') for n in range(N+1)]\n",
    "Fh_minus_eq = [Fh_minus_sym[n] for n in range(N+1)]\n",
    "\n",
    "\n",
    "sigh_sym = [Symbol('\\\\hat{\\sigma}_{' + str(n) + '}') for n in range(N+1)]\n",
    "sigh_eq = [sigh_sym[n] for n in range(N+1)]\n",
    "\n",
    "for n in range(N-1):\n",
    "    print(\"n =\", n)\n",
    "\n",
    "    sigh_eq[n] = 0\n",
    "    \n",
    "    sigh_eq[n] += - deriv(sig_eq[n])\n",
    "    \n",
    "    sigh_eq[n] += sig_eq[n+1]\n",
    "    \n",
    "    for k in range(0, n+1):\n",
    "        sigh_eq[n] += - sig_eq[k] * sig_eq[n-k]\n",
    "    \n",
    "    sigh_eq[n] += - q_coeffs[n] * (u + v) / 2\n",
    "    \n",
    "    sigh_eq[n] += - epsilon**2 * deriv(v) / 2 * r_eq[n]\n",
    "    \n",
    "    if n == 0:\n",
    "        sigh_eq[n] += - u * (1 + epsilon**2 * v / 2) + (u + v) / 2\n",
    "\n",
    "    Eh_plus_eq[n] = 0\n",
    "    \n",
    "    #Eh_plus_eq[n] += - deriv(E_plus_eq[n])\n",
    "    \n",
    "    #Eh_plus_eq[n] += E_plus_eq[n+1]\n",
    "    \n",
    "    for k in range(0, n+1):\n",
    "        #Eh_plus_eq[n] += - E_plus_eq[k] * E_plus_eq[n-k] / 2\n",
    "        pass\n",
    "    for k in range(0, n+1):\n",
    "        Eh_plus_eq[n] += F_plus_eq[k] * F_plus_eq[n-k] / 2\n",
    "        pass\n",
    "    for k in range(0, n+1):\n",
    "        #Eh_plus_eq[n] += - E_plus_eq[k] * E_minus_eq[n-k] / 2\n",
    "        pass\n",
    "    for k in range(0, n+1):\n",
    "        Eh_plus_eq[n] += + F_plus_eq[k] * F_minus_eq[n-k] / 2\n",
    "        pass\n",
    "    for k in range(0, n+1):\n",
    "        #Eh_plus_eq[n] += - epsilon**2 * deriv(v) / 2 * re(r_eq[k] * h_plus[n-k])\n",
    "        pass\n",
    "    if n == 0:\n",
    "        #Eh_plus_eq[n] += - u * (1 + epsilon**2 * v / 2)\n",
    "        pass\n",
    "    \n",
    "    Eh_minus_eq[n] = 0\n",
    "    \n",
    "    Eh_minus_eq[n] += - deriv(E_minus_eq[n])\n",
    "    \n",
    "    #Eh_minus_eq[n] += E_minus_eq[n+1]\n",
    "    \n",
    "    for k in range(0, n+1):\n",
    "        Eh_minus_eq[n] += - E_minus_eq[k] * E_minus_eq[n-k] / 2\n",
    "        pass\n",
    "    for k in range(0, n+1):\n",
    "        Eh_minus_eq[n] += F_minus_eq[k] * F_minus_eq[n-k] / 2\n",
    "        pass\n",
    "    for k in range(0, n+1):\n",
    "        Eh_minus_eq[n] += - E_minus_eq[k] * E_plus_eq[n-k] / 2\n",
    "        pass\n",
    "    for k in range(0, n+1):\n",
    "        Eh_minus_eq[n] += + F_minus_eq[k] * F_plus_eq[n-k] / 2\n",
    "        pass\n",
    "    for k in range(0, n+1):\n",
    "        Eh_minus_eq[n] += - epsilon**2 * deriv(v) / 2 * re(r_eq[k] * h_minus[n-k])\n",
    "        pass\n",
    "    if n == 0:\n",
    "        Eh_minus_eq[n] += - u * (1 + epsilon**2 * v / 2) + (u + v)\n",
    "        pass\n",
    "        \n",
    "    Fh_plus_eq[n] = 0\n",
    "    \n",
    "    Fh_plus_eq[n] += - deriv(F_plus_eq[n])\n",
    "    \n",
    "    #Fh_plus_eq[n] += F_plus_eq[n+1]\n",
    "    \n",
    "    for k in range(0, n+1):\n",
    "        Fh_plus_eq[n] += - E_plus_eq[k] * F_plus_eq[n-k]\n",
    "        pass\n",
    "    for k in range(0, n+1):\n",
    "        Fh_plus_eq[n] += - E_plus_eq[k] * F_minus_eq[n-k] / 2\n",
    "        pass\n",
    "    for k in range(0, n+1):\n",
    "        Fh_plus_eq[n] += - F_plus_eq[k] * E_minus_eq[n-k] / 2\n",
    "        pass\n",
    "    for k in range(0, n+1):\n",
    "        Fh_plus_eq[n] += - epsilon**2 * deriv(v) / 2 * im(r_eq[k] * h_plus[n-k])\n",
    "        pass\n",
    "    \n",
    "    Fh_plus_eq[n] += (u + v) / 2 * epsilon**2 / 2 * im(h_plus[n+2])\n",
    "    \n",
    "    Fh_plus_eq[n] += - u * (1 + epsilon**2 * v / 2) * (im(h_plus[n]) if n > 0 else 0)\n",
    "        \n",
    "\n",
    "    Fh_minus_eq[n] = 0\n",
    "    \n",
    "    Fh_minus_eq[n] += - deriv(F_minus_eq[n])\n",
    "    \n",
    "    Fh_minus_eq[n] += F_minus_eq[n+1]\n",
    "    \n",
    "    for k in range(0, n+1):\n",
    "        Fh_minus_eq[n] += - E_minus_eq[k] * F_minus_eq[n-k]\n",
    "        pass\n",
    "    for k in range(0, n+1):\n",
    "        Fh_minus_eq[n] += - E_minus_eq[k] * F_plus_eq[n-k] / 2\n",
    "        pass\n",
    "    for k in range(0, n+1):\n",
    "        Fh_minus_eq[n] += - F_minus_eq[k] * E_plus_eq[n-k] / 2\n",
    "        pass\n",
    "    for k in range(0, n+1):\n",
    "        Fh_minus_eq[n] += - epsilon**2 * deriv(v) / 2 * im(r_eq[k] * h_minus[n-k])\n",
    "        pass\n",
    "    \n",
    "    Fh_minus_eq[n] += - (u + v) / 2 * epsilon**2 / 2 * im(h_minus[n+2])\n",
    "    \n",
    "    Fh_minus_eq[n] += (- u * (1 + epsilon**2 * v / 2) + (u + v)) * (im(h_minus[n]) if n > 0 else 0)\n",
    "        \n",
    "    display(Eq(E_plus_sym[n], polynomize(E_plus_eq[n])))\n",
    "    display(Eq(E_minus_sym[n], polynomize(E_minus_eq[n])))\n",
    "    display(Eq(F_plus_sym[n], polynomize(F_plus_eq[n])))\n",
    "    display(Eq(F_minus_sym[n], polynomize(F_minus_eq[n])))\n",
    "    \n",
    "    #display(Eq(Eh_plus_sym[n], polynomize(Eh_plus_eq[n])))\n",
    "    #display(Eq(Eh_minus_sym[n], polynomize(Eh_minus_eq[n])))\n",
    "    #display(Eq(Fh_plus_sym[n], polynomize(Fh_plus_eq[n])))\n",
    "    #display(Eq(Fh_minus_sym[n], polynomize(Fh_minus_eq[n])))\n",
    "\n",
    "    #display(Eq(sigh_sym[n], polynomize(sigh_eq[n])))\n",
    "\n"
   ]
  },
  {
   "cell_type": "code",
   "execution_count": null,
   "id": "43d818b6",
   "metadata": {
    "scrolled": true
   },
   "outputs": [],
   "source": [
    "def p_coeff(n):\n",
    "    if n == -1:\n",
    "        return simplify(epsilon / sqrt(2))\n",
    "    if n >= 0:\n",
    "        return simplify(1 / sqrt(2) * epsiloninv**(2*n+1) * Rational((-2)**(-n) * (factorial(2*n) / (factorial(n) * factorial(n+1)))))\n",
    "    return 0\n",
    "\n",
    "def q_coeff(n):\n",
    "    if n % 2 == 0 or n < 0:\n",
    "        return 0\n",
    "    else:\n",
    "        nn = (n - 1) // 2\n",
    "        if nn % 2 == 0:\n",
    "            return I**n * epsiloninv**n * catalan(nn) / (sqrt(2) * 2**nn)\n",
    "        elif nn % 2 == 1:\n",
    "            return - I**n * epsiloninv**n* catalan(nn) / (sqrt(2) * 2**nn)\n",
    "\n",
    "for k in range(10):\n",
    "    display(q_coeff(k))"
   ]
  },
  {
   "cell_type": "code",
   "execution_count": null,
   "id": "3c841ba0",
   "metadata": {},
   "outputs": [],
   "source": [
    "import pickle\n",
    "import datetime\n",
    "\n",
    "\n",
    "output_folder = \"res/\"\n",
    "\n",
    "def p_coeff(n):\n",
    "    if n == -1:\n",
    "        return simplify(epsilon / sqrt(2))\n",
    "    if n >= 0:\n",
    "        return simplify(1 / sqrt(2) * epsiloninv**(2*n+1) * Rational((-2)**(-n) * (factorial(2*n) / (factorial(n) * factorial(n+1)))))\n",
    "    return 0\n",
    "\n",
    "def q_coeff(n):\n",
    "    if n % 2 == 0 or n < 0:\n",
    "        return 0\n",
    "    else:\n",
    "        nn = (n - 1) // 2\n",
    "        if nn % 2 == 0:\n",
    "            return I**n * epsiloninv**n * catalan(nn) / (sqrt(2) * 2**nn)\n",
    "        elif nn % 2 == 1:\n",
    "            return - I**n * epsiloninv**n* catalan(nn) / (sqrt(2) * 2**nn)\n",
    "\n",
    "def a_coeff(n):\n",
    "    return catalan(n) / 2**n\n",
    "    \n",
    "N = 7\n",
    "\n",
    "r_sym = [Symbol('r_{' + str(n) + '}') for n in range(N+1)]\n",
    "r_eq = [r_sym[n] for n in range(N+1)]\n",
    "r_poly = [r_sym[n] for n in range(N+1)]\n",
    "\n",
    "sig_sym = [Symbol('\\sigma_{' + str(n) + '}') for n in range(N+1)]\n",
    "sig_eq = [sig_sym[n] for n in range(N+1)]\n",
    "sig_poly = [sig_sym[n] for n in range(N+1)]\n",
    "\n",
    "E_sym = [Symbol('E_{' + str(n) + '}') for n in range(N+1)]\n",
    "E_eq = [E_sym[n] for n in range(N+1)]\n",
    "E_poly = [E_sym[n] for n in range(N+1)]\n",
    "\n",
    "Et_sym = [Symbol('\\\\tilde{E}_{' + str(n) + '}') for n in range(N+1)]\n",
    "Et_eq = [Et_sym[n] for n in range(N+1)]\n",
    "Et_poly = [Et_sym[n] for n in range(N+1)]\n",
    "\n",
    "variant_sign = 1\n",
    "\n",
    "r_factor = 1 #Symbol('\\lambda')\n",
    "r_eq[0] = r_factor * (- I * sqrt(2) * epsiloninv)\n",
    "r_eq[1] = r_factor * (u - epsiloninv**2 + (Rational(1, 2) + epsilon**2 * v**2 / 2) * r_eq[0]**2)\n",
    "r_poly[0] = polynomize(r_eq[0])\n",
    "r_poly[1] = polynomize(r_eq[1])\n",
    "\n",
    "sig_eq[0] = epsilon / (2 * sqrt(2) * I) * (u + v)\n",
    "sig_eq[1] = deriv(sig_eq[0]) + sig_eq[0]**2 + u * (1 + epsilon**2 * v / 2) - (u + v) / 2 + epsilon**2 * deriv(v) / 2 * r_eq[0]\n",
    "sig_poly[0] = polynomize(sig_eq[0])\n",
    "sig_poly[1] = polynomize(sig_eq[1])\n",
    "\n",
    "E_eq[0] = re(sig_eq[0])\n",
    "Et_eq[0] = im(sig_eq[0])\n",
    "E_poly[0] = polynomize(E_eq[0])\n",
    "Et_poly[0] = polynomize(Et_eq[0])\n",
    "\n",
    "E_eq[1] = re(sig_eq[1]) - variant_sign * epsiloninv * sqrt(2) * Et_eq[0]\n",
    "Et_eq[1] = im(sig_eq[1])\n",
    "E_poly[1] = polynomize(E_eq[1])\n",
    "Et_poly[1] = polynomize(Et_eq[1])\n",
    "\n",
    "for n in range(1, N):\n",
    "    \n",
    "    print(\"n =\", n)\n",
    "    print(datetime.datetime.now())\n",
    "\n",
    "    X = 0\n",
    "\n",
    "    X += - deriv(r_eq[n]) + q_coeff(n) * epsiloninv**2\n",
    "    #display(Eq(Symbol('X'), polynomize(X) + O(epsilon)))\n",
    "\n",
    "    for k in range(0, n+1):\n",
    "        X += (Rational(1, 2) + epsilon**2 * v**2 / 2) * r_eq[k] * r_eq[n-k]\n",
    "    #display(Eq(Symbol('X'), polynomize(X) + O(epsilon)))\n",
    "\n",
    "    for k in range(1, n+1):\n",
    "        X += epsilon / (2 * sqrt(2) * I) * r_eq[k] * r_eq[n+1-k]\n",
    "    #display(Eq(Symbol('X'), polynomize(X) + O(epsilon)))\n",
    "\n",
    "    for k in range(0, n+1):\n",
    "        for j in range(0, k+1):\n",
    "            X += q_coeff(j) * r_eq[k-j] * r_eq[n-k] / 2\n",
    "            \n",
    "    #display(Eq(Symbol('X'), polynomize(X) + O(epsilon)))\n",
    "\n",
    "    r_eq[n+1] = r_factor * X\n",
    "    r_poly[n+1] = polynomize(r_eq[n+1])\n",
    "    r_eq[n+1] = depolynomize(r_poly[n+1])\n",
    "    \n",
    "    X = 0\n",
    "\n",
    "    X += deriv(sig_eq[n]) + q_coeff(n) / 2 * (u + v)\n",
    "    \n",
    "    for k in range(0, n+1):\n",
    "        X += sig_eq[k] * sig_eq[n-k]\n",
    "\n",
    "    X += epsilon**2 * deriv(v) / 2 * r_eq[n]\n",
    "\n",
    "    sig_eq[n+1] = X\n",
    "    sig_poly[n+1] = polynomize(sig_eq[n+1])\n",
    "    sig_eq[n+1] = depolynomize(sig_poly[n+1])\n",
    "\n",
    "    E_eq[n+1] = re(sig_eq[n+1]) - variant_sign * epsiloninv * sqrt(2) * Et_eq[n]\n",
    "    E_poly[n+1] = polynomize(E_eq[n+1])\n",
    "    E_eq[n+1] = depolynomize(E_poly[n+1])\n",
    "\n",
    "    Et_eq[n+1] = im(sig_eq[n+1])\n",
    "    for k in range(n-1, -1, -2):\n",
    "        Et_eq[n+1] += Et_eq[k] * epsiloninv**(n+1-k) * a_coeff((n+1-k)//2 - 1)\n",
    "    Et_poly[n+1] = polynomize(Et_eq[n+1])\n",
    "    Et_eq[n+1] = depolynomize(Et_poly[n+1])\n",
    "\n",
    "    \n",
    "for n in range(0, N+1):\n",
    "    display(Eq(sig_sym[n], sig_poly[n]))\n",
    "    #display(Eq(re(r_sym[n]), re(r_poly[n] + O(epsilon**2))))\n",
    "    #display(Eq(re(sig_sym[n]), re(sig_poly[n] + O(epsilon**2))))\n",
    "    display(Eq(E_sym[n], E_poly[n]))\n"
   ]
  },
  {
   "cell_type": "code",
   "execution_count": null,
   "id": "90f3a159",
   "metadata": {},
   "outputs": [],
   "source": [
    "energy = E_poly[7].coeffs()[-1]\n",
    "monomial = Add.make_args(energy)[0]\n",
    "display(Add.make_args(monomial))"
   ]
  },
  {
   "cell_type": "code",
   "execution_count": null,
   "id": "5958c6d9",
   "metadata": {},
   "outputs": [],
   "source": [
    "energy = sig_eq[6]\n",
    "\n",
    "def reduce(expr, sym):\n",
    "    print(\"REDUCE: \", str(expr))\n",
    "    reduction = expr\n",
    "    summands = Add.make_args(expr)\n",
    "    for summand in expr.args:\n",
    "        for factor in summand.args:\n",
    "            print(\"Summand: \", str(summand), \"Factor: \", str(factor))\n",
    "            coefficient = 1\n",
    "            if str(sym) not in str(factor):\n",
    "                coefficient = factor\n",
    "                print(\"coefficient: \", coefficient)\n",
    "            if str(sym) in str(factor) and '{x' in str(factor) and '**' not in str(factor):\n",
    "                display(str(factor))\n",
    "                \n",
    "                factor_integrated = Symbol(str(factor).replace('x', '', 1).replace('('+str(sym)+')_{}', str(sym), 1), real=True)\n",
    "                print(\"integrand: \", str(factor_integrated))\n",
    "                rest_deriv = deriv(simplify(summand / factor))\n",
    "                print(\"deriv: \", str(rest_deriv))\n",
    "                if rest_deriv == 0:\n",
    "                    reduction = simplify(reduction - summand)\n",
    "                    return reduction\n",
    "                else:\n",
    "                    new = - factor_integrated * rest_deriv\n",
    "                    print(\"new: \", str(new))\n",
    "                    for new_summand in Add.make_args(new):\n",
    "                        new_coefficient = 1\n",
    "                        if str(sym) not in str(new_summand.args[0]):\n",
    "                                new_coefficient = new_summand.args[0]\n",
    "                                print(\"New coefficient: \", new_coefficient)\n",
    "                                \n",
    "                        for other_summand in Add.make_args(expr):\n",
    "                            print(\"Other summand: \", other_summand)\n",
    "                            other_coefficient = 1\n",
    "                            if str(sym) not in str(other_summand.args[0]):\n",
    "                                other_coefficient = other_summand.args[0]\n",
    "                                print(\"Other coefficient: \", other_coefficient)\n",
    "\n",
    "                            print(\"Compare: \", other_summand / other_coefficient, \"with\", new_summand / new_coefficient)\n",
    "                            print(\"Find: \", simplify(other_summand / other_coefficient - new_summand / new_coefficient))\n",
    "                            if simplify(other_summand / other_coefficient - new_summand / new_coefficient) == 0:\n",
    "                                print(\"We have a match: \")\n",
    "                                print(other_summand / other_coefficient, other_coefficient)\n",
    "\n",
    "                                reduction = simplify(reduction - new / new_coefficient * other_coefficient)\n",
    "                                return reduction\n",
    "                                \n",
    "energy = reduce(energy, Symbol('v', real=True))\n",
    "energy = reduce(energy, Symbol('v', real=True))\n",
    "energy = reduce(energy, Symbol('v', real=True))\n",
    "energy = reduce(energy, Symbol('v', real=True))\n",
    "energy = reduce(energy, Symbol('v', real=True))\n",
    "energy = reduce(energy, Symbol('v', real=True))\n",
    "energy = reduce(energy, Symbol('v', real=True))\n",
    "energy = reduce(energy, Symbol('v', real=True))\n"
   ]
  },
  {
   "cell_type": "code",
   "execution_count": null,
   "id": "1da733bb",
   "metadata": {},
   "outputs": [],
   "source": [
    "import pickle\n",
    "import datetime\n",
    "\n",
    "\n",
    "output_folder = \"res/\"\n",
    "\n",
    "def p_coeff(n):\n",
    "    if n == -1:\n",
    "        return simplify(epsilon / sqrt(2))\n",
    "    if n >= 0:\n",
    "        return simplify(1 / sqrt(2) * epsiloninv**(2*n+1) * Rational((-2)**(-n) * (factorial(2*n) / (factorial(n) * factorial(n+1)))))\n",
    "    return 0\n",
    "\n",
    "def q_coeff(n):\n",
    "    if n % 2 == 0 or n < 0:\n",
    "        return 0\n",
    "    else:\n",
    "        nn = (n - 1) // 2\n",
    "        if nn % 2 == 0:\n",
    "            return I**n * epsiloninv**n * catalan(nn) / (sqrt(2) * 2**nn)\n",
    "        elif nn % 2 == 1:\n",
    "            return - I**n * epsiloninv**n * catalan(nn) / (sqrt(2) * 2**nn)\n",
    "        \n",
    "def qt_coeff(n):\n",
    "    if n % 2 == 0 or n < 0:\n",
    "        return 0\n",
    "    else:\n",
    "        nn = (n - 1) // 2\n",
    "        if nn % 2 == 0:\n",
    "            return (-1)**n * epsiloninv**n * catalan(nn) / (sqrt(2) * 2**nn)\n",
    "        elif nn % 2 == 1:\n",
    "            return - (-1)**n * epsiloninv**n * catalan(nn) / (sqrt(2) * 2**nn)\n",
    "        \n",
    "        \n",
    "def a_coeff(n):\n",
    "    return catalan(n) / 2**n\n",
    "    \n",
    "N = 18\n",
    "\n",
    "r_sym = [Symbol('r_{' + str(n) + '}') for n in range(N+1)]\n",
    "r_eq = [r_sym[n] for n in range(N+1)]\n",
    "r_poly = [r_sym[n] for n in range(N+1)]\n",
    "\n",
    "R_sym = [Symbol('R_{' + str(n) + '}') for n in range(N+1)]\n",
    "R_eq = [R_sym[n] for n in range(N+1)]\n",
    "R_poly = [R_sym[n] for n in range(N+1)]\n",
    "\n",
    "r_factor = 1 \n",
    "lam, mu = symbols('\\lambda, mu')\n",
    "\n",
    "r_eq[0] = r_factor * (- I * sqrt(2) * epsiloninv)\n",
    "r_eq[1] = r_factor * (u - epsiloninv**2 + (Rational(1, 2) + epsilon**2 * v**2 / 2) * r_eq[0]**2)\n",
    "r_poly[0] = polynomize(r_eq[0])\n",
    "r_poly[1] = polynomize(r_eq[1])\n",
    "\n",
    "R_eq[0] = sqrt(2) * epsilon\n",
    "R_eq[1] = 2 #epsilon**2 * u + 1 + (Rational(1, 2) * epsiloninv**2 - v**2 / 2) * R_eq[0]**2\n",
    "R_poly[0] = polynomize(R_eq[0])\n",
    "R_poly[1] = polynomize(R_eq[1])\n",
    "\n",
    "\n",
    "for n in range(1, N):\n",
    "    \n",
    "    print(\"n =\", n)\n",
    "    print(datetime.datetime.now())\n",
    "\n",
    "    #X = 0\n",
    "    #\n",
    "    #X += - deriv(r_eq[n]) + q_coeff(n) * epsiloninv**2\n",
    "    #\n",
    "    #for k in range(0, n+1):\n",
    "    #    X += (Rational(1, 2) + epsilon**2 * v**2 / 2) * r_eq[k] * r_eq[n-k]\n",
    "    #\n",
    "    #for k in range(1, n+1):\n",
    "    #    X += epsilon / (2 * sqrt(2) * I) * r_eq[k] * r_eq[n+1-k]\n",
    "    #\n",
    "    #for k in range(0, n+1):\n",
    "    #    for j in range(0, k+1):\n",
    "    #        X += q_coeff(j) * r_eq[k-j] * r_eq[n-k] / 2\n",
    "    #        \n",
    "    #r_eq[n+1] = r_factor * X\n",
    "    #r_poly[n+1] = polynomize(r_eq[n+1])\n",
    "    #r_eq[n+1] = depolynomize(r_poly[n+1])\n",
    "    \n",
    "    #display(Eq(r_sym[n+1], r_poly[n+1]))\n",
    "    \n",
    "    X = 0\n",
    "\n",
    "    #X += - deriv(R_eq[n]) \n",
    "    \n",
    "    X += - qt_coeff(n)\n",
    "    \n",
    "    #display(Eq(Symbol('A'), polynomize(- qt_coeff(n))))\n",
    "    \n",
    "    Y = 0\n",
    "    for k in range(0, n+1):\n",
    "        X += (epsiloninv**2 / 2 - v**2 / 2) * R_eq[k] * R_eq[n-k]\n",
    "        Y += (epsiloninv**2 / 2 - v**2 / 2) * R_eq[k] * R_eq[n-k]\n",
    "        \n",
    "    display(Eq(Symbol('B'), polynomize(Y) + O(epsilon)))\n",
    "    \n",
    "    Y = 0\n",
    "    for k in range(1, n+1):\n",
    "        X -= epsiloninv / (2 * sqrt(2)) * R_eq[k] * R_eq[n+1-k]\n",
    "        Y -= epsiloninv / (2 * sqrt(2)) * R_eq[k] * R_eq[n+1-k]\n",
    "\n",
    "    display(Eq(Symbol('C'), polynomize(Y) + O(epsilon)))\n",
    "\n",
    "    Y = 0\n",
    "    for k in range(0, n+1):\n",
    "        for j in range(0, k+1):\n",
    "            X += epsiloninv**2 / 2 * qt_coeff(j) * R_eq[k-j] * R_eq[n-k]\n",
    "            Y += epsiloninv**2 / 2 * qt_coeff(j) * R_eq[k-j] * R_eq[n-k]\n",
    "            \n",
    "    display(Eq(Symbol('D'), polynomize(Y) + O(epsilon)))\n",
    "\n",
    "    R_eq[n+1] = r_factor * X\n",
    "    R_poly[n+1] = polynomize(R_eq[n+1])\n",
    "    R_eq[n+1] = depolynomize(R_poly[n+1])\n",
    "    \n",
    "    display(Eq(R_sym[n+1], R_poly[n+1] + O(epsilon)))\n"
   ]
  },
  {
   "cell_type": "code",
   "execution_count": null,
   "id": "302d36f3",
   "metadata": {},
   "outputs": [],
   "source": [
    "#pickle.dump([polynomize(s) for s in sig_eq], open(\"data/poly_sig_eq_\" + str(7) + \".p\", \"wb\"))\n",
    "#pickle.dump([polynomize(r) for r in r_eq], open(\"data/poly_r_eq_\" + str(7) + \".p\", \"wb\"))\n",
    "\n",
    "\n",
    "for n in range(N+1):\n",
    "    \n",
    "    display(Eq(sig_sym[n], polynomize(sig_eq[n])))\n",
    "\n",
    "        \n",
    "    if n == 0:\n",
    "        F_eq[0] = re(sig_eq[0])\n",
    "        display(Eq(F_sym[0], polynomize(F_eq[0])))\n",
    "        \n",
    "        Ft_eq[0] = im(sig_eq[0])\n",
    "        display(Eq(Ft_sym[0], polynomize(Ft_eq[0])))\n",
    "        \n",
    "    if n == 1:\n",
    "        F_eq[1] = re(sig_eq[1]) - epsiloninv * sqrt(2) * Ft_eq[0]\n",
    "        display(Eq(F_sym[1], polynomize(F_eq[1])))\n",
    "        \n",
    "        Ft_eq[1] = im(sig_eq[1])\n",
    "        display(Eq(Ft_sym[1], polynomize(Ft_eq[1])))\n",
    "        \n",
    "    if n == 2:\n",
    "        F_eq[2] = re(sig_eq[2]) - epsiloninv * sqrt(2) * Ft_eq[1]\n",
    "        display(Eq(F_sym[2], polynomize(F_eq[2])))\n",
    "        \n",
    "        Ft_eq[2] = im(sig_eq[2]) + epsiloninv**2 * Ft_eq[0]\n",
    "        display(Eq(Ft_sym[2], polynomize(Ft_eq[2])))\n",
    "       \n",
    "    if n == 3:\n",
    "        F_eq[3] = re(sig_eq[3]) - epsiloninv * sqrt(2) * Ft_eq[2]\n",
    "        display(Eq(F_sym[3], polynomize(F_eq[3])))\n",
    "        \n",
    "        Ft_eq[3] = im(sig_eq[3]) + epsiloninv**2 * Ft_eq[1]\n",
    "        display(Eq(Ft_sym[3], polynomize(Ft_eq[3])))\n",
    "        \n",
    "    if n == 4:\n",
    "        F_eq[4] = re(sig_eq[4]) - epsiloninv * sqrt(2) * Ft_eq[3]\n",
    "        display(Eq(F_sym[4], polynomize(F_eq[4])))\n",
    "        \n",
    "        Ft_eq[4] = im(sig_eq[4]) + epsiloninv**2 * Ft_eq[2] + epsiloninv**4 / 2 * Ft_eq[0]\n",
    "        display(Eq(Ft_sym[4], polynomize(Ft_eq[4])))\n",
    "        \n",
    "    if n == 5:\n",
    "        F_eq[5] = re(sig_eq[5]) - epsiloninv * sqrt(2) * Ft_eq[4]\n",
    "        display(Eq(F_sym[5], polynomize(F_eq[5])))\n",
    "        \n",
    "        Ft_eq[5] = im(sig_eq[5]) + epsiloninv**2 * Ft_eq[3] + epsiloninv**4 / 2 * Ft_eq[1]\n",
    "        display(Eq(Ft_sym[5], polynomize(Ft_eq[5])))\n",
    "        \n",
    "    if n == 6:\n",
    "        F_eq[6] = re(sig_eq[6]) - epsiloninv * sqrt(2) * Ft_eq[5]\n",
    "        display(Eq(F_sym[6], polynomize(F_eq[6])))\n",
    "        \n",
    "        Ft_eq[6] = im(sig_eq[6]) + epsiloninv**2 * Ft_eq[4] + epsiloninv**4 / 2 * Ft_eq[2] + epsiloninv**6 / 2 * Ft_eq[0]\n",
    "        display(Eq(Ft_sym[6], polynomize(Ft_eq[6])))\n",
    "        \n",
    "    if n == 7:\n",
    "        F_eq[7] = re(sig_eq[7]) - epsiloninv * sqrt(2) * Ft_eq[6]\n",
    "        display(Eq(F_sym[7], polynomize(F_eq[7])))\n",
    "        \n",
    "        Ft_eq[7] = im(sig_eq[7]) + epsiloninv**2 * Ft_eq[5] + epsiloninv**4 / 2 * Ft_eq[3] + epsiloninv**6 / 2 * Ft_eq[1]\n",
    "        display(Eq(Ft_sym[7], polynomize(Ft_eq[7])))\n",
    "        \n",
    "    #display(Eq(r_sym[n], polynomize(r_eq[n])))\n",
    "\n"
   ]
  },
  {
   "cell_type": "code",
   "execution_count": null,
   "id": "ad5764a4",
   "metadata": {},
   "outputs": [],
   "source": [
    "X = Symbol('X')\n",
    "\n",
    "epsilon = Symbol('\\\\epsilon', positive=True)\n",
    "\n",
    "eqn = 1 / (2 + sqrt(1 - epsilon**2 / (2 * X**2)) + 1 / sqrt(1 - epsilon**2 / (2 * X**2)))\n",
    "\n",
    "ser = series(eqn, x0=0, x=X, n=None)\n",
    "\n",
    "display(simplify(next(ser)))\n",
    "\n",
    "for n in range(15):\n",
    "    print(\"n =\", n)\n",
    "    display(simplify(next(ser)))\n",
    "    #display(polynomize(q_coeff(2*n+1)))\n",
    "    #display(polynomize(epsiloninv**(2*n+1) * I / (sqrt(2)**(2*n+1)) * catalan(n)))"
   ]
  },
  {
   "cell_type": "code",
   "execution_count": null,
   "id": "5cdbc2e7",
   "metadata": {},
   "outputs": [],
   "source": [
    "\n",
    "def sqrtt(x):\n",
    "    return I*sqrt(-x)\n",
    "\n",
    "X = Symbol('X')\n",
    "\n",
    "epsilon = Symbol('epsilon', positive=True)\n",
    "\n",
    "eqn = sqrtt(- (u + (sqrtt(1 - epsilon**2 / 2 / X**2) - 1) / epsilon**2) / (1 + epsilon**2 * v + sqrtt(1 - epsilon**2 / 2 / X**2)))\n",
    "#eqn = 1 / (1 - sqrt(1 - epsilon**2 / 2 * X**2))\n",
    "ser = series(eqn, x0 = 0, x=X, n=None)\n",
    "\n",
    "for j in range(15):\n",
    "    display(simplify(next(ser)))\n"
   ]
  },
  {
   "cell_type": "code",
   "execution_count": null,
   "id": "06d788c7",
   "metadata": {},
   "outputs": [],
   "source": [
    "def L(n):\n",
    "    if n == 0:\n",
    "        return - I\n",
    "    if n == 1: \n",
    "        return sqrt(2) / 4\n",
    "    if n >= 2 and n % 2 == 0:\n",
    "        nn = n // 2\n",
    "        return I * catalan(nn-1) / sqrt(2)**(5*n-2)\n",
    "    return 0\n",
    "\n",
    "def Lt(n):\n",
    "    if n == 0:\n",
    "        return - I\n",
    "    if n == 1: \n",
    "        return - sqrt(2) / 4\n",
    "    if n >= 2 and n % 2 == 0:\n",
    "        nn = n // 2\n",
    "        return I * catalan(nn-1) / sqrt(2)**(5*n-2)\n",
    "    return 0\n",
    "\n",
    "def G(n):\n",
    "    if n == 0:\n",
    "        return 1\n",
    "    if n % 2 == 1 and n >= 0:\n",
    "        return - binomial(2 * (n//2), n//2) * sqrt(2) * I * epsiloninv**n / 2**(n//2)\n",
    "    else:\n",
    "        return 0\n",
    "    \n",
    "def sqrtt(x):\n",
    "    return I*sqrt(-x)\n",
    "\n",
    "epsilon = Symbol('epsilon', positive=True)\n",
    "\n",
    "X = Symbol('X')\n",
    "theta = Symbol('theta')\n",
    "\n",
    "eqn = 1 - 1 / (epsilon / (sqrt(2) * I) * X * sqrt(1 - 2 / (epsilon**2 * X**2)))\n",
    "ser = series(eqn, x0 = oo, x=X, n=None)\n",
    "for n in range(-1,11):\n",
    "    print(\"n =\", n)\n",
    "    display(next(ser))\n",
    "    if n == -1:\n",
    "        display(polynomize(G(0)))\n",
    "    else:\n",
    "        display(polynomize(G(2*n+1)))\n",
    "    \n",
    "for n in range(-5, 5):\n",
    "    display(binomial(Rational(1,2), n) * (-epsilon**2/2)**n)\n",
    "    \n",
    "for n in range(-1, 14):\n",
    "    display(polynomize(I * (-1)**n * p_coeff(n)))\n",
    "    pass\n",
    "\n",
    "eqn = I / sqrt(1 + 2 / (sqrtt(1 + 2 * (4) * theta**2) - 1))\n",
    "ser = series(eqn, x0 = oo, x=theta, n=17)\n",
    "#display(Eq(eqn, ser))\n",
    "\n",
    "eqn2 = I / sqrtt(1 - 2 / (sqrtt(1 + 2 * (4) * theta**2) + 1))\n",
    "ser2 = series(eqn2, x0 = oo, x=theta, n=17)\n",
    "#display(Eq(eqn2, ser2))\n",
    "\n",
    "for n in range(14):\n",
    "    #display(L(n))\n",
    "    pass\n",
    "\n"
   ]
  },
  {
   "cell_type": "code",
   "execution_count": null,
   "id": "018debcc",
   "metadata": {},
   "outputs": [],
   "source": [
    "def binomial2(n, k):\n",
    "    return factorial2(n) / (factorial2(k) * factorial2(n - k))\n",
    "\n",
    "def PPP(l, n):\n",
    "    if l == 0:\n",
    "        if n == 0:\n",
    "            return -1\n",
    "        return 0\n",
    "    return (-1)**((l-1)//2 + (n+1)//2) * (2 * sqrt(2))**(l - n) * binomial(-Rational(1,2) - n//2, l - n)\n",
    "\n",
    "def PPPt(n, k):\n",
    "    if n - k < 0:\n",
    "        return 0\n",
    "    if n - k == 0:\n",
    "        return -1\n",
    "    else:\n",
    "        return (-1)**(1+(n-1)//2+(k-1)//2) * (2 * sqrt(2))**(n-k) * binomial(n - 1 - k//2, (k-1)//2)\n",
    "\n",
    "def BB3(n, s, k):\n",
    "    if k % 2 == 0:\n",
    "        return (-1)**(1+s//2+(n+1)//2) * (2 * sqrt(2))**(n-s) * binomial(n - (s+1)//2, s//2)\n",
    "    if k % 2 == 1:\n",
    "        return (-1)**(1+(s-1)//2+(n+1)//2) * (2 * sqrt(2))**(n-s) * binomial(n - s//2 - 1, (s-1)//2)\n",
    "    \n",
    "def BBt3(n, s, k):\n",
    "    if k % 2 == 0:\n",
    "        return (-1)**(1+(s-1)//2+(n+1)//2) * (2 * sqrt(2))**(n-s) * binomial(n - s//2 - 1, (s-1)//2)\n",
    "    if k % 2 == 1:\n",
    "        return (-1)**(1+s//2+(n+1)//2) * (2 * sqrt(2))**(n-s) * binomial(n - (s+1)//2, s//2)\n",
    "\n",
    "def BBtt3(n, s, k):\n",
    "    if k % 2 == 0:\n",
    "        return (-1)**(s//2+n//2) * (2 * sqrt(2))**(n-s) * binomial2(2*(n - (s+1)//2) - 1, 2*(s//2) - 1)\n",
    "    if k % 2 == 1:\n",
    "        return (-1)**((s+1)//2+n//2) * (2 * sqrt(2))**(n-s) * binomial2(2*(n - s//2) - 1, 2*((s+1)//2) - 1)\n",
    "\n",
    "def BBttt3(n, s, k):\n",
    "    if k % 2 == 0:\n",
    "        return (-1)**((s+1)//2+n//2) * (2 * sqrt(2))**(n-s) * binomial2(2*(n - s//2) - 1, 2*((s+1)//2) - 1)\n",
    "    if k % 2 == 1:\n",
    "        return (-1)**(s//2+n//2) * (2 * sqrt(2))**(n-s) * binomial2(2*(n - (s+1)//2) - 1, 2*(s//2) - 1)\n",
    "\n",
    "def JJ(n, s):\n",
    "    return PPPt(n, s-1)\n",
    "    return (-1)**((n-1)//2 + s//2) * (2 * sqrt(2))**(n+1-s) *  binomial(n - (s+1)//2, s//2 - 1)\n",
    "\n",
    "def JJt(n, s):\n",
    "    return PPP(n, s-1)\n",
    "    if s == 0:\n",
    "        return - (-1)**(n//2 + (s+1)//2) / sqrt(2)**(n-1-s) * catalan(n)\n",
    "    return (-1)**(n//2 + (s+1)//2) / sqrt(2)**(n+1-s) * binomial(n-s//2, (s-1)//2) * binomial(2*(n-s//2), n-s//2) / binomial(2*((s-1)//2), (s-1)//2)\n",
    "\n",
    "def L(n):\n",
    "    if n == 0:\n",
    "        return I\n",
    "    if n == 1: \n",
    "        return - sqrt(2)\n",
    "    if n >= 2 and n % 2 == 0:\n",
    "        nn = n // 2\n",
    "        return - I * catalan(nn-1) / 2**(nn-1)\n",
    "    return 0\n",
    "\n",
    "N = 5\n",
    "\n",
    "lam = Symbol('\\lambda', real=True)\n",
    "\n",
    "F_sym = [Symbol('F_{' + str(n) + '}') for n in range(N+1)]\n",
    "Ft_sym = [Symbol('\\\\tilde{F}_{' + str(n) + '}') for n in range(N+1)]\n",
    "\n",
    "F_eq = [F_sym[n] for n in range(N+1)]\n",
    "Ft_eq = [Ft_sym[n] for n in range(N+1)]\n",
    "\n",
    "E_sym = [Symbol('E_{' + str(n) + '}') for n in range(N+1)]\n",
    "Et_sym = [Symbol('\\\\tilde{E}_{' + str(n) + '}') for n in range(N+1)]\n",
    "\n",
    "E_eq = [E_sym[n] for n in range(N+1)]\n",
    "Et_eq = [Et_sym[n] for n in range(N+1)]\n",
    "\n",
    "E_alt = [E_sym[n] for n in range(N+1)]\n",
    "Et_alt = [Et_sym[n] for n in range(N+1)]\n",
    "\n",
    "\n",
    "H_sym = [Symbol('H_{' + str(n) + '}') for n in range(N+1)]\n",
    "Ht_sym = [Symbol('\\\\tilde{H}_{' + str(n) + '}') for n in range(N+1)]\n",
    "\n",
    "H_eq = [H_sym[n] for n in range(N+1)]\n",
    "Ht_eq = [Ht_sym[n] for n in range(N+1)]\n",
    "\n",
    "omega_sym = [Symbol('\\\\omega_{' + str(n) + '}') for n in range(N+1)]\n",
    "omegat_sym = [Symbol('\\\\tilde{\\\\omega}_{' + str(n) + '}') for n in range(N+1)]\n",
    "\n",
    "omega_eq = [omega_sym[n] for n in range(N+1)]\n",
    "omegat_eq = [omegat_sym[n] for n in range(N+1)]\n",
    "\n",
    "H_alt = [H_sym[n] for n in range(N+1)]\n",
    "Ht_alt = [Ht_sym[n] for n in range(N+1)]\n",
    "\n",
    "r_sym = [Symbol('r_{' + str(n) + '}') for n in range(N+1)]\n",
    "r_eq = [r_sym[n] for n in range(N+1)]\n",
    "\n",
    "R_sym = [Symbol('R_{' + str(n) + '}') for n in range(N+1)]\n",
    "R_eq = [R_sym[n] for n in range(N+1)]\n",
    "\n",
    "Rt_sym = [Symbol('\\\\tilde{R}_{' + str(n) + '}') for n in range(N+1)]\n",
    "Rt_eq = [Rt_sym[n] for n in range(N+1)]\n",
    "\n",
    "r_eq[0] = - sqrt(2) * I * epsiloninv\n",
    "r_eq[1] = u - v - 2 * epsiloninv**2\n",
    "\n",
    "R_eq[0] = lam * im(r_eq[0])\n",
    "R_eq[1] = lam * re(r_eq[1])\n",
    "\n",
    "Rt_eq[0] = 0\n",
    "Rt_eq[1] = 0\n",
    "\n",
    "F_eq[0] = - epsilon / (2 * sqrt(2)) * (u + v)\n",
    "F_eq[1] = (u - v) / 2 + epsilon**2 * (u * v / 2 - (u + v)**2 / 8)\n",
    "Ft_eq[0] = 0\n",
    "Ft_eq[1] = - epsilon / (2 * sqrt(2)) * deriv(u + v + lam * 2 * v)\n",
    "\n",
    "E_eq[0] = F_eq[0]\n",
    "E_eq[1] = F_eq[1] + epsiloninv * PPP(1, 0) * E_eq[0]\n",
    "Et_eq[0] = 0\n",
    "Et_eq[1] = Ft_eq[1] + epsiloninv * PPPt(1, 0) * Et_eq[0]\n",
    "\n",
    "H_eq[0] = Et_eq[0]\n",
    "H_eq[1] = E_eq[1]\n",
    "Ht_eq[0] = E_eq[0]\n",
    "Ht_eq[1] = Et_eq[1]\n",
    "\n",
    "S_sym = [Symbol('S_{' + str(n) + '}') for n in range(N+1)]\n",
    "\n",
    "S_eq = [S_sym[n] for n in range(N+1)]\n",
    "\n",
    "S_eq[0] = 0\n",
    "S_eq[1] = u\n",
    "\n",
    "for n in range(1, N):\n",
    "    X = deriv(S_eq[n])\n",
    "    \n",
    "    for k in range(n+1):\n",
    "        X += S_eq[k] * S_eq[n-k]\n",
    "    \n",
    "    #S_eq[n+1] = X\n",
    "\n",
    "\n",
    "for n in range(1, N):\n",
    "    print(n)\n",
    "    \n",
    "    X = 0\n",
    "    \n",
    "    X -= deriv(r_eq[n])\n",
    "    \n",
    "    for k in range(0, n+1):\n",
    "        X += (1 + epsilon**2 / 2 * v) * r_eq[k] * r_eq[n-k]\n",
    "    \n",
    "    for k in range(1, n+1):\n",
    "        X -= I * epsilon / (2 * sqrt(2)) * r_eq[k] * r_eq[n+1-k]\n",
    "    \n",
    "    r_eq[n+1] = X\n",
    "    \n",
    "    if (n+1) % 2 == 0:\n",
    "        R_eq[n+1] = lam * im(r_eq[n+1])\n",
    "        Rt_eq[n+1] = lam * re(r_eq[n+1])\n",
    "    elif (n+1) % 2 == 1:\n",
    "        R_eq[n+1] = lam * re(r_eq[n+1])\n",
    "        Rt_eq[n+1] = lam * im(r_eq[n+1])\n",
    "        \n",
    "    X = 0\n",
    "    \n",
    "    X += epsilon**2 / 2 * deriv(v) * Rt_eq[n]\n",
    "    \n",
    "    for k in range(0, n+1):\n",
    "        X += epsiloninv**(n+1-k) * PPP(n+1, k) * E_eq[k] - epsiloninv**(n-k) * PPPt(n, k) * deriv(Et_eq[k])\n",
    "                \n",
    "        for j in range(k, n+1):\n",
    "            for m in range(0, n-j+1):\n",
    "                X += epsiloninv**(n - k - m) * (n%2 + ((n+1)%2)*(-1)**j) * PPPt(j, k) * PPPt(n-j, m) * Et_eq[k] * Et_eq[m]\n",
    "                pass\n",
    "            \n",
    "            for m in range(0, n-j+1):\n",
    "                X += epsiloninv**(n - k - m) * (n%2 - ((n+1)%2)*(-1)**j) * PPP(j, k) * PPP(n-j, m) * E_eq[k] * E_eq[m]\n",
    "                pass\n",
    "            \n",
    "        for j in range(1, n+2-k): \n",
    "            X -= epsiloninv**(n+1-k) * E_eq[k] * 2 * catalan(j-1) / sqrt(2)**j * (-1)**((j+n%2)//2) * PPP(n+1-j, k)\n",
    "            pass\n",
    "        \n",
    "    E_eq[n+1] = X\n",
    "    \n",
    "    X = 0\n",
    "    \n",
    "    X += epsilon**2 / 2 * deriv(v) * R_eq[n]\n",
    "    \n",
    "    for k in range(0, n+1):\n",
    "        X += epsiloninv**(n+1-k) * PPPt(n+1, k) * Et_eq[k] - epsiloninv**(n-k) * PPP(n, k) * deriv(E_eq[k])\n",
    "        \n",
    "        for j in range(k, n+1):\n",
    "            for m in range(0, n-j+1):\n",
    "                X += epsiloninv**(n - k - m) * ((n+1)%2 + (n%2)*(-1)**j) * PPPt(j, k) * PPP(n-j, m) * Et_eq[k] * E_eq[m]\n",
    "                pass\n",
    "            \n",
    "            for m in range(0, n-j+1):\n",
    "                X += epsiloninv**(n - k - m) * ((n+1)%2 - (n%2)*(-1)**j) * PPP(j, k) * PPPt(n-j, m) * E_eq[k] * Et_eq[m]\n",
    "                pass\n",
    "            \n",
    "        for j in range(1, n+2-k): \n",
    "            X -= epsiloninv**(n+1-k) * Et_eq[k] * 2 * catalan(j-1) / sqrt(2)**j * (-1)**((j+(n+1)%2)//2) * PPPt(n+1-j, k)\n",
    "            pass    \n",
    "    \n",
    "    Et_eq[n+1] = X\n",
    "    \n",
    "    \n",
    "for n in range(0, N // 2):\n",
    "    \n",
    "    \n",
    "    X = 0\n",
    "    \n",
    "    X += epsilon**2 * deriv(v) / 2 * R_eq[2*n+1]\n",
    "    \n",
    "    for s in range(0, n+1):\n",
    "        X += epsiloninv**(2*n+2-2*s) * JJt(2*n+1, 2*s) * H_eq[2*s]\n",
    "        X -= epsiloninv**(2*n+1-2*s) * PPP(2*n+1, 2*s) * deriv(Ht_eq[2*s])\n",
    "        \n",
    "        for k in range(0, 2*s+1):\n",
    "            X += 2 * BBtt3(2*n+1, 2*s, 0) * epsiloninv**(2*n+1-2*s) * H_eq[k] * Ht_eq[2*s-k]\n",
    "            \n",
    "    for s in range(0, n+1):\n",
    "        X += epsiloninv**(2*n+2-2*s-1) * JJt(2*n+1, 2*s+1) * Ht_eq[2*s+1]\n",
    "        X -= epsiloninv**(2*n+1-2*s-1) * PPP(2*n+1, 2*s+1) * deriv(H_eq[2*s+1])\n",
    "        \n",
    "        for k in range(0, 2*s+2):\n",
    "            X += BBtt3(2*n+1, 2*s+1, 0) * epsiloninv**(2*n+1-2*s-1) * H_eq[k] * H_eq[2*s+1-k]\n",
    "            X += BBttt3(2*n+1, 2*s+1, 0) * epsiloninv**(2*n+1-2*s-1) * Ht_eq[k] * Ht_eq[2*s+1-k]\n",
    "        \n",
    "    if 2*n+2 <= N:\n",
    "        H_eq[2*n+2] = X\n",
    "\n",
    "    \n",
    "    X = 0\n",
    "    \n",
    "    X += epsilon**2 * deriv(v) / 2 * Rt_eq[2*n+1]\n",
    "    \n",
    "    for s in range(0, n+1):\n",
    "        X += epsiloninv**(2*n+2-2*s) * JJ(2*n+1, 2*s) * Ht_eq[2*s]\n",
    "        X -= epsiloninv**(2*n+1-2*s) * PPPt(2*n+1, 2*s) * deriv(H_eq[2*s])\n",
    "        \n",
    "        for k in range(0, 2*s+1):\n",
    "            X += BB3(2*n+1, 2*s, 0) * epsiloninv**(2*n+1-2*s) * Ht_eq[k] * Ht_eq[2*s-k]\n",
    "            X += BBt3(2*n+1, 2*s, 0) * epsiloninv**(2*n+1-2*s) * H_eq[k] * H_eq[2*s-k]\n",
    "        \n",
    "    for s in range(0, n+1):\n",
    "        X += epsiloninv**(2*n+2-2*s-1) * JJ(2*n+1, 2*s+1) * H_eq[2*s+1]\n",
    "        X -= epsiloninv**(2*n+1-2*s-1) * PPPt(2*n+1, 2*s+1) * deriv(Ht_eq[2*s+1])\n",
    "        \n",
    "        for k in range(0, 2*s+2):\n",
    "            X += 2 * BB3(2*n+1, 2*s+1, 0) * epsiloninv**(2*n+1-2*s-1) * Ht_eq[k] * H_eq[2*s+1-k]\n",
    "       \n",
    "    if 2*n+2 <= N:\n",
    "        Ht_eq[2*n+2] = X\n",
    "    \n",
    "    \n",
    "    X = 0\n",
    "    \n",
    "    X += epsilon**2 * deriv(v) / 2 * Rt_eq[2*n+2]\n",
    "    \n",
    "    for s in range(0, n+2):\n",
    "        X += epsiloninv**(2*n+3-2*s) * JJ(2*n+2, 2*s) * Ht_eq[2*s]\n",
    "        X -= epsiloninv**(2*n+2-2*s) * PPPt(2*n+2, 2*s) * deriv(H_eq[2*s])\n",
    "        \n",
    "        for k in range(0, 2*s+1):\n",
    "            X += BB3(2*n+2, 2*s, 0) * epsiloninv**(2*n+2-2*s) * Ht_eq[k] * Ht_eq[2*s-k]\n",
    "            X += BBt3(2*n+2, 2*s, 0) * epsiloninv**(2*n+2-2*s) * H_eq[k] * H_eq[2*s-k]\n",
    "        \n",
    "    for s in range(0, n+1):\n",
    "        X += epsiloninv**(2*n+3-2*s-1) * JJ(2*n+2, 2*s+1) * H_eq[2*s+1]\n",
    "        X -= epsiloninv**(2*n+2-2*s-1) * PPPt(2*n+2, 2*s+1) * deriv(Ht_eq[2*s+1])\n",
    "        \n",
    "        for k in range(0, 2*s+2):\n",
    "            X += 2 * BB3(2*n+2, 2*s+1, 0) * epsiloninv**(2*n+2-2*s-1) * Ht_eq[k] * H_eq[2*s+1-k]\n",
    "        \n",
    "    if 2*n+3 <= N:\n",
    "        H_eq[2*n+3] = X\n",
    "    \n",
    "    \n",
    "    X = 0\n",
    "    \n",
    "    X += epsilon**2 * deriv(v) / 2 * R_eq[2*n+2]\n",
    "    \n",
    "    for s in range(0, n+2):\n",
    "        X += epsiloninv**(2*n+3-2*s) * JJt(2*n+2, 2*s) * H_eq[2*s]\n",
    "        X -= epsiloninv**(2*n+2-2*s) * PPP(2*n+2, 2*s) * deriv(Ht_eq[2*s])\n",
    "        \n",
    "        for k in range(0, 2*s+1):\n",
    "            X += 2 * BBtt3(2*n+2, 2*s, 0) * epsiloninv**(2*n+2-2*s) * H_eq[k] * Ht_eq[2*s-k]\n",
    "            \n",
    "    for s in range(0, n+1):\n",
    "        X += epsiloninv**(2*n+3-2*s-1) * JJt(2*n+2, 2*s+1) * Ht_eq[2*s+1]\n",
    "        X -= epsiloninv**(2*n+2-2*s-1) * PPP(2*n+2, 2*s+1) * deriv(H_eq[2*s+1])\n",
    "        \n",
    "        for k in range(0, 2*s+2):\n",
    "            X += BBtt3(2*n+2, 2*s+1, 0) * epsiloninv**(2*n+2-2*s-1) * H_eq[k] * H_eq[2*s+1-k]\n",
    "            X += BBttt3(2*n+2, 2*s+1, 0) * epsiloninv**(2*n+2-2*s-1) * Ht_eq[k] * Ht_eq[2*s+1-k]\n",
    "        \n",
    "    if 2*n+3 <= N:\n",
    "        Ht_eq[2*n+3] = X\n",
    "    \n",
    "\n",
    "\n",
    "    \n",
    "for n in range(0, N+1):\n",
    "    \n",
    "    omega_eq[n] = H_eq[n]\n",
    "    for k in range(0, n+1):\n",
    "        omega_eq[n] += L(k) * epsiloninv**k * Ht_eq[n-k]\n",
    "    \n",
    "    omegat_eq[n] = H_eq[n]\n",
    "    for k in range(0, n+1):\n",
    "        omegat_eq[n] -= L(k) * epsiloninv**k * Ht_eq[n-k]\n",
    "    \n",
    "    #display(Eq(r_sym[n], polynomize(r_eq[n])))\n",
    "    \n",
    "    #display(Eq(E_sym[n], polynomize(E_eq[n])))\n",
    "    #display(Eq(Et_sym[n], polynomize(Et_eq[n])))\n",
    "\n",
    "    display(Eq(H_sym[n], polynomize(H_eq[n])))\n",
    "    display(Eq(Ht_sym[n], polynomize(Ht_eq[n])))\n",
    "    \n",
    "    display(Eq(omega_sym[n], polynomize(omega_eq[n])))\n",
    "    display(Eq(omegat_sym[n], polynomize(omegat_eq[n])))\n",
    "\n",
    "    #display(Eq(S_sym[n], simplify(S_eq[n])))\n"
   ]
  },
  {
   "cell_type": "code",
   "execution_count": null,
   "id": "7b770fa5",
   "metadata": {},
   "outputs": [],
   "source": [
    "import pickle\n",
    "\n",
    "factors = pickle.load(open(\"factors_9.p\", \"rb\"))\n",
    "\n",
    "def binomial2(n, k):\n",
    "    return factorial2(n) / (factorial2(k) * factorial2(n - k))\n",
    "\n",
    "def PP(l, n):\n",
    "    return (-1)**(l//2 + n//2) * (sqrt(2) * 2)**(l - n) * binomial(-Rational(1,2) + l//2 - n, l - n)\n",
    "\n",
    "def PP2(l, n):\n",
    "    if l//2 >= n:\n",
    "        return (-1)**(l + n//2) * (2 * sqrt(2))**(l - n) * binomial2(2 * (l - n), 2 * (l//2 - n) - 1)**(-1) / (2 * (l - l//2) + 1)\n",
    "    \n",
    "    elif l//2 < n:\n",
    "        return (-1)**(1 + (l+1)//2 + (n-1)//2) * (2 * sqrt(2))**(l - n) * binomial2(2 * (l - l//2) - 1, 2 * (n - l//2) - 1)\n",
    "    \n",
    "\n",
    "def QQQ(l, n):\n",
    "    return (-1)**((l-1)//2 + (n+1)//2) * epsiloninv**(l - n) * (2 * sqrt(2))**(l - n) * binomial(-Rational(1,2) - n//2, l - n)\n",
    "\n",
    "def PPP(l, n):\n",
    "    if l - n < 0:\n",
    "        return 0\n",
    "    if l - n == 0:\n",
    "        return -1\n",
    "    else:\n",
    "        return (-1)**((l-1)//2 + (n+1)//2) * (2 * sqrt(2))**(l - n) * binomial(-Rational(1,2) - n//2, l - n)\n",
    "\n",
    "def PPPt(n, k):\n",
    "    if n - k < 0:\n",
    "        return 0\n",
    "    if n - k == 0:\n",
    "        return -1\n",
    "    else:\n",
    "        return (-1)**(1+(n-1)//2+(k-1)//2) * (2 * sqrt(2))**(n-k) * binomial(n - 1 - k//2, (k-1)//2)\n",
    "\n",
    "def PPPt3(n, k):\n",
    "    if n == k:\n",
    "        return -1\n",
    "\n",
    "    def auxilliary(n, k):\n",
    "        if n == 0:\n",
    "            return 1\n",
    "        if k <= n and k >= 0:\n",
    "            A = 0\n",
    "            for j in range(0, min(k, n-k)+1):\n",
    "                A += (-1)**j * 2**(n-j-1) * binomial(k, j) * binomial(n-j, k)\n",
    "            return A\n",
    "        else:\n",
    "            return 0\n",
    "    A = 0\n",
    "    for j in range(n-k, n):\n",
    "        A += (-1)**(1+j+n//2+(k-1)//2) * sqrt(2)**(n-k+2) * binomial(n-1, j) * auxilliary(j, n-k)\n",
    "    return A\n",
    "    \n",
    "def PPPt2(n, k):\n",
    "    return (-1)**(n*(k+1)) * PPP(n - (k+1)%2, k - (k+1)%2)\n",
    "\n",
    "def CC(l, n): \n",
    "    return 2 * catalan(l - 1 - n) / sqrt(2)**(l - n) * (-1)**((l - n + (l-1)%2) // 2)\n",
    "\n",
    "def AA(l, n):\n",
    "    return 2 * catalan(l - n) / sqrt(2)**(l - n + 1) * (-1)**((l - n + 1 + l%2) // 2)\n",
    "\n",
    "def DD(l, n):\n",
    "    return (- PP(l+1, n) - CC(l+1, n)) / (- PP(l+1, l) - CC(l+1, l))\n",
    "\n",
    "\n",
    "def SS(l, k):\n",
    "    return binomial(2 * l - k, l - k//2) * sqrt(2)**(k//2-l) * (-1)**(l//2 + k//4)\n",
    "\n",
    "def BB(n, s, k):\n",
    "    S = 0\n",
    "    for i in range(0, n-s+1):\n",
    "        S += (n%2 - ((n+1)%2) * (-1)**(i+k)) * PPP(i+k, k) * PPP(n-i-k,s-k)\n",
    "    return S\n",
    "\n",
    "def BBt(n, s, k):\n",
    "    S = 0\n",
    "    for i in range(0, n-s+1):\n",
    "        S += (n%2 + ((n+1)%2) * (-1)**(i+k)) * PPPt(i+k, k) * PPPt(n-i-k,s-k)\n",
    "    return S\n",
    "\n",
    "def BBtt(n, s, k):\n",
    "    S = 0\n",
    "    for i in range(0, n-s+1):\n",
    "        S += ((n+1)%2 + (n%2) * (-1)**(i+k)) * PPPt(i+k, k) * PPP(n-i-k,s-k)\n",
    "    return S\n",
    "\n",
    "def BBttt(n, s, k):\n",
    "    S = 0\n",
    "    for i in range(0, n-s+1):\n",
    "        S += ((n+1)%2 - (n%2) * (-1)**(i+k)) * PPP(i+k, k) * PPPt(n-i-k,s-k)\n",
    "    return S\n",
    "\n",
    "def BB3(n, s, k):\n",
    "    if k % 2 == 0:\n",
    "        return (-1)**(1+s//2+(n+1)//2) * (2 * sqrt(2))**(n-s) * binomial(n - (s+1)//2, s//2)\n",
    "    if k % 2 == 1:\n",
    "        return (-1)**(1+(s-1)//2+(n+1)//2) * (2 * sqrt(2))**(n-s) * binomial(n - s//2 - 1, (s-1)//2)\n",
    "    \n",
    "def BBt3(n, s, k):\n",
    "    if k % 2 == 0:\n",
    "        return (-1)**(1+(s-1)//2+(n+1)//2) * (2 * sqrt(2))**(n-s) * binomial(n - s//2 - 1, (s-1)//2)\n",
    "    if k % 2 == 1:\n",
    "        return (-1)**(1+s//2+(n+1)//2) * (2 * sqrt(2))**(n-s) * binomial(n - (s+1)//2, s//2)\n",
    "\n",
    "def BBtt3(n, s, k):\n",
    "    if k % 2 == 0:\n",
    "        return (-1)**(s//2+n//2) * (2 * sqrt(2))**(n-s) * binomial2(2*(n - (s+1)//2) - 1, 2*(s//2) - 1)\n",
    "    if k % 2 == 1:\n",
    "        return (-1)**((s+1)//2+n//2) * (2 * sqrt(2))**(n-s) * binomial2(2*(n - s//2) - 1, 2*((s+1)//2) - 1)\n",
    "\n",
    "def BBttt3(n, s, k):\n",
    "    if k % 2 == 0:\n",
    "        return (-1)**((s+1)//2+n//2) * (2 * sqrt(2))**(n-s) * binomial2(2*(n - s//2) - 1, 2*((s+1)//2) - 1)\n",
    "    if k % 2 == 1:\n",
    "        return (-1)**(s//2+n//2) * (2 * sqrt(2))**(n-s) * binomial2(2*(n - (s+1)//2) - 1, 2*(s//2) - 1)\n",
    "\n",
    "def CC(n, s):\n",
    "    S = 0\n",
    "    for j in range(1, n+2-s): \n",
    "        S += 2 * catalan(j-1) / sqrt(2)**j * (-1)**((j+n%2)//2) * PPP(n+1-j, s)\n",
    "    return S\n",
    "\n",
    "def CCt(n, s):\n",
    "    S = 0\n",
    "    for j in range(1, n+2-s): \n",
    "        S += 2 * catalan(j-1) / sqrt(2)**j * (-1)**((j+(n+1)%2)//2) * PPPt(n+1-j, s)\n",
    "    return S\n",
    "\n",
    "def expansion(n, k):\n",
    "    return binomial(n+k, k) * binomial(2*(n+k), n+k) / binomial(2*k, k)\n",
    "\n",
    "def EE(n, k):\n",
    "    #Generating function: c(x) / sqrt(1 - 4*x)**(2*k+1)\n",
    "    return round(binomial(n+k+1, k) * (binomial(2*(n+k+1), n+k+1) / binomial(2*k, k) - k * 4**(n+1) / (n+k+1)) / 2)\n",
    "\n",
    "def EEt(n, k):\n",
    "    #Generating function: c(x) / sqrt(1 - 4*x)**(2*k+2)\n",
    "    if k == -1:\n",
    "        return catalan(n)\n",
    "    return round(- binomial(n+k+1, k) * (binomial(2*(n+k+1), n+k+1) / binomial(2*k, k) - 4**(n+1)) / 2)\n",
    "\n",
    "def CC2(n, s):\n",
    "    return (-1)**(1+s//2+(n+1)//2) / sqrt(2)**(n-s-1) * EE(n-s, s // 2)\n",
    "\n",
    "def CCt2(n, s):\n",
    "    return (-1)**((s+1)//2+n//2) / sqrt(2)**(n-s-1) * EEt(n-s, (s-1) // 2)\n",
    "\n",
    "\n",
    "def CC3(n, s):\n",
    "    S = 0\n",
    "    for j in range(0, n-s+1):\n",
    "        S += catalan(j) * (-1)**(1+s//2+(n+1)//2) / sqrt(2)**(n-s-1) * expansion(n-s-j, s//2)\n",
    "    return S\n",
    "\n",
    "def JJ(n, s):\n",
    "    return (-1)**((n-1)//2 + s//2) * (2 * sqrt(2))**(n+1-s) *  binomial(n - (s+1)//2, s//2 - 1)\n",
    "\n",
    "def JJt(n, s):\n",
    "    if s == 0:\n",
    "        return - (-1)**(n//2 + (s+1)//2) / sqrt(2)**(n-1-s) * catalan(n)\n",
    "    return (-1)**(n//2 + (s+1)//2) / sqrt(2)**(n-1-s) * 1 / 2 * binomial(n-s//2, (s-1)//2) * binomial(2*(n-s//2), n-s//2) / binomial(2*((s-1)//2), (s-1)//2)\n",
    "\n",
    "     \n",
    "X = Symbol('X')\n",
    "Y = Symbol('Y')\n",
    "\n",
    "for s in range(0, 16):\n",
    "    print(\"s =\", s)\n",
    "    A = 0\n",
    "    B = 0\n",
    "    for n in range(0, 16):\n",
    "        A += X**n * BBtt3(2*n+2*s+1, 2*s, 0) * (sqrt(2))**(2*n+1) / 2\n",
    "        #B += X**(n) * PPP(n, s-1)\n",
    "\n",
    "    display(Poly(simplify(A), X))\n",
    "    #display(Poly(simplify(B), X))\n",
    "\n",
    "    #A += X**(n-s) * JJt(n, s)\n",
    "    #B += X**(n-s) * PPP(n, s-1)        -----> identical for n >= s >= 0\n",
    "\n",
    "    #A += X**(n-s) * JJ(n, s)\n",
    "    #B += X**(n-s) * PPPt(n, s-1)        -----> identical for n >= s >= 0\n",
    "      "
   ]
  },
  {
   "cell_type": "code",
   "execution_count": null,
   "id": "e76ccf64",
   "metadata": {},
   "outputs": [],
   "source": [
    "\n",
    "def PPP(l, n):\n",
    "    if l - n < 0:\n",
    "        return 0\n",
    "    if l - n == 0:\n",
    "        return -1\n",
    "    else:\n",
    "        return (-1)**((l-1)//2 + (n+1)//2) * (2 * sqrt(2))**(l - n) * binomial(-Rational(1,2) - n//2, l - n)\n",
    "\n",
    "    \n",
    "def custom_display(expr, title):\n",
    "    print(\"--- Real: \", title, \"---\")\n",
    "    display(polynomize(re(expr)))\n",
    "    #display(polynomize(multi_substituter(re(expr), [(u, theta/2 + a), (v, theta/2 - a)])))\n",
    "    print(\"--- Imag: \", title, \"---\")\n",
    "    display(polynomize(im(expr)))\n",
    "    #display(polynomize(multi_substituter(im(expr), [(u, theta/2 + a), (v, theta/2 - a)])))\n",
    "    \n",
    "def p_coeff(n):\n",
    "    if n == -1:\n",
    "        return simplify(epsilon / sqrt(2))\n",
    "    if n >= 0:\n",
    "        return p_factor * simplify(1 / sqrt(2) * epsiloninv**(2*n+1) * Rational((-2)**(-n) * (factorial(2*n) / (factorial(n) * factorial(n+1)))))\n",
    "    return 0\n",
    "\n",
    "def p_coeff_inv(n):\n",
    "    if n == -1:\n",
    "        return simplify(sqrt(2) * epsiloninv)\n",
    "    if n >= 0:\n",
    "        return p_factor * simplify(sqrt(2) * epsilon**(2*n+1) * Rational((-2)**n * (factorial(n) * factorial(n+1)) / (factorial(2*n))))\n",
    "    return 0\n",
    "    \n",
    "r_factor = 1 \n",
    "p_factor = 1\n",
    "\n",
    "\n",
    "r_seq = []\n",
    "\n",
    "sigma_seq = []\n",
    "\n",
    "N = 5\n",
    "\n",
    "F_sym = [Symbol('F_{' + str(n) + '}') for n in range(N+1)]\n",
    "Ft_sym = [Symbol('\\\\tilde{F}_{' + str(n) + '}') for n in range(N+1)]\n",
    "\n",
    "F_eq = [F_sym[n] for n in range(N+1)]\n",
    "Ft_eq = [Ft_sym[n] for n in range(N+1)]\n",
    "\n",
    "E_sym = [Symbol('E_{' + str(n) + '}') for n in range(N+1)]\n",
    "Et_sym = [Symbol('\\\\tilde{E}_{' + str(n) + '}') for n in range(N+1)]\n",
    "\n",
    "E_eq = [E_sym[n] for n in range(N+1)]\n",
    "Et_eq = [Et_sym[n] for n in range(N+1)]\n",
    "\n",
    "r_sym = [Symbol('r_{' + str(n) + '}') for n in range(N+1)]\n",
    "r_eq = [r_sym[n] for n in range(N+1)]\n",
    "\n",
    "sigma_sym = [Symbol('\\sigma_{' + str(n) + '}') for n in range(N+1)]\n",
    "sigma_eq = [sigma_sym[n] for n in range(N+1)] \n",
    "\n",
    "r_eq[0] = - sqrt(2) * I * epsiloninv\n",
    "r_eq[1] = u - v - 2 * epsiloninv**2\n",
    "\n",
    "sigma_eq[0] = - I * epsilon / (2 * sqrt(2)) * (u + v)\n",
    "sigma_eq[1] = (u - v) / 2 - epsilon**2 * (u - v)**2 / 8 - I * epsilon / (2 * sqrt(2)) * deriv(u + v) - I * epsilon / sqrt(2) * deriv(v)\n",
    "\n",
    "for n in range(1, N):\n",
    "    \n",
    "    X = 0\n",
    "    \n",
    "    X -= deriv(r_eq[n])\n",
    "    \n",
    "    for k in range(0, n+1):\n",
    "        X += (1 + epsilon**2 / 2 * v) * r_eq[k] * r_eq[n-k]\n",
    "    \n",
    "    for k in range(1, n+1):\n",
    "        X -= I * epsilon / (2 * sqrt(2)) * r_eq[k] * r_eq[n+1-k]\n",
    "    \n",
    "    r_eq[n+1] = X\n",
    "        \n",
    "    X = 0\n",
    "    \n",
    "    X += deriv(sigma_eq[n])\n",
    "    \n",
    "    X += epsilon**2 / 2 * deriv(v) * r_eq[n]\n",
    "    \n",
    "    for k in range(0, n+1):\n",
    "        X += sigma_eq[k] * sigma_eq[n-k]\n",
    "        \n",
    "    for k in range(0, n+1):\n",
    "        X += sigma_eq[k] * epsiloninv**(n+1-k) * catalan(n-k) * 2 / (sqrt(2) * I)**(n+1-k)\n",
    "\n",
    "    sigma_eq[n+1] = X\n",
    "    \n",
    "\n",
    "        \n",
    "X = 0\n",
    "Y = 0\n",
    "nn_is_even = True\n",
    "\n",
    "for n in range(-1, N):\n",
    "    print(\" --- nn = \", n+1, \" ---\")\n",
    "\n",
    "    if n == -1:\n",
    "        r_seq.append(r_factor * (- sqrt(2) * I * epsiloninv))\n",
    " \n",
    "        sigma_seq.append((u + v) * epsilon**2 * p_coeff_inv(-1) / (4 * I))\n",
    "        #custom_display(sigma_seq[-1], \"sigma_0\")\n",
    "    \n",
    "    elif n == 0:\n",
    "        r_seq.append(r_factor * (u - v - 2 * epsiloninv**2))\n",
    "\n",
    "        sigma_seq.append(simplify(deriv(sigma_seq[0]) + sigma_seq[0]**2 - 2 * I * p_coeff(0) * sigma_seq[0] + epsilon**2 / 2 * deriv(v) * r_seq[0] \n",
    "                                   + u * (1 + epsilon**2 / 2 * v)))\n",
    "        #custom_display(sigma_seq[-1], \"sigma_1\")\n",
    "    else:\n",
    "        r_square_term_1 = 0\n",
    "        for k in range(0, n+1):\n",
    "            r_square_term_1 += r_seq[k] * r_seq[n - k]\n",
    "\n",
    "        r_square_term_2 = 0\n",
    "        for k in range(1, n+1):\n",
    "            r_square_term_2 += r_seq[k] * r_seq[n + 1 - k]\n",
    "\n",
    "        sigma_square_term = 0\n",
    "        for k in range(0, n+1):\n",
    "            sigma_square_term += (sigma_seq[k] + epsiloninv**(k+1) * catalan(k) / (I**(k+1) * sqrt(2)**(k-1))) * sigma_seq[n - k]\n",
    "        \n",
    "        r_seq.append(r_factor * (- deriv(r_seq[n]) + (1 + epsilon**2 / 2 * v) * r_square_term_1 + epsiloninv / (sqrt(2) * I) * epsilon**2 / 2 * r_square_term_2))\n",
    "        sigma_seq.append(simplify(deriv(sigma_seq[n]) + sigma_square_term \n",
    "                                  + epsilon**2 / 2 * deriv(v) * r_seq[n]))\n",
    "        #custom_display(sigma_seq[-1], \"sigma_\" + str(n+1))\n",
    "\n",
    "\n",
    "for n in range(N + 1):\n",
    "    if n % 2 == 0:\n",
    "        F_eq[n] = im(sigma_eq[n])\n",
    "    if n % 2 == 1:\n",
    "        F_eq[n] = re(sigma_eq[n])\n",
    "\n",
    "    E_eq[n] = F_eq[n]\n",
    "    for j in range(n):\n",
    "        E_eq[n] += epsiloninv**(n - j) * PPP(n, j) * E_eq[j]\n",
    "    \n",
    "    display(Eq(sigma_sym[n], polynomize(sigma_eq[n])))\n",
    "    display(Eq(sigma_sym[n], polynomize(sigma_eq[n] - sigma_seq[n])))\n",
    "\n",
    "    display(Eq(r_sym[n], polynomize(r_eq[n])))\n",
    "    display(Eq(r_sym[n], polynomize(r_eq[n] - r_seq[n])))\n",
    "\n",
    "    display(Eq(E_sym[n], polynomize(E_eq[n])))\n",
    "    "
   ]
  },
  {
   "cell_type": "code",
   "execution_count": null,
   "id": "8b09f9ed",
   "metadata": {},
   "outputs": [],
   "source": []
  }
 ],
 "metadata": {
  "kernelspec": {
   "display_name": "Python 3 (ipykernel)",
   "language": "python",
   "name": "python3"
  },
  "language_info": {
   "codemirror_mode": {
    "name": "ipython",
    "version": 3
   },
   "file_extension": ".py",
   "mimetype": "text/x-python",
   "name": "python",
   "nbconvert_exporter": "python",
   "pygments_lexer": "ipython3",
   "version": "3.10.9"
  }
 },
 "nbformat": 4,
 "nbformat_minor": 5
}
