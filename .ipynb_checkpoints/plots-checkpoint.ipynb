{
 "cells": [
  {
   "cell_type": "code",
   "execution_count": 1,
   "id": "fd1b98f7",
   "metadata": {},
   "outputs": [
    {
     "ename": "KeyboardInterrupt",
     "evalue": "",
     "output_type": "error",
     "traceback": [
      "\u001b[1;31m---------------------------------------------------------------------------\u001b[0m",
      "\u001b[1;31mKeyboardInterrupt\u001b[0m                         Traceback (most recent call last)",
      "Cell \u001b[1;32mIn[1], line 56\u001b[0m\n\u001b[0;32m     54\u001b[0m plt\u001b[38;5;241m.\u001b[39mlegend()\n\u001b[0;32m     55\u001b[0m plt\u001b[38;5;241m.\u001b[39mgrid(\u001b[38;5;28;01mTrue\u001b[39;00m)\n\u001b[1;32m---> 56\u001b[0m \u001b[43mplt\u001b[49m\u001b[38;5;241;43m.\u001b[39;49m\u001b[43mshow\u001b[49m\u001b[43m(\u001b[49m\u001b[43m)\u001b[49m\n",
      "File \u001b[1;32m~\\anaconda3\\lib\\site-packages\\matplotlib\\pyplot.py:445\u001b[0m, in \u001b[0;36mshow\u001b[1;34m(*args, **kwargs)\u001b[0m\n\u001b[0;32m    401\u001b[0m \u001b[38;5;250m\u001b[39m\u001b[38;5;124;03m\"\"\"\u001b[39;00m\n\u001b[0;32m    402\u001b[0m \u001b[38;5;124;03mDisplay all open figures.\u001b[39;00m\n\u001b[0;32m    403\u001b[0m \n\u001b[1;32m   (...)\u001b[0m\n\u001b[0;32m    442\u001b[0m \u001b[38;5;124;03mexplicitly there.\u001b[39;00m\n\u001b[0;32m    443\u001b[0m \u001b[38;5;124;03m\"\"\"\u001b[39;00m\n\u001b[0;32m    444\u001b[0m _warn_if_gui_out_of_main_thread()\n\u001b[1;32m--> 445\u001b[0m \u001b[38;5;28;01mreturn\u001b[39;00m _get_backend_mod()\u001b[38;5;241m.\u001b[39mshow(\u001b[38;5;241m*\u001b[39margs, \u001b[38;5;241m*\u001b[39m\u001b[38;5;241m*\u001b[39mkwargs)\n",
      "File \u001b[1;32m~\\anaconda3\\lib\\site-packages\\matplotlib_inline\\backend_inline.py:90\u001b[0m, in \u001b[0;36mshow\u001b[1;34m(close, block)\u001b[0m\n\u001b[0;32m     88\u001b[0m \u001b[38;5;28;01mtry\u001b[39;00m:\n\u001b[0;32m     89\u001b[0m     \u001b[38;5;28;01mfor\u001b[39;00m figure_manager \u001b[38;5;129;01min\u001b[39;00m Gcf\u001b[38;5;241m.\u001b[39mget_all_fig_managers():\n\u001b[1;32m---> 90\u001b[0m         \u001b[43mdisplay\u001b[49m\u001b[43m(\u001b[49m\n\u001b[0;32m     91\u001b[0m \u001b[43m            \u001b[49m\u001b[43mfigure_manager\u001b[49m\u001b[38;5;241;43m.\u001b[39;49m\u001b[43mcanvas\u001b[49m\u001b[38;5;241;43m.\u001b[39;49m\u001b[43mfigure\u001b[49m\u001b[43m,\u001b[49m\n\u001b[0;32m     92\u001b[0m \u001b[43m            \u001b[49m\u001b[43mmetadata\u001b[49m\u001b[38;5;241;43m=\u001b[39;49m\u001b[43m_fetch_figure_metadata\u001b[49m\u001b[43m(\u001b[49m\u001b[43mfigure_manager\u001b[49m\u001b[38;5;241;43m.\u001b[39;49m\u001b[43mcanvas\u001b[49m\u001b[38;5;241;43m.\u001b[39;49m\u001b[43mfigure\u001b[49m\u001b[43m)\u001b[49m\n\u001b[0;32m     93\u001b[0m \u001b[43m        \u001b[49m\u001b[43m)\u001b[49m\n\u001b[0;32m     94\u001b[0m \u001b[38;5;28;01mfinally\u001b[39;00m:\n\u001b[0;32m     95\u001b[0m     show\u001b[38;5;241m.\u001b[39m_to_draw \u001b[38;5;241m=\u001b[39m []\n",
      "File \u001b[1;32m~\\anaconda3\\lib\\site-packages\\IPython\\core\\display_functions.py:298\u001b[0m, in \u001b[0;36mdisplay\u001b[1;34m(include, exclude, metadata, transient, display_id, raw, clear, *objs, **kwargs)\u001b[0m\n\u001b[0;32m    296\u001b[0m     publish_display_data(data\u001b[38;5;241m=\u001b[39mobj, metadata\u001b[38;5;241m=\u001b[39mmetadata, \u001b[38;5;241m*\u001b[39m\u001b[38;5;241m*\u001b[39mkwargs)\n\u001b[0;32m    297\u001b[0m \u001b[38;5;28;01melse\u001b[39;00m:\n\u001b[1;32m--> 298\u001b[0m     format_dict, md_dict \u001b[38;5;241m=\u001b[39m \u001b[38;5;28;43mformat\u001b[39;49m\u001b[43m(\u001b[49m\u001b[43mobj\u001b[49m\u001b[43m,\u001b[49m\u001b[43m \u001b[49m\u001b[43minclude\u001b[49m\u001b[38;5;241;43m=\u001b[39;49m\u001b[43minclude\u001b[49m\u001b[43m,\u001b[49m\u001b[43m \u001b[49m\u001b[43mexclude\u001b[49m\u001b[38;5;241;43m=\u001b[39;49m\u001b[43mexclude\u001b[49m\u001b[43m)\u001b[49m\n\u001b[0;32m    299\u001b[0m     \u001b[38;5;28;01mif\u001b[39;00m \u001b[38;5;129;01mnot\u001b[39;00m format_dict:\n\u001b[0;32m    300\u001b[0m         \u001b[38;5;66;03m# nothing to display (e.g. _ipython_display_ took over)\u001b[39;00m\n\u001b[0;32m    301\u001b[0m         \u001b[38;5;28;01mcontinue\u001b[39;00m\n",
      "File \u001b[1;32m~\\anaconda3\\lib\\site-packages\\IPython\\core\\formatters.py:177\u001b[0m, in \u001b[0;36mDisplayFormatter.format\u001b[1;34m(self, obj, include, exclude)\u001b[0m\n\u001b[0;32m    175\u001b[0m md \u001b[38;5;241m=\u001b[39m \u001b[38;5;28;01mNone\u001b[39;00m\n\u001b[0;32m    176\u001b[0m \u001b[38;5;28;01mtry\u001b[39;00m:\n\u001b[1;32m--> 177\u001b[0m     data \u001b[38;5;241m=\u001b[39m \u001b[43mformatter\u001b[49m\u001b[43m(\u001b[49m\u001b[43mobj\u001b[49m\u001b[43m)\u001b[49m\n\u001b[0;32m    178\u001b[0m \u001b[38;5;28;01mexcept\u001b[39;00m:\n\u001b[0;32m    179\u001b[0m     \u001b[38;5;66;03m# FIXME: log the exception\u001b[39;00m\n\u001b[0;32m    180\u001b[0m     \u001b[38;5;28;01mraise\u001b[39;00m\n",
      "File \u001b[1;32m~\\anaconda3\\lib\\site-packages\\decorator.py:232\u001b[0m, in \u001b[0;36mdecorate.<locals>.fun\u001b[1;34m(*args, **kw)\u001b[0m\n\u001b[0;32m    230\u001b[0m \u001b[38;5;28;01mif\u001b[39;00m \u001b[38;5;129;01mnot\u001b[39;00m kwsyntax:\n\u001b[0;32m    231\u001b[0m     args, kw \u001b[38;5;241m=\u001b[39m fix(args, kw, sig)\n\u001b[1;32m--> 232\u001b[0m \u001b[38;5;28;01mreturn\u001b[39;00m caller(func, \u001b[38;5;241m*\u001b[39m(extras \u001b[38;5;241m+\u001b[39m args), \u001b[38;5;241m*\u001b[39m\u001b[38;5;241m*\u001b[39mkw)\n",
      "File \u001b[1;32m~\\anaconda3\\lib\\site-packages\\IPython\\core\\formatters.py:221\u001b[0m, in \u001b[0;36mcatch_format_error\u001b[1;34m(method, self, *args, **kwargs)\u001b[0m\n\u001b[0;32m    219\u001b[0m \u001b[38;5;250m\u001b[39m\u001b[38;5;124;03m\"\"\"show traceback on failed format call\"\"\"\u001b[39;00m\n\u001b[0;32m    220\u001b[0m \u001b[38;5;28;01mtry\u001b[39;00m:\n\u001b[1;32m--> 221\u001b[0m     r \u001b[38;5;241m=\u001b[39m method(\u001b[38;5;28mself\u001b[39m, \u001b[38;5;241m*\u001b[39margs, \u001b[38;5;241m*\u001b[39m\u001b[38;5;241m*\u001b[39mkwargs)\n\u001b[0;32m    222\u001b[0m \u001b[38;5;28;01mexcept\u001b[39;00m \u001b[38;5;167;01mNotImplementedError\u001b[39;00m:\n\u001b[0;32m    223\u001b[0m     \u001b[38;5;66;03m# don't warn on NotImplementedErrors\u001b[39;00m\n\u001b[0;32m    224\u001b[0m     \u001b[38;5;28;01mreturn\u001b[39;00m \u001b[38;5;28mself\u001b[39m\u001b[38;5;241m.\u001b[39m_check_return(\u001b[38;5;28;01mNone\u001b[39;00m, args[\u001b[38;5;241m0\u001b[39m])\n",
      "File \u001b[1;32m~\\anaconda3\\lib\\site-packages\\IPython\\core\\formatters.py:338\u001b[0m, in \u001b[0;36mBaseFormatter.__call__\u001b[1;34m(self, obj)\u001b[0m\n\u001b[0;32m    336\u001b[0m     \u001b[38;5;28;01mpass\u001b[39;00m\n\u001b[0;32m    337\u001b[0m \u001b[38;5;28;01melse\u001b[39;00m:\n\u001b[1;32m--> 338\u001b[0m     \u001b[38;5;28;01mreturn\u001b[39;00m \u001b[43mprinter\u001b[49m\u001b[43m(\u001b[49m\u001b[43mobj\u001b[49m\u001b[43m)\u001b[49m\n\u001b[0;32m    339\u001b[0m \u001b[38;5;66;03m# Finally look for special method names\u001b[39;00m\n\u001b[0;32m    340\u001b[0m method \u001b[38;5;241m=\u001b[39m get_real_method(obj, \u001b[38;5;28mself\u001b[39m\u001b[38;5;241m.\u001b[39mprint_method)\n",
      "File \u001b[1;32m~\\anaconda3\\lib\\site-packages\\IPython\\core\\pylabtools.py:152\u001b[0m, in \u001b[0;36mprint_figure\u001b[1;34m(fig, fmt, bbox_inches, base64, **kwargs)\u001b[0m\n\u001b[0;32m    149\u001b[0m     \u001b[38;5;28;01mfrom\u001b[39;00m \u001b[38;5;21;01mmatplotlib\u001b[39;00m\u001b[38;5;21;01m.\u001b[39;00m\u001b[38;5;21;01mbackend_bases\u001b[39;00m \u001b[38;5;28;01mimport\u001b[39;00m FigureCanvasBase\n\u001b[0;32m    150\u001b[0m     FigureCanvasBase(fig)\n\u001b[1;32m--> 152\u001b[0m fig\u001b[38;5;241m.\u001b[39mcanvas\u001b[38;5;241m.\u001b[39mprint_figure(bytes_io, \u001b[38;5;241m*\u001b[39m\u001b[38;5;241m*\u001b[39mkw)\n\u001b[0;32m    153\u001b[0m data \u001b[38;5;241m=\u001b[39m bytes_io\u001b[38;5;241m.\u001b[39mgetvalue()\n\u001b[0;32m    154\u001b[0m \u001b[38;5;28;01mif\u001b[39;00m fmt \u001b[38;5;241m==\u001b[39m \u001b[38;5;124m'\u001b[39m\u001b[38;5;124msvg\u001b[39m\u001b[38;5;124m'\u001b[39m:\n",
      "File \u001b[1;32m~\\anaconda3\\lib\\site-packages\\matplotlib\\backend_bases.py:2338\u001b[0m, in \u001b[0;36mFigureCanvasBase.print_figure\u001b[1;34m(self, filename, dpi, facecolor, edgecolor, orientation, format, bbox_inches, pad_inches, bbox_extra_artists, backend, **kwargs)\u001b[0m\n\u001b[0;32m   2332\u001b[0m     renderer \u001b[38;5;241m=\u001b[39m _get_renderer(\n\u001b[0;32m   2333\u001b[0m         \u001b[38;5;28mself\u001b[39m\u001b[38;5;241m.\u001b[39mfigure,\n\u001b[0;32m   2334\u001b[0m         functools\u001b[38;5;241m.\u001b[39mpartial(\n\u001b[0;32m   2335\u001b[0m             print_method, orientation\u001b[38;5;241m=\u001b[39morientation)\n\u001b[0;32m   2336\u001b[0m     )\n\u001b[0;32m   2337\u001b[0m     \u001b[38;5;28;01mwith\u001b[39;00m \u001b[38;5;28mgetattr\u001b[39m(renderer, \u001b[38;5;124m\"\u001b[39m\u001b[38;5;124m_draw_disabled\u001b[39m\u001b[38;5;124m\"\u001b[39m, nullcontext)():\n\u001b[1;32m-> 2338\u001b[0m         \u001b[38;5;28;43mself\u001b[39;49m\u001b[38;5;241;43m.\u001b[39;49m\u001b[43mfigure\u001b[49m\u001b[38;5;241;43m.\u001b[39;49m\u001b[43mdraw\u001b[49m\u001b[43m(\u001b[49m\u001b[43mrenderer\u001b[49m\u001b[43m)\u001b[49m\n\u001b[0;32m   2340\u001b[0m \u001b[38;5;28;01mif\u001b[39;00m bbox_inches:\n\u001b[0;32m   2341\u001b[0m     \u001b[38;5;28;01mif\u001b[39;00m bbox_inches \u001b[38;5;241m==\u001b[39m \u001b[38;5;124m\"\u001b[39m\u001b[38;5;124mtight\u001b[39m\u001b[38;5;124m\"\u001b[39m:\n",
      "File \u001b[1;32m~\\anaconda3\\lib\\site-packages\\matplotlib\\artist.py:95\u001b[0m, in \u001b[0;36m_finalize_rasterization.<locals>.draw_wrapper\u001b[1;34m(artist, renderer, *args, **kwargs)\u001b[0m\n\u001b[0;32m     93\u001b[0m \u001b[38;5;129m@wraps\u001b[39m(draw)\n\u001b[0;32m     94\u001b[0m \u001b[38;5;28;01mdef\u001b[39;00m \u001b[38;5;21mdraw_wrapper\u001b[39m(artist, renderer, \u001b[38;5;241m*\u001b[39margs, \u001b[38;5;241m*\u001b[39m\u001b[38;5;241m*\u001b[39mkwargs):\n\u001b[1;32m---> 95\u001b[0m     result \u001b[38;5;241m=\u001b[39m draw(artist, renderer, \u001b[38;5;241m*\u001b[39margs, \u001b[38;5;241m*\u001b[39m\u001b[38;5;241m*\u001b[39mkwargs)\n\u001b[0;32m     96\u001b[0m     \u001b[38;5;28;01mif\u001b[39;00m renderer\u001b[38;5;241m.\u001b[39m_rasterizing:\n\u001b[0;32m     97\u001b[0m         renderer\u001b[38;5;241m.\u001b[39mstop_rasterizing()\n",
      "File \u001b[1;32m~\\anaconda3\\lib\\site-packages\\matplotlib\\artist.py:72\u001b[0m, in \u001b[0;36mallow_rasterization.<locals>.draw_wrapper\u001b[1;34m(artist, renderer)\u001b[0m\n\u001b[0;32m     69\u001b[0m     \u001b[38;5;28;01mif\u001b[39;00m artist\u001b[38;5;241m.\u001b[39mget_agg_filter() \u001b[38;5;129;01mis\u001b[39;00m \u001b[38;5;129;01mnot\u001b[39;00m \u001b[38;5;28;01mNone\u001b[39;00m:\n\u001b[0;32m     70\u001b[0m         renderer\u001b[38;5;241m.\u001b[39mstart_filter()\n\u001b[1;32m---> 72\u001b[0m     \u001b[38;5;28;01mreturn\u001b[39;00m \u001b[43mdraw\u001b[49m\u001b[43m(\u001b[49m\u001b[43martist\u001b[49m\u001b[43m,\u001b[49m\u001b[43m \u001b[49m\u001b[43mrenderer\u001b[49m\u001b[43m)\u001b[49m\n\u001b[0;32m     73\u001b[0m \u001b[38;5;28;01mfinally\u001b[39;00m:\n\u001b[0;32m     74\u001b[0m     \u001b[38;5;28;01mif\u001b[39;00m artist\u001b[38;5;241m.\u001b[39mget_agg_filter() \u001b[38;5;129;01mis\u001b[39;00m \u001b[38;5;129;01mnot\u001b[39;00m \u001b[38;5;28;01mNone\u001b[39;00m:\n",
      "File \u001b[1;32m~\\anaconda3\\lib\\site-packages\\matplotlib\\figure.py:3125\u001b[0m, in \u001b[0;36mFigure.draw\u001b[1;34m(self, renderer)\u001b[0m\n\u001b[0;32m   3122\u001b[0m         \u001b[38;5;66;03m# ValueError can occur when resizing a window.\u001b[39;00m\n\u001b[0;32m   3124\u001b[0m \u001b[38;5;28mself\u001b[39m\u001b[38;5;241m.\u001b[39mpatch\u001b[38;5;241m.\u001b[39mdraw(renderer)\n\u001b[1;32m-> 3125\u001b[0m \u001b[43mmimage\u001b[49m\u001b[38;5;241;43m.\u001b[39;49m\u001b[43m_draw_list_compositing_images\u001b[49m\u001b[43m(\u001b[49m\n\u001b[0;32m   3126\u001b[0m \u001b[43m    \u001b[49m\u001b[43mrenderer\u001b[49m\u001b[43m,\u001b[49m\u001b[43m \u001b[49m\u001b[38;5;28;43mself\u001b[39;49m\u001b[43m,\u001b[49m\u001b[43m \u001b[49m\u001b[43martists\u001b[49m\u001b[43m,\u001b[49m\u001b[43m \u001b[49m\u001b[38;5;28;43mself\u001b[39;49m\u001b[38;5;241;43m.\u001b[39;49m\u001b[43msuppressComposite\u001b[49m\u001b[43m)\u001b[49m\n\u001b[0;32m   3128\u001b[0m \u001b[38;5;28;01mfor\u001b[39;00m sfig \u001b[38;5;129;01min\u001b[39;00m \u001b[38;5;28mself\u001b[39m\u001b[38;5;241m.\u001b[39msubfigs:\n\u001b[0;32m   3129\u001b[0m     sfig\u001b[38;5;241m.\u001b[39mdraw(renderer)\n",
      "File \u001b[1;32m~\\anaconda3\\lib\\site-packages\\matplotlib\\image.py:131\u001b[0m, in \u001b[0;36m_draw_list_compositing_images\u001b[1;34m(renderer, parent, artists, suppress_composite)\u001b[0m\n\u001b[0;32m    129\u001b[0m \u001b[38;5;28;01mif\u001b[39;00m not_composite \u001b[38;5;129;01mor\u001b[39;00m \u001b[38;5;129;01mnot\u001b[39;00m has_images:\n\u001b[0;32m    130\u001b[0m     \u001b[38;5;28;01mfor\u001b[39;00m a \u001b[38;5;129;01min\u001b[39;00m artists:\n\u001b[1;32m--> 131\u001b[0m         \u001b[43ma\u001b[49m\u001b[38;5;241;43m.\u001b[39;49m\u001b[43mdraw\u001b[49m\u001b[43m(\u001b[49m\u001b[43mrenderer\u001b[49m\u001b[43m)\u001b[49m\n\u001b[0;32m    132\u001b[0m \u001b[38;5;28;01melse\u001b[39;00m:\n\u001b[0;32m    133\u001b[0m     \u001b[38;5;66;03m# Composite any adjacent images together\u001b[39;00m\n\u001b[0;32m    134\u001b[0m     image_group \u001b[38;5;241m=\u001b[39m []\n",
      "File \u001b[1;32m~\\anaconda3\\lib\\site-packages\\matplotlib\\artist.py:72\u001b[0m, in \u001b[0;36mallow_rasterization.<locals>.draw_wrapper\u001b[1;34m(artist, renderer)\u001b[0m\n\u001b[0;32m     69\u001b[0m     \u001b[38;5;28;01mif\u001b[39;00m artist\u001b[38;5;241m.\u001b[39mget_agg_filter() \u001b[38;5;129;01mis\u001b[39;00m \u001b[38;5;129;01mnot\u001b[39;00m \u001b[38;5;28;01mNone\u001b[39;00m:\n\u001b[0;32m     70\u001b[0m         renderer\u001b[38;5;241m.\u001b[39mstart_filter()\n\u001b[1;32m---> 72\u001b[0m     \u001b[38;5;28;01mreturn\u001b[39;00m \u001b[43mdraw\u001b[49m\u001b[43m(\u001b[49m\u001b[43martist\u001b[49m\u001b[43m,\u001b[49m\u001b[43m \u001b[49m\u001b[43mrenderer\u001b[49m\u001b[43m)\u001b[49m\n\u001b[0;32m     73\u001b[0m \u001b[38;5;28;01mfinally\u001b[39;00m:\n\u001b[0;32m     74\u001b[0m     \u001b[38;5;28;01mif\u001b[39;00m artist\u001b[38;5;241m.\u001b[39mget_agg_filter() \u001b[38;5;129;01mis\u001b[39;00m \u001b[38;5;129;01mnot\u001b[39;00m \u001b[38;5;28;01mNone\u001b[39;00m:\n",
      "File \u001b[1;32m~\\anaconda3\\lib\\site-packages\\matplotlib\\axes\\_base.py:3066\u001b[0m, in \u001b[0;36m_AxesBase.draw\u001b[1;34m(self, renderer)\u001b[0m\n\u001b[0;32m   3063\u001b[0m \u001b[38;5;28;01mif\u001b[39;00m artists_rasterized:\n\u001b[0;32m   3064\u001b[0m     _draw_rasterized(\u001b[38;5;28mself\u001b[39m\u001b[38;5;241m.\u001b[39mfigure, artists_rasterized, renderer)\n\u001b[1;32m-> 3066\u001b[0m \u001b[43mmimage\u001b[49m\u001b[38;5;241;43m.\u001b[39;49m\u001b[43m_draw_list_compositing_images\u001b[49m\u001b[43m(\u001b[49m\n\u001b[0;32m   3067\u001b[0m \u001b[43m    \u001b[49m\u001b[43mrenderer\u001b[49m\u001b[43m,\u001b[49m\u001b[43m \u001b[49m\u001b[38;5;28;43mself\u001b[39;49m\u001b[43m,\u001b[49m\u001b[43m \u001b[49m\u001b[43martists\u001b[49m\u001b[43m,\u001b[49m\u001b[43m \u001b[49m\u001b[38;5;28;43mself\u001b[39;49m\u001b[38;5;241;43m.\u001b[39;49m\u001b[43mfigure\u001b[49m\u001b[38;5;241;43m.\u001b[39;49m\u001b[43msuppressComposite\u001b[49m\u001b[43m)\u001b[49m\n\u001b[0;32m   3069\u001b[0m renderer\u001b[38;5;241m.\u001b[39mclose_group(\u001b[38;5;124m'\u001b[39m\u001b[38;5;124maxes\u001b[39m\u001b[38;5;124m'\u001b[39m)\n\u001b[0;32m   3070\u001b[0m \u001b[38;5;28mself\u001b[39m\u001b[38;5;241m.\u001b[39mstale \u001b[38;5;241m=\u001b[39m \u001b[38;5;28;01mFalse\u001b[39;00m\n",
      "File \u001b[1;32m~\\anaconda3\\lib\\site-packages\\matplotlib\\image.py:131\u001b[0m, in \u001b[0;36m_draw_list_compositing_images\u001b[1;34m(renderer, parent, artists, suppress_composite)\u001b[0m\n\u001b[0;32m    129\u001b[0m \u001b[38;5;28;01mif\u001b[39;00m not_composite \u001b[38;5;129;01mor\u001b[39;00m \u001b[38;5;129;01mnot\u001b[39;00m has_images:\n\u001b[0;32m    130\u001b[0m     \u001b[38;5;28;01mfor\u001b[39;00m a \u001b[38;5;129;01min\u001b[39;00m artists:\n\u001b[1;32m--> 131\u001b[0m         \u001b[43ma\u001b[49m\u001b[38;5;241;43m.\u001b[39;49m\u001b[43mdraw\u001b[49m\u001b[43m(\u001b[49m\u001b[43mrenderer\u001b[49m\u001b[43m)\u001b[49m\n\u001b[0;32m    132\u001b[0m \u001b[38;5;28;01melse\u001b[39;00m:\n\u001b[0;32m    133\u001b[0m     \u001b[38;5;66;03m# Composite any adjacent images together\u001b[39;00m\n\u001b[0;32m    134\u001b[0m     image_group \u001b[38;5;241m=\u001b[39m []\n",
      "File \u001b[1;32m~\\anaconda3\\lib\\site-packages\\matplotlib\\artist.py:72\u001b[0m, in \u001b[0;36mallow_rasterization.<locals>.draw_wrapper\u001b[1;34m(artist, renderer)\u001b[0m\n\u001b[0;32m     69\u001b[0m     \u001b[38;5;28;01mif\u001b[39;00m artist\u001b[38;5;241m.\u001b[39mget_agg_filter() \u001b[38;5;129;01mis\u001b[39;00m \u001b[38;5;129;01mnot\u001b[39;00m \u001b[38;5;28;01mNone\u001b[39;00m:\n\u001b[0;32m     70\u001b[0m         renderer\u001b[38;5;241m.\u001b[39mstart_filter()\n\u001b[1;32m---> 72\u001b[0m     \u001b[38;5;28;01mreturn\u001b[39;00m \u001b[43mdraw\u001b[49m\u001b[43m(\u001b[49m\u001b[43martist\u001b[49m\u001b[43m,\u001b[49m\u001b[43m \u001b[49m\u001b[43mrenderer\u001b[49m\u001b[43m)\u001b[49m\n\u001b[0;32m     73\u001b[0m \u001b[38;5;28;01mfinally\u001b[39;00m:\n\u001b[0;32m     74\u001b[0m     \u001b[38;5;28;01mif\u001b[39;00m artist\u001b[38;5;241m.\u001b[39mget_agg_filter() \u001b[38;5;129;01mis\u001b[39;00m \u001b[38;5;129;01mnot\u001b[39;00m \u001b[38;5;28;01mNone\u001b[39;00m:\n",
      "File \u001b[1;32m~\\anaconda3\\lib\\site-packages\\matplotlib\\axis.py:1379\u001b[0m, in \u001b[0;36mAxis.draw\u001b[1;34m(self, renderer, *args, **kwargs)\u001b[0m\n\u001b[0;32m   1377\u001b[0m \u001b[38;5;66;03m# Shift label away from axes to avoid overlapping ticklabels.\u001b[39;00m\n\u001b[0;32m   1378\u001b[0m \u001b[38;5;28mself\u001b[39m\u001b[38;5;241m.\u001b[39m_update_label_position(renderer)\n\u001b[1;32m-> 1379\u001b[0m \u001b[38;5;28;43mself\u001b[39;49m\u001b[38;5;241;43m.\u001b[39;49m\u001b[43mlabel\u001b[49m\u001b[38;5;241;43m.\u001b[39;49m\u001b[43mdraw\u001b[49m\u001b[43m(\u001b[49m\u001b[43mrenderer\u001b[49m\u001b[43m)\u001b[49m\n\u001b[0;32m   1381\u001b[0m \u001b[38;5;28mself\u001b[39m\u001b[38;5;241m.\u001b[39m_update_offset_text_position(tlb1, tlb2)\n\u001b[0;32m   1382\u001b[0m \u001b[38;5;28mself\u001b[39m\u001b[38;5;241m.\u001b[39moffsetText\u001b[38;5;241m.\u001b[39mset_text(\u001b[38;5;28mself\u001b[39m\u001b[38;5;241m.\u001b[39mmajor\u001b[38;5;241m.\u001b[39mformatter\u001b[38;5;241m.\u001b[39mget_offset())\n",
      "File \u001b[1;32m~\\anaconda3\\lib\\site-packages\\matplotlib\\artist.py:72\u001b[0m, in \u001b[0;36mallow_rasterization.<locals>.draw_wrapper\u001b[1;34m(artist, renderer)\u001b[0m\n\u001b[0;32m     69\u001b[0m     \u001b[38;5;28;01mif\u001b[39;00m artist\u001b[38;5;241m.\u001b[39mget_agg_filter() \u001b[38;5;129;01mis\u001b[39;00m \u001b[38;5;129;01mnot\u001b[39;00m \u001b[38;5;28;01mNone\u001b[39;00m:\n\u001b[0;32m     70\u001b[0m         renderer\u001b[38;5;241m.\u001b[39mstart_filter()\n\u001b[1;32m---> 72\u001b[0m     \u001b[38;5;28;01mreturn\u001b[39;00m \u001b[43mdraw\u001b[49m\u001b[43m(\u001b[49m\u001b[43martist\u001b[49m\u001b[43m,\u001b[49m\u001b[43m \u001b[49m\u001b[43mrenderer\u001b[49m\u001b[43m)\u001b[49m\n\u001b[0;32m     73\u001b[0m \u001b[38;5;28;01mfinally\u001b[39;00m:\n\u001b[0;32m     74\u001b[0m     \u001b[38;5;28;01mif\u001b[39;00m artist\u001b[38;5;241m.\u001b[39mget_agg_filter() \u001b[38;5;129;01mis\u001b[39;00m \u001b[38;5;129;01mnot\u001b[39;00m \u001b[38;5;28;01mNone\u001b[39;00m:\n",
      "File \u001b[1;32m~\\anaconda3\\lib\\site-packages\\matplotlib\\text.py:752\u001b[0m, in \u001b[0;36mText.draw\u001b[1;34m(self, renderer)\u001b[0m\n\u001b[0;32m    749\u001b[0m renderer\u001b[38;5;241m.\u001b[39mopen_group(\u001b[38;5;124m'\u001b[39m\u001b[38;5;124mtext\u001b[39m\u001b[38;5;124m'\u001b[39m, \u001b[38;5;28mself\u001b[39m\u001b[38;5;241m.\u001b[39mget_gid())\n\u001b[0;32m    751\u001b[0m \u001b[38;5;28;01mwith\u001b[39;00m \u001b[38;5;28mself\u001b[39m\u001b[38;5;241m.\u001b[39m_cm_set(text\u001b[38;5;241m=\u001b[39m\u001b[38;5;28mself\u001b[39m\u001b[38;5;241m.\u001b[39m_get_wrapped_text()):\n\u001b[1;32m--> 752\u001b[0m     bbox, info, descent \u001b[38;5;241m=\u001b[39m \u001b[38;5;28;43mself\u001b[39;49m\u001b[38;5;241;43m.\u001b[39;49m\u001b[43m_get_layout\u001b[49m\u001b[43m(\u001b[49m\u001b[43mrenderer\u001b[49m\u001b[43m)\u001b[49m\n\u001b[0;32m    753\u001b[0m     trans \u001b[38;5;241m=\u001b[39m \u001b[38;5;28mself\u001b[39m\u001b[38;5;241m.\u001b[39mget_transform()\n\u001b[0;32m    755\u001b[0m     \u001b[38;5;66;03m# don't use self.get_position here, which refers to text\u001b[39;00m\n\u001b[0;32m    756\u001b[0m     \u001b[38;5;66;03m# position in Text:\u001b[39;00m\n",
      "File \u001b[1;32m~\\anaconda3\\lib\\site-packages\\matplotlib\\text.py:386\u001b[0m, in \u001b[0;36mText._get_layout\u001b[1;34m(self, renderer)\u001b[0m\n\u001b[0;32m    384\u001b[0m clean_line, ismath \u001b[38;5;241m=\u001b[39m \u001b[38;5;28mself\u001b[39m\u001b[38;5;241m.\u001b[39m_preprocess_math(line)\n\u001b[0;32m    385\u001b[0m \u001b[38;5;28;01mif\u001b[39;00m clean_line:\n\u001b[1;32m--> 386\u001b[0m     w, h, d \u001b[38;5;241m=\u001b[39m \u001b[43m_get_text_metrics_with_cache\u001b[49m\u001b[43m(\u001b[49m\n\u001b[0;32m    387\u001b[0m \u001b[43m        \u001b[49m\u001b[43mrenderer\u001b[49m\u001b[43m,\u001b[49m\u001b[43m \u001b[49m\u001b[43mclean_line\u001b[49m\u001b[43m,\u001b[49m\u001b[43m \u001b[49m\u001b[38;5;28;43mself\u001b[39;49m\u001b[38;5;241;43m.\u001b[39;49m\u001b[43m_fontproperties\u001b[49m\u001b[43m,\u001b[49m\n\u001b[0;32m    388\u001b[0m \u001b[43m        \u001b[49m\u001b[43mismath\u001b[49m\u001b[38;5;241;43m=\u001b[39;49m\u001b[43mismath\u001b[49m\u001b[43m,\u001b[49m\u001b[43m \u001b[49m\u001b[43mdpi\u001b[49m\u001b[38;5;241;43m=\u001b[39;49m\u001b[38;5;28;43mself\u001b[39;49m\u001b[38;5;241;43m.\u001b[39;49m\u001b[43mfigure\u001b[49m\u001b[38;5;241;43m.\u001b[39;49m\u001b[43mdpi\u001b[49m\u001b[43m)\u001b[49m\n\u001b[0;32m    389\u001b[0m \u001b[38;5;28;01melse\u001b[39;00m:\n\u001b[0;32m    390\u001b[0m     w \u001b[38;5;241m=\u001b[39m h \u001b[38;5;241m=\u001b[39m d \u001b[38;5;241m=\u001b[39m \u001b[38;5;241m0\u001b[39m\n",
      "File \u001b[1;32m~\\anaconda3\\lib\\site-packages\\matplotlib\\text.py:97\u001b[0m, in \u001b[0;36m_get_text_metrics_with_cache\u001b[1;34m(renderer, text, fontprop, ismath, dpi)\u001b[0m\n\u001b[0;32m     94\u001b[0m \u001b[38;5;250m\u001b[39m\u001b[38;5;124;03m\"\"\"Call ``renderer.get_text_width_height_descent``, caching the results.\"\"\"\u001b[39;00m\n\u001b[0;32m     95\u001b[0m \u001b[38;5;66;03m# Cached based on a copy of fontprop so that later in-place mutations of\u001b[39;00m\n\u001b[0;32m     96\u001b[0m \u001b[38;5;66;03m# the passed-in argument do not mess up the cache.\u001b[39;00m\n\u001b[1;32m---> 97\u001b[0m \u001b[38;5;28;01mreturn\u001b[39;00m \u001b[43m_get_text_metrics_with_cache_impl\u001b[49m\u001b[43m(\u001b[49m\n\u001b[0;32m     98\u001b[0m \u001b[43m    \u001b[49m\u001b[43mweakref\u001b[49m\u001b[38;5;241;43m.\u001b[39;49m\u001b[43mref\u001b[49m\u001b[43m(\u001b[49m\u001b[43mrenderer\u001b[49m\u001b[43m)\u001b[49m\u001b[43m,\u001b[49m\u001b[43m \u001b[49m\u001b[43mtext\u001b[49m\u001b[43m,\u001b[49m\u001b[43m \u001b[49m\u001b[43mfontprop\u001b[49m\u001b[38;5;241;43m.\u001b[39;49m\u001b[43mcopy\u001b[49m\u001b[43m(\u001b[49m\u001b[43m)\u001b[49m\u001b[43m,\u001b[49m\u001b[43m \u001b[49m\u001b[43mismath\u001b[49m\u001b[43m,\u001b[49m\u001b[43m \u001b[49m\u001b[43mdpi\u001b[49m\u001b[43m)\u001b[49m\n",
      "File \u001b[1;32m~\\anaconda3\\lib\\site-packages\\matplotlib\\text.py:105\u001b[0m, in \u001b[0;36m_get_text_metrics_with_cache_impl\u001b[1;34m(renderer_ref, text, fontprop, ismath, dpi)\u001b[0m\n\u001b[0;32m    101\u001b[0m \u001b[38;5;129m@functools\u001b[39m\u001b[38;5;241m.\u001b[39mlru_cache(\u001b[38;5;241m4096\u001b[39m)\n\u001b[0;32m    102\u001b[0m \u001b[38;5;28;01mdef\u001b[39;00m \u001b[38;5;21m_get_text_metrics_with_cache_impl\u001b[39m(\n\u001b[0;32m    103\u001b[0m         renderer_ref, text, fontprop, ismath, dpi):\n\u001b[0;32m    104\u001b[0m     \u001b[38;5;66;03m# dpi is unused, but participates in cache invalidation (via the renderer).\u001b[39;00m\n\u001b[1;32m--> 105\u001b[0m     \u001b[38;5;28;01mreturn\u001b[39;00m \u001b[43mrenderer_ref\u001b[49m\u001b[43m(\u001b[49m\u001b[43m)\u001b[49m\u001b[38;5;241;43m.\u001b[39;49m\u001b[43mget_text_width_height_descent\u001b[49m\u001b[43m(\u001b[49m\u001b[43mtext\u001b[49m\u001b[43m,\u001b[49m\u001b[43m \u001b[49m\u001b[43mfontprop\u001b[49m\u001b[43m,\u001b[49m\u001b[43m \u001b[49m\u001b[43mismath\u001b[49m\u001b[43m)\u001b[49m\n",
      "File \u001b[1;32m~\\anaconda3\\lib\\site-packages\\matplotlib\\backends\\backend_agg.py:230\u001b[0m, in \u001b[0;36mRendererAgg.get_text_width_height_descent\u001b[1;34m(self, s, prop, ismath)\u001b[0m\n\u001b[0;32m    226\u001b[0m     \u001b[38;5;28;01mreturn\u001b[39;00m \u001b[38;5;28msuper\u001b[39m()\u001b[38;5;241m.\u001b[39mget_text_width_height_descent(s, prop, ismath)\n\u001b[0;32m    228\u001b[0m \u001b[38;5;28;01mif\u001b[39;00m ismath:\n\u001b[0;32m    229\u001b[0m     ox, oy, width, height, descent, font_image \u001b[38;5;241m=\u001b[39m \\\n\u001b[1;32m--> 230\u001b[0m         \u001b[38;5;28;43mself\u001b[39;49m\u001b[38;5;241;43m.\u001b[39;49m\u001b[43mmathtext_parser\u001b[49m\u001b[38;5;241;43m.\u001b[39;49m\u001b[43mparse\u001b[49m\u001b[43m(\u001b[49m\u001b[43ms\u001b[49m\u001b[43m,\u001b[49m\u001b[43m \u001b[49m\u001b[38;5;28;43mself\u001b[39;49m\u001b[38;5;241;43m.\u001b[39;49m\u001b[43mdpi\u001b[49m\u001b[43m,\u001b[49m\u001b[43m \u001b[49m\u001b[43mprop\u001b[49m\u001b[43m)\u001b[49m\n\u001b[0;32m    231\u001b[0m     \u001b[38;5;28;01mreturn\u001b[39;00m width, height, descent\n\u001b[0;32m    233\u001b[0m font \u001b[38;5;241m=\u001b[39m \u001b[38;5;28mself\u001b[39m\u001b[38;5;241m.\u001b[39m_prepare_font(prop)\n",
      "File \u001b[1;32m~\\anaconda3\\lib\\site-packages\\matplotlib\\mathtext.py:226\u001b[0m, in \u001b[0;36mMathTextParser.parse\u001b[1;34m(self, s, dpi, prop)\u001b[0m\n\u001b[0;32m    222\u001b[0m \u001b[38;5;66;03m# lru_cache can't decorate parse() directly because prop\u001b[39;00m\n\u001b[0;32m    223\u001b[0m \u001b[38;5;66;03m# is mutable; key the cache using an internal copy (see\u001b[39;00m\n\u001b[0;32m    224\u001b[0m \u001b[38;5;66;03m# text._get_text_metrics_with_cache for a similar case).\u001b[39;00m\n\u001b[0;32m    225\u001b[0m prop \u001b[38;5;241m=\u001b[39m prop\u001b[38;5;241m.\u001b[39mcopy() \u001b[38;5;28;01mif\u001b[39;00m prop \u001b[38;5;129;01mis\u001b[39;00m \u001b[38;5;129;01mnot\u001b[39;00m \u001b[38;5;28;01mNone\u001b[39;00m \u001b[38;5;28;01melse\u001b[39;00m \u001b[38;5;28;01mNone\u001b[39;00m\n\u001b[1;32m--> 226\u001b[0m \u001b[38;5;28;01mreturn\u001b[39;00m \u001b[38;5;28;43mself\u001b[39;49m\u001b[38;5;241;43m.\u001b[39;49m\u001b[43m_parse_cached\u001b[49m\u001b[43m(\u001b[49m\u001b[43ms\u001b[49m\u001b[43m,\u001b[49m\u001b[43m \u001b[49m\u001b[43mdpi\u001b[49m\u001b[43m,\u001b[49m\u001b[43m \u001b[49m\u001b[43mprop\u001b[49m\u001b[43m)\u001b[49m\n",
      "File \u001b[1;32m~\\anaconda3\\lib\\site-packages\\matplotlib\\mathtext.py:245\u001b[0m, in \u001b[0;36mMathTextParser._parse_cached\u001b[1;34m(self, s, dpi, prop)\u001b[0m\n\u001b[0;32m    242\u001b[0m fontsize \u001b[38;5;241m=\u001b[39m prop\u001b[38;5;241m.\u001b[39mget_size_in_points()\n\u001b[0;32m    244\u001b[0m \u001b[38;5;28;01mif\u001b[39;00m \u001b[38;5;28mself\u001b[39m\u001b[38;5;241m.\u001b[39m_parser \u001b[38;5;129;01mis\u001b[39;00m \u001b[38;5;28;01mNone\u001b[39;00m:  \u001b[38;5;66;03m# Cache the parser globally.\u001b[39;00m\n\u001b[1;32m--> 245\u001b[0m     \u001b[38;5;28mself\u001b[39m\u001b[38;5;241m.\u001b[39m\u001b[38;5;18m__class__\u001b[39m\u001b[38;5;241m.\u001b[39m_parser \u001b[38;5;241m=\u001b[39m \u001b[43m_mathtext\u001b[49m\u001b[38;5;241;43m.\u001b[39;49m\u001b[43mParser\u001b[49m\u001b[43m(\u001b[49m\u001b[43m)\u001b[49m\n\u001b[0;32m    247\u001b[0m box \u001b[38;5;241m=\u001b[39m \u001b[38;5;28mself\u001b[39m\u001b[38;5;241m.\u001b[39m_parser\u001b[38;5;241m.\u001b[39mparse(s, fontset, fontsize, dpi)\n\u001b[0;32m    248\u001b[0m output \u001b[38;5;241m=\u001b[39m _mathtext\u001b[38;5;241m.\u001b[39mship(box)\n",
      "File \u001b[1;32m~\\anaconda3\\lib\\site-packages\\matplotlib\\_mathtext.py:1962\u001b[0m, in \u001b[0;36mParser.__init__\u001b[1;34m(self)\u001b[0m\n\u001b[0;32m   1946\u001b[0m p\u001b[38;5;241m.\u001b[39msubsuper      \u001b[38;5;241m<<\u001b[39m\u001b[38;5;241m=\u001b[39m (\n\u001b[0;32m   1947\u001b[0m     (Optional(p\u001b[38;5;241m.\u001b[39mplaceable)(\u001b[38;5;124m\"\u001b[39m\u001b[38;5;124mnucleus\u001b[39m\u001b[38;5;124m\"\u001b[39m)\n\u001b[0;32m   1948\u001b[0m      \u001b[38;5;241m+\u001b[39m OneOrMore(oneOf([\u001b[38;5;124m\"\u001b[39m\u001b[38;5;124m_\u001b[39m\u001b[38;5;124m\"\u001b[39m, \u001b[38;5;124m\"\u001b[39m\u001b[38;5;124m^\u001b[39m\u001b[38;5;124m\"\u001b[39m]) \u001b[38;5;241m-\u001b[39m p\u001b[38;5;241m.\u001b[39mplaceable)(\u001b[38;5;124m\"\u001b[39m\u001b[38;5;124msubsuper\u001b[39m\u001b[38;5;124m\"\u001b[39m)\n\u001b[1;32m   (...)\u001b[0m\n\u001b[0;32m   1951\u001b[0m     \u001b[38;5;241m|\u001b[39m (p\u001b[38;5;241m.\u001b[39mplaceable(\u001b[38;5;124m\"\u001b[39m\u001b[38;5;124mnucleus\u001b[39m\u001b[38;5;124m\"\u001b[39m) \u001b[38;5;241m+\u001b[39m Regex(\u001b[38;5;124m\"\u001b[39m\u001b[38;5;124m'\u001b[39m\u001b[38;5;124m*\u001b[39m\u001b[38;5;124m\"\u001b[39m)(\u001b[38;5;124m\"\u001b[39m\u001b[38;5;124mapostrophes\u001b[39m\u001b[38;5;124m\"\u001b[39m))\n\u001b[0;32m   1952\u001b[0m )\n\u001b[0;32m   1954\u001b[0m p\u001b[38;5;241m.\u001b[39mtoken         \u001b[38;5;241m<<\u001b[39m\u001b[38;5;241m=\u001b[39m (\n\u001b[0;32m   1955\u001b[0m     p\u001b[38;5;241m.\u001b[39msimple\n\u001b[0;32m   1956\u001b[0m     \u001b[38;5;241m|\u001b[39m p\u001b[38;5;241m.\u001b[39mauto_delim\n\u001b[0;32m   1957\u001b[0m     \u001b[38;5;241m|\u001b[39m p\u001b[38;5;241m.\u001b[39munknown_symbol  \u001b[38;5;66;03m# Must be last\u001b[39;00m\n\u001b[0;32m   1958\u001b[0m )\n\u001b[0;32m   1960\u001b[0m p\u001b[38;5;241m.\u001b[39mauto_delim    \u001b[38;5;241m<<\u001b[39m\u001b[38;5;241m=\u001b[39m (\n\u001b[0;32m   1961\u001b[0m     \u001b[38;5;124mr\u001b[39m\u001b[38;5;124m\"\u001b[39m\u001b[38;5;124m\\\u001b[39m\u001b[38;5;124mleft\u001b[39m\u001b[38;5;124m\"\u001b[39m \u001b[38;5;241m-\u001b[39m (p\u001b[38;5;241m.\u001b[39mdelim(\u001b[38;5;124m\"\u001b[39m\u001b[38;5;124mleft\u001b[39m\u001b[38;5;124m\"\u001b[39m) \u001b[38;5;241m|\u001b[39m Error(\u001b[38;5;124m\"\u001b[39m\u001b[38;5;124mExpected a delimiter\u001b[39m\u001b[38;5;124m\"\u001b[39m))\n\u001b[1;32m-> 1962\u001b[0m     \u001b[38;5;241m+\u001b[39m ZeroOrMore(\u001b[43mp\u001b[49m\u001b[38;5;241;43m.\u001b[39;49m\u001b[43msimple\u001b[49m\u001b[43m \u001b[49m\u001b[38;5;241;43m|\u001b[39;49m\u001b[43m \u001b[49m\u001b[43mp\u001b[49m\u001b[38;5;241;43m.\u001b[39;49m\u001b[43mauto_delim\u001b[49m)(\u001b[38;5;124m\"\u001b[39m\u001b[38;5;124mmid\u001b[39m\u001b[38;5;124m\"\u001b[39m)\n\u001b[0;32m   1963\u001b[0m     \u001b[38;5;241m+\u001b[39m \u001b[38;5;124mr\u001b[39m\u001b[38;5;124m\"\u001b[39m\u001b[38;5;124m\\\u001b[39m\u001b[38;5;124mright\u001b[39m\u001b[38;5;124m\"\u001b[39m \u001b[38;5;241m-\u001b[39m (p\u001b[38;5;241m.\u001b[39mdelim(\u001b[38;5;124m\"\u001b[39m\u001b[38;5;124mright\u001b[39m\u001b[38;5;124m\"\u001b[39m) \u001b[38;5;241m|\u001b[39m Error(\u001b[38;5;124m\"\u001b[39m\u001b[38;5;124mExpected a delimiter\u001b[39m\u001b[38;5;124m\"\u001b[39m))\n\u001b[0;32m   1964\u001b[0m )\n\u001b[0;32m   1966\u001b[0m \u001b[38;5;66;03m# Leaf definitions.\u001b[39;00m\n\u001b[0;32m   1967\u001b[0m p\u001b[38;5;241m.\u001b[39mmath          \u001b[38;5;241m=\u001b[39m OneOrMore(p\u001b[38;5;241m.\u001b[39mtoken)\n",
      "File \u001b[1;32m~\\anaconda3\\lib\\site-packages\\pyparsing\\core.py:5172\u001b[0m, in \u001b[0;36mForward.__or__\u001b[1;34m(self, other)\u001b[0m\n\u001b[0;32m   5171\u001b[0m \u001b[38;5;28;01mdef\u001b[39;00m \u001b[38;5;21m__or__\u001b[39m(\u001b[38;5;28mself\u001b[39m, other):\n\u001b[1;32m-> 5172\u001b[0m     caller_line \u001b[38;5;241m=\u001b[39m \u001b[43mtraceback\u001b[49m\u001b[38;5;241;43m.\u001b[39;49m\u001b[43mextract_stack\u001b[49m\u001b[43m(\u001b[49m\u001b[43mlimit\u001b[49m\u001b[38;5;241;43m=\u001b[39;49m\u001b[38;5;241;43m2\u001b[39;49m\u001b[43m)\u001b[49m[\u001b[38;5;241m-\u001b[39m\u001b[38;5;241m2\u001b[39m]\n\u001b[0;32m   5173\u001b[0m     \u001b[38;5;28;01mif\u001b[39;00m (\n\u001b[0;32m   5174\u001b[0m         __diag__\u001b[38;5;241m.\u001b[39mwarn_on_match_first_with_lshift_operator\n\u001b[0;32m   5175\u001b[0m         \u001b[38;5;129;01mand\u001b[39;00m caller_line \u001b[38;5;241m==\u001b[39m \u001b[38;5;28mself\u001b[39m\u001b[38;5;241m.\u001b[39mlshift_line\n\u001b[0;32m   5176\u001b[0m         \u001b[38;5;129;01mand\u001b[39;00m Diagnostics\u001b[38;5;241m.\u001b[39mwarn_on_match_first_with_lshift_operator\n\u001b[0;32m   5177\u001b[0m         \u001b[38;5;129;01mnot\u001b[39;00m \u001b[38;5;129;01min\u001b[39;00m \u001b[38;5;28mself\u001b[39m\u001b[38;5;241m.\u001b[39msuppress_warnings_\n\u001b[0;32m   5178\u001b[0m     ):\n\u001b[0;32m   5179\u001b[0m         warnings\u001b[38;5;241m.\u001b[39mwarn(\n\u001b[0;32m   5180\u001b[0m             \u001b[38;5;124m\"\u001b[39m\u001b[38;5;124musing \u001b[39m\u001b[38;5;124m'\u001b[39m\u001b[38;5;124m<<\u001b[39m\u001b[38;5;124m'\u001b[39m\u001b[38;5;124m operator with \u001b[39m\u001b[38;5;124m'\u001b[39m\u001b[38;5;124m|\u001b[39m\u001b[38;5;124m'\u001b[39m\u001b[38;5;124m is probably an error, use \u001b[39m\u001b[38;5;124m'\u001b[39m\u001b[38;5;124m<<=\u001b[39m\u001b[38;5;124m'\u001b[39m\u001b[38;5;124m\"\u001b[39m,\n\u001b[0;32m   5181\u001b[0m             stacklevel\u001b[38;5;241m=\u001b[39m\u001b[38;5;241m2\u001b[39m,\n\u001b[0;32m   5182\u001b[0m         )\n",
      "File \u001b[1;32m~\\anaconda3\\lib\\traceback.py:227\u001b[0m, in \u001b[0;36mextract_stack\u001b[1;34m(f, limit)\u001b[0m\n\u001b[0;32m    225\u001b[0m \u001b[38;5;28;01mif\u001b[39;00m f \u001b[38;5;129;01mis\u001b[39;00m \u001b[38;5;28;01mNone\u001b[39;00m:\n\u001b[0;32m    226\u001b[0m     f \u001b[38;5;241m=\u001b[39m sys\u001b[38;5;241m.\u001b[39m_getframe()\u001b[38;5;241m.\u001b[39mf_back\n\u001b[1;32m--> 227\u001b[0m stack \u001b[38;5;241m=\u001b[39m \u001b[43mStackSummary\u001b[49m\u001b[38;5;241;43m.\u001b[39;49m\u001b[43mextract\u001b[49m\u001b[43m(\u001b[49m\u001b[43mwalk_stack\u001b[49m\u001b[43m(\u001b[49m\u001b[43mf\u001b[49m\u001b[43m)\u001b[49m\u001b[43m,\u001b[49m\u001b[43m \u001b[49m\u001b[43mlimit\u001b[49m\u001b[38;5;241;43m=\u001b[39;49m\u001b[43mlimit\u001b[49m\u001b[43m)\u001b[49m\n\u001b[0;32m    228\u001b[0m stack\u001b[38;5;241m.\u001b[39mreverse()\n\u001b[0;32m    229\u001b[0m \u001b[38;5;28;01mreturn\u001b[39;00m stack\n",
      "File \u001b[1;32m~\\anaconda3\\lib\\traceback.py:379\u001b[0m, in \u001b[0;36mStackSummary.extract\u001b[1;34m(klass, frame_gen, limit, lookup_lines, capture_locals)\u001b[0m\n\u001b[0;32m    376\u001b[0m     result\u001b[38;5;241m.\u001b[39mappend(FrameSummary(\n\u001b[0;32m    377\u001b[0m         filename, lineno, name, lookup_line\u001b[38;5;241m=\u001b[39m\u001b[38;5;28;01mFalse\u001b[39;00m, \u001b[38;5;28mlocals\u001b[39m\u001b[38;5;241m=\u001b[39mf_locals))\n\u001b[0;32m    378\u001b[0m \u001b[38;5;28;01mfor\u001b[39;00m filename \u001b[38;5;129;01min\u001b[39;00m fnames:\n\u001b[1;32m--> 379\u001b[0m     \u001b[43mlinecache\u001b[49m\u001b[38;5;241;43m.\u001b[39;49m\u001b[43mcheckcache\u001b[49m\u001b[43m(\u001b[49m\u001b[43mfilename\u001b[49m\u001b[43m)\u001b[49m\n\u001b[0;32m    380\u001b[0m \u001b[38;5;66;03m# If immediate lookup was desired, trigger lookups now.\u001b[39;00m\n\u001b[0;32m    381\u001b[0m \u001b[38;5;28;01mif\u001b[39;00m lookup_lines:\n",
      "File \u001b[1;32m~\\anaconda3\\lib\\linecache.py:72\u001b[0m, in \u001b[0;36mcheckcache\u001b[1;34m(filename)\u001b[0m\n\u001b[0;32m     70\u001b[0m     \u001b[38;5;28;01mcontinue\u001b[39;00m   \u001b[38;5;66;03m# no-op for files loaded via a __loader__\u001b[39;00m\n\u001b[0;32m     71\u001b[0m \u001b[38;5;28;01mtry\u001b[39;00m:\n\u001b[1;32m---> 72\u001b[0m     stat \u001b[38;5;241m=\u001b[39m \u001b[43mos\u001b[49m\u001b[38;5;241;43m.\u001b[39;49m\u001b[43mstat\u001b[49m\u001b[43m(\u001b[49m\u001b[43mfullname\u001b[49m\u001b[43m)\u001b[49m\n\u001b[0;32m     73\u001b[0m \u001b[38;5;28;01mexcept\u001b[39;00m \u001b[38;5;167;01mOSError\u001b[39;00m:\n\u001b[0;32m     74\u001b[0m     cache\u001b[38;5;241m.\u001b[39mpop(filename, \u001b[38;5;28;01mNone\u001b[39;00m)\n",
      "\u001b[1;31mKeyboardInterrupt\u001b[0m: "
     ]
    }
   ],
   "source": [
    "import numpy as np\n",
    "from scipy.special import binom\n",
    "import matplotlib.pyplot as plt\n",
    "\n",
    "def compute_term_even(m, xi):\n",
    "    first_sum = 0\n",
    "    for k in range(m + 1):\n",
    "        for j in range(k):\n",
    "            X = 1/2 * 4**j * (binom(k-1/2,j) + binom(k+1/2,j)) * xi**(2*k-2*j) \n",
    "            first_sum += binom(m-1/2, m-k) * (-4)**(m-k) * X\n",
    "        for j in range(k - 1):\n",
    "            X = - 2 * 4**j * binom(k-1/2,j) * xi**(2*k-2-2*j) \n",
    "            first_sum += binom(m-1/2, m-k) * (-4)**(m-k) * X\n",
    "            \n",
    "    return first_sum\n",
    "\n",
    "def compute_term_odd(m, xi):\n",
    "    first_sum = 0\n",
    "    for k in range(m + 1):\n",
    "        for j in range(k):\n",
    "            X = - 4**j * binom(k-1/2,j) * xi**(2*k-1-2*j) \n",
    "            first_sum += binom(m-1, m-k) * (-4)**(m-k) * X\n",
    "            \n",
    "    return first_sum\n",
    "\n",
    "def plot_function(m, xi_range):\n",
    "    h = 0.001\n",
    "    y = [(compute_term_odd(m, xi+h) - 2*compute_term_odd(m, xi+h) + compute_term_odd(m, xi-h))/h**2 for xi in xi_range]\n",
    "    #plt.plot(xi_range, y, label=f'Plot d^2 for m={m}')\n",
    "    y = [(compute_term_odd(m, xi+h) - compute_term_odd(m, xi-h))/h for xi in xi_range]\n",
    "    #plt.plot(xi_range, y, label=f'Plot d^1 for m={m}')\n",
    "    y = [compute_term_odd(m, xi) for xi in xi_range]\n",
    "    plt.plot(xi_range, y, label=f'Plot d^0 for m={m}')\n",
    "    \n",
    "\n",
    "xi_range = np.linspace(-1.1, 1.1, 300)\n",
    "plt.figure(figsize=(10, 5))\n",
    "\n",
    "for k in range(12):\n",
    "    #plt.plot(xi_range, [abs(xi)**k for xi in xi_range], label=f'Plot for k={k}', color='black')\n",
    "    pass\n",
    "\n",
    "plot_function(1, xi_range)\n",
    "plot_function(2, xi_range)\n",
    "plot_function(3, xi_range)\n",
    "plot_function(4, xi_range)\n",
    "plot_function(5, xi_range)\n",
    "plot_function(6, xi_range)\n",
    "\n",
    "plt.xlabel('$\\\\xi$')\n",
    "plt.ylabel('Function Value')\n",
    "plt.title('Plot of the Given Function')\n",
    "#plt.yscale('log')\n",
    "plt.legend()\n",
    "plt.grid(True)\n",
    "plt.show()"
   ]
  },
  {
   "cell_type": "code",
   "execution_count": 1,
   "id": "4903241d",
   "metadata": {},
   "outputs": [],
   "source": [
    "from sympy import *"
   ]
  },
  {
   "cell_type": "code",
   "execution_count": 67,
   "id": "3e7d70a7",
   "metadata": {},
   "outputs": [
    {
     "data": {
      "text/latex": [
       "$\\displaystyle \\left[\\begin{matrix}V^{-1}_{1,1} & V^{-1}_{2,1}\\\\V^{-1}_{1,2} & V^{-1}_{2,2}\\end{matrix}\\right] = \\left[\\begin{matrix}\\frac{i q}{- \\lambda + \\sqrt{\\lambda^{2} - 1}} & i q \\left(- \\lambda + \\sqrt{\\lambda^{2} - 1}\\right)\\\\1 & 1\\end{matrix}\\right]$"
      ],
      "text/plain": [
       "Eq(Matrix([\n",
       "[V^{-1}_{1,1}, V^{-1}_{2,1}],\n",
       "[V^{-1}_{1,2}, V^{-1}_{2,2}]]), Matrix([\n",
       "[I*q/(-lambda + sqrt(lambda**2 - 1)), I*q*(-lambda + sqrt(lambda**2 - 1))],\n",
       "[                                  1,                                   1]]))"
      ]
     },
     "metadata": {},
     "output_type": "display_data"
    },
    {
     "data": {
      "text/latex": [
       "$\\displaystyle \\left[\\begin{matrix}V_{1,1} & V_{2,1}\\\\V_{1,2} & V_{2,2}\\end{matrix}\\right] = \\left[\\begin{matrix}\\frac{i}{2 q \\sqrt{\\lambda^{2} - 1}} & - \\frac{\\left(- \\lambda + \\sqrt{\\lambda^{2} - 1}\\right)^{2}}{1 - \\left(- \\lambda + \\sqrt{\\lambda^{2} - 1}\\right)^{2}}\\\\- \\frac{i}{2 q \\sqrt{\\lambda^{2} - 1}} & \\frac{1}{1 - \\left(- \\lambda + \\sqrt{\\lambda^{2} - 1}\\right)^{2}}\\end{matrix}\\right]$"
      ],
      "text/plain": [
       "Eq(Matrix([\n",
       "[V_{1,1}, V_{2,1}],\n",
       "[V_{1,2}, V_{2,2}]]), Matrix([\n",
       "[ I/(2*q*sqrt(lambda**2 - 1)), -(-lambda + sqrt(lambda**2 - 1))**2/(1 - (-lambda + sqrt(lambda**2 - 1))**2)],\n",
       "[-I/(2*q*sqrt(lambda**2 - 1)),                                   1/(1 - (-lambda + sqrt(lambda**2 - 1))**2)]]))"
      ]
     },
     "metadata": {},
     "output_type": "display_data"
    },
    {
     "data": {
      "text/latex": [
       "$\\displaystyle \\left[\\begin{matrix}- i \\lambda & q\\\\\\frac{1}{q} & i \\lambda\\end{matrix}\\right]$"
      ],
      "text/plain": [
       "Matrix([\n",
       "[-I*lambda,        q],\n",
       "[      1/q, I*lambda]])"
      ]
     },
     "metadata": {},
     "output_type": "display_data"
    },
    {
     "data": {
      "text/latex": [
       "$\\displaystyle \\left[\\begin{matrix}\\frac{p \\left(a - b \\left(\\lambda - \\sqrt{\\lambda^{2} - 1}\\right)^{2}\\right)}{2 q \\left(\\lambda - \\sqrt{\\lambda^{2} - 1}\\right) \\sqrt{\\lambda^{2} - 1}} & \\frac{i p \\left(- a + b\\right) \\left(\\lambda - \\sqrt{\\lambda^{2} - 1}\\right)}{\\left(\\lambda - \\sqrt{\\lambda^{2} - 1}\\right)^{2} - 1}\\\\\\frac{i \\left(a - b\\right)}{2 q \\sqrt{\\lambda^{2} - 1}} & \\frac{a \\left(\\lambda - \\sqrt{\\lambda^{2} - 1}\\right)^{2} - b}{\\left(\\lambda - \\sqrt{\\lambda^{2} - 1}\\right)^{2} - 1}\\end{matrix}\\right]$"
      ],
      "text/plain": [
       "Matrix([\n",
       "[p*(a - b*(lambda - sqrt(lambda**2 - 1))**2)/(2*q*(lambda - sqrt(lambda**2 - 1))*sqrt(lambda**2 - 1)), I*p*(-a + b)*(lambda - sqrt(lambda**2 - 1))/((lambda - sqrt(lambda**2 - 1))**2 - 1)],\n",
       "[                                                                 I*(a - b)/(2*q*sqrt(lambda**2 - 1)),   (a*(lambda - sqrt(lambda**2 - 1))**2 - b)/((lambda - sqrt(lambda**2 - 1))**2 - 1)]])"
      ]
     },
     "metadata": {},
     "output_type": "display_data"
    },
    {
     "data": {
      "text/latex": [
       "$\\displaystyle \\left[\\begin{matrix}1 & 0\\\\0 & 1\\end{matrix}\\right]$"
      ],
      "text/plain": [
       "Matrix([\n",
       "[1, 0],\n",
       "[0, 1]])"
      ]
     },
     "metadata": {},
     "output_type": "display_data"
    },
    {
     "data": {
      "text/latex": [
       "$\\displaystyle \\left[\\begin{matrix}\\frac{p}{q} & 0\\\\0 & 1\\end{matrix}\\right]$"
      ],
      "text/plain": [
       "Matrix([\n",
       "[p/q, 0],\n",
       "[  0, 1]])"
      ]
     },
     "metadata": {},
     "output_type": "display_data"
    },
    {
     "data": {
      "text/latex": [
       "$\\displaystyle \\left[\\begin{matrix}\\frac{i \\left(- \\lambda^{2} + \\lambda \\sqrt{\\lambda^{2} - 1} + 1\\right)}{\\lambda^{3} - \\lambda^{2} \\sqrt{\\lambda^{2} - 1} - \\lambda + \\sqrt{\\lambda^{2} - 1}} & \\frac{i \\lambda \\left(- 2 \\lambda^{3} + 2 \\lambda^{2} \\sqrt{\\lambda^{2} - 1} + 2 \\lambda - \\sqrt{\\lambda^{2} - 1}\\right)}{\\lambda^{3} - \\lambda^{2} \\sqrt{\\lambda^{2} - 1} - \\lambda + \\sqrt{\\lambda^{2} - 1}}\\\\\\frac{i \\lambda \\left(\\lambda^{2} - \\lambda \\sqrt{\\lambda^{2} - 1} - 1\\right)}{2 \\lambda^{4} - 2 \\lambda^{3} \\sqrt{\\lambda^{2} - 1} - 3 \\lambda^{2} + 2 \\lambda \\sqrt{\\lambda^{2} - 1} + 1} & \\frac{i \\left(\\lambda^{2} - \\lambda \\sqrt{\\lambda^{2} - 1} - 1\\right)}{\\lambda^{3} - \\lambda^{2} \\sqrt{\\lambda^{2} - 1} - \\lambda + \\sqrt{\\lambda^{2} - 1}}\\end{matrix}\\right]$"
      ],
      "text/plain": [
       "Matrix([\n",
       "[                            I*(-lambda**2 + lambda*sqrt(lambda**2 - 1) + 1)/(lambda**3 - lambda**2*sqrt(lambda**2 - 1) - lambda + sqrt(lambda**2 - 1)), I*lambda*(-2*lambda**3 + 2*lambda**2*sqrt(lambda**2 - 1) + 2*lambda - sqrt(lambda**2 - 1))/(lambda**3 - lambda**2*sqrt(lambda**2 - 1) - lambda + sqrt(lambda**2 - 1))],\n",
       "[I*lambda*(lambda**2 - lambda*sqrt(lambda**2 - 1) - 1)/(2*lambda**4 - 2*lambda**3*sqrt(lambda**2 - 1) - 3*lambda**2 + 2*lambda*sqrt(lambda**2 - 1) + 1),                                             I*(lambda**2 - lambda*sqrt(lambda**2 - 1) - 1)/(lambda**3 - lambda**2*sqrt(lambda**2 - 1) - lambda + sqrt(lambda**2 - 1))]])"
      ]
     },
     "metadata": {},
     "output_type": "display_data"
    },
    {
     "data": {
      "text/latex": [
       "$\\displaystyle \\left[\\begin{matrix}\\frac{q \\left(\\lambda - \\sqrt{\\lambda^{2} - 1}\\right)^{3} \\sqrt{\\lambda^{2} - 1} + \\frac{i \\left(\\left(\\lambda - \\sqrt{\\lambda^{2} - 1}\\right)^{2} - 1\\right)}{2}}{q \\sqrt{\\lambda^{2} - 1} \\left(\\left(\\lambda - \\sqrt{\\lambda^{2} - 1}\\right)^{2} - 1\\right)} & \\frac{\\lambda^{2} q - i \\lambda^{2} - \\lambda q \\sqrt{\\lambda^{2} - 1} + i \\lambda \\sqrt{\\lambda^{2} - 1} - q + i}{2 q \\left(\\lambda^{3} - \\lambda^{2} \\sqrt{\\lambda^{2} - 1} - \\lambda + \\sqrt{\\lambda^{2} - 1}\\right)}\\\\\\frac{q \\left(- \\lambda + \\sqrt{\\lambda^{2} - 1}\\right) \\sqrt{\\lambda^{2} - 1} + \\frac{i \\left(1 - \\left(\\lambda - \\sqrt{\\lambda^{2} - 1}\\right)^{2}\\right)}{2}}{q \\sqrt{\\lambda^{2} - 1} \\left(\\left(\\lambda - \\sqrt{\\lambda^{2} - 1}\\right)^{2} - 1\\right)} & \\frac{- q \\left(\\lambda + \\sqrt{\\lambda^{2} - 1}\\right) \\sqrt{\\lambda^{2} - 1} + \\frac{i \\left(1 - \\left(\\lambda - \\sqrt{\\lambda^{2} - 1}\\right)^{2}\\right)}{2}}{q \\sqrt{\\lambda^{2} - 1} \\left(\\left(\\lambda - \\sqrt{\\lambda^{2} - 1}\\right)^{2} - 1\\right)}\\end{matrix}\\right]$"
      ],
      "text/plain": [
       "Matrix([\n",
       "[(q*(lambda - sqrt(lambda**2 - 1))**3*sqrt(lambda**2 - 1) + I*((lambda - sqrt(lambda**2 - 1))**2 - 1)/2)/(q*sqrt(lambda**2 - 1)*((lambda - sqrt(lambda**2 - 1))**2 - 1)), (lambda**2*q - I*lambda**2 - lambda*q*sqrt(lambda**2 - 1) + I*lambda*sqrt(lambda**2 - 1) - q + I)/(2*q*(lambda**3 - lambda**2*sqrt(lambda**2 - 1) - lambda + sqrt(lambda**2 - 1)))],\n",
       "[  (q*(-lambda + sqrt(lambda**2 - 1))*sqrt(lambda**2 - 1) + I*(1 - (lambda - sqrt(lambda**2 - 1))**2)/2)/(q*sqrt(lambda**2 - 1)*((lambda - sqrt(lambda**2 - 1))**2 - 1)),              (-q*(lambda + sqrt(lambda**2 - 1))*sqrt(lambda**2 - 1) + I*(1 - (lambda - sqrt(lambda**2 - 1))**2)/2)/(q*sqrt(lambda**2 - 1)*((lambda - sqrt(lambda**2 - 1))**2 - 1))]])"
      ]
     },
     "metadata": {},
     "output_type": "display_data"
    },
    {
     "data": {
      "text/latex": [
       "$\\displaystyle \\left[\\begin{matrix}- i \\lambda & q\\\\\\frac{1}{q} & i \\lambda\\end{matrix}\\right]$"
      ],
      "text/plain": [
       "Matrix([\n",
       "[-I*lambda,        q],\n",
       "[      1/q, I*lambda]])"
      ]
     },
     "metadata": {},
     "output_type": "display_data"
    },
    {
     "data": {
      "text/latex": [
       "$\\displaystyle \\left[\\begin{matrix}- \\sqrt{1 - \\lambda^{2}} & 0\\\\0 & \\sqrt{1 - \\lambda^{2}}\\end{matrix}\\right]$"
      ],
      "text/plain": [
       "Matrix([\n",
       "[-sqrt(1 - lambda**2),                   0],\n",
       "[                   0, sqrt(1 - lambda**2)]])"
      ]
     },
     "metadata": {},
     "output_type": "display_data"
    },
    {
     "data": {
      "text/latex": [
       "$\\displaystyle \\left[\\begin{matrix}- \\frac{1}{2 q \\sqrt{1 - \\lambda^{2}}} & - \\frac{i \\lambda}{2 \\sqrt{1 - \\lambda^{2}}} + \\frac{1}{2}\\\\\\frac{1}{2 q \\sqrt{1 - \\lambda^{2}}} & \\frac{i \\lambda}{2 \\sqrt{1 - \\lambda^{2}}} + \\frac{1}{2}\\end{matrix}\\right]$"
      ],
      "text/plain": [
       "Matrix([\n",
       "[-1/(2*q*sqrt(1 - lambda**2)), -I*lambda/(2*sqrt(1 - lambda**2)) + 1/2],\n",
       "[ 1/(2*q*sqrt(1 - lambda**2)),  I*lambda/(2*sqrt(1 - lambda**2)) + 1/2]])"
      ]
     },
     "metadata": {},
     "output_type": "display_data"
    },
    {
     "name": "stdout",
     "output_type": "stream",
     "text": [
      "real: \n"
     ]
    },
    {
     "data": {
      "text/latex": [
       "$\\displaystyle \\left[\\begin{matrix}- \\frac{i}{2 q \\sqrt{\\lambda^{2} - 1}} - \\frac{1}{2 q \\sqrt{1 - \\lambda^{2}}} & - \\frac{i \\lambda}{2 \\sqrt{1 - \\lambda^{2}}} - \\frac{\\left(\\lambda - \\sqrt{\\lambda^{2} - 1}\\right)^{2}}{\\left(\\lambda - \\sqrt{\\lambda^{2} - 1}\\right)^{2} - 1} + \\frac{1}{2}\\\\\\frac{i}{2 q \\sqrt{\\lambda^{2} - 1}} + \\frac{1}{2 q \\sqrt{1 - \\lambda^{2}}} & \\frac{i \\lambda}{2 \\sqrt{1 - \\lambda^{2}}} + \\frac{1}{2} + \\frac{1}{\\left(\\lambda - \\sqrt{\\lambda^{2} - 1}\\right)^{2} - 1}\\end{matrix}\\right]$"
      ],
      "text/plain": [
       "Matrix([\n",
       "[-I/(2*q*sqrt(lambda**2 - 1)) - 1/(2*q*sqrt(1 - lambda**2)), -I*lambda/(2*sqrt(1 - lambda**2)) - (lambda - sqrt(lambda**2 - 1))**2/((lambda - sqrt(lambda**2 - 1))**2 - 1) + 1/2],\n",
       "[ I/(2*q*sqrt(lambda**2 - 1)) + 1/(2*q*sqrt(1 - lambda**2)),                                  I*lambda/(2*sqrt(1 - lambda**2)) + 1/2 + 1/((lambda - sqrt(lambda**2 - 1))**2 - 1)]])"
      ]
     },
     "metadata": {},
     "output_type": "display_data"
    }
   ],
   "source": [
    "z = sqrt(lam**2 - 1)\n",
    "V_sym = Matrix([[Symbol('V_{1,1}'), Symbol('V_{2,1}')], [Symbol('V_{1,2}'), Symbol('V_{2,2}')]])\n",
    "Vinv_sym = Matrix([[Symbol('V^{-1}_{1,1}'), Symbol('V^{-1}_{2,1}')], [Symbol('V^{-1}_{1,2}'), Symbol('V^{-1}_{2,2}')]])\n",
    "\n",
    "V = Matrix([[I/(2*z*q), -(z-lam)**2/(1-(z-lam)**2)], [-I/(2*z*q), 1/(1-(z-lam)**2)]])\n",
    "Vinv = Matrix([[I*q/(z-lam), I*q*(z-lam)], [1, 1]])\n",
    "Vt = Matrix([[I/(2*z*p), -(z-lam)**2/(1-(z-lam)**2)], [-I/(2*z*p), 1/(1-(z-lam)**2)]])\n",
    "Vinvt = Matrix([[I*p/(z-lam), I*p*(z-lam)], [1, 1]])\n",
    "\n",
    "D = Matrix([[- I * z, 0], [0, I * z]])\n",
    "E = Matrix([[1, 1], [lam - z, lam + z]])\n",
    "Q = Matrix([[0, q], [1/q, 0]])\n",
    "\n",
    "display(Eq(Vinv_sym, Vinv))\n",
    "display(Eq(V_sym, V))\n",
    "display(simplify(Vinv * D * V))\n",
    "display(simplify(Vinvt * Matrix([[a, 0], [0, b]]) * V))\n",
    "\n",
    "display(simplify(Vinv * V))\n",
    "display(simplify(Vinvt * V))\n",
    "\n",
    "display(simplify(V * Q * Vinv))\n",
    "display(simplify(V * E))\n",
    "\n",
    "M = simplify(Vinv * D * V)\n",
    "B = simplify(M.diagonalize()[0].inv())\n",
    "diag = simplify(M.diagonalize()[1])\n",
    "display(M)\n",
    "display(diag)\n",
    "display(simplify(B))\n",
    "print(\"real: \")\n",
    "display(simplify(B - V))\n"
   ]
  },
  {
   "cell_type": "code",
   "execution_count": 29,
   "id": "8a6b5af9",
   "metadata": {
    "scrolled": true
   },
   "outputs": [
    {
     "data": {
      "text/latex": [
       "$\\displaystyle \\left[\\begin{matrix}0 & \\frac{\\sqrt{2} i \\left(- \\lambda - 1\\right)}{2 \\epsilon}\\\\\\frac{\\sqrt{2} i \\left(1 - \\lambda\\right)}{2 \\epsilon} & 0\\end{matrix}\\right]$"
      ],
      "text/plain": [
       "Matrix([\n",
       "[                                 0, sqrt(2)*I*(-lambda - 1)/(2*epsilon)],\n",
       "[sqrt(2)*I*(1 - lambda)/(2*epsilon),                                   0]])"
      ]
     },
     "metadata": {},
     "output_type": "display_data"
    },
    {
     "data": {
      "text/latex": [
       "$\\displaystyle \\left[\\begin{matrix}0 & \\frac{\\sqrt{2} i \\left(- \\lambda - 1\\right)}{2 \\epsilon}\\\\\\frac{\\sqrt{2} i \\left(1 - \\lambda\\right)}{2 \\epsilon} & 0\\end{matrix}\\right]$"
      ],
      "text/plain": [
       "Matrix([\n",
       "[                                 0, sqrt(2)*I*(-lambda - 1)/(2*epsilon)],\n",
       "[sqrt(2)*I*(1 - lambda)/(2*epsilon),                                   0]])"
      ]
     },
     "metadata": {},
     "output_type": "display_data"
    },
    {
     "data": {
      "text/latex": [
       "$\\displaystyle \\left[\\begin{matrix}\\frac{\\sqrt{2 - 2 \\lambda^{2}} \\left(\\frac{\\left(\\lambda - 1\\right) \\left(W_{+} \\epsilon^{2} + \\lambda + 1\\right)}{4} + \\frac{\\left(\\lambda + 1\\right) \\left(W_{-} \\epsilon^{2} + \\lambda - 1\\right)}{4}\\right)}{\\epsilon \\left(\\lambda - 1\\right) \\left(\\lambda + 1\\right)} & \\frac{\\sqrt{2} \\epsilon \\left(- W_{+} \\lambda + W_{+} + W_{-} \\lambda + W_{-}\\right)}{4 \\sqrt{1 - \\lambda^{2}}}\\\\- \\frac{\\sqrt{2} \\epsilon \\left(- W_{+} \\lambda + W_{+} + W_{-} \\lambda + W_{-}\\right)}{4 \\sqrt{1 - \\lambda^{2}}} & \\frac{\\sqrt{2 - 2 \\lambda^{2}} \\left(- \\frac{\\left(\\lambda - 1\\right) \\left(W_{+} \\epsilon^{2} + \\lambda + 1\\right)}{4} - \\frac{\\left(\\lambda + 1\\right) \\left(W_{-} \\epsilon^{2} + \\lambda - 1\\right)}{4}\\right)}{\\epsilon \\left(\\lambda - 1\\right) \\left(\\lambda + 1\\right)}\\end{matrix}\\right]$"
      ],
      "text/plain": [
       "Matrix([\n",
       "[sqrt(2 - 2*lambda**2)*((lambda - 1)*(W_+*epsilon**2 + lambda + 1)/4 + (lambda + 1)*(W_-*epsilon**2 + lambda - 1)/4)/(epsilon*(lambda - 1)*(lambda + 1)),                                                                           sqrt(2)*epsilon*(-W_+*lambda + W_+ + W_-*lambda + W_-)/(4*sqrt(1 - lambda**2))],\n",
       "[                                                                        -sqrt(2)*epsilon*(-W_+*lambda + W_+ + W_-*lambda + W_-)/(4*sqrt(1 - lambda**2)), sqrt(2 - 2*lambda**2)*(-(lambda - 1)*(W_+*epsilon**2 + lambda + 1)/4 - (lambda + 1)*(W_-*epsilon**2 + lambda - 1)/4)/(epsilon*(lambda - 1)*(lambda + 1))]])"
      ]
     },
     "metadata": {},
     "output_type": "display_data"
    }
   ],
   "source": [
    "a, b, q, p, x = symbols('a b q p x')\n",
    "Wm = Symbol('W_-')\n",
    "Wp = Symbol('W_+')\n",
    "\n",
    "k = Symbol('k')\n",
    "epsilon = Symbol('epsilon')\n",
    "lam = Symbol('lambda')\n",
    "\n",
    "z = I * sqrt(1 - lam**2) / (sqrt(2) * epsilon)\n",
    "\n",
    "U = Matrix([[0, - I * epsilon / sqrt(2) * Wp], [- I * epsilon / sqrt(2) * Wm, 0]])\n",
    "A = Matrix([[0, - I / sqrt(2) / epsilon * (lam+1)], [- I / sqrt(2) / epsilon * (lam-1), 0]])\n",
    "E = Matrix([[1, 1], [sqrt(2) * epsilon * 2 / (1+lam),sqrt(2) * epsilon * 2 / (1+lam)]])\n",
    "V = Matrix([[epsilon/sqrt(2) * z/(lam+1), Rational(1,2)], [- epsilon/sqrt(2) * z/(lam+1), Rational(1,2)]])\n",
    "Vinv = Matrix([[sqrt(2)*epsilon * z/(lam-1), - sqrt(2)*epsilon * z/(lam-1)], [1, 1]])\n",
    "D = Matrix([[-I * z, 0], [0, I * z]])\n",
    "\n",
    "\n",
    "display(simplify(Vinv * D * V))\n",
    "display(simplify(A))\n",
    "\n",
    "display(simplify(V * (A + U) * Vinv))\n",
    "\n"
   ]
  },
  {
   "cell_type": "code",
   "execution_count": 39,
   "id": "d3fbb998",
   "metadata": {},
   "outputs": [
    {
     "data": {
      "text/latex": [
       "$\\displaystyle \\left[\\begin{matrix}- i \\lambda & q\\\\\\frac{1}{q} & i \\lambda\\end{matrix}\\right]$"
      ],
      "text/plain": [
       "Matrix([\n",
       "[-I*lambda,        q],\n",
       "[      1/q, I*lambda]])"
      ]
     },
     "metadata": {},
     "output_type": "display_data"
    },
    {
     "data": {
      "text/latex": [
       "$\\displaystyle \\left[\\begin{matrix}- i \\lambda & 0\\\\0 & i \\lambda\\end{matrix}\\right]$"
      ],
      "text/plain": [
       "Matrix([\n",
       "[-I*lambda,        0],\n",
       "[        0, I*lambda]])"
      ]
     },
     "metadata": {},
     "output_type": "display_data"
    },
    {
     "data": {
      "text/latex": [
       "$\\displaystyle \\left[\\begin{matrix}- i \\lambda & q\\\\\\frac{1}{q} & i \\lambda\\end{matrix}\\right]$"
      ],
      "text/plain": [
       "Matrix([\n",
       "[-I*lambda,        q],\n",
       "[      1/q, I*lambda]])"
      ]
     },
     "metadata": {},
     "output_type": "display_data"
    },
    {
     "data": {
      "text/latex": [
       "$\\displaystyle \\left[\\begin{matrix}\\frac{- \\frac{\\sqrt{2} i W_{+} \\epsilon \\sqrt{1 - \\lambda^{2}} \\left(\\lambda - i \\sqrt{1 - \\lambda^{2}}\\right) \\left(\\left(\\lambda - i \\sqrt{1 - \\lambda^{2}}\\right)^{2} - 1\\right)}{4} + i \\lambda q \\left(1 - \\lambda^{2}\\right) \\left(\\lambda - i \\sqrt{1 - \\lambda^{2}}\\right)^{3} - \\frac{q \\sqrt{1 - \\lambda^{2}} \\left(W_{-} \\epsilon q \\sqrt{2 - 2 \\lambda^{2}} \\left(\\lambda - i \\sqrt{1 - \\lambda^{2}}\\right)^{2} + \\lambda \\left(\\left(\\lambda - i \\sqrt{1 - \\lambda^{2}}\\right)^{2} - 1\\right)\\right)}{2}}{q \\left(1 - \\lambda^{2}\\right) \\left(\\lambda - i \\sqrt{1 - \\lambda^{2}}\\right) \\left(\\left(\\lambda - i \\sqrt{1 - \\lambda^{2}}\\right)^{2} - 1\\right)} & \\frac{- \\frac{\\sqrt{2} i W_{+} \\epsilon \\sqrt{1 - \\lambda^{2}} \\left(\\left(\\lambda - i \\sqrt{1 - \\lambda^{2}}\\right)^{2} - 1\\right)}{4} + i \\lambda q \\left(1 - \\lambda^{2}\\right) \\left(\\lambda - i \\sqrt{1 - \\lambda^{2}}\\right)^{2} - \\frac{q \\sqrt{1 - \\lambda^{2}} \\left(\\lambda - i \\sqrt{1 - \\lambda^{2}}\\right) \\left(W_{-} \\epsilon q \\sqrt{2 - 2 \\lambda^{2}} \\left(\\lambda - i \\sqrt{1 - \\lambda^{2}}\\right)^{2} + \\lambda \\left(\\left(\\lambda - i \\sqrt{1 - \\lambda^{2}}\\right)^{2} - 1\\right)\\right)}{2}}{q \\left(1 - \\lambda^{2}\\right) \\left(\\left(\\lambda - i \\sqrt{1 - \\lambda^{2}}\\right)^{2} - 1\\right)}\\\\\\frac{\\frac{\\sqrt{2} W_{+} \\epsilon \\lambda^{2}}{2} - \\frac{\\sqrt{2} i W_{+} \\epsilon \\lambda \\sqrt{1 - \\lambda^{2}}}{2} - \\frac{\\sqrt{2} W_{+} \\epsilon}{4} + \\frac{\\sqrt{2} W_{-} \\epsilon q^{2}}{4} - i \\lambda^{2} q - \\lambda q \\sqrt{1 - \\lambda^{2}}}{q \\left(2 \\lambda^{3} - 2 i \\lambda^{2} \\sqrt{1 - \\lambda^{2}} - 2 \\lambda + i \\sqrt{1 - \\lambda^{2}}\\right)} & \\frac{\\sqrt{2} W_{+} \\epsilon \\lambda - \\sqrt{2} i W_{+} \\epsilon \\sqrt{1 - \\lambda^{2}} + \\sqrt{2} W_{-} \\epsilon \\lambda q^{2} - \\sqrt{2} i W_{-} \\epsilon q^{2} \\sqrt{1 - \\lambda^{2}} - 4 i \\lambda^{3} q - 4 \\lambda^{2} q \\sqrt{1 - \\lambda^{2}}}{4 q \\left(\\lambda^{2} - i \\lambda \\sqrt{1 - \\lambda^{2}} - 1\\right)}\\end{matrix}\\right]$"
      ],
      "text/plain": [
       "Matrix([\n",
       "[(-sqrt(2)*I*W_+*epsilon*sqrt(1 - lambda**2)*(lambda - I*sqrt(1 - lambda**2))*((lambda - I*sqrt(1 - lambda**2))**2 - 1)/4 + I*lambda*q*(1 - lambda**2)*(lambda - I*sqrt(1 - lambda**2))**3 - q*sqrt(1 - lambda**2)*(W_-*epsilon*q*sqrt(2 - 2*lambda**2)*(lambda - I*sqrt(1 - lambda**2))**2 + lambda*((lambda - I*sqrt(1 - lambda**2))**2 - 1))/2)/(q*(1 - lambda**2)*(lambda - I*sqrt(1 - lambda**2))*((lambda - I*sqrt(1 - lambda**2))**2 - 1)), (-sqrt(2)*I*W_+*epsilon*sqrt(1 - lambda**2)*((lambda - I*sqrt(1 - lambda**2))**2 - 1)/4 + I*lambda*q*(1 - lambda**2)*(lambda - I*sqrt(1 - lambda**2))**2 - q*sqrt(1 - lambda**2)*(lambda - I*sqrt(1 - lambda**2))*(W_-*epsilon*q*sqrt(2 - 2*lambda**2)*(lambda - I*sqrt(1 - lambda**2))**2 + lambda*((lambda - I*sqrt(1 - lambda**2))**2 - 1))/2)/(q*(1 - lambda**2)*((lambda - I*sqrt(1 - lambda**2))**2 - 1))],\n",
       "[                                                                                                                                                             (sqrt(2)*W_+*epsilon*lambda**2/2 - sqrt(2)*I*W_+*epsilon*lambda*sqrt(1 - lambda**2)/2 - sqrt(2)*W_+*epsilon/4 + sqrt(2)*W_-*epsilon*q**2/4 - I*lambda**2*q - lambda*q*sqrt(1 - lambda**2))/(q*(2*lambda**3 - 2*I*lambda**2*sqrt(1 - lambda**2) - 2*lambda + I*sqrt(1 - lambda**2))),                                                                                                                                          (sqrt(2)*W_+*epsilon*lambda - sqrt(2)*I*W_+*epsilon*sqrt(1 - lambda**2) + sqrt(2)*W_-*epsilon*lambda*q**2 - sqrt(2)*I*W_-*epsilon*q**2*sqrt(1 - lambda**2) - 4*I*lambda**3*q - 4*lambda**2*q*sqrt(1 - lambda**2))/(4*q*(lambda**2 - I*lambda*sqrt(1 - lambda**2) - 1))]])"
      ]
     },
     "metadata": {},
     "output_type": "display_data"
    }
   ],
   "source": [
    "a, b, q, p, x = symbols('a b q p x')\n",
    "Wm = Symbol('W_-')\n",
    "Wp = Symbol('W_+')\n",
    "\n",
    "k = Symbol('k')\n",
    "epsilon = Symbol('epsilon')\n",
    "lam = Symbol('lambda')\n",
    "\n",
    "z = I * sqrt(1 - lam**2)\n",
    "\n",
    "U = Matrix([[0, q], [1 / q, 0]])\n",
    "Ut = Matrix([[0, q], [conjugate(q), 0]])\n",
    "\n",
    "A = Matrix([[- I * lam, 0], [0, I * lam]])\n",
    "E = Matrix([[1, 1], [lam - z, lam + z]])\n",
    "V = Matrix([[I/(q*2*z), -(z-lam)**2/(1-(z-lam)**2)], [-I/(q*2*z), 1/(1-(z-lam)**2)]])\n",
    "Vinv = Matrix([[I*q/(z-lam), I*q*(z-lam)], [1, 1]])\n",
    "D = Matrix([[- I * z, 0], [0, I * z]])\n",
    "\n",
    "\n",
    "display(simplify(Vinv * D * V))\n",
    "display(simplify(A))\n",
    "display(simplify(A + U))\n",
    "\n",
    "display(simplify(V * (A + U_t) * Vinv))\n",
    "\n"
   ]
  },
  {
   "cell_type": "code",
   "execution_count": null,
   "id": "5dd22871",
   "metadata": {},
   "outputs": [],
   "source": [
    "y = Symbol('y')\n",
    "lam = Symbol('lambda')\n",
    "x = Symbol('x')\n",
    "N = 8\n",
    "A = [0 for n in range(N+1)]\n",
    "A[0] = 1\n",
    "\n",
    "for n in range(N):\n",
    "    if n == 0:\n",
    "        A[1] = (1 - exp(- y * lam)) / y\n",
    "    if n >= 1:\n",
    "        A[n+1] = simplify((A[n] - exp(- y * lam) * A[n].subs(y, 2 * y)) / y)\n",
    "        "
   ]
  },
  {
   "cell_type": "code",
   "execution_count": 73,
   "id": "c377873e",
   "metadata": {},
   "outputs": [
    {
     "data": {
      "text/plain": [
       "1"
      ]
     },
     "metadata": {},
     "output_type": "display_data"
    },
    {
     "data": {
      "text/latex": [
       "$\\displaystyle \\frac{1 - e^{- \\lambda y}}{y}$"
      ],
      "text/plain": [
       "(1 - exp(-lambda*y))/y"
      ]
     },
     "metadata": {},
     "output_type": "display_data"
    },
    {
     "data": {
      "text/latex": [
       "$\\displaystyle \\frac{\\left(2 e^{3 \\lambda y} - 3 e^{2 \\lambda y} + 1\\right) e^{- 3 \\lambda y}}{2 y^{2}}$"
      ],
      "text/plain": [
       "(2*exp(3*lambda*y) - 3*exp(2*lambda*y) + 1)*exp(-3*lambda*y)/(2*y**2)"
      ]
     },
     "metadata": {},
     "output_type": "display_data"
    },
    {
     "data": {
      "text/latex": [
       "$\\displaystyle \\frac{\\left(8 e^{7 \\lambda y} - 14 e^{6 \\lambda y} + 7 e^{4 \\lambda y} - 1\\right) e^{- 7 \\lambda y}}{8 y^{3}}$"
      ],
      "text/plain": [
       "(8*exp(7*lambda*y) - 14*exp(6*lambda*y) + 7*exp(4*lambda*y) - 1)*exp(-7*lambda*y)/(8*y**3)"
      ]
     },
     "metadata": {},
     "output_type": "display_data"
    },
    {
     "data": {
      "text/latex": [
       "$\\displaystyle \\frac{\\left(64 e^{15 \\lambda y} - 120 e^{14 \\lambda y} + 70 e^{12 \\lambda y} - 15 e^{8 \\lambda y} + 1\\right) e^{- 15 \\lambda y}}{64 y^{4}}$"
      ],
      "text/plain": [
       "(64*exp(15*lambda*y) - 120*exp(14*lambda*y) + 70*exp(12*lambda*y) - 15*exp(8*lambda*y) + 1)*exp(-15*lambda*y)/(64*y**4)"
      ]
     },
     "metadata": {},
     "output_type": "display_data"
    },
    {
     "data": {
      "text/latex": [
       "$\\displaystyle \\frac{\\left(1024 e^{31 \\lambda y} - 1984 e^{30 \\lambda y} + 1240 e^{28 \\lambda y} - 310 e^{24 \\lambda y} + 31 e^{16 \\lambda y} - 1\\right) e^{- 31 \\lambda y}}{1024 y^{5}}$"
      ],
      "text/plain": [
       "(1024*exp(31*lambda*y) - 1984*exp(30*lambda*y) + 1240*exp(28*lambda*y) - 310*exp(24*lambda*y) + 31*exp(16*lambda*y) - 1)*exp(-31*lambda*y)/(1024*y**5)"
      ]
     },
     "metadata": {},
     "output_type": "display_data"
    },
    {
     "data": {
      "text/latex": [
       "$\\displaystyle \\frac{\\left(32768 e^{63 \\lambda y} - 64512 e^{62 \\lambda y} + 41664 e^{60 \\lambda y} - 11160 e^{56 \\lambda y} + 1302 e^{48 \\lambda y} - 63 e^{32 \\lambda y} + 1\\right) e^{- 63 \\lambda y}}{32768 y^{6}}$"
      ],
      "text/plain": [
       "(32768*exp(63*lambda*y) - 64512*exp(62*lambda*y) + 41664*exp(60*lambda*y) - 11160*exp(56*lambda*y) + 1302*exp(48*lambda*y) - 63*exp(32*lambda*y) + 1)*exp(-63*lambda*y)/(32768*y**6)"
      ]
     },
     "metadata": {},
     "output_type": "display_data"
    },
    {
     "data": {
      "text/latex": [
       "$\\displaystyle \\frac{\\left(2097152 e^{127 \\lambda y} - 4161536 e^{126 \\lambda y} + 2731008 e^{124 \\lambda y} - 755904 e^{120 \\lambda y} + 94488 e^{112 \\lambda y} - 5334 e^{96 \\lambda y} + 127 e^{64 \\lambda y} - 1\\right) e^{- 127 \\lambda y}}{2097152 y^{7}}$"
      ],
      "text/plain": [
       "(2097152*exp(127*lambda*y) - 4161536*exp(126*lambda*y) + 2731008*exp(124*lambda*y) - 755904*exp(120*lambda*y) + 94488*exp(112*lambda*y) - 5334*exp(96*lambda*y) + 127*exp(64*lambda*y) - 1)*exp(-127*lambda*y)/(2097152*y**7)"
      ]
     },
     "metadata": {},
     "output_type": "display_data"
    },
    {
     "data": {
      "text/latex": [
       "$\\displaystyle \\frac{\\left(268435456 e^{255 \\lambda y} - 534773760 e^{254 \\lambda y} + 353730560 e^{252 \\lambda y} - 99486720 e^{248 \\lambda y} + 12850368 e^{240 \\lambda y} - 777240 e^{224 \\lambda y} + 21590 e^{192 \\lambda y} - 255 e^{128 \\lambda y} + 1\\right) e^{- 255 \\lambda y}}{268435456 y^{8}}$"
      ],
      "text/plain": [
       "(268435456*exp(255*lambda*y) - 534773760*exp(254*lambda*y) + 353730560*exp(252*lambda*y) - 99486720*exp(248*lambda*y) + 12850368*exp(240*lambda*y) - 777240*exp(224*lambda*y) + 21590*exp(192*lambda*y) - 255*exp(128*lambda*y) + 1)*exp(-255*lambda*y)/(268435456*y**8)"
      ]
     },
     "metadata": {},
     "output_type": "display_data"
    }
   ],
   "source": [
    "for n in range(N+1):\n",
    "    display(A[n])"
   ]
  },
  {
   "cell_type": "code",
   "execution_count": 93,
   "id": "02c4dbc0",
   "metadata": {},
   "outputs": [
    {
     "data": {
      "text/latex": [
       "$\\displaystyle - \\frac{x^{2}}{2} + \\frac{x}{2}$"
      ],
      "text/plain": [
       "-x**2/2 + x/2"
      ]
     },
     "metadata": {},
     "output_type": "display_data"
    },
    {
     "data": {
      "text/latex": [
       "$\\displaystyle \\frac{x^{4}}{4} - \\frac{3 x^{2}}{4} + \\frac{x}{2}$"
      ],
      "text/plain": [
       "x**4/4 - 3*x**2/4 + x/2"
      ]
     },
     "metadata": {},
     "output_type": "display_data"
    },
    {
     "data": {
      "text/latex": [
       "$\\displaystyle - \\frac{x^{8}}{8} + \\frac{7 x^{4}}{8} - \\frac{7 x^{2}}{4} + x$"
      ],
      "text/plain": [
       "-x**8/8 + 7*x**4/8 - 7*x**2/4 + x"
      ]
     },
     "metadata": {},
     "output_type": "display_data"
    },
    {
     "data": {
      "text/latex": [
       "$\\displaystyle \\frac{x^{16}}{16} - \\frac{15 x^{8}}{16} + \\frac{35 x^{4}}{8} - \\frac{15 x^{2}}{2} + 4 x$"
      ],
      "text/plain": [
       "x**16/16 - 15*x**8/16 + 35*x**4/8 - 15*x**2/2 + 4*x"
      ]
     },
     "metadata": {},
     "output_type": "display_data"
    },
    {
     "data": {
      "text/latex": [
       "$\\displaystyle - \\frac{x^{32}}{32} + \\frac{31 x^{16}}{32} - \\frac{155 x^{8}}{16} + \\frac{155 x^{4}}{4} - 62 x^{2} + 32 x$"
      ],
      "text/plain": [
       "-x**32/32 + 31*x**16/32 - 155*x**8/16 + 155*x**4/4 - 62*x**2 + 32*x"
      ]
     },
     "metadata": {},
     "output_type": "display_data"
    },
    {
     "data": {
      "text/latex": [
       "$\\displaystyle \\frac{x^{64}}{64} - \\frac{63 x^{32}}{64} + \\frac{651 x^{16}}{32} - \\frac{1395 x^{8}}{8} + 651 x^{4} - 1008 x^{2} + 512 x$"
      ],
      "text/plain": [
       "x**64/64 - 63*x**32/64 + 651*x**16/32 - 1395*x**8/8 + 651*x**4 - 1008*x**2 + 512*x"
      ]
     },
     "metadata": {},
     "output_type": "display_data"
    },
    {
     "data": {
      "text/latex": [
       "$\\displaystyle - \\frac{x^{128}}{128} + \\frac{127 x^{64}}{128} - \\frac{2667 x^{32}}{64} + \\frac{11811 x^{16}}{16} - \\frac{11811 x^{8}}{2} + 21336 x^{4} - 32512 x^{2} + 16384 x$"
      ],
      "text/plain": [
       "-x**128/128 + 127*x**64/128 - 2667*x**32/64 + 11811*x**16/16 - 11811*x**8/2 + 21336*x**4 - 32512*x**2 + 16384*x"
      ]
     },
     "metadata": {},
     "output_type": "display_data"
    },
    {
     "data": {
      "text/latex": [
       "$\\displaystyle \\frac{x^{256}}{256} - \\frac{255 x^{128}}{256} + \\frac{10795 x^{64}}{128} - \\frac{97155 x^{32}}{32} + \\frac{200787 x^{16}}{4} - 388620 x^{8} + 1381760 x^{4} - 2088960 x^{2} + 1048576 x$"
      ],
      "text/plain": [
       "x**256/256 - 255*x**128/256 + 10795*x**64/128 - 97155*x**32/32 + 200787*x**16/4 - 388620*x**8 + 1381760*x**4 - 2088960*x**2 + 1048576*x"
      ]
     },
     "metadata": {},
     "output_type": "display_data"
    }
   ],
   "source": [
    "\n",
    "for n in range(1,N+1):\n",
    "    display((simplify(exp(- y * lam) * 2**(n*Rational(n-1,2)) * y**n * A[n]).subs(lam, - log(x) / y) / 2**n).expand())\n",
    "\n",
    "    prod = 1\n",
    "    for k in range(n):\n",
    "        prod *= (x - 2**k) \n",
    "    #display(prod.expand().factor())"
   ]
  }
 ],
 "metadata": {
  "kernelspec": {
   "display_name": "Python 3 (ipykernel)",
   "language": "python",
   "name": "python3"
  },
  "language_info": {
   "codemirror_mode": {
    "name": "ipython",
    "version": 3
   },
   "file_extension": ".py",
   "mimetype": "text/x-python",
   "name": "python",
   "nbconvert_exporter": "python",
   "pygments_lexer": "ipython3",
   "version": "3.10.9"
  }
 },
 "nbformat": 4,
 "nbformat_minor": 5
}
