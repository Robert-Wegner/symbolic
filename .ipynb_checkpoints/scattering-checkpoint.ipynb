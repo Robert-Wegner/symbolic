{
 "cells": [
  {
   "cell_type": "code",
   "execution_count": 1,
   "id": "1709a779",
   "metadata": {},
   "outputs": [
    {
     "data": {
      "application/javascript": [
       "IPython.OutputArea.auto_scroll_threshold = 9999;\n"
      ],
      "text/plain": [
       "<IPython.core.display.Javascript object>"
      ]
     },
     "metadata": {},
     "output_type": "display_data"
    }
   ],
   "source": [
    "%%javascript\n",
    "IPython.OutputArea.auto_scroll_threshold = 9999;"
   ]
  },
  {
   "cell_type": "code",
   "execution_count": 36,
   "id": "252f6111",
   "metadata": {},
   "outputs": [
    {
     "name": "stdout",
     "output_type": "stream",
     "text": [
      "env: USE_SYMENGINE=1\n"
     ]
    }
   ],
   "source": [
    "from sympy import *\n",
    "from IPython.display import display\n",
    "import time\n",
    "import pickle\n",
    "import datetime\n",
    "%env USE_SYMENGINE 1\n",
    "\n",
    "u, v, a, theta, lam, z = symbols('u, v, a, \\\\theta \\\\lambda z', real=True)\n",
    "epsilon, epsiloninv = symbols('\\\\epsilon \\\\eta', positive=True)\n",
    "\n",
    "q = symbols('q', real=False)\n",
    "q_conj = symbols('\\\\tilde{q}', real=False)\n",
    "\n",
    "\n",
    "W_plus = Symbol('W_+', real=True)\n",
    "W_minus = Symbol('W_-', real=True)\n",
    "w_plus = Symbol('w_+', real=True)\n",
    "w_minus = Symbol('w_-', real=True)\n",
    "V_sym = Symbol('V')\n",
    "N_sym = Symbol('N')\n",
    "A_sym = Symbol('A')\n",
    "phi_sym = Symbol('\\\\phi')\n",
    "n_sym = Symbol('n')\n",
    "a_sym = Symbol('a')\n",
    "\n",
    "differentiable_symbols = [u, v, a, theta, q, q_conj, w_plus, w_minus, W_plus, W_minus, V_sym, N_sym, A_sym, phi_sym, n_sym, a_sym]\n"
   ]
  },
  {
   "cell_type": "code",
   "execution_count": 42,
   "id": "0769a880",
   "metadata": {},
   "outputs": [],
   "source": [
    "\n",
    "def var_deriv_name(var):\n",
    "    if \"_{x\" in var.name:\n",
    "        return var.name[:-1] + 'x}'\n",
    "    else:\n",
    "        return '(' + var.name + ')_{x}'\n",
    "        #return var.name + '_x'\n",
    "        \n",
    "def get_var_name_from_deriv(sym):\n",
    "    start = sym.name.find('(')\n",
    "    end = sym.name.find(')')\n",
    "    if start != -1 and end != -1:\n",
    "        sym_name = sym.name[start+1:end]\n",
    "        return sym_name\n",
    "        #orders.append(len(sym.name) - 4 - sym.name.find(')_{'))\n",
    "    else:\n",
    "        sym_name = sym.name\n",
    "        return sym_name\n",
    "        #orders.append(0)\n",
    "\n",
    "def get_order_from_deriv(sym):\n",
    "    start = sym.name.find('(')\n",
    "    end = sym.name.find(')')\n",
    "    if start != -1 and end != -1:\n",
    "        sym_name = sym.name[start+1:end]\n",
    "        return len(sym.name) - 4 - sym.name.find(')_{')\n",
    "    else:\n",
    "        return 0\n",
    "        \n",
    "def deriv(poly, append_to_list=True):\n",
    "    res = 0\n",
    "    original = differentiable_symbols.copy()\n",
    "    for sym in original:\n",
    "        deriv_term = Derivative(poly, sym).doit()\n",
    "        if deriv_term != 0:\n",
    "            #print(\"looking at: \", sym)\n",
    "            newName = var_deriv_name(sym)\n",
    "\n",
    "            if newName in [s.name for s in differentiable_symbols]:\n",
    "                dsym = differentiable_symbols[[s.name for s in differentiable_symbols].index(newName)]\n",
    "                #print(\"newName found: \", dsym)\n",
    "            else:\n",
    "                dsym = Symbol(newName, real=True)\n",
    "                if append_to_list:\n",
    "                    print(\"new differentiable symbol: \", dsym)\n",
    "                    differentiable_symbols.append(dsym)\n",
    "                #print(\"newName not found: \", dsym)\n",
    "            #print(\"syms: \", syms)\n",
    "            res += deriv_term * dsym\n",
    "            #print(\"res: \", res)\n",
    "    \n",
    "    return res\n",
    "    \n",
    "\n",
    "def higher_deriv(var, n):\n",
    "    if n > 0:\n",
    "        return deriv(higher_deriv(var, n-1))\n",
    "    else:\n",
    "        return var\n",
    "    \n",
    "def variation(expr, sym):\n",
    "    if not hasattr(expr, 'free_symbols'):\n",
    "        return 0\n",
    "    \n",
    "    res = 0\n",
    "    order = 0\n",
    "\n",
    "    syms = []\n",
    "    orders = []\n",
    "\n",
    "    start = sym.name.find('(')\n",
    "    end = sym.name.find(')')\n",
    "    if start != -1 and end != -1:\n",
    "        sym_name = sym.name[start+1:end]\n",
    "        syms.append(sym)\n",
    "        orders.append(len(sym.name) - 4 - sym.name.find(')_{'))\n",
    "    else:\n",
    "        sym_name = sym.name\n",
    "        syms.append(sym)\n",
    "        orders.append(0)\n",
    "\n",
    "    for s in expr.free_symbols:\n",
    "        start = s.name.find('(')\n",
    "        end = s.name.find(')')\n",
    "        if start != -1 and end != -1 and sym_name == s.name[start+1:end]:\n",
    "            if s.name not in [sym.name for sym in syms]:\n",
    "                syms.append(s)\n",
    "                orders.append(len(s.name) - 4 - s.name.find(')_{'))    \n",
    "    \n",
    "    for (sym, order) in zip(syms, orders):\n",
    "        res += (-1)**order * higher_deriv(Derivative(expr, sym).doit(), order)\n",
    "\n",
    "    return simplify(res)\n",
    "\n",
    "def polynomize(expr):\n",
    "    return simplify(Poly(expr, epsilon, epsiloninv).subs(epsiloninv, 1/epsilon))\n",
    "\n",
    "def depolynomize(poly):\n",
    "    monoms = poly.monoms()\n",
    "    coeffs = poly.coeffs()\n",
    "    \n",
    "    X = 0\n",
    "    for (k, m) in enumerate(monoms):\n",
    "        X += epsilon**m[0] * epsiloninv**m[1] * coeffs[k]\n",
    "            \n",
    "    return X\n",
    "\n",
    "def poly_simplify(expr):\n",
    "    return depolynomize(polynomize(expr))\n",
    "\n",
    "def substituter(expr, var, sub, magnitude=1, scale=1):\n",
    "    if not hasattr(expr, 'subs'):\n",
    "        return expr\n",
    "    for subvar in sub.free_symbols:\n",
    "        if var in differentiable_symbols and subvar not in differentiable_symbols:\n",
    "            print(\"Warning: Substituting differentiable by non-differentiable symbol.\")\n",
    "            #differentiable_symbols.append(subvar)\n",
    "            pass\n",
    "        \n",
    "    original = differentiable_symbols.copy()\n",
    "    expr = expr.subs(var, magnitude * sub)\n",
    "    \n",
    "    cont = True\n",
    "    m = 0\n",
    "    while cont:\n",
    "        #print(\"var\", var, \"sub\", sub)\n",
    "        dvar = deriv(var, append_to_list=False)\n",
    "        m += 1\n",
    "        \n",
    "        if dvar in differentiable_symbols:\n",
    "            dsub = simplify(deriv(sub))\n",
    "            #print(\"new sub variable from\", sub, \"to\", dsub)\n",
    "            expr = simplify(expr.subs(dvar, magnitude * scale**m * dsub))\n",
    "                    \n",
    "            var = dvar\n",
    "            sub = dsub\n",
    "                    \n",
    "            #print(\"substited\", var, \"by\", sub)\n",
    "        else: \n",
    "            cont = False\n",
    "            \n",
    "    if hasattr(expr, 'applyfunc'):\n",
    "        return expr.applyfunc(poly_simplify)\n",
    "    else:\n",
    "        return poly_simplify(expr)\n",
    "    \n",
    "def multi_substituter(expr, data, magnitude=1, scale=1):\n",
    "    for (var, sub) in data:\n",
    "        expr = substituter(expr, var, sub, magnitude=magnitude, scale=scale)\n",
    "    return expr\n",
    "\n",
    "def extract_deriv(expr, k): \n",
    "    expr = simplify(expr).expand()\n",
    "    #print(\"expr =\", expr) \n",
    "    res = 0\n",
    "    if isinstance(expr, Add):\n",
    "        for mon in expr.args:\n",
    "            #print(\"mon =\", mon)\n",
    "            count = 0\n",
    "            if hasattr(mon, \"name\"):\n",
    "                #print(mon.name)\n",
    "                if \"_{x\" in mon.name:\n",
    "                    count += 1\n",
    "                    #print(\"count =\", count)\n",
    "            else:\n",
    "                for fac in mon.args:\n",
    "                    #print(\"fac =\", fac)\n",
    "                    if hasattr(fac, \"name\"):\n",
    "                        #print(fac.name)\n",
    "                        if \"_{x\" in fac.name:\n",
    "                            count += 1\n",
    "                            #print(\"count =\", count)\n",
    "                    elif isinstance(fac, Pow):\n",
    "                        #print(fac.base.name, fac.exp)\n",
    "                        if \"_{x\" in fac.base.name and fac.exp > 0:\n",
    "                            count += fac.exp     \n",
    "                            #print(\"count =\", count)\n",
    "            #print(\"final count =\", count)\n",
    "            if count == k:\n",
    "                res += mon\n",
    "\n",
    "    else:\n",
    "        mon = expr\n",
    "        #print(\"mon =\", mon)\n",
    "        count = 0\n",
    "        if hasattr(mon, \"name\"):\n",
    "            #print(mon.name)\n",
    "            if \"_{x\" in mon.name:\n",
    "                count += 1\n",
    "                #print(\"count =\", count)\n",
    "        elif hasattr(mon, \"args\"):\n",
    "            for fac in mon.args:\n",
    "                #print(\"fac =\", fac)\n",
    "                if hasattr(fac, \"name\"):\n",
    "                    #print(fac.name)\n",
    "                    if \"_{x\" in fac.name:\n",
    "                        count += 1\n",
    "                        #print(\"count =\", count)\n",
    "                elif isinstance(fac, Pow):\n",
    "                    #print(fac.base.name, fac.exp)\n",
    "                    if \"_{x\" in fac.base.name and fac.exp > 0:\n",
    "                        count += fac.exp     \n",
    "                        #print(\"count =\", count)\n",
    "        #print(\"final count =\", count)\n",
    "        if count == k:\n",
    "            res += mon\n",
    "\n",
    "    #print(\"res =\", res)\n",
    "    return res\n",
    "        \n",
    "def extract_deriv_alt(expr, k):\n",
    "    expr = simplify(expr).expand()\n",
    "    #print(\"expr =\", expr) \n",
    "    res = 0\n",
    "    if isinstance(expr, Add):\n",
    "        for mon in expr.args:\n",
    "            presence_deriv_q_conj = False\n",
    "            #print(\"mon =\", mon)\n",
    "            count = 0\n",
    "            if hasattr(mon, \"name\"):\n",
    "                #print(mon.name)\n",
    "                if \"_{x\" in mon.name:\n",
    "                    count += 1\n",
    "                    if get_var_name_from_deriv(mon) == q_conj.name:\n",
    "                        presence_deriv_q_conj = True\n",
    "            else:\n",
    "                for fac in mon.args:\n",
    "                    #print(\"fac =\", fac)\n",
    "                    if hasattr(fac, \"name\"):\n",
    "                        #print(fac.name)\n",
    "                        if \"_{x\" in fac.name:\n",
    "                            count += 1\n",
    "                            if get_var_name_from_deriv(fac) == q_conj.name:\n",
    "                                presence_deriv_q_conj = True\n",
    "                            #print(\"count =\", count)\n",
    "                    elif isinstance(fac, Pow):\n",
    "                        #print(fac.base.name, fac.exp)\n",
    "                        if \"_{x\" in fac.base.name and fac.exp > 0:\n",
    "                            count += fac.exp     \n",
    "                            if get_var_name_from_deriv(fac.base) == q_conj.name:\n",
    "                                presence_deriv_q_conj = True\n",
    "                            #print(\"count =\", count)\n",
    "            #print(\"final count =\", count)\n",
    "            if count == k and presence_deriv_q_conj:\n",
    "                res += mon\n",
    "\n",
    "    else:\n",
    "        presence_deriv_q_conj = False\n",
    "        mon = expr\n",
    "        #print(\"mon =\", mon)\n",
    "        count = 0\n",
    "        if hasattr(mon, \"name\"):\n",
    "            #print(mon.name)\n",
    "            if \"_{x\" in mon.name:\n",
    "                count += 1\n",
    "                if get_var_name_from_deriv(mon) == q_conj.name:\n",
    "                    presence_deriv_q_conj = True\n",
    "                #print(\"count =\", count)\n",
    "        elif hasattr(mon, \"args\"):\n",
    "            for fac in mon.args:\n",
    "                #print(\"fac =\", fac)\n",
    "                if hasattr(fac, \"name\"):\n",
    "                    #print(fac.name)\n",
    "                    if \"_{x\" in fac.name:\n",
    "                        count += 1\n",
    "                        if get_var_name_from_deriv(fac) == q_conj.name:\n",
    "                            presence_deriv_q_conj = True\n",
    "                        #print(\"count =\", count)\n",
    "                elif isinstance(fac, Pow):\n",
    "                    #print(fac.base.name, fac.exp)\n",
    "                    if \"_{x\" in fac.base.name and fac.exp > 0:\n",
    "                        count += fac.exp   \n",
    "                        if get_var_name_from_deriv(fac.base) == q_conj.name:\n",
    "                            presence_deriv_q_conj = True\n",
    "                        #print(\"count =\", count)\n",
    "        #print(\"final count =\", count)\n",
    "        if count == k and presence_deriv_q_conj:\n",
    "            res += mon\n",
    "\n",
    "    #print(\"res =\", res)\n",
    "    return res\n",
    "\n",
    "def codict(expr, x):\n",
    "    if hasattr(expr, 'expand'):\n",
    "        expr = expr.expand()\n",
    "    terms = [arg.as_independent(x)[::-1] for arg in Add.make_args(expr)]\n",
    "    dictionary = {n: sum([c for m, c in terms if m == n]) for n, r in terms}\n",
    "    int_keyed_dictionary = {mon.as_base_exp()[1] if x in mon.free_symbols else 0 : dictionary[mon] for mon in dictionary}\n",
    "    return(dict(sorted(int_keyed_dictionary.items())))\n",
    "\n",
    "def power_series_expand_recursor(D, X, N):\n",
    "    if len(X) > 0: \n",
    "        for order in D:\n",
    "            D[order] = codict(simplify(series(D[order], x0=0, x=X[0], n=N[0]).removeO()).expand(), X[0])\n",
    "            for key in range(N[0]):\n",
    "                if key not in D[order].keys():\n",
    "                    D[order][key] = 0\n",
    "            D[order] = dict(sorted(D[order].items()))\n",
    "            D[order] = {k: simplify(v) for k, v in D[order].items()}\n",
    "            D[order] = power_series_expand_recursor(D[order], X[1:], N[1:])\n",
    "    return D\n",
    "\n",
    "def power_series_expand(expr, X, N):\n",
    "    return power_series_expand_recursor({\"start\": expr}, X, N)[\"start\"]\n",
    "\n",
    "N = 7"
   ]
  },
  {
   "cell_type": "code",
   "execution_count": 5,
   "id": "4d39a7c6",
   "metadata": {},
   "outputs": [],
   "source": [
    "def mderiv(M):\n",
    "    return Matrix(2, 2, [deriv(x) for x in M])"
   ]
  },
  {
   "cell_type": "code",
   "execution_count": 51,
   "id": "95f83bec",
   "metadata": {},
   "outputs": [],
   "source": [
    "def direct_scattering(lam, z, U, U_p, U_m, D, V_p, V_m, Vinv_p, Vinv_m, N):\n",
    "    A_p = Vinv_p * D * V_p\n",
    "    A_m = Vinv_m * D * V_m\n",
    "    A = A_p - U_p\n",
    "\n",
    "    p1 = simplify(z**2 + ((mderiv(U) + (A + U)**2))[0,0])\n",
    "    p2 = simplify(((mderiv(U) + (A + U)**2))[0,1])\n",
    "    p3 = simplify(- (A + U)[0,1])\n",
    "    p4 = simplify((A + U)[1,1] - (A + U)[0,0])\n",
    "    p5 = simplify((A + U)[1,0])\n",
    "\n",
    "    display(p1)\n",
    "    display(p2)\n",
    "    display(p3)\n",
    "    display(p4)\n",
    "    display(p5)\n",
    "\n",
    "    p1 = codict(series(p1, x0=oo, x=z, n=N).removeO(), z)\n",
    "    p2 = codict(series(p2, x0=oo, x=z, n=N).removeO(), z)\n",
    "    p3 = codict(series(p3, x0=oo, x=z, n=N).removeO(), z)\n",
    "    p4 = codict(series(p4, x0=oo, x=z, n=N).removeO(), z)\n",
    "    p5 = codict(series(p5, x0=oo, x=z, n=N).removeO(), z)\n",
    "\n",
    "    p1 = {- n: (2 * I)**n * p1[n] if n in p1 else 0 for n in range(-N, 2)}\n",
    "    p2 = {- n: (2 * I)**n * p2[n] if n in p2 else 0 for n in range(-N, 2)}\n",
    "    p3 = {- n: (2 * I)**n * p3[n] if n in p3 else 0 for n in range(-N, 2)}\n",
    "    p4 = {- n: (2 * I)**n * p4[n] if n in p4 else 0 for n in range(-N, 2)}\n",
    "    p5 = {- n: (2 * I)**n * p5[n] if n in p5 else 0 for n in range(-N, 2)}\n",
    "\n",
    "    display(Eq(Symbol(\"p^1\"), p1, evaluate=False))\n",
    "    display(Eq(Symbol(\"p^2\"), p2, evaluate=False))\n",
    "    display(Eq(Symbol(\"p^3\"), p3, evaluate=False))\n",
    "    display(Eq(Symbol(\"p^4\"), p4, evaluate=False))\n",
    "    display(Eq(Symbol(\"p^5\"), p5, evaluate=False))\n",
    "\n",
    "    r_eq = [0 for n in range(N+1)]\n",
    "    r_eq[0] = simplify((- p4[-1] + sqrt(p4[-1]**2 - 4 * p3[-1] * p5[-1])) / (2 * p3[-1]))\n",
    "    \n",
    "    sig_eq = [0 for n in range(N+1)]\n",
    "    sig_eq[0] = - p1[-1] - p2[-1] * r_eq[0]\n",
    "\n",
    "    for n in range(N):\n",
    "\n",
    "        X = deriv(sig_eq[n])\n",
    "\n",
    "        for k in range(n+1):\n",
    "            X += sig_eq[k] * sig_eq[n-k]\n",
    "\n",
    "        if n in p1:\n",
    "            X += - p1[n]\n",
    "        for k in p2:\n",
    "            X += - p2[k] * r_eq[n-k]\n",
    "\n",
    "        sig_eq[n+1] = simplify(X)\n",
    "\n",
    "        X = deriv(r_eq[n])\n",
    "\n",
    "        for k in range(n+1):\n",
    "            for m in range(n-k+1):\n",
    "                X += - p3[k] * r_eq[k] * r_eq[n-k]\n",
    "\n",
    "        for m in range(1, n+1):\n",
    "            X += - p3[-1] * r_eq[m] * r_eq[n+1-m]\n",
    "\n",
    "        for k in range(n+1):\n",
    "            X += p4[k] * r_eq[n-k]\n",
    "\n",
    "        X += - p5[n]\n",
    "\n",
    "        r_eq[n+1] = 0\n",
    "        #r_eq[n+1] = simplify(X / (2 * p3[-1] * r_eq[0] + p4[-1]))\n",
    "\n",
    "    return sig_eq, r_eq"
   ]
  },
  {
   "cell_type": "code",
   "execution_count": null,
   "id": "cb750b5a",
   "metadata": {},
   "outputs": [
    {
     "data": {
      "text/latex": [
       "$\\displaystyle - \\frac{W_{+} W_{-} \\epsilon^{2}}{2} - \\frac{W_{+} \\sqrt{2 \\epsilon^{2} z^{2} + 1}}{2} + \\frac{W_{+}}{2} - \\frac{W_{-} \\sqrt{2 \\epsilon^{2} z^{2} + 1}}{2} - \\frac{W_{-}}{2}$"
      ],
      "text/plain": [
       "-W_+*W_-*\\epsilon**2/2 - W_+*sqrt(2*\\epsilon**2*z**2 + 1)/2 + W_+/2 - W_-*sqrt(2*\\epsilon**2*z**2 + 1)/2 - W_-/2"
      ]
     },
     "metadata": {},
     "output_type": "display_data"
    },
    {
     "data": {
      "text/latex": [
       "$\\displaystyle - \\frac{\\sqrt{2} i (W_+)_{x} \\epsilon}{2}$"
      ],
      "text/plain": [
       "-sqrt(2)*I*(W_+)_{x}*\\epsilon/2"
      ]
     },
     "metadata": {},
     "output_type": "display_data"
    },
    {
     "data": {
      "text/latex": [
       "$\\displaystyle \\frac{\\sqrt{2} i \\epsilon \\left(W_{+} \\left(\\sqrt{2 \\epsilon^{2} z^{2} + 1} - 1\\right) + 2 z^{2}\\right)}{2 \\left(\\sqrt{2 \\epsilon^{2} z^{2} + 1} - 1\\right)}$"
      ],
      "text/plain": [
       "sqrt(2)*I*\\epsilon*(W_+*(sqrt(2*\\epsilon**2*z**2 + 1) - 1) + 2*z**2)/(2*(sqrt(2*\\epsilon**2*z**2 + 1) - 1))"
      ]
     },
     "metadata": {},
     "output_type": "display_data"
    },
    {
     "data": {
      "text/latex": [
       "$\\displaystyle 0$"
      ],
      "text/plain": [
       "0"
      ]
     },
     "metadata": {},
     "output_type": "display_data"
    },
    {
     "data": {
      "text/latex": [
       "$\\displaystyle \\frac{\\sqrt{2} i \\epsilon \\left(- W_{-} \\left(\\sqrt{2 \\epsilon^{2} z^{2} + 1} + 1\\right) - 2 z^{2}\\right)}{2 \\left(\\sqrt{2 \\epsilon^{2} z^{2} + 1} + 1\\right)}$"
      ],
      "text/plain": [
       "sqrt(2)*I*\\epsilon*(-W_-*(sqrt(2*\\epsilon**2*z**2 + 1) + 1) - 2*z**2)/(2*(sqrt(2*\\epsilon**2*z**2 + 1) + 1))"
      ]
     },
     "metadata": {},
     "output_type": "display_data"
    },
    {
     "data": {
      "text/latex": [
       "$\\displaystyle p^{1} = \\left\\{ -1 : 2 i \\left(- \\frac{\\sqrt{2} W_{+} \\epsilon}{2} - \\frac{\\sqrt{2} W_{-} \\epsilon}{2}\\right), \\  0 : - \\frac{W_{+} W_{-} \\epsilon^{2}}{2} + \\frac{W_{+}}{2} - \\frac{W_{-}}{2}, \\  1 : - \\frac{i \\left(- \\frac{\\sqrt{2} W_{+}}{8 \\epsilon} - \\frac{\\sqrt{2} W_{-}}{8 \\epsilon}\\right)}{2}, \\  2 : 0, \\  3 : \\frac{i \\left(\\frac{\\sqrt{2} W_{+}}{64 \\epsilon^{3}} + \\frac{\\sqrt{2} W_{-}}{64 \\epsilon^{3}}\\right)}{8}, \\  4 : 0, \\  5 : - \\frac{i \\left(- \\frac{\\sqrt{2} W_{+}}{256 \\epsilon^{5}} - \\frac{\\sqrt{2} W_{-}}{256 \\epsilon^{5}}\\right)}{32}, \\  6 : 0\\right\\}$"
      ],
      "text/plain": [
       "Eq(p^1, {-1: 2*I*(-sqrt(2)*W_+*\\epsilon/2 - sqrt(2)*W_-*\\epsilon/2), 0: -W_+*W_-*\\epsilon**2/2 + W_+/2 - W_-/2, 1: -I*(-sqrt(2)*W_+/(8*\\epsilon) - sqrt(2)*W_-/(8*\\epsilon))/2, 2: 0, 3: I*(sqrt(2)*W_+/(64*\\epsilon**3) + sqrt(2)*W_-/(64*\\epsilon**3))/8, 4: 0, 5: -I*(-sqrt(2)*W_+/(256*\\epsilon**5) - sqrt(2)*W_-/(256*\\epsilon**5))/32, 6: 0})"
      ]
     },
     "metadata": {},
     "output_type": "display_data"
    },
    {
     "data": {
      "text/latex": [
       "$\\displaystyle p^{2} = \\left\\{ -1 : 0, \\  0 : - \\frac{\\sqrt{2} i (W_+)_{x} \\epsilon}{2}, \\  1 : 0, \\  2 : 0, \\  3 : 0, \\  4 : 0, \\  5 : 0, \\  6 : 0\\right\\}$"
      ],
      "text/plain": [
       "Eq(p^2, {-1: 0, 0: -sqrt(2)*I*(W_+)_{x}*\\epsilon/2, 1: 0, 2: 0, 3: 0, 4: 0, 5: 0, 6: 0})"
      ]
     },
     "metadata": {},
     "output_type": "display_data"
    },
    {
     "data": {
      "text/latex": [
       "$\\displaystyle p^{3} = \\left\\{ -1 : -2, \\  0 : \\frac{\\sqrt{2} i W_{+} \\epsilon}{2} + \\frac{\\sqrt{2} i}{2 \\epsilon}, \\  1 : \\frac{1}{8 \\epsilon^{2}}, \\  2 : 0, \\  3 : \\frac{1}{256 \\epsilon^{4}}, \\  4 : 0, \\  5 : \\frac{1}{4096 \\epsilon^{6}}, \\  6 : 0\\right\\}$"
      ],
      "text/plain": [
       "Eq(p^3, {-1: -2, 0: sqrt(2)*I*W_+*\\epsilon/2 + sqrt(2)*I/(2*\\epsilon), 1: 1/(8*\\epsilon**2), 2: 0, 3: 1/(256*\\epsilon**4), 4: 0, 5: 1/(4096*\\epsilon**6), 6: 0})"
      ]
     },
     "metadata": {},
     "output_type": "display_data"
    },
    {
     "data": {
      "text/latex": [
       "$\\displaystyle p^{4} = \\left\\{ -1 : 0, \\  0 : 0, \\  1 : 0, \\  2 : 0, \\  3 : 0, \\  4 : 0, \\  5 : 0, \\  6 : 0\\right\\}$"
      ],
      "text/plain": [
       "Eq(p^4, {-1: 0, 0: 0, 1: 0, 2: 0, 3: 0, 4: 0, 5: 0, 6: 0})"
      ]
     },
     "metadata": {},
     "output_type": "display_data"
    },
    {
     "data": {
      "text/latex": [
       "$\\displaystyle p^{5} = \\left\\{ -1 : 2, \\  0 : - \\frac{\\sqrt{2} i W_{-} \\epsilon}{2} + \\frac{\\sqrt{2} i}{2 \\epsilon}, \\  1 : - \\frac{1}{8 \\epsilon^{2}}, \\  2 : 0, \\  3 : - \\frac{1}{256 \\epsilon^{4}}, \\  4 : 0, \\  5 : - \\frac{1}{4096 \\epsilon^{6}}, \\  6 : 0\\right\\}$"
      ],
      "text/plain": [
       "Eq(p^5, {-1: 2, 0: -sqrt(2)*I*W_-*\\epsilon/2 + sqrt(2)*I/(2*\\epsilon), 1: -1/(8*\\epsilon**2), 2: 0, 3: -1/(256*\\epsilon**4), 4: 0, 5: -1/(4096*\\epsilon**6), 6: 0})"
      ]
     },
     "metadata": {},
     "output_type": "display_data"
    }
   ],
   "source": [
    "U = Matrix([[0, -I*epsilon/sqrt(2)*W_plus], [-I*epsilon/sqrt(2)*W_minus, 0]])\n",
    "U_p = Matrix([[0, 0], [0, 0]])\n",
    "U_m = Matrix([[0, 0], [0, 0]])\n",
    "\n",
    "lam, z = symbols('\\\\lambda z')\n",
    "\n",
    "#z = I * sqrt(1 - lam**2)\n",
    "lam = sqrt(1 + 2 * epsilon**2 * z**2)\n",
    "\n",
    "D = Matrix([[- I * z, 0], [0, I * z]])\n",
    "\n",
    "Vinv_p = Matrix([[sqrt(2)*epsilon*z/(lam-1), - sqrt(2)*epsilon*z/(lam-1)], [1, 1]])\n",
    "Vinv_m = Matrix([[sqrt(2)*epsilon*z/(lam-1), - sqrt(2)*epsilon*z/(lam-1)], [1, 1]])\n",
    "\n",
    "V_p = Matrix([[epsilon/sqrt(2)*z/(lam+1), Rational(1,2)], [- epsilon/sqrt(2)*z/(lam+1), Rational(1,2)]])\n",
    "V_m = Matrix([[epsilon/sqrt(2)*z/(lam+1), Rational(1,2)], [- epsilon/sqrt(2)*z/(lam+1), Rational(1,2)]])\n",
    "\n",
    "\n",
    "E = Matrix([[1, 1], [sqrt(2)*epsilon*z/(lam+1), sqrt(2)*epsilon*z/(lam+1)]])\n",
    "\n",
    "N = 6\n",
    "sig_eq, r_eq = direct_scattering(lam, z, U, U_p, U_m, D, V_p, V_m, Vinv_p, Vinv_m, N)\n",
    "sig_dict = [codict(sig_eq[n], epsilon) for n in range(N)]\n",
    "r_dict = [codict(r_eq[n], epsilon) for n in range(N)]\n",
    "sig_grp = [sum([epsilon**k * sig_dict[n][k] for k in sig_dict[n]]) for n in range(N)]\n",
    "r_grp = [sum([epsilon**k * r_dict[n][k] for k in r_dict[n]]) for n in range(N)]\n",
    "\n",
    "for n in range(N):\n",
    "    display(Eq(sig_sym[n], sig_grp[n]))\n",
    "    display(Eq(r_sym[n], r_grp[n]))\n"
   ]
  },
  {
   "cell_type": "code",
   "execution_count": 20,
   "id": "e2bea234",
   "metadata": {},
   "outputs": [
    {
     "name": "stdout",
     "output_type": "stream",
     "text": [
      "pl\n"
     ]
    },
    {
     "data": {
      "text/latex": [
       "$\\displaystyle u$"
      ],
      "text/plain": [
       "u"
      ]
     },
     "metadata": {},
     "output_type": "display_data"
    },
    {
     "data": {
      "text/latex": [
       "$\\displaystyle 0$"
      ],
      "text/plain": [
       "0"
      ]
     },
     "metadata": {},
     "output_type": "display_data"
    },
    {
     "data": {
      "text/latex": [
       "$\\displaystyle -1$"
      ],
      "text/plain": [
       "-1"
      ]
     },
     "metadata": {},
     "output_type": "display_data"
    },
    {
     "data": {
      "text/latex": [
       "$\\displaystyle 0$"
      ],
      "text/plain": [
       "0"
      ]
     },
     "metadata": {},
     "output_type": "display_data"
    },
    {
     "data": {
      "text/latex": [
       "$\\displaystyle u - z^{2}$"
      ],
      "text/plain": [
       "u - z**2"
      ]
     },
     "metadata": {},
     "output_type": "display_data"
    },
    {
     "data": {
      "text/latex": [
       "$\\displaystyle p^{1} = \\left\\{ -1 : 0, \\  0 : u, \\  1 : 0, \\  2 : 0, \\  3 : 0, \\  4 : 0, \\  5 : 0, \\  6 : 0, \\  7 : 0\\right\\}$"
      ],
      "text/plain": [
       "Eq(p^1, {-1: 0, 0: u, 1: 0, 2: 0, 3: 0, 4: 0, 5: 0, 6: 0, 7: 0})"
      ]
     },
     "metadata": {},
     "output_type": "display_data"
    },
    {
     "data": {
      "text/latex": [
       "$\\displaystyle p^{2} = \\left\\{ -1 : 0, \\  0 : 0, \\  1 : 0, \\  2 : 0, \\  3 : 0, \\  4 : 0, \\  5 : 0, \\  6 : 0, \\  7 : 0\\right\\}$"
      ],
      "text/plain": [
       "Eq(p^2, {-1: 0, 0: 0, 1: 0, 2: 0, 3: 0, 4: 0, 5: 0, 6: 0, 7: 0})"
      ]
     },
     "metadata": {},
     "output_type": "display_data"
    },
    {
     "data": {
      "text/latex": [
       "$\\displaystyle p^{3} = \\left\\{ -1 : 0, \\  0 : -1, \\  1 : 0, \\  2 : 0, \\  3 : 0, \\  4 : 0, \\  5 : 0, \\  6 : 0, \\  7 : 0\\right\\}$"
      ],
      "text/plain": [
       "Eq(p^3, {-1: 0, 0: -1, 1: 0, 2: 0, 3: 0, 4: 0, 5: 0, 6: 0, 7: 0})"
      ]
     },
     "metadata": {},
     "output_type": "display_data"
    },
    {
     "data": {
      "text/latex": [
       "$\\displaystyle p^{4} = \\left\\{ -1 : 0, \\  0 : 0, \\  1 : 0, \\  2 : 0, \\  3 : 0, \\  4 : 0, \\  5 : 0, \\  6 : 0, \\  7 : 0\\right\\}$"
      ],
      "text/plain": [
       "Eq(p^4, {-1: 0, 0: 0, 1: 0, 2: 0, 3: 0, 4: 0, 5: 0, 6: 0, 7: 0})"
      ]
     },
     "metadata": {},
     "output_type": "display_data"
    },
    {
     "data": {
      "text/latex": [
       "$\\displaystyle p^{5} = \\left\\{ -1 : 0, \\  0 : u, \\  1 : 0, \\  2 : 0, \\  3 : 0, \\  4 : 0, \\  5 : 0, \\  6 : 0, \\  7 : 0\\right\\}$"
      ],
      "text/plain": [
       "Eq(p^5, {-1: 0, 0: u, 1: 0, 2: 0, 3: 0, 4: 0, 5: 0, 6: 0, 7: 0})"
      ]
     },
     "metadata": {},
     "output_type": "display_data"
    }
   ],
   "source": [
    "u_p, u_m = symbols('u_p u_m')\n",
    "\n",
    "U = Matrix([[0, 0], [u, 0]])\n",
    "U_p = Matrix([[0, 0], [0, 0]])\n",
    "U_m = Matrix([[0, 0], [0, 0]])\n",
    "\n",
    "lam, z = symbols('\\\\lambda z')\n",
    "\n",
    "lam = z\n",
    "D = Matrix([[- I * z, 0], [0, I * z]])\n",
    "\n",
    "Vinv_p = Matrix([[I / lam, - I / lam], [1, 1]])\n",
    "Vinv_m = Matrix([[I / lam, - I / lam], [1, 1]])\n",
    "\n",
    "V_p = Matrix([[- I * lam / 2, Rational(1,2)], [I * lam / 2, Rational(1,2)]])\n",
    "V_m = Matrix([[- I * lam / 2, Rational(1,2)], [I * lam / 2, Rational(1,2)]])\n",
    "\n",
    "sig_eq, r_eq = direct_scattering(lam, z, U, U_p, U_m, D, V_p, V_m, Vinv_p, Vinv_m, 7)"
   ]
  },
  {
   "cell_type": "code",
   "execution_count": 21,
   "id": "0d5b98c7",
   "metadata": {},
   "outputs": [
    {
     "name": "stdout",
     "output_type": "stream",
     "text": [
      "pl\n"
     ]
    },
    {
     "data": {
      "text/latex": [
       "$\\displaystyle \\tilde{q} q - 1$"
      ],
      "text/plain": [
       "\\tilde{q}*q - 1"
      ]
     },
     "metadata": {},
     "output_type": "display_data"
    },
    {
     "data": {
      "text/latex": [
       "$\\displaystyle (q)_{x}$"
      ],
      "text/plain": [
       "(q)_{x}"
      ]
     },
     "metadata": {},
     "output_type": "display_data"
    },
    {
     "data": {
      "text/latex": [
       "$\\displaystyle - q$"
      ],
      "text/plain": [
       "-q"
      ]
     },
     "metadata": {},
     "output_type": "display_data"
    },
    {
     "data": {
      "text/latex": [
       "$\\displaystyle \\frac{2 i \\left(- 2 z^{3} + 2 z^{2} \\sqrt{z^{2} + 1} - 2 z + \\sqrt{z^{2} + 1}\\right)}{2 z^{2} - 2 z \\sqrt{z^{2} + 1} + 1}$"
      ],
      "text/plain": [
       "2*I*(-2*z**3 + 2*z**2*sqrt(z**2 + 1) - 2*z + sqrt(z**2 + 1))/(2*z**2 - 2*z*sqrt(z**2 + 1) + 1)"
      ]
     },
     "metadata": {},
     "output_type": "display_data"
    },
    {
     "data": {
      "text/latex": [
       "$\\displaystyle \\tilde{q}$"
      ],
      "text/plain": [
       "\\tilde{q}"
      ]
     },
     "metadata": {},
     "output_type": "display_data"
    },
    {
     "data": {
      "text/latex": [
       "$\\displaystyle p^{1} = \\left\\{ -1 : 0, \\  0 : \\tilde{q} q - 1, \\  1 : 0, \\  2 : 0, \\  3 : 0, \\  4 : 0, \\  5 : 0, \\  6 : 0, \\  7 : 0\\right\\}$"
      ],
      "text/plain": [
       "Eq(p^1, {-1: 0, 0: \\tilde{q}*q - 1, 1: 0, 2: 0, 3: 0, 4: 0, 5: 0, 6: 0, 7: 0})"
      ]
     },
     "metadata": {},
     "output_type": "display_data"
    },
    {
     "data": {
      "text/latex": [
       "$\\displaystyle p^{2} = \\left\\{ -1 : 0, \\  0 : (q)_{x}, \\  1 : 0, \\  2 : 0, \\  3 : 0, \\  4 : 0, \\  5 : 0, \\  6 : 0, \\  7 : 0\\right\\}$"
      ],
      "text/plain": [
       "Eq(p^2, {-1: 0, 0: (q)_{x}, 1: 0, 2: 0, 3: 0, 4: 0, 5: 0, 6: 0, 7: 0})"
      ]
     },
     "metadata": {},
     "output_type": "display_data"
    },
    {
     "data": {
      "text/latex": [
       "$\\displaystyle p^{3} = \\left\\{ -1 : 0, \\  0 : - q, \\  1 : 0, \\  2 : 0, \\  3 : 0, \\  4 : 0, \\  5 : 0, \\  6 : 0, \\  7 : 0\\right\\}$"
      ],
      "text/plain": [
       "Eq(p^3, {-1: 0, 0: -q, 1: 0, 2: 0, 3: 0, 4: 0, 5: 0, 6: 0, 7: 0})"
      ]
     },
     "metadata": {},
     "output_type": "display_data"
    },
    {
     "data": {
      "text/latex": [
       "$\\displaystyle p^{4} = \\left\\{ -1 : -4, \\  0 : 0, \\  1 : \\frac{1}{2}, \\  2 : 0, \\  3 : \\frac{1}{32}, \\  4 : 0, \\  5 : \\frac{1}{256}, \\  6 : 0, \\  7 : 0\\right\\}$"
      ],
      "text/plain": [
       "Eq(p^4, {-1: -4, 0: 0, 1: 1/2, 2: 0, 3: 1/32, 4: 0, 5: 1/256, 6: 0, 7: 0})"
      ]
     },
     "metadata": {},
     "output_type": "display_data"
    },
    {
     "data": {
      "text/latex": [
       "$\\displaystyle p^{5} = \\left\\{ -1 : 0, \\  0 : \\tilde{q}, \\  1 : 0, \\  2 : 0, \\  3 : 0, \\  4 : 0, \\  5 : 0, \\  6 : 0, \\  7 : 0\\right\\}$"
      ],
      "text/plain": [
       "Eq(p^5, {-1: 0, 0: \\tilde{q}, 1: 0, 2: 0, 3: 0, 4: 0, 5: 0, 6: 0, 7: 0})"
      ]
     },
     "metadata": {},
     "output_type": "display_data"
    }
   ],
   "source": [
    "q_p, q_m = symbols('u_p u_m')\n",
    "\n",
    "U = Matrix([[0, q], [q_conj, 0]])\n",
    "U_p = Matrix([[0, q_p], [1/q_p, 0]])\n",
    "U_m = Matrix([[0, q_m], [1/q_m, 0]])\n",
    "\n",
    "lam, z = symbols('\\\\lambda z')\n",
    "\n",
    "#z = I * sqrt(1 - lam**2)\n",
    "lam = sqrt(1 + z**2)\n",
    "\n",
    "D = Matrix([[- I * z, 0], [0, I * z]])\n",
    "\n",
    "V = Matrix([[I/(2*z*q), -(z-lam)**2/(1-(z-lam)**2)], [-I/(2*z*q), 1/(1-(z-lam)**2)]])\n",
    "Vinv = Matrix([[I*q/(z-lam), I*q*(z-lam)], [1, 1]])\n",
    "\n",
    "Vinv_p = Matrix([[I * q_p / (z - lam), I * q_p * (z - lam)], [1, 1]])\n",
    "Vinv_m = Matrix([[I * q_m / (z - lam), I * q_m * (z - lam)], [1, 1]])\n",
    "\n",
    "V_p = Matrix([[I / (2 * z * q_p), - (z - lam)**2 / (1 - (z - lam)**2)], [- I / (2 * z * q_p), 1 / (1 - (z - lam)**2)]])\n",
    "V_m = Matrix([[I / (2 * z * q_m), - (z - lam)**2 / (1 - (z - lam)**2)], [- I / (2 * z * q_m), 1 / (1 - (z - lam)**2)]])\n",
    " \n",
    "E = Matrix([[1, 1], [- I * lam, I * lam]])\n",
    "\n",
    "sig_eq, r_eq = direct_scattering(lam, z, U, U_p, U_m, D, V_p, V_m, Vinv_p, Vinv_m, 7)"
   ]
  },
  {
   "cell_type": "code",
   "execution_count": 22,
   "id": "4a571357",
   "metadata": {},
   "outputs": [
    {
     "name": "stdout",
     "output_type": "stream",
     "text": [
      "pl\n"
     ]
    },
    {
     "data": {
      "text/latex": [
       "$\\displaystyle \\tilde{q} q$"
      ],
      "text/plain": [
       "\\tilde{q}*q"
      ]
     },
     "metadata": {},
     "output_type": "display_data"
    },
    {
     "data": {
      "text/latex": [
       "$\\displaystyle (q)_{x}$"
      ],
      "text/plain": [
       "(q)_{x}"
      ]
     },
     "metadata": {},
     "output_type": "display_data"
    },
    {
     "data": {
      "text/latex": [
       "$\\displaystyle - q$"
      ],
      "text/plain": [
       "-q"
      ]
     },
     "metadata": {},
     "output_type": "display_data"
    },
    {
     "data": {
      "text/latex": [
       "$\\displaystyle 2 i z$"
      ],
      "text/plain": [
       "2*I*z"
      ]
     },
     "metadata": {},
     "output_type": "display_data"
    },
    {
     "data": {
      "text/latex": [
       "$\\displaystyle \\tilde{q}$"
      ],
      "text/plain": [
       "\\tilde{q}"
      ]
     },
     "metadata": {},
     "output_type": "display_data"
    },
    {
     "data": {
      "text/latex": [
       "$\\displaystyle p^{1} = \\left\\{ -1 : 0, \\  0 : \\tilde{q} q, \\  1 : 0, \\  2 : 0, \\  3 : 0, \\  4 : 0, \\  5 : 0, \\  6 : 0, \\  7 : 0\\right\\}$"
      ],
      "text/plain": [
       "Eq(p^1, {-1: 0, 0: \\tilde{q}*q, 1: 0, 2: 0, 3: 0, 4: 0, 5: 0, 6: 0, 7: 0})"
      ]
     },
     "metadata": {},
     "output_type": "display_data"
    },
    {
     "data": {
      "text/latex": [
       "$\\displaystyle p^{2} = \\left\\{ -1 : 0, \\  0 : (q)_{x}, \\  1 : 0, \\  2 : 0, \\  3 : 0, \\  4 : 0, \\  5 : 0, \\  6 : 0, \\  7 : 0\\right\\}$"
      ],
      "text/plain": [
       "Eq(p^2, {-1: 0, 0: (q)_{x}, 1: 0, 2: 0, 3: 0, 4: 0, 5: 0, 6: 0, 7: 0})"
      ]
     },
     "metadata": {},
     "output_type": "display_data"
    },
    {
     "data": {
      "text/latex": [
       "$\\displaystyle p^{3} = \\left\\{ -1 : 0, \\  0 : - q, \\  1 : 0, \\  2 : 0, \\  3 : 0, \\  4 : 0, \\  5 : 0, \\  6 : 0, \\  7 : 0\\right\\}$"
      ],
      "text/plain": [
       "Eq(p^3, {-1: 0, 0: -q, 1: 0, 2: 0, 3: 0, 4: 0, 5: 0, 6: 0, 7: 0})"
      ]
     },
     "metadata": {},
     "output_type": "display_data"
    },
    {
     "data": {
      "text/latex": [
       "$\\displaystyle p^{4} = \\left\\{ -1 : -4, \\  0 : 0, \\  1 : 0, \\  2 : 0, \\  3 : 0, \\  4 : 0, \\  5 : 0, \\  6 : 0, \\  7 : 0\\right\\}$"
      ],
      "text/plain": [
       "Eq(p^4, {-1: -4, 0: 0, 1: 0, 2: 0, 3: 0, 4: 0, 5: 0, 6: 0, 7: 0})"
      ]
     },
     "metadata": {},
     "output_type": "display_data"
    },
    {
     "data": {
      "text/latex": [
       "$\\displaystyle p^{5} = \\left\\{ -1 : 0, \\  0 : \\tilde{q}, \\  1 : 0, \\  2 : 0, \\  3 : 0, \\  4 : 0, \\  5 : 0, \\  6 : 0, \\  7 : 0\\right\\}$"
      ],
      "text/plain": [
       "Eq(p^5, {-1: 0, 0: \\tilde{q}, 1: 0, 2: 0, 3: 0, 4: 0, 5: 0, 6: 0, 7: 0})"
      ]
     },
     "metadata": {},
     "output_type": "display_data"
    }
   ],
   "source": [
    "q_p, q_m = symbols('u_p u_m')\n",
    "\n",
    "U = Matrix([[0, q], [q_conj, 0]])\n",
    "U_p = Matrix([[0, 0], [0, 0]])\n",
    "U_m = Matrix([[0, 0], [0, 0]])\n",
    "\n",
    "lam, z = symbols('\\\\lambda z')\n",
    "\n",
    "#z = I * sqrt(1 - lam**2)\n",
    "lam = z\n",
    "\n",
    "D = Matrix([[- I * z, 0], [0, I * z]])\n",
    "\n",
    "V = Matrix([[1, 0], [0, 1]])\n",
    "Vinv = Matrix([[1, 0], [0, 1]])\n",
    "\n",
    "Vinv_p = Matrix([[1, 0], [0, 1]])\n",
    "Vinv_m = Matrix([[1, 0], [0, 1]])\n",
    "\n",
    "V_p = Matrix([[1, 0], [0, 1]])\n",
    "V_m = Matrix([[1, 0], [0, 1]])\n",
    "\n",
    "E = Matrix([[1, 1], [- I * lam, I * lam]])\n",
    "\n",
    "sig_eq, r_eq = direct_scattering(lam, z, U, U_p, U_m, D, V_p, V_m, Vinv_p, Vinv_m, 7)"
   ]
  },
  {
   "cell_type": "code",
   "execution_count": null,
   "id": "2ca72bb8",
   "metadata": {},
   "outputs": [],
   "source": [
    "for n in range(N):\n",
    "    A = simplify(extract_deriv_alt(sig_eq[n], 2))\n",
    "    #B = simplify(deriv(q) * extract_deriv_alt(r_eq[n], 1))\n",
    "    display(Eq(sig_sym[n], A.expand(), evaluate=False))\n",
    "\n",
    "    #display(Eq(r_sym[n], B, evaluate=False))\n",
    "    #display(Eq(Symbol('\\\\Delta'), simplify(A - B), evaluate=False))\n",
    "\n",
    "\n",
    "for n in range(N):\n",
    "    A = simplify(extract_deriv_alt(deriv(extract_deriv(sig_eq[n], 1)), 2))\n",
    "    display(Eq(sig_sym[n], A, evaluate=False))\n"
   ]
  },
  {
   "cell_type": "code",
   "execution_count": 209,
   "id": "daeb1d82",
   "metadata": {},
   "outputs": [],
   "source": [
    "N = 12\n",
    "\n",
    "def AA(n, j):\n",
    "    return - 4**j * binomial(Rational(n,2) - 1, j)\n",
    "def BB(n, j):\n",
    "    return - sum([(-1)**l * (catalan(l+1) - 2 * catalan(l)) * 4**(j-l) * binomial(Rational(n-1,2) - 1, j - l) for l in range(0, j+1)])\n",
    "def DD(n, j):\n",
    "    return 4**j * binomial(Rational(n,2) - 1, j)\n",
    "def EE(n, j):\n",
    "    return sum([(-1)**l * (catalan(l+1) - 2 * catalan(l)) * 4**(j-l) * binomial(Rational(n-1,2) - 1, j - l) for l in range(0, j+1)])\n",
    "def FF(n, j):\n",
    "    if n % 2 == 0:\n",
    "        return 0\n",
    "    if n % 2 == 1:\n",
    "        return - 2 * (4*((n-1)//2-j)-3) * 4**j * binomial(Rational(n,2)-1, j)\n",
    "def GG(n, j):\n",
    "    Y = (1 if (n%2==1) else -1) * sum([4*((n-1)//2-j) * catalan(k) * 4**(j-1-k) * binomial((n-1)//2-Rational(1,2)-k, j-1-k) for k in range(j)])\n",
    "    if n % 2 == 1:\n",
    "        Y += 2 * 4**(j-1) * binomial(Rational(n,2)-1, j-1)\n",
    "    return Y\n",
    "def KK(n, j):\n",
    "    return GG(n, j) + (j+1) * EE(n, j-1) + (j+1) * (1 if n%2==0 else -1) * DD(n, j)\n",
    "def KKt(n, j):\n",
    "    return (-1)**n * DD(n+1, j) + (2 if n%2==1 else 0) * EE(n, j-2) "
   ]
  },
  {
   "cell_type": "code",
   "execution_count": 16,
   "id": "766eab09",
   "metadata": {},
   "outputs": [
    {
     "name": "stdout",
     "output_type": "stream",
     "text": [
      "[]\n",
      "[]\n",
      "[1]\n",
      "[-1]\n",
      "[1, 6]\n",
      "[-1, -8]\n",
      "[1, 10, 31]\n",
      "[-1, -12, -49]\n",
      "[1, 14, 71, 150]\n",
      "[-1, -16, -97, -268]\n",
      "[1, 18, 127, 434, 699]\n",
      "[-1, -20, -161, -656, -1375]\n",
      "[1, 22, 199, 942, 2435, 3178]\n",
      "[-1, -24, -241, -1300, -3999, -6768]\n",
      "[1, 26, 287, 1738, 6203, 12918, 14198]\n",
      "[-1, -28, -337, -2264, -9199, -22764, -32354]\n",
      "[]\n",
      "[]\n",
      "[0]\n",
      "[0]\n",
      "[0, 0]\n",
      "[0, 0]\n",
      "[0, 0, 0]\n",
      "[0, 0, 0]\n",
      "[0, 0, 0, 0]\n",
      "[0, 0, 0, 0]\n",
      "[0, 0, 0, 0, 0]\n",
      "[0, 0, 0, 0, 0]\n",
      "[0, 0, 0, 0, 0, 0]\n",
      "[0, 0, 0, 0, 0, 0]\n",
      "[0, 0, 0, 0, 0, 0, 0]\n",
      "[0, 0, 0, 0, 0, 0, 0]\n"
     ]
    }
   ],
   "source": [
    "for n in range(16):\n",
    "    print([KK(n, j) - EE(n, j-2) for j in range(n//2)])\n",
    "\n",
    "for n in range(16):\n",
    "    print([KK(n, j) - KKt(n, j) for j in range(n//2)])"
   ]
  },
  {
   "cell_type": "code",
   "execution_count": null,
   "id": "0a98c94d",
   "metadata": {},
   "outputs": [],
   "source": [
    "for n in range(N):\n",
    "    display(Eq(sig_sym[n], extract_deriv(r_eq[n], 1), evaluate=False))\n",
    "    \n",
    "    X = 0\n",
    "    for j in range(n//2):\n",
    "        X += AA(n, j) * (-q)**j * q_conj**j * higher_deriv(q_conj, n-1-2*j)\n",
    "    \n",
    "    for j in range(n//2 - 1):\n",
    "        X += BB(n, j) * (-q)**j * q_conj**(j+2) * higher_deriv(q, n-3-2*j)\n",
    "        \n",
    "    display(Eq(sig_sym[n], X, evaluate=False))\n"
   ]
  },
  {
   "cell_type": "code",
   "execution_count": null,
   "id": "34e5bef4",
   "metadata": {},
   "outputs": [],
   "source": [
    "for n in range(N):\n",
    "    display(Eq(sig_sym[n], extract_deriv(sig_eq[n], 1), evaluate=False))\n",
    "    \n",
    "    X = 0\n",
    "    for j in range(n//2):\n",
    "        X += DD(n, j) * (-q)**(j+1) * q_conj**j * higher_deriv(q_conj, n-1-2*j)\n",
    "    \n",
    "    for j in range(n//2 - 1):\n",
    "        X += EE(n, j) * (-q)**(j+1) * q_conj**(j+2) * higher_deriv(q, n-3-2*j)\n",
    "        \n",
    "    display(Eq(sig_sym[n], X, evaluate=False))\n"
   ]
  },
  {
   "cell_type": "code",
   "execution_count": null,
   "id": "db5d02fa",
   "metadata": {},
   "outputs": [],
   "source": [
    "for n in range(N):\n",
    "    display(Eq(sig_sym[n], extract_deriv(variation(extract_deriv_alt(sig_eq[n], 2), q_conj), 1), evaluate=False))\n",
    "    \n",
    "    X = 0\n",
    "    for j in range((n-1)//2-1):\n",
    "        X += FF(n, j) * (-q)**(j+2) * q_conj**j * higher_deriv(q_conj, n-3-2*j)\n",
    "    \n",
    "    for j in range(1, (n-1)//2):\n",
    "        X += GG(n, j) * (-q)**j * q_conj**j * higher_deriv(q, n-1-2*j)\n",
    "        \n",
    "    display(Eq(sig_sym[n], X, evaluate=False))\n"
   ]
  },
  {
   "cell_type": "code",
   "execution_count": null,
   "id": "a02c1156",
   "metadata": {},
   "outputs": [],
   "source": [
    "for n in range(N):\n",
    "    display(Eq(sig_sym[n], extract_deriv(variation(extract_deriv(sig_eq[n], 1), q_conj), 1), evaluate=False))\n",
    "    \n",
    "    X = 0\n",
    "    for j in range(n//2-1):\n",
    "        X += 2 * (1 if n%2==1 else 0) * (j+1) * DD(n, j+1) * (-q)**(j+2) * q_conj**j * higher_deriv(q_conj, n-3-2*j)\n",
    "    \n",
    "    for j in range(n//2):\n",
    "        X += (j+1) * ((1 if j>=1 else 0) * EE(n, j-1) + (1 if n%2==0 else -1) * DD(n, j)) * (-q)**j * q_conj**j * higher_deriv(q, n-1-2*j)\n",
    "        \n",
    "    display(Eq(sig_sym[n], X, evaluate=False))\n"
   ]
  },
  {
   "cell_type": "code",
   "execution_count": 9,
   "id": "b14667f9",
   "metadata": {},
   "outputs": [
    {
     "data": {
      "text/latex": [
       "$\\displaystyle \\sigma_{0} = 0$"
      ],
      "text/plain": [
       "Eq(\\sigma_{0}, 0)"
      ]
     },
     "metadata": {},
     "output_type": "display_data"
    },
    {
     "data": {
      "text/latex": [
       "$\\displaystyle \\sigma_{0} = 0$"
      ],
      "text/plain": [
       "Eq(\\sigma_{0}, 0)"
      ]
     },
     "metadata": {},
     "output_type": "display_data"
    },
    {
     "data": {
      "text/latex": [
       "$\\displaystyle \\sigma_{0} = 0$"
      ],
      "text/plain": [
       "Eq(\\sigma_{0}, 0)"
      ]
     },
     "metadata": {},
     "output_type": "display_data"
    },
    {
     "data": {
      "text/latex": [
       "$\\displaystyle \\sigma_{1} = 0$"
      ],
      "text/plain": [
       "Eq(\\sigma_{1}, 0)"
      ]
     },
     "metadata": {},
     "output_type": "display_data"
    },
    {
     "data": {
      "text/latex": [
       "$\\displaystyle \\sigma_{1} = 0$"
      ],
      "text/plain": [
       "Eq(\\sigma_{1}, 0)"
      ]
     },
     "metadata": {},
     "output_type": "display_data"
    },
    {
     "data": {
      "text/latex": [
       "$\\displaystyle \\sigma_{1} = 0$"
      ],
      "text/plain": [
       "Eq(\\sigma_{1}, 0)"
      ]
     },
     "metadata": {},
     "output_type": "display_data"
    },
    {
     "data": {
      "text/latex": [
       "$\\displaystyle \\sigma_{2} = (q)_{x}$"
      ],
      "text/plain": [
       "Eq(\\sigma_{2}, (q)_{x})"
      ]
     },
     "metadata": {},
     "output_type": "display_data"
    },
    {
     "data": {
      "text/latex": [
       "$\\displaystyle \\sigma_{2} = (q)_{x}$"
      ],
      "text/plain": [
       "Eq(\\sigma_{2}, (q)_{x})"
      ]
     },
     "metadata": {},
     "output_type": "display_data"
    },
    {
     "data": {
      "text/latex": [
       "$\\displaystyle \\sigma_{2} = (q)_{x}$"
      ],
      "text/plain": [
       "Eq(\\sigma_{2}, (q)_{x})"
      ]
     },
     "metadata": {},
     "output_type": "display_data"
    },
    {
     "data": {
      "text/latex": [
       "$\\displaystyle \\sigma_{3} = - (q)_{xx}$"
      ],
      "text/plain": [
       "Eq(\\sigma_{3}, -(q)_{xx})"
      ]
     },
     "metadata": {},
     "output_type": "display_data"
    },
    {
     "data": {
      "text/latex": [
       "$\\displaystyle \\sigma_{3} = - (q)_{xx}$"
      ],
      "text/plain": [
       "Eq(\\sigma_{3}, -(q)_{xx})"
      ]
     },
     "metadata": {},
     "output_type": "display_data"
    },
    {
     "data": {
      "text/latex": [
       "$\\displaystyle \\sigma_{3} = - (q)_{xx}$"
      ],
      "text/plain": [
       "Eq(\\sigma_{3}, -(q)_{xx})"
      ]
     },
     "metadata": {},
     "output_type": "display_data"
    },
    {
     "data": {
      "text/latex": [
       "$\\displaystyle \\sigma_{4} = (q)_{xxx} - 6 (q)_{x} \\tilde{q} q$"
      ],
      "text/plain": [
       "Eq(\\sigma_{4}, (q)_{xxx} - 6*(q)_{x}*\\tilde{q}*q)"
      ]
     },
     "metadata": {},
     "output_type": "display_data"
    },
    {
     "data": {
      "text/latex": [
       "$\\displaystyle \\sigma_{4} = (q)_{xxx} - 6 (q)_{x} \\tilde{q} q$"
      ],
      "text/plain": [
       "Eq(\\sigma_{4}, (q)_{xxx} - 6*(q)_{x}*\\tilde{q}*q)"
      ]
     },
     "metadata": {},
     "output_type": "display_data"
    },
    {
     "data": {
      "text/latex": [
       "$\\displaystyle \\sigma_{4} = (q)_{xxx} - 6 (q)_{x} \\tilde{q} q$"
      ],
      "text/plain": [
       "Eq(\\sigma_{4}, (q)_{xxx} - 6*(q)_{x}*\\tilde{q}*q)"
      ]
     },
     "metadata": {},
     "output_type": "display_data"
    },
    {
     "data": {
      "text/latex": [
       "$\\displaystyle \\sigma_{5} = 2 (\\tilde{q})_{xx} q^{2} - (q)_{xxxx} + 8 (q)_{xx} \\tilde{q} q$"
      ],
      "text/plain": [
       "Eq(\\sigma_{5}, 2*(\\tilde{q})_{xx}*q**2 - (q)_{xxxx} + 8*(q)_{xx}*\\tilde{q}*q)"
      ]
     },
     "metadata": {},
     "output_type": "display_data"
    },
    {
     "data": {
      "text/latex": [
       "$\\displaystyle \\sigma_{5} = 2 (\\tilde{q})_{xx} q^{2} - (q)_{xxxx} + 8 (q)_{xx} \\tilde{q} q$"
      ],
      "text/plain": [
       "Eq(\\sigma_{5}, 2*(\\tilde{q})_{xx}*q**2 - (q)_{xxxx} + 8*(q)_{xx}*\\tilde{q}*q)"
      ]
     },
     "metadata": {},
     "output_type": "display_data"
    },
    {
     "data": {
      "text/latex": [
       "$\\displaystyle \\sigma_{5} = 2 (\\tilde{q})_{xx} q^{2} - (q)_{xxxx} + 8 (q)_{xx} \\tilde{q} q$"
      ],
      "text/plain": [
       "Eq(\\sigma_{5}, 2*(\\tilde{q})_{xx}*q**2 - (q)_{xxxx} + 8*(q)_{xx}*\\tilde{q}*q)"
      ]
     },
     "metadata": {},
     "output_type": "display_data"
    },
    {
     "data": {
      "text/latex": [
       "$\\displaystyle \\sigma_{6} = (q)_{xxxxx} - 10 (q)_{xxx} \\tilde{q} q + 30 (q)_{x} \\tilde{q}^{2} q^{2}$"
      ],
      "text/plain": [
       "Eq(\\sigma_{6}, (q)_{xxxxx} - 10*(q)_{xxx}*\\tilde{q}*q + 30*(q)_{x}*\\tilde{q}**2*q**2)"
      ]
     },
     "metadata": {},
     "output_type": "display_data"
    },
    {
     "data": {
      "text/latex": [
       "$\\displaystyle \\sigma_{6} = (q)_{xxxxx} - 10 (q)_{xxx} \\tilde{q} q + 30 (q)_{x} \\tilde{q}^{2} q^{2}$"
      ],
      "text/plain": [
       "Eq(\\sigma_{6}, (q)_{xxxxx} - 10*(q)_{xxx}*\\tilde{q}*q + 30*(q)_{x}*\\tilde{q}**2*q**2)"
      ]
     },
     "metadata": {},
     "output_type": "display_data"
    },
    {
     "data": {
      "text/latex": [
       "$\\displaystyle \\sigma_{6} = (q)_{xxxxx} - 10 (q)_{xxx} \\tilde{q} q + 30 (q)_{x} \\tilde{q}^{2} q^{2}$"
      ],
      "text/plain": [
       "Eq(\\sigma_{6}, (q)_{xxxxx} - 10*(q)_{xxx}*\\tilde{q}*q + 30*(q)_{x}*\\tilde{q}**2*q**2)"
      ]
     },
     "metadata": {},
     "output_type": "display_data"
    },
    {
     "data": {
      "text/latex": [
       "$\\displaystyle \\sigma_{7} = 2 (\\tilde{q})_{xxxx} q^{2} - 20 (\\tilde{q})_{xx} \\tilde{q} q^{3} - (q)_{xxxxxx} + 12 (q)_{xxxx} \\tilde{q} q - 50 (q)_{xx} \\tilde{q}^{2} q^{2}$"
      ],
      "text/plain": [
       "Eq(\\sigma_{7}, 2*(\\tilde{q})_{xxxx}*q**2 - 20*(\\tilde{q})_{xx}*\\tilde{q}*q**3 - (q)_{xxxxxx} + 12*(q)_{xxxx}*\\tilde{q}*q - 50*(q)_{xx}*\\tilde{q}**2*q**2)"
      ]
     },
     "metadata": {},
     "output_type": "display_data"
    },
    {
     "data": {
      "text/latex": [
       "$\\displaystyle \\sigma_{7} = 2 (\\tilde{q})_{xxxx} q^{2} - 20 (\\tilde{q})_{xx} \\tilde{q} q^{3} - (q)_{xxxxxx} + 12 (q)_{xxxx} \\tilde{q} q - 50 (q)_{xx} \\tilde{q}^{2} q^{2}$"
      ],
      "text/plain": [
       "Eq(\\sigma_{7}, 2*(\\tilde{q})_{xxxx}*q**2 - 20*(\\tilde{q})_{xx}*\\tilde{q}*q**3 - (q)_{xxxxxx} + 12*(q)_{xxxx}*\\tilde{q}*q - 50*(q)_{xx}*\\tilde{q}**2*q**2)"
      ]
     },
     "metadata": {},
     "output_type": "display_data"
    },
    {
     "data": {
      "text/latex": [
       "$\\displaystyle \\sigma_{7} = 2 (\\tilde{q})_{xxxx} q^{2} - 20 (\\tilde{q})_{xx} \\tilde{q} q^{3} - (q)_{xxxxxx} + 12 (q)_{xxxx} \\tilde{q} q - 50 (q)_{xx} \\tilde{q}^{2} q^{2}$"
      ],
      "text/plain": [
       "Eq(\\sigma_{7}, 2*(\\tilde{q})_{xxxx}*q**2 - 20*(\\tilde{q})_{xx}*\\tilde{q}*q**3 - (q)_{xxxxxx} + 12*(q)_{xxxx}*\\tilde{q}*q - 50*(q)_{xx}*\\tilde{q}**2*q**2)"
      ]
     },
     "metadata": {},
     "output_type": "display_data"
    },
    {
     "data": {
      "text/latex": [
       "$\\displaystyle \\sigma_{8} = (q)_{xxxxxxx} - 14 (q)_{xxxxx} \\tilde{q} q + 70 (q)_{xxx} \\tilde{q}^{2} q^{2} - 140 (q)_{x} \\tilde{q}^{3} q^{3}$"
      ],
      "text/plain": [
       "Eq(\\sigma_{8}, (q)_{xxxxxxx} - 14*(q)_{xxxxx}*\\tilde{q}*q + 70*(q)_{xxx}*\\tilde{q}**2*q**2 - 140*(q)_{x}*\\tilde{q}**3*q**3)"
      ]
     },
     "metadata": {},
     "output_type": "display_data"
    },
    {
     "data": {
      "text/latex": [
       "$\\displaystyle \\sigma_{8} = (q)_{xxxxxxx} - 14 (q)_{xxxxx} \\tilde{q} q + 70 (q)_{xxx} \\tilde{q}^{2} q^{2} - 140 (q)_{x} \\tilde{q}^{3} q^{3}$"
      ],
      "text/plain": [
       "Eq(\\sigma_{8}, (q)_{xxxxxxx} - 14*(q)_{xxxxx}*\\tilde{q}*q + 70*(q)_{xxx}*\\tilde{q}**2*q**2 - 140*(q)_{x}*\\tilde{q}**3*q**3)"
      ]
     },
     "metadata": {},
     "output_type": "display_data"
    },
    {
     "data": {
      "text/latex": [
       "$\\displaystyle \\sigma_{8} = (q)_{xxxxxxx} - 14 (q)_{xxxxx} \\tilde{q} q + 70 (q)_{xxx} \\tilde{q}^{2} q^{2} - 140 (q)_{x} \\tilde{q}^{3} q^{3}$"
      ],
      "text/plain": [
       "Eq(\\sigma_{8}, (q)_{xxxxxxx} - 14*(q)_{xxxxx}*\\tilde{q}*q + 70*(q)_{xxx}*\\tilde{q}**2*q**2 - 140*(q)_{x}*\\tilde{q}**3*q**3)"
      ]
     },
     "metadata": {},
     "output_type": "display_data"
    },
    {
     "ename": "KeyboardInterrupt",
     "evalue": "",
     "output_type": "error",
     "traceback": [
      "\u001b[1;31m---------------------------------------------------------------------------\u001b[0m",
      "\u001b[1;31mKeyboardInterrupt\u001b[0m                         Traceback (most recent call last)",
      "Cell \u001b[1;32mIn[9], line 3\u001b[0m\n\u001b[0;32m      1\u001b[0m N \u001b[38;5;241m=\u001b[39m \u001b[38;5;241m10\u001b[39m\n\u001b[0;32m      2\u001b[0m \u001b[38;5;28;01mfor\u001b[39;00m n \u001b[38;5;129;01min\u001b[39;00m \u001b[38;5;28mrange\u001b[39m(N):\n\u001b[1;32m----> 3\u001b[0m     display(Eq(sig_sym[n], \u001b[43mextract_deriv\u001b[49m\u001b[43m(\u001b[49m\u001b[43mvariation\u001b[49m\u001b[43m(\u001b[49m\u001b[43msig_eq\u001b[49m\u001b[43m[\u001b[49m\u001b[43mn\u001b[49m\u001b[43m]\u001b[49m\u001b[43m,\u001b[49m\u001b[43m \u001b[49m\u001b[43mq_conj\u001b[49m\u001b[43m)\u001b[49m\u001b[43m,\u001b[49m\u001b[43m \u001b[49m\u001b[38;5;241;43m1\u001b[39;49m\u001b[43m)\u001b[49m, evaluate\u001b[38;5;241m=\u001b[39m\u001b[38;5;28;01mFalse\u001b[39;00m))\n\u001b[0;32m      5\u001b[0m     X \u001b[38;5;241m=\u001b[39m \u001b[38;5;241m0\u001b[39m\n\u001b[0;32m      6\u001b[0m     \u001b[38;5;28;01mfor\u001b[39;00m j \u001b[38;5;129;01min\u001b[39;00m \u001b[38;5;28mrange\u001b[39m(n\u001b[38;5;241m/\u001b[39m\u001b[38;5;241m/\u001b[39m\u001b[38;5;241m2\u001b[39m \u001b[38;5;241m-\u001b[39m \u001b[38;5;241m1\u001b[39m):\n",
      "Cell \u001b[1;32mIn[3], line 152\u001b[0m, in \u001b[0;36mextract_deriv\u001b[1;34m(expr, k)\u001b[0m\n\u001b[0;32m    151\u001b[0m \u001b[38;5;28;01mdef\u001b[39;00m \u001b[38;5;21mextract_deriv\u001b[39m(expr, k): \n\u001b[1;32m--> 152\u001b[0m     expr \u001b[38;5;241m=\u001b[39m \u001b[43msimplify\u001b[49m\u001b[43m(\u001b[49m\u001b[43mexpr\u001b[49m\u001b[43m)\u001b[49m\u001b[38;5;241m.\u001b[39mexpand()\n\u001b[0;32m    153\u001b[0m     \u001b[38;5;66;03m#print(\"expr =\", expr) \u001b[39;00m\n\u001b[0;32m    154\u001b[0m     res \u001b[38;5;241m=\u001b[39m \u001b[38;5;241m0\u001b[39m\n",
      "File \u001b[1;32m~\\anaconda3\\lib\\site-packages\\sympy\\simplify\\simplify.py:643\u001b[0m, in \u001b[0;36msimplify\u001b[1;34m(expr, ratio, measure, rational, inverse, doit, **kwargs)\u001b[0m\n\u001b[0;32m    640\u001b[0m     expr \u001b[38;5;241m=\u001b[39m nsimplify(expr, rational\u001b[38;5;241m=\u001b[39m\u001b[38;5;28;01mTrue\u001b[39;00m)\n\u001b[0;32m    642\u001b[0m expr \u001b[38;5;241m=\u001b[39m _bottom_up(expr, \u001b[38;5;28;01mlambda\u001b[39;00m w: \u001b[38;5;28mgetattr\u001b[39m(w, \u001b[38;5;124m'\u001b[39m\u001b[38;5;124mnormal\u001b[39m\u001b[38;5;124m'\u001b[39m, \u001b[38;5;28;01mlambda\u001b[39;00m: w)())\n\u001b[1;32m--> 643\u001b[0m expr \u001b[38;5;241m=\u001b[39m Mul(\u001b[38;5;241m*\u001b[39m\u001b[43mpowsimp\u001b[49m\u001b[43m(\u001b[49m\u001b[43mexpr\u001b[49m\u001b[43m)\u001b[49m\u001b[38;5;241m.\u001b[39mas_content_primitive())\n\u001b[0;32m    644\u001b[0m _e \u001b[38;5;241m=\u001b[39m cancel(expr)\n\u001b[0;32m    645\u001b[0m expr1 \u001b[38;5;241m=\u001b[39m shorter(_e, _mexpand(_e)\u001b[38;5;241m.\u001b[39mcancel())  \u001b[38;5;66;03m# issue 6829\u001b[39;00m\n",
      "File \u001b[1;32m~\\anaconda3\\lib\\site-packages\\sympy\\simplify\\powsimp.py:117\u001b[0m, in \u001b[0;36mpowsimp\u001b[1;34m(expr, deep, combine, force, measure)\u001b[0m\n\u001b[0;32m    114\u001b[0m     \u001b[38;5;28;01mreturn\u001b[39;00m expr\n\u001b[0;32m    116\u001b[0m \u001b[38;5;28;01mif\u001b[39;00m deep \u001b[38;5;129;01mor\u001b[39;00m expr\u001b[38;5;241m.\u001b[39mis_Add \u001b[38;5;129;01mor\u001b[39;00m expr\u001b[38;5;241m.\u001b[39mis_Mul \u001b[38;5;129;01mand\u001b[39;00m _y \u001b[38;5;129;01mnot\u001b[39;00m \u001b[38;5;129;01min\u001b[39;00m expr\u001b[38;5;241m.\u001b[39margs:\n\u001b[1;32m--> 117\u001b[0m     expr \u001b[38;5;241m=\u001b[39m expr\u001b[38;5;241m.\u001b[39mfunc(\u001b[38;5;241m*\u001b[39m[recurse(w) \u001b[38;5;28;01mfor\u001b[39;00m w \u001b[38;5;129;01min\u001b[39;00m expr\u001b[38;5;241m.\u001b[39margs])\n\u001b[0;32m    119\u001b[0m \u001b[38;5;28;01mif\u001b[39;00m expr\u001b[38;5;241m.\u001b[39mis_Pow:\n\u001b[0;32m    120\u001b[0m     \u001b[38;5;28;01mreturn\u001b[39;00m recurse(expr\u001b[38;5;241m*\u001b[39m_y, deep\u001b[38;5;241m=\u001b[39m\u001b[38;5;28;01mFalse\u001b[39;00m)\u001b[38;5;241m/\u001b[39m_y\n",
      "File \u001b[1;32m~\\anaconda3\\lib\\site-packages\\sympy\\simplify\\powsimp.py:117\u001b[0m, in \u001b[0;36m<listcomp>\u001b[1;34m(.0)\u001b[0m\n\u001b[0;32m    114\u001b[0m     \u001b[38;5;28;01mreturn\u001b[39;00m expr\n\u001b[0;32m    116\u001b[0m \u001b[38;5;28;01mif\u001b[39;00m deep \u001b[38;5;129;01mor\u001b[39;00m expr\u001b[38;5;241m.\u001b[39mis_Add \u001b[38;5;129;01mor\u001b[39;00m expr\u001b[38;5;241m.\u001b[39mis_Mul \u001b[38;5;129;01mand\u001b[39;00m _y \u001b[38;5;129;01mnot\u001b[39;00m \u001b[38;5;129;01min\u001b[39;00m expr\u001b[38;5;241m.\u001b[39margs:\n\u001b[1;32m--> 117\u001b[0m     expr \u001b[38;5;241m=\u001b[39m expr\u001b[38;5;241m.\u001b[39mfunc(\u001b[38;5;241m*\u001b[39m[\u001b[43mrecurse\u001b[49m\u001b[43m(\u001b[49m\u001b[43mw\u001b[49m\u001b[43m)\u001b[49m \u001b[38;5;28;01mfor\u001b[39;00m w \u001b[38;5;129;01min\u001b[39;00m expr\u001b[38;5;241m.\u001b[39margs])\n\u001b[0;32m    119\u001b[0m \u001b[38;5;28;01mif\u001b[39;00m expr\u001b[38;5;241m.\u001b[39mis_Pow:\n\u001b[0;32m    120\u001b[0m     \u001b[38;5;28;01mreturn\u001b[39;00m recurse(expr\u001b[38;5;241m*\u001b[39m_y, deep\u001b[38;5;241m=\u001b[39m\u001b[38;5;28;01mFalse\u001b[39;00m)\u001b[38;5;241m/\u001b[39m_y\n",
      "File \u001b[1;32m~\\anaconda3\\lib\\site-packages\\sympy\\simplify\\powsimp.py:108\u001b[0m, in \u001b[0;36mpowsimp.<locals>.recurse\u001b[1;34m(arg, **kwargs)\u001b[0m\n\u001b[0;32m    106\u001b[0m _force \u001b[38;5;241m=\u001b[39m kwargs\u001b[38;5;241m.\u001b[39mget(\u001b[38;5;124m'\u001b[39m\u001b[38;5;124mforce\u001b[39m\u001b[38;5;124m'\u001b[39m, force)\n\u001b[0;32m    107\u001b[0m _measure \u001b[38;5;241m=\u001b[39m kwargs\u001b[38;5;241m.\u001b[39mget(\u001b[38;5;124m'\u001b[39m\u001b[38;5;124mmeasure\u001b[39m\u001b[38;5;124m'\u001b[39m, measure)\n\u001b[1;32m--> 108\u001b[0m \u001b[38;5;28;01mreturn\u001b[39;00m \u001b[43mpowsimp\u001b[49m\u001b[43m(\u001b[49m\u001b[43marg\u001b[49m\u001b[43m,\u001b[49m\u001b[43m \u001b[49m\u001b[43m_deep\u001b[49m\u001b[43m,\u001b[49m\u001b[43m \u001b[49m\u001b[43m_combine\u001b[49m\u001b[43m,\u001b[49m\u001b[43m \u001b[49m\u001b[43m_force\u001b[49m\u001b[43m,\u001b[49m\u001b[43m \u001b[49m\u001b[43m_measure\u001b[49m\u001b[43m)\u001b[49m\n",
      "File \u001b[1;32m~\\anaconda3\\lib\\site-packages\\sympy\\simplify\\powsimp.py:143\u001b[0m, in \u001b[0;36mpowsimp\u001b[1;34m(expr, deep, combine, force, measure)\u001b[0m\n\u001b[0;32m    141\u001b[0m \u001b[38;5;28;01mif\u001b[39;00m deep:\n\u001b[0;32m    142\u001b[0m     b, e \u001b[38;5;241m=\u001b[39m [recurse(i) \u001b[38;5;28;01mfor\u001b[39;00m i \u001b[38;5;129;01min\u001b[39;00m [b, e]]\n\u001b[1;32m--> 143\u001b[0m \u001b[38;5;28;01mif\u001b[39;00m b\u001b[38;5;241m.\u001b[39mis_Pow \u001b[38;5;129;01mor\u001b[39;00m \u001b[38;5;28;43misinstance\u001b[39;49m\u001b[43m(\u001b[49m\u001b[43mb\u001b[49m\u001b[43m,\u001b[49m\u001b[43m \u001b[49m\u001b[43mexp\u001b[49m\u001b[43m)\u001b[49m:\n\u001b[0;32m    144\u001b[0m     \u001b[38;5;66;03m# don't let smthg like sqrt(x**a) split into x**a, 1/2\u001b[39;00m\n\u001b[0;32m    145\u001b[0m     \u001b[38;5;66;03m# or else it will be joined as x**(a/2) later\u001b[39;00m\n\u001b[0;32m    146\u001b[0m     b, e \u001b[38;5;241m=\u001b[39m b\u001b[38;5;241m*\u001b[39m\u001b[38;5;241m*\u001b[39me, S\u001b[38;5;241m.\u001b[39mOne\n\u001b[0;32m    147\u001b[0m c_powers[b]\u001b[38;5;241m.\u001b[39mappend(e)\n",
      "File \u001b[1;32m~\\anaconda3\\lib\\site-packages\\sympy\\functions\\elementary\\exponential.py:215\u001b[0m, in \u001b[0;36mExpMeta.__instancecheck__\u001b[1;34m(cls, instance)\u001b[0m\n\u001b[0;32m    213\u001b[0m \u001b[38;5;28;01mif\u001b[39;00m exp \u001b[38;5;129;01min\u001b[39;00m instance\u001b[38;5;241m.\u001b[39m\u001b[38;5;18m__class__\u001b[39m\u001b[38;5;241m.\u001b[39m\u001b[38;5;18m__mro__\u001b[39m:\n\u001b[0;32m    214\u001b[0m     \u001b[38;5;28;01mreturn\u001b[39;00m \u001b[38;5;28;01mTrue\u001b[39;00m\n\u001b[1;32m--> 215\u001b[0m \u001b[38;5;28;01mreturn\u001b[39;00m \u001b[38;5;28;43misinstance\u001b[39;49m\u001b[43m(\u001b[49m\u001b[43minstance\u001b[49m\u001b[43m,\u001b[49m\u001b[43m \u001b[49m\u001b[43mPow\u001b[49m\u001b[43m)\u001b[49m \u001b[38;5;129;01mand\u001b[39;00m instance\u001b[38;5;241m.\u001b[39mbase \u001b[38;5;129;01mis\u001b[39;00m S\u001b[38;5;241m.\u001b[39mExp1\n",
      "\u001b[1;31mKeyboardInterrupt\u001b[0m: "
     ]
    }
   ],
   "source": [
    "N = 10\n",
    "for n in range(N):\n",
    "    display(Eq(sig_sym[n], extract_deriv(variation(sig_eq[n], q_conj), 1), evaluate=False))\n",
    "\n",
    "    X = 0\n",
    "    for j in range(n//2 - 1):\n",
    "        Y = 0\n",
    "        if j <= (n-1)//2 - 2:\n",
    "            Y += FF(n, j)\n",
    "        if n % 2 == 1:\n",
    "            Y += 2 * (j + 1) * DD(n, j+1)\n",
    "        X += Y * (-q)**(j+2) * q_conj**j * higher_deriv(q_conj, n-3-2*j)\n",
    "    \n",
    "    for j in range(n//2):\n",
    "        Y = 0\n",
    "        if 1 <= j and j <= (n-1)//2 - 1:\n",
    "            Y += GG(n, j)\n",
    "        Y += (j + 1) * ((1 if j>=1 else 0) * EE(n, j-1) + (1 if n%2==0 else -1) * DD(n, j))\n",
    "        X += Y * (-q)**j * q_conj**j * higher_deriv(q, n-1-2*j)\n",
    "        \n",
    "    display(Eq(sig_sym[n], X, evaluate=False))\n",
    "    \n",
    "    X = 0\n",
    "    for j in range(n//2 - 1):\n",
    "        Y = 0\n",
    "        if j <= (n-1)//2 - 2:\n",
    "            Y += FF(n, j)\n",
    "        if n % 2 == 1:\n",
    "            Y += 2 * (j + 1) * DD(n, j+1)\n",
    "        X += Y * (-q)**(j+2) * q_conj**j * higher_deriv(q_conj, n-3-2*j)\n",
    "    \n",
    "    for j in range(n//2):\n",
    "        Y = 0\n",
    "        if 1 <= j and j <= (n-1)//2 - 1:\n",
    "            Y += GG(n, j)\n",
    "        Y += (j + 1) * ((1 if j>=1 else 0) * EE(n, j-1) + (1 if n%2==0 else -1) * DD(n, j))\n",
    "        X += KK(n, j) * (-q)**j * q_conj**j * higher_deriv(q, n-1-2*j)\n",
    "        \n",
    "    display(Eq(sig_sym[n], X, evaluate=False))\n"
   ]
  },
  {
   "cell_type": "code",
   "execution_count": null,
   "id": "63f6e3da",
   "metadata": {},
   "outputs": [],
   "source": [
    "def DDt(n, j):\n",
    "    return 4**j * binomial(Rational(n,2) - 1, j)\n",
    "\n",
    "def EEt(n, j):\n",
    "    #return - sum([catalan(l+1)* (-4)**(j-l) * binomial(1+j-Rational(n,2), j-l) for l in range(0,j+1)])\n",
    "    return sum([(-1)**l * (catalan(l+1) - 2 * catalan(l)) * 4**(j-l) * binomial(Rational(n-1,2) - 1, j - l) for l in range(0, j+1)])\n",
    "\n",
    "\n",
    "def GG(n, j):\n",
    "    Y = (1 if (n%2==1) else -1) * sum([4*((n-1)//2-j) * catalan(k) * 4**(j-1-k) * binomial((n-1)//2-Rational(1,2)-k, j-1-k) for k in range(j)])\n",
    "    if n % 2 == 1:\n",
    "        Y += 2 * 4**(j-1) * binomial(Rational(n,2)-1, j-1)\n",
    "    return Y\n",
    "\n",
    "for n in range(5, N):\n",
    "    for j in range(1, n//2):\n",
    "        X = 2 * sum([GG(n-2*k-1, j-1-k) * catalan(k) for k in range(j)])\n",
    "        if n % 2 == 0:\n",
    "            X += - 2 * EEt(n, j-2)\n",
    "        X += - (j+1) * EEt(n, j-1)\n",
    "        X += (-1)**n * j * DDt(n, j)\n",
    "        \n",
    "        #print((n, j), X - GG(n+1, j))\n",
    "        \n",
    "for n in range(-30, 30):\n",
    "    L = []\n",
    "    M = []\n",
    "    for j in range(-20, 20):\n",
    "        X = 0\n",
    "        for k in range(j):\n",
    "            X += 2 * GG(n-2*k-1, j-1-k) * catalan(k)\n",
    "        #X += sum([2 * GG(n-2*k-1, j-1-k) * catalan(k) for k in range(j)])\n",
    "        X += j * (1 if n%2==0 else -1) * 4**j * binomial(Rational(n,2)-1, j)\n",
    "        X += - (j+1) * sum([(-1)**l * (catalan(l+1)-2*catalan(l)) * 4**(j-1-l)*binomial(Rational(n-1,2)-1,j-1-l) for l in range(j)])\n",
    "        X += - 2*(1 if n%2==0 else 0) * sum([(-1)**l * (catalan(l+1)-2*catalan(l)) * 4**(j-2-l)*binomial(Rational(n-1,2)-1,j-2-l) for l in range(j-1)])\n",
    "        \n",
    "        M.append(X - GG(n+1, j))\n",
    "        if round(X - GG(n+1, j)) != 0 and j > (n+4)//2:\n",
    "            L.append(2)\n",
    "        elif (round(X - GG(n+1, j))) == 0 and j <= (n+4)//2:\n",
    "            L.append(1)\n",
    "        elif round(X - GG(n+1, j)) != 0 and j <= (n+4)//2:\n",
    "            L.append(3)\n",
    "        else:\n",
    "            L.append(0)\n",
    "    print(M)\n",
    "\n"
   ]
  },
  {
   "cell_type": "code",
   "execution_count": null,
   "id": "d670ad6c",
   "metadata": {},
   "outputs": [],
   "source": [
    "Y = Symbol('Y')\n",
    "Z = Symbol('Z')\n",
    "#Z = sqrt(1 + 4 * Y)\n",
    "Y = (Z**2 - 1) / 4\n",
    "\n",
    "C = (Z + 1 / Z - 2)\n",
    "CC = (Z + 1 / Z - 2)\n",
    "D =  1 / Z\n",
    "DD = 1\n",
    "E = 4 * Y / Z**2\n",
    "EE = - 4 * Y / Z\n",
    "F = (1 - 1 / Z)**2 * 2 * Z\n",
    "FF = - (1 - 1 / Z)**2 * 2 * Z\n",
    "G = (1 - 1 / Z) * 2 * Z\n",
    "GG = - (1 - 1 / Z) * 2 * Z\n",
    "\n",
    "display(simplify(C * D + E + F - G))\n",
    "display(simplify(CC * DD + EE + FF - GG))"
   ]
  },
  {
   "cell_type": "code",
   "execution_count": null,
   "id": "3e026920",
   "metadata": {},
   "outputs": [],
   "source": [
    "Y = Symbol('Y')\n",
    "Z = Symbol('Z')\n",
    "#Z = sqrt(1 + 4 * Y)\n",
    "Y = (Z**2 - 1) / 4\n",
    "\n",
    "A = (Z - 1) / (2 * Y) + Z - 2\n",
    "B = - 6 * Y / Z**5 + 2 * Y / Z**3\n",
    "C = (1 + 2 * Y) / Z + Z - 2\n",
    "D = 1 / Z**3\n",
    "E = - 4 * Y / Z**4\n",
    "F = (1 - 1 / Z) * 2 * Y / Z * (- 1 - 2 / Z)\n",
    "G = - 2 * Y / Z\n",
    "display(simplify(F - G))\n",
    "display(simplify(A * B + C * D))\n",
    "display(simplify(A * B + C * D + E + F - G))\n",
    "\n",
    "AA = (Z - 1) / (2 * Y) + Z - 2\n",
    "BB = 4 * Y / Z**4\n",
    "CC = (1 + 2 * Y) / Z + Z - 2\n",
    "DD = - 1 / Z**2\n",
    "EE = - 2 * Y / Z**3\n",
    "FF = (1 - 1 / Z) * 2 * Y / Z * (- 2 - 2 / Z)\n",
    "GG = - 4 * Y / Z\n",
    "display(simplify(FF - GG))\n",
    "display(simplify(AA * BB + CC * DD))\n",
    "display(simplify(AA * BB + CC * DD + EE + FF - GG))"
   ]
  },
  {
   "cell_type": "code",
   "execution_count": 237,
   "id": "603d5954",
   "metadata": {},
   "outputs": [
    {
     "data": {
      "text/latex": [
       "$\\displaystyle 0$"
      ],
      "text/plain": [
       "0"
      ]
     },
     "metadata": {},
     "output_type": "display_data"
    },
    {
     "data": {
      "text/latex": [
       "$\\displaystyle \\frac{- Z^{3} - Z + 2}{Z^{4}}$"
      ],
      "text/plain": [
       "(-Z**3 - Z + 2)/Z**4"
      ]
     },
     "metadata": {},
     "output_type": "display_data"
    },
    {
     "name": "stdout",
     "output_type": "stream",
     "text": [
      "[0, 0, 0, 0, 0, 0, 0, 0, 0, 0]\n",
      "[0, 8, -60, 352, -1860, 9264, -44408, 207232, -947988, 4270480]\n",
      "---\n"
     ]
    },
    {
     "ename": "KeyboardInterrupt",
     "evalue": "",
     "output_type": "error",
     "traceback": [
      "\u001b[1;31m---------------------------------------------------------------------------\u001b[0m",
      "\u001b[1;31mKeyError\u001b[0m                                  Traceback (most recent call last)",
      "File \u001b[1;32m~\\anaconda3\\lib\\site-packages\\sympy\\core\\assumptions.py:479\u001b[0m, in \u001b[0;36mmake_property.<locals>.getit\u001b[1;34m(self)\u001b[0m\n\u001b[0;32m    478\u001b[0m \u001b[38;5;28;01mtry\u001b[39;00m:\n\u001b[1;32m--> 479\u001b[0m     \u001b[38;5;28;01mreturn\u001b[39;00m \u001b[38;5;28;43mself\u001b[39;49m\u001b[38;5;241;43m.\u001b[39;49m\u001b[43m_assumptions\u001b[49m\u001b[43m[\u001b[49m\u001b[43mfact\u001b[49m\u001b[43m]\u001b[49m\n\u001b[0;32m    480\u001b[0m \u001b[38;5;28;01mexcept\u001b[39;00m \u001b[38;5;167;01mKeyError\u001b[39;00m:\n",
      "\u001b[1;31mKeyError\u001b[0m: 'zero'",
      "\nDuring handling of the above exception, another exception occurred:\n",
      "\u001b[1;31mKeyError\u001b[0m                                  Traceback (most recent call last)",
      "File \u001b[1;32m~\\anaconda3\\lib\\site-packages\\sympy\\core\\assumptions.py:479\u001b[0m, in \u001b[0;36mmake_property.<locals>.getit\u001b[1;34m(self)\u001b[0m\n\u001b[0;32m    478\u001b[0m \u001b[38;5;28;01mtry\u001b[39;00m:\n\u001b[1;32m--> 479\u001b[0m     \u001b[38;5;28;01mreturn\u001b[39;00m \u001b[38;5;28;43mself\u001b[39;49m\u001b[38;5;241;43m.\u001b[39;49m\u001b[43m_assumptions\u001b[49m\u001b[43m[\u001b[49m\u001b[43mfact\u001b[49m\u001b[43m]\u001b[49m\n\u001b[0;32m    480\u001b[0m \u001b[38;5;28;01mexcept\u001b[39;00m \u001b[38;5;167;01mKeyError\u001b[39;00m:\n",
      "\u001b[1;31mKeyError\u001b[0m: 'zero'",
      "\nDuring handling of the above exception, another exception occurred:\n",
      "\u001b[1;31mKeyError\u001b[0m                                  Traceback (most recent call last)",
      "File \u001b[1;32m~\\anaconda3\\lib\\site-packages\\sympy\\core\\assumptions.py:479\u001b[0m, in \u001b[0;36mmake_property.<locals>.getit\u001b[1;34m(self)\u001b[0m\n\u001b[0;32m    478\u001b[0m \u001b[38;5;28;01mtry\u001b[39;00m:\n\u001b[1;32m--> 479\u001b[0m     \u001b[38;5;28;01mreturn\u001b[39;00m \u001b[38;5;28;43mself\u001b[39;49m\u001b[38;5;241;43m.\u001b[39;49m\u001b[43m_assumptions\u001b[49m\u001b[43m[\u001b[49m\u001b[43mfact\u001b[49m\u001b[43m]\u001b[49m\n\u001b[0;32m    480\u001b[0m \u001b[38;5;28;01mexcept\u001b[39;00m \u001b[38;5;167;01mKeyError\u001b[39;00m:\n",
      "\u001b[1;31mKeyError\u001b[0m: 'even'",
      "\nDuring handling of the above exception, another exception occurred:\n",
      "\u001b[1;31mKeyboardInterrupt\u001b[0m                         Traceback (most recent call last)",
      "Cell \u001b[1;32mIn[237], line 47\u001b[0m\n\u001b[0;32m     43\u001b[0m \u001b[38;5;28mprint\u001b[39m([GG(\u001b[38;5;241m0\u001b[39m, j) \u001b[38;5;28;01mfor\u001b[39;00m j \u001b[38;5;129;01min\u001b[39;00m D])\n\u001b[0;32m     45\u001b[0m \u001b[38;5;28mprint\u001b[39m(\u001b[38;5;124m\"\u001b[39m\u001b[38;5;124m---\u001b[39m\u001b[38;5;124m\"\u001b[39m)\n\u001b[1;32m---> 47\u001b[0m D \u001b[38;5;241m=\u001b[39m \u001b[43mpower_series_expand\u001b[49m\u001b[43m(\u001b[49m\u001b[43msimplify\u001b[49m\u001b[43m(\u001b[49m\u001b[43mG\u001b[49m\u001b[38;5;241;43m.\u001b[39;49m\u001b[43msubs\u001b[49m\u001b[43m(\u001b[49m\u001b[43mZ\u001b[49m\u001b[43m,\u001b[49m\u001b[43m \u001b[49m\u001b[43msqrt\u001b[49m\u001b[43m(\u001b[49m\u001b[38;5;241;43m1\u001b[39;49m\u001b[43m \u001b[49m\u001b[38;5;241;43m+\u001b[39;49m\u001b[43m \u001b[49m\u001b[38;5;241;43m4\u001b[39;49m\u001b[43m \u001b[49m\u001b[38;5;241;43m*\u001b[39;49m\u001b[43m \u001b[49m\u001b[43mY\u001b[49m\u001b[43m)\u001b[49m\u001b[43m)\u001b[49m\u001b[43m)\u001b[49m\u001b[43m,\u001b[49m\u001b[43m \u001b[49m\u001b[43m[\u001b[49m\u001b[43mX\u001b[49m\u001b[43m,\u001b[49m\u001b[43m \u001b[49m\u001b[43mY\u001b[49m\u001b[43m]\u001b[49m\u001b[43m,\u001b[49m\u001b[43m \u001b[49m\u001b[43m[\u001b[49m\u001b[38;5;241;43m10\u001b[39;49m\u001b[43m,\u001b[49m\u001b[43m \u001b[49m\u001b[38;5;241;43m10\u001b[39;49m\u001b[43m]\u001b[49m\u001b[43m)\u001b[49m\n\u001b[0;32m     48\u001b[0m \u001b[38;5;28;01mfor\u001b[39;00m n \u001b[38;5;129;01min\u001b[39;00m D:\n\u001b[0;32m     49\u001b[0m     \u001b[38;5;28mprint\u001b[39m([D[n][j] \u001b[38;5;241m-\u001b[39m (\u001b[38;5;241m1\u001b[39m \u001b[38;5;241m-\u001b[39m (\u001b[38;5;241m1\u001b[39m \u001b[38;5;28;01mif\u001b[39;00m n\u001b[38;5;241m==\u001b[39m\u001b[38;5;241m0\u001b[39m \u001b[38;5;28;01melse\u001b[39;00m \u001b[38;5;241m0\u001b[39m)) \u001b[38;5;241m*\u001b[39m GG(n, j)  \u001b[38;5;28;01mfor\u001b[39;00m j \u001b[38;5;129;01min\u001b[39;00m D[n]])\n",
      "Cell \u001b[1;32mIn[237], line 34\u001b[0m, in \u001b[0;36mpower_series_expand\u001b[1;34m(expr, X, N)\u001b[0m\n\u001b[0;32m     33\u001b[0m \u001b[38;5;28;01mdef\u001b[39;00m \u001b[38;5;21mpower_series_expand\u001b[39m(expr, X, N):\n\u001b[1;32m---> 34\u001b[0m     \u001b[38;5;28;01mreturn\u001b[39;00m \u001b[43mpower_series_expand_recursor\u001b[49m\u001b[43m(\u001b[49m\u001b[43m{\u001b[49m\u001b[38;5;124;43m\"\u001b[39;49m\u001b[38;5;124;43mstart\u001b[39;49m\u001b[38;5;124;43m\"\u001b[39;49m\u001b[43m:\u001b[49m\u001b[43m \u001b[49m\u001b[43mexpr\u001b[49m\u001b[43m}\u001b[49m\u001b[43m,\u001b[49m\u001b[43m \u001b[49m\u001b[43mX\u001b[49m\u001b[43m,\u001b[49m\u001b[43m \u001b[49m\u001b[43mN\u001b[49m\u001b[43m)\u001b[49m[\u001b[38;5;124m\"\u001b[39m\u001b[38;5;124mstart\u001b[39m\u001b[38;5;124m\"\u001b[39m]\n",
      "Cell \u001b[1;32mIn[237], line 24\u001b[0m, in \u001b[0;36mpower_series_expand_recursor\u001b[1;34m(D, X, N)\u001b[0m\n\u001b[0;32m     22\u001b[0m \u001b[38;5;28;01mif\u001b[39;00m \u001b[38;5;28mlen\u001b[39m(X) \u001b[38;5;241m>\u001b[39m \u001b[38;5;241m0\u001b[39m: \n\u001b[0;32m     23\u001b[0m     \u001b[38;5;28;01mfor\u001b[39;00m order \u001b[38;5;129;01min\u001b[39;00m D:\n\u001b[1;32m---> 24\u001b[0m         D[order] \u001b[38;5;241m=\u001b[39m codict(simplify(\u001b[43mseries\u001b[49m\u001b[43m(\u001b[49m\u001b[43mD\u001b[49m\u001b[43m[\u001b[49m\u001b[43morder\u001b[49m\u001b[43m]\u001b[49m\u001b[43m,\u001b[49m\u001b[43m \u001b[49m\u001b[43mx0\u001b[49m\u001b[38;5;241;43m=\u001b[39;49m\u001b[38;5;241;43m0\u001b[39;49m\u001b[43m,\u001b[49m\u001b[43m \u001b[49m\u001b[43mx\u001b[49m\u001b[38;5;241;43m=\u001b[39;49m\u001b[43mX\u001b[49m\u001b[43m[\u001b[49m\u001b[38;5;241;43m0\u001b[39;49m\u001b[43m]\u001b[49m\u001b[43m,\u001b[49m\u001b[43m \u001b[49m\u001b[43mn\u001b[49m\u001b[38;5;241;43m=\u001b[39;49m\u001b[43mN\u001b[49m\u001b[43m[\u001b[49m\u001b[38;5;241;43m0\u001b[39;49m\u001b[43m]\u001b[49m\u001b[43m)\u001b[49m\u001b[38;5;241m.\u001b[39mremoveO())\u001b[38;5;241m.\u001b[39mexpand(), X[\u001b[38;5;241m0\u001b[39m])\n\u001b[0;32m     25\u001b[0m         \u001b[38;5;28;01mfor\u001b[39;00m key \u001b[38;5;129;01min\u001b[39;00m \u001b[38;5;28mrange\u001b[39m(N[\u001b[38;5;241m0\u001b[39m]):\n\u001b[0;32m     26\u001b[0m             \u001b[38;5;28;01mif\u001b[39;00m key \u001b[38;5;129;01mnot\u001b[39;00m \u001b[38;5;129;01min\u001b[39;00m D[order]\u001b[38;5;241m.\u001b[39mkeys():\n",
      "File \u001b[1;32m~\\anaconda3\\lib\\site-packages\\sympy\\series\\series.py:63\u001b[0m, in \u001b[0;36mseries\u001b[1;34m(expr, x, x0, n, dir)\u001b[0m\n\u001b[0;32m      5\u001b[0m \u001b[38;5;250m\u001b[39m\u001b[38;5;124;03m\"\"\"Series expansion of expr around point `x = x0`.\u001b[39;00m\n\u001b[0;32m      6\u001b[0m \n\u001b[0;32m      7\u001b[0m \u001b[38;5;124;03mParameters\u001b[39;00m\n\u001b[1;32m   (...)\u001b[0m\n\u001b[0;32m     60\u001b[0m \u001b[38;5;124;03msympy.core.expr.Expr.series: See the docstring of Expr.series() for complete details of this wrapper.\u001b[39;00m\n\u001b[0;32m     61\u001b[0m \u001b[38;5;124;03m\"\"\"\u001b[39;00m\n\u001b[0;32m     62\u001b[0m expr \u001b[38;5;241m=\u001b[39m sympify(expr)\n\u001b[1;32m---> 63\u001b[0m \u001b[38;5;28;01mreturn\u001b[39;00m \u001b[43mexpr\u001b[49m\u001b[38;5;241;43m.\u001b[39;49m\u001b[43mseries\u001b[49m\u001b[43m(\u001b[49m\u001b[43mx\u001b[49m\u001b[43m,\u001b[49m\u001b[43m \u001b[49m\u001b[43mx0\u001b[49m\u001b[43m,\u001b[49m\u001b[43m \u001b[49m\u001b[43mn\u001b[49m\u001b[43m,\u001b[49m\u001b[43m \u001b[49m\u001b[38;5;28;43mdir\u001b[39;49m\u001b[43m)\u001b[49m\n",
      "File \u001b[1;32m~\\anaconda3\\lib\\site-packages\\sympy\\core\\expr.py:3065\u001b[0m, in \u001b[0;36mExpr.series\u001b[1;34m(self, x, x0, n, dir, logx, cdir)\u001b[0m\n\u001b[0;32m   3063\u001b[0m \u001b[38;5;28;01mtry\u001b[39;00m:\n\u001b[0;32m   3064\u001b[0m     \u001b[38;5;28;01mfrom\u001b[39;00m \u001b[38;5;21;01msympy\u001b[39;00m\u001b[38;5;21;01m.\u001b[39;00m\u001b[38;5;21;01msimplify\u001b[39;00m\u001b[38;5;21;01m.\u001b[39;00m\u001b[38;5;21;01mradsimp\u001b[39;00m \u001b[38;5;28;01mimport\u001b[39;00m collect\n\u001b[1;32m-> 3065\u001b[0m     \u001b[38;5;28;01mreturn\u001b[39;00m \u001b[43mcollect\u001b[49m\u001b[43m(\u001b[49m\u001b[43ms1\u001b[49m\u001b[43m,\u001b[49m\u001b[43m \u001b[49m\u001b[43mx\u001b[49m\u001b[43m)\u001b[49m\u001b[43m \u001b[49m\u001b[38;5;241;43m+\u001b[39;49m\u001b[43m \u001b[49m\u001b[43mo\u001b[49m\n\u001b[0;32m   3066\u001b[0m \u001b[38;5;28;01mexcept\u001b[39;00m \u001b[38;5;167;01mNotImplementedError\u001b[39;00m:\n\u001b[0;32m   3067\u001b[0m     \u001b[38;5;28;01mreturn\u001b[39;00m s1 \u001b[38;5;241m+\u001b[39m o\n",
      "File \u001b[1;32m~\\anaconda3\\lib\\site-packages\\sympy\\core\\decorators.py:236\u001b[0m, in \u001b[0;36m_SympifyWrapper.make_wrapped.<locals>._func\u001b[1;34m(self, other)\u001b[0m\n\u001b[0;32m    234\u001b[0m \u001b[38;5;28;01mif\u001b[39;00m \u001b[38;5;129;01mnot\u001b[39;00m \u001b[38;5;28misinstance\u001b[39m(other, expectedcls):\n\u001b[0;32m    235\u001b[0m     \u001b[38;5;28;01mreturn\u001b[39;00m retval\n\u001b[1;32m--> 236\u001b[0m \u001b[38;5;28;01mreturn\u001b[39;00m \u001b[43mfunc\u001b[49m\u001b[43m(\u001b[49m\u001b[38;5;28;43mself\u001b[39;49m\u001b[43m,\u001b[49m\u001b[43m \u001b[49m\u001b[43mother\u001b[49m\u001b[43m)\u001b[49m\n",
      "File \u001b[1;32m~\\anaconda3\\lib\\site-packages\\sympy\\core\\decorators.py:106\u001b[0m, in \u001b[0;36mcall_highest_priority.<locals>.priority_decorator.<locals>.binary_op_wrapper\u001b[1;34m(self, other)\u001b[0m\n\u001b[0;32m    104\u001b[0m         \u001b[38;5;28;01mif\u001b[39;00m f \u001b[38;5;129;01mis\u001b[39;00m \u001b[38;5;129;01mnot\u001b[39;00m \u001b[38;5;28;01mNone\u001b[39;00m:\n\u001b[0;32m    105\u001b[0m             \u001b[38;5;28;01mreturn\u001b[39;00m f(\u001b[38;5;28mself\u001b[39m)\n\u001b[1;32m--> 106\u001b[0m \u001b[38;5;28;01mreturn\u001b[39;00m \u001b[43mfunc\u001b[49m\u001b[43m(\u001b[49m\u001b[38;5;28;43mself\u001b[39;49m\u001b[43m,\u001b[49m\u001b[43m \u001b[49m\u001b[43mother\u001b[49m\u001b[43m)\u001b[49m\n",
      "File \u001b[1;32m~\\anaconda3\\lib\\site-packages\\sympy\\core\\expr.py:198\u001b[0m, in \u001b[0;36mExpr.__add__\u001b[1;34m(self, other)\u001b[0m\n\u001b[0;32m    195\u001b[0m \u001b[38;5;129m@sympify_return\u001b[39m([(\u001b[38;5;124m'\u001b[39m\u001b[38;5;124mother\u001b[39m\u001b[38;5;124m'\u001b[39m, \u001b[38;5;124m'\u001b[39m\u001b[38;5;124mExpr\u001b[39m\u001b[38;5;124m'\u001b[39m)], \u001b[38;5;28mNotImplemented\u001b[39m)\n\u001b[0;32m    196\u001b[0m \u001b[38;5;129m@call_highest_priority\u001b[39m(\u001b[38;5;124m'\u001b[39m\u001b[38;5;124m__radd__\u001b[39m\u001b[38;5;124m'\u001b[39m)\n\u001b[0;32m    197\u001b[0m \u001b[38;5;28;01mdef\u001b[39;00m \u001b[38;5;21m__add__\u001b[39m(\u001b[38;5;28mself\u001b[39m, other):\n\u001b[1;32m--> 198\u001b[0m     \u001b[38;5;28;01mreturn\u001b[39;00m \u001b[43mAdd\u001b[49m\u001b[43m(\u001b[49m\u001b[38;5;28;43mself\u001b[39;49m\u001b[43m,\u001b[49m\u001b[43m \u001b[49m\u001b[43mother\u001b[49m\u001b[43m)\u001b[49m\n",
      "File \u001b[1;32m~\\anaconda3\\lib\\site-packages\\sympy\\core\\cache.py:70\u001b[0m, in \u001b[0;36m__cacheit.<locals>.func_wrapper.<locals>.wrapper\u001b[1;34m(*args, **kwargs)\u001b[0m\n\u001b[0;32m     67\u001b[0m \u001b[38;5;129m@wraps\u001b[39m(func)\n\u001b[0;32m     68\u001b[0m \u001b[38;5;28;01mdef\u001b[39;00m \u001b[38;5;21mwrapper\u001b[39m(\u001b[38;5;241m*\u001b[39margs, \u001b[38;5;241m*\u001b[39m\u001b[38;5;241m*\u001b[39mkwargs):\n\u001b[0;32m     69\u001b[0m     \u001b[38;5;28;01mtry\u001b[39;00m:\n\u001b[1;32m---> 70\u001b[0m         retval \u001b[38;5;241m=\u001b[39m cfunc(\u001b[38;5;241m*\u001b[39margs, \u001b[38;5;241m*\u001b[39m\u001b[38;5;241m*\u001b[39mkwargs)\n\u001b[0;32m     71\u001b[0m     \u001b[38;5;28;01mexcept\u001b[39;00m \u001b[38;5;167;01mTypeError\u001b[39;00m \u001b[38;5;28;01mas\u001b[39;00m e:\n\u001b[0;32m     72\u001b[0m         \u001b[38;5;28;01mif\u001b[39;00m \u001b[38;5;129;01mnot\u001b[39;00m e\u001b[38;5;241m.\u001b[39margs \u001b[38;5;129;01mor\u001b[39;00m \u001b[38;5;129;01mnot\u001b[39;00m e\u001b[38;5;241m.\u001b[39margs[\u001b[38;5;241m0\u001b[39m]\u001b[38;5;241m.\u001b[39mstartswith(\u001b[38;5;124m'\u001b[39m\u001b[38;5;124munhashable type:\u001b[39m\u001b[38;5;124m'\u001b[39m):\n",
      "File \u001b[1;32m~\\anaconda3\\lib\\site-packages\\sympy\\core\\operations.py:98\u001b[0m, in \u001b[0;36mAssocOp.__new__\u001b[1;34m(cls, evaluate, _sympify, *args)\u001b[0m\n\u001b[0;32m     95\u001b[0m \u001b[38;5;28;01mif\u001b[39;00m \u001b[38;5;28mlen\u001b[39m(args) \u001b[38;5;241m==\u001b[39m \u001b[38;5;241m1\u001b[39m:\n\u001b[0;32m     96\u001b[0m     \u001b[38;5;28;01mreturn\u001b[39;00m args[\u001b[38;5;241m0\u001b[39m]\n\u001b[1;32m---> 98\u001b[0m c_part, nc_part, order_symbols \u001b[38;5;241m=\u001b[39m \u001b[38;5;28;43mcls\u001b[39;49m\u001b[38;5;241;43m.\u001b[39;49m\u001b[43mflatten\u001b[49m\u001b[43m(\u001b[49m\u001b[43margs\u001b[49m\u001b[43m)\u001b[49m\n\u001b[0;32m     99\u001b[0m is_commutative \u001b[38;5;241m=\u001b[39m \u001b[38;5;129;01mnot\u001b[39;00m nc_part\n\u001b[0;32m    100\u001b[0m obj \u001b[38;5;241m=\u001b[39m \u001b[38;5;28mcls\u001b[39m\u001b[38;5;241m.\u001b[39m_from_args(c_part \u001b[38;5;241m+\u001b[39m nc_part, is_commutative)\n",
      "File \u001b[1;32m~\\anaconda3\\lib\\site-packages\\sympy\\core\\add.py:367\u001b[0m, in \u001b[0;36mAdd.flatten\u001b[1;34m(cls, seq)\u001b[0m\n\u001b[0;32m    364\u001b[0m \u001b[38;5;28;01mfor\u001b[39;00m t \u001b[38;5;129;01min\u001b[39;00m newseq:\n\u001b[0;32m    365\u001b[0m     \u001b[38;5;28;01mfor\u001b[39;00m o \u001b[38;5;129;01min\u001b[39;00m order_factors:\n\u001b[0;32m    366\u001b[0m         \u001b[38;5;66;03m# x + O(x) -> O(x)\u001b[39;00m\n\u001b[1;32m--> 367\u001b[0m         \u001b[38;5;28;01mif\u001b[39;00m \u001b[43mo\u001b[49m\u001b[38;5;241;43m.\u001b[39;49m\u001b[43mcontains\u001b[49m\u001b[43m(\u001b[49m\u001b[43mt\u001b[49m\u001b[43m)\u001b[49m:\n\u001b[0;32m    368\u001b[0m             t \u001b[38;5;241m=\u001b[39m \u001b[38;5;28;01mNone\u001b[39;00m\n\u001b[0;32m    369\u001b[0m             \u001b[38;5;28;01mbreak\u001b[39;00m\n",
      "File \u001b[1;32m~\\anaconda3\\lib\\site-packages\\sympy\\core\\cache.py:70\u001b[0m, in \u001b[0;36m__cacheit.<locals>.func_wrapper.<locals>.wrapper\u001b[1;34m(*args, **kwargs)\u001b[0m\n\u001b[0;32m     67\u001b[0m \u001b[38;5;129m@wraps\u001b[39m(func)\n\u001b[0;32m     68\u001b[0m \u001b[38;5;28;01mdef\u001b[39;00m \u001b[38;5;21mwrapper\u001b[39m(\u001b[38;5;241m*\u001b[39margs, \u001b[38;5;241m*\u001b[39m\u001b[38;5;241m*\u001b[39mkwargs):\n\u001b[0;32m     69\u001b[0m     \u001b[38;5;28;01mtry\u001b[39;00m:\n\u001b[1;32m---> 70\u001b[0m         retval \u001b[38;5;241m=\u001b[39m cfunc(\u001b[38;5;241m*\u001b[39margs, \u001b[38;5;241m*\u001b[39m\u001b[38;5;241m*\u001b[39mkwargs)\n\u001b[0;32m     71\u001b[0m     \u001b[38;5;28;01mexcept\u001b[39;00m \u001b[38;5;167;01mTypeError\u001b[39;00m \u001b[38;5;28;01mas\u001b[39;00m e:\n\u001b[0;32m     72\u001b[0m         \u001b[38;5;28;01mif\u001b[39;00m \u001b[38;5;129;01mnot\u001b[39;00m e\u001b[38;5;241m.\u001b[39margs \u001b[38;5;129;01mor\u001b[39;00m \u001b[38;5;129;01mnot\u001b[39;00m e\u001b[38;5;241m.\u001b[39margs[\u001b[38;5;241m0\u001b[39m]\u001b[38;5;241m.\u001b[39mstartswith(\u001b[38;5;124m'\u001b[39m\u001b[38;5;124munhashable type:\u001b[39m\u001b[38;5;124m'\u001b[39m):\n",
      "File \u001b[1;32m~\\anaconda3\\lib\\site-packages\\sympy\\series\\order.py:383\u001b[0m, in \u001b[0;36mOrder.contains\u001b[1;34m(self, expr)\u001b[0m\n\u001b[0;32m    376\u001b[0m \u001b[38;5;250m\u001b[39m\u001b[38;5;124mr\u001b[39m\u001b[38;5;124;03m\"\"\"\u001b[39;00m\n\u001b[0;32m    377\u001b[0m \u001b[38;5;124;03mReturn True if expr belongs to Order(self.expr, \\*self.variables).\u001b[39;00m\n\u001b[0;32m    378\u001b[0m \u001b[38;5;124;03mReturn False if self belongs to expr.\u001b[39;00m\n\u001b[0;32m    379\u001b[0m \u001b[38;5;124;03mReturn None if the inclusion relation cannot be determined\u001b[39;00m\n\u001b[0;32m    380\u001b[0m \u001b[38;5;124;03m(e.g. when self and expr have different symbols).\u001b[39;00m\n\u001b[0;32m    381\u001b[0m \u001b[38;5;124;03m\"\"\"\u001b[39;00m\n\u001b[0;32m    382\u001b[0m expr \u001b[38;5;241m=\u001b[39m sympify(expr)\n\u001b[1;32m--> 383\u001b[0m \u001b[38;5;28;01mif\u001b[39;00m \u001b[43mexpr\u001b[49m\u001b[38;5;241;43m.\u001b[39;49m\u001b[43mis_zero\u001b[49m:\n\u001b[0;32m    384\u001b[0m     \u001b[38;5;28;01mreturn\u001b[39;00m \u001b[38;5;28;01mTrue\u001b[39;00m\n\u001b[0;32m    385\u001b[0m \u001b[38;5;28;01mif\u001b[39;00m expr \u001b[38;5;129;01mis\u001b[39;00m S\u001b[38;5;241m.\u001b[39mNaN:\n",
      "File \u001b[1;32m~\\anaconda3\\lib\\site-packages\\sympy\\core\\assumptions.py:483\u001b[0m, in \u001b[0;36mmake_property.<locals>.getit\u001b[1;34m(self)\u001b[0m\n\u001b[0;32m    481\u001b[0m \u001b[38;5;28;01mif\u001b[39;00m \u001b[38;5;28mself\u001b[39m\u001b[38;5;241m.\u001b[39m_assumptions \u001b[38;5;129;01mis\u001b[39;00m \u001b[38;5;28mself\u001b[39m\u001b[38;5;241m.\u001b[39mdefault_assumptions:\n\u001b[0;32m    482\u001b[0m     \u001b[38;5;28mself\u001b[39m\u001b[38;5;241m.\u001b[39m_assumptions \u001b[38;5;241m=\u001b[39m \u001b[38;5;28mself\u001b[39m\u001b[38;5;241m.\u001b[39mdefault_assumptions\u001b[38;5;241m.\u001b[39mcopy()\n\u001b[1;32m--> 483\u001b[0m \u001b[38;5;28;01mreturn\u001b[39;00m \u001b[43m_ask\u001b[49m\u001b[43m(\u001b[49m\u001b[43mfact\u001b[49m\u001b[43m,\u001b[49m\u001b[43m \u001b[49m\u001b[38;5;28;43mself\u001b[39;49m\u001b[43m)\u001b[49m\n",
      "File \u001b[1;32m~\\anaconda3\\lib\\site-packages\\sympy\\core\\assumptions.py:539\u001b[0m, in \u001b[0;36m_ask\u001b[1;34m(fact, obj)\u001b[0m\n\u001b[0;32m    537\u001b[0m handler_i \u001b[38;5;241m=\u001b[39m handler_map\u001b[38;5;241m.\u001b[39mget(fact_i)\n\u001b[0;32m    538\u001b[0m \u001b[38;5;28;01mif\u001b[39;00m handler_i \u001b[38;5;129;01mis\u001b[39;00m \u001b[38;5;129;01mnot\u001b[39;00m \u001b[38;5;28;01mNone\u001b[39;00m:\n\u001b[1;32m--> 539\u001b[0m     fact_i_value \u001b[38;5;241m=\u001b[39m \u001b[43mhandler_i\u001b[49m\u001b[43m(\u001b[49m\u001b[43mobj\u001b[49m\u001b[43m)\u001b[49m\n\u001b[0;32m    541\u001b[0m \u001b[38;5;66;03m# If we get a new value for fact_i then we should update our knowledge\u001b[39;00m\n\u001b[0;32m    542\u001b[0m \u001b[38;5;66;03m# of fact_i as well as any related facts that can be inferred using the\u001b[39;00m\n\u001b[0;32m    543\u001b[0m \u001b[38;5;66;03m# inference rules connecting the fact_i and any other fact values that\u001b[39;00m\n\u001b[0;32m    544\u001b[0m \u001b[38;5;66;03m# are already known.\u001b[39;00m\n\u001b[0;32m    545\u001b[0m \u001b[38;5;28;01mif\u001b[39;00m fact_i_value \u001b[38;5;129;01mis\u001b[39;00m \u001b[38;5;129;01mnot\u001b[39;00m \u001b[38;5;28;01mNone\u001b[39;00m:\n",
      "File \u001b[1;32m~\\anaconda3\\lib\\site-packages\\sympy\\core\\mul.py:1313\u001b[0m, in \u001b[0;36mMul._eval_is_zero\u001b[1;34m(self)\u001b[0m\n\u001b[0;32m   1311\u001b[0m zero \u001b[38;5;241m=\u001b[39m infinite \u001b[38;5;241m=\u001b[39m \u001b[38;5;28;01mFalse\u001b[39;00m\n\u001b[0;32m   1312\u001b[0m \u001b[38;5;28;01mfor\u001b[39;00m a \u001b[38;5;129;01min\u001b[39;00m \u001b[38;5;28mself\u001b[39m\u001b[38;5;241m.\u001b[39margs:\n\u001b[1;32m-> 1313\u001b[0m     z \u001b[38;5;241m=\u001b[39m \u001b[43ma\u001b[49m\u001b[38;5;241;43m.\u001b[39;49m\u001b[43mis_zero\u001b[49m\n\u001b[0;32m   1314\u001b[0m     \u001b[38;5;28;01mif\u001b[39;00m z:\n\u001b[0;32m   1315\u001b[0m         \u001b[38;5;28;01mif\u001b[39;00m infinite:\n",
      "File \u001b[1;32m~\\anaconda3\\lib\\site-packages\\sympy\\core\\assumptions.py:483\u001b[0m, in \u001b[0;36mmake_property.<locals>.getit\u001b[1;34m(self)\u001b[0m\n\u001b[0;32m    481\u001b[0m \u001b[38;5;28;01mif\u001b[39;00m \u001b[38;5;28mself\u001b[39m\u001b[38;5;241m.\u001b[39m_assumptions \u001b[38;5;129;01mis\u001b[39;00m \u001b[38;5;28mself\u001b[39m\u001b[38;5;241m.\u001b[39mdefault_assumptions:\n\u001b[0;32m    482\u001b[0m     \u001b[38;5;28mself\u001b[39m\u001b[38;5;241m.\u001b[39m_assumptions \u001b[38;5;241m=\u001b[39m \u001b[38;5;28mself\u001b[39m\u001b[38;5;241m.\u001b[39mdefault_assumptions\u001b[38;5;241m.\u001b[39mcopy()\n\u001b[1;32m--> 483\u001b[0m \u001b[38;5;28;01mreturn\u001b[39;00m \u001b[43m_ask\u001b[49m\u001b[43m(\u001b[49m\u001b[43mfact\u001b[49m\u001b[43m,\u001b[49m\u001b[43m \u001b[49m\u001b[38;5;28;43mself\u001b[39;49m\u001b[43m)\u001b[49m\n",
      "File \u001b[1;32m~\\anaconda3\\lib\\site-packages\\sympy\\core\\assumptions.py:539\u001b[0m, in \u001b[0;36m_ask\u001b[1;34m(fact, obj)\u001b[0m\n\u001b[0;32m    537\u001b[0m handler_i \u001b[38;5;241m=\u001b[39m handler_map\u001b[38;5;241m.\u001b[39mget(fact_i)\n\u001b[0;32m    538\u001b[0m \u001b[38;5;28;01mif\u001b[39;00m handler_i \u001b[38;5;129;01mis\u001b[39;00m \u001b[38;5;129;01mnot\u001b[39;00m \u001b[38;5;28;01mNone\u001b[39;00m:\n\u001b[1;32m--> 539\u001b[0m     fact_i_value \u001b[38;5;241m=\u001b[39m \u001b[43mhandler_i\u001b[49m\u001b[43m(\u001b[49m\u001b[43mobj\u001b[49m\u001b[43m)\u001b[49m\n\u001b[0;32m    541\u001b[0m \u001b[38;5;66;03m# If we get a new value for fact_i then we should update our knowledge\u001b[39;00m\n\u001b[0;32m    542\u001b[0m \u001b[38;5;66;03m# of fact_i as well as any related facts that can be inferred using the\u001b[39;00m\n\u001b[0;32m    543\u001b[0m \u001b[38;5;66;03m# inference rules connecting the fact_i and any other fact values that\u001b[39;00m\n\u001b[0;32m    544\u001b[0m \u001b[38;5;66;03m# are already known.\u001b[39;00m\n\u001b[0;32m    545\u001b[0m \u001b[38;5;28;01mif\u001b[39;00m fact_i_value \u001b[38;5;129;01mis\u001b[39;00m \u001b[38;5;129;01mnot\u001b[39;00m \u001b[38;5;28;01mNone\u001b[39;00m:\n",
      "File \u001b[1;32m~\\anaconda3\\lib\\site-packages\\sympy\\core\\add.py:731\u001b[0m, in \u001b[0;36mAdd._eval_is_odd\u001b[1;34m(self)\u001b[0m\n\u001b[0;32m    730\u001b[0m \u001b[38;5;28;01mdef\u001b[39;00m \u001b[38;5;21m_eval_is_odd\u001b[39m(\u001b[38;5;28mself\u001b[39m):\n\u001b[1;32m--> 731\u001b[0m     l \u001b[38;5;241m=\u001b[39m [f \u001b[38;5;28;01mfor\u001b[39;00m f \u001b[38;5;129;01min\u001b[39;00m \u001b[38;5;28mself\u001b[39m\u001b[38;5;241m.\u001b[39margs \u001b[38;5;28;01mif\u001b[39;00m \u001b[38;5;129;01mnot\u001b[39;00m (f\u001b[38;5;241m.\u001b[39mis_even \u001b[38;5;129;01mis\u001b[39;00m \u001b[38;5;28;01mTrue\u001b[39;00m)]\n\u001b[0;32m    732\u001b[0m     \u001b[38;5;28;01mif\u001b[39;00m \u001b[38;5;129;01mnot\u001b[39;00m l:\n\u001b[0;32m    733\u001b[0m         \u001b[38;5;28;01mreturn\u001b[39;00m \u001b[38;5;28;01mFalse\u001b[39;00m\n",
      "File \u001b[1;32m~\\anaconda3\\lib\\site-packages\\sympy\\core\\add.py:731\u001b[0m, in \u001b[0;36m<listcomp>\u001b[1;34m(.0)\u001b[0m\n\u001b[0;32m    730\u001b[0m \u001b[38;5;28;01mdef\u001b[39;00m \u001b[38;5;21m_eval_is_odd\u001b[39m(\u001b[38;5;28mself\u001b[39m):\n\u001b[1;32m--> 731\u001b[0m     l \u001b[38;5;241m=\u001b[39m [f \u001b[38;5;28;01mfor\u001b[39;00m f \u001b[38;5;129;01min\u001b[39;00m \u001b[38;5;28mself\u001b[39m\u001b[38;5;241m.\u001b[39margs \u001b[38;5;28;01mif\u001b[39;00m \u001b[38;5;129;01mnot\u001b[39;00m (\u001b[43mf\u001b[49m\u001b[38;5;241;43m.\u001b[39;49m\u001b[43mis_even\u001b[49m \u001b[38;5;129;01mis\u001b[39;00m \u001b[38;5;28;01mTrue\u001b[39;00m)]\n\u001b[0;32m    732\u001b[0m     \u001b[38;5;28;01mif\u001b[39;00m \u001b[38;5;129;01mnot\u001b[39;00m l:\n\u001b[0;32m    733\u001b[0m         \u001b[38;5;28;01mreturn\u001b[39;00m \u001b[38;5;28;01mFalse\u001b[39;00m\n",
      "File \u001b[1;32m~\\anaconda3\\lib\\site-packages\\sympy\\core\\assumptions.py:483\u001b[0m, in \u001b[0;36mmake_property.<locals>.getit\u001b[1;34m(self)\u001b[0m\n\u001b[0;32m    481\u001b[0m \u001b[38;5;28;01mif\u001b[39;00m \u001b[38;5;28mself\u001b[39m\u001b[38;5;241m.\u001b[39m_assumptions \u001b[38;5;129;01mis\u001b[39;00m \u001b[38;5;28mself\u001b[39m\u001b[38;5;241m.\u001b[39mdefault_assumptions:\n\u001b[0;32m    482\u001b[0m     \u001b[38;5;28mself\u001b[39m\u001b[38;5;241m.\u001b[39m_assumptions \u001b[38;5;241m=\u001b[39m \u001b[38;5;28mself\u001b[39m\u001b[38;5;241m.\u001b[39mdefault_assumptions\u001b[38;5;241m.\u001b[39mcopy()\n\u001b[1;32m--> 483\u001b[0m \u001b[38;5;28;01mreturn\u001b[39;00m \u001b[43m_ask\u001b[49m\u001b[43m(\u001b[49m\u001b[43mfact\u001b[49m\u001b[43m,\u001b[49m\u001b[43m \u001b[49m\u001b[38;5;28;43mself\u001b[39;49m\u001b[43m)\u001b[49m\n",
      "File \u001b[1;32m~\\anaconda3\\lib\\site-packages\\sympy\\core\\assumptions.py:539\u001b[0m, in \u001b[0;36m_ask\u001b[1;34m(fact, obj)\u001b[0m\n\u001b[0;32m    537\u001b[0m handler_i \u001b[38;5;241m=\u001b[39m handler_map\u001b[38;5;241m.\u001b[39mget(fact_i)\n\u001b[0;32m    538\u001b[0m \u001b[38;5;28;01mif\u001b[39;00m handler_i \u001b[38;5;129;01mis\u001b[39;00m \u001b[38;5;129;01mnot\u001b[39;00m \u001b[38;5;28;01mNone\u001b[39;00m:\n\u001b[1;32m--> 539\u001b[0m     fact_i_value \u001b[38;5;241m=\u001b[39m \u001b[43mhandler_i\u001b[49m\u001b[43m(\u001b[49m\u001b[43mobj\u001b[49m\u001b[43m)\u001b[49m\n\u001b[0;32m    541\u001b[0m \u001b[38;5;66;03m# If we get a new value for fact_i then we should update our knowledge\u001b[39;00m\n\u001b[0;32m    542\u001b[0m \u001b[38;5;66;03m# of fact_i as well as any related facts that can be inferred using the\u001b[39;00m\n\u001b[0;32m    543\u001b[0m \u001b[38;5;66;03m# inference rules connecting the fact_i and any other fact values that\u001b[39;00m\n\u001b[0;32m    544\u001b[0m \u001b[38;5;66;03m# are already known.\u001b[39;00m\n\u001b[0;32m    545\u001b[0m \u001b[38;5;28;01mif\u001b[39;00m fact_i_value \u001b[38;5;129;01mis\u001b[39;00m \u001b[38;5;129;01mnot\u001b[39;00m \u001b[38;5;28;01mNone\u001b[39;00m:\n",
      "File \u001b[1;32m~\\anaconda3\\lib\\site-packages\\sympy\\core\\mul.py:1356\u001b[0m, in \u001b[0;36mMul._eval_is_integer\u001b[1;34m(self)\u001b[0m\n\u001b[0;32m   1353\u001b[0m     hit \u001b[38;5;241m=\u001b[39m unknown \u001b[38;5;241m=\u001b[39m \u001b[38;5;28;01mTrue\u001b[39;00m\n\u001b[0;32m   1354\u001b[0m \u001b[38;5;28;01mif\u001b[39;00m e\u001b[38;5;241m.\u001b[39mis_negative:\n\u001b[0;32m   1355\u001b[0m     denominators\u001b[38;5;241m.\u001b[39mappend(\u001b[38;5;241m2\u001b[39m \u001b[38;5;28;01mif\u001b[39;00m a \u001b[38;5;129;01mis\u001b[39;00m S\u001b[38;5;241m.\u001b[39mHalf \u001b[38;5;28;01melse\u001b[39;00m\n\u001b[1;32m-> 1356\u001b[0m         \u001b[43mPow\u001b[49m\u001b[43m(\u001b[49m\u001b[43ma\u001b[49m\u001b[43m,\u001b[49m\u001b[43m \u001b[49m\u001b[43mS\u001b[49m\u001b[38;5;241;43m.\u001b[39;49m\u001b[43mNegativeOne\u001b[49m\u001b[43m)\u001b[49m)\n\u001b[0;32m   1357\u001b[0m \u001b[38;5;28;01melif\u001b[39;00m \u001b[38;5;129;01mnot\u001b[39;00m hit:\n\u001b[0;32m   1358\u001b[0m     \u001b[38;5;66;03m# int b and pos int e: a = b**e is integer\u001b[39;00m\n\u001b[0;32m   1359\u001b[0m     \u001b[38;5;28;01massert\u001b[39;00m \u001b[38;5;129;01mnot\u001b[39;00m e\u001b[38;5;241m.\u001b[39mis_positive\n",
      "File \u001b[1;32m~\\anaconda3\\lib\\site-packages\\sympy\\core\\cache.py:70\u001b[0m, in \u001b[0;36m__cacheit.<locals>.func_wrapper.<locals>.wrapper\u001b[1;34m(*args, **kwargs)\u001b[0m\n\u001b[0;32m     67\u001b[0m \u001b[38;5;129m@wraps\u001b[39m(func)\n\u001b[0;32m     68\u001b[0m \u001b[38;5;28;01mdef\u001b[39;00m \u001b[38;5;21mwrapper\u001b[39m(\u001b[38;5;241m*\u001b[39margs, \u001b[38;5;241m*\u001b[39m\u001b[38;5;241m*\u001b[39mkwargs):\n\u001b[0;32m     69\u001b[0m     \u001b[38;5;28;01mtry\u001b[39;00m:\n\u001b[1;32m---> 70\u001b[0m         retval \u001b[38;5;241m=\u001b[39m cfunc(\u001b[38;5;241m*\u001b[39margs, \u001b[38;5;241m*\u001b[39m\u001b[38;5;241m*\u001b[39mkwargs)\n\u001b[0;32m     71\u001b[0m     \u001b[38;5;28;01mexcept\u001b[39;00m \u001b[38;5;167;01mTypeError\u001b[39;00m \u001b[38;5;28;01mas\u001b[39;00m e:\n\u001b[0;32m     72\u001b[0m         \u001b[38;5;28;01mif\u001b[39;00m \u001b[38;5;129;01mnot\u001b[39;00m e\u001b[38;5;241m.\u001b[39margs \u001b[38;5;129;01mor\u001b[39;00m \u001b[38;5;129;01mnot\u001b[39;00m e\u001b[38;5;241m.\u001b[39margs[\u001b[38;5;241m0\u001b[39m]\u001b[38;5;241m.\u001b[39mstartswith(\u001b[38;5;124m'\u001b[39m\u001b[38;5;124munhashable type:\u001b[39m\u001b[38;5;124m'\u001b[39m):\n",
      "File \u001b[1;32m~\\anaconda3\\lib\\site-packages\\sympy\\core\\basic.py:157\u001b[0m, in \u001b[0;36mBasic.__hash__\u001b[1;34m(self)\u001b[0m\n\u001b[0;32m    153\u001b[0m \u001b[38;5;28;01mdef\u001b[39;00m \u001b[38;5;21m__hash__\u001b[39m(\u001b[38;5;28mself\u001b[39m) \u001b[38;5;241m-\u001b[39m\u001b[38;5;241m>\u001b[39m \u001b[38;5;28mint\u001b[39m:\n\u001b[0;32m    154\u001b[0m     \u001b[38;5;66;03m# hash cannot be cached using cache_it because infinite recurrence\u001b[39;00m\n\u001b[0;32m    155\u001b[0m     \u001b[38;5;66;03m# occurs as hash is needed for setting cache dictionary keys\u001b[39;00m\n\u001b[0;32m    156\u001b[0m     h \u001b[38;5;241m=\u001b[39m \u001b[38;5;28mself\u001b[39m\u001b[38;5;241m.\u001b[39m_mhash\n\u001b[1;32m--> 157\u001b[0m     \u001b[38;5;28;01mif\u001b[39;00m \u001b[43mh\u001b[49m\u001b[43m \u001b[49m\u001b[38;5;129;43;01mis\u001b[39;49;00m\u001b[43m \u001b[49m\u001b[38;5;28;43;01mNone\u001b[39;49;00m:\n\u001b[0;32m    158\u001b[0m         h \u001b[38;5;241m=\u001b[39m \u001b[38;5;28mhash\u001b[39m((\u001b[38;5;28mtype\u001b[39m(\u001b[38;5;28mself\u001b[39m)\u001b[38;5;241m.\u001b[39m\u001b[38;5;18m__name__\u001b[39m,) \u001b[38;5;241m+\u001b[39m \u001b[38;5;28mself\u001b[39m\u001b[38;5;241m.\u001b[39m_hashable_content())\n\u001b[0;32m    159\u001b[0m         \u001b[38;5;28mself\u001b[39m\u001b[38;5;241m.\u001b[39m_mhash \u001b[38;5;241m=\u001b[39m h\n",
      "\u001b[1;31mKeyboardInterrupt\u001b[0m: "
     ]
    }
   ],
   "source": [
    "Z = Symbol('Z', positive=True)\n",
    "X = Symbol('X', positive=True)\n",
    "a = Symbol('a')\n",
    "\n",
    "#Z = sqrt(1 + 4 * Y)\n",
    "Y = (Z**2 - 1) / 4\n",
    "\n",
    "Q = 1 / (1 - X**2 * (1 + 4 * Y))\n",
    "\n",
    "G = - 4 * Y / Z * (- X) * Q - 2 * Y / Z * Q + (1 - 1 / Z) * 2 * Z * X**2 * (1 - X) * Q**2\n",
    "G = X * G + 1 / Z + 1 / Z**3 - 2 / Z**4\n",
    "A = - ((Z - 1) / (2 * Y) + Z - 2) * (4 * Y / Z**3 * X**2 * Q**2 - 6 * Y / Z**5 * Q - 4 * Y / Z**2 * (- X**3) * Q**2 + 4 * Y / Z**4 * (- X) * Q)\n",
    "A += - ((1 + 2 * Y) / Z + Z - 2) * (1 / Z**3 * Q - 1 / Z**2 * (- X) * Q)\n",
    "E = (1 / Z - X) * 4 * Y / Z * X**2 * Q**2 + (X / 2 - 1 / Z) * 4 * Y / Z**3 * Q\n",
    "E += 1 / Z**2 * Q + 1 / Z * (- X) * Q\n",
    "\n",
    "res = G + A + E\n",
    "res2 = 1 / Z * Q + (- X) * Q + ((Z - 1) / (2 * Y) + Z - 2) * 2 * Y / Z**2 * (- X) * Q\n",
    "display(simplify(res - res2))\n",
    "\n",
    "def power_series_expand_recursor(D, X, N):\n",
    "    if len(X) > 0: \n",
    "        for order in D:\n",
    "            D[order] = codict(simplify(series(D[order], x0=0, x=X[0], n=N[0]).removeO()).expand(), X[0])\n",
    "            for key in range(N[0]):\n",
    "                if key not in D[order].keys():\n",
    "                    D[order][key] = 0\n",
    "            D[order] = dict(sorted(D[order].items()))\n",
    "            D[order] = {k: simplify(v) for k, v in D[order].items()}\n",
    "            D[order] = power_series_expand_recursor(D[order], X[1:], N[1:])\n",
    "    return D\n",
    "\n",
    "def power_series_expand(expr, X, N):\n",
    "    return power_series_expand_recursor({\"start\": expr}, X, N)[\"start\"]\n",
    "\n",
    "\n",
    "Y = Symbol('Y', positive=True)\n",
    "\n",
    "expr = - 1 / Z**3 * (2 - 3 / Z + Z) + (1 / Z - 1 / Z**3) * (1 / Z - 1)\n",
    "display(simplify(expr))\n",
    "D = power_series_expand(simplify(expr.subs(Z, sqrt(1 + 4 * Y))), [Y], [10])\n",
    "print([D[j] + GG(0, j) for j in D])\n",
    "print([GG(0, j) for j in D])\n",
    "\n",
    "print(\"---\")\n",
    "\n",
    "D = power_series_expand(simplify(G.subs(Z, sqrt(1 + 4 * Y))), [X, Y], [10, 10])\n",
    "for n in D:\n",
    "    print([D[n][j] - (1 - (1 if n==0 else 0)) * GG(n, j)  for j in D[n]])\n",
    "\n",
    "expr = (1 / Z - X) * 4 * Y / Z * X**2 * Q**2 + (X / 2 - 1 / Z) * 4 * Y / Z**3 * Q\n",
    "expr += 1 / Z**2 * Q + 1 / Z * (- X) * Q\n",
    "D = power_series_expand(simplify(E.subs(Z, sqrt(1 + 4 * Y))), [X, Y], [10, 10])\n",
    "for n in D:\n",
    "    print([D[n][j] - (-1)**n * (j + 1) * DD(n, j) for j in D[n]])\n",
    "\n",
    "expr = ((Z - 1) / (2 * Y) + Z - 2) * (4 * Y / Z**3 * X**2 * Q**2 - 6 * Y / Z**5 * Q - 4 * Y / Z**2 * (- X**3) * Q**2 + 4 * Y / Z**4 * (- X) * Q + 2 * Y / Z**3 * Q)\n",
    "expr += ((1 + 2 * Y) / Z + Z - 2) * (1 / Z**3 * Q - 1 / Z**2 * (- X) * Q)\n",
    "D = power_series_expand(simplify(A.subs(Z, sqrt(1 + 4 * Y))), [X, Y], [10, 10])\n",
    "for n in D:\n",
    "    print([D[n][j] - (j + 1) * EE(n, j-1) for j in D[n]])\n",
    "\n",
    "\n",
    "#display(simplify(res * (X**2 * Z**6 - Z**4)))\n",
    "#display(simplify(res2 * (X**2 * Z**6 - Z**4)))\n",
    "#display(simplify((res - res2) * (X**2 * Z**6 - Z**4)))\n",
    "\n",
    "Y = Symbol('Y', positive=True)\n",
    "\n",
    "expr = simplify(res2.subs(Z, sqrt(1 + 4 * Y)))\n",
    "\n",
    "display(expr)\n",
    "display(series(expr, x0=0, x=X, n=6))\n",
    "display(codict(series(expr, x0=0, x=Y, n=3).removeO(), Y))\n"
   ]
  },
  {
   "cell_type": "code",
   "execution_count": 290,
   "id": "b772843b",
   "metadata": {},
   "outputs": [
    {
     "name": "stdout",
     "output_type": "stream",
     "text": [
      "[1, 0, 2, 8, 30, 112, 420, 1584]\n",
      "[1, 4, 18, 80, 350, 1512, 6468, 27456]\n",
      "[1, 8, 50, 280, 1470, 7392, 36036, 171600]\n",
      "[1, 12, 98, 672, 4158, 24024, 132132, 700128]\n",
      "[1, 16, 162, 1320, 9438, 61776, 379236, 2217072]\n",
      "[1, 20, 242, 2288, 18590, 136136, 923780, 5912192]\n",
      "[1, 24, 338, 3640, 33150, 268736, 1998724, 13907088]\n",
      "[1, 28, 450, 5440, 54910, 488376, 3952228, 29716000]\n",
      "[1, 32, 578, 7752, 85918, 832048, 7280420, 58837680]\n",
      "[1, 36, 722, 10640, 128478, 1345960, 12664260, 109494720]\n",
      "[0, 0, 0, 0, 0, 0, 0, 0]\n",
      "[0, 0, 0, 0, 0, 0, 0, 0]\n",
      "[0, 0, 0, 0, 0, 0, 0, 0]\n",
      "[0, 0, 0, 0, 0, 0, 0, 0]\n",
      "[0, 0, 0, 0, 0, 0, 0, 0]\n",
      "[0, 0, 0, 0, 0, 0, 0, 0]\n",
      "[0, 0, 0, 0, 0, 0, 0, 0]\n",
      "[0, 0, 0, 0, 0, 0, 0, 0]\n",
      "[0, 0, 0, 0, 0, 0, 0, 0]\n",
      "[0, 0, 0, 0, 0, 0, 0, 0]\n"
     ]
    }
   ],
   "source": [
    "for n in range(10):\n",
    "    D = power_series_expand((1 - 2 * Y) / sqrt(1 - 4 * Y)**(2*n+1), [Y], [8])\n",
    "    print([D[j] for j in D])\n",
    "\n",
    "for n in range(10):\n",
    "    D = power_series_expand((1 - 2 * Y) / sqrt(1 - 4 * Y)**(2*n+1), [Y], [8])\n",
    "    print([D[j] + KK(2*(n+j)-1,j) for j in D])"
   ]
  },
  {
   "cell_type": "code",
   "execution_count": 155,
   "id": "bc93b93e",
   "metadata": {},
   "outputs": [
    {
     "data": {
      "text/plain": [
       "{0: {0: 0, 1: 0, 2: 0, 3: 0, 4: 0, 5: 0, 6: 0, 7: 0, 8: 0, 9: 0},\n",
       " 1: {0: 1, 1: 0, 2: 0, 3: 0, 4: 0, 5: 0, 6: 0, 7: 0, 8: 0, 9: 0},\n",
       " 2: {0: 0, 1: 0, 2: 0, 3: 0, 4: 0, 5: 0, 6: 0, 7: 0, 8: 0, 9: 0},\n",
       " 3: {0: 0, 1: 0, 2: 0, 3: 0, 4: 0, 5: 0, 6: 0, 7: 0, 8: 0, 9: 0},\n",
       " 4: {0: 0, 1: 0, 2: 0, 3: 0, 4: 0, 5: 0, 6: 0, 7: 0, 8: 0, 9: 0},\n",
       " 5: {0: 0, 1: 0, 2: 0, 3: 0, 4: 0, 5: 0, 6: 0, 7: 0, 8: 0, 9: 0},\n",
       " 6: {0: 0, 1: 0, 2: 0, 3: 0, 4: 0, 5: 0, 6: 0, 7: 0, 8: 0, 9: 0},\n",
       " 7: {0: 0, 1: 0, 2: 0, 3: 0, 4: 0, 5: 0, 6: 0, 7: 0, 8: 0, 9: 0},\n",
       " 8: {0: 0, 1: 0, 2: 0, 3: 0, 4: 0, 5: 0, 6: 0, 7: 0, 8: 0, 9: 0},\n",
       " 9: {0: 0, 1: 0, 2: 0, 3: 0, 4: 0, 5: 0, 6: 0, 7: 0, 8: 0, 9: 0}}"
      ]
     },
     "metadata": {},
     "output_type": "display_data"
    },
    {
     "name": "stdout",
     "output_type": "stream",
     "text": [
      "[0, 0, 0, 0, 0, 0, 0, 0, 0, 0]\n",
      "[1, 0, 0, 0, 0, 0, 0, 0, 0, 0]\n",
      "[0, 0, 0, 0, 0, 0, 0, 0, 0, 0]\n",
      "[0, 0, 0, 0, 0, 0, 0, 0, 0, 0]\n",
      "[0, 0, 0, 0, 0, 0, 0, 0, 0, 0]\n",
      "[0, 0, 0, 0, 0, 0, 0, 0, 0, 0]\n",
      "[0, 0, 0, 0, 0, 0, 0, 0, 0, 0]\n",
      "[0, 0, 0, 0, 0, 0, 0, 0, 0, 0]\n",
      "[0, 0, 0, 0, 0, 0, 0, 0, 0, 0]\n",
      "[0, 0, 0, 0, 0, 0, 0, 0, 0, 0]\n",
      "--\n",
      "[1, 1/2, -1/8, 1/16, -5/128, 7/256, -21/1024, 33/2048, -429/32768, 715/65536]\n",
      "[1, 1/2, -1/8, 1/16, -5/128, 7/256, -21/1024, 33/2048, -429/32768, 715/65536]\n",
      "[1, 1/2, -1/8, 1/16, -5/128, 7/256, -21/1024, 33/2048, -429/32768, 715/65536]\n",
      "[1, 1/2, -1/8, 1/16, -5/128, 7/256, -21/1024, 33/2048, -429/32768, 715/65536]\n",
      "[1, 1/2, -1/8, 1/16, -5/128, 7/256, -21/1024, 33/2048, -429/32768, 715/65536]\n",
      "[1, 1/2, -1/8, 1/16, -5/128, 7/256, -21/1024, 33/2048, -429/32768, 715/65536]\n",
      "[1, 1/2, -1/8, 1/16, -5/128, 7/256, -21/1024, 33/2048, -429/32768, 715/65536]\n",
      "[1, 1/2, -1/8, 1/16, -5/128, 7/256, -21/1024, 33/2048, -429/32768, 715/65536]\n",
      "[1, 1/2, -1/8, 1/16, -5/128, 7/256, -21/1024, 33/2048, -429/32768, 715/65536]\n",
      "[1, 1/2, -1/8, 1/16, -5/128, 7/256, -21/1024, 33/2048, -429/32768, 715/65536]\n"
     ]
    }
   ],
   "source": [
    "\n",
    "X, Y, Z = symbols('X Y Z')\n",
    "\n",
    "D = power_series_expand(X, [X, Y], [10, 10])\n",
    "display(D)\n",
    "for n in D:\n",
    "    print([D[n][j] for j in D[n]])\n",
    "print(\"--\")\n",
    "\n",
    "for n in D:\n",
    "    print([sum([binomial(Rational(1,2), k) * 4**(k-j) * binomial(Rational(n,2), k-j) for k in range(j+1)]) for j in range(10)])"
   ]
  },
  {
   "cell_type": "code",
   "execution_count": null,
   "id": "8aa69f11",
   "metadata": {},
   "outputs": [],
   "source": []
  }
 ],
 "metadata": {
  "kernelspec": {
   "display_name": "Python 3 (ipykernel)",
   "language": "python",
   "name": "python3"
  },
  "language_info": {
   "codemirror_mode": {
    "name": "ipython",
    "version": 3
   },
   "file_extension": ".py",
   "mimetype": "text/x-python",
   "name": "python",
   "nbconvert_exporter": "python",
   "pygments_lexer": "ipython3",
   "version": "3.10.9"
  }
 },
 "nbformat": 4,
 "nbformat_minor": 5
}
