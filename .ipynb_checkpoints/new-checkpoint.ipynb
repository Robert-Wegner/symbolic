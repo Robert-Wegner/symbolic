{
 "cells": [
  {
   "cell_type": "code",
   "execution_count": 1,
   "id": "63bc356e",
   "metadata": {},
   "outputs": [
    {
     "data": {
      "application/javascript": [
       "IPython.OutputArea.auto_scroll_threshold = 9999;\n"
      ],
      "text/plain": [
       "<IPython.core.display.Javascript object>"
      ]
     },
     "metadata": {},
     "output_type": "display_data"
    }
   ],
   "source": [
    "%%javascript\n",
    "IPython.OutputArea.auto_scroll_threshold = 9999;"
   ]
  },
  {
   "cell_type": "code",
   "execution_count": 2,
   "id": "3e952281",
   "metadata": {},
   "outputs": [
    {
     "name": "stdout",
     "output_type": "stream",
     "text": [
      "env: USE_SYMENGINE=1\n"
     ]
    }
   ],
   "source": [
    "from sympy import *\n",
    "from IPython.display import display\n",
    "import time\n",
    "import pickle\n",
    "import datetime\n",
    "%env USE_SYMENGINE 1\n",
    "\n",
    "epsilon, epsiloninv, u, v, a, theta = symbols('\\\\epsilon, \\\\eta, u, v, a, \\\\theta', real=True)\n",
    "\n",
    "\n",
    "q = symbols('q', real=False)\n",
    "q_conj = symbols('\\\\tilde{q}', real=False)\n",
    "\n",
    "\n",
    "W_plus = Symbol('W_+', real=True)\n",
    "W_minus = Symbol('W_-', real=True)\n",
    "w_plus = Symbol('w_+', real=True)\n",
    "w_minus = Symbol('w_-', real=True)\n",
    "V_sym = Symbol('V')\n",
    "N_sym = Symbol('N')\n",
    "A_sym = Symbol('A')\n",
    "phi_sym = Symbol('\\\\phi')\n",
    "n_sym = Symbol('n')\n",
    "a_sym = Symbol('a')\n",
    "\n",
    "differentiable_symbols = [u, v, a, theta, q, q_conj, w_plus, w_minus, W_plus, W_minus, V_sym, N_sym, A_sym, phi_sym, n_sym, a_sym]\n"
   ]
  },
  {
   "cell_type": "code",
   "execution_count": 3,
   "id": "d541f094",
   "metadata": {},
   "outputs": [],
   "source": [
    "\n",
    "def var_deriv_name(var):\n",
    "    if \"_{x\" in var.name:\n",
    "        return var.name[:-1] + 'x}'\n",
    "    else:\n",
    "        return '(' + var.name + ')_{x}'\n",
    "        #return var.name + '_x'\n",
    "        \n",
    "def get_var_name_from_deriv(sym):\n",
    "    start = sym.name.find('(')\n",
    "    end = sym.name.find(')')\n",
    "    if start != -1 and end != -1:\n",
    "        sym_name = sym.name[start+1:end]\n",
    "        return sym_name\n",
    "        #orders.append(len(sym.name) - 4 - sym.name.find(')_{'))\n",
    "    else:\n",
    "        sym_name = sym.name\n",
    "        return sym_name\n",
    "        #orders.append(0)\n",
    "\n",
    "def get_order_from_deriv(sym):\n",
    "    start = sym.name.find('(')\n",
    "    end = sym.name.find(')')\n",
    "    if start != -1 and end != -1:\n",
    "        sym_name = sym.name[start+1:end]\n",
    "        return len(sym.name) - 4 - sym.name.find(')_{')\n",
    "    else:\n",
    "        return 0\n",
    "        \n",
    "def deriv(poly, append_to_list=True):\n",
    "    res = 0\n",
    "    original = differentiable_symbols.copy()\n",
    "    for sym in original:\n",
    "        deriv_term = Derivative(poly, sym).doit()\n",
    "        if deriv_term != 0:\n",
    "            #print(\"looking at: \", sym)\n",
    "            newName = var_deriv_name(sym)\n",
    "\n",
    "            if newName in [s.name for s in differentiable_symbols]:\n",
    "                dsym = differentiable_symbols[[s.name for s in differentiable_symbols].index(newName)]\n",
    "                #print(\"newName found: \", dsym)\n",
    "            else:\n",
    "                dsym = Symbol(newName, real=True)\n",
    "                if append_to_list:\n",
    "                    print(\"new differentiable symbol: \", dsym)\n",
    "                    differentiable_symbols.append(dsym)\n",
    "                #print(\"newName not found: \", dsym)\n",
    "            #print(\"syms: \", syms)\n",
    "            res += deriv_term * dsym\n",
    "            #print(\"res: \", res)\n",
    "    \n",
    "    return res\n",
    "    \n",
    "\n",
    "def higher_deriv(var, n):\n",
    "    if n > 0:\n",
    "        return deriv(higher_deriv(var, n-1))\n",
    "    else:\n",
    "        return var\n",
    "    \n",
    "def variation(expr, sym):\n",
    "    if not hasattr(expr, 'free_symbols'):\n",
    "        return 0\n",
    "    \n",
    "    res = 0\n",
    "    order = 0\n",
    "\n",
    "    syms = []\n",
    "    orders = []\n",
    "\n",
    "    start = sym.name.find('(')\n",
    "    end = sym.name.find(')')\n",
    "    if start != -1 and end != -1:\n",
    "        sym_name = sym.name[start+1:end]\n",
    "        syms.append(sym)\n",
    "        orders.append(len(sym.name) - 4 - sym.name.find(')_{'))\n",
    "    else:\n",
    "        sym_name = sym.name\n",
    "        syms.append(sym)\n",
    "        orders.append(0)\n",
    "\n",
    "    for s in expr.free_symbols:\n",
    "        start = s.name.find('(')\n",
    "        end = s.name.find(')')\n",
    "        if start != -1 and end != -1 and sym_name == s.name[start+1:end]:\n",
    "            if s.name not in [sym.name for sym in syms]:\n",
    "                syms.append(s)\n",
    "                orders.append(len(s.name) - 4 - s.name.find(')_{'))    \n",
    "    \n",
    "    for (sym, order) in zip(syms, orders):\n",
    "        res += (-1)**order * higher_deriv(Derivative(expr, sym).doit(), order)\n",
    "\n",
    "    return simplify(res)\n",
    "\n",
    "def polynomize(expr):\n",
    "    return simplify(Poly(expr, epsilon, epsiloninv).subs(epsiloninv, 1/epsilon))\n",
    "\n",
    "def depolynomize(poly):\n",
    "    monoms = poly.monoms()\n",
    "    coeffs = poly.coeffs()\n",
    "    \n",
    "    X = 0\n",
    "    for (k, m) in enumerate(monoms):\n",
    "        X += epsilon**m[0] * epsiloninv**m[1] * coeffs[k]\n",
    "            \n",
    "    return X\n",
    "\n",
    "def poly_simplify(expr):\n",
    "    return depolynomize(polynomize(expr))\n",
    "\n",
    "def substituter(expr, var, sub, magnitude=1, scale=1):\n",
    "    if not hasattr(expr, 'subs'):\n",
    "        return expr\n",
    "    for subvar in sub.free_symbols:\n",
    "        if var in differentiable_symbols and subvar not in differentiable_symbols:\n",
    "            print(\"Warning: Substituting differentiable by non-differentiable symbol.\")\n",
    "            #differentiable_symbols.append(subvar)\n",
    "            pass\n",
    "        \n",
    "    original = differentiable_symbols.copy()\n",
    "    expr = expr.subs(var, magnitude * sub)\n",
    "    \n",
    "    cont = True\n",
    "    m = 0\n",
    "    while cont:\n",
    "        #print(\"var\", var, \"sub\", sub)\n",
    "        dvar = deriv(var, append_to_list=False)\n",
    "        m += 1\n",
    "        \n",
    "        if dvar in differentiable_symbols:\n",
    "            dsub = simplify(deriv(sub))\n",
    "            #print(\"new sub variable from\", sub, \"to\", dsub)\n",
    "            expr = simplify(expr.subs(dvar, magnitude * scale**m * dsub))\n",
    "                    \n",
    "            var = dvar\n",
    "            sub = dsub\n",
    "                    \n",
    "            #print(\"substited\", var, \"by\", sub)\n",
    "        else: \n",
    "            cont = False\n",
    "            \n",
    "    if hasattr(expr, 'applyfunc'):\n",
    "        return expr.applyfunc(poly_simplify)\n",
    "    else:\n",
    "        return poly_simplify(expr)\n",
    "    \n",
    "def multi_substituter(expr, data, magnitude=1, scale=1):\n",
    "    for (var, sub) in data:\n",
    "        expr = substituter(expr, var, sub, magnitude=magnitude, scale=scale)\n",
    "    return expr\n",
    "\n",
    "def extract_deriv(expr, k): \n",
    "    expr = simplify(expr).expand()\n",
    "    #print(\"expr =\", expr) \n",
    "    res = 0\n",
    "    if isinstance(expr, Add):\n",
    "        for mon in expr.args:\n",
    "            #print(\"mon =\", mon)\n",
    "            count = 0\n",
    "            if hasattr(mon, \"name\"):\n",
    "                #print(mon.name)\n",
    "                if \"_{x\" in mon.name:\n",
    "                    count += 1\n",
    "                    #print(\"count =\", count)\n",
    "            else:\n",
    "                for fac in mon.args:\n",
    "                    #print(\"fac =\", fac)\n",
    "                    if hasattr(fac, \"name\"):\n",
    "                        #print(fac.name)\n",
    "                        if \"_{x\" in fac.name:\n",
    "                            count += 1\n",
    "                            #print(\"count =\", count)\n",
    "                    elif isinstance(fac, Pow):\n",
    "                        #print(fac.base.name, fac.exp)\n",
    "                        if \"_{x\" in fac.base.name and fac.exp > 0:\n",
    "                            count += fac.exp     \n",
    "                            #print(\"count =\", count)\n",
    "            #print(\"final count =\", count)\n",
    "            if count == k:\n",
    "                res += mon\n",
    "\n",
    "    else:\n",
    "        mon = expr\n",
    "        #print(\"mon =\", mon)\n",
    "        count = 0\n",
    "        if hasattr(mon, \"name\"):\n",
    "            #print(mon.name)\n",
    "            if \"_{x\" in mon.name:\n",
    "                count += 1\n",
    "                #print(\"count =\", count)\n",
    "        elif hasattr(mon, \"args\"):\n",
    "            for fac in mon.args:\n",
    "                #print(\"fac =\", fac)\n",
    "                if hasattr(fac, \"name\"):\n",
    "                    #print(fac.name)\n",
    "                    if \"_{x\" in fac.name:\n",
    "                        count += 1\n",
    "                        #print(\"count =\", count)\n",
    "                elif isinstance(fac, Pow):\n",
    "                    #print(fac.base.name, fac.exp)\n",
    "                    if \"_{x\" in fac.base.name and fac.exp > 0:\n",
    "                        count += fac.exp     \n",
    "                        #print(\"count =\", count)\n",
    "        #print(\"final count =\", count)\n",
    "        if count == k:\n",
    "            res += mon\n",
    "\n",
    "    #print(\"res =\", res)\n",
    "    return res\n",
    "        \n",
    "def extract_deriv_alt(expr, k):\n",
    "    expr = simplify(expr).expand()\n",
    "    #print(\"expr =\", expr) \n",
    "    res = 0\n",
    "    if isinstance(expr, Add):\n",
    "        for mon in expr.args:\n",
    "            presence_deriv_q_conj = False\n",
    "            #print(\"mon =\", mon)\n",
    "            count = 0\n",
    "            if hasattr(mon, \"name\"):\n",
    "                #print(mon.name)\n",
    "                if \"_{x\" in mon.name:\n",
    "                    count += 1\n",
    "                    if get_var_name_from_deriv(mon) == q_conj.name:\n",
    "                        presence_deriv_q_conj = True\n",
    "            else:\n",
    "                for fac in mon.args:\n",
    "                    #print(\"fac =\", fac)\n",
    "                    if hasattr(fac, \"name\"):\n",
    "                        #print(fac.name)\n",
    "                        if \"_{x\" in fac.name:\n",
    "                            count += 1\n",
    "                            if get_var_name_from_deriv(fac) == q_conj.name:\n",
    "                                presence_deriv_q_conj = True\n",
    "                            #print(\"count =\", count)\n",
    "                    elif isinstance(fac, Pow):\n",
    "                        #print(fac.base.name, fac.exp)\n",
    "                        if \"_{x\" in fac.base.name and fac.exp > 0:\n",
    "                            count += fac.exp     \n",
    "                            if get_var_name_from_deriv(fac.base) == q_conj.name:\n",
    "                                presence_deriv_q_conj = True\n",
    "                            #print(\"count =\", count)\n",
    "            #print(\"final count =\", count)\n",
    "            if count == k and presence_deriv_q_conj:\n",
    "                res += mon\n",
    "\n",
    "    else:\n",
    "        presence_deriv_q_conj = False\n",
    "        mon = expr\n",
    "        #print(\"mon =\", mon)\n",
    "        count = 0\n",
    "        if hasattr(mon, \"name\"):\n",
    "            #print(mon.name)\n",
    "            if \"_{x\" in mon.name:\n",
    "                count += 1\n",
    "                if get_var_name_from_deriv(mon) == q_conj.name:\n",
    "                    presence_deriv_q_conj = True\n",
    "                #print(\"count =\", count)\n",
    "        elif hasattr(mon, \"args\"):\n",
    "            for fac in mon.args:\n",
    "                #print(\"fac =\", fac)\n",
    "                if hasattr(fac, \"name\"):\n",
    "                    #print(fac.name)\n",
    "                    if \"_{x\" in fac.name:\n",
    "                        count += 1\n",
    "                        if get_var_name_from_deriv(fac) == q_conj.name:\n",
    "                            presence_deriv_q_conj = True\n",
    "                        #print(\"count =\", count)\n",
    "                elif isinstance(fac, Pow):\n",
    "                    #print(fac.base.name, fac.exp)\n",
    "                    if \"_{x\" in fac.base.name and fac.exp > 0:\n",
    "                        count += fac.exp   \n",
    "                        if get_var_name_from_deriv(fac.base) == q_conj.name:\n",
    "                            presence_deriv_q_conj = True\n",
    "                        #print(\"count =\", count)\n",
    "        #print(\"final count =\", count)\n",
    "        if count == k and presence_deriv_q_conj:\n",
    "            res += mon\n",
    "\n",
    "    #print(\"res =\", res)\n",
    "    return res\n",
    "\n",
    "N = 7"
   ]
  },
  {
   "cell_type": "code",
   "execution_count": null,
   "id": "f969c284",
   "metadata": {},
   "outputs": [],
   "source": [
    "def get_expansion(eqn, x0, var, num):\n",
    "    ser = series(eqn, x0=0, x=var, n=num).removeO()\n",
    "    return [simplify(ser.coeff(var**n) if n > 0 else ser.subs(var, 0)) for n in range(0, num)]\n",
    "\n",
    "delta = Symbol('\\\\delta')\n",
    "\n"
   ]
  },
  {
   "cell_type": "code",
   "execution_count": null,
   "id": "46c9250c",
   "metadata": {},
   "outputs": [],
   "source": [
    "if w_plus not in differentiable_symbols: \n",
    "    differentiable_symbols.append(w_plus) \n",
    "if w_minus not in differentiable_symbols:\n",
    "    differentiable_symbols.append(w_minus) \n",
    "\n",
    "print(differentiable_symbols)\n",
    "\n",
    "a_subs_q = sqrt(q * q_conj)\n",
    "v_subs_q = (deriv(q) / q - deriv(q_conj) / q_conj) / (2 * I)\n",
    "\n",
    "\n",
    "expr = deriv(deriv(w_plus - w_minus))\n",
    "display(expr)\n",
    "expr2 = multi_substituter(expr, [(w_plus, v_subs_q/2 + a_subs_q-1), (w_minus, v_subs_q/2 - a_subs_q+1)])\n",
    "display(simplify(expr2.subs(q_conj, abs(q)**2 / q)))\n",
    "\n",
    "\n",
    "#print(differentiable_symbols)"
   ]
  },
  {
   "cell_type": "code",
   "execution_count": 16,
   "id": "ec297efc",
   "metadata": {},
   "outputs": [
    {
     "name": "stdout",
     "output_type": "stream",
     "text": [
      "n = 0\n"
     ]
    },
    {
     "data": {
      "text/latex": [
       "$\\displaystyle \\sigma_{0} = \\operatorname{Poly}{\\left( \\left(- \\frac{\\sqrt{2} i u}{4} - \\frac{\\sqrt{2} i v}{4}\\right) \\epsilon, \\epsilon, \\frac{1}{\\epsilon}, domain=\\mathtt{\\text{EX}} \\right)}$"
      ],
      "text/plain": [
       "Eq(\\sigma_{0}, Poly((-sqrt(2)*I*u/4 - sqrt(2)*I*v/4)*\\epsilon, \\epsilon, 1/\\epsilon, domain='EX'))"
      ]
     },
     "metadata": {},
     "output_type": "display_data"
    },
    {
     "name": "stdout",
     "output_type": "stream",
     "text": [
      "Warning: Substituting differentiable by non-differentiable symbol.\n",
      "Warning: Substituting differentiable by non-differentiable symbol.\n"
     ]
    },
    {
     "data": {
      "text/latex": [
       "$\\displaystyle \\sigma_{0} = \\operatorname{Poly}{\\left( \\left(- \\frac{\\sqrt{2} i u}{4} - \\frac{\\sqrt{2} i v}{4}\\right) \\epsilon^{3}, \\epsilon, \\frac{1}{\\epsilon}, domain=\\mathtt{\\text{EX}} \\right)}$"
      ],
      "text/plain": [
       "Eq(\\sigma_{0}, Poly((-sqrt(2)*I*u/4 - sqrt(2)*I*v/4)*\\epsilon**3, \\epsilon, 1/\\epsilon, domain='EX'))"
      ]
     },
     "metadata": {},
     "output_type": "display_data"
    },
    {
     "name": "stdout",
     "output_type": "stream",
     "text": [
      "n = 1\n"
     ]
    },
    {
     "data": {
      "text/latex": [
       "$\\displaystyle \\sigma_{1} = \\operatorname{Poly}{\\left( \\left(- \\frac{u^{2}}{8} + \\frac{u v}{4} - \\frac{v^{2}}{8}\\right) \\epsilon^{2} + \\left(- \\frac{\\sqrt{2} i (u)_{x}}{4} + \\frac{\\sqrt{2} i (v)_{x}}{4}\\right) \\epsilon + \\frac{u}{2} - \\frac{v}{2}, \\epsilon, \\frac{1}{\\epsilon}, domain=\\mathtt{\\text{EX}} \\right)}$"
      ],
      "text/plain": [
       "Eq(\\sigma_{1}, Poly((-u**2/8 + u*v/4 - v**2/8)*\\epsilon**2 + (-sqrt(2)*I*(u)_{x}/4 + sqrt(2)*I*(v)_{x}/4)*\\epsilon + u/2 - v/2, \\epsilon, 1/\\epsilon, domain='EX'))"
      ]
     },
     "metadata": {},
     "output_type": "display_data"
    },
    {
     "name": "stdout",
     "output_type": "stream",
     "text": [
      "Warning: Substituting differentiable by non-differentiable symbol.\n",
      "Warning: Substituting differentiable by non-differentiable symbol.\n"
     ]
    },
    {
     "data": {
      "text/latex": [
       "$\\displaystyle \\sigma_{1} = \\operatorname{Poly}{\\left( \\left(- \\frac{u^{2}}{8} + \\frac{u v}{4} - \\frac{v^{2}}{8}\\right) \\epsilon^{6} + \\left(- \\frac{\\sqrt{2} i (u)_{x}}{4} + \\frac{\\sqrt{2} i (v)_{x}}{4}\\right) \\epsilon^{3} + \\left(\\frac{u}{2} - \\frac{v}{2}\\right) \\epsilon^{2}, \\epsilon, \\frac{1}{\\epsilon}, domain=\\mathtt{\\text{EX}} \\right)}$"
      ],
      "text/plain": [
       "Eq(\\sigma_{1}, Poly((-u**2/8 + u*v/4 - v**2/8)*\\epsilon**6 + (-sqrt(2)*I*(u)_{x}/4 + sqrt(2)*I*(v)_{x}/4)*\\epsilon**3 + (u/2 - v/2)*\\epsilon**2, \\epsilon, 1/\\epsilon, domain='EX'))"
      ]
     },
     "metadata": {},
     "output_type": "display_data"
    },
    {
     "name": "stdout",
     "output_type": "stream",
     "text": [
      "n = 2\n"
     ]
    },
    {
     "data": {
      "text/latex": [
       "$\\displaystyle \\sigma_{2} = \\operatorname{Poly}{\\left( \\left(\\frac{\\sqrt{2} i u^{3}}{16} - \\frac{\\sqrt{2} i u^{2} v}{16} - \\frac{\\sqrt{2} i u v^{2}}{16} + \\frac{\\sqrt{2} i v^{3}}{16}\\right) \\epsilon^{3} + \\left(- \\frac{(u)_{x} u}{2} + \\frac{(v)_{x} v}{2}\\right) \\epsilon^{2} + \\left(- \\frac{\\sqrt{2} i (u)_{xx}}{4} + \\frac{\\sqrt{2} i (v)_{xx}}{4} - \\frac{\\sqrt{2} i u^{2}}{4} + \\frac{\\sqrt{2} i v^{2}}{4}\\right) \\epsilon + \\left(\\frac{\\sqrt{2} i u}{4} + \\frac{\\sqrt{2} i v}{4}\\right) \\frac{1}{\\epsilon} + \\frac{(u)_{x}}{2} + \\frac{(v)_{x}}{2}, \\epsilon, \\frac{1}{\\epsilon}, domain=\\mathtt{\\text{EX}} \\right)}$"
      ],
      "text/plain": [
       "Eq(\\sigma_{2}, Poly((sqrt(2)*I*u**3/16 - sqrt(2)*I*u**2*v/16 - sqrt(2)*I*u*v**2/16 + sqrt(2)*I*v**3/16)*\\epsilon**3 + (-(u)_{x}*u/2 + (v)_{x}*v/2)*\\epsilon**2 + (-sqrt(2)*I*(u)_{xx}/4 + sqrt(2)*I*(v)_{xx}/4 - sqrt(2)*I*u**2/4 + sqrt(2)*I*v**2/4)*\\epsilon + (sqrt(2)*I*u/4 + sqrt(2)*I*v/4)*(1/\\epsilon) + (u)_{x}/2 + (v)_{x}/2, \\epsilon, 1/\\epsilon, domain='EX'))"
      ]
     },
     "metadata": {},
     "output_type": "display_data"
    },
    {
     "name": "stdout",
     "output_type": "stream",
     "text": [
      "Warning: Substituting differentiable by non-differentiable symbol.\n",
      "Warning: Substituting differentiable by non-differentiable symbol.\n"
     ]
    },
    {
     "data": {
      "text/latex": [
       "$\\displaystyle \\sigma_{2} = \\operatorname{Poly}{\\left( \\left(\\frac{\\sqrt{2} i u^{3}}{16} - \\frac{\\sqrt{2} i u^{2} v}{16} - \\frac{\\sqrt{2} i u v^{2}}{16} + \\frac{\\sqrt{2} i v^{3}}{16}\\right) \\epsilon^{9} + \\left(- \\frac{(u)_{x} u}{2} + \\frac{(v)_{x} v}{2}\\right) \\epsilon^{6} + \\left(- \\frac{\\sqrt{2} i u^{2}}{4} + \\frac{\\sqrt{2} i v^{2}}{4}\\right) \\epsilon^{5} + \\left(- \\frac{\\sqrt{2} i (u)_{xx}}{4} + \\frac{\\sqrt{2} i (v)_{xx}}{4}\\right) \\epsilon^{3} + \\left(\\frac{(u)_{x}}{2} + \\frac{(v)_{x}}{2}\\right) \\epsilon^{2} + \\left(\\frac{\\sqrt{2} i u}{4} + \\frac{\\sqrt{2} i v}{4}\\right) \\epsilon, \\epsilon, \\frac{1}{\\epsilon}, domain=\\mathtt{\\text{EX}} \\right)}$"
      ],
      "text/plain": [
       "Eq(\\sigma_{2}, Poly((sqrt(2)*I*u**3/16 - sqrt(2)*I*u**2*v/16 - sqrt(2)*I*u*v**2/16 + sqrt(2)*I*v**3/16)*\\epsilon**9 + (-(u)_{x}*u/2 + (v)_{x}*v/2)*\\epsilon**6 + (-sqrt(2)*I*u**2/4 + sqrt(2)*I*v**2/4)*\\epsilon**5 + (-sqrt(2)*I*(u)_{xx}/4 + sqrt(2)*I*(v)_{xx}/4)*\\epsilon**3 + ((u)_{x}/2 + (v)_{x}/2)*\\epsilon**2 + (sqrt(2)*I*u/4 + sqrt(2)*I*v/4)*\\epsilon, \\epsilon, 1/\\epsilon, domain='EX'))"
      ]
     },
     "metadata": {},
     "output_type": "display_data"
    },
    {
     "name": "stdout",
     "output_type": "stream",
     "text": [
      "n = 3\n"
     ]
    },
    {
     "data": {
      "text/latex": [
       "$\\displaystyle \\sigma_{3} = \\operatorname{Poly}{\\left( \\left(\\frac{5 u^{4}}{64} - \\frac{u^{3} v}{16} - \\frac{u^{2} v^{2}}{32} - \\frac{u v^{3}}{16} + \\frac{5 v^{4}}{64}\\right) \\epsilon^{4} + \\left(\\frac{\\sqrt{2} i (u)_{x} u^{2}}{2} - \\frac{\\sqrt{2} i (v)_{x} v^{2}}{2}\\right) \\epsilon^{3} + \\left(- \\frac{3 (u)_{xx} u}{4} - \\frac{(u)_{xx} v}{4} - \\frac{5 (u)_{x}^{2}}{8} - \\frac{(u)_{x} (v)_{x}}{4} + \\frac{(v)_{xx} u}{4} + \\frac{3 (v)_{xx} v}{4} + \\frac{7 (v)_{x}^{2}}{8} - \\frac{3 u^{3}}{8} + \\frac{u^{2} v}{8} - \\frac{u v^{2}}{8} + \\frac{3 v^{3}}{8}\\right) \\epsilon^{2} + \\left(- \\frac{\\sqrt{2} i (u)_{xxx}}{4} - \\sqrt{2} i (u)_{x} u + \\frac{\\sqrt{2} i (v)_{xxx}}{4} - \\sqrt{2} i (v)_{x} v\\right) \\epsilon + \\left(\\frac{\\sqrt{2} i (u)_{x}}{4} - \\frac{\\sqrt{2} i (v)_{x}}{4}\\right) \\frac{1}{\\epsilon} + \\frac{(u)_{xx}}{2} + \\frac{(v)_{xx}}{2} + \\frac{u^{2}}{2} + \\frac{v^{2}}{2}, \\epsilon, \\frac{1}{\\epsilon}, domain=\\mathtt{\\text{EX}} \\right)}$"
      ],
      "text/plain": [
       "Eq(\\sigma_{3}, Poly((5*u**4/64 - u**3*v/16 - u**2*v**2/32 - u*v**3/16 + 5*v**4/64)*\\epsilon**4 + (sqrt(2)*I*(u)_{x}*u**2/2 - sqrt(2)*I*(v)_{x}*v**2/2)*\\epsilon**3 + (-3*(u)_{xx}*u/4 - (u)_{xx}*v/4 - 5*(u)_{x}**2/8 - (u)_{x}*(v)_{x}/4 + (v)_{xx}*u/4 + 3*(v)_{xx}*v/4 + 7*(v)_{x}**2/8 - 3*u**3/8 + u**2*v/8 - u*v**2/8 + 3*v**3/8)*\\epsilon**2 + (-sqrt(2)*I*(u)_{xxx}/4 - sqrt(2)*I*(u)_{x}*u + sqrt(2)*I*(v)_{xxx}/4 - sqrt(2)*I*(v)_{x}*v)*\\epsilon + (sqrt(2)*I*(u)_{x}/4 - sqrt(2)*I*(v)_{x}/4)*(1/\\epsilon) + (u)_{xx}/2 + (v)_{xx}/2 + u**2/2 + v**2/2, \\epsilon, 1/\\epsilon, domain='EX'))"
      ]
     },
     "metadata": {},
     "output_type": "display_data"
    },
    {
     "name": "stdout",
     "output_type": "stream",
     "text": [
      "Warning: Substituting differentiable by non-differentiable symbol.\n",
      "Warning: Substituting differentiable by non-differentiable symbol.\n"
     ]
    },
    {
     "data": {
      "text/latex": [
       "$\\displaystyle \\sigma_{3} = \\operatorname{Poly}{\\left( \\left(\\frac{5 u^{4}}{64} - \\frac{u^{3} v}{16} - \\frac{u^{2} v^{2}}{32} - \\frac{u v^{3}}{16} + \\frac{5 v^{4}}{64}\\right) \\epsilon^{12} + \\left(\\frac{\\sqrt{2} i (u)_{x} u^{2}}{2} - \\frac{\\sqrt{2} i (v)_{x} v^{2}}{2}\\right) \\epsilon^{9} + \\left(- \\frac{3 u^{3}}{8} + \\frac{u^{2} v}{8} - \\frac{u v^{2}}{8} + \\frac{3 v^{3}}{8}\\right) \\epsilon^{8} + \\left(- \\frac{3 (u)_{xx} u}{4} - \\frac{(u)_{xx} v}{4} - \\frac{5 (u)_{x}^{2}}{8} - \\frac{(u)_{x} (v)_{x}}{4} + \\frac{(v)_{xx} u}{4} + \\frac{3 (v)_{xx} v}{4} + \\frac{7 (v)_{x}^{2}}{8}\\right) \\epsilon^{6} + \\left(- \\sqrt{2} i (u)_{x} u - \\sqrt{2} i (v)_{x} v\\right) \\epsilon^{5} + \\left(\\frac{u^{2}}{2} + \\frac{v^{2}}{2}\\right) \\epsilon^{4} + \\left(- \\frac{\\sqrt{2} i (u)_{xxx}}{4} + \\frac{\\sqrt{2} i (v)_{xxx}}{4}\\right) \\epsilon^{3} + \\left(\\frac{(u)_{xx}}{2} + \\frac{(v)_{xx}}{2}\\right) \\epsilon^{2} + \\left(\\frac{\\sqrt{2} i (u)_{x}}{4} - \\frac{\\sqrt{2} i (v)_{x}}{4}\\right) \\epsilon, \\epsilon, \\frac{1}{\\epsilon}, domain=\\mathtt{\\text{EX}} \\right)}$"
      ],
      "text/plain": [
       "Eq(\\sigma_{3}, Poly((5*u**4/64 - u**3*v/16 - u**2*v**2/32 - u*v**3/16 + 5*v**4/64)*\\epsilon**12 + (sqrt(2)*I*(u)_{x}*u**2/2 - sqrt(2)*I*(v)_{x}*v**2/2)*\\epsilon**9 + (-3*u**3/8 + u**2*v/8 - u*v**2/8 + 3*v**3/8)*\\epsilon**8 + (-3*(u)_{xx}*u/4 - (u)_{xx}*v/4 - 5*(u)_{x}**2/8 - (u)_{x}*(v)_{x}/4 + (v)_{xx}*u/4 + 3*(v)_{xx}*v/4 + 7*(v)_{x}**2/8)*\\epsilon**6 + (-sqrt(2)*I*(u)_{x}*u - sqrt(2)*I*(v)_{x}*v)*\\epsilon**5 + (u**2/2 + v**2/2)*\\epsilon**4 + (-sqrt(2)*I*(u)_{xxx}/4 + sqrt(2)*I*(v)_{xxx}/4)*\\epsilon**3 + ((u)_{xx}/2 + (v)_{xx}/2)*\\epsilon**2 + (sqrt(2)*I*(u)_{x}/4 - sqrt(2)*I*(v)_{x}/4)*\\epsilon, \\epsilon, 1/\\epsilon, domain='EX'))"
      ]
     },
     "metadata": {},
     "output_type": "display_data"
    },
    {
     "name": "stdout",
     "output_type": "stream",
     "text": [
      "n = 4\n"
     ]
    },
    {
     "data": {
      "text/latex": [
       "$\\displaystyle \\sigma_{4} = \\operatorname{Poly}{\\left( \\left(- \\frac{7 \\sqrt{2} i u^{5}}{128} + \\frac{5 \\sqrt{2} i u^{4} v}{128} + \\frac{\\sqrt{2} i u^{3} v^{2}}{64} + \\frac{\\sqrt{2} i u^{2} v^{3}}{64} + \\frac{5 \\sqrt{2} i u v^{4}}{128} - \\frac{7 \\sqrt{2} i v^{5}}{128}\\right) \\epsilon^{5} + \\left((u)_{x} u^{3} - (v)_{x} v^{3}\\right) \\epsilon^{4} + \\left(\\frac{15 \\sqrt{2} i (u)_{xx} u^{2}}{16} + \\frac{3 \\sqrt{2} i (u)_{xx} u v}{8} + \\frac{3 \\sqrt{2} i (u)_{xx} v^{2}}{16} + \\frac{25 \\sqrt{2} i (u)_{x}^{2} u}{16} + \\frac{5 \\sqrt{2} i (u)_{x}^{2} v}{16} + \\frac{3 \\sqrt{2} i (u)_{x} (v)_{x} u}{8} + \\frac{3 \\sqrt{2} i (u)_{x} (v)_{x} v}{8} - \\frac{3 \\sqrt{2} i (v)_{xx} u^{2}}{16} - \\frac{3 \\sqrt{2} i (v)_{xx} u v}{8} - \\frac{15 \\sqrt{2} i (v)_{xx} v^{2}}{16} - \\frac{7 \\sqrt{2} i (v)_{x}^{2} u}{16} - \\frac{35 \\sqrt{2} i (v)_{x}^{2} v}{16} + \\frac{5 \\sqrt{2} i u^{4}}{16} - \\frac{\\sqrt{2} i u^{3} v}{8} + \\frac{\\sqrt{2} i u v^{3}}{8} - \\frac{5 \\sqrt{2} i v^{4}}{16}\\right) \\epsilon^{3} + \\left(- (u)_{xxx} u - \\frac{(u)_{xxx} v}{2} - \\frac{9 (u)_{xx} (u)_{x}}{4} - \\frac{3 (u)_{xx} (v)_{x}}{4} + \\frac{(u)_{x} (v)_{xx}}{4} - 3 (u)_{x} u^{2} + \\frac{(v)_{xxx} u}{2} + (v)_{xxx} v + \\frac{11 (v)_{xx} (v)_{x}}{4} - 3 (v)_{x} v^{2}\\right) \\epsilon^{2} + \\left(- \\frac{\\sqrt{2} i (u)_{xxxx}}{4} - \\frac{3 \\sqrt{2} i (u)_{xx} u}{2} - \\frac{5 \\sqrt{2} i (u)_{x}^{2}}{4} + \\frac{\\sqrt{2} i (v)_{xxxx}}{4} - \\frac{3 \\sqrt{2} i (v)_{xx} v}{2} - \\frac{7 \\sqrt{2} i (v)_{x}^{2}}{4} - \\frac{9 \\sqrt{2} i u^{3}}{16} + \\frac{\\sqrt{2} i u^{2} v}{16} + \\frac{\\sqrt{2} i u v^{2}}{16} - \\frac{9 \\sqrt{2} i v^{3}}{16}\\right) \\epsilon + \\left(\\frac{\\sqrt{2} i u}{8} + \\frac{\\sqrt{2} i v}{8}\\right) \\frac{1}{\\epsilon^{3}} + \\left(\\frac{\\sqrt{2} i (u)_{xx}}{4} - \\frac{\\sqrt{2} i (v)_{xx}}{4} + \\frac{\\sqrt{2} i u^{2}}{4} - \\frac{\\sqrt{2} i v^{2}}{4}\\right) \\frac{1}{\\epsilon} + \\frac{(u)_{xxx}}{2} + 2 (u)_{x} u + \\frac{(v)_{xxx}}{2} - 2 (v)_{x} v, \\epsilon, \\frac{1}{\\epsilon}, domain=\\mathtt{\\text{EX}} \\right)}$"
      ],
      "text/plain": [
       "Eq(\\sigma_{4}, Poly((-7*sqrt(2)*I*u**5/128 + 5*sqrt(2)*I*u**4*v/128 + sqrt(2)*I*u**3*v**2/64 + sqrt(2)*I*u**2*v**3/64 + 5*sqrt(2)*I*u*v**4/128 - 7*sqrt(2)*I*v**5/128)*\\epsilon**5 + ((u)_{x}*u**3 - (v)_{x}*v**3)*\\epsilon**4 + (15*sqrt(2)*I*(u)_{xx}*u**2/16 + 3*sqrt(2)*I*(u)_{xx}*u*v/8 + 3*sqrt(2)*I*(u)_{xx}*v**2/16 + 25*sqrt(2)*I*(u)_{x}**2*u/16 + 5*sqrt(2)*I*(u)_{x}**2*v/16 + 3*sqrt(2)*I*(u)_{x}*(v)_{x}*u/8 + 3*sqrt(2)*I*(u)_{x}*(v)_{x}*v/8 - 3*sqrt(2)*I*(v)_{xx}*u**2/16 - 3*sqrt(2)*I*(v)_{xx}*u*v/8 - 15*sqrt(2)*I*(v)_{xx}*v**2/16 - 7*sqrt(2)*I*(v)_{x}**2*u/16 - 35*sqrt(2)*I*(v)_{x}**2*v/16 + 5*sqrt(2)*I*u**4/16 - sqrt(2)*I*u**3*v/8 + sqrt(2)*I*u*v**3/8 - 5*sqrt(2)*I*v**4/16)*\\epsilon**3 + (-(u)_{xxx}*u - (u)_{xxx}*v/2 - 9*(u)_{xx}*(u)_{x}/4 - 3*(u)_{xx}*(v)_{x}/4 + (u)_{x}*(v)_{xx}/4 - 3*(u)_{x}*u**2 + (v)_{xxx}*u/2 + (v)_{xxx}*v + 11*(v)_{xx}*(v)_{x}/4 - 3*(v)_{x}*v**2)*\\epsilon**2 + (-sqrt(2)*I*(u)_{xxxx}/4 - 3*sqrt(2)*I*(u)_{xx}*u/2 - 5*sqrt(2)*I*(u)_{x}**2/4 + sqrt(2)*I*(v)_{xxxx}/4 - 3*sqrt(2)*I*(v)_{xx}*v/2 - 7*sqrt(2)*I*(v)_{x}**2/4 - 9*sqrt(2)*I*u**3/16 + sqrt(2)*I*u**2*v/16 + sqrt(2)*I*u*v**2/16 - 9*sqrt(2)*I*v**3/16)*\\epsilon + (sqrt(2)*I*u/8 + sqrt(2)*I*v/8)*(1/\\epsilon)**3 + (sqrt(2)*I*(u)_{xx}/4 - sqrt(2)*I*(v)_{xx}/4 + sqrt(2)*I*u**2/4 - sqrt(2)*I*v**2/4)*(1/\\epsilon) + (u)_{xxx}/2 + 2*(u)_{x}*u + (v)_{xxx}/2 - 2*(v)_{x}*v, \\epsilon, 1/\\epsilon, domain='EX'))"
      ]
     },
     "metadata": {},
     "output_type": "display_data"
    },
    {
     "name": "stdout",
     "output_type": "stream",
     "text": [
      "Warning: Substituting differentiable by non-differentiable symbol.\n",
      "Warning: Substituting differentiable by non-differentiable symbol.\n"
     ]
    },
    {
     "data": {
      "text/latex": [
       "$\\displaystyle \\sigma_{4} = \\operatorname{Poly}{\\left( \\left(- \\frac{7 \\sqrt{2} i u^{5}}{128} + \\frac{5 \\sqrt{2} i u^{4} v}{128} + \\frac{\\sqrt{2} i u^{3} v^{2}}{64} + \\frac{\\sqrt{2} i u^{2} v^{3}}{64} + \\frac{5 \\sqrt{2} i u v^{4}}{128} - \\frac{7 \\sqrt{2} i v^{5}}{128}\\right) \\epsilon^{15} + \\left((u)_{x} u^{3} - (v)_{x} v^{3}\\right) \\epsilon^{12} + \\left(\\frac{5 \\sqrt{2} i u^{4}}{16} - \\frac{\\sqrt{2} i u^{3} v}{8} + \\frac{\\sqrt{2} i u v^{3}}{8} - \\frac{5 \\sqrt{2} i v^{4}}{16}\\right) \\epsilon^{11} + \\left(\\frac{15 \\sqrt{2} i (u)_{xx} u^{2}}{16} + \\frac{3 \\sqrt{2} i (u)_{xx} u v}{8} + \\frac{3 \\sqrt{2} i (u)_{xx} v^{2}}{16} + \\frac{25 \\sqrt{2} i (u)_{x}^{2} u}{16} + \\frac{5 \\sqrt{2} i (u)_{x}^{2} v}{16} + \\frac{3 \\sqrt{2} i (u)_{x} (v)_{x} u}{8} + \\frac{3 \\sqrt{2} i (u)_{x} (v)_{x} v}{8} - \\frac{3 \\sqrt{2} i (v)_{xx} u^{2}}{16} - \\frac{3 \\sqrt{2} i (v)_{xx} u v}{8} - \\frac{15 \\sqrt{2} i (v)_{xx} v^{2}}{16} - \\frac{7 \\sqrt{2} i (v)_{x}^{2} u}{16} - \\frac{35 \\sqrt{2} i (v)_{x}^{2} v}{16}\\right) \\epsilon^{9} + \\left(- 3 (u)_{x} u^{2} - 3 (v)_{x} v^{2}\\right) \\epsilon^{8} + \\left(- \\frac{9 \\sqrt{2} i u^{3}}{16} + \\frac{\\sqrt{2} i u^{2} v}{16} + \\frac{\\sqrt{2} i u v^{2}}{16} - \\frac{9 \\sqrt{2} i v^{3}}{16}\\right) \\epsilon^{7} + \\left(- (u)_{xxx} u - \\frac{(u)_{xxx} v}{2} - \\frac{9 (u)_{xx} (u)_{x}}{4} - \\frac{3 (u)_{xx} (v)_{x}}{4} + \\frac{(u)_{x} (v)_{xx}}{4} + \\frac{(v)_{xxx} u}{2} + (v)_{xxx} v + \\frac{11 (v)_{xx} (v)_{x}}{4}\\right) \\epsilon^{6} + \\left(- \\frac{3 \\sqrt{2} i (u)_{xx} u}{2} - \\frac{5 \\sqrt{2} i (u)_{x}^{2}}{4} - \\frac{3 \\sqrt{2} i (v)_{xx} v}{2} - \\frac{7 \\sqrt{2} i (v)_{x}^{2}}{4}\\right) \\epsilon^{5} + \\left(2 (u)_{x} u - 2 (v)_{x} v\\right) \\epsilon^{4} + \\left(- \\frac{\\sqrt{2} i (u)_{xxxx}}{4} + \\frac{\\sqrt{2} i (v)_{xxxx}}{4} + \\frac{\\sqrt{2} i u^{2}}{4} - \\frac{\\sqrt{2} i v^{2}}{4}\\right) \\epsilon^{3} + \\left(\\frac{(u)_{xxx}}{2} + \\frac{(v)_{xxx}}{2}\\right) \\epsilon^{2} + \\left(\\frac{\\sqrt{2} i (u)_{xx}}{4} - \\frac{\\sqrt{2} i (v)_{xx}}{4}\\right) \\epsilon + \\left(\\frac{\\sqrt{2} i u}{8} + \\frac{\\sqrt{2} i v}{8}\\right) \\frac{1}{\\epsilon}, \\epsilon, \\frac{1}{\\epsilon}, domain=\\mathtt{\\text{EX}} \\right)}$"
      ],
      "text/plain": [
       "Eq(\\sigma_{4}, Poly((-7*sqrt(2)*I*u**5/128 + 5*sqrt(2)*I*u**4*v/128 + sqrt(2)*I*u**3*v**2/64 + sqrt(2)*I*u**2*v**3/64 + 5*sqrt(2)*I*u*v**4/128 - 7*sqrt(2)*I*v**5/128)*\\epsilon**15 + ((u)_{x}*u**3 - (v)_{x}*v**3)*\\epsilon**12 + (5*sqrt(2)*I*u**4/16 - sqrt(2)*I*u**3*v/8 + sqrt(2)*I*u*v**3/8 - 5*sqrt(2)*I*v**4/16)*\\epsilon**11 + (15*sqrt(2)*I*(u)_{xx}*u**2/16 + 3*sqrt(2)*I*(u)_{xx}*u*v/8 + 3*sqrt(2)*I*(u)_{xx}*v**2/16 + 25*sqrt(2)*I*(u)_{x}**2*u/16 + 5*sqrt(2)*I*(u)_{x}**2*v/16 + 3*sqrt(2)*I*(u)_{x}*(v)_{x}*u/8 + 3*sqrt(2)*I*(u)_{x}*(v)_{x}*v/8 - 3*sqrt(2)*I*(v)_{xx}*u**2/16 - 3*sqrt(2)*I*(v)_{xx}*u*v/8 - 15*sqrt(2)*I*(v)_{xx}*v**2/16 - 7*sqrt(2)*I*(v)_{x}**2*u/16 - 35*sqrt(2)*I*(v)_{x}**2*v/16)*\\epsilon**9 + (-3*(u)_{x}*u**2 - 3*(v)_{x}*v**2)*\\epsilon**8 + (-9*sqrt(2)*I*u**3/16 + sqrt(2)*I*u**2*v/16 + sqrt(2)*I*u*v**2/16 - 9*sqrt(2)*I*v**3/16)*\\epsilon**7 + (-(u)_{xxx}*u - (u)_{xxx}*v/2 - 9*(u)_{xx}*(u)_{x}/4 - 3*(u)_{xx}*(v)_{x}/4 + (u)_{x}*(v)_{xx}/4 + (v)_{xxx}*u/2 + (v)_{xxx}*v + 11*(v)_{xx}*(v)_{x}/4)*\\epsilon**6 + (-3*sqrt(2)*I*(u)_{xx}*u/2 - 5*sqrt(2)*I*(u)_{x}**2/4 - 3*sqrt(2)*I*(v)_{xx}*v/2 - 7*sqrt(2)*I*(v)_{x}**2/4)*\\epsilon**5 + (2*(u)_{x}*u - 2*(v)_{x}*v)*\\epsilon**4 + (-sqrt(2)*I*(u)_{xxxx}/4 + sqrt(2)*I*(v)_{xxxx}/4 + sqrt(2)*I*u**2/4 - sqrt(2)*I*v**2/4)*\\epsilon**3 + ((u)_{xxx}/2 + (v)_{xxx}/2)*\\epsilon**2 + (sqrt(2)*I*(u)_{xx}/4 - sqrt(2)*I*(v)_{xx}/4)*\\epsilon + (sqrt(2)*I*u/8 + sqrt(2)*I*v/8)*(1/\\epsilon), \\epsilon, 1/\\epsilon, domain='EX'))"
      ]
     },
     "metadata": {},
     "output_type": "display_data"
    },
    {
     "name": "stdout",
     "output_type": "stream",
     "text": [
      "n = 5\n"
     ]
    },
    {
     "data": {
      "text/latex": [
       "$\\displaystyle \\sigma_{5} = \\operatorname{Poly}{\\left( \\left(- \\frac{21 u^{6}}{256} + \\frac{7 u^{5} v}{128} + \\frac{5 u^{4} v^{2}}{256} + \\frac{u^{3} v^{3}}{64} + \\frac{5 u^{2} v^{4}}{256} + \\frac{7 u v^{5}}{128} - \\frac{21 v^{6}}{256}\\right) \\epsilon^{6} + \\left(- \\sqrt{2} i (u)_{x} u^{4} + \\sqrt{2} i (v)_{x} v^{4}\\right) \\epsilon^{5} + \\left(\\frac{35 (u)_{xx} u^{3}}{16} + \\frac{15 (u)_{xx} u^{2} v}{16} + \\frac{9 (u)_{xx} u v^{2}}{16} + \\frac{5 (u)_{xx} v^{3}}{16} + \\frac{175 (u)_{x}^{2} u^{2}}{32} + \\frac{25 (u)_{x}^{2} u v}{16} + \\frac{15 (u)_{x}^{2} v^{2}}{32} + \\frac{15 (u)_{x} (v)_{x} u^{2}}{16} + \\frac{9 (u)_{x} (v)_{x} u v}{8} + \\frac{15 (u)_{x} (v)_{x} v^{2}}{16} - \\frac{5 (v)_{xx} u^{3}}{16} - \\frac{9 (v)_{xx} u^{2} v}{16} - \\frac{15 (v)_{xx} u v^{2}}{16} - \\frac{35 (v)_{xx} v^{3}}{16} - \\frac{21 (v)_{x}^{2} u^{2}}{32} - \\frac{35 (v)_{x}^{2} u v}{16} - \\frac{245 (v)_{x}^{2} v^{2}}{32} + \\frac{35 u^{5}}{64} - \\frac{15 u^{4} v}{64} - \\frac{u^{3} v^{2}}{32} + \\frac{u^{2} v^{3}}{32} + \\frac{15 u v^{4}}{64} - \\frac{35 v^{5}}{64}\\right) \\epsilon^{4} + \\left(\\frac{3 \\sqrt{2} i (u)_{xxx} u^{2}}{2} + \\sqrt{2} i (u)_{xxx} u v + \\frac{\\sqrt{2} i (u)_{xxx} v^{2}}{2} + \\frac{27 \\sqrt{2} i (u)_{xx} (u)_{x} u}{4} + \\frac{9 \\sqrt{2} i (u)_{xx} (u)_{x} v}{4} + \\frac{3 \\sqrt{2} i (u)_{xx} (v)_{x} u}{2} + \\frac{3 \\sqrt{2} i (u)_{xx} (v)_{x} v}{2} + \\frac{15 \\sqrt{2} i (u)_{x}^{3}}{8} + \\frac{9 \\sqrt{2} i (u)_{x}^{2} (v)_{x}}{8} - \\frac{\\sqrt{2} i (u)_{x} (v)_{xx} u}{2} - \\frac{\\sqrt{2} i (u)_{x} (v)_{xx} v}{2} - \\frac{3 \\sqrt{2} i (u)_{x} (v)_{x}^{2}}{8} + 4 \\sqrt{2} i (u)_{x} u^{3} - \\frac{\\sqrt{2} i (v)_{xxx} u^{2}}{2} - \\sqrt{2} i (v)_{xxx} u v - \\frac{3 \\sqrt{2} i (v)_{xxx} v^{2}}{2} - \\frac{11 \\sqrt{2} i (v)_{xx} (v)_{x} u}{4} - \\frac{33 \\sqrt{2} i (v)_{xx} (v)_{x} v}{4} - \\frac{21 \\sqrt{2} i (v)_{x}^{3}}{8} + 4 \\sqrt{2} i (v)_{x} v^{3}\\right) \\epsilon^{3} + \\left(- \\frac{5 (u)_{xxxx} u}{4} - \\frac{3 (u)_{xxxx} v}{4} - \\frac{7 (u)_{xxx} (u)_{x}}{2} - \\frac{3 (u)_{xxx} (v)_{x}}{2} - \\frac{19 (u)_{xx}^{2}}{8} - \\frac{(u)_{xx} (v)_{xx}}{4} - \\frac{45 (u)_{xx} u^{2}}{8} - \\frac{3 (u)_{xx} u v}{4} + \\frac{3 (u)_{xx} v^{2}}{8} - \\frac{75 (u)_{x}^{2} u}{8} - \\frac{5 (u)_{x}^{2} v}{8} + (u)_{x} (v)_{xxx} - \\frac{3 (u)_{x} (v)_{x} u}{4} + \\frac{3 (u)_{x} (v)_{x} v}{4} + \\frac{3 (v)_{xxxx} u}{4} + \\frac{5 (v)_{xxxx} v}{4} + 4 (v)_{xxx} (v)_{x} + \\frac{21 (v)_{xx}^{2}}{8} + \\frac{3 (v)_{xx} u^{2}}{8} - \\frac{3 (v)_{xx} u v}{4} - \\frac{45 (v)_{xx} v^{2}}{8} - \\frac{7 (v)_{x}^{2} u}{8} - \\frac{105 (v)_{x}^{2} v}{8} - \\frac{5 u^{4}}{4} + \\frac{u^{3} v}{4} + \\frac{u v^{3}}{4} - \\frac{5 v^{4}}{4}\\right) \\epsilon^{2} + \\left(- \\frac{\\sqrt{2} i (u)_{xxxxx}}{4} - 2 \\sqrt{2} i (u)_{xxx} u - \\frac{9 \\sqrt{2} i (u)_{xx} (u)_{x}}{2} - \\frac{9 \\sqrt{2} i (u)_{x} u^{2}}{2} + \\frac{\\sqrt{2} i (v)_{xxxxx}}{4} - 2 \\sqrt{2} i (v)_{xxx} v - \\frac{11 \\sqrt{2} i (v)_{xx} (v)_{x}}{2} + \\frac{9 \\sqrt{2} i (v)_{x} v^{2}}{2}\\right) \\epsilon + \\left(\\frac{\\sqrt{2} i (u)_{x}}{8} - \\frac{\\sqrt{2} i (v)_{x}}{8}\\right) \\frac{1}{\\epsilon^{3}} + \\left(\\frac{\\sqrt{2} i (u)_{xxx}}{4} + \\sqrt{2} i (u)_{x} u - \\frac{\\sqrt{2} i (v)_{xxx}}{4} + \\sqrt{2} i (v)_{x} v\\right) \\frac{1}{\\epsilon} + \\frac{(u)_{xxxx}}{2} + 3 (u)_{xx} u + \\frac{5 (u)_{x}^{2}}{2} + \\frac{(v)_{xxxx}}{2} - 3 (v)_{xx} v - \\frac{7 (v)_{x}^{2}}{2} + u^{3} - v^{3}, \\epsilon, \\frac{1}{\\epsilon}, domain=\\mathtt{\\text{EX}} \\right)}$"
      ],
      "text/plain": [
       "Eq(\\sigma_{5}, Poly((-21*u**6/256 + 7*u**5*v/128 + 5*u**4*v**2/256 + u**3*v**3/64 + 5*u**2*v**4/256 + 7*u*v**5/128 - 21*v**6/256)*\\epsilon**6 + (-sqrt(2)*I*(u)_{x}*u**4 + sqrt(2)*I*(v)_{x}*v**4)*\\epsilon**5 + (35*(u)_{xx}*u**3/16 + 15*(u)_{xx}*u**2*v/16 + 9*(u)_{xx}*u*v**2/16 + 5*(u)_{xx}*v**3/16 + 175*(u)_{x}**2*u**2/32 + 25*(u)_{x}**2*u*v/16 + 15*(u)_{x}**2*v**2/32 + 15*(u)_{x}*(v)_{x}*u**2/16 + 9*(u)_{x}*(v)_{x}*u*v/8 + 15*(u)_{x}*(v)_{x}*v**2/16 - 5*(v)_{xx}*u**3/16 - 9*(v)_{xx}*u**2*v/16 - 15*(v)_{xx}*u*v**2/16 - 35*(v)_{xx}*v**3/16 - 21*(v)_{x}**2*u**2/32 - 35*(v)_{x}**2*u*v/16 - 245*(v)_{x}**2*v**2/32 + 35*u**5/64 - 15*u**4*v/64 - u**3*v**2/32 + u**2*v**3/32 + 15*u*v**4/64 - 35*v**5/64)*\\epsilon**4 + (3*sqrt(2)*I*(u)_{xxx}*u**2/2 + sqrt(2)*I*(u)_{xxx}*u*v + sqrt(2)*I*(u)_{xxx}*v**2/2 + 27*sqrt(2)*I*(u)_{xx}*(u)_{x}*u/4 + 9*sqrt(2)*I*(u)_{xx}*(u)_{x}*v/4 + 3*sqrt(2)*I*(u)_{xx}*(v)_{x}*u/2 + 3*sqrt(2)*I*(u)_{xx}*(v)_{x}*v/2 + 15*sqrt(2)*I*(u)_{x}**3/8 + 9*sqrt(2)*I*(u)_{x}**2*(v)_{x}/8 - sqrt(2)*I*(u)_{x}*(v)_{xx}*u/2 - sqrt(2)*I*(u)_{x}*(v)_{xx}*v/2 - 3*sqrt(2)*I*(u)_{x}*(v)_{x}**2/8 + 4*sqrt(2)*I*(u)_{x}*u**3 - sqrt(2)*I*(v)_{xxx}*u**2/2 - sqrt(2)*I*(v)_{xxx}*u*v - 3*sqrt(2)*I*(v)_{xxx}*v**2/2 - 11*sqrt(2)*I*(v)_{xx}*(v)_{x}*u/4 - 33*sqrt(2)*I*(v)_{xx}*(v)_{x}*v/4 - 21*sqrt(2)*I*(v)_{x}**3/8 + 4*sqrt(2)*I*(v)_{x}*v**3)*\\epsilon**3 + (-5*(u)_{xxxx}*u/4 - 3*(u)_{xxxx}*v/4 - 7*(u)_{xxx}*(u)_{x}/2 - 3*(u)_{xxx}*(v)_{x}/2 - 19*(u)_{xx}**2/8 - (u)_{xx}*(v)_{xx}/4 - 45*(u)_{xx}*u**2/8 - 3*(u)_{xx}*u*v/4 + 3*(u)_{xx}*v**2/8 - 75*(u)_{x}**2*u/8 - 5*(u)_{x}**2*v/8 + (u)_{x}*(v)_{xxx} - 3*(u)_{x}*(v)_{x}*u/4 + 3*(u)_{x}*(v)_{x}*v/4 + 3*(v)_{xxxx}*u/4 + 5*(v)_{xxxx}*v/4 + 4*(v)_{xxx}*(v)_{x} + 21*(v)_{xx}**2/8 + 3*(v)_{xx}*u**2/8 - 3*(v)_{xx}*u*v/4 - 45*(v)_{xx}*v**2/8 - 7*(v)_{x}**2*u/8 - 105*(v)_{x}**2*v/8 - 5*u**4/4 + u**3*v/4 + u*v**3/4 - 5*v**4/4)*\\epsilon**2 + (-sqrt(2)*I*(u)_{xxxxx}/4 - 2*sqrt(2)*I*(u)_{xxx}*u - 9*sqrt(2)*I*(u)_{xx}*(u)_{x}/2 - 9*sqrt(2)*I*(u)_{x}*u**2/2 + sqrt(2)*I*(v)_{xxxxx}/4 - 2*sqrt(2)*I*(v)_{xxx}*v - 11*sqrt(2)*I*(v)_{xx}*(v)_{x}/2 + 9*sqrt(2)*I*(v)_{x}*v**2/2)*\\epsilon + (sqrt(2)*I*(u)_{x}/8 - sqrt(2)*I*(v)_{x}/8)*(1/\\epsilon)**3 + (sqrt(2)*I*(u)_{xxx}/4 + sqrt(2)*I*(u)_{x}*u - sqrt(2)*I*(v)_{xxx}/4 + sqrt(2)*I*(v)_{x}*v)*(1/\\epsilon) + (u)_{xxxx}/2 + 3*(u)_{xx}*u + 5*(u)_{x}**2/2 + (v)_{xxxx}/2 - 3*(v)_{xx}*v - 7*(v)_{x}**2/2 + u**3 - v**3, \\epsilon, 1/\\epsilon, domain='EX'))"
      ]
     },
     "metadata": {},
     "output_type": "display_data"
    },
    {
     "name": "stdout",
     "output_type": "stream",
     "text": [
      "Warning: Substituting differentiable by non-differentiable symbol.\n",
      "Warning: Substituting differentiable by non-differentiable symbol.\n"
     ]
    },
    {
     "data": {
      "text/latex": [
       "$\\displaystyle \\sigma_{5} = \\operatorname{Poly}{\\left( \\left(- \\frac{21 u^{6}}{256} + \\frac{7 u^{5} v}{128} + \\frac{5 u^{4} v^{2}}{256} + \\frac{u^{3} v^{3}}{64} + \\frac{5 u^{2} v^{4}}{256} + \\frac{7 u v^{5}}{128} - \\frac{21 v^{6}}{256}\\right) \\epsilon^{18} + \\left(- \\sqrt{2} i (u)_{x} u^{4} + \\sqrt{2} i (v)_{x} v^{4}\\right) \\epsilon^{15} + \\left(\\frac{35 u^{5}}{64} - \\frac{15 u^{4} v}{64} - \\frac{u^{3} v^{2}}{32} + \\frac{u^{2} v^{3}}{32} + \\frac{15 u v^{4}}{64} - \\frac{35 v^{5}}{64}\\right) \\epsilon^{14} + \\left(\\frac{35 (u)_{xx} u^{3}}{16} + \\frac{15 (u)_{xx} u^{2} v}{16} + \\frac{9 (u)_{xx} u v^{2}}{16} + \\frac{5 (u)_{xx} v^{3}}{16} + \\frac{175 (u)_{x}^{2} u^{2}}{32} + \\frac{25 (u)_{x}^{2} u v}{16} + \\frac{15 (u)_{x}^{2} v^{2}}{32} + \\frac{15 (u)_{x} (v)_{x} u^{2}}{16} + \\frac{9 (u)_{x} (v)_{x} u v}{8} + \\frac{15 (u)_{x} (v)_{x} v^{2}}{16} - \\frac{5 (v)_{xx} u^{3}}{16} - \\frac{9 (v)_{xx} u^{2} v}{16} - \\frac{15 (v)_{xx} u v^{2}}{16} - \\frac{35 (v)_{xx} v^{3}}{16} - \\frac{21 (v)_{x}^{2} u^{2}}{32} - \\frac{35 (v)_{x}^{2} u v}{16} - \\frac{245 (v)_{x}^{2} v^{2}}{32}\\right) \\epsilon^{12} + \\left(4 \\sqrt{2} i (u)_{x} u^{3} + 4 \\sqrt{2} i (v)_{x} v^{3}\\right) \\epsilon^{11} + \\left(- \\frac{5 u^{4}}{4} + \\frac{u^{3} v}{4} + \\frac{u v^{3}}{4} - \\frac{5 v^{4}}{4}\\right) \\epsilon^{10} + \\left(\\frac{3 \\sqrt{2} i (u)_{xxx} u^{2}}{2} + \\sqrt{2} i (u)_{xxx} u v + \\frac{\\sqrt{2} i (u)_{xxx} v^{2}}{2} + \\frac{27 \\sqrt{2} i (u)_{xx} (u)_{x} u}{4} + \\frac{9 \\sqrt{2} i (u)_{xx} (u)_{x} v}{4} + \\frac{3 \\sqrt{2} i (u)_{xx} (v)_{x} u}{2} + \\frac{3 \\sqrt{2} i (u)_{xx} (v)_{x} v}{2} + \\frac{15 \\sqrt{2} i (u)_{x}^{3}}{8} + \\frac{9 \\sqrt{2} i (u)_{x}^{2} (v)_{x}}{8} - \\frac{\\sqrt{2} i (u)_{x} (v)_{xx} u}{2} - \\frac{\\sqrt{2} i (u)_{x} (v)_{xx} v}{2} - \\frac{3 \\sqrt{2} i (u)_{x} (v)_{x}^{2}}{8} - \\frac{\\sqrt{2} i (v)_{xxx} u^{2}}{2} - \\sqrt{2} i (v)_{xxx} u v - \\frac{3 \\sqrt{2} i (v)_{xxx} v^{2}}{2} - \\frac{11 \\sqrt{2} i (v)_{xx} (v)_{x} u}{4} - \\frac{33 \\sqrt{2} i (v)_{xx} (v)_{x} v}{4} - \\frac{21 \\sqrt{2} i (v)_{x}^{3}}{8}\\right) \\epsilon^{9} + \\left(- \\frac{45 (u)_{xx} u^{2}}{8} - \\frac{3 (u)_{xx} u v}{4} + \\frac{3 (u)_{xx} v^{2}}{8} - \\frac{75 (u)_{x}^{2} u}{8} - \\frac{5 (u)_{x}^{2} v}{8} - \\frac{3 (u)_{x} (v)_{x} u}{4} + \\frac{3 (u)_{x} (v)_{x} v}{4} + \\frac{3 (v)_{xx} u^{2}}{8} - \\frac{3 (v)_{xx} u v}{4} - \\frac{45 (v)_{xx} v^{2}}{8} - \\frac{7 (v)_{x}^{2} u}{8} - \\frac{105 (v)_{x}^{2} v}{8}\\right) \\epsilon^{8} + \\left(- \\frac{9 \\sqrt{2} i (u)_{x} u^{2}}{2} + \\frac{9 \\sqrt{2} i (v)_{x} v^{2}}{2}\\right) \\epsilon^{7} + \\left(- \\frac{5 (u)_{xxxx} u}{4} - \\frac{3 (u)_{xxxx} v}{4} - \\frac{7 (u)_{xxx} (u)_{x}}{2} - \\frac{3 (u)_{xxx} (v)_{x}}{2} - \\frac{19 (u)_{xx}^{2}}{8} - \\frac{(u)_{xx} (v)_{xx}}{4} + (u)_{x} (v)_{xxx} + \\frac{3 (v)_{xxxx} u}{4} + \\frac{5 (v)_{xxxx} v}{4} + 4 (v)_{xxx} (v)_{x} + \\frac{21 (v)_{xx}^{2}}{8} + u^{3} - v^{3}\\right) \\epsilon^{6} + \\left(- 2 \\sqrt{2} i (u)_{xxx} u - \\frac{9 \\sqrt{2} i (u)_{xx} (u)_{x}}{2} - 2 \\sqrt{2} i (v)_{xxx} v - \\frac{11 \\sqrt{2} i (v)_{xx} (v)_{x}}{2}\\right) \\epsilon^{5} + \\left(3 (u)_{xx} u + \\frac{5 (u)_{x}^{2}}{2} - 3 (v)_{xx} v - \\frac{7 (v)_{x}^{2}}{2}\\right) \\epsilon^{4} + \\left(- \\frac{\\sqrt{2} i (u)_{xxxxx}}{4} + \\sqrt{2} i (u)_{x} u + \\frac{\\sqrt{2} i (v)_{xxxxx}}{4} + \\sqrt{2} i (v)_{x} v\\right) \\epsilon^{3} + \\left(\\frac{(u)_{xxxx}}{2} + \\frac{(v)_{xxxx}}{2}\\right) \\epsilon^{2} + \\left(\\frac{\\sqrt{2} i (u)_{xxx}}{4} - \\frac{\\sqrt{2} i (v)_{xxx}}{4}\\right) \\epsilon + \\left(\\frac{\\sqrt{2} i (u)_{x}}{8} - \\frac{\\sqrt{2} i (v)_{x}}{8}\\right) \\frac{1}{\\epsilon}, \\epsilon, \\frac{1}{\\epsilon}, domain=\\mathtt{\\text{EX}} \\right)}$"
      ],
      "text/plain": [
       "Eq(\\sigma_{5}, Poly((-21*u**6/256 + 7*u**5*v/128 + 5*u**4*v**2/256 + u**3*v**3/64 + 5*u**2*v**4/256 + 7*u*v**5/128 - 21*v**6/256)*\\epsilon**18 + (-sqrt(2)*I*(u)_{x}*u**4 + sqrt(2)*I*(v)_{x}*v**4)*\\epsilon**15 + (35*u**5/64 - 15*u**4*v/64 - u**3*v**2/32 + u**2*v**3/32 + 15*u*v**4/64 - 35*v**5/64)*\\epsilon**14 + (35*(u)_{xx}*u**3/16 + 15*(u)_{xx}*u**2*v/16 + 9*(u)_{xx}*u*v**2/16 + 5*(u)_{xx}*v**3/16 + 175*(u)_{x}**2*u**2/32 + 25*(u)_{x}**2*u*v/16 + 15*(u)_{x}**2*v**2/32 + 15*(u)_{x}*(v)_{x}*u**2/16 + 9*(u)_{x}*(v)_{x}*u*v/8 + 15*(u)_{x}*(v)_{x}*v**2/16 - 5*(v)_{xx}*u**3/16 - 9*(v)_{xx}*u**2*v/16 - 15*(v)_{xx}*u*v**2/16 - 35*(v)_{xx}*v**3/16 - 21*(v)_{x}**2*u**2/32 - 35*(v)_{x}**2*u*v/16 - 245*(v)_{x}**2*v**2/32)*\\epsilon**12 + (4*sqrt(2)*I*(u)_{x}*u**3 + 4*sqrt(2)*I*(v)_{x}*v**3)*\\epsilon**11 + (-5*u**4/4 + u**3*v/4 + u*v**3/4 - 5*v**4/4)*\\epsilon**10 + (3*sqrt(2)*I*(u)_{xxx}*u**2/2 + sqrt(2)*I*(u)_{xxx}*u*v + sqrt(2)*I*(u)_{xxx}*v**2/2 + 27*sqrt(2)*I*(u)_{xx}*(u)_{x}*u/4 + 9*sqrt(2)*I*(u)_{xx}*(u)_{x}*v/4 + 3*sqrt(2)*I*(u)_{xx}*(v)_{x}*u/2 + 3*sqrt(2)*I*(u)_{xx}*(v)_{x}*v/2 + 15*sqrt(2)*I*(u)_{x}**3/8 + 9*sqrt(2)*I*(u)_{x}**2*(v)_{x}/8 - sqrt(2)*I*(u)_{x}*(v)_{xx}*u/2 - sqrt(2)*I*(u)_{x}*(v)_{xx}*v/2 - 3*sqrt(2)*I*(u)_{x}*(v)_{x}**2/8 - sqrt(2)*I*(v)_{xxx}*u**2/2 - sqrt(2)*I*(v)_{xxx}*u*v - 3*sqrt(2)*I*(v)_{xxx}*v**2/2 - 11*sqrt(2)*I*(v)_{xx}*(v)_{x}*u/4 - 33*sqrt(2)*I*(v)_{xx}*(v)_{x}*v/4 - 21*sqrt(2)*I*(v)_{x}**3/8)*\\epsilon**9 + (-45*(u)_{xx}*u**2/8 - 3*(u)_{xx}*u*v/4 + 3*(u)_{xx}*v**2/8 - 75*(u)_{x}**2*u/8 - 5*(u)_{x}**2*v/8 - 3*(u)_{x}*(v)_{x}*u/4 + 3*(u)_{x}*(v)_{x}*v/4 + 3*(v)_{xx}*u**2/8 - 3*(v)_{xx}*u*v/4 - 45*(v)_{xx}*v**2/8 - 7*(v)_{x}**2*u/8 - 105*(v)_{x}**2*v/8)*\\epsilon**8 + (-9*sqrt(2)*I*(u)_{x}*u**2/2 + 9*sqrt(2)*I*(v)_{x}*v**2/2)*\\epsilon**7 + (-5*(u)_{xxxx}*u/4 - 3*(u)_{xxxx}*v/4 - 7*(u)_{xxx}*(u)_{x}/2 - 3*(u)_{xxx}*(v)_{x}/2 - 19*(u)_{xx}**2/8 - (u)_{xx}*(v)_{xx}/4 + (u)_{x}*(v)_{xxx} + 3*(v)_{xxxx}*u/4 + 5*(v)_{xxxx}*v/4 + 4*(v)_{xxx}*(v)_{x} + 21*(v)_{xx}**2/8 + u**3 - v**3)*\\epsilon**6 + (-2*sqrt(2)*I*(u)_{xxx}*u - 9*sqrt(2)*I*(u)_{xx}*(u)_{x}/2 - 2*sqrt(2)*I*(v)_{xxx}*v - 11*sqrt(2)*I*(v)_{xx}*(v)_{x}/2)*\\epsilon**5 + (3*(u)_{xx}*u + 5*(u)_{x}**2/2 - 3*(v)_{xx}*v - 7*(v)_{x}**2/2)*\\epsilon**4 + (-sqrt(2)*I*(u)_{xxxxx}/4 + sqrt(2)*I*(u)_{x}*u + sqrt(2)*I*(v)_{xxxxx}/4 + sqrt(2)*I*(v)_{x}*v)*\\epsilon**3 + ((u)_{xxxx}/2 + (v)_{xxxx}/2)*\\epsilon**2 + (sqrt(2)*I*(u)_{xxx}/4 - sqrt(2)*I*(v)_{xxx}/4)*\\epsilon + (sqrt(2)*I*(u)_{x}/8 - sqrt(2)*I*(v)_{x}/8)*(1/\\epsilon), \\epsilon, 1/\\epsilon, domain='EX'))"
      ]
     },
     "metadata": {},
     "output_type": "display_data"
    },
    {
     "name": "stdout",
     "output_type": "stream",
     "text": [
      "n = 6\n"
     ]
    },
    {
     "data": {
      "text/latex": [
       "$\\displaystyle \\sigma_{6} = \\operatorname{Poly}{\\left( \\left(\\frac{33 \\sqrt{2} i u^{7}}{512} - \\frac{21 \\sqrt{2} i u^{6} v}{512} - \\frac{7 \\sqrt{2} i u^{5} v^{2}}{512} - \\frac{5 \\sqrt{2} i u^{4} v^{3}}{512} - \\frac{5 \\sqrt{2} i u^{3} v^{4}}{512} - \\frac{7 \\sqrt{2} i u^{2} v^{5}}{512} - \\frac{21 \\sqrt{2} i u v^{6}}{512} + \\frac{33 \\sqrt{2} i v^{7}}{512}\\right) \\epsilon^{7} + \\left(- 2 (u)_{x} u^{5} + 2 (v)_{x} v^{5}\\right) \\epsilon^{6} + \\left(- \\frac{315 \\sqrt{2} i (u)_{xx} u^{4}}{128} - \\frac{35 \\sqrt{2} i (u)_{xx} u^{3} v}{32} - \\frac{45 \\sqrt{2} i (u)_{xx} u^{2} v^{2}}{64} - \\frac{15 \\sqrt{2} i (u)_{xx} u v^{3}}{32} - \\frac{35 \\sqrt{2} i (u)_{xx} v^{4}}{128} - \\frac{525 \\sqrt{2} i (u)_{x}^{2} u^{3}}{64} - \\frac{175 \\sqrt{2} i (u)_{x}^{2} u^{2} v}{64} - \\frac{75 \\sqrt{2} i (u)_{x}^{2} u v^{2}}{64} - \\frac{25 \\sqrt{2} i (u)_{x}^{2} v^{3}}{64} - \\frac{35 \\sqrt{2} i (u)_{x} (v)_{x} u^{3}}{32} - \\frac{45 \\sqrt{2} i (u)_{x} (v)_{x} u^{2} v}{32} - \\frac{45 \\sqrt{2} i (u)_{x} (v)_{x} u v^{2}}{32} - \\frac{35 \\sqrt{2} i (u)_{x} (v)_{x} v^{3}}{32} + \\frac{35 \\sqrt{2} i (v)_{xx} u^{4}}{128} + \\frac{15 \\sqrt{2} i (v)_{xx} u^{3} v}{32} + \\frac{45 \\sqrt{2} i (v)_{xx} u^{2} v^{2}}{64} + \\frac{35 \\sqrt{2} i (v)_{xx} u v^{3}}{32} + \\frac{315 \\sqrt{2} i (v)_{xx} v^{4}}{128} + \\frac{35 \\sqrt{2} i (v)_{x}^{2} u^{3}}{64} + \\frac{105 \\sqrt{2} i (v)_{x}^{2} u^{2} v}{64} + \\frac{245 \\sqrt{2} i (v)_{x}^{2} u v^{2}}{64} + \\frac{735 \\sqrt{2} i (v)_{x}^{2} v^{3}}{64} - \\frac{63 \\sqrt{2} i u^{6}}{128} + \\frac{7 \\sqrt{2} i u^{5} v}{32} + \\frac{5 \\sqrt{2} i u^{4} v^{2}}{128} - \\frac{5 \\sqrt{2} i u^{2} v^{4}}{128} - \\frac{7 \\sqrt{2} i u v^{5}}{32} + \\frac{63 \\sqrt{2} i v^{6}}{128}\\right) \\epsilon^{5} + \\left(4 (u)_{xxx} u^{3} + 3 (u)_{xxx} u^{2} v + 2 (u)_{xxx} u v^{2} + (u)_{xxx} v^{3} + 27 (u)_{xx} (u)_{x} u^{2} + \\frac{27 (u)_{xx} (u)_{x} u v}{2} + \\frac{9 (u)_{xx} (u)_{x} v^{2}}{2} + \\frac{9 (u)_{xx} (v)_{x} u^{2}}{2} + 6 (u)_{xx} (v)_{x} u v + \\frac{9 (u)_{xx} (v)_{x} v^{2}}{2} + 15 (u)_{x}^{3} u + \\frac{15 (u)_{x}^{3} v}{4} + \\frac{27 (u)_{x}^{2} (v)_{x} u}{4} + \\frac{9 (u)_{x}^{2} (v)_{x} v}{2} - \\frac{3 (u)_{x} (v)_{xx} u^{2}}{2} - 2 (u)_{x} (v)_{xx} u v - \\frac{3 (u)_{x} (v)_{xx} v^{2}}{2} - \\frac{3 (u)_{x} (v)_{x}^{2} u}{2} - \\frac{9 (u)_{x} (v)_{x}^{2} v}{4} + 10 (u)_{x} u^{4} - (v)_{xxx} u^{3} - 2 (v)_{xxx} u^{2} v - 3 (v)_{xxx} u v^{2} - 4 (v)_{xxx} v^{3} - \\frac{11 (v)_{xx} (v)_{x} u^{2}}{2} - \\frac{33 (v)_{xx} (v)_{x} u v}{2} - 33 (v)_{xx} (v)_{x} v^{2} - \\frac{21 (v)_{x}^{3} u}{4} - 21 (v)_{x}^{3} v + 10 (v)_{x} v^{4}\\right) \\epsilon^{4} + \\left(\\frac{35 \\sqrt{2} i (u)_{xxxx} u^{2}}{16} + \\frac{15 \\sqrt{2} i (u)_{xxxx} u v}{8} + \\frac{15 \\sqrt{2} i (u)_{xxxx} v^{2}}{16} + \\frac{49 \\sqrt{2} i (u)_{xxx} (u)_{x} u}{4} + \\frac{21 \\sqrt{2} i (u)_{xxx} (u)_{x} v}{4} + \\frac{15 \\sqrt{2} i (u)_{xxx} (v)_{x} u}{4} + \\frac{15 \\sqrt{2} i (u)_{xxx} (v)_{x} v}{4} + \\frac{133 \\sqrt{2} i (u)_{xx}^{2} u}{16} + \\frac{57 \\sqrt{2} i (u)_{xx}^{2} v}{16} + \\frac{221 \\sqrt{2} i (u)_{xx} (u)_{x}^{2}}{16} + \\frac{61 \\sqrt{2} i (u)_{xx} (u)_{x} (v)_{x}}{8} + \\frac{5 \\sqrt{2} i (u)_{xx} (v)_{xx} u}{8} + \\frac{5 \\sqrt{2} i (u)_{xx} (v)_{xx} v}{8} + \\frac{17 \\sqrt{2} i (u)_{xx} (v)_{x}^{2}}{16} + \\frac{35 \\sqrt{2} i (u)_{xx} u^{3}}{4} + \\frac{15 \\sqrt{2} i (u)_{xx} u^{2} v}{8} - \\frac{5 \\sqrt{2} i (u)_{xx} v^{3}}{8} + \\frac{3 \\sqrt{2} i (u)_{x}^{2} (v)_{xx}}{16} + \\frac{175 \\sqrt{2} i (u)_{x}^{2} u^{2}}{8} + \\frac{25 \\sqrt{2} i (u)_{x}^{2} u v}{8} - \\frac{5 \\sqrt{2} i (u)_{x} (v)_{xxx} u}{2} - \\frac{5 \\sqrt{2} i (u)_{x} (v)_{xxx} v}{2} - \\frac{45 \\sqrt{2} i (u)_{x} (v)_{xx} (v)_{x}}{8} + \\frac{15 \\sqrt{2} i (u)_{x} (v)_{x} u^{2}}{8} - \\frac{15 \\sqrt{2} i (u)_{x} (v)_{x} v^{2}}{8} - \\frac{15 \\sqrt{2} i (v)_{xxxx} u^{2}}{16} - \\frac{15 \\sqrt{2} i (v)_{xxxx} u v}{8} - \\frac{35 \\sqrt{2} i (v)_{xxxx} v^{2}}{16} - 6 \\sqrt{2} i (v)_{xxx} (v)_{x} u - 14 \\sqrt{2} i (v)_{xxx} (v)_{x} v - \\frac{63 \\sqrt{2} i (v)_{xx}^{2} u}{16} - \\frac{147 \\sqrt{2} i (v)_{xx}^{2} v}{16} - \\frac{273 \\sqrt{2} i (v)_{xx} (v)_{x}^{2}}{16} - \\frac{5 \\sqrt{2} i (v)_{xx} u^{3}}{8} + \\frac{15 \\sqrt{2} i (v)_{xx} u v^{2}}{8} + \\frac{35 \\sqrt{2} i (v)_{xx} v^{3}}{4} + \\frac{35 \\sqrt{2} i (v)_{x}^{2} u v}{8} + \\frac{245 \\sqrt{2} i (v)_{x}^{2} v^{2}}{8} + \\frac{175 \\sqrt{2} i u^{5}}{128} - \\frac{45 \\sqrt{2} i u^{4} v}{128} - \\frac{\\sqrt{2} i u^{3} v^{2}}{64} - \\frac{\\sqrt{2} i u^{2} v^{3}}{64} - \\frac{45 \\sqrt{2} i u v^{4}}{128} + \\frac{175 \\sqrt{2} i v^{5}}{128}\\right) \\epsilon^{3} + \\left(- \\frac{3 (u)_{xxxxx} u}{2} - (u)_{xxxxx} v - 5 (u)_{xxxx} (u)_{x} - \\frac{5 (u)_{xxxx} (v)_{x}}{2} - \\frac{17 (u)_{xxx} (u)_{xx}}{2} - \\frac{3 (u)_{xxx} (v)_{xx}}{2} - 9 (u)_{xxx} u^{2} - 2 (u)_{xxx} u v + (u)_{xxx} v^{2} - \\frac{81 (u)_{xx} (u)_{x} u}{2} - \\frac{9 (u)_{xx} (u)_{x} v}{2} + (u)_{xx} (v)_{xxx} - 3 (u)_{xx} (v)_{x} u + 3 (u)_{xx} (v)_{x} v - \\frac{45 (u)_{x}^{3}}{4} - \\frac{9 (u)_{x}^{2} (v)_{x}}{4} + 2 (u)_{x} (v)_{xxxx} + (u)_{x} (v)_{xx} u - (u)_{x} (v)_{xx} v - \\frac{3 (u)_{x} (v)_{x}^{2}}{4} - 16 (u)_{x} u^{3} + (v)_{xxxxx} u + \\frac{3 (v)_{xxxxx} v}{2} + \\frac{11 (v)_{xxxx} (v)_{x}}{2} + 9 (v)_{xxx} (v)_{xx} + (v)_{xxx} u^{2} - 2 (v)_{xxx} u v - 9 (v)_{xxx} v^{2} - \\frac{11 (v)_{xx} (v)_{x} u}{2} - \\frac{99 (v)_{xx} (v)_{x} v}{2} - \\frac{63 (v)_{x}^{3}}{4} + 16 (v)_{x} v^{3}\\right) \\epsilon^{2} + \\left(- \\frac{\\sqrt{2} i (u)_{xxxxxx}}{4} - \\frac{5 \\sqrt{2} i (u)_{xxxx} u}{2} - 7 \\sqrt{2} i (u)_{xxx} (u)_{x} - \\frac{19 \\sqrt{2} i (u)_{xx}^{2}}{4} - \\frac{135 \\sqrt{2} i (u)_{xx} u^{2}}{16} - \\frac{3 \\sqrt{2} i (u)_{xx} u v}{8} - \\frac{3 \\sqrt{2} i (u)_{xx} v^{2}}{16} - \\frac{225 \\sqrt{2} i (u)_{x}^{2} u}{16} - \\frac{5 \\sqrt{2} i (u)_{x}^{2} v}{16} - \\frac{3 \\sqrt{2} i (u)_{x} (v)_{x} u}{8} - \\frac{3 \\sqrt{2} i (u)_{x} (v)_{x} v}{8} + \\frac{\\sqrt{2} i (v)_{xxxxxx}}{4} - \\frac{5 \\sqrt{2} i (v)_{xxxx} v}{2} - 8 \\sqrt{2} i (v)_{xxx} (v)_{x} - \\frac{21 \\sqrt{2} i (v)_{xx}^{2}}{4} + \\frac{3 \\sqrt{2} i (v)_{xx} u^{2}}{16} + \\frac{3 \\sqrt{2} i (v)_{xx} u v}{8} + \\frac{135 \\sqrt{2} i (v)_{xx} v^{2}}{16} + \\frac{7 \\sqrt{2} i (v)_{x}^{2} u}{16} + \\frac{315 \\sqrt{2} i (v)_{x}^{2} v}{16} - \\frac{25 \\sqrt{2} i u^{4}}{16} + \\frac{\\sqrt{2} i u^{3} v}{8} - \\frac{\\sqrt{2} i u v^{3}}{8} + \\frac{25 \\sqrt{2} i v^{4}}{16}\\right) \\epsilon + \\left(\\frac{\\sqrt{2} i u}{8} + \\frac{\\sqrt{2} i v}{8}\\right) \\frac{1}{\\epsilon^{5}} + \\left(\\frac{\\sqrt{2} i (u)_{xx}}{8} - \\frac{\\sqrt{2} i (v)_{xx}}{8} + \\frac{\\sqrt{2} i u^{2}}{8} - \\frac{\\sqrt{2} i v^{2}}{8}\\right) \\frac{1}{\\epsilon^{3}} + \\left(\\frac{\\sqrt{2} i (u)_{xxxx}}{4} + \\frac{3 \\sqrt{2} i (u)_{xx} u}{2} + \\frac{5 \\sqrt{2} i (u)_{x}^{2}}{4} - \\frac{\\sqrt{2} i (v)_{xxxx}}{4} + \\frac{3 \\sqrt{2} i (v)_{xx} v}{2} + \\frac{7 \\sqrt{2} i (v)_{x}^{2}}{4} + \\frac{15 \\sqrt{2} i u^{3}}{32} + \\frac{\\sqrt{2} i u^{2} v}{32} + \\frac{\\sqrt{2} i u v^{2}}{32} + \\frac{15 \\sqrt{2} i v^{3}}{32}\\right) \\frac{1}{\\epsilon} + \\frac{(u)_{xxxxx}}{2} + 4 (u)_{xxx} u + 9 (u)_{xx} (u)_{x} + 8 (u)_{x} u^{2} + \\frac{(v)_{xxxxx}}{2} - 4 (v)_{xxx} v - 11 (v)_{xx} (v)_{x} + 8 (v)_{x} v^{2}, \\epsilon, \\frac{1}{\\epsilon}, domain=\\mathtt{\\text{EX}} \\right)}$"
      ],
      "text/plain": [
       "Eq(\\sigma_{6}, Poly((33*sqrt(2)*I*u**7/512 - 21*sqrt(2)*I*u**6*v/512 - 7*sqrt(2)*I*u**5*v**2/512 - 5*sqrt(2)*I*u**4*v**3/512 - 5*sqrt(2)*I*u**3*v**4/512 - 7*sqrt(2)*I*u**2*v**5/512 - 21*sqrt(2)*I*u*v**6/512 + 33*sqrt(2)*I*v**7/512)*\\epsilon**7 + (-2*(u)_{x}*u**5 + 2*(v)_{x}*v**5)*\\epsilon**6 + (-315*sqrt(2)*I*(u)_{xx}*u**4/128 - 35*sqrt(2)*I*(u)_{xx}*u**3*v/32 - 45*sqrt(2)*I*(u)_{xx}*u**2*v**2/64 - 15*sqrt(2)*I*(u)_{xx}*u*v**3/32 - 35*sqrt(2)*I*(u)_{xx}*v**4/128 - 525*sqrt(2)*I*(u)_{x}**2*u**3/64 - 175*sqrt(2)*I*(u)_{x}**2*u**2*v/64 - 75*sqrt(2)*I*(u)_{x}**2*u*v**2/64 - 25*sqrt(2)*I*(u)_{x}**2*v**3/64 - 35*sqrt(2)*I*(u)_{x}*(v)_{x}*u**3/32 - 45*sqrt(2)*I*(u)_{x}*(v)_{x}*u**2*v/32 - 45*sqrt(2)*I*(u)_{x}*(v)_{x}*u*v**2/32 - 35*sqrt(2)*I*(u)_{x}*(v)_{x}*v**3/32 + 35*sqrt(2)*I*(v)_{xx}*u**4/128 + 15*sqrt(2)*I*(v)_{xx}*u**3*v/32 + 45*sqrt(2)*I*(v)_{xx}*u**2*v**2/64 + 35*sqrt(2)*I*(v)_{xx}*u*v**3/32 + 315*sqrt(2)*I*(v)_{xx}*v**4/128 + 35*sqrt(2)*I*(v)_{x}**2*u**3/64 + 105*sqrt(2)*I*(v)_{x}**2*u**2*v/64 + 245*sqrt(2)*I*(v)_{x}**2*u*v**2/64 + 735*sqrt(2)*I*(v)_{x}**2*v**3/64 - 63*sqrt(2)*I*u**6/128 + 7*sqrt(2)*I*u**5*v/32 + 5*sqrt(2)*I*u**4*v**2/128 - 5*sqrt(2)*I*u**2*v**4/128 - 7*sqrt(2)*I*u*v**5/32 + 63*sqrt(2)*I*v**6/128)*\\epsilon**5 + (4*(u)_{xxx}*u**3 + 3*(u)_{xxx}*u**2*v + 2*(u)_{xxx}*u*v**2 + (u)_{xxx}*v**3 + 27*(u)_{xx}*(u)_{x}*u**2 + 27*(u)_{xx}*(u)_{x}*u*v/2 + 9*(u)_{xx}*(u)_{x}*v**2/2 + 9*(u)_{xx}*(v)_{x}*u**2/2 + 6*(u)_{xx}*(v)_{x}*u*v + 9*(u)_{xx}*(v)_{x}*v**2/2 + 15*(u)_{x}**3*u + 15*(u)_{x}**3*v/4 + 27*(u)_{x}**2*(v)_{x}*u/4 + 9*(u)_{x}**2*(v)_{x}*v/2 - 3*(u)_{x}*(v)_{xx}*u**2/2 - 2*(u)_{x}*(v)_{xx}*u*v - 3*(u)_{x}*(v)_{xx}*v**2/2 - 3*(u)_{x}*(v)_{x}**2*u/2 - 9*(u)_{x}*(v)_{x}**2*v/4 + 10*(u)_{x}*u**4 - (v)_{xxx}*u**3 - 2*(v)_{xxx}*u**2*v - 3*(v)_{xxx}*u*v**2 - 4*(v)_{xxx}*v**3 - 11*(v)_{xx}*(v)_{x}*u**2/2 - 33*(v)_{xx}*(v)_{x}*u*v/2 - 33*(v)_{xx}*(v)_{x}*v**2 - 21*(v)_{x}**3*u/4 - 21*(v)_{x}**3*v + 10*(v)_{x}*v**4)*\\epsilon**4 + (35*sqrt(2)*I*(u)_{xxxx}*u**2/16 + 15*sqrt(2)*I*(u)_{xxxx}*u*v/8 + 15*sqrt(2)*I*(u)_{xxxx}*v**2/16 + 49*sqrt(2)*I*(u)_{xxx}*(u)_{x}*u/4 + 21*sqrt(2)*I*(u)_{xxx}*(u)_{x}*v/4 + 15*sqrt(2)*I*(u)_{xxx}*(v)_{x}*u/4 + 15*sqrt(2)*I*(u)_{xxx}*(v)_{x}*v/4 + 133*sqrt(2)*I*(u)_{xx}**2*u/16 + 57*sqrt(2)*I*(u)_{xx}**2*v/16 + 221*sqrt(2)*I*(u)_{xx}*(u)_{x}**2/16 + 61*sqrt(2)*I*(u)_{xx}*(u)_{x}*(v)_{x}/8 + 5*sqrt(2)*I*(u)_{xx}*(v)_{xx}*u/8 + 5*sqrt(2)*I*(u)_{xx}*(v)_{xx}*v/8 + 17*sqrt(2)*I*(u)_{xx}*(v)_{x}**2/16 + 35*sqrt(2)*I*(u)_{xx}*u**3/4 + 15*sqrt(2)*I*(u)_{xx}*u**2*v/8 - 5*sqrt(2)*I*(u)_{xx}*v**3/8 + 3*sqrt(2)*I*(u)_{x}**2*(v)_{xx}/16 + 175*sqrt(2)*I*(u)_{x}**2*u**2/8 + 25*sqrt(2)*I*(u)_{x}**2*u*v/8 - 5*sqrt(2)*I*(u)_{x}*(v)_{xxx}*u/2 - 5*sqrt(2)*I*(u)_{x}*(v)_{xxx}*v/2 - 45*sqrt(2)*I*(u)_{x}*(v)_{xx}*(v)_{x}/8 + 15*sqrt(2)*I*(u)_{x}*(v)_{x}*u**2/8 - 15*sqrt(2)*I*(u)_{x}*(v)_{x}*v**2/8 - 15*sqrt(2)*I*(v)_{xxxx}*u**2/16 - 15*sqrt(2)*I*(v)_{xxxx}*u*v/8 - 35*sqrt(2)*I*(v)_{xxxx}*v**2/16 - 6*sqrt(2)*I*(v)_{xxx}*(v)_{x}*u - 14*sqrt(2)*I*(v)_{xxx}*(v)_{x}*v - 63*sqrt(2)*I*(v)_{xx}**2*u/16 - 147*sqrt(2)*I*(v)_{xx}**2*v/16 - 273*sqrt(2)*I*(v)_{xx}*(v)_{x}**2/16 - 5*sqrt(2)*I*(v)_{xx}*u**3/8 + 15*sqrt(2)*I*(v)_{xx}*u*v**2/8 + 35*sqrt(2)*I*(v)_{xx}*v**3/4 + 35*sqrt(2)*I*(v)_{x}**2*u*v/8 + 245*sqrt(2)*I*(v)_{x}**2*v**2/8 + 175*sqrt(2)*I*u**5/128 - 45*sqrt(2)*I*u**4*v/128 - sqrt(2)*I*u**3*v**2/64 - sqrt(2)*I*u**2*v**3/64 - 45*sqrt(2)*I*u*v**4/128 + 175*sqrt(2)*I*v**5/128)*\\epsilon**3 + (-3*(u)_{xxxxx}*u/2 - (u)_{xxxxx}*v - 5*(u)_{xxxx}*(u)_{x} - 5*(u)_{xxxx}*(v)_{x}/2 - 17*(u)_{xxx}*(u)_{xx}/2 - 3*(u)_{xxx}*(v)_{xx}/2 - 9*(u)_{xxx}*u**2 - 2*(u)_{xxx}*u*v + (u)_{xxx}*v**2 - 81*(u)_{xx}*(u)_{x}*u/2 - 9*(u)_{xx}*(u)_{x}*v/2 + (u)_{xx}*(v)_{xxx} - 3*(u)_{xx}*(v)_{x}*u + 3*(u)_{xx}*(v)_{x}*v - 45*(u)_{x}**3/4 - 9*(u)_{x}**2*(v)_{x}/4 + 2*(u)_{x}*(v)_{xxxx} + (u)_{x}*(v)_{xx}*u - (u)_{x}*(v)_{xx}*v - 3*(u)_{x}*(v)_{x}**2/4 - 16*(u)_{x}*u**3 + (v)_{xxxxx}*u + 3*(v)_{xxxxx}*v/2 + 11*(v)_{xxxx}*(v)_{x}/2 + 9*(v)_{xxx}*(v)_{xx} + (v)_{xxx}*u**2 - 2*(v)_{xxx}*u*v - 9*(v)_{xxx}*v**2 - 11*(v)_{xx}*(v)_{x}*u/2 - 99*(v)_{xx}*(v)_{x}*v/2 - 63*(v)_{x}**3/4 + 16*(v)_{x}*v**3)*\\epsilon**2 + (-sqrt(2)*I*(u)_{xxxxxx}/4 - 5*sqrt(2)*I*(u)_{xxxx}*u/2 - 7*sqrt(2)*I*(u)_{xxx}*(u)_{x} - 19*sqrt(2)*I*(u)_{xx}**2/4 - 135*sqrt(2)*I*(u)_{xx}*u**2/16 - 3*sqrt(2)*I*(u)_{xx}*u*v/8 - 3*sqrt(2)*I*(u)_{xx}*v**2/16 - 225*sqrt(2)*I*(u)_{x}**2*u/16 - 5*sqrt(2)*I*(u)_{x}**2*v/16 - 3*sqrt(2)*I*(u)_{x}*(v)_{x}*u/8 - 3*sqrt(2)*I*(u)_{x}*(v)_{x}*v/8 + sqrt(2)*I*(v)_{xxxxxx}/4 - 5*sqrt(2)*I*(v)_{xxxx}*v/2 - 8*sqrt(2)*I*(v)_{xxx}*(v)_{x} - 21*sqrt(2)*I*(v)_{xx}**2/4 + 3*sqrt(2)*I*(v)_{xx}*u**2/16 + 3*sqrt(2)*I*(v)_{xx}*u*v/8 + 135*sqrt(2)*I*(v)_{xx}*v**2/16 + 7*sqrt(2)*I*(v)_{x}**2*u/16 + 315*sqrt(2)*I*(v)_{x}**2*v/16 - 25*sqrt(2)*I*u**4/16 + sqrt(2)*I*u**3*v/8 - sqrt(2)*I*u*v**3/8 + 25*sqrt(2)*I*v**4/16)*\\epsilon + (sqrt(2)*I*u/8 + sqrt(2)*I*v/8)*(1/\\epsilon)**5 + (sqrt(2)*I*(u)_{xx}/8 - sqrt(2)*I*(v)_{xx}/8 + sqrt(2)*I*u**2/8 - sqrt(2)*I*v**2/8)*(1/\\epsilon)**3 + (sqrt(2)*I*(u)_{xxxx}/4 + 3*sqrt(2)*I*(u)_{xx}*u/2 + 5*sqrt(2)*I*(u)_{x}**2/4 - sqrt(2)*I*(v)_{xxxx}/4 + 3*sqrt(2)*I*(v)_{xx}*v/2 + 7*sqrt(2)*I*(v)_{x}**2/4 + 15*sqrt(2)*I*u**3/32 + sqrt(2)*I*u**2*v/32 + sqrt(2)*I*u*v**2/32 + 15*sqrt(2)*I*v**3/32)*(1/\\epsilon) + (u)_{xxxxx}/2 + 4*(u)_{xxx}*u + 9*(u)_{xx}*(u)_{x} + 8*(u)_{x}*u**2 + (v)_{xxxxx}/2 - 4*(v)_{xxx}*v - 11*(v)_{xx}*(v)_{x} + 8*(v)_{x}*v**2, \\epsilon, 1/\\epsilon, domain='EX'))"
      ]
     },
     "metadata": {},
     "output_type": "display_data"
    },
    {
     "name": "stdout",
     "output_type": "stream",
     "text": [
      "Warning: Substituting differentiable by non-differentiable symbol.\n",
      "Warning: Substituting differentiable by non-differentiable symbol.\n"
     ]
    },
    {
     "data": {
      "text/latex": [
       "$\\displaystyle \\sigma_{6} = \\operatorname{Poly}{\\left( \\left(\\frac{33 \\sqrt{2} i u^{7}}{512} - \\frac{21 \\sqrt{2} i u^{6} v}{512} - \\frac{7 \\sqrt{2} i u^{5} v^{2}}{512} - \\frac{5 \\sqrt{2} i u^{4} v^{3}}{512} - \\frac{5 \\sqrt{2} i u^{3} v^{4}}{512} - \\frac{7 \\sqrt{2} i u^{2} v^{5}}{512} - \\frac{21 \\sqrt{2} i u v^{6}}{512} + \\frac{33 \\sqrt{2} i v^{7}}{512}\\right) \\epsilon^{21} + \\left(- 2 (u)_{x} u^{5} + 2 (v)_{x} v^{5}\\right) \\epsilon^{18} + \\left(- \\frac{63 \\sqrt{2} i u^{6}}{128} + \\frac{7 \\sqrt{2} i u^{5} v}{32} + \\frac{5 \\sqrt{2} i u^{4} v^{2}}{128} - \\frac{5 \\sqrt{2} i u^{2} v^{4}}{128} - \\frac{7 \\sqrt{2} i u v^{5}}{32} + \\frac{63 \\sqrt{2} i v^{6}}{128}\\right) \\epsilon^{17} + \\left(- \\frac{315 \\sqrt{2} i (u)_{xx} u^{4}}{128} - \\frac{35 \\sqrt{2} i (u)_{xx} u^{3} v}{32} - \\frac{45 \\sqrt{2} i (u)_{xx} u^{2} v^{2}}{64} - \\frac{15 \\sqrt{2} i (u)_{xx} u v^{3}}{32} - \\frac{35 \\sqrt{2} i (u)_{xx} v^{4}}{128} - \\frac{525 \\sqrt{2} i (u)_{x}^{2} u^{3}}{64} - \\frac{175 \\sqrt{2} i (u)_{x}^{2} u^{2} v}{64} - \\frac{75 \\sqrt{2} i (u)_{x}^{2} u v^{2}}{64} - \\frac{25 \\sqrt{2} i (u)_{x}^{2} v^{3}}{64} - \\frac{35 \\sqrt{2} i (u)_{x} (v)_{x} u^{3}}{32} - \\frac{45 \\sqrt{2} i (u)_{x} (v)_{x} u^{2} v}{32} - \\frac{45 \\sqrt{2} i (u)_{x} (v)_{x} u v^{2}}{32} - \\frac{35 \\sqrt{2} i (u)_{x} (v)_{x} v^{3}}{32} + \\frac{35 \\sqrt{2} i (v)_{xx} u^{4}}{128} + \\frac{15 \\sqrt{2} i (v)_{xx} u^{3} v}{32} + \\frac{45 \\sqrt{2} i (v)_{xx} u^{2} v^{2}}{64} + \\frac{35 \\sqrt{2} i (v)_{xx} u v^{3}}{32} + \\frac{315 \\sqrt{2} i (v)_{xx} v^{4}}{128} + \\frac{35 \\sqrt{2} i (v)_{x}^{2} u^{3}}{64} + \\frac{105 \\sqrt{2} i (v)_{x}^{2} u^{2} v}{64} + \\frac{245 \\sqrt{2} i (v)_{x}^{2} u v^{2}}{64} + \\frac{735 \\sqrt{2} i (v)_{x}^{2} v^{3}}{64}\\right) \\epsilon^{15} + \\left(10 (u)_{x} u^{4} + 10 (v)_{x} v^{4}\\right) \\epsilon^{14} + \\left(\\frac{175 \\sqrt{2} i u^{5}}{128} - \\frac{45 \\sqrt{2} i u^{4} v}{128} - \\frac{\\sqrt{2} i u^{3} v^{2}}{64} - \\frac{\\sqrt{2} i u^{2} v^{3}}{64} - \\frac{45 \\sqrt{2} i u v^{4}}{128} + \\frac{175 \\sqrt{2} i v^{5}}{128}\\right) \\epsilon^{13} + \\left(4 (u)_{xxx} u^{3} + 3 (u)_{xxx} u^{2} v + 2 (u)_{xxx} u v^{2} + (u)_{xxx} v^{3} + 27 (u)_{xx} (u)_{x} u^{2} + \\frac{27 (u)_{xx} (u)_{x} u v}{2} + \\frac{9 (u)_{xx} (u)_{x} v^{2}}{2} + \\frac{9 (u)_{xx} (v)_{x} u^{2}}{2} + 6 (u)_{xx} (v)_{x} u v + \\frac{9 (u)_{xx} (v)_{x} v^{2}}{2} + 15 (u)_{x}^{3} u + \\frac{15 (u)_{x}^{3} v}{4} + \\frac{27 (u)_{x}^{2} (v)_{x} u}{4} + \\frac{9 (u)_{x}^{2} (v)_{x} v}{2} - \\frac{3 (u)_{x} (v)_{xx} u^{2}}{2} - 2 (u)_{x} (v)_{xx} u v - \\frac{3 (u)_{x} (v)_{xx} v^{2}}{2} - \\frac{3 (u)_{x} (v)_{x}^{2} u}{2} - \\frac{9 (u)_{x} (v)_{x}^{2} v}{4} - (v)_{xxx} u^{3} - 2 (v)_{xxx} u^{2} v - 3 (v)_{xxx} u v^{2} - 4 (v)_{xxx} v^{3} - \\frac{11 (v)_{xx} (v)_{x} u^{2}}{2} - \\frac{33 (v)_{xx} (v)_{x} u v}{2} - 33 (v)_{xx} (v)_{x} v^{2} - \\frac{21 (v)_{x}^{3} u}{4} - 21 (v)_{x}^{3} v\\right) \\epsilon^{12} + \\left(\\frac{35 \\sqrt{2} i (u)_{xx} u^{3}}{4} + \\frac{15 \\sqrt{2} i (u)_{xx} u^{2} v}{8} - \\frac{5 \\sqrt{2} i (u)_{xx} v^{3}}{8} + \\frac{175 \\sqrt{2} i (u)_{x}^{2} u^{2}}{8} + \\frac{25 \\sqrt{2} i (u)_{x}^{2} u v}{8} + \\frac{15 \\sqrt{2} i (u)_{x} (v)_{x} u^{2}}{8} - \\frac{15 \\sqrt{2} i (u)_{x} (v)_{x} v^{2}}{8} - \\frac{5 \\sqrt{2} i (v)_{xx} u^{3}}{8} + \\frac{15 \\sqrt{2} i (v)_{xx} u v^{2}}{8} + \\frac{35 \\sqrt{2} i (v)_{xx} v^{3}}{4} + \\frac{35 \\sqrt{2} i (v)_{x}^{2} u v}{8} + \\frac{245 \\sqrt{2} i (v)_{x}^{2} v^{2}}{8}\\right) \\epsilon^{11} + \\left(- 16 (u)_{x} u^{3} + 16 (v)_{x} v^{3}\\right) \\epsilon^{10} + \\left(\\frac{35 \\sqrt{2} i (u)_{xxxx} u^{2}}{16} + \\frac{15 \\sqrt{2} i (u)_{xxxx} u v}{8} + \\frac{15 \\sqrt{2} i (u)_{xxxx} v^{2}}{16} + \\frac{49 \\sqrt{2} i (u)_{xxx} (u)_{x} u}{4} + \\frac{21 \\sqrt{2} i (u)_{xxx} (u)_{x} v}{4} + \\frac{15 \\sqrt{2} i (u)_{xxx} (v)_{x} u}{4} + \\frac{15 \\sqrt{2} i (u)_{xxx} (v)_{x} v}{4} + \\frac{133 \\sqrt{2} i (u)_{xx}^{2} u}{16} + \\frac{57 \\sqrt{2} i (u)_{xx}^{2} v}{16} + \\frac{221 \\sqrt{2} i (u)_{xx} (u)_{x}^{2}}{16} + \\frac{61 \\sqrt{2} i (u)_{xx} (u)_{x} (v)_{x}}{8} + \\frac{5 \\sqrt{2} i (u)_{xx} (v)_{xx} u}{8} + \\frac{5 \\sqrt{2} i (u)_{xx} (v)_{xx} v}{8} + \\frac{17 \\sqrt{2} i (u)_{xx} (v)_{x}^{2}}{16} + \\frac{3 \\sqrt{2} i (u)_{x}^{2} (v)_{xx}}{16} - \\frac{5 \\sqrt{2} i (u)_{x} (v)_{xxx} u}{2} - \\frac{5 \\sqrt{2} i (u)_{x} (v)_{xxx} v}{2} - \\frac{45 \\sqrt{2} i (u)_{x} (v)_{xx} (v)_{x}}{8} - \\frac{15 \\sqrt{2} i (v)_{xxxx} u^{2}}{16} - \\frac{15 \\sqrt{2} i (v)_{xxxx} u v}{8} - \\frac{35 \\sqrt{2} i (v)_{xxxx} v^{2}}{16} - 6 \\sqrt{2} i (v)_{xxx} (v)_{x} u - 14 \\sqrt{2} i (v)_{xxx} (v)_{x} v - \\frac{63 \\sqrt{2} i (v)_{xx}^{2} u}{16} - \\frac{147 \\sqrt{2} i (v)_{xx}^{2} v}{16} - \\frac{273 \\sqrt{2} i (v)_{xx} (v)_{x}^{2}}{16} - \\frac{25 \\sqrt{2} i u^{4}}{16} + \\frac{\\sqrt{2} i u^{3} v}{8} - \\frac{\\sqrt{2} i u v^{3}}{8} + \\frac{25 \\sqrt{2} i v^{4}}{16}\\right) \\epsilon^{9} + \\left(- 9 (u)_{xxx} u^{2} - 2 (u)_{xxx} u v + (u)_{xxx} v^{2} - \\frac{81 (u)_{xx} (u)_{x} u}{2} - \\frac{9 (u)_{xx} (u)_{x} v}{2} - 3 (u)_{xx} (v)_{x} u + 3 (u)_{xx} (v)_{x} v - \\frac{45 (u)_{x}^{3}}{4} - \\frac{9 (u)_{x}^{2} (v)_{x}}{4} + (u)_{x} (v)_{xx} u - (u)_{x} (v)_{xx} v - \\frac{3 (u)_{x} (v)_{x}^{2}}{4} + (v)_{xxx} u^{2} - 2 (v)_{xxx} u v - 9 (v)_{xxx} v^{2} - \\frac{11 (v)_{xx} (v)_{x} u}{2} - \\frac{99 (v)_{xx} (v)_{x} v}{2} - \\frac{63 (v)_{x}^{3}}{4}\\right) \\epsilon^{8} + \\left(- \\frac{135 \\sqrt{2} i (u)_{xx} u^{2}}{16} - \\frac{3 \\sqrt{2} i (u)_{xx} u v}{8} - \\frac{3 \\sqrt{2} i (u)_{xx} v^{2}}{16} - \\frac{225 \\sqrt{2} i (u)_{x}^{2} u}{16} - \\frac{5 \\sqrt{2} i (u)_{x}^{2} v}{16} - \\frac{3 \\sqrt{2} i (u)_{x} (v)_{x} u}{8} - \\frac{3 \\sqrt{2} i (u)_{x} (v)_{x} v}{8} + \\frac{3 \\sqrt{2} i (v)_{xx} u^{2}}{16} + \\frac{3 \\sqrt{2} i (v)_{xx} u v}{8} + \\frac{135 \\sqrt{2} i (v)_{xx} v^{2}}{16} + \\frac{7 \\sqrt{2} i (v)_{x}^{2} u}{16} + \\frac{315 \\sqrt{2} i (v)_{x}^{2} v}{16}\\right) \\epsilon^{7} + \\left(- \\frac{3 (u)_{xxxxx} u}{2} - (u)_{xxxxx} v - 5 (u)_{xxxx} (u)_{x} - \\frac{5 (u)_{xxxx} (v)_{x}}{2} - \\frac{17 (u)_{xxx} (u)_{xx}}{2} - \\frac{3 (u)_{xxx} (v)_{xx}}{2} + (u)_{xx} (v)_{xxx} + 2 (u)_{x} (v)_{xxxx} + 8 (u)_{x} u^{2} + (v)_{xxxxx} u + \\frac{3 (v)_{xxxxx} v}{2} + \\frac{11 (v)_{xxxx} (v)_{x}}{2} + 9 (v)_{xxx} (v)_{xx} + 8 (v)_{x} v^{2}\\right) \\epsilon^{6} + \\left(- \\frac{5 \\sqrt{2} i (u)_{xxxx} u}{2} - 7 \\sqrt{2} i (u)_{xxx} (u)_{x} - \\frac{19 \\sqrt{2} i (u)_{xx}^{2}}{4} - \\frac{5 \\sqrt{2} i (v)_{xxxx} v}{2} - 8 \\sqrt{2} i (v)_{xxx} (v)_{x} - \\frac{21 \\sqrt{2} i (v)_{xx}^{2}}{4} + \\frac{15 \\sqrt{2} i u^{3}}{32} + \\frac{\\sqrt{2} i u^{2} v}{32} + \\frac{\\sqrt{2} i u v^{2}}{32} + \\frac{15 \\sqrt{2} i v^{3}}{32}\\right) \\epsilon^{5} + \\left(4 (u)_{xxx} u + 9 (u)_{xx} (u)_{x} - 4 (v)_{xxx} v - 11 (v)_{xx} (v)_{x}\\right) \\epsilon^{4} + \\left(- \\frac{\\sqrt{2} i (u)_{xxxxxx}}{4} + \\frac{3 \\sqrt{2} i (u)_{xx} u}{2} + \\frac{5 \\sqrt{2} i (u)_{x}^{2}}{4} + \\frac{\\sqrt{2} i (v)_{xxxxxx}}{4} + \\frac{3 \\sqrt{2} i (v)_{xx} v}{2} + \\frac{7 \\sqrt{2} i (v)_{x}^{2}}{4}\\right) \\epsilon^{3} + \\left(\\frac{(u)_{xxxxx}}{2} + \\frac{(v)_{xxxxx}}{2}\\right) \\epsilon^{2} + \\left(\\frac{\\sqrt{2} i (u)_{xxxx}}{4} - \\frac{\\sqrt{2} i (v)_{xxxx}}{4} + \\frac{\\sqrt{2} i u^{2}}{8} - \\frac{\\sqrt{2} i v^{2}}{8}\\right) \\epsilon + \\left(\\frac{\\sqrt{2} i u}{8} + \\frac{\\sqrt{2} i v}{8}\\right) \\frac{1}{\\epsilon^{3}} + \\left(\\frac{\\sqrt{2} i (u)_{xx}}{8} - \\frac{\\sqrt{2} i (v)_{xx}}{8}\\right) \\frac{1}{\\epsilon}, \\epsilon, \\frac{1}{\\epsilon}, domain=\\mathtt{\\text{EX}} \\right)}$"
      ],
      "text/plain": [
       "Eq(\\sigma_{6}, Poly((33*sqrt(2)*I*u**7/512 - 21*sqrt(2)*I*u**6*v/512 - 7*sqrt(2)*I*u**5*v**2/512 - 5*sqrt(2)*I*u**4*v**3/512 - 5*sqrt(2)*I*u**3*v**4/512 - 7*sqrt(2)*I*u**2*v**5/512 - 21*sqrt(2)*I*u*v**6/512 + 33*sqrt(2)*I*v**7/512)*\\epsilon**21 + (-2*(u)_{x}*u**5 + 2*(v)_{x}*v**5)*\\epsilon**18 + (-63*sqrt(2)*I*u**6/128 + 7*sqrt(2)*I*u**5*v/32 + 5*sqrt(2)*I*u**4*v**2/128 - 5*sqrt(2)*I*u**2*v**4/128 - 7*sqrt(2)*I*u*v**5/32 + 63*sqrt(2)*I*v**6/128)*\\epsilon**17 + (-315*sqrt(2)*I*(u)_{xx}*u**4/128 - 35*sqrt(2)*I*(u)_{xx}*u**3*v/32 - 45*sqrt(2)*I*(u)_{xx}*u**2*v**2/64 - 15*sqrt(2)*I*(u)_{xx}*u*v**3/32 - 35*sqrt(2)*I*(u)_{xx}*v**4/128 - 525*sqrt(2)*I*(u)_{x}**2*u**3/64 - 175*sqrt(2)*I*(u)_{x}**2*u**2*v/64 - 75*sqrt(2)*I*(u)_{x}**2*u*v**2/64 - 25*sqrt(2)*I*(u)_{x}**2*v**3/64 - 35*sqrt(2)*I*(u)_{x}*(v)_{x}*u**3/32 - 45*sqrt(2)*I*(u)_{x}*(v)_{x}*u**2*v/32 - 45*sqrt(2)*I*(u)_{x}*(v)_{x}*u*v**2/32 - 35*sqrt(2)*I*(u)_{x}*(v)_{x}*v**3/32 + 35*sqrt(2)*I*(v)_{xx}*u**4/128 + 15*sqrt(2)*I*(v)_{xx}*u**3*v/32 + 45*sqrt(2)*I*(v)_{xx}*u**2*v**2/64 + 35*sqrt(2)*I*(v)_{xx}*u*v**3/32 + 315*sqrt(2)*I*(v)_{xx}*v**4/128 + 35*sqrt(2)*I*(v)_{x}**2*u**3/64 + 105*sqrt(2)*I*(v)_{x}**2*u**2*v/64 + 245*sqrt(2)*I*(v)_{x}**2*u*v**2/64 + 735*sqrt(2)*I*(v)_{x}**2*v**3/64)*\\epsilon**15 + (10*(u)_{x}*u**4 + 10*(v)_{x}*v**4)*\\epsilon**14 + (175*sqrt(2)*I*u**5/128 - 45*sqrt(2)*I*u**4*v/128 - sqrt(2)*I*u**3*v**2/64 - sqrt(2)*I*u**2*v**3/64 - 45*sqrt(2)*I*u*v**4/128 + 175*sqrt(2)*I*v**5/128)*\\epsilon**13 + (4*(u)_{xxx}*u**3 + 3*(u)_{xxx}*u**2*v + 2*(u)_{xxx}*u*v**2 + (u)_{xxx}*v**3 + 27*(u)_{xx}*(u)_{x}*u**2 + 27*(u)_{xx}*(u)_{x}*u*v/2 + 9*(u)_{xx}*(u)_{x}*v**2/2 + 9*(u)_{xx}*(v)_{x}*u**2/2 + 6*(u)_{xx}*(v)_{x}*u*v + 9*(u)_{xx}*(v)_{x}*v**2/2 + 15*(u)_{x}**3*u + 15*(u)_{x}**3*v/4 + 27*(u)_{x}**2*(v)_{x}*u/4 + 9*(u)_{x}**2*(v)_{x}*v/2 - 3*(u)_{x}*(v)_{xx}*u**2/2 - 2*(u)_{x}*(v)_{xx}*u*v - 3*(u)_{x}*(v)_{xx}*v**2/2 - 3*(u)_{x}*(v)_{x}**2*u/2 - 9*(u)_{x}*(v)_{x}**2*v/4 - (v)_{xxx}*u**3 - 2*(v)_{xxx}*u**2*v - 3*(v)_{xxx}*u*v**2 - 4*(v)_{xxx}*v**3 - 11*(v)_{xx}*(v)_{x}*u**2/2 - 33*(v)_{xx}*(v)_{x}*u*v/2 - 33*(v)_{xx}*(v)_{x}*v**2 - 21*(v)_{x}**3*u/4 - 21*(v)_{x}**3*v)*\\epsilon**12 + (35*sqrt(2)*I*(u)_{xx}*u**3/4 + 15*sqrt(2)*I*(u)_{xx}*u**2*v/8 - 5*sqrt(2)*I*(u)_{xx}*v**3/8 + 175*sqrt(2)*I*(u)_{x}**2*u**2/8 + 25*sqrt(2)*I*(u)_{x}**2*u*v/8 + 15*sqrt(2)*I*(u)_{x}*(v)_{x}*u**2/8 - 15*sqrt(2)*I*(u)_{x}*(v)_{x}*v**2/8 - 5*sqrt(2)*I*(v)_{xx}*u**3/8 + 15*sqrt(2)*I*(v)_{xx}*u*v**2/8 + 35*sqrt(2)*I*(v)_{xx}*v**3/4 + 35*sqrt(2)*I*(v)_{x}**2*u*v/8 + 245*sqrt(2)*I*(v)_{x}**2*v**2/8)*\\epsilon**11 + (-16*(u)_{x}*u**3 + 16*(v)_{x}*v**3)*\\epsilon**10 + (35*sqrt(2)*I*(u)_{xxxx}*u**2/16 + 15*sqrt(2)*I*(u)_{xxxx}*u*v/8 + 15*sqrt(2)*I*(u)_{xxxx}*v**2/16 + 49*sqrt(2)*I*(u)_{xxx}*(u)_{x}*u/4 + 21*sqrt(2)*I*(u)_{xxx}*(u)_{x}*v/4 + 15*sqrt(2)*I*(u)_{xxx}*(v)_{x}*u/4 + 15*sqrt(2)*I*(u)_{xxx}*(v)_{x}*v/4 + 133*sqrt(2)*I*(u)_{xx}**2*u/16 + 57*sqrt(2)*I*(u)_{xx}**2*v/16 + 221*sqrt(2)*I*(u)_{xx}*(u)_{x}**2/16 + 61*sqrt(2)*I*(u)_{xx}*(u)_{x}*(v)_{x}/8 + 5*sqrt(2)*I*(u)_{xx}*(v)_{xx}*u/8 + 5*sqrt(2)*I*(u)_{xx}*(v)_{xx}*v/8 + 17*sqrt(2)*I*(u)_{xx}*(v)_{x}**2/16 + 3*sqrt(2)*I*(u)_{x}**2*(v)_{xx}/16 - 5*sqrt(2)*I*(u)_{x}*(v)_{xxx}*u/2 - 5*sqrt(2)*I*(u)_{x}*(v)_{xxx}*v/2 - 45*sqrt(2)*I*(u)_{x}*(v)_{xx}*(v)_{x}/8 - 15*sqrt(2)*I*(v)_{xxxx}*u**2/16 - 15*sqrt(2)*I*(v)_{xxxx}*u*v/8 - 35*sqrt(2)*I*(v)_{xxxx}*v**2/16 - 6*sqrt(2)*I*(v)_{xxx}*(v)_{x}*u - 14*sqrt(2)*I*(v)_{xxx}*(v)_{x}*v - 63*sqrt(2)*I*(v)_{xx}**2*u/16 - 147*sqrt(2)*I*(v)_{xx}**2*v/16 - 273*sqrt(2)*I*(v)_{xx}*(v)_{x}**2/16 - 25*sqrt(2)*I*u**4/16 + sqrt(2)*I*u**3*v/8 - sqrt(2)*I*u*v**3/8 + 25*sqrt(2)*I*v**4/16)*\\epsilon**9 + (-9*(u)_{xxx}*u**2 - 2*(u)_{xxx}*u*v + (u)_{xxx}*v**2 - 81*(u)_{xx}*(u)_{x}*u/2 - 9*(u)_{xx}*(u)_{x}*v/2 - 3*(u)_{xx}*(v)_{x}*u + 3*(u)_{xx}*(v)_{x}*v - 45*(u)_{x}**3/4 - 9*(u)_{x}**2*(v)_{x}/4 + (u)_{x}*(v)_{xx}*u - (u)_{x}*(v)_{xx}*v - 3*(u)_{x}*(v)_{x}**2/4 + (v)_{xxx}*u**2 - 2*(v)_{xxx}*u*v - 9*(v)_{xxx}*v**2 - 11*(v)_{xx}*(v)_{x}*u/2 - 99*(v)_{xx}*(v)_{x}*v/2 - 63*(v)_{x}**3/4)*\\epsilon**8 + (-135*sqrt(2)*I*(u)_{xx}*u**2/16 - 3*sqrt(2)*I*(u)_{xx}*u*v/8 - 3*sqrt(2)*I*(u)_{xx}*v**2/16 - 225*sqrt(2)*I*(u)_{x}**2*u/16 - 5*sqrt(2)*I*(u)_{x}**2*v/16 - 3*sqrt(2)*I*(u)_{x}*(v)_{x}*u/8 - 3*sqrt(2)*I*(u)_{x}*(v)_{x}*v/8 + 3*sqrt(2)*I*(v)_{xx}*u**2/16 + 3*sqrt(2)*I*(v)_{xx}*u*v/8 + 135*sqrt(2)*I*(v)_{xx}*v**2/16 + 7*sqrt(2)*I*(v)_{x}**2*u/16 + 315*sqrt(2)*I*(v)_{x}**2*v/16)*\\epsilon**7 + (-3*(u)_{xxxxx}*u/2 - (u)_{xxxxx}*v - 5*(u)_{xxxx}*(u)_{x} - 5*(u)_{xxxx}*(v)_{x}/2 - 17*(u)_{xxx}*(u)_{xx}/2 - 3*(u)_{xxx}*(v)_{xx}/2 + (u)_{xx}*(v)_{xxx} + 2*(u)_{x}*(v)_{xxxx} + 8*(u)_{x}*u**2 + (v)_{xxxxx}*u + 3*(v)_{xxxxx}*v/2 + 11*(v)_{xxxx}*(v)_{x}/2 + 9*(v)_{xxx}*(v)_{xx} + 8*(v)_{x}*v**2)*\\epsilon**6 + (-5*sqrt(2)*I*(u)_{xxxx}*u/2 - 7*sqrt(2)*I*(u)_{xxx}*(u)_{x} - 19*sqrt(2)*I*(u)_{xx}**2/4 - 5*sqrt(2)*I*(v)_{xxxx}*v/2 - 8*sqrt(2)*I*(v)_{xxx}*(v)_{x} - 21*sqrt(2)*I*(v)_{xx}**2/4 + 15*sqrt(2)*I*u**3/32 + sqrt(2)*I*u**2*v/32 + sqrt(2)*I*u*v**2/32 + 15*sqrt(2)*I*v**3/32)*\\epsilon**5 + (4*(u)_{xxx}*u + 9*(u)_{xx}*(u)_{x} - 4*(v)_{xxx}*v - 11*(v)_{xx}*(v)_{x})*\\epsilon**4 + (-sqrt(2)*I*(u)_{xxxxxx}/4 + 3*sqrt(2)*I*(u)_{xx}*u/2 + 5*sqrt(2)*I*(u)_{x}**2/4 + sqrt(2)*I*(v)_{xxxxxx}/4 + 3*sqrt(2)*I*(v)_{xx}*v/2 + 7*sqrt(2)*I*(v)_{x}**2/4)*\\epsilon**3 + ((u)_{xxxxx}/2 + (v)_{xxxxx}/2)*\\epsilon**2 + (sqrt(2)*I*(u)_{xxxx}/4 - sqrt(2)*I*(v)_{xxxx}/4 + sqrt(2)*I*u**2/8 - sqrt(2)*I*v**2/8)*\\epsilon + (sqrt(2)*I*u/8 + sqrt(2)*I*v/8)*(1/\\epsilon)**3 + (sqrt(2)*I*(u)_{xx}/8 - sqrt(2)*I*(v)_{xx}/8)*(1/\\epsilon), \\epsilon, 1/\\epsilon, domain='EX'))"
      ]
     },
     "metadata": {},
     "output_type": "display_data"
    },
    {
     "name": "stdout",
     "output_type": "stream",
     "text": [
      "n = 7\n"
     ]
    },
    {
     "data": {
      "text/latex": [
       "$\\displaystyle \\sigma_{7} = \\operatorname{Poly}{\\left( \\left(\\frac{429 u^{8}}{4096} - \\frac{33 u^{7} v}{512} - \\frac{21 u^{6} v^{2}}{1024} - \\frac{7 u^{5} v^{3}}{512} - \\frac{25 u^{4} v^{4}}{2048} - \\frac{7 u^{3} v^{5}}{512} - \\frac{21 u^{2} v^{6}}{1024} - \\frac{33 u v^{7}}{512} + \\frac{429 v^{8}}{4096}\\right) \\epsilon^{8} + \\left(2 \\sqrt{2} i (u)_{x} u^{6} - 2 \\sqrt{2} i (v)_{x} v^{6}\\right) \\epsilon^{7} + \\left(- \\frac{693 (u)_{xx} u^{5}}{128} - \\frac{315 (u)_{xx} u^{4} v}{128} - \\frac{105 (u)_{xx} u^{3} v^{2}}{64} - \\frac{75 (u)_{xx} u^{2} v^{3}}{64} - \\frac{105 (u)_{xx} u v^{4}}{128} - \\frac{63 (u)_{xx} v^{5}}{128} - \\frac{5775 (u)_{x}^{2} u^{4}}{256} - \\frac{525 (u)_{x}^{2} u^{3} v}{64} - \\frac{525 (u)_{x}^{2} u^{2} v^{2}}{128} - \\frac{125 (u)_{x}^{2} u v^{3}}{64} - \\frac{175 (u)_{x}^{2} v^{4}}{256} - \\frac{315 (u)_{x} (v)_{x} u^{4}}{128} - \\frac{105 (u)_{x} (v)_{x} u^{3} v}{32} - \\frac{225 (u)_{x} (v)_{x} u^{2} v^{2}}{64} - \\frac{105 (u)_{x} (v)_{x} u v^{3}}{32} - \\frac{315 (u)_{x} (v)_{x} v^{4}}{128} + \\frac{63 (v)_{xx} u^{5}}{128} + \\frac{105 (v)_{xx} u^{4} v}{128} + \\frac{75 (v)_{xx} u^{3} v^{2}}{64} + \\frac{105 (v)_{xx} u^{2} v^{3}}{64} + \\frac{315 (v)_{xx} u v^{4}}{128} + \\frac{693 (v)_{xx} v^{5}}{128} + \\frac{245 (v)_{x}^{2} u^{4}}{256} + \\frac{175 (v)_{x}^{2} u^{3} v}{64} + \\frac{735 (v)_{x}^{2} u^{2} v^{2}}{128} + \\frac{735 (v)_{x}^{2} u v^{3}}{64} + \\frac{8085 (v)_{x}^{2} v^{4}}{256} - \\frac{231 u^{7}}{256} + \\frac{105 u^{6} v}{256} + \\frac{21 u^{5} v^{2}}{256} + \\frac{5 u^{4} v^{3}}{256} - \\frac{5 u^{3} v^{4}}{256} - \\frac{21 u^{2} v^{5}}{256} - \\frac{105 u v^{6}}{256} + \\frac{231 v^{7}}{256}\\right) \\epsilon^{6} + \\left(- 5 \\sqrt{2} i (u)_{xxx} u^{4} - 4 \\sqrt{2} i (u)_{xxx} u^{3} v - 3 \\sqrt{2} i (u)_{xxx} u^{2} v^{2} - 2 \\sqrt{2} i (u)_{xxx} u v^{3} - \\sqrt{2} i (u)_{xxx} v^{4} - 45 \\sqrt{2} i (u)_{xx} (u)_{x} u^{3} - 27 \\sqrt{2} i (u)_{xx} (u)_{x} u^{2} v - \\frac{27 \\sqrt{2} i (u)_{xx} (u)_{x} u v^{2}}{2} - \\frac{9 \\sqrt{2} i (u)_{xx} (u)_{x} v^{3}}{2} - 6 \\sqrt{2} i (u)_{xx} (v)_{x} u^{3} - 9 \\sqrt{2} i (u)_{xx} (v)_{x} u^{2} v - 9 \\sqrt{2} i (u)_{xx} (v)_{x} u v^{2} - 6 \\sqrt{2} i (u)_{xx} (v)_{x} v^{3} - \\frac{75 \\sqrt{2} i (u)_{x}^{3} u^{2}}{2} - 15 \\sqrt{2} i (u)_{x}^{3} u v - \\frac{15 \\sqrt{2} i (u)_{x}^{3} v^{2}}{4} - \\frac{27 \\sqrt{2} i (u)_{x}^{2} (v)_{x} u^{2}}{2} - \\frac{27 \\sqrt{2} i (u)_{x}^{2} (v)_{x} u v}{2} - \\frac{27 \\sqrt{2} i (u)_{x}^{2} (v)_{x} v^{2}}{4} + 2 \\sqrt{2} i (u)_{x} (v)_{xx} u^{3} + 3 \\sqrt{2} i (u)_{x} (v)_{xx} u^{2} v + 3 \\sqrt{2} i (u)_{x} (v)_{xx} u v^{2} + 2 \\sqrt{2} i (u)_{x} (v)_{xx} v^{3} + \\frac{9 \\sqrt{2} i (u)_{x} (v)_{x}^{2} u^{2}}{4} + \\frac{9 \\sqrt{2} i (u)_{x} (v)_{x}^{2} u v}{2} + \\frac{9 \\sqrt{2} i (u)_{x} (v)_{x}^{2} v^{2}}{2} - 12 \\sqrt{2} i (u)_{x} u^{5} + \\sqrt{2} i (v)_{xxx} u^{4} + 2 \\sqrt{2} i (v)_{xxx} u^{3} v + 3 \\sqrt{2} i (v)_{xxx} u^{2} v^{2} + 4 \\sqrt{2} i (v)_{xxx} u v^{3} + 5 \\sqrt{2} i (v)_{xxx} v^{4} + \\frac{11 \\sqrt{2} i (v)_{xx} (v)_{x} u^{3}}{2} + \\frac{33 \\sqrt{2} i (v)_{xx} (v)_{x} u^{2} v}{2} + 33 \\sqrt{2} i (v)_{xx} (v)_{x} u v^{2} + 55 \\sqrt{2} i (v)_{xx} (v)_{x} v^{3} + \\frac{21 \\sqrt{2} i (v)_{x}^{3} u^{2}}{4} + 21 \\sqrt{2} i (v)_{x}^{3} u v + \\frac{105 \\sqrt{2} i (v)_{x}^{3} v^{2}}{2} - 12 \\sqrt{2} i (v)_{x} v^{5}\\right) \\epsilon^{5} + \\left(\\frac{105 (u)_{xxxx} u^{3}}{16} + \\frac{105 (u)_{xxxx} u^{2} v}{16} + \\frac{75 (u)_{xxxx} u v^{2}}{16} + \\frac{35 (u)_{xxxx} v^{3}}{16} + \\frac{441 (u)_{xxx} (u)_{x} u^{2}}{8} + \\frac{147 (u)_{xxx} (u)_{x} u v}{4} + \\frac{105 (u)_{xxx} (u)_{x} v^{2}}{8} + \\frac{105 (u)_{xxx} (v)_{x} u^{2}}{8} + \\frac{75 (u)_{xxx} (v)_{x} u v}{4} + \\frac{105 (u)_{xxx} (v)_{x} v^{2}}{8} + \\frac{1197 (u)_{xx}^{2} u^{2}}{32} + \\frac{399 (u)_{xx}^{2} u v}{16} + \\frac{285 (u)_{xx}^{2} v^{2}}{32} + \\frac{1989 (u)_{xx} (u)_{x}^{2} u}{16} + \\frac{663 (u)_{xx} (u)_{x}^{2} v}{16} + \\frac{427 (u)_{xx} (u)_{x} (v)_{x} u}{8} + \\frac{305 (u)_{xx} (u)_{x} (v)_{x} v}{8} + \\frac{35 (u)_{xx} (v)_{xx} u^{2}}{16} + \\frac{25 (u)_{xx} (v)_{xx} u v}{8} + \\frac{35 (u)_{xx} (v)_{xx} v^{2}}{16} + \\frac{85 (u)_{xx} (v)_{x}^{2} u}{16} + \\frac{119 (u)_{xx} (v)_{x}^{2} v}{16} + \\frac{1575 (u)_{xx} u^{4}}{64} + \\frac{105 (u)_{xx} u^{3} v}{16} + \\frac{45 (u)_{xx} u^{2} v^{2}}{32} - \\frac{15 (u)_{xx} u v^{3}}{16} - \\frac{105 (u)_{xx} v^{4}}{64} + \\frac{1105 (u)_{x}^{4}}{64} + \\frac{221 (u)_{x}^{3} (v)_{x}}{16} + \\frac{21 (u)_{x}^{2} (v)_{xx} u}{16} + \\frac{15 (u)_{x}^{2} (v)_{xx} v}{16} + \\frac{87 (u)_{x}^{2} (v)_{x}^{2}}{32} + \\frac{2625 (u)_{x}^{2} u^{3}}{32} + \\frac{525 (u)_{x}^{2} u^{2} v}{32} + \\frac{75 (u)_{x}^{2} u v^{2}}{32} - \\frac{25 (u)_{x}^{2} v^{3}}{32} - \\frac{35 (u)_{x} (v)_{xxx} u^{2}}{4} - \\frac{25 (u)_{x} (v)_{xxx} u v}{2} - \\frac{35 (u)_{x} (v)_{xxx} v^{2}}{4} - \\frac{225 (u)_{x} (v)_{xx} (v)_{x} u}{8} - \\frac{315 (u)_{x} (v)_{xx} (v)_{x} v}{8} - \\frac{175 (u)_{x} (v)_{x}^{3}}{16} + \\frac{105 (u)_{x} (v)_{x} u^{3}}{16} + \\frac{45 (u)_{x} (v)_{x} u^{2} v}{16} - \\frac{45 (u)_{x} (v)_{x} u v^{2}}{16} - \\frac{105 (u)_{x} (v)_{x} v^{3}}{16} - \\frac{35 (v)_{xxxx} u^{3}}{16} - \\frac{75 (v)_{xxxx} u^{2} v}{16} - \\frac{105 (v)_{xxxx} u v^{2}}{16} - \\frac{105 (v)_{xxxx} v^{3}}{16} - 15 (v)_{xxx} (v)_{x} u^{2} - 42 (v)_{xxx} (v)_{x} u v - 63 (v)_{xxx} (v)_{x} v^{2} - \\frac{315 (v)_{xx}^{2} u^{2}}{32} - \\frac{441 (v)_{xx}^{2} u v}{16} - \\frac{1323 (v)_{xx}^{2} v^{2}}{32} - \\frac{819 (v)_{xx} (v)_{x}^{2} u}{16} - \\frac{2457 (v)_{xx} (v)_{x}^{2} v}{16} - \\frac{105 (v)_{xx} u^{4}}{64} - \\frac{15 (v)_{xx} u^{3} v}{16} + \\frac{45 (v)_{xx} u^{2} v^{2}}{32} + \\frac{105 (v)_{xx} u v^{3}}{16} + \\frac{1575 (v)_{xx} v^{4}}{64} - \\frac{1463 (v)_{x}^{4}}{64} - \\frac{35 (v)_{x}^{2} u^{3}}{32} + \\frac{105 (v)_{x}^{2} u^{2} v}{32} + \\frac{735 (v)_{x}^{2} u v^{2}}{32} + \\frac{3675 (v)_{x}^{2} v^{3}}{32} + \\frac{189 u^{6}}{64} - \\frac{7 u^{5} v}{8} - \\frac{5 u^{4} v^{2}}{64} - \\frac{5 u^{2} v^{4}}{64} - \\frac{7 u v^{5}}{8} + \\frac{189 v^{6}}{64}\\right) \\epsilon^{4} + \\left(3 \\sqrt{2} i (u)_{xxxxx} u^{2} + 3 \\sqrt{2} i (u)_{xxxxx} u v + \\frac{3 \\sqrt{2} i (u)_{xxxxx} v^{2}}{2} + 20 \\sqrt{2} i (u)_{xxxx} (u)_{x} u + 10 \\sqrt{2} i (u)_{xxxx} (u)_{x} v + \\frac{15 \\sqrt{2} i (u)_{xxxx} (v)_{x} u}{2} + \\frac{15 \\sqrt{2} i (u)_{xxxx} (v)_{x} v}{2} + 34 \\sqrt{2} i (u)_{xxx} (u)_{xx} u + 17 \\sqrt{2} i (u)_{xxx} (u)_{xx} v + \\frac{225 \\sqrt{2} i (u)_{xxx} (u)_{x}^{2}}{8} + \\frac{77 \\sqrt{2} i (u)_{xxx} (u)_{x} (v)_{x}}{4} + \\frac{9 \\sqrt{2} i (u)_{xxx} (v)_{xx} u}{2} + \\frac{9 \\sqrt{2} i (u)_{xxx} (v)_{xx} v}{2} + \\frac{41 \\sqrt{2} i (u)_{xxx} (v)_{x}^{2}}{8} + 16 \\sqrt{2} i (u)_{xxx} u^{3} + 6 \\sqrt{2} i (u)_{xxx} u^{2} v - 2 \\sqrt{2} i (u)_{xxx} v^{3} + \\frac{153 \\sqrt{2} i (u)_{xx}^{2} (u)_{x}}{4} + \\frac{51 \\sqrt{2} i (u)_{xx}^{2} (v)_{x}}{4} + \\frac{15 \\sqrt{2} i (u)_{xx} (u)_{x} (v)_{xx}}{2} + 108 \\sqrt{2} i (u)_{xx} (u)_{x} u^{2} + 27 \\sqrt{2} i (u)_{xx} (u)_{x} u v - 3 \\sqrt{2} i (u)_{xx} (v)_{xxx} u - 3 \\sqrt{2} i (u)_{xx} (v)_{xxx} v - \\frac{9 \\sqrt{2} i (u)_{xx} (v)_{xx} (v)_{x}}{2} + 9 \\sqrt{2} i (u)_{xx} (v)_{x} u^{2} - 9 \\sqrt{2} i (u)_{xx} (v)_{x} v^{2} + 60 \\sqrt{2} i (u)_{x}^{3} u + \\frac{15 \\sqrt{2} i (u)_{x}^{3} v}{2} - \\frac{25 \\sqrt{2} i (u)_{x}^{2} (v)_{xxx}}{8} + \\frac{27 \\sqrt{2} i (u)_{x}^{2} (v)_{x} u}{2} - 6 \\sqrt{2} i (u)_{x} (v)_{xxxx} u - 6 \\sqrt{2} i (u)_{x} (v)_{xxxx} v - \\frac{67 \\sqrt{2} i (u)_{x} (v)_{xxx} (v)_{x}}{4} - \\frac{43 \\sqrt{2} i (u)_{x} (v)_{xx}^{2}}{4} - 3 \\sqrt{2} i (u)_{x} (v)_{xx} u^{2} + 3 \\sqrt{2} i (u)_{x} (v)_{xx} v^{2} + \\frac{9 \\sqrt{2} i (u)_{x} (v)_{x}^{2} v}{2} + 25 \\sqrt{2} i (u)_{x} u^{4} - \\frac{3 \\sqrt{2} i (v)_{xxxxx} u^{2}}{2} - 3 \\sqrt{2} i (v)_{xxxxx} u v - 3 \\sqrt{2} i (v)_{xxxxx} v^{2} - 11 \\sqrt{2} i (v)_{xxxx} (v)_{x} u - 22 \\sqrt{2} i (v)_{xxxx} (v)_{x} v - 18 \\sqrt{2} i (v)_{xxx} (v)_{xx} u - 36 \\sqrt{2} i (v)_{xxx} (v)_{xx} v - \\frac{261 \\sqrt{2} i (v)_{xxx} (v)_{x}^{2}}{8} - 2 \\sqrt{2} i (v)_{xxx} u^{3} + 6 \\sqrt{2} i (v)_{xxx} u v^{2} + 16 \\sqrt{2} i (v)_{xxx} v^{3} - \\frac{173 \\sqrt{2} i (v)_{xx}^{2} (v)_{x}}{4} + 33 \\sqrt{2} i (v)_{xx} (v)_{x} u v + 132 \\sqrt{2} i (v)_{xx} (v)_{x} v^{2} + \\frac{21 \\sqrt{2} i (v)_{x}^{3} u}{2} + 84 \\sqrt{2} i (v)_{x}^{3} v - 25 \\sqrt{2} i (v)_{x} v^{4}\\right) \\epsilon^{3} + \\left(- \\frac{7 (u)_{xxxxxx} u}{4} - \\frac{5 (u)_{xxxxxx} v}{4} - \\frac{27 (u)_{xxxxx} (u)_{x}}{4} - \\frac{15 (u)_{xxxxx} (v)_{x}}{4} - \\frac{55 (u)_{xxxx} (u)_{xx}}{4} - \\frac{15 (u)_{xxxx} (v)_{xx}}{4} - \\frac{105 (u)_{xxxx} u^{2}}{8} - \\frac{15 (u)_{xxxx} u v}{4} + \\frac{15 (u)_{xxxx} v^{2}}{8} - \\frac{69 (u)_{xxx}^{2}}{8} - \\frac{147 (u)_{xxx} (u)_{x} u}{2} - \\frac{21 (u)_{xxx} (u)_{x} v}{2} - \\frac{(u)_{xxx} (v)_{xxx}}{4} - \\frac{15 (u)_{xxx} (v)_{x} u}{2} + \\frac{15 (u)_{xxx} (v)_{x} v}{2} - \\frac{399 (u)_{xx}^{2} u}{8} - \\frac{57 (u)_{xx}^{2} v}{8} - \\frac{663 (u)_{xx} (u)_{x}^{2}}{8} - \\frac{61 (u)_{xx} (u)_{x} (v)_{x}}{4} + \\frac{13 (u)_{xx} (v)_{xxxx}}{4} - \\frac{5 (u)_{xx} (v)_{xx} u}{4} + \\frac{5 (u)_{xx} (v)_{xx} v}{4} + \\frac{17 (u)_{xx} (v)_{x}^{2}}{8} - 35 (u)_{xx} u^{3} - \\frac{15 (u)_{xx} u^{2} v}{4} - \\frac{5 (u)_{xx} v^{3}}{4} - \\frac{3 (u)_{x}^{2} (v)_{xx}}{8} - \\frac{175 (u)_{x}^{2} u^{2}}{2} - \\frac{25 (u)_{x}^{2} u v}{4} + \\frac{13 (u)_{x} (v)_{xxxxx}}{4} + 5 (u)_{x} (v)_{xxx} u - 5 (u)_{x} (v)_{xxx} v - \\frac{45 (u)_{x} (v)_{xx} (v)_{x}}{4} - \\frac{15 (u)_{x} (v)_{x} u^{2}}{4} - \\frac{15 (u)_{x} (v)_{x} v^{2}}{4} + \\frac{5 (v)_{xxxxxx} u}{4} + \\frac{7 (v)_{xxxxxx} v}{4} + \\frac{29 (v)_{xxxxx} (v)_{x}}{4} + \\frac{57 (v)_{xxxx} (v)_{xx}}{4} + \\frac{15 (v)_{xxxx} u^{2}}{8} - \\frac{15 (v)_{xxxx} u v}{4} - \\frac{105 (v)_{xxxx} v^{2}}{8} + \\frac{71 (v)_{xxx}^{2}}{8} - 12 (v)_{xxx} (v)_{x} u - 84 (v)_{xxx} (v)_{x} v - \\frac{63 (v)_{xx}^{2} u}{8} - \\frac{441 (v)_{xx}^{2} v}{8} - \\frac{819 (v)_{xx} (v)_{x}^{2}}{8} + \\frac{5 (v)_{xx} u^{3}}{4} + \\frac{15 (v)_{xx} u v^{2}}{4} + 35 (v)_{xx} v^{3} + \\frac{35 (v)_{x}^{2} u v}{4} + \\frac{245 (v)_{x}^{2} v^{2}}{2} - \\frac{35 u^{5}}{8} + \\frac{5 u^{4} v}{8} - \\frac{5 u v^{4}}{8} + \\frac{35 v^{5}}{8}\\right) \\epsilon^{2} + \\left(- \\frac{\\sqrt{2} i (u)_{xxxxxxx}}{4} - 3 \\sqrt{2} i (u)_{xxxxx} u - 10 \\sqrt{2} i (u)_{xxxx} (u)_{x} - 17 \\sqrt{2} i (u)_{xxx} (u)_{xx} - \\frac{27 \\sqrt{2} i (u)_{xxx} u^{2}}{2} - \\sqrt{2} i (u)_{xxx} u v - \\frac{\\sqrt{2} i (u)_{xxx} v^{2}}{2} - \\frac{243 \\sqrt{2} i (u)_{xx} (u)_{x} u}{4} - \\frac{9 \\sqrt{2} i (u)_{xx} (u)_{x} v}{4} - \\frac{3 \\sqrt{2} i (u)_{xx} (v)_{x} u}{2} - \\frac{3 \\sqrt{2} i (u)_{xx} (v)_{x} v}{2} - \\frac{135 \\sqrt{2} i (u)_{x}^{3}}{8} - \\frac{9 \\sqrt{2} i (u)_{x}^{2} (v)_{x}}{8} + \\frac{\\sqrt{2} i (u)_{x} (v)_{xx} u}{2} + \\frac{\\sqrt{2} i (u)_{x} (v)_{xx} v}{2} + \\frac{3 \\sqrt{2} i (u)_{x} (v)_{x}^{2}}{8} - 20 \\sqrt{2} i (u)_{x} u^{3} + \\frac{\\sqrt{2} i (v)_{xxxxxxx}}{4} - 3 \\sqrt{2} i (v)_{xxxxx} v - 11 \\sqrt{2} i (v)_{xxxx} (v)_{x} - 18 \\sqrt{2} i (v)_{xxx} (v)_{xx} + \\frac{\\sqrt{2} i (v)_{xxx} u^{2}}{2} + \\sqrt{2} i (v)_{xxx} u v + \\frac{27 \\sqrt{2} i (v)_{xxx} v^{2}}{2} + \\frac{11 \\sqrt{2} i (v)_{xx} (v)_{x} u}{4} + \\frac{297 \\sqrt{2} i (v)_{xx} (v)_{x} v}{4} + \\frac{189 \\sqrt{2} i (v)_{x}^{3}}{8} - 20 \\sqrt{2} i (v)_{x} v^{3}\\right) \\epsilon + \\left(\\frac{\\sqrt{2} i (u)_{x}}{8} - \\frac{\\sqrt{2} i (v)_{x}}{8}\\right) \\frac{1}{\\epsilon^{5}} + \\left(\\frac{\\sqrt{2} i (u)_{xxx}}{8} + \\frac{\\sqrt{2} i (u)_{x} u}{2} - \\frac{\\sqrt{2} i (v)_{xxx}}{8} + \\frac{\\sqrt{2} i (v)_{x} v}{2}\\right) \\frac{1}{\\epsilon^{3}} + \\left(\\frac{\\sqrt{2} i (u)_{xxxxx}}{4} + 2 \\sqrt{2} i (u)_{xxx} u + \\frac{9 \\sqrt{2} i (u)_{xx} (u)_{x}}{2} + \\frac{15 \\sqrt{2} i (u)_{x} u^{2}}{4} - \\frac{\\sqrt{2} i (v)_{xxxxx}}{4} + 2 \\sqrt{2} i (v)_{xxx} v + \\frac{11 \\sqrt{2} i (v)_{xx} (v)_{x}}{2} - \\frac{15 \\sqrt{2} i (v)_{x} v^{2}}{4}\\right) \\frac{1}{\\epsilon} + \\frac{(u)_{xxxxxx}}{2} + 5 (u)_{xxxx} u + 14 (u)_{xxx} (u)_{x} + \\frac{19 (u)_{xx}^{2}}{2} + 15 (u)_{xx} u^{2} + 25 (u)_{x}^{2} u + \\frac{(v)_{xxxxxx}}{2} - 5 (v)_{xxxx} v - 16 (v)_{xxx} (v)_{x} - \\frac{21 (v)_{xx}^{2}}{2} + 15 (v)_{xx} v^{2} + 35 (v)_{x}^{2} v + \\frac{5 u^{4}}{2} + \\frac{5 v^{4}}{2}, \\epsilon, \\frac{1}{\\epsilon}, domain=\\mathtt{\\text{EX}} \\right)}$"
      ],
      "text/plain": [
       "Eq(\\sigma_{7}, Poly((429*u**8/4096 - 33*u**7*v/512 - 21*u**6*v**2/1024 - 7*u**5*v**3/512 - 25*u**4*v**4/2048 - 7*u**3*v**5/512 - 21*u**2*v**6/1024 - 33*u*v**7/512 + 429*v**8/4096)*\\epsilon**8 + (2*sqrt(2)*I*(u)_{x}*u**6 - 2*sqrt(2)*I*(v)_{x}*v**6)*\\epsilon**7 + (-693*(u)_{xx}*u**5/128 - 315*(u)_{xx}*u**4*v/128 - 105*(u)_{xx}*u**3*v**2/64 - 75*(u)_{xx}*u**2*v**3/64 - 105*(u)_{xx}*u*v**4/128 - 63*(u)_{xx}*v**5/128 - 5775*(u)_{x}**2*u**4/256 - 525*(u)_{x}**2*u**3*v/64 - 525*(u)_{x}**2*u**2*v**2/128 - 125*(u)_{x}**2*u*v**3/64 - 175*(u)_{x}**2*v**4/256 - 315*(u)_{x}*(v)_{x}*u**4/128 - 105*(u)_{x}*(v)_{x}*u**3*v/32 - 225*(u)_{x}*(v)_{x}*u**2*v**2/64 - 105*(u)_{x}*(v)_{x}*u*v**3/32 - 315*(u)_{x}*(v)_{x}*v**4/128 + 63*(v)_{xx}*u**5/128 + 105*(v)_{xx}*u**4*v/128 + 75*(v)_{xx}*u**3*v**2/64 + 105*(v)_{xx}*u**2*v**3/64 + 315*(v)_{xx}*u*v**4/128 + 693*(v)_{xx}*v**5/128 + 245*(v)_{x}**2*u**4/256 + 175*(v)_{x}**2*u**3*v/64 + 735*(v)_{x}**2*u**2*v**2/128 + 735*(v)_{x}**2*u*v**3/64 + 8085*(v)_{x}**2*v**4/256 - 231*u**7/256 + 105*u**6*v/256 + 21*u**5*v**2/256 + 5*u**4*v**3/256 - 5*u**3*v**4/256 - 21*u**2*v**5/256 - 105*u*v**6/256 + 231*v**7/256)*\\epsilon**6 + (-5*sqrt(2)*I*(u)_{xxx}*u**4 - 4*sqrt(2)*I*(u)_{xxx}*u**3*v - 3*sqrt(2)*I*(u)_{xxx}*u**2*v**2 - 2*sqrt(2)*I*(u)_{xxx}*u*v**3 - sqrt(2)*I*(u)_{xxx}*v**4 - 45*sqrt(2)*I*(u)_{xx}*(u)_{x}*u**3 - 27*sqrt(2)*I*(u)_{xx}*(u)_{x}*u**2*v - 27*sqrt(2)*I*(u)_{xx}*(u)_{x}*u*v**2/2 - 9*sqrt(2)*I*(u)_{xx}*(u)_{x}*v**3/2 - 6*sqrt(2)*I*(u)_{xx}*(v)_{x}*u**3 - 9*sqrt(2)*I*(u)_{xx}*(v)_{x}*u**2*v - 9*sqrt(2)*I*(u)_{xx}*(v)_{x}*u*v**2 - 6*sqrt(2)*I*(u)_{xx}*(v)_{x}*v**3 - 75*sqrt(2)*I*(u)_{x}**3*u**2/2 - 15*sqrt(2)*I*(u)_{x}**3*u*v - 15*sqrt(2)*I*(u)_{x}**3*v**2/4 - 27*sqrt(2)*I*(u)_{x}**2*(v)_{x}*u**2/2 - 27*sqrt(2)*I*(u)_{x}**2*(v)_{x}*u*v/2 - 27*sqrt(2)*I*(u)_{x}**2*(v)_{x}*v**2/4 + 2*sqrt(2)*I*(u)_{x}*(v)_{xx}*u**3 + 3*sqrt(2)*I*(u)_{x}*(v)_{xx}*u**2*v + 3*sqrt(2)*I*(u)_{x}*(v)_{xx}*u*v**2 + 2*sqrt(2)*I*(u)_{x}*(v)_{xx}*v**3 + 9*sqrt(2)*I*(u)_{x}*(v)_{x}**2*u**2/4 + 9*sqrt(2)*I*(u)_{x}*(v)_{x}**2*u*v/2 + 9*sqrt(2)*I*(u)_{x}*(v)_{x}**2*v**2/2 - 12*sqrt(2)*I*(u)_{x}*u**5 + sqrt(2)*I*(v)_{xxx}*u**4 + 2*sqrt(2)*I*(v)_{xxx}*u**3*v + 3*sqrt(2)*I*(v)_{xxx}*u**2*v**2 + 4*sqrt(2)*I*(v)_{xxx}*u*v**3 + 5*sqrt(2)*I*(v)_{xxx}*v**4 + 11*sqrt(2)*I*(v)_{xx}*(v)_{x}*u**3/2 + 33*sqrt(2)*I*(v)_{xx}*(v)_{x}*u**2*v/2 + 33*sqrt(2)*I*(v)_{xx}*(v)_{x}*u*v**2 + 55*sqrt(2)*I*(v)_{xx}*(v)_{x}*v**3 + 21*sqrt(2)*I*(v)_{x}**3*u**2/4 + 21*sqrt(2)*I*(v)_{x}**3*u*v + 105*sqrt(2)*I*(v)_{x}**3*v**2/2 - 12*sqrt(2)*I*(v)_{x}*v**5)*\\epsilon**5 + (105*(u)_{xxxx}*u**3/16 + 105*(u)_{xxxx}*u**2*v/16 + 75*(u)_{xxxx}*u*v**2/16 + 35*(u)_{xxxx}*v**3/16 + 441*(u)_{xxx}*(u)_{x}*u**2/8 + 147*(u)_{xxx}*(u)_{x}*u*v/4 + 105*(u)_{xxx}*(u)_{x}*v**2/8 + 105*(u)_{xxx}*(v)_{x}*u**2/8 + 75*(u)_{xxx}*(v)_{x}*u*v/4 + 105*(u)_{xxx}*(v)_{x}*v**2/8 + 1197*(u)_{xx}**2*u**2/32 + 399*(u)_{xx}**2*u*v/16 + 285*(u)_{xx}**2*v**2/32 + 1989*(u)_{xx}*(u)_{x}**2*u/16 + 663*(u)_{xx}*(u)_{x}**2*v/16 + 427*(u)_{xx}*(u)_{x}*(v)_{x}*u/8 + 305*(u)_{xx}*(u)_{x}*(v)_{x}*v/8 + 35*(u)_{xx}*(v)_{xx}*u**2/16 + 25*(u)_{xx}*(v)_{xx}*u*v/8 + 35*(u)_{xx}*(v)_{xx}*v**2/16 + 85*(u)_{xx}*(v)_{x}**2*u/16 + 119*(u)_{xx}*(v)_{x}**2*v/16 + 1575*(u)_{xx}*u**4/64 + 105*(u)_{xx}*u**3*v/16 + 45*(u)_{xx}*u**2*v**2/32 - 15*(u)_{xx}*u*v**3/16 - 105*(u)_{xx}*v**4/64 + 1105*(u)_{x}**4/64 + 221*(u)_{x}**3*(v)_{x}/16 + 21*(u)_{x}**2*(v)_{xx}*u/16 + 15*(u)_{x}**2*(v)_{xx}*v/16 + 87*(u)_{x}**2*(v)_{x}**2/32 + 2625*(u)_{x}**2*u**3/32 + 525*(u)_{x}**2*u**2*v/32 + 75*(u)_{x}**2*u*v**2/32 - 25*(u)_{x}**2*v**3/32 - 35*(u)_{x}*(v)_{xxx}*u**2/4 - 25*(u)_{x}*(v)_{xxx}*u*v/2 - 35*(u)_{x}*(v)_{xxx}*v**2/4 - 225*(u)_{x}*(v)_{xx}*(v)_{x}*u/8 - 315*(u)_{x}*(v)_{xx}*(v)_{x}*v/8 - 175*(u)_{x}*(v)_{x}**3/16 + 105*(u)_{x}*(v)_{x}*u**3/16 + 45*(u)_{x}*(v)_{x}*u**2*v/16 - 45*(u)_{x}*(v)_{x}*u*v**2/16 - 105*(u)_{x}*(v)_{x}*v**3/16 - 35*(v)_{xxxx}*u**3/16 - 75*(v)_{xxxx}*u**2*v/16 - 105*(v)_{xxxx}*u*v**2/16 - 105*(v)_{xxxx}*v**3/16 - 15*(v)_{xxx}*(v)_{x}*u**2 - 42*(v)_{xxx}*(v)_{x}*u*v - 63*(v)_{xxx}*(v)_{x}*v**2 - 315*(v)_{xx}**2*u**2/32 - 441*(v)_{xx}**2*u*v/16 - 1323*(v)_{xx}**2*v**2/32 - 819*(v)_{xx}*(v)_{x}**2*u/16 - 2457*(v)_{xx}*(v)_{x}**2*v/16 - 105*(v)_{xx}*u**4/64 - 15*(v)_{xx}*u**3*v/16 + 45*(v)_{xx}*u**2*v**2/32 + 105*(v)_{xx}*u*v**3/16 + 1575*(v)_{xx}*v**4/64 - 1463*(v)_{x}**4/64 - 35*(v)_{x}**2*u**3/32 + 105*(v)_{x}**2*u**2*v/32 + 735*(v)_{x}**2*u*v**2/32 + 3675*(v)_{x}**2*v**3/32 + 189*u**6/64 - 7*u**5*v/8 - 5*u**4*v**2/64 - 5*u**2*v**4/64 - 7*u*v**5/8 + 189*v**6/64)*\\epsilon**4 + (3*sqrt(2)*I*(u)_{xxxxx}*u**2 + 3*sqrt(2)*I*(u)_{xxxxx}*u*v + 3*sqrt(2)*I*(u)_{xxxxx}*v**2/2 + 20*sqrt(2)*I*(u)_{xxxx}*(u)_{x}*u + 10*sqrt(2)*I*(u)_{xxxx}*(u)_{x}*v + 15*sqrt(2)*I*(u)_{xxxx}*(v)_{x}*u/2 + 15*sqrt(2)*I*(u)_{xxxx}*(v)_{x}*v/2 + 34*sqrt(2)*I*(u)_{xxx}*(u)_{xx}*u + 17*sqrt(2)*I*(u)_{xxx}*(u)_{xx}*v + 225*sqrt(2)*I*(u)_{xxx}*(u)_{x}**2/8 + 77*sqrt(2)*I*(u)_{xxx}*(u)_{x}*(v)_{x}/4 + 9*sqrt(2)*I*(u)_{xxx}*(v)_{xx}*u/2 + 9*sqrt(2)*I*(u)_{xxx}*(v)_{xx}*v/2 + 41*sqrt(2)*I*(u)_{xxx}*(v)_{x}**2/8 + 16*sqrt(2)*I*(u)_{xxx}*u**3 + 6*sqrt(2)*I*(u)_{xxx}*u**2*v - 2*sqrt(2)*I*(u)_{xxx}*v**3 + 153*sqrt(2)*I*(u)_{xx}**2*(u)_{x}/4 + 51*sqrt(2)*I*(u)_{xx}**2*(v)_{x}/4 + 15*sqrt(2)*I*(u)_{xx}*(u)_{x}*(v)_{xx}/2 + 108*sqrt(2)*I*(u)_{xx}*(u)_{x}*u**2 + 27*sqrt(2)*I*(u)_{xx}*(u)_{x}*u*v - 3*sqrt(2)*I*(u)_{xx}*(v)_{xxx}*u - 3*sqrt(2)*I*(u)_{xx}*(v)_{xxx}*v - 9*sqrt(2)*I*(u)_{xx}*(v)_{xx}*(v)_{x}/2 + 9*sqrt(2)*I*(u)_{xx}*(v)_{x}*u**2 - 9*sqrt(2)*I*(u)_{xx}*(v)_{x}*v**2 + 60*sqrt(2)*I*(u)_{x}**3*u + 15*sqrt(2)*I*(u)_{x}**3*v/2 - 25*sqrt(2)*I*(u)_{x}**2*(v)_{xxx}/8 + 27*sqrt(2)*I*(u)_{x}**2*(v)_{x}*u/2 - 6*sqrt(2)*I*(u)_{x}*(v)_{xxxx}*u - 6*sqrt(2)*I*(u)_{x}*(v)_{xxxx}*v - 67*sqrt(2)*I*(u)_{x}*(v)_{xxx}*(v)_{x}/4 - 43*sqrt(2)*I*(u)_{x}*(v)_{xx}**2/4 - 3*sqrt(2)*I*(u)_{x}*(v)_{xx}*u**2 + 3*sqrt(2)*I*(u)_{x}*(v)_{xx}*v**2 + 9*sqrt(2)*I*(u)_{x}*(v)_{x}**2*v/2 + 25*sqrt(2)*I*(u)_{x}*u**4 - 3*sqrt(2)*I*(v)_{xxxxx}*u**2/2 - 3*sqrt(2)*I*(v)_{xxxxx}*u*v - 3*sqrt(2)*I*(v)_{xxxxx}*v**2 - 11*sqrt(2)*I*(v)_{xxxx}*(v)_{x}*u - 22*sqrt(2)*I*(v)_{xxxx}*(v)_{x}*v - 18*sqrt(2)*I*(v)_{xxx}*(v)_{xx}*u - 36*sqrt(2)*I*(v)_{xxx}*(v)_{xx}*v - 261*sqrt(2)*I*(v)_{xxx}*(v)_{x}**2/8 - 2*sqrt(2)*I*(v)_{xxx}*u**3 + 6*sqrt(2)*I*(v)_{xxx}*u*v**2 + 16*sqrt(2)*I*(v)_{xxx}*v**3 - 173*sqrt(2)*I*(v)_{xx}**2*(v)_{x}/4 + 33*sqrt(2)*I*(v)_{xx}*(v)_{x}*u*v + 132*sqrt(2)*I*(v)_{xx}*(v)_{x}*v**2 + 21*sqrt(2)*I*(v)_{x}**3*u/2 + 84*sqrt(2)*I*(v)_{x}**3*v - 25*sqrt(2)*I*(v)_{x}*v**4)*\\epsilon**3 + (-7*(u)_{xxxxxx}*u/4 - 5*(u)_{xxxxxx}*v/4 - 27*(u)_{xxxxx}*(u)_{x}/4 - 15*(u)_{xxxxx}*(v)_{x}/4 - 55*(u)_{xxxx}*(u)_{xx}/4 - 15*(u)_{xxxx}*(v)_{xx}/4 - 105*(u)_{xxxx}*u**2/8 - 15*(u)_{xxxx}*u*v/4 + 15*(u)_{xxxx}*v**2/8 - 69*(u)_{xxx}**2/8 - 147*(u)_{xxx}*(u)_{x}*u/2 - 21*(u)_{xxx}*(u)_{x}*v/2 - (u)_{xxx}*(v)_{xxx}/4 - 15*(u)_{xxx}*(v)_{x}*u/2 + 15*(u)_{xxx}*(v)_{x}*v/2 - 399*(u)_{xx}**2*u/8 - 57*(u)_{xx}**2*v/8 - 663*(u)_{xx}*(u)_{x}**2/8 - 61*(u)_{xx}*(u)_{x}*(v)_{x}/4 + 13*(u)_{xx}*(v)_{xxxx}/4 - 5*(u)_{xx}*(v)_{xx}*u/4 + 5*(u)_{xx}*(v)_{xx}*v/4 + 17*(u)_{xx}*(v)_{x}**2/8 - 35*(u)_{xx}*u**3 - 15*(u)_{xx}*u**2*v/4 - 5*(u)_{xx}*v**3/4 - 3*(u)_{x}**2*(v)_{xx}/8 - 175*(u)_{x}**2*u**2/2 - 25*(u)_{x}**2*u*v/4 + 13*(u)_{x}*(v)_{xxxxx}/4 + 5*(u)_{x}*(v)_{xxx}*u - 5*(u)_{x}*(v)_{xxx}*v - 45*(u)_{x}*(v)_{xx}*(v)_{x}/4 - 15*(u)_{x}*(v)_{x}*u**2/4 - 15*(u)_{x}*(v)_{x}*v**2/4 + 5*(v)_{xxxxxx}*u/4 + 7*(v)_{xxxxxx}*v/4 + 29*(v)_{xxxxx}*(v)_{x}/4 + 57*(v)_{xxxx}*(v)_{xx}/4 + 15*(v)_{xxxx}*u**2/8 - 15*(v)_{xxxx}*u*v/4 - 105*(v)_{xxxx}*v**2/8 + 71*(v)_{xxx}**2/8 - 12*(v)_{xxx}*(v)_{x}*u - 84*(v)_{xxx}*(v)_{x}*v - 63*(v)_{xx}**2*u/8 - 441*(v)_{xx}**2*v/8 - 819*(v)_{xx}*(v)_{x}**2/8 + 5*(v)_{xx}*u**3/4 + 15*(v)_{xx}*u*v**2/4 + 35*(v)_{xx}*v**3 + 35*(v)_{x}**2*u*v/4 + 245*(v)_{x}**2*v**2/2 - 35*u**5/8 + 5*u**4*v/8 - 5*u*v**4/8 + 35*v**5/8)*\\epsilon**2 + (-sqrt(2)*I*(u)_{xxxxxxx}/4 - 3*sqrt(2)*I*(u)_{xxxxx}*u - 10*sqrt(2)*I*(u)_{xxxx}*(u)_{x} - 17*sqrt(2)*I*(u)_{xxx}*(u)_{xx} - 27*sqrt(2)*I*(u)_{xxx}*u**2/2 - sqrt(2)*I*(u)_{xxx}*u*v - sqrt(2)*I*(u)_{xxx}*v**2/2 - 243*sqrt(2)*I*(u)_{xx}*(u)_{x}*u/4 - 9*sqrt(2)*I*(u)_{xx}*(u)_{x}*v/4 - 3*sqrt(2)*I*(u)_{xx}*(v)_{x}*u/2 - 3*sqrt(2)*I*(u)_{xx}*(v)_{x}*v/2 - 135*sqrt(2)*I*(u)_{x}**3/8 - 9*sqrt(2)*I*(u)_{x}**2*(v)_{x}/8 + sqrt(2)*I*(u)_{x}*(v)_{xx}*u/2 + sqrt(2)*I*(u)_{x}*(v)_{xx}*v/2 + 3*sqrt(2)*I*(u)_{x}*(v)_{x}**2/8 - 20*sqrt(2)*I*(u)_{x}*u**3 + sqrt(2)*I*(v)_{xxxxxxx}/4 - 3*sqrt(2)*I*(v)_{xxxxx}*v - 11*sqrt(2)*I*(v)_{xxxx}*(v)_{x} - 18*sqrt(2)*I*(v)_{xxx}*(v)_{xx} + sqrt(2)*I*(v)_{xxx}*u**2/2 + sqrt(2)*I*(v)_{xxx}*u*v + 27*sqrt(2)*I*(v)_{xxx}*v**2/2 + 11*sqrt(2)*I*(v)_{xx}*(v)_{x}*u/4 + 297*sqrt(2)*I*(v)_{xx}*(v)_{x}*v/4 + 189*sqrt(2)*I*(v)_{x}**3/8 - 20*sqrt(2)*I*(v)_{x}*v**3)*\\epsilon + (sqrt(2)*I*(u)_{x}/8 - sqrt(2)*I*(v)_{x}/8)*(1/\\epsilon)**5 + (sqrt(2)*I*(u)_{xxx}/8 + sqrt(2)*I*(u)_{x}*u/2 - sqrt(2)*I*(v)_{xxx}/8 + sqrt(2)*I*(v)_{x}*v/2)*(1/\\epsilon)**3 + (sqrt(2)*I*(u)_{xxxxx}/4 + 2*sqrt(2)*I*(u)_{xxx}*u + 9*sqrt(2)*I*(u)_{xx}*(u)_{x}/2 + 15*sqrt(2)*I*(u)_{x}*u**2/4 - sqrt(2)*I*(v)_{xxxxx}/4 + 2*sqrt(2)*I*(v)_{xxx}*v + 11*sqrt(2)*I*(v)_{xx}*(v)_{x}/2 - 15*sqrt(2)*I*(v)_{x}*v**2/4)*(1/\\epsilon) + (u)_{xxxxxx}/2 + 5*(u)_{xxxx}*u + 14*(u)_{xxx}*(u)_{x} + 19*(u)_{xx}**2/2 + 15*(u)_{xx}*u**2 + 25*(u)_{x}**2*u + (v)_{xxxxxx}/2 - 5*(v)_{xxxx}*v - 16*(v)_{xxx}*(v)_{x} - 21*(v)_{xx}**2/2 + 15*(v)_{xx}*v**2 + 35*(v)_{x}**2*v + 5*u**4/2 + 5*v**4/2, \\epsilon, 1/\\epsilon, domain='EX'))"
      ]
     },
     "metadata": {},
     "output_type": "display_data"
    },
    {
     "name": "stdout",
     "output_type": "stream",
     "text": [
      "Warning: Substituting differentiable by non-differentiable symbol.\n",
      "Warning: Substituting differentiable by non-differentiable symbol.\n"
     ]
    },
    {
     "data": {
      "text/latex": [
       "$\\displaystyle \\sigma_{7} = \\operatorname{Poly}{\\left( \\left(\\frac{429 u^{8}}{4096} - \\frac{33 u^{7} v}{512} - \\frac{21 u^{6} v^{2}}{1024} - \\frac{7 u^{5} v^{3}}{512} - \\frac{25 u^{4} v^{4}}{2048} - \\frac{7 u^{3} v^{5}}{512} - \\frac{21 u^{2} v^{6}}{1024} - \\frac{33 u v^{7}}{512} + \\frac{429 v^{8}}{4096}\\right) \\epsilon^{24} + \\left(2 \\sqrt{2} i (u)_{x} u^{6} - 2 \\sqrt{2} i (v)_{x} v^{6}\\right) \\epsilon^{21} + \\left(- \\frac{231 u^{7}}{256} + \\frac{105 u^{6} v}{256} + \\frac{21 u^{5} v^{2}}{256} + \\frac{5 u^{4} v^{3}}{256} - \\frac{5 u^{3} v^{4}}{256} - \\frac{21 u^{2} v^{5}}{256} - \\frac{105 u v^{6}}{256} + \\frac{231 v^{7}}{256}\\right) \\epsilon^{20} + \\left(- \\frac{693 (u)_{xx} u^{5}}{128} - \\frac{315 (u)_{xx} u^{4} v}{128} - \\frac{105 (u)_{xx} u^{3} v^{2}}{64} - \\frac{75 (u)_{xx} u^{2} v^{3}}{64} - \\frac{105 (u)_{xx} u v^{4}}{128} - \\frac{63 (u)_{xx} v^{5}}{128} - \\frac{5775 (u)_{x}^{2} u^{4}}{256} - \\frac{525 (u)_{x}^{2} u^{3} v}{64} - \\frac{525 (u)_{x}^{2} u^{2} v^{2}}{128} - \\frac{125 (u)_{x}^{2} u v^{3}}{64} - \\frac{175 (u)_{x}^{2} v^{4}}{256} - \\frac{315 (u)_{x} (v)_{x} u^{4}}{128} - \\frac{105 (u)_{x} (v)_{x} u^{3} v}{32} - \\frac{225 (u)_{x} (v)_{x} u^{2} v^{2}}{64} - \\frac{105 (u)_{x} (v)_{x} u v^{3}}{32} - \\frac{315 (u)_{x} (v)_{x} v^{4}}{128} + \\frac{63 (v)_{xx} u^{5}}{128} + \\frac{105 (v)_{xx} u^{4} v}{128} + \\frac{75 (v)_{xx} u^{3} v^{2}}{64} + \\frac{105 (v)_{xx} u^{2} v^{3}}{64} + \\frac{315 (v)_{xx} u v^{4}}{128} + \\frac{693 (v)_{xx} v^{5}}{128} + \\frac{245 (v)_{x}^{2} u^{4}}{256} + \\frac{175 (v)_{x}^{2} u^{3} v}{64} + \\frac{735 (v)_{x}^{2} u^{2} v^{2}}{128} + \\frac{735 (v)_{x}^{2} u v^{3}}{64} + \\frac{8085 (v)_{x}^{2} v^{4}}{256}\\right) \\epsilon^{18} + \\left(- 12 \\sqrt{2} i (u)_{x} u^{5} - 12 \\sqrt{2} i (v)_{x} v^{5}\\right) \\epsilon^{17} + \\left(\\frac{189 u^{6}}{64} - \\frac{7 u^{5} v}{8} - \\frac{5 u^{4} v^{2}}{64} - \\frac{5 u^{2} v^{4}}{64} - \\frac{7 u v^{5}}{8} + \\frac{189 v^{6}}{64}\\right) \\epsilon^{16} + \\left(- 5 \\sqrt{2} i (u)_{xxx} u^{4} - 4 \\sqrt{2} i (u)_{xxx} u^{3} v - 3 \\sqrt{2} i (u)_{xxx} u^{2} v^{2} - 2 \\sqrt{2} i (u)_{xxx} u v^{3} - \\sqrt{2} i (u)_{xxx} v^{4} - 45 \\sqrt{2} i (u)_{xx} (u)_{x} u^{3} - 27 \\sqrt{2} i (u)_{xx} (u)_{x} u^{2} v - \\frac{27 \\sqrt{2} i (u)_{xx} (u)_{x} u v^{2}}{2} - \\frac{9 \\sqrt{2} i (u)_{xx} (u)_{x} v^{3}}{2} - 6 \\sqrt{2} i (u)_{xx} (v)_{x} u^{3} - 9 \\sqrt{2} i (u)_{xx} (v)_{x} u^{2} v - 9 \\sqrt{2} i (u)_{xx} (v)_{x} u v^{2} - 6 \\sqrt{2} i (u)_{xx} (v)_{x} v^{3} - \\frac{75 \\sqrt{2} i (u)_{x}^{3} u^{2}}{2} - 15 \\sqrt{2} i (u)_{x}^{3} u v - \\frac{15 \\sqrt{2} i (u)_{x}^{3} v^{2}}{4} - \\frac{27 \\sqrt{2} i (u)_{x}^{2} (v)_{x} u^{2}}{2} - \\frac{27 \\sqrt{2} i (u)_{x}^{2} (v)_{x} u v}{2} - \\frac{27 \\sqrt{2} i (u)_{x}^{2} (v)_{x} v^{2}}{4} + 2 \\sqrt{2} i (u)_{x} (v)_{xx} u^{3} + 3 \\sqrt{2} i (u)_{x} (v)_{xx} u^{2} v + 3 \\sqrt{2} i (u)_{x} (v)_{xx} u v^{2} + 2 \\sqrt{2} i (u)_{x} (v)_{xx} v^{3} + \\frac{9 \\sqrt{2} i (u)_{x} (v)_{x}^{2} u^{2}}{4} + \\frac{9 \\sqrt{2} i (u)_{x} (v)_{x}^{2} u v}{2} + \\frac{9 \\sqrt{2} i (u)_{x} (v)_{x}^{2} v^{2}}{2} + \\sqrt{2} i (v)_{xxx} u^{4} + 2 \\sqrt{2} i (v)_{xxx} u^{3} v + 3 \\sqrt{2} i (v)_{xxx} u^{2} v^{2} + 4 \\sqrt{2} i (v)_{xxx} u v^{3} + 5 \\sqrt{2} i (v)_{xxx} v^{4} + \\frac{11 \\sqrt{2} i (v)_{xx} (v)_{x} u^{3}}{2} + \\frac{33 \\sqrt{2} i (v)_{xx} (v)_{x} u^{2} v}{2} + 33 \\sqrt{2} i (v)_{xx} (v)_{x} u v^{2} + 55 \\sqrt{2} i (v)_{xx} (v)_{x} v^{3} + \\frac{21 \\sqrt{2} i (v)_{x}^{3} u^{2}}{4} + 21 \\sqrt{2} i (v)_{x}^{3} u v + \\frac{105 \\sqrt{2} i (v)_{x}^{3} v^{2}}{2}\\right) \\epsilon^{15} + \\left(\\frac{1575 (u)_{xx} u^{4}}{64} + \\frac{105 (u)_{xx} u^{3} v}{16} + \\frac{45 (u)_{xx} u^{2} v^{2}}{32} - \\frac{15 (u)_{xx} u v^{3}}{16} - \\frac{105 (u)_{xx} v^{4}}{64} + \\frac{2625 (u)_{x}^{2} u^{3}}{32} + \\frac{525 (u)_{x}^{2} u^{2} v}{32} + \\frac{75 (u)_{x}^{2} u v^{2}}{32} - \\frac{25 (u)_{x}^{2} v^{3}}{32} + \\frac{105 (u)_{x} (v)_{x} u^{3}}{16} + \\frac{45 (u)_{x} (v)_{x} u^{2} v}{16} - \\frac{45 (u)_{x} (v)_{x} u v^{2}}{16} - \\frac{105 (u)_{x} (v)_{x} v^{3}}{16} - \\frac{105 (v)_{xx} u^{4}}{64} - \\frac{15 (v)_{xx} u^{3} v}{16} + \\frac{45 (v)_{xx} u^{2} v^{2}}{32} + \\frac{105 (v)_{xx} u v^{3}}{16} + \\frac{1575 (v)_{xx} v^{4}}{64} - \\frac{35 (v)_{x}^{2} u^{3}}{32} + \\frac{105 (v)_{x}^{2} u^{2} v}{32} + \\frac{735 (v)_{x}^{2} u v^{2}}{32} + \\frac{3675 (v)_{x}^{2} v^{3}}{32}\\right) \\epsilon^{14} + \\left(25 \\sqrt{2} i (u)_{x} u^{4} - 25 \\sqrt{2} i (v)_{x} v^{4}\\right) \\epsilon^{13} + \\left(\\frac{105 (u)_{xxxx} u^{3}}{16} + \\frac{105 (u)_{xxxx} u^{2} v}{16} + \\frac{75 (u)_{xxxx} u v^{2}}{16} + \\frac{35 (u)_{xxxx} v^{3}}{16} + \\frac{441 (u)_{xxx} (u)_{x} u^{2}}{8} + \\frac{147 (u)_{xxx} (u)_{x} u v}{4} + \\frac{105 (u)_{xxx} (u)_{x} v^{2}}{8} + \\frac{105 (u)_{xxx} (v)_{x} u^{2}}{8} + \\frac{75 (u)_{xxx} (v)_{x} u v}{4} + \\frac{105 (u)_{xxx} (v)_{x} v^{2}}{8} + \\frac{1197 (u)_{xx}^{2} u^{2}}{32} + \\frac{399 (u)_{xx}^{2} u v}{16} + \\frac{285 (u)_{xx}^{2} v^{2}}{32} + \\frac{1989 (u)_{xx} (u)_{x}^{2} u}{16} + \\frac{663 (u)_{xx} (u)_{x}^{2} v}{16} + \\frac{427 (u)_{xx} (u)_{x} (v)_{x} u}{8} + \\frac{305 (u)_{xx} (u)_{x} (v)_{x} v}{8} + \\frac{35 (u)_{xx} (v)_{xx} u^{2}}{16} + \\frac{25 (u)_{xx} (v)_{xx} u v}{8} + \\frac{35 (u)_{xx} (v)_{xx} v^{2}}{16} + \\frac{85 (u)_{xx} (v)_{x}^{2} u}{16} + \\frac{119 (u)_{xx} (v)_{x}^{2} v}{16} + \\frac{1105 (u)_{x}^{4}}{64} + \\frac{221 (u)_{x}^{3} (v)_{x}}{16} + \\frac{21 (u)_{x}^{2} (v)_{xx} u}{16} + \\frac{15 (u)_{x}^{2} (v)_{xx} v}{16} + \\frac{87 (u)_{x}^{2} (v)_{x}^{2}}{32} - \\frac{35 (u)_{x} (v)_{xxx} u^{2}}{4} - \\frac{25 (u)_{x} (v)_{xxx} u v}{2} - \\frac{35 (u)_{x} (v)_{xxx} v^{2}}{4} - \\frac{225 (u)_{x} (v)_{xx} (v)_{x} u}{8} - \\frac{315 (u)_{x} (v)_{xx} (v)_{x} v}{8} - \\frac{175 (u)_{x} (v)_{x}^{3}}{16} - \\frac{35 (v)_{xxxx} u^{3}}{16} - \\frac{75 (v)_{xxxx} u^{2} v}{16} - \\frac{105 (v)_{xxxx} u v^{2}}{16} - \\frac{105 (v)_{xxxx} v^{3}}{16} - 15 (v)_{xxx} (v)_{x} u^{2} - 42 (v)_{xxx} (v)_{x} u v - 63 (v)_{xxx} (v)_{x} v^{2} - \\frac{315 (v)_{xx}^{2} u^{2}}{32} - \\frac{441 (v)_{xx}^{2} u v}{16} - \\frac{1323 (v)_{xx}^{2} v^{2}}{32} - \\frac{819 (v)_{xx} (v)_{x}^{2} u}{16} - \\frac{2457 (v)_{xx} (v)_{x}^{2} v}{16} - \\frac{1463 (v)_{x}^{4}}{64} - \\frac{35 u^{5}}{8} + \\frac{5 u^{4} v}{8} - \\frac{5 u v^{4}}{8} + \\frac{35 v^{5}}{8}\\right) \\epsilon^{12} + \\left(16 \\sqrt{2} i (u)_{xxx} u^{3} + 6 \\sqrt{2} i (u)_{xxx} u^{2} v - 2 \\sqrt{2} i (u)_{xxx} v^{3} + 108 \\sqrt{2} i (u)_{xx} (u)_{x} u^{2} + 27 \\sqrt{2} i (u)_{xx} (u)_{x} u v + 9 \\sqrt{2} i (u)_{xx} (v)_{x} u^{2} - 9 \\sqrt{2} i (u)_{xx} (v)_{x} v^{2} + 60 \\sqrt{2} i (u)_{x}^{3} u + \\frac{15 \\sqrt{2} i (u)_{x}^{3} v}{2} + \\frac{27 \\sqrt{2} i (u)_{x}^{2} (v)_{x} u}{2} - 3 \\sqrt{2} i (u)_{x} (v)_{xx} u^{2} + 3 \\sqrt{2} i (u)_{x} (v)_{xx} v^{2} + \\frac{9 \\sqrt{2} i (u)_{x} (v)_{x}^{2} v}{2} - 2 \\sqrt{2} i (v)_{xxx} u^{3} + 6 \\sqrt{2} i (v)_{xxx} u v^{2} + 16 \\sqrt{2} i (v)_{xxx} v^{3} + 33 \\sqrt{2} i (v)_{xx} (v)_{x} u v + 132 \\sqrt{2} i (v)_{xx} (v)_{x} v^{2} + \\frac{21 \\sqrt{2} i (v)_{x}^{3} u}{2} + 84 \\sqrt{2} i (v)_{x}^{3} v\\right) \\epsilon^{11} + \\left(- 35 (u)_{xx} u^{3} - \\frac{15 (u)_{xx} u^{2} v}{4} - \\frac{5 (u)_{xx} v^{3}}{4} - \\frac{175 (u)_{x}^{2} u^{2}}{2} - \\frac{25 (u)_{x}^{2} u v}{4} - \\frac{15 (u)_{x} (v)_{x} u^{2}}{4} - \\frac{15 (u)_{x} (v)_{x} v^{2}}{4} + \\frac{5 (v)_{xx} u^{3}}{4} + \\frac{15 (v)_{xx} u v^{2}}{4} + 35 (v)_{xx} v^{3} + \\frac{35 (v)_{x}^{2} u v}{4} + \\frac{245 (v)_{x}^{2} v^{2}}{2}\\right) \\epsilon^{10} + \\left(3 \\sqrt{2} i (u)_{xxxxx} u^{2} + 3 \\sqrt{2} i (u)_{xxxxx} u v + \\frac{3 \\sqrt{2} i (u)_{xxxxx} v^{2}}{2} + 20 \\sqrt{2} i (u)_{xxxx} (u)_{x} u + 10 \\sqrt{2} i (u)_{xxxx} (u)_{x} v + \\frac{15 \\sqrt{2} i (u)_{xxxx} (v)_{x} u}{2} + \\frac{15 \\sqrt{2} i (u)_{xxxx} (v)_{x} v}{2} + 34 \\sqrt{2} i (u)_{xxx} (u)_{xx} u + 17 \\sqrt{2} i (u)_{xxx} (u)_{xx} v + \\frac{225 \\sqrt{2} i (u)_{xxx} (u)_{x}^{2}}{8} + \\frac{77 \\sqrt{2} i (u)_{xxx} (u)_{x} (v)_{x}}{4} + \\frac{9 \\sqrt{2} i (u)_{xxx} (v)_{xx} u}{2} + \\frac{9 \\sqrt{2} i (u)_{xxx} (v)_{xx} v}{2} + \\frac{41 \\sqrt{2} i (u)_{xxx} (v)_{x}^{2}}{8} + \\frac{153 \\sqrt{2} i (u)_{xx}^{2} (u)_{x}}{4} + \\frac{51 \\sqrt{2} i (u)_{xx}^{2} (v)_{x}}{4} + \\frac{15 \\sqrt{2} i (u)_{xx} (u)_{x} (v)_{xx}}{2} - 3 \\sqrt{2} i (u)_{xx} (v)_{xxx} u - 3 \\sqrt{2} i (u)_{xx} (v)_{xxx} v - \\frac{9 \\sqrt{2} i (u)_{xx} (v)_{xx} (v)_{x}}{2} - \\frac{25 \\sqrt{2} i (u)_{x}^{2} (v)_{xxx}}{8} - 6 \\sqrt{2} i (u)_{x} (v)_{xxxx} u - 6 \\sqrt{2} i (u)_{x} (v)_{xxxx} v - \\frac{67 \\sqrt{2} i (u)_{x} (v)_{xxx} (v)_{x}}{4} - \\frac{43 \\sqrt{2} i (u)_{x} (v)_{xx}^{2}}{4} - 20 \\sqrt{2} i (u)_{x} u^{3} - \\frac{3 \\sqrt{2} i (v)_{xxxxx} u^{2}}{2} - 3 \\sqrt{2} i (v)_{xxxxx} u v - 3 \\sqrt{2} i (v)_{xxxxx} v^{2} - 11 \\sqrt{2} i (v)_{xxxx} (v)_{x} u - 22 \\sqrt{2} i (v)_{xxxx} (v)_{x} v - 18 \\sqrt{2} i (v)_{xxx} (v)_{xx} u - 36 \\sqrt{2} i (v)_{xxx} (v)_{xx} v - \\frac{261 \\sqrt{2} i (v)_{xxx} (v)_{x}^{2}}{8} - \\frac{173 \\sqrt{2} i (v)_{xx}^{2} (v)_{x}}{4} - 20 \\sqrt{2} i (v)_{x} v^{3}\\right) \\epsilon^{9} + \\left(- \\frac{105 (u)_{xxxx} u^{2}}{8} - \\frac{15 (u)_{xxxx} u v}{4} + \\frac{15 (u)_{xxxx} v^{2}}{8} - \\frac{147 (u)_{xxx} (u)_{x} u}{2} - \\frac{21 (u)_{xxx} (u)_{x} v}{2} - \\frac{15 (u)_{xxx} (v)_{x} u}{2} + \\frac{15 (u)_{xxx} (v)_{x} v}{2} - \\frac{399 (u)_{xx}^{2} u}{8} - \\frac{57 (u)_{xx}^{2} v}{8} - \\frac{663 (u)_{xx} (u)_{x}^{2}}{8} - \\frac{61 (u)_{xx} (u)_{x} (v)_{x}}{4} - \\frac{5 (u)_{xx} (v)_{xx} u}{4} + \\frac{5 (u)_{xx} (v)_{xx} v}{4} + \\frac{17 (u)_{xx} (v)_{x}^{2}}{8} - \\frac{3 (u)_{x}^{2} (v)_{xx}}{8} + 5 (u)_{x} (v)_{xxx} u - 5 (u)_{x} (v)_{xxx} v - \\frac{45 (u)_{x} (v)_{xx} (v)_{x}}{4} + \\frac{15 (v)_{xxxx} u^{2}}{8} - \\frac{15 (v)_{xxxx} u v}{4} - \\frac{105 (v)_{xxxx} v^{2}}{8} - 12 (v)_{xxx} (v)_{x} u - 84 (v)_{xxx} (v)_{x} v - \\frac{63 (v)_{xx}^{2} u}{8} - \\frac{441 (v)_{xx}^{2} v}{8} - \\frac{819 (v)_{xx} (v)_{x}^{2}}{8} + \\frac{5 u^{4}}{2} + \\frac{5 v^{4}}{2}\\right) \\epsilon^{8} + \\left(- \\frac{27 \\sqrt{2} i (u)_{xxx} u^{2}}{2} - \\sqrt{2} i (u)_{xxx} u v - \\frac{\\sqrt{2} i (u)_{xxx} v^{2}}{2} - \\frac{243 \\sqrt{2} i (u)_{xx} (u)_{x} u}{4} - \\frac{9 \\sqrt{2} i (u)_{xx} (u)_{x} v}{4} - \\frac{3 \\sqrt{2} i (u)_{xx} (v)_{x} u}{2} - \\frac{3 \\sqrt{2} i (u)_{xx} (v)_{x} v}{2} - \\frac{135 \\sqrt{2} i (u)_{x}^{3}}{8} - \\frac{9 \\sqrt{2} i (u)_{x}^{2} (v)_{x}}{8} + \\frac{\\sqrt{2} i (u)_{x} (v)_{xx} u}{2} + \\frac{\\sqrt{2} i (u)_{x} (v)_{xx} v}{2} + \\frac{3 \\sqrt{2} i (u)_{x} (v)_{x}^{2}}{8} + \\frac{\\sqrt{2} i (v)_{xxx} u^{2}}{2} + \\sqrt{2} i (v)_{xxx} u v + \\frac{27 \\sqrt{2} i (v)_{xxx} v^{2}}{2} + \\frac{11 \\sqrt{2} i (v)_{xx} (v)_{x} u}{4} + \\frac{297 \\sqrt{2} i (v)_{xx} (v)_{x} v}{4} + \\frac{189 \\sqrt{2} i (v)_{x}^{3}}{8}\\right) \\epsilon^{7} + \\left(- \\frac{7 (u)_{xxxxxx} u}{4} - \\frac{5 (u)_{xxxxxx} v}{4} - \\frac{27 (u)_{xxxxx} (u)_{x}}{4} - \\frac{15 (u)_{xxxxx} (v)_{x}}{4} - \\frac{55 (u)_{xxxx} (u)_{xx}}{4} - \\frac{15 (u)_{xxxx} (v)_{xx}}{4} - \\frac{69 (u)_{xxx}^{2}}{8} - \\frac{(u)_{xxx} (v)_{xxx}}{4} + \\frac{13 (u)_{xx} (v)_{xxxx}}{4} + 15 (u)_{xx} u^{2} + 25 (u)_{x}^{2} u + \\frac{13 (u)_{x} (v)_{xxxxx}}{4} + \\frac{5 (v)_{xxxxxx} u}{4} + \\frac{7 (v)_{xxxxxx} v}{4} + \\frac{29 (v)_{xxxxx} (v)_{x}}{4} + \\frac{57 (v)_{xxxx} (v)_{xx}}{4} + \\frac{71 (v)_{xxx}^{2}}{8} + 15 (v)_{xx} v^{2} + 35 (v)_{x}^{2} v\\right) \\epsilon^{6} + \\left(- 3 \\sqrt{2} i (u)_{xxxxx} u - 10 \\sqrt{2} i (u)_{xxxx} (u)_{x} - 17 \\sqrt{2} i (u)_{xxx} (u)_{xx} + \\frac{15 \\sqrt{2} i (u)_{x} u^{2}}{4} - 3 \\sqrt{2} i (v)_{xxxxx} v - 11 \\sqrt{2} i (v)_{xxxx} (v)_{x} - 18 \\sqrt{2} i (v)_{xxx} (v)_{xx} - \\frac{15 \\sqrt{2} i (v)_{x} v^{2}}{4}\\right) \\epsilon^{5} + \\left(5 (u)_{xxxx} u + 14 (u)_{xxx} (u)_{x} + \\frac{19 (u)_{xx}^{2}}{2} - 5 (v)_{xxxx} v - 16 (v)_{xxx} (v)_{x} - \\frac{21 (v)_{xx}^{2}}{2}\\right) \\epsilon^{4} + \\left(- \\frac{\\sqrt{2} i (u)_{xxxxxxx}}{4} + 2 \\sqrt{2} i (u)_{xxx} u + \\frac{9 \\sqrt{2} i (u)_{xx} (u)_{x}}{2} + \\frac{\\sqrt{2} i (v)_{xxxxxxx}}{4} + 2 \\sqrt{2} i (v)_{xxx} v + \\frac{11 \\sqrt{2} i (v)_{xx} (v)_{x}}{2}\\right) \\epsilon^{3} + \\left(\\frac{(u)_{xxxxxx}}{2} + \\frac{(v)_{xxxxxx}}{2}\\right) \\epsilon^{2} + \\left(\\frac{\\sqrt{2} i (u)_{xxxxx}}{4} + \\frac{\\sqrt{2} i (u)_{x} u}{2} - \\frac{\\sqrt{2} i (v)_{xxxxx}}{4} + \\frac{\\sqrt{2} i (v)_{x} v}{2}\\right) \\epsilon + \\left(\\frac{\\sqrt{2} i (u)_{x}}{8} - \\frac{\\sqrt{2} i (v)_{x}}{8}\\right) \\frac{1}{\\epsilon^{3}} + \\left(\\frac{\\sqrt{2} i (u)_{xxx}}{8} - \\frac{\\sqrt{2} i (v)_{xxx}}{8}\\right) \\frac{1}{\\epsilon}, \\epsilon, \\frac{1}{\\epsilon}, domain=\\mathtt{\\text{EX}} \\right)}$"
      ],
      "text/plain": [
       "Eq(\\sigma_{7}, Poly((429*u**8/4096 - 33*u**7*v/512 - 21*u**6*v**2/1024 - 7*u**5*v**3/512 - 25*u**4*v**4/2048 - 7*u**3*v**5/512 - 21*u**2*v**6/1024 - 33*u*v**7/512 + 429*v**8/4096)*\\epsilon**24 + (2*sqrt(2)*I*(u)_{x}*u**6 - 2*sqrt(2)*I*(v)_{x}*v**6)*\\epsilon**21 + (-231*u**7/256 + 105*u**6*v/256 + 21*u**5*v**2/256 + 5*u**4*v**3/256 - 5*u**3*v**4/256 - 21*u**2*v**5/256 - 105*u*v**6/256 + 231*v**7/256)*\\epsilon**20 + (-693*(u)_{xx}*u**5/128 - 315*(u)_{xx}*u**4*v/128 - 105*(u)_{xx}*u**3*v**2/64 - 75*(u)_{xx}*u**2*v**3/64 - 105*(u)_{xx}*u*v**4/128 - 63*(u)_{xx}*v**5/128 - 5775*(u)_{x}**2*u**4/256 - 525*(u)_{x}**2*u**3*v/64 - 525*(u)_{x}**2*u**2*v**2/128 - 125*(u)_{x}**2*u*v**3/64 - 175*(u)_{x}**2*v**4/256 - 315*(u)_{x}*(v)_{x}*u**4/128 - 105*(u)_{x}*(v)_{x}*u**3*v/32 - 225*(u)_{x}*(v)_{x}*u**2*v**2/64 - 105*(u)_{x}*(v)_{x}*u*v**3/32 - 315*(u)_{x}*(v)_{x}*v**4/128 + 63*(v)_{xx}*u**5/128 + 105*(v)_{xx}*u**4*v/128 + 75*(v)_{xx}*u**3*v**2/64 + 105*(v)_{xx}*u**2*v**3/64 + 315*(v)_{xx}*u*v**4/128 + 693*(v)_{xx}*v**5/128 + 245*(v)_{x}**2*u**4/256 + 175*(v)_{x}**2*u**3*v/64 + 735*(v)_{x}**2*u**2*v**2/128 + 735*(v)_{x}**2*u*v**3/64 + 8085*(v)_{x}**2*v**4/256)*\\epsilon**18 + (-12*sqrt(2)*I*(u)_{x}*u**5 - 12*sqrt(2)*I*(v)_{x}*v**5)*\\epsilon**17 + (189*u**6/64 - 7*u**5*v/8 - 5*u**4*v**2/64 - 5*u**2*v**4/64 - 7*u*v**5/8 + 189*v**6/64)*\\epsilon**16 + (-5*sqrt(2)*I*(u)_{xxx}*u**4 - 4*sqrt(2)*I*(u)_{xxx}*u**3*v - 3*sqrt(2)*I*(u)_{xxx}*u**2*v**2 - 2*sqrt(2)*I*(u)_{xxx}*u*v**3 - sqrt(2)*I*(u)_{xxx}*v**4 - 45*sqrt(2)*I*(u)_{xx}*(u)_{x}*u**3 - 27*sqrt(2)*I*(u)_{xx}*(u)_{x}*u**2*v - 27*sqrt(2)*I*(u)_{xx}*(u)_{x}*u*v**2/2 - 9*sqrt(2)*I*(u)_{xx}*(u)_{x}*v**3/2 - 6*sqrt(2)*I*(u)_{xx}*(v)_{x}*u**3 - 9*sqrt(2)*I*(u)_{xx}*(v)_{x}*u**2*v - 9*sqrt(2)*I*(u)_{xx}*(v)_{x}*u*v**2 - 6*sqrt(2)*I*(u)_{xx}*(v)_{x}*v**3 - 75*sqrt(2)*I*(u)_{x}**3*u**2/2 - 15*sqrt(2)*I*(u)_{x}**3*u*v - 15*sqrt(2)*I*(u)_{x}**3*v**2/4 - 27*sqrt(2)*I*(u)_{x}**2*(v)_{x}*u**2/2 - 27*sqrt(2)*I*(u)_{x}**2*(v)_{x}*u*v/2 - 27*sqrt(2)*I*(u)_{x}**2*(v)_{x}*v**2/4 + 2*sqrt(2)*I*(u)_{x}*(v)_{xx}*u**3 + 3*sqrt(2)*I*(u)_{x}*(v)_{xx}*u**2*v + 3*sqrt(2)*I*(u)_{x}*(v)_{xx}*u*v**2 + 2*sqrt(2)*I*(u)_{x}*(v)_{xx}*v**3 + 9*sqrt(2)*I*(u)_{x}*(v)_{x}**2*u**2/4 + 9*sqrt(2)*I*(u)_{x}*(v)_{x}**2*u*v/2 + 9*sqrt(2)*I*(u)_{x}*(v)_{x}**2*v**2/2 + sqrt(2)*I*(v)_{xxx}*u**4 + 2*sqrt(2)*I*(v)_{xxx}*u**3*v + 3*sqrt(2)*I*(v)_{xxx}*u**2*v**2 + 4*sqrt(2)*I*(v)_{xxx}*u*v**3 + 5*sqrt(2)*I*(v)_{xxx}*v**4 + 11*sqrt(2)*I*(v)_{xx}*(v)_{x}*u**3/2 + 33*sqrt(2)*I*(v)_{xx}*(v)_{x}*u**2*v/2 + 33*sqrt(2)*I*(v)_{xx}*(v)_{x}*u*v**2 + 55*sqrt(2)*I*(v)_{xx}*(v)_{x}*v**3 + 21*sqrt(2)*I*(v)_{x}**3*u**2/4 + 21*sqrt(2)*I*(v)_{x}**3*u*v + 105*sqrt(2)*I*(v)_{x}**3*v**2/2)*\\epsilon**15 + (1575*(u)_{xx}*u**4/64 + 105*(u)_{xx}*u**3*v/16 + 45*(u)_{xx}*u**2*v**2/32 - 15*(u)_{xx}*u*v**3/16 - 105*(u)_{xx}*v**4/64 + 2625*(u)_{x}**2*u**3/32 + 525*(u)_{x}**2*u**2*v/32 + 75*(u)_{x}**2*u*v**2/32 - 25*(u)_{x}**2*v**3/32 + 105*(u)_{x}*(v)_{x}*u**3/16 + 45*(u)_{x}*(v)_{x}*u**2*v/16 - 45*(u)_{x}*(v)_{x}*u*v**2/16 - 105*(u)_{x}*(v)_{x}*v**3/16 - 105*(v)_{xx}*u**4/64 - 15*(v)_{xx}*u**3*v/16 + 45*(v)_{xx}*u**2*v**2/32 + 105*(v)_{xx}*u*v**3/16 + 1575*(v)_{xx}*v**4/64 - 35*(v)_{x}**2*u**3/32 + 105*(v)_{x}**2*u**2*v/32 + 735*(v)_{x}**2*u*v**2/32 + 3675*(v)_{x}**2*v**3/32)*\\epsilon**14 + (25*sqrt(2)*I*(u)_{x}*u**4 - 25*sqrt(2)*I*(v)_{x}*v**4)*\\epsilon**13 + (105*(u)_{xxxx}*u**3/16 + 105*(u)_{xxxx}*u**2*v/16 + 75*(u)_{xxxx}*u*v**2/16 + 35*(u)_{xxxx}*v**3/16 + 441*(u)_{xxx}*(u)_{x}*u**2/8 + 147*(u)_{xxx}*(u)_{x}*u*v/4 + 105*(u)_{xxx}*(u)_{x}*v**2/8 + 105*(u)_{xxx}*(v)_{x}*u**2/8 + 75*(u)_{xxx}*(v)_{x}*u*v/4 + 105*(u)_{xxx}*(v)_{x}*v**2/8 + 1197*(u)_{xx}**2*u**2/32 + 399*(u)_{xx}**2*u*v/16 + 285*(u)_{xx}**2*v**2/32 + 1989*(u)_{xx}*(u)_{x}**2*u/16 + 663*(u)_{xx}*(u)_{x}**2*v/16 + 427*(u)_{xx}*(u)_{x}*(v)_{x}*u/8 + 305*(u)_{xx}*(u)_{x}*(v)_{x}*v/8 + 35*(u)_{xx}*(v)_{xx}*u**2/16 + 25*(u)_{xx}*(v)_{xx}*u*v/8 + 35*(u)_{xx}*(v)_{xx}*v**2/16 + 85*(u)_{xx}*(v)_{x}**2*u/16 + 119*(u)_{xx}*(v)_{x}**2*v/16 + 1105*(u)_{x}**4/64 + 221*(u)_{x}**3*(v)_{x}/16 + 21*(u)_{x}**2*(v)_{xx}*u/16 + 15*(u)_{x}**2*(v)_{xx}*v/16 + 87*(u)_{x}**2*(v)_{x}**2/32 - 35*(u)_{x}*(v)_{xxx}*u**2/4 - 25*(u)_{x}*(v)_{xxx}*u*v/2 - 35*(u)_{x}*(v)_{xxx}*v**2/4 - 225*(u)_{x}*(v)_{xx}*(v)_{x}*u/8 - 315*(u)_{x}*(v)_{xx}*(v)_{x}*v/8 - 175*(u)_{x}*(v)_{x}**3/16 - 35*(v)_{xxxx}*u**3/16 - 75*(v)_{xxxx}*u**2*v/16 - 105*(v)_{xxxx}*u*v**2/16 - 105*(v)_{xxxx}*v**3/16 - 15*(v)_{xxx}*(v)_{x}*u**2 - 42*(v)_{xxx}*(v)_{x}*u*v - 63*(v)_{xxx}*(v)_{x}*v**2 - 315*(v)_{xx}**2*u**2/32 - 441*(v)_{xx}**2*u*v/16 - 1323*(v)_{xx}**2*v**2/32 - 819*(v)_{xx}*(v)_{x}**2*u/16 - 2457*(v)_{xx}*(v)_{x}**2*v/16 - 1463*(v)_{x}**4/64 - 35*u**5/8 + 5*u**4*v/8 - 5*u*v**4/8 + 35*v**5/8)*\\epsilon**12 + (16*sqrt(2)*I*(u)_{xxx}*u**3 + 6*sqrt(2)*I*(u)_{xxx}*u**2*v - 2*sqrt(2)*I*(u)_{xxx}*v**3 + 108*sqrt(2)*I*(u)_{xx}*(u)_{x}*u**2 + 27*sqrt(2)*I*(u)_{xx}*(u)_{x}*u*v + 9*sqrt(2)*I*(u)_{xx}*(v)_{x}*u**2 - 9*sqrt(2)*I*(u)_{xx}*(v)_{x}*v**2 + 60*sqrt(2)*I*(u)_{x}**3*u + 15*sqrt(2)*I*(u)_{x}**3*v/2 + 27*sqrt(2)*I*(u)_{x}**2*(v)_{x}*u/2 - 3*sqrt(2)*I*(u)_{x}*(v)_{xx}*u**2 + 3*sqrt(2)*I*(u)_{x}*(v)_{xx}*v**2 + 9*sqrt(2)*I*(u)_{x}*(v)_{x}**2*v/2 - 2*sqrt(2)*I*(v)_{xxx}*u**3 + 6*sqrt(2)*I*(v)_{xxx}*u*v**2 + 16*sqrt(2)*I*(v)_{xxx}*v**3 + 33*sqrt(2)*I*(v)_{xx}*(v)_{x}*u*v + 132*sqrt(2)*I*(v)_{xx}*(v)_{x}*v**2 + 21*sqrt(2)*I*(v)_{x}**3*u/2 + 84*sqrt(2)*I*(v)_{x}**3*v)*\\epsilon**11 + (-35*(u)_{xx}*u**3 - 15*(u)_{xx}*u**2*v/4 - 5*(u)_{xx}*v**3/4 - 175*(u)_{x}**2*u**2/2 - 25*(u)_{x}**2*u*v/4 - 15*(u)_{x}*(v)_{x}*u**2/4 - 15*(u)_{x}*(v)_{x}*v**2/4 + 5*(v)_{xx}*u**3/4 + 15*(v)_{xx}*u*v**2/4 + 35*(v)_{xx}*v**3 + 35*(v)_{x}**2*u*v/4 + 245*(v)_{x}**2*v**2/2)*\\epsilon**10 + (3*sqrt(2)*I*(u)_{xxxxx}*u**2 + 3*sqrt(2)*I*(u)_{xxxxx}*u*v + 3*sqrt(2)*I*(u)_{xxxxx}*v**2/2 + 20*sqrt(2)*I*(u)_{xxxx}*(u)_{x}*u + 10*sqrt(2)*I*(u)_{xxxx}*(u)_{x}*v + 15*sqrt(2)*I*(u)_{xxxx}*(v)_{x}*u/2 + 15*sqrt(2)*I*(u)_{xxxx}*(v)_{x}*v/2 + 34*sqrt(2)*I*(u)_{xxx}*(u)_{xx}*u + 17*sqrt(2)*I*(u)_{xxx}*(u)_{xx}*v + 225*sqrt(2)*I*(u)_{xxx}*(u)_{x}**2/8 + 77*sqrt(2)*I*(u)_{xxx}*(u)_{x}*(v)_{x}/4 + 9*sqrt(2)*I*(u)_{xxx}*(v)_{xx}*u/2 + 9*sqrt(2)*I*(u)_{xxx}*(v)_{xx}*v/2 + 41*sqrt(2)*I*(u)_{xxx}*(v)_{x}**2/8 + 153*sqrt(2)*I*(u)_{xx}**2*(u)_{x}/4 + 51*sqrt(2)*I*(u)_{xx}**2*(v)_{x}/4 + 15*sqrt(2)*I*(u)_{xx}*(u)_{x}*(v)_{xx}/2 - 3*sqrt(2)*I*(u)_{xx}*(v)_{xxx}*u - 3*sqrt(2)*I*(u)_{xx}*(v)_{xxx}*v - 9*sqrt(2)*I*(u)_{xx}*(v)_{xx}*(v)_{x}/2 - 25*sqrt(2)*I*(u)_{x}**2*(v)_{xxx}/8 - 6*sqrt(2)*I*(u)_{x}*(v)_{xxxx}*u - 6*sqrt(2)*I*(u)_{x}*(v)_{xxxx}*v - 67*sqrt(2)*I*(u)_{x}*(v)_{xxx}*(v)_{x}/4 - 43*sqrt(2)*I*(u)_{x}*(v)_{xx}**2/4 - 20*sqrt(2)*I*(u)_{x}*u**3 - 3*sqrt(2)*I*(v)_{xxxxx}*u**2/2 - 3*sqrt(2)*I*(v)_{xxxxx}*u*v - 3*sqrt(2)*I*(v)_{xxxxx}*v**2 - 11*sqrt(2)*I*(v)_{xxxx}*(v)_{x}*u - 22*sqrt(2)*I*(v)_{xxxx}*(v)_{x}*v - 18*sqrt(2)*I*(v)_{xxx}*(v)_{xx}*u - 36*sqrt(2)*I*(v)_{xxx}*(v)_{xx}*v - 261*sqrt(2)*I*(v)_{xxx}*(v)_{x}**2/8 - 173*sqrt(2)*I*(v)_{xx}**2*(v)_{x}/4 - 20*sqrt(2)*I*(v)_{x}*v**3)*\\epsilon**9 + (-105*(u)_{xxxx}*u**2/8 - 15*(u)_{xxxx}*u*v/4 + 15*(u)_{xxxx}*v**2/8 - 147*(u)_{xxx}*(u)_{x}*u/2 - 21*(u)_{xxx}*(u)_{x}*v/2 - 15*(u)_{xxx}*(v)_{x}*u/2 + 15*(u)_{xxx}*(v)_{x}*v/2 - 399*(u)_{xx}**2*u/8 - 57*(u)_{xx}**2*v/8 - 663*(u)_{xx}*(u)_{x}**2/8 - 61*(u)_{xx}*(u)_{x}*(v)_{x}/4 - 5*(u)_{xx}*(v)_{xx}*u/4 + 5*(u)_{xx}*(v)_{xx}*v/4 + 17*(u)_{xx}*(v)_{x}**2/8 - 3*(u)_{x}**2*(v)_{xx}/8 + 5*(u)_{x}*(v)_{xxx}*u - 5*(u)_{x}*(v)_{xxx}*v - 45*(u)_{x}*(v)_{xx}*(v)_{x}/4 + 15*(v)_{xxxx}*u**2/8 - 15*(v)_{xxxx}*u*v/4 - 105*(v)_{xxxx}*v**2/8 - 12*(v)_{xxx}*(v)_{x}*u - 84*(v)_{xxx}*(v)_{x}*v - 63*(v)_{xx}**2*u/8 - 441*(v)_{xx}**2*v/8 - 819*(v)_{xx}*(v)_{x}**2/8 + 5*u**4/2 + 5*v**4/2)*\\epsilon**8 + (-27*sqrt(2)*I*(u)_{xxx}*u**2/2 - sqrt(2)*I*(u)_{xxx}*u*v - sqrt(2)*I*(u)_{xxx}*v**2/2 - 243*sqrt(2)*I*(u)_{xx}*(u)_{x}*u/4 - 9*sqrt(2)*I*(u)_{xx}*(u)_{x}*v/4 - 3*sqrt(2)*I*(u)_{xx}*(v)_{x}*u/2 - 3*sqrt(2)*I*(u)_{xx}*(v)_{x}*v/2 - 135*sqrt(2)*I*(u)_{x}**3/8 - 9*sqrt(2)*I*(u)_{x}**2*(v)_{x}/8 + sqrt(2)*I*(u)_{x}*(v)_{xx}*u/2 + sqrt(2)*I*(u)_{x}*(v)_{xx}*v/2 + 3*sqrt(2)*I*(u)_{x}*(v)_{x}**2/8 + sqrt(2)*I*(v)_{xxx}*u**2/2 + sqrt(2)*I*(v)_{xxx}*u*v + 27*sqrt(2)*I*(v)_{xxx}*v**2/2 + 11*sqrt(2)*I*(v)_{xx}*(v)_{x}*u/4 + 297*sqrt(2)*I*(v)_{xx}*(v)_{x}*v/4 + 189*sqrt(2)*I*(v)_{x}**3/8)*\\epsilon**7 + (-7*(u)_{xxxxxx}*u/4 - 5*(u)_{xxxxxx}*v/4 - 27*(u)_{xxxxx}*(u)_{x}/4 - 15*(u)_{xxxxx}*(v)_{x}/4 - 55*(u)_{xxxx}*(u)_{xx}/4 - 15*(u)_{xxxx}*(v)_{xx}/4 - 69*(u)_{xxx}**2/8 - (u)_{xxx}*(v)_{xxx}/4 + 13*(u)_{xx}*(v)_{xxxx}/4 + 15*(u)_{xx}*u**2 + 25*(u)_{x}**2*u + 13*(u)_{x}*(v)_{xxxxx}/4 + 5*(v)_{xxxxxx}*u/4 + 7*(v)_{xxxxxx}*v/4 + 29*(v)_{xxxxx}*(v)_{x}/4 + 57*(v)_{xxxx}*(v)_{xx}/4 + 71*(v)_{xxx}**2/8 + 15*(v)_{xx}*v**2 + 35*(v)_{x}**2*v)*\\epsilon**6 + (-3*sqrt(2)*I*(u)_{xxxxx}*u - 10*sqrt(2)*I*(u)_{xxxx}*(u)_{x} - 17*sqrt(2)*I*(u)_{xxx}*(u)_{xx} + 15*sqrt(2)*I*(u)_{x}*u**2/4 - 3*sqrt(2)*I*(v)_{xxxxx}*v - 11*sqrt(2)*I*(v)_{xxxx}*(v)_{x} - 18*sqrt(2)*I*(v)_{xxx}*(v)_{xx} - 15*sqrt(2)*I*(v)_{x}*v**2/4)*\\epsilon**5 + (5*(u)_{xxxx}*u + 14*(u)_{xxx}*(u)_{x} + 19*(u)_{xx}**2/2 - 5*(v)_{xxxx}*v - 16*(v)_{xxx}*(v)_{x} - 21*(v)_{xx}**2/2)*\\epsilon**4 + (-sqrt(2)*I*(u)_{xxxxxxx}/4 + 2*sqrt(2)*I*(u)_{xxx}*u + 9*sqrt(2)*I*(u)_{xx}*(u)_{x}/2 + sqrt(2)*I*(v)_{xxxxxxx}/4 + 2*sqrt(2)*I*(v)_{xxx}*v + 11*sqrt(2)*I*(v)_{xx}*(v)_{x}/2)*\\epsilon**3 + ((u)_{xxxxxx}/2 + (v)_{xxxxxx}/2)*\\epsilon**2 + (sqrt(2)*I*(u)_{xxxxx}/4 + sqrt(2)*I*(u)_{x}*u/2 - sqrt(2)*I*(v)_{xxxxx}/4 + sqrt(2)*I*(v)_{x}*v/2)*\\epsilon + (sqrt(2)*I*(u)_{x}/8 - sqrt(2)*I*(v)_{x}/8)*(1/\\epsilon)**3 + (sqrt(2)*I*(u)_{xxx}/8 - sqrt(2)*I*(v)_{xxx}/8)*(1/\\epsilon), \\epsilon, 1/\\epsilon, domain='EX'))"
      ]
     },
     "metadata": {},
     "output_type": "display_data"
    },
    {
     "name": "stdout",
     "output_type": "stream",
     "text": [
      "n = 8\n"
     ]
    },
    {
     "data": {
      "text/latex": [
       "$\\displaystyle \\sigma_{8} = \\operatorname{Poly}{\\left( \\left(- \\frac{715 \\sqrt{2} i u^{9}}{8192} + \\frac{429 \\sqrt{2} i u^{8} v}{8192} + \\frac{33 \\sqrt{2} i u^{7} v^{2}}{2048} + \\frac{21 \\sqrt{2} i u^{6} v^{3}}{2048} + \\frac{35 \\sqrt{2} i u^{5} v^{4}}{4096} + \\frac{35 \\sqrt{2} i u^{4} v^{5}}{4096} + \\frac{21 \\sqrt{2} i u^{3} v^{6}}{2048} + \\frac{33 \\sqrt{2} i u^{2} v^{7}}{2048} + \\frac{429 \\sqrt{2} i u v^{8}}{8192} - \\frac{715 \\sqrt{2} i v^{9}}{8192}\\right) \\epsilon^{9} + \\left(4 (u)_{x} u^{7} - 4 (v)_{x} v^{7}\\right) \\epsilon^{8} + \\left(\\frac{3003 \\sqrt{2} i (u)_{xx} u^{6}}{512} + \\frac{693 \\sqrt{2} i (u)_{xx} u^{5} v}{256} + \\frac{945 \\sqrt{2} i (u)_{xx} u^{4} v^{2}}{512} + \\frac{175 \\sqrt{2} i (u)_{xx} u^{3} v^{3}}{128} + \\frac{525 \\sqrt{2} i (u)_{xx} u^{2} v^{4}}{512} + \\frac{189 \\sqrt{2} i (u)_{xx} u v^{5}}{256} + \\frac{231 \\sqrt{2} i (u)_{xx} v^{6}}{512} + \\frac{15015 \\sqrt{2} i (u)_{x}^{2} u^{5}}{512} + \\frac{5775 \\sqrt{2} i (u)_{x}^{2} u^{4} v}{512} + \\frac{1575 \\sqrt{2} i (u)_{x}^{2} u^{3} v^{2}}{256} + \\frac{875 \\sqrt{2} i (u)_{x}^{2} u^{2} v^{3}}{256} + \\frac{875 \\sqrt{2} i (u)_{x}^{2} u v^{4}}{512} + \\frac{315 \\sqrt{2} i (u)_{x}^{2} v^{5}}{512} + \\frac{693 \\sqrt{2} i (u)_{x} (v)_{x} u^{5}}{256} + \\frac{945 \\sqrt{2} i (u)_{x} (v)_{x} u^{4} v}{256} + \\frac{525 \\sqrt{2} i (u)_{x} (v)_{x} u^{3} v^{2}}{128} + \\frac{525 \\sqrt{2} i (u)_{x} (v)_{x} u^{2} v^{3}}{128} + \\frac{945 \\sqrt{2} i (u)_{x} (v)_{x} u v^{4}}{256} + \\frac{693 \\sqrt{2} i (u)_{x} (v)_{x} v^{5}}{256} - \\frac{231 \\sqrt{2} i (v)_{xx} u^{6}}{512} - \\frac{189 \\sqrt{2} i (v)_{xx} u^{5} v}{256} - \\frac{525 \\sqrt{2} i (v)_{xx} u^{4} v^{2}}{512} - \\frac{175 \\sqrt{2} i (v)_{xx} u^{3} v^{3}}{128} - \\frac{945 \\sqrt{2} i (v)_{xx} u^{2} v^{4}}{512} - \\frac{693 \\sqrt{2} i (v)_{xx} u v^{5}}{256} - \\frac{3003 \\sqrt{2} i (v)_{xx} v^{6}}{512} - \\frac{441 \\sqrt{2} i (v)_{x}^{2} u^{5}}{512} - \\frac{1225 \\sqrt{2} i (v)_{x}^{2} u^{4} v}{512} - \\frac{1225 \\sqrt{2} i (v)_{x}^{2} u^{3} v^{2}}{256} - \\frac{2205 \\sqrt{2} i (v)_{x}^{2} u^{2} v^{3}}{256} - \\frac{8085 \\sqrt{2} i (v)_{x}^{2} u v^{4}}{512} - \\frac{21021 \\sqrt{2} i (v)_{x}^{2} v^{5}}{512} + \\frac{429 \\sqrt{2} i u^{8}}{512} - \\frac{99 \\sqrt{2} i u^{7} v}{256} - \\frac{21 \\sqrt{2} i u^{6} v^{2}}{256} - \\frac{7 \\sqrt{2} i u^{5} v^{3}}{256} + \\frac{7 \\sqrt{2} i u^{3} v^{5}}{256} + \\frac{21 \\sqrt{2} i u^{2} v^{6}}{256} + \\frac{99 \\sqrt{2} i u v^{7}}{256} - \\frac{429 \\sqrt{2} i v^{8}}{512}\\right) \\epsilon^{7} + \\left(- 12 (u)_{xxx} u^{5} - 10 (u)_{xxx} u^{4} v - 8 (u)_{xxx} u^{3} v^{2} - 6 (u)_{xxx} u^{2} v^{3} - 4 (u)_{xxx} u v^{4} - 2 (u)_{xxx} v^{5} - 135 (u)_{xx} (u)_{x} u^{4} - 90 (u)_{xx} (u)_{x} u^{3} v - 54 (u)_{xx} (u)_{x} u^{2} v^{2} - 27 (u)_{xx} (u)_{x} u v^{3} - 9 (u)_{xx} (u)_{x} v^{4} - 15 (u)_{xx} (v)_{x} u^{4} - 24 (u)_{xx} (v)_{x} u^{3} v - 27 (u)_{xx} (v)_{x} u^{2} v^{2} - 24 (u)_{xx} (v)_{x} u v^{3} - 15 (u)_{xx} (v)_{x} v^{4} - 150 (u)_{x}^{3} u^{3} - 75 (u)_{x}^{3} u^{2} v - 30 (u)_{x}^{3} u v^{2} - \\frac{15 (u)_{x}^{3} v^{3}}{2} - 45 (u)_{x}^{2} (v)_{x} u^{3} - 54 (u)_{x}^{2} (v)_{x} u^{2} v - \\frac{81 (u)_{x}^{2} (v)_{x} u v^{2}}{2} - 18 (u)_{x}^{2} (v)_{x} v^{3} + 5 (u)_{x} (v)_{xx} u^{4} + 8 (u)_{x} (v)_{xx} u^{3} v + 9 (u)_{x} (v)_{xx} u^{2} v^{2} + 8 (u)_{x} (v)_{xx} u v^{3} + 5 (u)_{x} (v)_{xx} v^{4} + 6 (u)_{x} (v)_{x}^{2} u^{3} + \\frac{27 (u)_{x} (v)_{x}^{2} u^{2} v}{2} + 18 (u)_{x} (v)_{x}^{2} u v^{2} + 15 (u)_{x} (v)_{x}^{2} v^{3} - 28 (u)_{x} u^{6} + 2 (v)_{xxx} u^{5} + 4 (v)_{xxx} u^{4} v + 6 (v)_{xxx} u^{3} v^{2} + 8 (v)_{xxx} u^{2} v^{3} + 10 (v)_{xxx} u v^{4} + 12 (v)_{xxx} v^{5} + 11 (v)_{xx} (v)_{x} u^{4} + 33 (v)_{xx} (v)_{x} u^{3} v + 66 (v)_{xx} (v)_{x} u^{2} v^{2} + 110 (v)_{xx} (v)_{x} u v^{3} + 165 (v)_{xx} (v)_{x} v^{4} + \\frac{21 (v)_{x}^{3} u^{3}}{2} + 42 (v)_{x}^{3} u^{2} v + 105 (v)_{x}^{3} u v^{2} + 210 (v)_{x}^{3} v^{3} - 28 (v)_{x} v^{6}\\right) \\epsilon^{6} + \\left(- \\frac{1155 \\sqrt{2} i (u)_{xxxx} u^{4}}{128} - \\frac{315 \\sqrt{2} i (u)_{xxxx} u^{3} v}{32} - \\frac{525 \\sqrt{2} i (u)_{xxxx} u^{2} v^{2}}{64} - \\frac{175 \\sqrt{2} i (u)_{xxxx} u v^{3}}{32} - \\frac{315 \\sqrt{2} i (u)_{xxxx} v^{4}}{128} - \\frac{1617 \\sqrt{2} i (u)_{xxx} (u)_{x} u^{3}}{16} - \\frac{1323 \\sqrt{2} i (u)_{xxx} (u)_{x} u^{2} v}{16} - \\frac{735 \\sqrt{2} i (u)_{xxx} (u)_{x} u v^{2}}{16} - \\frac{245 \\sqrt{2} i (u)_{xxx} (u)_{x} v^{3}}{16} - \\frac{315 \\sqrt{2} i (u)_{xxx} (v)_{x} u^{3}}{16} - \\frac{525 \\sqrt{2} i (u)_{xxx} (v)_{x} u^{2} v}{16} - \\frac{525 \\sqrt{2} i (u)_{xxx} (v)_{x} u v^{2}}{16} - \\frac{315 \\sqrt{2} i (u)_{xxx} (v)_{x} v^{3}}{16} - \\frac{4389 \\sqrt{2} i (u)_{xx}^{2} u^{3}}{64} - \\frac{3591 \\sqrt{2} i (u)_{xx}^{2} u^{2} v}{64} - \\frac{1995 \\sqrt{2} i (u)_{xx}^{2} u v^{2}}{64} - \\frac{665 \\sqrt{2} i (u)_{xx}^{2} v^{3}}{64} - \\frac{21879 \\sqrt{2} i (u)_{xx} (u)_{x}^{2} u^{2}}{64} - \\frac{5967 \\sqrt{2} i (u)_{xx} (u)_{x}^{2} u v}{32} - \\frac{3315 \\sqrt{2} i (u)_{xx} (u)_{x}^{2} v^{2}}{64} - \\frac{3843 \\sqrt{2} i (u)_{xx} (u)_{x} (v)_{x} u^{2}}{32} - \\frac{2135 \\sqrt{2} i (u)_{xx} (u)_{x} (v)_{x} u v}{16} - \\frac{2135 \\sqrt{2} i (u)_{xx} (u)_{x} (v)_{x} v^{2}}{32} - \\frac{105 \\sqrt{2} i (u)_{xx} (v)_{xx} u^{3}}{32} - \\frac{175 \\sqrt{2} i (u)_{xx} (v)_{xx} u^{2} v}{32} - \\frac{175 \\sqrt{2} i (u)_{xx} (v)_{xx} u v^{2}}{32} - \\frac{105 \\sqrt{2} i (u)_{xx} (v)_{xx} v^{3}}{32} - \\frac{595 \\sqrt{2} i (u)_{xx} (v)_{x}^{2} u^{2}}{64} - \\frac{595 \\sqrt{2} i (u)_{xx} (v)_{x}^{2} u v}{32} - \\frac{1071 \\sqrt{2} i (u)_{xx} (v)_{x}^{2} v^{2}}{64} - \\frac{2079 \\sqrt{2} i (u)_{xx} u^{5}}{64} - \\frac{315 \\sqrt{2} i (u)_{xx} u^{4} v}{32} - \\frac{105 \\sqrt{2} i (u)_{xx} u^{3} v^{2}}{32} + \\frac{105 \\sqrt{2} i (u)_{xx} u v^{4}}{64} + \\frac{63 \\sqrt{2} i (u)_{xx} v^{5}}{32} - \\frac{12155 \\sqrt{2} i (u)_{x}^{4} u}{128} - \\frac{3315 \\sqrt{2} i (u)_{x}^{4} v}{128} - \\frac{1989 \\sqrt{2} i (u)_{x}^{3} (v)_{x} u}{32} - \\frac{1105 \\sqrt{2} i (u)_{x}^{3} (v)_{x} v}{32} - \\frac{189 \\sqrt{2} i (u)_{x}^{2} (v)_{xx} u^{2}}{64} - \\frac{105 \\sqrt{2} i (u)_{x}^{2} (v)_{xx} u v}{32} - \\frac{105 \\sqrt{2} i (u)_{x}^{2} (v)_{xx} v^{2}}{64} - \\frac{609 \\sqrt{2} i (u)_{x}^{2} (v)_{x}^{2} u}{64} - \\frac{609 \\sqrt{2} i (u)_{x}^{2} (v)_{x}^{2} v}{64} - \\frac{17325 \\sqrt{2} i (u)_{x}^{2} u^{4}}{128} - \\frac{525 \\sqrt{2} i (u)_{x}^{2} u^{3} v}{16} - \\frac{525 \\sqrt{2} i (u)_{x}^{2} u^{2} v^{2}}{64} + \\frac{175 \\sqrt{2} i (u)_{x}^{2} v^{4}}{128} + \\frac{105 \\sqrt{2} i (u)_{x} (v)_{xxx} u^{3}}{8} + \\frac{175 \\sqrt{2} i (u)_{x} (v)_{xxx} u^{2} v}{8} + \\frac{175 \\sqrt{2} i (u)_{x} (v)_{xxx} u v^{2}}{8} + \\frac{105 \\sqrt{2} i (u)_{x} (v)_{xxx} v^{3}}{8} + \\frac{1575 \\sqrt{2} i (u)_{x} (v)_{xx} (v)_{x} u^{2}}{32} + \\frac{1575 \\sqrt{2} i (u)_{x} (v)_{xx} (v)_{x} u v}{16} + \\frac{2835 \\sqrt{2} i (u)_{x} (v)_{xx} (v)_{x} v^{2}}{32} + \\frac{875 \\sqrt{2} i (u)_{x} (v)_{x}^{3} u}{32} + \\frac{1575 \\sqrt{2} i (u)_{x} (v)_{x}^{3} v}{32} - \\frac{315 \\sqrt{2} i (u)_{x} (v)_{x} u^{4}}{32} - \\frac{105 \\sqrt{2} i (u)_{x} (v)_{x} u^{3} v}{16} + \\frac{105 \\sqrt{2} i (u)_{x} (v)_{x} u v^{3}}{16} + \\frac{315 \\sqrt{2} i (u)_{x} (v)_{x} v^{4}}{32} + \\frac{315 \\sqrt{2} i (v)_{xxxx} u^{4}}{128} + \\frac{175 \\sqrt{2} i (v)_{xxxx} u^{3} v}{32} + \\frac{525 \\sqrt{2} i (v)_{xxxx} u^{2} v^{2}}{64} + \\frac{315 \\sqrt{2} i (v)_{xxxx} u v^{3}}{32} + \\frac{1155 \\sqrt{2} i (v)_{xxxx} v^{4}}{128} + \\frac{35 \\sqrt{2} i (v)_{xxx} (v)_{x} u^{3}}{2} + \\frac{105 \\sqrt{2} i (v)_{xxx} (v)_{x} u^{2} v}{2} + \\frac{189 \\sqrt{2} i (v)_{xxx} (v)_{x} u v^{2}}{2} + \\frac{231 \\sqrt{2} i (v)_{xxx} (v)_{x} v^{3}}{2} + \\frac{735 \\sqrt{2} i (v)_{xx}^{2} u^{3}}{64} + \\frac{2205 \\sqrt{2} i (v)_{xx}^{2} u^{2} v}{64} + \\frac{3969 \\sqrt{2} i (v)_{xx}^{2} u v^{2}}{64} + \\frac{4851 \\sqrt{2} i (v)_{xx}^{2} v^{3}}{64} + \\frac{4095 \\sqrt{2} i (v)_{xx} (v)_{x}^{2} u^{2}}{64} + \\frac{7371 \\sqrt{2} i (v)_{xx} (v)_{x}^{2} u v}{32} + \\frac{27027 \\sqrt{2} i (v)_{xx} (v)_{x}^{2} v^{2}}{64} + \\frac{63 \\sqrt{2} i (v)_{xx} u^{5}}{32} + \\frac{105 \\sqrt{2} i (v)_{xx} u^{4} v}{64} - \\frac{105 \\sqrt{2} i (v)_{xx} u^{2} v^{3}}{32} - \\frac{315 \\sqrt{2} i (v)_{xx} u v^{4}}{32} - \\frac{2079 \\sqrt{2} i (v)_{xx} v^{5}}{64} + \\frac{4389 \\sqrt{2} i (v)_{x}^{4} u}{128} + \\frac{16093 \\sqrt{2} i (v)_{x}^{4} v}{128} + \\frac{245 \\sqrt{2} i (v)_{x}^{2} u^{4}}{128} - \\frac{735 \\sqrt{2} i (v)_{x}^{2} u^{2} v^{2}}{64} - \\frac{735 \\sqrt{2} i (v)_{x}^{2} u v^{3}}{16} - \\frac{24255 \\sqrt{2} i (v)_{x}^{2} v^{4}}{128} - \\frac{1617 \\sqrt{2} i u^{7}}{512} + \\frac{525 \\sqrt{2} i u^{6} v}{512} + \\frac{63 \\sqrt{2} i u^{5} v^{2}}{512} + \\frac{5 \\sqrt{2} i u^{4} v^{3}}{512} + \\frac{5 \\sqrt{2} i u^{3} v^{4}}{512} + \\frac{63 \\sqrt{2} i u^{2} v^{5}}{512} + \\frac{525 \\sqrt{2} i u v^{6}}{512} - \\frac{1617 \\sqrt{2} i v^{7}}{512}\\right) \\epsilon^{5} + \\left(10 (u)_{xxxxx} u^{3} + 12 (u)_{xxxxx} u^{2} v + 9 (u)_{xxxxx} u v^{2} + 4 (u)_{xxxxx} v^{3} + 100 (u)_{xxxx} (u)_{x} u^{2} + 80 (u)_{xxxx} (u)_{x} u v + 30 (u)_{xxxx} (u)_{x} v^{2} + 30 (u)_{xxxx} (v)_{x} u^{2} + 45 (u)_{xxxx} (v)_{x} u v + 30 (u)_{xxxx} (v)_{x} v^{2} + 170 (u)_{xxx} (u)_{xx} u^{2} + 136 (u)_{xxx} (u)_{xx} u v + 51 (u)_{xxx} (u)_{xx} v^{2} + \\frac{1125 (u)_{xxx} (u)_{x}^{2} u}{4} + \\frac{225 (u)_{xxx} (u)_{x}^{2} v}{2} + 154 (u)_{xxx} (u)_{x} (v)_{x} u + \\frac{231 (u)_{xxx} (u)_{x} (v)_{x} v}{2} + 18 (u)_{xxx} (v)_{xx} u^{2} + 27 (u)_{xxx} (v)_{xx} u v + 18 (u)_{xxx} (v)_{xx} v^{2} + \\frac{123 (u)_{xxx} (v)_{x}^{2} u}{4} + 41 (u)_{xxx} (v)_{x}^{2} v + 50 (u)_{xxx} u^{4} + 24 (u)_{xxx} u^{3} v + 6 (u)_{xxx} u^{2} v^{2} - 4 (u)_{xxx} u v^{3} - 6 (u)_{xxx} v^{4} + \\frac{765 (u)_{xx}^{2} (u)_{x} u}{2} + 153 (u)_{xx}^{2} (u)_{x} v + 102 (u)_{xx}^{2} (v)_{x} u + \\frac{153 (u)_{xx}^{2} (v)_{x} v}{2} + \\frac{1695 (u)_{xx} (u)_{x}^{3}}{8} + \\frac{1287 (u)_{xx} (u)_{x}^{2} (v)_{x}}{8} + 60 (u)_{xx} (u)_{x} (v)_{xx} u + 45 (u)_{xx} (u)_{x} (v)_{xx} v + \\frac{429 (u)_{xx} (u)_{x} (v)_{x}^{2}}{8} + 450 (u)_{xx} (u)_{x} u^{3} + 162 (u)_{xx} (u)_{x} u^{2} v + 27 (u)_{xx} (u)_{x} u v^{2} - 9 (u)_{xx} (u)_{x} v^{3} - 12 (u)_{xx} (v)_{xxx} u^{2} - 18 (u)_{xx} (v)_{xxx} u v - 12 (u)_{xx} (v)_{xxx} v^{2} - 27 (u)_{xx} (v)_{xx} (v)_{x} u - 36 (u)_{xx} (v)_{xx} (v)_{x} v - \\frac{51 (u)_{xx} (v)_{x}^{3}}{8} + 36 (u)_{xx} (v)_{x} u^{3} + 18 (u)_{xx} (v)_{x} u^{2} v - 18 (u)_{xx} (v)_{x} u v^{2} - 36 (u)_{xx} (v)_{x} v^{3} + \\frac{105 (u)_{x}^{3} (v)_{xx}}{8} + 375 (u)_{x}^{3} u^{2} + 90 (u)_{x}^{3} u v + \\frac{15 (u)_{x}^{3} v^{2}}{2} - 25 (u)_{x}^{2} (v)_{xxx} u - \\frac{75 (u)_{x}^{2} (v)_{xxx} v}{4} - \\frac{255 (u)_{x}^{2} (v)_{xx} (v)_{x}}{8} + 81 (u)_{x}^{2} (v)_{x} u^{2} + 27 (u)_{x}^{2} (v)_{x} u v - \\frac{27 (u)_{x}^{2} (v)_{x} v^{2}}{2} - 24 (u)_{x} (v)_{xxxx} u^{2} - 36 (u)_{x} (v)_{xxxx} u v - 24 (u)_{x} (v)_{xxxx} v^{2} - \\frac{201 (u)_{x} (v)_{xxx} (v)_{x} u}{2} - 134 (u)_{x} (v)_{xxx} (v)_{x} v - \\frac{129 (u)_{x} (v)_{xx}^{2} u}{2} - 86 (u)_{x} (v)_{xx}^{2} v - \\frac{1173 (u)_{x} (v)_{xx} (v)_{x}^{2}}{8} - 12 (u)_{x} (v)_{xx} u^{3} - 6 (u)_{x} (v)_{xx} u^{2} v + 6 (u)_{x} (v)_{xx} u v^{2} + 12 (u)_{x} (v)_{xx} v^{3} - \\frac{9 (u)_{x} (v)_{x}^{2} u^{2}}{2} + 9 (u)_{x} (v)_{x}^{2} u v + 27 (u)_{x} (v)_{x}^{2} v^{2} + 72 (u)_{x} u^{5} - 4 (v)_{xxxxx} u^{3} - 9 (v)_{xxxxx} u^{2} v - 12 (v)_{xxxxx} u v^{2} - 10 (v)_{xxxxx} v^{3} - 33 (v)_{xxxx} (v)_{x} u^{2} - 88 (v)_{xxxx} (v)_{x} u v - 110 (v)_{xxxx} (v)_{x} v^{2} - 54 (v)_{xxx} (v)_{xx} u^{2} - 144 (v)_{xxx} (v)_{xx} u v - 180 (v)_{xxx} (v)_{xx} v^{2} - \\frac{261 (v)_{xxx} (v)_{x}^{2} u}{2} - \\frac{1305 (v)_{xxx} (v)_{x}^{2} v}{4} - 6 (v)_{xxx} u^{4} - 4 (v)_{xxx} u^{3} v + 6 (v)_{xxx} u^{2} v^{2} + 24 (v)_{xxx} u v^{3} + 50 (v)_{xxx} v^{4} - 173 (v)_{xx}^{2} (v)_{x} u - \\frac{865 (v)_{xx}^{2} (v)_{x} v}{2} - \\frac{2037 (v)_{xx} (v)_{x}^{3}}{8} - 11 (v)_{xx} (v)_{x} u^{3} + 33 (v)_{xx} (v)_{x} u^{2} v + 198 (v)_{xx} (v)_{x} u v^{2} + 550 (v)_{xx} (v)_{x} v^{3} + \\frac{21 (v)_{x}^{3} u^{2}}{2} + 126 (v)_{x}^{3} u v + 525 (v)_{x}^{3} v^{2} - 72 (v)_{x} v^{5}\\right) \\epsilon^{4} + \\left(\\frac{63 \\sqrt{2} i (u)_{xxxxxx} u^{2}}{16} + \\frac{35 \\sqrt{2} i (u)_{xxxxxx} u v}{8} + \\frac{35 \\sqrt{2} i (u)_{xxxxxx} v^{2}}{16} + \\frac{243 \\sqrt{2} i (u)_{xxxxx} (u)_{x} u}{8} + \\frac{135 \\sqrt{2} i (u)_{xxxxx} (u)_{x} v}{8} + \\frac{105 \\sqrt{2} i (u)_{xxxxx} (v)_{x} u}{8} + \\frac{105 \\sqrt{2} i (u)_{xxxxx} (v)_{x} v}{8} + \\frac{495 \\sqrt{2} i (u)_{xxxx} (u)_{xx} u}{8} + \\frac{275 \\sqrt{2} i (u)_{xxxx} (u)_{xx} v}{8} + \\frac{815 \\sqrt{2} i (u)_{xxxx} (u)_{x}^{2}}{16} + \\frac{325 \\sqrt{2} i (u)_{xxxx} (u)_{x} (v)_{x}}{8} + \\frac{105 \\sqrt{2} i (u)_{xxxx} (v)_{xx} u}{8} + \\frac{105 \\sqrt{2} i (u)_{xxxx} (v)_{xx} v}{8} + \\frac{215 \\sqrt{2} i (u)_{xxxx} (v)_{x}^{2}}{16} + \\frac{105 \\sqrt{2} i (u)_{xxxx} u^{3}}{4} + \\frac{105 \\sqrt{2} i (u)_{xxxx} u^{2} v}{8} - \\frac{35 \\sqrt{2} i (u)_{xxxx} v^{3}}{8} + \\frac{621 \\sqrt{2} i (u)_{xxx}^{2} u}{16} + \\frac{345 \\sqrt{2} i (u)_{xxx}^{2} v}{16} + \\frac{1391 \\sqrt{2} i (u)_{xxx} (u)_{xx} (u)_{x}}{8} + \\frac{537 \\sqrt{2} i (u)_{xxx} (u)_{xx} (v)_{x}}{8} + \\frac{241 \\sqrt{2} i (u)_{xxx} (u)_{x} (v)_{xx}}{8} + \\frac{441 \\sqrt{2} i (u)_{xxx} (u)_{x} u^{2}}{2} + \\frac{147 \\sqrt{2} i (u)_{xxx} (u)_{x} u v}{2} + \\frac{7 \\sqrt{2} i (u)_{xxx} (v)_{xxx} u}{8} + \\frac{7 \\sqrt{2} i (u)_{xxx} (v)_{xxx} v}{8} + \\frac{71 \\sqrt{2} i (u)_{xxx} (v)_{xx} (v)_{x}}{8} + \\frac{105 \\sqrt{2} i (u)_{xxx} (v)_{x} u^{2}}{4} - \\frac{105 \\sqrt{2} i (u)_{xxx} (v)_{x} v^{2}}{4} + \\frac{631 \\sqrt{2} i (u)_{xx}^{3}}{16} + \\frac{307 \\sqrt{2} i (u)_{xx}^{2} (v)_{xx}}{16} + \\frac{1197 \\sqrt{2} i (u)_{xx}^{2} u^{2}}{8} + \\frac{399 \\sqrt{2} i (u)_{xx}^{2} u v}{8} + \\frac{1989 \\sqrt{2} i (u)_{xx} (u)_{x}^{2} u}{4} + \\frac{663 \\sqrt{2} i (u)_{xx} (u)_{x}^{2} v}{8} - \\frac{31 \\sqrt{2} i (u)_{xx} (u)_{x} (v)_{xxx}}{8} + \\frac{427 \\sqrt{2} i (u)_{xx} (u)_{x} (v)_{x} u}{4} - \\frac{91 \\sqrt{2} i (u)_{xx} (v)_{xxxx} u}{8} - \\frac{91 \\sqrt{2} i (u)_{xx} (v)_{xxxx} v}{8} - \\frac{217 \\sqrt{2} i (u)_{xx} (v)_{xxx} (v)_{x}}{8} - \\frac{267 \\sqrt{2} i (u)_{xx} (v)_{xx}^{2}}{16} + \\frac{35 \\sqrt{2} i (u)_{xx} (v)_{xx} u^{2}}{8} - \\frac{35 \\sqrt{2} i (u)_{xx} (v)_{xx} v^{2}}{8} - \\frac{119 \\sqrt{2} i (u)_{xx} (v)_{x}^{2} v}{8} + \\frac{7875 \\sqrt{2} i (u)_{xx} u^{4}}{128} + \\frac{315 \\sqrt{2} i (u)_{xx} u^{3} v}{32} + \\frac{45 \\sqrt{2} i (u)_{xx} u^{2} v^{2}}{64} + \\frac{15 \\sqrt{2} i (u)_{xx} u v^{3}}{32} + \\frac{315 \\sqrt{2} i (u)_{xx} v^{4}}{128} + \\frac{1105 \\sqrt{2} i (u)_{x}^{4}}{16} + \\frac{221 \\sqrt{2} i (u)_{x}^{3} (v)_{x}}{8} - \\frac{167 \\sqrt{2} i (u)_{x}^{2} (v)_{xxxx}}{16} + \\frac{21 \\sqrt{2} i (u)_{x}^{2} (v)_{xx} u}{8} + \\frac{13125 \\sqrt{2} i (u)_{x}^{2} u^{3}}{64} + \\frac{1575 \\sqrt{2} i (u)_{x}^{2} u^{2} v}{64} + \\frac{75 \\sqrt{2} i (u)_{x}^{2} u v^{2}}{64} + \\frac{25 \\sqrt{2} i (u)_{x}^{2} v^{3}}{64} - \\frac{91 \\sqrt{2} i (u)_{x} (v)_{xxxxx} u}{8} - \\frac{91 \\sqrt{2} i (u)_{x} (v)_{xxxxx} v}{8} - \\frac{301 \\sqrt{2} i (u)_{x} (v)_{xxxx} (v)_{x}}{8} - \\frac{481 \\sqrt{2} i (u)_{x} (v)_{xxx} (v)_{xx}}{8} - \\frac{35 \\sqrt{2} i (u)_{x} (v)_{xxx} u^{2}}{2} + \\frac{35 \\sqrt{2} i (u)_{x} (v)_{xxx} v^{2}}{2} + \\frac{315 \\sqrt{2} i (u)_{x} (v)_{xx} (v)_{x} v}{4} + \\frac{175 \\sqrt{2} i (u)_{x} (v)_{x}^{3}}{8} + \\frac{315 \\sqrt{2} i (u)_{x} (v)_{x} u^{3}}{32} + \\frac{45 \\sqrt{2} i (u)_{x} (v)_{x} u^{2} v}{32} + \\frac{45 \\sqrt{2} i (u)_{x} (v)_{x} u v^{2}}{32} + \\frac{315 \\sqrt{2} i (u)_{x} (v)_{x} v^{3}}{32} - \\frac{35 \\sqrt{2} i (v)_{xxxxxx} u^{2}}{16} - \\frac{35 \\sqrt{2} i (v)_{xxxxxx} u v}{8} - \\frac{63 \\sqrt{2} i (v)_{xxxxxx} v^{2}}{16} - \\frac{145 \\sqrt{2} i (v)_{xxxxx} (v)_{x} u}{8} - \\frac{261 \\sqrt{2} i (v)_{xxxxx} (v)_{x} v}{8} - \\frac{285 \\sqrt{2} i (v)_{xxxx} (v)_{xx} u}{8} - \\frac{513 \\sqrt{2} i (v)_{xxxx} (v)_{xx} v}{8} - \\frac{911 \\sqrt{2} i (v)_{xxxx} (v)_{x}^{2}}{16} - \\frac{35 \\sqrt{2} i (v)_{xxxx} u^{3}}{8} + \\frac{105 \\sqrt{2} i (v)_{xxxx} u v^{2}}{8} + \\frac{105 \\sqrt{2} i (v)_{xxxx} v^{3}}{4} - \\frac{355 \\sqrt{2} i (v)_{xxx}^{2} u}{16} - \\frac{639 \\sqrt{2} i (v)_{xxx}^{2} v}{16} - \\frac{1511 \\sqrt{2} i (v)_{xxx} (v)_{xx} (v)_{x}}{8} + 84 \\sqrt{2} i (v)_{xxx} (v)_{x} u v + 252 \\sqrt{2} i (v)_{xxx} (v)_{x} v^{2} - \\frac{671 \\sqrt{2} i (v)_{xx}^{3}}{16} + \\frac{441 \\sqrt{2} i (v)_{xx}^{2} u v}{8} + \\frac{1323 \\sqrt{2} i (v)_{xx}^{2} v^{2}}{8} + \\frac{819 \\sqrt{2} i (v)_{xx} (v)_{x}^{2} u}{8} + \\frac{2457 \\sqrt{2} i (v)_{xx} (v)_{x}^{2} v}{4} - \\frac{315 \\sqrt{2} i (v)_{xx} u^{4}}{128} - \\frac{15 \\sqrt{2} i (v)_{xx} u^{3} v}{32} - \\frac{45 \\sqrt{2} i (v)_{xx} u^{2} v^{2}}{64} - \\frac{315 \\sqrt{2} i (v)_{xx} u v^{3}}{32} - \\frac{7875 \\sqrt{2} i (v)_{xx} v^{4}}{128} + \\frac{1463 \\sqrt{2} i (v)_{x}^{4}}{16} - \\frac{35 \\sqrt{2} i (v)_{x}^{2} u^{3}}{64} - \\frac{105 \\sqrt{2} i (v)_{x}^{2} u^{2} v}{64} - \\frac{2205 \\sqrt{2} i (v)_{x}^{2} u v^{2}}{64} - \\frac{18375 \\sqrt{2} i (v)_{x}^{2} v^{3}}{64} + \\frac{735 \\sqrt{2} i u^{6}}{128} - \\frac{35 \\sqrt{2} i u^{5} v}{32} - \\frac{5 \\sqrt{2} i u^{4} v^{2}}{128} + \\frac{5 \\sqrt{2} i u^{2} v^{4}}{128} + \\frac{35 \\sqrt{2} i u v^{5}}{32} - \\frac{735 \\sqrt{2} i v^{6}}{128}\\right) \\epsilon^{3} + \\left(- 2 (u)_{xxxxxxx} u - \\frac{3 (u)_{xxxxxxx} v}{2} - \\frac{35 (u)_{xxxxxx} (u)_{x}}{4} - \\frac{21 (u)_{xxxxxx} (v)_{x}}{4} - \\frac{83 (u)_{xxxxx} (u)_{xx}}{4} - \\frac{29 (u)_{xxxxx} (v)_{xx}}{4} - 18 (u)_{xxxxx} u^{2} - 6 (u)_{xxxxx} u v + 3 (u)_{xxxxx} v^{2} - \\frac{125 (u)_{xxxx} (u)_{xxx}}{4} - 120 (u)_{xxxx} (u)_{x} u - 20 (u)_{xxxx} (u)_{x} v - \\frac{15 (u)_{xxxx} (v)_{xxx}}{4} - 15 (u)_{xxxx} (v)_{x} u + 15 (u)_{xxxx} (v)_{x} v - 204 (u)_{xxx} (u)_{xx} u - 34 (u)_{xxx} (u)_{xx} v - \\frac{675 (u)_{xxx} (u)_{x}^{2}}{4} - \\frac{77 (u)_{xxx} (u)_{x} (v)_{x}}{2} + \\frac{13 (u)_{xxx} (v)_{xxxx}}{4} - 9 (u)_{xxx} (v)_{xx} u + 9 (u)_{xxx} (v)_{xx} v + \\frac{41 (u)_{xxx} (v)_{x}^{2}}{4} - 64 (u)_{xxx} u^{3} - 12 (u)_{xxx} u^{2} v - 4 (u)_{xxx} v^{3} - \\frac{459 (u)_{xx}^{2} (u)_{x}}{2} - \\frac{51 (u)_{xx}^{2} (v)_{x}}{2} - 15 (u)_{xx} (u)_{x} (v)_{xx} - 432 (u)_{xx} (u)_{x} u^{2} - 54 (u)_{xx} (u)_{x} u v + \\frac{27 (u)_{xx} (v)_{xxxxx}}{4} + 6 (u)_{xx} (v)_{xxx} u - 6 (u)_{xx} (v)_{xxx} v - 9 (u)_{xx} (v)_{xx} (v)_{x} - 18 (u)_{xx} (v)_{x} u^{2} - 18 (u)_{xx} (v)_{x} v^{2} - 240 (u)_{x}^{3} u - 15 (u)_{x}^{3} v + \\frac{25 (u)_{x}^{2} (v)_{xxx}}{4} - 27 (u)_{x}^{2} (v)_{x} u + \\frac{19 (u)_{x} (v)_{xxxxxx}}{4} + 12 (u)_{x} (v)_{xxxx} u - 12 (u)_{x} (v)_{xxxx} v - \\frac{67 (u)_{x} (v)_{xxx} (v)_{x}}{2} - \\frac{43 (u)_{x} (v)_{xx}^{2}}{2} + 6 (u)_{x} (v)_{xx} u^{2} + 6 (u)_{x} (v)_{xx} v^{2} + 9 (u)_{x} (v)_{x}^{2} v - 80 (u)_{x} u^{4} + \\frac{3 (v)_{xxxxxxx} u}{2} + 2 (v)_{xxxxxxx} v + \\frac{37 (v)_{xxxxxx} (v)_{x}}{4} + \\frac{85 (v)_{xxxxx} (v)_{xx}}{4} + 3 (v)_{xxxxx} u^{2} - 6 (v)_{xxxxx} u v - 18 (v)_{xxxxx} v^{2} + \\frac{127 (v)_{xxxx} (v)_{xxx}}{4} - 22 (v)_{xxxx} (v)_{x} u - 132 (v)_{xxxx} (v)_{x} v - 36 (v)_{xxx} (v)_{xx} u - 216 (v)_{xxx} (v)_{xx} v - \\frac{783 (v)_{xxx} (v)_{x}^{2}}{4} + 4 (v)_{xxx} u^{3} + 12 (v)_{xxx} u v^{2} + 64 (v)_{xxx} v^{3} - \\frac{519 (v)_{xx}^{2} (v)_{x}}{2} + 66 (v)_{xx} (v)_{x} u v + 528 (v)_{xx} (v)_{x} v^{2} + 21 (v)_{x}^{3} u + 336 (v)_{x}^{3} v - 80 (v)_{x} v^{4}\\right) \\epsilon^{2} + \\left(- \\frac{\\sqrt{2} i (u)_{xxxxxxxx}}{4} - \\frac{7 \\sqrt{2} i (u)_{xxxxxx} u}{2} - \\frac{27 \\sqrt{2} i (u)_{xxxxx} (u)_{x}}{2} - \\frac{55 \\sqrt{2} i (u)_{xxxx} (u)_{xx}}{2} - \\frac{315 \\sqrt{2} i (u)_{xxxx} u^{2}}{16} - \\frac{15 \\sqrt{2} i (u)_{xxxx} u v}{8} - \\frac{15 \\sqrt{2} i (u)_{xxxx} v^{2}}{16} - \\frac{69 \\sqrt{2} i (u)_{xxx}^{2}}{4} - \\frac{441 \\sqrt{2} i (u)_{xxx} (u)_{x} u}{4} - \\frac{21 \\sqrt{2} i (u)_{xxx} (u)_{x} v}{4} - \\frac{15 \\sqrt{2} i (u)_{xxx} (v)_{x} u}{4} - \\frac{15 \\sqrt{2} i (u)_{xxx} (v)_{x} v}{4} - \\frac{1197 \\sqrt{2} i (u)_{xx}^{2} u}{16} - \\frac{57 \\sqrt{2} i (u)_{xx}^{2} v}{16} - \\frac{1989 \\sqrt{2} i (u)_{xx} (u)_{x}^{2}}{16} - \\frac{61 \\sqrt{2} i (u)_{xx} (u)_{x} (v)_{x}}{8} - \\frac{5 \\sqrt{2} i (u)_{xx} (v)_{xx} u}{8} - \\frac{5 \\sqrt{2} i (u)_{xx} (v)_{xx} v}{8} - \\frac{17 \\sqrt{2} i (u)_{xx} (v)_{x}^{2}}{16} - \\frac{175 \\sqrt{2} i (u)_{xx} u^{3}}{4} - \\frac{15 \\sqrt{2} i (u)_{xx} u^{2} v}{8} + \\frac{5 \\sqrt{2} i (u)_{xx} v^{3}}{8} - \\frac{3 \\sqrt{2} i (u)_{x}^{2} (v)_{xx}}{16} - \\frac{875 \\sqrt{2} i (u)_{x}^{2} u^{2}}{8} - \\frac{25 \\sqrt{2} i (u)_{x}^{2} u v}{8} + \\frac{5 \\sqrt{2} i (u)_{x} (v)_{xxx} u}{2} + \\frac{5 \\sqrt{2} i (u)_{x} (v)_{xxx} v}{2} + \\frac{45 \\sqrt{2} i (u)_{x} (v)_{xx} (v)_{x}}{8} - \\frac{15 \\sqrt{2} i (u)_{x} (v)_{x} u^{2}}{8} + \\frac{15 \\sqrt{2} i (u)_{x} (v)_{x} v^{2}}{8} + \\frac{\\sqrt{2} i (v)_{xxxxxxxx}}{4} - \\frac{7 \\sqrt{2} i (v)_{xxxxxx} v}{2} - \\frac{29 \\sqrt{2} i (v)_{xxxxx} (v)_{x}}{2} - \\frac{57 \\sqrt{2} i (v)_{xxxx} (v)_{xx}}{2} + \\frac{15 \\sqrt{2} i (v)_{xxxx} u^{2}}{16} + \\frac{15 \\sqrt{2} i (v)_{xxxx} u v}{8} + \\frac{315 \\sqrt{2} i (v)_{xxxx} v^{2}}{16} - \\frac{71 \\sqrt{2} i (v)_{xxx}^{2}}{4} + 6 \\sqrt{2} i (v)_{xxx} (v)_{x} u + 126 \\sqrt{2} i (v)_{xxx} (v)_{x} v + \\frac{63 \\sqrt{2} i (v)_{xx}^{2} u}{16} + \\frac{1323 \\sqrt{2} i (v)_{xx}^{2} v}{16} + \\frac{2457 \\sqrt{2} i (v)_{xx} (v)_{x}^{2}}{16} + \\frac{5 \\sqrt{2} i (v)_{xx} u^{3}}{8} - \\frac{15 \\sqrt{2} i (v)_{xx} u v^{2}}{8} - \\frac{175 \\sqrt{2} i (v)_{xx} v^{3}}{4} - \\frac{35 \\sqrt{2} i (v)_{x}^{2} u v}{8} - \\frac{1225 \\sqrt{2} i (v)_{x}^{2} v^{2}}{8} - \\frac{1225 \\sqrt{2} i u^{5}}{256} + \\frac{75 \\sqrt{2} i u^{4} v}{256} - \\frac{\\sqrt{2} i u^{3} v^{2}}{128} - \\frac{\\sqrt{2} i u^{2} v^{3}}{128} + \\frac{75 \\sqrt{2} i u v^{4}}{256} - \\frac{1225 \\sqrt{2} i v^{5}}{256}\\right) \\epsilon + \\left(\\frac{5 \\sqrt{2} i u}{32} + \\frac{5 \\sqrt{2} i v}{32}\\right) \\frac{1}{\\epsilon^{7}} + \\left(\\frac{\\sqrt{2} i (u)_{xx}}{8} - \\frac{\\sqrt{2} i (v)_{xx}}{8} + \\frac{\\sqrt{2} i u^{2}}{8} - \\frac{\\sqrt{2} i v^{2}}{8}\\right) \\frac{1}{\\epsilon^{5}} + \\left(\\frac{\\sqrt{2} i (u)_{xxxx}}{8} + \\frac{3 \\sqrt{2} i (u)_{xx} u}{4} + \\frac{5 \\sqrt{2} i (u)_{x}^{2}}{8} - \\frac{\\sqrt{2} i (v)_{xxxx}}{8} + \\frac{3 \\sqrt{2} i (v)_{xx} v}{4} + \\frac{7 \\sqrt{2} i (v)_{x}^{2}}{8} + \\frac{7 \\sqrt{2} i u^{3}}{32} + \\frac{\\sqrt{2} i u^{2} v}{32} + \\frac{\\sqrt{2} i u v^{2}}{32} + \\frac{7 \\sqrt{2} i v^{3}}{32}\\right) \\frac{1}{\\epsilon^{3}} + \\left(\\frac{\\sqrt{2} i (u)_{xxxxxx}}{4} + \\frac{5 \\sqrt{2} i (u)_{xxxx} u}{2} + 7 \\sqrt{2} i (u)_{xxx} (u)_{x} + \\frac{19 \\sqrt{2} i (u)_{xx}^{2}}{4} + \\frac{225 \\sqrt{2} i (u)_{xx} u^{2}}{32} - \\frac{3 \\sqrt{2} i (u)_{xx} u v}{16} - \\frac{3 \\sqrt{2} i (u)_{xx} v^{2}}{32} + \\frac{375 \\sqrt{2} i (u)_{x}^{2} u}{32} - \\frac{5 \\sqrt{2} i (u)_{x}^{2} v}{32} - \\frac{3 \\sqrt{2} i (u)_{x} (v)_{x} u}{16} - \\frac{3 \\sqrt{2} i (u)_{x} (v)_{x} v}{16} - \\frac{\\sqrt{2} i (v)_{xxxxxx}}{4} + \\frac{5 \\sqrt{2} i (v)_{xxxx} v}{2} + 8 \\sqrt{2} i (v)_{xxx} (v)_{x} + \\frac{21 \\sqrt{2} i (v)_{xx}^{2}}{4} + \\frac{3 \\sqrt{2} i (v)_{xx} u^{2}}{32} + \\frac{3 \\sqrt{2} i (v)_{xx} u v}{16} - \\frac{225 \\sqrt{2} i (v)_{xx} v^{2}}{32} + \\frac{7 \\sqrt{2} i (v)_{x}^{2} u}{32} - \\frac{525 \\sqrt{2} i (v)_{x}^{2} v}{32} + \\frac{35 \\sqrt{2} i u^{4}}{32} + \\frac{\\sqrt{2} i u^{3} v}{16} - \\frac{\\sqrt{2} i u v^{3}}{16} - \\frac{35 \\sqrt{2} i v^{4}}{32}\\right) \\frac{1}{\\epsilon} + \\frac{(u)_{xxxxxxx}}{2} + 6 (u)_{xxxxx} u + 20 (u)_{xxxx} (u)_{x} + 34 (u)_{xxx} (u)_{xx} + 24 (u)_{xxx} u^{2} + 108 (u)_{xx} (u)_{x} u + 30 (u)_{x}^{3} + 32 (u)_{x} u^{3} + \\frac{(v)_{xxxxxxx}}{2} - 6 (v)_{xxxxx} v - 22 (v)_{xxxx} (v)_{x} - 36 (v)_{xxx} (v)_{xx} + 24 (v)_{xxx} v^{2} + 132 (v)_{xx} (v)_{x} v + 42 (v)_{x}^{3} - 32 (v)_{x} v^{3}, \\epsilon, \\frac{1}{\\epsilon}, domain=\\mathtt{\\text{EX}} \\right)}$"
      ],
      "text/plain": [
       "Eq(\\sigma_{8}, Poly((-715*sqrt(2)*I*u**9/8192 + 429*sqrt(2)*I*u**8*v/8192 + 33*sqrt(2)*I*u**7*v**2/2048 + 21*sqrt(2)*I*u**6*v**3/2048 + 35*sqrt(2)*I*u**5*v**4/4096 + 35*sqrt(2)*I*u**4*v**5/4096 + 21*sqrt(2)*I*u**3*v**6/2048 + 33*sqrt(2)*I*u**2*v**7/2048 + 429*sqrt(2)*I*u*v**8/8192 - 715*sqrt(2)*I*v**9/8192)*\\epsilon**9 + (4*(u)_{x}*u**7 - 4*(v)_{x}*v**7)*\\epsilon**8 + (3003*sqrt(2)*I*(u)_{xx}*u**6/512 + 693*sqrt(2)*I*(u)_{xx}*u**5*v/256 + 945*sqrt(2)*I*(u)_{xx}*u**4*v**2/512 + 175*sqrt(2)*I*(u)_{xx}*u**3*v**3/128 + 525*sqrt(2)*I*(u)_{xx}*u**2*v**4/512 + 189*sqrt(2)*I*(u)_{xx}*u*v**5/256 + 231*sqrt(2)*I*(u)_{xx}*v**6/512 + 15015*sqrt(2)*I*(u)_{x}**2*u**5/512 + 5775*sqrt(2)*I*(u)_{x}**2*u**4*v/512 + 1575*sqrt(2)*I*(u)_{x}**2*u**3*v**2/256 + 875*sqrt(2)*I*(u)_{x}**2*u**2*v**3/256 + 875*sqrt(2)*I*(u)_{x}**2*u*v**4/512 + 315*sqrt(2)*I*(u)_{x}**2*v**5/512 + 693*sqrt(2)*I*(u)_{x}*(v)_{x}*u**5/256 + 945*sqrt(2)*I*(u)_{x}*(v)_{x}*u**4*v/256 + 525*sqrt(2)*I*(u)_{x}*(v)_{x}*u**3*v**2/128 + 525*sqrt(2)*I*(u)_{x}*(v)_{x}*u**2*v**3/128 + 945*sqrt(2)*I*(u)_{x}*(v)_{x}*u*v**4/256 + 693*sqrt(2)*I*(u)_{x}*(v)_{x}*v**5/256 - 231*sqrt(2)*I*(v)_{xx}*u**6/512 - 189*sqrt(2)*I*(v)_{xx}*u**5*v/256 - 525*sqrt(2)*I*(v)_{xx}*u**4*v**2/512 - 175*sqrt(2)*I*(v)_{xx}*u**3*v**3/128 - 945*sqrt(2)*I*(v)_{xx}*u**2*v**4/512 - 693*sqrt(2)*I*(v)_{xx}*u*v**5/256 - 3003*sqrt(2)*I*(v)_{xx}*v**6/512 - 441*sqrt(2)*I*(v)_{x}**2*u**5/512 - 1225*sqrt(2)*I*(v)_{x}**2*u**4*v/512 - 1225*sqrt(2)*I*(v)_{x}**2*u**3*v**2/256 - 2205*sqrt(2)*I*(v)_{x}**2*u**2*v**3/256 - 8085*sqrt(2)*I*(v)_{x}**2*u*v**4/512 - 21021*sqrt(2)*I*(v)_{x}**2*v**5/512 + 429*sqrt(2)*I*u**8/512 - 99*sqrt(2)*I*u**7*v/256 - 21*sqrt(2)*I*u**6*v**2/256 - 7*sqrt(2)*I*u**5*v**3/256 + 7*sqrt(2)*I*u**3*v**5/256 + 21*sqrt(2)*I*u**2*v**6/256 + 99*sqrt(2)*I*u*v**7/256 - 429*sqrt(2)*I*v**8/512)*\\epsilon**7 + (-12*(u)_{xxx}*u**5 - 10*(u)_{xxx}*u**4*v - 8*(u)_{xxx}*u**3*v**2 - 6*(u)_{xxx}*u**2*v**3 - 4*(u)_{xxx}*u*v**4 - 2*(u)_{xxx}*v**5 - 135*(u)_{xx}*(u)_{x}*u**4 - 90*(u)_{xx}*(u)_{x}*u**3*v - 54*(u)_{xx}*(u)_{x}*u**2*v**2 - 27*(u)_{xx}*(u)_{x}*u*v**3 - 9*(u)_{xx}*(u)_{x}*v**4 - 15*(u)_{xx}*(v)_{x}*u**4 - 24*(u)_{xx}*(v)_{x}*u**3*v - 27*(u)_{xx}*(v)_{x}*u**2*v**2 - 24*(u)_{xx}*(v)_{x}*u*v**3 - 15*(u)_{xx}*(v)_{x}*v**4 - 150*(u)_{x}**3*u**3 - 75*(u)_{x}**3*u**2*v - 30*(u)_{x}**3*u*v**2 - 15*(u)_{x}**3*v**3/2 - 45*(u)_{x}**2*(v)_{x}*u**3 - 54*(u)_{x}**2*(v)_{x}*u**2*v - 81*(u)_{x}**2*(v)_{x}*u*v**2/2 - 18*(u)_{x}**2*(v)_{x}*v**3 + 5*(u)_{x}*(v)_{xx}*u**4 + 8*(u)_{x}*(v)_{xx}*u**3*v + 9*(u)_{x}*(v)_{xx}*u**2*v**2 + 8*(u)_{x}*(v)_{xx}*u*v**3 + 5*(u)_{x}*(v)_{xx}*v**4 + 6*(u)_{x}*(v)_{x}**2*u**3 + 27*(u)_{x}*(v)_{x}**2*u**2*v/2 + 18*(u)_{x}*(v)_{x}**2*u*v**2 + 15*(u)_{x}*(v)_{x}**2*v**3 - 28*(u)_{x}*u**6 + 2*(v)_{xxx}*u**5 + 4*(v)_{xxx}*u**4*v + 6*(v)_{xxx}*u**3*v**2 + 8*(v)_{xxx}*u**2*v**3 + 10*(v)_{xxx}*u*v**4 + 12*(v)_{xxx}*v**5 + 11*(v)_{xx}*(v)_{x}*u**4 + 33*(v)_{xx}*(v)_{x}*u**3*v + 66*(v)_{xx}*(v)_{x}*u**2*v**2 + 110*(v)_{xx}*(v)_{x}*u*v**3 + 165*(v)_{xx}*(v)_{x}*v**4 + 21*(v)_{x}**3*u**3/2 + 42*(v)_{x}**3*u**2*v + 105*(v)_{x}**3*u*v**2 + 210*(v)_{x}**3*v**3 - 28*(v)_{x}*v**6)*\\epsilon**6 + (-1155*sqrt(2)*I*(u)_{xxxx}*u**4/128 - 315*sqrt(2)*I*(u)_{xxxx}*u**3*v/32 - 525*sqrt(2)*I*(u)_{xxxx}*u**2*v**2/64 - 175*sqrt(2)*I*(u)_{xxxx}*u*v**3/32 - 315*sqrt(2)*I*(u)_{xxxx}*v**4/128 - 1617*sqrt(2)*I*(u)_{xxx}*(u)_{x}*u**3/16 - 1323*sqrt(2)*I*(u)_{xxx}*(u)_{x}*u**2*v/16 - 735*sqrt(2)*I*(u)_{xxx}*(u)_{x}*u*v**2/16 - 245*sqrt(2)*I*(u)_{xxx}*(u)_{x}*v**3/16 - 315*sqrt(2)*I*(u)_{xxx}*(v)_{x}*u**3/16 - 525*sqrt(2)*I*(u)_{xxx}*(v)_{x}*u**2*v/16 - 525*sqrt(2)*I*(u)_{xxx}*(v)_{x}*u*v**2/16 - 315*sqrt(2)*I*(u)_{xxx}*(v)_{x}*v**3/16 - 4389*sqrt(2)*I*(u)_{xx}**2*u**3/64 - 3591*sqrt(2)*I*(u)_{xx}**2*u**2*v/64 - 1995*sqrt(2)*I*(u)_{xx}**2*u*v**2/64 - 665*sqrt(2)*I*(u)_{xx}**2*v**3/64 - 21879*sqrt(2)*I*(u)_{xx}*(u)_{x}**2*u**2/64 - 5967*sqrt(2)*I*(u)_{xx}*(u)_{x}**2*u*v/32 - 3315*sqrt(2)*I*(u)_{xx}*(u)_{x}**2*v**2/64 - 3843*sqrt(2)*I*(u)_{xx}*(u)_{x}*(v)_{x}*u**2/32 - 2135*sqrt(2)*I*(u)_{xx}*(u)_{x}*(v)_{x}*u*v/16 - 2135*sqrt(2)*I*(u)_{xx}*(u)_{x}*(v)_{x}*v**2/32 - 105*sqrt(2)*I*(u)_{xx}*(v)_{xx}*u**3/32 - 175*sqrt(2)*I*(u)_{xx}*(v)_{xx}*u**2*v/32 - 175*sqrt(2)*I*(u)_{xx}*(v)_{xx}*u*v**2/32 - 105*sqrt(2)*I*(u)_{xx}*(v)_{xx}*v**3/32 - 595*sqrt(2)*I*(u)_{xx}*(v)_{x}**2*u**2/64 - 595*sqrt(2)*I*(u)_{xx}*(v)_{x}**2*u*v/32 - 1071*sqrt(2)*I*(u)_{xx}*(v)_{x}**2*v**2/64 - 2079*sqrt(2)*I*(u)_{xx}*u**5/64 - 315*sqrt(2)*I*(u)_{xx}*u**4*v/32 - 105*sqrt(2)*I*(u)_{xx}*u**3*v**2/32 + 105*sqrt(2)*I*(u)_{xx}*u*v**4/64 + 63*sqrt(2)*I*(u)_{xx}*v**5/32 - 12155*sqrt(2)*I*(u)_{x}**4*u/128 - 3315*sqrt(2)*I*(u)_{x}**4*v/128 - 1989*sqrt(2)*I*(u)_{x}**3*(v)_{x}*u/32 - 1105*sqrt(2)*I*(u)_{x}**3*(v)_{x}*v/32 - 189*sqrt(2)*I*(u)_{x}**2*(v)_{xx}*u**2/64 - 105*sqrt(2)*I*(u)_{x}**2*(v)_{xx}*u*v/32 - 105*sqrt(2)*I*(u)_{x}**2*(v)_{xx}*v**2/64 - 609*sqrt(2)*I*(u)_{x}**2*(v)_{x}**2*u/64 - 609*sqrt(2)*I*(u)_{x}**2*(v)_{x}**2*v/64 - 17325*sqrt(2)*I*(u)_{x}**2*u**4/128 - 525*sqrt(2)*I*(u)_{x}**2*u**3*v/16 - 525*sqrt(2)*I*(u)_{x}**2*u**2*v**2/64 + 175*sqrt(2)*I*(u)_{x}**2*v**4/128 + 105*sqrt(2)*I*(u)_{x}*(v)_{xxx}*u**3/8 + 175*sqrt(2)*I*(u)_{x}*(v)_{xxx}*u**2*v/8 + 175*sqrt(2)*I*(u)_{x}*(v)_{xxx}*u*v**2/8 + 105*sqrt(2)*I*(u)_{x}*(v)_{xxx}*v**3/8 + 1575*sqrt(2)*I*(u)_{x}*(v)_{xx}*(v)_{x}*u**2/32 + 1575*sqrt(2)*I*(u)_{x}*(v)_{xx}*(v)_{x}*u*v/16 + 2835*sqrt(2)*I*(u)_{x}*(v)_{xx}*(v)_{x}*v**2/32 + 875*sqrt(2)*I*(u)_{x}*(v)_{x}**3*u/32 + 1575*sqrt(2)*I*(u)_{x}*(v)_{x}**3*v/32 - 315*sqrt(2)*I*(u)_{x}*(v)_{x}*u**4/32 - 105*sqrt(2)*I*(u)_{x}*(v)_{x}*u**3*v/16 + 105*sqrt(2)*I*(u)_{x}*(v)_{x}*u*v**3/16 + 315*sqrt(2)*I*(u)_{x}*(v)_{x}*v**4/32 + 315*sqrt(2)*I*(v)_{xxxx}*u**4/128 + 175*sqrt(2)*I*(v)_{xxxx}*u**3*v/32 + 525*sqrt(2)*I*(v)_{xxxx}*u**2*v**2/64 + 315*sqrt(2)*I*(v)_{xxxx}*u*v**3/32 + 1155*sqrt(2)*I*(v)_{xxxx}*v**4/128 + 35*sqrt(2)*I*(v)_{xxx}*(v)_{x}*u**3/2 + 105*sqrt(2)*I*(v)_{xxx}*(v)_{x}*u**2*v/2 + 189*sqrt(2)*I*(v)_{xxx}*(v)_{x}*u*v**2/2 + 231*sqrt(2)*I*(v)_{xxx}*(v)_{x}*v**3/2 + 735*sqrt(2)*I*(v)_{xx}**2*u**3/64 + 2205*sqrt(2)*I*(v)_{xx}**2*u**2*v/64 + 3969*sqrt(2)*I*(v)_{xx}**2*u*v**2/64 + 4851*sqrt(2)*I*(v)_{xx}**2*v**3/64 + 4095*sqrt(2)*I*(v)_{xx}*(v)_{x}**2*u**2/64 + 7371*sqrt(2)*I*(v)_{xx}*(v)_{x}**2*u*v/32 + 27027*sqrt(2)*I*(v)_{xx}*(v)_{x}**2*v**2/64 + 63*sqrt(2)*I*(v)_{xx}*u**5/32 + 105*sqrt(2)*I*(v)_{xx}*u**4*v/64 - 105*sqrt(2)*I*(v)_{xx}*u**2*v**3/32 - 315*sqrt(2)*I*(v)_{xx}*u*v**4/32 - 2079*sqrt(2)*I*(v)_{xx}*v**5/64 + 4389*sqrt(2)*I*(v)_{x}**4*u/128 + 16093*sqrt(2)*I*(v)_{x}**4*v/128 + 245*sqrt(2)*I*(v)_{x}**2*u**4/128 - 735*sqrt(2)*I*(v)_{x}**2*u**2*v**2/64 - 735*sqrt(2)*I*(v)_{x}**2*u*v**3/16 - 24255*sqrt(2)*I*(v)_{x}**2*v**4/128 - 1617*sqrt(2)*I*u**7/512 + 525*sqrt(2)*I*u**6*v/512 + 63*sqrt(2)*I*u**5*v**2/512 + 5*sqrt(2)*I*u**4*v**3/512 + 5*sqrt(2)*I*u**3*v**4/512 + 63*sqrt(2)*I*u**2*v**5/512 + 525*sqrt(2)*I*u*v**6/512 - 1617*sqrt(2)*I*v**7/512)*\\epsilon**5 + (10*(u)_{xxxxx}*u**3 + 12*(u)_{xxxxx}*u**2*v + 9*(u)_{xxxxx}*u*v**2 + 4*(u)_{xxxxx}*v**3 + 100*(u)_{xxxx}*(u)_{x}*u**2 + 80*(u)_{xxxx}*(u)_{x}*u*v + 30*(u)_{xxxx}*(u)_{x}*v**2 + 30*(u)_{xxxx}*(v)_{x}*u**2 + 45*(u)_{xxxx}*(v)_{x}*u*v + 30*(u)_{xxxx}*(v)_{x}*v**2 + 170*(u)_{xxx}*(u)_{xx}*u**2 + 136*(u)_{xxx}*(u)_{xx}*u*v + 51*(u)_{xxx}*(u)_{xx}*v**2 + 1125*(u)_{xxx}*(u)_{x}**2*u/4 + 225*(u)_{xxx}*(u)_{x}**2*v/2 + 154*(u)_{xxx}*(u)_{x}*(v)_{x}*u + 231*(u)_{xxx}*(u)_{x}*(v)_{x}*v/2 + 18*(u)_{xxx}*(v)_{xx}*u**2 + 27*(u)_{xxx}*(v)_{xx}*u*v + 18*(u)_{xxx}*(v)_{xx}*v**2 + 123*(u)_{xxx}*(v)_{x}**2*u/4 + 41*(u)_{xxx}*(v)_{x}**2*v + 50*(u)_{xxx}*u**4 + 24*(u)_{xxx}*u**3*v + 6*(u)_{xxx}*u**2*v**2 - 4*(u)_{xxx}*u*v**3 - 6*(u)_{xxx}*v**4 + 765*(u)_{xx}**2*(u)_{x}*u/2 + 153*(u)_{xx}**2*(u)_{x}*v + 102*(u)_{xx}**2*(v)_{x}*u + 153*(u)_{xx}**2*(v)_{x}*v/2 + 1695*(u)_{xx}*(u)_{x}**3/8 + 1287*(u)_{xx}*(u)_{x}**2*(v)_{x}/8 + 60*(u)_{xx}*(u)_{x}*(v)_{xx}*u + 45*(u)_{xx}*(u)_{x}*(v)_{xx}*v + 429*(u)_{xx}*(u)_{x}*(v)_{x}**2/8 + 450*(u)_{xx}*(u)_{x}*u**3 + 162*(u)_{xx}*(u)_{x}*u**2*v + 27*(u)_{xx}*(u)_{x}*u*v**2 - 9*(u)_{xx}*(u)_{x}*v**3 - 12*(u)_{xx}*(v)_{xxx}*u**2 - 18*(u)_{xx}*(v)_{xxx}*u*v - 12*(u)_{xx}*(v)_{xxx}*v**2 - 27*(u)_{xx}*(v)_{xx}*(v)_{x}*u - 36*(u)_{xx}*(v)_{xx}*(v)_{x}*v - 51*(u)_{xx}*(v)_{x}**3/8 + 36*(u)_{xx}*(v)_{x}*u**3 + 18*(u)_{xx}*(v)_{x}*u**2*v - 18*(u)_{xx}*(v)_{x}*u*v**2 - 36*(u)_{xx}*(v)_{x}*v**3 + 105*(u)_{x}**3*(v)_{xx}/8 + 375*(u)_{x}**3*u**2 + 90*(u)_{x}**3*u*v + 15*(u)_{x}**3*v**2/2 - 25*(u)_{x}**2*(v)_{xxx}*u - 75*(u)_{x}**2*(v)_{xxx}*v/4 - 255*(u)_{x}**2*(v)_{xx}*(v)_{x}/8 + 81*(u)_{x}**2*(v)_{x}*u**2 + 27*(u)_{x}**2*(v)_{x}*u*v - 27*(u)_{x}**2*(v)_{x}*v**2/2 - 24*(u)_{x}*(v)_{xxxx}*u**2 - 36*(u)_{x}*(v)_{xxxx}*u*v - 24*(u)_{x}*(v)_{xxxx}*v**2 - 201*(u)_{x}*(v)_{xxx}*(v)_{x}*u/2 - 134*(u)_{x}*(v)_{xxx}*(v)_{x}*v - 129*(u)_{x}*(v)_{xx}**2*u/2 - 86*(u)_{x}*(v)_{xx}**2*v - 1173*(u)_{x}*(v)_{xx}*(v)_{x}**2/8 - 12*(u)_{x}*(v)_{xx}*u**3 - 6*(u)_{x}*(v)_{xx}*u**2*v + 6*(u)_{x}*(v)_{xx}*u*v**2 + 12*(u)_{x}*(v)_{xx}*v**3 - 9*(u)_{x}*(v)_{x}**2*u**2/2 + 9*(u)_{x}*(v)_{x}**2*u*v + 27*(u)_{x}*(v)_{x}**2*v**2 + 72*(u)_{x}*u**5 - 4*(v)_{xxxxx}*u**3 - 9*(v)_{xxxxx}*u**2*v - 12*(v)_{xxxxx}*u*v**2 - 10*(v)_{xxxxx}*v**3 - 33*(v)_{xxxx}*(v)_{x}*u**2 - 88*(v)_{xxxx}*(v)_{x}*u*v - 110*(v)_{xxxx}*(v)_{x}*v**2 - 54*(v)_{xxx}*(v)_{xx}*u**2 - 144*(v)_{xxx}*(v)_{xx}*u*v - 180*(v)_{xxx}*(v)_{xx}*v**2 - 261*(v)_{xxx}*(v)_{x}**2*u/2 - 1305*(v)_{xxx}*(v)_{x}**2*v/4 - 6*(v)_{xxx}*u**4 - 4*(v)_{xxx}*u**3*v + 6*(v)_{xxx}*u**2*v**2 + 24*(v)_{xxx}*u*v**3 + 50*(v)_{xxx}*v**4 - 173*(v)_{xx}**2*(v)_{x}*u - 865*(v)_{xx}**2*(v)_{x}*v/2 - 2037*(v)_{xx}*(v)_{x}**3/8 - 11*(v)_{xx}*(v)_{x}*u**3 + 33*(v)_{xx}*(v)_{x}*u**2*v + 198*(v)_{xx}*(v)_{x}*u*v**2 + 550*(v)_{xx}*(v)_{x}*v**3 + 21*(v)_{x}**3*u**2/2 + 126*(v)_{x}**3*u*v + 525*(v)_{x}**3*v**2 - 72*(v)_{x}*v**5)*\\epsilon**4 + (63*sqrt(2)*I*(u)_{xxxxxx}*u**2/16 + 35*sqrt(2)*I*(u)_{xxxxxx}*u*v/8 + 35*sqrt(2)*I*(u)_{xxxxxx}*v**2/16 + 243*sqrt(2)*I*(u)_{xxxxx}*(u)_{x}*u/8 + 135*sqrt(2)*I*(u)_{xxxxx}*(u)_{x}*v/8 + 105*sqrt(2)*I*(u)_{xxxxx}*(v)_{x}*u/8 + 105*sqrt(2)*I*(u)_{xxxxx}*(v)_{x}*v/8 + 495*sqrt(2)*I*(u)_{xxxx}*(u)_{xx}*u/8 + 275*sqrt(2)*I*(u)_{xxxx}*(u)_{xx}*v/8 + 815*sqrt(2)*I*(u)_{xxxx}*(u)_{x}**2/16 + 325*sqrt(2)*I*(u)_{xxxx}*(u)_{x}*(v)_{x}/8 + 105*sqrt(2)*I*(u)_{xxxx}*(v)_{xx}*u/8 + 105*sqrt(2)*I*(u)_{xxxx}*(v)_{xx}*v/8 + 215*sqrt(2)*I*(u)_{xxxx}*(v)_{x}**2/16 + 105*sqrt(2)*I*(u)_{xxxx}*u**3/4 + 105*sqrt(2)*I*(u)_{xxxx}*u**2*v/8 - 35*sqrt(2)*I*(u)_{xxxx}*v**3/8 + 621*sqrt(2)*I*(u)_{xxx}**2*u/16 + 345*sqrt(2)*I*(u)_{xxx}**2*v/16 + 1391*sqrt(2)*I*(u)_{xxx}*(u)_{xx}*(u)_{x}/8 + 537*sqrt(2)*I*(u)_{xxx}*(u)_{xx}*(v)_{x}/8 + 241*sqrt(2)*I*(u)_{xxx}*(u)_{x}*(v)_{xx}/8 + 441*sqrt(2)*I*(u)_{xxx}*(u)_{x}*u**2/2 + 147*sqrt(2)*I*(u)_{xxx}*(u)_{x}*u*v/2 + 7*sqrt(2)*I*(u)_{xxx}*(v)_{xxx}*u/8 + 7*sqrt(2)*I*(u)_{xxx}*(v)_{xxx}*v/8 + 71*sqrt(2)*I*(u)_{xxx}*(v)_{xx}*(v)_{x}/8 + 105*sqrt(2)*I*(u)_{xxx}*(v)_{x}*u**2/4 - 105*sqrt(2)*I*(u)_{xxx}*(v)_{x}*v**2/4 + 631*sqrt(2)*I*(u)_{xx}**3/16 + 307*sqrt(2)*I*(u)_{xx}**2*(v)_{xx}/16 + 1197*sqrt(2)*I*(u)_{xx}**2*u**2/8 + 399*sqrt(2)*I*(u)_{xx}**2*u*v/8 + 1989*sqrt(2)*I*(u)_{xx}*(u)_{x}**2*u/4 + 663*sqrt(2)*I*(u)_{xx}*(u)_{x}**2*v/8 - 31*sqrt(2)*I*(u)_{xx}*(u)_{x}*(v)_{xxx}/8 + 427*sqrt(2)*I*(u)_{xx}*(u)_{x}*(v)_{x}*u/4 - 91*sqrt(2)*I*(u)_{xx}*(v)_{xxxx}*u/8 - 91*sqrt(2)*I*(u)_{xx}*(v)_{xxxx}*v/8 - 217*sqrt(2)*I*(u)_{xx}*(v)_{xxx}*(v)_{x}/8 - 267*sqrt(2)*I*(u)_{xx}*(v)_{xx}**2/16 + 35*sqrt(2)*I*(u)_{xx}*(v)_{xx}*u**2/8 - 35*sqrt(2)*I*(u)_{xx}*(v)_{xx}*v**2/8 - 119*sqrt(2)*I*(u)_{xx}*(v)_{x}**2*v/8 + 7875*sqrt(2)*I*(u)_{xx}*u**4/128 + 315*sqrt(2)*I*(u)_{xx}*u**3*v/32 + 45*sqrt(2)*I*(u)_{xx}*u**2*v**2/64 + 15*sqrt(2)*I*(u)_{xx}*u*v**3/32 + 315*sqrt(2)*I*(u)_{xx}*v**4/128 + 1105*sqrt(2)*I*(u)_{x}**4/16 + 221*sqrt(2)*I*(u)_{x}**3*(v)_{x}/8 - 167*sqrt(2)*I*(u)_{x}**2*(v)_{xxxx}/16 + 21*sqrt(2)*I*(u)_{x}**2*(v)_{xx}*u/8 + 13125*sqrt(2)*I*(u)_{x}**2*u**3/64 + 1575*sqrt(2)*I*(u)_{x}**2*u**2*v/64 + 75*sqrt(2)*I*(u)_{x}**2*u*v**2/64 + 25*sqrt(2)*I*(u)_{x}**2*v**3/64 - 91*sqrt(2)*I*(u)_{x}*(v)_{xxxxx}*u/8 - 91*sqrt(2)*I*(u)_{x}*(v)_{xxxxx}*v/8 - 301*sqrt(2)*I*(u)_{x}*(v)_{xxxx}*(v)_{x}/8 - 481*sqrt(2)*I*(u)_{x}*(v)_{xxx}*(v)_{xx}/8 - 35*sqrt(2)*I*(u)_{x}*(v)_{xxx}*u**2/2 + 35*sqrt(2)*I*(u)_{x}*(v)_{xxx}*v**2/2 + 315*sqrt(2)*I*(u)_{x}*(v)_{xx}*(v)_{x}*v/4 + 175*sqrt(2)*I*(u)_{x}*(v)_{x}**3/8 + 315*sqrt(2)*I*(u)_{x}*(v)_{x}*u**3/32 + 45*sqrt(2)*I*(u)_{x}*(v)_{x}*u**2*v/32 + 45*sqrt(2)*I*(u)_{x}*(v)_{x}*u*v**2/32 + 315*sqrt(2)*I*(u)_{x}*(v)_{x}*v**3/32 - 35*sqrt(2)*I*(v)_{xxxxxx}*u**2/16 - 35*sqrt(2)*I*(v)_{xxxxxx}*u*v/8 - 63*sqrt(2)*I*(v)_{xxxxxx}*v**2/16 - 145*sqrt(2)*I*(v)_{xxxxx}*(v)_{x}*u/8 - 261*sqrt(2)*I*(v)_{xxxxx}*(v)_{x}*v/8 - 285*sqrt(2)*I*(v)_{xxxx}*(v)_{xx}*u/8 - 513*sqrt(2)*I*(v)_{xxxx}*(v)_{xx}*v/8 - 911*sqrt(2)*I*(v)_{xxxx}*(v)_{x}**2/16 - 35*sqrt(2)*I*(v)_{xxxx}*u**3/8 + 105*sqrt(2)*I*(v)_{xxxx}*u*v**2/8 + 105*sqrt(2)*I*(v)_{xxxx}*v**3/4 - 355*sqrt(2)*I*(v)_{xxx}**2*u/16 - 639*sqrt(2)*I*(v)_{xxx}**2*v/16 - 1511*sqrt(2)*I*(v)_{xxx}*(v)_{xx}*(v)_{x}/8 + 84*sqrt(2)*I*(v)_{xxx}*(v)_{x}*u*v + 252*sqrt(2)*I*(v)_{xxx}*(v)_{x}*v**2 - 671*sqrt(2)*I*(v)_{xx}**3/16 + 441*sqrt(2)*I*(v)_{xx}**2*u*v/8 + 1323*sqrt(2)*I*(v)_{xx}**2*v**2/8 + 819*sqrt(2)*I*(v)_{xx}*(v)_{x}**2*u/8 + 2457*sqrt(2)*I*(v)_{xx}*(v)_{x}**2*v/4 - 315*sqrt(2)*I*(v)_{xx}*u**4/128 - 15*sqrt(2)*I*(v)_{xx}*u**3*v/32 - 45*sqrt(2)*I*(v)_{xx}*u**2*v**2/64 - 315*sqrt(2)*I*(v)_{xx}*u*v**3/32 - 7875*sqrt(2)*I*(v)_{xx}*v**4/128 + 1463*sqrt(2)*I*(v)_{x}**4/16 - 35*sqrt(2)*I*(v)_{x}**2*u**3/64 - 105*sqrt(2)*I*(v)_{x}**2*u**2*v/64 - 2205*sqrt(2)*I*(v)_{x}**2*u*v**2/64 - 18375*sqrt(2)*I*(v)_{x}**2*v**3/64 + 735*sqrt(2)*I*u**6/128 - 35*sqrt(2)*I*u**5*v/32 - 5*sqrt(2)*I*u**4*v**2/128 + 5*sqrt(2)*I*u**2*v**4/128 + 35*sqrt(2)*I*u*v**5/32 - 735*sqrt(2)*I*v**6/128)*\\epsilon**3 + (-2*(u)_{xxxxxxx}*u - 3*(u)_{xxxxxxx}*v/2 - 35*(u)_{xxxxxx}*(u)_{x}/4 - 21*(u)_{xxxxxx}*(v)_{x}/4 - 83*(u)_{xxxxx}*(u)_{xx}/4 - 29*(u)_{xxxxx}*(v)_{xx}/4 - 18*(u)_{xxxxx}*u**2 - 6*(u)_{xxxxx}*u*v + 3*(u)_{xxxxx}*v**2 - 125*(u)_{xxxx}*(u)_{xxx}/4 - 120*(u)_{xxxx}*(u)_{x}*u - 20*(u)_{xxxx}*(u)_{x}*v - 15*(u)_{xxxx}*(v)_{xxx}/4 - 15*(u)_{xxxx}*(v)_{x}*u + 15*(u)_{xxxx}*(v)_{x}*v - 204*(u)_{xxx}*(u)_{xx}*u - 34*(u)_{xxx}*(u)_{xx}*v - 675*(u)_{xxx}*(u)_{x}**2/4 - 77*(u)_{xxx}*(u)_{x}*(v)_{x}/2 + 13*(u)_{xxx}*(v)_{xxxx}/4 - 9*(u)_{xxx}*(v)_{xx}*u + 9*(u)_{xxx}*(v)_{xx}*v + 41*(u)_{xxx}*(v)_{x}**2/4 - 64*(u)_{xxx}*u**3 - 12*(u)_{xxx}*u**2*v - 4*(u)_{xxx}*v**3 - 459*(u)_{xx}**2*(u)_{x}/2 - 51*(u)_{xx}**2*(v)_{x}/2 - 15*(u)_{xx}*(u)_{x}*(v)_{xx} - 432*(u)_{xx}*(u)_{x}*u**2 - 54*(u)_{xx}*(u)_{x}*u*v + 27*(u)_{xx}*(v)_{xxxxx}/4 + 6*(u)_{xx}*(v)_{xxx}*u - 6*(u)_{xx}*(v)_{xxx}*v - 9*(u)_{xx}*(v)_{xx}*(v)_{x} - 18*(u)_{xx}*(v)_{x}*u**2 - 18*(u)_{xx}*(v)_{x}*v**2 - 240*(u)_{x}**3*u - 15*(u)_{x}**3*v + 25*(u)_{x}**2*(v)_{xxx}/4 - 27*(u)_{x}**2*(v)_{x}*u + 19*(u)_{x}*(v)_{xxxxxx}/4 + 12*(u)_{x}*(v)_{xxxx}*u - 12*(u)_{x}*(v)_{xxxx}*v - 67*(u)_{x}*(v)_{xxx}*(v)_{x}/2 - 43*(u)_{x}*(v)_{xx}**2/2 + 6*(u)_{x}*(v)_{xx}*u**2 + 6*(u)_{x}*(v)_{xx}*v**2 + 9*(u)_{x}*(v)_{x}**2*v - 80*(u)_{x}*u**4 + 3*(v)_{xxxxxxx}*u/2 + 2*(v)_{xxxxxxx}*v + 37*(v)_{xxxxxx}*(v)_{x}/4 + 85*(v)_{xxxxx}*(v)_{xx}/4 + 3*(v)_{xxxxx}*u**2 - 6*(v)_{xxxxx}*u*v - 18*(v)_{xxxxx}*v**2 + 127*(v)_{xxxx}*(v)_{xxx}/4 - 22*(v)_{xxxx}*(v)_{x}*u - 132*(v)_{xxxx}*(v)_{x}*v - 36*(v)_{xxx}*(v)_{xx}*u - 216*(v)_{xxx}*(v)_{xx}*v - 783*(v)_{xxx}*(v)_{x}**2/4 + 4*(v)_{xxx}*u**3 + 12*(v)_{xxx}*u*v**2 + 64*(v)_{xxx}*v**3 - 519*(v)_{xx}**2*(v)_{x}/2 + 66*(v)_{xx}*(v)_{x}*u*v + 528*(v)_{xx}*(v)_{x}*v**2 + 21*(v)_{x}**3*u + 336*(v)_{x}**3*v - 80*(v)_{x}*v**4)*\\epsilon**2 + (-sqrt(2)*I*(u)_{xxxxxxxx}/4 - 7*sqrt(2)*I*(u)_{xxxxxx}*u/2 - 27*sqrt(2)*I*(u)_{xxxxx}*(u)_{x}/2 - 55*sqrt(2)*I*(u)_{xxxx}*(u)_{xx}/2 - 315*sqrt(2)*I*(u)_{xxxx}*u**2/16 - 15*sqrt(2)*I*(u)_{xxxx}*u*v/8 - 15*sqrt(2)*I*(u)_{xxxx}*v**2/16 - 69*sqrt(2)*I*(u)_{xxx}**2/4 - 441*sqrt(2)*I*(u)_{xxx}*(u)_{x}*u/4 - 21*sqrt(2)*I*(u)_{xxx}*(u)_{x}*v/4 - 15*sqrt(2)*I*(u)_{xxx}*(v)_{x}*u/4 - 15*sqrt(2)*I*(u)_{xxx}*(v)_{x}*v/4 - 1197*sqrt(2)*I*(u)_{xx}**2*u/16 - 57*sqrt(2)*I*(u)_{xx}**2*v/16 - 1989*sqrt(2)*I*(u)_{xx}*(u)_{x}**2/16 - 61*sqrt(2)*I*(u)_{xx}*(u)_{x}*(v)_{x}/8 - 5*sqrt(2)*I*(u)_{xx}*(v)_{xx}*u/8 - 5*sqrt(2)*I*(u)_{xx}*(v)_{xx}*v/8 - 17*sqrt(2)*I*(u)_{xx}*(v)_{x}**2/16 - 175*sqrt(2)*I*(u)_{xx}*u**3/4 - 15*sqrt(2)*I*(u)_{xx}*u**2*v/8 + 5*sqrt(2)*I*(u)_{xx}*v**3/8 - 3*sqrt(2)*I*(u)_{x}**2*(v)_{xx}/16 - 875*sqrt(2)*I*(u)_{x}**2*u**2/8 - 25*sqrt(2)*I*(u)_{x}**2*u*v/8 + 5*sqrt(2)*I*(u)_{x}*(v)_{xxx}*u/2 + 5*sqrt(2)*I*(u)_{x}*(v)_{xxx}*v/2 + 45*sqrt(2)*I*(u)_{x}*(v)_{xx}*(v)_{x}/8 - 15*sqrt(2)*I*(u)_{x}*(v)_{x}*u**2/8 + 15*sqrt(2)*I*(u)_{x}*(v)_{x}*v**2/8 + sqrt(2)*I*(v)_{xxxxxxxx}/4 - 7*sqrt(2)*I*(v)_{xxxxxx}*v/2 - 29*sqrt(2)*I*(v)_{xxxxx}*(v)_{x}/2 - 57*sqrt(2)*I*(v)_{xxxx}*(v)_{xx}/2 + 15*sqrt(2)*I*(v)_{xxxx}*u**2/16 + 15*sqrt(2)*I*(v)_{xxxx}*u*v/8 + 315*sqrt(2)*I*(v)_{xxxx}*v**2/16 - 71*sqrt(2)*I*(v)_{xxx}**2/4 + 6*sqrt(2)*I*(v)_{xxx}*(v)_{x}*u + 126*sqrt(2)*I*(v)_{xxx}*(v)_{x}*v + 63*sqrt(2)*I*(v)_{xx}**2*u/16 + 1323*sqrt(2)*I*(v)_{xx}**2*v/16 + 2457*sqrt(2)*I*(v)_{xx}*(v)_{x}**2/16 + 5*sqrt(2)*I*(v)_{xx}*u**3/8 - 15*sqrt(2)*I*(v)_{xx}*u*v**2/8 - 175*sqrt(2)*I*(v)_{xx}*v**3/4 - 35*sqrt(2)*I*(v)_{x}**2*u*v/8 - 1225*sqrt(2)*I*(v)_{x}**2*v**2/8 - 1225*sqrt(2)*I*u**5/256 + 75*sqrt(2)*I*u**4*v/256 - sqrt(2)*I*u**3*v**2/128 - sqrt(2)*I*u**2*v**3/128 + 75*sqrt(2)*I*u*v**4/256 - 1225*sqrt(2)*I*v**5/256)*\\epsilon + (5*sqrt(2)*I*u/32 + 5*sqrt(2)*I*v/32)*(1/\\epsilon)**7 + (sqrt(2)*I*(u)_{xx}/8 - sqrt(2)*I*(v)_{xx}/8 + sqrt(2)*I*u**2/8 - sqrt(2)*I*v**2/8)*(1/\\epsilon)**5 + (sqrt(2)*I*(u)_{xxxx}/8 + 3*sqrt(2)*I*(u)_{xx}*u/4 + 5*sqrt(2)*I*(u)_{x}**2/8 - sqrt(2)*I*(v)_{xxxx}/8 + 3*sqrt(2)*I*(v)_{xx}*v/4 + 7*sqrt(2)*I*(v)_{x}**2/8 + 7*sqrt(2)*I*u**3/32 + sqrt(2)*I*u**2*v/32 + sqrt(2)*I*u*v**2/32 + 7*sqrt(2)*I*v**3/32)*(1/\\epsilon)**3 + (sqrt(2)*I*(u)_{xxxxxx}/4 + 5*sqrt(2)*I*(u)_{xxxx}*u/2 + 7*sqrt(2)*I*(u)_{xxx}*(u)_{x} + 19*sqrt(2)*I*(u)_{xx}**2/4 + 225*sqrt(2)*I*(u)_{xx}*u**2/32 - 3*sqrt(2)*I*(u)_{xx}*u*v/16 - 3*sqrt(2)*I*(u)_{xx}*v**2/32 + 375*sqrt(2)*I*(u)_{x}**2*u/32 - 5*sqrt(2)*I*(u)_{x}**2*v/32 - 3*sqrt(2)*I*(u)_{x}*(v)_{x}*u/16 - 3*sqrt(2)*I*(u)_{x}*(v)_{x}*v/16 - sqrt(2)*I*(v)_{xxxxxx}/4 + 5*sqrt(2)*I*(v)_{xxxx}*v/2 + 8*sqrt(2)*I*(v)_{xxx}*(v)_{x} + 21*sqrt(2)*I*(v)_{xx}**2/4 + 3*sqrt(2)*I*(v)_{xx}*u**2/32 + 3*sqrt(2)*I*(v)_{xx}*u*v/16 - 225*sqrt(2)*I*(v)_{xx}*v**2/32 + 7*sqrt(2)*I*(v)_{x}**2*u/32 - 525*sqrt(2)*I*(v)_{x}**2*v/32 + 35*sqrt(2)*I*u**4/32 + sqrt(2)*I*u**3*v/16 - sqrt(2)*I*u*v**3/16 - 35*sqrt(2)*I*v**4/32)*(1/\\epsilon) + (u)_{xxxxxxx}/2 + 6*(u)_{xxxxx}*u + 20*(u)_{xxxx}*(u)_{x} + 34*(u)_{xxx}*(u)_{xx} + 24*(u)_{xxx}*u**2 + 108*(u)_{xx}*(u)_{x}*u + 30*(u)_{x}**3 + 32*(u)_{x}*u**3 + (v)_{xxxxxxx}/2 - 6*(v)_{xxxxx}*v - 22*(v)_{xxxx}*(v)_{x} - 36*(v)_{xxx}*(v)_{xx} + 24*(v)_{xxx}*v**2 + 132*(v)_{xx}*(v)_{x}*v + 42*(v)_{x}**3 - 32*(v)_{x}*v**3, \\epsilon, 1/\\epsilon, domain='EX'))"
      ]
     },
     "metadata": {},
     "output_type": "display_data"
    },
    {
     "name": "stdout",
     "output_type": "stream",
     "text": [
      "Warning: Substituting differentiable by non-differentiable symbol.\n"
     ]
    },
    {
     "ename": "KeyboardInterrupt",
     "evalue": "",
     "output_type": "error",
     "traceback": [
      "\u001b[1;31m---------------------------------------------------------------------------\u001b[0m",
      "\u001b[1;31mKeyboardInterrupt\u001b[0m                         Traceback (most recent call last)",
      "Cell \u001b[1;32mIn[16], line 5\u001b[0m\n\u001b[0;32m      3\u001b[0m \u001b[38;5;28mprint\u001b[39m(\u001b[38;5;124m\"\u001b[39m\u001b[38;5;124mn =\u001b[39m\u001b[38;5;124m\"\u001b[39m, n)\n\u001b[0;32m      4\u001b[0m display(Eq(sig_sym[n], polynomize(poly_simplify(sig_eq[n]))))\n\u001b[1;32m----> 5\u001b[0m display(Eq(sig_sym[n], polynomize(poly_simplify(\u001b[43mmulti_substituter\u001b[49m\u001b[43m(\u001b[49m\u001b[43msig_eq\u001b[49m\u001b[43m[\u001b[49m\u001b[43mn\u001b[49m\u001b[43m]\u001b[49m\u001b[43m,\u001b[49m\u001b[43m \u001b[49m\u001b[43m[\u001b[49m\u001b[43m(\u001b[49m\u001b[43mu\u001b[49m\u001b[43m,\u001b[49m\u001b[43m \u001b[49m\u001b[43mepsilon\u001b[49m\u001b[38;5;241;43m*\u001b[39;49m\u001b[38;5;241;43m*\u001b[39;49m\u001b[38;5;241;43m2\u001b[39;49m\u001b[43m \u001b[49m\u001b[38;5;241;43m*\u001b[39;49m\u001b[43m \u001b[49m\u001b[43mu\u001b[49m\u001b[43m)\u001b[49m\u001b[43m,\u001b[49m\u001b[43m \u001b[49m\u001b[43m(\u001b[49m\u001b[43mv\u001b[49m\u001b[43m,\u001b[49m\u001b[43m \u001b[49m\u001b[43mepsilon\u001b[49m\u001b[38;5;241;43m*\u001b[39;49m\u001b[38;5;241;43m*\u001b[39;49m\u001b[38;5;241;43m2\u001b[39;49m\u001b[43m \u001b[49m\u001b[38;5;241;43m*\u001b[39;49m\u001b[43m \u001b[49m\u001b[43mv\u001b[49m\u001b[43m)\u001b[49m\u001b[43m]\u001b[49m\u001b[43m)\u001b[49m))))\n",
      "Cell \u001b[1;32mIn[3], line 148\u001b[0m, in \u001b[0;36mmulti_substituter\u001b[1;34m(expr, data, magnitude, scale)\u001b[0m\n\u001b[0;32m    146\u001b[0m \u001b[38;5;28;01mdef\u001b[39;00m \u001b[38;5;21mmulti_substituter\u001b[39m(expr, data, magnitude\u001b[38;5;241m=\u001b[39m\u001b[38;5;241m1\u001b[39m, scale\u001b[38;5;241m=\u001b[39m\u001b[38;5;241m1\u001b[39m):\n\u001b[0;32m    147\u001b[0m     \u001b[38;5;28;01mfor\u001b[39;00m (var, sub) \u001b[38;5;129;01min\u001b[39;00m data:\n\u001b[1;32m--> 148\u001b[0m         expr \u001b[38;5;241m=\u001b[39m \u001b[43msubstituter\u001b[49m\u001b[43m(\u001b[49m\u001b[43mexpr\u001b[49m\u001b[43m,\u001b[49m\u001b[43m \u001b[49m\u001b[43mvar\u001b[49m\u001b[43m,\u001b[49m\u001b[43m \u001b[49m\u001b[43msub\u001b[49m\u001b[43m,\u001b[49m\u001b[43m \u001b[49m\u001b[43mmagnitude\u001b[49m\u001b[38;5;241;43m=\u001b[39;49m\u001b[43mmagnitude\u001b[49m\u001b[43m,\u001b[49m\u001b[43m \u001b[49m\u001b[43mscale\u001b[49m\u001b[38;5;241;43m=\u001b[39;49m\u001b[43mscale\u001b[49m\u001b[43m)\u001b[49m\n\u001b[0;32m    149\u001b[0m     \u001b[38;5;28;01mreturn\u001b[39;00m expr\n",
      "Cell \u001b[1;32mIn[3], line 132\u001b[0m, in \u001b[0;36msubstituter\u001b[1;34m(expr, var, sub, magnitude, scale)\u001b[0m\n\u001b[0;32m    130\u001b[0m dsub \u001b[38;5;241m=\u001b[39m simplify(deriv(sub))\n\u001b[0;32m    131\u001b[0m \u001b[38;5;66;03m#print(\"new sub variable from\", sub, \"to\", dsub)\u001b[39;00m\n\u001b[1;32m--> 132\u001b[0m expr \u001b[38;5;241m=\u001b[39m \u001b[43msimplify\u001b[49m\u001b[43m(\u001b[49m\u001b[43mexpr\u001b[49m\u001b[38;5;241;43m.\u001b[39;49m\u001b[43msubs\u001b[49m\u001b[43m(\u001b[49m\u001b[43mdvar\u001b[49m\u001b[43m,\u001b[49m\u001b[43m \u001b[49m\u001b[43mmagnitude\u001b[49m\u001b[43m \u001b[49m\u001b[38;5;241;43m*\u001b[39;49m\u001b[43m \u001b[49m\u001b[43mscale\u001b[49m\u001b[38;5;241;43m*\u001b[39;49m\u001b[38;5;241;43m*\u001b[39;49m\u001b[43mm\u001b[49m\u001b[43m \u001b[49m\u001b[38;5;241;43m*\u001b[39;49m\u001b[43m \u001b[49m\u001b[43mdsub\u001b[49m\u001b[43m)\u001b[49m\u001b[43m)\u001b[49m\n\u001b[0;32m    134\u001b[0m var \u001b[38;5;241m=\u001b[39m dvar\n\u001b[0;32m    135\u001b[0m sub \u001b[38;5;241m=\u001b[39m dsub\n",
      "File \u001b[1;32m~\\anaconda3\\lib\\site-packages\\sympy\\simplify\\simplify.py:753\u001b[0m, in \u001b[0;36msimplify\u001b[1;34m(expr, ratio, measure, rational, inverse, doit, **kwargs)\u001b[0m\n\u001b[0;32m    750\u001b[0m     \u001b[38;5;28;01mif\u001b[39;00m d \u001b[38;5;241m!=\u001b[39m \u001b[38;5;241m0\u001b[39m:\n\u001b[0;32m    751\u001b[0m         expr \u001b[38;5;241m=\u001b[39m signsimp(\u001b[38;5;241m-\u001b[39mn\u001b[38;5;241m/\u001b[39m(\u001b[38;5;241m-\u001b[39md))\n\u001b[1;32m--> 753\u001b[0m \u001b[38;5;28;01mif\u001b[39;00m \u001b[43mmeasure\u001b[49m\u001b[43m(\u001b[49m\u001b[43mexpr\u001b[49m\u001b[43m)\u001b[49m \u001b[38;5;241m>\u001b[39m ratio\u001b[38;5;241m*\u001b[39mmeasure(original_expr):\n\u001b[0;32m    754\u001b[0m     expr \u001b[38;5;241m=\u001b[39m original_expr\n\u001b[0;32m    756\u001b[0m \u001b[38;5;66;03m# restore floats\u001b[39;00m\n",
      "File \u001b[1;32m~\\anaconda3\\lib\\site-packages\\sympy\\core\\function.py:3169\u001b[0m, in \u001b[0;36mcount_ops\u001b[1;34m(expr, visual)\u001b[0m\n\u001b[0;32m   3167\u001b[0m     \u001b[38;5;28;01melse\u001b[39;00m:\n\u001b[0;32m   3168\u001b[0m         a \u001b[38;5;241m=\u001b[39m \u001b[38;5;241m-\u001b[39ma\n\u001b[1;32m-> 3169\u001b[0m n, d \u001b[38;5;241m=\u001b[39m \u001b[43mfraction\u001b[49m\u001b[43m(\u001b[49m\u001b[43ma\u001b[49m\u001b[43m)\u001b[49m\n\u001b[0;32m   3170\u001b[0m \u001b[38;5;28;01mif\u001b[39;00m n\u001b[38;5;241m.\u001b[39mis_Integer:\n\u001b[0;32m   3171\u001b[0m     ops\u001b[38;5;241m.\u001b[39mappend(DIV)\n",
      "File \u001b[1;32m~\\anaconda3\\lib\\site-packages\\sympy\\simplify\\radsimp.py:1141\u001b[0m, in \u001b[0;36mfraction\u001b[1;34m(expr, exact)\u001b[0m\n\u001b[0;32m   1139\u001b[0m     \u001b[38;5;28;01melse\u001b[39;00m:\n\u001b[0;32m   1140\u001b[0m         numer\u001b[38;5;241m.\u001b[39mappend(term)\n\u001b[1;32m-> 1141\u001b[0m \u001b[38;5;28;01mreturn\u001b[39;00m \u001b[43mMul\u001b[49m\u001b[43m(\u001b[49m\u001b[38;5;241;43m*\u001b[39;49m\u001b[43mnumer\u001b[49m\u001b[43m,\u001b[49m\u001b[43m \u001b[49m\u001b[43mevaluate\u001b[49m\u001b[38;5;241;43m=\u001b[39;49m\u001b[38;5;129;43;01mnot\u001b[39;49;00m\u001b[43m \u001b[49m\u001b[43mexact\u001b[49m\u001b[43m)\u001b[49m, Mul(\u001b[38;5;241m*\u001b[39mdenom, evaluate\u001b[38;5;241m=\u001b[39m\u001b[38;5;129;01mnot\u001b[39;00m exact)\n",
      "File \u001b[1;32m~\\anaconda3\\lib\\site-packages\\sympy\\core\\cache.py:70\u001b[0m, in \u001b[0;36m__cacheit.<locals>.func_wrapper.<locals>.wrapper\u001b[1;34m(*args, **kwargs)\u001b[0m\n\u001b[0;32m     67\u001b[0m \u001b[38;5;129m@wraps\u001b[39m(func)\n\u001b[0;32m     68\u001b[0m \u001b[38;5;28;01mdef\u001b[39;00m \u001b[38;5;21mwrapper\u001b[39m(\u001b[38;5;241m*\u001b[39margs, \u001b[38;5;241m*\u001b[39m\u001b[38;5;241m*\u001b[39mkwargs):\n\u001b[0;32m     69\u001b[0m     \u001b[38;5;28;01mtry\u001b[39;00m:\n\u001b[1;32m---> 70\u001b[0m         retval \u001b[38;5;241m=\u001b[39m cfunc(\u001b[38;5;241m*\u001b[39margs, \u001b[38;5;241m*\u001b[39m\u001b[38;5;241m*\u001b[39mkwargs)\n\u001b[0;32m     71\u001b[0m     \u001b[38;5;28;01mexcept\u001b[39;00m \u001b[38;5;167;01mTypeError\u001b[39;00m \u001b[38;5;28;01mas\u001b[39;00m e:\n\u001b[0;32m     72\u001b[0m         \u001b[38;5;28;01mif\u001b[39;00m \u001b[38;5;129;01mnot\u001b[39;00m e\u001b[38;5;241m.\u001b[39margs \u001b[38;5;129;01mor\u001b[39;00m \u001b[38;5;129;01mnot\u001b[39;00m e\u001b[38;5;241m.\u001b[39margs[\u001b[38;5;241m0\u001b[39m]\u001b[38;5;241m.\u001b[39mstartswith(\u001b[38;5;124m'\u001b[39m\u001b[38;5;124munhashable type:\u001b[39m\u001b[38;5;124m'\u001b[39m):\n",
      "File \u001b[1;32m~\\anaconda3\\lib\\site-packages\\sympy\\core\\operations.py:98\u001b[0m, in \u001b[0;36mAssocOp.__new__\u001b[1;34m(cls, evaluate, _sympify, *args)\u001b[0m\n\u001b[0;32m     95\u001b[0m \u001b[38;5;28;01mif\u001b[39;00m \u001b[38;5;28mlen\u001b[39m(args) \u001b[38;5;241m==\u001b[39m \u001b[38;5;241m1\u001b[39m:\n\u001b[0;32m     96\u001b[0m     \u001b[38;5;28;01mreturn\u001b[39;00m args[\u001b[38;5;241m0\u001b[39m]\n\u001b[1;32m---> 98\u001b[0m c_part, nc_part, order_symbols \u001b[38;5;241m=\u001b[39m \u001b[38;5;28;43mcls\u001b[39;49m\u001b[38;5;241;43m.\u001b[39;49m\u001b[43mflatten\u001b[49m\u001b[43m(\u001b[49m\u001b[43margs\u001b[49m\u001b[43m)\u001b[49m\n\u001b[0;32m     99\u001b[0m is_commutative \u001b[38;5;241m=\u001b[39m \u001b[38;5;129;01mnot\u001b[39;00m nc_part\n\u001b[0;32m    100\u001b[0m obj \u001b[38;5;241m=\u001b[39m \u001b[38;5;28mcls\u001b[39m\u001b[38;5;241m.\u001b[39m_from_args(c_part \u001b[38;5;241m+\u001b[39m nc_part, is_commutative)\n",
      "File \u001b[1;32m~\\anaconda3\\lib\\site-packages\\sympy\\core\\mul.py:482\u001b[0m, in \u001b[0;36mMul.flatten\u001b[1;34m(cls, seq)\u001b[0m\n\u001b[0;32m    479\u001b[0m     \u001b[38;5;28;01mreturn\u001b[39;00m new_c_powers\n\u001b[0;32m    481\u001b[0m \u001b[38;5;66;03m# in c_powers\u001b[39;00m\n\u001b[1;32m--> 482\u001b[0m c_powers \u001b[38;5;241m=\u001b[39m \u001b[43m_gather\u001b[49m\u001b[43m(\u001b[49m\u001b[43mc_powers\u001b[49m\u001b[43m)\u001b[49m\n\u001b[0;32m    484\u001b[0m \u001b[38;5;66;03m# and in num_exp\u001b[39;00m\n\u001b[0;32m    485\u001b[0m num_exp \u001b[38;5;241m=\u001b[39m _gather(num_exp)\n",
      "File \u001b[1;32m~\\anaconda3\\lib\\site-packages\\sympy\\core\\mul.py:478\u001b[0m, in \u001b[0;36mMul.flatten.<locals>._gather\u001b[1;34m(c_powers)\u001b[0m\n\u001b[0;32m    476\u001b[0m new_c_powers \u001b[38;5;241m=\u001b[39m []\n\u001b[0;32m    477\u001b[0m \u001b[38;5;28;01mfor\u001b[39;00m b, e \u001b[38;5;129;01min\u001b[39;00m common_b\u001b[38;5;241m.\u001b[39mitems():\n\u001b[1;32m--> 478\u001b[0m     \u001b[43mnew_c_powers\u001b[49m\u001b[38;5;241;43m.\u001b[39;49m\u001b[43mextend\u001b[49m\u001b[43m(\u001b[49m\u001b[43m[\u001b[49m\u001b[43m(\u001b[49m\u001b[43mb\u001b[49m\u001b[43m,\u001b[49m\u001b[43m \u001b[49m\u001b[43mc\u001b[49m\u001b[38;5;241;43m*\u001b[39;49m\u001b[43mt\u001b[49m\u001b[43m)\u001b[49m\u001b[43m \u001b[49m\u001b[38;5;28;43;01mfor\u001b[39;49;00m\u001b[43m \u001b[49m\u001b[43mt\u001b[49m\u001b[43m,\u001b[49m\u001b[43m \u001b[49m\u001b[43mc\u001b[49m\u001b[43m \u001b[49m\u001b[38;5;129;43;01min\u001b[39;49;00m\u001b[43m \u001b[49m\u001b[43me\u001b[49m\u001b[38;5;241;43m.\u001b[39;49m\u001b[43mitems\u001b[49m\u001b[43m(\u001b[49m\u001b[43m)\u001b[49m\u001b[43m]\u001b[49m\u001b[43m)\u001b[49m\n\u001b[0;32m    479\u001b[0m \u001b[38;5;28;01mreturn\u001b[39;00m new_c_powers\n",
      "\u001b[1;31mKeyboardInterrupt\u001b[0m: "
     ]
    }
   ],
   "source": [
    "N = 10\n",
    "for n in range(N):\n",
    "    print(\"n =\", n)\n",
    "    display(Eq(sig_sym[n], polynomize(poly_simplify(sig_eq[n]))))\n",
    "    display(Eq(sig_sym[n], polynomize(poly_simplify(multi_substituter(sig_eq[n], [(u, epsilon**2 * u), (v, epsilon**2 * v)])))))   "
   ]
  },
  {
   "cell_type": "code",
   "execution_count": 63,
   "id": "50098c5a",
   "metadata": {},
   "outputs": [
    {
     "name": "stdout",
     "output_type": "stream",
     "text": [
      "n = 0\n"
     ]
    },
    {
     "data": {
      "text/latex": [
       "$\\displaystyle \\text{KdV}(u) = 0$"
      ],
      "text/plain": [
       "Eq(\\text{KdV}(u), 0)"
      ]
     },
     "metadata": {},
     "output_type": "display_data"
    },
    {
     "data": {
      "text/latex": [
       "$\\displaystyle \\text{KdV}(\\text{Miura}(v)) = 0$"
      ],
      "text/plain": [
       "Eq(\\text{KdV}(\\text{Miura}(v)), 0)"
      ]
     },
     "metadata": {},
     "output_type": "display_data"
    },
    {
     "data": {
      "text/latex": [
       "$\\displaystyle \\text{mKdV}(v) = - v$"
      ],
      "text/plain": [
       "Eq(\\text{mKdV}(v), -v)"
      ]
     },
     "metadata": {},
     "output_type": "display_data"
    },
    {
     "data": {
      "text/latex": [
       "$\\displaystyle (\\text{mKdV}(v))_{x} + 2 \\cdot v \\cdot \\text{mKdV}(v) = - (v)_{x} - 2 v^{2}$"
      ],
      "text/plain": [
       "Eq((\\text{mKdV}(v))_{x} + 2 \\cdot v \\cdot \\text{mKdV}(v), -(v)_{x} - 2*v**2)"
      ]
     },
     "metadata": {},
     "output_type": "display_data"
    },
    {
     "data": {
      "text/latex": [
       "$\\displaystyle (\\text{mKdV}(v))_{x} + 2 \\cdot v \\cdot \\text{mKdV}(v) - \\text{KdV}(\\text{Miura}(v)) = - (v)_{x} - 2 v^{2}$"
      ],
      "text/plain": [
       "Eq((\\text{mKdV}(v))_{x} + 2 \\cdot v \\cdot \\text{mKdV}(v) - \\text{KdV}(\\text{Miura}(v)), -(v)_{x} - 2*v**2)"
      ]
     },
     "metadata": {},
     "output_type": "display_data"
    },
    {
     "name": "stdout",
     "output_type": "stream",
     "text": [
      "n = 2\n"
     ]
    },
    {
     "data": {
      "text/latex": [
       "$\\displaystyle \\text{KdV}(u) = - (u)_{x}$"
      ],
      "text/plain": [
       "Eq(\\text{KdV}(u), -(u)_{x})"
      ]
     },
     "metadata": {},
     "output_type": "display_data"
    },
    {
     "data": {
      "text/latex": [
       "$\\displaystyle \\text{KdV}(\\text{Miura}(v)) = - (v)_{xx} - 2 (v)_{x} v$"
      ],
      "text/plain": [
       "Eq(\\text{KdV}(\\text{Miura}(v)), -(v)_{xx} - 2*(v)_{x}*v)"
      ]
     },
     "metadata": {},
     "output_type": "display_data"
    },
    {
     "data": {
      "text/latex": [
       "$\\displaystyle \\text{mKdV}(v) = - (v)_{xx} + 2 v^{3} - 2 v$"
      ],
      "text/plain": [
       "Eq(\\text{mKdV}(v), -(v)_{xx} + 2*v**3 - 2*v)"
      ]
     },
     "metadata": {},
     "output_type": "display_data"
    },
    {
     "data": {
      "text/latex": [
       "$\\displaystyle (\\text{mKdV}(v))_{x} + 2 \\cdot v \\cdot \\text{mKdV}(v) = - (v)_{xxx} + 2 (v)_{x} \\left(3 v^{2} - 1\\right) - 2 v \\left((v)_{xx} - 2 v^{3} + 2 v\\right)$"
      ],
      "text/plain": [
       "Eq((\\text{mKdV}(v))_{x} + 2 \\cdot v \\cdot \\text{mKdV}(v), -(v)_{xxx} + 2*(v)_{x}*(3*v**2 - 1) - 2*v*((v)_{xx} - 2*v**3 + 2*v))"
      ]
     },
     "metadata": {},
     "output_type": "display_data"
    },
    {
     "data": {
      "text/latex": [
       "$\\displaystyle (\\text{mKdV}(v))_{x} + 2 \\cdot v \\cdot \\text{mKdV}(v) - \\text{KdV}(\\text{Miura}(v)) = - (v)_{xxx} + (v)_{xx} + 2 (v)_{x} v + 2 (v)_{x} \\left(3 v^{2} - 1\\right) - 2 v \\left((v)_{xx} - 2 v^{3} + 2 v\\right)$"
      ],
      "text/plain": [
       "Eq((\\text{mKdV}(v))_{x} + 2 \\cdot v \\cdot \\text{mKdV}(v) - \\text{KdV}(\\text{Miura}(v)), -(v)_{xxx} + (v)_{xx} + 2*(v)_{x}*v + 2*(v)_{x}*(3*v**2 - 1) - 2*v*((v)_{xx} - 2*v**3 + 2*v))"
      ]
     },
     "metadata": {},
     "output_type": "display_data"
    },
    {
     "name": "stdout",
     "output_type": "stream",
     "text": [
      "n = 4\n"
     ]
    },
    {
     "data": {
      "text/latex": [
       "$\\displaystyle \\text{KdV}(u) = - (u)_{xxx} + 6 (u)_{x} u$"
      ],
      "text/plain": [
       "Eq(\\text{KdV}(u), -(u)_{xxx} + 6*(u)_{x}*u)"
      ]
     },
     "metadata": {},
     "output_type": "display_data"
    },
    {
     "data": {
      "text/latex": [
       "$\\displaystyle \\text{KdV}(\\text{Miura}(v)) = - (v)_{xxxx} - 2 (v)_{xxx} v + 6 (v)_{xx} v^{2} + 12 (v)_{x}^{2} v + 12 (v)_{x} v^{3}$"
      ],
      "text/plain": [
       "Eq(\\text{KdV}(\\text{Miura}(v)), -(v)_{xxxx} - 2*(v)_{xxx}*v + 6*(v)_{xx}*v**2 + 12*(v)_{x}**2*v + 12*(v)_{x}*v**3)"
      ]
     },
     "metadata": {},
     "output_type": "display_data"
    },
    {
     "data": {
      "text/latex": [
       "$\\displaystyle \\text{mKdV}(v) = - (v)_{xxxx} + 10 (v)_{xx} v^{2} - 6 (v)_{xx} + 10 (v)_{x}^{2} v - 6 v^{5} + 12 v^{3} - 6 v$"
      ],
      "text/plain": [
       "Eq(\\text{mKdV}(v), -(v)_{xxxx} + 10*(v)_{xx}*v**2 - 6*(v)_{xx} + 10*(v)_{x}**2*v - 6*v**5 + 12*v**3 - 6*v)"
      ]
     },
     "metadata": {},
     "output_type": "display_data"
    },
    {
     "data": {
      "text/latex": [
       "$\\displaystyle (\\text{mKdV}(v))_{x} + 2 \\cdot v \\cdot \\text{mKdV}(v) = - (v)_{xxxxx} + 2 (v)_{xxx} \\left(5 v^{2} - 3\\right) + 20 (v)_{xx} (v)_{x} v + 2 (v)_{x} \\left(10 (v)_{xx} v + 5 (v)_{x}^{2} - 15 v^{4} + 18 v^{2} - 3\\right) - 2 v \\left((v)_{xxxx} - 10 (v)_{xx} v^{2} + 6 (v)_{xx} - 10 (v)_{x}^{2} v + 6 v^{5} - 12 v^{3} + 6 v\\right)$"
      ],
      "text/plain": [
       "Eq((\\text{mKdV}(v))_{x} + 2 \\cdot v \\cdot \\text{mKdV}(v), -(v)_{xxxxx} + 2*(v)_{xxx}*(5*v**2 - 3) + 20*(v)_{xx}*(v)_{x}*v + 2*(v)_{x}*(10*(v)_{xx}*v + 5*(v)_{x}**2 - 15*v**4 + 18*v**2 - 3) - 2*v*((v)_{xxxx} - 10*(v)_{xx}*v**2 + 6*(v)_{xx} - 10*(v)_{x}**2*v + 6*v**5 - 12*v**3 + 6*v))"
      ]
     },
     "metadata": {},
     "output_type": "display_data"
    },
    {
     "data": {
      "text/latex": [
       "$\\displaystyle (\\text{mKdV}(v))_{x} + 2 \\cdot v \\cdot \\text{mKdV}(v) - \\text{KdV}(\\text{Miura}(v)) = - (v)_{xxxxx} + (v)_{xxxx} + 2 (v)_{xxx} v + 2 (v)_{xxx} \\left(5 v^{2} - 3\\right) + 20 (v)_{xx} (v)_{x} v - 6 (v)_{xx} v^{2} - 12 (v)_{x}^{2} v - 12 (v)_{x} v^{3} + 2 (v)_{x} \\left(10 (v)_{xx} v + 5 (v)_{x}^{2} - 15 v^{4} + 18 v^{2} - 3\\right) - 2 v \\left((v)_{xxxx} - 10 (v)_{xx} v^{2} + 6 (v)_{xx} - 10 (v)_{x}^{2} v + 6 v^{5} - 12 v^{3} + 6 v\\right)$"
      ],
      "text/plain": [
       "Eq((\\text{mKdV}(v))_{x} + 2 \\cdot v \\cdot \\text{mKdV}(v) - \\text{KdV}(\\text{Miura}(v)), -(v)_{xxxxx} + (v)_{xxxx} + 2*(v)_{xxx}*v + 2*(v)_{xxx}*(5*v**2 - 3) + 20*(v)_{xx}*(v)_{x}*v - 6*(v)_{xx}*v**2 - 12*(v)_{x}**2*v - 12*(v)_{x}*v**3 + 2*(v)_{x}*(10*(v)_{xx}*v + 5*(v)_{x}**2 - 15*v**4 + 18*v**2 - 3) - 2*v*((v)_{xxxx} - 10*(v)_{xx}*v**2 + 6*(v)_{xx} - 10*(v)_{x}**2*v + 6*v**5 - 12*v**3 + 6*v))"
      ]
     },
     "metadata": {},
     "output_type": "display_data"
    },
    {
     "name": "stdout",
     "output_type": "stream",
     "text": [
      "n = 6\n"
     ]
    },
    {
     "data": {
      "text/latex": [
       "$\\displaystyle \\text{KdV}(u) = - (u)_{xxxxx} + 10 (u)_{xxx} u + 20 (u)_{xx} (u)_{x} - 30 (u)_{x} u^{2}$"
      ],
      "text/plain": [
       "Eq(\\text{KdV}(u), -(u)_{xxxxx} + 10*(u)_{xxx}*u + 20*(u)_{xx}*(u)_{x} - 30*(u)_{x}*u**2)"
      ]
     },
     "metadata": {},
     "output_type": "display_data"
    },
    {
     "data": {
      "text/latex": [
       "$\\displaystyle \\text{KdV}(\\text{Miura}(v)) = - (v)_{xxxxxx} - 2 (v)_{xxxxx} v + 10 (v)_{xxxx} v^{2} + 60 (v)_{xxx} (v)_{x} v + 20 (v)_{xxx} v^{3} + 40 (v)_{xx}^{2} v + 70 (v)_{xx} (v)_{x}^{2} + 80 (v)_{xx} (v)_{x} v^{2} - 30 (v)_{xx} v^{4} + 20 (v)_{x}^{3} v - 120 (v)_{x}^{2} v^{3} - 60 (v)_{x} v^{5}$"
      ],
      "text/plain": [
       "Eq(\\text{KdV}(\\text{Miura}(v)), -(v)_{xxxxxx} - 2*(v)_{xxxxx}*v + 10*(v)_{xxxx}*v**2 + 60*(v)_{xxx}*(v)_{x}*v + 20*(v)_{xxx}*v**3 + 40*(v)_{xx}**2*v + 70*(v)_{xx}*(v)_{x}**2 + 80*(v)_{xx}*(v)_{x}*v**2 - 30*(v)_{xx}*v**4 + 20*(v)_{x}**3*v - 120*(v)_{x}**2*v**3 - 60*(v)_{x}*v**5)"
      ]
     },
     "metadata": {},
     "output_type": "display_data"
    },
    {
     "data": {
      "text/latex": [
       "$\\displaystyle \\text{mKdV}(v) = - (v)_{xxxxxx} + 14 (v)_{xxxx} v^{2} - 10 (v)_{xxxx} + 56 (v)_{xxx} (v)_{x} v + 42 (v)_{xx}^{2} v + 70 (v)_{xx} (v)_{x}^{2} - 70 (v)_{xx} v^{4} + 100 (v)_{xx} v^{2} - 30 (v)_{xx} - 140 (v)_{x}^{2} v^{3} + 100 (v)_{x}^{2} v + 20 v^{7} - 60 v^{5} + 60 v^{3} - 20 v$"
      ],
      "text/plain": [
       "Eq(\\text{mKdV}(v), -(v)_{xxxxxx} + 14*(v)_{xxxx}*v**2 - 10*(v)_{xxxx} + 56*(v)_{xxx}*(v)_{x}*v + 42*(v)_{xx}**2*v + 70*(v)_{xx}*(v)_{x}**2 - 70*(v)_{xx}*v**4 + 100*(v)_{xx}*v**2 - 30*(v)_{xx} - 140*(v)_{x}**2*v**3 + 100*(v)_{x}**2*v + 20*v**7 - 60*v**5 + 60*v**3 - 20*v)"
      ]
     },
     "metadata": {},
     "output_type": "display_data"
    },
    {
     "data": {
      "text/latex": [
       "$\\displaystyle (\\text{mKdV}(v))_{x} + 2 \\cdot v \\cdot \\text{mKdV}(v) = - (v)_{xxxxxxx} - 2 (v)_{xxxxxx} v + 14 (v)_{xxxxx} v^{2} - 10 (v)_{xxxxx} + 84 (v)_{xxxx} (v)_{x} v + 28 (v)_{xxxx} v^{3} - 20 (v)_{xxxx} v + 140 (v)_{xxx} (v)_{xx} v + 126 (v)_{xxx} (v)_{x}^{2} + 112 (v)_{xxx} (v)_{x} v^{2} - 70 (v)_{xxx} v^{4} + 100 (v)_{xxx} v^{2} - 30 (v)_{xxx} + 182 (v)_{xx}^{2} (v)_{x} + 84 (v)_{xx}^{2} v^{2} + 140 (v)_{xx} (v)_{x}^{2} v - 560 (v)_{xx} (v)_{x} v^{3} + 400 (v)_{xx} (v)_{x} v - 140 (v)_{xx} v^{5} + 200 (v)_{xx} v^{3} - 60 (v)_{xx} v - 420 (v)_{x}^{3} v^{2} + 100 (v)_{x}^{3} - 280 (v)_{x}^{2} v^{4} + 200 (v)_{x}^{2} v^{2} + 140 (v)_{x} v^{6} - 300 (v)_{x} v^{4} + 180 (v)_{x} v^{2} - 20 (v)_{x} + 40 v^{8} - 120 v^{6} + 120 v^{4} - 40 v^{2}$"
      ],
      "text/plain": [
       "Eq((\\text{mKdV}(v))_{x} + 2 \\cdot v \\cdot \\text{mKdV}(v), -(v)_{xxxxxxx} - 2*(v)_{xxxxxx}*v + 14*(v)_{xxxxx}*v**2 - 10*(v)_{xxxxx} + 84*(v)_{xxxx}*(v)_{x}*v + 28*(v)_{xxxx}*v**3 - 20*(v)_{xxxx}*v + 140*(v)_{xxx}*(v)_{xx}*v + 126*(v)_{xxx}*(v)_{x}**2 + 112*(v)_{xxx}*(v)_{x}*v**2 - 70*(v)_{xxx}*v**4 + 100*(v)_{xxx}*v**2 - 30*(v)_{xxx} + 182*(v)_{xx}**2*(v)_{x} + 84*(v)_{xx}**2*v**2 + 140*(v)_{xx}*(v)_{x}**2*v - 560*(v)_{xx}*(v)_{x}*v**3 + 400*(v)_{xx}*(v)_{x}*v - 140*(v)_{xx}*v**5 + 200*(v)_{xx}*v**3 - 60*(v)_{xx}*v - 420*(v)_{x}**3*v**2 + 100*(v)_{x}**3 - 280*(v)_{x}**2*v**4 + 200*(v)_{x}**2*v**2 + 140*(v)_{x}*v**6 - 300*(v)_{x}*v**4 + 180*(v)_{x}*v**2 - 20*(v)_{x} + 40*v**8 - 120*v**6 + 120*v**4 - 40*v**2)"
      ]
     },
     "metadata": {},
     "output_type": "display_data"
    },
    {
     "data": {
      "text/latex": [
       "$\\displaystyle (\\text{mKdV}(v))_{x} + 2 \\cdot v \\cdot \\text{mKdV}(v) - \\text{KdV}(\\text{Miura}(v)) = - (v)_{xxxxxxx} - 2 (v)_{xxxxxx} v + (v)_{xxxxxx} + 14 (v)_{xxxxx} v^{2} + 2 (v)_{xxxxx} v - 10 (v)_{xxxxx} + 84 (v)_{xxxx} (v)_{x} v + 28 (v)_{xxxx} v^{3} - 10 (v)_{xxxx} v^{2} - 20 (v)_{xxxx} v + 140 (v)_{xxx} (v)_{xx} v + 126 (v)_{xxx} (v)_{x}^{2} + 112 (v)_{xxx} (v)_{x} v^{2} - 60 (v)_{xxx} (v)_{x} v - 70 (v)_{xxx} v^{4} - 20 (v)_{xxx} v^{3} + 100 (v)_{xxx} v^{2} - 30 (v)_{xxx} + 182 (v)_{xx}^{2} (v)_{x} + 84 (v)_{xx}^{2} v^{2} - 40 (v)_{xx}^{2} v + 140 (v)_{xx} (v)_{x}^{2} v - 70 (v)_{xx} (v)_{x}^{2} - 560 (v)_{xx} (v)_{x} v^{3} - 80 (v)_{xx} (v)_{x} v^{2} + 400 (v)_{xx} (v)_{x} v - 140 (v)_{xx} v^{5} + 30 (v)_{xx} v^{4} + 200 (v)_{xx} v^{3} - 60 (v)_{xx} v - 420 (v)_{x}^{3} v^{2} - 20 (v)_{x}^{3} v + 100 (v)_{x}^{3} - 280 (v)_{x}^{2} v^{4} + 120 (v)_{x}^{2} v^{3} + 200 (v)_{x}^{2} v^{2} + 140 (v)_{x} v^{6} + 60 (v)_{x} v^{5} - 300 (v)_{x} v^{4} + 180 (v)_{x} v^{2} - 20 (v)_{x} + 40 v^{8} - 120 v^{6} + 120 v^{4} - 40 v^{2}$"
      ],
      "text/plain": [
       "Eq((\\text{mKdV}(v))_{x} + 2 \\cdot v \\cdot \\text{mKdV}(v) - \\text{KdV}(\\text{Miura}(v)), -(v)_{xxxxxxx} - 2*(v)_{xxxxxx}*v + (v)_{xxxxxx} + 14*(v)_{xxxxx}*v**2 + 2*(v)_{xxxxx}*v - 10*(v)_{xxxxx} + 84*(v)_{xxxx}*(v)_{x}*v + 28*(v)_{xxxx}*v**3 - 10*(v)_{xxxx}*v**2 - 20*(v)_{xxxx}*v + 140*(v)_{xxx}*(v)_{xx}*v + 126*(v)_{xxx}*(v)_{x}**2 + 112*(v)_{xxx}*(v)_{x}*v**2 - 60*(v)_{xxx}*(v)_{x}*v - 70*(v)_{xxx}*v**4 - 20*(v)_{xxx}*v**3 + 100*(v)_{xxx}*v**2 - 30*(v)_{xxx} + 182*(v)_{xx}**2*(v)_{x} + 84*(v)_{xx}**2*v**2 - 40*(v)_{xx}**2*v + 140*(v)_{xx}*(v)_{x}**2*v - 70*(v)_{xx}*(v)_{x}**2 - 560*(v)_{xx}*(v)_{x}*v**3 - 80*(v)_{xx}*(v)_{x}*v**2 + 400*(v)_{xx}*(v)_{x}*v - 140*(v)_{xx}*v**5 + 30*(v)_{xx}*v**4 + 200*(v)_{xx}*v**3 - 60*(v)_{xx}*v - 420*(v)_{x}**3*v**2 - 20*(v)_{x}**3*v + 100*(v)_{x}**3 - 280*(v)_{x}**2*v**4 + 120*(v)_{x}**2*v**3 + 200*(v)_{x}**2*v**2 + 140*(v)_{x}*v**6 + 60*(v)_{x}*v**5 - 300*(v)_{x}*v**4 + 180*(v)_{x}*v**2 - 20*(v)_{x} + 40*v**8 - 120*v**6 + 120*v**4 - 40*v**2)"
      ]
     },
     "metadata": {},
     "output_type": "display_data"
    },
    {
     "name": "stdout",
     "output_type": "stream",
     "text": [
      "n = 8\n"
     ]
    },
    {
     "data": {
      "text/latex": [
       "$\\displaystyle \\text{KdV}(u) = - (u)_{xxxxxxx} + 14 (u)_{xxxxx} u + 42 (u)_{xxxx} (u)_{x} + 70 (u)_{xxx} (u)_{xx} - 70 (u)_{xxx} u^{2} - 280 (u)_{xx} (u)_{x} u - 70 (u)_{x}^{3} + 140 (u)_{x} u^{3}$"
      ],
      "text/plain": [
       "Eq(\\text{KdV}(u), -(u)_{xxxxxxx} + 14*(u)_{xxxxx}*u + 42*(u)_{xxxx}*(u)_{x} + 70*(u)_{xxx}*(u)_{xx} - 70*(u)_{xxx}*u**2 - 280*(u)_{xx}*(u)_{x}*u - 70*(u)_{x}**3 + 140*(u)_{x}*u**3)"
      ]
     },
     "metadata": {},
     "output_type": "display_data"
    },
    {
     "data": {
      "text/latex": [
       "$\\displaystyle \\text{KdV}(\\text{Miura}(v)) = - (v)_{xxxxxxxx} - 2 (v)_{xxxxxxx} v + 14 (v)_{xxxxxx} v^{2} + 112 (v)_{xxxxx} (v)_{x} v + 28 (v)_{xxxxx} v^{3} + 224 (v)_{xxxx} (v)_{xx} v + 210 (v)_{xxxx} (v)_{x}^{2} + 168 (v)_{xxxx} (v)_{x} v^{2} - 70 (v)_{xxxx} v^{4} + 140 (v)_{xxx}^{2} v + 756 (v)_{xxx} (v)_{xx} (v)_{x} + 280 (v)_{xxx} (v)_{xx} v^{2} + 252 (v)_{xxx} (v)_{x}^{2} v - 840 (v)_{xxx} (v)_{x} v^{3} - 140 (v)_{xxx} v^{5} + 182 (v)_{xx}^{3} + 364 (v)_{xx}^{2} (v)_{x} v - 560 (v)_{xx}^{2} v^{3} - 2940 (v)_{xx} (v)_{x}^{2} v^{2} - 1120 (v)_{xx} (v)_{x} v^{4} + 140 (v)_{xx} v^{6} - 840 (v)_{x}^{4} v - 840 (v)_{x}^{3} v^{3} + 840 (v)_{x}^{2} v^{5} + 280 (v)_{x} v^{7}$"
      ],
      "text/plain": [
       "Eq(\\text{KdV}(\\text{Miura}(v)), -(v)_{xxxxxxxx} - 2*(v)_{xxxxxxx}*v + 14*(v)_{xxxxxx}*v**2 + 112*(v)_{xxxxx}*(v)_{x}*v + 28*(v)_{xxxxx}*v**3 + 224*(v)_{xxxx}*(v)_{xx}*v + 210*(v)_{xxxx}*(v)_{x}**2 + 168*(v)_{xxxx}*(v)_{x}*v**2 - 70*(v)_{xxxx}*v**4 + 140*(v)_{xxx}**2*v + 756*(v)_{xxx}*(v)_{xx}*(v)_{x} + 280*(v)_{xxx}*(v)_{xx}*v**2 + 252*(v)_{xxx}*(v)_{x}**2*v - 840*(v)_{xxx}*(v)_{x}*v**3 - 140*(v)_{xxx}*v**5 + 182*(v)_{xx}**3 + 364*(v)_{xx}**2*(v)_{x}*v - 560*(v)_{xx}**2*v**3 - 2940*(v)_{xx}*(v)_{x}**2*v**2 - 1120*(v)_{xx}*(v)_{x}*v**4 + 140*(v)_{xx}*v**6 - 840*(v)_{x}**4*v - 840*(v)_{x}**3*v**3 + 840*(v)_{x}**2*v**5 + 280*(v)_{x}*v**7)"
      ]
     },
     "metadata": {},
     "output_type": "display_data"
    },
    {
     "data": {
      "text/latex": [
       "$\\displaystyle \\text{mKdV}(v) = - (v)_{xxxxxxxx} + 18 (v)_{xxxxxx} v^{2} - 14 (v)_{xxxxxx} + 108 (v)_{xxxxx} (v)_{x} v + 228 (v)_{xxxx} (v)_{xx} v + 210 (v)_{xxxx} (v)_{x}^{2} - 126 (v)_{xxxx} v^{4} + 196 (v)_{xxxx} v^{2} - 70 (v)_{xxxx} + 138 (v)_{xxx}^{2} v + 756 (v)_{xxx} (v)_{xx} (v)_{x} - 1008 (v)_{xxx} (v)_{x} v^{3} + 784 (v)_{xxx} (v)_{x} v + 182 (v)_{xx}^{3} - 756 (v)_{xx}^{2} v^{3} + 588 (v)_{xx}^{2} v - 3108 (v)_{xx} (v)_{x}^{2} v^{2} + 980 (v)_{xx} (v)_{x}^{2} + 420 (v)_{xx} v^{6} - 980 (v)_{xx} v^{4} + 700 (v)_{xx} v^{2} - 140 (v)_{xx} - 798 (v)_{x}^{4} v + 1260 (v)_{x}^{2} v^{5} - 1960 (v)_{x}^{2} v^{3} + 700 (v)_{x}^{2} v - 70 v^{9} + 280 v^{7} - 420 v^{5} + 280 v^{3} - 70 v$"
      ],
      "text/plain": [
       "Eq(\\text{mKdV}(v), -(v)_{xxxxxxxx} + 18*(v)_{xxxxxx}*v**2 - 14*(v)_{xxxxxx} + 108*(v)_{xxxxx}*(v)_{x}*v + 228*(v)_{xxxx}*(v)_{xx}*v + 210*(v)_{xxxx}*(v)_{x}**2 - 126*(v)_{xxxx}*v**4 + 196*(v)_{xxxx}*v**2 - 70*(v)_{xxxx} + 138*(v)_{xxx}**2*v + 756*(v)_{xxx}*(v)_{xx}*(v)_{x} - 1008*(v)_{xxx}*(v)_{x}*v**3 + 784*(v)_{xxx}*(v)_{x}*v + 182*(v)_{xx}**3 - 756*(v)_{xx}**2*v**3 + 588*(v)_{xx}**2*v - 3108*(v)_{xx}*(v)_{x}**2*v**2 + 980*(v)_{xx}*(v)_{x}**2 + 420*(v)_{xx}*v**6 - 980*(v)_{xx}*v**4 + 700*(v)_{xx}*v**2 - 140*(v)_{xx} - 798*(v)_{x}**4*v + 1260*(v)_{x}**2*v**5 - 1960*(v)_{x}**2*v**3 + 700*(v)_{x}**2*v - 70*v**9 + 280*v**7 - 420*v**5 + 280*v**3 - 70*v)"
      ]
     },
     "metadata": {},
     "output_type": "display_data"
    },
    {
     "data": {
      "text/latex": [
       "$\\displaystyle (\\text{mKdV}(v))_{x} + 2 \\cdot v \\cdot \\text{mKdV}(v) = - (v)_{xxxxxxxxx} - 2 (v)_{xxxxxxxx} v + 18 (v)_{xxxxxxx} v^{2} - 14 (v)_{xxxxxxx} + 144 (v)_{xxxxxx} (v)_{x} v + 36 (v)_{xxxxxx} v^{3} - 28 (v)_{xxxxxx} v + 336 (v)_{xxxxx} (v)_{xx} v + 318 (v)_{xxxxx} (v)_{x}^{2} + 216 (v)_{xxxxx} (v)_{x} v^{2} - 126 (v)_{xxxxx} v^{4} + 196 (v)_{xxxxx} v^{2} - 70 (v)_{xxxxx} + 504 (v)_{xxxx} (v)_{xxx} v + 1404 (v)_{xxxx} (v)_{xx} (v)_{x} + 456 (v)_{xxxx} (v)_{xx} v^{2} + 420 (v)_{xxxx} (v)_{x}^{2} v - 1512 (v)_{xxxx} (v)_{x} v^{3} + 1176 (v)_{xxxx} (v)_{x} v - 252 (v)_{xxxx} v^{5} + 392 (v)_{xxxx} v^{3} - 140 (v)_{xxxx} v + 894 (v)_{xxx}^{2} (v)_{x} + 276 (v)_{xxx}^{2} v^{2} + 1302 (v)_{xxx} (v)_{xx}^{2} + 1512 (v)_{xxx} (v)_{xx} (v)_{x} v - 2520 (v)_{xxx} (v)_{xx} v^{3} + 1960 (v)_{xxx} (v)_{xx} v - 6132 (v)_{xxx} (v)_{x}^{2} v^{2} + 1764 (v)_{xxx} (v)_{x}^{2} - 2016 (v)_{xxx} (v)_{x} v^{4} + 1568 (v)_{xxx} (v)_{x} v^{2} + 420 (v)_{xxx} v^{6} - 980 (v)_{xxx} v^{4} + 700 (v)_{xxx} v^{2} - 140 (v)_{xxx} + 364 (v)_{xx}^{3} v - 8484 (v)_{xx}^{2} (v)_{x} v^{2} + 2548 (v)_{xx}^{2} (v)_{x} - 1512 (v)_{xx}^{2} v^{4} + 1176 (v)_{xx}^{2} v^{2} - 9408 (v)_{xx} (v)_{x}^{3} v - 6216 (v)_{xx} (v)_{x}^{2} v^{3} + 1960 (v)_{xx} (v)_{x}^{2} v + 5040 (v)_{xx} (v)_{x} v^{5} - 7840 (v)_{xx} (v)_{x} v^{3} + 2800 (v)_{xx} (v)_{x} v + 840 (v)_{xx} v^{7} - 1960 (v)_{xx} v^{5} + 1400 (v)_{xx} v^{3} - 280 (v)_{xx} v - 798 (v)_{x}^{5} - 1596 (v)_{x}^{4} v^{2} + 6300 (v)_{x}^{3} v^{4} - 5880 (v)_{x}^{3} v^{2} + 700 (v)_{x}^{3} + 2520 (v)_{x}^{2} v^{6} - 3920 (v)_{x}^{2} v^{4} + 1400 (v)_{x}^{2} v^{2} - 630 (v)_{x} v^{8} + 1960 (v)_{x} v^{6} - 2100 (v)_{x} v^{4} + 840 (v)_{x} v^{2} - 70 (v)_{x} - 140 v^{10} + 560 v^{8} - 840 v^{6} + 560 v^{4} - 140 v^{2}$"
      ],
      "text/plain": [
       "Eq((\\text{mKdV}(v))_{x} + 2 \\cdot v \\cdot \\text{mKdV}(v), -(v)_{xxxxxxxxx} - 2*(v)_{xxxxxxxx}*v + 18*(v)_{xxxxxxx}*v**2 - 14*(v)_{xxxxxxx} + 144*(v)_{xxxxxx}*(v)_{x}*v + 36*(v)_{xxxxxx}*v**3 - 28*(v)_{xxxxxx}*v + 336*(v)_{xxxxx}*(v)_{xx}*v + 318*(v)_{xxxxx}*(v)_{x}**2 + 216*(v)_{xxxxx}*(v)_{x}*v**2 - 126*(v)_{xxxxx}*v**4 + 196*(v)_{xxxxx}*v**2 - 70*(v)_{xxxxx} + 504*(v)_{xxxx}*(v)_{xxx}*v + 1404*(v)_{xxxx}*(v)_{xx}*(v)_{x} + 456*(v)_{xxxx}*(v)_{xx}*v**2 + 420*(v)_{xxxx}*(v)_{x}**2*v - 1512*(v)_{xxxx}*(v)_{x}*v**3 + 1176*(v)_{xxxx}*(v)_{x}*v - 252*(v)_{xxxx}*v**5 + 392*(v)_{xxxx}*v**3 - 140*(v)_{xxxx}*v + 894*(v)_{xxx}**2*(v)_{x} + 276*(v)_{xxx}**2*v**2 + 1302*(v)_{xxx}*(v)_{xx}**2 + 1512*(v)_{xxx}*(v)_{xx}*(v)_{x}*v - 2520*(v)_{xxx}*(v)_{xx}*v**3 + 1960*(v)_{xxx}*(v)_{xx}*v - 6132*(v)_{xxx}*(v)_{x}**2*v**2 + 1764*(v)_{xxx}*(v)_{x}**2 - 2016*(v)_{xxx}*(v)_{x}*v**4 + 1568*(v)_{xxx}*(v)_{x}*v**2 + 420*(v)_{xxx}*v**6 - 980*(v)_{xxx}*v**4 + 700*(v)_{xxx}*v**2 - 140*(v)_{xxx} + 364*(v)_{xx}**3*v - 8484*(v)_{xx}**2*(v)_{x}*v**2 + 2548*(v)_{xx}**2*(v)_{x} - 1512*(v)_{xx}**2*v**4 + 1176*(v)_{xx}**2*v**2 - 9408*(v)_{xx}*(v)_{x}**3*v - 6216*(v)_{xx}*(v)_{x}**2*v**3 + 1960*(v)_{xx}*(v)_{x}**2*v + 5040*(v)_{xx}*(v)_{x}*v**5 - 7840*(v)_{xx}*(v)_{x}*v**3 + 2800*(v)_{xx}*(v)_{x}*v + 840*(v)_{xx}*v**7 - 1960*(v)_{xx}*v**5 + 1400*(v)_{xx}*v**3 - 280*(v)_{xx}*v - 798*(v)_{x}**5 - 1596*(v)_{x}**4*v**2 + 6300*(v)_{x}**3*v**4 - 5880*(v)_{x}**3*v**2 + 700*(v)_{x}**3 + 2520*(v)_{x}**2*v**6 - 3920*(v)_{x}**2*v**4 + 1400*(v)_{x}**2*v**2 - 630*(v)_{x}*v**8 + 1960*(v)_{x}*v**6 - 2100*(v)_{x}*v**4 + 840*(v)_{x}*v**2 - 70*(v)_{x} - 140*v**10 + 560*v**8 - 840*v**6 + 560*v**4 - 140*v**2)"
      ]
     },
     "metadata": {},
     "output_type": "display_data"
    },
    {
     "data": {
      "text/latex": [
       "$\\displaystyle (\\text{mKdV}(v))_{x} + 2 \\cdot v \\cdot \\text{mKdV}(v) - \\text{KdV}(\\text{Miura}(v)) = - (v)_{xxxxxxxxx} - 2 (v)_{xxxxxxxx} v + (v)_{xxxxxxxx} + 18 (v)_{xxxxxxx} v^{2} + 2 (v)_{xxxxxxx} v - 14 (v)_{xxxxxxx} + 144 (v)_{xxxxxx} (v)_{x} v + 36 (v)_{xxxxxx} v^{3} - 14 (v)_{xxxxxx} v^{2} - 28 (v)_{xxxxxx} v + 336 (v)_{xxxxx} (v)_{xx} v + 318 (v)_{xxxxx} (v)_{x}^{2} + 216 (v)_{xxxxx} (v)_{x} v^{2} - 112 (v)_{xxxxx} (v)_{x} v - 126 (v)_{xxxxx} v^{4} - 28 (v)_{xxxxx} v^{3} + 196 (v)_{xxxxx} v^{2} - 70 (v)_{xxxxx} + 504 (v)_{xxxx} (v)_{xxx} v + 1404 (v)_{xxxx} (v)_{xx} (v)_{x} + 456 (v)_{xxxx} (v)_{xx} v^{2} - 224 (v)_{xxxx} (v)_{xx} v + 420 (v)_{xxxx} (v)_{x}^{2} v - 210 (v)_{xxxx} (v)_{x}^{2} - 1512 (v)_{xxxx} (v)_{x} v^{3} - 168 (v)_{xxxx} (v)_{x} v^{2} + 1176 (v)_{xxxx} (v)_{x} v - 252 (v)_{xxxx} v^{5} + 70 (v)_{xxxx} v^{4} + 392 (v)_{xxxx} v^{3} - 140 (v)_{xxxx} v + 894 (v)_{xxx}^{2} (v)_{x} + 276 (v)_{xxx}^{2} v^{2} - 140 (v)_{xxx}^{2} v + 1302 (v)_{xxx} (v)_{xx}^{2} + 1512 (v)_{xxx} (v)_{xx} (v)_{x} v - 756 (v)_{xxx} (v)_{xx} (v)_{x} - 2520 (v)_{xxx} (v)_{xx} v^{3} - 280 (v)_{xxx} (v)_{xx} v^{2} + 1960 (v)_{xxx} (v)_{xx} v - 6132 (v)_{xxx} (v)_{x}^{2} v^{2} - 252 (v)_{xxx} (v)_{x}^{2} v + 1764 (v)_{xxx} (v)_{x}^{2} - 2016 (v)_{xxx} (v)_{x} v^{4} + 840 (v)_{xxx} (v)_{x} v^{3} + 1568 (v)_{xxx} (v)_{x} v^{2} + 420 (v)_{xxx} v^{6} + 140 (v)_{xxx} v^{5} - 980 (v)_{xxx} v^{4} + 700 (v)_{xxx} v^{2} - 140 (v)_{xxx} + 364 (v)_{xx}^{3} v - 182 (v)_{xx}^{3} - 8484 (v)_{xx}^{2} (v)_{x} v^{2} - 364 (v)_{xx}^{2} (v)_{x} v + 2548 (v)_{xx}^{2} (v)_{x} - 1512 (v)_{xx}^{2} v^{4} + 560 (v)_{xx}^{2} v^{3} + 1176 (v)_{xx}^{2} v^{2} - 9408 (v)_{xx} (v)_{x}^{3} v - 6216 (v)_{xx} (v)_{x}^{2} v^{3} + 2940 (v)_{xx} (v)_{x}^{2} v^{2} + 1960 (v)_{xx} (v)_{x}^{2} v + 5040 (v)_{xx} (v)_{x} v^{5} + 1120 (v)_{xx} (v)_{x} v^{4} - 7840 (v)_{xx} (v)_{x} v^{3} + 2800 (v)_{xx} (v)_{x} v + 840 (v)_{xx} v^{7} - 140 (v)_{xx} v^{6} - 1960 (v)_{xx} v^{5} + 1400 (v)_{xx} v^{3} - 280 (v)_{xx} v - 798 (v)_{x}^{5} - 1596 (v)_{x}^{4} v^{2} + 840 (v)_{x}^{4} v + 6300 (v)_{x}^{3} v^{4} + 840 (v)_{x}^{3} v^{3} - 5880 (v)_{x}^{3} v^{2} + 700 (v)_{x}^{3} + 2520 (v)_{x}^{2} v^{6} - 840 (v)_{x}^{2} v^{5} - 3920 (v)_{x}^{2} v^{4} + 1400 (v)_{x}^{2} v^{2} - 630 (v)_{x} v^{8} - 280 (v)_{x} v^{7} + 1960 (v)_{x} v^{6} - 2100 (v)_{x} v^{4} + 840 (v)_{x} v^{2} - 70 (v)_{x} - 140 v^{10} + 560 v^{8} - 840 v^{6} + 560 v^{4} - 140 v^{2}$"
      ],
      "text/plain": [
       "Eq((\\text{mKdV}(v))_{x} + 2 \\cdot v \\cdot \\text{mKdV}(v) - \\text{KdV}(\\text{Miura}(v)), -(v)_{xxxxxxxxx} - 2*(v)_{xxxxxxxx}*v + (v)_{xxxxxxxx} + 18*(v)_{xxxxxxx}*v**2 + 2*(v)_{xxxxxxx}*v - 14*(v)_{xxxxxxx} + 144*(v)_{xxxxxx}*(v)_{x}*v + 36*(v)_{xxxxxx}*v**3 - 14*(v)_{xxxxxx}*v**2 - 28*(v)_{xxxxxx}*v + 336*(v)_{xxxxx}*(v)_{xx}*v + 318*(v)_{xxxxx}*(v)_{x}**2 + 216*(v)_{xxxxx}*(v)_{x}*v**2 - 112*(v)_{xxxxx}*(v)_{x}*v - 126*(v)_{xxxxx}*v**4 - 28*(v)_{xxxxx}*v**3 + 196*(v)_{xxxxx}*v**2 - 70*(v)_{xxxxx} + 504*(v)_{xxxx}*(v)_{xxx}*v + 1404*(v)_{xxxx}*(v)_{xx}*(v)_{x} + 456*(v)_{xxxx}*(v)_{xx}*v**2 - 224*(v)_{xxxx}*(v)_{xx}*v + 420*(v)_{xxxx}*(v)_{x}**2*v - 210*(v)_{xxxx}*(v)_{x}**2 - 1512*(v)_{xxxx}*(v)_{x}*v**3 - 168*(v)_{xxxx}*(v)_{x}*v**2 + 1176*(v)_{xxxx}*(v)_{x}*v - 252*(v)_{xxxx}*v**5 + 70*(v)_{xxxx}*v**4 + 392*(v)_{xxxx}*v**3 - 140*(v)_{xxxx}*v + 894*(v)_{xxx}**2*(v)_{x} + 276*(v)_{xxx}**2*v**2 - 140*(v)_{xxx}**2*v + 1302*(v)_{xxx}*(v)_{xx}**2 + 1512*(v)_{xxx}*(v)_{xx}*(v)_{x}*v - 756*(v)_{xxx}*(v)_{xx}*(v)_{x} - 2520*(v)_{xxx}*(v)_{xx}*v**3 - 280*(v)_{xxx}*(v)_{xx}*v**2 + 1960*(v)_{xxx}*(v)_{xx}*v - 6132*(v)_{xxx}*(v)_{x}**2*v**2 - 252*(v)_{xxx}*(v)_{x}**2*v + 1764*(v)_{xxx}*(v)_{x}**2 - 2016*(v)_{xxx}*(v)_{x}*v**4 + 840*(v)_{xxx}*(v)_{x}*v**3 + 1568*(v)_{xxx}*(v)_{x}*v**2 + 420*(v)_{xxx}*v**6 + 140*(v)_{xxx}*v**5 - 980*(v)_{xxx}*v**4 + 700*(v)_{xxx}*v**2 - 140*(v)_{xxx} + 364*(v)_{xx}**3*v - 182*(v)_{xx}**3 - 8484*(v)_{xx}**2*(v)_{x}*v**2 - 364*(v)_{xx}**2*(v)_{x}*v + 2548*(v)_{xx}**2*(v)_{x} - 1512*(v)_{xx}**2*v**4 + 560*(v)_{xx}**2*v**3 + 1176*(v)_{xx}**2*v**2 - 9408*(v)_{xx}*(v)_{x}**3*v - 6216*(v)_{xx}*(v)_{x}**2*v**3 + 2940*(v)_{xx}*(v)_{x}**2*v**2 + 1960*(v)_{xx}*(v)_{x}**2*v + 5040*(v)_{xx}*(v)_{x}*v**5 + 1120*(v)_{xx}*(v)_{x}*v**4 - 7840*(v)_{xx}*(v)_{x}*v**3 + 2800*(v)_{xx}*(v)_{x}*v + 840*(v)_{xx}*v**7 - 140*(v)_{xx}*v**6 - 1960*(v)_{xx}*v**5 + 1400*(v)_{xx}*v**3 - 280*(v)_{xx}*v - 798*(v)_{x}**5 - 1596*(v)_{x}**4*v**2 + 840*(v)_{x}**4*v + 6300*(v)_{x}**3*v**4 + 840*(v)_{x}**3*v**3 - 5880*(v)_{x}**3*v**2 + 700*(v)_{x}**3 + 2520*(v)_{x}**2*v**6 - 840*(v)_{x}**2*v**5 - 3920*(v)_{x}**2*v**4 + 1400*(v)_{x}**2*v**2 - 630*(v)_{x}*v**8 - 280*(v)_{x}*v**7 + 1960*(v)_{x}*v**6 - 2100*(v)_{x}*v**4 + 840*(v)_{x}*v**2 - 70*(v)_{x} - 140*v**10 + 560*v**8 - 840*v**6 + 560*v**4 - 140*v**2)"
      ]
     },
     "metadata": {},
     "output_type": "display_data"
    },
    {
     "name": "stdout",
     "output_type": "stream",
     "text": [
      "n = 10\n"
     ]
    },
    {
     "data": {
      "text/latex": [
       "$\\displaystyle \\text{KdV}(u) = - (u)_{xxxxxxxxx} + 18 (u)_{xxxxxxx} u + 72 (u)_{xxxxxx} (u)_{x} + 168 (u)_{xxxxx} (u)_{xx} - 126 (u)_{xxxxx} u^{2} + 252 (u)_{xxxx} (u)_{xxx} - 756 (u)_{xxxx} (u)_{x} u - 1260 (u)_{xxx} (u)_{xx} u - 966 (u)_{xxx} (u)_{x}^{2} + 420 (u)_{xxx} u^{3} - 1302 (u)_{xx}^{2} (u)_{x} + 2520 (u)_{xx} (u)_{x} u^{2} + 1260 (u)_{x}^{3} u - 630 (u)_{x} u^{4}$"
      ],
      "text/plain": [
       "Eq(\\text{KdV}(u), -(u)_{xxxxxxxxx} + 18*(u)_{xxxxxxx}*u + 72*(u)_{xxxxxx}*(u)_{x} + 168*(u)_{xxxxx}*(u)_{xx} - 126*(u)_{xxxxx}*u**2 + 252*(u)_{xxxx}*(u)_{xxx} - 756*(u)_{xxxx}*(u)_{x}*u - 1260*(u)_{xxx}*(u)_{xx}*u - 966*(u)_{xxx}*(u)_{x}**2 + 420*(u)_{xxx}*u**3 - 1302*(u)_{xx}**2*(u)_{x} + 2520*(u)_{xx}*(u)_{x}*u**2 + 1260*(u)_{x}**3*u - 630*(u)_{x}*u**4)"
      ]
     },
     "metadata": {},
     "output_type": "display_data"
    },
    {
     "data": {
      "text/latex": [
       "$\\displaystyle \\text{KdV}(\\text{Miura}(v)) = - (v)_{xxxxxxxxxx} - 2 (v)_{xxxxxxxxx} v + 18 (v)_{xxxxxxxx} v^{2} + 180 (v)_{xxxxxxx} (v)_{x} v + 36 (v)_{xxxxxxx} v^{3} + 480 (v)_{xxxxxx} (v)_{xx} v + 462 (v)_{xxxxxx} (v)_{x}^{2} + 288 (v)_{xxxxxx} (v)_{x} v^{2} - 126 (v)_{xxxxxx} v^{4} + 840 (v)_{xxxxx} (v)_{xxx} v + 2376 (v)_{xxxxx} (v)_{xx} (v)_{x} + 672 (v)_{xxxxx} (v)_{xx} v^{2} + 636 (v)_{xxxxx} (v)_{x}^{2} v - 2016 (v)_{xxxxx} (v)_{x} v^{3} - 252 (v)_{xxxxx} v^{5} + 504 (v)_{xxxx}^{2} v + 3696 (v)_{xxxx} (v)_{xxx} (v)_{x} + 1008 (v)_{xxxx} (v)_{xxx} v^{2} + 2706 (v)_{xxxx} (v)_{xx}^{2} + 2808 (v)_{xxxx} (v)_{xx} (v)_{x} v - 4032 (v)_{xxxx} (v)_{xx} v^{3} - 10668 (v)_{xxxx} (v)_{x}^{2} v^{2} - 3024 (v)_{xxxx} (v)_{x} v^{4} + 420 (v)_{xxxx} v^{6} + 3498 (v)_{xxx}^{2} (v)_{xx} + 1788 (v)_{xxx}^{2} (v)_{x} v - 2520 (v)_{xxx}^{2} v^{3} + 2604 (v)_{xxx} (v)_{xx}^{2} v - 36792 (v)_{xxx} (v)_{xx} (v)_{x} v^{2} - 5040 (v)_{xxx} (v)_{xx} v^{4} - 21672 (v)_{xxx} (v)_{x}^{3} v - 12264 (v)_{xxx} (v)_{x}^{2} v^{3} + 7560 (v)_{xxx} (v)_{x} v^{5} + 840 (v)_{xxx} v^{7} - 8484 (v)_{xx}^{3} v^{2} - 45192 (v)_{xx}^{2} (v)_{x}^{2} v - 16968 (v)_{xx}^{2} (v)_{x} v^{3} + 5040 (v)_{xx}^{2} v^{5} - 13398 (v)_{xx} (v)_{x}^{4} - 18816 (v)_{xx} (v)_{x}^{3} v^{2} + 44100 (v)_{xx} (v)_{x}^{2} v^{4} + 10080 (v)_{xx} (v)_{x} v^{6} - 630 (v)_{xx} v^{8} - 1596 (v)_{x}^{5} v + 25200 (v)_{x}^{4} v^{3} + 12600 (v)_{x}^{3} v^{5} - 5040 (v)_{x}^{2} v^{7} - 1260 (v)_{x} v^{9}$"
      ],
      "text/plain": [
       "Eq(\\text{KdV}(\\text{Miura}(v)), -(v)_{xxxxxxxxxx} - 2*(v)_{xxxxxxxxx}*v + 18*(v)_{xxxxxxxx}*v**2 + 180*(v)_{xxxxxxx}*(v)_{x}*v + 36*(v)_{xxxxxxx}*v**3 + 480*(v)_{xxxxxx}*(v)_{xx}*v + 462*(v)_{xxxxxx}*(v)_{x}**2 + 288*(v)_{xxxxxx}*(v)_{x}*v**2 - 126*(v)_{xxxxxx}*v**4 + 840*(v)_{xxxxx}*(v)_{xxx}*v + 2376*(v)_{xxxxx}*(v)_{xx}*(v)_{x} + 672*(v)_{xxxxx}*(v)_{xx}*v**2 + 636*(v)_{xxxxx}*(v)_{x}**2*v - 2016*(v)_{xxxxx}*(v)_{x}*v**3 - 252*(v)_{xxxxx}*v**5 + 504*(v)_{xxxx}**2*v + 3696*(v)_{xxxx}*(v)_{xxx}*(v)_{x} + 1008*(v)_{xxxx}*(v)_{xxx}*v**2 + 2706*(v)_{xxxx}*(v)_{xx}**2 + 2808*(v)_{xxxx}*(v)_{xx}*(v)_{x}*v - 4032*(v)_{xxxx}*(v)_{xx}*v**3 - 10668*(v)_{xxxx}*(v)_{x}**2*v**2 - 3024*(v)_{xxxx}*(v)_{x}*v**4 + 420*(v)_{xxxx}*v**6 + 3498*(v)_{xxx}**2*(v)_{xx} + 1788*(v)_{xxx}**2*(v)_{x}*v - 2520*(v)_{xxx}**2*v**3 + 2604*(v)_{xxx}*(v)_{xx}**2*v - 36792*(v)_{xxx}*(v)_{xx}*(v)_{x}*v**2 - 5040*(v)_{xxx}*(v)_{xx}*v**4 - 21672*(v)_{xxx}*(v)_{x}**3*v - 12264*(v)_{xxx}*(v)_{x}**2*v**3 + 7560*(v)_{xxx}*(v)_{x}*v**5 + 840*(v)_{xxx}*v**7 - 8484*(v)_{xx}**3*v**2 - 45192*(v)_{xx}**2*(v)_{x}**2*v - 16968*(v)_{xx}**2*(v)_{x}*v**3 + 5040*(v)_{xx}**2*v**5 - 13398*(v)_{xx}*(v)_{x}**4 - 18816*(v)_{xx}*(v)_{x}**3*v**2 + 44100*(v)_{xx}*(v)_{x}**2*v**4 + 10080*(v)_{xx}*(v)_{x}*v**6 - 630*(v)_{xx}*v**8 - 1596*(v)_{x}**5*v + 25200*(v)_{x}**4*v**3 + 12600*(v)_{x}**3*v**5 - 5040*(v)_{x}**2*v**7 - 1260*(v)_{x}*v**9)"
      ]
     },
     "metadata": {},
     "output_type": "display_data"
    },
    {
     "data": {
      "text/latex": [
       "$\\displaystyle \\text{mKdV}(v) = - (v)_{xxxxxxxxxx} + 22 (v)_{xxxxxxxx} v^{2} - 18 (v)_{xxxxxxxx} + 176 (v)_{xxxxxxx} (v)_{x} v + 484 (v)_{xxxxxx} (v)_{xx} v + 462 (v)_{xxxxxx} (v)_{x}^{2} - 198 (v)_{xxxxxx} v^{4} + 324 (v)_{xxxxxx} v^{2} - 126 (v)_{xxxxxx} + 836 (v)_{xxxxx} (v)_{xxx} v + 2376 (v)_{xxxxx} (v)_{xx} (v)_{x} - 2376 (v)_{xxxxx} (v)_{x} v^{3} + 1944 (v)_{xxxxx} (v)_{x} v + 506 (v)_{xxxx}^{2} v + 3696 (v)_{xxxx} (v)_{xxx} (v)_{x} + 2706 (v)_{xxxx} (v)_{xx}^{2} - 5016 (v)_{xxxx} (v)_{xx} v^{3} + 4104 (v)_{xxxx} (v)_{xx} v - 11220 (v)_{xxxx} (v)_{x}^{2} v^{2} + 3780 (v)_{xxxx} (v)_{x}^{2} + 924 (v)_{xxxx} v^{6} - 2268 (v)_{xxxx} v^{4} + 1764 (v)_{xxxx} v^{2} - 420 (v)_{xxxx} + 3498 (v)_{xxx}^{2} (v)_{xx} - 3036 (v)_{xxx}^{2} v^{3} + 2484 (v)_{xxx}^{2} v - 39336 (v)_{xxx} (v)_{xx} (v)_{x} v^{2} + 13608 (v)_{xxx} (v)_{xx} (v)_{x} - 21120 (v)_{xxx} (v)_{x}^{3} v + 11088 (v)_{xxx} (v)_{x} v^{5} - 18144 (v)_{xxx} (v)_{x} v^{3} + 7056 (v)_{xxx} (v)_{x} v - 9372 (v)_{xx}^{3} v^{2} + 3276 (v)_{xx}^{3} - 44748 (v)_{xx}^{2} (v)_{x}^{2} v + 8316 (v)_{xx}^{2} v^{5} - 13608 (v)_{xx}^{2} v^{3} + 5292 (v)_{xx}^{2} v - 13398 (v)_{xx} (v)_{x}^{4} + 54516 (v)_{xx} (v)_{x}^{2} v^{4} - 55944 (v)_{xx} (v)_{x}^{2} v^{2} + 8820 (v)_{xx} (v)_{x}^{2} - 2310 (v)_{xx} v^{8} + 7560 (v)_{xx} v^{6} - 8820 (v)_{xx} v^{4} + 4200 (v)_{xx} v^{2} - 630 (v)_{xx} + 26796 (v)_{x}^{4} v^{3} - 14364 (v)_{x}^{4} v - 9240 (v)_{x}^{2} v^{7} + 22680 (v)_{x}^{2} v^{5} - 17640 (v)_{x}^{2} v^{3} + 4200 (v)_{x}^{2} v + 252 v^{11} - 1260 v^{9} + 2520 v^{7} - 2520 v^{5} + 1260 v^{3} - 252 v$"
      ],
      "text/plain": [
       "Eq(\\text{mKdV}(v), -(v)_{xxxxxxxxxx} + 22*(v)_{xxxxxxxx}*v**2 - 18*(v)_{xxxxxxxx} + 176*(v)_{xxxxxxx}*(v)_{x}*v + 484*(v)_{xxxxxx}*(v)_{xx}*v + 462*(v)_{xxxxxx}*(v)_{x}**2 - 198*(v)_{xxxxxx}*v**4 + 324*(v)_{xxxxxx}*v**2 - 126*(v)_{xxxxxx} + 836*(v)_{xxxxx}*(v)_{xxx}*v + 2376*(v)_{xxxxx}*(v)_{xx}*(v)_{x} - 2376*(v)_{xxxxx}*(v)_{x}*v**3 + 1944*(v)_{xxxxx}*(v)_{x}*v + 506*(v)_{xxxx}**2*v + 3696*(v)_{xxxx}*(v)_{xxx}*(v)_{x} + 2706*(v)_{xxxx}*(v)_{xx}**2 - 5016*(v)_{xxxx}*(v)_{xx}*v**3 + 4104*(v)_{xxxx}*(v)_{xx}*v - 11220*(v)_{xxxx}*(v)_{x}**2*v**2 + 3780*(v)_{xxxx}*(v)_{x}**2 + 924*(v)_{xxxx}*v**6 - 2268*(v)_{xxxx}*v**4 + 1764*(v)_{xxxx}*v**2 - 420*(v)_{xxxx} + 3498*(v)_{xxx}**2*(v)_{xx} - 3036*(v)_{xxx}**2*v**3 + 2484*(v)_{xxx}**2*v - 39336*(v)_{xxx}*(v)_{xx}*(v)_{x}*v**2 + 13608*(v)_{xxx}*(v)_{xx}*(v)_{x} - 21120*(v)_{xxx}*(v)_{x}**3*v + 11088*(v)_{xxx}*(v)_{x}*v**5 - 18144*(v)_{xxx}*(v)_{x}*v**3 + 7056*(v)_{xxx}*(v)_{x}*v - 9372*(v)_{xx}**3*v**2 + 3276*(v)_{xx}**3 - 44748*(v)_{xx}**2*(v)_{x}**2*v + 8316*(v)_{xx}**2*v**5 - 13608*(v)_{xx}**2*v**3 + 5292*(v)_{xx}**2*v - 13398*(v)_{xx}*(v)_{x}**4 + 54516*(v)_{xx}*(v)_{x}**2*v**4 - 55944*(v)_{xx}*(v)_{x}**2*v**2 + 8820*(v)_{xx}*(v)_{x}**2 - 2310*(v)_{xx}*v**8 + 7560*(v)_{xx}*v**6 - 8820*(v)_{xx}*v**4 + 4200*(v)_{xx}*v**2 - 630*(v)_{xx} + 26796*(v)_{x}**4*v**3 - 14364*(v)_{x}**4*v - 9240*(v)_{x}**2*v**7 + 22680*(v)_{x}**2*v**5 - 17640*(v)_{x}**2*v**3 + 4200*(v)_{x}**2*v + 252*v**11 - 1260*v**9 + 2520*v**7 - 2520*v**5 + 1260*v**3 - 252*v)"
      ]
     },
     "metadata": {},
     "output_type": "display_data"
    },
    {
     "data": {
      "text/latex": [
       "$\\displaystyle (\\text{mKdV}(v))_{x} + 2 \\cdot v \\cdot \\text{mKdV}(v) = - (v)_{xxxxxxxxxxx} - 2 (v)_{xxxxxxxxxx} v + 22 (v)_{xxxxxxxxx} v^{2} - 18 (v)_{xxxxxxxxx} + 220 (v)_{xxxxxxxx} (v)_{x} v + 44 (v)_{xxxxxxxx} v^{3} - 36 (v)_{xxxxxxxx} v + 660 (v)_{xxxxxxx} (v)_{xx} v + 638 (v)_{xxxxxxx} (v)_{x}^{2} + 352 (v)_{xxxxxxx} (v)_{x} v^{2} - 198 (v)_{xxxxxxx} v^{4} + 324 (v)_{xxxxxxx} v^{2} - 126 (v)_{xxxxxxx} + 1320 (v)_{xxxxxx} (v)_{xxx} v + 3784 (v)_{xxxxxx} (v)_{xx} (v)_{x} + 968 (v)_{xxxxxx} (v)_{xx} v^{2} + 924 (v)_{xxxxxx} (v)_{x}^{2} v - 3168 (v)_{xxxxxx} (v)_{x} v^{3} + 2592 (v)_{xxxxxx} (v)_{x} v - 396 (v)_{xxxxxx} v^{5} + 648 (v)_{xxxxxx} v^{3} - 252 (v)_{xxxxxx} v + 1848 (v)_{xxxxx} (v)_{xxxx} v + 6908 (v)_{xxxxx} (v)_{xxx} (v)_{x} + 1672 (v)_{xxxxx} (v)_{xxx} v^{2} + 5082 (v)_{xxxxx} (v)_{xx}^{2} + 4752 (v)_{xxxxx} (v)_{xx} (v)_{x} v - 7392 (v)_{xxxxx} (v)_{xx} v^{3} + 6048 (v)_{xxxxx} (v)_{xx} v - 18348 (v)_{xxxxx} (v)_{x}^{2} v^{2} + 5724 (v)_{xxxxx} (v)_{x}^{2} - 4752 (v)_{xxxxx} (v)_{x} v^{4} + 3888 (v)_{xxxxx} (v)_{x} v^{2} + 924 (v)_{xxxxx} v^{6} - 2268 (v)_{xxxxx} v^{4} + 1764 (v)_{xxxxx} v^{2} - 420 (v)_{xxxxx} + 4202 (v)_{xxxx}^{2} (v)_{x} + 1012 (v)_{xxxx}^{2} v^{2} + 16104 (v)_{xxxx} (v)_{xxx} (v)_{xx} + 7392 (v)_{xxxx} (v)_{xxx} (v)_{x} v - 11088 (v)_{xxxx} (v)_{xxx} v^{3} + 9072 (v)_{xxxx} (v)_{xxx} v + 5412 (v)_{xxxx} (v)_{xx}^{2} v - 76824 (v)_{xxxx} (v)_{xx} (v)_{x} v^{2} + 25272 (v)_{xxxx} (v)_{xx} (v)_{x} - 10032 (v)_{xxxx} (v)_{xx} v^{4} + 8208 (v)_{xxxx} (v)_{xx} v^{2} - 43560 (v)_{xxxx} (v)_{x}^{3} v - 22440 (v)_{xxxx} (v)_{x}^{2} v^{3} + 7560 (v)_{xxxx} (v)_{x}^{2} v + 16632 (v)_{xxxx} (v)_{x} v^{5} - 27216 (v)_{xxxx} (v)_{x} v^{3} + 10584 (v)_{xxxx} (v)_{x} v + 1848 (v)_{xxxx} v^{7} - 4536 (v)_{xxxx} v^{5} + 3528 (v)_{xxxx} v^{3} - 840 (v)_{xxxx} v + 3498 (v)_{xxx}^{3} + 6996 (v)_{xxx}^{2} (v)_{xx} v - 48444 (v)_{xxx}^{2} (v)_{x} v^{2} + 16092 (v)_{xxx}^{2} (v)_{x} - 6072 (v)_{xxx}^{2} v^{4} + 4968 (v)_{xxx}^{2} v^{2} - 67452 (v)_{xxx} (v)_{xx}^{2} v^{2} + 23436 (v)_{xxx} (v)_{xx}^{2} - 231528 (v)_{xxx} (v)_{xx} (v)_{x}^{2} v - 78672 (v)_{xxx} (v)_{xx} (v)_{x} v^{3} + 27216 (v)_{xxx} (v)_{xx} (v)_{x} v + 27720 (v)_{xxx} (v)_{xx} v^{5} - 45360 (v)_{xxx} (v)_{xx} v^{3} + 17640 (v)_{xxx} (v)_{xx} v - 34518 (v)_{xxx} (v)_{x}^{4} - 42240 (v)_{xxx} (v)_{x}^{3} v^{2} + 109956 (v)_{xxx} (v)_{x}^{2} v^{4} - 110376 (v)_{xxx} (v)_{x}^{2} v^{2} + 15876 (v)_{xxx} (v)_{x}^{2} + 22176 (v)_{xxx} (v)_{x} v^{6} - 36288 (v)_{xxx} (v)_{x} v^{4} + 14112 (v)_{xxx} (v)_{x} v^{2} - 2310 (v)_{xxx} v^{8} + 7560 (v)_{xxx} v^{6} - 8820 (v)_{xxx} v^{4} + 4200 (v)_{xxx} v^{2} - 630 (v)_{xxx} - 108240 (v)_{xx}^{3} (v)_{x} v - 18744 (v)_{xx}^{3} v^{3} + 6552 (v)_{xx}^{3} v - 98340 (v)_{xx}^{2} (v)_{x}^{3} - 89496 (v)_{xx}^{2} (v)_{x}^{2} v^{2} + 150612 (v)_{xx}^{2} (v)_{x} v^{4} - 152712 (v)_{xx}^{2} (v)_{x} v^{2} + 22932 (v)_{xx}^{2} (v)_{x} + 16632 (v)_{xx}^{2} v^{6} - 27216 (v)_{xx}^{2} v^{4} + 10584 (v)_{xx}^{2} v^{2} - 26796 (v)_{xx} (v)_{x}^{4} v + 325248 (v)_{xx} (v)_{x}^{3} v^{3} - 169344 (v)_{xx} (v)_{x}^{3} v + 109032 (v)_{xx} (v)_{x}^{2} v^{5} - 111888 (v)_{xx} (v)_{x}^{2} v^{3} + 17640 (v)_{xx} (v)_{x}^{2} v - 36960 (v)_{xx} (v)_{x} v^{7} + 90720 (v)_{xx} (v)_{x} v^{5} - 70560 (v)_{xx} (v)_{x} v^{3} + 16800 (v)_{xx} (v)_{x} v - 4620 (v)_{xx} v^{9} + 15120 (v)_{xx} v^{7} - 17640 (v)_{xx} v^{5} + 8400 (v)_{xx} v^{3} - 1260 (v)_{xx} v + 80388 (v)_{x}^{5} v^{2} - 14364 (v)_{x}^{5} + 53592 (v)_{x}^{4} v^{4} - 28728 (v)_{x}^{4} v^{2} - 64680 (v)_{x}^{3} v^{6} + 113400 (v)_{x}^{3} v^{4} - 52920 (v)_{x}^{3} v^{2} + 4200 (v)_{x}^{3} - 18480 (v)_{x}^{2} v^{8} + 45360 (v)_{x}^{2} v^{6} - 35280 (v)_{x}^{2} v^{4} + 8400 (v)_{x}^{2} v^{2} + 2772 (v)_{x} v^{10} - 11340 (v)_{x} v^{8} + 17640 (v)_{x} v^{6} - 12600 (v)_{x} v^{4} + 3780 (v)_{x} v^{2} - 252 (v)_{x} + 504 v^{12} - 2520 v^{10} + 5040 v^{8} - 5040 v^{6} + 2520 v^{4} - 504 v^{2}$"
      ],
      "text/plain": [
       "Eq((\\text{mKdV}(v))_{x} + 2 \\cdot v \\cdot \\text{mKdV}(v), -(v)_{xxxxxxxxxxx} - 2*(v)_{xxxxxxxxxx}*v + 22*(v)_{xxxxxxxxx}*v**2 - 18*(v)_{xxxxxxxxx} + 220*(v)_{xxxxxxxx}*(v)_{x}*v + 44*(v)_{xxxxxxxx}*v**3 - 36*(v)_{xxxxxxxx}*v + 660*(v)_{xxxxxxx}*(v)_{xx}*v + 638*(v)_{xxxxxxx}*(v)_{x}**2 + 352*(v)_{xxxxxxx}*(v)_{x}*v**2 - 198*(v)_{xxxxxxx}*v**4 + 324*(v)_{xxxxxxx}*v**2 - 126*(v)_{xxxxxxx} + 1320*(v)_{xxxxxx}*(v)_{xxx}*v + 3784*(v)_{xxxxxx}*(v)_{xx}*(v)_{x} + 968*(v)_{xxxxxx}*(v)_{xx}*v**2 + 924*(v)_{xxxxxx}*(v)_{x}**2*v - 3168*(v)_{xxxxxx}*(v)_{x}*v**3 + 2592*(v)_{xxxxxx}*(v)_{x}*v - 396*(v)_{xxxxxx}*v**5 + 648*(v)_{xxxxxx}*v**3 - 252*(v)_{xxxxxx}*v + 1848*(v)_{xxxxx}*(v)_{xxxx}*v + 6908*(v)_{xxxxx}*(v)_{xxx}*(v)_{x} + 1672*(v)_{xxxxx}*(v)_{xxx}*v**2 + 5082*(v)_{xxxxx}*(v)_{xx}**2 + 4752*(v)_{xxxxx}*(v)_{xx}*(v)_{x}*v - 7392*(v)_{xxxxx}*(v)_{xx}*v**3 + 6048*(v)_{xxxxx}*(v)_{xx}*v - 18348*(v)_{xxxxx}*(v)_{x}**2*v**2 + 5724*(v)_{xxxxx}*(v)_{x}**2 - 4752*(v)_{xxxxx}*(v)_{x}*v**4 + 3888*(v)_{xxxxx}*(v)_{x}*v**2 + 924*(v)_{xxxxx}*v**6 - 2268*(v)_{xxxxx}*v**4 + 1764*(v)_{xxxxx}*v**2 - 420*(v)_{xxxxx} + 4202*(v)_{xxxx}**2*(v)_{x} + 1012*(v)_{xxxx}**2*v**2 + 16104*(v)_{xxxx}*(v)_{xxx}*(v)_{xx} + 7392*(v)_{xxxx}*(v)_{xxx}*(v)_{x}*v - 11088*(v)_{xxxx}*(v)_{xxx}*v**3 + 9072*(v)_{xxxx}*(v)_{xxx}*v + 5412*(v)_{xxxx}*(v)_{xx}**2*v - 76824*(v)_{xxxx}*(v)_{xx}*(v)_{x}*v**2 + 25272*(v)_{xxxx}*(v)_{xx}*(v)_{x} - 10032*(v)_{xxxx}*(v)_{xx}*v**4 + 8208*(v)_{xxxx}*(v)_{xx}*v**2 - 43560*(v)_{xxxx}*(v)_{x}**3*v - 22440*(v)_{xxxx}*(v)_{x}**2*v**3 + 7560*(v)_{xxxx}*(v)_{x}**2*v + 16632*(v)_{xxxx}*(v)_{x}*v**5 - 27216*(v)_{xxxx}*(v)_{x}*v**3 + 10584*(v)_{xxxx}*(v)_{x}*v + 1848*(v)_{xxxx}*v**7 - 4536*(v)_{xxxx}*v**5 + 3528*(v)_{xxxx}*v**3 - 840*(v)_{xxxx}*v + 3498*(v)_{xxx}**3 + 6996*(v)_{xxx}**2*(v)_{xx}*v - 48444*(v)_{xxx}**2*(v)_{x}*v**2 + 16092*(v)_{xxx}**2*(v)_{x} - 6072*(v)_{xxx}**2*v**4 + 4968*(v)_{xxx}**2*v**2 - 67452*(v)_{xxx}*(v)_{xx}**2*v**2 + 23436*(v)_{xxx}*(v)_{xx}**2 - 231528*(v)_{xxx}*(v)_{xx}*(v)_{x}**2*v - 78672*(v)_{xxx}*(v)_{xx}*(v)_{x}*v**3 + 27216*(v)_{xxx}*(v)_{xx}*(v)_{x}*v + 27720*(v)_{xxx}*(v)_{xx}*v**5 - 45360*(v)_{xxx}*(v)_{xx}*v**3 + 17640*(v)_{xxx}*(v)_{xx}*v - 34518*(v)_{xxx}*(v)_{x}**4 - 42240*(v)_{xxx}*(v)_{x}**3*v**2 + 109956*(v)_{xxx}*(v)_{x}**2*v**4 - 110376*(v)_{xxx}*(v)_{x}**2*v**2 + 15876*(v)_{xxx}*(v)_{x}**2 + 22176*(v)_{xxx}*(v)_{x}*v**6 - 36288*(v)_{xxx}*(v)_{x}*v**4 + 14112*(v)_{xxx}*(v)_{x}*v**2 - 2310*(v)_{xxx}*v**8 + 7560*(v)_{xxx}*v**6 - 8820*(v)_{xxx}*v**4 + 4200*(v)_{xxx}*v**2 - 630*(v)_{xxx} - 108240*(v)_{xx}**3*(v)_{x}*v - 18744*(v)_{xx}**3*v**3 + 6552*(v)_{xx}**3*v - 98340*(v)_{xx}**2*(v)_{x}**3 - 89496*(v)_{xx}**2*(v)_{x}**2*v**2 + 150612*(v)_{xx}**2*(v)_{x}*v**4 - 152712*(v)_{xx}**2*(v)_{x}*v**2 + 22932*(v)_{xx}**2*(v)_{x} + 16632*(v)_{xx}**2*v**6 - 27216*(v)_{xx}**2*v**4 + 10584*(v)_{xx}**2*v**2 - 26796*(v)_{xx}*(v)_{x}**4*v + 325248*(v)_{xx}*(v)_{x}**3*v**3 - 169344*(v)_{xx}*(v)_{x}**3*v + 109032*(v)_{xx}*(v)_{x}**2*v**5 - 111888*(v)_{xx}*(v)_{x}**2*v**3 + 17640*(v)_{xx}*(v)_{x}**2*v - 36960*(v)_{xx}*(v)_{x}*v**7 + 90720*(v)_{xx}*(v)_{x}*v**5 - 70560*(v)_{xx}*(v)_{x}*v**3 + 16800*(v)_{xx}*(v)_{x}*v - 4620*(v)_{xx}*v**9 + 15120*(v)_{xx}*v**7 - 17640*(v)_{xx}*v**5 + 8400*(v)_{xx}*v**3 - 1260*(v)_{xx}*v + 80388*(v)_{x}**5*v**2 - 14364*(v)_{x}**5 + 53592*(v)_{x}**4*v**4 - 28728*(v)_{x}**4*v**2 - 64680*(v)_{x}**3*v**6 + 113400*(v)_{x}**3*v**4 - 52920*(v)_{x}**3*v**2 + 4200*(v)_{x}**3 - 18480*(v)_{x}**2*v**8 + 45360*(v)_{x}**2*v**6 - 35280*(v)_{x}**2*v**4 + 8400*(v)_{x}**2*v**2 + 2772*(v)_{x}*v**10 - 11340*(v)_{x}*v**8 + 17640*(v)_{x}*v**6 - 12600*(v)_{x}*v**4 + 3780*(v)_{x}*v**2 - 252*(v)_{x} + 504*v**12 - 2520*v**10 + 5040*v**8 - 5040*v**6 + 2520*v**4 - 504*v**2)"
      ]
     },
     "metadata": {},
     "output_type": "display_data"
    },
    {
     "data": {
      "text/latex": [
       "$\\displaystyle (\\text{mKdV}(v))_{x} + 2 \\cdot v \\cdot \\text{mKdV}(v) - \\text{KdV}(\\text{Miura}(v)) = - (v)_{xxxxxxxxxxx} - 2 (v)_{xxxxxxxxxx} v + (v)_{xxxxxxxxxx} + 22 (v)_{xxxxxxxxx} v^{2} + 2 (v)_{xxxxxxxxx} v - 18 (v)_{xxxxxxxxx} + 220 (v)_{xxxxxxxx} (v)_{x} v + 44 (v)_{xxxxxxxx} v^{3} - 18 (v)_{xxxxxxxx} v^{2} - 36 (v)_{xxxxxxxx} v + 660 (v)_{xxxxxxx} (v)_{xx} v + 638 (v)_{xxxxxxx} (v)_{x}^{2} + 352 (v)_{xxxxxxx} (v)_{x} v^{2} - 180 (v)_{xxxxxxx} (v)_{x} v - 198 (v)_{xxxxxxx} v^{4} - 36 (v)_{xxxxxxx} v^{3} + 324 (v)_{xxxxxxx} v^{2} - 126 (v)_{xxxxxxx} + 1320 (v)_{xxxxxx} (v)_{xxx} v + 3784 (v)_{xxxxxx} (v)_{xx} (v)_{x} + 968 (v)_{xxxxxx} (v)_{xx} v^{2} - 480 (v)_{xxxxxx} (v)_{xx} v + 924 (v)_{xxxxxx} (v)_{x}^{2} v - 462 (v)_{xxxxxx} (v)_{x}^{2} - 3168 (v)_{xxxxxx} (v)_{x} v^{3} - 288 (v)_{xxxxxx} (v)_{x} v^{2} + 2592 (v)_{xxxxxx} (v)_{x} v - 396 (v)_{xxxxxx} v^{5} + 126 (v)_{xxxxxx} v^{4} + 648 (v)_{xxxxxx} v^{3} - 252 (v)_{xxxxxx} v + 1848 (v)_{xxxxx} (v)_{xxxx} v + 6908 (v)_{xxxxx} (v)_{xxx} (v)_{x} + 1672 (v)_{xxxxx} (v)_{xxx} v^{2} - 840 (v)_{xxxxx} (v)_{xxx} v + 5082 (v)_{xxxxx} (v)_{xx}^{2} + 4752 (v)_{xxxxx} (v)_{xx} (v)_{x} v - 2376 (v)_{xxxxx} (v)_{xx} (v)_{x} - 7392 (v)_{xxxxx} (v)_{xx} v^{3} - 672 (v)_{xxxxx} (v)_{xx} v^{2} + 6048 (v)_{xxxxx} (v)_{xx} v - 18348 (v)_{xxxxx} (v)_{x}^{2} v^{2} - 636 (v)_{xxxxx} (v)_{x}^{2} v + 5724 (v)_{xxxxx} (v)_{x}^{2} - 4752 (v)_{xxxxx} (v)_{x} v^{4} + 2016 (v)_{xxxxx} (v)_{x} v^{3} + 3888 (v)_{xxxxx} (v)_{x} v^{2} + 924 (v)_{xxxxx} v^{6} + 252 (v)_{xxxxx} v^{5} - 2268 (v)_{xxxxx} v^{4} + 1764 (v)_{xxxxx} v^{2} - 420 (v)_{xxxxx} + 4202 (v)_{xxxx}^{2} (v)_{x} + 1012 (v)_{xxxx}^{2} v^{2} - 504 (v)_{xxxx}^{2} v + 16104 (v)_{xxxx} (v)_{xxx} (v)_{xx} + 7392 (v)_{xxxx} (v)_{xxx} (v)_{x} v - 3696 (v)_{xxxx} (v)_{xxx} (v)_{x} - 11088 (v)_{xxxx} (v)_{xxx} v^{3} - 1008 (v)_{xxxx} (v)_{xxx} v^{2} + 9072 (v)_{xxxx} (v)_{xxx} v + 5412 (v)_{xxxx} (v)_{xx}^{2} v - 2706 (v)_{xxxx} (v)_{xx}^{2} - 76824 (v)_{xxxx} (v)_{xx} (v)_{x} v^{2} - 2808 (v)_{xxxx} (v)_{xx} (v)_{x} v + 25272 (v)_{xxxx} (v)_{xx} (v)_{x} - 10032 (v)_{xxxx} (v)_{xx} v^{4} + 4032 (v)_{xxxx} (v)_{xx} v^{3} + 8208 (v)_{xxxx} (v)_{xx} v^{2} - 43560 (v)_{xxxx} (v)_{x}^{3} v - 22440 (v)_{xxxx} (v)_{x}^{2} v^{3} + 10668 (v)_{xxxx} (v)_{x}^{2} v^{2} + 7560 (v)_{xxxx} (v)_{x}^{2} v + 16632 (v)_{xxxx} (v)_{x} v^{5} + 3024 (v)_{xxxx} (v)_{x} v^{4} - 27216 (v)_{xxxx} (v)_{x} v^{3} + 10584 (v)_{xxxx} (v)_{x} v + 1848 (v)_{xxxx} v^{7} - 420 (v)_{xxxx} v^{6} - 4536 (v)_{xxxx} v^{5} + 3528 (v)_{xxxx} v^{3} - 840 (v)_{xxxx} v + 3498 (v)_{xxx}^{3} + 6996 (v)_{xxx}^{2} (v)_{xx} v - 3498 (v)_{xxx}^{2} (v)_{xx} - 48444 (v)_{xxx}^{2} (v)_{x} v^{2} - 1788 (v)_{xxx}^{2} (v)_{x} v + 16092 (v)_{xxx}^{2} (v)_{x} - 6072 (v)_{xxx}^{2} v^{4} + 2520 (v)_{xxx}^{2} v^{3} + 4968 (v)_{xxx}^{2} v^{2} - 67452 (v)_{xxx} (v)_{xx}^{2} v^{2} - 2604 (v)_{xxx} (v)_{xx}^{2} v + 23436 (v)_{xxx} (v)_{xx}^{2} - 231528 (v)_{xxx} (v)_{xx} (v)_{x}^{2} v - 78672 (v)_{xxx} (v)_{xx} (v)_{x} v^{3} + 36792 (v)_{xxx} (v)_{xx} (v)_{x} v^{2} + 27216 (v)_{xxx} (v)_{xx} (v)_{x} v + 27720 (v)_{xxx} (v)_{xx} v^{5} + 5040 (v)_{xxx} (v)_{xx} v^{4} - 45360 (v)_{xxx} (v)_{xx} v^{3} + 17640 (v)_{xxx} (v)_{xx} v - 34518 (v)_{xxx} (v)_{x}^{4} - 42240 (v)_{xxx} (v)_{x}^{3} v^{2} + 21672 (v)_{xxx} (v)_{x}^{3} v + 109956 (v)_{xxx} (v)_{x}^{2} v^{4} + 12264 (v)_{xxx} (v)_{x}^{2} v^{3} - 110376 (v)_{xxx} (v)_{x}^{2} v^{2} + 15876 (v)_{xxx} (v)_{x}^{2} + 22176 (v)_{xxx} (v)_{x} v^{6} - 7560 (v)_{xxx} (v)_{x} v^{5} - 36288 (v)_{xxx} (v)_{x} v^{4} + 14112 (v)_{xxx} (v)_{x} v^{2} - 2310 (v)_{xxx} v^{8} - 840 (v)_{xxx} v^{7} + 7560 (v)_{xxx} v^{6} - 8820 (v)_{xxx} v^{4} + 4200 (v)_{xxx} v^{2} - 630 (v)_{xxx} - 108240 (v)_{xx}^{3} (v)_{x} v - 18744 (v)_{xx}^{3} v^{3} + 8484 (v)_{xx}^{3} v^{2} + 6552 (v)_{xx}^{3} v - 98340 (v)_{xx}^{2} (v)_{x}^{3} - 89496 (v)_{xx}^{2} (v)_{x}^{2} v^{2} + 45192 (v)_{xx}^{2} (v)_{x}^{2} v + 150612 (v)_{xx}^{2} (v)_{x} v^{4} + 16968 (v)_{xx}^{2} (v)_{x} v^{3} - 152712 (v)_{xx}^{2} (v)_{x} v^{2} + 22932 (v)_{xx}^{2} (v)_{x} + 16632 (v)_{xx}^{2} v^{6} - 5040 (v)_{xx}^{2} v^{5} - 27216 (v)_{xx}^{2} v^{4} + 10584 (v)_{xx}^{2} v^{2} - 26796 (v)_{xx} (v)_{x}^{4} v + 13398 (v)_{xx} (v)_{x}^{4} + 325248 (v)_{xx} (v)_{x}^{3} v^{3} + 18816 (v)_{xx} (v)_{x}^{3} v^{2} - 169344 (v)_{xx} (v)_{x}^{3} v + 109032 (v)_{xx} (v)_{x}^{2} v^{5} - 44100 (v)_{xx} (v)_{x}^{2} v^{4} - 111888 (v)_{xx} (v)_{x}^{2} v^{3} + 17640 (v)_{xx} (v)_{x}^{2} v - 36960 (v)_{xx} (v)_{x} v^{7} - 10080 (v)_{xx} (v)_{x} v^{6} + 90720 (v)_{xx} (v)_{x} v^{5} - 70560 (v)_{xx} (v)_{x} v^{3} + 16800 (v)_{xx} (v)_{x} v - 4620 (v)_{xx} v^{9} + 630 (v)_{xx} v^{8} + 15120 (v)_{xx} v^{7} - 17640 (v)_{xx} v^{5} + 8400 (v)_{xx} v^{3} - 1260 (v)_{xx} v + 80388 (v)_{x}^{5} v^{2} + 1596 (v)_{x}^{5} v - 14364 (v)_{x}^{5} + 53592 (v)_{x}^{4} v^{4} - 25200 (v)_{x}^{4} v^{3} - 28728 (v)_{x}^{4} v^{2} - 64680 (v)_{x}^{3} v^{6} - 12600 (v)_{x}^{3} v^{5} + 113400 (v)_{x}^{3} v^{4} - 52920 (v)_{x}^{3} v^{2} + 4200 (v)_{x}^{3} - 18480 (v)_{x}^{2} v^{8} + 5040 (v)_{x}^{2} v^{7} + 45360 (v)_{x}^{2} v^{6} - 35280 (v)_{x}^{2} v^{4} + 8400 (v)_{x}^{2} v^{2} + 2772 (v)_{x} v^{10} + 1260 (v)_{x} v^{9} - 11340 (v)_{x} v^{8} + 17640 (v)_{x} v^{6} - 12600 (v)_{x} v^{4} + 3780 (v)_{x} v^{2} - 252 (v)_{x} + 504 v^{12} - 2520 v^{10} + 5040 v^{8} - 5040 v^{6} + 2520 v^{4} - 504 v^{2}$"
      ],
      "text/plain": [
       "Eq((\\text{mKdV}(v))_{x} + 2 \\cdot v \\cdot \\text{mKdV}(v) - \\text{KdV}(\\text{Miura}(v)), -(v)_{xxxxxxxxxxx} - 2*(v)_{xxxxxxxxxx}*v + (v)_{xxxxxxxxxx} + 22*(v)_{xxxxxxxxx}*v**2 + 2*(v)_{xxxxxxxxx}*v - 18*(v)_{xxxxxxxxx} + 220*(v)_{xxxxxxxx}*(v)_{x}*v + 44*(v)_{xxxxxxxx}*v**3 - 18*(v)_{xxxxxxxx}*v**2 - 36*(v)_{xxxxxxxx}*v + 660*(v)_{xxxxxxx}*(v)_{xx}*v + 638*(v)_{xxxxxxx}*(v)_{x}**2 + 352*(v)_{xxxxxxx}*(v)_{x}*v**2 - 180*(v)_{xxxxxxx}*(v)_{x}*v - 198*(v)_{xxxxxxx}*v**4 - 36*(v)_{xxxxxxx}*v**3 + 324*(v)_{xxxxxxx}*v**2 - 126*(v)_{xxxxxxx} + 1320*(v)_{xxxxxx}*(v)_{xxx}*v + 3784*(v)_{xxxxxx}*(v)_{xx}*(v)_{x} + 968*(v)_{xxxxxx}*(v)_{xx}*v**2 - 480*(v)_{xxxxxx}*(v)_{xx}*v + 924*(v)_{xxxxxx}*(v)_{x}**2*v - 462*(v)_{xxxxxx}*(v)_{x}**2 - 3168*(v)_{xxxxxx}*(v)_{x}*v**3 - 288*(v)_{xxxxxx}*(v)_{x}*v**2 + 2592*(v)_{xxxxxx}*(v)_{x}*v - 396*(v)_{xxxxxx}*v**5 + 126*(v)_{xxxxxx}*v**4 + 648*(v)_{xxxxxx}*v**3 - 252*(v)_{xxxxxx}*v + 1848*(v)_{xxxxx}*(v)_{xxxx}*v + 6908*(v)_{xxxxx}*(v)_{xxx}*(v)_{x} + 1672*(v)_{xxxxx}*(v)_{xxx}*v**2 - 840*(v)_{xxxxx}*(v)_{xxx}*v + 5082*(v)_{xxxxx}*(v)_{xx}**2 + 4752*(v)_{xxxxx}*(v)_{xx}*(v)_{x}*v - 2376*(v)_{xxxxx}*(v)_{xx}*(v)_{x} - 7392*(v)_{xxxxx}*(v)_{xx}*v**3 - 672*(v)_{xxxxx}*(v)_{xx}*v**2 + 6048*(v)_{xxxxx}*(v)_{xx}*v - 18348*(v)_{xxxxx}*(v)_{x}**2*v**2 - 636*(v)_{xxxxx}*(v)_{x}**2*v + 5724*(v)_{xxxxx}*(v)_{x}**2 - 4752*(v)_{xxxxx}*(v)_{x}*v**4 + 2016*(v)_{xxxxx}*(v)_{x}*v**3 + 3888*(v)_{xxxxx}*(v)_{x}*v**2 + 924*(v)_{xxxxx}*v**6 + 252*(v)_{xxxxx}*v**5 - 2268*(v)_{xxxxx}*v**4 + 1764*(v)_{xxxxx}*v**2 - 420*(v)_{xxxxx} + 4202*(v)_{xxxx}**2*(v)_{x} + 1012*(v)_{xxxx}**2*v**2 - 504*(v)_{xxxx}**2*v + 16104*(v)_{xxxx}*(v)_{xxx}*(v)_{xx} + 7392*(v)_{xxxx}*(v)_{xxx}*(v)_{x}*v - 3696*(v)_{xxxx}*(v)_{xxx}*(v)_{x} - 11088*(v)_{xxxx}*(v)_{xxx}*v**3 - 1008*(v)_{xxxx}*(v)_{xxx}*v**2 + 9072*(v)_{xxxx}*(v)_{xxx}*v + 5412*(v)_{xxxx}*(v)_{xx}**2*v - 2706*(v)_{xxxx}*(v)_{xx}**2 - 76824*(v)_{xxxx}*(v)_{xx}*(v)_{x}*v**2 - 2808*(v)_{xxxx}*(v)_{xx}*(v)_{x}*v + 25272*(v)_{xxxx}*(v)_{xx}*(v)_{x} - 10032*(v)_{xxxx}*(v)_{xx}*v**4 + 4032*(v)_{xxxx}*(v)_{xx}*v**3 + 8208*(v)_{xxxx}*(v)_{xx}*v**2 - 43560*(v)_{xxxx}*(v)_{x}**3*v - 22440*(v)_{xxxx}*(v)_{x}**2*v**3 + 10668*(v)_{xxxx}*(v)_{x}**2*v**2 + 7560*(v)_{xxxx}*(v)_{x}**2*v + 16632*(v)_{xxxx}*(v)_{x}*v**5 + 3024*(v)_{xxxx}*(v)_{x}*v**4 - 27216*(v)_{xxxx}*(v)_{x}*v**3 + 10584*(v)_{xxxx}*(v)_{x}*v + 1848*(v)_{xxxx}*v**7 - 420*(v)_{xxxx}*v**6 - 4536*(v)_{xxxx}*v**5 + 3528*(v)_{xxxx}*v**3 - 840*(v)_{xxxx}*v + 3498*(v)_{xxx}**3 + 6996*(v)_{xxx}**2*(v)_{xx}*v - 3498*(v)_{xxx}**2*(v)_{xx} - 48444*(v)_{xxx}**2*(v)_{x}*v**2 - 1788*(v)_{xxx}**2*(v)_{x}*v + 16092*(v)_{xxx}**2*(v)_{x} - 6072*(v)_{xxx}**2*v**4 + 2520*(v)_{xxx}**2*v**3 + 4968*(v)_{xxx}**2*v**2 - 67452*(v)_{xxx}*(v)_{xx}**2*v**2 - 2604*(v)_{xxx}*(v)_{xx}**2*v + 23436*(v)_{xxx}*(v)_{xx}**2 - 231528*(v)_{xxx}*(v)_{xx}*(v)_{x}**2*v - 78672*(v)_{xxx}*(v)_{xx}*(v)_{x}*v**3 + 36792*(v)_{xxx}*(v)_{xx}*(v)_{x}*v**2 + 27216*(v)_{xxx}*(v)_{xx}*(v)_{x}*v + 27720*(v)_{xxx}*(v)_{xx}*v**5 + 5040*(v)_{xxx}*(v)_{xx}*v**4 - 45360*(v)_{xxx}*(v)_{xx}*v**3 + 17640*(v)_{xxx}*(v)_{xx}*v - 34518*(v)_{xxx}*(v)_{x}**4 - 42240*(v)_{xxx}*(v)_{x}**3*v**2 + 21672*(v)_{xxx}*(v)_{x}**3*v + 109956*(v)_{xxx}*(v)_{x}**2*v**4 + 12264*(v)_{xxx}*(v)_{x}**2*v**3 - 110376*(v)_{xxx}*(v)_{x}**2*v**2 + 15876*(v)_{xxx}*(v)_{x}**2 + 22176*(v)_{xxx}*(v)_{x}*v**6 - 7560*(v)_{xxx}*(v)_{x}*v**5 - 36288*(v)_{xxx}*(v)_{x}*v**4 + 14112*(v)_{xxx}*(v)_{x}*v**2 - 2310*(v)_{xxx}*v**8 - 840*(v)_{xxx}*v**7 + 7560*(v)_{xxx}*v**6 - 8820*(v)_{xxx}*v**4 + 4200*(v)_{xxx}*v**2 - 630*(v)_{xxx} - 108240*(v)_{xx}**3*(v)_{x}*v - 18744*(v)_{xx}**3*v**3 + 8484*(v)_{xx}**3*v**2 + 6552*(v)_{xx}**3*v - 98340*(v)_{xx}**2*(v)_{x}**3 - 89496*(v)_{xx}**2*(v)_{x}**2*v**2 + 45192*(v)_{xx}**2*(v)_{x}**2*v + 150612*(v)_{xx}**2*(v)_{x}*v**4 + 16968*(v)_{xx}**2*(v)_{x}*v**3 - 152712*(v)_{xx}**2*(v)_{x}*v**2 + 22932*(v)_{xx}**2*(v)_{x} + 16632*(v)_{xx}**2*v**6 - 5040*(v)_{xx}**2*v**5 - 27216*(v)_{xx}**2*v**4 + 10584*(v)_{xx}**2*v**2 - 26796*(v)_{xx}*(v)_{x}**4*v + 13398*(v)_{xx}*(v)_{x}**4 + 325248*(v)_{xx}*(v)_{x}**3*v**3 + 18816*(v)_{xx}*(v)_{x}**3*v**2 - 169344*(v)_{xx}*(v)_{x}**3*v + 109032*(v)_{xx}*(v)_{x}**2*v**5 - 44100*(v)_{xx}*(v)_{x}**2*v**4 - 111888*(v)_{xx}*(v)_{x}**2*v**3 + 17640*(v)_{xx}*(v)_{x}**2*v - 36960*(v)_{xx}*(v)_{x}*v**7 - 10080*(v)_{xx}*(v)_{x}*v**6 + 90720*(v)_{xx}*(v)_{x}*v**5 - 70560*(v)_{xx}*(v)_{x}*v**3 + 16800*(v)_{xx}*(v)_{x}*v - 4620*(v)_{xx}*v**9 + 630*(v)_{xx}*v**8 + 15120*(v)_{xx}*v**7 - 17640*(v)_{xx}*v**5 + 8400*(v)_{xx}*v**3 - 1260*(v)_{xx}*v + 80388*(v)_{x}**5*v**2 + 1596*(v)_{x}**5*v - 14364*(v)_{x}**5 + 53592*(v)_{x}**4*v**4 - 25200*(v)_{x}**4*v**3 - 28728*(v)_{x}**4*v**2 - 64680*(v)_{x}**3*v**6 - 12600*(v)_{x}**3*v**5 + 113400*(v)_{x}**3*v**4 - 52920*(v)_{x}**3*v**2 + 4200*(v)_{x}**3 - 18480*(v)_{x}**2*v**8 + 5040*(v)_{x}**2*v**7 + 45360*(v)_{x}**2*v**6 - 35280*(v)_{x}**2*v**4 + 8400*(v)_{x}**2*v**2 + 2772*(v)_{x}*v**10 + 1260*(v)_{x}*v**9 - 11340*(v)_{x}*v**8 + 17640*(v)_{x}*v**6 - 12600*(v)_{x}*v**4 + 3780*(v)_{x}*v**2 - 252*(v)_{x} + 504*v**12 - 2520*v**10 + 5040*v**8 - 5040*v**6 + 2520*v**4 - 504*v**2)"
      ]
     },
     "metadata": {},
     "output_type": "display_data"
    }
   ],
   "source": [
    "def miura(expr):\n",
    "    return substituter(expr, u, deriv(v) + v**2)\n",
    "\n",
    "for n in range(0, N, 2):\n",
    "    print(\"n =\", n)\n",
    "    KdV = - simplify(Rational(1,2) * deriv(variation(SS_eq[n+1], u)))\n",
    "    KdVMiura = simplify(miura(KdV))\n",
    "    mKdV = simplify(multi_substituter(variation(sigq_eq[n+1], q_conj), [(q, v), (q_conj, v)]))\n",
    "    display(Eq(Symbol('\\\\text{KdV}(u)'), KdV))\n",
    "    display(Eq(Symbol('\\\\text{KdV}(\\\\text{Miura}(v))'), KdVMiura))\n",
    "    display(Eq(Symbol('\\\\text{mKdV}(v)'), mKdV))\n",
    "    display(Eq(Symbol('(\\\\text{mKdV}(v))_{x} + 2 \\cdot v \\cdot \\\\text{mKdV}(v)'), simplify(deriv(mKdV) + 2 * v * mKdV)))\n",
    "    display(Eq(Symbol('(\\\\text{mKdV}(v))_{x} + 2 \\cdot v \\cdot \\\\text{mKdV}(v) - \\\\text{KdV}(\\\\text{Miura}(v))'), simplify(deriv(mKdV) + 2 * v * mKdV - KdVMiura)))"
   ]
  },
  {
   "cell_type": "code",
   "execution_count": 49,
   "id": "858dae96",
   "metadata": {},
   "outputs": [
    {
     "name": "stdout",
     "output_type": "stream",
     "text": [
      "n = 0\n"
     ]
    },
    {
     "data": {
      "text/latex": [
       "$\\displaystyle \\text{KdV}(u) = 0$"
      ],
      "text/plain": [
       "Eq(\\text{KdV}(u), 0)"
      ]
     },
     "metadata": {},
     "output_type": "display_data"
    },
    {
     "data": {
      "text/latex": [
       "$\\displaystyle \\text{KdV}(\\text{Miura}(v)) = 0$"
      ],
      "text/plain": [
       "Eq(\\text{KdV}(\\text{Miura}(v)), 0)"
      ]
     },
     "metadata": {},
     "output_type": "display_data"
    },
    {
     "data": {
      "text/latex": [
       "$\\displaystyle \\text{mKdV}(v) = 0$"
      ],
      "text/plain": [
       "Eq(\\text{mKdV}(v), 0)"
      ]
     },
     "metadata": {},
     "output_type": "display_data"
    },
    {
     "data": {
      "text/latex": [
       "$\\displaystyle (\\text{mKdV}(v))_{x} + 2 \\cdot v \\cdot \\text{mKdV}(v) = 0$"
      ],
      "text/plain": [
       "Eq((\\text{mKdV}(v))_{x} + 2 \\cdot v \\cdot \\text{mKdV}(v), 0)"
      ]
     },
     "metadata": {},
     "output_type": "display_data"
    },
    {
     "data": {
      "text/latex": [
       "$\\displaystyle (\\text{mKdV}(v))_{x} + 2 \\cdot v \\cdot \\text{mKdV}(v) - \\text{KdV}(\\text{Miura}(v)) = 0$"
      ],
      "text/plain": [
       "Eq((\\text{mKdV}(v))_{x} + 2 \\cdot v \\cdot \\text{mKdV}(v) - \\text{KdV}(\\text{Miura}(v)), 0)"
      ]
     },
     "metadata": {},
     "output_type": "display_data"
    },
    {
     "name": "stdout",
     "output_type": "stream",
     "text": [
      "n = 2\n"
     ]
    },
    {
     "data": {
      "text/latex": [
       "$\\displaystyle \\text{KdV}(u) = - (u)_{x}$"
      ],
      "text/plain": [
       "Eq(\\text{KdV}(u), -(u)_{x})"
      ]
     },
     "metadata": {},
     "output_type": "display_data"
    },
    {
     "data": {
      "text/latex": [
       "$\\displaystyle \\text{KdV}(\\text{Miura}(v)) = - (v)_{xx} - 2 (v)_{x} v$"
      ],
      "text/plain": [
       "Eq(\\text{KdV}(\\text{Miura}(v)), -(v)_{xx} - 2*(v)_{x}*v)"
      ]
     },
     "metadata": {},
     "output_type": "display_data"
    },
    {
     "data": {
      "text/latex": [
       "$\\displaystyle \\text{mKdV}(v) = - (v)_{x}$"
      ],
      "text/plain": [
       "Eq(\\text{mKdV}(v), -(v)_{x})"
      ]
     },
     "metadata": {},
     "output_type": "display_data"
    },
    {
     "data": {
      "text/latex": [
       "$\\displaystyle (\\text{mKdV}(v))_{x} + 2 \\cdot v \\cdot \\text{mKdV}(v) = - (v)_{xx} - 2 (v)_{x} v$"
      ],
      "text/plain": [
       "Eq((\\text{mKdV}(v))_{x} + 2 \\cdot v \\cdot \\text{mKdV}(v), -(v)_{xx} - 2*(v)_{x}*v)"
      ]
     },
     "metadata": {},
     "output_type": "display_data"
    },
    {
     "data": {
      "text/latex": [
       "$\\displaystyle (\\text{mKdV}(v))_{x} + 2 \\cdot v \\cdot \\text{mKdV}(v) - \\text{KdV}(\\text{Miura}(v)) = 0$"
      ],
      "text/plain": [
       "Eq((\\text{mKdV}(v))_{x} + 2 \\cdot v \\cdot \\text{mKdV}(v) - \\text{KdV}(\\text{Miura}(v)), 0)"
      ]
     },
     "metadata": {},
     "output_type": "display_data"
    },
    {
     "name": "stdout",
     "output_type": "stream",
     "text": [
      "n = 4\n"
     ]
    },
    {
     "data": {
      "text/latex": [
       "$\\displaystyle \\text{KdV}(u) = - (u)_{xxx} + 6 (u)_{x} u$"
      ],
      "text/plain": [
       "Eq(\\text{KdV}(u), -(u)_{xxx} + 6*(u)_{x}*u)"
      ]
     },
     "metadata": {},
     "output_type": "display_data"
    },
    {
     "data": {
      "text/latex": [
       "$\\displaystyle \\text{KdV}(\\text{Miura}(v)) = - (v)_{xxxx} - 2 (v)_{xxx} v + 6 (v)_{xx} v^{2} + 12 (v)_{x}^{2} v + 12 (v)_{x} v^{3}$"
      ],
      "text/plain": [
       "Eq(\\text{KdV}(\\text{Miura}(v)), -(v)_{xxxx} - 2*(v)_{xxx}*v + 6*(v)_{xx}*v**2 + 12*(v)_{x}**2*v + 12*(v)_{x}*v**3)"
      ]
     },
     "metadata": {},
     "output_type": "display_data"
    },
    {
     "data": {
      "text/latex": [
       "$\\displaystyle \\text{mKdV}(v) = - (v)_{xxx} + 6 (v)_{x} v^{2}$"
      ],
      "text/plain": [
       "Eq(\\text{mKdV}(v), -(v)_{xxx} + 6*(v)_{x}*v**2)"
      ]
     },
     "metadata": {},
     "output_type": "display_data"
    },
    {
     "data": {
      "text/latex": [
       "$\\displaystyle (\\text{mKdV}(v))_{x} + 2 \\cdot v \\cdot \\text{mKdV}(v) = - (v)_{xxxx} + 6 (v)_{xx} v^{2} + 12 (v)_{x}^{2} v - 2 v \\left((v)_{xxx} - 6 (v)_{x} v^{2}\\right)$"
      ],
      "text/plain": [
       "Eq((\\text{mKdV}(v))_{x} + 2 \\cdot v \\cdot \\text{mKdV}(v), -(v)_{xxxx} + 6*(v)_{xx}*v**2 + 12*(v)_{x}**2*v - 2*v*((v)_{xxx} - 6*(v)_{x}*v**2))"
      ]
     },
     "metadata": {},
     "output_type": "display_data"
    },
    {
     "data": {
      "text/latex": [
       "$\\displaystyle (\\text{mKdV}(v))_{x} + 2 \\cdot v \\cdot \\text{mKdV}(v) - \\text{KdV}(\\text{Miura}(v)) = 0$"
      ],
      "text/plain": [
       "Eq((\\text{mKdV}(v))_{x} + 2 \\cdot v \\cdot \\text{mKdV}(v) - \\text{KdV}(\\text{Miura}(v)), 0)"
      ]
     },
     "metadata": {},
     "output_type": "display_data"
    },
    {
     "name": "stdout",
     "output_type": "stream",
     "text": [
      "n = 6\n"
     ]
    },
    {
     "data": {
      "text/latex": [
       "$\\displaystyle \\text{KdV}(u) = - (u)_{xxxxx} + 10 (u)_{xxx} u + 20 (u)_{xx} (u)_{x} - 30 (u)_{x} u^{2}$"
      ],
      "text/plain": [
       "Eq(\\text{KdV}(u), -(u)_{xxxxx} + 10*(u)_{xxx}*u + 20*(u)_{xx}*(u)_{x} - 30*(u)_{x}*u**2)"
      ]
     },
     "metadata": {},
     "output_type": "display_data"
    },
    {
     "data": {
      "text/latex": [
       "$\\displaystyle \\text{KdV}(\\text{Miura}(v)) = - (v)_{xxxxxx} - 2 (v)_{xxxxx} v + 10 (v)_{xxxx} v^{2} + 60 (v)_{xxx} (v)_{x} v + 20 (v)_{xxx} v^{3} + 40 (v)_{xx}^{2} v + 70 (v)_{xx} (v)_{x}^{2} + 80 (v)_{xx} (v)_{x} v^{2} - 30 (v)_{xx} v^{4} + 20 (v)_{x}^{3} v - 120 (v)_{x}^{2} v^{3} - 60 (v)_{x} v^{5}$"
      ],
      "text/plain": [
       "Eq(\\text{KdV}(\\text{Miura}(v)), -(v)_{xxxxxx} - 2*(v)_{xxxxx}*v + 10*(v)_{xxxx}*v**2 + 60*(v)_{xxx}*(v)_{x}*v + 20*(v)_{xxx}*v**3 + 40*(v)_{xx}**2*v + 70*(v)_{xx}*(v)_{x}**2 + 80*(v)_{xx}*(v)_{x}*v**2 - 30*(v)_{xx}*v**4 + 20*(v)_{x}**3*v - 120*(v)_{x}**2*v**3 - 60*(v)_{x}*v**5)"
      ]
     },
     "metadata": {},
     "output_type": "display_data"
    },
    {
     "data": {
      "text/latex": [
       "$\\displaystyle \\text{mKdV}(v) = - (v)_{xxxxx} + 10 (v)_{xxx} v^{2} + 40 (v)_{xx} (v)_{x} v + 10 (v)_{x}^{3} - 30 (v)_{x} v^{4}$"
      ],
      "text/plain": [
       "Eq(\\text{mKdV}(v), -(v)_{xxxxx} + 10*(v)_{xxx}*v**2 + 40*(v)_{xx}*(v)_{x}*v + 10*(v)_{x}**3 - 30*(v)_{x}*v**4)"
      ]
     },
     "metadata": {},
     "output_type": "display_data"
    },
    {
     "data": {
      "text/latex": [
       "$\\displaystyle (\\text{mKdV}(v))_{x} + 2 \\cdot v \\cdot \\text{mKdV}(v) = - (v)_{xxxxxx} - 2 (v)_{xxxxx} v + 10 (v)_{xxxx} v^{2} + 60 (v)_{xxx} (v)_{x} v + 20 (v)_{xxx} v^{3} + 40 (v)_{xx}^{2} v + 70 (v)_{xx} (v)_{x}^{2} + 80 (v)_{xx} (v)_{x} v^{2} - 30 (v)_{xx} v^{4} + 20 (v)_{x}^{3} v - 120 (v)_{x}^{2} v^{3} - 60 (v)_{x} v^{5}$"
      ],
      "text/plain": [
       "Eq((\\text{mKdV}(v))_{x} + 2 \\cdot v \\cdot \\text{mKdV}(v), -(v)_{xxxxxx} - 2*(v)_{xxxxx}*v + 10*(v)_{xxxx}*v**2 + 60*(v)_{xxx}*(v)_{x}*v + 20*(v)_{xxx}*v**3 + 40*(v)_{xx}**2*v + 70*(v)_{xx}*(v)_{x}**2 + 80*(v)_{xx}*(v)_{x}*v**2 - 30*(v)_{xx}*v**4 + 20*(v)_{x}**3*v - 120*(v)_{x}**2*v**3 - 60*(v)_{x}*v**5)"
      ]
     },
     "metadata": {},
     "output_type": "display_data"
    },
    {
     "data": {
      "text/latex": [
       "$\\displaystyle (\\text{mKdV}(v))_{x} + 2 \\cdot v \\cdot \\text{mKdV}(v) - \\text{KdV}(\\text{Miura}(v)) = 0$"
      ],
      "text/plain": [
       "Eq((\\text{mKdV}(v))_{x} + 2 \\cdot v \\cdot \\text{mKdV}(v) - \\text{KdV}(\\text{Miura}(v)), 0)"
      ]
     },
     "metadata": {},
     "output_type": "display_data"
    },
    {
     "name": "stdout",
     "output_type": "stream",
     "text": [
      "n = 8\n"
     ]
    },
    {
     "data": {
      "text/latex": [
       "$\\displaystyle \\text{KdV}(u) = - (u)_{xxxxxxx} + 14 (u)_{xxxxx} u + 42 (u)_{xxxx} (u)_{x} + 70 (u)_{xxx} (u)_{xx} - 70 (u)_{xxx} u^{2} - 280 (u)_{xx} (u)_{x} u - 70 (u)_{x}^{3} + 140 (u)_{x} u^{3}$"
      ],
      "text/plain": [
       "Eq(\\text{KdV}(u), -(u)_{xxxxxxx} + 14*(u)_{xxxxx}*u + 42*(u)_{xxxx}*(u)_{x} + 70*(u)_{xxx}*(u)_{xx} - 70*(u)_{xxx}*u**2 - 280*(u)_{xx}*(u)_{x}*u - 70*(u)_{x}**3 + 140*(u)_{x}*u**3)"
      ]
     },
     "metadata": {},
     "output_type": "display_data"
    },
    {
     "data": {
      "text/latex": [
       "$\\displaystyle \\text{KdV}(\\text{Miura}(v)) = - (v)_{xxxxxxxx} - 2 (v)_{xxxxxxx} v + 14 (v)_{xxxxxx} v^{2} + 112 (v)_{xxxxx} (v)_{x} v + 28 (v)_{xxxxx} v^{3} + 224 (v)_{xxxx} (v)_{xx} v + 210 (v)_{xxxx} (v)_{x}^{2} + 168 (v)_{xxxx} (v)_{x} v^{2} - 70 (v)_{xxxx} v^{4} + 140 (v)_{xxx}^{2} v + 756 (v)_{xxx} (v)_{xx} (v)_{x} + 280 (v)_{xxx} (v)_{xx} v^{2} + 252 (v)_{xxx} (v)_{x}^{2} v - 840 (v)_{xxx} (v)_{x} v^{3} - 140 (v)_{xxx} v^{5} + 182 (v)_{xx}^{3} + 364 (v)_{xx}^{2} (v)_{x} v - 560 (v)_{xx}^{2} v^{3} - 2940 (v)_{xx} (v)_{x}^{2} v^{2} - 1120 (v)_{xx} (v)_{x} v^{4} + 140 (v)_{xx} v^{6} - 840 (v)_{x}^{4} v - 840 (v)_{x}^{3} v^{3} + 840 (v)_{x}^{2} v^{5} + 280 (v)_{x} v^{7}$"
      ],
      "text/plain": [
       "Eq(\\text{KdV}(\\text{Miura}(v)), -(v)_{xxxxxxxx} - 2*(v)_{xxxxxxx}*v + 14*(v)_{xxxxxx}*v**2 + 112*(v)_{xxxxx}*(v)_{x}*v + 28*(v)_{xxxxx}*v**3 + 224*(v)_{xxxx}*(v)_{xx}*v + 210*(v)_{xxxx}*(v)_{x}**2 + 168*(v)_{xxxx}*(v)_{x}*v**2 - 70*(v)_{xxxx}*v**4 + 140*(v)_{xxx}**2*v + 756*(v)_{xxx}*(v)_{xx}*(v)_{x} + 280*(v)_{xxx}*(v)_{xx}*v**2 + 252*(v)_{xxx}*(v)_{x}**2*v - 840*(v)_{xxx}*(v)_{x}*v**3 - 140*(v)_{xxx}*v**5 + 182*(v)_{xx}**3 + 364*(v)_{xx}**2*(v)_{x}*v - 560*(v)_{xx}**2*v**3 - 2940*(v)_{xx}*(v)_{x}**2*v**2 - 1120*(v)_{xx}*(v)_{x}*v**4 + 140*(v)_{xx}*v**6 - 840*(v)_{x}**4*v - 840*(v)_{x}**3*v**3 + 840*(v)_{x}**2*v**5 + 280*(v)_{x}*v**7)"
      ]
     },
     "metadata": {},
     "output_type": "display_data"
    },
    {
     "data": {
      "text/latex": [
       "$\\displaystyle \\text{mKdV}(v) = - (v)_{xxxxxxx} + 14 (v)_{xxxxx} v^{2} + 84 (v)_{xxxx} (v)_{x} v + 140 (v)_{xxx} (v)_{xx} v + 126 (v)_{xxx} (v)_{x}^{2} - 70 (v)_{xxx} v^{4} + 182 (v)_{xx}^{2} (v)_{x} - 560 (v)_{xx} (v)_{x} v^{3} - 420 (v)_{x}^{3} v^{2} + 140 (v)_{x} v^{6}$"
      ],
      "text/plain": [
       "Eq(\\text{mKdV}(v), -(v)_{xxxxxxx} + 14*(v)_{xxxxx}*v**2 + 84*(v)_{xxxx}*(v)_{x}*v + 140*(v)_{xxx}*(v)_{xx}*v + 126*(v)_{xxx}*(v)_{x}**2 - 70*(v)_{xxx}*v**4 + 182*(v)_{xx}**2*(v)_{x} - 560*(v)_{xx}*(v)_{x}*v**3 - 420*(v)_{x}**3*v**2 + 140*(v)_{x}*v**6)"
      ]
     },
     "metadata": {},
     "output_type": "display_data"
    },
    {
     "data": {
      "text/latex": [
       "$\\displaystyle (\\text{mKdV}(v))_{x} + 2 \\cdot v \\cdot \\text{mKdV}(v) = - (v)_{xxxxxxxx} - 2 (v)_{xxxxxxx} v + 14 (v)_{xxxxxx} v^{2} + 112 (v)_{xxxxx} (v)_{x} v + 28 (v)_{xxxxx} v^{3} + 224 (v)_{xxxx} (v)_{xx} v + 210 (v)_{xxxx} (v)_{x}^{2} + 168 (v)_{xxxx} (v)_{x} v^{2} - 70 (v)_{xxxx} v^{4} + 140 (v)_{xxx}^{2} v + 756 (v)_{xxx} (v)_{xx} (v)_{x} + 280 (v)_{xxx} (v)_{xx} v^{2} + 252 (v)_{xxx} (v)_{x}^{2} v - 840 (v)_{xxx} (v)_{x} v^{3} - 140 (v)_{xxx} v^{5} + 182 (v)_{xx}^{3} + 364 (v)_{xx}^{2} (v)_{x} v - 560 (v)_{xx}^{2} v^{3} - 2940 (v)_{xx} (v)_{x}^{2} v^{2} - 1120 (v)_{xx} (v)_{x} v^{4} + 140 (v)_{xx} v^{6} - 840 (v)_{x}^{4} v - 840 (v)_{x}^{3} v^{3} + 840 (v)_{x}^{2} v^{5} + 280 (v)_{x} v^{7}$"
      ],
      "text/plain": [
       "Eq((\\text{mKdV}(v))_{x} + 2 \\cdot v \\cdot \\text{mKdV}(v), -(v)_{xxxxxxxx} - 2*(v)_{xxxxxxx}*v + 14*(v)_{xxxxxx}*v**2 + 112*(v)_{xxxxx}*(v)_{x}*v + 28*(v)_{xxxxx}*v**3 + 224*(v)_{xxxx}*(v)_{xx}*v + 210*(v)_{xxxx}*(v)_{x}**2 + 168*(v)_{xxxx}*(v)_{x}*v**2 - 70*(v)_{xxxx}*v**4 + 140*(v)_{xxx}**2*v + 756*(v)_{xxx}*(v)_{xx}*(v)_{x} + 280*(v)_{xxx}*(v)_{xx}*v**2 + 252*(v)_{xxx}*(v)_{x}**2*v - 840*(v)_{xxx}*(v)_{x}*v**3 - 140*(v)_{xxx}*v**5 + 182*(v)_{xx}**3 + 364*(v)_{xx}**2*(v)_{x}*v - 560*(v)_{xx}**2*v**3 - 2940*(v)_{xx}*(v)_{x}**2*v**2 - 1120*(v)_{xx}*(v)_{x}*v**4 + 140*(v)_{xx}*v**6 - 840*(v)_{x}**4*v - 840*(v)_{x}**3*v**3 + 840*(v)_{x}**2*v**5 + 280*(v)_{x}*v**7)"
      ]
     },
     "metadata": {},
     "output_type": "display_data"
    },
    {
     "data": {
      "text/latex": [
       "$\\displaystyle (\\text{mKdV}(v))_{x} + 2 \\cdot v \\cdot \\text{mKdV}(v) - \\text{KdV}(\\text{Miura}(v)) = 0$"
      ],
      "text/plain": [
       "Eq((\\text{mKdV}(v))_{x} + 2 \\cdot v \\cdot \\text{mKdV}(v) - \\text{KdV}(\\text{Miura}(v)), 0)"
      ]
     },
     "metadata": {},
     "output_type": "display_data"
    },
    {
     "name": "stdout",
     "output_type": "stream",
     "text": [
      "n = 10\n"
     ]
    },
    {
     "data": {
      "text/latex": [
       "$\\displaystyle \\text{KdV}(u) = - (u)_{xxxxxxxxx} + 18 (u)_{xxxxxxx} u + 72 (u)_{xxxxxx} (u)_{x} + 168 (u)_{xxxxx} (u)_{xx} - 126 (u)_{xxxxx} u^{2} + 252 (u)_{xxxx} (u)_{xxx} - 756 (u)_{xxxx} (u)_{x} u - 1260 (u)_{xxx} (u)_{xx} u - 966 (u)_{xxx} (u)_{x}^{2} + 420 (u)_{xxx} u^{3} - 1302 (u)_{xx}^{2} (u)_{x} + 2520 (u)_{xx} (u)_{x} u^{2} + 1260 (u)_{x}^{3} u - 630 (u)_{x} u^{4}$"
      ],
      "text/plain": [
       "Eq(\\text{KdV}(u), -(u)_{xxxxxxxxx} + 18*(u)_{xxxxxxx}*u + 72*(u)_{xxxxxx}*(u)_{x} + 168*(u)_{xxxxx}*(u)_{xx} - 126*(u)_{xxxxx}*u**2 + 252*(u)_{xxxx}*(u)_{xxx} - 756*(u)_{xxxx}*(u)_{x}*u - 1260*(u)_{xxx}*(u)_{xx}*u - 966*(u)_{xxx}*(u)_{x}**2 + 420*(u)_{xxx}*u**3 - 1302*(u)_{xx}**2*(u)_{x} + 2520*(u)_{xx}*(u)_{x}*u**2 + 1260*(u)_{x}**3*u - 630*(u)_{x}*u**4)"
      ]
     },
     "metadata": {},
     "output_type": "display_data"
    },
    {
     "data": {
      "text/latex": [
       "$\\displaystyle \\text{KdV}(\\text{Miura}(v)) = - (v)_{xxxxxxxxxx} - 2 (v)_{xxxxxxxxx} v + 18 (v)_{xxxxxxxx} v^{2} + 180 (v)_{xxxxxxx} (v)_{x} v + 36 (v)_{xxxxxxx} v^{3} + 480 (v)_{xxxxxx} (v)_{xx} v + 462 (v)_{xxxxxx} (v)_{x}^{2} + 288 (v)_{xxxxxx} (v)_{x} v^{2} - 126 (v)_{xxxxxx} v^{4} + 840 (v)_{xxxxx} (v)_{xxx} v + 2376 (v)_{xxxxx} (v)_{xx} (v)_{x} + 672 (v)_{xxxxx} (v)_{xx} v^{2} + 636 (v)_{xxxxx} (v)_{x}^{2} v - 2016 (v)_{xxxxx} (v)_{x} v^{3} - 252 (v)_{xxxxx} v^{5} + 504 (v)_{xxxx}^{2} v + 3696 (v)_{xxxx} (v)_{xxx} (v)_{x} + 1008 (v)_{xxxx} (v)_{xxx} v^{2} + 2706 (v)_{xxxx} (v)_{xx}^{2} + 2808 (v)_{xxxx} (v)_{xx} (v)_{x} v - 4032 (v)_{xxxx} (v)_{xx} v^{3} - 10668 (v)_{xxxx} (v)_{x}^{2} v^{2} - 3024 (v)_{xxxx} (v)_{x} v^{4} + 420 (v)_{xxxx} v^{6} + 3498 (v)_{xxx}^{2} (v)_{xx} + 1788 (v)_{xxx}^{2} (v)_{x} v - 2520 (v)_{xxx}^{2} v^{3} + 2604 (v)_{xxx} (v)_{xx}^{2} v - 36792 (v)_{xxx} (v)_{xx} (v)_{x} v^{2} - 5040 (v)_{xxx} (v)_{xx} v^{4} - 21672 (v)_{xxx} (v)_{x}^{3} v - 12264 (v)_{xxx} (v)_{x}^{2} v^{3} + 7560 (v)_{xxx} (v)_{x} v^{5} + 840 (v)_{xxx} v^{7} - 8484 (v)_{xx}^{3} v^{2} - 45192 (v)_{xx}^{2} (v)_{x}^{2} v - 16968 (v)_{xx}^{2} (v)_{x} v^{3} + 5040 (v)_{xx}^{2} v^{5} - 13398 (v)_{xx} (v)_{x}^{4} - 18816 (v)_{xx} (v)_{x}^{3} v^{2} + 44100 (v)_{xx} (v)_{x}^{2} v^{4} + 10080 (v)_{xx} (v)_{x} v^{6} - 630 (v)_{xx} v^{8} - 1596 (v)_{x}^{5} v + 25200 (v)_{x}^{4} v^{3} + 12600 (v)_{x}^{3} v^{5} - 5040 (v)_{x}^{2} v^{7} - 1260 (v)_{x} v^{9}$"
      ],
      "text/plain": [
       "Eq(\\text{KdV}(\\text{Miura}(v)), -(v)_{xxxxxxxxxx} - 2*(v)_{xxxxxxxxx}*v + 18*(v)_{xxxxxxxx}*v**2 + 180*(v)_{xxxxxxx}*(v)_{x}*v + 36*(v)_{xxxxxxx}*v**3 + 480*(v)_{xxxxxx}*(v)_{xx}*v + 462*(v)_{xxxxxx}*(v)_{x}**2 + 288*(v)_{xxxxxx}*(v)_{x}*v**2 - 126*(v)_{xxxxxx}*v**4 + 840*(v)_{xxxxx}*(v)_{xxx}*v + 2376*(v)_{xxxxx}*(v)_{xx}*(v)_{x} + 672*(v)_{xxxxx}*(v)_{xx}*v**2 + 636*(v)_{xxxxx}*(v)_{x}**2*v - 2016*(v)_{xxxxx}*(v)_{x}*v**3 - 252*(v)_{xxxxx}*v**5 + 504*(v)_{xxxx}**2*v + 3696*(v)_{xxxx}*(v)_{xxx}*(v)_{x} + 1008*(v)_{xxxx}*(v)_{xxx}*v**2 + 2706*(v)_{xxxx}*(v)_{xx}**2 + 2808*(v)_{xxxx}*(v)_{xx}*(v)_{x}*v - 4032*(v)_{xxxx}*(v)_{xx}*v**3 - 10668*(v)_{xxxx}*(v)_{x}**2*v**2 - 3024*(v)_{xxxx}*(v)_{x}*v**4 + 420*(v)_{xxxx}*v**6 + 3498*(v)_{xxx}**2*(v)_{xx} + 1788*(v)_{xxx}**2*(v)_{x}*v - 2520*(v)_{xxx}**2*v**3 + 2604*(v)_{xxx}*(v)_{xx}**2*v - 36792*(v)_{xxx}*(v)_{xx}*(v)_{x}*v**2 - 5040*(v)_{xxx}*(v)_{xx}*v**4 - 21672*(v)_{xxx}*(v)_{x}**3*v - 12264*(v)_{xxx}*(v)_{x}**2*v**3 + 7560*(v)_{xxx}*(v)_{x}*v**5 + 840*(v)_{xxx}*v**7 - 8484*(v)_{xx}**3*v**2 - 45192*(v)_{xx}**2*(v)_{x}**2*v - 16968*(v)_{xx}**2*(v)_{x}*v**3 + 5040*(v)_{xx}**2*v**5 - 13398*(v)_{xx}*(v)_{x}**4 - 18816*(v)_{xx}*(v)_{x}**3*v**2 + 44100*(v)_{xx}*(v)_{x}**2*v**4 + 10080*(v)_{xx}*(v)_{x}*v**6 - 630*(v)_{xx}*v**8 - 1596*(v)_{x}**5*v + 25200*(v)_{x}**4*v**3 + 12600*(v)_{x}**3*v**5 - 5040*(v)_{x}**2*v**7 - 1260*(v)_{x}*v**9)"
      ]
     },
     "metadata": {},
     "output_type": "display_data"
    },
    {
     "data": {
      "text/latex": [
       "$\\displaystyle \\text{mKdV}(v) = - (v)_{xxxxxxxxx} + 18 (v)_{xxxxxxx} v^{2} + 144 (v)_{xxxxxx} (v)_{x} v + 336 (v)_{xxxxx} (v)_{xx} v + 318 (v)_{xxxxx} (v)_{x}^{2} - 126 (v)_{xxxxx} v^{4} + 504 (v)_{xxxx} (v)_{xxx} v + 1404 (v)_{xxxx} (v)_{xx} (v)_{x} - 1512 (v)_{xxxx} (v)_{x} v^{3} + 894 (v)_{xxx}^{2} (v)_{x} + 1302 (v)_{xxx} (v)_{xx}^{2} - 2520 (v)_{xxx} (v)_{xx} v^{3} - 6132 (v)_{xxx} (v)_{x}^{2} v^{2} + 420 (v)_{xxx} v^{6} - 8484 (v)_{xx}^{2} (v)_{x} v^{2} - 9408 (v)_{xx} (v)_{x}^{3} v + 5040 (v)_{xx} (v)_{x} v^{5} - 798 (v)_{x}^{5} + 6300 (v)_{x}^{3} v^{4} - 630 (v)_{x} v^{8}$"
      ],
      "text/plain": [
       "Eq(\\text{mKdV}(v), -(v)_{xxxxxxxxx} + 18*(v)_{xxxxxxx}*v**2 + 144*(v)_{xxxxxx}*(v)_{x}*v + 336*(v)_{xxxxx}*(v)_{xx}*v + 318*(v)_{xxxxx}*(v)_{x}**2 - 126*(v)_{xxxxx}*v**4 + 504*(v)_{xxxx}*(v)_{xxx}*v + 1404*(v)_{xxxx}*(v)_{xx}*(v)_{x} - 1512*(v)_{xxxx}*(v)_{x}*v**3 + 894*(v)_{xxx}**2*(v)_{x} + 1302*(v)_{xxx}*(v)_{xx}**2 - 2520*(v)_{xxx}*(v)_{xx}*v**3 - 6132*(v)_{xxx}*(v)_{x}**2*v**2 + 420*(v)_{xxx}*v**6 - 8484*(v)_{xx}**2*(v)_{x}*v**2 - 9408*(v)_{xx}*(v)_{x}**3*v + 5040*(v)_{xx}*(v)_{x}*v**5 - 798*(v)_{x}**5 + 6300*(v)_{x}**3*v**4 - 630*(v)_{x}*v**8)"
      ]
     },
     "metadata": {},
     "output_type": "display_data"
    },
    {
     "data": {
      "text/latex": [
       "$\\displaystyle (\\text{mKdV}(v))_{x} + 2 \\cdot v \\cdot \\text{mKdV}(v) = - (v)_{xxxxxxxxxx} - 2 (v)_{xxxxxxxxx} v + 18 (v)_{xxxxxxxx} v^{2} + 180 (v)_{xxxxxxx} (v)_{x} v + 36 (v)_{xxxxxxx} v^{3} + 480 (v)_{xxxxxx} (v)_{xx} v + 462 (v)_{xxxxxx} (v)_{x}^{2} + 288 (v)_{xxxxxx} (v)_{x} v^{2} - 126 (v)_{xxxxxx} v^{4} + 840 (v)_{xxxxx} (v)_{xxx} v + 2376 (v)_{xxxxx} (v)_{xx} (v)_{x} + 672 (v)_{xxxxx} (v)_{xx} v^{2} + 636 (v)_{xxxxx} (v)_{x}^{2} v - 2016 (v)_{xxxxx} (v)_{x} v^{3} - 252 (v)_{xxxxx} v^{5} + 504 (v)_{xxxx}^{2} v + 3696 (v)_{xxxx} (v)_{xxx} (v)_{x} + 1008 (v)_{xxxx} (v)_{xxx} v^{2} + 2706 (v)_{xxxx} (v)_{xx}^{2} + 2808 (v)_{xxxx} (v)_{xx} (v)_{x} v - 4032 (v)_{xxxx} (v)_{xx} v^{3} - 10668 (v)_{xxxx} (v)_{x}^{2} v^{2} - 3024 (v)_{xxxx} (v)_{x} v^{4} + 420 (v)_{xxxx} v^{6} + 3498 (v)_{xxx}^{2} (v)_{xx} + 1788 (v)_{xxx}^{2} (v)_{x} v - 2520 (v)_{xxx}^{2} v^{3} + 2604 (v)_{xxx} (v)_{xx}^{2} v - 36792 (v)_{xxx} (v)_{xx} (v)_{x} v^{2} - 5040 (v)_{xxx} (v)_{xx} v^{4} - 21672 (v)_{xxx} (v)_{x}^{3} v - 12264 (v)_{xxx} (v)_{x}^{2} v^{3} + 7560 (v)_{xxx} (v)_{x} v^{5} + 840 (v)_{xxx} v^{7} - 8484 (v)_{xx}^{3} v^{2} - 45192 (v)_{xx}^{2} (v)_{x}^{2} v - 16968 (v)_{xx}^{2} (v)_{x} v^{3} + 5040 (v)_{xx}^{2} v^{5} - 13398 (v)_{xx} (v)_{x}^{4} - 18816 (v)_{xx} (v)_{x}^{3} v^{2} + 44100 (v)_{xx} (v)_{x}^{2} v^{4} + 10080 (v)_{xx} (v)_{x} v^{6} - 630 (v)_{xx} v^{8} - 1596 (v)_{x}^{5} v + 25200 (v)_{x}^{4} v^{3} + 12600 (v)_{x}^{3} v^{5} - 5040 (v)_{x}^{2} v^{7} - 1260 (v)_{x} v^{9}$"
      ],
      "text/plain": [
       "Eq((\\text{mKdV}(v))_{x} + 2 \\cdot v \\cdot \\text{mKdV}(v), -(v)_{xxxxxxxxxx} - 2*(v)_{xxxxxxxxx}*v + 18*(v)_{xxxxxxxx}*v**2 + 180*(v)_{xxxxxxx}*(v)_{x}*v + 36*(v)_{xxxxxxx}*v**3 + 480*(v)_{xxxxxx}*(v)_{xx}*v + 462*(v)_{xxxxxx}*(v)_{x}**2 + 288*(v)_{xxxxxx}*(v)_{x}*v**2 - 126*(v)_{xxxxxx}*v**4 + 840*(v)_{xxxxx}*(v)_{xxx}*v + 2376*(v)_{xxxxx}*(v)_{xx}*(v)_{x} + 672*(v)_{xxxxx}*(v)_{xx}*v**2 + 636*(v)_{xxxxx}*(v)_{x}**2*v - 2016*(v)_{xxxxx}*(v)_{x}*v**3 - 252*(v)_{xxxxx}*v**5 + 504*(v)_{xxxx}**2*v + 3696*(v)_{xxxx}*(v)_{xxx}*(v)_{x} + 1008*(v)_{xxxx}*(v)_{xxx}*v**2 + 2706*(v)_{xxxx}*(v)_{xx}**2 + 2808*(v)_{xxxx}*(v)_{xx}*(v)_{x}*v - 4032*(v)_{xxxx}*(v)_{xx}*v**3 - 10668*(v)_{xxxx}*(v)_{x}**2*v**2 - 3024*(v)_{xxxx}*(v)_{x}*v**4 + 420*(v)_{xxxx}*v**6 + 3498*(v)_{xxx}**2*(v)_{xx} + 1788*(v)_{xxx}**2*(v)_{x}*v - 2520*(v)_{xxx}**2*v**3 + 2604*(v)_{xxx}*(v)_{xx}**2*v - 36792*(v)_{xxx}*(v)_{xx}*(v)_{x}*v**2 - 5040*(v)_{xxx}*(v)_{xx}*v**4 - 21672*(v)_{xxx}*(v)_{x}**3*v - 12264*(v)_{xxx}*(v)_{x}**2*v**3 + 7560*(v)_{xxx}*(v)_{x}*v**5 + 840*(v)_{xxx}*v**7 - 8484*(v)_{xx}**3*v**2 - 45192*(v)_{xx}**2*(v)_{x}**2*v - 16968*(v)_{xx}**2*(v)_{x}*v**3 + 5040*(v)_{xx}**2*v**5 - 13398*(v)_{xx}*(v)_{x}**4 - 18816*(v)_{xx}*(v)_{x}**3*v**2 + 44100*(v)_{xx}*(v)_{x}**2*v**4 + 10080*(v)_{xx}*(v)_{x}*v**6 - 630*(v)_{xx}*v**8 - 1596*(v)_{x}**5*v + 25200*(v)_{x}**4*v**3 + 12600*(v)_{x}**3*v**5 - 5040*(v)_{x}**2*v**7 - 1260*(v)_{x}*v**9)"
      ]
     },
     "metadata": {},
     "output_type": "display_data"
    },
    {
     "data": {
      "text/latex": [
       "$\\displaystyle (\\text{mKdV}(v))_{x} + 2 \\cdot v \\cdot \\text{mKdV}(v) - \\text{KdV}(\\text{Miura}(v)) = 0$"
      ],
      "text/plain": [
       "Eq((\\text{mKdV}(v))_{x} + 2 \\cdot v \\cdot \\text{mKdV}(v) - \\text{KdV}(\\text{Miura}(v)), 0)"
      ]
     },
     "metadata": {},
     "output_type": "display_data"
    }
   ],
   "source": [
    "def miura(expr):\n",
    "    return substituter(expr, u, deriv(v) + v**2)\n",
    "\n",
    "for n in range(0, N, 2):\n",
    "    print(\"n =\", n)\n",
    "    KdV = - simplify(Rational(1,2) * deriv(variation(SS_eq[n+1], u)))\n",
    "    KdVMiura = simplify(miura(KdV))\n",
    "    mKdV = simplify(multi_substituter(variation(sigs_eq[n], q_conj), [(q, v), (q_conj, v)]))\n",
    "    display(Eq(Symbol('\\\\text{KdV}(u)'), KdV))\n",
    "    display(Eq(Symbol('\\\\text{KdV}(\\\\text{Miura}(v))'), KdVMiura))\n",
    "    display(Eq(Symbol('\\\\text{mKdV}(v)'), mKdV))\n",
    "    display(Eq(Symbol('(\\\\text{mKdV}(v))_{x} + 2 \\cdot v \\cdot \\\\text{mKdV}(v)'), simplify(deriv(mKdV) + 2 * v * mKdV)))\n",
    "    display(Eq(Symbol('(\\\\text{mKdV}(v))_{x} + 2 \\cdot v \\cdot \\\\text{mKdV}(v) - \\\\text{KdV}(\\\\text{Miura}(v))'), simplify(deriv(mKdV) + 2 * v * mKdV - KdVMiura)))"
   ]
  },
  {
   "cell_type": "code",
   "execution_count": 4,
   "id": "806432d4",
   "metadata": {},
   "outputs": [
    {
     "name": "stdout",
     "output_type": "stream",
     "text": [
      "new differentiable symbol:  (u)_{x}\n",
      "new differentiable symbol:  (v)_{x}\n",
      "n = 1\n",
      "new differentiable symbol:  (u)_{xx}\n",
      "new differentiable symbol:  (v)_{xx}\n",
      "n = 2\n",
      "new differentiable symbol:  (u)_{xxx}\n",
      "new differentiable symbol:  (v)_{xxx}\n",
      "n = 3\n",
      "new differentiable symbol:  (u)_{xxxx}\n",
      "new differentiable symbol:  (v)_{xxxx}\n",
      "n = 4\n",
      "new differentiable symbol:  (u)_{xxxxx}\n",
      "new differentiable symbol:  (v)_{xxxxx}\n",
      "n = 5\n",
      "new differentiable symbol:  (u)_{xxxxxx}\n",
      "new differentiable symbol:  (v)_{xxxxxx}\n",
      "n = 6\n",
      "new differentiable symbol:  (u)_{xxxxxxx}\n",
      "new differentiable symbol:  (v)_{xxxxxxx}\n",
      "n = 7\n",
      "new differentiable symbol:  (u)_{xxxxxxxx}\n",
      "new differentiable symbol:  (v)_{xxxxxxxx}\n",
      "n = 8\n",
      "new differentiable symbol:  (u)_{xxxxxxxxx}\n",
      "new differentiable symbol:  (v)_{xxxxxxxxx}\n",
      "n = 9\n",
      "new differentiable symbol:  (u)_{xxxxxxxxxx}\n",
      "new differentiable symbol:  (v)_{xxxxxxxxxx}\n"
     ]
    }
   ],
   "source": [
    "\n",
    "\n",
    "def q_coeff(n):\n",
    "    if n == -1:\n",
    "        return epsilon / (I * sqrt(2))\n",
    "    if n < -1 or (n % 2 == 0 and n >= 0):\n",
    "        return 0\n",
    "    else:\n",
    "        return I * catalan((n - 1) // 2) / sqrt(2)**n * epsiloninv**n\n",
    "       \n",
    "def q_coeff_plus(n):\n",
    "    if n == 0:\n",
    "        return 1\n",
    "    return q_coeff(n)\n",
    "\n",
    "def q_coeff_minus(n):\n",
    "    if n == 0:\n",
    "        return 1\n",
    "    return - q_coeff(n)\n",
    "    \n",
    "def qinv_coeff(n):\n",
    "    if n < 0 or n % 2 == 0:\n",
    "        return 0\n",
    "    return binomial(- Rational(1,2), (n-1)//2) * sqrt(2)**n * I**n * epsiloninv**n\n",
    "\n",
    "def sqrtt(x):\n",
    "    return I*sqrt(-x)\n",
    "\n",
    "\n",
    "X = Symbol('X')\n",
    "\n",
    "def get_expansion(eqn, x0, var, num):\n",
    "    epsilonpos = Symbol('epsilon_2', positive=True)\n",
    "    epsiloninvpos = Symbol('eta_2', positive=True)\n",
    "    \n",
    "    eqn = eqn.subs(epsilon, epsilonpos).subs(epsiloninv, epsiloninvpos)\n",
    "    ser = series(eqn, x0=0, x=var, n=num).removeO().subs(epsilonpos, epsilon).subs(epsiloninvpos, epsiloninv)\n",
    "    return [simplify(ser.coeff(var**n) if n > 0 else ser.subs(var, 0)) for n in range(0, num)]\n",
    "    \n",
    "N = 10\n",
    "\n",
    "h_plus = get_expansion(1 + 1 / sqrtt(1 - Rational(1, 2) / epsiloninv**2 / X**2), 0, X, N+1)\n",
    "h_minus = get_expansion(1 - 1 / sqrtt(1 - Rational(1, 2) / epsiloninv**2 / X**2), 0, X, N+1)\n",
    "\n",
    "    \n",
    "#h_plus = [binomial(-Rational(1, 2), n//2) * (sqrt(2) * I * epsiloninv)**n if n % 2 == 1 else 0 for n in range(N+1)]\n",
    "#h_plus[0] = 1\n",
    "#h_minus = [- binomial(-Rational(1, 2), n//2) * (sqrt(2) * I * epsiloninv)**n if n % 2 == 1 else 0 for n in range(N+1)]\n",
    "#h_minus[0] = 1\n",
    "\n",
    "h_plus_mod = get_expansion(1 + 1 / sqrtt(1 + Rational(1, 2) / epsiloninv**2 / X**2), 0, X, N+1)\n",
    "h_minus_mod = get_expansion(1 - 1 / sqrtt(1 + Rational(1, 2) / epsiloninv**2 / X**2), 0, X, N+1)\n",
    "\n",
    "exp1 = [get_expansion((X / sqrtt(1 - 1 / (8 * epsiloninv**2 * X**2)))**n, 0, X, N+1) for n in range(N+1)]\n",
    "\n",
    "E_plus_sym = [Symbol('E^+_{' + str(n) + '}') for n in range(N+1)]\n",
    "E_plus_eq = [E_plus_sym[n] for n in range(N+1)]\n",
    "\n",
    "E_minus_sym = [Symbol('E^-_{' + str(n) + '}') for n in range(N+1)]\n",
    "E_minus_eq = [E_plus_sym[n] for n in range(N+1)]\n",
    "\n",
    "F_plus_sym = [Symbol('F^+_{' + str(n) + '}') for n in range(N+1)]\n",
    "F_plus_eq = [E_plus_sym[n] for n in range(N+1)]\n",
    "\n",
    "F_minus_sym = [Symbol('F^-_{' + str(n) + '}') for n in range(N+1)]\n",
    "F_minus_eq = [E_plus_sym[n] for n in range(N+1)]\n",
    "\n",
    "Ft_plus_sym = [Symbol('\\\\tilde{F}^+_{' + str(n) + '}') for n in range(N+1)]\n",
    "Ft_plus_eq = [E_plus_sym[n] for n in range(N+1)]\n",
    "\n",
    "Ft_minus_sym = [Symbol('\\\\tilde{F}^-_{' + str(n) + '}') for n in range(N+1)]\n",
    "Ft_minus_eq = [E_plus_sym[n] for n in range(N+1)]\n",
    "\n",
    "G_sym = [Symbol('G_{' + str(n) + '}') for n in range(N+1)]\n",
    "G_eq = [G_sym[n] for n in range(N+1)]\n",
    "\n",
    "r_factor = 1 #Symbol('lambda', real=True) #1\n",
    "\n",
    "r_sym = [Symbol('r_{' + str(n) + '}') for n in range(N+1)]\n",
    "r_eq = [r_sym[n] for n in range(N+1)]\n",
    "r_poly = [r_sym[n] for n in range(N+1)]\n",
    "\n",
    "r_eq[0] = r_factor * I\n",
    "r_eq[1] = r_factor * epsilon / sqrt(2) * (v - u + 2 * epsiloninv**2)\n",
    "r_poly[0] = polynomize(r_eq[0])\n",
    "r_poly[1] = polynomize(r_eq[1])\n",
    "\n",
    "sig_sym = [Symbol('\\sigma_{' + str(n) + '}') for n in range(N+1)]\n",
    "sig_eq = [sig_sym[n] for n in range(N+1)]\n",
    "sig_poly = [sig_sym[n] for n in range(N+1)]\n",
    "\n",
    "sig_eq[0] = q_coeff(-1) / 2 * (v + u)\n",
    "sig_eq[1] = q_coeff(-1) / 2 * deriv(v + u) + q_coeff(-1)**2 / 4 * (v + u)**2 \n",
    "sig_eq[1] += epsilon**2 / 2 * u * v + (u - v) / 2 \n",
    "sig_eq[1] += epsilon / sqrt(2) * deriv(v) * r_eq[0]  \n",
    "\n",
    "sig_poly[0] = polynomize(sig_eq[0])\n",
    "sig_poly[1] = polynomize(sig_eq[1])\n",
    "\n",
    "sig_plus_sym = [Symbol('\\sigma_+^{' + str(n) + '}') for n in range(N+1)]\n",
    "sig_plus_eq = [sig_plus_sym[n] for n in range(N+1)]\n",
    "\n",
    "sig_minus_sym = [Symbol('\\sigma_-^{' + str(n) + '}') for n in range(N+1)]\n",
    "sig_minus_eq = [sig_minus_sym[n] for n in range(N+1)]\n",
    "\n",
    "sig_plus_eq[0] = 0\n",
    "sig_plus_eq[1] = - deriv(sig_plus_eq[0]) + sig_plus_eq[0]**2 - v\n",
    "\n",
    "sig_minus_eq[0] = 0\n",
    "sig_minus_eq[1] = deriv(sig_minus_eq[0]) + sig_minus_eq[0]**2 + u\n",
    "\n",
    "for n in range(1, N):\n",
    "    print(\"n =\", n)\n",
    "\n",
    "    X = - deriv(sig_plus_eq[n])\n",
    "    \n",
    "    for k in range(n+1):\n",
    "        X += sig_plus_eq[k] * sig_plus_eq[n-k]\n",
    "        \n",
    "    sig_plus_eq[n+1] = simplify(X)\n",
    "        \n",
    "    X = deriv(sig_minus_eq[n])\n",
    "\n",
    "    for k in range(n+1):\n",
    "        X += sig_minus_eq[k] * sig_minus_eq[n-k]\n",
    "\n",
    "    sig_minus_eq[n+1] = simplify(X)\n",
    "        \n",
    "    X = 0\n",
    "    \n",
    "    X += deriv(r_eq[n])\n",
    "\n",
    "    X += - q_coeff(n) / sqrt(2) * epsiloninv\n",
    "    \n",
    "    for k in range(0, n+1):\n",
    "        X += epsilon / sqrt(2) * (- v - epsiloninv**2) * r_eq[n-k] * r_eq[k]\n",
    "\n",
    "    for m in range(0, n+1):\n",
    "        for k in range(0, m+1):     \n",
    "            X += - epsiloninv / sqrt(2) * q_coeff(n-m) * r_eq[m-k] * r_eq[k]\n",
    "\n",
    "    for k in range(1, n+1):\n",
    "        X += - q_coeff(-1) / sqrt(2) * epsiloninv * r_eq[n+1-k] * r_eq[k]\n",
    "\n",
    "    r_eq[n+1] = r_factor * X\n",
    "    r_poly[n+1] = polynomize(r_eq[n+1])\n",
    "    r_eq[n+1] = depolynomize(r_poly[n+1])\n",
    "    \n",
    "    X = 0\n",
    "    \n",
    "    X += deriv(sig_eq[n])\n",
    "    \n",
    "    for k in range(0, n+1):\n",
    "        X += sig_eq[n-k] * sig_eq[k]\n",
    "        \n",
    "    X += q_coeff(n) / 2 * (u + v)\n",
    "    \n",
    "    X += epsilon / sqrt(2) * deriv(v) * r_eq[n]\n",
    "    \n",
    "    sig_eq[n+1] = X\n",
    "    sig_poly[n+1] = polynomize(sig_eq[n+1])\n",
    "    sig_eq[n+1] = depolynomize(sig_poly[n+1])\n",
    "\n",
    "for n in range(0, N+1):\n",
    "    E_plus_eq[n] = 0\n",
    "    for k in range(0, n+1):\n",
    "        E_plus_eq[n] += re(sig_eq[k] * h_plus[n-k])\n",
    "        #E_plus_eq[n] += re(epsilon * r_eq[k] * h_plus[n-k])\n",
    "        #E_plus_eq[n] += re(sig_eq[k] * q_coeff_plus(n-k))\n",
    "    E_minus_eq[n] = 0\n",
    "    for k in range(0, n+1):\n",
    "        E_minus_eq[n] += re(sig_eq[k] * h_minus[n-k])\n",
    "        #E_minus_eq[n] += re(epsilon * r_eq[k] * h_minus[n-k])\n",
    "        #E_minus_eq[n] += re(sig_eq[k] * q_coeff_minus(n-k))\n",
    "        \n",
    "    F_plus_eq[n] = 0\n",
    "    for k in range(0, n+1):\n",
    "        F_plus_eq[n] += re(epsilon * r_eq[k] * h_plus[n-k])\n",
    "        \n",
    "    F_minus_eq[n] = 0\n",
    "    for k in range(0, n+1):\n",
    "        F_minus_eq[n] += re(epsilon * r_eq[k] * h_minus[n-k])\n",
    "        \n",
    "    G_eq[n] = 0\n",
    "    for k in range(0, n+1):\n",
    "        G_eq[n] += im(sig_eq[k]) * qinv_coeff(n-k) / I\n",
    "    "
   ]
  },
  {
   "cell_type": "code",
   "execution_count": 6,
   "id": "20f271da",
   "metadata": {},
   "outputs": [
    {
     "name": "stdout",
     "output_type": "stream",
     "text": [
      "n = 1\n",
      "n = 2\n",
      "n = 3\n",
      "n = 4\n",
      "n = 5\n",
      "n = 6\n",
      "n = 7\n",
      "new differentiable symbol:  (q)_{xxxxxxx}\n"
     ]
    }
   ],
   "source": [
    "def q_coeff(n):\n",
    "    if n == -1:\n",
    "        #return Symbol('q_{' + str(n) + '}', real=True) * epsilon / I\n",
    "        return epsilon / (I * sqrt(2))\n",
    "    if n < -1 or (n % 2 == 0 and n >= 0):\n",
    "        return 0\n",
    "    else:\n",
    "        #if n > 1:\n",
    "            #return Symbol('q_{' + str(n) + '}', real=True) * I * epsiloninv**n\n",
    "        return I * catalan((n - 1) // 2) / sqrt(2)**n * epsiloninv**n\n",
    "       \n",
    "def alt_q_coeff(n):\n",
    "    if n == -1:\n",
    "        return epsilon / I * Symbol('q_{-1}', real=True)\n",
    "    if n < -1 or (n % 2 == 0 and n >= 0):\n",
    "        return 0\n",
    "    else:\n",
    "        return I * epsiloninv**n * Symbol('q_{' + str(n) + '}', real=True)\n",
    "    \n",
    "def plus_beta_coeff(n):\n",
    "    if n == 0:\n",
    "        return - 1 * Rational(1, 2)\n",
    "    else:\n",
    "        return - q_coeff(n) * Rational(1, 2)\n",
    "    \n",
    "def minus_beta_coeff(n):\n",
    "    if n == 0:\n",
    "        return - 1 * Rational(1, 2)\n",
    "    else:\n",
    "        return q_coeff(n) * Rational(1, 2)\n",
    "\n",
    "def alt_beta_coeff(n):\n",
    "    if n == 0:\n",
    "        return - 1 #Rational(1, 2)\n",
    "    else:\n",
    "        return 0\n",
    "    \n",
    "N = 8\n",
    "\n",
    "S_sym = [Symbol('S_{' + str(n) + '}') for n in range(N+1)]\n",
    "S_eq = [S_sym[n] for n in range(N+1)]\n",
    "\n",
    "SS_sym = [Symbol('SS_{' + str(n) + '}') for n in range(N+1)]\n",
    "SS_eq = [S_sym[n] for n in range(N+1)]\n",
    "\n",
    "S_plus_sym = [Symbol('S^+_{' + str(n) + '}') for n in range(N+1)]\n",
    "S_plus_eq = [S_plus_sym[n] for n in range(N+1)]\n",
    "\n",
    "S_minus_sym = [Symbol('S^-_{' + str(n) + '}') for n in range(N+1)]\n",
    "S_minus_eq = [S_plus_sym[n] for n in range(N+1)]\n",
    "\n",
    "sigq_sym = [Symbol('\\\\sigma^q_{' + str(n) + '}') for n in range(N+1)]\n",
    "sigq_eq = [sigq_sym[n] for n in range(N+1)]\n",
    "\n",
    "rq_sym = [Symbol('r^q_{' + str(n) + '}') for n in range(N+1)]\n",
    "rq_eq = [rq_sym[n] for n in range(N+1)]\n",
    "\n",
    "Rq_sym = [Symbol('R^q_{' + str(n) + '}') for n in range(N+1)]\n",
    "Rq_eq = [rq_sym[n] for n in range(N+1)]\n",
    "\n",
    "sigs_sym = [Symbol('\\\\sigma^s_{' + str(n) + '}') for n in range(N+1)]\n",
    "sigs_eq = [sigs_sym[n] for n in range(N+1)]\n",
    "\n",
    "S_eq[0] = 0\n",
    "S_eq[1] = u\n",
    "\n",
    "SS_eq[0] = 0\n",
    "SS_eq[1] = - u\n",
    "\n",
    "S_plus_eq[0] = 0\n",
    "S_plus_eq[1] = u+v\n",
    "\n",
    "S_minus_eq[0] = 0\n",
    "S_minus_eq[1] = u-v\n",
    "\n",
    "sigq_eq[0] = 0\n",
    "sigq_eq[1] = 1 - q * q_conj\n",
    "\n",
    "sigs_eq[0] = 0\n",
    "sigs_eq[1] = - q * q_conj\n",
    "\n",
    "rq_eq[0] = 0\n",
    "rq_eq[1] = q_conj\n",
    "\n",
    "Rq_eq[0] = 0\n",
    "Rq_eq[1] = q_conj\n",
    "\n",
    "for n in range(1, N):\n",
    "    print(\"n =\", n)\n",
    "    \n",
    "    X = deriv(S_eq[n])\n",
    "    \n",
    "    for k in range(n+1):\n",
    "        X += S_eq[k] * S_eq[n-k]\n",
    "\n",
    "    S_eq[n+1] = poly_simplify(X)\n",
    "    \n",
    "    X = deriv(SS_eq[n])\n",
    "    \n",
    "    for k in range(n+1):\n",
    "        X += SS_eq[k] * SS_eq[n-k]\n",
    "\n",
    "    SS_eq[n+1] = poly_simplify(X)\n",
    "    \n",
    "    \n",
    "    \n",
    "    X = deriv(S_plus_eq[n])\n",
    "    \n",
    "    for k in range(n+1):\n",
    "        X += (S_plus_eq[k] + S_minus_eq[k])/2 * S_plus_eq[n-k]\n",
    "        \n",
    "    S_plus_eq[n+1] = poly_simplify(X)\n",
    "        \n",
    "    X = - deriv(S_minus_eq[n])\n",
    "\n",
    "    for k in range(n+1):\n",
    "        X += - (S_plus_eq[k] + S_minus_eq[k])/2 * S_minus_eq[n-k]\n",
    "\n",
    "    S_minus_eq[n+1] = poly_simplify(X)\n",
    "\n",
    "    \n",
    "    X = 0\n",
    "    \n",
    "    for m in range(0, n//2 + 1):\n",
    "        X += - deriv(rq_eq[n-2*m]) * binomial(m - Rational(n,2), m) * 4**m\n",
    "        \n",
    "    for k in range(0, n + 1):\n",
    "        for m1 in range(0, k//2 + 1):\n",
    "            for m2 in range(0, (n-k)//2 + 1):\n",
    "                X += - q * rq_eq[k-2*m1] * binomial(m1 - Rational(k,2), m1) * 4**m1 * rq_eq[n-k-2*m2] * binomial(m2 - Rational(n-k,2), m2) * 4**m2\n",
    "    \n",
    "    for m in range(1, (n+1)//2 + 1):\n",
    "        X += - rq_eq[n+1-2*m] * binomial(m - Rational(n+1,2), m) * 4**m\n",
    "        \n",
    "    rq_eq[n+1] = simplify(X)\n",
    "    \n",
    "    X = - deriv(Rq_eq[n])\n",
    "    \n",
    "    for k in range(0, n + 1):\n",
    "        X += - q * (Rq_eq[k] * Rq_eq[n-k])\n",
    "        \n",
    "    Rq_eq[n+1] = simplify(X)\n",
    "    \n",
    "    X = deriv(sigq_eq[n])\n",
    "    \n",
    "    for k in range(0, n + 1):\n",
    "        X += sigq_eq[k] * sigq_eq[n-k]\n",
    "        \n",
    "    X += - deriv(q) * rq_eq[n]\n",
    "    \n",
    "    sigq_eq[n+1] = simplify(X)\n",
    "    \n",
    "    X = deriv(sigs_eq[n])\n",
    "    \n",
    "    for k in range(0, n + 1):\n",
    "        X += sigs_eq[k] * sigs_eq[n-k]\n",
    "        \n",
    "    X += - deriv(q) * Rq_eq[n]\n",
    "    \n",
    "    sigs_eq[n+1] = simplify(X)\n",
    "    \n",
    "    #display(Eq(S_sym[n], S_eq[n]))\n",
    "    #display(Eq(S_plus_sym[n], S_plus_eq[n]))\n",
    "    #display(Eq(S_minus_sym[n], S_minus_eq[n]))\n",
    "    \n",
    "    #display(Eq(S_sym[n], simplify(deriv(variation(S_eq[n], u)) / 2)))\n",
    "    #display(Eq(S_plus_sym[n], simplify(deriv(variation(S_plus_eq[n], u)) / 2)))\n",
    "    #display(Eq(S_minus_sym[n], simplify(deriv(variation(S_minus_eq[n], v)) / 2)))\n"
   ]
  },
  {
   "cell_type": "code",
   "execution_count": null,
   "id": "ce6a836c",
   "metadata": {},
   "outputs": [],
   "source": [
    "for n in range(10):\n",
    "    error = 0\n",
    "    \n",
    "    if n % 2 == 0:\n",
    "        m = n // 2\n",
    "        for k in range(m+1):\n",
    "            error += binomial(-k, m-k) * (-4)**(m-k) * sigs_eq[2*k]\n",
    "            \n",
    "    elif n % 2 == 1:\n",
    "        m = (n - 1) // 2\n",
    "        for k in range(m+1):\n",
    "            error += binomial(-k-Rational(1,2), m-k) * (-4)**(m-k) * sigs_eq[2*k+1]\n",
    "        error += catalan(m)\n",
    "      \n",
    "    error -= sigq_eq[n]\n",
    "    \n",
    "    if simplify(error) != 0:\n",
    "        print(\"sigs error n =\", n)\n",
    "        display(simplify(error))\n",
    "\n",
    "print(\"Check 1 done\")"
   ]
  },
  {
   "cell_type": "code",
   "execution_count": 8,
   "id": "f6d63717",
   "metadata": {},
   "outputs": [
    {
     "data": {
      "text/latex": [
       "$\\displaystyle 0$"
      ],
      "text/plain": [
       "0"
      ]
     },
     "metadata": {},
     "output_type": "display_data"
    },
    {
     "data": {
      "text/latex": [
       "$\\displaystyle 0$"
      ],
      "text/plain": [
       "0"
      ]
     },
     "metadata": {},
     "output_type": "display_data"
    },
    {
     "data": {
      "text/latex": [
       "$\\displaystyle 0$"
      ],
      "text/plain": [
       "0"
      ]
     },
     "metadata": {},
     "output_type": "display_data"
    },
    {
     "data": {
      "text/latex": [
       "$\\displaystyle 0$"
      ],
      "text/plain": [
       "0"
      ]
     },
     "metadata": {},
     "output_type": "display_data"
    },
    {
     "data": {
      "text/latex": [
       "$\\displaystyle 0$"
      ],
      "text/plain": [
       "0"
      ]
     },
     "metadata": {},
     "output_type": "display_data"
    },
    {
     "data": {
      "text/latex": [
       "$\\displaystyle 0$"
      ],
      "text/plain": [
       "0"
      ]
     },
     "metadata": {},
     "output_type": "display_data"
    },
    {
     "data": {
      "text/latex": [
       "$\\displaystyle 0$"
      ],
      "text/plain": [
       "0"
      ]
     },
     "metadata": {},
     "output_type": "display_data"
    },
    {
     "data": {
      "text/latex": [
       "$\\displaystyle 0$"
      ],
      "text/plain": [
       "0"
      ]
     },
     "metadata": {},
     "output_type": "display_data"
    },
    {
     "data": {
      "text/latex": [
       "$\\displaystyle 0$"
      ],
      "text/plain": [
       "0"
      ]
     },
     "metadata": {},
     "output_type": "display_data"
    },
    {
     "data": {
      "text/latex": [
       "$\\displaystyle 0$"
      ],
      "text/plain": [
       "0"
      ]
     },
     "metadata": {},
     "output_type": "display_data"
    }
   ],
   "source": [
    "for m in range(10):\n",
    "    X = 0\n",
    "    for l in range(m+1):\n",
    "        X += (-1)**l * (catalan(l+1) - 2 * catalan(l)) * 4**(-l) * binomial(m, m-l)\n",
    "    X += 4**(-m) * catalan(m+1) * (m+1)\n",
    "    display(X)"
   ]
  },
  {
   "cell_type": "code",
   "execution_count": 8,
   "id": "855b9fd3",
   "metadata": {},
   "outputs": [
    {
     "name": "stdout",
     "output_type": "stream",
     "text": [
      "A_error 0\n",
      "At_error 0\n",
      "B_error 0\n",
      "Bt_error 0\n",
      "D_error 0\n",
      "Dt_error 0\n",
      "E_error 0\n",
      "n = 0\n",
      "[]\n",
      "n = 1\n",
      "[]\n",
      "n = 2\n",
      "[]\n",
      "n = 3\n",
      "[0]\n",
      "n = 4\n",
      "[0]\n",
      "n = 5\n",
      "[0, 6]\n",
      "n = 6\n",
      "[0, -4]\n",
      "n = 7\n",
      "[0, 10, 64]\n",
      "n = 8\n",
      "[0, -8, -44]\n",
      "n = 9\n",
      "[0, 14, 148, 468]\n",
      "n = 10\n",
      "[0, -12, -120, -328]\n",
      "n = 11\n",
      "[0, 18, 264, 1388, 2900]\n",
      "n = 12\n",
      "[0, -16, -228, -1136, -2060]\n",
      "n = 13\n",
      "[0, 22, 412, 3012, 10512, 16356]\n",
      "n = 14\n",
      "[0, -20, -368, -2616, -8664, -11736]\n",
      "n = 15\n",
      "[0, 26, 592, 5532, 26892, 70140, 86800]\n",
      "n = 16\n",
      "[0, -24, -540, -4960, -23460, -58128, -62776]\n",
      "n = 17\n",
      "[0, 30, 804, 9140, 56840, 206772, 430136, 441416]\n",
      "n = 18\n",
      "[0, -28, -744, -8360, -51120, -181032, -358064, -321296]\n",
      "n = 19\n",
      "[0, 34, 1048, 14028, 106180, 494476, 1436256, 2483256, 2175132]\n",
      "n = 20\n",
      "[0, -32, -980, -13008, -97340, -445856, -1261224, -2074848, -1591692]\n",
      "n = 21\n",
      "[0, 38, 1324, 20388, 181760, 1030660, 3834568, 9265704, 13699848, 10461380]\n",
      "n = 22\n",
      "[0, -36, -1248, -19096, -168840, -946680, -3465056, -8157168, -11482776, -7690040]\n",
      "n = 23\n",
      "[0, 42, 1632, 28412, 291452, 1947036, 8823472, 27323032, 56504052, 72950812, 49355680]\n",
      "n = 24\n",
      "[0, -40, -1548, -26816, -273364, -1811376, -8118040, -24736448, -49852836, -61311184, -36422760]\n",
      "n = 25\n",
      "[0, 46, 1972, 38292, 444152, 3414740, 18235224, 68801032, 182413792, 329622612, 377581688, 229243736]\n",
      "n = 26\n",
      "[0, -44, -1880, -36360, -419680, -3206728, -16987152, -63392720, -165416240, -291378120, -318090256, -169752304]\n",
      "n = 27\n",
      "[0, 50, 2344, 50220, 649780, 5649452, 34725376, 154420472, 498971980, 1156403820, 1855117264, 1909322792, 1051078184]\n",
      "n = 28\n",
      "[0, -48, -2244, -47920, -617580, -5343552, -32645256, -144019872, -460341180, -1050169120, -1642647864, -1611865632, -780662584]\n",
      "n = 29\n",
      "[0, 54, 2748, 64388, 919280, 8916516, 61986792, 317325288, 1208722104, 3414834020, 7028281832, 10135724664, 9469031936, 4766935208]\n",
      "n = 30\n",
      "[0, -52, -2640, -61688, -877880, -8481816, -58683072, -298604208, -1128488904, -3154076120, -6390873632, -8988389904, -8008787696, -3550065008]\n",
      "n = 31\n",
      "[0, 58, 3184, 80988, 1264620, 13536060, 104988240, 607930200, 2666104740, 8880537660, 22285336320, 41244981960, 54016324440, 46193127960, 21419265120]\n",
      "n = 32\n",
      "[0, -56, -3068, -77856, -1212420, -12935760, -99945720, -575994240, -2510987220, -8298846960, -20604896520, -37548014400, -47966741160, -39135280800, -15990151920]\n",
      "n = 33\n",
      "[0, 62, 3652, 100212, 1698792, 19888116, 170237560, 1099882440, 5456538000, 20928097780, 61928466264, 139773330840, 234985166000, 281826066120, 222181928880, 95473625872]\n",
      "n = 34\n",
      "[0, -60, -3528, -96616, -1634064, -19079016, -162793840, -1047776400, -5173676640, -19725937000, -57921263664, -129354604080, -214147712480, -250569885840, -188521427040, -71430410272]\n",
      "n = 35\n",
      "[0, 66, 4152, 122252, 2235812, 28417740, 266069408, 1897252280, 10502777340, 45572240780, 155294401328, 413358116712, 847615417480, 1305290025400, 1443746906880, 1055631751664, 422593160876]\n",
      "n = 36\n",
      "[0, -64, -4020, -118160, -2156700, -27349728, -255389288, -1815371360, -10011491820, -43238634560, -146478555608, -386910579552, -785103056920, -1190684031040, -1285061683920, -896946528704, -316803012236]\n",
      "n = 37\n",
      "[0, 70, 4684, 147300, 2890720, 39640132, 402957576, 3143067048, 19204174440, 92988179460, 358508872392, 1099020818616, 2658068495712, 4993422703080, 7093260903120, 7279092643536, 4961923179768, 1859036646276]\n",
      "n = 38\n",
      "[0, -68, -4544, -142680, -2795240, -38255672, -388005408, -3018465648, -18385365240, -88689431160, -340358601792, -1037309898576, -2489765986512, -4628767266480, -6476151702720, -6485666528736, -4221392139288, -1396204745976]\n",
      "n = 39\n",
      "[0, 74, 5248, 175548, 3679580, 54145756, 593851888, 5029303320, 33614979156, 179659258460, 773006415456, 2681243436552, 7469112767928, 16551450139224, 28685989641120, 37814025098928, 36188989823556, 23102934111324, 8133620079232]\n",
      "n = 40\n",
      "[0, -72, -5100, -170368, -3565620, -52379376, -573361880, -4844893248, -32297764356, -172085273360, -737661151656, -2546931434112, -7053966578568, -15513584665824, -26610258694320, -34552162182528, -32274754323876, -19677978049104, -6118940042632]\n",
      "n = 41\n",
      "[0, 78, 5844, 207188, 4619480, 72605460, 854539672, 7808451976, 56668352832, 331327702420, 1573605799480, 6091635527640, 19201796025360, 49013498655240, 100213841936880, 161196024209040, 198203341660560, 177697882430100, 106664296567160, 35413215091640]\n",
      "n = 42\n",
      "[0, -76, -5688, -201416, -4484800, -70383240, -826984144, -7542081872, -54613497744, -318484858120, -1507964595280, -5815942470000, -18249401826240, -46315048424400, -93986649096480, -149631237505440, -181241654495280, -158615984369160, -90949792281680, -26682934933040]\n",
      "n = 43\n",
      "[0, 82, 6472, 242412, 5728532, 95775596, 1204031808, 11806770808, 92453285548, 586954282668, 3049713068688, 13032274555560, 45849513364200, 132437118245880, 311932278073920, 591977639457648, 888297852120540, 1023383243862060, 862930722428400, 488753336293320, 153514183050648]\n",
      "n = 44\n",
      "[0, -80, -6308, -236016, -5570764, -93014656, -1167587400, -11430178592, -89332950044, -565892018016, -2932700487288, -12494016681120, -43794346934520, -125929091218560, -294911284310160, -555504081392448, -825077018140860, -936454597140000, -770888625899160, -417165038992800, -115836131839848]\n",
      "n = 45\n",
      "[0, 86, 7132, 281412, 7025872, 124503140, 1664973352, 17439339368, 146552134168, 1003925093028, 5664139334568, 26480528498424, 102844650134720, 331576308105000, 883810934530320, 1932290765318736, 3421223813579304, 4810688301629220, 5213426573176360, 4149058745503320, 2224363660063776, 662854231745464]\n",
      "n = 46\n",
      "[0, -84, -6960, -274360, -6842520, -121111128, -1617485184, -16916969520, -141925429800, -970381486360, -5462877694560, -25474220298384, -98636452207280, -316847615358960, -840757832657280, -1827733232198496, -3212108747338824, -4470876318988440, -4773669889758880, -3709302062085840, -1900332419650896, -500838611539024]\n",
      "n = 47\n",
      "[0, 90, 7824, 324380, 8531660, 159730812, 2264078736, 25227030744, 226447022340, 1664778359420, 10135079514560, 51452924045640, 218630409349144, 778160199239320, 2315210896032480, 5728639250896944, 11685738332744052, 19389758819744124, 25649597252132960, 26239199058904040, 19770764851902504, 10061147483539592, 2851891638829664]\n",
      "n = 48\n",
      "[0, -88, -7644, -316640, -8320100, -155605392, -2203022520, -24514708224, -219730838580, -1612727935280, -9799643447880, -49641569285568, -210396978621544, -746598714783520, -2213243023175280, -5451869310284544, -11058393134022612, -18213486572141424, -23850592638152360, -24040415641816640, -17687706877819704, -8603006901681632, -2157538980802064]\n",
      "n = 49\n",
      "[0, 94, 8548, 371508, 10267080, 202502196, 3032591544, 35815514952, 342003867888, 2685761301300, 17548011679000, 96130039544344, 443569103588208, 1727341708114248, 5673767584453680, 15670966498812432, 36180065784049344, 69168293246077236, 107978751058739928, 134847691977890040, 130623463380125232, 93445710341990424, 45254020553790096, 12230140462092528]\n",
      "n = 50\n",
      "[0, -92, -8360, -363048, -10024560, -197530536, -2955033648, -34858967568, -332438394048, -2606846142120, -17004373915760, -92976940517552, -428090253820320, -1662846500748048, -5445553773773280, -14986325066771232, -34445640822878304, -65482640203588776, -101474657454348528, -125452890104880240, -119745271737692832, -83655337863801264, -38727105568330656, -9263360923247328]\n",
      "n = 51\n",
      "[0, 98, 9304, 422988, 12254340, 253966860, 4006768864, 49996408632, 506043327324, 4227566515660, 29505655021040, 173474158607848, 863763449583944, 3652785986171448, 13127689794288000, 40031184066268400, 103169636882158860, 223243219268501580, 401564366952106960, 591853274233825800, 699950549226108600, 643824676483758440, 438400414705917120, 202509583600500240, 52291819544287000]\n",
      "n = 52\n",
      "[0, -96, -9108, -413776, -11977980, -248025120, -3909324328, -48729629664, -492651663948, -4110389461120, -28646356621080, -168146508528096, -835672203708888, -3526375379733696, -12641495154142800, -38433687391505600, -98696646192823020, -212619866381328960, -380317661177761720, -556442097943250400, -651493150091637000, -590521537435839680, -392712009807701040, -173435144119817280, -39650758900511800]\n",
      "n = 53\n",
      "[0, 102, 10092, 479012, 14516672, 315385476, 5228390216, 68730685736, 735008471496, 6508639166276, 48325678191752, 303507243586872, 1621942561223712, 7401704399485032, 28888060571168592, 96385311982570960, 274260667168657240, 662499250094803140, 1348868338480079240, 2290851091699462040, 3197662276179739200, 3591257257747152760, 3144603123910184560, 2042828814484077360, 901980912846799760, 222969625381057256]\n",
      "n = 54\n",
      "[0, -100, -9888, -469016, -14203464, -308338296, -5107178720, -67074128624, -716549692248, -6337895458232, -46997671573632, -294742399907280, -1572540715029648, -7162928809547056, -27896223505272384, -92843036747227360, -263397689780270200, -633983934450287160, -1285128221157043520, -2170453092311505680, -3007560171882966000, -3344124522161347600, -2885702162820293440, -1831000755410530080, -773042094280292720, -169245117645012656]\n",
      "n = 55\n",
      "[0, 106, 10912, 539772, 17078332, 388134940, 6745291056, 93174463896, 1049739530676, 9821490432156, 77297589330208, 516459449681032, 2948295872359032, 14440469168191192, 60819563461214752, 220377830335175088, 686141684076968100, 1829984578152797340, 4159506366503922240, 7996389173092851240, 12862326671624748360, 17050731266898379080, 18231057695603868960, 15231574895261658960, 9459817217923255560, 4000138394413268952, 948332548618637760]\n",
      "n = 56\n",
      "[0, -104, -10700, -528960, -16725140, -379834928, -6595890840, -91033060800, -1024654522980, -9576911607120, -75286607879912, -502382579528960, -2863834651446600, -14004086193476960, -58872624035566640, -212868206836246656, -661109605747206660, -1758017352954733200, -3981704986602822600, -7621030704412752000, -12190632569776149720, -16043190114125481120, -16983625792170757200, -13984142991828547200, -8483566163062559400, -3430658612411196192, -720540635817808656]\n",
      "n = 57\n",
      "[0, 110, 11764, 605460, 19964600, 473713492, 8611920856, 124707281160, 1476366571680, 14552499199700, 121012175051768, 857048718222424, 5205055981179600, 27233944528589960, 123110103521330800, 481395101416387984, 1627753878667414512, 4750353049756143060, 11921856344293203000, 25587043477160134200, 46589402302535603280, 71173902972418286040, 89830707921631536720, 91651841425634271600, 73213972186657411200, 43554736572311889288, 17669426762089522224, 4024032098769378416]\n",
      "n = 58\n",
      "[0, -108, -11544, -593800, -19568160, -464000712, -8429320592, -121968277200, -1442715951600, -14207580343880, -118022878301328, -834927922269168, -5064287279658880, -26459716670226000, -119417632196825760, -466097720214867104, -1572683306341939344, -4578257511239033160, -11456186063599846800, -24500479488875636400, -44416274325966607680, -67479585412250993520, -84553111407106833120, -85414681908468712800, -67247993518064268000, -39080252570867031888, -15163715721280402080, -3060297083073562976]\n",
      "n = 59\n",
      "[0, 114, 12648, 676268, 23201780, 573745836, 10889925760, 164962977784, 2047331493900, 21205732872940, 185778998422864, 1390210825621800, 8949768809047976, 49818149564656760, 240575712506892480, 1009689186287470192, 3684391226528128060, 11677573792720258668, 32068887149677759920, 75996744353096905800, 154489610501921966040, 267171452955739412520, 388618505045822486400, 468057609493854161040, 456633336268710564600, 349437376175897211384, 199470230911977280416, 77762036230201030288, 17038127272309640272]\n",
      "n = 60\n",
      "[0, -112, -12420, -663728, -22758700, -562447296, -10668474376, -161493572768, -2002724857980, -20726211536800, -181410026249144, -1356132842666784, -8720516923714232, -48480846900209920, -233786329748931600, -979621919787929152, -3568131129396569372, -11285195964901248096, -30914834714915964120, -73047499242038983200, -147970226572214979240, -254784623489296137600, -368563638290628612720, -440710063918589787840, -425718719531455186200, -321098977500079781184, -179066583865388730672, -66775457051268734272, -12969023872705086192]\n",
      "n = 0\n",
      "n = 1\n",
      "n = 2\n",
      "n = 3\n",
      "[0, 0]\n",
      "n = 4\n",
      "[0, 0, 0]\n",
      "n = 5\n",
      "[0, 0, 0, 0]\n",
      "[0, -6]\n",
      "n = 6\n",
      "[0, 0, 0, 0, 0]\n",
      "[0, -8, -12]\n",
      "n = 7\n",
      "[0, 0, 0, 0, 0, 0]\n",
      "[0, -10, -20, -20]\n",
      "[0, -64]\n",
      "n = 8\n",
      "[0, 0, 0, 0, 0, 0, 0]\n",
      "[0, -12, -30, -40, -30]\n",
      "[0, -106, -150]\n",
      "n = 9\n",
      "[0, 0, 0, 0, 0, 0, 0, 0]\n",
      "[0, -14, -42, -70, -70, -42]\n",
      "[0, -158, -298, -288]\n",
      "[0, -468]\n",
      "n = 10\n",
      "[0, 0, 0, 0, 0, 0, 0, 0, 0]\n",
      "[0, -16, -56, -112, -140, -112, -56]\n",
      "[0, -220, -518, -668, -490]\n",
      "[0, -908, -1236]\n",
      "n = 11\n",
      "[0, 0, 0, 0, 0, 0, 0, 0, 0, 0]\n",
      "[0, -18, -72, -168, -252, -252, -168, -72]\n",
      "[0, -292, -824, -1328, -1300, -768]\n",
      "[0, -1548, -2808, -2648]\n",
      "[0, -2900]\n",
      "n = 12\n",
      "[0, 0, 0, 0, 0, 0, 0, 0, 0, 0, 0]\n",
      "[0, -20, -90, -240, -420, -504, -420, -240, -90]\n",
      "[0, -374, -1230, -2378, -2910, -2294, -1134]\n",
      "[0, -2424, -5484, -6904, -4980]\n",
      "[0, -6370, -8430]\n",
      "n = 13\n",
      "[0, 0, 0, 0, 0, 0, 0, 0, 0, 0, 0, 0]\n",
      "[0, -22, -110, -330, -660, -924, -924, -660, -330, -110]\n",
      "[0, -466, -1750, -3946, -5794, -5710, -3766, -1600]\n",
      "[0, -3572, -9676, -15220, -14660, -8556]\n",
      "[0, -12102, -21342, -19752]\n",
      "[0, -16356]\n",
      "n = 14\n",
      "[0, 0, 0, 0, 0, 0, 0, 0, 0, 0, 0, 0, 0]\n",
      "[0, -24, -132, -440, -990, -1584, -1848, -1584, -990, -440, -132]\n",
      "[0, -568, -2398, -6178, -10582, -12514, -10318, -5848, -2178]\n",
      "[0, -5028, -15860, -29916, -36020, -28068, -13748]\n",
      "[0, -20876, -45886, -56716, -40370]\n",
      "[0, -39780, -51516]\n",
      "n = 15\n",
      "[0, 0, 0, 0, 0, 0, 0, 0, 0, 0, 0, 0, 0, 0]\n",
      "[0, -26, -156, -572, -1430, -2574, -3432, -3432, -2574, -1430, -572, -156]\n",
      "[0, -680, -3188, -9238, -18082, -24946, -24682, -17488, -8688, -2880]\n",
      "[0, -6828, -24576, -54048, -78072, -76056, -49728, -20976]\n",
      "[0, -33584, -88324, -136372, -129680, -74940]\n",
      "[0, -82740, -142800, -130200]\n",
      "[0, -86800]\n",
      "n = 16\n",
      "[0, 0, 0, 0, 0, 0, 0, 0, 0, 0, 0, 0, 0, 0, 0]\n",
      "[0, -28, -182, -728, -2002, -4004, -6006, -6864, -6006, -4004, -2002, -728, -182]\n",
      "[0, -802, -4134, -13308, -29302, -46198, -53326, -45340, -28158, -12450, -3718]\n",
      "[0, -9008, -36428, -91508, -154172, -180212, -147308, -82928, -30708]\n",
      "[0, -51230, -156790, -290210, -344950, -266270, -129430]\n",
      "[0, -154952, -333172, -405832, -285740]\n",
      "[0, -230132, -292908]\n",
      "n = 17\n",
      "[0, 0, 0, 0, 0, 0, 0, 0, 0, 0, 0, 0, 0, 0, 0, 0]\n",
      "[0, -30, -210, -910, -2730, -6006, -10010, -12870, -12870, -10010, -6006, -2730, -910, -210]\n",
      "[0, -934, -5250, -18588, -45472, -80650, -106390, -105532, -78648, -43470, -17314, -4704]\n",
      "[0, -11604, -52084, -147124, -283216, -386176, -378784, -266584, -131724, -43460]\n",
      "[0, -74930, -261530, -564230, -804470, -776330, -503930, -211280]\n",
      "[0, -268820, -691228, -1051588, -989540, -567132]\n",
      "[0, -517356, -877716, -790496]\n",
      "[0, -441416]\n",
      "n = 18\n",
      "[0, 0, 0, 0, 0, 0, 0, 0, 0, 0, 0, 0, 0, 0, 0, 0, 0]\n",
      "[0, -32, -240, -1120, -3640, -8736, -16016, -22880, -25740, -22880, -16016, -8736, -3640, -1120, -240]\n",
      "[0, -1076, -6550, -25296, -68066, -134132, -199054, -225652, -196194, -130128, -64790, -23476, -5850]\n",
      "[0, -14652, -72276, -226760, -490980, -765012, -875364, -739272, -456660, -201020, -59796]\n",
      "[0, -105912, -415142, -1022762, -1700558, -1968938, -1597862, -894392, -329562]\n",
      "[0, -439756, -1315260, -2398132, -2820540, -2160076, -1043196]\n",
      "[0, -1040536, -2198588, -2646168, -1846180]\n",
      "[0, -1261144, -1582440]\n",
      "n = 19\n",
      "[0, 0, 0, 0, 0, 0, 0, 0, 0, 0, 0, 0, 0, 0, 0, 0, 0, 0]\n",
      "[0, -34, -272, -1360, -4760, -12376, -24752, -38896, -48620, -48620, -38896, -24752, -12376, -4760, -1360, -272]\n",
      "[0, -1228, -8048, -33668, -98824, -214212, -353208, -450448, -447588, -346344, -206932, -93728, -31148, -7168]\n",
      "[0, -18188, -97800, -337416, -811604, -1422500, -1860080, -1832624, -1358436, -747540, -296648, -80328]\n",
      "[0, -145516, -632816, -1752726, -3329334, -4496214, -4378206, -3063816, -1506876, -495140]\n",
      "[0, -686500, -2340616, -4973080, -7015120, -6716416, -4333000, -1807216]\n",
      "[0, -1928664, -4871520, -7321968, -6829560, -3886704]\n",
      "[0, -3034776, -5076816, -4525296]\n",
      "[0, -2175132]\n",
      "n = 20\n",
      "[0, 0, 0, 0, 0, 0, 0, 0, 0, 0, 0, 0, 0, 0, 0, 0, 0, 0, 0]\n",
      "[0, -36, -306, -1632, -6120, -17136, -37128, -63648, -87516, -97240, -87516, -63648, -37128, -17136, -6120, -1632, -306]\n",
      "[0, -1390, -9758, -43958, -139774, -330510, -599454, -849418, -949518, -839694, -585310, -318134, -132158, -40558, -8670]\n",
      "[0, -22248, -129516, -487328, -1289220, -2510440, -3692764, -4157800, -3595524, -2374304, -1177836, -425448, -105716]\n",
      "[0, -195194, -932574, -2868332, -6127478, -9455198, -10740086, -9018476, -5545182, -2431610, -720830]\n",
      "[0, -1031440, -3947860, -9576460, -15751300, -18092044, -14592340, -8127760, -2982060]\n",
      "[0, -3356172, -9856764, -17751924, -20694780, -15742476, -7560252]\n",
      "[0, -6500592, -13540824, -16134384, -11169000]\n",
      "[0, -6637602, -8229294]\n",
      "n = 21\n",
      "[0, 0, 0, 0, 0, 0, 0, 0, 0, 0, 0, 0, 0, 0, 0, 0, 0, 0, 0, 0]\n",
      "[0, -38, -342, -1938, -7752, -23256, -54264, -100776, -151164, -184756, -184756, -151164, -100776, -54264, -23256, -7752, -1938, -342]\n",
      "[0, -1562, -11694, -56438, -193254, -495038, -979470, -1526666, -1896178, -1886454, -1502798, -952950, -475046, -182238, -51950, -10368]\n",
      "[0, -26868, -168348, -686068, -1979724, -4240164, -6929708, -8777268, -8674308, -6682604, -3978084, -1796268, -595348, -136668]\n",
      "[0, -256510, -1335510, -4516220, -10716700, -18600290, -24142970, -23649620, -17449140, -9565550, -3783670, -1021560]\n",
      "[0, -1500932, -6371732, -17373052, -32640568, -43725928, -42315112, -29466232, -14433852, -4725780]\n",
      "[0, -5552308, -18582892, -38991508, -54511012, -51838972, -33265708, -13811392]\n",
      "[0, -12779592, -31812984, -47332488, -43818600, -24785208]\n",
      "[0, -16967958, -28053318, -24785208]\n",
      "[0, -10461380]\n",
      "n = 22\n",
      "[0, 0, 0, 0, 0, 0, 0, 0, 0, 0, 0, 0, 0, 0, 0, 0, 0, 0, 0, 0, 0]\n",
      "[0, -40, -380, -2280, -9690, -31008, -77520, -155040, -251940, -335920, -369512, -335920, -251940, -155040, -77520, -31008, -9690, -2280, -380]\n",
      "[0, -1744, -13870, -71398, -261934, -722566, -1548766, -2633434, -3597878, -3977114, -3564286, -2583046, -1502254, -691558, -246430, -65584, -12274]\n",
      "[0, -32084, -215284, -944644, -2952692, -6898452, -12400884, -17451644, -19402164, -17082132, -11863412, -6428164, -2663284, -815444, -173940]\n",
      "[0, -331140, -1866030, -6881040, -17956650, -34623300, -50552070, -56588100, -48707370, -32040720, -15843630, -5707140, -1414530]\n",
      "[0, -2125620, -9910908, -30003288, -63388332, -97018236, -109514412, -91504728, -56036988, -24489780, -7237692]\n",
      "[0, -8811376, -33097036, -79270996, -129204124, -147395668, -118252876, -65581936, -23970996]\n",
      "[0, -23503944, -68012520, -121232568, -140265960, -106079304, -50694504]\n",
      "[0, -38453484, -79150254, -93503724, -64289730]\n",
      "[0, -33859060, -41549100]\n",
      "n = 23\n",
      "[0, 0, 0, 0, 0, 0, 0, 0, 0, 0, 0, 0, 0, 0, 0, 0, 0, 0, 0, 0, 0, 0]\n",
      "[0, -42, -420, -2660, -11970, -40698, -108528, -232560, -406980, -587860, -705432, -705432, -587860, -406980, -232560, -108528, -40698, -11970, -2660, -420]\n",
      "[0, -1936, -16300, -89146, -348838, -1031014, -2379862, -4383754, -6533642, -7944506, -7910914, -6449662, -4286854, -2302342, -984502, -327520, -81736, -14400]\n",
      "[0, -37932, -271376, -1275600, -4293440, -10866048, -21307856, -32983728, -40743480, -40354520, -32029008, -20247056, -10066368, -3852800, -1096080, -218336]\n",
      "[0, -420872, -2552092, -10191472, -29006996, -61514016, -99782532, -125648372, -123592032, -94847316, -56279696, -25342972, -8379592, -1919372]\n",
      "[0, -2940756, -14938560, -49714392, -116657268, -200813340, -259011480, -252452928, -185510052, -101353980, -39975936, -10764936]\n",
      "[0, -13503840, -56243768, -151392668, -281830052, -374947076, -360905972, -250237568, -122140368, -39862480]\n",
      "[0, -40970776, -135071200, -280457056, -389093584, -367863760, -234964576, -97160800]\n",
      "[0, -79710312, -196033596, -289150620, -265944360, -149621076]\n",
      "[0, -91391652, -149589792, -131148952]\n",
      "[0, -49355680]\n",
      "n = 24\n",
      "[0, 0, 0, 0, 0, 0, 0, 0, 0, 0, 0, 0, 0, 0, 0, 0, 0, 0, 0, 0, 0, 0, 0]\n",
      "[0, -44, -462, -3080, -14630, -52668, -149226, -341088, -639540, -994840, -1293292, -1410864, -1293292, -994840, -639540, -341088, -149226, -52668, -14630, -3080, -462]\n",
      "[0, -2138, -18998, -110008, -457366, -1441870, -3565918, -7073698, -11421278, -15149990, -16594446, -15032418, -11240398, -6899278, -3441886, -1374040, -428638, -100698, -16758]\n",
      "[0, -44448, -337740, -1693116, -6105228, -16638972, -35345772, -59685828, -81098076, -89246788, -79687212, -57569532, -33392268, -15336636, -5454060, -1448928, -270708]\n",
      "[0, -527606, -3425446, -14726686, -45399398, -105015318, -187362726, -262125986, -290048166, -254375958, -176089958, -95151646, -39329446, -12016886, -2558310]\n",
      "[0, -3986520, -21913716, -79513440, -205170972, -392329944, -569186052, -633942744, -543428892, -356269920, -175667316, -63122520, -15609516]\n",
      "[0, -20088292, -91875084, -274538488, -574645372, -873396748, -980554876, -815751160, -497784588, -216892900, -63925708]\n",
      "[0, -68323552, -252736792, -598927912, -968642488, -1098508840, -877212952, -484640992, -176545512]\n",
      "[0, -154132638, -440531190, -778372386, -894695670, -673177758, -320308758]\n",
      "[0, -217948456, -444085796, -520724776, -355898620]\n",
      "[0, -168465660, -204888420]\n",
      "n = 25\n",
      "[0, 0, 0, 0, 0, 0, 0, 0, 0, 0, 0, 0, 0, 0, 0, 0, 0, 0, 0, 0, 0, 0, 0, 0]\n",
      "[0, -46, -506, -3542, -17710, -67298, -201894, -490314, -980628, -1634380, -2288132, -2704156, -2704156, -2288132, -1634380, -980628, -490314, -201894, -67298, -17710, -3542, -506]\n",
      "[0, -2350, -21978, -134328, -591316, -1980634, -5224846, -11104738, -19308938, -27746990, -33155302, -33037730, -27448538, -18953638, -10806286, -5032984, -1884076, -553278, -122778, -19360]\n",
      "[0, -51668, -415556, -2213108, -8511608, -24852824, -56853080, -104000744, -154153600, -186603472, -185125424, -150458480, -99737144, -53442200, -22806296, -7573616, -1887068, -331956]\n",
      "[0, -653354, -4521874, -20823242, -69120106, -173187986, -337053298, -518666678, -637649542, -629102146, -497686706, -313742218, -155615018, -59437042, -16878290, -3356320]\n",
      "[0, -5308340, -31393420, -123344020, -347098460, -729944196, -1176471420, -1473928580, -1443841380, -1104262140, -653358596, -293488540, -96833620, -22135820]\n",
      "[0, -29124284, -145093956, -476560728, -1107807344, -1893572324, -2428995212, -2357127416, -1725880800, -940115820, -369847940, -99359904]\n",
      "[0, -109763272, -450134600, -1198657320, -2213915520, -2927812704, -2804925984, -1937420400, -942643320, -306766760]\n",
      "[0, -281759698, -917308546, -1887729118, -2601626302, -2447088226, -1556576098, -641347696]\n",
      "[0, -474082004, -1153964284, -1689387172, -1544927780, -865045500]\n",
      "[0, -477737348, -775194508, -675038848]\n",
      "[0, -229243736]\n",
      "n = 26\n",
      "[0, 0, 0, 0, 0, 0, 0, 0, 0, 0, 0, 0, 0, 0, 0, 0, 0, 0, 0, 0, 0, 0, 0, 0, 0]\n",
      "[0, -48, -552, -4048, -21252, -85008, -269192, -692208, -1470942, -2615008, -3922512, -4992288, -5408312, -4992288, -3922512, -2615008, -1470942, -692208, -269192, -85008, -21252, -4048, -552]\n",
      "[0, -2572, -25254, -162468, -754906, -2677288, -7503934, -17011762, -31692758, -49045610, -63488878, -69014762, -63072854, -48391858, -31039006, -16521448, -7215514, -2542692, -705318, -148300, -22218]\n",
      "[0, -59628, -506068, -2853328, -11658916, -36310276, -88992868, -175311388, -281500868, -371728980, -405656900, -366320668, -273180388, -167288068, -83287396, -33190096, -10337428, -2425068, -403028]\n",
      "[0, -800240, -5881430, -28882430, -102703910, -277101470, -584180630, -980614850, -1326059950, -1453590210, -1293643670, -931990430, -539296550, -247178750, -87742550, -23271920, -4341290]\n",
      "[0, -6957212, -44045692, -186288172, -567763196, -1302300636, -2308521852, -3213202772, -3540747132, -3094628316, -2136049916, -1151387692, -474893692, -144828572, -30778620]\n",
      "[0, -41286024, -222533916, -796833824, -2036684436, -3866948872, -5579141068, -6186431752, -5283960468, -3453696032, -1698568476, -608991624, -150286916]\n",
      "[0, -170791736, -768980712, -2272956944, -4719894536, -7130386664, -7967170568, -6602658320, -4016256744, -1745228600, -513112424]\n",
      "[0, -491632504, -1795603414, -4216792954, -6774055486, -7642490746, -6077725654, -3346380664, -1215328554]\n",
      "[0, -959620860, -2714127020, -4759231620, -5439113900, -4073891580, -1930881260]\n",
      "[0, -1193551304, -2410745524, -2808358344, -1909254380]\n",
      "[0, -821327528, -991079832]\n",
      "n = 27\n",
      "[0, 0, 0, 0, 0, 0, 0, 0, 0, 0, 0, 0, 0, 0, 0, 0, 0, 0, 0, 0, 0, 0, 0, 0, 0, 0]\n",
      "[0, -50, -600, -4600, -25300, -106260, -354200, -961400, -2163150, -4085950, -6537520, -8914800, -10400600, -10400600, -8914800, -6537520, -4085950, -2163150, -961400, -354200, -106260, -25300, -4600, -600]\n",
      "[0, -2804, -28840, -194808, -952796, -3566792, -10585012, -25496326, -50665778, -84007130, -117110754, -137911954, -137495930, -116040978, -82699626, -49521712, -24717592, -10161996, -3382608, -889040, -177604, -25344]\n",
      "[0, -68364, -610584, -3633464, -15718908, -52011948, -135969984, -286978944, -496244184, -709899640, -845107440, -839463984, -695573944, -479189784, -272653248, -126760608, -47377164, -13893084, -3079064, -484920]\n",
      "[0, -970500, -7548680, -39378050, -149340170, -431668010, -979966970, -1781969510, -2628655870, -3169487070, -3134047510, -2540056970, -1679740010, -898183370, -382597850, -126849680, -31560500, -5544180]\n",
      "[0, -8990020, -60663288, -274795288, -901723464, -2240300200, -4331734584, -6631545448, -8118831248, -7982345184, -6296534200, -3959499864, -1959692488, -747102888, -211801720, -42051552]\n",
      "[0, -57376936, -332677136, -1289751576, -3594919168, -7506027096, -12030335456, -15004907056, -14644998936, -11166555968, -6589897336, -2953628336, -972629736, -221936176]\n",
      "[0, -258489112, -1267547760, -4117725584, -9495387016, -16131383240, -20593240640, -19906387616, -14528726184, -7892729960, -3097852912, -830459472]\n",
      "[0, -824717972, -3338838152, -8809773622, -16161093598, -21260359198, -20283121222, -13962308152, -6773861172, -2198727180]\n",
      "[0, -1832387700, -5902473720, -12053269800, -16515127200, -15463596720, -9799990200, -4024740720]\n",
      "[0, -2713390680, -6546235696, -9520807296, -8662533880, -4829688864]\n",
      "[0, -2436869032, -3924154832, -3396608592]\n",
      "[0, -1051078184]\n",
      "n = 28\n",
      "[0, 0, 0, 0, 0, 0, 0, 0, 0, 0, 0, 0, 0, 0, 0, 0, 0, 0, 0, 0, 0, 0, 0, 0, 0, 0, 0]\n",
      "[0, -52, -650, -5200, -29900, -131560, -460460, -1315600, -3124550, -6249100, -10623470, -15452320, -19315400, -20801200, -19315400, -15452320, -10623470, -6249100, -3124550, -1315600, -460460, -131560, -29900, -5200, -650]\n",
      "[0, -3046, -32750, -231746, -1190110, -4689606, -14690190, -37465756, -79103990, -139902926, -208962910, -265007286, -286224510, -263521486, -206585630, -137451356, -77181190, -36264006, -14082990, -4441666, -1109150, -211046, -28750]\n",
      "[0, -77912, -730476, -4575240, -20891540, -73190864, -203288348, -457654724, -847887820, -1306224820, -1684571516, -1825422772, -1663770316, -1273537220, -815200220, -433139024, -188867348, -66461064, -18412140, -3866840, -578676]\n",
      "[0, -1166482, -9572942, -52864632, -212991654, -656638614, -1597064742, -3127328922, -4997479542, -6573246670, -7149517430, -6438156442, -4789648422, -2926920342, -1454551974, -578701944, -179983182, -42167442, -6999182]\n",
      "[0, -11469856, -82178260, -396939652, -1395274036, -3732594244, -7817682004, -13055079676, -17579987492, -19203759356, -17040701524, -12246150724, -7070978356, -3234791812, -1146372820, -303601696, -56556076]\n",
      "[0, -78345084, -486213468, -2028959628, -6124558044, -13946973372, -24584429916, -34065093108, -37399572828, -32587181244, -22434739932, -12065994636, -4967032668, -1512207228, -320852700]\n",
      "[0, -381828048, -2025491160, -7172735808, -18185217288, -34314618576, -49268093112, -54416803536, -46328276232, -30198874944, -14817790680, -5301943248, -1305955560]\n",
      "[0, -1337483706, -5944046238, -17407285740, -35898648630, -53944767006, -60021270582, -49570781676, -30066668190, -13033300410, -3823326078]\n",
      "[0, -3333311696, -12043839236, -28063231196, -44816878964, -50330266844, -39877633796, -21889174736, -7927801596]\n",
      "[0, -5728391812, -16056265940, -27967789564, -31800634580, -23721955972, -11203884692]\n",
      "[0, -6354179728, -12736344296, -14751176336, -9980877400]\n",
      "[0, -3937146356, -4717808940]\n",
      "n = 29\n",
      "[0, 0, 0, 0, 0, 0, 0, 0, 0, 0, 0, 0, 0, 0, 0, 0, 0, 0, 0, 0, 0, 0, 0, 0, 0, 0, 0, 0]\n",
      "[0, -54, -702, -5850, -35100, -161460, -592020, -1776060, -4440150, -9373650, -16872570, -26075790, -34767720, -40116600, -40116600, -34767720, -26075790, -16872570, -9373650, -4440150, -1776060, -592020, -161460, -35100, -5850, -702]\n",
      "[0, -3298, -36998, -273698, -1472458, -6092238, -20088198, -54078748, -120896048, -227178818, -361940878, -491799798, -572032998, -570547198, -487936718, -357112028, -222804448, -117771498, -52269798, -19233058, -5763338, -1370798, -248998, -32448]\n",
      "[0, -88308, -867180, -5702516, -27407892, -101350684, -298053124, -712916452, -1408835456, -2325395760, -3229594208, -3791226608, -3769593360, -3173965856, -2257405552, -1349344024, -672422284, -276056292, -91773116, -24092580, -4807908, -685388]\n",
      "[0, -1390646, -12008526, -69986096, -298526912, -977780522, -2536529426, -5321493566, -9157544926, -13048373210, -15482113610, -15335501326, -12676203566, -8714485826, -4949323922, -2297277512, -857372696, -251093526, -55583246, -8743880]\n",
      "[0, -14466340, -109677316, -562708300, -2109422224, -6045298672, -13634010544, -24663277072, -36228364424, -43529585624, -42916330072, -34695225544, -22894270672, -12218805424, -5196175600, -1720240816, -427431340, -74990916]\n",
      "[0, -105299460, -696442908, -3112418988, -10114748364, -24947572860, -47965002204, -73098541908, -89161228548, -87391596684, -68754900060, -43138733484, -21309308748, -8109990588, -2295665820, -455129472]\n",
      "[0, -552026568, -3149650968, -12075119688, -33382865784, -69268794408, -110477539128, -137248683528, -133519540968, -101527596984, -59776431528, -26738211768, -8789301768, -2002222488]\n",
      "[0, -2106212334, -10193339070, -32805280188, -75123237012, -126940062930, -161360105730, -155436670212, -113118713388, -61301887470, -24009875934, -6423880104]\n",
      "[0, -5819421348, -23304237268, -61004808748, -111243624232, -145663667032, -138449905048, -95012659768, -45976137948, -14888181620]\n",
      "[0, -11387458940, -36347128532, -73723664300, -100494808700, -93713866532, -59193073940, -24238303232]\n",
      "[0, -15045947800, -36018857576, -52081544216, -47171321080, -26198411304]\n",
      "[0, -12178795356, -19480016556, -16770253136]\n",
      "[0, -4766935208]\n",
      "n = 30\n",
      "[0, 0, 0, 0, 0, 0, 0, 0, 0, 0, 0, 0, 0, 0, 0, 0, 0, 0, 0, 0, 0, 0, 0, 0, 0, 0, 0, 0, 0]\n",
      "[0, -56, -756, -6552, -40950, -196560, -753480, -2368080, -6216210, -13813800, -26246220, -42948360, -60843510, -74884320, -80233200, -74884320, -60843510, -42948360, -26246220, -13813800, -6216210, -2368080, -753480, -196560, -40950, -6552, -756]\n",
      "[0, -3560, -41598, -321098, -1805958, -7827818, -27101358, -76798148, -181223898, -360573068, -610366638, -884645318, -1102463598, -1184182598, -1097114718, -875953388, -601163418, -353074148, -176290398, -74134058, -25917318, -7397258, -1679598, -291848, -36450]\n",
      "[0, -99588, -1022196, -7041388, -35533236, -138307908, -429322676, -1087285608, -2282901876, -4019267188, -5980760916, -7560820068, -8144085716, -7480586868, -5852387796, -3886882408, -2179070676, -1022391108, -396533876, -124919148, -31161396, -5923588, -806196]\n",
      "[0, -1645564, -14914974, -91484852, -411866914, -1428256904, -3936493910, -8808722810, -16240760302, -24920440850, -32031783270, -34612135954, -31470566894, -24038529402, -15358848854, -8147289224, -3547415330, -1246686900, -344972702, -72372220, -10819410]\n",
      "[0, -18055940, -144417980, -784320880, -3123394540, -9546732748, -23066499820, -44932449940, -71497843340, -93711897020, -101626373772, -91284035220, -67762671340, -41330676940, -20505239020, -8146043248, -2530161340, -592069380, -98161980]\n",
      "[0, -139527136, -979723948, -4668402172, -16250698828, -43156337980, -89874574636, -149402156932, -200435050844, -218267369348, -193172393260, -138508170556, -79818587212, -36452346364, -12898703020, -3411403744, -634665556]\n",
      "[0, -782941992, -4780951656, -19727552136, -59060579688, -133651849896, -234426434664, -323534148216, -354034435176, -307627123368, -211288943976, -113406545544, -46601930856, -14165655336, -3001144680]\n",
      "[0, -3232149924, -16919948958, -59354392464, -149428722810, -280438411620, -400912412982, -441255891300, -374573194362, -243563505552, -119258345118, -42593071524, -10473287058]\n",
      "[0, -9806414852, -43104359532, -125225619896, -256694030684, -383918579564, -425552384348, -350370091448, -211962713196, -91677131780, -26838425900]\n",
      "[0, -21529922128, -77074185188, -178364911868, -283363269332, -316915355900, -250262240228, -136988625488, -49489994268]\n",
      "[0, -33025965752, -91844105496, -159039660104, -180012569880, -133789925048, -62987265432]\n",
      "[0, -33038309304, -65775671052, -75786655672, -51058081620]\n",
      "[0, -18605917288, -22155982296]\n",
      "n = 31\n",
      "[0, 0, 0, 0, 0, 0, 0, 0, 0, 0, 0, 0, 0, 0, 0, 0, 0, 0, 0, 0, 0, 0, 0, 0, 0, 0, 0, 0, 0, 0]\n",
      "[0, -58, -812, -7308, -47502, -237510, -950040, -3121560, -8584290, -20030010, -40060020, -69194580, -103791870, -135727830, -155117520, -155117520, -135727830, -103791870, -69194580, -40060020, -20030010, -8584290, -3121560, -950040, -237510, -47502, -7308, -812]\n",
      "[0, -3832, -46564, -374398, -2197258, -9956698, -36113218, -107451628, -266902348, -560544268, -1004684848, -1547163538, -2056644358, -2366879398, -2361530518, -2042603548, -1529268388, -987982708, -548111848, -259304758, -103603498, -34498618, -9399778, -2041648, -340000, -40768]\n",
      "[0, -111788, -1197088, -8620288, -45570248, -186238248, -608515488, -1626688688, -3616305988, -6764698708, -10736985008, -14543010288, -16869773088, -16786568288, -14326677808, -10466569408, -6519733988, -3441331188, -1525387488, -560627648, -167819848, -39877288, -7237088, -942288]\n",
      "[0, -1933920, -18357300, -118211340, -560146680, -2050230660, -5982837360, -14224006230, -27972410790, -45986547150, -63654789270, -74513015670, -73907700750, -62098265190, -44084128830, -26307794760, -13090948260, -5367349080, -1782242940, -467381700, -93179520, -13270620]\n",
      "[0, -22322292, -187845552, -1076583192, -4538733324, -14738083044, -37980257352, -79262680632, -135819218352, -192843193920, -228132429720, -225399586152, -185905975632, -127560625152, -72325462344, -33520617024, -12493688892, -3654578052, -808114992, -126992760]\n",
      "[0, -182511280, -1355970280, -6862529380, -25474810060, -72471775180, -162512030380, -292630319380, -428237864180, -512932030100, -504365734180, -406822124380, -267919850380, -142743655180, -60610750060, -20038506880, -4972905280, -871451280]\n",
      "[0, -1091508120, -7102529280, -31383947520, -101149572960, -247907760480, -474265825920, -719874547200, -875147184720, -855389572560, -671378590080, -420381429120, -207287215200, -78766823520, -22265049600, -4408309440]\n",
      "[0, -4847588640, -27291713940, -103640072040, -284500022220, -587108417400, -932315047740, -1154133101340, -1119471746040, -849127795020, -498879513000, -222739789140, -73099297440, -16626681540]\n",
      "[0, -16022729860, -76687640400, -244817774520, -557214376180, -937079925100, -1186625235400, -1139486766880, -827090165220, -447224616300, -174824290960, -46690433160]\n",
      "[0, -39007529808, -154752364728, -402308968308, -729748115772, -951566169372, -901399588908, -616873309728, -297795259008, -96224687520]\n",
      "[0, -68151406440, -215803174080, -435112055040, -590384692560, -548530254480, -345423973440, -141063106080]\n",
      "[0, -81244554560, -193166950600, -277861116520, -250632886400, -138710490360]\n",
      "[0, -59822993160, -95112228960, -81482363760]\n",
      "[0, -21419265120]\n",
      "n = 32\n",
      "[0, 0, 0, 0, 0, 0, 0, 0, 0, 0, 0, 0, 0, 0, 0, 0, 0, 0, 0, 0, 0, 0, 0, 0, 0, 0, 0, 0, 0, 0, 0]\n",
      "[0, -60, -870, -8120, -54810, -285012, -1187550, -4071600, -11705850, -28614300, -60090030, -109254600, -172986450, -239519700, -290845350, -310235040, -290845350, -239519700, -172986450, -109254600, -60090030, -28614300, -11705850, -4071600, -1187550, -285012, -54810, -8120, -870]\n",
      "[0, -4114, -51910, -434068, -2653558, -12547078, -47576878, -148301008, -386786398, -855074218, -1617721558, -2637745108, -3725494918, -4573292398, -4888876318, -4553902708, -3693558958, -2603147818, -1588586998, -835044208, -375340678, -142838278, -45405358, -11834548, -2463550, -393874, -45414]\n",
      "[0, -124944, -1393484, -10470084, -57862364, -247727364, -849877484, -2391431784, -5611691684, -11114649144, -18743664044, -27080190684, -33656341484, -36066309084, -33346106444, -26576058744, -18209877284, -10679711784, -5325548684, -2236914564, -781203164, -222754884, -50533484, -8773584, -1094900]\n",
      "[0, -2258510, -22406230, -151134010, -751892630, -2896715310, -8922173430, -22459118060, -46926315430, -82287761110, -122036477030, -153839431710, -165302973030, -151514154710, -118316033830, -78451054060, -43917133430, -20578379310, -7971905430, -2508689210, -625190230, -118738510, -16146230]\n",
      "[0, -27356520, -241610868, -1457276088, -6484045836, -22290994224, -61029459396, -135847197468, -249392408148, -381321920940, -488675268132, -526697347500, -477839507028, -364294296348, -232364783556, -123076479024, -53517272076, -18785306808, -5192476788, -1088256360, -162535212]\n",
      "[0, -235950036, -1849198316, -9905957936, -39062102492, -118514366012, -284705245916, -552038741156, -875106609916, -1143388513260, -1236648975100, -1108257764516, -821059304156, -499921696316, -247644236252, -98246626352, -30478118636, -7124111316, -1179881836]\n",
      "[0, -1498217920, -10349222680, -48755821240, -168309246040, -444135728440, -920298827800, -1523657310280, -2037279184760, -2212309434440, -1953277014040, -1397654054200, -803988129880, -366595263160, -129539013400, -34216984000, -6358169320]\n",
      "[0, -7122989430, -42915219750, -175391905950, -521355032550, -1173312906390, -2048978954790, -2817710978850, -3074190387750, -2664529536150, -1826169583590, -978354706590, -401380755750, -121831960950, -25776037350]\n",
      "[0, -25477273080, -131885416740, -458892928480, -1148199126060, -2144520512120, -3053967830900, -3350651609720, -2836782662700, -1840461276640, -899423387940, -320684185080, -78728207740]\n",
      "[0, -68120903500, -296610276612, -855697980072, -1744695697108, -2598433420804, -2870418054868, -2356661123752, -1422332634372, -613925683020, -179387344708]\n",
      "[0, -133564283424, -474303868584, -1091017036824, -1725192625416, -1922319701016, -1513432198824, -826316503584, -297836846424]\n",
      "[0, -184915411980, -510692216060, -879688716660, -991611112700, -734537008140, -344804549180]\n",
      "[0, -168371848400, -333194479240, -382113580240, -256426230200]\n",
      "[0, -86860373160, -102850525080]\n",
      "n = 33\n",
      "[0, 0, 0, 0, 0, 0, 0, 0, 0, 0, 0, 0, 0, 0, 0, 0, 0, 0, 0, 0, 0, 0, 0, 0, 0, 0, 0, 0, 0, 0, 0, 0]\n",
      "[0, -62, -930, -8990, -62930, -339822, -1472562, -5259150, -15777450, -40320150, -88704330, -169344630, -282241050, -412506150, -530365050, -601080390, -601080390, -530365050, -412506150, -282241050, -169344630, -88704330, -40320150, -15777450, -5259150, -1472562, -339822, -62930, -8990, -930]\n",
      "[0, -4406, -57650, -500596, -3182632, -15675658, -62024038, -202121008, -552255988, -1281920638, -2552915818, -4393855828, -6570823768, -8570242978, -9772403758, -9753014068, -8518917328, -6504290518, -4330123978, -2503751248, -1250444908, -535347538, -194486758, -59139988, -14773120, -2952430, -453906, -50400]\n",
      "[0, -139092, -1613076, -12624180, -72797280, -325826160, -1171015440, -3459764760, -8545808580, -17866176780, -31901428140, -48970333500, -64919356440, -74536642680, -74215709880, -64076907840, -47896624500, -30899299740, -17120231580, -8089953180, -3228876960, -1074139440, -292410960, -63460680, -10560300, -1265316]\n",
      "[0, -2622242, -27138442, -191349742, -997216382, -4033697082, -13077516042, -34746675092, -76868493292, -143214178522, -226548243122, -305981191242, -354067622442, -351572964242, -299495079922, -218440603972, -135869611292, -71622373842, -31709448042, -11641735982, -3481473982, -826529242, -149878442, -19498992]\n",
      "[0, -33257556, -307588860, -1947581412, -9120471444, -33093194988, -95926645668, -226857442764, -444214619592, -727690639320, -1004257332456, -1172559841656, -1160468520120, -973165362792, -689689343064, -410963485368, -204224317788, -83632108644, -27740071212, -7267467060, -1447564356, -205981116]\n",
      "[0, -301776268, -2488127988, -14064844048, -58712302456, -189237786916, -484852950268, -1007178407908, -1719288936788, -2433412383580, -2870998907500, -2830085497508, -2329555265908, -1595649510988, -903321290236, -418087660336, -155636954728, -45475610988, -10045605748, -1577100640]\n",
      "[0, -2027653960, -14818572520, -74142822760, -272931428560, -771490145680, -1721291232400, -3086847428080, -4502125752800, -5377298800640, -5274780047680, -4245828870400, -2791120256080, -1484709494800, -629541103120, -207871450720, -51528391960, -9020000520]\n",
      "[0, -10275256170, -65964183930, -288679594770, -923742888210, -2251452291930, -4288167924570, -6485442519150, -7860714451470, -7663835394810, -6002193925530, -3751225042770, -1846679965650, -700705075770, -197812337850, -39117039840]\n",
      "[0, -39543222580, -220129844780, -829105712980, -2261867294140, -4645089761220, -7347589292380, -9066679207780, -8770905558180, -6637732533340, -3892211380420, -1734852427580, -568493965780, -129122567980]\n",
      "[0, -115200475444, -546139073820, -1731232475208, -3919116071392, -6562831219180, -8281921134580, -7930325873992, -5742442277808, -3098727130020, -1209166785244, -322396635264]\n",
      "[0, -250509611352, -985774290072, -2547095285592, -4598394042528, -5973665974848, -5641457133312, -3850924149072, -1854993532392, -598197308280]\n",
      "[0, -395122450580, -1242422201540, -2491722413180, -3366895461020, -3117793018340, -1957931464580, -797596411040]\n",
      "[0, -428902609160, -1013565676120, -1451152200040, -1304075657000, -719412590040]\n",
      "[0, -289531203480, -457833712680, -390484438080]\n",
      "[0, -95473625872]\n",
      "n = 34\n",
      "[0, 0, 0, 0, 0, 0, 0, 0, 0, 0, 0, 0, 0, 0, 0, 0, 0, 0, 0, 0, 0, 0, 0, 0, 0, 0, 0, 0, 0, 0, 0, 0, 0]\n",
      "[0, -64, -992, -9920, -71920, -402752, -1812384, -6731712, -21036600, -56097600, -129024480, -258048960, -451585680, -694747200, -942871200, -1131445440, -1202160780, -1131445440, -942871200, -694747200, -451585680, -258048960, -129024480, -56097600, -21036600, -6731712, -1812384, -402752, -71920, -9920, -992]\n",
      "[0, -4708, -63798, -574488, -3792850, -19428316, -80074798, -272288248, -777788698, -1891405228, -3955016518, -7165280848, -11310652498, -15620106148, -18924337438, -20145887908, -18853622098, -15502247248, -11180387398, -7052384428, -3874376218, -1843021048, -753245998, -261769948, -76288210, -18295576, -3515958, -520548, -55738]\n",
      "[0, -154268, -1857620, -15118616, -90810596, -424110836, -1593502436, -4932118496, -12791578676, -28149761516, -53055540596, -86233148696, -121462366916, -148752352676, -158690571716, -147550191896, -119482337396, -84088116716, -51249197876, -26907900896, -12081944036, -4593429236, -1458868196, -379933976, -79030100, -12626588, -1454868]\n",
      "[0, -3028136, -32636806, -240094706, -1308025726, -5542553426, -18867016006, -52765916756, -123213501106, -243058115996, -408512980246, -588520919006, -729643688806, -780224778206, -720031751446, -572901520796, -391974793906, -229582556756, -114348001606, -47978547026, -16739296126, -4768837106, -1080956806, -187532456, -23385850]\n",
      "[0, -40132460, -387897916, -2572546660, -12647935676, -48303379500, -147784343676, -370033739000, -769821680476, -1345105135420, -1988857582556, -2500727687820, -2681121518556, -2452727433020, -1912057174876, -1265904715000, -707703703676, -331210003500, -128168140476, -40293429860, -10032441916, -1903812460, -258673916]\n",
      "[0, -382178168, -3306839292, -19671201768, -86661192836, -295710298640, -804915710828, -1783354181684, -3261460763548, -4970929950820, -6353235476876, -6831735410788, -6185583629212, -4707477047348, -2998007860076, -1585764504080, -688686488708, -241469994984, -66677923068, -13961696120, -2083373796]\n",
      "[0, -2709068824, -20883479144, -110591320224, -432433525128, -1303582509768, -3115715518344, -6016560662904, -9505334076744, -12384094171240, -13361785972040, -11949563578744, -8836825472904, -5371927366344, -2657309618568, -1052891783328, -326258629224, -76182789144, -12604734824]\n",
      "[0, -14577278320, -99336056710, -463463137390, -1588385565910, -4168052308750, -8598249628870, -14183705553490, -18907802556830, -20479953545810, -18042621617350, -12885934144270, -7400306789590, -3369423749230, -1189071286150, -313720282480, -58230174970]\n",
      "[0, -60060581900, -357774334060, -1450164292060, -4283746163180, -9593518951500, -16687579433580, -22874407332260, -24889270897260, -21523251989580, -14722262571500, -7873866697180, -3225498622060, -977732354060, -206596113900]\n",
      "[0, -189367413400, -970907817044, -3354301866080, -8347189153468, -15523295558936, -22029542632548, -24100227808536, -20354894302908, -13178787897440, -6428955612244, -2288616565400, -561028855244]\n",
      "[0, -452332551112, -1953422237208, -5600793714672, -11365126093048, -16862268408856, -18569749182712, -15206957834224, -9158045326872, -3945483140040, -1150847413144]\n",
      "[0, -800825327536, -2823748894876, -6460424687236, -10172819242924, -11297094733444, -8869586452636, -4831383699376, -1737721569636]\n",
      "[0, -1009852832120, -2771841877720, -4752079592840, -5336742659800, -3941168011640, -1845085784920]\n",
      "[0, -843413558960, -1660028762680, -1895680546480, -1267586769800]\n",
      "[0, -401244559280, -472674969552]\n",
      "n = 35\n",
      "[0, 0, 0, 0, 0, 0, 0, 0, 0, 0, 0, 0, 0, 0, 0, 0, 0, 0, 0, 0, 0, 0, 0, 0, 0, 0, 0, 0, 0, 0, 0, 0, 0, 0]\n",
      "[0, -66, -1056, -10912, -81840, -474672, -2215136, -8544096, -27768312, -77134200, -185122080, -387073440, -709634640, -1146332880, -1637618400, -2074316640, -2333606220, -2333606220, -2074316640, -1637618400, -1146332880, -709634640, -387073440, -185122080, -77134200, -27768312, -8544096, -2215136, -474672, -81840, -10912, -1056]\n",
      "[0, -5020, -70368, -656268, -4493200, -23900812, -102448240, -362881348, -1081631848, -2749834228, -6023830408, -11458986628, -19040415448, -27755770948, -35605173688, -40272386128, -40201670788, -35416599448, -27507646948, -18797253928, -11265449908, -5894805928, -2676907348, -1046570848, -348576460, -97528912, -22491180, -4162368, -594268, -61440]\n",
      "[0, -170508, -2128936, -17992168, -112389604, -546747892, -2143561552, -6936106192, -18845377852, -43545241612, -86391253912, -148214790232, -221044747012, -287626661332, -327297967072, -326057026912, -284341819732, -216786619012, -144135951832, -83244721432, -41530794892, -17763237052, -6447514192, -1958982352, -488985460, -97656676, -15004008, -1664936]\n",
      "[0, -3479324, -38990624, -298755662, -1698253502, -7522794302, -26826198422, -78774473372, -193622603912, -403162557392, -717450816092, -1098173200082, -1452255683882, -1663835981162, -1653571480442, -1425311369492, -1063832407232, -685399409432, -379304743412, -179042828702, -71389911902, -23727781022, -6454064822, -1399637912, -232745900, -27868100]\n",
      "[0, -48096740, -484920040, -3361590040, -17312263040, -69416682000, -223543745640, -590790803840, -1301330298340, -2415834209740, -3810046377560, -5132690085240, -5926116200040, -5872954276040, -4994469082840, -3637270124560, -2259319251140, -1189533899340, -526066572840, -192946836440, -57648640000, -13674868240, -2477824040, -322121040]\n",
      "[0, -479620728, -4345487040, -27135289856, -125814092232, -453102103744, -1305749497144, -3073553954332, -5995359269156, -9789933310260, -13474144029188, -15695737150628, -15502601336820, -12977509079396, -9182935038292, -5464235781184, -2712032924704, -1109367703272, -367596155216, -96215879280, -19148470488, -2722497008]\n",
      "[0, -3577017752, -29006677392, -162085309232, -670903167704, -2148465284504, -5476633064672, -11329651981472, -19274285899792, -27202065579920, -32015517343040, -31493048067712, -25875797419472, -17695395232592, -10003383821024, -4624032104384, -1719378526712, -501868990392, -110759142032, -17372746160]\n",
      "[0, -20368864780, -146841222880, -727575990130, -2658913456210, -7473699726130, -16600101806530, -29660741852830, -43128391905830, -51380023499750, -50289820837630, -40402885250530, -26515926481330, -14084249509330, -5964188347810, -1967054074480, -487090108780, -85178176380]\n",
      "[0, -89460445140, -567791376680, -2464247508360, -7835800621880, -19004359734360, -36052928311400, -54349338134520, -65695331576160, -63902184940880, -49947978211560, -31162528397000, -15317750568120, -5804403734360, -1636641369000, -323271380960]\n",
      "[0, -303516144008, -1673360147008, -6257592658328, -16977647980304, -34715113590168, -54719515521968, -67326174901568, -64971096101208, -49067326401104, -28720367552888, -12781325754208, -4182488260808, -948720516128]\n",
      "[0, -790033840552, -3714486072240, -11701633578864, -26362373390296, -43976424423160, -55322417864800, -52836358087456, -38175618276024, -20561567243160, -8010211485232, -2132448032112]\n",
      "[0, -1551525003288, -6061842832448, -15577863440828, -28004131690652, -36255763284572, -34144034527148, -23252741986448, -11178428529528, -3598159282120]\n",
      "[0, -2229486782440, -6966865087120, -13905592216240, -18719043979360, -17281404579520, -10824936359440, -4399651873120]\n",
      "[0, -2220631047920, -5219108310400, -7440701431840, -6663817290800, -3665340028320]\n",
      "[0, -1383388797744, -2176814912544, -1849057866464]\n",
      "[0, -422593160876]\n",
      "n = 36\n",
      "[0, 0, 0, 0, 0, 0, 0, 0, 0, 0, 0, 0, 0, 0, 0, 0, 0, 0, 0, 0, 0, 0, 0, 0, 0, 0, 0, 0, 0, 0, 0, 0, 0, 0, 0]\n",
      "[0, -68, -1122, -11968, -92752, -556512, -2689808, -10759232, -36312408, -104902512, -262256280, -572195520, -1096708080, -1855967520, -2783951280, -3711935040, -4407922860, -4667212440, -4407922860, -3711935040, -2783951280, -1855967520, -1096708080, -572195520, -262256280, -104902512, -36312408, -10759232, -2689808, -556512, -92752, -11968, -1122]\n",
      "[0, -5342, -77374, -746478, -5293310, -29199518, -129973822, -478793014, -1486586398, -3943661278, -9031713598, -17998914958, -31402573438, -48185680798, -65246687038, -78140450698, -82878378478, -77881161118, -64809988798, -47694395278, -30965875198, -17676353758, -8829762238, -3835673398, -1437220510, -459568798, -123644862, -27459054, -4900478, -675550, -67518]\n",
      "[0, -187848, -2428908, -21286448, -138077220, -698564280, -2852834268, -9632387568, -27360473268, -66230658648, -137966708748, -249155115168, -392226815268, -540390660168, -653354994108, -694267240008, -648687781668, -532611972768, -383629318668, -241703951448, -132644448948, -63037302768, -25740655068, -8938179768, -2602919460, -623803440, -119802348, -17726408, -1896948]\n",
      "[0, -3979050, -46295870, -368881700, -2184105110, -10095153710, -37634169110, -115770986960, -298778676110, -654850091810, -1230064886510, -1993537601060, -2801047985510, -3423042496310, -3644887294310, -3383390580260, -2735738947310, -1922786143010, -1170484711310, -613888721360, -275372178710, -104599704110, -33193410710, -8638029860, -1795538750, -286684970, -33011550]\n",
      "[0, -57274672, -601321812, -4349047612, -23413223652, -98342205052, -332507296212, -924969666712, -2150527700412, -4227014893192, -7082941648692, -10177631858212, -12590009425812, -13436597464612, -12378760759092, -9834352774792, -6719469678012, -3930852546712, -1955684051412, -819754096252, -285744820452, -81337668412, -18422761812, -3193848112, -398006700]\n",
      "[0, -596868076, -5651076284, -36959663076, -179904596284, -681919821996, -2074137293564, -5169033275896, -10712373977564, -18657628619196, -27511988890204, -34512049484556, -36926778419804, -33721291866556, -26246776701404, -17352878549496, -9689040589564, -4529449908396, -1750979381564, -549963674596, -136816874684, -25942916076, -3522236284]\n",
      "[0, -4672045744, -39757193688, -233774329616, -1021166591272, -3461904250016, -9374999081528, -20685013111304, -37700036150296, -57295064966120, -73048272473976, -78384193512424, -70840095294488, -53825072255496, -34230043439672, -18082518578336, -7844119944488, -2747493986064, -757962809816, -158573249200, -23642676456]\n",
      "[0, -28069197266, -213429618446, -1119232343416, -4344536531302, -13022771150422, -30985756419046, -59614654304986, -93894954133046, -122015795431310, -131357629687350, -117249539773146, -86562253120486, -52543835471446, -25957618581862, -10273008270712, -3179931076366, -741813908946, -122622175566]\n",
      "[0, -130914226080, -881928841860, -4080459795060, -13896225048420, -36284218508340, -74552195718660, -122578741068300, -162957708926100, -176096849003020, -154829357620740, -110386214110260, -63297555449700, -28781124995700, -10144678292100, -2673629761440, -495740205180]\n",
      "[0, -475566850132, -2805475158772, -11289655330052, -33165198603636, -73949564786196, -128177153886452, -175183751209852, -190145489389812, -164085325518356, -112033989244276, -59824295724292, -24472725334772, -7409086906452, -1563693263220]\n",
      "[0, -1339853511344, -6812532060136, -23388753802944, -57920467971896, -107298072143792, -151789158222088, -165621211441072, -139572862988088, -90195258816192, -43927257067496, -15614747744944, -3822529730136]\n",
      "[0, -2890770900836, -12394205646732, -35341541590264, -71407540811516, -105581850469004, -115945210820348, -94725101602040, -56931875655564, -24484792723300, -7130327408204]\n",
      "[0, -4663518390944, -16340686373704, -37205237185144, -58361942950696, -64613034113656, -50600432534344, -27503349164704, -9872761026744]\n",
      "[0, -5397559164760, -14733637886520, -25151564714920, -28150041977400, -20730592411480, -9681098111160]\n",
      "[0, -4162131552736, -8151959474096, -9273142634976, -6180261242320]\n",
      "[0, -1836512454562, -2153315466798]\n",
      "n = 37\n",
      "[0, 0, 0, 0, 0, 0, 0, 0, 0, 0, 0, 0, 0, 0, 0, 0, 0, 0, 0, 0, 0, 0, 0, 0, 0, 0, 0, 0, 0, 0, 0, 0, 0, 0, 0, 0]\n",
      "[0, -70, -1190, -13090, -104720, -649264, -3246320, -13449040, -47071640, -141214920, -367158792, -834451800, -1668903600, -2952675600, -4639918800, -6495886320, -8119857900, -9075135300, -9075135300, -8119857900, -6495886320, -4639918800, -2952675600, -1668903600, -834451800, -367158792, -141214920, -47071640, -13449040, -3246320, -649264, -104720, -13090, -1190]\n",
      "[0, -5674, -84830, -845678, -6203470, -35442174, -163603614, -625855030, -2020916038, -5584516078, -13345619038, -27804775438, -50820757678, -81880919998, -116707604638, -147535771018, -165686041618, -165426752038, -146839783198, -115779620878, -80952936238, -50061498238, -27280262878, -13035679798, -5427162310, -1952325934, -600301854, -155534190, -33308878, -5739710, -764894, -73984]\n",
      "[0, -206324, -2759484, -25046004, -168476060, -885122900, -3759240284, -13221502964, -39187679564, -99171440804, -216422437004, -410378486564, -680027243564, -988954029764, -1266016731884, -1429369167284, -1424560524164, -1253193683564, -972081597764, -663492260204, -397217989604, -207648772364, -94212412964, -36803531564, -12248770580, -3424725980, -789267924, -145979484, -20830004, -2152380]\n",
      "[0, -4530670, -54655430, -452196420, -2784325380, -13405060050, -52144298250, -167694100800, -453379272000, -1043363216550, -2062963561950, -3529096562100, -5250231899700, -6817027205850, -7742691006450, -7700518430700, -6705393917100, -5105522080950, -3390479788350, -1956030622200, -974903503800, -416603393250, -151089607050, -45871489500, -11442039900, -2283636030, -350645670, -38886680]\n",
      "[0, -67799620, -740076148, -5574764188, -31313591848, -137494190008, -486994381048, -1422393085288, -3480946281988, -7221936054508, -12812848574428, -19561310065108, -25810565698288, -29513220900688, -29280779971408, -25200408258928, -18783658426708, -12087040378588, -6681672810988, -3150785410948, -1255168748008, -416830323448, -113292674488, -24551403688, -4079964700, -488205172]\n",
      "[0, -737006676, -7278300876, -49755030276, -253681996596, -1009535091516, -3231945564876, -8501321053176, -18653540653776, -34517545427316, -54289558214556, -72964721645676, -84072687252876, -83170268793276, -70618433650716, -51356698220856, -31860719315376, -16755807716676, -7402633563276, -2712566024196, -809773729716, -191937575676, -34753188876, -4514803776]\n",
      "[0, -6041431368, -53828957880, -332243504136, -1527363495432, -5464792007064, -15667491452904, -36725625875592, -71391686666976, -116240049264960, -159590537182368, -185509123599168, -182887842908160, -152850101119776, -108001738521792, -64183164766704, -31818984918264, -13002155624232, -4304286933336, -1125650200680, -223844678568, -31801389048]\n",
      "[0, -38190937158, -305460025398, -1690163263008, -6944714055576, -22113158492106, -56113141699098, -115653447843318, -196147315742598, -276106006209330, -324240523840530, -318334937421798, -261114902223318, -178300763378298, -100662343857306, -46476003422376, -17263095437808, -5034083155398, -1110012179958, -173959113240]\n",
      "[0, -188511412100, -1343418125060, -6600701092700, -23968847265440, -67036113816320, -148298962053440, -264103628328320, -382961610205240, -455163386652040, -444608069445320, -356573317188440, -233655597924320, -123940537730240, -52421059222400, -17270280576560, -4272322297100, -746397921060]\n",
      "[0, -730043771820, -4588371227748, -19769759854548, -62514336656244, -150950381871300, -285344044652964, -428882612798508, -517129228455708, -501949373993364, -391622970027300, -243944441573844, -119741450319348, -45317578454148, -12763673179620, -2518391073792]\n",
      "[0, -2213458791576, -12101367045576, -44968395230616, -121408103574888, -247280644176696, -388533087222696, -476779702879896, -459072521753976, -346035852520488, -202207819492536, -89857126295976, -29366263609176, -6653003622216]\n",
      "[0, -5204637824652, -24293322775260, -76107602259864, -170719188801336, -283795581634740, -355997358081540, -339190000510536, -244578413969064, -131502021135660, -51151222836252, -13597731593712]\n",
      "[0, -9315159465192, -36164340580872, -92482951464792, -165616308790128, -213750826421328, -200785616134992, -136444585645872, -65472096701592, -21038261913480]\n",
      "[0, -12288324489000, -38185941496920, -75888393138600, -101806979555400, -93725769532920, -58571514519000, -23755209313920]\n",
      "[0, -11304348936720, -26437570837104, -37545536444304, -33520280151120, -18387058250736]\n",
      "[0, -6536008151478, -10238663353878, -8664578382168]\n",
      "[0, -1859036646276]\n",
      "n = 38\n",
      "[0, 0, 0, 0, 0, 0, 0, 0, 0, 0, 0, 0, 0, 0, 0, 0, 0, 0, 0, 0, 0, 0, 0, 0, 0, 0, 0, 0, 0, 0, 0, 0, 0, 0, 0, 0, 0]\n",
      "[0, -72, -1260, -14280, -117810, -753984, -3895584, -16695360, -60520680, -188286560, -508373712, -1201610592, -2503355400, -4621579200, -7592594400, -11135805120, -14615744220, -17194993200, -18150270600, -17194993200, -14615744220, -11135805120, -7592594400, -4621579200, -2503355400, -1201610592, -508373712, -188286560, -60520680, -16695360, -3895584, -753984, -117810, -14280, -1260]\n",
      "[0, -6016, -92750, -954446, -7234654, -42758670, -204425406, -810977110, -2719395886, -7815237142, -19454647678, -42294785518, -80818949278, -136413612718, -204156427198, -271667245738, -322037658358, -340447218538, -321082380958, -270043274158, -202300459678, -134726369518, -79535177278, -41460333718, -18987354670, -7589293270, -2625252606, -777354510, -194222686, -40161614, -6690110, -862816, -80850]\n",
      "[0, -225972, -3122676, -29318420, -204252660, -1112803636, -4907935732, -17951792836, -55424428660, -146358638260, -333915354100, -663314851540, -1154114048500, -1766742129460, -2387349878260, -2853929691580, -3022090770100, -2835779420980, -2356781001460, -1732352143060, -1123545171700, -640735567540, -319778758900, -138799486660, -51968816500, -16606097716, -4464908532, -990971156, -176754420, -24353460, -2432756]\n",
      "[0, -5137652, -64179342, -550610552, -3520485530, -17626515020, -71419930982, -239664041432, -677396724482, -1633101077852, -3390410593502, -6105137938832, -9587095347482, -13180238721332, -15905440261142, -16873276637492, -15742158541082, -12908102521232, -9286313231582, -5844460105052, -3204212140802, -1521382006232, -620727630182, -215377286732, -62676699290, -15011018360, -2881141902, -426063092, -45568802]\n",
      "[0, -79814356, -904484860, -7084729672, -41449298092, -189898551772, -703141843372, -2151410648992, -5528089271452, -12072440564932, -22607758918492, -36544680689992, -51232406969932, -62486418396652, -66421514528332, -61562034315592, -49709892012892, -34895289486532, -21218797905052, -11117529868192, -4982426016172, -1890980458972, -599616798892, -155929396552, -32390856700, -5168520916, -594794556]\n",
      "[0, -903469392, -9290447628, -66258067428, -353131086588, -1472060691108, -4947913911948, -13699109545128, -31726691817828, -62159472616248, -103871389894188, -148904186510268, -183822907175628, -195833291242428, -180131185083948, -142905138111288, -97519456295268, -56983823017128, -28321659186828, -11860391924388, -4130706080508, -1174894206948, -265919183628, -46070126928, -5737370100]\n",
      "[0, -7739989512, -72061749480, -465831261912, -2248122676200, -8465722897032, -25616555193960, -63573080474832, -131294589211560, -228010696701672, -335386425964200, -419824033211592, -448363900319400, -408774655669992, -317707421897640, -209779223758032, -116995394745960, -54636083933832, -21101020099560, -6621879400152, -1646051330280, -311892565512, -42315141480]\n",
      "[0, -51356125404, -431017777422, -2509501330260, -10881340435890, -36678936790728, -98876074811526, -217349233972938, -394910406997470, -598600861101090, -761477507813142, -815517611863074, -735779586766302, -558218413741770, -354527959638150, -187062398453448, -81060289211826, -28364903510868, -7818275543310, -1634339932380, -243483192162]\n",
      "[0, -267469725204, -2010341041324, -10453612915504, -40318671442588, -120249664838908, -284961335296924, -546427420070884, -858248655150524, -1112655641485740, -1195412735139260, -1065141389284324, -785149805609884, -475939243728124, -234836409897628, -92837596261168, -28708854162604, -6691172130324, -1105092130604]\n",
      "[0, -1100043318176, -7338158039300, -33704859739892, -114141732678116, -296713339418804, -607457112999044, -995809436104076, -1320527829462292, -1423954299581836, -1249674408215684, -889529304234164, -509352375888356, -231310181345012, -81440153641220, -21441767601056, -3971819020796]\n",
      "[0, -3571434786264, -20891610950808, -83537921346168, -244196930643864, -542351649626712, -937040014618776, -1277258233459848, -1383212030242968, -1191329126898264, -812052223256472, -432987332184696, -176895812218008, -53492779191768, -11277165461400]\n",
      "[0, -9090497444328, -45883992598380, -156651660317088, -386242622847108, -713006683578216, -1005749006778972, -1094758140796776, -920694662953092, -593930602221984, -288816738101100, -102526168791528, -25066495857780]\n",
      "[0, -17876657392776, -76157772423768, -216092692648560, -434919664904760, -641045957040216, -702145684957752, -572394052719216, -343383792476760, -147440788327560, -42872000631768]\n",
      "[0, -26479950284256, -92263552356696, -209153132129256, -326950364832504, -360950161271784, -282009838784856, -152977474569696, -54813113983656]\n",
      "[0, -28313375295888, -76902531049680, -130767958759536, -145901180659920, -107168974850448, -49932263725008]\n",
      "[0, -20272060647852, -39528173668494, -44804913842604, -29770192961250]\n",
      "[0, -8337828068244, -9734032814220]\n",
      "n = 39\n",
      "[0, 0, 0, 0, 0, 0, 0, 0, 0, 0, 0, 0, 0, 0, 0, 0, 0, 0, 0, 0, 0, 0, 0, 0, 0, 0, 0, 0, 0, 0, 0, 0, 0, 0, 0, 0, 0, 0]\n",
      "[0, -74, -1332, -15540, -132090, -871794, -4649568, -20590944, -77216040, -248807240, -696660272, -1709984304, -3704965992, -7124934600, -12214173600, -18728399520, -25751549340, -31810737420, -35345263800, -35345263800, -31810737420, -25751549340, -18728399520, -12214173600, -7124934600, -3704965992, -1709984304, -696660272, -248807240, -77216040, -20590944, -4649568, -871794, -132090, -15540, -1332]\n",
      "[0, -6368, -101148, -1073378, -8398542, -51291854, -253676718, -1042300598, -3624516278, -10817062870, -28004202406, -63418336798, -126451541998, -223137913198, -349849877518, -488815445578, -609944619898, -680635147498, -679679870098, -607365370918, -485335506478, -346306666798, -220166897998, -124333318198, -62116591990, -27310965526, -10496975718, -3496750398, -998475278, -240876942, -48150254, -7762368, -969848, -88128]\n",
      "[0, -246828, -3520560, -34154416, -246141840, -1388890128, -6352377008, -24128526960, -77473590336, -213106367616, -507335474736, -1053613903536, -1920489684816, -3086910683856, -4390782453936, -5540499745296, -6212059757496, -6193390907736, -5490388622256, -4323967623216, -3020095853136, -1865823005136, -1015848999216, -485019849456, -201776896320, -72535102848, -22288698288, -5771378480, -1235292816, -212751120, -28337968, -2739648]\n",
      "[0, -5803576, -74985036, -666235016, -4417290940, -22966411880, -96775717916, -338273782256, -997662503156, -2514501637616, -5468759028116, -10339900861856, -17091497573156, -24802403699456, -31691044258436, -35720404331636, -35547363894656, -31229603093156, -24195244271456, -16496481333716, -9866316508016, -5153036125556, -2336049562256, -911868236156, -303269721320, -84738122300, -19517042376, -3607745036, -514521016, -53138220]\n",
      "[0, -93471380, -1098202016, -8931762520, -54340758628, -259316638828, -1001873806648, -3204652701328, -8626244182348, -19779674830708, -38989521473968, -66525329777608, -98746962262468, -127963771446508, -145088551757608, -144077263085968, -125286830845108, -95276854075468, -63201331409008, -36425294161048, -18138026656828, -7744367064148, -2806480758328, -851453294848, -212243866900, -42334343116, -6496598880, -720071016]\n",
      "[0, -1100060416, -11760368536, -87351339628, -485728369588, -2116634519188, -7452678912868, -21664323259768, -52811917097128, -109213695650248, -193229587664848, -294306627406708, -387533955196108, -442333252191628, -438154782019948, -376565470995448, -280327186758808, -180182109726808, -99501663200128, -46876786155388, -18658217977588, -6191375997268, -1681576412068, -364168016128, -60480103600, -7232614480]\n",
      "[0, -9830935320, -95464665120, -645000777120, -3260445252720, -12889940672880, -41052259026720, -107530722805920, -235124630290920, -433819267988520, -680620593042240, -912789171616320, -1049787414105120, -1036816023513120, -879063556077120, -638463573618240, -395629968039720, -207846558898920, -91738155157920, -33586681593120, -10018564736880, -2372929054320, -429363849120, -55742073120]\n",
      "[0, -68314020696, -600287098860, -3668549644692, -16740255965904, -59552219271708, -169954439927688, -396895694613174, -769134401173422, -1249014583974870, -1710962302108446, -1984958787086046, -1953576973917270, -1630266211103022, -1150386028301574, -682834414959288, -338153687190108, -138045201327504, -45658723039092, -11930968808460, -2370805491096, -336574383156]\n",
      "[0, -374381907812, -2959777087872, -16238587133912, -66294409125164, -210029028735284, -530794489074872, -1090353342951752, -1844058977212672, -2589616145555120, -3034860433643720, -2974294477745272, -2435871795966752, -1661029989607472, -936608993363384, -431958835768064, -160288209750812, -46699541040372, -10288728403712, -1611142442360]\n",
      "[0, -1629664931840, -11499602240456, -56088716878700, -202526983080884, -563902636729652, -1242964359691604, -2206944963715052, -3192094305952684, -3785753356737484, -3691092590677052, -2955442390801604, -1933885061617652, -1024516438013684, -432833883722900, -142453804619456, -35207665541840, -6145486513056]\n",
      "[0, -5640917687400, -35153985410208, -150500775463968, -473540755639104, -1138903921974720, -2145915805695264, -3216694120628448, -3869719076491728, -3748795242814224, -2919881074329120, -1816123532029344, -890291284903488, -336550118885568, -94689775305120, -18664371726912]\n",
      "[0, -15452883730608, -83864038961208, -309890000526528, -832977664364904, -1690581672173088, -2648557593012168, -3242216643796968, -3115363394056608, -2344109793635304, -1367682491015808, -606948237554808, -198117207049008, -44832269810328]\n",
      "[0, -33122111308104, -153609482819520, -478851865001328, -1069917971376072, -1772943385875480, -2218187673964080, -2108821310249472, -1517755203874728, -814729789375320, -316459385546304, -84012705910224]\n",
      "[0, -54438966236928, -210153569385648, -535057635767928, -954812171777352, -1228808656754952, -1151549726967528, -780979579755648, -374101532044128, -120018151300320]\n",
      "[0, -66357273722160, -205171125572928, -406141154529600, -543139397018400, -498738788048928, -310996992452160, -125884323841728]\n",
      "[0, -56697452917080, -132005213006124, -186804510001644, -166296046908120, -90988286819076]\n",
      "[0, -30575626361604, -47700406672704, -40227714422424]\n",
      "[0, -8133620079232]\n",
      "n = 40\n",
      "[0, 0, 0, 0, 0, 0, 0, 0, 0, 0, 0, 0, 0, 0, 0, 0, 0, 0, 0, 0, 0, 0, 0, 0, 0, 0, 0, 0, 0, 0, 0, 0, 0, 0, 0, 0, 0, 0, 0]\n",
      "[0, -76, -1406, -16872, -147630, -1003884, -5521362, -25240512, -97806984, -326023280, -945467512, -2406644576, -5414950296, -10829900592, -19339108200, -30942573120, -44479948860, -57562286760, -67156001220, -70690527600, -67156001220, -57562286760, -44479948860, -30942573120, -19339108200, -10829900592, -5414950296, -2406644576, -945467512, -326023280, -97806984, -25240512, -5521362, -1003884, -147630, -16872, -1406]\n",
      "[0, -6730, -110038, -1203088, -9707542, -61198366, -312759742, -1329368038, -4787858238, -14818152270, -39838012702, -93825760390, -194876589598, -358832613598, -588172979518, -860936933338, -1127991553918, -1324969753798, -1396615558798, -1321435227418, -1121932365838, -853913783518, -581658753598, -353743374598, -191456620990, -91830778702, -38824688670, -14370299238, -4616267038, -1272742942, -296818366, -57420592, -8967838, -1086538, -95830]\n",
      "[0, -268928, -3955276, -39607948, -294951212, -1721662476, -8155497708, -32124376796, -107113534028, -306420237404, -759875650412, -1646683340492, -3137934903212, -5283939529292, -7891573894892, -10482040560932, -12405450665372, -13095679527332, -12334760137772, -10361866664012, -7754232298412, -5159083532492, -3042935775212, -1584933907292, -725295967820, -289700390876, -100146931308, -29636304396, -7400496428, -1529480332, -254654956, -32827328, -3074676]\n",
      "[0, -6532134, -87197574, -801394422, -5502910470, -29669325030, -129825203334, -471937603614, -1449842466822, -3812993135142, -8669670903942, -17172319623702, -29804238026502, -45526535886822, -61402412578182, -73280114661282, -77482515171462, -72608813938662, -60271800834822, -44254597675542, -28673626283142, -16337208676902, -8146818832902, -3533412513822, -1322034182790, -422166108390, -113439525894, -25163263734, -4485868422, -617761830, -61680390]\n",
      "[0, -108933240, -1325258100, -11176242000, -70605470460, -350388223752, -1410068254980, -4706249339280, -13243639596780, -31812434354280, -65842371979860, -118253191133280, -185277908944380, -254216868197880, -306248519622180, -324384588604920, -302224109622780, -247509518198880, -177864522103380, -111828255871080, -61253132506860, -29058890670480, -11846914539780, -4107652886280, -1194573531900, -285923990352, -54847546740, -8106516600, -866563500]\n",
      "[0, -1330981060, -14771523532, -114085491880, -660739002556, -3004179279916, -11057737895356, -33672644797216, -86185186046956, -187601732197876, -350348066759596, -564985165815976, -790432302111196, -962328969831676, -1021306736998876, -945248940925096, -762300489794476, -534509035806196, -324683957277676, -169957656929056, -76102857321916, -28860624269356, -9144885014716, -2376524428456, -493364375500, -78679320772, -9049314060]\n",
      "[0, -12386811552, -125242301208, -882771640008, -4664415915768, -19316086895688, -64587823931928, -178068396560208, -410964117246408, -802810890684528, -1338188012775768, -1914224372502648, -2358690066029208, -2508659699110008, -2304145418512728, -1825589320288368, -1244339133960648, -726341433872208, -360655264080408, -150901615850568, -52513699172088, -14925496073928, -3375872957208, -584497807008, -72746106600]\n",
      "[0, -89961026766, -825984808662, -5286588679866, -25324222200342, -94814381202606, -285581880226422, -706073012907756, -1453663677222822, -2517814066497366, -3695135711491302, -4616369992058526, -4921748290204902, -4480394192439126, -3477574432100262, -2293453997125356, -1277694995362422, -596092586745006, -230012822796822, -72123682752186, -17915014543062, -3392188994766, -459917236662]\n",
      "[0, -517503700168, -4292868725028, -24782194818264, -106764024832348, -358058792576368, -961286060437300, -2105999116169260, -3815708883352964, -5769986241035900, -7324885129287700, -7830695373274748, -7053966091156868, -5344256323973164, -3389978966290228, -1786701678372208, -773464038203740, -270408515534040, -74471817500964, -15555849866440, -2315794806780]\n",
      "[0, -2376987372188, -17689469122468, -91308326208528, -350176951377396, -1039712979280404, -2454883521112308, -4693159337214348, -7352611090681428, -9511454615963300, -10199774432808532, -9073410632794508, -6678697270421748, -4043313867678228, -1992771187219956, -786995296683024, -243143579924388, -56621585459868, -9343787137828]\n",
      "[0, -8738371643456, -57797004892328, -263765037832712, -888784335838568, -2301189810774920, -4695821717351336, -7676980677579512, -10156932850469704, -10930881640010488, -9576673160997800, -6806591143371656, -3892385224236392, -1765565482031624, -620972171466920, -163335476193344, -30228105618776]\n",
      "[0, -25635033012732, -148850047345116, -591840264029196, -1722396094341468, -3811728623782716, -6566343490943964, -8928474207458676, -9648986507983836, -8295573012204348, -5645759934210396, -3006218011640844, -1226697256100316, -370546139814396, -78035927596380]\n",
      "[0, -59485149846384, -298310350564488, -1013371619404224, -2488713397261080, -4579484797058160, -6442633374305832, -6997244026109040, -5873576317932312, -3782804918135232, -1836884405415048, -651244401711984, -159030651452088]\n",
      "[0, -107436163986312, -455090022481752, -1285552333313136, -2578220216658744, -3789209226818904, -4140464641583928, -3368544899880048, -2017334447406936, -864888006374280, -251131560935640]\n",
      "[0, -147070796091840, -509845121751600, -1151184566379600, -1793826730266480, -1975225581724752, -1539896390933040, -833771642212800, -298236505640400]\n",
      "[0, -146091237230238, -395010754795254, -669296152731426, -744603912820470, -545626274973342, -253673751643158]\n",
      "[0, -97600009221096, -189533589334788, -214131061896168, -141875459831580]\n",
      "[0, -37582287241772, -43701227284404]\n",
      "n = 41\n",
      "[0, 0, 0, 0, 0, 0, 0, 0, 0, 0, 0, 0, 0, 0, 0, 0, 0, 0, 0, 0, 0, 0, 0, 0, 0, 0, 0, 0, 0, 0, 0, 0, 0, 0, 0, 0, 0, 0, 0, 0]\n",
      "[0, -78, -1482, -18278, -164502, -1151514, -6525246, -30761874, -123047496, -423830264, -1271490792, -3352112088, -7821594872, -16244850888, -30169008792, -50281681320, -75422521980, -102042235620, -124718287980, -137846528820, -137846528820, -124718287980, -102042235620, -75422521980, -50281681320, -30169008792, -16244850888, -7821594872, -3352112088, -1271490792, -423830264, -123047496, -30761874, -6525246, -1151514, -164502, -18278, -1482]\n",
      "[0, -7102, -119434, -1344208, -11174812, -72649498, -383257246, -1683309670, -6271658358, -20103624990, -56049485518, -137083741702, -296112281974, -567959072398, -971433940318, -1486566711898, -2040431585938, -2516582782558, -2792275840198, -2788741313818, -2506989068098, -2027349248038, -1473029336158, -959830475398, -559449864790, -290697331678, -134075435982, -54588308454, -19484180758, -6043442062, -1610743198, -363538096, -68132020, -10318558, -1213450, -103968]\n",
      "[0, -292308, -4429028, -45736308, -351565832, -2120496072, -10391006408, -42391373928, -146581086808, -435450327160, -1123038610360, -2535064568248, -5040859135048, -8874055610248, -13884493016968, -19364237119768, -24123620182048, -26880550758448, -26807949676048, -23927597259568, -19099761748168, -13615209002248, -8648258455048, -4879874126248, -2436131962840, -1070352607480, -411123703608, -136870879928, -39060649608, -9418223432, -1881734472, -303216608, -37868028, -3439508]\n",
      "[0, -7327130, -100949890, -958641010, -6809328050, -38022803970, -172535355330, -651305752490, -2080880161610, -5700525911330, -13524766720130, -28006376184530, -50922017078930, -81672942457730, -115950479060930, -146066895543830, -163527455861030, -162818298859730, -144163368856130, -113412443477330, -79134906874130, -48845442510530, -26571834332930, -12677082898730, -5270163355850, -1893286227170, -581417816130, -150465480690, -32188239410, -5540944450, -737696770, -71286080]\n",
      "[0, -126372852, -1590084972, -13886890932, -90971962380, -468795879060, -1961951027532, -6820812395412, -20028073717212, -50294822760132, -109050151743132, -205643651316612, -339153133897212, -491192640859812, -626527234259772, -705099755687172, -700719364666212, -614846191537212, -475822847803812, -324090736702332, -193655212732932, -101057859354012, -45777440105412, -17856255133212, -5934710413140, -1657228173900, -381477634452, -70478904972, -10046362932, -1037048940]\n",
      "[0, -1600856412, -18419096228, -147703874312, -889559139008, -4212713840420, -16179176234540, -51504931097120, -138098223946040, -315620557114220, -620426986645460, -1056080822184200, -1564364651411360, -2023562880463700, -2290709453316860, -2271517344257960, -1972760238837200, -1498509375228860, -992998399735700, -571763403613760, -284465564802920, -121362071051540, -43948474104620, -13324514704040, -3319372702640, -661702897388, -101489645412, -11242973728]\n",
      "[0, -15490481608, -162823852936, -1195218782632, -6588877331872, -28522422413632, -99903353658112, -289182526952752, -702486055699432, -1448454086358712, -2556302162351032, -3885076187697592, -5106122223545872, -5818513084487632, -5755102197669712, -4939668645648832, -3672929470769992, -2358298559885272, -1301067946177432, -612416747810872, -243563007372832, -80762296491712, -21920144724352, -4744123271632, -787431043000, -94112365672]\n",
      "[0, -117362865282, -1123862650482, -7517893567782, -37719875961222, -148261496135922, -470008623140082, -1226480137560132, -2673379204087332, -4919456605485162, -7700608695996762, -10307055114339282, -11833606959214482, -11669643492672282, -9880750101329562, -7167727429734612, -4436728870165332, -2328573678858882, -1026855886112082, -375640795182822, -111966177690822, -26501322987282, -4792158190482, -621753502032]\n",
      "[0, -707087939220, -6140959691100, -37209812631940, -168695475180180, -597068402042060, -1696967806217060, -3949557219125180, -7632100847720440, -12364148869667400, -16902004001236120, -19573469729767720, -19233632171605800, -16028135994534040, -11296087972587080, -6697547562775160, -3313432714246460, -1351418692455780, -446614003227340, -116615106359700, -23156379775620, -3285181891420]\n",
      "[0, -3417683631076, -26751739856556, -145688842560976, -591398563313272, -1865178342445132, -4696491480265156, -9618206599368796, -16225201409658956, -22735368422312260, -26594152252413460, -26020575747608156, -21279366525498796, -14491865818214356, -8162204702555332, -3760490260885072, -1394118905240776, -405829694111556, -89342019928876, -13979793393280]\n",
      "[0, -13298693846360, -93041094780920, -450879145123160, -1619878837937360, -4492171369272080, -9869196457686800, -17475284122490480, -25217474960891200, -29848015557012640, -29051635612794080, -23226525100344800, -15178034283398480, -8031396586413200, -3389491446507920, -1114483873337120, -275207098604360, -47996980288920]\n",
      "[0, -41596812412740, -257308939878900, -1095340189734180, -3431050852634340, -8222308815027060, -15446627950203060, -23096956110206940, -27727496706328380, -26812500322501140, -20851055895358260, -12951183267037860, -6341127438487140, -2394481522704180, -673034166429300, -132536705720640]\n",
      "[0, -103892574893640, -560171725485240, -2059517743800840, -5513906641404120, -11154722682067560, -17428987588886040, -21287771418987240, -20415803874310440, -15336265481661720, -8935168931981160, -3960219016343640, -1291210676463240, -291874019430840]\n",
      "[0, -204540656583480, -943153998078600, -2926967085549360, -6516508782971040, -10767020064347400, -13438485792879000, -12749928816211440, -9160387118789760, -4909875837413400, -1904564302012680, -504981376562880]\n",
      "[0, -310722854274576, -1193390544396816, -3026242694538576, -5383012990829184, -6909564835704384, -6460984345507776, -4373706887886816, -2091700006628976, -670046639167440]\n",
      "[0, -351928372119570, -1083182868620370, -2136471677712270, -2848862538654030, -2609734713495570, -1624054909515570, -656168895123120]\n",
      "[0, -280655273104980, -650759236633020, -917905809486180, -814948418811300, -444844455283260]\n",
      "[0, -141779015491860, -220351536919260, -185236817994560]\n",
      "[0, -35413215091640]\n",
      "n = 42\n",
      "[0, 0, 0, 0, 0, 0, 0, 0, 0, 0, 0, 0, 0, 0, 0, 0, 0, 0, 0, 0, 0, 0, 0, 0, 0, 0, 0, 0, 0, 0, 0, 0, 0, 0, 0, 0, 0, 0, 0, 0, 0]\n",
      "[0, -80, -1560, -19760, -182780, -1316016, -7676760, -37287120, -153809370, -546877760, -1695321056, -4623602880, -11173706960, -24066445760, -46413859680, -80450690112, -125704203300, -177464757600, -226760523600, -262564816800, -275693057640, -262564816800, -226760523600, -177464757600, -125704203300, -80450690112, -46413859680, -24066445760, -11173706960, -4623602880, -1695321056, -546877760, -153809370, -37287120, -7676760, -1316016, -182780, -19760, -1560]\n",
      "[0, -7484, -129350, -1497388, -12814282, -85832080, -466949470, -2117047942, -8150581998, -27027329910, -78044045534, -197946516374, -444025924270, -885731155558, -1578071229118, -2519885798458, -3615958195558, -4672138942018, -5443170625198, -5722398209218, -5430042384358, -4649462889658, -3589338481918, -2494744957798, -1557958556590, -871806997654, -435602668254, -193477033590, -75963424238, -26179669382, -7849799230, -2024762320, -442712842, -80458348, -11827270, -1351164, -112554]\n",
      "[0, -317004, -4944084, -52600224, -416952996, -2595966756, -13144813284, -55474507284, -198669218724, -612044291780, -1639181710500, -3848157920724, -7970683593444, -14641823131044, -23950079775204, -34992875613804, -45773071898244, -53688500434644, -56518032093444, -53412807377004, -45300455228004, -34445069927844, -23441970153444, -14244862489044, -7703926042020, -3692549349060, -1560142436004, -577111755284, -185285105124, -51057749796, -11901385956, -2301300384, -359256084, -43509324, -3835860]\n",
      "[0, -8192480, -116383030, -1140769030, -8372717270, -48363205830, -227288770230, -889754858030, -2951997029030, -8410296637550, -20785002258230, -44911387944230, -85370287806230, -143443089696230, -213826017973430, -283539637963730, -335066959749230, -353236677067730, -332310984450230, -278854479955430, -208471551678230, -138575393064230, -81666605586230, -42503994501230, -19436861930150, -7758448566830, -2680393666230, -792753657030, -197853923030, -40870699270, -6801707830, -876416480, -82051530]\n",
      "[0, -145973820, -1897541628, -17141610588, -116295195900, -621453048252, -2700751327740, -9764524828908, -29865576739068, -78257935769148, -177389564242428, -350439648283548, -606843615638268, -925132021108668, -1245569815616508, -1484218955033748, -1567171867482108, -1466777582145468, -1216194871804668, -892085209320348, -577468671826428, -328742246604348, -163805104060668, -70994023033068, -26544930916860, -8471388715452, -2275027504380, -504378996828, -89870958588, -12370567740, -1234567932]\n",
      "[0, -1914762856, -22811185116, -189669773296, -1186108676980, -5841300957208, -23367113762956, -77617302510256, -217562777209156, -520894491791416, -1075106210407036, -1926295801351456, -3011862341565556, -4125046217946856, -4961391062547436, -5247729744459496, -4883001552419956, -3994397034401056, -2867460612383356, -1801147636060216, -985714663770436, -467259563809456, -190356654319756, -65957535557656, -19169597660020, -4585633746928, -879167803356, -129876096616, -13876497796]\n",
      "[0, -19236190456, -209895337960, -1602046205872, -9198218691592, -41544468671272, -152115426404872, -461250771692992, -1176429539670952, -2553214511713432, -4756166239613992, -7653352013186992, -10687056093439432, -12989580144182152, -13765381891941832, -12723535681308592, -10248865213412392, -7178645226491032, -4356413156080552, -2278384266784192, -1019383685425672, -386297068530472, -122320165520392, -31767898693552, -6591133364200, -1050547386616, -120764215656]\n",
      "[0, -151779156456, -1513286059446, -10560154985346, -55381597133166, -228014310967266, -758886709661046, -2084325289905396, -4795248601351746, -9342458545690236, -15537180121913286, -22181353520650446, -27284384799031446, -28974900110448846, -26576693330335686, -21031354884019836, -14319534506657346, -8350302859185396, -4142514597072246, -1731848927594466, -602230548633966, -171048434230146, -38663350699446, -6690190533096, -832172315850]\n",
      "[0, -955770085660, -8672980129580, -55035697948660, -261922079255980, -975630469130460, -2926499098588780, -7210925988511960, -14803651792280780, -25578663297161260, -37461113247938380, -46715935748380860, -49727239035074380, -45204464556578860, -35042759341055180, -23084735830687960, -12847630249948780, -5988412524554460, -2308808085220780, -723406638671860, -179563277473580, -33978049765660, -4603869369580]\n",
      "[0, -4849379099240, -39827284482804, -228215385604024, -977561526751628, -3263632733054512, -8729653027305028, -19066658177901724, -34456671174139604, -51989803453189420, -65874857627072676, -70307217961979180, -63241179687952084, -47851166691714204, -30318034412664388, -15962680606795312, -6903783867830668, -2411560458633144, -663640162491124, -138523567243880, -20607609119916]\n",
      "[0, -19912039781608, -146916305233048, -753434366573408, -2874922864384376, -8501479079884856, -20006623401667448, -38142554914392968, -59617263928184248, -76967650124861080, -82394570665201080, -73184565279034248, -53797133396142968, -32530286187067448, -16015676751124856, -6318930130369376, -1950549191648408, -453868824483048, -74840385331608]\n",
      "[0, -66152284596320, -434285274966140, -1970626062105740, -6610454532141980, -17053510838637260, -34695874221298940, -56581203042490100, -74700400334766700, -80245937314715380, -70192975629636860, -49820065984795340, -28454824629580700, -12892811110825100, -4530104668235900, -1190494863140960, -220131612505220]\n",
      "[0, -176947081263000, -1020738652316760, -4038032352488760, -11704545189992280, -25818391532107800, -44356884155451480, -60177086227605960, -64907837602383960, -55710687454918680, -37860304122451800, -20133884003233080, -8206386710684760, -2476354459940760, -521001726701400]\n",
      "[0, -377174192330640, -1880573321481720, -6359596728459840, -15562210203391080, -28552082890262160, -40070578517683800, -43430601222882960, -36392135869060200, -23402263182189120, -11348721351331320, -4018769588426640, -980255190699720]\n",
      "[0, -629698930496880, -2653674115130064, -7465926083302944, -14924692995488016, -21876671659988688, -23851803995060496, -19368740749399584, -11580785114702544, -4957995172713840, -1437707613026256]\n",
      "[0, -801078570119928, -2764342571871798, -6218980727767578, -9662347456841502, -10613866142941722, -8257949340839478, -4463483082765048, -1594010808536778]\n",
      "[0, -742866228777180, -2000333490436620, -3378195317034660, -3748299280562700, -2740541417492700, -1271586176674380]\n",
      "[0, -465077761804520, -899771945805700, -1013459186157800, -669714794438300]\n",
      "[0, -168313273104520, -194996208037560]\n",
      "n = 43\n",
      "[0, 0, 0, 0, 0, 0, 0, 0, 0, 0, 0, 0, 0, 0, 0, 0, 0, 0, 0, 0, 0, 0, 0, 0, 0, 0, 0, 0, 0, 0, 0, 0, 0, 0, 0, 0, 0, 0, 0, 0, 0, 0]\n",
      "[0, -82, -1640, -21320, -202540, -1498796, -8992776, -44963880, -191096490, -700687130, -2242198816, -6318923936, -15797309840, -35240152720, -70480305440, -126864549792, -206154893412, -303168960900, -404225281200, -489325340400, -538257874440, -538257874440, -489325340400, -404225281200, -303168960900, -206154893412, -126864549792, -70480305440, -35240152720, -15797309840, -6318923936, -2242198816, -700687130, -191096490, -44963880, -8992776, -1498796, -202540, -21320, -1640]\n",
      "[0, -7876, -139800, -1663296, -14640676, -100949392, -565832044, -2645521162, -10513724934, -36025572438, -107614357030, -282694786086, -657615630390, -1362246781606, -2524140402262, -4198520390218, -6286689037978, -8492181608818, -10364746143178, -11441261892058, -11428133651218, -10328941849978, -8442885842818, -6234928483678, -4153266877030, -2490103571830, -1339899367686, -644722891590, -276144682006, -104686075206, -34877129142, -10120656544, -2528998912, -536221684, -94588648, -13507440, -1500276, -121600]\n",
      "[0, -343052, -5502776, -60263960, -492167180, -3159962492, -16516593824, -72027121952, -266841474960, -851418375120, -2364718294016, -5764927083392, -12418476010256, -23762674738640, -40559199134240, -61953545612000, -84898313782760, -104558359373000, -115861774736240, -115579012625840, -103790862216200, -83851726750760, -60870555552800, -39630921940640, -23081938130000, -11985279986576, -5524262625792, -2247824128896, -801862836560, -248584171280, -66221804192, -14939061824, -2798564252, -423666860, -49803320, -4265496]\n",
      "[0, -9132212, -133646392, -1350829562, -10233839698, -61082101778, -296954333362, -1203964779242, -4142351385562, -12255393312090, -31498853162250, -70896693825522, -140622972724722, -247019575257522, -385756353139602, -537097744618902, -668106206754222, -743462309175822, -740559221157222, -660267869104002, -526522209694002, -374988535761522, -237990660064722, -134185690596522, -66940691354010, -29392106283930, -11282648457162, -3754070876242, -1070779631762, -258055814098, -51534779378, -8300506912, -1036201892, -94078612]\n",
      "[0, -167930756, -2252940760, -21028369432, -147573513080, -816718282296, -3680656541016, -13818733711160, -43955170553672, -119973886606952, -283766938232792, -586064282672792, -1063178656960952, -1701834330173432, -2411867566491992, -3033614447613512, -3391555934116112, -3372657872367392, -2982888071340632, -2344232398128152, -1634199161809592, -1007840791935992, -547835709249752, -261177326664632, -108505314580040, -38956049413736, -11956316031576, -3092524642200, -661235136632, -113772829240, -15140508376, -1462440896]\n",
      "[0, -2278256456, -28070072688, -241696425768, -1567279772240, -8014725447848, -33341973103376, -115359252927128, -337399563182528, -844501233082808, -1825966937731328, -3435129963794648, -5653565823952928, -8173143574848728, -10408308808633568, -11696898160042928, -11609381845273688, -10174931969248928, -7866068786184728, -5352632531062208, -3195611628636728, -1666288047626048, -754247947371128, -294008560436528, -97655723806760, -27253881641168, -6270184619496, -1157846720688, -164966093768, -17020904880]\n",
      "[0, -23730695704, -268435160240, -2127243597264, -12700446436008, -59746322351592, -228253851885312, -723531452200992, -1933147430177112, -4405091024297112, -8637404408479632, -14670457958625072, -21690035438067432, -28010085312261672, -31661088474588192, -31354455573637632, -27198409986216072, -20637863719119432, -13662588206790672, -7859904885635952, -3907326779513592, -1665753414384312, -602801712628992, -182644839158112, -45473384251080, -9059980442760, -1388877478704, -153782036240]\n",
      "[0, -194690575108, -2017897745464, -14664518986510, -80235697196710, -345309493402630, -1203865568127550, -3471489649909180, -8406292987267360, -17286512158776760, -30438110422580500, -46168034524730290, -60572815440195250, -68917965525513010, -68074053498689410, -58357546369783300, -43344652376166040, -27802953750587200, -15325004560826860, -7207593899631310, -2864356345781830, -949124321640550, -257442222875230, -55684548078760, -9237422865700, -1103441988844]\n",
      "[0, -1279010876468, -12104272519768, -80275295444968, -400140465200528, -1564720050798528, -4939839479262168, -12846486685062368, -27921704809757668, -51255739107394588, -80064842273498888, -106969851960484968, -122617008370455768, -120747448939422968, -102108997439799688, -73988774122642288, -45751536194265668, -23990131300379868, -10570312548054168, -3863829887221928, -1150870207706128, -272223240971968, -49195662959768, -6379077061968]\n",
      "[0, -6796869895608, -58440998675280, -351478527509616, -1584339160089192, -5581967190877584, -15806147224413624, -36674626049921652, -70686538750620156, -114260602590745260, -155898135782718108, -180238156864894908, -176849228230628460, -147183747866032956, -103609684025907852, -61366985006387424, -30331064257628784, -12360261806377992, -4081605597378816, -1064983223878080, -211334862182808, -29962606790688]\n",
      "[0, -29369993922984, -227916846962064, -1233157643347344, -4980414720789768, -15643663804622568, -39259526199801024, -80178817049183424, -134938187546766864, -188699865535106640, -220341892941936480, -215260257117950304, -175800328443449424, -119581595770984464, -67279279957526208, -30966966640878528, -11470284157321704, -3336356071853064, -733949551564944, -114763012824720]\n",
      "[0, -103283145722120, -717195012912560, -3455636042642420, -12359120103976100, -34149000767363300, -74799646843883780, -132114221895847100, -190238501300755180, -224757076653660460, -218410660278110300, -174372460361879780, -113807251581760100, -60154070592614180, -25361655016601540, -8331586634876960, -2055691253918120, -358234810675560]\n",
      "[0, -294579517932840, -1810257132752880, -7666943831142960, -23919146567569680, -57133118271326160, -107040680697778800, -159690123022195920, -191332150429025760, -184707475241815680, -143429556653589360, -88973384732660400, -43513156697621520, -16414269782058960, -4609401437046000, -906892334496960]\n",
      "[0, -675901095615120, -3623224824791520, -13260701797246320, -35374038601517760, -71350710527862000, -111209800143841920, -135549821226018720, -129766761125086320, -97330455901604160, -56630193907306800, -25069676967129120, -8165138351669520, -1843821716812320]\n",
      "[0, -1230176806095408, -5643195413574240, -17441809990945056, -38705119067328144, -63780108780431760, -79427265190402560, -75215150690593344, -53951841614210256, -28876851901106640, -11187458157895008, -2962758913695648]\n",
      "[0, -1736920036834404, -6640192193724984, -16776817124166774, -29754121284955566, -38099271370273326, -35553404816131734, -24025921538136984, -11472928469705124, -3670014547226460]\n",
      "[0, -1836844047713940, -5630070049390680, -11068028564708040, -14719031727034560, -13453648254376080, -8356492551868440, -3370456705357680]\n",
      "[0, -1373081498117080, -3171821625215120, -4460410976624480, -3950260200935800, -2151520073837760]\n",
      "[0, -652268148531720, -1010209635034320, -846694822795920]\n",
      "[0, -153514183050648]\n",
      "n = 44\n",
      "[0, 0, 0, 0, 0, 0, 0, 0, 0, 0, 0, 0, 0, 0, 0, 0, 0, 0, 0, 0, 0, 0, 0, 0, 0, 0, 0, 0, 0, 0, 0, 0, 0, 0, 0, 0, 0, 0, 0, 0, 0, 0, 0]\n",
      "[0, -84, -1722, -22960, -223860, -1701336, -10491572, -53956656, -236060370, -891783620, -2942885946, -8561122752, -22116233776, -51037462560, -105720458160, -197344855232, -333019443204, -509323854312, -707394242100, -893550621600, -1027583214840, -1076515748880, -1027583214840, -893550621600, -707394242100, -509323854312, -333019443204, -197344855232, -105720458160, -51037462560, -22116233776, -8561122752, -2942885946, -891783620, -236060370, -53956656, -10491572, -1701336, -223860, -22960, -1722]\n",
      "[0, -8278, -150798, -1842618, -16669534, -118222102, -682134958, -3285927448, -13466864838, -47633052894, -147030571582, -399556348878, -962657830398, -2067995303518, -3979214903230, -6883562172706, -10736617834798, -15133800161998, -19310448799198, -22331137668838, -23420781658558, -22282205134798, -19225348739998, -15032743841698, -10639603767310, -6804271829086, -3922830658878, -2032755150798, -943214987518, -390077962974, -142953846462, -46091541208, -12957274198, -3139794838, -646163854, -110728122, -15373278, -1661398, -131118]\n",
      "[0, -370488, -6107500, -68795416, -578355124, -3825801760, -20621498140, -92828292844, -355365375036, -1172966556620, -3374115695388, -8530351699468, -19082284842940, -37974272861356, -67516694547676, -107614401489556, -154172735683756, -198916075613476, -231440787362236, -243026964835876, -230364271613356, -197056639319956, -151989919165276, -105552852555436, -65867455400380, -36832491913228, -18391577849628, -8163854111180, -3203504749116, -1103458393324, -330701188060, -85260871840, -18634094644, -3385155736, -497420140, -56805048, -4730228]\n",
      "[0, -10150466, -152897966, -1592145776, -12438467654, -76633293734, -384967169606, -1614593650766, -5753472407526, -17652222738070, -47114319421670, -110284320798446, -227860800344006, -417662345794406, -681882804290246, -994606266079346, -1299064541260406, -1521664236285806, -1599923426726006, -1510364355448946, -1279693316968646, -972153256104806, -661056824024006, -401392048711406, -216927160704230, -103906364341910, -43874722491366, -16220436594766, -5204895341126, -1433563218854, -334002590534, -64555750256, -10073633966, -1219535426, -107474990]\n",
      "[0, -192449600, -2662076116, -25646147380, -185967231380, -1064638277556, -4969108104660, -19346500368356, -63903366244340, -181394801029988, -446911021956308, -963122264718068, -1826593628076308, -3063031259857268, -4557981545769428, -6034649159633948, -7121447432566628, -7498286980817948, -7046165841782228, -5906670455300468, -4411720169388308, -2930066372238068, -1725424691844308, -897362456167268, -410085529167860, -163589068253156, -56484310920660, -16696837752756, -4165072552340, -859974682420, -143053896916, -18425153600, -1724284716]\n",
      "[0, -2697402204, -34333574940, -305779999868, -2053446843420, -10889006928604, -47038836316444, -169250936960140, -515626809600028, -1346669098447708, -3044016234819868, -5999161313742268, -10366934623879708, -15775594793515228, -21205625109123868, -25232433914287348, -26608539580465948, -24875240218933468, -20604035727475228, -15098806739160508, -9765345242231068, -5554805520479068, -2765810868602908, -1197906506790028, -447621053413660, -142767926137564, -38320149625884, -8491368088700, -1512286979868, -208070580060, -20756087324]\n",
      "[0, -29094471056, -340753236696, -2799834490976, -17356723474760, -84908238414704, -337871119816376, -1117495385540576, -3121297700623976, -7450902412239536, -15339449726665496, -27424082291859776, -42797375808015176, -58517229298360976, -70277162606260856, -74234798669537936, -68993324759976776, -56377499554554176, -40432411354333976, -25374446432002736, -13875424112481896, -6572487043729376, -2675724687611576, -926535522820976, -269125569237320, -64343330121824, -12329745892056, -1820553143696, -194423839976]\n",
      "[0, -247828755562, -2666375062270, -20147484923044, -114808861768534, -515516328742894, -1878759428187094, -5675116900805584, -14428504843346254, -31230139878991714, -58042011566940334, -93211581156754084, -129932497129842214, -157683344599729654, -166872406711871014, -154053785174213284, -123954399252521134, -86735308456322914, -52588308240261454, -27480718841899984, -12285978536436694, -4652547527053294, -1472272223714134, -382137714775204, -79241231377150, -12623563109482, -1450387698462]\n",
      "[0, -1695602204784, -16707074118404, -115584151901004, -602198947481684, -2466573673126284, -8175235058416004, -22376861918107704, -51333003376966604, -99766733156661864, -165570818225860964, -235942245727686804, -289757769079566404, -307274484920570004, -281485706914296164, -222500144709122664, -151338005382675404, -88169626395547704, -43703327876233604, -18256837147711884, -6344112938240084, -1800711083971404, -406782752838404, -70348921659504, -8745673595900]\n",
      "[0, -9418331489060, -84609890997268, -532900109011660, -2521545883014548, -9349531032231780, -27940514398068948, -68633338903162280, -140534285709919348, -242284495151563540, -354155626682892788, -440910517646385540, -468639467362828788, -425458640239461140, -329432622831813748, -216788897430138280, -120537738477428948, -56135496882855780, -21625815272019348, -6771028889094860, -1679585999541268, -317626275169060, -43011082525268]\n",
      "[0, -42722972504784, -347852761140456, -1980233619736944, -8439147070270488, -28059483167944800, -74803309595541384, -162924106569719352, -293735874915695784, -442304139768879960, -559446758411897928, -596170421642713944, -535525746431720616, -404713978085744184, -256145713232560008, -134731485307367520, -58219414735334424, -20320332233181552, -5587880936410344, -1165586152919760, -173285446822488]\n",
      "[0, -158547775387092, -1161031275401452, -5919891451884592, -22486488477813724, -66251767373523004, -155440649126341852, -295597487070253732, -461028541442739452, -594099346615139820, -634964338343595260, -563191020763878052, -413477270902336732, -249744476192008252, -122834063612922844, -48420040920871984, -14934227862573292, -3472399585834452, -572161051990892]\n",
      "[0, -480324847042880, -3132536179486280, -14141716888971560, -47245922578017800, -121482313521293480, -246484465197018440, -401036814142740440, -528423251454277480, -566689954048317400, -494964175055383880, -350848199544400040, -200156513260088840, -90597012230007080, -31803271932374600, -8350722896855360, -1542851554199480]\n",
      "[0, -1180369421910840, -6769438273948920, -26657763986258520, -76987874754311160, -169317383166484920, -290172208135954680, -392839903071486120, -422962984254595320, -362467602975416760, -245994317087126520, -130661728498760280, -53199779574172920, -16038078637982520, -3371138962500600]\n",
      "[0, -2326163752882080, -11538018277779888, -38858898136295040, -94776598069184016, -173417853273712032, -242829692359656816, -262688963269436832, -219756152063198736, -141114896858670720, -68346906456877488, -24175736129458080, -5890648275150288]\n",
      "[0, -3609890438064954, -15142163315110686, -42444366913842924, -84595341605200566, -123696146563347102, -134587163202806454, -109100129043984108, -65133984912716574, -27848349394479930, -8065306336025598]\n",
      "[0, -4288514982410832, -14736876825610212, -33043198144865532, -51199959939544788, -56116346574529788, -43578312362690532, -23516138673797712, -8385503844898332]\n",
      "[0, -3728507378090580, -10001892762253540, -16840160068719660, -18638900195817700, -13599373016449620, -6298136131087780]\n",
      "[0, -2195798525880400, -4233455540788040, -4754911839529040, -3134419863614200]\n",
      "[0, -749448158648700, -865284290488548]\n",
      "n = 45\n",
      "[0, 0, 0, 0, 0, 0, 0, 0, 0, 0, 0, 0, 0, 0, 0, 0, 0, 0, 0, 0, 0, 0, 0, 0, 0, 0, 0, 0, 0, 0, 0, 0, 0, 0, 0, 0, 0, 0, 0, 0, 0, 0, 0, 0]\n",
      "[0, -86, -1806, -24682, -246820, -1925196, -12192908, -64448228, -290017026, -1127843990, -3834669566, -11504008698, -30677356528, -73153696336, -156757920720, -303065313392, -530364298436, -842343297516, -1216718096412, -1600944863700, -1921133836440, -2104098963720, -2104098963720, -1921133836440, -1600944863700, -1216718096412, -842343297516, -530364298436, -303065313392, -156757920720, -73153696336, -30677356528, -11504008698, -3834669566, -1127843990, -290017026, -64448228, -12192908, -1925196, -246820, -24682, -1806]\n",
      "[0, -8690, -162358, -2036058, -18917234, -137889230, -818342614, -4057990168, -17134985268, -62501291994, -199148022110, -559224768334, -1393808798958, -3101133439358, -6188170817630, -11116506175522, -18032489794330, -26476755918598, -35252699523598, -42620237148838, -46828435076278, -46779502542238, -42486204555598, -35066543144098, -26278685530810, -17856185383222, -10980831587550, -6096546420558, -3046450443758, -1364887570174, -545669657310, -193529785304, -60450189668, -16479262018, -3875886454, -774877530, -129098994, -17439758, -1835158, -141120]\n",
      "[0, -399348, -6760716, -78266228, -676761060, -4608358860, -25592014644, -118802357220, -469467212904, -1601230737224, -4764853947816, -12476561191368, -28943510993096, -59813540969448, -110599586231304, -183628700180472, -274511360293392, -370277258986272, -451335791838192, -497625969040032, -496523196809472, -448328231209392, -366136414642272, -270163473732192, -179827405072680, -107740492475016, -57936358200168, -27860520933896, -11926352448648, -4518878274600, -1504761500360, -436449468144, -109014488220, -23104744404, -4074056364, -581569236, -64572548, -5231916]\n",
      "[0, -11251494, -174304574, -1868328632, -15037832168, -95540478938, -495418770146, -2147064053786, -7914601195482, -25149734381170, -69610864366290, -169209501813914, -363589117597274, -694212913505282, -1182655272934562, -1803444208621862, -2467651304280902, -3035005904813402, -3359037145226282, -3347164671115862, -3002780617942262, -2423707731274802, -1757972163511202, -1143679234268282, -665630485150010, -345400299553010, -159104602900434, -64702770608314, -23069021205882, -7148022657218, -1903313274338, -429182145296, -80366270336, -12161674982, -1429112510, -122354280]\n",
      "[0, -219747940, -3131250660, -31105937260, -232818988800, -1377222522304, -6649484389440, -26812624629760, -91842700496560, -270724535111120, -693665295086672, -1557158821484720, -3081566051875520, -5402334228235520, -8421740296795520, -11707574889683840, -14543077223289320, -16163233425353720, -16081996635257720, -14323737890030120, -11411640868619840, -8120425657166720, -5149679095627520, -2901432299923520, -1446458443012400, -634712430811472, -243504323705040, -80977490061360, -23085719416960, -5560991438400, -1110060858304, -178718751840, -22301746060, -2024029860]\n",
      "[0, -3178804132, -41756473724, -384235730844, -2669044174300, -14657861972796, -65661337360892, -245332866851884, -777280731780364, -2114555166228316, -4987436727436156, -10275822210456796, -18602507324542876, -29722742514668476, -42055632055677436, -52821117150038356, -58977710717883076, -58581225316734316, -51756866862744316, -40636631672618716, -28303742131609756, -17441507011131196, -9473778515684476, -4513501816888876, -1873942057796620, -672398094771676, -206258943260412, -53322203595164, -11395792126684, -1959898555580, -260707139196, -25171616512]\n",
      "[0, -35462984392, -429533916504, -3654725201864, -23492582765080, -119333455497608, -493814930323352, -1701222584917064, -4958062534079864, -12372922364068904, -26684601733061624, -50090877749945384, -82282619154494264, -118753188541301864, -151004529866598584, -169474310570132744, -168005937084059624, -147088867237070264, -113601000870869864, -77233475237470904, -46072171367008424, -24005464144436984, -10858627205281064, -4230036015431864, -1404187765308680, -391667209553048, -90063055978632, -16622999204504, -2367321985864, -244147853400]\n",
      "[0, -313209124382, -3493290740654, -27404926083172, -162385365300796, -759431642830498, -2887736606312338, -9118657035012448, -24285728522563288, -55190952827050678, -107967046307961478, -183012600309809908, -270107137611147628, -348271973126322058, -393127154834905018, -388841442133867228, -336927439505927908, -255401260695821878, -168925918211971558, -97100177261057608, -48233856770567248, -20548445517014338, -7431255009095698, -2250273618743788, -559943225544340, -111503704211614, -17085012458382, -1890819680904]\n",
      "[0, -2228242747236, -22822894893876, -164428477015308, -893745667105368, -3826521799963368, -13284889868278248, -38176851843730248, -92179697157922308, -189091691596787628, -332250474538076028, -503027421263506788, -658912823875413888, -748623187292579808, -738517125233567328, -632384410970506128, -469216698933722388, -300693800363610588, -165602137136095308, -77824969431943668, -30906275463039768, -10234298379876648, -2774288793819048, -599739385976808, -99437614871100, -11872053653460]\n",
      "[0, -12912661915868, -120976140782068, -796307452494268, -3946347950544428, -15361053117718308, -48313827559265268, -125254883305834568, -271528806189866368, -497331311447444188, -775365297684782948, -1034174487738974868, -1183691760100918068, -1164110205825835268, -983262446623759588, -711725246290763848, -439680911949332768, -230349949405501068, -101414492535938868, -37043824649860028, -11026436614100908, -2606557394880868, -470782892934068, -61011090336768]\n",
      "[0, -61351036517784, -522947275454760, -3124534770111768, -14012262823682136, -49165778981938632, -138752116756369272, -321040296781973496, -617301762176294208, -995797727369683680, -1356272614018667904, -1565596795325388384, -1534059907872679200, -1275177760568844288, -896681795375454816, -530575321681343952, -262008013755998952, -106685197581765816, -35203627570986888, -9179210412198840, -1820377770187704, -257931414507624]\n",
      "[0, -239609715207356, -1845418768368396, -9927073346112416, -39910379643865952, -124898665794981572, -312496006840323956, -636578918106245036, -1069020475681933996, -1492148896849977860, -1739532020212465700, -1696993019602095436, -1384165279915961036, -940468550760485396, -528595301172228212, -243077967382741712, -89962789728093776, -26147761799334396, -5748140802226316, -898194058420880]\n",
      "[0, -768417095960360, -5300592529599080, -25408669408672760, -90503859402034400, -249238445930583200, -544428738807057440, -959365577895989600, -1378711169997738640, -1626094293360226480, -1577823386302209200, -1258033902352695440, -820122576767093600, -433034337903940640, -182401805388713120, -59870399153677280, -14760675204698360, -2570337605503080]\n",
      "[0, -2013628192027080, -12301826206332600, -51862960160934360, -161207385584998680, -383904094907366520, -717460114886116920, -1068092756424266280, -1277416937730986760, -1231255832638976280, -954788225743876920, -591566191907906520, -288999445277638680, -108912986809434360, -30557834733852600, -6007130057422080]\n",
      "[0, -4271826420058896, -22780198613758896, -83030640159326736, -220757544215016048, -444064454363633616, -690561257740114416, -840078530102057616, -802905908032297296, -601346964772689648, -349443234549698256, -154522690345261296, -50277140992964496, -11342468746140336]\n",
      "[0, -7227666889366734, -33000764037517710, -101619222115734588, -224826284599829892, -369562626789581490, -459272990206747410, -434150465906550372, -310943403422455068, -166207061232703470, -64316079973017774, -17013703119210504]\n",
      "[0, -9530816868984036, -36282865523565396, -91362665741631756, -161592028579424904, -206447210288007864, -192286824585943416, -129731160749779896, -61861862195664156, -19762415537823540]\n",
      "[0, -9451131998840620, -28858260985626820, -56558568007365820, -75028348710899980, -68436362493200020, -42432883255151620, -17086857025448320]\n",
      "[0, -6647503322525560, -15302541467392520, -21459135035237240, -18960690458215000, -10305652313348040]\n",
      "[0, -2979622982562996, -4599779184627396, -3844519862128176]\n",
      "[0, -662854231745464]\n",
      "n = 46\n",
      "[0, 0, 0, 0, 0, 0, 0, 0, 0, 0, 0, 0, 0, 0, 0, 0, 0, 0, 0, 0, 0, 0, 0, 0, 0, 0, 0, 0, 0, 0, 0, 0, 0, 0, 0, 0, 0, 0, 0, 0, 0, 0, 0, 0, 0]\n",
      "[0, -88, -1892, -26488, -271502, -2172016, -14118104, -76641136, -354465254, -1417861016, -4962513556, -15338678264, -42181365226, -103831052864, -229911617056, -459823234112, -833429611828, -1372707595952, -2059061393928, -2817662960112, -3522078700140, -4025232800160, -4208197927440, -4025232800160, -3522078700140, -2817662960112, -2059061393928, -1372707595952, -833429611828, -459823234112, -229911617056, -103831052864, -42181365226, -15338678264, -4962513556, -1417861016, -354465254, -76641136, -14118104, -2172016, -271502, -26488, -1892]\n",
      "[0, -9112, -174494, -2244338, -21401014, -160209138, -977214990, -4984246096, -21665096178, -81419844504, -267535085998, -775495035950, -1997266034846, -4597017163438, -9500745173310, -17699366703618, -29815034856262, -45527893421554, -63144243926398, -79660037915638, -91503838654798, -95760969116278, -91320873527518, -79339848942898, -62760017159110, -45153518622658, -29503055857182, -17472067718574, -9354437780638, -4513412939054, -1954789695038, -756321688120, -259865746866, -78713018928, -20827269214, -4758677298, -924959670, -149941426, -19722638, -2022200, -151618]\n",
      "[0, -429668, -7464948, -88751868, -788732084, -5524196324, -31579997108, -151040801168, -615510918708, -2167057811604, -6663536470484, -18049775042868, -43367735259348, -92941175461268, -178464384726740, -308156312137580, -479864704550228, -675411149119028, -860687469470228, -994149165849668, -1041542115282068, -989940967922228, -853368864379028, -666720305573228, -471521494746260, -301337342586260, -173615339712468, -89910522327348, -41695650771668, -17234633855124, -6312938110164, -2034487806608, -571686123668, -138473396708, -28486482164, -4879714044, -677254068, -73166948, -5772468]\n",
      "[0, -12439660, -198042110, -2183293020, -18089096850, -118405601040, -633158236470, -2832474474270, -10789088397990, -35465627449550, -101668700106070, -256286589196910, -571872900753510, -1135565358745470, -2015135074432950, -3206491826431650, -4586850820463550, -5910063887359050, -6868079590026150, -7203983304549450, -6821802541065150, -5830130802790050, -4493016329882550, -3117870363105150, -1944237903771750, -1086482702133870, -542180923297110, -240531662383310, -94334510037670, -32477624088350, -9728829140790, -2507167656720, -547724122770, -99463195740, -14609879550, -1667853420, -138836210]\n",
      "[0, -250055332, -3667305532, -37531805152, -289675945708, -1768752535468, -8824221042412, -36807729931132, -130579365188652, -399156925312140, -1062061268420140, -2479476393327292, -5111192381317612, -9349990164378412, -15238168911194092, -22192068575820292, -28944985463118412, -33862487951201212, -35563880943361612, -33538746541951492, -28390000190118892, -21548790191207212, -14641504902277612, -8883846407412412, -4797943776636460, -2296748040596620, -969246867033132, -358136274699132, -114862640815852, -31621210888108, -7364086649068, -1422731103712, -221923497532, -26856524452, -2365937980]\n",
      "[0, -3729636288, -50512034412, -479737406988, -3443217609132, -19560241991052, -90746737701228, -351603626260572, -1156780993079628, -3272752866993372, -8040625337406060, -17286351948967500, -32715648006754860, -54760750402711500, -81355675511377260, -107557875572851620, -126764822256696540, -133317901225690020, -125147719121202540, -104808800242511820, -78213875133846060, -51904568241319500, -30542465927434860, -15873783597409500, -7249587060533580, -2890272821033052, -997414307262828, -294686952754572, -73475471258028, -15163919623692, -2521408080492, -324625226688, -30367595412]\n",
      "[0, -42988052712, -537882930024, -4733664364968, -31511041997160, -165977656499688, -713199774316392, -2555149720358664, -7756666938851688, -20197669701748968, -45538617299978088, -89550529521329448, -154452728722849128, -234638442489242088, -314931497556423528, -374236088946500088, -394174243136107368, -368099908728709608, -304596878242250088, -223011995760796968, -144118109408675688, -81917003891542248, -40759366470893928, -17642098077863688, -6588405625075560, -2100201804897768, -563422682806632, -124788956334504, -22214532868968, -3055127994600, -304637181288]\n",
      "[0, -393166845588, -4540087193598, -36928524908088, -227198223716970, -1104915614002860, -4376086549847958, -14418134751226008, -40142689998781458, -95565877238588988, -196288596198073038, -350222074460206608, -545587175365492458, -744828838332753108, -893280244589356998, -942421138998977748, -874907676475866858, -714207891476936208, -511742970945905358, -320890430629897788, -175337422033566738, -82995172739885208, -33766245687844758, -11685372903681708, -3392292284732010, -810618184267320, -155258852003838, -22914361587348, -2446016812338]\n",
      "[0, -2904190290980, -30877054819820, -231293121056360, -1309319051497820, -5848630313983820, -21225628343920220, -63894382590309920, -161975990924004620, -349730170623691220, -648605343462934220, -1039696949242108520, -1446943076559191420, -1753465656485329820, -1853282081961508220, -1708961193434159720, -1373641608004323020, -960287024974334420, -581733828290071820, -303756003942348320, -135705038534665820, -51355973495398220, -16241416032899420, -4213185649430120, -873200474283500, -139037268184100, -15967017991980]\n",
      "[0, -17528119059440, -170969738930980, -1173937228311980, -6080814180174580, -24791879997990380, -81862124977423780, -223371408802175480, -511073553820391980, -991053400499424680, -1641542237997595780, -2335275311472694580, -2863647268054970980, -3032746094691996980, -2774932260728962180, -2191113424567930280, -1488900240098433580, -866678439248255480, -429247921418306980, -179185567305049580, -62223973200923380, -17650733897444780, -3985043041970980, -688805020394480, -85586470337500]\n",
      "[0, -87050616975608, -775237926742552, -4850607545261608, -22833995597635352, -84316480051842168, -251123825588669592, -615123909536088368, -1256524885485045592, -2161838321770937368, -3154413764591617112, -3921010493815624248, -4161871562575053912, -3773770798544436248, -2918830252157716312, -1918892824573477168, -1065979397487037592, -496032979537333368, -190951566220877592, -59746140809993768, -14811027681929752, -2799280521359608, -378846231302552]\n",
      "[0, -356914114317592, -2884063760670924, -16323013587977928, -69245468269021876, -229384145783769808, -609645488064322684, -1324428556306293412, -2382609241703327468, -3580972052977347860, -4521980183995161628, -4811902307968019732, -4316928213831526124, -3258747528434492068, -2060384717160471676, -1082760162899151568, -467487609589533364, -163043802495534792, -44804289162830028, -9339819557637400, -1387665039883668]\n",
      "[0, -1207948438860968, -8787015349307608, -44572656160515168, -168613822704691896, -495128921318382456, -1158463587580980408, -2197883982597075528, -3421101486965724408, -4400976633818161880, -4696630664238667000, -4160236563016987208, -3050732147271609528, -1840742119320607608, -904496040362158776, -356240418933089376, -109790456988567768, -25509528382141608, -4200398139473368]\n",
      "[0, -3362439574255040, -21800077528403480, -97962618133156280, -326075271934051160, -835898891367742520, -1691751450632512280, -2746667699702045000, -3612526744971835000, -3868012031370565960, -3373767948135293720, -2388529504447233080, -1361162347320378200, -615506155826319800, -215878904163339800, -56638980219139520, -10456333787300840]\n",
      "[0, -7640421082895184, -43588691714821584, -170940560418364944, -492032317665392592, -1079147886242908752, -1845179235548677584, -2493174219577000944, -2679864114008704464, -2293234982184766032, -1554358526614517712, -824679765925518864, -335436551316229584, -101031736155345744, -21217867950655440]\n",
      "[0, -13998191326468068, -69106875267089022, -231876246579892368, -563834701077316122, -1029104679835022244, -1437995637425911446, -1552828525143274404, -1297048084508869146, -831778105751163024, -402385685917794942, -142182349269047268, -34609222455225522]\n",
      "[0, -20290204734468132, -84750233682328524, -236756153696978808, -470577818738798652, -686517270114983628, -745532837525631036, -603362845412755320, -359705252469160908, -153601728994750500, -44432936857005708]\n",
      "[0, -22605600516203408, -77383673819834228, -172976730340227308, -267352437643137572, -292414204564371692, -226680516600014708, -122136829036323728, -43490406283898508]\n",
      "[0, -18495948783282520, -49443437836637240, -83013769366972840, -91668807511839800, -66753514126371160, -30860288990235320]\n",
      "[0, -10281315598972264, -19758635421833924, -22134050946397544, -14557063543186780]\n",
      "[0, -3319672819445048, -3820511430984072]\n",
      "n = 47\n",
      "[0, 0, 0, 0, 0, 0, 0, 0, 0, 0, 0, 0, 0, 0, 0, 0, 0, 0, 0, 0, 0, 0, 0, 0, 0, 0, 0, 0, 0, 0, 0, 0, 0, 0, 0, 0, 0, 0, 0, 0, 0, 0, 0, 0, 0, 0]\n",
      "[0, -90, -1980, -28380, -297990, -2443518, -16290120, -90759240, -431106390, -1772326270, -6380374572, -20301191820, -57520043490, -146012418090, -333742669920, -689734851168, -1293252845940, -2206137207780, -3431768989880, -4876724354040, -6339741660252, -7547311500300, -8233430727600, -8233430727600, -7547311500300, -6339741660252, -4876724354040, -3431768989880, -2206137207780, -1293252845940, -689734851168, -333742669920, -146012418090, -57520043490, -20301191820, -6380374572, -1772326270, -431106390, -90759240, -16290120, -2443518, -297990, -28380, -1980]\n",
      "[0, -9544, -187220, -2468198, -24138994, -185460546, -1161809946, -6090357544, -27229376328, -105340628664, -356624269636, -1066038139346, -2834115783854, -6740590590958, -14411278178190, -27806242503714, -48575130156754, -77027614872850, -111105573540778, -146006171569438, -175006144243318, -191473005698518, -191290040571238, -174502990143298, -145301755829410, -110346971974594, -76341261074874, -48035852172630, -27432636125998, -14181366561134, -6614510026766, -2772466096216, -1039195452384, -346248104928, -101795976124, -26165980566, -5812533426, -1099286914, -173514458, -22238480, -2223184, -162624]\n",
      "[0, -461484, -8222784, -100331744, -915723672, -6591704632, -38758864384, -190826706544, -801203883564, -2908972688732, -9233374724112, -25844398898064, -64236722519984, -142581657904944, -283922862434320, -509107438315120, -824498306063464, -1208835703428424, -1607412468199024, -1941055760298544, -2130424667033344, -2126118604037824, -1929260892093424, -1591030706803024, -1191405509303080, -808983517885960, -497168074573584, -275859915491984, -137769554292144, -61691654386992, -24651549127952, -8738969885184, -2728475684044, -743500237564, -174801579712, -34933936992, -5818163864, -785705784, -82652544, -6353840]\n",
      "[0, -13719440, -224295780, -2541274340, -21655858400, -145917927500, -803905638920, -3708651522050, -14582016944970, -49530923794970, -146884350135530, -383487209713290, -887393029583930, -1829854814411690, -3377068562487770, -5597482468738310, -8355240435652910, -11254861757962310, -13702043426506910, -15090748742562110, -15042239892658310, -13569746563132910, -11072713902592310, -8163985187514410, -5430270737508650, -3251302474041530, -1747281119977290, -839754359717930, -359284575137690, -136064348795850, -45287425816250, -13129629243920, -3278101808300, -694495358720, -122414978420, -17468551380, -1938915440, -157046780]\n",
      "[0, -283613620, -4277649808, -45062011288, -358313952892, -2256128863156, -11618424013672, -50077072656328, -183775839437688, -581821498768920, -1605400523780872, -3892051954535080, -8343905460830968, -15899476808002648, -27038595897390568, -41167166546508088, -56250572517086368, -69096986381380048, -76387689290669848, -76039623270872968, -68152235756217088, -54962276210045968, -39834059933135848, -25895933085928648, -15061524079597240, -7810662815482072, -3595806040452360, -1461509651226408, -520821108578488, -161302011472792, -42931016759656, -9676560998272, -1811265699628, -273993483988, -32185486480, -2754619992]\n",
      "[0, -4357674576, -60793611336, -595360406196, -4410557239644, -25889085316188, -124244052213276, -498563911240236, -1700978614005996, -4997347646260140, -12768488981194572, -28593886126671036, -56467852689569436, -98812916296327836, -153790585605914076, -213485423343971796, -264847885975969236, -294010697613128436, -292225014764301636, -260026542284136876, -206980435823245596, -147167325584811036, -93259251061241436, -52508295068257836, -26160557988483180, -11472633759674412, -4399014494595276, -1462148154307836, -416642029419996, -100317661332444, -20016548984988, -3221368632576, -401833640736, -36455559696]\n",
      "[0, -51839276184, -669378611520, -6086323530048, -41907868369920, -228604918708224, -1018619898114624, -3789517493056320, -11963445685946208, -32448490806646368, -76338256029611328, -156936292546552128, -283559005810205568, -452300274783497088, -639016054450993728, -801521027569372608, -893869931087043408, -886899953366846928, -782812140004634688, -614070871031343168, -427355091363846528, -263149310285036928, -142836841048488768, -68006761962573888, -28218655357227360, -10119671259276384, -3102621138022464, -801705259682880, -171259669467648, -29441509839360, -3914764302144, -377826678144]\n",
      "[0, -490396068624, -5856175250244, -49324943679264, -314660165451060, -1588942447688640, -6544246304750484, -22458453556318824, -65243030661402924, -162372757689648264, -349373088743055564, -654501158078748024, -1073229862482888924, -1546511604149817624, -1963796359491274044, -2201264968536713244, -2179761228270988824, -1906453052116008924, -1471059883919205624, -999287176656889164, -595648816298870664, -310138194223137324, -140196512960998824, -54581374541859924, -18108497859545280, -5048333938439220, -1160289196523424, -214057871810244, -30471440373264, -3141270774180]\n",
      "[0, -3755998158660, -41395670945200, -321933550157560, -1894978313507620, -8816179518785980, -33382636896834280, -105047792856574480, -278961216140188780, -632391760400839780, -1234481751457694080, -2088670474511960680, -3077646702721368580, -3962564160148477180, -4467184954370035480, -4413407628601964080, -3820212415468288180, -2893116663321123580, -1911910120981199680, -1098123764448249880, -545093789881565980, -232065612142231780, -83874192389269480, -25383721164741280, -6312989419095700, -1256512822493500, -192438785666160, -21287788260200]\n",
      "[0, -23572427645360, -239005978955480, -1708965378827300, -9235000739528300, -39356222745946700, -136121920293151100, -389951077991796200, -939071268067281800, -1922010652594953800, -3370558703996633600, -5094346158684803900, -6663057407840098100, -7560161042011757300, -7449243198385409300, -6371898068320934600, -4723260725964301400, -3024212300124164600, -1664203930915446800, -781522715929805300, -310153759376710700, -102640527867241100, -27807568546864700, -6008170889784800, -995666148884000, -118816365118880]\n",
      "[0, -122140013089640, -1134350492429440, -7417465000229440, -36570126274251440, -141759506703001200, -444351702613703040, -1148730297332702240, -2484250152088789240, -4540767249126735640, -7066631476506174560, -9410638156521020640, -10756293607778509440, -10565335649775645440, -8914147465713574240, -6446018112996866560, -3978564555124186040, -2082676799229825240, -916240461466986240, -334447416568091840, -99488627454689200, -23504581779318640, -4242972092253440, -549575483065440]\n",
      "[0, -524546118499104, -4437278866236840, -26357830552552408, -117661167273236496, -411311785230629192, -1157214355973678912, -2670632955583817276, -5123883538313973628, -8249961846672874380, -11217942916543075804, -12930595309052607004, -12653925141697383180, -10506505343343928828, -7380427034985028076, -4363040578087108112, -2152748251563849992, -875894269839375696, -288823135286985208, -75261249985052040, -14916583030343904, -2112319476697144]\n",
      "[0, -1868397491797384, -14294183491324704, -76495186805935984, -306271931182097848, -955258119180906088, -2383402139289209104, -4843785795723322864, -8117961589182166304, -11311486420509259840, -13166859845727918640, -12827755668583377104, -10450683509296192864, -7093196218690419904, -3982982884510255888, -1830028839223666048, -676763059670796184, -196561756223569704, -43182380644439584, -6743280761385520]\n",
      "[0, -5505701972996000, -37754896801348880, -180143401188321800, -639279052509341720, -1755164092748635160, -3824219128302082520, -6724407875475829160, -9645935728244594920, -11358588120754126120, -11006038856749657160, -8764562568233422520, -5707438844693707160, -3010643903676384920, -1267018957973216600, -415545865737274880, -102375181187336000, -17814327570326880]\n",
      "[0, -13341294313262640, -81077626102667136, -340392688972465536, -1054506550009247808, -2504304547104283200, -4669366154748690048, -6937714510164809856, -8283369961422298656, -7972338626017071648, -6174273959624707200, -3821098876370798208, -1864841521865564736, -702149372836892736, -196839764939283840, -38664262183772544]\n",
      "[0, -26314340595102672, -139664417278093572, -507146659705556952, -1344271351716994236, -2697267917547623592, -4185645241334311212, -5082748875505970412, -4850316639559605672, -3627807875063035836, -2105622226047786072, -930119367667107972, -302346228032536272, -68146806217673652]\n",
      "[0, -41588448324668004, -189081950834599920, -580257929068459128, -1280227190933347572, -2099566267294589580, -2604187061516147880, -2457675710783650272, -1757706448918761828, -938367372557519820, -362710771920205104, -95847454913919624]\n",
      "[0, -51436001844856944, -195058216341813304, -489647741102394244, -863842716187365196, -1101311325232804396, -1023952111454632444, -689784485186478304, -328482712397869344, -104805800267279360]\n",
      "[0, -48008449588675400, -146076491680739840, -285481374302801600, -377830277820472400, -343966999218605840, -212917205870230400, -85606351320263840]\n",
      "[0, -31879269262989280, -73150585311235256, -102313396948394456, -90204892537307680, -48933576489061704]\n",
      "[0, -13524203201351832, -20814906110641632, -17351850392829392]\n",
      "[0, -2851891638829664]\n",
      "n = 48\n",
      "[0, 0, 0, 0, 0, 0, 0, 0, 0, 0, 0, 0, 0, 0, 0, 0, 0, 0, 0, 0, 0, 0, 0, 0, 0, 0, 0, 0, 0, 0, 0, 0, 0, 0, 0, 0, 0, 0, 0, 0, 0, 0, 0, 0, 0, 0, 0]\n",
      "[0, -92, -2070, -30360, -326370, -2741508, -18733638, -107049360, -521865630, -2203432660, -8152700842, -26681566392, -77821235310, -203532461580, -479755088010, -1023477521088, -1982987697108, -3499390053720, -5637906197660, -8308493343920, -11216466014292, -13887053160552, -15780742227900, -16466861455200, -15780742227900, -13887053160552, -11216466014292, -8308493343920, -5637906197660, -3499390053720, -1982987697108, -1023477521088, -479755088010, -203532461580, -77821235310, -26681566392, -8152700842, -2203432660, -521865630, -107049360, -18733638, -2741508, -326370, -30360, -2070]\n",
      "[0, -9986, -200550, -2708396, -27150198, -213943574, -1375506702, -7405449764, -34028664382, -135405727026, -471889925414, -1453339765512, -3984516653654, -9782368480542, -21611692003262, -43137167150130, -78048231884126, -128348160221510, -192251311201486, -262747071030442, -328056473213038, -374529615542158, -391179442124638, -373843496314858, -326848903372990, -261284053724230, -190806355837326, -127122528439410, -77135347522286, -42533649155358, -21255699822014, -9594638228712, -3896024279054, -1416120913842, -457969108166, -130797678724, -32687444502, -7065102614, -1301037582, -200096972, -25004670, -2438786, -174150]\n",
      "[0, -494832, -9036876, -113089300, -1059305340, -7831249428, -47325982316, -239661976608, -1035832903380, -3874799828720, -12683303356908, -36645885939756, -94119885955468, -216114489677100, -445717451602380, -828823723867316, -1393901852977692, -2125408444043796, -2943951447964620, -3709575405572220, -4256543271071340, -4450218240801660, -4240076409616140, -3680758398025620, -2909371038908700, -2091714712143156, -1365823743060492, -808366815213356, -432549786261900, -208590109482540, -90297015372748, -34920284635056, -11993062835028, -3631185526880, -960428476620, -219360784788, -42623003516, -6907155348, -908251500, -93096880, -6978036]\n",
      "[0, -15095422, -253260342, -2946845522, -25808674486, -178863894206, -1014378544982, -4821359774072, -19549239278982, -68544509987366, -210043189306246, -567288717051222, -1359585720311942, -2907362451315622, -5571996231605510, -9604952582614490, -14934428365981862, -20991901951215062, -26717808063109862, -30826803035380622, -32264017201339622, -30637483061179862, -26388555934065062, -20600915047974362, -14559080938870790, -9298178243148710, -5353845590207622, -2771018300441942, -1284361361209222, -530616841988646, -194270339816966, -62580401274232, -17577633092822, -4255972705982, -875206343606, -149869685586, -20793460022, -2245705342, -177118422]\n",
      "[0, -320677256, -4970291060, -53850193192, -440763798508, -2859259185760, -15184035554500, -67554822998068, -256175400234852, -838985895968340, -2397629285206916, -6027902212816916, -13419698039955940, -26594112755872372, -47109881919549892, -74844363868863052, -106914694808356852, -137584783003244092, -159706160669536612, -167344929598623292, -158318584382193652, -135188060325106252, -104101150794890692, -72187127856145012, -44984093109375460, -25122412810366996, -12529410418600836, -5555504699444820, -2177720097947492, -749393264121908, -224384466353860, -57800786466400, -12622369394668, -2291287955752, -336442552180, -38395193736, -3195054636]\n",
      "[0, -5071329460, -72816343468, -734628489568, -5611918397212, -34001434915036, -168607333618972, -699888273535468, -2473052454213468, -7534546190818620, -19991157148309852, -46558261074239020, -95773746777523228, -174878359032859228, -284545499978488348, -413798251311755668, -539016190776407548, -629855373126896428, -660803867612882428, -622577125888569748, -526539195510704668, -399336279526509148, -271131497163187228, -164398669333405228, -88731395299490140, -42450222712053052, -17904534488151900, -6612333497266668, -2119714257450268, -583286668603612, -135781075339036, -26222295583072, -4088730276268, -494630361268, -43559428780]\n",
      "[0, -62205553536, -828127647000, -7771509897816, -55289266085784, -311974514815320, -1439653222109976, -5553941572525560, -18207290268196056, -51357164909776632, -125853125133944088, -269970841760896728, -509954997234497688, -852137431209107928, -1264083813445258008, -1668969028981987848, -1964637207754309368, -2063956088992176648, -1935561815462578968, -1619540862086046168, -1207594479849896088, -800783491576960728, -470881347514385688, -244572969442823928, -111630316635823320, -44480202559036920, -15341889288721176, -4530584079855960, -1129117155368856, -232928970553944, -38715200353560, -4982604606336, -465932154600]\n",
      "[0, -607992674982, -7500168844806, -65338082462070, -431641087576710, -2260152771204966, -9665916657697542, -34495823905220766, -104381715365349510, -271060072353235110, -609717511432806150, -1196567263739120790, -2060130836934236550, -3124779035039774310, -4188251088404911110, -4970754823855306530, -5229727173166470150, -4878844019901347430, -4033453944903506310, -2950632248600693910, -1905333693432831750, -1082228464561946790, -538131480643618950, -232781430889572510, -86882907839103750, -27681384435865446, -7422479795358342, -1643207634061686, -292393282328070, -40196117625510, -4006496311686]\n",
      "[0, -4822343589272, -55025412927012, -443679292205072, -2711589014883980, -13118237765633000, -51736567994363252, -169866822368623952, -471561158215256252, -1119840057787952072, -2295196074198199172, -4087526118404080352, -6357291033739898252, -8666364125948419352, -10380277463620373012, -10938675583610002712, -10144476796509203852, -8273363014096470752, -5922921383798270852, -3711072421788003272, -2026300576615286972, -958502759238204752, -389723398081326452, -134793496596939752, -39110170716556940, -9341110374836240, -1788291208244772, -263816083119512, -28149301224572]\n",
      "[0, -31424548847340, -330723787790660, -2458676823757880, -13837034096019860, -61522066356885860, -222429312043559060, -667465168630552160, -1687582559612484260, -3635492698951448060, -6729144066182873060, -10768201084450043960, -14963512534749020660, -18109178667730251860, -19117200145528259060, -17609568913968789560, -14140625881494847460, -9876740543424689660, -5978440452687837860, -3119383964673611360, -1392663282882291860, -526708241100233060, -166476247683680660, -43162467113800760, -8941140964530500, -1423007122865900, -163342826030340]\n",
      "[0, -169586919656032, -1639727323410600, -11184477516513400, -57634299923142600, -234003193371879160, -770039875787227560, -2095174270561514800, -4782191340015003000, -9254226198862358800, -15300784840196463720, -21732778185248117320, -26612895981605346600, -28149509390865699400, -25727973049325034600, -20294778420292610320, -13778196853772985720, -8013598950665450800, -3965989203043353000, -1654425116596823800, -574151362914031560, -162771006872535160, -36729201711378600, -6345334411938400, -788038137005400]\n",
      "[0, -761311413130476, -6728419766593980, -41853442714408676, -196114498905914940, -721466973426885036, -2142157507565287420, -5233602273672786936, -10667214341630144220, -18317975337083770556, -26684191547329378140, -33120879661507912716, -35110202221372667740, -31799592415553033916, -24570131953801572060, -16137851381258220536, -8957313199806183420, -4164914060032811436, -1602188725936668220, -500979720928532196, -124118661355432380, -23445416067978476, -3171313168249980]\n",
      "[0, -2846903526032912, -22850959375570056, -128658975231715120, -543540309032929400, -1794478091605172704, -4755929490761540008, -10307666589884404504, -18505782292135977800, -27764964087837889720, -35007618440403173736, -37202096042766374072, -33335561078452167496, -25137445376200594200, -15878263580498682280, -8337027556156432864, -3596730059156850808, -1253518356856317744, -344239354125456520, -71715845258151440, -10648860095520696]\n",
      "[0, -8853721549887592, -64024085010819352, -323258483059440992, -1218298522200696824, -3566570384295692984, -8323521501279132152, -15757648068376276232, -24482062188524496952, -31443682401942090520, -33508884058456090680, -29645066329809497352, -21714960539089738232, -13089371477849901752, -6426080370238154744, -2528907265757658464, -778817671996352792, -180834133456181352, -29756572324320792]\n",
      "[0, -22790583450434432, -146981730286188080, -657732205976933744, -2181926586466554032, -5577872015976434288, -11262636496743342128, -18249474744238850192, -23961622137112129264, -25618308923774845072, -22315887766047334448, -15780873187641657968, -8983927367576703152, -4058732596532008304, -1422356876744341040, -372893564831103872, -68790730755960272]\n",
      "[0, -48150733507846518, -273401300787689766, -1068146124280957086, -3065119034332719078, -6705537567708140694, -11441052334534941222, -15430917052305082146, -16560452922423106086, -14151938422818198678, -9580719782554019814, -5077746584724834462, -2063401506342992166, -620950799285543286, -130298796789157350]\n",
      "[0, -82410640565117496, -405112729218730500, -1354633311589115616, -3284760663597791436, -5981429280103090872, -8341709245671484884, -8992841390625540792, -7500737618329221324, -4804069001823921888, -2321465890460289540, -819469548734947896, -199280512736358300]\n",
      "[0, -112046611047665852, -466198086299294676, -1298298655125903560, -2573925208940510180, -3747089252492697812, -4061917075316308964, -3282287810293635272, -1954189952675093460, -833497212926841020, -240839811293688596]\n",
      "[0, -117510614620492192, -400846885970187272, -893464961987339192, -1377710981457873128, -1503923163577410488, -1163919637957776392, -626225782612218272, -222687433053439992]\n",
      "[0, -90788389669049732, -241913968707513300, -405102337402353404, -446373653450599380, -324456600804005252, -149747412595115412]\n",
      "[0, -47778879555766128, -91547703526820376, -102301462153922416, -67135645084549800]\n",
      "[0, -14634856359562456, -16792395340364520]\n",
      "n = 49\n",
      "[0, 0, 0, 0, 0, 0, 0, 0, 0, 0, 0, 0, 0, 0, 0, 0, 0, 0, 0, 0, 0, 0, 0, 0, 0, 0, 0, 0, 0, 0, 0, 0, 0, 0, 0, 0, 0, 0, 0, 0, 0, 0, 0, 0, 0, 0, 0, 0]\n",
      "[0, -94, -2162, -32430, -356730, -3067878, -21475146, -125782998, -628914990, -2725298290, -10356133502, -34834267234, -104502801702, -281353696890, -683287549590, -1503232609098, -3006465218196, -5482377750828, -9137296251380, -13946399541580, -19524959358212, -25103519174844, -29667795388452, -32247603683100, -32247603683100, -29667795388452, -25103519174844, -19524959358212, -13946399541580, -9137296251380, -5482377750828, -3006465218196, -1503232609098, -683287549590, -281353696890, -104502801702, -34834267234, -10356133502, -2725298290, -628914990, -125782998, -21475146, -3067878, -356730, -32430, -2162]\n",
      "[0, -10438, -214498, -2965708, -30454576, -245980810, -1622030518, -8962474948, -42296326928, -172979043950, -620056401586, -1965832074568, -5552896506148, -14058909970378, -32061545823646, -66128328855730, -123771904726138, -210808666521198, -327463009402758, -464751830940010, -603483027563986, -717680711755798, -782175919121998, -781489799894698, -715787022688450, -600812440417726, -461843858269638, -324792422256498, -208670150377258, -122255502369526, -65168818679710, -31517823390568, -13782687343948, -5427185279878, -1914692405650, -601527536036, -167029775768, -40614759898, -8547658678, -1533714796, -229988680, -28039438, -2669698, -186208]\n",
      "[0, -529748, -9909940, -127112116, -1221166448, -9265326432, -57505237632, -299297570648, -1330533666876, -5123569677588, -17279021064212, -51484273592932, -136495358176168, -323861864207336, -690968013477480, -1330759791104088, -2320936565755568, -3675050213362400, -5294004475282976, -6948741086403296, -8319973232803256, -9093915721197656, -9077082929487896, -8273683055601416, -6883934838320720, -5224213131194048, -3611905663948608, -2271322991216160, -1296388004354216, -669816144708328, -312262452301672, -130823586913472, -49014746392428, -16324413911076, -4797461643908, -1232701256772, -273737751792, -51753118688, -8166286336, -1046319160, -104570828, -7647108]\n",
      "[0, -16572306, -285140346, -3404934486, -30625619718, -218137759338, -1272432832026, -6225687575736, -26008041184416, -94039499984058, -297461713589058, -830164429393746, -2058198689248146, -4558454714934786, -9059862670654530, -16217904161408190, -26225267159893326, -38398167911742306, -50996657250902706, -61513920394754586, -67447479472444986, -67249449507185106, -60971490489912306, -50243282383066206, -37596577052364270, -25511763208139250, -15668829103885506, -8689058735704146, -4337152631741586, -1941154476359298, -775306895079618, -274724709235176, -85738688870736, -23354329191666, -5488713845178, -1096529637078, -182563674246, -24646274346, -2591892186, -199190160]\n",
      "[0, -361513620, -5753866716, -64066612740, -539339649732, -3601491081084, -19704618839412, -90404656225884, -353876477134752, -1197573946071360, -3540356761889376, -9218623340309760, -21282982012608576, -43798758942437280, -80689729224768768, -133533765024835968, -199044463250695608, -267784744994500968, -325640408277134808, -358274983204432008, -356788131159856968, -321585357246475608, -262201703720404968, -193182269912894808, -128408533135215840, -76834853957362176, -41267780231513760, -19822801987075776, -8476784752625280, -3208711275630432, -1067505852139584, -309359123556912, -77207812279884, -16351067907252, -2881098658620, -410993873316, -45603619620, -3692607516]\n",
      "[0, -5879679532, -86818942804, -901564564288, -7095338690632, -44330086869988, -226906487355676, -973249402823980, -3557453857666188, -11225154791803740, -30885764994060028, -74696419564676332, -159799735778645644, -303940415045364028, -516038654488917148, -784548177049375828, -1070611608349388068, -1313579838445774588, -1450645053140422828, -1442645762520576148, -1291867478191905028, -1041003844366838668, -753910577797868188, -489777855130482028, -284682495515844940, -147544696078042588, -67888064175452412, -27578849519294124, -9823237278160588, -3040957931587132, -809017979324188, -182278383143776, -34106193905080, -5157476625388, -605634889300, -51816508128]\n",
      "[0, -74296681032, -1018825605672, -9858522940392, -72392284286448, -422063481529200, -2014713974040432, -8049618014241072, -27365015187483792, -80154290417922000, -204272639414914896, -456436840080391632, -899641257852485232, -1571606244297058032, -2442337952413136112, -3385795104792030672, -4195319584741945632, -4652203633724106432, -4619382037043864832, -4106701273705293312, -3266230716885436272, -2320599666544603632, -1469527557388661232, -826862934778906032, -411711252446082960, -180454279136288976, -69156677153470032, -22975211573521872, -6543859605822192, -1574936915073648, -314123810674800, -50534500938432, -6301420150872, -571482049992]\n",
      "[0, -749500725018, -9541267875690, -85874808901146, -586799526072090, -3182009221635498, -14111272782569898, -52293960410266290, -164557968647108466, -445111237619890986, -1044714660726732906, -2143365265265248506, -3865841292448795386, -6156673588152864426, -8686113649902305706, -10881453403771101966, -12121567251008395566, -12014840292486620106, -10594975778265283626, -8304143482561214586, -5774703420811773306, -3553320246442448106, -1927469083724631786, -917139644361823026, -380342383157705970, -136325391061027818, -41775941309569578, -10789793066560410, -2303916882920346, -395909887220970, -52623065359338, -5076913418688]\n",
      "[0, -6148956406516, -72556375753356, -605797305930036, -3838898387578540, -19283856127719700, -79086976107922156, -270463077035310676, -783411578036790076, -1944853032937391236, -4175718860012791036, -7808030386784187076, -12782388869775546076, -18392574473343451876, -23325145431994460956, -26115401588278371556, -25833257556767213476, -22572761347964706076, -17402595415409563876, -11812209393000335836, -7035846721595754436, -3660929749887169276, -1653885275040300676, -643523232893958076, -213388632217035220, -59459565220189420, -13659627276848916, -2518926310333356, -358426226986036, -36934940385420]\n",
      "[0, -41548323731860, -453271679697980, -3498408384903960, -20471975150058960, -94800032098864620, -357600038531800020, -1121742437170233120, -2970940333324670520, -6719671432744562820, -13091578407504489420, -22112156241740757720, -32532895364511703920, -41830878781390556220, -47101362632149054020, -46484176145931256920, -40197149847284622720, -30415098598078086420, -20083529865472766220, -11526638060097753120, -5717778406097922120, -2432733335539285020, -878739277635025620, -265798844929610520, -66071658571591200, -13144495262535780, -2012235215476860, -222499448420480]\n",
      "[0, -233161675159384, -2343405976115032, -16644938645367640, -89480180857133440, -379742886367400800, -1308929294598441760, -3738998292362174800, -8982348292768904440, -18346041232148712040, -32114651713966849960, -48462053764531201480, -63296431799818998160, -71729205961032594640, -70598085937716892240, -60327241738615279360, -44677791921820579480, -28582673994103602760, -15716975109844490440, -7375696773582991240, -2925239730696582400, -967492135857633760, -261971808424919200, -56573556137910640, -9370842654802600, -1117734124224952]\n",
      "[0, -1092086242443508, -10065258211196708, -65430784609344908, -321098602546485868, -1240033967346561348, -3874909894367887908, -9991298632297515208, -21559368404015346008, -39331434865596483428, -61108280044432398388, -81258999605100617508, -92758237097664612708, -91006297525098785908, -76703956716429467828, -55414476433593461288, -34173518653424740408, -17875142538178386708, -7858325762602433508, -2866595446875667468, -852220718311091948, -201229052844613508, -36306469464388708, -4700252789757408]\n",
      "[0, -4277748339890568, -35944329803840280, -212400578844442536, -944218462732090632, -3289561614627404664, -9229065038081684904, -21248397321171766392, -40684486778527765776, -65391060086642262960, -88779583247454757968, -102195360322112752368, -99888772564334248560, -82848357584595748176, -58141784276481250992, -34341370444636880304, -16930813934237634264, -6883711099500181032, -2268378799264166136, -590732103567892680, -117015370816008168, -16561239402340248]\n",
      "[0, -14001840528015576, -106485794115866856, -567202614206383776, -2262471446634349872, -7034961045897889032, -17507497893684155256, -35503216377940545096, -59390879934445625256, -82620876104974808760, -96036653179632803160, -93446314047038995656, -76045399845313605096, -51562932006277525656, -28927740118279341432, -13280406012473381472, -4907601079536911376, -1424420550795176856, -312733718708659176, -48806177803049280]\n",
      "[0, -38156658281284880, -260272037809527632, -1236654755918190800, -4373677679768054048, -11974558622763626144, -26029550227848675488, -45678574784343630944, -65412099965152829248, -76911337457716824448, -74426668515753618944, -59200427610244815488, -38511260528680538144, -20295698823318201248, -8534247780045341600, -2796868543522173632, -688566018720424880, -119736464169074832]\n",
      "[0, -85972949024852970, -519994128505023306, -2174848210822120866, -6716742908518604898, -15910663089179713770, -29602404667216724778, -43902652936456867806, -52335427097670464286, -50301032153831916138, -38909138074307704170, -24054054820384320738, -11728060896952209186, -4412043741372837066, -1235896698281252490, -242576636163403104]\n",
      "[0, -158419349302329396, -837215563345049196, -3029621472784782036, -8007934961673069948, -16030374803320465476, -24827152307276146716, -30097636158034644516, -28679536045140860196, -21423712036331064348, -12420665425045378116, -5481138396880508796, -1780106687997251796, -400877067070038636]\n",
      "[0, -234867061317686788, -1063675738431757740, -3253990055854218216, -7160863342416861184, -11718667731837791260, -14508923888121701860, -13671461040412652584, -9764587753850009616, -5206783364429079540, -2010484615316538988, -530744835344180928]\n",
      "[0, -273469126026931896, -1033393993561967736, -2586652577276952696, -4552659188470695264, -5792773035707988864, -5376908733560863296, -3616964508639662736, -1720268614470441096, -548218974390321240]\n",
      "[0, -241052581149163740, -731082187084240332, -1425014013561722100, -1881898062543882900, -1710119434903156332, -1056916954331593740, -424334637725800032]\n",
      "[0, -151576283996211800, -346772072345081416, -483837287039729656, -425706713385508280, -230510925036638664]\n",
      "[0, -61028327586906216, -93662902514203416, -77888595481087296]\n",
      "[0, -12230140462092528]\n",
      "n = 50\n",
      "[0, 0, 0, 0, 0, 0, 0, 0, 0, 0, 0, 0, 0, 0, 0, 0, 0, 0, 0, 0, 0, 0, 0, 0, 0, 0, 0, 0, 0, 0, 0, 0, 0, 0, 0, 0, 0, 0, 0, 0, 0, 0, 0, 0, 0, 0, 0, 0, 0]\n",
      "[0, -96, -2256, -34592, -389160, -3424608, -24543024, -147258144, -754697988, -3354213280, -13081431792, -45190400736, -139337068936, -385856498592, -964641246480, -2186520158688, -4509697827294, -8488842969024, -14619674002208, -23083695792960, -33471358899792, -44628478533056, -54771314563296, -61915399071552, -64495207366200, -61915399071552, -54771314563296, -44628478533056, -33471358899792, -23083695792960, -14619674002208, -8488842969024, -4509697827294, -2186520158688, -964641246480, -385856498592, -139337068936, -45190400736, -13081431792, -3354213280, -754697988, -147258144, -24543024, -3424608, -389160, -34592, -2256]\n",
      "[0, -10900, -229078, -3240928, -34073026, -281918404, -1905478606, -10798604188, -52302533138, -219682236200, -809340847222, -2639251608940, -7674371051338, -20018871399688, -47079965970046, -100236829721554, -193866208976086, -341579351354778, -549547488319278, -808831827030610, -1090667790532582, -1348937845640890, -1531418115333598, -1596599441927098, -1528838307038950, -1344373569427282, -1085089230715950, -803253267213978, -544738385029078, -337924432854226, -191390296443454, -98733597112456, -46260020910538, -19616937546988, -7497520156150, -2569583074472, -784862713490, -212051400988, -50206149838, -10295472196, -1801170754, -263511136, -31361878, -2916628, -198810]\n",
      "[0, -566268, -10844756, -142492008, -1403122148, -10918724244, -69549813860, -371766990264, -1698597496980, -6727750520732, -23356295619924, -71700651544880, -196033027807044, -480129621450500, -1058513084925636, -2108921785350236, -3809459679851748, -6255428514753076, -9357675433836388, -12773875029667564, -15931871423033092, -18170998650685732, -18961773930789892, -18106503443319532, -15818359858068580, -12636351402883636, -9221849629605348, -6140219127235676, -3723648549838788, -2052191093841668, -1025049819888324, -462482977778480, -187714744594644, -68202079487900, -22047738798612, -6294593980344, -1572522828260, -339774358164, -62549716580, -9617143656, -1201442516, -117148668, -8363156]\n",
      "[0, -18154904, -320150374, -3920842042, -36192870446, -264753109626, -1587218960358, -7987628687888, -34349669008842, -127963547657496, -417414662010806, -1202503149433318, -3080685887565718, -7058280567722342, -14529176660981430, -26971602392633610, -45291937174750334, -68967345041991674, -95411846123403542, -120092622735127502, -137661604419519302, -143793193462469582, -136887844896252182, -118738543569410042, -93786951124542590, -67384114017460490, -43972577987641014, -26010354984882534, -13910442697371542, -6704718302802406, -2901053446517686, -1121419061460248, -384981026821578, -116516382296592, -30806498778086, -7033698241146, -1366231212078, -221330955578, -29095018342, -2981420440, -223407770]\n",
      "[0, -406403340, -6637676220, -75899468820, -656669808060, -4510093186956, -25400832538620, -120067593023280, -484666039535580, -1693069560019740, -5171949235237596, -13931301548038140, -33311474632678620, -71090860854497820, -136005790398306780, -234078050794927332, -363451017930194460, -510226144294315260, -648661653737455260, -747649246083097260, -781770673054969500, -741720090933470460, -638350079564191260, -497981149963564260, -351695823372673500, -224470439858491932, -129173711510174940, -66820811549415420, -30955585360909020, -12782805528050460, -4677972452447196, -1506284589027120, -422918941686780, -102360704669580, -21042213866940, -3602047630356, -499602468540, -53941041420, -4253050620]\n",
      "[0, -6792505944, -103065577916, -1100745633848, -8917059268964, -57396949297184, -302958276419372, -1341323680035836, -5066137948197900, -16536482969009500, -47123819137343340, -118186730425300124, -262560218246489996, -519360564697989308, -918515492512284716, -1457145065789398916, -2078816972624189756, -2672025138016798676, -3098355447333584396, -3243419952648079316, -3065771652441856316, -2615744037749268356, -2012747854918828076, -1394746454623223996, -868596603579344780, -484801333898261660, -241654016898506604, -107093643995757916, -41959796144280588, -14432621749613564, -4319606547767084, -1112274273085472, -242803886715236, -44059550675000, -6467332991420, -737823222360, -61378544164]\n",
      "[0, -88345037272, -1246822520680, -12428667323200, -94108269736840, -566330479164424, -2793321034921864, -11544775808322280, -40647036634830600, -123463871964588360, -326739373997552392, -759267301418137192, -1558844793182947720, -2841531703753056520, -4616495673194544520, -6704467092511254040, -8722723842451792840, -10181621026172988520, -10671326671835390920, -10044929085740279320, -8488394801710005640, -6432858431651455240, -4364568799353571720, -2644713833564796520, -1426583184416437000, -682114696304339272, -287550749177845512, -106143899388021480, -34011031816222600, -9354894218181640, -2176814780806024, -420231340819264, -65501445445480, -7921289546200, -697351705960]\n",
      "[0, -918962812128, -12060802159206, -112034579247798, -790976612518662, -4436673214911606, -20376478302953958, -78303578408752926, -255868443033102678, -719747988755091294, -1759631874167232102, -3766945728128384982, -7102802866910104902, -11850157699610629782, -17554275251326558182, -23147912153759684322, -27218036742426061662, -28564877548185130722, -26763116421849817062, -22374547608780068502, -16670430057064140102, -11046662068462976982, -6491447495384716902, -3369564736636882782, -1537098518931990870, -612149443366623006, -211035715787907558, -62291890106897526, -15517759094115078, -3199908325388982, -531654942134886, -68398721250528, -6393807614106]\n",
      "[0, -7789656793644, -94948450252524, -819924798527692, -5380557369559020, -28025726179456940, -119348319178334444, -424441511750897564, -1280558252415296492, -3317069506007060012, -7445307413727615212, -14584027399551944972, -25068062712490235372, -37967588471998424492, -50823301122883785452, -60248613952227425252, -63321014140022493932, -59016368290337301932, -48747940008121472492, -35632807217890822412, -22992701597727922412, -13051090212511600172, -6485555435754529772, -2803868795563118492, -1045952213355208940, -333080506155382700, -89270621862938604, -19754359417723084, -3513665812051692, -482847156199980, -48108877125100]\n",
      "[0, -54508221224248, -615648986524308, -4926420717648848, -29931622191504220, -144127917035857480, -566256905431445668, -1853313303149693968, -5131186996378814668, -12157483372559419048, -24868496475091692148, -44212086543984201568, -68658223059392216668, -93469861480072656568, -111820180024819917508, -117707850361796212408, -109054871195598143068, -88861013431369699168, -63564233110825790068, -39797295255226631848, -21715074125979142348, -10265429963091889168, -4171449759692386468, -1441997344569796168, -418183160342682460, -99832352265714640, -19103817469913748, -2817108109546808, -300464343934348]\n",
      "[0, -317620399374856, -3313460278419736, -24469219022761552, -136992111308398840, -606545528806960600, -2185398803273104120, -6539118882674797120, -16492910988019936600, -35455754937904411240, -65508005835312415960, -104661379394948318800, -145233288323938867000, -175544795202890256760, -185108689387419555640, -170338510558328276560, -136658231262307370200, -95371734244847530600, -57685146761543331160, -30077539324688165440, -13419644923324939000, -5072332806343093720, -1602328561749942520, -415225605807173200, -85973465175122200, -13676813109953032, -1569233060188056]\n",
      "[0, -1549492308068880, -14867536324603228, -100814839386678228, -517092339453794188, -2091567523100537748, -6861370792133780188, -18620086680136203528, -42405347092260915028, -81902916425126178648, -135190501259572815868, -191738356169902806348, -234487742353799155228, -247738919418928977228, -226191416539240343548, -178256826721244737368, -120915940666876036948, -70271792979225099528, -34753292193641784028, -14487977034881872788, -5024877616465188748, -1423751822857413588, -321102949165051228, -55446924967987728, -6882783386913700]\n",
      "[0, -6344607907847608, -55696732269013976, -344645683187234408, -1608191329316301016, -5896109693430998328, -17457080128086676056, -42548436872524516528, -86545926444007615256, -148356120725150043608, -215780119212353155096, -267465839772262973688, -283188204604699471896, -256209057352904150488, -197769267341379037976, -129782429733207985328, -71978325666013844056, -33443686386278409528, -12856785145562327256, -4017655908900222568, -994818664979721176, -187817445146631608, -25391758734597976]\n",
      "[0, -21802879264696944, -173962031408418744, -974888063538238032, -4103092597442526024, -13504430066157628704, -35698770543097785240, -77202019602748261800, -138344100783080503032, -207225402986699329800, -260908876600457873880, -276914992807709675784, -247856313358953903864, -186714232178621662632, -117832929975002835864, -61818641496690011424, -26649724598357637960, -9281541958612226640, -2547291715715272632, -530373525901879920, -78708916200627720]\n",
      "[0, -62708317952465712, -451057636944601552, -2267814133363561792, -8517860768635450384, -24866032883195301520, -57894687071405346832, -109383505978333127152, -169651750827557213072, -217566051501132369360, -231549957935659570064, -204611516913875214832, -149721697616392359952, -90165240381852733072, -44228364869463733264, -17392262929008481600, -5352499376273973712, -1242002571024194352, -204245832471971792]\n",
      "[0, -150099800330736752, -963417639569001446, -4294817451492498254, -14203308097769119286, -36216198992780853230, -72968581659477890342, -118017247434259086194, -154710617078237308798, -165177786183289453426, -143709389783023441190, -101515406491438284782, -57736113096874073654, -26061219951044975438, -9125818576901180390, -2390758881167021168, -440734894773772442]\n",
      "[0, -296280009151727724, -1675054568847975372, -6521618183856799932, -18661380429466906956, -40729498465861629612, -69355302083756500428, -93383121647433207492, -100071705611085489612, -85407903596521977516, -57754984918794711372, -30579220946520064188, -12415055802179789772, -3733080403817908332, -782722479235530060]\n",
      "[0, -475712529456686328, -2329379083211652516, -7764525044864279008, -18779013619618435500, -34122205805647643000, -47500108131663812084, -51127827135656771960, -42586883481631216044, -27243691295602008544, -13151138111399280036, -4637927540298081528, -1126841581455422716]\n",
      "[0, -608958684695111464, -2524720720435556664, -7010722863222276912, -13866047521335236248, -20146025992621743928, -21802004142006163096, -17591998357450179376, -10460677341106483512, -4456695228050712360, -1286404291261464760]\n",
      "[0, -603209345571449232, -2050947745515089652, -4559338922192811372, -7015096632551336868, -7643759309174224236, -5906473229241855732, -3173559668055959952, -1127094909423855372]\n",
      "[0, -441389718585238632, -1172605555335285896, -1958816253753229464, -2154012042102099080, -1562997132033025128, -720240844797909512]\n",
      "[0, -220520976049822544, -421358185966695112, -469767067927108432, -307656963578566520]\n",
      "[0, -64239577960540368, -73502938883787696]\n",
      "n = 51\n",
      "[0, 0, 0, 0, 0, 0, 0, 0, 0, 0, 0, 0, 0, 0, 0, 0, 0, 0, 0, 0, 0, 0, 0, 0, 0, 0, 0, 0, 0, 0, 0, 0, 0, 0, 0, 0, 0, 0, 0, 0, 0, 0, 0, 0, 0, 0, 0, 0, 0, 0]\n",
      "[0, -98, -2352, -36848, -423752, -3813768, -27967632, -171801168, -901956132, -4108911268, -16435645072, -58271832528, -184527469672, -525193567528, -1350497745072, -3151161405168, -6696217985982, -12998540796318, -23108516971232, -37703369795168, -56555054692752, -78099837432848, -99399793096352, -116686713634848, -126410606437752, -126410606437752, -116686713634848, -99399793096352, -78099837432848, -56555054692752, -37703369795168, -23108516971232, -12998540796318, -6696217985982, -3151161405168, -1350497745072, -525193567528, -184527469672, -58271832528, -16435645072, -4108911268, -901956132, -171801168, -27967632, -3813768, -423752, -36848, -2352]\n",
      "[0, -11372, -244304, -3534868, -38027416, -322127188, -2230347304, -12955648792, -64358967308, -277435365920, -1049735350428, -3518260990632, -10522628263684, -28255949844808, -68465412468916, -150323260909798, -300115969134034, -546410315832522, -909401432176818, -1386272114433050, -1938549536279618, -2489812674523162, -2939691551751394, -3192512764626898, -3189932956332250, -2932547467243138, -2479669838492922, -1927392416646354, -1375884451326218, -900937410386066, -540279484799338, -296136823992304, -148000083241192, -67243533556708, -27677165096920, -10276108834028, -3424114322432, -1017626381484, -267708147408, -61759452016, -12348208948, -2107632184, -301008772, -34991968, -3180300, -211968]\n",
      "[0, -604428, -11844168, -159325128, -1607119476, -12818695236, -83745179568, -459423272688, -2155819354068, -8775850758340, -31336919693160, -99029213697768, -278954512451388, -704572494034668, -1603433283363456, -3301070997689856, -6168511780346328, -10490917802062968, -16274893505374928, -23070807574092240, -29925391991149320, -35553326120231208, -38713591281175008, -38647723835354208, -35371531969765800, -29669015625108360, -22791642197736528, -16018517139333968, -10285620252244728, -6022937154111576, -3208958020791936, -1551235929787968, -678055121897388, -266886234729468, -94119805481640, -29558148600360, -8204721012868, -1994388919188, -419600910768, -75266870256, -11283450756, -1375266228, -130908168, -9128328]\n",
      "[0, -19848140, -358515280, -4500260230, -42605319110, -319855263270, -1969354945230, -10185881306000, -45053983859700, -172775548663260, -580664839022720, -1725064450951930, -4561970694353650, -10800463979678450, -22998842843706450, -44219123382092670, -77004684416410790, -121766807246411030, -175194278135436830, -229700367153939770, -274751870444094170, -300033991731644570, -299226200694703370, -272530445092505870, -226590371661716150, -171845052220734470, -118736555228346990, -74623772116503330, -42569651224476530, -21983783054404210, -10243818288770770, -4289787323431880, -1606553988014700, -534854071836900, -157125907699160, -40359091570470, -8959287825030, -1693315758950, -267113284750, -34214549800, -3418523420, -249923940]\n",
      "[0, -455640612, -7631713992, -89556277272, -795729900336, -5616788710176, -32536672658952, -158318135968272, -658422573843132, -2371889557182516, -7479227986202616, -20817568528414392, -51493380212789592, -113817165168382872, -225809679805549560, -403583599063123080, -651702791165389152, -953000108168376912, -1264240990521122712, -1523396226332900472, -1668768423736315272, -1662434400800041512, -1506046511333541912, -1240144164133124712, -927361084891547040, -628881242973925200, -386021337697675512, -213949451350961592, -106738779485936472, -47749700674073496, -19062940737023736, -6751980941086752, -2106386667695772, -573543133470132, -134745902813256, -26910378325656, -4478945401392, -604479496992, -63550977672, -4882582320]\n",
      "[0, -7820327704, -121847855136, -1337362159504, -11142658940056, -73828306718992, -401480488723048, -1833011102887972, -7146365072787948, -24103607707824652, -71054955496470316, -184567597719418284, -425210267966071756, -873431341950659884, -1606478137270945036, -2654700961185497140, -3951924469953418420, -5310490212185509540, -6450977971503478420, -7090615640078503540, -7054956581026487140, -6353725992270706420, -5176592559618649540, -3811331934758215420, -2531782916129119660, -1514026958083242316, -812731072787016684, -390190881910123756, -166776139516281484, -63101127123303276, -20984194542796492, -6078708781186048, -1516512202215472, -321052532787448, -56551190258752, -8064551984496, -894565605304, -72412833136]\n",
      "[0, -104607356056, -1518193791952, -15576935239024, -121509716684536, -754027126671544, -3838859376957088, -16394107261296160, -59708780826820224, -187834558180494720, -515489295620631904, -1243922087792997856, -2655986520748915072, -5043087260470025344, -8549346317021555104, -12980269962319013344, -17691694180342844464, -21682957261989275824, -23921689102001863744, -23768252031805583104, -21266485214313656944, -17123777751694273264, -12392599918760926624, -8045629136828909344, -4673694661662085120, -2420918503325680384, -1113328744780089696, -452058243300076512, -160943909225127424, -49801699632737536, -13243929370090144, -2982832776085888, -557919214471960, -84338935940824, -9900609115600, -846800379504]\n",
      "[0, -1120974537084, -15153950131344, -145143406817034, -1057662018573786, -6129739478475546, -29120949117752634, -115896989723683794, -392717225469824034, -1147138299465740130, -2916585664742960850, -6503653187129849754, -12795851517585644154, -22318146417973613754, -34634653930779052314, -47953534713366378414, -59351866049890365654, -65748242735640616854, -65223751764892056654, -57935740428869253114, -46042889034210909114, -32689269239275301754, -20686923229445624154, -11632849799838836754, -5788935767859993570, -2535966920753096610, -971395817672889234, -322567915510492794, -91834885218577434, -22093286849594586, -4404857435098746, -708373404789984, -88300703114844, -8005374817884]\n",
      "[0, -9807511495060, -123361605731720, -1100582188584520, -7470271418617000, -40295511034485480, -177938701820356360, -657096750959076520, -2061656606742904120, -5562584240464982680, -13027695170770431880, -26677782224747291080, -48037533697091029480, -76392076976229325480, -107637137872005270280, -134684080564634289880, -149875475193291136480, -148414039243663121680, -130761278805106460680, -102406735525968164680, -71161674630192219880, -43758113595787943080, -23721467855248057480, -11280782134248157480, -4675689929615212600, -1675061650731465880, -513071179111677960, -132456942289598920, -28271597595319720, -4856377192711400, -645258678265480, -62230208512960]\n",
      "[0, -70987441890024, -829110968398944, -6869880275667464, -43277848133794560, -216378006278680840, -884020173295192384, -3013595045457856024, -8705671749328012624, -21562706859297617464, -46204737237353365264, -86247106227614963224, -140978341925583808624, -202579123836512444824, -256596597478403629744, -286979386735717322944, -283599895189348960024, -247584620021421328624, -190721258761535732824, -129357634152106630864, -76997971469133127864, -40038647398365475024, -18077525645956636024, -7030103858298694624, -2329963345917894280, -648925109200001920, -149011584403450824, -27467361367158944, -3906895499311464, -402441160603680]\n",
      "[0, -428922711223208, -4638234321514352, -35559814623813808, -207002633535660472, -954549583933934680, -3588296671129017760, -11223570785418832480, -29653036774201818760, -66928423109838387880, -130155397369862577040, -219486024660388085200, -322466773769706507640, -414107639719575458200, -465758381457008736640, -459189325427618127040, -396718961994717962200, -299925895237483827640, -197894235750574781200, -113498874496578028240, -56264723280910184680, -23924602981802370760, -8637154190188312480, -2611205957375265760, -648777666453348760, -129012225433324792, -19741654250324208, -2181998238674352]\n",
      "[0, -2175961093822712, -21702206042126624, -153240216588076268, -819953228137330028, -3466640577250905068, -11911800684733687388, -33937152632560975448, -81346275808786305968, -165825642309251962688, -289789132110240534968, -436655216692419127508, -569570250626306662628, -644698602244391431268, -633867139689891645188, -541137661420744724168, -400417602999055872608, -255967359329768163728, -140650037006494332968, -65961183679323310028, -26144703372183613868, -8642241554505423788, -2338879601896808348, -504843543847214768, -83584391639735000, -9965327113102088]\n",
      "[0, -9296253775238248, -85102572647924048, -550323391402851248, -2689391626584217408, -10350568254495731808, -32252079573713594448, -82961316807326059648, -178647853341187825448, -325334203693428952568, -504679343643170101168, -670181618590240459248, -764092058112846420048, -748846486401945599248, -630543132141898325168, -455131235582742433568, -280449446979865065448, -146587312831499334648, -64399951249085354448, -23477615855272533808, -6975774516633785408, -1646273562154161248, -296880383421124048, -38415702756553248]\n",
      "[0, -33464008263294000, -279508477392129600, -1643910549977928000, -7280368511725371600, -25285485203516616000, -70756283776075047600, -162546894687527835000, -310642889889755958600, -498470224890009681000, -675787750505481102600, -776922069991364445000, -758529903567995418600, -628493608273960749000, -440666273273707026600, -260064432225491136000, -128119541151347577600, -52055005311977130000, -17142823288526613600, -4461754771921140000, -883332239237103600, -124952457027684000]\n",
      "[0, -101302658385827120, -766319748105973920, -4064609743192404320, -16157588812499701040, -50098856718357819440, -124382780524428941120, -251725543171115126720, -420362763296019605920, -583898060388813687200, -677808499911419648000, -658750802084173198720, -535520827442726546720, -362770819312582533920, -203348310225027986240, -93283130773372922240, -34447399000506097520, -9991863044861143920, -2192425805650332320, -341958055596437600]\n",
      "[0, -256713397731394460, -1742712726968929040, -8248683723300560210, -29082399460510862690, -79418486890864325570, -172259929948260235730, -301733679780215331470, -431392792781183018230, -506521144399267786870, -489554558825427253070, -388976328846581683730, -252791606009521483970, -133106270931705157730, -55926291480931278770, -18315143230958216240, -4506054552600442460, -783064221661206540]\n",
      "[0, -540424481906093940, -3254574961822915080, -13564839827267568360, -41774340139863977880, -98721493591372117560, -183308430579658921800, -271395902356936749720, -323046644094370028160, -310087523935176968880, -239587152875281058760, -147965375600041487400, -72078267529814359320, -27093378840638274360, -7583707446101541000, -1487422212842043360]\n",
      "[0, -934260097689503560, -4918058125803784160, -17740550868724961560, -46770115422799748080, -93421740069358006680, -144421588306869145360, -174804377564182838560, -166340434286910870360, -124108124441416421680, -71877157181756633080, -31688907401478786560, -10282810638401409160, -2313767886643178560]\n",
      "[0, -1304188179205697800, -5885386334003089200, -17952321375257127600, -39412263167666447800, -64368866378689931800, -79560261007346778400, -74858850634532423200, -53398908842123103000, -28442305631099619000, -10971439306532782000, -2893579733121226800]\n",
      "[0, -1434394847712561000, -5402631155845442400, -13487111179961514900, -23685914932608686100, -30082291618358937300, -27878958722899580100, -18728415917825132400, -8896834314421187400, -2832076111142859000]\n",
      "[0, -1197650111035910840, -3621413415644654960, -7041470321470325840, -9280202161482913760, -8418695929957343360, -5195385539629817840, -2083009430777564960]\n",
      "[0, -715090769015527760, -1631418791900163520, -2271056460475188640, -1994366106165578000, -1078038083280942240]\n",
      "[0, -273931316346857040, -419303513750271840, -347881781003915040]\n",
      "[0, -52291819544287000]\n",
      "n = 52\n",
      "[0, 0, 0, 0, 0, 0, 0, 0, 0, 0, 0, 0, 0, 0, 0, 0, 0, 0, 0, 0, 0, 0, 0, 0, 0, 0, 0, 0, 0, 0, 0, 0, 0, 0, 0, 0, 0, 0, 0, 0, 0, 0, 0, 0, 0, 0, 0, 0, 0, 0, 0]\n",
      "[0, -100, -2450, -39200, -460600, -4237520, -31781400, -199768800, -1073757300, -5010867400, -20544556340, -74707477600, -242799302200, -709721037200, -1875691312600, -4501659150240, -9847379391150, -19694758782300, -36107057767550, -60811886766400, -94258424487920, -134654892125600, -177499630529200, -216086506731200, -243097320072600, -252821212875504, -243097320072600, -216086506731200, -177499630529200, -134654892125600, -94258424487920, -60811886766400, -36107057767550, -19694758782300, -9847379391150, -4501659150240, -1875691312600, -709721037200, -242799302200, -74707477600, -20544556340, -5010867400, -1073757300, -199768800, -31781400, -4237520, -460600, -39200, -2450]\n",
      "[0, -11854, -260190, -3848358, -42340606, -367003822, -2601560542, -15480512386, -78824012078, -348502759790, -1353333579934, -4658377142534, -14319563392190, -39550291105678, -98650644806686, -223161713696092, -459458625698422, -863503970904606, -1485051096013758, -2341840938195790, -3391764368512254, -4517619167868894, -5539046855401150, -6256035114521398, -6511436135691550, -6246311221718494, -5521759934862654, -4496319212205390, -3370219585772158, -2322989253298206, -1470456243189822, -853393994729692, -453156302888086, -219616657115278, -96849981146590, -38724986928134, -13978897294334, -4532121505390, -1311497392478, -336176025986, -75617056942, -14750357422, -2457727006, -342849958, -38950590, -3461454, -225694]\n",
      "[0, -644264, -12911084, -177712064, -1835243588, -14995134728, -100412299484, -564979759544, -2720891424484, -11375441450320, -41747757547820, -135697999741784, -393488110722644, -1023971814208784, -2403125219514428, -5107024895538788, -9861281171382764, -17349587065226484, -27876182096471964, -40979981720216420, -55199968078335500, -68204367908983604, -77361315116529404, -80587447723294004, -77108493903653900, -67757068840050020, -54653269216305564, -40433282858186484, -27404889974032364, -16991405052172388, -9618641743184828, -4959708099847184, -2322770603682644, -984582296644184, -376156722994220, -128870483363920, -39348900442084, -10627619599544, -2515445861084, -515672824328, -90190129988, -13191222464, -1569551084, -145930664, -9944820]\n",
      "[0, -21657050, -400470430, -5149291100, -49967218870, -384734614910, -2431117330870, -12913887704660, -58706535358270, -231561516471370, -801116608839710, -2452098627317320, -6687238959696710, -16342673978114470, -35960476023719750, -71523923423745130, -129002157340431350, -211544535843163630, -316069175117508150, -430979160142621890, -536986181705335590, -611893019639403990, -637982931963895590, -608733440597687490, -531425322591914550, -424241965447515630, -309415155665551350, -205900501486593130, -124798324854158150, -68744723057820070, -34321132029072710, -15478176168437320, -6279731574663710, -2280705815376970, -737011245412670, -210341454040660, -52530217810870, -11346589078910, -2088187033270, -320971012700, -40087062430, -3907737050, -278898430]\n",
      "[0, -509533520, -8746703188, -105265319788, -959878630724, -6958345437420, -41426565289044, -207329866766048, -887600734883148, -3294323423471184, -10712413043582900, -30778282176993364, -78668770514982388, -179878233939509588, -369615693384633780, -685066902017300172, -1148780658618084260, -1747075611118325228, -2414212344750621428, -3035569188793560068, -3476377236637423508, -3628083456977112068, -3451112314071837428, -2991355574303784428, -2361156007362890660, -1695379692637972172, -1105700726551123380, -653680094368514388, -349412690760127988, -168333661011220564, -72803382656254900, -28130711268539984, -9653384680201548, -2920548706983648, -771908560732244, -176181973725420, -34210837171524, -5540518158188, -728118402388, -74591171920, -5587847852]\n",
      "[0, -8974437836, -143486899836, -1617282062676, -13848310238588, -94372201108556, -528272579328956, -2484907569156656, -9990407757723036, -34782360800411868, -105950719979402396, -284696057876040636, -679303396780039836, -1447031175049152476, -2763820001762872220, -4749848818706558756, -7365426668450941916, -10327708726246729916, -13115869310956084316, -15102752969679327596, -15778049697306369116, -14957587659029833916, -12863407901130877916, -10027910802079297316, -7077620661250206620, -4514622755129034716, -2596548134329966236, -1342486257903586236, -621623442492830876, -256577080161026268, -93856536015955356, -30209247489233456, -8478634762292156, -2051384430761036, -421559191416188, -72140245293396, -10002782746236, -1079667199436, -85103385276]\n",
      "[0, -123366589552, -1839816691160, -19413871977264, -155880896019816, -996563715190080, -5231923600705080, -23063043309513816, -86794461311228664, -282448653150649880, -802809431342973112, -2008956843311070872, -4454359643234774520, -8795930850561086424, -15532465844164784184, -24607570406043035304, -35063421591397644504, -45019636355887062984, -52150714356199538424, -54542883266408406984, -51512666255025420504, -43917553272040859304, -33769671884273840184, -23385695682648331224, -14554966065449020920, -8119200234527096472, -4044979394029027512, -1791734670263123480, -701688764579273464, -241251344469142616, -72176061456500280, -18577852444994880, -4053994686791016, -735393955996464, -107910940249560, -12307211863152, -1023511137512]\n",
      "[0, -1360743320962, -18931646700142, -186792672979312, -1403542509428998, -8395985793162598, -41214088342291462, -169672314320169742, -595440227550193062, -1803643943945711190, -4761953793558035110, -11043026673747797422, -22631705372923206022, -41188835979428758822, -66823376213093408902, -96924488728925754802, -125959031673936468022, -146875347294346200622, -153796214950845012022, -144645374346483258802, -122136220906171424902, -92493503520834454822, -62713476889646406022, -37977977132985787822, -20474008228113529510, -9784370005942152790, -4122636121021834662, -1521088365458729742, -487181385218016262, -133946896350551398, -31156492667560198, -6012545151494512, -936854831340142, -113259950591362, -9967657685230]\n",
      "[0, -12276118280000, -159190534770820, -1465778187168100, -10279290381292100, -57353487091099620, -262286270632973700, -1004378218436385620, -3272263395742187300, -9181619506123266260, -22398532203340310660, -47859494674042125860, -90092636421476510660, -150088372123487709860, -222043641813191453060, -292454453313546508460, -343513690165579727060, -360166520743864588460, -337154156444732189060, -281643245988105693860, -209687976298401950660, -138855948928224525860, -81546227468558870660, -42304328854645659860, -19287639344478289700, -7677451530409761620, -2645526739194893700, -780543698240923620, -194364071401247300, -40064200013932900, -6654117284466820, -855773098760000, -79969094717820]\n",
      "[0, -91808650625780, -1107647445479476, -9492160734798676, -61922576720328500, -321020721483108724, -1361837873036768820, -4827721312680799236, -14526303752399600436, -37541448927123748596, -84095880106128571956, -164442672699563550996, -282223143707042019636, -426868748265463755636, -570711330770521355316, -675812527935047171196, -709574808738729227316, -660744079580340171636, -545332891436277987636, -398318004014439966996, -256844704372798651956, -145697234554951972596, -72359605789502192436, -31265802243927698436, -11657436697224263220, -3710518276771172724, -994034404424546100, -219874767614747476, -39093395909914676, -5370225310696180, -534872299698484]\n",
      "[0, -574489286999792, -6431520548284392, -51121053896878752, -308972109445666040, -1481512249637257232, -5800511204968514312, -18929716841674049312, -52281297153205201112, -123610630897904065232, -252386414210555251112, -447981493790461675712, -694696946797764094712, -944552198777054243312, -1128712289827465913672, -1186932087594289801712, -1098663428159823358712, -894470762664316651712, -639343780567896230312, -400008749724576193232, -218120168449208477912, -103050883441096001312, -41852439747577922312, -14460206524976644112, -4191487490957448440, -1000180369377536672, -191313205382178792, -28200488170225392, -3006608428209752]\n",
      "[0, -3026262472397124, -31328159457261900, -229985586673854888, -1281567306024204348, -5652758462861501868, -20303202697119921468, -60590880624442345248, -152478544502985703788, -327156726347640712308, -603433713849574607148, -962667802000206747048, -1334088118555171906908, -1610631950414229976188, -1696591764586814530908, -1559732630758206363048, -1250253945004074191148, -871847447319850888308, -526953415171380199788, -274576521006382057248, -122432712879409329468, -46250824622280893868, -14602807764583692348, -3782316375623051688, -782782749427284300, -124473468932198724, -14275695983862924]\n",
      "[0, -13466521828955104, -128340794457688904, -865688570640124504, -4421594243235262184, -17823453585113287384, -58303019470260396104, -157839099000133982704, -358721314143647286104, -691608121643654806864, -1139800337602412422664, -1614335669059190854504, -1971851018234235496904, -2081007029467742278504, -1898141298266308486664, -1494557374111309462864, -1012976260598773302104, -588269984825874782704, -290735697816160428104, -121126866183291079384, -41986471551663550184, -11890163432896252504, -2680302568128088904, -462611793994945504, -57399281768137400]\n",
      "[0, -50675073397816600, -442195723896361400, -2723385985631966600, -12659784320455881400, -46270130345568168600, -136639232032465529400, -332297926492462783600, -674630804554968529400, -1154540295303472028600, -1676824448453612913400, -2075821696331639904600, -2195348182240892273400, -1984178269363119004600, -1530194965303979473400, -1003328640805412543600, -556033428478059129400, -258174566444394408600, -99187429060809929400, -30977310798808798600, -7666210590901801400, -1446619975234616600, -195477654254361400]\n",
      "[0, -161060792591183200, -1278223428797020080, -7132851082405877280, -29917578165124974160, -98187949921507973440, -258940356881870235760, -558847652518379864080, -999690514090998520880, -1495155332184424936400, -1879969979270360711920, -1992938116620213122000, -1781920603918665669680, -1341077742346047012880, -845612924252620597360, -443289460139596421440, -190964949600232916560, -66466093190077224480, -18230578316703119280, -3793708268571061600, -562692825832416720]\n",
      "[0, -430783422665782610, -3083755449633869710, -15444974037140279160, -57829768687589712870, -168383729145317590230, -391185001001154897510, -737706598632053022810, -1142322661889187017910, -1462882438751277428750, -1554977375943202731190, -1372560004869000274010, -1003365071301068318310, -603711779136367133910, -295899796026444932070, -116274632674773077880, -35760033711829684110, -8292745109810640210, -1362918414486888910]\n",
      "[0, -963444945302878880, -6157128487353337700, -27352198085698069460, -90197824706128557380, -229443594428799254420, -461354927031881826020, -744897134966867780780, -975040640251681238260, -1039650502148307575980, -903484977804041518820, -637563641295408201620, -362277855950534522180, -163392213707901051860, -57172134345679456100, -14967564200529656480, -2757425067895341980]\n",
      "[0, -1784255473413921380, -10047887603342472580, -38995775940472237780, -111293271974727041540, -242373059417496079140, -411955049161904302980, -553793043258665636780, -592639775793251298180, -505187207244909890340, -341255651323714126340, -180511086309079674580, -73224365446470792580, -22000728383214983780, -4609472385020151300]\n",
      "[0, -2697642378560623600, -13162001377248317000, -43745083501358705600, -105546128779802176600, -191395527454218153200, -265978396508353223400, -285871201509824425200, -237812072457650957400, -151962673783234980800, -73282884867179581000, -25821059105457263600, -6268145840363147000]\n",
      "[0, -3262149631650849100, -13480400085269117700, -37332531198122399400, -73674108294231846100, -106842591453395536900, -115442301034605145300, -93023454851953465000, -55248592825642416900, -23513394596680327500, -6780212642145688900]\n",
      "[0, -3061173244746680800, -10376785443708237400, -23011045566188871400, -35332909429557777400, -38433147501095935720, -29654412862342067800, -15912924857169234400, -5644704971028479400]\n",
      "[0, -2127266141447937320, -5635597778763363400, -9392633978577838040, -10308962001462473800, -7468253824532634920, -3436306174140274120]\n",
      "[0, -1011458111666911520, -1927600962777530320, -2144394892927301920, -1401687185936500400]\n",
      "[0, -280864321308106100, -320515080208617900]\n",
      "n = 53\n",
      "[0, 0, 0, 0, 0, 0, 0, 0, 0, 0, 0, 0, 0, 0, 0, 0, 0, 0, 0, 0, 0, 0, 0, 0, 0, 0, 0, 0, 0, 0, 0, 0, 0, 0, 0, 0, 0, 0, 0, 0, 0, 0, 0, 0, 0, 0, 0, 0, 0, 0, 0, 0]\n",
      "[0, -102, -2550, -41650, -499800, -4698120, -36018920, -231550200, -1273526100, -6084624700, -25555423740, -95252033940, -317506779800, -952520339400, -2585412349800, -6377350462840, -14349038541390, -29542138173450, -55801816549850, -96918944533950, -155070311254320, -228913316613520, -312154522654800, -393586137260400, -459183826803800, -495918532948104, -495918532948104, -459183826803800, -393586137260400, -312154522654800, -228913316613520, -155070311254320, -96918944533950, -55801816549850, -29542138173450, -14349038541390, -6377350462840, -2585412349800, -952520339400, -317506779800, -95252033940, -25555423740, -6084624700, -1273526100, -231550200, -36018920, -4698120, -499800, -41650, -2550]\n",
      "[0, -12346, -276750, -4182246, -47036470, -416971966, -3024499630, -18425675266, -96108436730, -435544594406, -1734707629870, -6128254387526, -19346995474070, -54920241632926, -140901931402510, -328114681313116, -696012775366480, -1348959678195666, -2394772100860830, -3902298773799886, -5846715416093550, -8065583211246846, -10255465609462750, -12028455397192246, -13020292463088454, -13010568570285550, -12001444583850846, -10216878733260750, -8022738472843246, -5806318948455870, -3868852236078366, -2370067271861980, -1332547379210416, -686165395975330, -322768961072206, -138275963564870, -53754271357526, -18880073739070, -5960162562926, -1680544708610, -420010905466, -92171326630, -17551686766, -2856512230, -389428086, -43259550, -3760846, -240000]\n",
      "[0, -685812, -14048476, -197757940, -2089724140, -17480768644, -119911079308, -691554922804, -3415846948820, -14656654203420, -55243381966196, -184551947805532, -550440372595396, -1474534532015020, -3565394433760420, -7813803102091204, -15574550935626208, -28314653623776144, -47062846618555040, -71656600844637840, -100096098789827776, -128434168374715312, -151504401719792896, -164398283576443600, -164140302746978800, -150789993268967296, -127419884771691312, -98980386826501376, -70617834533954640, -46216444439479840, -27701570520457744, -15176636421453208, -7581485335230604, -3443206542539620, -1416656057226220, -525788429629796, -175137280985532, -52032485071796, -13683932352220, -3155895419620, -630810938404, -107639567308, -15368927044, -1786179340, -162301140, -10814876]\n",
      "[0, -23586782, -446261942, -5874465932, -58392859244, -460840969154, -2986651535642, -16282139576972, -76018378859692, -308172800748510, -1096617599008070, -3455286532478192, -9708582485112272, -24467759795502842, -55575474630897314, -114221557039969934, -213115821145714382, -361958970669603642, -560832151066195882, -794138960967619910, -1029048450852034310, -1221451404254724002, -1328900419726813202, -1325607733555000502, -1212363590420520950, -1016232303137132570, -780183600122504682, -548016003351294142, -351696231694835582, -205838606236333394, -109616867705249954, -52966150674555992, -23142167411265272, -9105294310242542, -3209867261340710, -1007697573233620, -279622262743092, -67948538682722, -14291436297242, -2562824385764, -384094737284, -46802611982, -4453913942, -310498232]\n",
      "[0, -568404356, -9994130260, -123277163452, -1152896221976, -8577226617864, -52443400537224, -269751795997016, -1187811454654092, -4538155036266756, -15204089031278324, -45048171862586524, -118855628034012256, -280823350041866912, -596932761730707360, -1145896617371752416, -1992698406763604696, -3147056518548699080, -4522721110565789672, -5923679784160058552, -7078809348700392272, -7723503441532927472, -7696588539449530352, -7004793367971050192, -5820057411138979640, -4411127785773858536, -3046091129451237576, -1913368458187027800, -1090937624784217952, -563111843215301536, -262276394726966944, -109786712383711904, -41099505239728476, -13677713698072692, -4016722469022596, -1031381684480844, -228882756942744, -43246012437896, -6819909288712, -873323010520, -87234623996, -6375960276]\n",
      "[0, -10266940404, -168335540268, -1947119603828, -17122167012804, -119918157896572, -690426468034156, -3343072947223408, -13847558078956728, -49716907201315844, -156325447946015292, -434051390550138396, -1071373939768834268, -2363688136292050428, -4681789808376832060, -8355422973946836676, -13474615694273211604, -19681040545967648428, -26080846827928704028, -31396646700618869068, -34362239527648530988, -34203992397618647548, -30963187170537014428, -25478819702815017028, -19040483684846685460, -12904449697011695116, -7916653255889620284, -4385477790987543068, -2186844094083588828, -977843090778581244, -390214351270076732, -138156148770726576, -43083670994464408, -11726958268582228, -2754152085599404, -549860994889332, -91490657735876, -12344030313468, -1297411816428, -99652145600]\n",
      "[0, -144933864008, -2219452755960, -24067639282568, -198752677180328, -1307936982621176, -7074345562342472, -32157897813899336, -124921315277986992, -420060658187195504, -1235087015054788400, -3201005628352895088, -7360161064080295280, -15092707757823958448, -27717419908054766576, -45740853701834603024, -68009278302076565504, -91288576433996481824, -110783209692597639104, -121657050058373066144, -120944504704293101024, -108839904181470461504, -88613010875198193824, -65199934465338363104, -43284684518857774640, -25870044796072194800, -13879784704502067888, -6660397764086896880, -2845493698930961648, -1076152270136747568, -357728016292344176, -103587226534213472, -25833563206061336, -5467220532585992, -962702716969784, -137245422955080, -15219603583208, -1231633778360]\n",
      "[0, -1644151780726, -23522695420198, -238883316847240, -1849144943351680, -11406318723400666, -57793530895380202, -245845059777123586, -892467280636499490, -2799807976145325210, -7665536674921067098, -18459651170547777346, -39343689642878239138, -74585851685449127530, -126264183555692418730, -191462068845468424510, -260660366132067826990, -319137338600039104210, -351758859697365385330, -349204494824810590030, -312204062517390374110, -251205898746637740490, -181678750420545117610, -117878482048615298530, -68436337246925906050, -35430362272908916378, -16285580409453709146, -6609559448103948258, -2352142174107236290, -727537774622466730, -193402037127500266, -43542709523199952, -8141585099955736, -1230339223875190, -144385891705510, -12345580618488]\n",
      "[0, -15281029032516, -204104147865956, -1937720356659516, -14025479293661264, -80855627792054544, -382483825596803216, -1516857658346858256, -5124657746178558016, -14931547436590676320, -37880862951232993120, -84310369589090384896, -165604199421516468496, -288417512300870978896, -446997441278489008336, -618164572172157517936, -764288238427944297496, -845842041171260000296, -838359839579109915496, -744086294129139068536, -590907980657896494736, -419245275373059602896, -265147062628616508496, -149013230673705410896, -74114465158617407680, -32451091361040283360, -12424467714699227616, -4123932647104240256, -1173596235978353616, -282229695889176464, -56249074217251344, -9042652194763616, -1126822568398956, -102125115670916]\n",
      "[0, -117957634376972, -1468545718590340, -13001705149155684, -87728092068458660, -470985913700341572, -2071809128008236292, -7626400688903689940, -23863508727250995764, -64237982652011891684, -150146603675098802564, -306930416747348937764, -551827426693271680484, -876351222106952789444, -1233281738851773871364, -1541488028074314649004, -1713657167199092243804, -1695419954397229520564, -1492535509500893655044, -1168011714087212546084, -811081197342391464164, -498424679158630596164, -270038663619553406084, -128346931372310533844, -53170456713673232180, -19039202549000810852, -5829110151908523012, -1504243695272920420, -320939879758821284, -55109389037693380, -7319737524441732, -705688954161152]\n",
      "[0, -763505138635928, -8838856321034376, -72746759827838616, -455873922387083720, -2269628723490895832, -9240481198460420168, -31409095926189329816, -90511164046227655016, -223708896913598430776, -478484231345901735656, -891713669453158583096, -1455507590195427592616, -2088843709298173441016, -2642826826612227782696, -2952731277036827453336, -2915255577097105896056, -2542891626772970296616, -1957350025299150433016, -1326643779876385044776, -789148595933920636856, -410107515666409771496, -185061188051276885816, -71930534785496143016, -23828199187810872920, -6633475985262398792, -1522592141931228888, -280549010388386376, -39889767324334616, -4107449400529800]\n",
      "[0, -4170584030567916, -44752606550849340, -341071998239594856, -1976158551476438472, -9077997735827567508, -34018233901867085988, -106121689870932772608, -279744541005427406688, -630169051148717288988, -1223408294166959261868, -2060003234013682688328, -3022536923350189670568, -3876924891217703904228, -4355868132782994304308, -4290327856905370141368, -3703435925659287002328, -2797643819848538131068, -1844579313817363845228, -1057224127158370440048, -523776013010943493008, -222591256055383631988, -80316694993822707108, -24269680281625505688, -6027273897022555320, -1198038705951273420, -183252276484049916, -20246438576385840]\n",
      "[0, -19299526117013352, -191184400901725896, -1342847221929396120, -7155015459690317520, -30146298773173791600, -103289872013327178480, -293564716304596035600, -702207731329801916520, -1428893857985241667320, -2493152194377281125080, -3751495437904789277640, -4887415703006827243680, -5526006691760547777120, -5427796783383305677920, -4629614693516566733280, -3422925523848574901640, -2186486941258147707480, -1200624233483029574520, -562709627467338970920, -222909832530101816400, -73644466233819114480, -19920781997053618800, -4297885772244975120, -711271185757267800, -84764995539389256]\n",
      "[0, -75777095114290792, -689543448549363992, -4437950334964742792, -21605529851738083432, -82892671051256071032, -257616206246015885592, -661190479928826641392, -1421084641661965834592, -2583639979387093100072, -4002088730004264684472, -5307694535509626024792, -6044530291763918947992, -5917861696265426284792, -4978356187213545100472, -3590415794634163529072, -2210712732051824994592, -1154708036422488616392, -506972445316497725592, -184713135338369489032, -54853028394468995432, -12938731212367532792, -2332206420028163992, -301643253692625792]\n",
      "[0, -252293755665465360, -2096012788101596400, -12275166660786328720, -54175574656976407440, -187621557463700527280, -523764190441028908880, -1200778512251526605840, -2290769162284787072320, -3670231002275091187200, -4969119358570075476160, -5705955114824368399360, -5564951518357558704000, -4606538681941136259520, -3227076841950832144640, -1903009272001060410080, -936841107940754676080, -380390785630239218640, -125195816613069609520, -32566664362527243600, -6444190867046078160, -911108616111598960]\n",
      "[0, -710266109187060070, -5347104788293857030, -28252292016703559680, -111955865353043845960, -346230426877582018570, -857713455757179643690, -1732577229721024765030, -2888574165942916470230, -4006635681766068033250, -4645226670519788566690, -4509612829702360901270, -3662385162767982421030, -2478752119516624074730, -1388326710722939152810, -636409550686981750120, -234855258966436673440, -68080799206229013030, -14929903510585695430, -2327363393573807800]\n",
      "[0, -1681813385264132420, -11367540572869540100, -53617145292306714620, -188496188764550461760, -513516957428109925280, -1111573473861593059040, -1943676972394773018080, -2774726046678919503640, -3253669288244209903720, -3141035076307999018280, -2493140516838392290040, -1618770591809549310080, -851648369393414092640, -357561894747202545440, -117016785035801246000, -28771363247554313420, -4996827228061232100]\n",
      "[0, -3321935521894339740, -19926745178943638420, -82788043051450220100, -254284392369867280100, -599606252673528847860, -1111286662711378507220, -1642670660199384048060, -1952575110623983718700, -1871961222844486789700, -1444800208376982495060, -891430605130932337220, -433868609266730965860, -162959568451835794100, -45581633307067022100, -8933942299921329920]\n",
      "[0, -5407943883071640440, -28365791349990628840, -102022362692982936440, -268315630938996870920, -534865551362326068120, -825429487155483757640, -997598626280261352440, -948071485261792295640, -706564348711158021320, -408796465133495741720, -180067270578815642440, -58383063613772438840, -13126671036615534440]\n",
      "[0, -7131976427922213700, -32078418492788390100, -97586129588017547400, -213761896866667025800, -348466773925921627900, -430020576669237330700, -404054103267736999000, -287878335989087520600, -153173458929832918500, -59029850900941297300, -15554299055469997200]\n",
      "[0, -7431564789481655160, -27906173984593338200, -69491928143036289800, -121789752109897648400, -154411273207223929520, -142890350612020422320, -95867676270689757200, -45490006069695649800, -14465097623522579800]\n",
      "[0, -5893521974001614680, -17770814768035661800, -34474156889381549080, -45347997255156976120, -41071901266125862600, -25311094055743448680, -10134929073337244800]\n",
      "[0, -3349571083412318960, -7621906179370222480, -10587499006399884400, -9280756737471642800, -5008421641513739280]\n",
      "[0, -1223589437864630460, -1868283530697165660, -1546675005679334960]\n",
      "[0, -222969625381057256]\n",
      "n = 54\n",
      "[0, 0, 0, 0, 0, 0, 0, 0, 0, 0, 0, 0, 0, 0, 0, 0, 0, 0, 0, 0, 0, 0, 0, 0, 0, 0, 0, 0, 0, 0, 0, 0, 0, 0, 0, 0, 0, 0, 0, 0, 0, 0, 0, 0, 0, 0, 0, 0, 0, 0, 0, 0, 0]\n",
      "[0, -104, -2652, -44200, -541450, -5197920, -40717040, -267569120, -1505076300, -7358150800, -31640048440, -120807457680, -412758813740, -1270027119200, -3537932689200, -8962762812640, -20726389004230, -43891176714840, -85343954723300, -152720761083800, -251989255788270, -383983627867840, -541067839268320, -705740659915200, -852769964064200, -955102359751904, -991837065896208, -955102359751904, -852769964064200, -705740659915200, -541067839268320, -383983627867840, -251989255788270, -152720761083800, -85343954723300, -43891176714840, -20726389004230, -8962762812640, -3537932689200, -1270027119200, -412758813740, -120807457680, -31640048440, -7358150800, -1505076300, -267569120, -40717040, -5197920, -541450, -44200, -2652]\n",
      "[0, -12848, -293998, -4537398, -52139918, -472483478, -3505034398, -21849712498, -116681626598, -541674765938, -2211341336958, -8012376972598, -25960848465998, -75686679181398, -199573555660638, -478019931016108, -1043822215461898, -2084361971126748, -3815945894591598, -6418694648193518, -9937531038869278, -14181608411591598, -18676048081767998, -22716094020117398, -25534942500425902, -26536503459125014, -25498207794281598, -22650496330573998, -18594616467162398, -14098367205550318, -9863688033510078, -6360543281473148, -3774828766607498, -2058102292750348, -1028629115829838, -470048242937558, -195781617547598, -74053787170998, -25325834906398, -7790122226738, -2141644726758, -522203966898, -111870527998, -20807736598, -3309503118, -441162678, -47941598, -4079248, -254898]\n",
      "[0, -729108, -15259380, -219572516, -2372941812, -20311349844, -142644055284, -842721543372, -4266559291956, -18776215098580, -72632866193268, -249202464858468, -763910121323380, -2104847199819156, -5239159537881972, -11829894003561384, -24316290684769044, -45633190187149812, -78376841782363316, -123449296731170580, -178603171089289908, -237654762457347188, -291126206434437300, -328538586323422596, -341690449009538100, -327546749257526388, -289362940539510708, -235482166979669780, -176405603249800116, -121526424871617012, -76888166794321844, -44601972617308584, -23673453758114772, -11468298232318356, -5055491844552180, -2020666173709668, -729162179342068, -236324389869780, -68365575072756, -17518888250572, -3939449868084, -768245737044, -127973034612, -17847655716, -2027160180, -180108308, -11740788]\n",
      "[0, -25642596, -496146926, -6682764896, -68007273482, -549798910292, -3652203005126, -20420776047116, -97848993824026, -407390240721480, -1489937207359630, -4828685360462876, -13966505266089266, -36265137781687976, -84945563817730742, -180215649031481882, -347455604897200046, -610471122208705026, -979665132530182246, -1438581973101695130, -1935813549421457150, -2389662014828659106, -2708200413414184406, -2818942115058086306, -2695309111365828350, -2366854326589259930, -1907937486017747046, -1410705909697985026, -955634043389052846, -592207494461446682, -335083469971637942, -172703995683819176, -80848298355369266, -34256674319746076, -13082781342834830, -4480551693726280, -1367619973100826, -369258957167116, -87373366473926, -17906625483092, -3130976668682, -457817792096, -54459666926, -5062237796, -344897730]\n",
      "[0, -632589940, -11386280316, -143866252600, -1379025677484, -10522307306812, -66027604946604, -348796894428712, -1578513175965884, -6203100826717524, -21393127061595772, -65305826197728144, -177686703752167372, -433364753059754124, -951882835874342860, -1890272216421886356, -3404538785399872300, -5575881973745276956, -8321420926076217260, -11334986129984444228, -14109672685797335948, -16063979197603963628, -16735588192519895948, -15956597421816149828, -13920680760410783660, -11106015143458428956, -8095276741852992300, -5384063246055934356, -3261666905465741260, -1795818029132099724, -896167923555943372, -403983842266848144, -163837116173019772, -59480852598263124, -19214435637380284, -5481913619164712, -1368604217426604, -295530523370812, -54372740851884, -8355231014200, -1043237672316, -101670669940, -7254521916]\n",
      "[0, -11710788400, -196780596428, -2334309379188, -21065893586524, -151519503197940, -896571570740684, -4465144413787168, -19038898432697748, -70425377596699184, -228355501530080620, -654492987361030604, -1669321314589252908, -3809846962261110988, -7815648522197551980, -14464787605368456212, -24224066942117068540, -36796713326346273268, -50793562810920771628, -63804477073030266268, -73004933894188602508, -76128773851248147868, -72361082172802064428, -62677736560603824628, -49441474196009041660, -35479293650278433812, -23126217212060535660, -13664925659184410828, -7300794855688281388, -3515644867112956364, -1519847669473658220, -587022244774130224, -201367204495320468, -60900096290313248, -16090597075959244, -3671370971588340, -712685831235164, -115387568417908, -15159711939788, -1552608867120, -116280272692]\n",
      "[0, -169650530248, -2665836367848, -29686291806968, -251941989226984, -1705228475248328, -9494022536028008, -44463084794347808, -178114102853460648, -618230062575875624, -1878304079164718248, -5035808590943436648, -11992296348611655848, -25501731680829923368, -48633967195864827560, -83467828220051532248, -129272734921743874088, -181064884850003914088, -229716885903487253288, -264274960213703464328, -275861345933558856488, -261316119684911050088, -224571076288196098088, -174954235931845667288, -123406511960311957160, -78673319068881215528, -45224538466143713448, -23370838724754227048, -10816631269397478568, -4462671864826525224, -1631793659329487528, -525018310075679008, -147300300374056808, -35626773789224648, -7318930596305384, -1252084321139448, -173560297705448, -18728325064648, -1475830929768]\n",
      "[0, -1977825897164, -29076100949870, -303675983077948, -2419586871635362, -15376122131228560, -80337300626334310, -352748653821438862, -1323176793563206998, -4293991329754334910, -12175919638157011334, -30406405581839330654, -67297151090701402390, -132678996805052782318, -233962616925318737638, -370190358762498940978, -526885071714257432878, -675796444798478611738, -782108798642057503318, -817284684611938579738, -771273849573870104878, -657081532771609468978, -504915392378367569638, -349441217167491847918, -217363303649313063190, -121187164537048853854, -60345301940921248134, -26717669298282514110, -10458749299259872598, -3594403413907352462, -1074935920198148710, -276583840402614160, -60334420334521762, -10941094374220348, -1604989936674670, -182994955676364, -15214091045634]\n",
      "[0, -18921322374708, -260090445328428, -2543646010490208, -18984247271698332, -112961829157085532, -552128928509214108, -2264993544017694828, -7925067053392287708, -23945100331770454460, -63081849825504754140, -146010285321780786348, -298736979504537480348, -542888483598141475548, -879606527373960602268, -1274328064019063726868, -1654302365341553652348, -1927149743605898936748, -2016185747941364724348, -1894699577047311278868, -1598673508383974810268, -1209849161636415523548, -819800009221939080348, -496164641291874661548, -267338557474726181340, -127694539137724195260, -53778613668523628508, -19833402208818974828, -6349703787893636508, -1745123666403139932, -405772599327403932, -78278428231187808, -12193091845648428, -1473611016889908, -129648084203820]\n",
      "[0, -150610205279040, -1933049769665092, -17662725711224100, -123132055846742020, -683772332709131172, -3114947323941377860, -11889931002669156372, -38632638182452885220, -108148256117782982036, -263299210874823080516, -561613860883799115236, -1055574915246889904516, -1756111197221748353636, -2594846538609942866756, -3413921751344425839596, -4005965956390350001556, -4196372308316990319596, -3925012485463302482756, -3276300850768445057636, -2437565509380250544516, -1613128443376573515236, -946783689495126440516, -490899564145152863636, -223699204701181179620, -89001000385472612372, -30654614960656897860, -9040636994884875172, -2250333969855113220, -463688933487172900, -76985536655041092, -9897686424159040, -924603109007292]\n",
      "[0, -1007275164215320, -12045139322744216, -102529776782014296, -665338594231394200, -3434662957920275224, -14519861855398142360, -51323139301533904376, -154046459600682588056, -397268740304045883416, -888272496133645242776, -1734135646457292819416, -2971938925966973148056, -4489402581774461503256, -5995358959810986288536, -7092158980316026929416, -7439539130680348157336, -6921706027449176229656, -5708280302351027215256, -4166439092132007545816, -2684860268507014074776, -1522088910833459413016, -755512800786549544856, -326279180986501656056, -121594089626948084120, -38685437532916140824, -10359301602355257240, -2290508888333481816, -407096923352870296, -55902808428947480, -5565957616114584]\n",
      "[0, -5698260516610376, -63301662257343276, -500168134076375856, -3008770827039925220, -14371943410560879416, -56092347499169271836, -182568927598667972336, -503088712812239205236, -1187147235320098811096, -2419771383640490825036, -4288617946959271461536, -6641645239346644472036, -9019684800383425595336, -10766792959030738129916, -11311276476473652692936, -10460964699497022968036, -8509971034493900325536, -6078277392837169173836, -3800365813317726203096, -2071019859610815640436, -977896320902293700336, -396946944629294583836, -137079598377405991736, -39716188979514958820, -9473092571348050736, -1811273955232344876, -266889522685288776, -28443938716146356]\n",
      "[0, -27381280621759688, -281532671604115800, -2055861710495599056, -11407664085485739576, -50143447176085665816, -179584414354617641016, -534632196705953165376, -1342616792308534184856, -2875516837004061933096, -5295472833114083473176, -8436215756590913216976, -11676675250858132978296, -14081572619334739753656, -14818373516465702386296, -13610777605826909888976, -10901248169786413201176, -7596169752096550125096, -4588065671434619816856, -2389174413349430669376, -1064706835934459177016, -401993353891053729816, -126858414726334635576, -32842728548055304656, -6794139118010976600, -1079923736606706888, -123805322288739288]\n",
      "[0, -111981698321702816, -1060814355879014616, -7121576866487467016, -36235499065661687736, -145607269389669510536, -475051725002203795416, -1283203286980602404816, -2910751516224053233416, -5602532687557595561456, -9219737564102279653656, -13041353934856205641016, -15911220466371831446616, -16774724818124617033016, -15286465249413448165656, -12026126707298832809456, -8144791087865061361416, -4726650373586528804816, -2334513151769404051416, -972034570175091846536, -336754517533087991736, -95317375764536491016, -21476508545242214616, -3705143875649626016, -459522149491554600]\n",
      "[0, -389758564499555600, -3382833694773745360, -20745316767219687600, -96102055132657994960, -350237892808537194000, -1031792177111973994960, -2504109436265580164000, -5074850808321603322960, -8671546608190790677200, -12577270365636761479760, -15551321606764019821200, -16429160959485122439760, -14834571558348168213200, -11430470288171398906960, -7488909028304635524000, -4147291922136383594960, -1924385132399817834000, -738878844632430922960, -230631615379390439600, -57046944135385585360, -10759634978144355600, -1453233349058705360]\n",
      "[0, -1152060737508476060, -9099037774850281710, -50579282073612882580, -211478394256919609810, -692244649628584761160, -1821548264891776306150, -3923855549238115436650, -7007687525903357616830, -10465860299284319805250, -13142949441801303026550, -13917154271372451225410, -12431149482041849848510, -9347317505376607668330, -5889144731995645479910, -3084948453807331333960, -1328073502873668010450, -461956427353467556500, -126635364997665902830, -26338416570968966300, -3904566595712299650]\n",
      "[0, -2879307038259742900, -20521794797602828300, -102422576994191514800, -382391204955159659900, -1110739139347947573980, -2575192725440151256700, -4847889758827565552900, -7495493265613969471900, -9586171453463570322700, -10177748906965071608220, -8974436899367722685700, -6554363182389588491900, -3940371464289769607900, -1929846382657718584700, -757815358138804706480, -232917603501875621900, -53982058004701317300, -8866933085845788300]\n",
      "[0, -6042264387022934560, -38462022695979994900, -170314590223758542020, -560154001543923379060, -1421759748283014577540, -2853444139359545966740, -4599694732127836604860, -6012373463739606987620, -6402891801943703587260, -5558239744083346440340, -3918494152643445783940, -2224643604450877516660, -1002559391677235610820, -350553823241033895700, -91714523360174985760, -16885533753035489260]\n",
      "[0, -10538003255140489720, -59130051134359624120, -228808922586621072920, -651430475248992229560, -1415784196375481687160, -2402194867034525076920, -3224454785205727730920, -3446151065348974382520, -2934265939378317040760, -1980102000376473163960, -1046452938049686263320, -424149700894656584120, -127344291178435516920, -26661369083740246200]\n",
      "[0, -15052753645932500600, -73201040767029264100, -242632452324637509600, -584100723213845672300, -1057202086375745444600, -1466811815587932162100, -1574332091732748196600, -1308082730713649525100, -834981367551749752800, -402283771448758288100, -141623034677366740600, -34351264748848199100]\n",
      "[0, -17246837163632986520, -71053793340501521160, -196284971231005618000, -386557275922735135400, -559609434480146502920, -603751878172676291240, -485877774230927159120, -288248395590442677000, -122553310981786274200, -35305109583304263560]\n",
      "[0, -15373416050533867040, -51966728164186262440, -114972733667596930840, -176198921180901565960, -191348857535708106520, -147436882999325232040, -79020185940626513440, -27998363012872650840]\n",
      "[0, -10170719296133958640, -26874354515163994800, -44694286653783704080, -48966621749741607600, -35419024707079801840, -16274055147502392240]\n",
      "[0, -4612702064496031480, -8769244022779604780, -9735546640629970680, -6352046776626690100]\n",
      "[0, -1223515819644805960, -1392760937289818616]\n",
      "n = 55\n",
      "[0, 0, 0, 0, 0, 0, 0, 0, 0, 0, 0, 0, 0, 0, 0, 0, 0, 0, 0, 0, 0, 0, 0, 0, 0, 0, 0, 0, 0, 0, 0, 0, 0, 0, 0, 0, 0, 0, 0, 0, 0, 0, 0, 0, 0, 0, 0, 0, 0, 0, 0, 0, 0, 0]\n",
      "[0, -106, -2756, -46852, -585650, -5739370, -45914960, -308286160, -1772645420, -8863227100, -38998199240, -152447506120, -533566271420, -1682785932940, -4807959808400, -12500695501840, -29689151816870, -64617565719070, -129235131438140, -238064715807100, -404710016872070, -635972883656110, -925051467136160, -1246808499183520, -1558510623979400, -1807872323816104, -1946939425648112, -1946939425648112, -1807872323816104, -1558510623979400, -1246808499183520, -925051467136160, -635972883656110, -404710016872070, -238064715807100, -129235131438140, -64617565719070, -29689151816870, -12500695501840, -4807959808400, -1682785932940, -533566271420, -152447506120, -38998199240, -8863227100, -1772645420, -308286160, -45914960, -5739370, -585650, -46852, -2756]\n",
      "[0, -13360, -311948, -4914698, -57676918, -534019638, -4049555718, -25817847298, -141078391298, -670525641938, -2804126950378, -10414222377438, -34608238998198, -103552568326198, -280431059541638, -690348187602428, -1550540223560788, -3187268462935548, -6011911498818048, -10428478431853018, -16666366309571438, -24576966083687918, -33481965538669198, -42179314376406198, -49169404174150902, -53063283025447126, -53026548319302822, -49067071778463198, -42032285072257198, -33317292718022318, -24419881872287438, -16534371937491868, -10329209937148548, -5944534692457548, -3145815684927088, -1527375435850178, -678584561410838, -275006229418198, -101284662756198, -33750970692738, -10122271021378, -2714959541138, -646243744298, -135225316798, -24580340118, -3822703638, -498500518, -53020448, -4417448, -270400]\n",
      "[0, -774188, -16546896, -243270288, -2687434976, -23525863328, -169060339856, -1022560551728, -5303301621256, -23922081402088, -94911367841936, -334208383492048, -1052175632069536, -2979648191543648, -7628511595996496, -17731585226880128, -37551602675035556, -72673397309903028, -128845793205177456, -209706142800724208, -313859008762033296, -432545299643996688, -549490699696902896, -643955076979514288, -696522441472013312, -695511156620511296, -641145952392008688, -545477664571894896, -428089446850022288, -309657776127714576, -206227702877686128, -126276490989297056, -70966518215437028, -36527475218355956, -17175630321825488, -7355410940881936, -2858387282902048, -1003615771629536, -316726833733648, -89278424030896, -22306577752328, -4893842170856, -931665747728, -151589650256, -20661299808, -2294635296, -199444688, -12724896]\n",
      "[0, -27829864, -550393724, -7581637152, -78946978404, -653424256944, -4446370679220, -25482503337420, -125232697373352, -535118314887340, -2009955107258360, -6694902322493764, -19917534639487104, -53238349426294452, -128481154442085744, -281095478505661014, -559432613599085190, -1015670784496135710, -1686117300025366502, -2564388637148195470, -3578542919012809910, -4587423940425302574, -5406869285967495894, -5862453111569154102, -5849040688245279150, -5369727190609072950, -4534691335904084814, -3520537054039470374, -2510383176655775902, -1642112850735246854, -983796593954612094, -538745038007230920, -269017277806578420, -122128605977516352, -50229247522024740, -18635880124705560, -6205433794521964, -1843020577718504, -484546505843452, -111717817370244, -22324423588464, -3808374770340, -543629612160, -63165684252, -5738238120, -382278860]\n",
      "[0, -702441940, -12936273280, -167332574680, -1643016998740, -12849660984508, -82697357020120, -448344382879840, -2083831963506740, -8416220945448620, -29854680955380832, -93815651092205320, -262990390731795340, -661453817155371940, -1499736988372925320, -3077471719035796408, -5733887687821557040, -9726185832126958080, -15052861158692458680, -21292734367711699240, -27565083830995318912, -32690607540113549200, -35538006450123913000, -35423904822623923000, -32375687048213576800, -27120965188572280912, -20809138512628835640, -14608742516269420680, -9370550597389736080, -5481709975916981440, -2917905176763670408, -1409315947752053920, -615517994380062940, -242084613803094340, -85311124151141920, -26773330614415832, -7426857646782020, -1804187366417740, -379360437178840, -68010452451520, -10190169765508, -1241379549340, -118106111680, -8231646280]\n",
      "[0, -13319822496, -229245276408, -2787185682492, -25796346052548, -190418537401380, -1157158572392916, -5922851244580272, -25975376279457984, -98907716470923648, -330423176572120920, -976611881113234836, -2571224680970579292, -6063780806566728924, -12868271067672000540, -24666277196498964804, -42838045077617539716, -67573920982675108548, -97008428056419775092, -126934100039103563676, -151551617151635946156, -165219131919685692396, -164519765651240365836, -149628359913411298116, -124241539905589056420, -94108747912634921124, -64950400852584050196, -40776707832545993868, -23238203431104570972, -11989456442813912028, -5581850205838099740, -2335574791643712816, -874008340784312112, -290761303839932304, -85358629512722568, -21910650191997660, -4860895780288836, -918170409830052, -144755786738004, -18531817537920, -1850643678864, -135229476816]\n",
      "[0, -197890311192, -3188769815136, -36440282728416, -317596402207248, -2209182933505296, -12650678402556384, -60986818035753696, -251701689109609656, -900928815687986808, -2825431438816882176, -7827445879175875584, -19282755095241865536, -42468788059831300416, -83990155721615961600, -149690093171881095936, -241106868391219039152, -351772148924180464176, -465693028174707638976, -560098632680365957056, -612490772624556650976, -609201933239229974496, -551090072624905930176, -453181139208790934976, -338459499064445091120, -229257147087498542256, -140571171839388367872, -77831923133439054336, -38793450308266833216, -17338909795525547328, -6916383660902762496, -2447820124664210304, -763070716870344696, -207629406878905656, -48747315656255328, -9729315694692576, -1618376123061264, -218292710808336, -22937449787616, -1761327475680]\n",
      "[0, -2369208210504, -35763638560668, -383847752735244, -3145449317324280, -20575244193572580, -110752699871039712, -501470035883018610, -1941636196534211442, -6510830234280366402, -19097967972403507218, -49394555014282953714, -113369172919552178658, -232103713177385353554, -425649256206024115842, -701539702453976938206, -1041885800591339493366, -1397074445449965246606, -1693826741804238113766, -1858487753057408866086, -1846149930685885480206, -1660178135336447061366, -1350746653936339884606, -993241619502032863266, -659010789844468855890, -393661698004000942818, -211101781024541856114, -101252673600604007058, -43238816279828825154, -16345990655824014450, -5431531829985183330, -1572233468873657712, -391963298434237860, -82925105413467192, -14597464643427372, -2080442615861628, -230642778244104, -18659414933268]\n",
      "[0, -23311337286692, -329507335650272, -3316789943758616, -25501650923198684, -156469628624584964, -789394731051040088, -3346061223435959288, -12110726058010021416, -37896952538870897160, -103530762317272117880, -248842247657333102552, -529480560169438133672, -1002279687521785756616, -1694493399571512055256, -2566425242458875157256, -3490256288626014595376, -4269132444646457475776, -4701367599186030700616, -4663465993804856205656, -4166256658611840989456, -3349971125851537568576, -2421260595761807625176, -1570066559545454170616, -911033338169343307880, -471414701490611120840, -216583437280206984312, -87862197276953717592, -31254497988309952616, -9663505960434936584, -2567912897478904664, -577941381606188288, -108027588569946188, -16319826337678916, -1914639391290080, -163661571379800]\n",
      "[0, -191162695186528, -2527129057075688, -23808057659207068, -171302387271861092, -982866736166488420, -4631444771876446628, -18308435914019792788, -61686750639792699668, -179317590963792134100, -454009529933317409844, -1008703085527931829828, -1978251661971146088228, -3440606541866340859428, -5325801375294919019748, -7357061016995457108588, -9087067916333284458828, -10047590481976780514028, -9950471944232896457628, -8824847864424797506548, -7003272058071308045988, -4965579889844876337828, -3138557470215683952228, -1762901860886881441428, -876360844134329192340, -383531413214830798164, -146775843244392143028, -48697397558519593988, -13852922788138455268, -3330152049396817892, -663475114239510820, -106625583831648128, -13282651936613488, -1203447201495968]\n",
      "[0, -1319639251493992, -16283791114818656, -143197977914117984, -961121846346581920, -5138070162603220128, -22522852259571192672, -82665292981924777696, -258023875185779669824, -693092254719999589312, -1616999607099430414432, -3300112699227665188192, -5924728870400442168352, -9396977450749707319072, -13209148793990806694752, -16493180755036424007712, -18318173629759066512592, -18107813878772636576272, -15928530897125480494432, -12456282316776215343712, -8644110973535115968032, -5308747207224867426592, -2874579472975939641952, -1365548155223410773472, -565432286844481925440, -202377222522092483008, -61934187087609943392, -15976187240313876576, -3407342628776573344, -584876730297310880, -77658506086180448, -7484510174956672]\n",
      "[0, -7722267287291024, -88708171730512152, -725755115649815472, -4526571125021411960, -22449922011950222192, -91112332999806939704, -308872559396218430912, -888050831115037257512, -2190615430965865197632, -4677427883134394788712, -8703843571589919432992, -14187982066607191279112, -20337376829405426297312, -25703562165298469513672, -28689914142117339067112, -28300982100922411773152, -24666410055445330063112, -18972703000651295441312, -12850601714428143040232, -7639397985161697365312, -3967797492182246743592, -1789519992601607606912, -695216485747605723512, -230196146486306365040, -64056191003638084472, -14696992434100667184, -2707006020015904152, -384757157440387472, -39604465748354520]\n",
      "[0, -38479105377383368, -410097583416150656, -3108913707824143728, -17936638675372492584, -82111278022809995832, -306810530791849326192, -954777628753171177632, -2511605310139046695992, -5647550351709326594952, -10946780928510419326752, -18406706730864339851472, -26973706576759461509352, -34560033210714823062072, -38790698511208221596112, -38172526489830222334752, -32923695507067177958472, -24852528072031032671352, -16374841005282371175072, -9379341654490043490672, -4644057483156599207832, -1972538893147912149192, -711386437135100395632, -214862747291689252992, -53337030480406961160, -10597458128119896696, -1620367388716474368, -178956850635456656]\n",
      "[0, -163654658302133824, -1611430730114979184, -11264714731635816472, -59791547325718673512, -251127387699132617512, -858167077770315295432, -2433574940207239096432, -5809913244601583139472, -11802575686097558550352, -20563062619466281689952, -30901494238041146074792, -40211671416331485127192, -45418644093861821784472, -44569797516558279800152, -37983449150909687418352, -28061603115444737230192, -17912497571709633434992, -9829598695662158721472, -4604205083779949910712, -1822891586024853435112, -601936299791691941032, -162746336744187170632, -35096841911836857472, -5805885113830362400, -691627937371203040]\n",
      "[0, -594346238128515888, -5379262938830858688, -34473320920909821888, -167246073761998858848, -639820591231859818848, -1983649738597865777088, -5080692403900987380288, -10900430977465128395088, -19787109790232960201808, -30608707479010499524608, -40545205009866510501888, -46124104307220442634688, -45113845652130723069888, -37918532506633239633408, -27325366849968910939008, -16812789455689403483088, -8775916452791159310288, -3850710310668689489088, -1402203658160779501248, -416187483371442020448, -98123113150596993888, -17678739698190698688, -2285524292540493888]\n",
      "[0, -1840364091952633800, -15215609999777158620, -88764355066925528100, -390516773523952331520, -1348887600176477258700, -3757193857350805041720, -8597355537840374373750, -16374525651002595812670, -26197292173194592366950, -35423556554996444887470, -40630529232526781544750, -39586650486844029485670, -32739296923240796735550, -22916530401048800181270, -13503859100375027650200, -6643372423547659910220, -2695770931068342864000, -886736948063060712420, -230541547792385065500, -45596437012375630920, -6443519699922099300]\n",
      "[0, -4841443001140903620, -36288928107208248480, -191063325932265665880, -754941599376350314860, -2329068305801987137620, -5757977518553223446040, -11610669914472309621480, -19327970247143865979680, -26773361199103235562000, -31004026499596634096040, -30067351394550185335320, -24395647470908404092480, -16497358665959542801680, -9232956186277478151960, -4229447264713688929920, -1559807981974247544540, -451899653626028656980, -99046540785406862880, -15431790140586919800]\n",
      "[0, -10756983175071723360, -72419546165019824520, -340481791289956533660, -1193821719899411044260, -3245080651366651167780, -7011127197064173557700, -12239607869064259821180, -17448157021639306175100, -20434508998458175728540, -19705487811111433704780, -15625604053272451115700, -10136662136333273214180, -5328770610879384272100, -2235666699655777596420, -731173658698593990720, -179668294081116381360, -31185316111471067520]\n",
      "[0, -20010147264230884680, -119597842025222275680, -495417964574882454240, -1517967620247468232320, -3572048089720463877120, -6608726774757692532960, -9754109695844136867360, -11579102570566779372240, -11088254739985996863120, -8549301384418579799520, -5270050873173740235360, -2562892410064869068160, -961902245743364970240, -268872811999136680800, -52664046946024660800]\n",
      "[0, -30778209739526118960, -160903557503294215560, -577145977503528708960, -1514456682021558416280, -3013220486426657921280, -4642615553739763064760, -5603138119383259119960, -5318474643971048453760, -3959423212750457465880, -2288622549013758043680, -1007238125832528501960, -326323614552909520560, -73314795837998625960]\n",
      "[0, -38461169454839701080, -172464746586490298880, -523342198403665799760, -1143989208997122658200, -1861611640423633016520, -2293846794963206241360, -2152537902922793516160, -1531890892329336657720, -814268460902826299400, -313519904161840844160, -82540906197136746480]\n",
      "[0, -38072007430098283200, -142561385517391236240, -354182456399387583240, -619531569669334266360, -784192580922505018680, -724669731719021775960, -485605158961496970240, -230176520558797494240, -73118061446660786400]\n",
      "[0, -28747396099988988240, -86456184078864924480, -167357526206563467840, -219749666150754161760, -198725055387844982880, -122304788857472370240, -48912236287955676480]\n",
      "[0, -15587290163686147920, -35382277877498786520, -49049792645548532760, -42922319699785640400, -23127331985973001800]\n",
      "[0, -5441062749916900392, -8288461659927264192, -6847537304423632752]\n",
      "[0, -948332548618637760]\n",
      "n = 56\n",
      "[0, 0, 0, 0, 0, 0, 0, 0, 0, 0, 0, 0, 0, 0, 0, 0, 0, 0, 0, 0, 0, 0, 0, 0, 0, 0, 0, 0, 0, 0, 0, 0, 0, 0, 0, 0, 0, 0, 0, 0, 0, 0, 0, 0, 0, 0, 0, 0, 0, 0, 0, 0, 0, 0, 0]\n",
      "[0, -108, -2862, -49608, -632502, -6325020, -51654330, -354201120, -2080931580, -10635872520, -47861426340, -191445705360, -686013777540, -2216352204360, -6490745741340, -17308655310240, -42189847318710, -94306717535940, -193852697157210, -367299847245240, -642774732679170, -1040682900528180, -1561024350792270, -2171859966319680, -2805319123162920, -3366382947795504, -3754811749464216, -3893878851296224, -3754811749464216, -3366382947795504, -2805319123162920, -2171859966319680, -1561024350792270, -1040682900528180, -642774732679170, -367299847245240, -193852697157210, -94306717535940, -42189847318710, -17308655310240, -6490745741340, -2216352204360, -686013777540, -191445705360, -47861426340, -10635872520, -2080931580, -354201120, -51654330, -6325020, -632502, -49608, -2862]\n",
      "[0, -13882, -330614, -5315048, -63674518, -602092398, -4665009438, -30402541258, -169906391198, -826320334838, -3537932689198, -13459964243178, -45847979003118, -140700861562798, -391059493246238, -988704772769348, -2282341189171678, -4825591039926018, -9369867871200198, -16745831452838668, -27598823253000998, -42011299648995038, -59141067300893758, -77072761234905798, -93054258478685502, -104142891919101838, -108073505476542366, -104003824817269830, -92804896778848798, -76761059110109918, -58819310268846398, -41722221065514988, -27367560386216958, -16579186151773698, -9261038286831238, -4760973474206948, -2247412775269478, -971516316454318, -383366757552798, -137575687687338, -44698759341598, -13078845477878, -3424483382318, -796185362698, -162815809518, -28938181998, -4402638238, -561916808, -58520798, -4776250, -286518]\n",
      "[0, -821088, -17914188, -268970588, -3035906508, -27166740508, -199659834988, -1235719854388, -6561372940988, -30318754290228, -123297221030828, -445293920234588, -1438791311098188, -4184616624050588, -11011058281486828, -26325140003209528, -57390527091621988, -114433113444756888, -209223296419798988, -351510949075821708, -543628730489472108, -775036835013464588, -1019743094765494188, -1239310137730114588, -1392033598092524812, -1445612247436525852, -1388139719241228588, -1232356782638514188, -1011111343617300588, -766213267173088908, -535801371921396908, -345346904203462488, -204864880853484388, -111649587536858488, -55780058530623628, -25480141066883228, -10609112841504588, -4011530070948188, -1371479873780588, -421734917173428, -115909380349628, -28254849591988, -6051396489388, -1125270408988, -178933519308, -23846735708, -2590884588, -220406688, -13769588]\n",
      "[0, -30154070, -609282150, -8579021390, -91360747430, -773741651510, -5390384350310, -31645867171130, -159408986121190, -698613864840950, -2693098147429670, -9212759875367470, -28169453679698150, -77446222473635990, -192398982798753830, -433691490462906860, -890097629517000710, -1668130741783216230, -2861570348974275590, -4502180547295476950, -6507055312512219270, -8650490136602687270, -10587842818230738950, -11939159302008834590, -12408155550934367750, -11886601661409138470, -10494407012720168070, -8535363876241448150, -6390605761802000390, -4400287190424035430, -2782685169460901510, -1613486320557806060, -856033574727134630, -414530459643607190, -182666395715934950, -72985453394010670, -26328153420786470, -8530348156604150, -2466973554229990, -631987868630330, -142075393611110, -27699379590710, -4612964088230, -643190016590, -73037710950, -6487805270, -422831270]\n",
      "[0, -778327192, -14658100852, -194003401792, -1950174495964, -15623421494584, -103060058197252, -573057516756232, -2733530546005052, -11338485036902960, -41337590721374260, -133609922590427752, -385557504274515532, -999104537889507952, -2336081301017880484, -4948265237357192764, -9526788473707727092, -16717116249802667052, -26796384189088311492, -39308037848289875260, -52844320069529209300, -65176958758498655212, -73806020927182835812, -76767521464693189612, -73350700242027231700, -64371391392454124860, -51859737733252561092, -38323455512013227052, -25947606312987752692, -16072045063966242364, -9089804767173374884, -4682953701247050352, -2191365917685075532, -928165624491074152, -354344382379204660, -121313844268032560, -37017346986478652, -9991688406996232, -2363531471854852, -484257738960184, -84650348166364, -12374649136192, -1471673140852, -136766397592, -9315980460]\n",
      "[0, -15108810660, -266191682700, -3315067484760, -31447416765180, -238074850091340, -1484786911623420, -7804994657295240, -35179811555990220, -137780722203865860, -473817663423673740, -1442852672829917520, -3917409605871178140, -9536441591060777820, -20912195104827512220, -41467020477733330500, -74587445816672136060, -122013162710951088300, -181896740110056369660, -247528260541176973620, -307846141594380364380, -350199035503092587580, -364565916539587660380, -347355064444741814580, -302840752531683003900, -241464039176755171500, -175907385676059528060, -116932906717828767300, -70803531008001717660, -38965432354223442780, -19436603953632739740, -8758297819922909520, -3550607828230432140, -1288580160469250820, -416115736722541260, -118680315911592840, -29620441741191420, -6394252317073740, -1176111664532220, -180680546335320, -22554181749900, -2197531338660, -156763418700]\n",
      "[0, -230061548640, -3799225149720, -44525215396200, -398244346361400, -2844877121107560, -16742708121520920, -83016936359607360, -352689889071781800, -1300622863826748000, -4206300313653059160, -12028618761655677720, -30619502868383065560, -69761520818403922200, -142892320995289344600, -264096644714447742120, -441738626326542846840, -670265036219291094120, -924293641769284848600, -1159991525163165756600, -1326147887841570255000, -1381828867171087625400, -1312508990283148119000, -1136123454435927018600, -895651956896598363000, -642357753522827338920, -418482557412823050840, -247152937363023319320, -131986026608165578200, -63529352597190341400, -27453159336637455960, -10599366473020506720, -3634599398198990760, -1098846070137076800, -290235167215455000, -66202203552134760, -12847403224036920, -2079483878093160, -273131989330200, -27966226965600, -2093963468520]\n",
      "[0, -2826636284670, -43782678297270, -482556129999570, -4063787847545910, -27339890710467390, -151485226856435670, -706651721334624120, -2821467818198158470, -9766013825957587110, -29600295412839657990, -79195470556633331670, -188255067291935595270, -399686631296566508070, -761153630414536911750, -1304665902303347224410, -2018319345856501445670, -2824016486394459971670, -3579454303572173069670, -4114398567554297952270, -4291397401178992090470, -4062178395275884355670, -3488636612653192901670, -2716170478428171022170, -1914787178208864054150, -1220048265283643587110, -700981088533858769670, -362078792621142669270, -167505914919287960070, -69080258774967609510, -25249666689542573190, -8120932339960876920, -2277639227786022870, -550700875554673470, -113097326356755510, -19342411439700690, -2680440081791670, -289160471958270, -22780434890070]\n",
      "[0, -28582579757160, -415140013502500, -4297507241290120, -34010032310005180, -214978513321343200, -1118386091685877300, -4893207900564420580, -18299890299275176020, -59236193356675520900, -167600796150151452660, -417744707687003528260, -923028004391494873300, -1817088715204293808420, -3199970941831141440820, -5057191037470207627420, -7190105307665756896420, -9213268317557069871820, -10653222795118031720020, -11123359555038779439820, -10489353808770527968420, -8930221886593199755420, -6857833410447300672820, -4743378690097221194020, -2948921063932752294100, -1643284953582332091460, -817887457237468649460, -361955845931805940100, -141630119126180161620, -48655547161724254180, -14545467455905371700, -3741282709985048800, -815860284058971580, -147902655521712520, -21689976795787300, -2472313831776360, -205489419166460]\n",
      "[0, -241266414445628, -3282371651621348, -31854527958295328, -236328054586149812, -1399546995202682612, -6814140267703739828, -27863572667792323748, -97227716233762227828, -293083865320900227860, -770555761103321447540, -1780401680546811904868, -3637049766415921638068, -6600428823500353681268, -10681069958304632388788, -15457038282370775335388, -20045865459563819658068, -23330824947374172410468, -24388466050761552522068, -22901496438709745959388, -19309873730424802884788, -14603956959959642257268, -9889806123024740838068, -5982253952187938407268, -3221636252893978573940, -1538077130992345117460, -647470275615338317428, -238684476645407683748, -76385038580316808628, -20985489042155335412, -4877788279254617012, -940671914606666528, -146478388455461348, -17697542748628028, -1556567740347620]\n",
      "[0, -1717455002673280, -21847730392028840, -198282177743659880, -1374975454812180520, -7602963198308648040, -34514319605542643880, -131357253925234135240, -425743156733267125480, -1189277827222383937480, -2890053283786018965160, -6154404826508132694760, -11550782379947070693160, -19191860872997001078760, -28325489207710960955560, -37227966491034471413560, -43643079880629095356360, -45678432506338167797560, -42691281433727244808360, -35609909131301325481960, -26476280796587365605160, -17510762317430096214760, -10271685652885295253160, -5322991953917978658760, -2424462075135532705000, -964156803259511460040, -331942730082070259880, -97857101549806683240, -24348756126102589480, -5015365221723906920, -832414588754089640, -106985878166577280, -9991068109290840]\n",
      "[0, -10384607739315420, -123220338203249820, -1042614774913304060, -6733789083053171100, -34628330979075780700, -145924478517601099420, -514418149162380587020, -1540504779860152348060, -3964968575708106301660, -8850244577576186197660, -17251850561338200774460, -29526408246722248386460, -44549203579082509588060, -59429243664336856520860, -70233183142131339839860, -73608467160145136687260, -68430001045706981447260, -56392305396674779228060, -41132648027962672633660, -26489469979060171093660, -15008657522724166410460, -7445810675139573378460, -3213986558432973058060, -1197198714820091436700, -380726844988126097500, -101910880435542008220, -22524591506509530620, -4001910581408124060, -549358934338503900, -54678583681689500]\n",
      "[0, -53590438397236400, -591282781795557000, -4647126554759156000, -27836149170368816600, -132502556383924323920, -515648508473079861800, -1674220328670074064800, -4603820597008143039800, -10843971705291606774800, -22068208979676832886600, -39057150193344356004800, -60411160700224748835800, -81949878224859749370800, -97725365987800395453800, -102574203309671793249200, -94785035841578155299800, -77049327981156015780800, -54994763062446938025800, -34362938907270253302800, -18715200918195330956600, -8832166868402705616800, -3583339882644207669800, -1236871451085530334800, -358202912542644119000, -85403446490204229920, -16323033418570571400, -2404311797915342000, -256149542267171000]\n",
      "[0, -236679630168955720, -2418845247002666200, -17579334925316946640, -97170824303225946040, -425774333898590367640, -1520840121072442419640, -4517443494005259519040, -11322677685228365929240, -24209307055809319516840, -44517446488704625254040, -70828225477788780729040, -97920367604425821646840, -117964810863870211933240, -124020630118704090574840, -113816893148364753081040, -91088503131828595302040, -63427038965808452188840, -38284868373352769641240, -19924409601504918783040, -8874164854197279795640, -3348835097376786591640, -1056300137319509082040, -273347151729659116240, -56523575724844279000, -8980878495274670920, -1029195722955429720]\n",
      "[0, -895330442670030144, -8435877989990032944, -56389944587735174544, -285920413025036439024, -1145619291800269486224, -3728579812271040132144, -10050747725620993539744, -22757870817261469152144, -43735491305730478305504, -71874167541149583344304, -101542827580053674594544, -123753959298537767920944, -130343117250981419618544, -118674638256407169008304, -93288930886591451361504, -63134747512777817568144, -36614482393723854339744, -18072996533046584964144, -7520915612144956078224, -2604209984059467927024, -736757536086970502544, -165928376022220432944, -28614010096342580544, -3547313519504936400]\n",
      "[0, -2898264899807179470, -25033211857771683030, -152920951183019126970, -706154482462946091030, -2566742557203504093870, -7544694932607079872630, -18275644739465891920620, -36976360388311096542630, -63091287598845631638870, -91391449294573664627430, -112874210147068774823070, -119125061570281863539430, -107465067239978749898070, -82736820643229624747430, -54166201802147090512620, -29976293096782828992630, -13900602682260724701870, -5334147366861311172630, -1664102301190648541370, -411414807030176931030, -77561375078049739470, -10470974929275183030]\n",
      "[0, -8005456088396255880, -62951122213367277060, -348693820301693508120, -1453702949148409020540, -4746953943146382516720, -12465286487037896352660, -26804467764387862450380, -47797246830702267365220, -71288520159035939103900, -89417414065090978895220, -94584754470630826189980, -84405615034637089929060, -63412835968322685014220, -39921562639989013275540, -20897704621352921883120, -8990719932311460724860, -3125489550940712557080, -856321330967372719620, -178013357964254565000, -26376737426773217820]\n",
      "[0, -18774623628827884620, -133281853514863295220, -663052322599593783120, -2468891139128145355140, -7155420013606496431140, -16557969653850189785220, -31119982909060291585020, -48047261244430790309220, -61372100390025121715700, -65087473554190733292900, -57335694154844819252220, -41837405497999555750020, -25131907725001601117220, -12299782856297343230340, -4826724108694783471440, -1482619932342008101620, -343427394474456710220, -56379615168965653620]\n",
      "[0, -37106103236167944000, -235343197260976840200, -1039044444237411777000, -3408973432964184313800, -8634672117824042327400, -17299149347704561345800, -27843586699393502789400, -36346928412985279669800, -38662769118288704683800, -33527922976047364187400, -23615078543986629565800, -13395911050405909139400, -6032513252958274189800, -2107894000531300245000, -551139657075080251200, -101408549804650539000]\n",
      "[0, -61147006856751943380, -341964371731539422580, -1319655975931268667780, -3748621567706274711540, -8131505768710156885140, -13774429177771524868980, -18463309948187424726780, -19708495989243131448180, -16762875676305221000340, -11301070236851955812340, -5967316695405533960580, -2416812907211122142580, -725098538210218413780, -151705991660803341300]\n",
      "[0, -82767130793354517840, -401264073266744718360, -1326684810389920491840, -3187099510596359388360, -5758332909075332976720, -7977290891423161887480, -8550834938003147837520, -7096602351095300193480, -4525368952616326605120, -2178310818948081447960, -766246648363099413840, -185710934025659688360]\n",
      "[0, -90093757504681914360, -370122071370040590120, -1020073173656470711440, -2004993903057167148360, -2897810854171639097640, -3121994714628293092680, -2509407589084638637200, -1487122882941166534440, -631669908569470251000, -181805336782404003240]\n",
      "[0, -76470668916438987840, -257817107828501167440, -569167168361112225840, -870687753006558124560, -944104503713657997360, -726488777019183381840, -388918448376893797440, -137651294505688881840]\n",
      "[0, -48271954488478706700, -127239239251381736700, -211181854204281366900, -230976841918094005500, -166829214679007013900, -76550508365353904700]\n",
      "[0, -20925267131707565328, -39689744458796296488, -43978067724310291728, -28644249009632756760]\n",
      "[0, -5312084021887176792, -6032624657704985448]\n",
      "n = 57\n",
      "[0, 0, 0, 0, 0, 0, 0, 0, 0, 0, 0, 0, 0, 0, 0, 0, 0, 0, 0, 0, 0, 0, 0, 0, 0, 0, 0, 0, 0, 0, 0, 0, 0, 0, 0, 0, 0, 0, 0, 0, 0, 0, 0, 0, 0, 0, 0, 0, 0, 0, 0, 0, 0, 0, 0, 0]\n",
      "[0, -110, -2970, -52470, -682110, -6957522, -57979350, -405855450, -2435132700, -12716804100, -58497298860, -239307131700, -877459482900, -2902365981900, -8707097945700, -23799401051580, -59498502628950, -136496564854650, -288159414693150, -561152544402450, -1010074579924410, -1683457633207350, -2601707251320450, -3732884317111950, -4977179089482600, -6171702070958424, -7121194697259720, -7648690600760440, -7648690600760440, -7121194697259720, -6171702070958424, -4977179089482600, -3732884317111950, -2601707251320450, -1683457633207350, -1010074579924410, -561152544402450, -288159414693150, -136496564854650, -59498502628950, -23799401051580, -8707097945700, -2902365981900, -877459482900, -239307131700, -58497298860, -12716804100, -2435132700, -405855450, -57979350, -6957522, -682110, -52470, -2970]\n",
      "[0, -14414, -350010, -5739368, -70160868, -677245658, -5358931758, -35684123018, -203854223298, -1013953180238, -4442249422518, -17302791944618, -60375075789138, -189914412431798, -541376274425838, -1404765657019268, -3330424265574768, -7237167360535838, -14453929174002498, -26591828755653068, -45154074739583808, -70882068669308258, -103002469884161118, -138707445534166598, -173244040961550102, -200812895045419550, -216110276246940430, -215971209145108422, -200424466243750838, -172682977136917518, -138073986377323358, -102391634268633708, -70361727219044168, -44756166571734798, -26316353870219138, -14280482023914468, -7137621380914568, -3278307395357538, -1379884465010798, -530558364856938, -185640018894818, -58844737362318, -16808223872438, -4298665143498, -976727626418, -195299282358, -33957392558, -5056384968, -631916348, -64468350, -5156474, -303264]\n",
      "[0, -869844, -19364484, -296797684, -3421230744, -31280082744, -234997724984, -1487478484584, -8081796630384, -38233347764704, -159275340069504, -589610090088384, -1953936722888984, -5832418112480184, -15761707849320504, -38729649360827104, -86845445619036084, -178257261738597084, -335791836495291884, -581785040248394844, -928782552806945544, -1368277324303539784, -1862368169901606984, -2344199033522942184, -2730600911824549016, -2944764248645841336, -2940796900382256504, -2719549013090276984, -2328319868674850184, -1844583505271743944, -1351312229472287944, -914527160622351984, -571064042820312084, -328515141408357884, -173780361713683404, -84343648546290204, -37459177732135384, -15175826195988984, -5587484310920184, -1861351745899304, -558079343633904, -149645259871584, -35610902819584, -7449664584384, -1353827709144, -210497700344, -27444017784, -2918331984, -243094684, -14877300]\n",
      "[0, -32620810, -673103730, -9683366810, -105410417530, -913003335410, -6508407562130, -39118911190910, -201857281243630, -906754538611010, -3585069905805330, -12586764385897210, -39525996920042330, -111686913793968210, -285389434318178930, -662222477723678660, -1400311135752666380, -2706325079439610410, -4792274655437464130, -7791118592897992210, -11648873528382731730, -16039079614175135810, -20358222884618553730, -23839435931847536810, -25766905963239167690, -25712306305150861730, -23687770214935575810, -20141557574744323730, -15798506408038921810, -11422047362597158530, -7603316283591657410, -4653557040608921380, -2614170020637431660, -1345018100471359130, -632206258570969010, -270644624909830330, -105139990697597210, -36904231378017330, -11642928790768210, -3280945102930430, -819532875212910, -179750408032130, -34211465763410, -5565158311130, -758344449210, -84203011730, -7317205810, -466752480]\n",
      "[0, -860628020, -16566664268, -224235109588, -2306407332796, -18916725582244, -127825179702556, -728518772252068, -3564148876777748, -15172702515889100, -56810775239816052, -188720843239388460, -560146512430533028, -1494203647417343548, -3599559631184805316, -7862781426960660844, -15626298568663413736, -28334116064791409208, -46983589710870395688, -71382197065817354360, -99517585401163413512, -127463205331518094360, -150111782505217311688, -162640337709262912408, -162157665896567450200, -148775152870060647112, -125565521281604311320, -97430132946258252168, -69438706849181514488, -45400005089907859496, -27187062101806815544, -14881816429226297656, -7428124177875152668, -3370950974226337348, -1385915336226490300, -514023713219614052, -171106378205841260, -50803315586269428, -13352778841167948, -3077789963705716, -614869207199044, -104865671611036, -14965554422308, -1738487153788, -157896855060, -10516728012]\n",
      "[0, -17093488636, -308123430916, -3928349290936, -38172053623312, -296197082061412, -1894581444263116, -10220964481221256, -47313565217972816, -190446204079148780, -673632709637883940, -2111628555120156016, -5906833182719285656, -14828657318265544516, -33566005315290673372, -68776487014575814852, -127974421289596632436, -216821031662939919516, -335205759734180301036, -473695814605487953780, -612688580610267058660, -726018896422538279596, -788661672442766283196, -785582642426096348596, -717520773576529260100, -600704048391536390140, -460645990633981225836, -323221227515449632516, -207224222338362487636, -121169411041259908012, -64470587229648110812, -31125995437164974416, -13589080107453023656, -5342691232287581116, -1882134074604401380, -590482535537972840, -163748256287069216, -39767361651010756, -8359434158336716, -1498255633584472, -224430767489152, -27333875504236, -2599974222916, -181169170336]\n",
      "[0, -266609551560, -4509453153480, -54164858670120, -496851524959680, -3642490573524000, -22015275364616160, -112188763155963120, -490227509104775640, -1860949878229924680, -6200683465994219400, -18285685097353836360, -48047977016696086320, -113116867356161093040, -239683571207611700400, -458804301461343449040, -795829390767470621760, -1253971662809603342880, -1798377906640369977120, -2350993238110779224160, -2804587534766943258960, -3055158638847855273360, -3040063774333287263760, -2763076657351881232560, -2292878009729692387200, -1735792276076122614240, -1197346568489570014560, -751338245230301578080, -427981282139354863920, -220715559317157186480, -102715054383976359600, -42961796408973404160, -16071127990642046520, -5344636181046804840, -1568511364738571880, -402495955057369800, -89267906693127360, -16857042694213920, -2656922544687840, -340056611281200, -33950880251640, -2480250686760]\n",
      "[0, -3359426686770, -53359282235490, -603511007735790, -5219299708939470, -36086727953732610, -205651356824489730, -987497957600440440, -4062135730248482040, -14499287931622510170, -45362990398404735210, -125411104715712591930, -308387271307127810490, -678111766275736621290, -1339186478372449603050, -2383702300736573662230, -3835041935275832397270, -5589474344788981783290, -7392633545999977411290, -8883610212842952923490, -9706915269108806685090, -9647773482728185540890, -8721613145800381963290, -7167637619551962188790, -5350078679048293586550, -3621953485550604441930, -2219720654240204824170, -1228445626193083634490, -612019745744284783290, -273431936003826616170, -109027864070711842410, -38572568288963635080, -12020244939286870440, -3269602804309978290, -767400242168375970, -153117745733708910, -25462502784394830, -3433564069271490, -360695361316290, -27690199614000]\n",
      "[0, -34885815082580, -520265556689340, -5534571302778980, -45046599755155460, -293090761528523420, -1570846503047059700, -7087200522034191020, -27358788086409318000, -91507786879787857040, -267827265406977454640, -691378944952219542480, -1584172509543924663440, -3238497908291876032880, -5931130359672957657680, -9763850539003932269360, -14485143375544974430760, -19404368046221562302360, -23505195744386252194760, -25769284649117350039160, -25579155968215465514360, -22986662978290203490760, -18690446121886422782360, -13735525354993077934760, -9108470212464274190000, -5438194729455095170640, -2914853302593279450480, -1397454467794734327440, -596517595006079164880, -225418661901644109360, -74875550190938955920, -21666207076833057200, -5399676507337671020, -1142016871077120500, -200971803549795740, -28634601494577540, -3173647403044580, -256685535985340]\n",
      "[0, -302866476012100, -4237018001708492, -42321248235217952, -323452845331784168, -1975158692859396044, -9926060165677083428, -41938437697674650132, -151377972081740456052, -472587338922872553380, -1288454512379774487748, -3091408727597682832340, -6567589604248071330932, -12414931702033699530692, -20963239719894786686372, -31714971279897128275052, -43088016480733167715772, -52655317110834628081892, -57938191221873856385492, -57427246210696787396972, -51268466366211155113052, -41196856374428431849172, -29758031691633966813092, -19285862929954934004692, -11184855389411140897460, -5784813768942806746148, -2656533263539202507460, -1077229286979941187092, -383041553712801235252, -118387419635924707268, -31448354201078859044, -7075493998123879328, -1322119898110843832, -199674250248725252, -23419098247164620, -2001279831078528]\n",
      "[0, -2221156998244184, -29102453207298744, -272322297788452184, -1949016010133455536, -11134983645632830256, -52285898386386375984, -206082816187505928944, -692624320836127591184, -2009075666796408617680, -5077246116326235276880, -11262016515126009300304, -22054960528707543686704, -38308974063111376656304, -59231038071938095954864, -81736699866617329525264, -100861955604023615432704, -111427703826102072039904, -110264220066229162364704, -97720549452366759309664, -77498294741366015708464, -54915571035318576432304, -34690414746691282646704, -19475061756815439624304, -9676551451672316258320, -4232915609161546674640, -1619224296821601781584, -537011379039460996944, -152705600217324465584, -36696362293507980336, -7308659920171793456, -1174185455727595584, -146227538653940744, -13244694452045784]\n",
      "[0, -13862742585646500, -169735329811762260, -1483718637857010100, -9911309913240290100, -52781133027858149460, -230630190186815974100, -844208352335284050660, -2629003816650202145700, -7047958704471958908180, -16414708037578686506580, -33449765598735037368180, -59972012607522996014580, -95005094370208359972180, -133402893099679542573780, -166407138355265202829980, -184657067102491627878780, -182389543947497841388980, -160320628833966091725780, -125287547071280727768180, -86889748341809545166580, -53332184038833056628180, -28862830887031359434580, -13704246617026513182180, -5671878290960855528100, -2029173892812028877460, -620742302277925382100, -160061963852913236660, -34125165146481563700, -5855664721636684500, -777251410932511060, -74885563233936000]\n",
      "[0, -74002955161234120, -844301515851459960, -6870799731515391560, -42671039463404879800, -210893348418062314760, -853419248800951870520, -2886000397233435850760, -8280174614186269708760, -20388000515892934256360, -43463198665894580668760, -80763193417243065133160, -131485829424716207956760, -188263660604008673422760, -237698720361880089585560, -265073613482719727158760, -261263375592914373617960, -227538085989065813476760, -174894404850305678542760, -118383958786087272974360, -70335173929354729126760, -36511185673969023331160, -16458601868282836630760, -6391040648989107388760, -2115233739432993624200, -588359221684057711160, -134940475150648198920, -24845365125134219960, -3530156114897951560, -363248835058548600]\n",
      "[0, -338921533404477560, -3590281695582295880, -27087837858268566160, -155679914397399338560, -710421261350249846920, -2647456475838500591320, -8220147950636491097920, -21581652395519367494320, -48446179474522074388120, -93765251902481463319720, -157457023038705431493520, -230472549771094709086720, -294983614959602034444520, -330781552117623098963320, -325231795189385762224720, -280293081914267907783520, -211429266193809730081720, -139215561927832451604520, -79693267616950878833920, -39437131334050112891920, -16742081080389801401320, -6035057223069630152920, -1821977756535464234320, -452094979780123175200, -89791024766152454680, -13724130084735247560, -1515171792859730880]\n",
      "[0, -1333338259416582160, -13057904857266445456, -90889131618601066576, -480742247500881800896, -2013299690128655574016, -6863209385560203200896, -19422116312812892884576, -46285122581926659236176, -93878970973109796319216, -163335612594462032828656, -245155710789940411797616, -318669911550945261417376, -359581839731540763724576, -352549522264003605354016, -300210078198660220694656, -221628472203694771660816, -141376856580632768700976, -77533731534244404224176, -36296365147064475178096, -14362875534116461998016, -4740451016876386045696, -1281101876002933134976, -276157564142224060576, -45665148981424092400, -5437746610709153104]\n",
      "[0, -4503676040996464962, -40563880974713412162, -258944277916957101462, -1252260443780461316502, -4777982922293632060002, -14780099840694060333762, -37783415523397296571812, -80928169548969548517012, -146692153229046884508042, -226627511523505108867242, -299855769610255191028962, -340767697790850693336162, -332998524793053414865962, -279655919815982267006442, -201377699280663953839092, -123818793903179014659012, -64590055744778212910562, -28324507531497049641762, -10308616062704852694102, -3058181469220859890902, -720685449194331736962, -129789228081452472162, -16772161268173085712]\n",
      "[0, -13031980444683485460, -107272695110139222300, -623587846342874196420, -2735472074371248238740, -9425613032120211485580, -26199878959864117220580, -59845163209669590163740, -113805437999579440936920, -181829188101568995628200, -245572993165860099767160, -281370930323881164285960, -273881026507908875819400, -226313240496217072281720, -158289490394227517590440, -93208202505655647653880, -45825196192797092214780, -18584094407488933149540, -6109649423191303588620, -1587638517434318582100, -313854981772591590660, -44332326908691420060]\n",
      "[0, -32171131594267433460, -240178519830344232060, -1260461383882194407760, -4967101459507809033720, -15289609319021442178620, -37727150507267844559860, -75949752785806560428460, -126250511158765527132060, -174664005920572053986100, -202038899041411691559300, -195740624465512299433260, -158676078150981289358460, -107217263814014616861060, -59961825016215795800820, -27449196941102353013520, -10117044452389135975560, -2929424390834476287060, -641733529021870699260, -99933539395337524800]\n",
      "[0, -67322255163977398200, -451589842739011699800, -2116853828900421118200, -7403991138871136686800, -20084026768107924560400, -43315602230553819843600, -75502345679188062188400, -107488979691421007433600, -125738908438647432482400, -121127167547254124810400, -95959627462937738253600, -62199246954015059288400, -32673123250415417523600, -13698539380024883168400, -4477309419333076048800, -1099558044034250308200, -190744769696403799800]\n",
      "[0, -118333213390201771500, -704907150431243302620, -2912000356651436455020, -8902119871624046358060, -20908069382957422350300, -38619017503747670834460, -56918625692768254019220, -67484373914846710626420, -64553126776122064324860, -49723746352262304006300, -30624707125407726375660, -14881589251593464219820, -5581406329852069429020, -1559117061855445854300, -305191631514246079680]\n",
      "[0, -172482657350404060440, -898949727013182843240, -3216304945115813610840, -8421953254547390898120, -16726802376598388494200, -25732509673836859868040, -31015383784876088171640, -29405700243092536422840, -21869269173556335670920, -12629426088422074951800, -5553789852823971418440, -1797982383824012769240, -403662483387474612840]\n",
      "[0, -204782954599354482120, -915673917412173641400, -2772098820506283429840, -6047767496001343193760, -9825237530382445092600, -12089326435113542937000, -11330641607040571497360, -8054972931545511733440, -4277502897164409834600, -1645566803064598564920, -432874481365737270720]\n",
      "[0, -193041423067612020720, -720950395927840980720, -1787248873973469007920, -3120548939231719457280, -3943853995497573218880, -3639685250571639971520, -2436169263148369650720, -1153563988711108075920, -366086860180918858800]\n",
      "[0, -139094526258109449300, -417296935326039050100, -806144773307435316300, -1056715877388347330700, -954235015499421938100, -586542926402595189300, -234295396238672277600]\n",
      "[0, -72099216550773626760, -163286472549463367832, -225929248569691371432, -197384768591229633960, -106197512592539892888]\n",
      "[0, -24095516209644424104, -36624071413690024824, -30197981966135122944]\n",
      "[0, -4024032098769378416]\n",
      "n = 58\n",
      "[0, 0, 0, 0, 0, 0, 0, 0, 0, 0, 0, 0, 0, 0, 0, 0, 0, 0, 0, 0, 0, 0, 0, 0, 0, 0, 0, 0, 0, 0, 0, 0, 0, 0, 0, 0, 0, 0, 0, 0, 0, 0, 0, 0, 0, 0, 0, 0, 0, 0, 0, 0, 0, 0, 0, 0, 0]\n",
      "[0, -112, -3080, -55440, -734580, -7639632, -64936872, -463834800, -2840988150, -15151936800, -71214102960, -297804430560, -1116766614600, -3779825464800, -11609463927600, -32506498997280, -83297903680530, -195995067483600, -424655979547800, -849311959095600, -1571227124326860, -2693532213131760, -4285164884527800, -6334591568432400, -8710063406594550, -11148881160441024, -13292896768218144, -14769885298020160, -15297381201520880, -14769885298020160, -13292896768218144, -11148881160441024, -8710063406594550, -6334591568432400, -4285164884527800, -2693532213131760, -1571227124326860, -849311959095600, -424655979547800, -195995067483600, -83297903680530, -32506498997280, -11609463927600, -3779825464800, -1116766614600, -297804430560, -71214102960, -15151936800, -2840988150, -463834800, -64936872, -7639632, -734580, -55440, -3080]\n",
      "[0, -14956, -370150, -6188596, -77165242, -760056568, -6139486078, -41751457018, -243700209478, -1239079148578, -5551925455438, -22127932777858, -79049895288838, -254722192629658, -744272178340318, -1980759242065588, -4819569617231458, -10756205061182488, -22078801928852758, -41780357624146048, -73031452960595218, -118117509209948428, -177006587255053918, -246053635350967078, -317562124742042542, -380789701902560662, -424432794791288414, -439869243094641302, -423905298887787694, -379840209276259366, -316367601760566718, -244809340578596428, -175875410189262418, -117199259591835328, -72358069907312278, -41331435588624088, -21805808799143458, -10604542211343988, -4742571555005758, -1945060140488218, -729179875234438, -248917460665858, -77024988789838, -21489780426658, -5371115622598, -1193298653818, -233418538078, -39722179768, -5791609978, -709034740, -70889830, -5558956, -320650]\n",
      "[0, -920492, -20901076, -326880880, -3846460580, -35915894340, -275689260900, -1783816430540, -9912098050180, -47982501366580, -204647833309700, -776046973559820, -2636068288611300, -8070296612733380, -22383320813671780, -56486692281311800, -130181230136215220, -274841671790915100, -532959521885736180, -951373981171531880, -1566269218072919140, -2381850443664211300, -3350009764485471140, -4362124207214191380, -5262614002232990820, -5885561149028098052, -6103691834112975204, -5870263767826577172, -5235184215250953380, -4327836973486644580, -3314616490960261540, -2350051799481405800, -1540830302726674740, -933042998054385180, -520988267605150580, -267733739561817400, -126339104606973220, -54595962086658500, -21537119887393380, -7726527486432780, -2509654125844100, -734123909376820, -192168409552900, -44667654431180, -9132134065380, -1622736911940, -246828428900, -31496579440, -3279551380, -267613100, -16050516]\n",
      "[0, -35235792, -742161942, -10903654542, -121271730822, -1073709162222, -7827867773142, -48143256973242, -254336596610142, -1170352721447802, -4742923747388502, -17078745716038542, -55043236822287942, -159736356204634542, -419505114551703702, -1001236238546921052, -2179441701608088642, -4339749945059184492, -7924822647736937142, -13299495783330563622, -20547501678035369622, -29266928648976493542, -38474850783010341942, -46722575625993490542, -52442451365552907558, -54424521055032844398, -52228324763437759542, -46340206693645011942, -38000185901474299542, -28781715658961872422, -20117070799796592822, -12960531466717526892, -7685150908717618242, -4186682279803148892, -2090881123852810902, -954769268737053102, -397401907290793542, -150218228676012942, -51341742783379542, -15783222802420602, -4336662206532702, -1056857433843642, -226292702870742, -42069579452142, -6688115942022, -891140219022, -96799723542, -8233098192, -514248042]\n",
      "[0, -949742556, -18677812860, -258415075212, -2718283449084, -22812741553308, -157818614142588, -921384524388804, -4620341583258492, -20173059106092060, -77520483931962876, -264474628572608076, -806792754896596860, -2213614358924569692, -5489443812267486204, -12354298339135148088, -25319790767509054908, -47391481401709237884, -81203686558299534012, -127626644665452132060, -184285001205247207356, -244775597292258757116, -299355629786633370300, -337313159285593913772, -350324386302334976700, -335386719986839390716, -295930848811069773756, -240555777875939325660, -180016678117475828412, -123891861963652175484, -78312241885938277308, -45388553581792325688, -24071212386262148604, -11651972999683763292, -5132707131911227260, -2050110047094617676, -739302031585953276, -239461619275461660, -69232149490304892, -17730960565246404, -3984998873444988, -776730603850908, -129323176991484, -18027522940812, -2046673819260, -181763976156, -11843672316]\n",
      "[0, -19290601288, -355588383388, -4638598138048, -46144466271316, -366778461954856, -2404624286230348, -13304873422528408, -63208709991094388, -261299280145623440, -949909282297762780, -3062708412267711928, -8819162632077619108, -22810531627215953488, -53246813096916637996, -112620913227902773876, -216540835771822087708, -379523539821264229188, -607696048105008798348, -890567054865425172340, -1196176683064932388540, -1474127414267049780868, -1668034212848909413228, -1733756018885807351428, -1655519598928888090300, -1451986174254704363380, -1169115167494287989388, -863505539294780773188, -584367155371694661148, -361793581343945484916, -204530218738799712556, -105328752886424903248, -49269271092474163108, -20860756134842191288, -7961261415433163740, -2724747326922926480, -831166198257703028, -224282205363904408, -53039183952160588, -10864187173184296, -1898628356488276, -277485062588608, -32992725279388, -3065423378248, -208758739140]\n",
      "[0, -308019048120, -5333099737320, -65614444445520, -616884116626440, -4638190876854120, -28769854803853320, -150567208800199920, -676185716583740520, -2640142467592644600, -9055506584520294120, -27513252944555476320, -74552679129279454920, -181174911681516104520, -396683645920237565640, -785510889434810937720, -1411174020017863482120, -2305891584431076145320, -3434149300975082624520, -4668956887086181704600, -5801809146315155336520, -6594912310030211504520, -6860578278625691528520, -6532390559952725402520, -5691770866178779797000, -4535641278459419031720, -3302479564059761466120, -2194207432583259091320, -1327988582779489400520, -730516072593885850440, -364244306954161938120, -164068229023624660320, -66488922994246450920, -24121731981879830520, -7786989653026026600, -2220239872213755120, -553968744955789320, -119553503593858920, -21983950074944520, -3376436716322640, -421375580991720, -41046572904120, -2927433001320]\n",
      "[0, -3977964734040, -64751594154390, -751055387586570, -6665666574410910, -47329537423112010, -277199635014123030, -1369029817599515280, -5797016050414092570, -21318092645398643160, -68778992143968350310, -196276550261296068630, -498724315297977301830, -1134438319717089842070, -2320351244287166024550, -4283046373293181647450, -7155759286190307316590, -10846381225294377586890, -14942981189301136976070, -18737289761752170212670, -21404240391232445207670, -22286687233878920113470, -21154426765522949302470, -18300115916760552378570, -14418372575311195575150, -10335224114227255196250, -6729795026967705324390, -3972700984431000195990, -2120588695134497504070, -1020288291629850687510, -440728736511718699110, -170097990392498782680, -58307568196449435930, -17622295958039026320, -4653078980517068310, -1061046760319547210, -205852208617219230, -33310393990737930, -4374075821042070, -447756611405400, -33517573843050]\n",
      "[0, -42393359031100, -648725449795500, -7086669261094500, -59275413089315500, -396655722917557180, -2188294132957355500, -10171565557489058800, -40490563539775572300, -139793237234513685900, -422774254889029346380, -1128964375645408325100, -2679138485158288807500, -5679635956935446159500, -10801790898364264621900, -18492885245625066259060, -28577735707938212418700, -39946735916011524222700, -50587681952261513682700, -58100667733123997604700, -60554885318756979973900, -57281002640351465598700, -49162177443091892802700, -38253949311372599427700, -26952660567484844615500, -17164698832754525266060, -9857302782545213249100, -5089330884548539051500, -2353452927979305575500, -970192666520653999500, -354485347738597378380, -113971494218256598000, -31954450145971576300, -7723709510736442300, -1585744952218249900, -271124643596910180, -37561929098717100, -4051067058461500, -319067292043500]\n",
      "[0, -378245415652104, -5437153276775220, -55851295443471528, -439360340196709932, -2763972414420977760, -14323107408241091460, -62464232529462495732, -232968563762953646628, -752347644611721418260, -2124354393308292269124, -5285575899551171468244, -11660520906907648715940, -22923284898424986423348, -40318861139774629480068, -63648371173090026631308, -90401433214001832630708, -115732667419829668876668, -133708872586274646208548, -139502691708490943500668, -131458747894416761526708, -111846088406620595335308, -85838927415886833256068, -59339337919314749444148, -36871634536754407730340, -20536743404026371365844, -10216810620172684051524, -4519525543324455523860, -1767744744719993467428, -607062232223895980532, -181415675496305910660, -46646869084013758560, -10169052361961625132, -1842937585155394728, -270190677678541620, -30789123218557704, -2558390250940524]\n",
      "[0, -2855402432529192, -38501556964422552, -371119183512622272, -2738705737185178488, -16149390244636449528, -78351788505936129912, -319443152983946416152, -1111882855102476001272, -3344456861875902285240, -8776575145355488805880, -20245395949467951232152, -41297844388391190650232, -74849545759378838935032, -120984273172848712411512, -174898958914914644795112, -226607963914642426821432, -263515858554105668615832, -275245090536057034898232, -258276890265911115783912, -217626875420594621966712, -164489060887722870986232, -111328715582409965690232, -67306141391848568059032, -36228676653410848621560, -17288381437396085048760, -7274599520176128204792, -2680637277533238448152, -857545849607202500472, -235511941170506160888, -54723060253472011128, -10549873913974379712, -1642296945167430552, -198365697375372072, -17442084368643480]\n",
      "[0, -18377228621984960, -231962738638862140, -2092610495939514460, -14442182516237506940, -79550418439235774940, -359972249706882163260, -1366324494603500863340, -4418238225361488879260, -12317507635206233090540, -29880899685722532765500, -63534927639957116006300, -119083483508489024661500, -197621314167579117206300, -291356015941793873661500, -382552740055751353879700, -448076396672986960069100, -468593848575207171607700, -437625900424868763799100, -364786896433950420220700, -271052194659735663765500, -179163294820253471846300, -105039338352915164061500, -54406233288834106616300, -24768830849093647507100, -9845738087825233624940, -3388334247286072435260, -998501645290852133340, -248357040260285307260, -51139274216465666140, -8485007114688935740, -1090201173563552960, -101779709758867140]\n",
      "[0, -101368216830991320, -1194589424560455000, -10053991135239081240, -64657090872733728600, -331335554674562594520, -1392187933960540082520, -4895692748128518819000, -14629929131740818782040, -37585707780289230484440, -83760951547051772625240, -163044942352821270009240, -278699303302958125636440, -420026164384462479758040, -559753258044570907473240, -660907546328136531245640, -692092677338781522359640, -642913607406290883777240, -529447676702515080158040, -385932385374649674028440, -248393721960902298321240, -140660137952439124833240, -69746117487682081732440, -30091664567987381882040, -11204080806117116563800, -3561588352092365551320, -952976610162629541720, -210552440630137195800, -37395698361139281240, -5131795265090083800, -510611834663820120]\n",
      "[0, -480813064977391440, -5272863246772350840, -41243494811807459040, -246094219625617372200, -1167706826509336102320, -4532154930608448148440, -14681780668272310585440, -40293688465887179146440, -94747994024981017593840, -192531575487802241363640, -340301027567928054373440, -525738909133150283302440, -712433285733492913039440, -848772084685615197503640, -890119778771873598761040, -821883064197118092838440, -667618251585997738597440, -476206502970129301024440, -297372942226643203065840, -161868657386884490429640, -76350243164430367033440, -30961496000390472340440, -10682269611630864811440, -3092330950217527669800, -736990251178718865120, -140807945655910936440, -20733181700825685840, -2208103816395764040]\n",
      "[0, -1964244486361802992, -19965866438642722000, -144480068339241035104, -795825175030988583184, -3476953095660026987344, -12389104990813973200144, -36723306315611969344384, -91878662519315548058704, -196139214586739276194864, -360172812622318098101584, -572339561576866030482784, -790395258115125575019664, -951253112581219065765904, -999197358229351726443664, -916248902941473809298784, -732741265767309858485584, -509881069866732337570864, -307576188024310777754704, -159979035175609243456384, -71215702855812672208144, -26861439203485596779344, -8468859679161253671184, -2190622602773978391904, -452803710261375624400, -71917835407207524592, -8238636873869629392]\n",
      "[0, -6911024585413706856, -64799894252505749526, -431467261504703115426, -2180733092142294528846, -8714471483868886092546, -28298675621916587424726, -76134789907722922663476, -172103849912251229609826, -330261640181211022611516, -542047076888529750569766, -764919728498631826839726, -931280790196499542241526, -979961891374892323018926, -891490591562453056860966, -700260655718306288096316, -473584529238773297782626, -274477342096224283303476, -135403653803707322170326, -56316684009109212646146, -19490628555866049639246, -5511545278032326897826, -1240743879559826069526, -213877165999502083176, -26504037443590367850]\n",
      "[0, -20906725911042924540, -179785127629384937100, -1094357606941759707540, -5038731923209806559500, -18270096171951769322940, -53591749334300248778700, -129584645920866464236440, -261776982681153133670700, -446052704261603721721740, -645357570673552641859500, -796205015629516681258140, -839492856603510034243500, -756669161749535549536140, -582100204465582831104300, -380818545359634854380440, -210612936483530492618700, -97607117047352313578940, -37434682113998362130700, -11672627056995165608340, -2884456293836221673100, -543548497158740844540, -73348584676144577100]\n",
      "[0, -54191356298370998280, -424436037853180473540, -2343371922603348802200, -9743295422574258810300, -31744276375186337502960, -83199052756481339924820, -178609419276057043899660, -318034390027349059236900, -473740892412229176846300, -593548797827174109125940, -627221965523913138825180, -559218933488566713775140, -419793962737274698437900, -264087460352394580828500, -138149222019841185093360, -59398936723413187685820, -20637555559754533124760, -5651345648467804565700, -1174243415715790446600, -173908500662989397340]\n",
      "[0, -119702904848674843080, -846683728197484503480, -4199549746106150362080, -15598473588924807956760, -45113846996128050284760, -104209849145429831283480, -195556992662580075976680, -301522799650912249659480, -384689117717465495503800, -407550787356085228224600, -358676973747461581461480, -261504116620136997286680, -156967548311475368331480, -76768466495755372513560, -30106840859587330644960, -9242565107566385521080, -2139764590110365313480, -351096322243611409080]\n",
      "[0, -223553827163631851040, -1413146987673926250900, -6221958722208489594180, -20366840842164831754740, -51488142570357887315460, -102983708892724101763860, -165519070089022385537340, -215798307934338367479780, -229295303295141470388540, -198648058701902729040660, -139793696240368927878660, -79237209955505525463540, -35657143278878836448580, -12451341196425306321300, -3253646355056167556640, -598316141788975103340]\n",
      "[0, -349120872715022164680, -1946462478195117459720, -7492451589778191274920, -21238067073804396093960, -45987087413834951943240, -77780620529592638862600, -104118837021010855653720, -111011394673833635706120, -94322758896367310988360, -63531779621020210258440, -33519351618834076914600, -13565614276880780691720, -4067249448294434398920, -850397792920315259400]\n",
      "[0, -449003966576275424880, -2170644775769901083400, -7159866422209775916480, -17166376470874446857880, -30963919576992636155760, -42834489998470246129320, -45857263731274315413360, -38017058286868797818520, -24219515180750608520640, -11648227419403696974600, -4094228060281581536880, -991553098105210937400]\n",
      "[0, -465467313832439078160, -1907196163317306978480, -5244841997014694911200, -10290092059240210854000, -14849167844228701379760, -15976641645420488388720, -12826908111921731624160, -7593745749497584513200, -3222582264707725155600, -926706596138170127280]\n",
      "[0, -377046774850974861360, -1268081674730902291260, -2793769006320349189860, -4266498847284647713740, -4619550813254485120740, -3550308933398572204860, -1898531613962754803760, -671256746492506033860]\n",
      "[0, -227562873801646068504, -598455576026732019960, -991377132472699533288, -1082564388471389274360, -780830088024111502104, -357830382371202841464]\n",
      "[0, -94464918768176041680, -178786820771435753352, -197741465423036255952, -128583279141056946360]\n",
      "[0, -22991749156944947344, -26052046240018510320]\n",
      "n = 59\n",
      "[0, 0, 0, 0, 0, 0, 0, 0, 0, 0, 0, 0, 0, 0, 0, 0, 0, 0, 0, 0, 0, 0, 0, 0, 0, 0, 0, 0, 0, 0, 0, 0, 0, 0, 0, 0, 0, 0, 0, 0, 0, 0, 0, 0, 0, 0, 0, 0, 0, 0, 0, 0, 0, 0, 0, 0, 0, 0]\n",
      "[0, -114, -3192, -58520, -790020, -8374212, -72576504, -528771672, -3304822950, -17992924950, -86366039760, -369018533520, -1414571045160, -4896592079400, -15389289392400, -44115962924880, -115804402677810, -279292971164130, -620651047031400, -1273967938643400, -2420539083422460, -4264759337458620, -6978697097659560, -10619756452960200, -15044654975026950, -19858944567035574, -24441777928659168, -28062782066238304, -30067266499541040, -30067266499541040, -28062782066238304, -24441777928659168, -19858944567035574, -15044654975026950, -10619756452960200, -6978697097659560, -4264759337458620, -2420539083422460, -1273967938643400, -620651047031400, -279292971164130, -115804402677810, -44115962924880, -15389289392400, -4896592079400, -1414571045160, -369018533520, -86366039760, -17992924950, -3304822950, -528771672, -72576504, -8374212, -790020, -58520, -3192]\n",
      "[0, -15508, -391048, -6663688, -84718060, -851136856, -7015501348, -48702653998, -290321931898, -1508212966258, -6907999201738, -28158472496698, -102932747032498, -339576819882298, -1016408566861378, -2772630222509068, -6919325864554948, -15848767808123248, -33411325819421548, -64981464641803708, -116831959744590088, -194515877436958348, -300327510967643248, -430525991240244898, -573570118271974822, -710695230786520054, -819464886088368518, -879599419087450598, -879071923183949878, -817987897558566502, -708551215178742934, -571131300518128348, -428150519402082748, -298278084283738648, -192924244765562308, -115709654655785188, -64259549476572448, -32986669839873748, -15620106896059048, -6806628700751878, -2721838817825818, -995511531791698, -331747181419498, -100269688182298, -27339510312658, -6681408874138, -1452150800098, -278010983248, -46325500648, -6616603420, -793839616, -77813008, -5984548, -338688]\n",
      "[0, -973068, -22527320, -359354616, -4314834716, -41128325196, -322414848896, -2131490510016, -12107168218376, -59940232231656, -261592829920016, -1015605285771216, -3533932546292456, -11089559298074376, -31545985894873856, -81704545800026016, -193388149252310516, -419626471779640356, -836967522287532776, -1537993290000188616, -2608760768757362996, -4091155744843059396, -5939715250852277216, -7992042479766362976, -9974343312618241424, -11553416685999560400, -12425367414486250560, -12409791899081065664, -11509912660212664656, -9911504164259392016, -7921095054199920096, -5871301661913207296, -4032877502413481316, -2564195053958273876, -1507140102831588456, -817541441477673416, -408477322062058116, -187551059787980756, -78917852295077376, -30334380023157056, -10610827221932616, -3362534642488616, -960213661687056, -245511390669776, -55770970203816, -11149014833096, -1938096698496, -288529608416, -36051442476, -3677272700, -294070488, -17291768]\n",
      "[0, -38004836, -816772456, -12249419506, -139135211546, -1258627901946, -9379815584106, -58998643622606, -318930697742806, -1502521403381686, -6237537624582686, -23022099096506106, -76100342489231706, -226655344469904506, -611336090223473386, -1499606857597346836, -3357527307994380656, -6882198875623043856, -12948403296050552556, -22409133144206143946, -35738515580843996146, -52601054561052784306, -71534728320958018706, -89971757449351582506, -104726404358851024794, -112864611158060132954, -112642476390005526666, -104107600362127478706, -89082671247162579506, -70538951774506335346, -51651166334714081746, -34940345612878836356, -21808856556728213856, -12540975747988609056, -6631533927005886236, -3217449836708321986, -1428472210016802106, -578532142467031706, -212941319488114506, -70916441046115086, -21256669246411286, -5698342300908406, -1355688768352606, -283537156241306, -51515437705146, -8008041056346, -1043843783306, -110977537456, -9242548756, -565531700]\n",
      "[0, -1046085060, -21008383416, -296963655960, -3193087008936, -27405789821640, -193998669570936, -1159561503125640, -5956440727081536, -26656537197263280, -105060608772715896, -367862153779621080, -1152502961830417896, -3249965170694793480, -8289671175723863736, -19204994247643452240, -40552665596781328836, -78274794946838461740, -138447219030867606936, -224847966923942646360, -335861063357200567416, -462036891656363941560, -585988670107892251416, -685684851778606899960, -740617747673268380040, -738580047593063029416, -680024573778036481560, -577902558678505939416, -453058519655459139960, -327395741184918897336, -217839044265171801240, -133270173885184596336, -74835499220685412740, -38489088161089499436, -18084766496839316280, -7739383859539375896, -3005629103663071080, -1054656710730757896, -332637503383743480, -93710443645155336, -23401359477752640, -5131395682965936, -976411969019640, -158795901976536, -21633804504360, -2401610761416, -208656757560, -13307200416]\n",
      "[0, -21717944808, -409181500112, -5458657005368, -55562531892896, -452136467853560, -3036448407745088, -17220399567742784, -83906671158715048, -355985109086797680, -1329081784000344136, -4404223551459552128, -13044309052346539352, -34730766828520571648, -83528391659307194936, -182188280671292275100, -361598594908719516068, -654882825515901561684, -1084756603193165280868, -1646457154000084818420, -2293356311160103846916, -2934944693574659653748, -3453835175919006073412, -3739486234571245769828, -3725978394457784966900, -3416428849450960772996, -2881836946120027437108, -2234937788960008408612, -1592067495399995962068, -1040439103593092879396, -622781880057784602260, -340763846654653220288, -170024154922958619584, -77130650781290877848, -31700257991565474080, -11753536769939738536, -3911272914817706928, -1160959672135125352, -305053529139024848, -70295645483017136, -14039853048716600, -2393913757436768, -341560737335384, -39668968661168, -3602143921320, -239870656816]\n",
      "[0, -354816743704, -6285330103024, -79164266700304, -762379404954568, -5875147305367048, -37375434308684224, -200745662878612384, -925874572148217224, -3715378476407042120, -13107341570605388080, -40994516128547831824, -114447363408770128984, -286813135760464288024, -648229304198287674208, -1326394259291526210208, -2465019250056650757904, -4171718872458142721424, -6442973661964263496704, -9096503972623569344320, -11755706240070434926960, -13919402532183169141744, -15109615276567501210144, -15040693414571191435744, -13729178193073354164400, -11487441146454029189680, -8804393092907927541504, -6174708568347857759424, -3956901230443472993104, -2312694012991703132368, -1230009804076733047648, -593611446243238215424, -259066095622872316984, -101819453500949634424, -35857448016386841520, -11246085008228217680, -3117764207189723624, -756958258236889384, -159076651754597824, -28503967424216608, -4268710212466408, -519774619496104, -49429550695024, -3443550717904]\n",
      "[0, -4693800266100, -78253541827560, -930255685410150, -8467094358321390, -61698807925279470, -371105221151195190, -1883642459078841120, -8203693045944791340, -31054856869891449540, -103226435863126951320, -303779113840811754090, -796764379210993910970, -1872764883037601042490, -3962531567068749293850, -7575404229609835121910, -13124950578198563647950, -20659147167322885447710, -29600135797422505119750, -38662324602082258262130, -46085119379869714815330, -50165848789187424764130, -49884330477705960621330, -45310944023295688422630, -37578479102878621312350, -28432917567510896096910, -19603092578355239188950, -12295193401152555873210, -7000556780935328168250, -3608779290961360399290, -1678771699365807132570, -701907418077359388840, -262477757557746005220, -87261205703286409740, -25600896256281326640, -6567504861861754470, -1456169870444534190, -274904493400461870, -43318023714841590, -5542878688479000, -553266208810260, -40409038385100]\n",
      "[0, -51301581699060, -805006792987320, -9024119156695720, -77513293647672960, -533065531051056080, -3024680140051733240, -14471976206953107920, -59352578641413200220, -211309715388025237060, -659653588933475939880, -1820185681595707188840, -4468306750170746957320, -9810668937521785899720, -19349044599377327311400, -34399418369674912778840, -55284142554416020728560, -80496402715558265078720, -106369609396461155387720, -127718485035570122937320, -139450582087358539040120, -138505353494838121234520, -125129380629970717643720, -102773631055350870257720, -76670281760616921700400, -51878474451666033765440, -31778595591015457790760, -17579138307295617449320, -8754358816252860915720, -3909636063810737743560, -1558341925370048221480, -551126242603104131040, -171688620695984735420, -46685988266719945220, -10954283108609723960, -2185066149500637480, -363264751974087040, -48972925008250320, -5143338650169720, -394752853726000]\n",
      "[0, -470072070021400, -6938078022133104, -73237303275370080, -592519626174157528, -3836749545221883136, -20483217276265505608, -92114519677374584236, -354616060855753718868, -1183312869170529150900, -3456316224802519476244, -8906420871956332138260, -20375551610866259744244, -41595511272162378763540, -76085214167769437316532, -125111784578603479863052, -185421772263469458282412, -248163793537951690605052, -300357624902688638651212, -329036084362615878013612, -326377773883207797957052, -293107687231575693042412, -238181995295115026361052, -174940884108490960826212, -115948493791679422087060, -69193166396407752835444, -37070429402076424306260, -17764927455047439865044, -7580103772103552383540, -2863374462515394409428, -950766948816834939636, -275024451210888140608, -68520168992137752736, -14487476396252381368, -2548775578404249040, -363052999902050304, -40227718850873400, -3252797464374304]\n",
      "[0, -3649813936844712, -50605088589361488, -502040661865094352, -3816581747967724008, -23205980042848706376, -116209129658216754432, -489543354704333040384, -1762587747232210577952, -5490756487655382871200, -14941839827582000983104, -35791219332273342729792, -75926598099585805816608, -143340638451094994381472, -241756905613755262628352, -365367635200501134120192, -495918459339436764229872, -605509583351412867686832, -665734348217260070347872, -659385678261022028595552, -588277479184481040073392, -472420135475438817484272, -341051978332538041400832, -220914914012644040297472, -128056511276946764672160, -66200335352400568728864, -30387740028281544347712, -12317292737071698911808, -4378118877276776110752, -1352668627619039666208, -359200408836550584576, -80789850889797608832, -15091745270447229384, -2278589536205352552, -267174856127983440, -22825262104326864]\n",
      "[0, -24200756471562216, -314623556172672656, -2926393702047895716, -20844599030127800564, -118627458545554966644, -555247412172145972916, -2182581182957625769956, -7318548047322924491716, -21186477409764109626820, -53448613780948575482020, -118375206491339234396596, -231506094009872759910196, -401634781488905723900596, -620309246787842470258036, -855164818443772793956636, -1054322059381266865749196, -1163821631864625416041996, -1150813664148840879747196, -1019200546548648617753236, -807778650336271983168436, -572061511987478008364596, -361178606345742976350196, -202662339509654875082596, -100649408271205334266180, -44008839580877267720260, -16827865618620073697316, -5578766029849464771956, -1585813848470359187316, -380953460512372875764, -75848438152202523444, -12181847400473930816, -1516630529994235656, -137330824595944616]\n",
      "[0, -137791431151093160, -1675579142290579120, -14568603557899516720, -96902503383340214000, -514231082475911994480, -2240398069135837206960, -8180565975882630039920, -25421610247342993794320, -68026185282674837088080, -158178206785469556847280, -321876653983153402130480, -576363465678476994880880, -912018890674805686288880, -1279323443716619906613680, -1594363268554837483003280, -1767737591653488520966880, -1744696626770893745358080, -1532516468080504137948080, -1196861043084175446540080, -829556490042361226215280, -508894228797386073002480, -275267471016989142088880, -130636416850917948640880, -54043430392825559075600, -19326563244075359788880, -5909862190351550704560, -1523333715810233206320, -324662345389832775920, -55691908364627340400, -7389983780446306480, -711782968465842560]\n",
      "[0, -676092499253081040, -7666769064565568160, -62092239041232489360, -384131746995471573600, -1892444039007899636880, -7637657625472540393440, -25769485469929818818160, -73790104946708262404160, -181381635997101370787760, -386092059627955635552960, -716486481704495026341360, -1165095167167184200508160, -1666440381673863911090160, -2102016214972774568568960, -2342072970032445236518560, -2306591728499652358955760, -2007399570885326895068160, -1541944797348274867010160, -1043089494528106937309760, -619379925930535571958960, -321354355778649332631360, -144790759908363025658160, -56198337596353288784160, -18592044390984989581200, -5169397344930427171680, -1185164777332089415440, -218137634561352848160, -30983897130790449360, -3187167829461914400]\n",
      "[0, -2864239135962258480, -30177259711179714272, -226697519388198880160, -1298305961547521809616, -5907366250512593705936, -21960384805034972590976, -68042434464970493327936, -178319182063552692259376, -399656058236226879304496, -772439692620896712058016, -1295534006995158573824096, -1894207152698029528264016, -2422011841350142410210896, -2713509329636885364149696, -2665818151104113818102016, -2295770486410453023614096, -1730560951850284027120016, -1138778172498897093780896, -651513763152352141738976, -322237870587052842221936, -136730899442095564900976, -49265116224513261911936, -14866731247528907389376, -3687469960751872125200, -732097596142965293072, -111858080196798528480, -12345048656614442272]\n",
      "[0, -10480523060691131476, -102140286324944451304, -708163616078100973966, -3733713244288932452086, -15594678221982450407446, -53041195044998914890766, -149810094752026937154556, -356415622137861155256016, -721847823116518779707656, -1254282469282112874031876, -1880425820419770256778866, -2441786426112343546247746, -2752717080284869363782466, -2696618787622650527807506, -2294528407874019101813476, -1692744032468964592303816, -1079112800528027587188496, -591458370434906423335516, -276733178832431381917486, -109451454636289779229846, -36107499891542764712566, -9753780473399024693806, -2101697696890622326216, -347402284547948209300, -41352662697153142972]\n",
      "[0, -33083208240319152468, -296664452327629923768, -1887050349902554888968, -9099070258515871476528, -34632184737607000756128, -106907084482478920122168, -272804304276334112734368, -583408429595887822909668, -1056053948247811896054588, -1629546961483824857786088, -2153769291219418013920968, -2445266779506160967859768, -2387440431029356538026968, -2003420785179726496355688, -1441611328934210460829488, -885806375232278854105668, -461803020299078507231868, -202401172578181351026168, -73625604043352160041928, -21831615337942862263728, -5142530625892410487968, -925742766528568203768, -119581476442948165968]\n",
      "[0, -89837371901313441720, -736541431257321975600, -4267662357576106999440, -18670412461654994944680, -64187047167467560504560, -178073307861342466741560, -406074637375109512290180, -771099240653031716204940, -1230431854847253111099900, -1659909716121829185640620, -1899966471181499853590220, -1847720653572120542970300, -1525563327983425244046540, -1066230713789203849151580, -627423242227238612000160, -308278369539065466570960, -124949409283738293758280, -41056545872912633511840, -10663700475078289447200, -2107121027864932500120, -297500947144890793920]\n",
      "[0, -208888286200417925640, -1553801045359675044240, -8130025026354491993040, -31958518198725519203880, -98168123872119680212680, -241797072655995476336640, -486017411772913160595840, -806812141636696352628240, -1114876060904249017928400, -1288250384002900055892000, -1246916192579425910535840, -1009950805752353110485840, -681901123598725034244240, -381092156621017253153280, -174345122915490964409280, -64221717793565121922440, -18585691561719178059240, -4069450136575238609040, -633404070343044277200]\n",
      "[0, -413069610907386463800, -2761560970351537070640, -12909371854012221056700, -45048800958349121070060, -121962225222795061515180, -262601493731008253019660, -457075921467479678544180, -649898370237321330985860, -759397942720679881278660, -730824852675876054276180, -578465645125311763479660, -374653546338237869883180, -196663593627614806090860, -82399485160758993357900, -26915878429915923164640, -6606484344129023923800, -1145435967817383959640]\n",
      "[0, -688099383650629720440, -4086374059048306557840, -16838065441577595370320, -51365369316767652587760, -120422668321117939494960, -222087514655050977284880, -326885085238700478671280, -387109850104547681332320, -369911937507585020180160, -284672027046155764934160, -175184116663334628688080, -85064722142747153629680, -31882419381747015478320, -8900567319902520992400, -1741204159462489128000]\n",
      "[0, -953018171803843508400, -4952843772719151669600, -17678754878701442235600, -46200757560923849884800, -91605386337593171484240, -140722913175535418385600, -169401372635462657748000, -160433689041418545954000, -119200472549829550080000, -68778555370935432372240, -30221975884263432506400, -9777159544089147927600, -2193556513013271117600]\n",
      "[0, -1077646659994031253840, -4805922083986782208800, -14517499296942940646880, -31613979993132915166320, -51280063795485305449200, -63012160847273721552000, -58988873113972552739520, -41892392417782578220080, -22226308615430187937200, -8543526602041205137440, -2245648071886038419040]\n",
      "[0, -969552565767876734280, -3612093775955028808080, -8936148727674993568380, -15575818177819629513420, -19656547587137339462220, -18117789898639840953180, -12113613378700257868080, -5730403543305205007880, -1816876472707947214200]\n",
      "[0, -668009660991595857480, -1999497153799908510384, -3855297177730231942800, -5045509922114564011200, -4549953034623477228384, -2793389561677903122480, -1114574140422967826784]\n",
      "[0, -331641201278977955568, -749463230298218327136, -1035114288950458023552, -902943318583457348400, -485121289564216976832]\n",
      "[0, -106298461649625468048, -161231357544286948128, -132694932124862510368]\n",
      "[0, -17038127272309640272]\n",
      "n = 60\n",
      "[0, 0, 0, 0, 0, 0, 0, 0, 0, 0, 0, 0, 0, 0, 0, 0, 0, 0, 0, 0, 0, 0, 0, 0, 0, 0, 0, 0, 0, 0, 0, 0, 0, 0, 0, 0, 0, 0, 0, 0, 0, 0, 0, 0, 0, 0, 0, 0, 0, 0, 0, 0, 0, 0, 0, 0, 0, 0, 0]\n",
      "[0, -116, -3306, -61712, -848540, -9164232, -80950716, -601348176, -3833594622, -21297747900, -104358964710, -455384573280, -1783589578680, -6311163124560, -20285881471800, -59505252317280, -159920365602690, -395097373841940, -899944018195530, -1894618985674800, -3694507022065860, -6685298420881080, -11243456435118180, -17598453550619760, -25664411427987150, -34903599542062524, -44300722495694742, -52504559994897472, -58130048565779344, -60134532999082080, -58130048565779344, -52504559994897472, -44300722495694742, -34903599542062524, -25664411427987150, -17598453550619760, -11243456435118180, -6685298420881080, -3694507022065860, -1894618985674800, -899944018195530, -395097373841940, -159920365602690, -59505252317280, -20285881471800, -6311163124560, -1783589578680, -455384573280, -104358964710, -21297747900, -3833594622, -601348176, -80950716, -9164232, -848540, -61712, -3306]\n",
      "[0, -16070, -412718, -7165618, -92850910, -951134182, -7996511950, -56645824948, -344706562198, -1828838771758, -8558640373918, -35662080559558, -133324752758398, -450069217844398, -1379204314598878, -3854051787365008, -9858551894425078, -23160083807645398, -50109405586640398, -100091414379416458, -184955878635047518, -316734901607811958, -503413718173657198, -743522685344752948, -1021516236325408822, -1306563111379376926, -1556745910411324862, -1728604075771859438, -1789266104674442238, -1726599591338556702, -1553124906273745726, -1301980278017753332, -1016701946733400198, -739097786822686198, -499772658818356558, -314020963847611018, -183111658381011358, -98944843234637398, -49456088695028398, -22818725731778128, -9695063325938758, -3782363347612078, -1350477641066398, -439576520531398, -129842731724158, -34616528047918, -8275987880158, -1760465656948, -330018460198, -53869773670, -7540316782, -886931890, -85266718, -6434118, -357390]\n",
      "[0, -1027608, -24246636, -394358568, -4829785044, -46975923312, -375925455132, -2538116675412, -14730221010732, -74546830492452, -332732635915452, -1321836872657892, -4709009650196652, -15137368934035092, -44137071041111772, -117246667489651752, -284816213981437092, -634715644589387952, -1301139303319193292, -2459256127230504192, -4294102514144100612, -6938232897821375832, -10388006218907029212, -14428208721253213932, -18607120680115015548, -22296072168318514380, -24835159313567316444, -25722685557459191500, -24775024780568234364, -22187830008920166636, -18470945060226771612, -14286359117202959832, -10259052033406798212, -6833552441356482432, -4217336846069845452, -2408079015181000752, -1270018086532333092, -617426079707798952, -276038434887707292, -113176969909831572, -42416548487041452, -14475629490161892, -4478170309310652, -1249087504621092, -312120314971692, -69327854089812, -13558110471132, -2306779068912, -336267579732, -41159434920, -4114388076, -322579608, -18603636]\n",
      "[0, -40933874, -897263374, -13730772712, -159207079142, -1470819890742, -11199314906982, -72007967438882, -398099370565462, -1919099177142622, -8156557120168022, -30839133826537602, -104487925156233702, -319182762016217462, -883554347037982822, -2225929592980245172, -5122144213798530302, -10799236273985978202, -20915602327006374462, -37294386948549784892, -61336392764725145542, -93188829563034676582, -130956248816940618182, -170387702669847468462, -205412909409482228838, -229574244008244577238, -237934585575508291686, -228702432346859719086, -203849660913205931462, -168433642049502096742, -128939153983035718342, -91376595923198243132, -59886605852855998782, -36249687556173487962, -20233349662597364222, -10394148754493128372, -4903177987045638502, -2118175160341322102, -835328586975807462, -299591046990958722, -97283467098164822, -28449900286871902, -7445343415337302, -1730183036796962, -353648514013542, -62827899237942, -9554509854182, -1218959117032, -126898408462, -10353048050, -620825550]\n",
      "[0, -1150086240, -23576240340, -340336250340, -3738879524340, -32802561364260, -237473852979540, -1452407523308940, -7638275633807940, -35016537683977740, -141458638718148180, -508003638407968740, -1633435443264116340, -4730619922110098340, -12401485743221225940, -29551745276783563080, -64235598064480380540, -127744361056100422440, -233005730720176001940, -390623482317083881140, -602931983806593672660, -858039958964112466740, -1127091228708440648340, -1367690318655094562340, -1534076140122368993460, -1591046736097235824164, -1525941974140835758740, -1353165022259499500340, -1109059826286322640340, -839607858710391836340, -586580927129906016660, -377747025184192352040, -223901165070656738940, -121929680473214170440, -60871390012953334740, -27786574385550236580, -11561836886850778740, -4369048644247226340, -1492824390761888340, -458789770032188940, -126025718321562180, -30705118652550540, -6572954070809940, -1221682799771940, -194177361649140, -25867196620260, -2809245526740, -238888095840, -14918327340]\n",
      "[0, -24394409788, -469547809500, -6402754912876, -66650413833052, -554956987954684, -3815600162087644, -22166438583605092, -110704447484521436, -481713810003814780, -1845798488337061468, -6281724771328399148, -19121659758526299100, -52366022739366288316, -129644814232525214812, -291342264405521701624, -596308638394609599004, -1114792050199677235932, -1908098709752586586396, -2995989269558544632380, -4322146845721809466908, -5736150224431403864668, -7009888243594503950620, -7893204495993080719756, -8192363394758781219100, -7838328270945674564188, -6912330510176893007388, -5615945160041847523900, -4200560113925476616476, -2889600879236753388252, -1825733504342167558684, -1057736986035168221944, -560741845149201382492, -271335943204979579836, -119482873305265724380, -47708466481039021868, -17199130393909638748, -5569208405933189500, -1609698390927997916, -412148602731501412, -92606182177903324, -18045851393259004, -3003883944016732, -418646057394796, -47519055157980, -4219284629308, -274871634268]\n",
      "[0, -407573987152, -7382961005272, -95143602262912, -938024517082504, -7404687949114384, -48281618365851832, -265964603521616752, -1258924829499113672, -5188278230689561760, -18811614366027117400, -60515242230806299312, -173911342131767920552, -449035649394041047072, -1046573400800762524024, -2210536745868960011464, -4245042787895558016472, -7431844673187217706472, -11887890682275680333112, -17405415292929670530760, -23358578953722877666840, -28763997146815449748072, -32524348896397454269432, -33783483502778096112232, -32239208660426021234200, -28259518267789068224200, -22741993657135078026552, -16788829996341870890472, -11356351633493094436312, -7027874996112452424904, -3971385909877168632184, -2044387927072080742432, -955946772366101104552, -404610831533912900272, -154364422273311535960, -52814940468384087200, -16106102935986880712, -4344859687721552752, -1027216438573836472, -210354589699550224, -36752713061277064, -5370175248307072, -638367607661272, -59299474341712, -4037509065960]\n",
      "[0, -5519749706010, -94198873047390, -1147002510583260, -10700073602415990, -79964697659108670, -493603803842343030, -2573027468443844820, -11517018195154380030, -44841724442389093770, -153434219831453077470, -465205638981045489480, -1258267124489847780870, -3052863147308597104230, -6674686782708465444870, -13200230739332039461290, -23686899357143482736310, -38664512508700670620590, -57528100129988722136310, -78145460914001740741890, -97029037689306736126950, -110212107018225018931350, -114574354739024193022950, -109025218921504464878850, -94940114639078560994550, -75614650295456067023790, -55028534086980649328310, -36544344882934894578090, -22107740022090352994310, -12156230956713581465190, -6058871242730757502470, -2728116671148477681480, -1105187977478343675870, -400822350679148174730, -129353197713340835070, -36870460176439902420, -9196899697788711030, -1984275594112331070, -364782880911687030, -56012057301689820, -6988617133834590, -680615785034010, -48530650227390]\n",
      "[0, -61833638513680, -994333007516420, -11430835575598780, -100760243864479540, -711611468555266620, -4149679632443813380, -20420928917224924000, -86210053089872951580, -316218300553653997840, -1017967261574211227620, -2899412323803670514180, -7354738752630549547300, -16704630581866297003780, -34121606274642615382500, -62908288492562273788060, -104988334242414344360980, -158980617478791031202620, -218830814249527827986980, -274171926600767735579380, -312960864302296775232580, -325638189946605609140980, -308896775104744106719780, -267059770505050565681980, -210296226934667224110100, -150664865736106340245660, -98058541123510435230180, -57859439220217997135620, -30871772260260092479780, -14847582573647712487940, -6411238554906591285220, -2473526817886606020880, -847613059207385430300, -256093287953597834080, -67599930142236519940, -15410511200553577020, -2988965103485200180, -483541245321293500, -63479534297387780, -6496624015248400, -486202819729660]\n",
      "[0, -581456206931908, -8805878772090708, -95451552831555228, -793602765092193364, -5285168310302601028, -29043590137483682068, -134560683018696394768, -534182391417596521908, -1839921954633520454004, -5553115266879180640948, -14802489834389485228308, -35072581040979813654708, -74248446440561614464628, -141033115438017684033460, -241180919334592911554188, -372327979532737739551348, -519970848685997832163348, -657926368450010245826548, -755055775234394269716388, -786392545173729589135348, -743390286466379298787348, -637638561896940731167348, -495879078404227783505548, -349199880062238492839860, -222278145728896411838068, -127591143096189062013108, -65847213726918725701908, -30437418164487185371828, -12542847932099328940404, -4581226276646855355828, -1472426430201922455568, -412696267638555861268, -99722750464412675908, -20468099047198458964, -3498607666493179548, -484576059135969108, -52248806110701508, -4114177770731028]\n",
      "[0, -4639831461322512, -66101145298854120, -674391775006242384, -5276895915320045016, -33053819453561699520, -170681713258716933000, -742153059251663468136, -2760995213521477909704, -8897056312405044736680, -25074789306336296813832, -62285306709152875361832, -137207295069206535143880, -269383770088222475520744, -473256653647989457211784, -746310535721244373438104, -1058995887782221117705704, -1354561414986517200920184, -1563720261912902742145224, -1630293696734987986558584, -1535260738075034292899304, -1305404055630198970404504, -1001289422450891021013384, -691809985130543726562024, -429656213175428939710920, -239198849761065194173992, -118947281537963241489672, -52596319937472760361640, -20564398912623139830984, -7059489855707091891816, -2108955503080268835720, -542095420820837956800, -118141323367793061336, -21404592735664551504, -3137242028359344360, -357406013975027472, -29690618693917272]\n",
      "[0, -31668800853379508, -423691224242139308, -4059455574391669088, -29814254833998068252, -175125020584698057692, -846922488763837696028, -3443592090030788585708, -11958390950323778730588, -35898136093674822809660, -94040453828556945005660, -216595818510118721512748, -441225616093329053996828, -798721391927668140232028, -1289619220542474484337948, -1862481921832215299545748, -2410969748450491750732028, -2801362816258993622045228, -2923870356458136708632828, -2741740106988178084518548, -2308759389700522257829148, -1744010824190205205499228, -1179732985048436136236828, -712872770447950680778028, -383535342458958921243740, -182943158890069477406780, -76947039418373201967708, -28343457403459686377708, -9063878042195373967388, -2488402830348415013852, -578012902460295576092, -111399050913806565728, -17336442590746587308, -2093413729341540788, -184021361226504620]\n",
      "[0, -185940320734474880, -2330916598716349000, -20915396567410422280, -143728809015183755720, -788905817694673614600, -3559405549392389035080, -13476702565520626413800, -43486455879786813401480, -121011289749106780611560, -293085895398643644820040, -622292264203424971151240, -1164884074005990998308040, -1930954970429898931247240, -2843928954300011948653640, -3730651187441128702850840, -4365966615147955793982440, -4562381903129201607554840, -4257871170969735886650440, -3546888932338154860386440, -2633914948468041842980040, -1740033146946289744271240, -1019617469181505747348040, -527868971067509558027240, -240208851242531013470600, -95444367299997376442600, -32833571525991228331080, -9672101010593631745800, -2404905767207645825480, -495033145865829888520, -82110345567200393800, -10546905121836298880, -984359268122307000]\n",
      "[0, -942726394466286840, -11042208035367936120, -92488280369918911800, -592484717445572590200, -3026483260729261718520, -12682416820553531090040, -44496570629971251295320, -132709123541462156628600, -340359985027643241444600, -757365060473317179233400, -1472291944261257267766200, -2513669755250099768993400, -3784316791387030086084600, -5038390599745493569812600, -5943727421470601664825000, -6219265418063065210337400, -5773158590658729691179000, -4751116779430761824724600, -3461133743532956872860600, -2226395934935368023905400, -1260101054256057683326200, -624515111948322656801400, -269322165330250337088600, -100234691679796828923000, -31850277453072734256120, -8519028120340027538040, -1881551368170548241720, -334067487777148231800, -45829613902008958200, -4558621627916428920]\n",
      "[0, -4136375830949249824, -45115663841147861424, -351360856750824497344, -2089138888451289243280, -9883921651899295977184, -38267466911399514730864, -123705602897789891452864, -338889144836702882912464, -795611832872707118411104, -1614456217098121870383664, -2850028522511754426753664, -4398202841255577573675664, -5954116344154108604824864, -7087187191081176929388784, -7426375857900691429375264, -6851968697499882281259664, -5562085521518617524609664, -3964905616237403221858864, -2474504260829336655179104, -1346224601610680604973264, -634672863580242359164864, -257253435775307715178864, -88718870442906248138464, -25672243227641403137680, -6116119695219519004864, -1168120632374010427824, -171941715956549403424, -18305907170738939344]\n",
      "[0, -15717347011708118506, -158982398351199979390, -1145942981817837118372, -6291812843393905498582, -27415261946164030871662, -97464816278918291595862, -288339882531738605639632, -720186800060741599252942, -1535161032894259253930722, -2815365502286341162465582, -4468633813398232217178532, -6164748401176660991226022, -7412455695225265242061942, -7779484642060009895571622, -7128199386617865706688932, -5696561539940944109435182, -3961431380392872261905122, -2388247663966038042235342, -1241517519049050858772432, -552390506434908230591062, -208255287846681770596462, -65629946342001288845782, -16969445248113139344292, -3506261723913667757950, -556691783466248365546, -63749881445892706206]\n",
      "[0, -51681161326299838704, -482443152405509757924, -3200863288944814828524, -16130324288106318887604, -64299963215603116380204, -208365535743894373543524, -559577560047124851631224, -1262953583161005659222124, -2420238035924434973606184, -3967428429086846651113284, -5592651934887567423918324, -6802383778976908637445924, -7151707615740456021217524, -6500893910472790621724484, -5102730898568375648370984, -3448688508278290653474924, -1997561063413759716271224, -984876627561877200449124, -409416004023595483893804, -141627066400103543438004, -40031428908770087250924, -9008037045883582077924, -1552185686578440567024, -192275894389027887900]\n",
      "[0, -146720660003407938420, -1256658017852825858340, -7624360896084981615420, -35009898112183225163940, -126655118944455143255220, -370798393380339130893540, -895090879961381780235720, -1805560707174266883681540, -3072630403903109088144420, -4440495750486901951531140, -5472881011222267120993620, -5765183583891317099563140, -5192130937350173324995620, -3991295632291551877934340, -2609392782014154324747720, -1442237082163321971213540, -668013614329541209943220, -256064617061093369061540, -79805493614096457173820, -19712061269617123586340, -3712982157928876098420, -500836039465172618340]\n",
      "[0, -358217622019508994960, -2795372068429205100360, -15387435264029137295280, -63818765965897576299960, -207488776887095114446560, -542833555218802047383400, -1163529542520061912301400, -2068985521697164417718280, -3078256606797052726059000, -3852648341216890853269800, -4067356855739016036589560, -3623285912891678191409160, -2717829933714575685992280, -1708558848614687377651560, -893209537708204132251360, -383821787682415117942200, -133283285370114547374000, -36479900670167893694280, -7576330893820656550800, -1121563989098816369400]\n",
      "[0, -747740040986311503900, -5271208488933473278500, -26073068783001285738000, -96620862903811679363700, -278902234235264951900820, -643169294731180743626100, -1205205664369005490629900, -1855914418882612949298900, -2365170523396559283243300, -2503243185924721660538580, -2201096075203018892537100, -1603492190892550809750900, -961798515950016998922900, -470079766966566705078900, -184243898738991649570320, -56530273752448868964900, -13080748224689263849500, -2145236625279452974500]\n",
      "[0, -1323494989761511512000, -8340393815700509902680, -36628376782084731012600, -119642840574582547399320, -301914287907020808944760, -602933742476330670175320, -967749490324487951748360, -1260228965457168780072120, -1337651642919978643885320, -1157786971369566708380760, -814086499193084844211320, -461090981431958570910360, -207352447210772742768120, -72361920226458514311000, -18898031651538218604480, -3473240250452447673000]\n",
      "[0, -1964013476978325873480, -10918818881521037053320, -41930072799532887380520, -118619128886375752922760, -256414995096385382333640, -433061294241794789521800, -578975617889345135215320, -616621760943316486371720, -523412037571326032297160, -352241541051948821640840, -185697711055270160437800, -75100800245689462525320, -22502247513512222024520, -4701914789994424139400]\n",
      "[0, -2405841204566526323040, -11599959744501131785680, -38178309002770550701440, -91366619776534394175600, -164544013944144061711200, -227317171063448785608720, -243072555848538370524000, -201306578442686426513520, -128129184275076758977920, -61572668229115691939280, -21626113698649049459040, -5233730781377477461680]\n",
      "[0, -2380518695373730094820, -9729899732047284791820, -26702624162189319085560, -52298763815114502607740, -75359265934556346064140, -80978753032371554521980, -64942609785198721637880, -38409888949304336706060, -16285968012831694659300, -4679399780843588100300]\n",
      "[0, -1844024196551148157728, -6187564671528169930728, -13605966258212676974808, -20744808693185581789512, -22430578325061000640728, -17218329755088574513128, -9197867585591417879328, -3248832223113997200408]\n",
      "[0, -1066087780725092095656, -2797603596678850964424, -4626046457402820253272, -5043868486422060624840, -3633247654717331707560, -1662976393609721197896]\n",
      "[0, -424532021857031125408, -801834985618475394320, -885304306932561312160, -574776800222385777520]\n",
      "[0, -99226664625531623592, -112195688498236709784]\n"
     ]
    },
    {
     "name": "stdout",
     "output_type": "stream",
     "text": [
      "n = 0\n",
      "n = 1\n",
      "n = 2\n",
      "n = 3\n",
      "n = 4\n",
      "n = 5\n",
      "[0, 5]\n",
      "n = 6\n",
      "[0, 18]\n",
      "n = 7\n",
      "[0, 28, 19]\n",
      "[0, 50]\n",
      "n = 8\n",
      "[0, 40, 68]\n",
      "[0, 216]\n",
      "n = 9\n",
      "[0, 54, 110, 69]\n",
      "[0, 392, 266]\n",
      "[0, 350]\n",
      "n = 10\n",
      "[0, 70, 166, 250]\n",
      "[0, 640, 1088]\n",
      "[0, 1728]\n",
      "n = 11\n",
      "[0, 88, 238, 418, 251]\n",
      "[0, 972, 1980, 1242]\n",
      "[0, 3528, 2394]\n",
      "[0, 2100]\n",
      "n = 12\n",
      "[0, 108, 328, 658, 922]\n",
      "[0, 1400, 3320, 5000]\n",
      "[0, 6400, 10880]\n",
      "[0, 11520]\n",
      "n = 13\n",
      "[0, 130, 438, 988, 1582, 923]\n",
      "[0, 1936, 5236, 9196, 5522]\n",
      "[0, 10692, 21780, 13662]\n",
      "[0, 25872, 17556]\n",
      "[0, 11550]\n",
      "n = 14\n",
      "[0, 154, 570, 1428, 2572, 3430]\n",
      "[0, 2592, 7872, 15792, 22128]\n",
      "[0, 16800, 39840, 60000]\n",
      "[0, 51200, 87040]\n",
      "[0, 69120]\n",
      "n = 15\n",
      "[0, 180, 726, 2000, 4002, 6004, 3431]\n",
      "[0, 3380, 11388, 25688, 41132, 23998]\n",
      "[0, 25168, 68068, 119548, 71786]\n",
      "[0, 92664, 188760, 118404]\n",
      "[0, 168168, 114114]\n",
      "[0, 60060]\n",
      "n = 16\n",
      "[0, 208, 908, 2728, 6004, 10008, 12868]\n",
      "[0, 4312, 15960, 39984, 72016, 96040]\n",
      "[0, 36288, 110208, 221088, 309792]\n",
      "[0, 156800, 371840, 560000]\n",
      "[0, 358400, 609280]\n",
      "[0, 387072]\n",
      "n = 17\n",
      "[0, 238, 1118, 3638, 8734, 16014, 22878, 12869]\n",
      "[0, 5400, 21780, 60000, 120060, 180120, 102930]\n",
      "[0, 50700, 170820, 385320, 616980, 359970]\n",
      "[0, 251680, 680680, 1195480, 717860]\n",
      "[0, 694980, 1415700, 888030]\n",
      "[0, 1009008, 684684]\n",
      "[0, 300300]\n",
      "n = 18\n",
      "[0, 270, 1358, 4758, 12374, 24750, 38894, 48618]\n",
      "[0, 6656, 29056, 87296, 192128, 320256, 411776]\n",
      "[0, 68992, 255360, 639744, 1152256, 1536640]\n",
      "[0, 387072, 1175552, 2358272, 3304448]\n",
      "[0, 1254400, 2974720, 4480000]\n",
      "[0, 2293760, 3899392]\n",
      "[0, 2064384]\n",
      "n = 19\n",
      "[0, 304, 1630, 6118, 17134, 37126, 63646, 87514, 48619]\n",
      "[0, 8092, 38012, 123692, 296956, 544476, 777852, 437546]\n",
      "[0, 91800, 370260, 1020000, 2041020, 3062040, 1749810]\n",
      "[0, 574600, 1935960, 4366960, 6992440, 4079660]\n",
      "[0, 2139280, 5785780, 10161580, 6101810]\n",
      "[0, 4725864, 9626760, 6038604]\n",
      "[0, 5717712, 3879876]\n",
      "[0, 1458600]\n",
      "n = 20\n",
      "[0, 340, 1936, 7750, 23254, 54262, 100774, 151162, 184754]\n",
      "[0, 9720, 48888, 171288, 445464, 891000, 1400184, 1750248]\n",
      "[0, 119808, 523008, 1571328, 3458304, 5764608, 7411968]\n",
      "[0, 827904, 3064320, 7676928, 13827072, 18439680]\n",
      "[0, 3483648, 10579968, 21224448, 29740032]\n",
      "[0, 9031680, 21417984, 32256000]\n",
      "[0, 13762560, 23396352]\n",
      "[0, 10616832]\n",
      "n = 21\n",
      "[0, 378, 2278, 9688, 31006, 77518, 155038, 251938, 335918, 184755]\n",
      "[0, 11552, 61940, 232484, 651092, 1410788, 2418548, 3325532, 1847522]\n",
      "[0, 153748, 722228, 2350148, 5642164, 10345044, 14779188, 8313374]\n",
      "[0, 1162800, 4689960, 12920000, 25852920, 38785840, 22164260]\n",
      "[0, 5458700, 18391620, 41486120, 66428180, 38756770]\n",
      "[0, 16258528, 43971928, 77228008, 46373756]\n",
      "[0, 29930472, 60969480, 38244492]\n",
      "[0, 31039008, 21062184]\n",
      "[0, 6928350]\n",
      "n = 22\n",
      "[0, 418, 2658, 11968, 40696, 108526, 232558, 406978, 587858, 705430]\n",
      "[0, 13600, 77440, 310000, 930160, 2170480, 4030960, 6046480, 7390160]\n",
      "[0, 194400, 977760, 3425760, 8909280, 17820000, 28003680, 35004960]\n",
      "[0, 1597440, 6973440, 20951040, 46110720, 76861440, 98826240]\n",
      "[0, 8279040, 30643200, 76769280, 138270720, 184396800]\n",
      "[0, 27869184, 84639744, 169795584, 237920256]\n",
      "[0, 60211200, 142786560, 215040000]\n",
      "[0, 78643200, 133693440]\n",
      "[0, 53084160]\n",
      "n = 23\n",
      "[0, 460, 3078, 14628, 52666, 149224, 341086, 639538, 994838, 1293290, 705431]\n",
      "[0, 15876, 95676, 406896, 1302252, 3255756, 6511596, 10581396, 14108556, 7759710]\n",
      "[0, 242592, 1300740, 4882164, 13672932, 29626548, 50789508, 69836172, 38797962]\n",
      "[0, 2152472, 10111192, 32902072, 78990296, 144830616, 206908632, 116387236]\n",
      "[0, 12209400, 49244580, 135660000, 271455660, 407251320, 232724730]\n",
      "[0, 45853080, 154489608, 348483408, 557996712, 325556868]\n",
      "[0, 113809696, 307803496, 540596056, 324616292]\n",
      "[0, 179582832, 365816880, 229466952]\n",
      "[0, 162954792, 110576466]\n",
      "[0, 32332300]\n",
      "n = 24\n",
      "[0, 504, 3540, 17708, 67296, 201892, 490312, 980626, 1634378, 2288130, 2704154]\n",
      "[0, 18392, 116952, 526592, 1790624, 4775144, 10232552, 17907032, 25865752, 31038920]\n",
      "[0, 299200, 1703680, 6820000, 20463520, 47750560, 88681120, 133022560, 162583520]\n",
      "[0, 2851200, 14340480, 50244480, 130669440, 261360000, 410720640, 513406080]\n",
      "[0, 17571840, 76707840, 230461440, 507217920, 845475840, 1087088640]\n",
      "[0, 72855552, 269660160, 675569664, 1216782336, 1622691840]\n",
      "[0, 204374016, 620691456, 1245167616, 1744748544]\n",
      "[0, 378470400, 897515520, 1351680000]\n",
      "[0, 432537600, 735313920]\n",
      "[0, 259522560]\n",
      "n = 25\n",
      "[0, 550, 4046, 21250, 85006, 269190, 692206, 1470940, 2615006, 3922510, 4992286, 2704155]\n",
      "[0, 21160, 141588, 672888, 2422636, 6864304, 15689956, 29418748, 45762548, 59491340, 32449826]\n",
      "[0, 365148, 2200548, 9358608, 29951796, 74882388, 149766708, 243372108, 324496788, 178473330]\n",
      "[0, 3719744, 19944680, 74859848, 209651624, 454273736, 778772456, 1070821304, 594902084]\n",
      "[0, 24753428, 116278708, 378373828, 908388404, 1665552084, 2379449268, 1338453214]\n",
      "[0, 112326480, 453050136, 1248072000, 2497392072, 3746712144, 2141067516]\n",
      "[0, 351540280, 1184420328, 2671706128, 4277974792, 2495935988]\n",
      "[0, 747892288, 2022708688, 3552488368, 2133192776]\n",
      "[0, 1032601284, 2103447060, 1319434974]\n",
      "[0, 832880048, 565168604]\n",
      "[0, 148728580]\n",
      "n = 26\n",
      "[0, 598, 4598, 25298, 106258, 354198, 961398, 2163148, 4085948, 6537518, 8914798, 10400598]\n",
      "[0, 24192, 169920, 849984, 3230208, 9690816, 23534976, 47070048, 78450144, 109830240, 129799392]\n",
      "[0, 441408, 2806848, 12638208, 42974976, 114603456, 245581248, 429768768, 620778048, 744934080]\n",
      "[0, 4787200, 27258880, 109120000, 327416320, 764008960, 1418897920, 2128360960, 2601336320]\n",
      "[0, 34214400, 172085760, 602933760, 1568033280, 3136320000, 4928647680, 6160872960]\n",
      "[0, 168689664, 736395264, 2212429824, 4869292032, 8116568064, 10436050944]\n",
      "[0, 582844416, 2157281280, 5404557312, 9734258688, 12981534720]\n",
      "[0, 1401421824, 4256169984, 8538292224, 11963990016]\n",
      "[0, 2270822400, 5385093120, 8110080000]\n",
      "[0, 2306867200, 3921674240]\n",
      "[0, 1245708288]\n",
      "n = 27\n",
      "[0, 648, 5198, 29898, 131558, 460458, 1315598, 3124548, 6249098, 10623468, 15452318, 19315398, 10400599]\n",
      "[0, 27500, 202300, 1062500, 4250300, 13459500, 34610300, 73547000, 130750300, 196125500, 249614300, 135207750]\n",
      "[0, 529000, 3539700, 16822200, 60565900, 171607600, 392248900, 735468700, 1144063700, 1487283500, 811245650]\n",
      "[0, 6085800, 36675800, 155976800, 499196600, 1248039800, 2496111800, 4056201800, 5408279800, 2974555500]\n",
      "[0, 46496800, 249308500, 935748100, 2620645300, 5678421700, 9734655700, 13385266300, 7436276050]\n",
      "[0, 247534280, 1162787080, 3783738280, 9083884040, 16655520840, 23794492680, 13384532140]\n",
      "[0, 936054000, 3775417800, 10400600000, 20811600600, 31222601200, 17842229300]\n",
      "[0, 2511002000, 8460145200, 19083615200, 30556962800, 17828114200]\n",
      "[0, 4674326800, 12641929300, 22203052300, 13332454850]\n",
      "[0, 5736673800, 11685817000, 7330194300]\n",
      "[0, 4164400240, 2825843020]\n",
      "[0, 676039000]\n",
      "n = 28\n",
      "[0, 700, 5848, 35098, 161458, 592018, 1776058, 4440148, 9373648, 16872568, 26075788, 34767718, 40116598]\n",
      "[0, 31096, 239096, 1315496, 5525416, 18418296, 49992696, 112483696, 212469296, 339950936, 463569496, 540831096]\n",
      "[0, 628992, 4417920, 22099584, 83985408, 251961216, 611909376, 1223821248, 2039703744, 2855586240, 3374784192]\n",
      "[0, 7651072, 48652032, 219062272, 744899584, 1986459904, 4256741632, 7449325312, 10760152832, 12912190720]\n",
      "[0, 62233600, 354365440, 1418560000, 4256412160, 9932116480, 18445672960, 27668692480, 33817372160]\n",
      "[0, 355829760, 1789691904, 6270511104, 16307546112, 32617728000, 51257935872, 64073078784]\n",
      "[0, 1461977088, 6382092288, 19174391808, 42200530944, 70343589888, 90445774848]\n",
      "[0, 4329701376, 16025518080, 40148140032, 72311635968, 96434257920]\n",
      "[0, 9109241856, 27665104896, 55498899456, 77765935104]\n",
      "[0, 13120307200, 31113871360, 46858240000]\n",
      "[0, 11995709440, 20392706048]\n",
      "[0, 5888802816]\n",
      "n = 29\n",
      "[0, 754, 6550, 40948, 196558, 753478, 2368078, 6216208, 13813798, 26246218, 42948358, 60843508, 74884318, 40116599]\n",
      "[0, 34992, 280692, 1614492, 7104132, 24864732, 71042292, 168725592, 337451292, 573667272, 834425172, 1043031492, 561632346]\n",
      "[0, 742500, 5462100, 28687500, 114758100, 363406500, 934478100, 1985769000, 3530258100, 5295388500, 6739586100, 3650609250]\n",
      "[0, 9522000, 63714600, 302799600, 1090186200, 3088936800, 7060480200, 13238436600, 20593146600, 26771103000, 14602421700]\n",
      "[0, 82158300, 495123300, 2105686800, 6739154100, 16848537300, 33697509300, 54758724300, 73011777300, 40156499250]\n",
      "[0, 502165440, 2692531800, 10106079480, 28302969240, 61326954360, 105134281560, 144560876040, 80311781340]\n",
      "[0, 2227808520, 10465083720, 34053644520, 81754956360, 149899687560, 214150434120, 120460789260]\n",
      "[0, 7220988000, 29124651600, 80233200000, 160546633200, 240860066400, 137640054600]\n",
      "[0, 16949263500, 57105980100, 128814402600, 206259498900, 120339770850]\n",
      "[0, 28045960800, 75851575800, 133218313800, 79994729100]\n",
      "[0, 30978038520, 63103411800, 39583049220]\n",
      "[0, 20443419360, 13872320280]\n",
      "[0, 3042175500]\n",
      "n = 30\n",
      "[0, 810, 7306, 47500, 237508, 950038, 3121558, 8584288, 20030008, 40060018, 69194578, 103791868, 135727828, 155117518]\n",
      "[0, 39200, 327488, 1965488, 9041648, 33153008, 99459248, 248648288, 524924288, 944863808, 1460244128, 1946992208, 2246529488]\n",
      "[0, 870688, 6694688, 36833888, 154711648, 515712288, 1399795488, 3149543488, 5949140288, 9518626208, 12979945888, 15143270688]\n",
      "[0, 11741184, 82467840, 412525568, 1567727616, 4703276032, 11422308352, 22844663296, 38074469888, 53304276480, 62995971584]\n",
      "[0, 107115008, 681128448, 3066871808, 10428594176, 27810438656, 59594382848, 104290554368, 150642139648, 180770670080]\n",
      "[0, 697016320, 3968892928, 15887872000, 47671816192, 111239704576, 206591537152, 309889355776, 378754568192]\n",
      "[0, 3321077760, 16703791104, 58524770304, 152203763712, 304432128000, 478407401472, 598015401984]\n",
      "[0, 11695816704, 51056738304, 153395134464, 337604247552, 562748719104, 723566198784]\n",
      "[0, 30307909632, 112178626560, 281036980224, 506181451776, 675039805440]\n",
      "[0, 56679727104, 172138430464, 345326485504, 483876929536]\n",
      "[0, 73473720320, 174237679616, 262406144000]\n",
      "[0, 61069066240, 103817412608]\n",
      "[0, 27481079808]\n",
      "n = 31\n",
      "[0, 868, 8118, 54808, 285010, 1187548, 4071598, 11705848, 28614298, 60090028, 109254598, 172986448, 239519698, 290845348, 155117519]\n",
      "[0, 43732, 379900, 2374984, 11400364, 43701724, 137348524, 360540064, 801200284, 1522280644, 2491004764, 3528923464, 4343290444, 2326762742]\n",
      "[0, 1014768, 8140068, 46820268, 206019828, 721077228, 2060226468, 4893042168, 9786087468, 16636350888, 24198329988, 30247913268, 16287338034]\n",
      "[0, 14355000, 105600600, 554625000, 2218656600, 7025859000, 18066576600, 38391534000, 68251656600, 102377511000, 130298664600, 70578445500]\n",
      "[0, 138069000, 923861700, 4390594200, 15807699900, 44789583600, 102376962900, 191957330700, 298600625700, 388180993500, 211735114650]\n",
      "[0, 953036280, 5743430280, 24425966880, 78174187560, 195443032680, 390891107880, 635201201880, 846936616680, 465815391300]\n",
      "[0, 4854265920, 26027807400, 97692101640, 273595369320, 592827225480, 1016298055080, 1397421801720, 776347219620]\n",
      "[0, 18458984880, 86710693680, 282158768880, 677398209840, 1242025982640, 1774389311280, 998103682440]\n",
      "[0, 52352163000, 211153724100, 581690700000, 1163963090700, 1746235481400, 997890395850]\n",
      "[0, 109228587000, 368016316200, 830137261200, 1329227881800, 775522967700]\n",
      "[0, 162666572640, 439939139640, 772666220040, 463969428780]\n",
      "[0, 163338748560, 332727080400, 208710623160]\n",
      "[0, 98809860240, 67049548020]\n",
      "[0, 13572783000]\n",
      "n = 32\n",
      "[0, 928, 8988, 62928, 339820, 1472560, 5259148, 15777448, 40320148, 88704328, 169344628, 282241048, 412506148, 530365048, 601080388]\n",
      "[0, 48600, 438360, 2850000, 14250480, 57002280, 187293480, 515057280, 1201800480, 2403601080, 4151674680, 6227512080, 8143669680, 9307051080]\n",
      "[0, 1176000, 9824640, 58964640, 271249440, 994590240, 2983777440, 7459448640, 15747728640, 28345914240, 43807323840, 58409766240, 67395884640]\n",
      "[0, 17413760, 133893760, 736677760, 3094232960, 10314245760, 27995909760, 62990869760, 118982805760, 190372524160, 259598917760, 302865413760]\n",
      "[0, 176117760, 1237017600, 6187883520, 23515914240, 70549140480, 171334625280, 342669949440, 571117048320, 799564147200, 944939573760]\n",
      "[0, 1285380096, 8173541376, 36802461696, 125143130112, 333725263872, 715132594176, 1251486652416, 1807705675776, 2169248040960]\n",
      "[0, 6970163200, 39688929280, 158878720000, 476718161920, 1112397045760, 2065915371520, 3098893557760, 3787545681920]\n",
      "[0, 28466380800, 143175352320, 501640888320, 1304603688960, 2609418240000, 4100634869760, 5125846302720]\n",
      "[0, 87718625280, 382925537280, 1150463508480, 2532031856640, 4220615393280, 5426746490880]\n",
      "[0, 202052730880, 747857510400, 1873579868160, 3374543011840, 4500265369600]\n",
      "[0, 340078362624, 1032830582784, 2071958913024, 2903261577216]\n",
      "[0, 400765747200, 950387343360, 1431306240000]\n",
      "[0, 305345331200, 519087063040]\n",
      "[0, 126835752960]\n",
      "n = 33\n",
      "[0, 990, 9918, 71918, 402750, 1812382, 6731710, 21036598, 56097598, 129024478, 258048958, 451585678, 694747198, 942871198, 1131445438, 601080389]\n",
      "[0, 53816, 503316, 3398096, 17670620, 73627976, 252439076, 725762576, 1774086476, 3725581736, 6773785076, 10725159776, 14850221276, 18032411576, 9617286178]\n",
      "[0, 1355692, 11776900, 73624504, 353411284, 1354753444, 4257804244, 11176741984, 24837208804, 47190699964, 77221147684, 109396627384, 134642003764, 72129645002]\n",
      "[0, 20971872, 168228072, 967618872, 4257743112, 14902262712, 42578013672, 101122871472, 202245807672, 343817918352, 500098819752, 625123540872, 336604986036]\n",
      "[0, 222502500, 1636809300, 8596687500, 34389177300, 108900814500, 280031937300, 595068777000, 1057900677300, 1586851420500, 2019629301300, 1093965905250]\n",
      "[0, 1712055600, 11455885080, 54443368080, 196015478760, 555390836640, 1269474339960, 2380270900680, 3702647758680, 4813444319400, 2625515421660]\n",
      "[0, 9848041560, 59348779560, 252401657760, 807799938120, 2019578004360, 4039208114760, 6563745752760, 8751678372360, 4813425710100]\n",
      "[0, 42994926720, 230532008400, 865272900240, 2423273271120, 5250755425680, 9001497059280, 12377164529520, 6876218230920]\n",
      "[0, 143057132820, 672007876020, 2186730458820, 5249836126260, 9625701365460, 13751517162420, 7735303538910]\n",
      "[0, 360648234000, 1454614543800, 4007202600000, 8018412402600, 12029622205200, 6874356060300]\n",
      "[0, 677217239400, 2281701160440, 5146851019440, 8241212867160, 4808242399740]\n",
      "[0, 916847954880, 2479656968880, 4355027785680, 2615100416760]\n",
      "[0, 843916867560, 1719089915400, 1078338219660]\n",
      "[0, 471247025760, 319774767480]\n",
      "[0, 60108039000]\n",
      "n = 34\n",
      "[0, 1054, 10910, 81838, 474670, 2215134, 8544094, 27768310, 77134198, 185122078, 387073438, 709634638, 1146332878, 1637618398, 2074316638, 2333606218]\n",
      "[0, 59392, 575232, 4027392, 21748480, 94243840, 336585472, 1009756672, 2580489472, 5677076992, 10838056192, 18063427072, 26400393472, 33943363072, 38469144832]\n",
      "[0, 1555200, 14027520, 91200000, 456015360, 1824072960, 5993391360, 16481832960, 38457615360, 76915234560, 132853589760, 199280386560, 260597429760, 297825634560]\n",
      "[0, 25088000, 209592320, 1257912320, 5786654720, 21217925120, 63653918720, 159134904320, 335951544320, 604712837120, 934556241920, 1246075013120, 1437778872320]\n",
      "[0, 278620160, 2142300160, 11786844160, 49507727360, 165027932160, 447934556160, 1007853916160, 1903724892160, 3045960386560, 4153582684160, 4845846620160]\n",
      "[0, 2254307328, 15833825280, 79204909056, 301003702272, 903028998144, 2193083203584, 4386175352832, 7310298218496, 10234421084160, 12095226544128]\n",
      "[0, 13710721024, 87184441344, 392559591424, 1334860054528, 3559736147968, 7628081004544, 13349190959104, 19282193874944, 23138645770240]\n",
      "[0, 63727206400, 362870210560, 1452605440000, 4358566051840, 10170487275520, 18888369111040, 28332741099520, 34628989091840]\n",
      "[0, 227731046400, 1145402818560, 4013127106560, 10436829511680, 20875345920000, 32805078958080, 41006770421760]\n",
      "[0, 623776890880, 2723026042880, 8181073838080, 18005559869440, 30013265018880, 38590197268480]\n",
      "[0, 1293137477632, 4786288066560, 11990911156224, 21597075275776, 28801698365440]\n",
      "[0, 1978637746176, 6009196118016, 12055033675776, 16891703721984]\n",
      "[0, 2137417318400, 5068732497920, 7633633280000]\n",
      "[0, 1503238553600, 2555505541120]\n",
      "[0, 579820584960]\n",
      "n = 35\n",
      "[0, 1120, 11966, 92750, 556510, 2689806, 10759230, 36312406, 104902510, 262256278, 572195518, 1096708078, 1855967518, 2783951278, 3711935038, 4407922858, 2333606219]\n",
      "[0, 65340, 654588, 4746588, 26581500, 119617212, 444292860, 1388415468, 3702441468, 8515615548, 17031231228, 29804654748, 45853315068, 62229499068, 74675398908, 39671305674]\n",
      "[0, 1775928, 16609428, 112137168, 583130460, 2429723208, 8330489508, 23950165008, 58544853708, 122944197288, 223534907508, 353930272608, 490057302108, 595069582008, 317370443874]\n",
      "[0, 29825224, 259091800, 1619739088, 7775048248, 29804575768, 93671693368, 245888323648, 546418593688, 1038195399208, 1698865249048, 2406725802448, 2962124082808, 1586852190044]\n",
      "[0, 346035888, 2775763188, 15965711388, 70252761348, 245887334748, 702537225588, 1668527379288, 3337055826588, 5672995652808, 8251630525908, 10314538424388, 5553982269594]\n",
      "[0, 2937033000, 21605882760, 113476275000, 453937140360, 1437490751400, 3696421572360, 7854907856400, 13964288940360, 20946438750600, 26659106777160, 14440349949300]\n",
      "[0, 18832611600, 126014735880, 598877048880, 2156170266360, 6109299203040, 13964217739560, 26182979907480, 40729125345480, 52947887513400, 28880669638260]\n",
      "[0, 92852963280, 559574207280, 2379787058880, 7616399416560, 19041735469680, 38083962224880, 61886745668880, 82515824653680, 45383728123800]\n",
      "[0, 354708145440, 1901889069300, 7138501426980, 19992004486740, 43318732261860, 74262350739060, 102111607368540, 56728800405090]\n",
      "[0, 1049085640680, 4928057757480, 16036023364680, 38498798259240, 70588476680040, 100844459191080, 56725559285340]\n",
      "[0, 2380278344400, 9600455989080, 26447537160000, 52921521857160, 79395506554320, 45370749997980]\n",
      "[0, 4063303436400, 13690206962640, 30881106116640, 49447277202960, 28849454398440]\n",
      "[0, 5042663751840, 13638113328840, 23952652821240, 14383052292180]\n",
      "[0, 4284501019920, 8727687262800, 5474640192120]\n",
      "[0, 2221593121440, 1507509618120]\n",
      "[0, 264475371600]\n",
      "n = 36\n",
      "[0, 1188, 13088, 104718, 649262, 3246318, 13449038, 47071638, 141214918, 367158790, 834451798, 1668903598, 2952675598, 4639918798, 6495886318, 8119857898, 9075135298]\n",
      "[0, 71672, 741880, 5564984, 32277560, 150629112, 580998392, 1888245080, 5245125464, 12588301304, 26320993784, 48255155384, 77950635704, 111358051064, 141053531384, 158685222824]\n",
      "[0, 2019328, 19557888, 136931328, 739448320, 3204290560, 11443906048, 34331726848, 87736642048, 193020617728, 368493910528, 614156520448, 897613378048, 1154074344448, 1307950924288]\n",
      "[0, 35251200, 317957120, 2067200000, 10336348160, 41345653760, 135850204160, 373588213760, 871705948160, 1743411983360, 3011348034560, 4517022095360, 5906875074560, 6750714383360]\n",
      "[0, 426496000, 3563069440, 21384509440, 98373130240, 360704727040, 1082116618240, 2705293373440, 5711176253440, 10280118231040, 15887456112640, 21183275223040, 24442240829440]\n",
      "[0, 3789234176, 29135282176, 160301080576, 673305092096, 2244379877376, 6091909963776, 13706813259776, 25890658533376, 41425061257216, 56488724504576, 65903514034176]\n",
      "[0, 25548816384, 179450019840, 897655635968, 3411375292416, 10234328645632, 24854942973952, 49709987332096, 82850046476288, 115990105620480, 137079234166784]\n",
      "[0, 133189861376, 846934573056, 3813436030976, 12967211958272, 34580294008832, 74101358329856, 129677855031296, 187312740499456, 224775416053760]\n",
      "[0, 541681254400, 3084396789760, 12347146240000, 37047811440640, 86449141841920, 160551137443840, 240828299345920, 294346407280640]\n",
      "[0, 1720634572800, 8654154629120, 30321404805120, 78856045199360, 157724835840000, 247860596572160, 309828932075520]\n",
      "[0, 4241682857984, 18516577091584, 55631302098944, 122437807112192, 204090202128384, 262413341425664]\n",
      "[0, 7993940770816, 29587962593280, 74125632602112, 133509192613888, 178046862622720]\n",
      "[0, 11212280561664, 34052111335424, 68311857496064, 95719654424576]\n",
      "[0, 11180336742400, 26513369989120, 39929774080000]\n",
      "[0, 7301444403200, 12412455485440]\n",
      "[0, 2628519985152]\n",
      "n = 37\n",
      "[0, 1258, 14278, 117808, 753982, 3895582, 16695358, 60520678, 188286558, 508373710, 1201610590, 2503355398, 4621579198, 7592594398, 11135805118, 14615744218, 17194993198, 9075135299]\n",
      "[0, 78400, 837620, 6492500, 38955700, 188286420, 753146100, 2541868420, 7343175700, 18357939460, 40053686260, 76769565460, 129917726260, 194876589460, 259835452660, 308554600060, 163352435330]\n",
      "[0, 2286900, 22910580, 166130580, 930352500, 4186602420, 15550250100, 48594541380, 129585451380, 298046544180, 596093092980, 1043162916180, 1604866027380, 2178032467380, 2613638961780, 1388495698590]\n",
      "[0, 41438320, 387553320, 2616533920, 13606377400, 56693541520, 194378088520, 558837183520, 1366046586520, 2868697936720, 5215814508520, 8258373027520, 11434670382520, 13884956913520, 7405310357060]\n",
      "[0, 521941420, 4534106500, 28345434040, 136063344340, 521580075940, 1639254633940, 4303045663840, 9562325389540, 18168419486140, 29730141858340, 42117701542840, 51837171449140, 27769913325770]\n",
      "[0, 4844502432, 38860684632, 223519959432, 983538658872, 3442422686472, 9835521158232, 23359383310032, 46718781572232, 79421939139312, 115522827362712, 144403537941432, 77755751774316]\n",
      "[0, 34265385000, 252068632200, 1323889875000, 5295933304200, 16770725433000, 43124918344200, 91640591658000, 162916704304200, 244375118757000, 311022912400200, 168470749408500]\n",
      "[0, 188326116000, 1260147358800, 5988770488800, 21561702663600, 61092992030400, 139642177395600, 261829799074800, 407291253454800, 529478875134000, 288806696382600]\n",
      "[0, 812463428700, 4896274313700, 20823136765200, 66643494894900, 166615185359700, 333234669467700, 541509024602700, 722013465719700, 397107621083250]\n",
      "[0, 2758841131200, 14792470539000, 55521677765400, 155493368230200, 336923473147800, 577596061303800, 794201390644200, 441224003150700]\n",
      "[0, 7343599484760, 34496404302360, 112252163552760, 269491587814680, 494119336760280, 705911214337560, 397078914997380]\n",
      "[0, 15147225828000, 61093810839600, 168302509200000, 336773320909200, 505244132618400, 288722954532600]\n",
      "[0, 23702603379000, 79859540615400, 180139785680400, 288442450350600, 168288483990900]\n",
      "[0, 27152804817600, 73435994847600, 128975822883600, 77447204650200]\n",
      "[0, 21422505099600, 43638436314000, 27373200960600]\n",
      "[0, 10367434566720, 7035044884560]\n",
      "[0, 1157079750750]\n",
      "n = 38\n",
      "[0, 1330, 15538, 132088, 871792, 4649566, 20590942, 77216038, 248807238, 696660270, 1709984302, 3704965990, 7124934598, 12214173598, 18728399518, 25751549338, 31810737418, 35345263798]\n",
      "[0, 85536, 942336, 7539696, 46746864, 233734896, 968330736, 3389157936, 10167474096, 26435432880, 60080529456, 120161059056, 212592643056, 334074153456, 467703814896, 584629768656, 653409741456]\n",
      "[0, 2580192, 26707680, 200339424, 1161992160, 5422648032, 20915942112, 67976822880, 188824516704, 453178846944, 947555776224, 1737185593824, 2806222885344, 4008889838304, 5077927129824, 5712668021664]\n",
      "[0, 48463872, 469389312, 3286351872, 17746759680, 76902973440, 274653745152, 823961444352, 2105679409152, 4632494825472, 8843853852672, 14739756490752, 21542721073152, 27697784266752, 31390822182912]\n",
      "[0, 634521600, 5723228160, 37209600000, 186054266880, 744221767680, 2445303674880, 6724587847680, 15690707066880, 31381415700480, 54204264622080, 81306397716480, 106323751342080, 121512858900480]\n",
      "[0, 6141542400, 51308199936, 307936935936, 1416573075456, 5194148069376, 15582479302656, 38956224577536, 82240938049536, 148033702526976, 228779368022016, 305039163211776, 351968267943936]\n",
      "[0, 45470810112, 349623386112, 1923612966912, 8079661105152, 26932558528512, 73102919565312, 164481759117312, 310687902400512, 497100735086592, 677864694054912, 790842168410112]\n",
      "[0, 262787825664, 1845771632640, 9233029398528, 35088431579136, 105267380355072, 255650842017792, 511302726844416, 852171906613248, 1193041086382080, 1409957837144064]\n",
      "[0, 1198708752384, 7622411157504, 34320924278784, 116704907624448, 311222646079488, 666912224968704, 1167100695281664, 1685814664495104, 2022978744483840]\n",
      "[0, 4333450035200, 24675174318080, 98777169920000, 296382491525120, 691593134735360, 1284409099550720, 1926626394767360, 2354771258245120]\n",
      "[0, 12388568924160, 62309913329664, 218314114596864, 567763525435392, 1135618818048000, 1784596295319552, 2230768310943744]\n",
      "[0, 27763742343168, 121199413690368, 364132159193088, 801411101097984, 1335863141203968, 1717614598422528]\n",
      "[0, 47963644624896, 177527775559680, 444753795612672, 801055155683328, 1068281175736320]\n",
      "[0, 62098784649216, 188596308934656, 378342595362816, 530139624505344]\n",
      "[0, 57498874675200, 136354474229760, 205353123840000]\n",
      "[0, 35046933135360, 59579786330112]\n",
      "[0, 11828339933184]\n",
      "n = 39\n",
      "[0, 1404, 16870, 147628, 1003882, 5521360, 25240510, 97806982, 326023278, 945467510, 2406644574, 5414950294, 10829900590, 19339108198, 30942573118, 44479948858, 57562286758, 67156001218, 35345263799]\n",
      "[0, 93092, 1056572, 8717792, 55794668, 288273068, 1235456492, 4478530172, 13933205292, 37619654540, 88919183660, 185248299452, 341996860652, 561851985452, 824049578732, 1081565072132, 1272429496652, 671560012126]\n",
      "[0, 2900800, 30991940, 240222500, 1441360900, 6966597540, 27866405700, 94049131540, 271697500900, 679243760020, 1481986391620, 2840473922020, 4806955871620, 7210433810020, 9613911748420, 11416520202220, 6044040107210]\n",
      "[0, 56410200, 565127640, 4097887640, 22948695000, 103269526360, 383572835800, 1198665354040, 3196441134040, 7351814756440, 14703629626840, 25731351932440, 39586695342040, 53724800862040, 64469761057240, 34249560565220]\n",
      "[0, 766608920, 7169736420, 48405877520, 251717981900, 1048830518120, 3595994637620, 10338487895120, 25271861850620, 53070911829320, 96492568407620, 152779901009120, 211541402076620, 256871702900120, 136998241605610]\n",
      "[0, 7724733016, 67104776200, 419512423792, 2013737496232, 7719385123912, 24260968582312, 63685075824832, 141522415765192, 268892608394872, 440006099503432, 623341982834032, 767190137447272, 410994717221396]\n",
      "[0, 59748863328, 479281777128, 2756746166328, 12130310126088, 42456546466488, 121304760951528, 288099060823728, 576198306057528, 979537249384848, 1424781537473448, 1780976967944328, 958987605216564]\n",
      "[0, 362234070000, 2664725540400, 13995407250000, 55985580644400, 177290526006000, 455891993924400, 968771968956000, 1722262302644400, 2583394112574000, 3287956502516400, 1780976493747000]\n",
      "[0, 1742016573000, 11656363068900, 55396127021400, 199445749638300, 565110176281200, 1291690140909300, 2421925641441900, 3767444094456900, 4897679594989500, 2671461941539050]\n",
      "[0, 6680254858200, 40258255468200, 171212457847200, 547957624691400, 1369947079624200, 2739929504512200, 4452407535622200, 5936555162584200, 3265107106684500]\n",
      "[0, 20415424370880, 109464281988600, 410860415463960, 1150650924903480, 2493233701293720, 4274210853648120, 5877090290767080, 3265057623315180]\n",
      "[0, 49402396533840, 232066719852240, 755150918445840, 1812943408935120, 3324075538205520, 4748857260089040, 2671258155436920]\n",
      "[0, 93407892606000, 376745166844200, 1037865473400000, 2076768812273400, 3115672151146800, 1780458219617700]\n",
      "[0, 134922511542000, 454585077349200, 1025411087719200, 1641903178918800, 957949831948200]\n",
      "[0, 143521968321600, 388161687051600, 681729349527600, 409363796008200]\n",
      "[0, 105684358491360, 215282952482400, 135041124738960]\n",
      "[0, 47949384871080, 32537082591090]\n",
      "[0, 5036700091500]\n",
      "n = 40\n",
      "[0, 1480, 18276, 164500, 1151512, 6525244, 30761872, 123047494, 423830262, 1271490790, 3352112086, 7821594870, 16244850886, 30169008790, 50281681318, 75422521978, 102042235618, 124718287978, 137846528818]\n",
      "[0, 101080, 1180888, 10038688, 66256192, 353367016, 1564911592, 5868418888, 18909350088, 52946180520, 129958806952, 281577415240, 541495029448, 928277193448, 1423358363368, 1957117749688, 2417616043768, 2686240048648]\n",
      "[0, 3250368, 35808768, 286508448, 1776380832, 8881926048, 36796567968, 128788001568, 386364015648, 1004546449440, 2283060119328, 4566120244128, 8078520436128, 12694817831328, 17772744966048, 22215931208928, 24829570175328]\n",
      "[0, 65364864, 676594560, 5075265408, 29437134720, 137373750144, 529870533504, 1722079512960, 4783554423168, 11480530789248, 24004746331008, 44008701710208, 71090979762048, 101558542570368, 128640820622208, 144720923215488]\n",
      "[0, 920813568, 8918396928, 62440685568, 337188433920, 1461156495360, 5218421157888, 15655267442688, 40007908773888, 88017401683968, 168033223200768, 280055373324288, 409311700389888, 526257901068288, 596425621475328]\n",
      "[0, 9644728320, 86993068032, 565585920000, 2828024856576, 11312170868736, 37168615858176, 102213735284736, 238498747416576, 476997518647296, 823904822255616, 1235857245290496, 1616121020399616, 1846995455287296]\n",
      "[0, 77792870400, 649903865856, 3900534521856, 17943258955776, 65792542212096, 197378071166976, 493445511315456, 1041718548627456, 1875093565341696, 2897871994945536, 3863829400682496, 4458264727289856]\n",
      "[0, 493683081216, 3795911049216, 20884940783616, 87722034855936, 292410635452416, 793688840994816, 1785801956130816, 3373182940348416, 5397093695225856, 7359673821167616, 8586286399881216]\n",
      "[0, 2496484343808, 17534830510080, 87713779286016, 333340100001792, 1000040113373184, 2428682999169024, 4857375905021952, 8095633112825856, 11333890320629760, 13394599452868608]\n",
      "[0, 10122429464576, 64367027552256, 289821138354176, 985508108828672, 2628102344671232, 5631703233069056, 9855516982378496, 14235768277958656, 17082931620085760]\n",
      "[0, 32934220267520, 187531324817408, 750706491392000, 2252506935590912, 5256107823988736, 9761509156585472, 14642360600231936, 17896261562662912]\n",
      "[0, 85593748930560, 430504855732224, 1508352064487424, 3922729812099072, 7846093651968000, 12329938040389632, 15412581057429504]\n",
      "[0, 175837034840064, 767596286705664, 2306170341556224, 5075603640287232, 8460466560958464, 10878225790009344]\n",
      "[0, 280402845499392, 1037854687887360, 2600099112812544, 4683091679379456, 6245336104304640]\n",
      "[0, 337107688095744, 1023808534216704, 2053859803398144, 2877900818743296]\n",
      "[0, 291327631687680, 690862669430784, 1040455827456000]\n",
      "[0, 166472932392960, 283003985068032]\n",
      "[0, 52879637348352]\n",
      "n = 41\n",
      "[0, 1558, 19758, 182778, 1316014, 7676758, 37287118, 153809368, 546877758, 1695321054, 4623602878, 11173706958, 24066445758, 46413859678, 80450690110, 125704203298, 177464757598, 226760523598, 262564816798, 137846528819]\n",
      "[0, 109512, 1315860, 11514984, 78302796, 430666080, 1968759780, 7628944596, 25429815684, 73746465780, 187718276772, 422366122932, 844732246020, 1508450439444, 2413520703204, 3469436010924, 4489858367124, 5238168095004, 2756930576322]\n",
      "[0, 3630588, 41206308, 339993888, 2175992052, 11242649652, 48182803188, 174662676708, 543395006388, 1467166527060, 3467848162740, 7224683678628, 13337877565428, 21912227432628, 32137933570548, 42181037813148, 49624750369428, 26190840472914]\n",
      "[0, 75420800, 805790440, 6245785000, 37475383400, 181131536040, 724526548200, 2445277420040, 7064135023400, 17660337760520, 38531646182120, 73852321972520, 124980852662120, 187471279060520, 249961705458920, 296829525257720, 157145042787460]\n",
      "[0, 1099998900, 11019988980, 79908808980, 447499552500, 2013755764020, 7479670298100, 23373974403780, 62330602113780, 143360387750580, 286720777723380, 501761362682580, 771940559169780, 1047633616809780, 1257160340616180, 667866431021790]\n",
      "[0, 11959099152, 111847888152, 755131689312, 3926800517640, 16361756082672, 56097516346872, 161280411163872, 394241044869672, 827906224537392, 1505284067158872, 2383366455742272, 3300045872395272, 4007198565241872, 2137172569047516]\n",
      "[0, 100421529208, 872362090600, 5453661509296, 26178587451016, 100352006610856, 315392591570056, 827905985722816, 1839791404947496, 3495603909133336, 5720079293544616, 8103445776842416, 9973471786814536, 5342931323878148]\n",
      "[0, 665773048512, 5340568373712, 30718028710512, 135166312833552, 473087232055152, 1351681622031312, 3210246677750112, 6420495410355312, 10914843636002592, 15876137131846992, 19845171928522512, 10685861886698856]\n",
      "[0, 3531782182500, 25981074018900, 136455220687500, 545859411282900, 1728582628558500, 4444946940762900, 9445526697321000, 16792057450782900, 25188092597596500, 32057575899534900, 17364520814033250]\n",
      "[0, 15097476966000, 101021813263800, 480099767518800, 1728529830198600, 4897621527770400, 11194647887880600, 20990022225829800, 32651182151959800, 42446556489909000, 23152670160005100]\n",
      "[0, 52105987893960, 314014392651960, 1335457171208160, 4274069472592920, 10685587221068760, 21371450135195160, 34728778777853160, 46305130268156760, 25467835432139100]\n",
      "[0, 144763918266240, 776201272282800, 2913373855108080, 8159161103861040, 17679293518264560, 30308040598595760, 41673912970893840, 23152226783507640]\n",
      "[0, 321115577469960, 1508433679039560, 4908480969897960, 11784132158078280, 21606490998335880, 30867572190578760, 17363178010339980]\n",
      "[0, 560447355636000, 2260471001065200, 6227192840400000, 12460612873640400, 18694032906880800, 10682749317706200]\n",
      "[0, 751711135734000, 2532688288088400, 5713004631578400, 9147746282547600, 5337149063711400]\n",
      "[0, 746314235272320, 2018440772668320, 3544992617543520, 2128691739242640]\n",
      "[0, 515211247645380, 1049504393351700, 658325483102430]\n",
      "[0, 220003059996720, 149287790712060]\n",
      "[0, 21825700396500]\n",
      "n = 42\n",
      "[0, 1638, 21318, 202538, 1498794, 8992774, 44963878, 191096488, 700687128, 2242198814, 6318923934, 15797309838, 35240152718, 70480305438, 126864549790, 206154893410, 303168960898, 404225281198, 489325340398, 538257874438]\n",
      "[0, 118400, 1462080, 13160000, 92120960, 522019520, 2460949760, 9843799520, 33906420960, 101719263200, 268168966880, 625727589600, 1299588070880, 2413520703200, 4022534505440, 6033801758240, 8163378849440, 9977463038240, 11027722305440]\n",
      "[0, 4043200, 47235520, 401547520, 2650247680, 14134680640, 62596463680, 234736755520, 756374003520, 2117847220800, 5198352278080, 11263096609600, 21659801177920, 37131087737920, 56934334534720, 78284709987520, 96704641750720, 107449601945920]\n",
      "[0, 86676480, 954900480, 7640225280, 47370155520, 236851361280, 981241812480, 3434346708480, 10303040417280, 26787905318400, 60881603182080, 121763206510080, 215427211630080, 338528475502080, 473939865761280, 592424832238080, 662121871342080]\n",
      "[0, 1307297280, 13531891200, 101505308160, 588742694400, 2747475002880, 10597410670080, 34441590259200, 95671088463360, 229610615784960, 480094926620160, 880174034204160, 1421819595240960, 2031170851407360, 2572816412444160, 2894418464309760]\n",
      "[0, 14733017088, 142694350848, 999050969088, 5395014942720, 23378503925760, 83494738526208, 250484279083008, 640126540382208, 1408278426943488, 2688531571212288, 4480885973188608, 6548987206238208, 8420126417092608, 9542809943605248]\n",
      "[0, 128596377600, 1159907573760, 7541145600000, 37706998087680, 150828944916480, 495581544775680, 1362849803796480, 3179983298887680, 6359966915297280, 10985397630074880, 16478096603873280, 21548280271994880, 24626606070497280]\n",
      "[0, 889061376000, 7427472752640, 44577537392640, 205065816637440, 751914768138240, 2255749384765440, 5639377272176640, 11905354841456640, 21429640746762240, 33118537085091840, 44158050293514240, 50951596883312640]\n",
      "[0, 4936830812160, 37959110492160, 208849407836160, 877220348559360, 2924106354524160, 7936888409948160, 17858019561308160, 33731829403484160, 53970936952258560, 73596738211676160, 85862863998812160]\n",
      "[0, 22190971944960, 155865160089600, 779678038097920, 2963023111127040, 8889245452206080, 21588293325946880, 43176674711306240, 71961183225118720, 100745691738931200, 119063106247720960]\n",
      "[0, 80979435716608, 514936220418048, 2318569106833408, 7884064870629376, 21024818757369856, 45053625864552448, 78844135859027968, 113886146223669248, 136663452960686080]\n",
      "[0, 239521601945600, 1363864180490240, 5459683573760000, 16381868622479360, 38226238719918080, 70992793866076160, 106489895274414080, 130154629546639360]\n",
      "[0, 570624992870400, 2870032371548160, 10055680429916160, 26151532080660480, 52307291013120000, 82199586935930880, 102750540382863360]\n",
      "[0, 1082074060554240, 4723669456650240, 14191817486499840, 31234483940229120, 52064409605898240, 66942927938519040]\n",
      "[0, 1602301974282240, 5930598216499200, 14857709216071680, 26760523882168320, 35687634881740800]\n",
      "[0, 1797907669843968, 5460312182489088, 10953918951456768, 15348804366630912]\n",
      "[0, 1456638158438400, 3454313347153920, 5202279137280000]\n",
      "[0, 783402034790400, 1331783459143680]\n",
      "[0, 235020610437120]\n",
      "n = 43\n",
      "[0, 1720, 22958, 223858, 1701334, 10491570, 53956654, 236060368, 891783618, 2942885944, 8561122750, 22116233774, 51037462558, 105720458158, 197344855230, 333019443202, 509323854310, 707394242098, 893550621598, 1027583214838, 538257874439]\n",
      "[0, 127756, 1620156, 14987796, 107913148, 629494156, 3057543676, 12612368176, 44843976156, 139016326428, 379135435996, 916243970556, 1973448552156, 3805936493596, 6596956589020, 10307744670436, 14552110123036, 18594362935036, 21530314977436, 11303415363158]\n",
      "[0, 4489992, 53950260, 472114344, 3210414636, 17657309280, 80719150980, 312786728436, 1042622443044, 3023605096980, 7696449347652, 17317011040212, 34634022086820, 61846468017204, 98954348831364, 142246876447884, 184084193052084, 214764891895164, 113034153629202]\n",
      "[0, 99236072, 1126305752, 9293166272, 59477116088, 307299090488, 1316996620472, 4774113163352, 14852796841272, 40102551739640, 94787849781560, 197474687215832, 364568653455032, 598934216491832, 878436850928312, 1152948366892712, 1356409843431032, 715882972926316]\n",
      "[0, 1546126400, 16518704020, 128038592500, 768245359700, 3713196488820, 14852794238100, 50128187110820, 144814767979700, 362036924090660, 789898746733460, 1513972600436660, 2562107479573460, 3843161220740660, 5124214961907860, 6085005267783260, 3221473377142930]\n",
      "[0, 18039981960, 180727819272, 1310504467272, 7338992661000, 33025594529928, 122666592888840, 383333180221992, 1022221874665992, 2351110359109512, 4702220754663432, 8228886347994312, 12659825170384392, 17181191315680392, 20617429586105352, 10953009468757356]\n",
      "[0, 163441021744, 1528587804744, 10320133087264, 53666273741080, 223610666463184, 766666056740584, 2204165619239584, 5387960946552184, 11314718402011024, 20572215584504584, 32572674895144384, 45100626922735384, 54765047058305584, 29208025110316052]\n",
      "[0, 1176366485008, 10219098775600, 63885749108896, 306663452997616, 1175552077441456, 3694598929820656, 9698327261324416, 21551842172242096, 40948502935561936, 67006643152951216, 94926079100154016, 116832098074113136, 62588624079715448]\n",
      "[0, 6824173747248, 54740825830548, 314859794282748, 1385454706543908, 4849144128565308, 13854736625820948, 32905028446938648, 65810077956141948, 111877147269026568, 162730405601431668, 203413012267355748, 109530084338663274]\n",
      "[0, 32178459885000, 236716452172200, 1243258677375000, 4973385747244200, 15749308393533000, 40498405460284200, 86059243242258000, 152994301218244200, 229491510333657000, 292080135973540200, 158210078527858500]\n",
      "[0, 123799311121200, 828378868763160, 3936818093654160, 14173944607628520, 40160496527717280, 91796112680620920, 172118182251804360, 267739693646070360, 348061763217253800, 189851895312041820]\n",
      "[0, 388426455209520, 2340834563405520, 9955226185369920, 31861245159329040, 79656195647967120, 159314446462363920, 258887259980359920, 345183698362623120, 189851136857764200]\n",
      "[0, 989220108152640, 5304042027265800, 19908054676571880, 55754267543050440, 120808505708141160, 207104944090404360, 284771738634441240, 158206883020635540]\n",
      "[0, 2025498257887440, 9514735513941840, 30961187656279440, 74330679766339920, 136287097066426320, 194703147663650640, 109521584372913720]\n",
      "[0, 3282620225868000, 13239901577667600, 36473558065200000, 72983589688465200, 109493621311730400, 62570388860850600]\n",
      "[0, 4109354208679200, 13845362641549920, 31231091985961920, 50007679677926880, 29176414881622320]\n",
      "[0, 3824860455770640, 10344508959925140, 18168087164910540, 10909545163618530]\n",
      "[0, 2485136606289480, 5062315309108200, 3175452330258780]\n",
      "[0, 1002236162207280, 680088824354940]\n",
      "[0, 94195128027000]\n",
      "n = 44\n",
      "[0, 1804, 24680, 246818, 1925194, 12192906, 64448226, 290017024, 1127843988, 3834669564, 11504008696, 30677356526, 73153696334, 156757920718, 303065313390, 530364298434, 842343297514, 1216718096410, 1600944863698, 1921133836438, 2104098963718]\n",
      "[0, 137592, 1790712, 17013192, 125898696, 755393016, 3776965752, 16052104992, 58857718752, 188344700376, 530789610456, 1326974026392, 2960172828312, 5920345656792, 10656622182360, 17317011046440, 25466192715432, 33954923620632, 41103328593432, 45213661452792]\n",
      "[0, 4972800, 61407360, 552720000, 3869080320, 21924819840, 103359889920, 413439579840, 1424069680320, 4272209054400, 11263096608960, 26280558763200, 54582698976960, 101367869534400, 168946449228480, 253419673846080, 342861911676480, 419053447606080, 463164336828480]\n",
      "[0, 113209600, 1322594560, 11243330560, 74206935040, 395771057920, 1752700983040, 6572629154560, 21178472098560, 59299722182400, 145553863786240, 315366705068800, 606474432981760, 1039670456661760, 1594161366972160, 2191971879650560, 2707729969020160, 3008588854485760]\n",
      "[0, 1820206080, 20052910080, 160444730880, 994773265920, 4973878586880, 20606078062080, 72121280878080, 216363848762880, 562546011686400, 1278513666823680, 2557027336711680, 4523971444231680, 7109097985543680, 9952737180986880, 12440921476999680, 13904559298183680]\n",
      "[0, 21962594304, 227335772160, 1705289177088, 9890877265920, 46157580048384, 178036499257344, 578618716354560, 1607274286184448, 3857458345187328, 8065594767218688, 14786923774629888, 23886569200048128, 34123670303643648, 43223315729061888, 48626230200403968]\n",
      "[0, 206262239232, 1997720911872, 13986713567232, 75530209198080, 327299054960640, 1168926339366912, 3506779907162112, 8961771565350912, 19715897977208832, 37639441996972032, 62732403624640512, 91685820887334912, 117881769839296512, 133599339210473472]\n",
      "[0, 1543156531200, 13918890885120, 90493747200000, 452483977052160, 1809947338997760, 5946978537308160, 16354197645557760, 38159799586652160, 76319602983567360, 131824771560898560, 197737159246479360, 258579363263938560, 295519272845967360]\n",
      "[0, 9335144448000, 77988463902720, 468064142622720, 2153191074693120, 7895105065451520, 23685368540037120, 59213461357854720, 125006225835294720, 225011227841003520, 347744639393464320, 463659528081899520, 534991767274782720]\n",
      "[0, 46077087580160, 354285031260160, 1949261139804160, 8187389919887360, 27291659308892160, 74077625159516160, 166674849238876160, 314830407765852160, 503728744887746560, 686902889975644160, 801386730655580160]\n",
      "[0, 186404164337664, 1309267344752640, 6549295520022528, 24889394133467136, 74669661798531072, 181341663937953792, 362684067574972416, 604473939090997248, 846263810607022080, 1000130092480856064]\n",
      "[0, 618388418199552, 3932240228646912, 17705436815818752, 60205586284806144, 160553161419915264, 344045870238400512, 602082492014395392, 869676025708019712, 1043611822608875520]\n",
      "[0, 1676651213619200, 9547049263431680, 38217785016320000, 114673080357355520, 267583671039426560, 496949557062533120, 745429266920898560, 911082406826475520]\n",
      "[0, 3687115338547200, 18544824554618880, 64975165854842880, 168979130367344640, 337985572700160000, 531135792509091840, 663926568627732480]\n",
      "[0, 6492444363325440, 28342016739901440, 85150904918999040, 187406903641374720, 312386457635389440, 401657567631114240]\n",
      "[0, 8972891055980544, 33211350012395520, 83203171610001408, 149858933740142592, 199850755337748480]\n",
      "[0, 9439015266680832, 28666638958067712, 57508074495148032, 80581222924812288]\n",
      "[0, 7197506194636800, 17068371832995840, 25705379266560000]\n",
      "[0, 3655876162355200, 6214989476003840]\n",
      "[0, 1039038488248320]\n",
      "n = 45\n",
      "[0, 1890, 26486, 271500, 2172014, 14118102, 76641134, 354465252, 1417861014, 4962513554, 15338678262, 42181365224, 103831052862, 229911617054, 459823234110, 833429611826, 1372707595950, 2059061393926, 2817662960110, 3522078700138, 4025232800158, 2104098963719]\n",
      "[0, 147920, 1974388, 19251788, 146314724, 902275020, 4640272244, 20301191648, 76693391148, 253088191184, 736256556500, 1901996104564, 4389221779988, 9091959401588, 16971657549780, 28639672115372, 43801851470660, 60835904820428, 76845353457428, 88372156476068, 46290177201754]\n",
      "[0, 5493508, 69666708, 644475228, 4640265364, 27068248708, 131474378068, 542331831568, 1928290974708, 5977702036404, 16302823747828, 39398490733908, 84858287742708, 163655269224628, 283669133327860, 443233020828748, 625740735290548, 799557606206548, 925803544029748, 486046860615794]\n",
      "[0, 128713104, 1546574120, 13533944528, 92031886232, 506176199360, 2313948994760, 8966552881832, 29888510033928, 86676679446760, 220631547966024, 496420983152744, 992841966488840, 1772932083159848, 2836691333165768, 4077743791506008, 5277080200826408, 6156593567661368, 3240312404037124]\n",
      "[0, 2133575548, 24215573668, 199803074848, 1278757995892, 6606930445492, 28315427340148, 102643433012068, 319335132087348, 862204862402260, 2037938770303540, 4245705775140388, 7838226049283188, 12877085654574388, 18886392294958708, 24788389888193308, 29162811633767188, 15391483917915794]\n",
      "[0, 26593374080, 284121709144, 2202263791000, 13213820186840, 63866979607704, 255468060895320, 862204818306104, 2490814009250840, 6227035094359352, 13586258443815512, 26040328727510552, 44068248648663512, 66102372996739352, 88136497344815192, 104662090605872072, 55409342086858396]\n",
      "[0, 258573074760, 2590432076232, 18783897364232, 105192228141000, 473366854928968, 1758221164740040, 5494442249848552, 14651846870212552, 33699248480569672, 67398497483509192, 117947370987918472, 181457494108842952, 246263742191418952, 295516490734176712, 156993135718855436]\n",
      "[0, 2007989695712, 18779793029712, 126790206500672, 659328505961840, 2747216759404832, 9419040125670032, 27079749036372032, 66194948771926832, 139009397510421152, 252744362895342032, 400178577283202432, 554093416479320432, 672827721002040032, 358841451355311496]\n",
      "[0, 12645939713836, 109855311837700, 686771802920632, 3296632119724372, 12637184832495652, 39716938495572052, 104257018059237472, 231682303351602532, 440196406557290812, 720321413894225572, 1020455350326655672, 1255945054296716212, 672827708856941066]\n",
      "[0, 65208771362592, 523079002380792, 3008660256479592, 13238789418086232, 46336266117401832, 132389705535622392, 314425827381858192, 628851856025356392, 1069048296126253872, 1554979431302569272, 1943724339443621592, 1046620805902782396]\n",
      "[0, 276734755011000, 2035761488680920, 10692024625425000, 42771117426300120, 135444052184383800, 348286286958444120, 740109491883418800, 1315750990476900120, 1973626988869450200, 2511889169372445720, 1360606675339583100]\n",
      "[0, 967885523311200, 6476416610330160, 30778759641296160, 110814476023277520, 313982063762153280, 717678699139399920, 1345651243059561360, 2093237604869277360, 2721210148789438800, 1484296636075963320]\n",
      "[0, 2783722929001560, 16775981037739560, 71345787661817760, 228338923641858120, 570869402143764360, 1141753532980274760, 1855358696525912760, 2473816504932132360, 1360599814147310100]\n",
      "[0, 6544071484702080, 35088278026527600, 131699438629629360, 368835923746333680, 799194730069241520, 1370078860905751920, 1883874578658611280, 1046599379982665880]\n",
      "[0, 12442346441308560, 58447661014214160, 190190152745716560, 456602747136088080, 837192167693761680, 1196033621362425360, 672775446862184280]\n",
      "[0, 18820355961643200, 75908769045294240, 209115066240480000, 418439247547200480, 627763428853920960, 358736896135543440]\n",
      "[0, 22087778871650700, 74418824198330820, 167867119424545320, 268791278268856980, 156823229988719970]\n",
      "[0, 19349294070369120, 52331045326680120, 91909146834253320, 55189463768893740]\n",
      "[0, 11873430452271960, 24186617587961400, 15171605577903060]\n",
      "[0, 4536437365780320, 3078296783922360]\n",
      "[0, 405039050516100]\n",
      "n = 46\n",
      "[0, 1978, 28378, 297988, 2443516, 16290118, 90759238, 431106388, 1772326268, 6380374570, 20301191818, 57520043488, 146012418088, 333742669918, 689734851166, 1293252845938, 2206137207778, 3431768989878, 4876724354038, 6339741660250, 7547311500298, 8233430727598]\n",
      "[0, 158752, 2171840, 21719984, 169417072, 1072975728, 5671443888, 25521498112, 99250270944, 337450921632, 1012352765248, 2699607374288, 6437525277392, 13794697023184, 26669747578320, 46672058262192, 74126210181232, 107071192484080, 140883148005424, 169059777606544, 185160708807184]\n",
      "[0, 6054048, 78791328, 748580448, 5539542624, 33237292704, 166186493088, 706292619648, 2589739625088, 8287166816544, 23354742860064, 58386857161248, 130247604445728, 260495208898848, 468891376023840, 761948486043360, 1120512479479008, 1494016639307808, 1808546458111008, 1989401103922848]\n",
      "[0, 145868800, 1801282560, 16213120000, 113493022720, 643128048640, 3031890104320, 12127561008640, 41772710622720, 125318132262400, 330384167196160, 770896390387200, 1601092503324160, 2973457506342400, 4955762510702080, 7433643766151680, 10057282742510080, 12292234463111680, 13586153880302080]\n",
      "[0, 2490611200, 29097080320, 247353272320, 1632552570880, 8706963274240, 38559421626880, 144597841400320, 465926386168320, 1304593888012800, 3202185003297280, 6938067511513600, 13342437525598720, 22872750046558720, 35071550073387520, 48223381352312320, 59570059318443520, 66188954798686720]\n",
      "[0, 32035627008, 352931217408, 2823827263488, 17508009480192, 87540263129088, 362666973892608, 1269334543454208, 3808003738226688, 9900809805680640, 22501840536096768, 45003681126125568, 79621897418477568, 125120124545568768, 175168174385369088, 218960217995194368, 244720243648032768]\n",
      "[0, 322118049792, 3334257991680, 25010907930624, 145066199900160, 676977840709632, 2611201989107712, 8486407839866880, 23573356197371904, 56576055729414144, 118295389919207424, 216874882027905024, 350336348267372544, 500480497786773504, 633941964026241024, 713184709605924864]\n",
      "[0, 2593011007488, 25114205749248, 175832970559488, 949522629918720, 4114616690933760, 14695073980612608, 44085233118609408, 112662271107268608, 247857003142053888, 473181556533362688, 788635931281195008, 1152621748297924608, 1481942249408299008, 1679534550074523648]\n",
      "[0, 16974721843200, 153107799736320, 995431219200000, 4977323747573760, 19909420728975360, 65416763910389760, 179896174101135360, 419757795453173760, 839515632819240960, 1450072487169884160, 2175108751711272960, 2844372995903324160, 3250712001305640960]\n",
      "[0, 91276967936000, 762553869271040, 4576627172311040, 21053423841443840, 77196582862192640, 231590270169251840, 578976066610135040, 1222283097056215040, 2200109783334256640, 3400169807402762240, 4533559830134128640, 5231030613353431040]\n",
      "[0, 405478370705408, 3117708275089408, 17153498030276608, 72049031295008768, 240166601918251008, 651883101403742208, 1466738673302110208, 2770507588339499008, 4432812955012169728, 6044745431785668608, 7052203229769105408]\n",
      "[0, 1491233314701312, 10474138758021120, 52394364160180224, 199115153067737088, 597357294388248576, 1450733311503630336, 2901472540599779328, 4835791512727977984, 6770110484856176640, 8001040739846848512]\n",
      "[0, 4534848400130048, 28836428343410688, 129839869982670848, 441507632755245056, 1177389850412711936, 2523003048414937088, 4415271608105566208, 6377624188525477888, 7653153365798420480]\n",
      "[0, 11349638984499200, 64626179629383680, 258705006264320000, 776248543957483520, 1811335619343810560, 3363966232423301120, 5045982729926082560, 6167327061594603520]\n",
      "[0, 23176153556582400, 116567468629032960, 408415328230440960, 1062154533737594880, 2124480742686720000, 3338567838628577280, 4173252717088604160]\n",
      "[0, 38089006931509248, 166273164874088448, 499551975524794368, 1099453834696065024, 1832667218127618048, 2356391063435870208]\n",
      "[0, 49350900807892992, 182662425068175360, 457617443855007744, 824224135570784256, 1099179154357616640]\n",
      "[0, 48860784909877248, 148392013429997568, 297688856210178048, 417126330434322432]\n",
      "[0, 35187808062668800, 83445373405757440, 125670743080960000]\n",
      "[0, 16932479067750400, 28785214415175680]\n",
      "[0, 4571769348292608]\n",
      "n = 47\n",
      "[0, 2068, 30358, 326368, 2741506, 18733636, 107049358, 521865628, 2203432658, 8152700840, 26681566390, 77821235308, 203532461578, 479755088008, 1023477521086, 1982987697106, 3499390053718, 5637906197658, 8308493343918, 11216466014290, 13887053160550, 15780742227898, 8233430727599]\n",
      "[0, 170100, 2383740, 24435000, 195481260, 1270629180, 6897702060, 31901872680, 127607491260, 446626219860, 1380481043580, 3796322870160, 9344794757580, 20692045534860, 41384091069900, 75008665064340, 123543683635500, 185315525453340, 253589666409900, 316987083012420, 362270952014220, 189368906734710]\n",
      "[0, 6656400, 88847460, 866330460, 6584162580, 40602375900, 208812250980, 913553624160, 3451202601660, 11388968603280, 33131545042500, 85589824705380, 197514980099460, 409138173071460, 763724589740100, 1288785245191740, 1971083316179700, 2737615716919260, 3458040905584260, 3976747041423060, 2083057974078930]\n",
      "[0, 164805240, 2090001240, 19334256840, 139207960920, 812047461240, 3944231342040, 16269954947040, 57848729241240, 179331061092120, 489084712434840, 1181954722017240, 2545748632281240, 4909658076738840, 8510073999835800, 13296990624862440, 18772222058716440, 23986728186196440, 27774106320892440, 14581405818473820]\n",
      "[0, 2896044840, 34797917700, 304513751880, 2070717440220, 11388964485600, 52063852382100, 201747439841220, 672491475763380, 1950225287552100, 4964209829235540, 11169472120936740, 22338944245998900, 39890971871096580, 63825554996229780, 91749235308885180, 118734304518594180, 138523355272380780, 72907029090835290]\n",
      "[0, 38404359864, 435880326024, 3596455347264, 23017643926056, 118924748018856, 509677692122664, 1847581794217224, 5748032377572264, 15519687523240680, 36682897865463720, 76422703952526984, 141088068887097384, 231787541782338984, 339955061309256744, 446191017987479544, 524930609407809384, 277046710522484292]\n",
      "[0, 398900611200, 4261825637160, 33033956865000, 198207302802600, 958004694115560, 3832020913429800, 12933072274591560, 37362210138762600, 93405526415390280, 203793876657232680, 390604930912658280, 661023729729952680, 991535594951090280, 1322047460172227880, 1569931359088081080, 831140131302875940]\n",
      "[0, 3324510961200, 33305555265840, 241507251825840, 1352471504670000, 6086145277658160, 22605700689514800, 70642828926624240, 188380888331304240, 433276051893038640, 866552110502261040, 1516466198416094640, 2333024924256552240, 3166248113889672240, 3799497738010843440, 2018483173528141320]\n",
      "[0, 22589884076760, 211272671584260, 1426389823132560, 7417445692070700, 30906188543304360, 105964201413787860, 304647176659185360, 744693173684176860, 1563855721992237960, 2843374082572597860, 4502008994436027360, 6233550935392354860, 7569311861272950360, 4036966327747254330]\n",
      "[0, 126459397138360, 1098553118377000, 6867718029206320, 32966321197243720, 126371848324956520, 397169384955720520, 1042570180592374720, 2316823033516025320, 4401964065572908120, 7203214138942255720, 10204553503266556720, 12559450542967162120, 6728277088569410660]\n",
      "[0, 586878942263328, 4707711021427128, 27077942308316328, 119149104762776088, 417026395056616488, 1191507349820601528, 2829832446436723728, 5659666704228207528, 9621434665136284848, 13994814881723123448, 17493519054992594328, 9419587253125041564]\n",
      "[0, 2264193450090000, 16656230361934800, 87480201480750000, 349945506215182800, 1108178608781322000, 2849615075114542800, 6055441297227972000, 10765235376629182800, 16147857181659138000, 20551820476683646800, 11132236434596589000]\n",
      "[0, 7259141424834000, 48573124577476200, 230840697309721200, 831108570174581400, 2354865478216149600, 5382590243545499400, 10092384322946710200, 15699282036519580200, 20409076115920791000, 11132224770569724900]\n",
      "[0, 19271927970010800, 116141407184350800, 493932376120276800, 1580807932905171600, 3952172784072214800, 7904447536017286800, 12844790975948626800, 17126421957222454800, 9419537174865993000]\n",
      "[0, 42069030973084800, 225567501599106000, 846639248333331600, 2371088081226430800, 5137680407587981200, 8807649820108405200, 12110622291376786800, 6728138871317137800]\n",
      "[0, 74654078647851360, 350685966085284960, 1141140916474299360, 2739616482816528480, 5023153006162570080, 7176201728174552160, 4036652681173105680]\n",
      "[0, 105864502284243000, 426986825879780100, 1176272247602700000, 2353720767453002700, 3531169287303305400, 2017895040762431850]\n",
      "[0, 116935299908739000, 393982010461751400, 888708279306416400, 1423012649658654600, 830240629352046900]\n",
      "[0, 96746470351845600, 261655226633400600, 459545734171266600, 275947318844468700]\n",
      "[0, 56242565300235600, 114568188574554000, 71865500105856600]\n",
      "[0, 20413968146011440, 13852335527650620]\n",
      "[0, 1735881645069000]\n",
      "n = 48\n",
      "[0, 2160, 32428, 356728, 3067876, 21475144, 125782996, 628914988, 2725298288, 10356133500, 34834267232, 104502801700, 281353696888, 683287549588, 1503232609096, 3006465218194, 5482377750826, 9137296251378, 13946399541578, 19524959358210, 25103519174842, 29667795388450, 32247603683098]\n",
      "[0, 181976, 2610776, 27414896, 224803472, 1498690856, 8349849896, 39661787696, 163054016656, 586994460440, 1867709647256, 5291844000896, 13433142464096, 30704325632456, 63455606307272, 118979261826296, 202964623115576, 315722747068776, 448658640571496, 583256232743000, 694352658027416, 757475626939016]\n",
      "[0, 7302592, 99904640, 999119264, 7793185312, 49356883488, 260886418848, 1173988913152, 4565512463424, 15522742395072, 46568227201408, 124181939217248, 296126162760032, 634556063066464, 1226808388602720, 2146914680060832, 3409805668336672, 4925274854267680, 6480624808249504, 7776749769901024, 8517392605130464]\n",
      "[0, 185657472, 2416267392, 22956467072, 169879307136, 1019276976256, 5096385788032, 21659640335872, 79418681836032, 254139782374016, 716212114375296, 1790530286278272, 3994259869668992, 7988519739564672, 14379335531397760, 23366420238663040, 34362382704022912, 45816510272106112, 55462091382070912, 61008300520300672]\n",
      "[0, 3354982400, 41429498880, 372901760000, 2610339522560, 14791945118720, 69733472399360, 278933903198720, 960772344322560, 2882317042035200, 7598835845511680, 17730616978905600, 36825127576455680, 68389522645875200, 113982537746147840, 170973806621488640, 231317503077731840, 282721392651568640, 312481539246947840]\n",
      "[0, 45827246080, 535386277888, 4551300210688, 30038967304192, 160208124246016, 709493357934592, 2660600281765888, 8573045505497088, 24004527539435520, 58920204060669952, 127660442211850240, 245500850471016448, 420858600856680448, 645316521350330368, 887310216882546688, 1096089091459360768, 1217876768295835648]\n",
      "[0, 491212947456, 5411612000256, 43298684706816, 268456145362944, 1342284034646016, 5560893599686656, 19463129666297856, 58389390652809216, 151812417020436480, 345028221553483776, 690056443933925376, 1220869093749989376, 1918508576365387776, 2685912007242326016, 3357390009259646976, 3752377069269835776]\n",
      "[0, 4233551511552, 43821676462080, 328714789945344, 1906584341544960, 8897423049326592, 34318654713987072, 111535645895393280, 309821252879745024, 743571018158014464, 1554739410366726144, 2850355592366751744, 4604420577228324864, 6577743685197594624, 8331808670059167744, 9373284754820726784]\n",
      "[0, 29819626586112, 288813366116352, 2022079161434112, 10919510244065280, 47318091945738240, 168993350777044992, 506980180864008192, 1295616117733588992, 2850355536133619712, 5441587900133670912, 9069313209733742592, 13255150105426132992, 17042335868195438592, 19314647325857021952]\n",
      "[0, 173519378841600, 1565101952860160, 10175519129600000, 50879309419642880, 203518523007303680, 668704697750650880, 1838938668589383680, 4290857464632442880, 8581715357707796480, 14822963202181038080, 22234445017493012480, 29075812847011758080, 33229500457790996480]\n",
      "[0, 839748105011200, 7015495597293568, 42104969985261568, 193691499341283328, 710208562332172288, 2130630485557116928, 5326579812813242368, 11245004492917178368, 20241010006675161088, 31281562228105412608, 41708750437233983488, 48125481642851565568]\n",
      "[0, 3391273645899776, 26075378300747776, 143465619889586176, 602591898103709696, 2008666125134462976, 5452113211740389376, 12267268903981285376, 23171518011566718976, 37074435623738146816, 50556052702207410176, 58982063376250699776]\n",
      "[0, 11432788746043392, 80301730478161920, 401690125228048384, 1526549506852651008, 4579739256976572416, 11122288721527832576, 22244622811264974848, 37074401597581164544, 51904180383897354240, 61341312338825838592]\n",
      "[0, 32092773293228032, 204073185199521792, 918866772185055232, 3124515554883272704, 8332297402920730624, 17855098496474939392, 31246537534285545472, 45133955795718766592, 54160777665650360320]\n",
      "[0, 74583341898137600, 424686323278807040, 1700061469736960000, 5101061860292034560, 11903062641402183680, 22106063813067407360, 33159315082371399680, 40528149261907394560]\n",
      "[0, 142147075147038720, 714947140924735488, 2504947346480037888, 6514547806923915264, 13030148555145216000, 20476549410255273984, 25595949998143438848]\n",
      "[0, 219011789856178176, 956070698026008576, 2872423859267567616, 6321859549502373888, 10537836504233803776, 13549248614756253696]\n",
      "[0, 267075463195656192, 988526065074831360, 2476517931450630144, 4460507086618361856, 5948498952994160640]\n",
      "[0, 249732900650483712, 758448068642209792, 1521520820629798912, 2131979022219870208]\n",
      "[0, 170383070619238400, 404051281754193920, 608510966497280000]\n",
      "[0, 77889403711651840, 132411986309808128]\n",
      "[0, 20028703811567616]\n",
      "n = 49\n",
      "[0, 2254, 34590, 389158, 3424606, 24543022, 147258142, 754697986, 3354213278, 13081431790, 45190400734, 139337068934, 385856498590, 964641246478, 2186520158686, 4509697827292, 8488842969022, 14619674002206, 23083695792958, 33471358899790, 44628478533054, 54771314563294, 61915399071550, 32247603683099]\n",
      "[0, 194392, 2853652, 30678592, 257701564, 1760961784, 10062639652, 49055369032, 207122669852, 766353878960, 2508067240660, 7315196118952, 19132051388332, 45096978272752, 96206886982084, 186400843527964, 328942665049492, 529963182579852, 780998374328292, 1054347805343260, 1305382997091700, 1483389769422412, 773942488394306]\n",
      "[0, 7994700, 112035780, 1148445000, 9187619220, 59719571460, 324191996820, 1499388015960, 5997552089220, 20991432333420, 64882609048260, 178427174897520, 439205353606260, 972526140138420, 1945052280285300, 3525407258023980, 5806553130868500, 8709829696306980, 11918714321265300, 14898392901583740, 17026734744668340, 8900338616531370]\n",
      "[0, 208567200, 2783887080, 27145021080, 206303760840, 1272207778200, 6542783864040, 28624680223680, 108137681518680, 356854349569440, 1038121744665000, 2681814507435240, 6188802709783080, 12819662756239080, 23930037145189800, 40381937682674520, 61760610573630600, 85778625796803480, 108351948374973480, 124604740631255880, 65269149854473140]\n",
      "[0, 3872923140, 49115029140, 454355035740, 3271387081620, 19083115339140, 92689436537940, 382343941255440, 1359445137169140, 4214279935664820, 11493490742218740, 27775935967405140, 59825092858609140, 115376964803362740, 199986738996141300, 312479279684267340, 441147218379836340, 563688112375616340, 652691498540972340, 342663036734134770]\n",
      "[0, 54445642992, 654200852760, 5724858535344, 38929487876136, 214112532329280, 978800424783480, 3792851869014936, 12642839744351544, 36664235405979480, 93327144789628152, 209986075873610712, 419972151824779320, 749950271176615704, 1199920433929119864, 1724885623807041384, 2232204924949570584, 2604239079120758664, 1370652146907703452]\n",
      "[0, 601668304536, 6828791774376, 56344467107136, 360609754841544, 1863154385628744, 7984950509921736, 28945448109403176, 90052507248632136, 243141771197437320, 574698733225598280, 1197289028589589416, 2210379745897859016, 3631338154589977416, 5325962627178355656, 6990325948470512856, 8223912880722347016, 4340398464852253908]\n",
      "[0, 5356665350400, 57230229984720, 443598849330000, 2661640923349200, 12864634463837520, 51458566551771600, 173672684830229520, 501721107577669200, 1254302783292383760, 2736660629397124560, 5245266215112839760, 8876604370659364560, 13314906560771783760, 17753208750884202960, 21081935393468517360, 11161024620352905480]\n",
      "[0, 39063003794100, 391340274373620, 2837710208953620, 15891540179872500, 71512207012483380, 265616983101798900, 830053239887834820, 2213475437892824820, 5090993609743204020, 10181987298401567220, 17818477831389112020, 27413042860014488820, 37203415338203648820, 44644098421627410420, 23717177288955660510]\n",
      "[0, 235938789246160, 2206625680991160, 14897849263828960, 77471099450516200, 322797969230067760, 1106737214766228760, 3181870511773713760, 7777906480701402760, 16333604207474485360, 29697462640202688760, 47020982830776285760, 65105976436320150760, 79057257217739703760, 42163870534249100780]\n",
      "[0, 1188718333100584, 10326399312743800, 64556549474539408, 309883419254090968, 1187895374254591288, 3733392218583772888, 9800159697568322368, 21778136515050638008, 41378462216385336328, 67710212906057203768, 95922802930705633168, 118058835103891323928, 63245804632552460204]\n",
      "[0, 5015147324795712, 40229530546740912, 231393325180157712, 1018183258881904752, 3563680103211086352, 10181971898466958512, 24182204542277457312, 48364424563404682512, 82219532592982797792, 119592054443815782192, 149490071924482169712, 80494654708523082456]\n",
      "[0, 17736182025705000, 130473804501822600, 685261578265875000, 2741239798685598600, 8680732435453689000, 22321984755063918600, 47434290161619114000, 84327677116928598600, 126491547922996581000, 160989260400688566600, 87202518737673280500]\n",
      "[0, 52489176456492000, 351221054637135600, 1669155811316445600, 6009554276646973200, 17027488842486004800, 38920267914867457200, 72975702027460827600, 113517885494833887600, 147573319607427258000, 80494548341042626200]\n",
      "[0, 129397230655786800, 779806591094926800, 3316403096807572800, 10613996120934723600, 26536017264484870800, 53072719170401782800, 86243596552797922800, 114991690284207910800, 63245463888385953000]\n",
      "[0, 263632594097998080, 1413556343354397600, 5305605956222211360, 14858818642352299680, 32196130554218015520, 55194605539346005920, 75893233025961197280, 42163003593587396880]\n",
      "[0, 438592712056126740, 2060280050751049140, 6704202884286508740, 16095246836547104820, 29511023911205099220, 42160185153025493940, 23715334501891995870]\n",
      "[0, 585368424395226000, 2360985978394078200, 6504093604391400000, 13014691302387191400, 19525289000382982800, 11157772578333446700]\n",
      "[0, 610662121745637000, 2057461610189146200, 4641032125266841200, 7431288281550751800, 4335701064394022700]\n",
      "[0, 478640432267025600, 1294504805449455600, 2273542053268371600, 1365213051125266200]\n",
      "[0, 264340056911107320, 538470486300403800, 337767850497526020]\n",
      "[0, 91376809796432160, 62005692361864680]\n",
      "[0, 7416948847113000]\n",
      "n = 50\n",
      "[0, 2350, 36846, 423750, 3813766, 27967630, 171801166, 901956130, 4108911266, 16435645070, 58271832526, 184527469670, 525193567526, 1350497745070, 3151161405166, 6696217985980, 12998540796316, 23108516971230, 37703369795166, 56555054692750, 78099837432846, 99399793096350, 116686713634846, 126410606437750]\n",
      "[0, 207360, 3113088, 34245888, 294516096, 2061613824, 12075167616, 60375838848, 261628635648, 994188816000, 3344089654272, 10032268963200, 27009954901248, 65595604760448, 144310330473216, 288620660946624, 526308264079296, 877180440132288, 1338854355991488, 1874396098388160, 2409937840784832, 2848108357291200, 3095769953577408]\n",
      "[0, 8734848, 125317248, 1315915008, 10790566656, 71937161088, 400792795008, 1903765809408, 7826592799488, 28175734101120, 89650063068288, 254008512043008, 644790838276608, 1473807630357888, 3045869102749056, 5711004567662208, 9742301909547648, 15154691859301248, 21535614747431808, 27996299171664000, 33328927585315968, 36358830093072768]\n",
      "[0, 233682944, 3196948480, 31971816448, 249381929984, 1579420271616, 8348365403136, 37567645220864, 146096398829568, 496727756642304, 1490183270445056, 3973822054951936, 9476037208321024, 20305794018126848, 39257868435287040, 68701269761946624, 109113781386773504, 157608795336565760, 207379993863984128, 248855992636832768, 272556563364174848]\n",
      "[0, 4455779328, 57990417408, 550955209728, 4077103371264, 24462647430144, 122313258912768, 519831368060928, 1906048364064768, 6099354776976384, 17189090745007104, 42972726870678528, 95862236872055808, 191724473749552128, 345104052753546240, 560794085727912960, 824697184896549888, 1099596246530546688, 1331090193169701888, 1464199212487216128]\n",
      "[0, 64415662080, 795446378496, 7159713792000, 50118518833152, 284005346279424, 1338882670067712, 5355530941415424, 18446829010993152, 55340487207075840, 145897648233824256, 340427845994987520, 707042449467949056, 1313078834800803840, 2188464724726038528, 3282697087132581888, 4441296059092451328, 5428250738910117888, 5999645553541398528]\n",
      "[0, 733235937280, 8566180446208, 72820803371008, 480623476867072, 2563329987936256, 11351893726953472, 42569604508254208, 137168728087953408, 384072440630968320, 942723264970719232, 2042567075389603840, 3928013607536263168, 6733737613706887168, 10325064341605285888, 14196963470120747008, 17537425463349772288, 19486028292733370368]\n",
      "[0, 6736634707968, 74216393146368, 593810533122048, 3681684279263232, 18408466760859648, 76263683652845568, 266922921137799168, 800768786095669248, 2081998861994557440, 4731815609876348928, 9463631231093833728, 16743347571428425728, 26310974761582460928, 36835364670751899648, 46044205841275158528, 51461171235700604928]\n",
      "[0, 50802618138624, 525860117544960, 3944577479344128, 22879012098539520, 106769076591919104, 411823856567844864, 1338427750744719360, 3717855034556940288, 8922852217896173568, 18656872924400713728, 34204267108401020928, 55253046926739898368, 78932924222371135488, 99981704040710012928, 112479417057848721408]\n",
      "[0, 318076016918528, 3080675905241088, 21568844388630528, 116474775936696320, 504726314087874560, 1802595741621813248, 5407788595882754048, 13819905255824949248, 30403792385425276928, 58043604268092489728, 96739340903826587648, 141388267791212085248, 181784915927418011648, 206022904809141567488]\n",
      "[0, 1665786036879360, 15024978747457536, 97684983644160000, 488441370428571648, 1953777820870115328, 6419565098406248448, 17653811218458083328, 41192231660471451648, 82384467433994846208, 142300446740937965568, 213450672167932919808, 279127803331312877568, 319003204394793566208]\n",
      "[0, 7328710734643200, 61226143394562048, 367461556235010048, 1690398539705745408, 6198183816717139968, 18594593328498475008, 46486514730006478848, 98138221029095374848, 176648814603710496768, 273002724899829055488, 364003640179496583168, 420004203428522754048]\n",
      "[0, 27130189167198208, 208603026405982208, 1147724959116689408, 4820735184829677568, 16069329001075703808, 43616905693923115008, 98138151231850283008, 185372144092533751808, 296595484989905174528, 404448421617659281408, 471856507010005598208]\n",
      "[0, 84426747663089664, 592997394300272640, 2966327078607126528, 11272980973681115136, 33819612974596227072, 82133824405128609792, 164267983837033660416, 273780196412907061248, 383292408988780462080, 452981998809790808064]\n",
      "[0, 220064731153563648, 1399358984225292288, 6300800723554664448, 21425249519199584256, 57135753620027867136, 122434961118685298688, 214261971663672311808, 309489982599214399488, 371388189707316756480]\n",
      "[0, 477333388148080640, 2717992468984365056, 10880393406316544000, 32646795905869021184, 76179600904973975552, 141478808403631407104, 212219616527176957952, 259380155276207325184]\n",
      "[0, 852882450882232320, 4289682845548412928, 15029684078880227328, 39087286841543491584, 78180891330871296000, 122859296461531643904, 153575699988860633088]\n",
      "[0, 1236772460364300288, 5398987471205695488, 16220746499393323008, 35699912750131052544, 59507782612143833088, 76513403942152962048]\n",
      "[0, 1424402470376833024, 5272139013732433920, 13208095634403360768, 23789371128631263232, 31725327749302190080]\n",
      "[0, 1261808340128759808, 3832158662613270528, 7687684146340036608, 10772104533321449472]\n",
      "[0, 817838738972344320, 1939446152420130816, 2920852639186944000]\n",
      "[0, 356065845538979840, 605311937416265728]\n",
      "[0, 87397980268658688]\n",
      "n = 51\n",
      "[0, 2448, 39198, 460598, 4237518, 31781398, 199768798, 1073757298, 5010867398, 20544556338, 74707477598, 242799302198, 709721037198, 1875691312598, 4501659150238, 9847379391148, 19694758782298, 36107057767548, 60811886766398, 94258424487918, 134654892125598, 177499630529198, 216086506731198, 243097320072598, 126410606437751]\n",
      "[0, 220892, 3389820, 38137484, 335611388, 2405216156, 14431297916, 73960402628, 328712901244, 1281980315420, 4428659271932, 13655032755532, 37813936861820, 94534842154844, 214278975551228, 441950387074616, 831906610964156, 1432728052216188, 2262202187709884, 3280193172179420, 4373590896239292, 5367588827202812, 6067709109011900, 3160265160943702]\n",
      "[0, 9525208, 139828948, 1503251008, 12627376636, 86287127416, 493069342948, 2403713082568, 10149010822748, 37551340069040, 122895294792340, 358444609828648, 937470518028268, 2209751935364848, 4714137462122116, 9133641332870236, 16118190587425108, 25968195946412748, 38268920342086308, 51663042461819740, 63963766857493300, 72686098701698188, 37923181931320994]\n",
      "[0, 261160200, 3659835480, 37515870000, 300128894520, 1950839334360, 10590271896120, 48980008521360, 195920034914520, 685720122891720, 2119498562243160, 5828621046652320, 14347374884471160, 31769187244521720, 63538374489319800, 115163303762116680, 189680735608371000, 284521103412694680, 389344667827999800, 486680834785068840, 556206668325832440, 290744394806691420]\n",
      "[0, 5109896400, 68205233460, 665053016460, 5054442140580, 31169090565900, 160298204668980, 701304665480160, 2649373197207660, 8742931564451280, 25433982744292500, 65704455432163380, 151625666389685460, 314081737527857460, 586285910057150100, 989357473225525740, 1513134959053949700, 2101576332021685260, 2654622735186850260, 3052816145465769060, 1599094171434591930]\n",
      "[0, 75909293544, 962654571144, 8905358700504, 64119186799752, 374029060647144, 1816712956143624, 7493941248606624, 26645124688515144, 82599886739030472, 225272418547487304, 544408344961140744, 1172571820028739144, 2261388510145909704, 3919740084324369480, 6124593881811639864, 8646485480244792264, 11048287002562080264, 12792753371403057864, 6716195519989041492]\n",
      "[0, 889278835536, 10685280595080, 93506022743952, 635848301976888, 3497171361378240, 15987073604796840, 61949913860577288, 206499715824408552, 598849178297664840, 1524343364897259816, 3429772572602308296, 6859545146471395560, 12249187762551389832, 19598700420842291112, 28173131855515009272, 36459347107509652872, 42535904958972391512, 22387318399492489716]\n",
      "[0, 8423356263504, 95603084841264, 788822539499904, 5048536567781616, 26084161398802416, 111789307138904304, 405236273531644464, 1260735101480849904, 3403984796764122480, 8045782265158375920, 16762046400254251824, 30945316442570026224, 50838734164259683824, 74563476780496979184, 97864563278587179984, 115134780330112858224, 60765578507931554712]\n",
      "[0, 65619150542400, 701070317312820, 5434085904292500, 32605101311027700, 157591772182009620, 630367440259202100, 2127490389170311620, 6146083567826447700, 15365209095331701060, 33524092710114775860, 64254511135132287060, 108738403540577215860, 163107605369454351060, 217476807198331486260, 258253708569989337660, 136722551599323092130]\n",
      "[0, 425352707980200, 4261260765401640, 30899511164161640, 173041215291945000, 778688476358152360, 2892273815997365800, 9038357501000868040, 24102288101499648040, 55435263750537110440, 110870528360372620840, 194023425275125886440, 298497577809046656040, 405103855904884176040, 486124627257720691240, 258253708257517192220]\n",
      "[0, 2312200134612368, 21624931673713368, 145998922785523808, 759216774615058760, 3163420098454664048, 10846024704709041848, 31182331015382394848, 76223483510873747048, 160069321233249956528, 291035133873986349848, 460805631741607600448, 638038569075937477448, 774761120733849096848, 413205931235641187644]\n",
      "[0, 10590399694896112, 91998830240808400, 575140168045896544, 2760779553354628624, 10583067879722722384, 33261130674655431184, 87310513669245053824, 194023398043178411344, 368644481564160269104, 603236442253964179024, 854584971564468368224, 1051796894561940885904, 563462623090012827272]\n",
      "[0, 40957036485831648, 328541166131717448, 1889712155637954648, 8315163280868888808, 29103387509557205208, 83152770504146827848, 197488003761932568048, 394976133934471573848, 671459516176026181968, 976668444624495554568, 1220835587383271052648, 657373013452938506724]\n",
      "[0, 133703526039930000, 983571757013739600, 5165818051542750000, 20664730790091435600, 65439367590343194000, 168273423538174155600, 357581571987590244000, 635700950573769435600, 953551668957974226000, 1213611347635959963600, 657372833560921653000]\n",
      "[0, 367424235195444000, 2458547382459949200, 11684090679215119200, 42066879936528812400, 119192421897402033600, 272441875404072200400, 510829914192225793200, 794625198463837213200, 1033013237251990806000, 563461838387298383400]\n",
      "[0, 845395240284473760, 5094736395153521760, 21667166899142808960, 69344774656773527520, 173368646127967822560, 346741765246624980960, 563458164144946428960, 751279043190158350560, 413203697404121559600]\n",
      "[0, 1614749638850238240, 8658032603045685300, 32496836481861044580, 91010264184407835540, 197201299644585345060, 338066958928494286260, 464846052284012333340, 258248397010722805890]\n",
      "[0, 2528357987147083560, 11876908527858989160, 38647757803533991560, 92784364116565663080, 170122373135182336680, 243041067352735200360, 136711928305024446780]\n",
      "[0, 3187005866151786000, 12854256993478870200, 35411176290575400000, 70857763757441375400, 106304351224307350800, 60747872926482098700]\n",
      "[0, 3149730943740654000, 10612170410449280400, 23937955172428970400, 38329802715367035600, 22363089700558643400]\n",
      "[0, 2345338118108425440, 6343073546702332440, 11140356061015020840, 6689543950513804380]\n",
      "[0, 1233586932251834160, 2512862269401884400, 1576249968988454760]\n",
      "[0, 407042152729561440, 276207175066488120]\n",
      "[0, 31602651609438000]\n",
      "n = 52\n",
      "[0, 2548, 41648, 499798, 4698118, 36018918, 231550198, 1273526098, 6084624698, 25555423738, 95252033938, 317506779798, 952520339398, 2585412349798, 6377350462838, 14349038541388, 29542138173448, 55801816549848, 96918944533948, 155070311254318, 228913316613518, 312154522654798, 393586137260398, 459183826803798, 495918532948102]\n",
      "[0, 235000, 3684600, 42375000, 381376600, 2796763000, 17180116600, 90195613000, 410891126600, 1643564507000, 5827183252600, 18452746967000, 52519356752600, 135049774507000, 315116140516600, 669621798598000, 1299854079631600, 2310851697123000, 3770336979516600, 5655505469275000, 7809983743284600, 9939979309635000, 11668671363484600, 12641060643775000]\n",
      "[0, 10368000, 155654400, 1712294400, 14725804800, 103080691200, 603758380800, 3018791942400, 13081431782400, 49709440800000, 167204482713600, 501613448160000, 1350497745062400, 3279780238022400, 7215516523660800, 14431033047331200, 26315413203964800, 43859022006614400, 66942717799574400, 93719804919408000, 120496892039241600, 142405417864560000, 154788497678870400]\n",
      "[0, 291161600, 4177241600, 43863833600, 359685555200, 2397905369600, 13359759833600, 63458860313600, 260886426649600, 939191136704000, 2988335435609600, 8466950401433600, 21493027942553600, 49126921011929600, 101528970091635200, 190366818922073600, 324743396984921600, 505156395310041600, 717853824914393600, 933209972388800000, 1110964252843865600, 1211961003102425600]\n",
      "[0, 5842073600, 79923712000, 799295411200, 6234548249600, 39485506790400, 208709135078400, 939191130521600, 3652409970739200, 12418193916057600, 37254581761126400, 99345551373798400, 236900930208025600, 507644850453171200, 981446710882176000, 1717531744048665600, 2727844534669337600, 3940219883414144000, 5184499846599603200, 6221399815920819200, 6813914084104371200]\n",
      "[0, 89115586560, 1159808348160, 11019104194560, 81542067425280, 489252948602880, 2446265178255360, 10396627361218560, 38120967281295360, 121987095539527680, 343781814900142080, 859454537413570560, 1917244737441116160, 3834489474991042560, 6902081055070924800, 11215881714558259200, 16493943697930997760, 21991924930610933760, 26621803863394037760, 29283984249744322560]\n",
      "[0, 1073594368000, 13257439641600, 119328563200000, 835308647219200, 4733422437990400, 22314711167795200, 89258849023590400, 307447150183219200, 922341453451264000, 2431627470563737600, 5673797433249792000, 11784040824465817600, 21884647246680064000, 36474412078767308800, 54711618118876364800, 74021600984874188800, 90470845648501964800, 99994092559023308800]\n",
      "[0, 10474799104000, 122374006374400, 1040297191014400, 6866049669529600, 36618999827660800, 162169910385049600, 608137207260774400, 1959553258399334400, 5486749151870976000, 13467475213867417600, 29179529648422912000, 56114480107660902400, 96196251624384102400, 147500919165789798400, 202813763858867814400, 250534649476425318400, 278371832753333862400]\n",
      "[0, 84207933849600, 927704914329600, 7422631664025600, 46021053490790400, 230105834510745600, 953296045660569600, 3336536514222489600, 10009609826195865600, 26024985774931968000, 59147695123454361600, 118295390388672921600, 209291844642855321600, 328887184519780761600, 460442058384398745600, 575552573015939481600, 643264640446257561600]\n",
      "[0, 564473534873600, 5842890194944000, 43828638659379200, 254211245539328000, 1186323073243545600, 4575820628531609600, 14871419452719104000, 41309500383966003200, 99142802421068595200, 207298588048896819200, 380047412315566899200, 613922743630443315200, 877032491359679283200, 1110907822674555699200, 1249771300642763571200]\n",
      "[0, 3180760169185280, 30806759052410880, 215688443886305280, 1164747759366963200, 5047263140878745600, 18025957416218132480, 54077885958827540480, 138199052558249492480, 304037923854252769280, 580436042680924897280, 967393409038265876480, 1413882677912120852480, 1817849159274180116480, 2060229048091415674880]\n",
      "[0, 15143509426176000, 136590715885977600, 888045305856000000, 4440376094805196800, 17761616553364684800, 58359682712784076800, 160489192895073484800, 374474833277013196800, 748949703945407692800, 1293640424917617868800, 1940460656072117452800, 2537525484830117068800, 2900029130861759692800]\n",
      "[0, 61072589455360000, 510217861621350400, 3062179635291750400, 14086654497547878400, 51651531805976166400, 154954944404153958400, 387387622750053990400, 817818508575794790400, 1472073455030920806400, 2275022707498575462400, 3033363668162471526400, 3500035028571022950400]\n",
      "[0, 208693762824601600, 1604638664661401600, 8828653531666841600, 37082578344843673600, 123610223085197721600, 335514659184023961600, 754908855629617561600, 1425939569942567321600, 2281503730691578265600, 3111141704751225241600, 3629665438538504601600]\n",
      "[0, 603048197593497600, 4235695673573376000, 21188050561479475200, 80521292669150822400, 241568664104258764800, 586670174322347212800, 1173342741693097574400, 1955572831520764723200, 2737802921348431872000, 3235585705784220057600]\n",
      "[0, 1467098207690424320, 9329059894835281920, 42005338157031096320, 142834996794663895040, 380905024133519114240, 816233074124568657920, 1428413144424482078720, 2063266550661429329920, 2475921264715445043200]\n",
      "[0, 2983333675925504000, 16987452931152281600, 68002458789478400000, 204042474411681382400, 476122505656087347200, 884242552522696294400, 1326372603294855987200, 1621125970476295782400]\n",
      "[0, 5016955593424896000, 25233428503225958400, 88409906346354278400, 229925216714961715200, 459887596063948800000, 722701743891362611200, 903386470522709606400]\n",
      "[0, 6870958113135001600, 29994374840031641600, 90115258329962905600, 198332848611839180800, 330598792289687961600, 425074466345294233600]\n",
      "[0, 7496855107246489600, 27748100072275968000, 69516292812649267200, 125207216466480332800, 166975409206853632000]\n",
      "[0, 6309041700643799040, 19160793313066352640, 38438420731700183040, 53860522666607247360]\n",
      "[0, 3894470185582592000, 9235457868667289600, 13908822091366400000]\n",
      "[0, 1618481116086272000, 2751417897346662400]\n",
      "[0, 379991218559385600]\n",
      "n = 53\n",
      "[0, 2650, 44198, 541448, 5197918, 40717038, 267569118, 1505076298, 7358150798, 31640048438, 120807457678, 412758813738, 1270027119198, 3537932689198, 8962762812638, 20726389004228, 43891176714838, 85343954723298, 152720761083798, 251989255788268, 383983627867838, 541067839268318, 705740659915198, 852769964064198, 955102359751902, 495918532948103]\n",
      "[0, 249696, 3998196, 46980996, 432226836, 3241702596, 20376417396, 109523244396, 511108474596, 2095544746476, 7620162714996, 24765528824196, 72391545794196, 191320513884996, 459169233324276, 1004432697897096, 2008865395794396, 3682919892289896, 6202812450172596, 9614359297767636, 13734798996810996, 18104962313978196, 22040823686582196, 24795926647404996, 12893881856650602]\n",
      "[0, 11265492, 172880820, 1945011684, 17116180788, 122666023956, 735996193716, 3771980534028, 16764357963444, 65380996086420, 225861622868532, 696406670532132, 1928510779952820, 4821276949897044, 10928227753112628, 22539469740805416, 42427237159171956, 73069130663025588, 115372311573204084, 167289851781150420, 223053135708203892, 273747030187343412, 309453164559606900, 161173523208128802]\n",
      "[0, 323857072, 4754184232, 51110534272, 429330805624, 2933762332144, 16764357660232, 81726244807312, 345066367973432, 1276745562347360, 4178440022939560, 12187116734174032, 31873997612961112, 75131565802404832, 160280673712151944, 310543805317588024, 548018479972453672, 882918662178033432, 1301143291630934472, 1756543443701871160, 2174768073154772200, 2471327355857738392, 1289388185664913796]\n",
      "[0, 6659585100, 93325804740, 956654685000, 7653286810260, 49746403026180, 270051933351060, 1248990217294680, 4995960890320260, 17485863133738860, 54047213337200580, 148629836689634160, 365858059554014580, 810114274735303860, 1620228549477654900, 2936664245933975340, 4836858758013460500, 7255288137023714340, 9928289029613994900, 12410361287019255420, 14183270042308727220, 7413982067570631210]\n",
      "[0, 104241886560, 1391386762584, 13567081535784, 103110619667832, 635849447544360, 3270083375247192, 14306615175795264, 54047213223036264, 178355803914806112, 518853247983567000, 1340370890816132952, 3093163594349583384, 6407267445568292184, 11960232565165862040, 20182892453800725096, 30867953164700573880, 42872157173242379304, 54154303797811745304, 62277449367501688824, 32621521097265675372]\n",
      "[0, 1290457990248, 16365127709448, 151391097908568, 1090026175595784, 6358494031001448, 30884120254441608, 127397001226312608, 452967119704757448, 1404198074563518024, 3829631115307284168, 9254941864339392648, 19933720940488565448, 38443604672480464968, 66635581433514281160, 104118095990797877688, 146990253164161468488, 187820879043555364488, 217476807313851983688, 114175323839813705364]\n",
      "[0, 12958063032096, 155699802956880, 1362516331411872, 9265218114520368, 50958782694368640, 232954501098468240, 902698744825554768, 3008995859155667472, 8726088026623116240, 22211860459931500176, 49976686057919349456, 99953372134297478160, 178488164540034537552, 285581063275130527632, 410522778466075849392, 531264772137997798992, 619808900830740562032, 326215210964033421576]\n",
      "[0, 107397792359676, 1218939331726116, 10057487378623776, 64368841239215604, 332573057834730804, 1425313666021029876, 5166762487528466916, 16074372543880836276, 43400806158742561620, 102583723880769292980, 213716091603241710756, 394552784642767834356, 648193860594310968756, 950684328951336484596, 1247773181801986544796, 1467968449208938942356, 774761125976127322578]\n",
      "[0, 743683706147200, 7945463596211960, 61586306915315000, 369524481524980600, 1786040084729442360, 7144164322937623800, 24111557743930198360, 69655613768699740600, 174139036413759278680, 379939717381300793080, 728217792864832586680, 1232368573459875113080, 1848552860853815978680, 2464737148247756844280, 2926875363793212493480, 1549522251458995044140]\n",
      "[0, 4338597621398040, 43464859807096728, 315175013874448728, 1765020395977839000, 7942622458853154072, 29501192923173131160, 92191246510208854008, 245843338635296410008, 565439690255478526488, 1130879389275800732568, 1979038937806284041688, 3044675293652275891608, 4132059330229818595608, 4958471198028751050648, 2634187824226675360644]\n",
      "[0, 21440401248223776, 200522093701705776, 1353808193102129856, 7040010091885090320, 29333531822034157536, 100572229080029297136, 289145251233545843136, 706799574373556563536, 1484279160526499596896, 2698689423195146153136, 4272924948876725022336, 5916357640522329336336, 7184148574077509807136, 3831545907821400103608]\n",
      "[0, 90018397406616952, 781990057046871400, 4888691428390120624, 23466626203514343304, 89956076977643140264, 282719610734571165064, 742139366188582957504, 1649198883367016496424, 3133478093295362287384, 5127509759158695521704, 7263972258297981129904, 8940273603776497530184, 4789432296265109031812]\n",
      "[0, 321355209350371392, 2577784534264244592, 14826972298082413392, 65242050357586666032, 228349655844218071632, 652429430109459726192, 1549521260285932456992, 3099043512408930810192, 5268374665381128504672, 7663090873207580505072, 9578863839468742105392, 5157849797861517514296]\n",
      "[0, 974125689719490000, 7166022801100102800, 37636674375525750000, 150557324327809030800, 476772535301071842000, 1225992085778125990800, 2605237167338157492000, 4631535497037463030800, 6947305016693812218000, 8842025532776279734800, 4789430644515286329000]\n",
      "[0, 2498484799329019200, 16718122200727654560, 79451816618662810560, 286054783568395924320, 810508468902333828480, 1852604752747690962720, 3473643416507135393760, 5403451349554093049760, 7024490013313537480800, 3831540501033629007120]\n",
      "[0, 5389394656813520220, 32478944519103701220, 138128188982035407120, 442072938436931237940, 1105225119065794868820, 2210478753447234253620, 3592045796424033484620, 4789403900337259484820, 2634173570951274942450]\n",
      "[0, 9688497833101429440, 51948195618274111800, 194981018891166267480, 546061585106447013240, 1183207797867512070360, 2028401753570965717560, 2789076313704074000040, 1549490382064336835340]\n",
      "[0, 14327361927166806840, 67302481657867605240, 219003960886692618840, 525778063327205424120, 964026781099366574520, 1377232714998832802040, 774700927061805198420]\n",
      "[0, 17109189386709588000, 69007063859728671600, 190102104296773200000, 380394310697843173200, 570686517098913146400, 326120159921114424600]\n",
      "[0, 16063627813077335400, 54122069093291330040, 122083571379387749040, 195481993848371881560, 114051757472849081340]\n",
      "[0, 11391642287955209280, 30809214369697043280, 54110300867787244080, 32492070616781335560]\n",
      "[0, 5719357594985776560, 11650543249045100400, 7308068038037381160]\n",
      "[0, 1805143459931098560, 1224918776381816880]\n",
      "[0, 134311269340111500]\n",
      "n = 54\n",
      "[0, 2754, 46850, 585648, 5739368, 45914958, 308286158, 1772645418, 8863227098, 38998199238, 152447506118, 533566271418, 1682785932938, 4807959808398, 12500695501838, 29689151816868, 64617565719068, 129235131438138, 238064715807098, 404710016872068, 635972883656108, 925051467136158, 1246808499183518, 1558510623979398, 1807872323816102, 1946939425648110]\n",
      "[0, 264992, 4331392, 51978992, 488604272, 3745967472, 24081220592, 132446714192, 632800968592, 2657764068752, 9906211529552, 33020705098992, 99062115297392, 268882884378992, 663244448135152, 1492300008304352, 3072382370038592, 5803388921184192, 10079570231530592, 16127312370449072, 23806984927805872, 32464070356098992, 40932958275081392, 47755117987594992, 51575527426602608]\n",
      "[0, 12220000, 191599200, 2203500000, 19831583200, 145431676000, 893366063200, 4690171876000, 21366338583200, 85465354364000, 303013529135200, 959542842284000, 2731006551135200, 7022588274364000, 16386039306863200, 34820333527096000, 67592412140843200, 120164288250396000, 196057522934863200, 294086284402300000, 406119154650799200, 516878924101020000, 606770910901199200, 657335153476300000]\n",
      "[0, 359424000, 5396019200, 59359539200, 510494566400, 3573463961600, 20930290534400, 104651454003200, 453489635123200, 1723260614400000, 5796422067404800, 17389266202880000, 46817255162163200, 113699048251443200, 250137906153574400, 500275812307481600, 912267657737446400, 1520446096229299200, 2320680883718579200, 3248953237206144000, 4177225590693708800, 4936721152638080000, 5366001252867507200]\n",
      "[0, 7570201600, 108608281600, 1140459673600, 9351824435200, 62345539609600, 347353755673600, 1649930368153600, 6783047092889600, 24418969554304000, 77696721325849600, 220140710437273600, 558818726506393600, 1277299946310169600, 2639753222382515200, 4949537291973913600, 8443328321607961600, 13134066278061081600, 18664199447774233600, 24263459282108800000, 28885070573940505600, 31510986080663065600]\n",
      "[0, 121515130880, 1662413209600, 16625344552960, 129678603591680, 821298541240320, 4341150009630720, 19535175514849280, 75970127391375360, 258298433453998080, 774895300631429120, 2066387468575006720, 4927539348326932480, 10559012889425960960, 20414091586349260800, 35724660276212244480, 56739166321122222080, 81956573575014195200, 107837596809271746560, 129405116171153039360, 141729412949370920960]\n",
      "[0, 1544670167040, 20103344701440, 190997806039040, 1413395835371520, 8480384442449920, 42401929756426240, 180208207594455040, 660763432875786240, 2114442989351813120, 5958884791602462720, 14897211981835223040, 33232242115646013440, 66464484233178071040, 119636071621229363200, 194408616385676492800, 285895024097470627840, 381193365463922851840, 461444600298829987840, 507589060328901591040]\n",
      "[0, 15950544896000, 196967674675200, 1772881510400000, 12410299901542400, 70325133364428800, 331532851635814400, 1326131471207628800, 4567786231293542400, 13703358736990208000, 36127036705518387200, 84296419008282624000, 175077177963492147200, 325143330522103808000, 541905550884542873600, 812858326337591705600, 1099749500346702233600, 1344138278206314905600, 1485626518019774873600]\n",
      "[0, 136172388352000, 1590862082867200, 13523863483187200, 89258645703884800, 476046997759590400, 2108208835005644800, 7905783694390067200, 25474192359191347200, 71327738974322688000, 175077177780276428800, 379333885429497856000, 729488241399591731200, 1250551271116993331200, 1917511949155267379200, 2636578930165281587200, 3256950443193529139200, 3618833825793340211200]\n",
      "[0, 973069457817600, 10720145676697600, 85772632562073600, 531798840338022400, 2659000754346393600, 11015865416522137600, 38555533053237657600, 115666602436041113600, 300733168954769408000, 683484476982139289600, 1366968955602442649600, 2418483538095217049600, 3800474132228577689600, 5320663785775274393600, 6650829732628634009600, 7433280289601198489600]\n",
      "[0, 5870524762685440, 60766058027417600, 455817842057543680, 2643796953609011200, 12337759961732874240, 47588534536728739840, 154662762308278681600, 429618803993246433280, 1031085145179113390080, 2155905315708526919680, 3952493088081895751680, 6384796533756610478080, 9121137910140664545280, 11553441355815379271680, 12997621526684741140480]\n",
      "[0, 30072641599569920, 291263903768248320, 2039236196743249920, 11012160634014924800, 47719578786489958400, 170427233753335070720, 511281830883460382720, 1306609224187086110720, 2874540370985662545920, 5487758948983289937920, 9146264958179968286720, 13367618045714597150720, 17186937505864975646720, 19478529181955202744320]\n",
      "[0, 131243748360192000, 1183786204345139200, 7696392650752000000, 38483259488311705600, 153934010129160601600, 505783916844128665600, 1390906338423970201600, 3245448555067447705600, 6490897434193533337600, 11211550349286021529600, 16817325685958351257600, 21991887535194347929600, 25133585800801917337600]\n",
      "[0, 488580715642880000, 4081742892970803200, 24497437082334003200, 112693235980383027200, 413212254447809331200, 1239639555233231667200, 3099100982000431923200, 6542548068606358323200, 11776587640247366451200, 18200181659988603699200, 24266909345299772211200, 28000280228568183603200]\n",
      "[0, 1550296523839897600, 11920172937484697600, 65584283378096537600, 275470581990267289600, 918247371490040217600, 2492394611081320857600, 5607894356105730457600, 10592693948144785817600, 16948313427994581401600, 23111338378151958937600, 26963228972000319897600]\n",
      "[0, 4181134169981583360, 29367490003442073600, 146903817226257694720, 558280962506112368640, 1674876071122860769280, 4067579875301607342080, 8135176342405476515840, 13558638298543968747520, 18982100254682460979200, 22433394226770592399360]\n",
      "[0, 9536138349987758080, 60638889316429332480, 273034698020702126080, 928427479165315317760, 2475882656867874242560, 5305514981809696276480, 9284685438759133511680, 13411232579299290644480, 16093488220650392780800]\n",
      "[0, 18250982488014848000, 103923241461166899200, 416015042006220800000, 1248259843459697868800, 2912749446366652006400, 5409483850727083212800, 8114279455450883686400, 9917476525266750668800]\n",
      "[0, 28986854539788288000, 145793142463083315200, 510812792223380275200, 1328456807686445465600, 2657128332813926400000, 4175610075816761753600, 5219566274131211059200]\n",
      "[0, 37609454935054745600, 164179735966488985600, 493262466648218009600, 1085611381875330252800, 1809593389375134105600, 2326723394732136857600]\n",
      "[0, 38983646557681745920, 144290120375835033600, 361484722625776189440, 651077525625697730560, 868272127875638886400]\n",
      "[0, 31244777946045480960, 94891547836138127360, 190361702671277096960, 266737826539388272640]\n",
      "[0, 18410222695481344000, 43658528106427187200, 65750795341004800000]\n",
      "[0, 7318349394477056000, 12441193970610995200]\n",
      "[0, 1646628613757337600]\n",
      "n = 55\n",
      "[0, 2860, 49606, 632500, 6325018, 51654328, 354201118, 2080931578, 10635872518, 47861426338, 191445705358, 686013777538, 2216352204358, 6490745741338, 17308655310238, 42189847318708, 94306717535938, 193852697157208, 367299847245238, 642774732679168, 1040682900528178, 1561024350792268, 2171859966319678, 2805319123162918, 3366382947795502, 3754811749464214, 1946939425648111]\n",
      "[0, 280900, 4684988, 57393488, 550979308, 4316006028, 28362326508, 159538087588, 779963984588, 3353845134428, 12805590513868, 43752434256228, 134622874634988, 375020865054988, 950052858139628, 2196997234448168, 4652464731772828, 9046459200669588, 16188400674882588, 26710861113556408, 40702264553990828, 57353190962441708, 74808509951010988, 90393616190804988, 101240850133701612, 52567364492498918]\n",
      "[0, 13233888, 211904388, 2489992788, 22908022308, 171810237588, 1079950121988, 5804731952988, 27088749153588, 111063871563228, 403868623894788, 1312573027682388, 3836751927092388, 10139987235904788, 24335969366186628, 53234932988546088, 106469865977102988, 195194754291364488, 328749059859147588, 509561042781684708, 727944346830982788, 959563002640844388, 1168163655388856388, 1314184112312464788, 683375738402481906]\n",
      "[0, 398047384, 6108455640, 68723746168, 604771721176, 4334199513112, 26005198844632, 133276645535656, 592340648041688, 2310128528386840, 7980444008021464, 24606369025468664, 68140714224999640, 170351785563028888, 386130713943312856, 796394597508458032, 1499095712957409112, 2581775950093570776, 4076488342253210968, 5910908096267314840, 7881210795023204184, 9672395066619467224, 10934011814439443800, 5694797820020551004]\n",
      "[0, 8582212408, 125985882148, 1354429158208, 11377266349036, 77744701801816, 444255477996148, 2165745487393768, 9144258751295948, 33833757402205040, 110728660607898340, 322958593455611848, 844660936743469468, 1990986493763728048, 4247437853372026516, 8229410840916082636, 14522489719270022308, 23397344547717885948, 34480297228219763508, 46548401258099585740, 57631353938601463300, 65490174930230067388, 34168786920120215594]\n",
      "[0, 141183204120, 1978507060488, 20281079322000, 162249680377512, 1054623744155016, 5725100987042472, 26478592606647216, 105914370874789512, 370700298435263832, 1145800922748652296, 3150952537820244192, 7756190862545109096, 17174422624388441832, 34348845248926283880, 62257282013800277208, 102541405669885362600, 153812108504902744008, 210479727427816691880, 263099659284808214904, 300685324896945017064, 157176419832497381652]\n",
      "[0, 1841606662560, 24581166138984, 239685107132184, 1821620947465032, 11233340239950360, 57771472962700392, 252750201439049664, 954834100273640664, 3150952535828241312, 9166407381043017000, 23679885737751682152, 54645890166842639784, 113195058205039828584, 211297441984596896040, 356564433350479476696, 545333839243043471880, 757408110060615367704, 956726033761340833704, 1100234938825863169224, 576313539385026931572]\n",
      "[0, 19541220995184, 247814791028784, 2292493768329744, 16506110659021872, 96285766755164784, 467673820995830064, 1929154589998448064, 6859216384100612784, 21263570843390415792, 57991556888938874544, 140146262517139374384, 301853488527398276784, 582146013611847040944, 1009053090278930543280, 1576645453574939290704, 2225852405057302237104, 2844144739802409805104, 3293220225038330038704, 1728940618145750395512]\n",
      "[0, 171694335175272, 2063022389178660, 18053341391207304, 122764140017394876, 675203870700384480, 3086647139554704180, 11960758368938600676, 39869195133812594004, 115620666352756290180, 294307151094092377332, 662191090267431380292, 1324382180779441585620, 2364968180155457622564, 3783949088395479491124, 5439426814675505004444, 7039258230828470836644, 8212467936007312446924, 4322351545273442835882]\n",
      "[0, 1264907332236184, 14356396573663144, 118454851348235584, 758121907928539336, 3916971570053496136, 16787027622025462984, 60852980408668610344, 189320387739040960584, 511165050314079059080, 1208208303484616117320, 2517100634438180148904, 4646955019125932271304, 7634283246999662520904, 11196948763204629707464, 14695995252334508194264, 17289406179571947543304, 9124964372607721799252]\n",
      "[0, 7883047285160320, 84221914119846776, 652814853302339000, 3916959504164794360, 18932024898132089016, 75728141823138812280, 255582512085660102616, 738349505948217250360, 1845873785985848354008, 4027361004241788406648, 7719108604367225418808, 13063106878674676198648, 19594660325050449374008, 26126213771426222549368, 31024878856208052430888, 16424935865465347467884]\n",
      "[0, 41808304351653840, 418843194504750288, 3037141042790142288, 17008378361240994000, 76537998239857666512, 284284222714213809360, 888388375462012593168, 2369035808667401769168, 5448782469734611255248, 10897565023930443422928, 19070738855224191674448, 29339598284285567682768, 39818026273123706466768, 47781631544640691942608, 25383991760729780748024]\n",
      "[0, 189390211025976688, 1771278494365067688, 11958639039068813728, 62186755811651631160, 259112864427968391568, 888388023540258791368, 2554116385896321614368, 6243396240299749644568, 13111132584650746439248, 23838423238223791019368, 37744170381744404363968, 52261159157947242470968, 63459979071018003296368, 33845322185755700915204]\n",
      "[0, 733996163469338224, 6376226618997566800, 39861637800719445088, 191343259813270799248, 733488012279244066768, 2305252210604964884368, 6051290216614599499648, 13447313972069519124688, 25549898299177569420208, 41808925728524748100048, 59229312259968153828448, 72897615538485287553808, 39052294108007812105544]\n",
      "[0, 2433118013652811968, 19517511473714994768, 112261361685481129968, 493975524136013328528, 1728933108534793970928, 4939822827971623641168, 11732089542164917174368, 23464186593953333277168, 39889122466457115821088, 58020545182857395252688, 72525683355977618797968, 39052291326665775465384]\n",
      "[0, 6883821540684396000, 50639894461107393120, 265965832253715300000, 1063938425249850484320, 3369192582794241016800, 8663677406165423668320, 18410342649189646276800, 32729517512398072084320, 49094288784636273007200, 62483647098285710125920, 33845309887908023391600]\n",
      "[0, 16552461795554752200, 110757559579820711460, 526368285098641119960, 1895112941140622998620, 5369618606477961613680, 12273506486953452628020, 23012887634359771983660, 35797865190795866454660, 46537246338202185810300, 25383955819347792172170]\n",
      "[0, 33604460801307831960, 202515771707352489960, 861269884240926656160, 2756454792606747718920, 6891403683586720946760, 13782985168553342993160, 22397462024761620551160, 29863341966808794434760, 16424846971813831994100]\n",
      "[0, 57054487239375084480, 305917151974280880600, 1148221555692423575160, 3215696001182410189080, 6967779254108682192120, 11945032548806798114520, 16424560514035102444680, 9124776694378872474780]\n",
      "[0, 79931598119983238160, 375477002933366639760, 1221811571262600926160, 2933288142772830260880, 5378254673501729310480, 7683508831046119842960, 4322015698344807949080]\n",
      "[0, 90678703749560816400, 365737438456561959480, 1007541152772897960000, 2016089846698568817960, 3024638540624239675920, 1728436847581906450380]\n",
      "[0, 81083073723152264400, 273187586851851475440, 616231360295957209440, 986718635615591402160, 575689823434381077240]\n",
      "[0, 54887003751056917440, 148444396508540299440, 260713267817520357840, 156552703880855525880]\n",
      "[0, 26358778481238796320, 53693808017338288800, 33680661392694017520]\n",
      "[0, 7972716948029018640, 5410057929019691220]\n",
      "[0, 569479782002072760]\n",
      "n = 56\n",
      "[0, 2968, 52468, 682108, 6957520, 57979348, 405855448, 2435132698, 12716804098, 58497298858, 239307131698, 877459482898, 2902365981898, 8707097945698, 23799401051578, 59498502628948, 136496564854648, 288159414693148, 561152544402448, 1010074579924408, 1683457633207348, 2601707251320448, 3732884317111948, 4977179089482598, 6171702070958422, 7121194697259718, 7648690600760438]\n",
      "[0, 297432, 5059800, 63249984, 619851744, 4958815464, 33294905064, 191445705144, 957228526584, 4211805517704, 16464330660744, 57625157313144, 181740880757304, 519259659306984, 1350075114198504, 3206428396221744, 6978697097659344, 13957394195318904, 25710989307166584, 43708681822183344, 68685071434859664, 99905558450705064, 134655317911819944, 168319147389774984, 195250210972139016, 210269457969995880]\n",
      "[0, 14309568, 233895168, 2806865568, 26384630688, 202282243488, 1300385911968, 7152122566368, 34171252303968, 143519259712608, 534935422595808, 1783118075345568, 5349354226059168, 14519675756465568, 35815200199298208, 80584200448435008, 165908647982083968, 313383001743946368, 544296792502651968, 870874868004249888, 1285577186101517088, 1753059799229345568, 2210379746854395168, 2578776371330129568, 2785078481036540832]\n",
      "[0, 439920000, 6897571200, 79326000000, 713936995200, 5235540336000, 32161178275200, 168846187536000, 769188188995200, 3076752757104000, 10908487048867200, 34543542322224000, 98316235840867200, 252813177877104000, 589897415047075200, 1253532006975456000, 2433326837070355200, 4325914377014256000, 7058070825655075200, 10587106238482800000, 14620289567428771200, 18607641267636720000, 21843752792443171200, 23664065525146800000]\n",
      "[0, 9704448000, 145692518400, 1602707558400, 13783353292800, 96483526963200, 565117844428800, 2825589258086400, 12244220148326400, 46528036588800000, 156503395819929600, 469510187477760000, 1264065889378406400, 3069874302788966400, 6753723466146508800, 13507446932302003200, 24631226758911052800, 41052044598191078400, 62658383860401638400, 87721737404565888000, 112785090948730137600, 133291471121228160000, 144882033827422694400]\n",
      "[0, 163516354560, 2345938882560, 24633928949760, 201999407800320, 1346663655567360, 7502841122549760, 35638495952117760, 146513817206415360, 527449742372966400, 1678249180638351360, 4755039345445109760, 12070484492538101760, 27589678840299663360, 57018669603462328320, 106910005506636533760, 182375891746731970560, 283695831606119362560, 403146708071923445760, 524090720493550080000, 623917524397114920960, 680637299342322216960]\n",
      "[0, 2187272355840, 29923437772800, 299256201953280, 2334214864650240, 14783373742325760, 78140700173352960, 351633159267287040, 1367462293044756480, 4649371802171965440, 13948115411365724160, 37194974434350120960, 88695708269884784640, 190062232009667297280, 367453648554286694400, 643043884971820400640, 1021304993780199997440, 1475218324350255513600, 1941076742566891438080, 2329292091080754708480, 2551129433088676577280]\n",
      "[0, 23832054005760, 310165889679360, 2946823293173760, 21806678602874880, 130840217112084480, 654201201956290560, 2780355202885877760, 10194635821512130560, 32622834692856545280, 91937079641866567680, 229842699148314869760, 512726021212824207360, 1025452042454747381760, 1845813676441824460800, 2999447224236151603200, 4410951800360975400960, 5881269067157666856960, 7119430976039091240960, 7831374073645910261760]\n",
      "[0, 215332356096000, 2659063608115200, 23933900390400000, 167539048670822400, 949389300419788800, 4475693497083494400, 17902774861302988800, 61665114122462822400, 184995342949367808000, 487714995524498227200, 1138001656611815424000, 2363541902507143987200, 4389434962048401408000, 7315724936941328793600, 10973587405557488025600, 14846618254680480153600, 18145866755785251225600, 20055957993266960793600]\n",
      "[0, 1634068660224000, 19090344994406400, 162286361798246400, 1071103748446617600, 5712563973115084800, 25298506020067737600, 94869404332680806400, 305690308310296166400, 855932867691872256000, 2100926133363317145600, 4552006625153974272000, 8753858896795100774400, 15006615253403919974400, 23010143389863208550400, 31638947161983379046400, 39083405318322349670400, 43426005909520082534400]\n",
      "[0, 10509150144430080, 115777573308334080, 926344431670394880, 5743427475650641920, 28717208146941050880, 118971346498439086080, 416399756974966702080, 1249199306309244026880, 3247918224711509606400, 7381632351407104327680, 14763264720506380615680, 26119622211428344135680, 41045120628068639047680, 57463168886372963450880, 71828961112389247303680, 80279427127692943687680]\n",
      "[0, 57637879488184320, 596612206087372800, 4475302449292247040, 25957279180888473600, 121134370533377310720, 467232884542427627520, 1518507120844917964800, 4218075530115510435840, 10123381425394931466240, 21167070372410991575040, 38806295773894976471040, 62687093240519448330240, 89552990390471979171840, 113433787857096451031040, 127613011352904731197440]\n",
      "[0, 270653774396129280, 2621375133914234880, 18353125770689249280, 99109445706134323200, 429476209078409625600, 1533845103780015636480, 4601536477951143444480, 11759483017683774996480, 25870863338870962913280, 49389830540849609441280, 82316384623619714580480, 120308562411431374356480, 154682437552784780820480, 175306762637596824698880]\n",
      "[0, 1090332678684672000, 9834531543790387200, 63939262021632000000, 319707078825974169600, 1278836391842257305600, 4201897155320453529600, 11555221888445290905600, 26962187995944950169600, 53924378684069353881600, 93142110594068486553600, 139713167237192456601600, 182701834907768428953600, 208802097422046697881600]\n",
      "[0, 3769051234959360000, 31487730888631910400, 188980228920862310400, 869347820420097638400, 3187637391454529126400, 9562933711799215718400, 23907350432574760550400, 50471085100677621350400, 90847961796193969766400, 140401401377054942822400, 187201872092312528486400, 216002161763240273510400]\n",
      "[0, 11162134971647262720, 85825245149889822720, 472206840322295070720, 1983388190329924485120, 6611381074728289566720, 17945241199785510174720, 40376839363961259294720, 76267396426642457886720, 122027856681560986091520, 166401636322694104350720, 194135248598402303262720]\n",
      "[0, 28222655647375687680, 198230557523233996800, 991600766277239439360, 3768396496916258488320, 11305413480079310192640, 27456164158285849559040, 54912440311236966481920, 91520808515171789045760, 128129176719106611609600, 151425411030701498695680]\n",
      "[0, 60582525988157521920, 385235296833786347520, 1734573375660931153920, 5898245161756120842240, 15729136878925318717440, 33705624590320423403520, 58985060434469789368320, 85200771680254317035520, 102240983990014260019200]\n",
      "[0, 109505894928089088000, 623539448767001395200, 2496090252037324800000, 7489559060758187212800, 17476496678199912038400, 32456903104362499276800, 48685676732705302118400, 59504859151600504012800]\n",
      "[0, 164767383699849216000, 828718915053315686400, 2903567450532898406400, 7551228170007163699200, 15103676839152844800000, 23735046746747908915200, 29669113558219515494400]\n",
      "[0, 203091056649295626240, 886570574219040522240, 2663617319900377251840, 5862301462126783365120, 9771804302625724170240, 12564306331553539031040]\n",
      "[0, 200487325153791836160, 742063476218580172800, 1859064287789706117120, 3348398703217874042880, 4465399514788999987200]\n",
      "[0, 153383455371495997440, 465831234831950807040, 934502904022633021440, 1309440239375178792960]\n",
      "[0, 86448002222260224000, 205005262412788531200, 308742865079500800000]\n",
      "[0, 32932572275146752000, 55985372867749478400]\n",
      "[0, 7113435611431698432]\n",
      "n = 57\n",
      "[0, 3078, 55438, 734578, 7639630, 64936870, 463834798, 2840988148, 15151936798, 71214102958, 297804430558, 1116766614598, 3779825464798, 11609463927598, 32506498997278, 83297903680528, 195995067483598, 424655979547798, 849311959095598, 1571227124326858, 2693532213131758, 4285164884527798, 6334591568432398, 8710063406594548, 11148881160441022, 13292896768218142, 14769885298020158, 7648690600760439]\n",
      "[0, 314600, 5456660, 69575000, 695751980, 5681976080, 38962122980, 228902473580, 1169945976980, 5264756897180, 21059027589380, 75461515529180, 243798742479380, 713982031547180, 1903952084126180, 4640883205057880, 10373738928953180, 21323796687292880, 40402983196976180, 70705220594708480, 114475119058099580, 171712678587149480, 238904596295164580, 308585103547920980, 370302124257505220, 413029292441063540, 214163336821292210]\n",
      "[0, 15449500, 257674340, 3156641840, 30303861940, 237380331540, 1559927957940, 8774594817340, 42898019152340, 184461482393540, 704307478262740, 2406383884092540, 7404258104924340, 20626147578024340, 52252907197679540, 120834847894649240, 255885560247505540, 497555256036827340, 890362037118542340, 1469097361245602440, 2238624550469495540, 3154425502934293940, 4114468047305604340, 4971648890494274340, 5568246757353588660, 2891205047087440490]\n",
      "[0, 485242560, 7769827560, 91299735560, 839960817960, 6299708711560, 39598171139560, 212840171609560, 993254135631560, 4072341957318360, 14808516209475560, 48127677681687560, 140680903993387560, 371799531983175560, 892318876760176360, 1951947542913356560, 3903895085827109560, 7157140990683364560, 12054132194835411560, 18683904901995105960, 26691292717136035560, 35183976763497627560, 42832667364258067560, 48186750784790375560, 25057110408091003220]\n",
      "[0, 10946303060, 167982530100, 1889903019620, 16631222332340, 119190486610580, 715142968227380, 3665107752230540, 16289367821146420, 63528534530638100, 219462210220590260, 676675148200388260, 1873869641187490100, 4684674102983294420, 10618594633441103540, 21900851431482595880, 41225132106328750580, 70998838627573196340, 112103429411963301620, 162549972647351158100, 216733296863138115060, 265990864332035348660, 300685324897084704500, 156606940050565152610]\n",
      "[0, 188808672976, 2771689407256, 29797441480576, 250299859678792, 1710383439639952, 9773620515915256, 47646400722662896, 201173692528510856, 744342662848510880, 2436030533373763480, 7105089056023460656, 18582540608356328296, 43801702862802017056, 93443632774184583352, 181047038500153817992, 319494773823940490776, 514741580049793490856, 758566539020834797176, 1024064827678190886280, 1267889786649232192600, 1440783848465061482536, 751713312242644743068]\n",
      "[0, 2588358742200, 36272629442280, 371819787570000, 2974577473587720, 19334768642841960, 104960184762445320, 485440864455198960, 1941763466037807720, 6796172137979836920, 21006350250391958760, 57767463193371143520, 142196832479993666760, 314864414780454766920, 629728829563648537800, 1141383503586338415480, 1879925770614564981000, 2819888655923216973480, 3858795002843306017800, 4823493753554817273240, 5512564289777325312840, 2881567696929118663620]\n",
      "[0, 28939533268800, 386275467898320, 3766480254934320, 28625472031593360, 176523918056362800, 907837432271006160, 3971788879756494720, 15004535861442924720, 49514968420158077760, 144043544559247410000, 372112490164669290960, 858721131193241482320, 1778779486079197306320, 3320388374043665509200, 5603155381221820348080, 8569531759533540272400, 11902127443809670063920, 15034266244821070243920, 17289406181549278373520, 9056355618907566067560]\n",
      "[0, 268691788683780, 3407453376645780, 31521789314533980, 226959021561550740, 1323929292883515780, 6430515038692663380, 26525875612478660880, 94314225281383425780, 292374099096618217140, 797383907222909524980, 1927011109610666397780, 4150485467251726305780, 8004507687162896812980, 13874479991335294970100, 21678874986655415247180, 30605470569537905760180, 39106990172283134820180, 45281778094277038032180, 23772933499504067938290]\n",
      "[0, 2098486318808880, 25214718089961400, 220651950336978160, 1500450600212604040, 8252491753004699200, 37725687261224162200, 146187046731471786040, 487290162746598371160, 1413141477644799102200, 3597087402261129056280, 8093446658824161314680, 16186893320637619379800, 28905166646344482053560, 46248266635944749335960, 66481883290478394498760, 86035378376792421336760, 100374608106756041017960, 52828741108897634660780]\n",
      "[0, 13913980654598024, 157920362310294584, 1303003364830591424, 8339340987213932696, 43086687270588457496, 184657303842280092824, 669382784495354713784, 2082524265129450566424, 5622815553454869649880, 13290291338330777290520, 27688106978819981637944, 51116505210385254984344, 83977115716996287729944, 123166436395250926782104, 161655947775679590136904, 190183467975291422976344, 100374608098684939791772]\n",
      "[0, 78830472851603200, 842219141198467760, 6528148533023390000, 39169595041647943600, 189320248981320890160, 757281418231388122800, 2555825120856601026160, 7383495059482172503600, 18458737859858483540080, 40273610042417884066480, 77191086043672254188080, 130631068786746761986480, 195946603250504493740080, 261262137714262225493680, 310248788562080524308880, 164249358654653474678840]\n",
      "[0, 383242789890160200, 3839395949626877640, 27840459558909637640, 155910134978042445000, 701598317198695276360, 2605938708213626585800, 8143560108401782104040, 21716161579451182884040, 49947172639233936506440, 99894346052695731376840, 174815106172888423682440, 268946317605951037092040, 364998574170300642612040, 437998289159206342807240, 232686591140022990190220]\n",
      "[0, 1602532554835187360, 14987741106165957360, 101188484176736116160, 526195626098590725200, 2192493468236655620960, 7517129429956035926960, 21611754034507336736960, 52828737417920958530960, 110940352639352469870560, 201709735092662847086960, 319373749383991113848960, 442209808259553590138960, 536969053677844643276960, 286383495417932853897880]\n",
      "[0, 5767112712973371760, 50098923434980882000, 313198582719938497120, 1503411327104270565520, 5763120096479774810320, 18112695940467581234320, 47545851701971853211520, 105657466923403364551120, 200749200922109474015920, 328498702152694449357520, 465373167756892637223520, 572766979230955830779920, 306839453705775666543560]\n",
      "[0, 17842865433453954432, 143128417473909961632, 823249985693528286432, 3622487176997431075872, 12678842795921822453472, 36225367405125240035232, 86035323309209392612032, 172070701688991110699232, 292520231420685516021312, 425483998007620898519712, 531855011277169204518432, 286383469728882353412816]\n",
      "[0, 47326273092205222500, 348149274420113327700, 1828515096744292687500, 7314576673592722079700, 23163199006710406990500, 59562782167387287719700, 126571105713178818153000, 225015432897736745579700, 337523235394374376924500, 429575073800714257115700, 232686505479367660817250]\n",
      "[0, 107104164559471926000, 716666561987075191800, 3405912432991207246800, 12262495501498148814600, 34744590983092692794400, 79416806680287046416600, 148906919987033818717800, 231633245352208547647800, 301123358658955319949000, 164249125889897478761100]\n",
      "[0, 205360593785770084200, 1237596382656042994200, 5263315959250107343200, 16845001510374569393400, 42114133621918850230200, 84229353807825984958200, 136873379040209903368200, 182498200908275965990200, 100374064827751195519500]\n",
      "[0, 330315452438487331200, 1771099300903731414000, 6647598480324557540400, 18617187375266585305200, 40339774629050265322800, 69155451598355146978800, 95089560870729540469200, 52827654546403998538200]\n",
      "[0, 439623789659907809880, 2065123516133516518680, 6719963641944305093880, 16133084785250566434840, 29580400704259511207640, 42259298570753659136280, 23771086340896443719940]\n",
      "[0, 474983686307223324000, 1915767534772467406800, 5277596514524703600000, 10560470625563931903600, 15843344736603160207200, 9053716820667129025800]\n",
      "[0, 405415368615761322000, 1365937934259257377200, 3081156801479786047200, 4933593178077957010800, 2878449117171905386200]\n",
      "[0, 262503061418098300800, 709951461562584040800, 1246889541735966928800, 748730322908439471600]\n",
      "[0, 120811068039011149800, 246096620079467157000, 154369698049847580300]\n",
      "[0, 35079954571327682016, 23804254887686641368]\n",
      "[0, 2409337539239538600]\n",
      "n = 58\n",
      "[0, 3190, 58518, 790018, 8374210, 72576502, 528771670, 3304822948, 17992924948, 86366039758, 369018533518, 1414571045158, 4896592079398, 15389289392398, 44115962924878, 115804402677808, 279292971164128, 620651047031398, 1273967938643398, 2420539083422458, 4264759337458618, 6978697097659558, 10619756452960198, 15044654975026948, 19858944567035572, 24441777928659166, 28062782066238302, 30067266499541038]\n",
      "[0, 332416, 5876416, 76396096, 779242240, 6493686976, 45455810176, 272734862176, 1424282058976, 6551697472096, 26802398750176, 98275462084576, 325064989972576, 975194969918176, 2665532917776736, 6663832294442176, 15287615263720576, 32273854445632576, 62849084973074176, 113128352951533696, 188547254919222976, 291391212147890176, 418083043516538176, 557444058022050976, 691230631947343264, 797573806093088416, 856653347285169056]\n",
      "[0, 16656192, 283348800, 3541999104, 34711697664, 277693665984, 1864514683584, 10720959488064, 53604797488704, 235861108991424, 922002517001664, 3227008809536064, 10177489322409024, 29078540921191104, 75604206395116224, 179559990188417664, 390807037468923264, 781614074937858624, 1439815401201328704, 2447686182042267264, 3846364000352141184, 5594711273239483584, 7540697803061916864, 9425872253827399104, 10934011814439784896, 11775089646319769280]\n",
      "[0, 534223872, 8732086272, 104789647872, 985026212352, 7551870423552, 48547740713472, 267012575811072, 1275726752681472, 5358052362604032, 19970922443576832, 66569741479567872, 199709224439542272, 542067894908047872, 1337100807440466432, 3008476816741573632, 6193922857997801472, 11699632065107331072, 20320413586765673472, 32512661738825329152, 47994881614456637952, 65447565837895567872, 82520843882564086272, 96274317862991503872, 103976263292030857728]\n",
      "[0, 12317760000, 193131993600, 2221128000000, 19990235865600, 146595129408000, 900512991705600, 4727693251008000, 21537269291865600, 86149077198912000, 305437637368281600, 967219185022272000, 2752854603544281600, 7078768980558912000, 16517127621318105600, 35098896195312768000, 68133151437969945600, 121125602556399168000, 197625983118342105600, 296438974677518400000, 409368107888005593600, 521013955493828160000, 611625078188408793600, 662593834704110400000]\n",
      "[0, 217379635200, 3263512412160, 35900649308160, 308747113758720, 2161231003975680, 12658639715205120, 63293199381135360, 274270531322511360, 1042228019589120000, 3505676066366423040, 10517028199501824000, 28315075922076303360, 68765184382472847360, 151283405641681797120, 302566811283564871680, 551739479399607582720, 919565798999480156160, 1403547798472996700160, 1964966917862275891200, 2526386037251555082240, 2985728953115510784000, 3245357557734268354560]\n",
      "[0, 3052305285120, 43790859141120, 459833340395520, 3770655612272640, 25137721570590720, 140053034287595520, 665251924439531520, 2734924587853086720, 9845728524295372800, 31327318038582558720, 88760734448308715520, 225315710527377899520, 515007338352260382720, 1064348499264630128640, 1995653436123881963520, 3404349979272330117120, 5295655523314228101120, 7525405217342570987520, 9783026782546268160000, 11646460455412811857920, 12705229587723348049920]\n",
      "[0, 34996357693440, 478775004364800, 4788099231252480, 37347437834403840, 236533979877212160, 1250251202773647360, 5626130548276592640, 21879396688716103680, 74389948834751447040, 223169846581851586560, 595119590949601935360, 1419131332318156554240, 3040995712154676756480, 5879258376868587110400, 10288702159549126410240, 16340879900483199959040, 23603493189604088217600, 31057227881070263009280, 37268673457292075335680, 40818070929418825236480]\n",
      "[0, 333648756080640, 4342322455511040, 41255526104432640, 305293500440248320, 1831763039569182720, 9158816827388067840, 38924972840402288640, 142724901501169827840, 456719685699991633920, 1287119114986131947520, 3217797788076408176640, 7178164296979538903040, 14356328594366463344640, 25841391470185542451200, 41992261139306122444800, 61753325205053655613440, 82337766940207335997440, 99672033664547277373440, 109639237031042743664640]\n",
      "[0, 2679691542528000, 33090569345433600, 297844093747200000, 2084930383459123200, 11814622405224038400, 55697519074816819200, 222790087162881638400, 767388086857315123200, 2302164267814354944000, 6069342166527089049600, 14161798393391480832000, 29412965897866680729600, 54624079527713439744000, 91040132548603202764800, 136560198824715406540800, 184757916058245975244800, 225815230738660904140800, 249585255027322178764800]\n",
      "[0, 18301568994508800, 213811863937351680, 1817607252140359680, 11996361982602117120, 63980716498888949760, 283343267424758661120, 1062537328526025031680, 3423731453075317063680, 9586448118148969267200, 23530372693669152030720, 50982474201724511846400, 98043219644105128673280, 168074090838123903713280, 257713605966467935764480, 354356208214213845319680, 437734139565210316308480, 486371266186624924385280]\n",
      "[0, 107002256016015360, 1178826200957583360, 9431870577007656960, 58478534297533808640, 292393392041581608960, 1211344618893197967360, 4239706616472388239360, 12719120209694121000960, 33069712833426279628800, 75158438487054153154560, 150316877154246784450560, 265945244334543140290560, 417913955485789779394560, 585079537752161082408960, 731349422235235972546560, 817390530754691790274560]\n",
      "[0, 537953541889720320, 5568380590148812800, 41769489526727639040, 242267939021625753600, 1130587458311521566720, 4360840255729324523520, 14172733127885901004800, 39368704947744764067840, 94484893303686027018240, 197559323475835921367040, 362192093889686447063040, 585079536911514851082240, 835827910311071805603840, 1058715353332900209623040, 1191054772627110824509440]\n",
      "[0, 2331786364028190720, 22584154999876485120, 158119237409015070720, 853865993775926476800, 3700102724367836774400, 13214665509489365483520, 39644006579271389675520, 101312469075429446123520, 222887437996426757406720, 425512386198088942878720, 709187313680416002539520, 1036504537698485686763520, 1332648692762453496299520, 1510335185800834182021120]\n",
      "[0, 8722661429477376000, 78676252350323097600, 511514096173056000000, 2557656630607793356800, 10230691134738058444800, 33615177242563628236800, 92441775107562327244800, 215697503967559601356800, 431395029472554831052800, 745136884752547892428800, 1117705337897539652812800, 1461614679262147431628800, 1670416779376373583052800]\n",
      "[0, 28142249221029888000, 235108390635118264320, 1411052375942438584320, 6491130392470062366720, 23801025856193817477120, 71403238381434144030720, 178508216563224878776320, 376850768751726239416320, 678331448078248307589120, 1048330463615343573073920, 1397773978289266879365120, 1612816141165527375544320]\n",
      "[0, 78134944801530839040, 600776716049228759040, 3305447882256065495040, 13883717332309471395840, 46279667523098026967040, 125616688398498571223040, 282637875547728815063040, 533871774986497205207040, 854194996770926902640640, 1164811454258858730455040, 1358946740188816122839040]\n",
      "[0, 185937496029769236480, 1305989555447188684800, 6532899166061812776960, 24827082803212997099520, 74482724104051925975040, 180887669748706773565440, 361776077344620014469120, 602960620805837669007360, 844145164267055323545600, 997626237378739285524480]\n",
      "[0, 376957939481869025280, 2397019624743559495680, 10792901004112460513280, 36700192117593640796160, 97870185024424205352960, 209723886339771523399680, 367018153814478689402880, 530138134899360194887680, 636166122604533173452800]\n",
      "[0, 645508433260314624000, 3675600961152850329600, 14713795169904230400000, 44148979726574577254400, 103019348839915270963200, 191324902509926311526400, 286989252319104938803200, 350765485525224023654400]\n",
      "[0, 922697348719155609600, 4640825924298567843840, 16259977722984231075840, 42286877752040116715520, 84580590299255930880000, 132916261781788289925120, 166147035926029286768640]\n",
      "[0, 1083152302129576673280, 4728376395834882785280, 14205959039468678676480, 31265607798009511280640, 52116289614003862241280, 67009633768285541498880]\n",
      "[0, 1020662746237485711360, 3777777697112771788800, 9464327283293049323520, 17046393398200086036480, 22732942984380363571200]\n",
      "[0, 746910739200328335360, 2268395578312108277760, 4550622836979778191360, 6376404643913914122240]\n",
      "[0, 403424010370547712000, 956691224593013145600, 1440800037037670400000]\n",
      "[0, 147537923792657448960, 250814470447517663232]\n",
      "[0, 30642491864628854784]\n",
      "n = 59\n",
      "[0, 3304, 61710, 848538, 9164230, 80950714, 601348174, 3833594620, 21297747898, 104358964708, 455384573278, 1783589578678, 6311163124558, 20285881471798, 59505252317278, 159920365602688, 395097373841938, 899944018195528, 1894618985674798, 3694507022065858, 6685298420881078, 11243456435118178, 17598453550619758, 25664411427987148, 34903599542062522, 44300722495694740, 52504559994897470, 58130048565779342, 30067266499541039]\n",
      "[0, 350892, 6319932, 83741892, 870917820, 7402803180, 52877166972, 323872648872, 1727320794972, 8118407737212, 33949705083612, 127311394064172, 430900102986972, 1323478887746172, 3705740885689692, 9495961019580192, 22343437693130172, 48410781668448972, 96821563336898172, 179119892173261812, 307062672297020412, 488508796836168972, 722143438801293372, 992947228351778472, 1270972452290276508, 1515390231576868188, 1683766923974298012, 871950728486690046]\n",
      "[0, 17932200, 311029620, 3965775000, 39657862860, 323872636560, 2220841009860, 13047440994060, 66686920687860, 300091143139260, 1200364572594660, 4301306385163260, 13896528321324660, 40696975798189260, 108525268795192260, 264530342688299160, 591303118950331260, 1215456411175694160, 2302970042227642260, 4030197573898383360, 6525081786311676060, 9787622679467520360, 13617561988824381060, 17589350902231495860, 21107221082677797540, 23542669669140621780, 12207310198813655970]\n",
      "[0, 587081000, 9791624920, 119952389920, 1151546753720, 9020452598520, 59277262401720, 333434603058920, 1630124727788920, 7009536330954520, 26763684173984120, 91442587595516520, 281361807987124920, 783793607964924920, 1985610473511822520, 4591724219996671120, 9723651289405210520, 18907099729399438920, 33833757410504608920, 55825699727332892720, 85067732917840830520, 119868169111503169720, 156349785797612964920, 188922657838782424920, 211593376779436369080, 109865791789322738620]\n",
      "[0, 13829412960, 221440085460, 2602042463460, 23938883311860, 179541698279460, 1128547877477460, 6065944890872460, 28307742865499460, 116061745783573260, 422042711970053460, 1371638813928095460, 4009405763811545460, 10596286661520503460, 25431087987665026260, 55630504973030661960, 111261009946072622460, 203978518234475889960, 343542767552809229460, 532491289706860519860, 760701842438377013460, 1002743337759682385460, 1220731019881354925460, 1373322397366525703460, 714127646630593591770]\n",
      "[0, 249575709768, 3830001686280, 43089788847336, 379191869177352, 2717543094721224, 16305259675584264, 83564456750856312, 371397586322138376, 1448450587298548680, 5003738393029457928, 15428193378968852328, 42724227819074774280, 106810569548019112776, 242103957642457160712, 499339412637803186064, 939933012024295513224, 1618773520708668876552, 2555958190592763276936, 3706139376359606404680, 4941519168479549023368, 6064591706770405949448, 6855625407653531262600, 3570638233152885479508]\n",
      "[0, 3587364786544, 52662098737864, 566151388130944, 4755697333897048, 32497285353159088, 185698789802389864, 905281613730595024, 3822300158041706264, 14142510594121706720, 46284580134101506120, 134996692064445752464, 353068271558770237624, 832232354393238324064, 1775429022709507083688, 3439893731502922541848, 6070400702654869324744, 9780090020946076326264, 14412764241395861146344, 19457231725885626839320, 24089905946335411659400, 27374893120836168168184, 14282552932610250118292]\n",
      "[0, 42153270944400, 590725679488560, 6055350826140000, 48443118855571440, 314880517897711920, 1709351580416966640, 7905751221127525920, 31623005018330011440, 110680517675671629840, 342103418363526185520, 940784400577758623040, 2315776986102754001520, 5127791897853120489840, 10255583795750847615600, 18588245629834654194960, 30615933978580058262000, 45923900967892390710960, 62843232903448126575600, 78554041129321309878480, 89776047004945012237680, 46928388207131361093240]\n",
      "[0, 412388349080400, 5504425417551060, 53672343632814060, 407912976450205380, 2515465832303169900, 12936683409861837780, 56597991536530049760, 213814636025561677260, 705588299987252608080, 2052620509969275592500, 5302602984846537396180, 12236776119503691123060, 25347607676628561615060, 47315534330122233506100, 79844964182410939960140, 122115827573352948881700, 169605316074287798410860, 214238293988700250975860, 246374038087077216822660, 129053067569432816462730]\n",
      "[0, 3403429323327880, 43161076104179880, 399275997984097080, 2874814273112976040, 16769771043191199880, 81453190490107069480, 335994424424729704480, 1194646853564190059880, 3703405255223830750440, 10100196158156853983080, 24408807388401774371880, 52572815918521866539880, 101390430704063359631080, 175743413223580402954600, 274599083164301926464280, 387669293880813472962280, 495355208848919707722280, 573569189194175815074280, 301123824327051527218340]\n",
      "[0, 23922744034421232, 287447786225559960, 2515432233841551024, 17105136842423686056, 94078405984253570880, 430072834777955449080, 1666532332738778360856, 5555107855311221431224, 16109812845150709765080, 41006796385776871241592, 92265291910595438987352, 184530583855268860929720, 329518899768327095410584, 527230239649770142429944, 757893469511453697285864, 980803313495433603239064, 1144270532417018867604744, 602247648641433035132892]\n",
      "[0, 144199435874924976, 1636629209397598416, 13503853053698856576, 86425897503853484304, 446534758986098559504, 1913721148910902780176, 6937239766588221579216, 21582524202250669506576, 58272815735805012735120, 137735746597246237374480, 286949472325952536975056, 529752872180356278928656, 870308290157961527383056, 1276452159005327786650896, 1675343458766133934146096, 1970992304471202019936656, 1040245938477280285114728]\n",
      "[0, 748889492090230400, 8001081841385443720, 62017411063722205000, 372111152895655464200, 1798542365322548456520, 7194173473198187166600, 24280338648137709748520, 70143203065080638784200, 175358009668655593630760, 382599295402969898631560, 733315317414886414786760, 1240995153474094238871560, 1861492730879792690530760, 2481990308285491142189960, 2947363491339764980934360, 1560368907219208009448980]\n",
      "[0, 3360744465190635600, 33668549096728003920, 244139414593515283920, 1367211952884372210000, 6152477550819327808080, 22852077902796417752400, 71412757873677166143120, 190434032312110372983120, 437998283144051443210320, 875996573077485644381520, 1532994007977636946138320, 2358452323621416786807120, 3200756727339559481367120, 3840908074165347929232720, 2040482414612509298591160]\n",
      "[0, 13049193660800811360, 122043034721637081360, 823963371153422660160, 4284735812517095905200, 17853161098498481484960, 61210911072499149690960, 175981425709559742000960, 430176861831642090894960, 903371442920441540374560, 1642493557183111754850960, 2600614816412499069912960, 3600851295827793519702960, 4372462294233877809540960, 2331979891260310381739880]\n",
      "[0, 43830056618597625376, 380751818105854703200, 2380309228671532578112, 11425926085992456297952, 43799712733246288558432, 137656489147553617380832, 361348472934986084407552, 802996748617865570588512, 1525693927008032002520992, 2496590136360477815117152, 3536836074952384042898752, 4353029042155264313927392, 2331979848163895065731056]\n",
      "[0, 127130416213359425328, 1019789974501608476628, 5865656148066389040828, 25810221136106696415588, 90336754920942984980988, 258105742761517335251028, 613001678578116922360728, 1226003749534061663732028, 2084206648872384301651848, 3031573485804298901952948, 3789466955349830582193828, 2040482221818286768066314]\n",
      "[0, 317364419559493845000, 2334648075523112903400, 12261807119344080375000, 49050690634680606887400, 155329687456763905701000, 399421009828361811767400, 848770944194257957026000, 1508927020608352293887400, 2263391107938745821729000, 2880679906663613253599400, 1560368330861641960774500]\n",
      "[0, 678326375543322198000, 4538888225918142881400, 21570778742277645896400, 77662471509488275825800, 220049076226253721031200, 502973108975151293971800, 943077159917880851879400, 1467010553897320801769400, 1907114604840050359677000, 1040244463969350698820300]\n",
      "[0, 1232163562714620505200, 7425578295936257965200, 31579895755500644059200, 101070009062247416360400, 252684801731513101381200, 505376122846955909749200, 821240274241259420209200, 1094989205449655795941200, 602244388966507173117000]\n",
      "[0, 1882798078899377787840, 10095266015151269059800, 37891311337849977980280, 106117968039019536239640, 229936715385586512339960, 394186074110624337779160, 542010496963158380674440, 301117630914502791667740]\n",
      "[0, 2386529143868070967920, 11210670516153375387120, 36479802627697656223920, 87579603119931646360560, 160579318108837346555760, 229407620812662721025520, 129043040136294980193960]\n",
      "[0, 2461279101773793588000, 9927159043820967471600, 27347545575264373200000, 54722438696104010773200, 82097331816943648346400, 46914714434366032224600]\n",
      "[0, 2009450087921599596000, 6770301065458927869600, 15271820668204156929600, 24453461839169004314400, 14267095624243357131600]\n",
      "[0, 1246889541735966928800, 3372269442422274193800, 5922725323245842911800, 3556469033815087490100]\n",
      "[0, 550898470257890843088, 1122200587562370235920, 703925823107304966168]\n",
      "[0, 153812108505052144224, 104372502199856812152]\n",
      "[0, 10172758499011385200]\n",
      "n = 60\n",
      "[0, 3420, 65016, 910250, 10012770, 90114946, 682298890, 4434942796, 25131342520, 125656712608, 559743537988, 2238974151958, 8094752703238, 26597044596358, 79791133789078, 219425617919968, 555017739444628, 1295041392037468, 2794563003870328, 5589126007740658, 10379805442946938, 17928754855999258, 28841909985737938, 43262864978606908, 60568010970049672, 79204322037757264, 96805282490592212, 110634608560676814, 118264581564861422]\n",
      "[0, 370040, 6788088, 91642088, 971408360, 8418874232, 61337513720, 383359461968, 2087179293968, 10018460611928, 42806149888088, 164090241238328, 568004681210168, 1785157569518168, 5117451699285848, 13433310710625728, 32397984655038848, 71995521455642168, 147780280882634168, 280782533677005128, 494712083145199688, 809528863328508728, 1231891748543382968, 1745179977103125968, 2303637569776126352, 2835246239724463256, 3255282719683643032, 3487802913946760408]\n",
      "[0, 19280128, 340832128, 4430973568, 45196049920, 376633844608, 2636436990208, 15818622006208, 82608359420608, 379998453381568, 1554539127510208, 5699976800905408, 18853769418409408, 56561308255254208, 154600909231050688, 386502273077646208, 886681685295793408, 1871883557846689408, 3645246928438302208, 6561444471188954368, 10935740785314932608, 16900690304577630208, 24248816523959214208, 32331755365278956608, 40091376652945909312, 46259280753399128128, 49685894142539805248]\n",
      "[0, 644039424, 10956153600, 136957298688, 1342185643008, 10737488418048, 72094567765248, 414543766871808, 2072718836229888, 9119962881001728, 35650763990731008, 124777673968727808, 393529587133148928, 1124370248952722688, 2923362647277827328, 6942986287285483008, 15111205448798366208, 30222410897597200128, 55672862179784709888, 94643865705634334208, 148726074680282792448, 216328835898593365248, 291573648385060785408, 364467060481326098688, 422781790158338349312, 455303466324364412160]\n",
      "[0, 15492492288, 253230501888, 3038899788288, 28565760158208, 219004242283008, 1407884480690688, 7743364698521088, 36996075827762688, 155383518515516928, 579156750863728128, 1930522502907468288, 5791567508746725888, 15719968952333388288, 38775923415773526528, 87245827685505635328, 179623762881936242688, 339289329888112601088, 589291994016204530688, 942867190425934545408, 1391851566819242500608, 1897979409298971468288, 2393104472594358501888, 2791955218026753612288, 3015311635468894874112]\n",
      "[0, 285772032000, 4480662251520, 51530169600000, 463773472081920, 3401007002265600, 20891901407569920, 109682483423385600, 499664647571281920, 1998658591014758400, 7086153186944133120, 22439485092516710400, 63866226802227333120, 164227440348966758400, 383197360814580049920, 814294391731256217600, 1580689113360902737920, 2810113979308460697600, 4584922808345536849920, 6877384212518426880000, 9497340103001729771520, 12087523767456813312000, 14189701813971084011520, 15372176965135361280000]\n",
      "[0, 4202672947200, 63094573301760, 694079219957760, 5969110866001920, 41783799410196480, 244733701160632320, 1223668521368616960, 5302563605568552960, 20149741712056320000, 67776403949750845440, 203329211857035264000, 547424801160141864960, 1329460231394475048960, 2924812509072514744320, 5849625018148920852480, 10666963268392413265920, 17778272113989949685760, 27135257437144602869760, 37989360412004000563200, 48843463386863398256640, 57724093093566541824000, 62743579449529188188160]\n",
      "[0, 50581059010560, 725677094338560, 7620095355125760, 62485150146232320, 416567957455503360, 2320878853908725760, 11024174747855093760, 45321607455851151360, 163157786974037606400, 519138413210796687360, 1470892170857687285760, 3733803203025119477760, 8534407321266029199360, 17637775130671013560320, 33070828370052901109760, 56414942513655756226560, 87756577243492922818560, 124706715030248319221760, 162118729539338158080000, 192998487546840882216960, 210543804596558339112960]\n",
      "[0, 507447186554880, 6942237563289600, 69427438853160960, 541537848598855680, 3429742708219576320, 18128642440217886720, 81578892950010593280, 317251251986383503360, 1078654258103895982080, 3235962775436848005120, 8629234068769228062720, 20577404318613270036480, 44094437826242812968960, 85249246464594513100800, 149186181313462332948480, 236942758557006399406080, 342250651249259279155200, 450329804275518813634560, 540395765130735092367360, 591862028476572965928960]\n",
      "[0, 4300361745039360, 55967711648808960, 531737892012687360, 3934894005674311680, 23609390287780577280, 118046972441890652160, 501699649942962831360, 1839565397126188892160, 5886609282355447726080, 16589535259821256212480, 41473838157429260943360, 92518562049958501416960, 185037124105167749775360, 333066823393502547148800, 541233588017723355955200, 795931747087358227906560, 1061242329451561219522560, 1284661767231942686146560, 1413127943955662029455360]\n",
      "[0, 31084421893324800, 383850604407029760, 3454991487467520000, 24185192448125829120, 137049619900598845440, 646091221267875102720, 2584365011089427005440, 8901701807544855429120, 26705105506646517350400, 70404369131714232975360, 164276861363341177651200, 341190404415253496463360, 633639322521475901030400, 1056065537563797152071680, 1584098306366698715873280, 2143191826275653312839680, 2619456676568466488033280, 2895188958316937273671680]\n",
      "[0, 192998363942092800, 2254743292430254080, 19167494658934702080, 126507089998349598720, 674705737624647106560, 2987983547388364062720, 11204939100819900334080, 36104804414248798126080, 101093452882298221363200, 248138475678692875960320, 537633364309094852198400, 1033910316246926811463680, 1772417685202033893703680, 2717707117464570958970880, 3736847286622618732462080, 4616105471778581517434880, 5129006079786226475335680]\n",
      "[0, 1034355141488148480, 11395319942589972480, 91174748911074017280, 565292498209493483520, 2826469456401955553280, 11709664649300913684480, 40983830625899752980480, 122951495360376503009280, 319673890723120703078400, 726531572041523480494080, 1453063145824385583022080, 2570804028567250356142080, 4039834903029301200814080, 5655768864937557129953280, 7069711081607281067950080, 7901441797295353972654080]\n",
      "[0, 4800200835323658240, 49687088342866329600, 372712368084646625280, 2161775455885275955200, 10088318858779730903040, 38912113051123203440640, 126464387910366501273600, 351289982610645587066880, 843095971017506087239680, 1762837040245920529121280, 3231867914707971373793280, 5220709713979670978887680, 7458156738160333034618880, 9446998537432032639713280, 10627873355749604280238080]\n",
      "[0, 19320515587662151680, 187125855713262305280, 1310130824246124871680, 7074889662714819379200, 30657994001904933273600, 109492942792911885434880, 328478911656820085882880, 839446172339272553594880, 1846781629113250275655680, 3525674057069879812423680, 5876123456209161163898880, 8588180455216024261754880, 11041946311460328969338880, 12514205825206911793889280]\n",
      "[0, 67455248387958374400, 608429684842498621440, 3955709010404966400000, 19779211276700268625920, 79117344775307651973120, 259957370675825391697920, 714883060831815330693120, 1668060697349127583825920, 3336121561254424026808320, 5762391908753037034782720, 8643587946407639981752320, 11303153519627273471262720, 12917889760510622375608320]\n",
      "[0, 204031306852466688000, 1704535832104607416320, 10230129725582679736320, 47060695345407952158720, 172557437457405176709120, 517673478265397544222720, 1294184570083380371128320, 2732168073450015235768320, 4917902998567300230021120, 7600395861211240904785920, 10133861342597184875397120, 11692917023450073472696320]\n",
      "[0, 533156093939857489920, 4099417591865325649920, 22554820843629623377920, 94735953561641098936320, 315790672510551242833920, 857149167895637309521920, 1928587856678620149841920, 3642889758731392694353920, 5828624683848677688606720, 7948125217295741925457920, 9272813050700157073489920]\n",
      "[0, 1198263863302957301760, 8416377135104104857600, 42100905736842793451520, 159996755842928203530240, 479999777559445745172480, 1165720538380554762977280, 2331445831776440093245440, 3885746222970953866936320, 5440046614165467640627200, 6429146863107430951157760]\n",
      "[0, 2301427419994568785920, 14634435603697521131520, 65893500867212916817920, 224064330823203280650240, 597523234885958306365440, 1280419516600710353387520, 2240742412762080419512320, 3236632823596093821419520, 3883961590638202532659200]\n",
      "[0, 3743948912909824819200, 21318485574686531911680, 85340011985444536320000, 256064082414132548075520, 597512223271508571586560, 1109684434557572606853120, 1664537663450808645058560, 2034439816046299337195520]\n",
      "[0, 5096804402448669081600, 25635038438982565232640, 89817019803150990704640, 233584658058888263761920, 467207070224461332480000, 734204112699401982443520, 917764579400923679293440]\n",
      "[0, 5711166683955949731840, 24931439178038472867840, 74904147662653033021440, 164855022934959241297920, 274794981601111273635840, 353323523505505582448640]\n",
      "[0, 5147690372328188805120, 19053139689786153369600, 47733128907043205283840, 85973114530052607836160, 114653103747309659750400]\n",
      "[0, 3610068572801586954240, 10963911961841856675840, 21994677045402261258240, 30819289112250584924160]\n",
      "[0, 1871887408119341383680, 4439047282111580995584, 6685312171854790656000]\n",
      "[0, 658246121536471695360, 1119018406612001882112]\n",
      "[0, 131649224307294339072]\n"
     ]
    }
   ],
   "source": [
    "N = 60\n",
    "\n",
    "def AA(n, j):\n",
    "    return (-1)**(n+1) * 4**j * binomial(Rational(n,2) - 1, j)\n",
    "\n",
    "def AAt(n, j):\n",
    "    return - 4**j * binomial(Rational(n,2) - 1, j)\n",
    "\n",
    "def BB(n, j):\n",
    "    return (-1)**(n+1) * sum([(-1)**l * (catalan(l+1) - 2 * catalan(l)) * 4**(j-l) * binomial(Rational(n-1,2) - 1, j - l) for l in range(0, j+1)])\n",
    "\n",
    "def BBt(n, j):\n",
    "    return - sum([(-1)**l * (catalan(l+1) - 2 * catalan(l)) * 4**(j-l) * binomial(Rational(n-1,2) - 1, j - l) for l in range(0, j+1)])\n",
    "\n",
    "def DD(n, j):\n",
    "    return 4**j * binomial(Rational(n,2) - 1, j)\n",
    "\n",
    "def DDt(n, j):\n",
    "    return 4**j * binomial(Rational(n,2) - 1, j)\n",
    "\n",
    "def EE(n, j):\n",
    "    return - 4**j * binomial(Rational(n,2) - 1, j) - sum([(-1)**l * catalan(l) * 4**(j-l) * binomial(Rational(n,2) - 1, j - l) for l in range(0, j+1)])\n",
    "\n",
    "def EEt(n, j):\n",
    "    #return sum([catalan(l+1)* (-4)**(j-l) * binomial(1+j-Rational(n,2), j-l) for l in range(0,j+1)])\n",
    "    return sum([(-1)**l * (catalan(l+1) - 2 * catalan(l)) * 4**(j-l) * binomial(Rational(n-1,2) - 1, j - l) for l in range(0, j+1)])\n",
    "\n",
    "def FFt(n, j):\n",
    "    if n % 2 == 0:\n",
    "        return sum([4*(n//2-j-1) * catalan(k) * 4**(j-1-k) * binomial(Rational(n-1,2)-1-k, j-1-k) for k in range(j)])\n",
    "    if n % 2 == 1:\n",
    "        Y = 0\n",
    "        Y += - 4**j * Rational(1,2) * binomial(Rational(n,2)-1, j-1)\n",
    "        Y += 4**j * (2*j+1) * binomial(Rational(n,2)-1, j)\n",
    "        Y += sum([(j+1) * catalan(k) * 4**(j-k) * binomial(Rational(n-1,2)-1-k, j-k) for k in range(j+1)])\n",
    "        return Y \n",
    "\n",
    "def GGt(n, j):\n",
    "    if n % 2 == 0:\n",
    "        return 0\n",
    "    if n % 2 == 1:\n",
    "        return - 2 * (4*((n-1)//2-j)-3) * 4**j * binomial(Rational(n,2)-1, j)\n",
    "\n",
    "A = [[0 for j in range(n//2)] for n in range(N+1)]\n",
    "At = [[0 for j in range(n//2)] for n in range(N+1)]\n",
    "B = [[0 for j in range(n//2-1)] for n in range(N+1)]\n",
    "Bt = [[0 for j in range(n//2-1)] for n in range(N+1)]\n",
    "D = [[0 for j in range(n//2)] for n in range(N+1)]\n",
    "Dt = [[0 for j in range(n//2)] for n in range(N+1)]\n",
    "E = [[0 for j in range(n//2)] for n in range(N+1)]\n",
    "Et = [[0 for j in range(n//2-1)] for n in range(N+1)]\n",
    "\n",
    "A[2][0] = -1\n",
    "\n",
    "for n in range(2, N):\n",
    "    for j in range((n+1)//2):\n",
    "        A[n+1][j] = 0\n",
    "        for k in range(j):\n",
    "            A[n+1][j] += 2 * catalan(k) * A[n-2*k-1][j-1-k]\n",
    "        if n%2 == 1 and j == (n-1)//2:\n",
    "            A[n+1][j] += - catalan((n-1)//2) * Rational(n+1, 2)\n",
    "        else:\n",
    "            A[n+1][j] += - A[n][j]\n",
    "\n",
    "At[2][0] = -1\n",
    "\n",
    "for n in range(2, N):\n",
    "    for j in range((n+1)//2):\n",
    "        At[n+1][j] = 0\n",
    "        for k in range(j):\n",
    "            At[n+1][j] += 2 * catalan(k) * At[n-2*k-1][j-1-k]\n",
    "        if n%2 == 1 and j == (n-1)//2:\n",
    "            At[n+1][j] += - catalan((n-1)//2) * Rational(n+1, 2)\n",
    "        else:\n",
    "            At[n+1][j] += At[n][j]\n",
    "            \n",
    "        \n",
    "A_error = 0\n",
    "At_error = 0\n",
    "\n",
    "for n in range(0, N+1):\n",
    "    for j in range(n//2):\n",
    "        A_error += abs(A[n][j] - AA(n, j))\n",
    "        At_error += abs(At[n][j] - AAt(n, j))\n",
    "print(\"A_error\", A_error)\n",
    "print(\"At_error\", At_error)\n",
    "\n",
    "B[4][0] = 1\n",
    "\n",
    "for n in range(4, N):\n",
    "    for j in range((n+1)//2 - 1):\n",
    "        B[n+1][j] = 0\n",
    "        for k in range(j):\n",
    "            B[n+1][j] += 2 * catalan(k) * B[n-2*k-1][j-1-k]\n",
    "        if n%2 == 1 and j == (n-3)//2:\n",
    "            B[n+1][j] += catalan((n-1)//2) * Rational(n-1, 2)\n",
    "        else:\n",
    "            B[n+1][j] += - B[n][j]\n",
    "    \n",
    "Bt[4][0] = 1\n",
    "\n",
    "for n in range(4, N):\n",
    "    for j in range((n+1)//2 - 1):\n",
    "        Bt[n+1][j] = 0\n",
    "        for k in range(j):\n",
    "            Bt[n+1][j] += 2 * catalan(k) * Bt[n-2*k-1][j-1-k]\n",
    "        if n%2 == 1 and j == (n-3)//2:\n",
    "            Bt[n+1][j] += catalan((n-1)//2) * Rational(n-1, 2)\n",
    "        else:\n",
    "            Bt[n+1][j] += Bt[n][j]\n",
    "            \n",
    "B_error = 0\n",
    "Bt_error = 0\n",
    "for n in range(0, N+1):\n",
    "    for j in range(n//2 - 1):\n",
    "        B_error += abs(B[n][j] - BB(n, j))\n",
    "        Bt_error += abs(Bt[n][j] - BBt(n, j))\n",
    "print(\"B_error\", B_error)\n",
    "print(\"Bt_error\", Bt_error)\n",
    "\n",
    "D[2][0] = 1\n",
    "\n",
    "for n in range(2, N):\n",
    "    for j in range((n+1)//2):\n",
    "        D[n+1][j] = 0\n",
    "        for k in range(j):\n",
    "            D[n+1][j] += 2 * catalan(k) * D[n-2*k-1][j-1-k]\n",
    "        if n%2 == 1 and j == (n-1)//2:\n",
    "            D[n+1][j] += catalan((n-1)//2) * Rational(n+1, 2)\n",
    "        else:\n",
    "            D[n+1][j] += D[n][j]\n",
    "            \n",
    "Dt[2][0] = 1\n",
    "\n",
    "for n in range(2, N):\n",
    "    for j in range((n+1)//2):\n",
    "        Dt[n+1][j] = 0\n",
    "        for k in range(j):\n",
    "            Dt[n+1][j] += 2 * catalan(k) * Dt[n-2*k-1][j-1-k]\n",
    "        if n%2 == 1 and j == (n-1)//2:\n",
    "            Dt[n+1][j] += catalan((n-1)//2) * Rational(n+1, 2)\n",
    "        else:\n",
    "            Dt[n+1][j] += Dt[n][j]\n",
    "         \n",
    "D_error = 0\n",
    "Dt_error = 0\n",
    "for n in range(0, N+1):\n",
    "    for j in range(n//2):\n",
    "        D_error += abs(D[n][j] - DD(n, j))\n",
    "        Dt_error += abs(Dt[n][j] - DDt(n, j))\n",
    "print(\"D_error\", D_error)\n",
    "print(\"Dt_error\", Dt_error)\n",
    "\n",
    "for n in range(0, N+1):\n",
    "    #print([D[n][j] for j in range(n//2)])\n",
    "    pass\n",
    "for n in range(0, N+1):\n",
    "    #print([Dt[n][j] for j in range(n//2)])\n",
    "    pass\n",
    "        \n",
    "E[2][0] = -2\n",
    "\n",
    "for n in range(2, N):\n",
    "    for j in range((n+1)//2):\n",
    "        E[n+1][j] = 0\n",
    "        for k in range(j):\n",
    "            E[n+1][j] += 2 * catalan(k) * E[n-2*k-1][j-1-k]\n",
    "        if n%2 == 1 and j == (n-1)//2:\n",
    "            E[n+1][j] += - catalan((n-1)//2) * Rational(n+3, 2)\n",
    "        else:\n",
    "            E[n+1][j] += E[n][j]\n",
    "  \n",
    "E_error = 0\n",
    "\n",
    "for n in range(0, N+1):\n",
    "    for j in range(n//2 - 1):\n",
    "        E_error += abs(E[n][j] - EE(n, j))\n",
    "print(\"E_error\", E_error)\n",
    "\n",
    "for n in range(0, N+1):\n",
    "    #print([E[n][j] for j in range(n//2)])\n",
    "    pass\n",
    "        \n",
    "        \n",
    "F = [[[0 for t in range(n-1-2*j)] for j in range((n-1)//2)] for n in range(N+1)]\n",
    "G = [[[0 for t in range((n-1)//2-j)] for j in range((n-1)//2-1)] for n in range(N+1)]\n",
    "Ft = [[0 for j in range((n-1)//2)] for n in range(N+1)]\n",
    "Gt = [[0 for j in range((n-1)//2-1)] for n in range(N+1)]\n",
    "\n",
    "F[5][1][1] = -6\n",
    "\n",
    "for n in range(3, N):\n",
    "    for j in range(1, n//2):\n",
    "        for t in range(1, n-2*j):\n",
    "            F[n+1][j][t] = 0\n",
    "            for k in range(j):\n",
    "                F[n+1][j][t] += 2 * catalan(k) * F[n-2*k-1][j-1-k][t]\n",
    "            for i in range(j-1):\n",
    "                F[n+1][j][t] += 2 * DDt(t+1+2*i, i) * EEt(n-1-2*i-t, j-2-i)\n",
    "            if j != Rational(n,2)-1 and t != n-1-2*j:\n",
    "                F[n+1][j][t] += F[n][j][t]\n",
    "            if j != Rational(n,2)-1 and t != 1:\n",
    "                F[n+1][j][t] += F[n][j][t-1]\n",
    "            if t == 1:\n",
    "                F[n+1][j][t] += (j + 1) * EEt(n, j-1)\n",
    "            if t == n-1-2*j:\n",
    "                F[n+1][j][t] += - j * DDt(n, j)\n",
    "\n",
    "for n in range(5, N+1):\n",
    "    for j in range(1, (n-1)//2):\n",
    "        Ft[n][j] = sum([(-1)**t * F[n][j][t] for t in range(1, n-1-2*j)])\n",
    "        \n",
    "for n in range(0, N+1):\n",
    "    print(\"n =\", n)\n",
    "    print([Ft[n][j] for j in range(0, (n-1)//2)])\n",
    "        \n",
    "for n in range(0, N+1):\n",
    "    print(\"n =\", n)\n",
    "    for j in range(0, (n-1)//2):\n",
    "        print([F[n][j][t] for t in range(n-1-2*j)])\n",
    "        #print([F_coeffs[n][j][t] for t in range(n-1-2*j)])\n",
    "        pass\n",
    "\n",
    "G[5][0][1] = 5\n",
    "\n",
    "\n",
    "for n in range(5, N):\n",
    "    for j in range(0, n//2-1):\n",
    "        for t in range(1,n//2-j):\n",
    "            G[n+1][j][t] = 0\n",
    "            for k in range(j):\n",
    "                G[n+1][j][t] += 2 * catalan(k) * G[n-2*k-1][j-1-k][t]\n",
    "            for i in range(j+1):\n",
    "                G[n+1][j][t] += D[t+1+2*i][i] * D[n-1-2*i-t][j-i]\n",
    "                if t != Rational(n, 2) - 1 - j:\n",
    "                    G[n+1][j][t] += D[t+1+2*i][i] * D[n-1-2*i-t][j-i]\n",
    "            if j != Rational(n,2)-2:\n",
    "                if t != Rational(n, 2) - 1 - j:\n",
    "                    G[n+1][j][t] += G[n][j][t]\n",
    "                if t != 1:\n",
    "                    G[n+1][j][t] += G[n][j][t-1]\n",
    "                if t == Rational(n-1, 2) - 1 - j:\n",
    "                    G[n+1][j][t] += G[n][j][t]\n",
    "            if t == 1:\n",
    "                G[n+1][j][t] += (j + 1) * D[n][j+1]\n",
    "\n",
    "for n in range(5, N+1):\n",
    "    for j in range(0, (n-1)//2-1):\n",
    "        Gt[n][j] = (1 - (-1)**n) * sum([(-1)**t * G[n][j][t] for t in range(1, (n-1)//2-j)])\n",
    "        \n",
    "for n in range(0, N+1):\n",
    "    print(\"n =\", n)\n",
    "    for j in range(0, (n-1)//2 - 1):\n",
    "        print([G[n][j][t] for t in range((n-1)//2-j)])\n",
    "        #print([G_coeffs[n][j][t] for t in range((n-1)//2-j)])\n",
    "        pass\n",
    "        \n",
    "\n",
    "\n",
    "\n",
    "    \n"
   ]
  },
  {
   "cell_type": "code",
   "execution_count": null,
   "id": "9529184d",
   "metadata": {},
   "outputs": [],
   "source": [
    "for n in range(min(10, N+1)):\n",
    "    error = 0\n",
    "    for j in range(n//2):\n",
    "        error += DD(n, j) * (-q)**(j+1) * q_conj**j * higher_deriv(q_conj, n-1-2*j)\n",
    "    for j in range(n//2):\n",
    "        error += EE(n, j) * (-q)**j * q_conj**(j+1) * higher_deriv(q, n-1-2*j)\n",
    "    \n",
    "    error -= extract_deriv(sigs_eq[n], 1)\n",
    "    \n",
    "    if simplify(error) != 0:\n",
    "        print(\"sigs error n = \", n)\n",
    "        display(simplify(error))\n",
    "\n",
    "print(\"Check 1 done\")\n",
    "\n",
    "for n in range(min(10, N+1)):\n",
    "    error = 0\n",
    "    for j in range((n-1)//2):\n",
    "        for t in range(1, n-1-2*j):\n",
    "            error += F[n][j][t] * (-q)**j * q_conj**j * higher_deriv(q, n-1-2*j-t) * higher_deriv(q_conj, t)\n",
    "    for j in range((n-1)//2-1):\n",
    "        for t in range(1, (n-1)//2-j):\n",
    "            error += G[n][j][t] * (-q)**(j+2) * q_conj**j * higher_deriv(q_conj, n-3-2*j-t) * higher_deriv(q_conj, t)\n",
    "    \n",
    "    error -= extract_deriv_alt(sigs_eq[n], 2)\n",
    "    \n",
    "    if simplify(error) != 0:\n",
    "        print(\"sigs error n = \", n)\n",
    "        display(simplify(error))\n",
    "        \n",
    "print(\"Check 2 done\")\n",
    "\n",
    "for n in range(min(10, N+1)):\n",
    "    error = 0\n",
    "    for j in range((n-1)//2-1):\n",
    "        error += GGt(n, j) * (-q)**(j+2) * q_conj**j * higher_deriv(q_conj, n-3-2*j)\n",
    "    for j in range((n-1)//2):\n",
    "        error += FFt(n, j) * (-q)**j * q_conj**j * higher_deriv(q, n-1-2*j)\n",
    "    \n",
    "    error -= extract_deriv(variation(extract_deriv_alt(sigs_eq[n], 2), q_conj), 1)\n",
    "    \n",
    "    if simplify(error) != 0:\n",
    "        print(\"sigs error n = \", n)\n",
    "        display(simplify(error))\n",
    "\n",
    "print(\"Check 3 done\")\n"
   ]
  },
  {
   "cell_type": "code",
   "execution_count": null,
   "id": "dac961ed",
   "metadata": {},
   "outputs": [],
   "source": [
    "for n in range(min(9, N+1)):\n",
    "    error = 0\n",
    "    for j in range((n-1)//2-1):\n",
    "        error += GGt(n, j) * (-q)**(j+2) * q_conj**j * higher_deriv(q_conj, n-3-2*j)\n",
    "    for j in range((n-1)//2):\n",
    "        error += FFt(n, j) * (-q)**j * q_conj**j * higher_deriv(q, n-1-2*j)\n",
    "    for j in range(n//2):\n",
    "        error += extract_deriv(variation(DD(n, j) * (-q)**(j+1) * q_conj**j * higher_deriv(q_conj, n-1-2*j), q_conj), 1)\n",
    "    for j in range(n//2):\n",
    "        error += extract_deriv(variation(EE(n, j) * (-q)**j * q_conj**(j+1) * higher_deriv(q, n-1-2*j), q_conj), 1)\n",
    "    \n",
    "    error -= extract_deriv(variation(sigs_eq[n], q_conj), 1)\n",
    "    \n",
    "    if simplify(error) != 0:\n",
    "        print(\"sigs error n = \", n)\n",
    "        display(simplify(error))\n",
    "\n",
    "print(\"Check 4 done\")\n",
    "\n",
    "for n in range(min(9, N+1)):\n",
    "    #print(\"n =\", n)\n",
    "    error = 0\n",
    "    for j in range((n-1)//2-1):\n",
    "        error += GGt(n, j) * (-q)**(j+2) * q_conj**j * higher_deriv(q_conj, n-3-2*j)\n",
    "    for j in range((n-1)//2):\n",
    "        error += FFt(n, j) * (-q)**j * q_conj**j * higher_deriv(q, n-1-2*j)\n",
    "    for j in range(n//2-1):\n",
    "        error += (1-(-1)**n) * (j+1) * DD(n, j+1) * (-q)**(j+2) * q_conj**j * higher_deriv(q_conj, n-3-2*j)\n",
    "    for j in range(n//2):\n",
    "        error += (j+1) * (EE(n, j) + (-1)**n * DD(n, j)) * (-q)**j * q_conj**j * higher_deriv(q, n-1-2*j)\n",
    "    \n",
    "    #display(error)\n",
    "    error -= extract_deriv(variation(sigs_eq[n], q_conj), 1)\n",
    "    \n",
    "    if simplify(error) != 0:\n",
    "        print(\"sigs error n = \", n)\n",
    "        display(simplify(error))\n",
    "\n",
    "print(\"Check 5 done\")\n"
   ]
  },
  {
   "cell_type": "code",
   "execution_count": null,
   "id": "130efc76",
   "metadata": {},
   "outputs": [],
   "source": [
    "for n in range(min(9, N+1)):\n",
    "    error = 0\n",
    "    for j in range(n//2-1):\n",
    "        error += ((GGt(n, j) if j <= (n-1)//2-2 else 0) + 2 * (n%2) * (j+1) * DD(n, j+1))  * (-q)**(j+2) * q_conj**j * higher_deriv(q_conj, n-3-2*j)\n",
    "    for j in range(n//2):\n",
    "        error += ((FFt(n, j) if j <= (n-1)//2-1 else 0) + (j+1) * (EE(n, j) + (-1)**n * DD(n, j))) * (-q)**j * q_conj**j * higher_deriv(q, n-1-2*j)\n",
    "\n",
    "    #display(error)\n",
    "    error -= extract_deriv(variation(sigs_eq[n], q_conj), 1)\n",
    "    \n",
    "    if simplify(error) != 0:\n",
    "        print(\"sigs error n = \", n)\n",
    "        display(simplify(error))\n",
    "\n",
    "print(\"Check 6 done\")\n",
    "\n",
    "def JJ(n, j):\n",
    "    if n%2 == 0:\n",
    "        return 0\n",
    "    m = Rational(n-1, 2)\n",
    "    return (1 - (-1)**n) * 4**j * binomial(Rational(n,2) - 1, j)\n",
    "\n",
    "def KK(n, j):\n",
    "    if n%2 == 0:\n",
    "        m = Rational(n, 2)\n",
    "        return - 4**j * binomial(m - Rational(1,2), j)\n",
    "    elif n%2 == 1:\n",
    "        m = Rational(n-1, 2)\n",
    "        return - Rational(1,2) * 4**j * (binomial(m - Rational(1,2), j) + binomial(m + Rational(1,2), j))\n",
    "\n",
    "for n in range(min(11, N+1)):\n",
    "    print(\"n =\", n)\n",
    "    error = 0\n",
    "    for j in range(n//2-1):\n",
    "        error += JJ(n, j) * (-q)**(j+2) * q_conj**j * higher_deriv(q_conj, n-3-2*j)\n",
    "    for j in range(n//2):\n",
    "        error += KK(n, j) * (-q)**j * q_conj**j * higher_deriv(q, n-1-2*j)\n",
    "\n",
    "    #display(error)\n",
    "    error -= extract_deriv(variation(sigs_eq[n], q_conj), 1)\n",
    "    \n",
    "    if simplify(error) != 0:\n",
    "        print(\"sigs error n = \", n)\n",
    "        display(simplify(error))\n",
    "\n",
    "print(\"Check 7 done\")"
   ]
  },
  {
   "cell_type": "code",
   "execution_count": null,
   "id": "09c43e13",
   "metadata": {},
   "outputs": [],
   "source": [
    "\n",
    "\n",
    "\n",
    "def KK(n, j):\n",
    "    return (FFt(n, j) if j <= (n-1)//2-1 else 0) + (j+1) * (EE(n, j) + (-1)**n * DD(n, j))\n",
    "\n",
    "def KKo(m, j):\n",
    "    n = 2 * m + 1\n",
    "    return (FFt(n, j) if j <= (n-1)//2-1 else 0) + (j+1) * (EE(n, j) + (-1)**n * DD(n, j))\n",
    "\n",
    "def KKo2(m, j):\n",
    "    X = 0\n",
    "    X += - 4**j * binomial(m-Rational(1,2), j)\n",
    "    X += - 4**j * Rational(1,2) * binomial(m-Rational(1,2), j-1)\n",
    "    for k in range(j+1):\n",
    "        X += catalan(k) * 4**(j-k) * (j+1) * binomial(m-1-k, j-k)\n",
    "        X += - catalan(k) * 4**(j-k) * (j+1) * (-1)**k * binomial(m-Rational(1,2), j-k)\n",
    "        \n",
    "    return X\n",
    "\n",
    "def KKo3(m, j):\n",
    "    X = 0\n",
    "    X += - 4**j * binomial(m-Rational(1,2), j)\n",
    "    X += - 4**j * Rational(1,2) * binomial(m-Rational(1,2), j-1)\n",
    "\n",
    "    return X\n",
    "\n",
    "for m in range(16):\n",
    "    print([KKo(m, j) for j in range(m-1)])\n",
    "    print([KKo(m, j) - KKo3(m, j) for j in range(m-1)])\n",
    "\n",
    "\n",
    "def KKe(m, j):\n",
    "    n = 2 * m\n",
    "    return (FFt(n, j) if j <= (n-1)//2-1 else 0) + (j+1) * (EE(n, j) + (-1)**n * DD(n, j))\n",
    "\n",
    "def KKe2(m, j):\n",
    "    X = 0\n",
    "    for k in range(j):\n",
    "        X += catalan(k) * 4**(j-k) * (m-1-j) * binomial(m-1-k-Rational(1,2), j-1-k)\n",
    "    for l in range(j+1):\n",
    "        X += - (j+1) * (-1)**l * catalan(l) * 4**(j-l) * binomial(m-1, j-l)\n",
    "    return X\n",
    "\n",
    "def KKe3(m, j):\n",
    "    X = 0\n",
    "    for k in range(j+1):\n",
    "        X += 4**j * Rational(catalan(k), 4**k) * ((m-1-j) * binomial(m-1-k-Rational(1,2), j-1-k) - (-1)**k * (j+1) * binomial(m-1, j-k))\n",
    "    return X\n",
    "\n",
    "def KKe4(m, j):\n",
    "    return - 2 * 4**j * sum([binomial(-Rational(3,2), k) * binomial(m, j-k) for k in range(j+1)])\n",
    "\n",
    "def KKe5(m, j):\n",
    "    return - 4**j * binomial(m - Rational(1,2), j)\n",
    "\n",
    "for m in range(16):\n",
    "    print([KKe(m, j) for j in range(m-1)])\n",
    "    print([KKe5(m, j) for j in range(m-1)])\n",
    "\n",
    "    "
   ]
  },
  {
   "cell_type": "code",
   "execution_count": 72,
   "id": "13a9936c",
   "metadata": {},
   "outputs": [
    {
     "data": {
      "text/plain": [
       "0"
      ]
     },
     "metadata": {},
     "output_type": "display_data"
    },
    {
     "data": {
      "text/latex": [
       "$\\displaystyle - \\tilde{q} q$"
      ],
      "text/plain": [
       "-\\tilde{q}*q"
      ]
     },
     "metadata": {},
     "output_type": "display_data"
    },
    {
     "data": {
      "text/latex": [
       "$\\displaystyle - (\\tilde{q})_{x} q - 2 (q)_{x} \\tilde{q}$"
      ],
      "text/plain": [
       "-(\\tilde{q})_{x}*q - 2*(q)_{x}*\\tilde{q}"
      ]
     },
     "metadata": {},
     "output_type": "display_data"
    },
    {
     "data": {
      "text/latex": [
       "$\\displaystyle - (\\tilde{q})_{xx} q - 2 (\\tilde{q})_{x} (q)_{x} - 2 (q)_{xx} \\tilde{q} + \\tilde{q}^{2} q^{2}$"
      ],
      "text/plain": [
       "-(\\tilde{q})_{xx}*q - 2*(\\tilde{q})_{x}*(q)_{x} - 2*(q)_{xx}*\\tilde{q} + \\tilde{q}**2*q**2"
      ]
     },
     "metadata": {},
     "output_type": "display_data"
    },
    {
     "data": {
      "text/latex": [
       "$\\displaystyle - (\\tilde{q})_{xxx} q - 4 (\\tilde{q})_{xx} (q)_{x} - 4 (\\tilde{q})_{x} (q)_{xx} + 4 (\\tilde{q})_{x} \\tilde{q} q^{2} - 2 (q)_{xxx} \\tilde{q} + 7 (q)_{x} \\tilde{q}^{2} q$"
      ],
      "text/plain": [
       "-(\\tilde{q})_{xxx}*q - 4*(\\tilde{q})_{xx}*(q)_{x} - 4*(\\tilde{q})_{x}*(q)_{xx} + 4*(\\tilde{q})_{x}*\\tilde{q}*q**2 - 2*(q)_{xxx}*\\tilde{q} + 7*(q)_{x}*\\tilde{q}**2*q"
      ]
     },
     "metadata": {},
     "output_type": "display_data"
    },
    {
     "data": {
      "text/latex": [
       "$\\displaystyle - (\\tilde{q})_{xxxx} q - 4 (\\tilde{q})_{xxx} (q)_{x} - 8 (\\tilde{q})_{xx} (q)_{xx} + 6 (\\tilde{q})_{xx} \\tilde{q} q^{2} + 5 (\\tilde{q})_{x}^{2} q^{2} - 6 (\\tilde{q})_{x} (q)_{xxx} + 26 (\\tilde{q})_{x} (q)_{x} \\tilde{q} q - 2 (q)_{xxxx} \\tilde{q} + 11 (q)_{xx} \\tilde{q}^{2} q + 10 (q)_{x}^{2} \\tilde{q}^{2} - 2 \\tilde{q}^{3} q^{3}$"
      ],
      "text/plain": [
       "-(\\tilde{q})_{xxxx}*q - 4*(\\tilde{q})_{xxx}*(q)_{x} - 8*(\\tilde{q})_{xx}*(q)_{xx} + 6*(\\tilde{q})_{xx}*\\tilde{q}*q**2 + 5*(\\tilde{q})_{x}**2*q**2 - 6*(\\tilde{q})_{x}*(q)_{xxx} + 26*(\\tilde{q})_{x}*(q)_{x}*\\tilde{q}*q - 2*(q)_{xxxx}*\\tilde{q} + 11*(q)_{xx}*\\tilde{q}**2*q + 10*(q)_{x}**2*\\tilde{q}**2 - 2*\\tilde{q}**3*q**3"
      ]
     },
     "metadata": {},
     "output_type": "display_data"
    },
    {
     "data": {
      "text/latex": [
       "$\\displaystyle - (\\tilde{q})_{xxxxx} q - 6 (\\tilde{q})_{xxxx} (q)_{x} - 12 (\\tilde{q})_{xxx} (q)_{xx} + 8 (\\tilde{q})_{xxx} \\tilde{q} q^{2} + 18 (\\tilde{q})_{xx} (\\tilde{q})_{x} q^{2} - 14 (\\tilde{q})_{xx} (q)_{xxx} + 56 (\\tilde{q})_{xx} (q)_{x} \\tilde{q} q + 45 (\\tilde{q})_{x}^{2} (q)_{x} q - 8 (\\tilde{q})_{x} (q)_{xxxx} + 60 (\\tilde{q})_{x} (q)_{xx} \\tilde{q} q + 60 (\\tilde{q})_{x} (q)_{x}^{2} \\tilde{q} - 16 (\\tilde{q})_{x} \\tilde{q}^{2} q^{3} - 2 (q)_{xxxxx} \\tilde{q} + 15 (q)_{xxx} \\tilde{q}^{2} q + 40 (q)_{xx} (q)_{x} \\tilde{q}^{2} - 26 (q)_{x} \\tilde{q}^{3} q^{2}$"
      ],
      "text/plain": [
       "-(\\tilde{q})_{xxxxx}*q - 6*(\\tilde{q})_{xxxx}*(q)_{x} - 12*(\\tilde{q})_{xxx}*(q)_{xx} + 8*(\\tilde{q})_{xxx}*\\tilde{q}*q**2 + 18*(\\tilde{q})_{xx}*(\\tilde{q})_{x}*q**2 - 14*(\\tilde{q})_{xx}*(q)_{xxx} + 56*(\\tilde{q})_{xx}*(q)_{x}*\\tilde{q}*q + 45*(\\tilde{q})_{x}**2*(q)_{x}*q - 8*(\\tilde{q})_{x}*(q)_{xxxx} + 60*(\\tilde{q})_{x}*(q)_{xx}*\\tilde{q}*q + 60*(\\tilde{q})_{x}*(q)_{x}**2*\\tilde{q} - 16*(\\tilde{q})_{x}*\\tilde{q}**2*q**3 - 2*(q)_{xxxxx}*\\tilde{q} + 15*(q)_{xxx}*\\tilde{q}**2*q + 40*(q)_{xx}*(q)_{x}*\\tilde{q}**2 - 26*(q)_{x}*\\tilde{q}**3*q**2"
      ]
     },
     "metadata": {},
     "output_type": "display_data"
    },
    {
     "data": {
      "text/latex": [
       "$\\displaystyle - (\\tilde{q})_{xxxxxx} q - 6 (\\tilde{q})_{xxxxx} (q)_{x} - 18 (\\tilde{q})_{xxxx} (q)_{xx} + 10 (\\tilde{q})_{xxxx} \\tilde{q} q^{2} + 28 (\\tilde{q})_{xxx} (\\tilde{q})_{x} q^{2} - 26 (\\tilde{q})_{xxx} (q)_{xxx} + 76 (\\tilde{q})_{xxx} (q)_{x} \\tilde{q} q + 19 (\\tilde{q})_{xx}^{2} q^{2} + 176 (\\tilde{q})_{xx} (\\tilde{q})_{x} (q)_{x} q - 22 (\\tilde{q})_{xx} (q)_{xxxx} + 136 (\\tilde{q})_{xx} (q)_{xx} \\tilde{q} q + 120 (\\tilde{q})_{xx} (q)_{x}^{2} \\tilde{q} - 30 (\\tilde{q})_{xx} \\tilde{q}^{2} q^{3} + 113 (\\tilde{q})_{x}^{2} (q)_{xx} q + 98 (\\tilde{q})_{x}^{2} (q)_{x}^{2} - 50 (\\tilde{q})_{x}^{2} \\tilde{q} q^{3} - 10 (\\tilde{q})_{x} (q)_{xxxxx} + 106 (\\tilde{q})_{x} (q)_{xxx} \\tilde{q} q + 276 (\\tilde{q})_{x} (q)_{xx} (q)_{x} \\tilde{q} - 196 (\\tilde{q})_{x} (q)_{x} \\tilde{q}^{2} q^{2} - 2 (q)_{xxxxxx} \\tilde{q} + 19 (q)_{xxxx} \\tilde{q}^{2} q + 62 (q)_{xxx} (q)_{x} \\tilde{q}^{2} + 44 (q)_{xx}^{2} \\tilde{q}^{2} - 52 (q)_{xx} \\tilde{q}^{3} q^{2} - 94 (q)_{x}^{2} \\tilde{q}^{3} q + 5 \\tilde{q}^{4} q^{4}$"
      ],
      "text/plain": [
       "-(\\tilde{q})_{xxxxxx}*q - 6*(\\tilde{q})_{xxxxx}*(q)_{x} - 18*(\\tilde{q})_{xxxx}*(q)_{xx} + 10*(\\tilde{q})_{xxxx}*\\tilde{q}*q**2 + 28*(\\tilde{q})_{xxx}*(\\tilde{q})_{x}*q**2 - 26*(\\tilde{q})_{xxx}*(q)_{xxx} + 76*(\\tilde{q})_{xxx}*(q)_{x}*\\tilde{q}*q + 19*(\\tilde{q})_{xx}**2*q**2 + 176*(\\tilde{q})_{xx}*(\\tilde{q})_{x}*(q)_{x}*q - 22*(\\tilde{q})_{xx}*(q)_{xxxx} + 136*(\\tilde{q})_{xx}*(q)_{xx}*\\tilde{q}*q + 120*(\\tilde{q})_{xx}*(q)_{x}**2*\\tilde{q} - 30*(\\tilde{q})_{xx}*\\tilde{q}**2*q**3 + 113*(\\tilde{q})_{x}**2*(q)_{xx}*q + 98*(\\tilde{q})_{x}**2*(q)_{x}**2 - 50*(\\tilde{q})_{x}**2*\\tilde{q}*q**3 - 10*(\\tilde{q})_{x}*(q)_{xxxxx} + 106*(\\tilde{q})_{x}*(q)_{xxx}*\\tilde{q}*q + 276*(\\tilde{q})_{x}*(q)_{xx}*(q)_{x}*\\tilde{q} - 196*(\\tilde{q})_{x}*(q)_{x}*\\tilde{q}**2*q**2 - 2*(q)_{xxxxxx}*\\tilde{q} + 19*(q)_{xxxx}*\\tilde{q}**2*q + 62*(q)_{xxx}*(q)_{x}*\\tilde{q}**2 + 44*(q)_{xx}**2*\\tilde{q}**2 - 52*(q)_{xx}*\\tilde{q}**3*q**2 - 94*(q)_{x}**2*\\tilde{q}**3*q + 5*\\tilde{q}**4*q**4"
      ]
     },
     "metadata": {},
     "output_type": "display_data"
    }
   ],
   "source": [
    "for n in range(8):\n",
    "    display(sigs_eq[n])"
   ]
  },
  {
   "cell_type": "code",
   "execution_count": 71,
   "id": "c5265385",
   "metadata": {},
   "outputs": [
    {
     "name": "stdout",
     "output_type": "stream",
     "text": [
      "n = 0\n"
     ]
    },
    {
     "data": {
      "text/latex": [
       "$\\displaystyle 0$"
      ],
      "text/plain": [
       "0"
      ]
     },
     "metadata": {},
     "output_type": "display_data"
    },
    {
     "name": "stdout",
     "output_type": "stream",
     "text": [
      "n = 1\n"
     ]
    },
    {
     "data": {
      "text/latex": [
       "$\\displaystyle 0$"
      ],
      "text/plain": [
       "0"
      ]
     },
     "metadata": {},
     "output_type": "display_data"
    },
    {
     "name": "stdout",
     "output_type": "stream",
     "text": [
      "n = 2\n"
     ]
    },
    {
     "data": {
      "text/latex": [
       "$\\displaystyle 0$"
      ],
      "text/plain": [
       "0"
      ]
     },
     "metadata": {},
     "output_type": "display_data"
    },
    {
     "name": "stdout",
     "output_type": "stream",
     "text": [
      "n = 3\n"
     ]
    },
    {
     "data": {
      "text/latex": [
       "$\\displaystyle 0$"
      ],
      "text/plain": [
       "0"
      ]
     },
     "metadata": {},
     "output_type": "display_data"
    },
    {
     "name": "stdout",
     "output_type": "stream",
     "text": [
      "n = 4\n"
     ]
    },
    {
     "data": {
      "text/latex": [
       "$\\displaystyle 0$"
      ],
      "text/plain": [
       "0"
      ]
     },
     "metadata": {},
     "output_type": "display_data"
    },
    {
     "name": "stdout",
     "output_type": "stream",
     "text": [
      "n = 5\n"
     ]
    },
    {
     "data": {
      "text/latex": [
       "$\\displaystyle 0$"
      ],
      "text/plain": [
       "0"
      ]
     },
     "metadata": {},
     "output_type": "display_data"
    },
    {
     "name": "stdout",
     "output_type": "stream",
     "text": [
      "n = 6\n"
     ]
    },
    {
     "data": {
      "text/latex": [
       "$\\displaystyle 0$"
      ],
      "text/plain": [
       "0"
      ]
     },
     "metadata": {},
     "output_type": "display_data"
    },
    {
     "name": "stdout",
     "output_type": "stream",
     "text": [
      "n = 7\n"
     ]
    },
    {
     "data": {
      "text/latex": [
       "$\\displaystyle 0$"
      ],
      "text/plain": [
       "0"
      ]
     },
     "metadata": {},
     "output_type": "display_data"
    },
    {
     "name": "stdout",
     "output_type": "stream",
     "text": [
      "n = 8\n"
     ]
    },
    {
     "data": {
      "text/latex": [
       "$\\displaystyle 0$"
      ],
      "text/plain": [
       "0"
      ]
     },
     "metadata": {},
     "output_type": "display_data"
    },
    {
     "name": "stdout",
     "output_type": "stream",
     "text": [
      "n = 9\n"
     ]
    },
    {
     "data": {
      "text/latex": [
       "$\\displaystyle 0$"
      ],
      "text/plain": [
       "0"
      ]
     },
     "metadata": {},
     "output_type": "display_data"
    },
    {
     "name": "stdout",
     "output_type": "stream",
     "text": [
      "Check 0 done\n",
      "n = 0\n"
     ]
    },
    {
     "data": {
      "text/latex": [
       "$\\displaystyle 0$"
      ],
      "text/plain": [
       "0"
      ]
     },
     "metadata": {},
     "output_type": "display_data"
    },
    {
     "name": "stdout",
     "output_type": "stream",
     "text": [
      "n = 1\n"
     ]
    },
    {
     "data": {
      "text/latex": [
       "$\\displaystyle 0$"
      ],
      "text/plain": [
       "0"
      ]
     },
     "metadata": {},
     "output_type": "display_data"
    },
    {
     "name": "stdout",
     "output_type": "stream",
     "text": [
      "n = 2\n"
     ]
    },
    {
     "data": {
      "text/latex": [
       "$\\displaystyle 0$"
      ],
      "text/plain": [
       "0"
      ]
     },
     "metadata": {},
     "output_type": "display_data"
    },
    {
     "name": "stdout",
     "output_type": "stream",
     "text": [
      "n = 3\n"
     ]
    },
    {
     "data": {
      "text/latex": [
       "$\\displaystyle 0$"
      ],
      "text/plain": [
       "0"
      ]
     },
     "metadata": {},
     "output_type": "display_data"
    },
    {
     "name": "stdout",
     "output_type": "stream",
     "text": [
      "n = 4\n"
     ]
    },
    {
     "data": {
      "text/latex": [
       "$\\displaystyle 0$"
      ],
      "text/plain": [
       "0"
      ]
     },
     "metadata": {},
     "output_type": "display_data"
    },
    {
     "name": "stdout",
     "output_type": "stream",
     "text": [
      "n = 5\n"
     ]
    },
    {
     "data": {
      "text/latex": [
       "$\\displaystyle 0$"
      ],
      "text/plain": [
       "0"
      ]
     },
     "metadata": {},
     "output_type": "display_data"
    },
    {
     "name": "stdout",
     "output_type": "stream",
     "text": [
      "n = 6\n"
     ]
    },
    {
     "data": {
      "text/latex": [
       "$\\displaystyle 0$"
      ],
      "text/plain": [
       "0"
      ]
     },
     "metadata": {},
     "output_type": "display_data"
    },
    {
     "name": "stdout",
     "output_type": "stream",
     "text": [
      "n = 7\n"
     ]
    },
    {
     "data": {
      "text/latex": [
       "$\\displaystyle 0$"
      ],
      "text/plain": [
       "0"
      ]
     },
     "metadata": {},
     "output_type": "display_data"
    },
    {
     "name": "stdout",
     "output_type": "stream",
     "text": [
      "n = 8\n"
     ]
    },
    {
     "data": {
      "text/latex": [
       "$\\displaystyle 0$"
      ],
      "text/plain": [
       "0"
      ]
     },
     "metadata": {},
     "output_type": "display_data"
    },
    {
     "name": "stdout",
     "output_type": "stream",
     "text": [
      "n = 9\n"
     ]
    },
    {
     "data": {
      "text/latex": [
       "$\\displaystyle 0$"
      ],
      "text/plain": [
       "0"
      ]
     },
     "metadata": {},
     "output_type": "display_data"
    },
    {
     "name": "stdout",
     "output_type": "stream",
     "text": [
      "Check 1 done\n"
     ]
    }
   ],
   "source": [
    "for n in range(0, 10):\n",
    "    m = n // 2\n",
    "    X = 0\n",
    "    \n",
    "    if n % 2 == 0:\n",
    "        for j in range(m):\n",
    "            X += - 4**j * binomial(m - Rational(1,2), j) * (-q)**j * q_conj**j * higher_deriv(q, 2*m-1-2*j)\n",
    "    if n % 2 == 1:\n",
    "        for j in range(m-1): \n",
    "            X += 2 * 4**j * binomial(m - Rational(1,2), j) * (-q)**(j+2) * q_conj**j * higher_deriv(q_conj, 2*m-2-2*j)\n",
    "        for j in range(m):\n",
    "            X += - Rational(1,2) * 4**j * (binomial(m - Rational(1,2), j) + binomial(m + Rational(1,2), j)) * (-q)**j * q_conj**j * higher_deriv(q, 2*m-2*j)\n",
    "\n",
    "    X = simplify(X)\n",
    "    \n",
    "    Y = simplify(extract_deriv(variation(sigs_eq[n], q_conj), 1))\n",
    "    \n",
    "    display(Eq(X, Y, evaluate=True))\n",
    "\n",
    "for n in range(0, 10):\n",
    "    m = n // 2\n",
    "    X = 0\n",
    "    \n",
    "    if n % 2 == 0:\n",
    "        for k in range(m+1):\n",
    "            X += 4**(m-k) * binomial(m - 1, m - k) * sigs_eq[2*k]\n",
    "    if n % 2 == 1:\n",
    "        for k in range(m+1):\n",
    "            X += 4**(m-k) * binomial(m - Rational(1,2), m - k) * sigs_eq[2*k+1]\n",
    "        X += catalan(m)\n",
    "        \n",
    "    Y = sigq_eq[n]\n",
    "\n",
    "    print(\"n =\", n)\n",
    "    display(simplify(X - Y))\n",
    "\n",
    "print(\"Check 0 done\")\n",
    "\n",
    "for n in range(0, 10):\n",
    "    m = n // 2\n",
    "    X = 0\n",
    "    \n",
    "    if n % 2 == 0:\n",
    "        for k in range(m+1):\n",
    "            X += 4**(m-k) * binomial(m - 1, m - k) * sigs_eq[2*k]\n",
    "    if n % 2 == 1:\n",
    "        for k in range(m+1):\n",
    "            X += 4**(m-k) * binomial(m - Rational(1,2), m - k) * sigs_eq[2*k+1]\n",
    "        X += catalan(m)\n",
    "        \n",
    "    Y = sigq_eq[n]\n",
    "\n",
    "    print(\"n =\", n)\n",
    "    display(simplify(X - Y))\n",
    "\n",
    "print(\"Check 1 done\")\n",
    "\n"
   ]
  },
  {
   "cell_type": "code",
   "execution_count": null,
   "id": "0a675a04",
   "metadata": {},
   "outputs": [],
   "source": [
    "for n in range(-1, 11):\n",
    "    display(variation(I**n * sigs_eq[n+1], q_conj))"
   ]
  },
  {
   "cell_type": "code",
   "execution_count": null,
   "id": "15c3dc6e",
   "metadata": {},
   "outputs": [],
   "source": [
    "\n",
    "for n in range(0, 8):\n",
    "    m = n // 2\n",
    "    X = 0\n",
    "    if n % 2 == 1:\n",
    "        X += binomial(2*m, m) * q_conj**m * (- q)**(m+1)\n",
    "    \n",
    "    Y = extract_deriv(variation(sigs_eq[n], q_conj), 0)\n",
    "    display(Eq(X, Y))\n",
    "    \n",
    "print(\"Check 1 done\")\n",
    "\n",
    "for n in range(0, 8):\n",
    "    m = n // 2\n",
    "    X = 0\n",
    "    \n",
    "    if n % 2 == 0:\n",
    "        for j in range((n-1)//2):\n",
    "            for k in range(j): \n",
    "                X += catalan(k) * 4**(j-k) * (m-1-j) * binomial(m-1-k-Rational(1,2), j-1-k) * (-q)**j * q_conj**j * higher_deriv(q, 2*m-1-2*j)\n",
    "        \n",
    "    if n % 2 == 1:\n",
    "        for j in range((n-1)//2):\n",
    "            C = 4**j * (2*j+1) * binomial(m-Rational(1,2), j) - 4**j * Rational(1,2) * binomial(m-Rational(1,2), j-1)\n",
    "            for k in range(j+1):\n",
    "                C += catalan(k) * 4**(j-k) * (j+1) * binomial(m-1-k, j-k)\n",
    "            X += C * (-q)**j * q_conj**j * higher_deriv(q, n-1-2*j)\n",
    "\n",
    "        \n",
    "        for j in range((n-1)//2-1):\n",
    "            X += - (8*m-8*j-6) * 4**j * binomial(m-Rational(1,2), j) * (-q)**(j+2) * q_conj**j * higher_deriv(q_conj, n-3-2*j)\n",
    "            \n",
    "            \n",
    "    X = simplify(X)\n",
    "    \n",
    "    Y = simplify(extract_deriv(variation(extract_deriv_alt(sigs_eq[n], 2), q_conj), 1))\n",
    "    \n",
    "    display(Eq(X - Y))\n",
    "    \n",
    "print(\"Check 2 done\")\n",
    "\n",
    "for n in range(0, 10):\n",
    "    m = n // 2\n",
    "    X = 0\n",
    "    \n",
    "    if n % 2 == 0:\n",
    "        for j in range(m):\n",
    "            X += - 4**j * binomial(m - Rational(1,2), j) * (-q)**j * q_conj**j * higher_deriv(q, 2*m-1-2*j)\n",
    "    if n % 2 == 1:\n",
    "        for j in range(m-1): \n",
    "            X += 2 * 4**j * binomial(m - Rational(1,2), j) * (-q)**(j+2) * q_conj**j * higher_deriv(q_conj, 2*m-2-2*j)\n",
    "        for j in range(m):\n",
    "            X += - Rational(1,2) * 4**j * (binomial(m - Rational(1,2), j) + binomial(m + Rational(1,2), j)) * (-q)**j * q_conj**j * higher_deriv(q, 2*m-2*j)\n",
    "\n",
    "    X = simplify(X)\n",
    "    \n",
    "    Y = simplify(extract_deriv(variation(sigs_eq[n], q_conj), 1))\n",
    "    \n",
    "    display(Eq(X, Y, evaluate=True))\n",
    "    \n",
    "print(\"Check 3 done\")\n",
    "\n",
    "    \n",
    "for n in range(10):\n",
    "    X = extract_deriv_alt(deriv(extract_deriv_alt(sigs_eq[n], 2)), 2)\n",
    "    #print(\"A\", simplify(X))\n",
    "    X += extract_deriv_alt(deriv(extract_deriv(sigs_eq[n], 1)), 2)\n",
    "    #print(\"B\", simplify(X))\n",
    "    for k in range(1, n):\n",
    "        X += 2 * extract_deriv_alt(sigs_eq[k], 2) * extract_deriv(sigs_eq[n-k], 0)\n",
    "        #print(\"C\", k, simplify(X))\n",
    "        X += extract_deriv_alt(extract_deriv(sigs_eq[k], 1) * extract_deriv(sigs_eq[n-k], 1), 2)\n",
    "        #print(\"D\", k, simplify(X))\n",
    "    X += - deriv(q) * extract_deriv_alt(Rq_eq[n], 1)\n",
    "    \n",
    "    Y = deriv(extract_deriv_alt(sigs_eq[n], 2))\n",
    "    Y += deriv(extract_deriv(sigs_eq[n], 1))\n",
    "\n",
    "    for k in range(1, n):\n",
    "        Y += 2 * extract_deriv_alt(sigs_eq[k], 2) * extract_deriv(sigs_eq[n-k], 0)\n",
    "        #display(\"C\", k, X)\n",
    "        Y += extract_deriv(sigs_eq[k], 1) * extract_deriv(sigs_eq[n-k], 1)\n",
    "        \n",
    "    Y += - deriv(q) * extract_deriv_alt(Rq_eq[n], 1)\n",
    "    \n",
    "    #display(Eq(sigs_sym[n+1], sigs_eq[n+1]))\n",
    "    #display(Eq(sigs_sym[n+1], simplify(X)))\n",
    "    #display(Eq(sigs_sym[n+1], extract_deriv_alt(simplify(Y), 2)))\n",
    "    #display(Eq(sigs_sym[n+1], extract_deriv_alt(sigs_eq[n+1], 2)))\n"
   ]
  },
  {
   "cell_type": "code",
   "execution_count": null,
   "id": "d94058fd",
   "metadata": {},
   "outputs": [],
   "source": [
    "\n",
    "\n",
    "num = 20\n",
    "\n",
    "for n in range(num):\n",
    "    L = [0 for j in range(n//2)]\n",
    "    for j in range(n//2):\n",
    "        for k in range(j):\n",
    "            for t in range(1, n-2*j):\n",
    "                L[j] += (-1)**t * D[t+1+2*k][k] * E[n-1-2*k-t][j-1-k]\n",
    "    print(L)\n",
    "    LL = [0 for j in range(n//2)]\n",
    "    for j in range(n//2):\n",
    "        for k in range(j):\n",
    "            for t in range(1, n-2*j):\n",
    "                LL[j] += - 4**(j-1) * (-1)**t * binomial(Rational(t+1,2)+k-1,k) * binomial(Rational(n-t-1,2)-k-1,j-1-k)\n",
    "        for k in range(j):\n",
    "            for t in range(1, n-2*j):\n",
    "                for l in range(j-k):\n",
    "                    LL[j] += - 4**(j-1-l) * (-1)**t * binomial(Rational(t+1,2)+k-1,k) * (-1)**l * catalan(l) * binomial(Rational(n-t-1,2)-k-1,j-1-k-l)\n",
    "    print(LL)\n",
    "    LLL = [0 for j in range(n//2)]\n",
    "    for j in range(n//2):\n",
    "        for k in range(j):\n",
    "            for t in range(1, n-2*j):\n",
    "                LLL[j] += - 4**(j-1) * (-1)**t * (-1)**k * binomial(-Rational(t+1,2),k) * (-1)**(j-1-k) * binomial(-Rational(n-t-1,2)+j-1,j-1-k)\n",
    "        for k in range(j):\n",
    "            for t in range(1, n-2*j):\n",
    "                for l in range(j-k):\n",
    "                    LLL[j] += - 4**(j-1-l) * (-1)**t * (-1)**k * binomial(-Rational(t+1,2),k) * catalan(l) * (-1)**(j-1-k) * binomial(-Rational(n-t-1,2)+j-1-l,j-1-k-l)\n",
    "    print(LLL)\n",
    "    print([4**(j-1)*binomial(Rational(n,2)-1,j-1) + 4**(j-1) * sum([catalan(l)/(-4)**l * binomial(Rational(n,2)-1,j-1-l) for l in range(j)]) if n%2==0 else 0 for j in range(n//2)])\n",
    "\n",
    "print(\"-----\")\n",
    "\n",
    "for m in range(-num, num):\n",
    "    L = [0 for j in range(-num, num)]\n",
    "    for j in range(0, num):\n",
    "        X = 0\n",
    "        for k in range(j):\n",
    "            X += 2 * catalan(k) * ((8*(m-j)-6) * Rational(1,4**(k+1)) * binomial(m-k-Rational(3,2), j-1-k))\n",
    "        X += 2 * (-1)**j * binomial(j-m, j)\n",
    "        X += 8 * (j + 1) * binomial(m-1, j+1)\n",
    "        \n",
    "        X += - (8*(m-j)-6) * binomial(m-Rational(1,2), j)\n",
    "        \n",
    "        L[n] = X\n",
    "        \n",
    "    print(L)\n",
    "         \n",
    "print(\"-----\")\n",
    "\n",
    "num = 30\n",
    "for m in range(num):\n",
    "    L = [0 for j in range(num)]\n",
    "    for j in range(num):\n",
    "        X = 0\n",
    "        for k in range(j):\n",
    "            X += 2 * (8 * (m-j) - 6) * Rational(1,4**(k+1)) * binomial(m-k-Rational(3,2), j-k-1) * catalan(k)\n",
    "        X += (2 * (-1)**j * binomial(j - m, j)) if j <= m - 2 else 0\n",
    "        X += 2 * (j+1) * 4**(j+1) * binomial(m-1, j+1)\n",
    "        L[j] = X\n",
    "    print(\"m =\", m)\n",
    "    print([L[j] - (8 * (m-j) - 6) * binomial(m-Rational(1,2), j) for j in range(num)])\n",
    "    \n",
    "print(\"-----\")\n"
   ]
  },
  {
   "cell_type": "code",
   "execution_count": null,
   "id": "743f2b32",
   "metadata": {},
   "outputs": [],
   "source": [
    "for n in range(1, 14, 2):\n",
    "    print([binomial(Rational(n,2)-1, j-1) for j in range(10)])\n",
    "print(\"---\")\n",
    "for n in range(1, 20, 2):\n",
    "    print([4**j * (binomial(Rational(n,2)-1, j) - Rational(1,2) * binomial(Rational(n,2), j-1)) for j in range((n-1)//2)])"
   ]
  },
  {
   "cell_type": "code",
   "execution_count": null,
   "id": "866ca773",
   "metadata": {},
   "outputs": [],
   "source": [
    "def get_expansion(eqn, x0, var, num):\n",
    "    ser = series(eqn, x0=0, x=var, n=num).removeO()\n",
    "    return [simplify(ser.coeff(var**n) if n > 0 else ser.subs(var, 0)) for n in range(0, num)]\n",
    "\n",
    "def coeff(n, j):\n",
    "    return sum([4*(j//2-1) * catalan(k) * 4**(n-k) * binomial(Rational(j,2)-1+n-k, n-k) for k in range(n+1)])\n",
    "\n",
    "def F_even_coeff(n, j):\n",
    "    return sum([4*(n//2-j-1) * catalan(k) * 4**(j-1-k) * binomial(Rational(n-1,2)-1-k, j-1-k) for k in range(j)])\n",
    "\n",
    "def F_odd_coeff(n, j):\n",
    "    Y = 0\n",
    "    Y += - 4**j * Rational(1,2) * binomial(Rational(n,2)-1, j-1)\n",
    "    Y += 4**j * (2*j+1) * binomial(Rational(n,2)-1, j)\n",
    "    Y += sum([(j+1) * catalan(k) * 4**(j-k) * binomial(Rational(n-1,2)-1-k, j-k) for k in range(j+1)])\n",
    "    return Y \n",
    "\n",
    "def G_even_coeff(n, j):\n",
    "    return 0\n",
    "    #return 2 * 4**j * (-1)**(n//2-j) * binomial((n-1)//2, j) * (((n//2-j)%2) * (4*(n//2-j)-5) - 2*(n//2-j-1) + 2*binomial(n-2*j-3,n//2-j-1))\n",
    "\n",
    "def G_odd_coeff(n, j):\n",
    "    return - 2 * (4*((n-1)//2-j)-3) * 4**j * binomial(Rational(n,2)-1, j)\n",
    "\n",
    "def Gt_coeff(n, j):\n",
    "    if n%2 == 0:\n",
    "        return 0\n",
    "    else:\n",
    "        return - 2 * (4*((n-1)//2-j)-3) * 4**j * binomial(Rational(n,2)-1, j)\n",
    "\n",
    "print(\"---\")\n",
    "N = 60\n",
    "print(\"===\")\n",
    "for n in range(3, N-1, 2):\n",
    "    print([Ft[n][j] - F_odd_coeff(n, j) for j in range(0, (n-1)//2)])\n",
    "for n in range(4, N+1, 2):\n",
    "    print([Ft[n][j] - F_even_coeff(n, j) for j in range(0, (n-1)//2)])\n",
    "print(\"###\")\n",
    "for n in range(3, N-1, 2):\n",
    "    print([F_odd_coeff(n, j) for j in range(0, (n-1)//2)])\n",
    "for n in range(4, N+1, 2):\n",
    "    print([F_even_coeff(n, j) for j in range(0, (n-1)//2)])\n",
    "    \n",
    "print(\"---\")\n",
    "\n",
    "for m in range(1, N//2):\n",
    "    L = [0 for j in range(m)]\n",
    "    T = [0 for j in range(m)]\n",
    "\n",
    "    for j in range(0, m):\n",
    "        X = 0\n",
    "        \n",
    "        for k in range(j):\n",
    "            X += 2 * catalan(k) * Rational(1,4**j) * Ft[2*m-2*k-1][j-1-k]\n",
    "        \n",
    "        X += Rational(1,2) * binomial(m-1, j-1)\n",
    "        X += (2*j+1) * binomial(m-1, j)\n",
    "        X += sum([(-1)**k * catalan(k) * Rational(1,4**k) * Rational(1,2) * binomial(m-1, j-1-k) for k in range(j)])\n",
    "        X += sum([(-1)**k * catalan(k) * Rational(1,4**k) * (j+1) * binomial(m-1, j-k) for k in range(j+1)])\n",
    "\n",
    "        Y = Rational(1,4**j) * Ft[2*m+1][j]\n",
    "        L[j] = X - Y\n",
    "        \n",
    "    print(L)\n",
    "\n",
    "print(\"---\")\n",
    "\n",
    "for m in range(1, N//2):\n",
    "    L = [0 for j in range(m)]\n",
    "    for j in range(0, m):\n",
    "        X = 0\n",
    "        for k in range(j):\n",
    "            X += 2 * catalan(k) * Rational(1,4**j) * Ft[2*m-2*k][j-1-k]\n",
    "        \n",
    "        X += - binomial(m-Rational(1,2), j)\n",
    "        X += (j+1) * sum([(-1)**l * catalan(l) * Rational(1,4**l) * binomial(m-Rational(1,2), j-l) for l in range(j+1)])\n",
    "        \n",
    "        Y = Rational(1,4**j) * Ft[2*m+2][j]\n",
    "        #Y = Rational(1,4**j) * sum([(m-j) * catalan(k) * 4**(j-k) * binomial(m-k-Rational(1,2), j-1-k) for k in range(j)])\n",
    "        L[j] = X - Y\n",
    "    print(L)\n",
    "        \n",
    "print(\"---\")\n",
    "\n",
    "for n in range(3, N):\n",
    "    L = [0 for j in range(n//2)]\n",
    "    for j in range(0, n//2):\n",
    "        X = 0\n",
    "        for k in range(j):\n",
    "            X += 2 * catalan(k) * Ft[n-2*k-1][j-1-k]\n",
    "        \n",
    "        X += ((n+1)%2) * 2 * 4**(j-1) * binomial(Rational(n,2)-1, j-1)\n",
    "        X += ((n+1)%2) * 2 * 4**(j-1) * sum([catalan(l) / (-4)**l * binomial(Rational(n,2)-1, j-1-l) for l in range(j)])\n",
    "        \n",
    "        X += (j + (-1)**n * (j+1)) * 4**j * binomial(Rational(n,2)-1, j)\n",
    "        X += (j+1) * sum([(-1)**l * catalan(l) * 4**(j-l) * binomial(Rational(n,2)-1, j-l) for l in range(j+1)])\n",
    "        \n",
    "        Y = Ft[n+1][j]\n",
    "        L[j] = X - Y\n",
    "    print(L)\n",
    "        \n",
    "print(\"---\")\n",
    "\n",
    "for n in range(5, N+1, 2):\n",
    "    print([Gt[n][j] for j in range(0, (n-1)//2-1)])\n",
    "for n in range(5, N+1, 2):\n",
    "    print([G_odd_coeff(n, j) for j in range((n-1)//2-1)])\n",
    "for n in range(6, N+1, 2):\n",
    "    print([Gt[n][j] for j in range(0, (n-1)//2-1)])\n",
    "for n in range(6, N+1, 2):\n",
    "    print([G_even_coeff(n, j) for j in range((n-1)//2-1)])\n",
    "    \n",
    "print(\"---\")\n",
    "\n",
    "for n in range(5, N):\n",
    "    for j in range(0, n//2-1):\n",
    "        X = 0\n",
    "        for k in range(j):\n",
    "            X += 2 * ((n+1)%2) * catalan(k) * Gt[n-2*k-1][j-1-k]\n",
    "        X += - 2 * ((n+1)%2) * (-4)**j * binomial(j-Rational(n,2), j)\n",
    "        X += - 2 * ((n+1)%2) * (j + 1) * 4**(j+1) * binomial(Rational(n,2)-1, j+1)\n",
    "        \n",
    "        Y = Gt[n+1][j]\n",
    "        print(X - Gt_coeff(n+1, j))\n",
    "        #print(X - Y)\n",
    "         \n",
    "print(\"---\")\n",
    "\n",
    "for n in range(5, N):\n",
    "    for j in range(0, n//2-1):\n",
    "        X = 0\n",
    "        for k in range(j):\n",
    "            X += 4 * catalan(k) * Gt[n-2*k-1][j-1-k]\n",
    "        for t in range(1, n//2-j):\n",
    "            for i in range(j+1):\n",
    "                X += 2 * (-1)**t * D[t+1+2*i][i] * D[n-1-2*i-t][j-i]\n",
    "                if t != Rational(n,2) - 1 - j:\n",
    "                    X += 2 * (-1)**t * D[t+1+2*i][i] * D[n-1-2*i-t][j-i]\n",
    "        X += - 2 * (j + 1) * D[n][j+1]\n",
    "        if n%2 == 1:\n",
    "            X = 0\n",
    "            \n",
    "        Y = Gt[n+1][j]\n",
    "        #print(X, Y)\n",
    "\n",
    "x = Symbol('x')\n",
    "\n",
    "for j in range(1, 15, 2):\n",
    "    print(get_expansion((1 / (1 - 4*x)**Rational(j,2) - 1) / (2*x), 0, x, 8))\n",
    "\n",
    "for j in range(5, 14, 2):\n",
    "    print(get_expansion(4*(j//2-1) * ((1 - sqrt(1 - 4*x))/(2*x)) / (1 - 4*x)**Rational(j,2), 0, x, 12))\n",
    "print(\"---\")\n",
    "\n",
    "\n",
    "            "
   ]
  },
  {
   "cell_type": "code",
   "execution_count": null,
   "id": "a16d1c94",
   "metadata": {},
   "outputs": [],
   "source": [
    "def generate_sequence(limit_n, limit_r, p):\n",
    "    # Initialize the array with zeros\n",
    "    a = [[0 for _ in range(limit_r + 1)] for _ in range(limit_n + 1)]\n",
    "\n",
    "    # Base case\n",
    "    for n in range(limit_n + 1):\n",
    "        a[n][0] = 1\n",
    "    # Populate the array using the formula\n",
    "    for n in range(1, limit_n + 1):\n",
    "        for r in range(1, limit_r + 1):\n",
    "            if r > (p - 1) * n:\n",
    "                a[n][r] = 0\n",
    "            else:\n",
    "                a[n][r] = a[n][r - 1] + a[n - 1][r]\n",
    "\n",
    "    # Flatten the array to get the sequence\n",
    "    sequence = [[a[n][r] for r in range(limit_r + 1)] for n in range(limit_n + 1)]\n",
    "    return sequence\n",
    "\n",
    "def curly(n, r, m):\n",
    "    return binomial(n+r, r) - sum([binomial(m*k,k)*binomial(n+r-m*k-1,n-k)/((m-1)*k+1) for k in range(ceiling(Rational(r,m-1)))])\n",
    "\n",
    "def curly2(n, r, m):\n",
    "    if 0 <= r and r < m:\n",
    "        return binomial(n-1 + r, r)\n",
    "    if m <= r and r <= n-1 + m - 1:\n",
    "        return binomial(n-1 + r, r) - binomial(n-1 + r, r - m)\n",
    "    if r > n-1 + m - 1:\n",
    "        return 0\n",
    "\n",
    "def curly3(n, r):\n",
    "    return binomial(n - 1 + r, r) - 1\n",
    "\n",
    "for n in range(5, N):\n",
    "    j = 0\n",
    "    #print([G_coeffs[n][j][t] for t in range(1, n//2-j-1)])\n",
    "\n",
    "t = 1\n",
    "for n in range(2*t, N+1):\n",
    "    print([G_coeffs[n][j][t] for j in range(0, (n-1)//2-t)])\n",
    "t = 2\n",
    "for n in range(2*t, N+1):\n",
    "    print([G_coeffs[n][j][t] for j in range(0, (n-1)//2-t)])\n",
    "t = 3\n",
    "for n in range(2*t, N+1):\n",
    "    print([G_coeffs[n][j][t] for j in range(0, (n-1)//2-t)])\n",
    "t = 4\n",
    "for n in range(2*t, N+1):\n",
    "    print([G_coeffs[n][j][t] / 2 for j in range(0, (n-1)//2-t)])\n",
    "t = 5\n",
    "for n in range(2*t, N+1):\n",
    "    print([G_coeffs[n][j][t] / 2 for j in range(0, (n-1)//2-t)])\n",
    "\n",
    "# Compare the sequences\n",
    "for n in range(5, N):\n",
    "    j = 0\n",
    "    print([G_coeffs[n][j][t] for t in range(1, n//2-j-1)])\n",
    "    print([2*curly3(n-(t+1), t+1) for t in range(1, n//2-j-1)])\n",
    "    \n",
    "for n in range(0, 16):\n",
    "    print([curly3(n, r, 2) for r in range(0, 12)])\n",
    "for n in range(0, 16):\n",
    "    print([curly3(n, r, 3) for r in range(0, 12)])\n",
    "for n in range(0, 16):\n",
    "    print([curly3(n, r, 4) for r in range(0, 12)])\n",
    "\n",
    "    "
   ]
  },
  {
   "cell_type": "code",
   "execution_count": null,
   "id": "33983f26",
   "metadata": {},
   "outputs": [],
   "source": [
    "def get_expansion(eqn, x0, var, num):\n",
    "    ser = series(eqn, x0=0, x=var, n=num).removeO()\n",
    "    return [simplify(ser.coeff(var**n) if n > 0 else ser.subs(var, 0)) for n in range(0, num)]\n",
    "\n",
    "def coeff(n, k):\n",
    "    return sum([(-2)**(n+2) * binomial(n+k+4, j) * Rational(1,(-2)**j) for j in range(0, n+2)])\n",
    "\n",
    "for n in range(14):\n",
    "    print([coeff(n, m) for m in range(14)])\n",
    "    \n",
    "print(\"---\")\n",
    "\n",
    "x = Symbol('x')\n",
    "for k in range(0, 12):\n",
    "    print(get_expansion(2 / (1 + x) * 1 / (1 - x)**k, 0, x, 14))\n",
    "print(\"---\")\n",
    "for k in range(0, 12):\n",
    "    print(get_expansion(2 * 1 / ((1 + x)**4 * (1 - x)**k), 0, x, 14))\n",
    "print(\"---\")"
   ]
  },
  {
   "cell_type": "code",
   "execution_count": 33,
   "id": "147adba9",
   "metadata": {},
   "outputs": [
    {
     "name": "stdout",
     "output_type": "stream",
     "text": [
      "n = 5 j = 0 t = 1\n",
      "n = 6 j = 0 t = 1\n",
      "n = 7 j = 0 t = 2\n",
      "n = 7 j = 1 t = 1\n",
      "n = 7 j = 0 t = 1\n",
      "n = 8 j = 0 t = 1\n",
      "n = 8 j = 0 t = 2\n",
      "n = 8 j = 1 t = 1\n",
      "----\n",
      "----\n",
      "----\n",
      "----\n",
      "----\n",
      "[-30, -53, -82]\n",
      "[-23, -29]\n",
      "[-6]\n",
      "[-68, -137]\n",
      "[-69]\n",
      "[]\n",
      "[]\n",
      "[-120]\n",
      "[]\n",
      "[]\n",
      "[]\n",
      "[]\n",
      "[0, 0, -6, 0, 0, 0, 0, 0, 0]\n",
      "[0, -6, 6, 0, 0, 0, 0, 0]\n",
      "[0, -23, 0, 0, 0, 0, 0, 0]\n",
      "[-23, 23, 0, 0, 0, 0, 0]\n",
      "[46, -23, 0, 0, 0, 0]\n",
      "[-30, -69, 0, 0, 0, 0, 0]\n",
      "[-39, 69, 0, 0, 0, 0]\n",
      "[108, -69, 0, 0, 0]\n",
      "[-177, 69, 0, 0]\n",
      "[-68, 0, 0, 0, 0, 0]\n",
      "[68, 0, 0, 0, 0]\n",
      "[-68, 0, 0, 0]\n",
      "[68, 0, 0]\n",
      "[-68, 0]\n",
      "[-120, 0, 0, 0, 0]\n",
      "[120, 0, 0, 0]\n",
      "[-120, 0, 0]\n",
      "[120, 0]\n",
      "[-120]\n",
      "[]\n",
      "[0, 0, 0, 0]\n",
      "[0, 0, 0]\n",
      "[0, 0]\n",
      "[0]\n",
      "[]\n",
      "[]\n",
      "[]\n",
      "[0, 0, 0]\n",
      "[0, 0]\n",
      "[0]\n",
      "[]\n",
      "[]\n",
      "[]\n",
      "[]\n",
      "[]\n",
      "[0, 0]\n",
      "[0]\n",
      "[]\n",
      "[]\n",
      "[]\n",
      "[]\n",
      "[]\n",
      "[]\n",
      "[]\n",
      "[0]\n",
      "[]\n",
      "[]\n",
      "[]\n",
      "[]\n",
      "[]\n",
      "[]\n",
      "[]\n",
      "[]\n",
      "[]\n",
      "[]\n",
      "[]\n",
      "[]\n",
      "[]\n",
      "[]\n",
      "[]\n",
      "[]\n",
      "[]\n",
      "[]\n",
      "[]\n",
      "[]\n"
     ]
    }
   ],
   "source": [
    "N = 8\n",
    "\n",
    "F_coeffs = [[[0 for t in range(0,n-1-2*j)] for j in range(0, (n-1)//2)] for n in range(N+1)]\n",
    "G_coeffs = [[[0 for t in range(0,(n-1)//2-j)] for j in range(0, (n-1)//2 - 1)] for n in range(N+1)]\n",
    "\n",
    "for n in range(N+1):\n",
    "    #display(extract_deriv_alt(sigs_eq[n], 2))\n",
    "    #print(F_coeffs[n])\n",
    "    #print(G_coeffs[n])\n",
    "    pass\n",
    "\n",
    "for n in range(0, N+1):\n",
    "    \n",
    "    expr = extract_deriv_alt(sigs_eq[n], 2)\n",
    "    #display(expr)\n",
    "    \n",
    "    if isinstance(expr, Add):\n",
    "        for mon in expr.args:\n",
    "            coefficient = 0\n",
    "            #print(\"mon =\", mon)\n",
    "            count_q_conj = 0\n",
    "            t = 0\n",
    "            j = 0\n",
    "            for fac in mon.args:\n",
    "                if isinstance(fac, Pow):\n",
    "                    var_name = get_var_name_from_deriv(fac.base)\n",
    "                    order = get_order_from_deriv(fac.base)\n",
    "                    if var_name == q_conj.name:\n",
    "                        if order == 0:\n",
    "                            j = fac.exp\n",
    "                        if order > 0:\n",
    "                            count_q_conj += fac.exp\n",
    "                            t = order\n",
    "                            \n",
    "                elif isinstance(fac, Symbol):\n",
    "                    var_name = get_var_name_from_deriv(fac)\n",
    "                    order = get_order_from_deriv(fac)\n",
    "                    if var_name == q_conj.name: \n",
    "                        if order == 0:\n",
    "                            j = 1\n",
    "                        if order > 0:\n",
    "                            count_q_conj += 1\n",
    "                            t = order\n",
    "                            \n",
    "                elif isinstance(fac, Number):\n",
    "                    coefficient = fac\n",
    "                    \n",
    "            #print(\"type =\", count_q_conj, \"j =\", j, \"t =\", t, \"coeff =\", coefficient)\n",
    "            \n",
    "            if count_q_conj == 1:\n",
    "                F_coeffs[n][j][t] += (-1)**j * coefficient\n",
    "            if count_q_conj == 2:\n",
    "                if t >= (n-1)//2-j:\n",
    "                    t = n - 3 - 2 * j - t\n",
    "                print(\"n =\", n, \"j =\", j, \"t =\", t)\n",
    "                G_coeffs[n][j][t] += (-1)**j * coefficient\n",
    "\n",
    "    if isinstance(expr, Mul):\n",
    "        mon = expr\n",
    "        coefficient = 0\n",
    "        #print(\"mon =\", mon)\n",
    "        count_q_conj = 0\n",
    "        t = 0\n",
    "        j = 0\n",
    "        for fac in mon.args:\n",
    "            if isinstance(fac, Pow):\n",
    "                var_name = get_var_name_from_deriv(fac.base)\n",
    "                order = get_order_from_deriv(fac.base)\n",
    "                if var_name == q_conj.name:\n",
    "                    if order == 0:\n",
    "                        j = fac.exp\n",
    "                    if order > 0:\n",
    "                        count_q_conj += fac.exp\n",
    "                        t = order\n",
    "\n",
    "            elif isinstance(fac, Symbol):\n",
    "                var_name = get_var_name_from_deriv(fac)\n",
    "                order = get_order_from_deriv(fac)\n",
    "                if var_name == q_conj.name: \n",
    "                    if order == 0:\n",
    "                        j = 1\n",
    "                    if order > 0:\n",
    "                        count_q_conj += 1\n",
    "                        t = order\n",
    "\n",
    "            elif isinstance(fac, Number):\n",
    "                coefficient = fac\n",
    "\n",
    "        #print(\"type =\", count_q_conj, \"j =\", j, \"t =\", t, \"coeff =\", coefficient)\n",
    "\n",
    "        if count_q_conj == 1:\n",
    "            F_coeffs[n][j][t] += (-1)**j * coefficient\n",
    "        if count_q_conj == 2:\n",
    "            if t >= (n-1)//2-j:\n",
    "                t = n - 3 - 2 * j - t\n",
    "            print(\"n =\", n, \"j =\", j, \"t =\", t)\n",
    "            G_coeffs[n][j][t] += (-1)**j * coefficient\n",
    "            \n",
    "    #display(F_coeffs[n])\n",
    "    #display(G_coeffs[n])\n",
    "    \n",
    "print(\"----\")\n",
    "first = 0\n",
    "for n in range(0, N+1):\n",
    "    for j in range(0, (n-1)//2):\n",
    "        for t in range(1, n-1-2*j):\n",
    "            #print(n, j, t, F_coeffs[n][j][t])\n",
    "            first += 1\n",
    "            pass\n",
    "print(\"----\")\n",
    "for t in range(1, N):\n",
    "    for n in range(t+2, N+1):\n",
    "        for j in range(0, (n-t)//2):\n",
    "            #print(n, j, t, F_coeffs[n][j][t])\n",
    "            pass\n",
    "print(\"----\")\n",
    "third = 0\n",
    "for t in range(1, N):\n",
    "    for j in range(0, (N-t)//2):\n",
    "        for n in range(t+2+2*j, N+1):\n",
    "            #print(n, j, t, F_coeffs[n][j][t])\n",
    "            third += 1\n",
    "            pass\n",
    "        \n",
    "#print(third - first)\n",
    "\n",
    "for n in range(0, N+1):\n",
    "    #print([[F_coeffs[n][j][t] for t in range(1, n-1-2*j)] for j in range(0, (n-1)//2)])\n",
    "    pass\n",
    "print(\"----\")\n",
    "for t in range(1, N):\n",
    "    #print([[F_coeffs[n][j][t] for j in range(0, (n-t)//2)] for n in range(t+2, N+1)])\n",
    "    pass\n",
    "print(\"----\")\n",
    "\n",
    "def delta_list(A, k):\n",
    "    if k > 0:\n",
    "        return delta_list([A[n] - A[n-1] for n in range(1, len(A))], k-1)\n",
    "    if k == 0:\n",
    "        return A\n",
    "\n",
    "#for m in range(10):\n",
    "    #print([2**n * binomial(-n, m) for n in range((14-m)//2)])\n",
    "\n",
    "triangle = [[[0 for i in range(j+t+1)] for j in range((N-t)//2)] for t in range(0, N)]\n",
    "\n",
    "for t in range(1, N):\n",
    "    for j in range(0, (N-t)//2):\n",
    "        #print(\"t =\", t, \"j =\", j)\n",
    "        for i in range(j+t+1):\n",
    "            deltas = delta_list([F_coeffs[n][j][t] for n in range(1+t+2+2*j, N+1)], i)\n",
    "            if len(deltas) > 0:\n",
    "                #print(deltas)\n",
    "                triangle[t][j][i] = deltas[0]\n",
    "            else:\n",
    "                #print(\"#\")\n",
    "                break\n",
    "\n",
    "def coeff(t, j, i):\n",
    "    if j == 0 and i == 0:\n",
    "        return sum([2 * k//2 for k in range(1, t+1)])\n",
    "    else:\n",
    "        return 0\n",
    "\n",
    "    \n",
    "triangle = [[0 for i in range(t+2)] for t in range(0, N)]\n",
    "\n",
    "for t in range(1, N//2):\n",
    "    for j in range(0, (N-t)//2):\n",
    "        #print([F_coeffs[n][j][t] for n in range(1+t+2+2*j, N+1)])\n",
    "        for i in range(j+t+1):\n",
    "            if j == 1:\n",
    "                deltas = delta_list([F_coeffs[n][j][t] / 2 for n in range(1+t+2+2*j, N+1)], i)\n",
    "                print(deltas)\n",
    "                if len(deltas) > 0:\n",
    "                    triangle[t][i] = deltas[0]\n",
    "        #print(\"-----\")\n",
    "        #print(delta_list(triangle[t][j][::-1], 0))\n",
    "        #print(delta_list(triangle[t][j][::-1], 1))\n",
    "        pass\n",
    "                                \n",
    "for t in range(0, N):\n",
    "    #print([triangle[t][i] for i in range(t+2)][::-1])\n",
    "    pass\n",
    "\n",
    "for i in range(0, N+2):\n",
    "    for d in range(0, i+2):\n",
    "        print(delta_list([triangle[t][t+1-i] for t in range(i-1, N)], d))\n",
    "    "
   ]
  },
  {
   "cell_type": "code",
   "execution_count": null,
   "id": "d8520313",
   "metadata": {},
   "outputs": [],
   "source": [
    "x = Symbol('x')\n",
    "F_polys = [[(t, j) for j in range(0, (N-t)//2)] for t in range(0, N)]\n",
    "for t in range(1, N):\n",
    "    for j in range(0, (N-t)//2):\n",
    "        X = list(range(t+2+2*j, N+1))\n",
    "        Y = [F_coeffs[n][j][t] for n in X]\n",
    "        F_polys[t][j] = simplify(polys.specialpolys.interpolating_poly(len(X), x, X=X, Y=Y))\n",
    "        if Poly(F_polys[t][j], x).degree()+1 >= len(X):\n",
    "            F_polys[t][j] = Symbol(\"\\lambda\")\n",
    "    \n",
    "display(A_polys[0])\n",
    "display(A_polys[1])\n",
    "display(A_polys[2])\n",
    "display(A_polys[3])\n",
    "display(A_polys[4])\n",
    "display(A_polys[5])\n",
    "\n",
    "display(Eq(Symbol(\"F_{\" + str((1,0)) + \"}\"), F_polys[1][0] + A_polys[1]))\n",
    "display(Eq(Symbol(\"F_{\" + str((1,1)) + \"}\"), F_polys[1][1] - 3 * A_polys[2] - 2 * A_polys[1] + 4 * A_polys[0]))\n",
    "display(Eq(Symbol(\"F_{\" + str((1,2)) + \"}\"), F_polys[1][2] + 6 * A_polys[3]))\n",
    "\n",
    "for t in range(1, N):\n",
    "    for j in range(0, (N-t)//2):\n",
    "        display(Eq(Symbol(\"F_{\" + str((t,j)) + \"}\"), F_polys[t][j]))\n",
    "\n"
   ]
  },
  {
   "cell_type": "code",
   "execution_count": null,
   "id": "d9a4dd3c",
   "metadata": {},
   "outputs": [],
   "source": [
    "expr = sigs_eq[7] + q * q_conj + q**3 * q_conj**7\n",
    "display(expr)\n",
    "#display(extract_deriv(expr, 0))\n",
    "#display(extract_deriv(expr, 1))\n",
    "#display(extract_deriv(expr, 2))\n",
    "display(extract_deriv_alt(expr, 2))\n",
    "display(expr - extract_deriv(expr, 0) - extract_deriv(expr, 1) - extract_deriv(expr, 2))\n",
    "display(expr - extract_deriv(expr, 0) - extract_deriv(expr, 1) - extract_deriv_alt(expr, 2))"
   ]
  },
  {
   "cell_type": "code",
   "execution_count": null,
   "id": "c131b2d0",
   "metadata": {},
   "outputs": [],
   "source": [
    "x = Symbol('x') \n",
    "A_polys = [0 for n in range(0, N//2)] \n",
    "B_polys = [0 for n in range(0, N//2)]\n",
    "\n",
    "for k in range(0, N//2):\n",
    "    X = list(range(2*k+2, N+1)) \n",
    "    #print(\"X =\", X) \n",
    "    Y = [A_coeffs[n][k] for n in X] \n",
    "    #print(\"Y =\", Y) \n",
    "    if len(X) >= k:\n",
    "        #print(\"For A, k =\", k, \"ok\")\n",
    "        pass\n",
    "    else: \n",
    "        #print(\"For A, k =\", k, \"not ok\")\n",
    "        pass\n",
    "    A_polys[k] = simplify(polys.specialpolys.interpolating_poly(len(X), x, X=X, Y=Y))\n",
    "    \n",
    "for k in range(0, N//2):\n",
    "    X = list(range(2*k+2, N+1)) \n",
    "    #print(\"X =\", X) \n",
    "    Y = [B_coeffs[n][k] for n in X] \n",
    "    #print(\"Y =\", Y) \n",
    "    if len(X) >= k:\n",
    "        #print(\"For B, k =\", k, \"ok\")\n",
    "        pass\n",
    "    else: \n",
    "        #print(\"For B, k =\", k, \"not ok\")\n",
    "        pass\n",
    "    B_polys[k] = simplify(polys.specialpolys.interpolating_poly(len(X), x, X=X, Y=Y))\n",
    "    \n",
    "for k in range(N//2):\n",
    "    display(A_polys[k])\n",
    "    \n",
    "for k in range(N//2):\n",
    "    display(B_polys[k])\n",
    "\n",
    "display(B_polys[0] + 2 * A_polys[0])\n",
    "display(B_polys[1] + 2 * A_polys[1] - A_polys[0])\n",
    "display(B_polys[2] + 2 * A_polys[2] - A_polys[1] + 2 * A_polys[0])\n",
    "display(B_polys[3] + 2 * A_polys[3] - A_polys[2] + 2 * A_polys[1] - 5 * A_polys[0])\n",
    "display(B_polys[4] + 2 * A_polys[4] - A_polys[3] + 2 * A_polys[2] - 5 * A_polys[1] + 14 * A_polys[0])\n",
    "display(B_polys[5] + 2 * A_polys[5] - A_polys[4] + 2 * A_polys[3] - 5 * A_polys[2] + 14 * A_polys[1] - 42 * A_polys[0])\n"
   ]
  },
  {
   "cell_type": "code",
   "execution_count": null,
   "id": "8693bc50",
   "metadata": {},
   "outputs": [],
   "source": [
    "N = 16\n",
    "\n",
    "for k in range(0,N//2):\n",
    "    print([A_coeffs[n+1][k] for n in range(2*k+2, N-1)])\n",
    "    print([B_coeffs[n][k] for n in range(2*k+4, N+1)])\n",
    "\n",
    "print(\"test:\")\n",
    "for k in range(0,N//2):\n",
    "    \n",
    "    L = [A_coeffs[n][k] for n in range(2*k+3, N-1)]\n",
    "    for n in range(2*k+3, N-1):\n",
    "        L[n-(2*k+3)] -= B_coeffs[n+1][k]\n",
    "        for j in range(0, k):\n",
    "            L[n-(2*k+3)] -= binomial(2*j, j-1) * (-1)**(j+1) * B_coeffs[n+1][k-1-j]\n",
    "    print(L)\n",
    "    \n",
    "print(\"test 2:\")\n",
    "for k in range(0,N//2):\n",
    "    \n",
    "    L = [(-1)**k * B_coeffs[n+1][k] for n in range(2*k+3, N)]\n",
    "    for n in range(2*k+3, N):\n",
    "        for j in range(0, k+1):\n",
    "            #L[n-(2*k+3)] += (catalan(j+1) - 2 * catalan(j)) * (-1)**(k-j) * A_coeffs[n][k-j]\n",
    "            L[n-(2*k+3)] += (catalan(j+1) - 2 * catalan(j)) * (-1)**(n+1) * (-4)**(k-j) * binomial(Rational(n,2) - 1, k-j)\n",
    "            #L[n-(2*k+3)] += 4 / (j+3) * binomial(2*j+1,j-1) * A_coeffs[n][k-1-j]\n",
    "\n",
    "    print(L)\n"
   ]
  },
  {
   "cell_type": "code",
   "execution_count": null,
   "id": "19812655",
   "metadata": {},
   "outputs": [],
   "source": [
    "N = 16\n",
    "\n",
    "for k in range(0,N//2):\n",
    "    print([A_coeffs[n+1][k] for n in range(2*k+2, N-1)])\n",
    "    print([B_coeffs[n][k] for n in range(2*k+4, N+1)])\n",
    "\n",
    "print(\"test:\")\n",
    "for k in range(0,N//2):\n",
    "    \n",
    "    L = [A_coeffs[n][k] for n in range(2*k+3, N-1)]\n",
    "    for n in range(2*k+3, N-1):\n",
    "        L[n-(2*k+3)] -= B_coeffs[n+1][k]\n",
    "        for j in range(0, k):\n",
    "            L[n-(2*k+3)] -= binomial(2*j, j-1) * (-1)**(j+1) * B_coeffs[n+1][k-1-j]\n",
    "    print(L)\n",
    "    \n",
    "print(\"test 2:\")\n",
    "for k in range(0,N//2):\n",
    "    \n",
    "    L = [(-1)**k * B_coeffs[n+1][k] for n in range(2*k+3, N)]\n",
    "    for n in range(2*k+3, N):\n",
    "        for j in range(0, k+1):\n",
    "            #L[n-(2*k+3)] += (catalan(j+1) - 2 * catalan(j)) * (-1)**(k-j) * A_coeffs[n][k-j]\n",
    "            L[n-(2*k+3)] += (catalan(j+1) - 2 * catalan(j)) * (-1)**(n+1) * (-4)**(k-j) * binomial(Rational(n,2) - 1, k-j)\n",
    "            #L[n-(2*k+3)] += 4 / (j+3) * binomial(2*j+1,j-1) * A_coeffs[n][k-1-j]\n",
    "\n",
    "    print(L)\n"
   ]
  },
  {
   "cell_type": "code",
   "execution_count": null,
   "id": "99b80a53",
   "metadata": {},
   "outputs": [],
   "source": [
    "x = Symbol('x') \n",
    "A_polys = [0 for n in range(0, N//2)] \n",
    "B_polys = [0 for n in range(0, (N-1)//2)]\n",
    "\n",
    "for k in range(0, N//2):\n",
    "    X = list(range(2*(k+1), N+1)) \n",
    "    #print(\"X =\", X) \n",
    "    Y = [(-1)**n * A_coeffs[n][k] for n in X] \n",
    "    #print(\"Y =\", Y) \n",
    "    if len(X) >= k:\n",
    "        print(\"For A, k =\", k, \"ok\")\n",
    "    else: \n",
    "        print(\"For A, k =\", k, \"not ok\")\n",
    "    A_polys[k] = simplify(polys.specialpolys.interpolating_poly(len(X), x, X=X, Y=Y))\n",
    "    \n",
    "    #display(A_polys[k])\n",
    "    \n",
    "for k in range(0, (N-1)//2):\n",
    "    X = list(range(2*(k+2), N+1)) \n",
    "    #print(\"X =\", X) \n",
    "    Y = [(-1)**n * B_coeffs[n][k] for n in X] \n",
    "    #print(\"Y =\", Y) \n",
    "    if len(X) >= k:\n",
    "        print(\"For B, k =\", k, \"ok\")\n",
    "    else:\n",
    "        print(\"For B, k =\", k, \"not ok\")\n",
    "    B_polys[k] = simplify(polys.specialpolys.interpolating_poly(len(X), x, X=X, Y=Y))\n",
    "    \n",
    "    #display(B_polys[k])\n",
    "    \n",
    "display(simplify(- B_polys[0].subs(x, x+1)))\n",
    "display(simplify(A_polys[0]))\n",
    "\n",
    "display(simplify(- B_polys[1].subs(x, x+1)))\n",
    "display(simplify(A_polys[1]))\n",
    "\n",
    "display(simplify(- B_polys[2].subs(x, x+1)))\n",
    "display(simplify(A_polys[2] - A_polys[0]))\n",
    "\n",
    "display(simplify(- B_polys[3].subs(x, x+1)))\n",
    "display(simplify(A_polys[3] - A_polys[1] - 4 * A_polys[0]))\n",
    "\n",
    "display(simplify(- B_polys[4].subs(x, x+1)))\n",
    "display(simplify(A_polys[4] - A_polys[2] - 4 * A_polys[1] - 14 * A_polys[0]))\n",
    "\n",
    "display(simplify(- B_polys[5].subs(x, x+1)))\n",
    "display(simplify(A_polys[5] - A_polys[3] - 4 * A_polys[2] - 14 * A_polys[1] - 48 * A_polys[0]))\n",
    "\n",
    "\n",
    "display(- A_polys[0])\n",
    "display(simplify(B_polys[0].subs(x, x+1)))\n",
    "\n",
    "display(- A_polys[1])\n",
    "display(simplify(B_polys[1].subs(x, x+1)))\n",
    "\n",
    "display(- A_polys[2])\n",
    "display(simplify(B_polys[2].subs(x, x+1) + B_polys[0].subs(x, x+1)))\n",
    "\n",
    "display(- A_polys[3])\n",
    "display(simplify(B_polys[3].subs(x, x+1) + B_polys[1].subs(x, x+1) + 4 * B_polys[0].subs(x, x+1)))\n",
    "\n",
    "display(- A_polys[4])\n",
    "display(simplify(B_polys[4].subs(x, x+1) + B_polys[2].subs(x, x+1) + 4 * B_polys[1].subs(x, x+1) + 15 * B_polys[0].subs(x, x+1)))\n",
    "\n",
    "display(- A_polys[5])\n",
    "display(simplify(B_polys[5].subs(x, x+1) + B_polys[3].subs(x, x+1) + 4 * B_polys[2].subs(x, x+1) + 15 * B_polys[1].subs(x, x+1) + 56 * B_polys[0].subs(x, x+1)))\n",
    "\n",
    "\n"
   ]
  },
  {
   "cell_type": "code",
   "execution_count": null,
   "id": "ba450e71",
   "metadata": {},
   "outputs": [],
   "source": []
  },
  {
   "cell_type": "code",
   "execution_count": null,
   "id": "bfc7f478",
   "metadata": {},
   "outputs": [],
   "source": [
    "n = 5\n",
    "print([binomial(n - Rational(1,2), n - m) * (-4)**(n-m) for m in range(-3, 8)])\n",
    "\n",
    "def get_expansion(eqn, x0, var, num):\n",
    "    epsilonpos = Symbol('epsilon_2', positive=True)\n",
    "    epsiloninvpos = Symbol('eta_2', positive=True)\n",
    "    \n",
    "    eqn = eqn.subs(epsilon, epsilonpos).subs(epsiloninv, epsiloninvpos)\n",
    "    ser = series(eqn, x0=0, x=var, n=num).removeO().subs(epsilonpos, epsilon).subs(epsiloninvpos, epsiloninv)\n",
    "    return [simplify(ser.coeff(var**n) if n > 0 else ser.subs(var, 0)) for n in range(0, num)]\n",
    "\n",
    "    \n",
    "x = Symbol('x')\n",
    "\n",
    "N = 10\n",
    "for n in range(1, N+1):\n",
    "    #display(Eq(rq_sym[n], rq_eq[n]))\n",
    "    #display(Eq(Rq_sym[n], Rq_eq[n]))\n",
    "    \n",
    "    nn = n // 2\n",
    "\n",
    "    #coefficients = get_expansion((1 - 4*x)**Rational(n-2,2), 0, x, n+1)\n",
    "\n",
    "    coefficients = [binomial(Rational(n-2,2), m) * (-4)**(m) for m in range(0, n+1)]\n",
    "    \n",
    "    Y = 0\n",
    "    \n",
    "    if n % 2 == 0:\n",
    "        for m in range(1, nn+1):\n",
    "            Y += coefficients[nn-m] * sigq_eq[2*m]\n",
    "      \n",
    "    if n % 2 == 1:\n",
    "        Y += (-1)**(nn+1) * catalan(nn)\n",
    "        for m in range(0, nn+1):\n",
    "            Y += coefficients[nn-m] * sigq_eq[2*m+1]\n",
    "        \n",
    "    #display(Eq(Rq_sym[n], simplify(Rq_eq[n])))\n",
    "    \n",
    "    #display(Eq(SS_sym[n], simplify(deriv(variation(SS_eq[n], u)))))\n",
    "    \n",
    "    #display(Eq(sigs_sym[n], sigs_eq[n]))\n",
    "    #display(Eq(Rq_sym[n], extract_single_deriv(simplify(Rq_eq[n]))))\n",
    "\n",
    "    display(Eq(sigs_sym[n], simplify(extract_deriv_alt(sigs_eq[n], 2))))\n",
    "\n",
    "    #display(Eq(Rq_sym[n], extract_single_deriv(simplify(Rq_eq[n]))))\n",
    "\n",
    "    #display(Eq(rq_sym[n], simplify(rq_eq[n])))\n",
    "    #display(Eq(sigs_sym[n], simplify(sigs_eq[n])))\n",
    "\n",
    "    #display(Eq(sigq_sym[n], simplify(sigq_eq[n])))\n",
    "\n",
    "    #display(Eq(Rq_sym[n], simplify(Rq_eq[n])))\n",
    "    #display(Eq(sigq_sym[n], simplify(sigs_eq[n])))\n",
    "\n",
    "    #display(Eq(Symbol('0_{'+ str(n) + '}'), simplify(sigs_eq[n] - Y)))\n",
    "\n",
    "    Z = 0\n",
    "\n",
    "   "
   ]
  },
  {
   "cell_type": "code",
   "execution_count": null,
   "id": "83276461",
   "metadata": {},
   "outputs": [],
   "source": [
    "for n in range(N+1):\n",
    "    display(Eq(sig_sym[n], polynomize(variation(sigq_eq[n], q_conj))))\n",
    "    #display(Eq(E_minus_sym[n], polynomize(E_minus_eq[n])))"
   ]
  },
  {
   "cell_type": "code",
   "execution_count": 6,
   "id": "7350cc97",
   "metadata": {},
   "outputs": [
    {
     "name": "stdout",
     "output_type": "stream",
     "text": [
      "n = 0\n",
      "n = 1\n",
      "n = 2\n",
      "n = 3\n",
      "n = 4\n",
      "n = 5\n",
      "n = 6\n",
      "n = 7\n",
      "n = 8\n",
      "moving on...\n"
     ]
    }
   ],
   "source": [
    "\n",
    "def uv_sub(expr):\n",
    "    return multi_substituter(expr, [(u, W_minus), (v, W_plus)])\n",
    "def NV_sub(expr):\n",
    "    return multi_substituter(expr, [(u, V_sym/2 - N_sym), (v, V_sym/2 + N_sym)])\n",
    "def AV_sub(expr):\n",
    "    return multi_substituter(expr, [(u, V_sym/2 - epsiloninv**2 * (A_sym - 1)), (v, V_sym/2 + epsiloninv**2 * (A_sym - 1))])\n",
    "\n",
    "R_sym = [Symbol('R_{' + str(n) + '}') for n in range(N+1)]\n",
    "R_eq = [R_sym[n] for n in range(N+1)]\n",
    "\n",
    "EE_plus_sym = [Symbol('\\\\mathcal{E}_+^{' + str(n) + '}') for n in range(N+1)]\n",
    "EE_plus_eq = [EE_plus_sym[n] for n in range(N+1)]\n",
    "\n",
    "EE_minus_sym = [Symbol('\\\\mathcal{E}_-^{' + str(n) + '}') for n in range(N+1)]\n",
    "EE_minus_eq = [EE_minus_sym[n] for n in range(N+1)]\n",
    "\n",
    "HH_sym = [Symbol('\\\\mathcal{H}^{' + str(n-1) + '}') for n in range(N+1)]\n",
    "HH_eq = [HH_sym[n] for n in range(N+1)]\n",
    "\n",
    "EE_sym = [Symbol('\\\\mathcal{E}^{' + str(n) + '}') for n in range(N+1)]\n",
    "EE_eq = [EE_sym[n] for n in range(N+1)]\n",
    "\n",
    "PP_sym = [Symbol('\\\\mathcal{P}^{' + str(n) + '}') for n in range(N+1)]\n",
    "PP_eq = [PP_sym[n] for n in range(N+1)]\n",
    "\n",
    "EEo_sym = [Symbol('\\\\mathcal{E}_o^{' + str(n) + '}') for n in range(N+1)]\n",
    "EEo_eq = [EEo_sym[n] for n in range(N+1)]\n",
    "\n",
    "PPo_sym = [Symbol('\\\\mathcal{P}_o^{' + str(n) + '}') for n in range(N+1)]\n",
    "PPo_eq = [PPo_sym[n] for n in range(N+1)]\n",
    "\n",
    "EEh_sym = [Symbol('\\\\mathcal{E}_h^{' + str(n) + '}') for n in range(N+1)]\n",
    "EEh_eq = [EEh_sym[n] for n in range(N+1)]\n",
    "\n",
    "PPh_sym = [Symbol('\\\\mathcal{P}_h^{' + str(n) + '}') for n in range(N+1)]\n",
    "PPh_eq = [PPh_sym[n] for n in range(N+1)]\n",
    "\n",
    "EEq_sym = [Symbol('\\\\mathcal{E}_q^{' + str(n) + '}') for n in range(N+1)]\n",
    "EEq_eq = [EEq_sym[n] for n in range(N+1)]\n",
    "\n",
    "PPq_sym = [Symbol('\\\\mathcal{P}_q^{' + str(n) + '}') for n in range(N+1)]\n",
    "PPq_eq = [PPq_sym[n] for n in range(N+1)]\n",
    "\n",
    "PPm_sym = [Symbol('\\\\mathcal{P}_m^{' + str(n) + '}') for n in range(N+1)]\n",
    "PPm_eq = [PPm_sym[n] for n in range(N+1)]\n",
    "\n",
    "Y_plus_sym = [Symbol('Y_+^{' + str(n) + '}') for n in range(N+1)]\n",
    "Y_plus_eq = [Y_plus_sym[n] for n in range(N+1)]\n",
    "\n",
    "Y_minus_sym = [Symbol('Y_-^{' + str(n) + '}') for n in range(N+1)]\n",
    "Y_minus_eq = [Y_minus_sym[n] for n in range(N+1)]\n",
    "\n",
    "Yt_plus_sym = [Symbol('\\\\tilde{Y}_+^{' + str(n) + '}') for n in range(N+1)]\n",
    "Yt_plus_eq = [Y_plus_sym[n] for n in range(N+1)]\n",
    "\n",
    "Yt_minus_sym = [Symbol('\\\\tilde{Y}_-^{' + str(n) + '}') for n in range(N+1)]\n",
    "Yt_minus_eq = [Y_minus_sym[n] for n in range(N+1)]\n",
    "\n",
    "P_plus_sym = [Symbol('P_+^{' + str(n) + '}') for n in range(N+1)]\n",
    "P_plus_eq = [P_plus_sym[n] for n in range(N+1)]\n",
    "\n",
    "P_minus_sym = [Symbol('P_-^{' + str(n) + '}') for n in range(N+1)]\n",
    "P_minus_eq = [P_minus_sym[n] for n in range(N+1)]\n",
    "\n",
    "a_subs_q = sqrt(q * q_conj)\n",
    "v_subs_q = (deriv(q) / q - deriv(q_conj) / q_conj) / (2 * I)\n",
    "\n",
    "for n in range(0, N+1):\n",
    "    print(\"n =\", n)\n",
    "\n",
    "    R_eq[n] = epsilon / sqrt(2) * deriv(v) * r_eq[n]\n",
    "    HH_eq[n] = - I**(n-1) * (sqrt(2) * epsilon)**n * sig_eq[n]\n",
    "\n",
    "    if 2*n+1 < N+1:\n",
    "        EE_eq[n] = (-1)**(n+1) * (sqrt(2) * epsilon)**(2*n+1) * sig_eq[2*n+1]\n",
    "\n",
    "        EE_plus_eq[n] = sig_plus_eq[2*n+1]\n",
    "        EE_minus_eq[n] = sig_minus_eq[2*n+1]\n",
    "\n",
    "        \n",
    "    if 2*n < N+1:\n",
    "        PP_eq[n] = I * (-1)**n * (sqrt(2) * epsilon)**(2*n) * sig_eq[2*n]\n",
    "\n",
    "#print(\"substituting energy\")\n",
    "\n",
    "#EEo_eq = sqrt(2) * epsilon * multi_substituter(Matrix(EE_eq), [(v, w_plus), (u, w_minus)], magnitude=epsiloninv**2, scale=epsiloninv/sqrt(2))\n",
    "#EEo_eq = [elem for elem in EEo_eq]\n",
    "\n",
    "#EEh_eq = multi_substituter(Matrix(EEo_eq), [(w_plus, phi_sym / 2 + (a_sym - 1)), (w_minus, phi_sym / 2 - (a_sym - 1))])\n",
    "#EEh_eq = [elem for elem in EEh_eq]\n",
    "\n",
    "#EEq_eq = multi_substituter(Matrix(EEh_eq), [(phi_sym, v_subs_q), (a_sym, a_subs_q)])\n",
    "#EEq_eq = [elem for elem in EEq_eq]\n",
    "\n",
    "#print(\"substituting momentum\")\n",
    "\n",
    "#PPo_eq = sqrt(2) * epsilon * multi_substituter(Matrix(PP_eq), [(v, w_plus), (u, w_minus)], magnitude=epsiloninv**2, scale=epsiloninv/sqrt(2))\n",
    "#PPo_eq = [elem for elem in PPo_eq]\n",
    "\n",
    "#PPh_eq = multi_substituter(Matrix(PPo_eq), [(w_plus, phi_sym / 2 + (a_sym - 1)), (w_minus, phi_sym / 2 - (a_sym - 1))])\n",
    "#PPh_eq = [elem for elem in PPh_eq]\n",
    "\n",
    "#PPq_eq = multi_substituter(Matrix(PPh_eq), [(phi_sym, v_subs_q), (a_sym, a_subs_q)])\n",
    "#PPq_eq = [elem for elem in PPq_eq]\n",
    "\n",
    "#print(\"done\")\n",
    "\n",
    "print(\"moving on...\")\n",
    "for n in range(0, N+1):\n",
    "    if 2*n+1 < N+1:\n",
    "        PPm_eq[n] = 0\n",
    "        for k in range(n):\n",
    "            \n",
    "    if 2*n+1 < N+1:\n",
    "        Y_plus_eq[n] = EE_eq[n]\n",
    "        for m in range(0, n+1):\n",
    "            Y_plus_eq[n] += binomial(- Rational(1,2), m) * 2**(2*m+1) * PP_eq[n-m]\n",
    "        Yt_plus_eq[n] = (-1)**(n+1)*(epsiloninv/sqrt(2))**(2*n+1) * Y_plus_eq[n]\n",
    "        \n",
    "        Y_minus_eq[n] = EE_eq[n]\n",
    "        for m in range(0, n+1):\n",
    "            Y_minus_eq[n] += - binomial(- Rational(1,2), m) * 2**(2*m+1) * PP_eq[n-m]\n",
    "        Yt_minus_eq[n] = (-1)**(n+1)*(epsiloninv/sqrt(2))**(2*n+1) * Y_minus_eq[n]\n",
    "        \n",
    "        P_plus_eq[n] = epsiloninv**2 * (Yt_plus_eq[n] - EE_plus_eq[n])\n",
    "        P_minus_eq[n] = epsiloninv**2 * (Yt_minus_eq[n] - EE_minus_eq[n])\n"
   ]
  },
  {
   "cell_type": "code",
   "execution_count": null,
   "id": "159bae67",
   "metadata": {},
   "outputs": [],
   "source": [
    "for n in range(0, N+1): \n",
    "\n",
    "    #display(Eq(sig_sym[n], polynomize(multi_substituter(sig_eq[n], [(u, V_sym/2 - (A_sym-1)), (v, V_sym/2 + (A_sym-1))]))))\n",
    "    #display(Eq(HH_sym[n], polynomize(multi_substituter(HH_eq[n], [(u, V_sym/2 - (A_sym-1)), (v, V_sym/2 + (A_sym-1))]))))\n",
    "    \n",
    "    #display(Eq(sig_sym[n], polynomize(multi_substituter(sig_eq[n], [(u, W_minus), (v, W_plus)]))))\n",
    "\n",
    "    #display(Eq(sig_sym[n], polynomize(AV_sub(sig_eq[n]))))\n",
    "\n",
    "    #display(Eq(Symbol('\\\\frac{\\delta ' + sig_sym[n].name + '}{\\delta v}'), polynomize(AV_sub(variation(sig_eq[n], v)))))\n",
    "    #display(Eq(Symbol('\\\\frac{\\delta ' + sig_sym[n].name + '}{\\delta u}'), polynomize(AV_sub(variation(sig_eq[n], u)))))\n",
    "    #display(Eq(Symbol('\\\\frac{\\delta ' + sig_sym[n].name + '}{\\delta N}'), polynomize(AV_sub((variation(sig_eq[n], v) - variation(sig_eq[n], u))))))\n",
    "    #display(Eq(Symbol('\\\\frac{\\delta ' + sig_sym[n].name + '}{\\delta V}'), polynomize(AV_sub(variation(sig_eq[n], v)/2 + variation(sig_eq[n], u)/2))))\n",
    "\n",
    "    \n",
    "    #display(Eq(HH_sym[n], polynomize(multi_substituter(HH_eq[n], [(u, W_minus), (v, W_plus)]))))\n",
    "    pass\n",
    "\n",
    "    if 2*n < N+1:\n",
    "        #display(Eq(PP_sym[n], polynomize(multi_substituter(PP_eq[n], [(u, W_minus), (v, W_plus)]))))\n",
    "        display(Eq(PPo_sym[n], polynomize(PPo_eq[n])))\n",
    "        display(Eq(PPh_sym[n], polynomize(PPh_eq[n])))\n",
    "        display(Eq(PPq_sym[n], simplify(simplify(poly_simplify(PPq_eq[n]).subs(q_conj, abs(q)**2 / q))).expand()))\n",
    "        pass\n",
    "    if 2*n+1 < N+1:\n",
    "        #display(Eq(EE_sym[n], polynomize(multi_substituter(EE_eq[n], [(u, W_minus), (v, W_plus)]))))\n",
    "        display(Eq(EEo_sym[n], polynomize(EEo_eq[n])))\n",
    "        display(Eq(EEh_sym[n], polynomize(EEh_eq[n])))\n",
    "        display(Eq(EEq_sym[n], simplify(simplify(poly_simplify(EEq_eq[n]).subs(q_conj, abs(q)**2 / q))).expand()))\n",
    "        pass\n",
    "    pass\n",
    "\n",
    "for n in range(0, N+1): \n",
    "    if 2*n < N+1:\n",
    "        display(Eq(Symbol('\\\\frac{\\delta ' + PPq_sym[n].name + '}{\\delta \\\\overline{q}}'), simplify(simplify(variation(poly_simplify(PPq_eq[n]), q_conj).subs(q_conj, abs(q)**2 / q)))).expand())\n",
    "\n",
    "    if 2*n+1 < N+1:\n",
    "        display(Eq(Symbol('\\\\frac{\\delta ' + EEq_sym[n].name + '}{\\delta \\\\overline{q}}'), simplify(simplify(variation(poly_simplify(EEq_eq[n]), q_conj).subs(q_conj, abs(q)**2 / q)))).expand())\n",
    "\n"
   ]
  },
  {
   "cell_type": "code",
   "execution_count": null,
   "id": "1edf8ba4",
   "metadata": {},
   "outputs": [],
   "source": []
  },
  {
   "cell_type": "code",
   "execution_count": null,
   "id": "3c102698",
   "metadata": {},
   "outputs": [],
   "source": [
    "B = 0\n",
    "B += - epsilon * sqrt(2) / 4 * (EE_plus_eq[0] - EE_minus_eq[0] + epsilon**2 * (P_plus_eq[0] - P_minus_eq[0]))\n",
    "\n",
    "display(polynomize(uv_sub(PP_eq[0] - B)))\n",
    "\n",
    "B = 0\n",
    "B += (sqrt(2) * epsilon)**3 / 4 * (EE_plus_eq[1] - EE_minus_eq[1] + epsilon**2 * (P_plus_eq[1] - P_minus_eq[1]))\n",
    "B += - 2 * epsilon * sqrt(2) / 4 * (EE_plus_eq[0] - EE_minus_eq[0] + epsilon**2 * (P_plus_eq[0] - P_minus_eq[0]))\n",
    "\n",
    "display(polynomize(uv_sub(PP_eq[1] - B)))\n",
    "\n",
    "B = 0\n",
    "B += - (sqrt(2) * epsilon)**5 / 4 * (EE_plus_eq[2] - EE_minus_eq[2] + epsilon**2 * (P_plus_eq[2] - P_minus_eq[2]))\n",
    "B += 6 * epsilon * sqrt(2) / 4 * (EE_plus_eq[0] - EE_minus_eq[0] + epsilon**2 * (P_plus_eq[0] - P_minus_eq[0]))\n",
    "B += 2 * (sqrt(2) * epsilon)**3 / 4 * (EE_plus_eq[1] - EE_minus_eq[1] + epsilon**2 * (P_plus_eq[1] - P_minus_eq[1]))\n",
    "B += - 4 * epsilon * sqrt(2) / 4 * (EE_plus_eq[0] - EE_minus_eq[0] + epsilon**2 * (P_plus_eq[0] - P_minus_eq[0])) \n",
    "display(polynomize(uv_sub(PP_eq[2] - B)))"
   ]
  },
  {
   "cell_type": "code",
   "execution_count": null,
   "id": "caed4c22",
   "metadata": {},
   "outputs": [],
   "source": [
    "#hamiltonian = PP_eq[2]\n",
    "\n",
    "B = 0\n",
    "#B += 2 * epsilon * sqrt(2) / 4 * (EE_plus_eq[0] - EE_minus_eq[0] + epsilon**2 * (P_plus_eq[0] - P_minus_eq[0]))\n",
    "#B += 2 * (sqrt(2) * epsilon)**3 / 4 * (EE_plus_eq[1] - EE_minus_eq[1] + epsilon**2 * (P_plus_eq[1] - P_minus_eq[1]))\n",
    "B += - (sqrt(2) * epsilon)**5 / 4 * (EE_plus_eq[2] - EE_minus_eq[2] + epsilon**2 * (P_plus_eq[2] - P_minus_eq[2]))\n",
    "\n",
    "hamiltonian = PP_eq[2]\n",
    "varis = [poly_simplify(variation(hamiltonian, v)), poly_simplify(variation(hamiltonian, u))]\n",
    "result = Matrix([0, 0])\n",
    "\n",
    "T = 1\n",
    "result[0] += epsiloninv**2 / 2 * (- deriv((varis[0] - varis[1]) * T) - deriv(varis[0] + varis[1]) * T)\n",
    "result[1] += epsiloninv**2 / 2 * (- deriv((varis[0] - varis[1]) * T) + deriv(varis[0] + varis[1]) * T)\n",
    "\n",
    "T = - epsilon**2 / 2 * (v - u)\n",
    "result[0] += epsiloninv**2 / 2 * (- deriv((varis[0] - varis[1]) * T) - deriv(varis[0] + varis[1]) * T)\n",
    "result[1] += epsiloninv**2 / 2 * (- deriv((varis[0] - varis[1]) * T) + deriv(varis[0] + varis[1]) * T)\n",
    "\n",
    "result[0] = poly_simplify(result[0])\n",
    "result[1] = poly_simplify(result[1])\n",
    "\n",
    "\n",
    "display(polynomize(result[0]) + O(epsilon**5))\n",
    "display(polynomize(result[1]) + O(epsilon**5))"
   ]
  },
  {
   "cell_type": "code",
   "execution_count": 11,
   "id": "b6a749ce",
   "metadata": {},
   "outputs": [
    {
     "data": {
      "text/latex": [
       "$\\displaystyle 0$"
      ],
      "text/plain": [
       "0"
      ]
     },
     "metadata": {},
     "output_type": "display_data"
    },
    {
     "data": {
      "text/latex": [
       "$\\displaystyle 0$"
      ],
      "text/plain": [
       "0"
      ]
     },
     "metadata": {},
     "output_type": "display_data"
    },
    {
     "data": {
      "text/latex": [
       "$\\displaystyle 0$"
      ],
      "text/plain": [
       "0"
      ]
     },
     "metadata": {},
     "output_type": "display_data"
    },
    {
     "data": {
      "text/latex": [
       "$\\displaystyle 0$"
      ],
      "text/plain": [
       "0"
      ]
     },
     "metadata": {},
     "output_type": "display_data"
    },
    {
     "data": {
      "text/latex": [
       "$\\displaystyle (u)_{x}$"
      ],
      "text/plain": [
       "(u)_{x}"
      ]
     },
     "metadata": {},
     "output_type": "display_data"
    },
    {
     "data": {
      "text/latex": [
       "$\\displaystyle (v)_{x}$"
      ],
      "text/plain": [
       "(v)_{x}"
      ]
     },
     "metadata": {},
     "output_type": "display_data"
    },
    {
     "data": {
      "text/latex": [
       "$\\displaystyle 0$"
      ],
      "text/plain": [
       "0"
      ]
     },
     "metadata": {},
     "output_type": "display_data"
    },
    {
     "data": {
      "text/latex": [
       "$\\displaystyle 0$"
      ],
      "text/plain": [
       "0"
      ]
     },
     "metadata": {},
     "output_type": "display_data"
    },
    {
     "data": {
      "text/latex": [
       "$\\displaystyle (u)_{xxx} + 6 (u)_{x} u$"
      ],
      "text/plain": [
       "(u)_{xxx} + 6*(u)_{x}*u"
      ]
     },
     "metadata": {},
     "output_type": "display_data"
    },
    {
     "data": {
      "text/latex": [
       "$\\displaystyle (v)_{xxx} - 6 (v)_{x} v$"
      ],
      "text/plain": [
       "(v)_{xxx} - 6*(v)_{x}*v"
      ]
     },
     "metadata": {},
     "output_type": "display_data"
    },
    {
     "data": {
      "text/latex": [
       "$\\displaystyle 0$"
      ],
      "text/plain": [
       "0"
      ]
     },
     "metadata": {},
     "output_type": "display_data"
    },
    {
     "data": {
      "text/latex": [
       "$\\displaystyle 0$"
      ],
      "text/plain": [
       "0"
      ]
     },
     "metadata": {},
     "output_type": "display_data"
    },
    {
     "data": {
      "text/latex": [
       "$\\displaystyle (u)_{xxxxx} + 10 (u)_{xxx} u + 20 (u)_{xx} (u)_{x} + 30 (u)_{x} u^{2}$"
      ],
      "text/plain": [
       "(u)_{xxxxx} + 10*(u)_{xxx}*u + 20*(u)_{xx}*(u)_{x} + 30*(u)_{x}*u**2"
      ]
     },
     "metadata": {},
     "output_type": "display_data"
    },
    {
     "data": {
      "text/latex": [
       "$\\displaystyle (v)_{xxxxx} - 10 (v)_{xxx} v - 20 (v)_{xx} (v)_{x} + 30 (v)_{x} v^{2}$"
      ],
      "text/plain": [
       "(v)_{xxxxx} - 10*(v)_{xxx}*v - 20*(v)_{xx}*(v)_{x} + 30*(v)_{x}*v**2"
      ]
     },
     "metadata": {},
     "output_type": "display_data"
    },
    {
     "data": {
      "text/latex": [
       "$\\displaystyle 0$"
      ],
      "text/plain": [
       "0"
      ]
     },
     "metadata": {},
     "output_type": "display_data"
    },
    {
     "data": {
      "text/latex": [
       "$\\displaystyle 0$"
      ],
      "text/plain": [
       "0"
      ]
     },
     "metadata": {},
     "output_type": "display_data"
    }
   ],
   "source": [
    "for n in range(1, N+1):\n",
    "    display(simplify(Rational(1,2) * deriv(variation(sig_minus_eq[n], u))))\n",
    "    display(simplify(Rational(1,2) * deriv(variation(sig_plus_eq[n], v))))"
   ]
  },
  {
   "cell_type": "code",
   "execution_count": 12,
   "id": "3cd4951a",
   "metadata": {},
   "outputs": [
    {
     "data": {
      "text/latex": [
       "$\\displaystyle u_{T_{-1}} = O\\left(\\epsilon^{4}\\right)$"
      ],
      "text/plain": [
       "Eq(u_{T_{-1}}, O(\\epsilon**4))"
      ]
     },
     "metadata": {},
     "output_type": "display_data"
    },
    {
     "data": {
      "text/latex": [
       "$\\displaystyle v_{T_{-1}} = O\\left(\\epsilon^{4}\\right)$"
      ],
      "text/plain": [
       "Eq(v_{T_{-1}}, O(\\epsilon**4))"
      ]
     },
     "metadata": {},
     "output_type": "display_data"
    },
    {
     "data": {
      "text/latex": [
       "$\\displaystyle u_{T_{0}} = \\epsilon^{2} \\left(- \\frac{(u)_{x} v}{4} + \\frac{(v)_{x} v}{4}\\right) + O\\left(\\epsilon^{4}\\right)$"
      ],
      "text/plain": [
       "Eq(u_{T_{0}}, \\epsilon**2*(-(u)_{x}*v/4 + (v)_{x}*v/4) + O(\\epsilon**4))"
      ]
     },
     "metadata": {},
     "output_type": "display_data"
    },
    {
     "data": {
      "text/latex": [
       "$\\displaystyle v_{T_{0}} = \\epsilon^{2} \\left(\\frac{(u)_{x} u}{4} - \\frac{(v)_{x} u}{4}\\right) + O\\left(\\epsilon^{4}\\right)$"
      ],
      "text/plain": [
       "Eq(v_{T_{0}}, \\epsilon**2*((u)_{x}*u/4 - (v)_{x}*u/4) + O(\\epsilon**4))"
      ]
     },
     "metadata": {},
     "output_type": "display_data"
    },
    {
     "data": {
      "text/latex": [
       "$\\displaystyle u_{T_{1}} = - (v)_{x} \\epsilon^{2} + O\\left(\\epsilon^{4}\\right)$"
      ],
      "text/plain": [
       "Eq(u_{T_{1}}, -(v)_{x}*\\epsilon**2 + O(\\epsilon**4))"
      ]
     },
     "metadata": {},
     "output_type": "display_data"
    },
    {
     "data": {
      "text/latex": [
       "$\\displaystyle v_{T_{1}} = - (u)_{x} \\epsilon^{2} + O\\left(\\epsilon^{4}\\right)$"
      ],
      "text/plain": [
       "Eq(v_{T_{1}}, -(u)_{x}*\\epsilon**2 + O(\\epsilon**4))"
      ]
     },
     "metadata": {},
     "output_type": "display_data"
    },
    {
     "data": {
      "text/latex": [
       "$\\displaystyle u_{T_{2}} = \\epsilon^{2} \\left(- \\frac{(u)_{xxx}}{4} + \\frac{(v)_{xxx}}{4} - \\frac{3 (v)_{x} v}{2}\\right) - (v)_{x} + O\\left(\\epsilon^{4}\\right)$"
      ],
      "text/plain": [
       "Eq(u_{T_{2}}, \\epsilon**2*(-(u)_{xxx}/4 + (v)_{xxx}/4 - 3*(v)_{x}*v/2) - (v)_{x} + O(\\epsilon**4))"
      ]
     },
     "metadata": {},
     "output_type": "display_data"
    },
    {
     "data": {
      "text/latex": [
       "$\\displaystyle v_{T_{2}} = \\epsilon^{2} \\left(- \\frac{(u)_{xxx}}{4} - \\frac{3 (u)_{x} u}{2} + \\frac{(v)_{xxx}}{4}\\right) + (u)_{x} + O\\left(\\epsilon^{4}\\right)$"
      ],
      "text/plain": [
       "Eq(v_{T_{2}}, \\epsilon**2*(-(u)_{xxx}/4 - 3*(u)_{x}*u/2 + (v)_{xxx}/4) + (u)_{x} + O(\\epsilon**4))"
      ]
     },
     "metadata": {},
     "output_type": "display_data"
    },
    {
     "data": {
      "text/latex": [
       "$\\displaystyle u_{T_{3}} = \\epsilon^{2} \\cdot \\left(2 (v)_{xxx} - 12 (v)_{x} v\\right) - 2 (v)_{x} + O\\left(\\epsilon^{4}\\right)$"
      ],
      "text/plain": [
       "Eq(u_{T_{3}}, \\epsilon**2*(2*(v)_{xxx} - 12*(v)_{x}*v) - 2*(v)_{x} + O(\\epsilon**4))"
      ]
     },
     "metadata": {},
     "output_type": "display_data"
    },
    {
     "data": {
      "text/latex": [
       "$\\displaystyle v_{T_{3}} = \\epsilon^{2} \\cdot \\left(2 (u)_{xxx} + 12 (u)_{x} u\\right) - 2 (u)_{x} + O\\left(\\epsilon^{4}\\right)$"
      ],
      "text/plain": [
       "Eq(v_{T_{3}}, \\epsilon**2*(2*(u)_{xxx} + 12*(u)_{x}*u) - 2*(u)_{x} + O(\\epsilon**4))"
      ]
     },
     "metadata": {},
     "output_type": "display_data"
    },
    {
     "data": {
      "text/latex": [
       "$\\displaystyle u_{T_{4}} = \\epsilon^{2} \\left(\\frac{(u)_{xxxxx}}{4} - \\frac{3 (u)_{xxx} v}{4} + \\frac{9 (u)_{xx} (u)_{x}}{4} - \\frac{(u)_{xx} (v)_{x}}{4} + \\frac{3 (u)_{x} (v)_{xx}}{4} - \\frac{(v)_{xxxxx}}{4} + \\frac{13 (v)_{xxx} v}{4} + \\frac{29 (v)_{xx} (v)_{x}}{4} - \\frac{45 (v)_{x} v^{2}}{4}\\right) - 6 (v)_{x} v + (v)_{xxx} + O\\left(\\epsilon^{4}\\right)$"
      ],
      "text/plain": [
       "Eq(u_{T_{4}}, \\epsilon**2*((u)_{xxxxx}/4 - 3*(u)_{xxx}*v/4 + 9*(u)_{xx}*(u)_{x}/4 - (u)_{xx}*(v)_{x}/4 + 3*(u)_{x}*(v)_{xx}/4 - (v)_{xxxxx}/4 + 13*(v)_{xxx}*v/4 + 29*(v)_{xx}*(v)_{x}/4 - 45*(v)_{x}*v**2/4) - 6*(v)_{x}*v + (v)_{xxx} + O(\\epsilon**4))"
      ]
     },
     "metadata": {},
     "output_type": "display_data"
    },
    {
     "data": {
      "text/latex": [
       "$\\displaystyle v_{T_{4}} = \\epsilon^{2} \\left(\\frac{(u)_{xxxxx}}{4} + \\frac{13 (u)_{xxx} u}{4} + \\frac{29 (u)_{xx} (u)_{x}}{4} + \\frac{3 (u)_{xx} (v)_{x}}{4} - \\frac{(u)_{x} (v)_{xx}}{4} + \\frac{45 (u)_{x} u^{2}}{4} - \\frac{(v)_{xxxxx}}{4} - \\frac{3 (v)_{xxx} u}{4} + \\frac{9 (v)_{xx} (v)_{x}}{4}\\right) - 6 (u)_{x} u - (u)_{xxx} + O\\left(\\epsilon^{4}\\right)$"
      ],
      "text/plain": [
       "Eq(v_{T_{4}}, \\epsilon**2*((u)_{xxxxx}/4 + 13*(u)_{xxx}*u/4 + 29*(u)_{xx}*(u)_{x}/4 + 3*(u)_{xx}*(v)_{x}/4 - (u)_{x}*(v)_{xx}/4 + 45*(u)_{x}*u**2/4 - (v)_{xxxxx}/4 - 3*(v)_{xxx}*u/4 + 9*(v)_{xx}*(v)_{x}/4) - 6*(u)_{x}*u - (u)_{xxx} + O(\\epsilon**4))"
      ]
     },
     "metadata": {},
     "output_type": "display_data"
    },
    {
     "data": {
      "text/latex": [
       "$\\displaystyle u_{T_{5}} = \\epsilon^{2} \\cdot \\left(4 (v)_{xxx} - 24 (v)_{x} v\\right) + 2 (v)_{x} + O\\left(\\epsilon^{4}\\right)$"
      ],
      "text/plain": [
       "Eq(u_{T_{5}}, \\epsilon**2*(4*(v)_{xxx} - 24*(v)_{x}*v) + 2*(v)_{x} + O(\\epsilon**4))"
      ]
     },
     "metadata": {},
     "output_type": "display_data"
    },
    {
     "data": {
      "text/latex": [
       "$\\displaystyle v_{T_{5}} = \\epsilon^{2} \\cdot \\left(4 (u)_{xxx} + 24 (u)_{x} u\\right) + 2 (u)_{x} + O\\left(\\epsilon^{4}\\right)$"
      ],
      "text/plain": [
       "Eq(v_{T_{5}}, \\epsilon**2*(4*(u)_{xxx} + 24*(u)_{x}*u) + 2*(u)_{x} + O(\\epsilon**4))"
      ]
     },
     "metadata": {},
     "output_type": "display_data"
    },
    {
     "data": {
      "text/latex": [
       "$\\displaystyle u_{T_{6}} = \\epsilon^{2} \\left(- \\frac{(u)_{xxxxxxx}}{4} + \\frac{5 (u)_{xxxxx} v}{4} - 5 (u)_{xxxx} (u)_{x} + 2 (u)_{xxxx} (v)_{x} - \\frac{35 (u)_{xxx} (u)_{xx}}{4} + \\frac{5 (u)_{xxx} (v)_{xx}}{4} - \\frac{15 (u)_{xxx} v^{2}}{4} - \\frac{5 (u)_{xx} (v)_{xxx}}{4} - 5 (u)_{xx} (v)_{x} v - \\frac{15 (u)_{x}^{3}}{2} - \\frac{5 (u)_{x}^{2} (v)_{x}}{4} - \\frac{5 (u)_{x} (v)_{xxxx}}{2} + \\frac{15 (u)_{x} (v)_{xx} v}{2} + 5 (u)_{x} (v)_{x}^{2} + \\frac{(v)_{xxxxxxx}}{4} - \\frac{19 (v)_{xxxxx} v}{4} - \\frac{31 (v)_{xxxx} (v)_{x}}{2} - \\frac{105 (v)_{xxx} (v)_{xx}}{4} + 30 (v)_{xxx} v^{2} + \\frac{255 (v)_{xx} (v)_{x} v}{2} + \\frac{135 (v)_{x}^{3}}{4} - 70 (v)_{x} v^{3}\\right) - 30 (v)_{x} v^{2} + 20 (v)_{xx} (v)_{x} + 10 (v)_{xxx} v - (v)_{xxxxx} + O\\left(\\epsilon^{4}\\right)$"
      ],
      "text/plain": [
       "Eq(u_{T_{6}}, \\epsilon**2*(-(u)_{xxxxxxx}/4 + 5*(u)_{xxxxx}*v/4 - 5*(u)_{xxxx}*(u)_{x} + 2*(u)_{xxxx}*(v)_{x} - 35*(u)_{xxx}*(u)_{xx}/4 + 5*(u)_{xxx}*(v)_{xx}/4 - 15*(u)_{xxx}*v**2/4 - 5*(u)_{xx}*(v)_{xxx}/4 - 5*(u)_{xx}*(v)_{x}*v - 15*(u)_{x}**3/2 - 5*(u)_{x}**2*(v)_{x}/4 - 5*(u)_{x}*(v)_{xxxx}/2 + 15*(u)_{x}*(v)_{xx}*v/2 + 5*(u)_{x}*(v)_{x}**2 + (v)_{xxxxxxx}/4 - 19*(v)_{xxxxx}*v/4 - 31*(v)_{xxxx}*(v)_{x}/2 - 105*(v)_{xxx}*(v)_{xx}/4 + 30*(v)_{xxx}*v**2 + 255*(v)_{xx}*(v)_{x}*v/2 + 135*(v)_{x}**3/4 - 70*(v)_{x}*v**3) - 30*(v)_{x}*v**2 + 20*(v)_{xx}*(v)_{x} + 10*(v)_{xxx}*v - (v)_{xxxxx} + O(\\epsilon**4))"
      ]
     },
     "metadata": {},
     "output_type": "display_data"
    },
    {
     "data": {
      "text/latex": [
       "$\\displaystyle v_{T_{6}} = \\epsilon^{2} \\left(- \\frac{(u)_{xxxxxxx}}{4} - \\frac{19 (u)_{xxxxx} u}{4} - \\frac{31 (u)_{xxxx} (u)_{x}}{2} - \\frac{5 (u)_{xxxx} (v)_{x}}{2} - \\frac{105 (u)_{xxx} (u)_{xx}}{4} - \\frac{5 (u)_{xxx} (v)_{xx}}{4} - 30 (u)_{xxx} u^{2} - \\frac{255 (u)_{xx} (u)_{x} u}{2} + \\frac{5 (u)_{xx} (v)_{xxx}}{4} - \\frac{15 (u)_{xx} (v)_{x} u}{2} - \\frac{135 (u)_{x}^{3}}{4} - 5 (u)_{x}^{2} (v)_{x} + 2 (u)_{x} (v)_{xxxx} + 5 (u)_{x} (v)_{xx} u + \\frac{5 (u)_{x} (v)_{x}^{2}}{4} - 70 (u)_{x} u^{3} + \\frac{(v)_{xxxxxxx}}{4} + \\frac{5 (v)_{xxxxx} u}{4} - 5 (v)_{xxxx} (v)_{x} - \\frac{35 (v)_{xxx} (v)_{xx}}{4} + \\frac{15 (v)_{xxx} u^{2}}{4} + \\frac{15 (v)_{x}^{3}}{2}\\right) + 30 (u)_{x} u^{2} + 20 (u)_{xx} (u)_{x} + 10 (u)_{xxx} u + (u)_{xxxxx} + O\\left(\\epsilon^{4}\\right)$"
      ],
      "text/plain": [
       "Eq(v_{T_{6}}, \\epsilon**2*(-(u)_{xxxxxxx}/4 - 19*(u)_{xxxxx}*u/4 - 31*(u)_{xxxx}*(u)_{x}/2 - 5*(u)_{xxxx}*(v)_{x}/2 - 105*(u)_{xxx}*(u)_{xx}/4 - 5*(u)_{xxx}*(v)_{xx}/4 - 30*(u)_{xxx}*u**2 - 255*(u)_{xx}*(u)_{x}*u/2 + 5*(u)_{xx}*(v)_{xxx}/4 - 15*(u)_{xx}*(v)_{x}*u/2 - 135*(u)_{x}**3/4 - 5*(u)_{x}**2*(v)_{x} + 2*(u)_{x}*(v)_{xxxx} + 5*(u)_{x}*(v)_{xx}*u + 5*(u)_{x}*(v)_{x}**2/4 - 70*(u)_{x}*u**3 + (v)_{xxxxxxx}/4 + 5*(v)_{xxxxx}*u/4 - 5*(v)_{xxxx}*(v)_{x} - 35*(v)_{xxx}*(v)_{xx}/4 + 15*(v)_{xxx}*u**2/4 + 15*(v)_{x}**3/2) + 30*(u)_{x}*u**2 + 20*(u)_{xx}*(u)_{x} + 10*(u)_{xxx}*u + (u)_{xxxxx} + O(\\epsilon**4))"
      ]
     },
     "metadata": {},
     "output_type": "display_data"
    },
    {
     "data": {
      "text/latex": [
       "$\\displaystyle u_{T_{7}} = \\epsilon^{2} \\left(- 4 (v)_{xxx} + 24 (v)_{x} v\\right) - 4 (v)_{x} + O\\left(\\epsilon^{4}\\right)$"
      ],
      "text/plain": [
       "Eq(u_{T_{7}}, \\epsilon**2*(-4*(v)_{xxx} + 24*(v)_{x}*v) - 4*(v)_{x} + O(\\epsilon**4))"
      ]
     },
     "metadata": {},
     "output_type": "display_data"
    },
    {
     "data": {
      "text/latex": [
       "$\\displaystyle v_{T_{7}} = \\epsilon^{2} \\left(- 4 (u)_{xxx} - 24 (u)_{x} u\\right) - 4 (u)_{x} + O\\left(\\epsilon^{4}\\right)$"
      ],
      "text/plain": [
       "Eq(v_{T_{7}}, \\epsilon**2*(-4*(u)_{xxx} - 24*(u)_{x}*u) - 4*(u)_{x} + O(\\epsilon**4))"
      ]
     },
     "metadata": {},
     "output_type": "display_data"
    }
   ],
   "source": [
    "for n in range(0, N+1):\n",
    "    \n",
    "    #print(\"n =\", n)\n",
    "    nn = n - 1\n",
    "    max_order = 1\n",
    "    max_display_order = 5\n",
    "    hamiltonian = HH_eq[nn+1] #re(sig_eq[n]) if n % 2 == 1 else I * im(sig_eq[n])\n",
    "    evol = evolution(hamiltonian, max_order)\n",
    "    \n",
    "    if n % 2 == 0 and nn//2 == 0:\n",
    "        dtdT = epsilon * sqrt(2) / 2\n",
    "    elif nn % 2 == 0 and nn//2 > 0:\n",
    "        dtdT = epsiloninv**(2*(nn//2)-1) / sqrt(2)**(2*(nn//2)-1) / 2\n",
    "    elif nn % 2 == 1:\n",
    "        dtdT = epsiloninv / sqrt(2)\n",
    "        \n",
    "    display(Eq(Symbol('u_{T_{' + str(nn) + '}}'), polynomize(dtdT * evol[0]).subs(u, 0) + O(epsilon**4)))\n",
    "    display(Eq(Symbol('v_{T_{' + str(nn) + '}}'), polynomize(dtdT * evol[1]).subs(v, 0) + O(epsilon**4)))"
   ]
  },
  {
   "cell_type": "code",
   "execution_count": 9,
   "id": "332b0c67",
   "metadata": {},
   "outputs": [
    {
     "name": "stdout",
     "output_type": "stream",
     "text": [
      "moving on...\n"
     ]
    },
    {
     "name": "stderr",
     "output_type": "stream",
     "text": [
      "C:\\Users\\rober\\AppData\\Local\\Temp\\ipykernel_4936\\2110384835.py:83: SymPyDeprecationWarning: \n",
      "\n",
      "Mixing Poly with non-polynomial expressions in binary\n",
      "operations is deprecated. Either explicitly convert\n",
      "the non-Poly operand to a Poly with as_poly() or\n",
      "convert the Poly to an Expr with as_expr().\n",
      "\n",
      "See https://docs.sympy.org/latest/explanation/active-deprecations.html#deprecated-poly-nonpoly-binary-operations\n",
      "for details.\n",
      "\n",
      "This has been deprecated since SymPy version 1.6. It\n",
      "will be removed in a future version of SymPy.\n",
      "\n",
      "  display(Eq(Symbol('(W_+)_{T_{' + str(nn) + '}}'), polynomize(dtdT * uv_sub(evol[0])) + O(epsilon**4)))\n"
     ]
    },
    {
     "data": {
      "text/latex": [
       "$\\displaystyle (W_+)_{T_{-1}} = O\\left(\\epsilon^{4}\\right)$"
      ],
      "text/plain": [
       "Eq((W_+)_{T_{-1}}, O(\\epsilon**4))"
      ]
     },
     "metadata": {},
     "output_type": "display_data"
    },
    {
     "data": {
      "text/latex": [
       "$\\displaystyle (W_-)_{T_{-1}} = O\\left(\\epsilon^{4}\\right)$"
      ],
      "text/plain": [
       "Eq((W_-)_{T_{-1}}, O(\\epsilon**4))"
      ]
     },
     "metadata": {},
     "output_type": "display_data"
    },
    {
     "data": {
      "text/latex": [
       "$\\displaystyle (W_+)_{T_{0}} = O\\left(\\epsilon^{4}\\right)$"
      ],
      "text/plain": [
       "Eq((W_+)_{T_{0}}, O(\\epsilon**4))"
      ]
     },
     "metadata": {},
     "output_type": "display_data"
    },
    {
     "data": {
      "text/latex": [
       "$\\displaystyle (W_-)_{T_{0}} = O\\left(\\epsilon^{4}\\right)$"
      ],
      "text/plain": [
       "Eq((W_-)_{T_{0}}, O(\\epsilon**4))"
      ]
     },
     "metadata": {},
     "output_type": "display_data"
    },
    {
     "data": {
      "text/latex": [
       "$\\displaystyle (W_+)_{T_{1}} = O\\left(\\epsilon^{4}\\right)$"
      ],
      "text/plain": [
       "Eq((W_+)_{T_{1}}, O(\\epsilon**4))"
      ]
     },
     "metadata": {},
     "output_type": "display_data"
    },
    {
     "data": {
      "text/latex": [
       "$\\displaystyle (W_-)_{T_{1}} = O\\left(\\epsilon^{4}\\right)$"
      ],
      "text/plain": [
       "Eq((W_-)_{T_{1}}, O(\\epsilon**4))"
      ]
     },
     "metadata": {},
     "output_type": "display_data"
    },
    {
     "data": {
      "text/latex": [
       "$\\displaystyle (W_+)_{T_{2}} = \\epsilon^{2} \\left(\\frac{(W_+)_{x} W_{+}^{2}}{2} - \\frac{(W_+)_{x} W_{+} W_{-}}{2} - \\frac{(W_-)_{x} W_{+}^{2}}{4} + \\frac{(W_-)_{x} W_{-}^{2}}{4}\\right) - \\frac{(W_+)_{x}}{\\epsilon^{2}} + O\\left(\\epsilon^{4}\\right)$"
      ],
      "text/plain": [
       "Eq((W_+)_{T_{2}}, \\epsilon**2*((W_+)_{x}*W_+**2/2 - (W_+)_{x}*W_+*W_-/2 - (W_-)_{x}*W_+**2/4 + (W_-)_{x}*W_-**2/4) - (W_+)_{x}/\\epsilon**2 + O(\\epsilon**4))"
      ]
     },
     "metadata": {},
     "output_type": "display_data"
    },
    {
     "data": {
      "text/latex": [
       "$\\displaystyle (W_-)_{T_{2}} = \\epsilon^{2} \\left(\\frac{(W_+)_{x} W_{+}^{2}}{4} - \\frac{(W_+)_{x} W_{-}^{2}}{4} - \\frac{(W_-)_{x} W_{+} W_{-}}{2} + \\frac{(W_-)_{x} W_{-}^{2}}{2}\\right) - \\frac{(W_-)_{x}}{\\epsilon^{2}} + O\\left(\\epsilon^{4}\\right)$"
      ],
      "text/plain": [
       "Eq((W_-)_{T_{2}}, \\epsilon**2*((W_+)_{x}*W_+**2/4 - (W_+)_{x}*W_-**2/4 - (W_-)_{x}*W_+*W_-/2 + (W_-)_{x}*W_-**2/2) - (W_-)_{x}/\\epsilon**2 + O(\\epsilon**4))"
      ]
     },
     "metadata": {},
     "output_type": "display_data"
    },
    {
     "data": {
      "text/latex": [
       "$\\displaystyle (W_+)_{T_{3}} = O\\left(\\epsilon^{4}\\right)$"
      ],
      "text/plain": [
       "Eq((W_+)_{T_{3}}, O(\\epsilon**4))"
      ]
     },
     "metadata": {},
     "output_type": "display_data"
    },
    {
     "data": {
      "text/latex": [
       "$\\displaystyle (W_-)_{T_{3}} = O\\left(\\epsilon^{4}\\right)$"
      ],
      "text/plain": [
       "Eq((W_-)_{T_{3}}, O(\\epsilon**4))"
      ]
     },
     "metadata": {},
     "output_type": "display_data"
    },
    {
     "data": {
      "text/latex": [
       "$\\displaystyle (W_+)_{T_{4}} = \\frac{- (W_+)_{xxx} + 6 (W_+)_{x} W_{+}}{\\epsilon^{2}} + \\epsilon^{2} \\cdot \\left(\\frac{5 (W_+)_{xxx} W_{+}^{2}}{8} - \\frac{(W_+)_{xxx} W_{+} W_{-}}{2} - \\frac{(W_+)_{xxx} W_{-}^{2}}{8} + \\frac{7 (W_+)_{xx} (W_+)_{x} W_{+}}{4} - (W_+)_{xx} (W_+)_{x} W_{-} - \\frac{(W_+)_{xx} (W_-)_{x} W_{+}}{4} - \\frac{(W_+)_{xx} (W_-)_{x} W_{-}}{2} + \\frac{3 (W_+)_{x}^{3}}{8} - \\frac{3 (W_+)_{x}^{2} (W_-)_{x}}{8} - \\frac{(W_+)_{x} (W_-)_{xx} W_{+}}{2} - \\frac{(W_+)_{x} (W_-)_{xx} W_{-}}{4} - \\frac{3 (W_+)_{x} (W_-)_{x}^{2}}{8} - \\frac{9 (W_+)_{x} W_{+}^{3}}{4} + \\frac{15 (W_+)_{x} W_{+}^{2} W_{-}}{4} - \\frac{3 (W_+)_{x} W_{+} W_{-}^{2}}{4} - \\frac{3 (W_+)_{x} W_{-}^{3}}{4} - \\frac{3 (W_-)_{xxx} W_{+}^{2}}{8} + \\frac{3 (W_-)_{xxx} W_{-}^{2}}{8} - (W_-)_{xx} (W_-)_{x} W_{+} + \\frac{7 (W_-)_{xx} (W_-)_{x} W_{-}}{4} + \\frac{3 (W_-)_{x}^{3}}{8} + \\frac{3 (W_-)_{x} W_{+}^{3}}{4} - \\frac{3 (W_-)_{x} W_{+}^{2} W_{-}}{4} - \\frac{3 (W_-)_{x} W_{+} W_{-}^{2}}{4} + \\frac{3 (W_-)_{x} W_{-}^{3}}{4}\\right) + \\frac{9 (W_-)_{xx} (W_-)_{x}}{4} + \\frac{3 (W_-)_{xxx} W_{-}}{4} + \\frac{3 (W_-)_{xxx} W_{+}}{4} + \\frac{3 (W_+)_{x} W_{-}^{2}}{4} + \\frac{3 (W_+)_{x} W_{+} W_{-}}{2} + \\frac{15 (W_+)_{x} W_{+}^{2}}{4} + \\frac{3 (W_+)_{x} (W_-)_{xx}}{4} - \\frac{3 (W_+)_{xx} (W_-)_{x}}{4} - \\frac{9 (W_+)_{xx} (W_+)_{x}}{4} - \\frac{3 (W_+)_{xxx} W_{-}}{4} - \\frac{3 (W_+)_{xxx} W_{+}}{4} + O\\left(\\epsilon^{4}\\right)$"
      ],
      "text/plain": [
       "Eq((W_+)_{T_{4}}, (-(W_+)_{xxx} + 6*(W_+)_{x}*W_+)/\\epsilon**2 + \\epsilon**2*(5*(W_+)_{xxx}*W_+**2/8 - (W_+)_{xxx}*W_+*W_-/2 - (W_+)_{xxx}*W_-**2/8 + 7*(W_+)_{xx}*(W_+)_{x}*W_+/4 - (W_+)_{xx}*(W_+)_{x}*W_- - (W_+)_{xx}*(W_-)_{x}*W_+/4 - (W_+)_{xx}*(W_-)_{x}*W_-/2 + 3*(W_+)_{x}**3/8 - 3*(W_+)_{x}**2*(W_-)_{x}/8 - (W_+)_{x}*(W_-)_{xx}*W_+/2 - (W_+)_{x}*(W_-)_{xx}*W_-/4 - 3*(W_+)_{x}*(W_-)_{x}**2/8 - 9*(W_+)_{x}*W_+**3/4 + 15*(W_+)_{x}*W_+**2*W_-/4 - 3*(W_+)_{x}*W_+*W_-**2/4 - 3*(W_+)_{x}*W_-**3/4 - 3*(W_-)_{xxx}*W_+**2/8 + 3*(W_-)_{xxx}*W_-**2/8 - (W_-)_{xx}*(W_-)_{x}*W_+ + 7*(W_-)_{xx}*(W_-)_{x}*W_-/4 + 3*(W_-)_{x}**3/8 + 3*(W_-)_{x}*W_+**3/4 - 3*(W_-)_{x}*W_+**2*W_-/4 - 3*(W_-)_{x}*W_+*W_-**2/4 + 3*(W_-)_{x}*W_-**3/4) + 9*(W_-)_{xx}*(W_-)_{x}/4 + 3*(W_-)_{xxx}*W_-/4 + 3*(W_-)_{xxx}*W_+/4 + 3*(W_+)_{x}*W_-**2/4 + 3*(W_+)_{x}*W_+*W_-/2 + 15*(W_+)_{x}*W_+**2/4 + 3*(W_+)_{x}*(W_-)_{xx}/4 - 3*(W_+)_{xx}*(W_-)_{x}/4 - 9*(W_+)_{xx}*(W_+)_{x}/4 - 3*(W_+)_{xxx}*W_-/4 - 3*(W_+)_{xxx}*W_+/4 + O(\\epsilon**4))"
      ]
     },
     "metadata": {},
     "output_type": "display_data"
    },
    {
     "data": {
      "text/latex": [
       "$\\displaystyle (W_-)_{T_{4}} = \\frac{- (W_-)_{xxx} - 6 (W_-)_{x} W_{-}}{\\epsilon^{2}} + \\epsilon^{2} \\cdot \\left(\\frac{3 (W_+)_{xxx} W_{+}^{2}}{8} - \\frac{3 (W_+)_{xxx} W_{-}^{2}}{8} + \\frac{7 (W_+)_{xx} (W_+)_{x} W_{+}}{4} - (W_+)_{xx} (W_+)_{x} W_{-} - \\frac{(W_+)_{xx} (W_-)_{x} W_{+}}{4} - \\frac{(W_+)_{xx} (W_-)_{x} W_{-}}{2} + \\frac{3 (W_+)_{x}^{3}}{8} - \\frac{3 (W_+)_{x}^{2} (W_-)_{x}}{8} - \\frac{(W_+)_{x} (W_-)_{xx} W_{+}}{2} - \\frac{(W_+)_{x} (W_-)_{xx} W_{-}}{4} - \\frac{3 (W_+)_{x} (W_-)_{x}^{2}}{8} - \\frac{3 (W_+)_{x} W_{+}^{3}}{4} + \\frac{3 (W_+)_{x} W_{+}^{2} W_{-}}{4} + \\frac{3 (W_+)_{x} W_{+} W_{-}^{2}}{4} - \\frac{3 (W_+)_{x} W_{-}^{3}}{4} - \\frac{(W_-)_{xxx} W_{+}^{2}}{8} - \\frac{(W_-)_{xxx} W_{+} W_{-}}{2} + \\frac{5 (W_-)_{xxx} W_{-}^{2}}{8} - (W_-)_{xx} (W_-)_{x} W_{+} + \\frac{7 (W_-)_{xx} (W_-)_{x} W_{-}}{4} + \\frac{3 (W_-)_{x}^{3}}{8} + \\frac{3 (W_-)_{x} W_{+}^{3}}{4} + \\frac{3 (W_-)_{x} W_{+}^{2} W_{-}}{4} - \\frac{15 (W_-)_{x} W_{+} W_{-}^{2}}{4} + \\frac{9 (W_-)_{x} W_{-}^{3}}{4}\\right) + \\frac{15 (W_-)_{x} W_{-}^{2}}{4} + \\frac{3 (W_-)_{x} W_{+} W_{-}}{2} + \\frac{3 (W_-)_{x} W_{+}^{2}}{4} + \\frac{9 (W_-)_{xx} (W_-)_{x}}{4} + \\frac{3 (W_-)_{xxx} W_{-}}{4} + \\frac{3 (W_-)_{xxx} W_{+}}{4} + \\frac{3 (W_+)_{x} (W_-)_{xx}}{4} - \\frac{3 (W_+)_{xx} (W_-)_{x}}{4} - \\frac{9 (W_+)_{xx} (W_+)_{x}}{4} - \\frac{3 (W_+)_{xxx} W_{-}}{4} - \\frac{3 (W_+)_{xxx} W_{+}}{4} + O\\left(\\epsilon^{4}\\right)$"
      ],
      "text/plain": [
       "Eq((W_-)_{T_{4}}, (-(W_-)_{xxx} - 6*(W_-)_{x}*W_-)/\\epsilon**2 + \\epsilon**2*(3*(W_+)_{xxx}*W_+**2/8 - 3*(W_+)_{xxx}*W_-**2/8 + 7*(W_+)_{xx}*(W_+)_{x}*W_+/4 - (W_+)_{xx}*(W_+)_{x}*W_- - (W_+)_{xx}*(W_-)_{x}*W_+/4 - (W_+)_{xx}*(W_-)_{x}*W_-/2 + 3*(W_+)_{x}**3/8 - 3*(W_+)_{x}**2*(W_-)_{x}/8 - (W_+)_{x}*(W_-)_{xx}*W_+/2 - (W_+)_{x}*(W_-)_{xx}*W_-/4 - 3*(W_+)_{x}*(W_-)_{x}**2/8 - 3*(W_+)_{x}*W_+**3/4 + 3*(W_+)_{x}*W_+**2*W_-/4 + 3*(W_+)_{x}*W_+*W_-**2/4 - 3*(W_+)_{x}*W_-**3/4 - (W_-)_{xxx}*W_+**2/8 - (W_-)_{xxx}*W_+*W_-/2 + 5*(W_-)_{xxx}*W_-**2/8 - (W_-)_{xx}*(W_-)_{x}*W_+ + 7*(W_-)_{xx}*(W_-)_{x}*W_-/4 + 3*(W_-)_{x}**3/8 + 3*(W_-)_{x}*W_+**3/4 + 3*(W_-)_{x}*W_+**2*W_-/4 - 15*(W_-)_{x}*W_+*W_-**2/4 + 9*(W_-)_{x}*W_-**3/4) + 15*(W_-)_{x}*W_-**2/4 + 3*(W_-)_{x}*W_+*W_-/2 + 3*(W_-)_{x}*W_+**2/4 + 9*(W_-)_{xx}*(W_-)_{x}/4 + 3*(W_-)_{xxx}*W_-/4 + 3*(W_-)_{xxx}*W_+/4 + 3*(W_+)_{x}*(W_-)_{xx}/4 - 3*(W_+)_{xx}*(W_-)_{x}/4 - 9*(W_+)_{xx}*(W_+)_{x}/4 - 3*(W_+)_{xxx}*W_-/4 - 3*(W_+)_{xxx}*W_+/4 + O(\\epsilon**4))"
      ]
     },
     "metadata": {},
     "output_type": "display_data"
    },
    {
     "data": {
      "text/latex": [
       "$\\displaystyle (W_+)_{T_{5}} = O\\left(\\epsilon^{4}\\right)$"
      ],
      "text/plain": [
       "Eq((W_+)_{T_{5}}, O(\\epsilon**4))"
      ]
     },
     "metadata": {},
     "output_type": "display_data"
    },
    {
     "data": {
      "text/latex": [
       "$\\displaystyle (W_-)_{T_{5}} = O\\left(\\epsilon^{4}\\right)$"
      ],
      "text/plain": [
       "Eq((W_-)_{T_{5}}, O(\\epsilon**4))"
      ]
     },
     "metadata": {},
     "output_type": "display_data"
    },
    {
     "data": {
      "text/latex": [
       "$\\displaystyle (W_+)_{T_{6}} = \\frac{- (W_+)_{xxxxx} + 10 (W_+)_{xxx} W_{+} + 20 (W_+)_{xx} (W_+)_{x} - 30 (W_+)_{x} W_{+}^{2}}{\\epsilon^{2}} + \\epsilon^{2} \\cdot \\left(\\frac{7 (W_+)_{xxxxx} W_{+}^{2}}{8} - \\frac{(W_+)_{xxxxx} W_{+} W_{-}}{2} - \\frac{3 (W_+)_{xxxxx} W_{-}^{2}}{8} + \\frac{27 (W_+)_{xxxx} (W_+)_{x} W_{+}}{8} - \\frac{17 (W_+)_{xxxx} (W_+)_{x} W_{-}}{8} + \\frac{3 (W_+)_{xxxx} (W_-)_{x} W_{+}}{8} - \\frac{13 (W_+)_{xxxx} (W_-)_{x} W_{-}}{8} + \\frac{35 (W_+)_{xxx} (W_+)_{xx} W_{+}}{8} - \\frac{35 (W_+)_{xxx} (W_+)_{xx} W_{-}}{8} + \\frac{15 (W_+)_{xxx} (W_+)_{x}^{2}}{8} - \\frac{5 (W_+)_{xxx} (W_+)_{x} (W_-)_{x}}{4} + \\frac{5 (W_+)_{xxx} (W_-)_{xx} W_{+}}{8} - \\frac{5 (W_+)_{xxx} (W_-)_{xx} W_{-}}{8} - \\frac{5 (W_+)_{xxx} (W_-)_{x}^{2}}{8} - \\frac{35 (W_+)_{xxx} W_{+}^{3}}{16} + \\frac{155 (W_+)_{xxx} W_{+}^{2} W_{-}}{16} + \\frac{35 (W_+)_{xxx} W_{+} W_{-}^{2}}{16} + \\frac{5 (W_+)_{xxx} W_{-}^{3}}{16} + \\frac{5 (W_+)_{xx}^{2} (W_+)_{x}}{4} - \\frac{5 (W_+)_{xx}^{2} (W_-)_{x}}{4} - \\frac{15 (W_+)_{xx} (W_+)_{x} W_{+}^{2}}{16} + \\frac{325 (W_+)_{xx} (W_+)_{x} W_{+} W_{-}}{8} + \\frac{85 (W_+)_{xx} (W_+)_{x} W_{-}^{2}}{16} - \\frac{5 (W_+)_{xx} (W_-)_{xxx} W_{+}}{8} + \\frac{5 (W_+)_{xx} (W_-)_{xxx} W_{-}}{8} + \\frac{115 (W_+)_{xx} (W_-)_{x} W_{+}^{2}}{16} + \\frac{55 (W_+)_{xx} (W_-)_{x} W_{+} W_{-}}{8} + \\frac{15 (W_+)_{xx} (W_-)_{x} W_{-}^{2}}{16} + \\frac{35 (W_+)_{x}^{3} W_{+}}{8} + \\frac{85 (W_+)_{x}^{3} W_{-}}{8} - \\frac{5 (W_+)_{x}^{2} (W_-)_{xxx}}{8} + \\frac{85 (W_+)_{x}^{2} (W_-)_{x} W_{+}}{8} + \\frac{35 (W_+)_{x}^{2} (W_-)_{x} W_{-}}{8} - \\frac{13 (W_+)_{x} (W_-)_{xxxx} W_{+}}{8} + \\frac{3 (W_+)_{x} (W_-)_{xxxx} W_{-}}{8} - \\frac{5 (W_+)_{x} (W_-)_{xxx} (W_-)_{x}}{4} - \\frac{5 (W_+)_{x} (W_-)_{xx}^{2}}{4} - \\frac{15 (W_+)_{x} (W_-)_{xx} W_{+}^{2}}{16} - \\frac{55 (W_+)_{x} (W_-)_{xx} W_{+} W_{-}}{8} - \\frac{115 (W_+)_{x} (W_-)_{xx} W_{-}^{2}}{16} - \\frac{35 (W_+)_{x} (W_-)_{x}^{2} W_{+}}{8} - \\frac{85 (W_+)_{x} (W_-)_{x}^{2} W_{-}}{8} + \\frac{5 (W_+)_{x} W_{+}^{4}}{32} - \\frac{175 (W_+)_{x} W_{+}^{3} W_{-}}{8} + \\frac{75 (W_+)_{x} W_{+}^{2} W_{-}^{2}}{16} + \\frac{5 (W_+)_{x} W_{+} W_{-}^{3}}{8} - \\frac{115 (W_+)_{x} W_{-}^{4}}{32} - \\frac{5 (W_-)_{xxxxx} W_{+}^{2}}{8} + \\frac{5 (W_-)_{xxxxx} W_{-}^{2}}{8} - \\frac{17 (W_-)_{xxxx} (W_-)_{x} W_{+}}{8} + \\frac{27 (W_-)_{xxxx} (W_-)_{x} W_{-}}{8} - \\frac{35 (W_-)_{xxx} (W_-)_{xx} W_{+}}{8} + \\frac{35 (W_-)_{xxx} (W_-)_{xx} W_{-}}{8} + \\frac{15 (W_-)_{xxx} (W_-)_{x}^{2}}{8} - \\frac{5 (W_-)_{xxx} W_{+}^{3}}{16} - \\frac{75 (W_-)_{xxx} W_{+}^{2} W_{-}}{16} - \\frac{75 (W_-)_{xxx} W_{+} W_{-}^{2}}{16} - \\frac{5 (W_-)_{xxx} W_{-}^{3}}{16} + \\frac{5 (W_-)_{xx}^{2} (W_-)_{x}}{4} - \\frac{165 (W_-)_{xx} (W_-)_{x} W_{+}^{2}}{16} - \\frac{245 (W_-)_{xx} (W_-)_{x} W_{+} W_{-}}{8} - \\frac{65 (W_-)_{xx} (W_-)_{x} W_{-}^{2}}{16} - \\frac{85 (W_-)_{x}^{3} W_{+}}{8} - \\frac{35 (W_-)_{x}^{3} W_{-}}{8} - \\frac{5 (W_-)_{x} W_{+}^{4}}{2} + \\frac{5 (W_-)_{x} W_{+}^{3} W_{-}}{2} - \\frac{5 (W_-)_{x} W_{+} W_{-}^{3}}{2} + \\frac{5 (W_-)_{x} W_{-}^{4}}{2}\\right) + \\frac{15 (W_-)_{x}^{3}}{2} + \\frac{45 (W_-)_{xx} (W_-)_{x} W_{-}}{2} + \\frac{15 (W_-)_{xxx} W_{-}^{2}}{4} - \\frac{15 (W_-)_{xxx} W_{+}^{2}}{4} + \\frac{35 (W_-)_{xxx} (W_-)_{xx}}{4} + 5 (W_-)_{xxxx} (W_-)_{x} + \\frac{5 (W_-)_{xxxxx} W_{-}}{4} + \\frac{5 (W_-)_{xxxxx} W_{+}}{4} + \\frac{5 (W_+)_{x} W_{-}^{3}}{2} - \\frac{15 (W_+)_{x} W_{+}^{2} W_{-}}{2} - 35 (W_+)_{x} W_{+}^{3} + \\frac{5 (W_+)_{x} (W_-)_{x}^{2}}{4} + \\frac{5 (W_+)_{x} (W_-)_{xx} W_{-}}{2} - 5 (W_+)_{x} (W_-)_{xx} W_{+} + \\frac{5 (W_+)_{x} (W_-)_{xxxx}}{2} + 5 (W_+)_{x}^{2} (W_-)_{x} + \\frac{65 (W_+)_{x}^{3}}{4} + \\frac{15 (W_+)_{xx} (W_-)_{x} W_{+}}{2} + \\frac{5 (W_+)_{xx} (W_-)_{xxx}}{4} + 15 (W_+)_{xx} (W_+)_{x} W_{-} + \\frac{115 (W_+)_{xx} (W_+)_{x} W_{+}}{2} + \\frac{15 (W_+)_{xxx} W_{+} W_{-}}{2} + \\frac{25 (W_+)_{xxx} W_{+}^{2}}{2} - \\frac{5 (W_+)_{xxx} (W_-)_{xx}}{4} - \\frac{35 (W_+)_{xxx} (W_+)_{xx}}{4} - \\frac{5 (W_+)_{xxxx} (W_-)_{x}}{2} - 5 (W_+)_{xxxx} (W_+)_{x} - \\frac{5 (W_+)_{xxxxx} W_{-}}{4} - \\frac{5 (W_+)_{xxxxx} W_{+}}{4} + O\\left(\\epsilon^{4}\\right)$"
      ],
      "text/plain": [
       "Eq((W_+)_{T_{6}}, (-(W_+)_{xxxxx} + 10*(W_+)_{xxx}*W_+ + 20*(W_+)_{xx}*(W_+)_{x} - 30*(W_+)_{x}*W_+**2)/\\epsilon**2 + \\epsilon**2*(7*(W_+)_{xxxxx}*W_+**2/8 - (W_+)_{xxxxx}*W_+*W_-/2 - 3*(W_+)_{xxxxx}*W_-**2/8 + 27*(W_+)_{xxxx}*(W_+)_{x}*W_+/8 - 17*(W_+)_{xxxx}*(W_+)_{x}*W_-/8 + 3*(W_+)_{xxxx}*(W_-)_{x}*W_+/8 - 13*(W_+)_{xxxx}*(W_-)_{x}*W_-/8 + 35*(W_+)_{xxx}*(W_+)_{xx}*W_+/8 - 35*(W_+)_{xxx}*(W_+)_{xx}*W_-/8 + 15*(W_+)_{xxx}*(W_+)_{x}**2/8 - 5*(W_+)_{xxx}*(W_+)_{x}*(W_-)_{x}/4 + 5*(W_+)_{xxx}*(W_-)_{xx}*W_+/8 - 5*(W_+)_{xxx}*(W_-)_{xx}*W_-/8 - 5*(W_+)_{xxx}*(W_-)_{x}**2/8 - 35*(W_+)_{xxx}*W_+**3/16 + 155*(W_+)_{xxx}*W_+**2*W_-/16 + 35*(W_+)_{xxx}*W_+*W_-**2/16 + 5*(W_+)_{xxx}*W_-**3/16 + 5*(W_+)_{xx}**2*(W_+)_{x}/4 - 5*(W_+)_{xx}**2*(W_-)_{x}/4 - 15*(W_+)_{xx}*(W_+)_{x}*W_+**2/16 + 325*(W_+)_{xx}*(W_+)_{x}*W_+*W_-/8 + 85*(W_+)_{xx}*(W_+)_{x}*W_-**2/16 - 5*(W_+)_{xx}*(W_-)_{xxx}*W_+/8 + 5*(W_+)_{xx}*(W_-)_{xxx}*W_-/8 + 115*(W_+)_{xx}*(W_-)_{x}*W_+**2/16 + 55*(W_+)_{xx}*(W_-)_{x}*W_+*W_-/8 + 15*(W_+)_{xx}*(W_-)_{x}*W_-**2/16 + 35*(W_+)_{x}**3*W_+/8 + 85*(W_+)_{x}**3*W_-/8 - 5*(W_+)_{x}**2*(W_-)_{xxx}/8 + 85*(W_+)_{x}**2*(W_-)_{x}*W_+/8 + 35*(W_+)_{x}**2*(W_-)_{x}*W_-/8 - 13*(W_+)_{x}*(W_-)_{xxxx}*W_+/8 + 3*(W_+)_{x}*(W_-)_{xxxx}*W_-/8 - 5*(W_+)_{x}*(W_-)_{xxx}*(W_-)_{x}/4 - 5*(W_+)_{x}*(W_-)_{xx}**2/4 - 15*(W_+)_{x}*(W_-)_{xx}*W_+**2/16 - 55*(W_+)_{x}*(W_-)_{xx}*W_+*W_-/8 - 115*(W_+)_{x}*(W_-)_{xx}*W_-**2/16 - 35*(W_+)_{x}*(W_-)_{x}**2*W_+/8 - 85*(W_+)_{x}*(W_-)_{x}**2*W_-/8 + 5*(W_+)_{x}*W_+**4/32 - 175*(W_+)_{x}*W_+**3*W_-/8 + 75*(W_+)_{x}*W_+**2*W_-**2/16 + 5*(W_+)_{x}*W_+*W_-**3/8 - 115*(W_+)_{x}*W_-**4/32 - 5*(W_-)_{xxxxx}*W_+**2/8 + 5*(W_-)_{xxxxx}*W_-**2/8 - 17*(W_-)_{xxxx}*(W_-)_{x}*W_+/8 + 27*(W_-)_{xxxx}*(W_-)_{x}*W_-/8 - 35*(W_-)_{xxx}*(W_-)_{xx}*W_+/8 + 35*(W_-)_{xxx}*(W_-)_{xx}*W_-/8 + 15*(W_-)_{xxx}*(W_-)_{x}**2/8 - 5*(W_-)_{xxx}*W_+**3/16 - 75*(W_-)_{xxx}*W_+**2*W_-/16 - 75*(W_-)_{xxx}*W_+*W_-**2/16 - 5*(W_-)_{xxx}*W_-**3/16 + 5*(W_-)_{xx}**2*(W_-)_{x}/4 - 165*(W_-)_{xx}*(W_-)_{x}*W_+**2/16 - 245*(W_-)_{xx}*(W_-)_{x}*W_+*W_-/8 - 65*(W_-)_{xx}*(W_-)_{x}*W_-**2/16 - 85*(W_-)_{x}**3*W_+/8 - 35*(W_-)_{x}**3*W_-/8 - 5*(W_-)_{x}*W_+**4/2 + 5*(W_-)_{x}*W_+**3*W_-/2 - 5*(W_-)_{x}*W_+*W_-**3/2 + 5*(W_-)_{x}*W_-**4/2) + 15*(W_-)_{x}**3/2 + 45*(W_-)_{xx}*(W_-)_{x}*W_-/2 + 15*(W_-)_{xxx}*W_-**2/4 - 15*(W_-)_{xxx}*W_+**2/4 + 35*(W_-)_{xxx}*(W_-)_{xx}/4 + 5*(W_-)_{xxxx}*(W_-)_{x} + 5*(W_-)_{xxxxx}*W_-/4 + 5*(W_-)_{xxxxx}*W_+/4 + 5*(W_+)_{x}*W_-**3/2 - 15*(W_+)_{x}*W_+**2*W_-/2 - 35*(W_+)_{x}*W_+**3 + 5*(W_+)_{x}*(W_-)_{x}**2/4 + 5*(W_+)_{x}*(W_-)_{xx}*W_-/2 - 5*(W_+)_{x}*(W_-)_{xx}*W_+ + 5*(W_+)_{x}*(W_-)_{xxxx}/2 + 5*(W_+)_{x}**2*(W_-)_{x} + 65*(W_+)_{x}**3/4 + 15*(W_+)_{xx}*(W_-)_{x}*W_+/2 + 5*(W_+)_{xx}*(W_-)_{xxx}/4 + 15*(W_+)_{xx}*(W_+)_{x}*W_- + 115*(W_+)_{xx}*(W_+)_{x}*W_+/2 + 15*(W_+)_{xxx}*W_+*W_-/2 + 25*(W_+)_{xxx}*W_+**2/2 - 5*(W_+)_{xxx}*(W_-)_{xx}/4 - 35*(W_+)_{xxx}*(W_+)_{xx}/4 - 5*(W_+)_{xxxx}*(W_-)_{x}/2 - 5*(W_+)_{xxxx}*(W_+)_{x} - 5*(W_+)_{xxxxx}*W_-/4 - 5*(W_+)_{xxxxx}*W_+/4 + O(\\epsilon**4))"
      ]
     },
     "metadata": {},
     "output_type": "display_data"
    },
    {
     "data": {
      "text/latex": [
       "$\\displaystyle (W_-)_{T_{6}} = \\frac{- (W_-)_{xxxxx} - 10 (W_-)_{xxx} W_{-} - 20 (W_-)_{xx} (W_-)_{x} - 30 (W_-)_{x} W_{-}^{2}}{\\epsilon^{2}} + \\epsilon^{2} \\cdot \\left(\\frac{5 (W_+)_{xxxxx} W_{+}^{2}}{8} - \\frac{5 (W_+)_{xxxxx} W_{-}^{2}}{8} + \\frac{27 (W_+)_{xxxx} (W_+)_{x} W_{+}}{8} - \\frac{17 (W_+)_{xxxx} (W_+)_{x} W_{-}}{8} + \\frac{3 (W_+)_{xxxx} (W_-)_{x} W_{+}}{8} - \\frac{13 (W_+)_{xxxx} (W_-)_{x} W_{-}}{8} + \\frac{35 (W_+)_{xxx} (W_+)_{xx} W_{+}}{8} - \\frac{35 (W_+)_{xxx} (W_+)_{xx} W_{-}}{8} + \\frac{15 (W_+)_{xxx} (W_+)_{x}^{2}}{8} - \\frac{5 (W_+)_{xxx} (W_+)_{x} (W_-)_{x}}{4} + \\frac{5 (W_+)_{xxx} (W_-)_{xx} W_{+}}{8} - \\frac{5 (W_+)_{xxx} (W_-)_{xx} W_{-}}{8} - \\frac{5 (W_+)_{xxx} (W_-)_{x}^{2}}{8} + \\frac{5 (W_+)_{xxx} W_{+}^{3}}{16} + \\frac{75 (W_+)_{xxx} W_{+}^{2} W_{-}}{16} + \\frac{75 (W_+)_{xxx} W_{+} W_{-}^{2}}{16} + \\frac{5 (W_+)_{xxx} W_{-}^{3}}{16} + \\frac{5 (W_+)_{xx}^{2} (W_+)_{x}}{4} - \\frac{5 (W_+)_{xx}^{2} (W_-)_{x}}{4} + \\frac{65 (W_+)_{xx} (W_+)_{x} W_{+}^{2}}{16} + \\frac{245 (W_+)_{xx} (W_+)_{x} W_{+} W_{-}}{8} + \\frac{165 (W_+)_{xx} (W_+)_{x} W_{-}^{2}}{16} - \\frac{5 (W_+)_{xx} (W_-)_{xxx} W_{+}}{8} + \\frac{5 (W_+)_{xx} (W_-)_{xxx} W_{-}}{8} + \\frac{115 (W_+)_{xx} (W_-)_{x} W_{+}^{2}}{16} + \\frac{55 (W_+)_{xx} (W_-)_{x} W_{+} W_{-}}{8} + \\frac{15 (W_+)_{xx} (W_-)_{x} W_{-}^{2}}{16} + \\frac{35 (W_+)_{x}^{3} W_{+}}{8} + \\frac{85 (W_+)_{x}^{3} W_{-}}{8} - \\frac{5 (W_+)_{x}^{2} (W_-)_{xxx}}{8} + \\frac{85 (W_+)_{x}^{2} (W_-)_{x} W_{+}}{8} + \\frac{35 (W_+)_{x}^{2} (W_-)_{x} W_{-}}{8} - \\frac{13 (W_+)_{x} (W_-)_{xxxx} W_{+}}{8} + \\frac{3 (W_+)_{x} (W_-)_{xxxx} W_{-}}{8} - \\frac{5 (W_+)_{x} (W_-)_{xxx} (W_-)_{x}}{4} - \\frac{5 (W_+)_{x} (W_-)_{xx}^{2}}{4} - \\frac{15 (W_+)_{x} (W_-)_{xx} W_{+}^{2}}{16} - \\frac{55 (W_+)_{x} (W_-)_{xx} W_{+} W_{-}}{8} - \\frac{115 (W_+)_{x} (W_-)_{xx} W_{-}^{2}}{16} - \\frac{35 (W_+)_{x} (W_-)_{x}^{2} W_{+}}{8} - \\frac{85 (W_+)_{x} (W_-)_{x}^{2} W_{-}}{8} + \\frac{5 (W_+)_{x} W_{+}^{4}}{2} - \\frac{5 (W_+)_{x} W_{+}^{3} W_{-}}{2} + \\frac{5 (W_+)_{x} W_{+} W_{-}^{3}}{2} - \\frac{5 (W_+)_{x} W_{-}^{4}}{2} - \\frac{3 (W_-)_{xxxxx} W_{+}^{2}}{8} - \\frac{(W_-)_{xxxxx} W_{+} W_{-}}{2} + \\frac{7 (W_-)_{xxxxx} W_{-}^{2}}{8} - \\frac{17 (W_-)_{xxxx} (W_-)_{x} W_{+}}{8} + \\frac{27 (W_-)_{xxxx} (W_-)_{x} W_{-}}{8} - \\frac{35 (W_-)_{xxx} (W_-)_{xx} W_{+}}{8} + \\frac{35 (W_-)_{xxx} (W_-)_{xx} W_{-}}{8} + \\frac{15 (W_-)_{xxx} (W_-)_{x}^{2}}{8} - \\frac{5 (W_-)_{xxx} W_{+}^{3}}{16} - \\frac{35 (W_-)_{xxx} W_{+}^{2} W_{-}}{16} - \\frac{155 (W_-)_{xxx} W_{+} W_{-}^{2}}{16} + \\frac{35 (W_-)_{xxx} W_{-}^{3}}{16} + \\frac{5 (W_-)_{xx}^{2} (W_-)_{x}}{4} - \\frac{85 (W_-)_{xx} (W_-)_{x} W_{+}^{2}}{16} - \\frac{325 (W_-)_{xx} (W_-)_{x} W_{+} W_{-}}{8} + \\frac{15 (W_-)_{xx} (W_-)_{x} W_{-}^{2}}{16} - \\frac{85 (W_-)_{x}^{3} W_{+}}{8} - \\frac{35 (W_-)_{x}^{3} W_{-}}{8} - \\frac{115 (W_-)_{x} W_{+}^{4}}{32} + \\frac{5 (W_-)_{x} W_{+}^{3} W_{-}}{8} + \\frac{75 (W_-)_{x} W_{+}^{2} W_{-}^{2}}{16} - \\frac{175 (W_-)_{x} W_{+} W_{-}^{3}}{8} + \\frac{5 (W_-)_{x} W_{-}^{4}}{32}\\right) + 35 (W_-)_{x} W_{-}^{3} + \\frac{15 (W_-)_{x} W_{+} W_{-}^{2}}{2} - \\frac{5 (W_-)_{x} W_{+}^{3}}{2} + \\frac{65 (W_-)_{x}^{3}}{4} + \\frac{115 (W_-)_{xx} (W_-)_{x} W_{-}}{2} + 15 (W_-)_{xx} (W_-)_{x} W_{+} + \\frac{25 (W_-)_{xxx} W_{-}^{2}}{2} + \\frac{15 (W_-)_{xxx} W_{+} W_{-}}{2} + \\frac{35 (W_-)_{xxx} (W_-)_{xx}}{4} + 5 (W_-)_{xxxx} (W_-)_{x} + \\frac{5 (W_-)_{xxxxx} W_{-}}{4} + \\frac{5 (W_-)_{xxxxx} W_{+}}{4} + 5 (W_+)_{x} (W_-)_{x}^{2} + \\frac{15 (W_+)_{x} (W_-)_{xx} W_{-}}{2} + \\frac{5 (W_+)_{x} (W_-)_{xxxx}}{2} + \\frac{5 (W_+)_{x}^{2} (W_-)_{x}}{4} + \\frac{15 (W_+)_{x}^{3}}{2} - 5 (W_+)_{xx} (W_-)_{x} W_{-} + \\frac{5 (W_+)_{xx} (W_-)_{x} W_{+}}{2} + \\frac{5 (W_+)_{xx} (W_-)_{xxx}}{4} + \\frac{45 (W_+)_{xx} (W_+)_{x} W_{+}}{2} - \\frac{15 (W_+)_{xxx} W_{-}^{2}}{4} + \\frac{15 (W_+)_{xxx} W_{+}^{2}}{4} - \\frac{5 (W_+)_{xxx} (W_-)_{xx}}{4} - \\frac{35 (W_+)_{xxx} (W_+)_{xx}}{4} - \\frac{5 (W_+)_{xxxx} (W_-)_{x}}{2} - 5 (W_+)_{xxxx} (W_+)_{x} - \\frac{5 (W_+)_{xxxxx} W_{-}}{4} - \\frac{5 (W_+)_{xxxxx} W_{+}}{4} + O\\left(\\epsilon^{4}\\right)$"
      ],
      "text/plain": [
       "Eq((W_-)_{T_{6}}, (-(W_-)_{xxxxx} - 10*(W_-)_{xxx}*W_- - 20*(W_-)_{xx}*(W_-)_{x} - 30*(W_-)_{x}*W_-**2)/\\epsilon**2 + \\epsilon**2*(5*(W_+)_{xxxxx}*W_+**2/8 - 5*(W_+)_{xxxxx}*W_-**2/8 + 27*(W_+)_{xxxx}*(W_+)_{x}*W_+/8 - 17*(W_+)_{xxxx}*(W_+)_{x}*W_-/8 + 3*(W_+)_{xxxx}*(W_-)_{x}*W_+/8 - 13*(W_+)_{xxxx}*(W_-)_{x}*W_-/8 + 35*(W_+)_{xxx}*(W_+)_{xx}*W_+/8 - 35*(W_+)_{xxx}*(W_+)_{xx}*W_-/8 + 15*(W_+)_{xxx}*(W_+)_{x}**2/8 - 5*(W_+)_{xxx}*(W_+)_{x}*(W_-)_{x}/4 + 5*(W_+)_{xxx}*(W_-)_{xx}*W_+/8 - 5*(W_+)_{xxx}*(W_-)_{xx}*W_-/8 - 5*(W_+)_{xxx}*(W_-)_{x}**2/8 + 5*(W_+)_{xxx}*W_+**3/16 + 75*(W_+)_{xxx}*W_+**2*W_-/16 + 75*(W_+)_{xxx}*W_+*W_-**2/16 + 5*(W_+)_{xxx}*W_-**3/16 + 5*(W_+)_{xx}**2*(W_+)_{x}/4 - 5*(W_+)_{xx}**2*(W_-)_{x}/4 + 65*(W_+)_{xx}*(W_+)_{x}*W_+**2/16 + 245*(W_+)_{xx}*(W_+)_{x}*W_+*W_-/8 + 165*(W_+)_{xx}*(W_+)_{x}*W_-**2/16 - 5*(W_+)_{xx}*(W_-)_{xxx}*W_+/8 + 5*(W_+)_{xx}*(W_-)_{xxx}*W_-/8 + 115*(W_+)_{xx}*(W_-)_{x}*W_+**2/16 + 55*(W_+)_{xx}*(W_-)_{x}*W_+*W_-/8 + 15*(W_+)_{xx}*(W_-)_{x}*W_-**2/16 + 35*(W_+)_{x}**3*W_+/8 + 85*(W_+)_{x}**3*W_-/8 - 5*(W_+)_{x}**2*(W_-)_{xxx}/8 + 85*(W_+)_{x}**2*(W_-)_{x}*W_+/8 + 35*(W_+)_{x}**2*(W_-)_{x}*W_-/8 - 13*(W_+)_{x}*(W_-)_{xxxx}*W_+/8 + 3*(W_+)_{x}*(W_-)_{xxxx}*W_-/8 - 5*(W_+)_{x}*(W_-)_{xxx}*(W_-)_{x}/4 - 5*(W_+)_{x}*(W_-)_{xx}**2/4 - 15*(W_+)_{x}*(W_-)_{xx}*W_+**2/16 - 55*(W_+)_{x}*(W_-)_{xx}*W_+*W_-/8 - 115*(W_+)_{x}*(W_-)_{xx}*W_-**2/16 - 35*(W_+)_{x}*(W_-)_{x}**2*W_+/8 - 85*(W_+)_{x}*(W_-)_{x}**2*W_-/8 + 5*(W_+)_{x}*W_+**4/2 - 5*(W_+)_{x}*W_+**3*W_-/2 + 5*(W_+)_{x}*W_+*W_-**3/2 - 5*(W_+)_{x}*W_-**4/2 - 3*(W_-)_{xxxxx}*W_+**2/8 - (W_-)_{xxxxx}*W_+*W_-/2 + 7*(W_-)_{xxxxx}*W_-**2/8 - 17*(W_-)_{xxxx}*(W_-)_{x}*W_+/8 + 27*(W_-)_{xxxx}*(W_-)_{x}*W_-/8 - 35*(W_-)_{xxx}*(W_-)_{xx}*W_+/8 + 35*(W_-)_{xxx}*(W_-)_{xx}*W_-/8 + 15*(W_-)_{xxx}*(W_-)_{x}**2/8 - 5*(W_-)_{xxx}*W_+**3/16 - 35*(W_-)_{xxx}*W_+**2*W_-/16 - 155*(W_-)_{xxx}*W_+*W_-**2/16 + 35*(W_-)_{xxx}*W_-**3/16 + 5*(W_-)_{xx}**2*(W_-)_{x}/4 - 85*(W_-)_{xx}*(W_-)_{x}*W_+**2/16 - 325*(W_-)_{xx}*(W_-)_{x}*W_+*W_-/8 + 15*(W_-)_{xx}*(W_-)_{x}*W_-**2/16 - 85*(W_-)_{x}**3*W_+/8 - 35*(W_-)_{x}**3*W_-/8 - 115*(W_-)_{x}*W_+**4/32 + 5*(W_-)_{x}*W_+**3*W_-/8 + 75*(W_-)_{x}*W_+**2*W_-**2/16 - 175*(W_-)_{x}*W_+*W_-**3/8 + 5*(W_-)_{x}*W_-**4/32) + 35*(W_-)_{x}*W_-**3 + 15*(W_-)_{x}*W_+*W_-**2/2 - 5*(W_-)_{x}*W_+**3/2 + 65*(W_-)_{x}**3/4 + 115*(W_-)_{xx}*(W_-)_{x}*W_-/2 + 15*(W_-)_{xx}*(W_-)_{x}*W_+ + 25*(W_-)_{xxx}*W_-**2/2 + 15*(W_-)_{xxx}*W_+*W_-/2 + 35*(W_-)_{xxx}*(W_-)_{xx}/4 + 5*(W_-)_{xxxx}*(W_-)_{x} + 5*(W_-)_{xxxxx}*W_-/4 + 5*(W_-)_{xxxxx}*W_+/4 + 5*(W_+)_{x}*(W_-)_{x}**2 + 15*(W_+)_{x}*(W_-)_{xx}*W_-/2 + 5*(W_+)_{x}*(W_-)_{xxxx}/2 + 5*(W_+)_{x}**2*(W_-)_{x}/4 + 15*(W_+)_{x}**3/2 - 5*(W_+)_{xx}*(W_-)_{x}*W_- + 5*(W_+)_{xx}*(W_-)_{x}*W_+/2 + 5*(W_+)_{xx}*(W_-)_{xxx}/4 + 45*(W_+)_{xx}*(W_+)_{x}*W_+/2 - 15*(W_+)_{xxx}*W_-**2/4 + 15*(W_+)_{xxx}*W_+**2/4 - 5*(W_+)_{xxx}*(W_-)_{xx}/4 - 35*(W_+)_{xxx}*(W_+)_{xx}/4 - 5*(W_+)_{xxxx}*(W_-)_{x}/2 - 5*(W_+)_{xxxx}*(W_+)_{x} - 5*(W_+)_{xxxxx}*W_-/4 - 5*(W_+)_{xxxxx}*W_+/4 + O(\\epsilon**4))"
      ]
     },
     "metadata": {},
     "output_type": "display_data"
    },
    {
     "data": {
      "text/latex": [
       "$\\displaystyle (W_+)_{T_{7}} = O\\left(\\epsilon^{4}\\right)$"
      ],
      "text/plain": [
       "Eq((W_+)_{T_{7}}, O(\\epsilon**4))"
      ]
     },
     "metadata": {},
     "output_type": "display_data"
    },
    {
     "data": {
      "text/latex": [
       "$\\displaystyle (W_-)_{T_{7}} = O\\left(\\epsilon^{4}\\right)$"
      ],
      "text/plain": [
       "Eq((W_-)_{T_{7}}, O(\\epsilon**4))"
      ]
     },
     "metadata": {},
     "output_type": "display_data"
    }
   ],
   "source": [
    "W_plus = Symbol('W_+', real=True)\n",
    "W_minus = Symbol('W_-', real=True)\n",
    "V_sym = Symbol('V')\n",
    "N_sym = Symbol('N')\n",
    "A_sym = Symbol('A')\n",
    "\n",
    "#differentiable_symbols.extend([W_plus, W_minus, V_sym, N_sym, A_sym])\n",
    "\n",
    "def uv_sub(expr):\n",
    "    return multi_substituter(expr, [(u, W_minus), (v, W_plus)])\n",
    "\n",
    "def evolution(hamiltonian, order):\n",
    "    varis = [poly_simplify(variation(hamiltonian, v)), poly_simplify(variation(hamiltonian, u))]\n",
    "    result = Matrix([0, 0])\n",
    "    for k in range(order+1):\n",
    "\n",
    "        T = (-epsilon**2 / 2 * (v - u))**k\n",
    "        result[0] += epsiloninv**2 / 2 * (- deriv((varis[0] - varis[1]) * T) - deriv(varis[0] + varis[1]) * T)\n",
    "        result[1] += epsiloninv**2 / 2 * (- deriv((varis[0] - varis[1]) * T) + deriv(varis[0] + varis[1]) * T)\n",
    "\n",
    "        result[0] = poly_simplify(result[0])\n",
    "        result[1] = poly_simplify(result[1])\n",
    "        \n",
    "    return result\n",
    "\n",
    "\n",
    "def evolution2(hamiltonian, order):\n",
    "    H = multi_substituter(hamiltonian, [(u, V_sym/2 - N_sym), (v, V_sym/2 + N_sym)])\n",
    "    HH = epsiloninv / sqrt(2) * (2 * epsilon**6 * deriv(N_sym)**2 + epsilon**4 * (1 + epsilon**2 * N_sym)**2 * V_sym**2 + ((1 + epsilon**2 * N_sym)**2 - 1)**2)\n",
    "    \n",
    "    varis = [poly_simplify(variation(H, N_sym)), poly_simplify(variation(H, V_sym))]\n",
    "\n",
    "    result = Matrix([0, 0])\n",
    "    \n",
    "    for k in range(order+1):\n",
    "\n",
    "        T = (- epsilon**2 * N_sym)**k\n",
    "        result[0] += epsiloninv**2 * T * deriv(varis[1])\n",
    "        result[1] += epsiloninv**2 * deriv(T * varis[0])\n",
    "\n",
    "        result[0] = poly_simplify(result[0])\n",
    "        result[1] = poly_simplify(result[1])\n",
    "        \n",
    "    return result\n",
    "                  \n",
    "def evolution3(hamiltonian, order):\n",
    "    H = multi_substituter(hamiltonian, [(u, V_sym/2 - N_sym), (v, V_sym/2 + N_sym)])\n",
    "    HH = epsiloninv / sqrt(2) * (2 * epsilon**6 * deriv(N_sym)**2 + epsilon**4 * (1 + epsilon**2 * N_sym)**2 * V_sym**2 + ((1 + epsilon**2 * N_sym)**2 - 1)**2)\n",
    "    \n",
    "    varis = [poly_simplify(variation(H, N_sym)), poly_simplify(variation(H, V_sym))]\n",
    "\n",
    "    result = Matrix([0, 0])\n",
    "    \n",
    "    R = Symbol('R')\n",
    "    result[0] += epsiloninv**2 * 1 / (1 + epsilon**2 * N_sym) * deriv(varis[1])\n",
    "    result[1] += epsiloninv**2 * deriv(1 / (1 + epsilon**2 * N_sym) * varis[0])\n",
    "\n",
    "    #result[0] = poly_simplify(result[0])\n",
    "    #result[1] = poly_simplify(result[1])\n",
    "        \n",
    "    return result\n",
    "\n",
    "\n",
    "print(\"moving on...\")\n",
    "for n in range(0, N+1):\n",
    "    \n",
    "    #print(\"n =\", n)\n",
    "    nn = n - 1\n",
    "    max_order = 1\n",
    "    max_display_order = 5\n",
    "    hamiltonian = G_eq[nn+1] #re(sig_eq[n]) if n % 2 == 1 else I * im(sig_eq[n])\n",
    "    evol = evolution(hamiltonian, max_order)\n",
    "    \n",
    "    if n % 2 == 0 and nn//2 == 0:\n",
    "        dtdT = epsilon * sqrt(2) / 2\n",
    "    elif nn % 2 == 0 and nn//2 > 0:\n",
    "        dtdT = epsiloninv**(2*(nn//2)-1) / sqrt(2)**(2*(nn//2)-1) / 2\n",
    "    elif nn % 2 == 1:\n",
    "        dtdT = epsiloninv / sqrt(2)\n",
    "    \n",
    "    dtdT = 1\n",
    "    \n",
    "    display(Eq(Symbol('(W_+)_{T_{' + str(nn) + '}}'), polynomize(dtdT * uv_sub(evol[0])) + O(epsilon**4)))\n",
    "    display(Eq(Symbol('(W_-)_{T_{' + str(nn) + '}}'), polynomize(dtdT * uv_sub(evol[1])) + O(epsilon**4)))"
   ]
  },
  {
   "cell_type": "code",
   "execution_count": null,
   "id": "7e5ba958",
   "metadata": {},
   "outputs": [],
   "source": [
    "\n",
    "M_sym = [Symbol('M_{' + str(n) + '}') for n in range(N+1)]\n",
    "M_eq = [M_sym[n] for n in range(N+1)]\n",
    "Mt_sym = [Symbol('\\\\tilde{M}_{' + str(n) + '}') for n in range(N+1)]\n",
    "Mt_eq = [M_sym[n] for n in range(N+1)]\n",
    "N_sym = [Symbol('N_{' + str(n) + '}') for n in range(N+1)]\n",
    "N_eq = [N_sym[n] for n in range(N+1)]\n",
    "St_sym = [Symbol('\\\\tilde{S}_{' + str(n) + '}') for n in range(N+1)]\n",
    "St_eq = [M_sym[n] for n in range(N+1)]\n",
    "\n",
    "for n in range(0, N+1):\n",
    "        \n",
    "    M_eq[n] = im(S_eq[n] - 2 * S_plus_eq[n])\n",
    "    N_eq[n] = re(S_eq[n] - 2 * S_plus_eq[n])\n",
    "    \n",
    "for n in range(0, N+1):\n",
    "    Mt_eq[n] = 0\n",
    "    for k in range(0, n+1):\n",
    "        Mt_eq[n] += M_eq[k] * M_eq[n-k]\n",
    "\n",
    "for n in range(0, N):\n",
    "    print(\"n =\", n)\n",
    "\n",
    "    V = 0\n",
    "    V += deriv(S_plus_eq[n])\n",
    "    V += S_plus_eq[n+1]\n",
    "    \n",
    "    for k in range(n+1):\n",
    "        V += S_plus_eq[k] * S_plus_eq[n-k]\n",
    "    \n",
    "    V += - plus_beta_coeff(n) * u\n",
    "    \n",
    "    X = 0\n",
    "    X += deriv(M_eq[n])\n",
    "    X += M_eq[n+1]\n",
    "    \n",
    "    for k in range(n+1):\n",
    "        X += S_eq[k] * M_eq[n-k]\n",
    "        X += - N_eq[k] * M_eq[n-k]\n",
    "    \n",
    "    X += - im(q_coeff(n)) * u\n",
    "    \n",
    "    XX = 0\n",
    "    for k in range(n+1):\n",
    "        XX += deriv(M_eq[k]) * M_eq[n-k]\n",
    "    for k in range(n+2):\n",
    "        XX += M_eq[k] * M_eq[n+1-k]\n",
    "    for k in range(n+1):\n",
    "        for m in range(k+1):\n",
    "            XX += S_eq[m] * M_eq[k-m] * M_eq[n-k]\n",
    "            XX += - N_eq[m] * M_eq[k-m] * M_eq[n-k]\n",
    "\n",
    "    for k in range(-1, n+1):\n",
    "        XX += - im(q_coeff(k)) * u * M_eq[n-k]\n",
    "    \n",
    "    XXX = 0\n",
    "    XXX += deriv(Mt_eq[n]) / 2\n",
    "    XXX += Mt_eq[n+1]\n",
    "    for k in range(n+1):\n",
    "        XXX += S_eq[k] * Mt_eq[n-k]\n",
    "        XXX += - N_eq[k] * Mt_eq[n-k]\n",
    "        \n",
    "    for k in range(-1, n+1):\n",
    "        XXX += - im(q_coeff(k)) * M_eq[n-k] * u\n",
    "        \n",
    "    XXXX = XXX\n",
    "    \n",
    "    XXXX = 0\n",
    "    XXXX += deriv(Mt_eq[n]) / 2\n",
    "    XXXX += Mt_eq[n+1]\n",
    "    for k in range(n+1):\n",
    "        XXXX += S_eq[k] * Mt_eq[n-k]\n",
    "        XXXX += - N_eq[k] * Mt_eq[n-k]\n",
    "        \n",
    "    for k in range(-1, n+1):\n",
    "        XXXX += - im(q_coeff(k)) * M_eq[n-k] * u\n",
    "\n",
    "    Z = 0\n",
    "    for k in range(n+1):\n",
    "        Z += S_eq[k] * S_eq[n-k]\n",
    "    \n",
    "    \n",
    "    Y = 0\n",
    "    for k in range(n+1):\n",
    "        Y += im(S_eq[k] - 2*S_plus_eq[k]) * im(S_eq[n-k] - 2*S_plus_eq[n-k])\n",
    "    YY = 0\n",
    "    for k in range(n+1):\n",
    "        YY += im(S_plus_eq[k]) * im(S_plus_eq[n-k])\n",
    "    \n",
    "    W = 0\n",
    "    WW = 0\n",
    "    for k in range(-1,n+1):\n",
    "        W += im(q_coeff(k)) * im(S_eq[n-k] - 2*S_plus_eq[n-k])\n",
    "        WW += im(q_coeff(k)) * im(2*S_plus_eq[n-k])\n",
    "\n",
    "        \n",
    "    #display(polynomize(re(2*S_plus_eq[n]) - S_eq[n]) + O(epsilon**2))\n",
    "    #display(polynomize(WW + S_eq[n]) + O(epsilon**2))\n",
    "    #display(polynomize(re(2*S_plus_eq[n]) - WW) / 2 + O(epsilon**2))\n",
    "    display(polynomize(YY))\n",
    "    #display(polynomize(XXX))\n",
    "    #display(polynomize(Y + Z))\n",
    "    #display(polynomize(- W))\n"
   ]
  },
  {
   "cell_type": "code",
   "execution_count": null,
   "id": "1d7da362",
   "metadata": {},
   "outputs": [],
   "source": [
    "def coeff(n):\n",
    "    if n < 0 or n % 2 == 0:\n",
    "        return 0\n",
    "    return binomial(- Rational(1,2), (n-1)//2) * sqrt(2)**n * I**n * epsiloninv**n\n",
    "\n",
    "for n in range(1, N): \n",
    "    print(\"n =\", n)\n",
    "    \n",
    "    X = sig_eq[n+1]\n",
    "    \n",
    "    X += deriv(sig_eq[n])\n",
    "    \n",
    "    for k in range(0, n+1):\n",
    "        X += sig_eq[k] * sig_eq[n-k]\n",
    "        \n",
    "    X += q_coeff(n) / 2 * (u + v)\n",
    "    \n",
    "    X += - deriv(v) / sqrt(2) * epsilon * r_eq[n]\n",
    "    \n",
    "    display(polynomize(X))\n",
    "    "
   ]
  },
  {
   "cell_type": "code",
   "execution_count": null,
   "id": "e9e2e58d",
   "metadata": {},
   "outputs": [],
   "source": [
    "def coeff(n):\n",
    "    if n < 0 or n % 2 == 0:\n",
    "        return 0\n",
    "    return binomial(- Rational(1,2), (n-1)//2) * sqrt(2)**n * I**n * epsiloninv**n\n",
    "\n",
    "for n in range(1, N): \n",
    "    print(\"n =\", n)\n",
    "    \n",
    "    X = re(sig_eq[n+1])\n",
    "    \n",
    "    X += deriv(re(sig_eq[n]))\n",
    "    \n",
    "    for k in range(0, n+1):\n",
    "        X += re(sig_eq[k]) * re(sig_eq[n-k])\n",
    "        X += - im(sig_eq[k]) * im(sig_eq[n-k])\n",
    "        \n",
    "    X += re(q_coeff(n)) / 2 * (u + v)\n",
    "    \n",
    "    X += - deriv(v) / sqrt(2) * epsilon * re(r_eq[n])\n",
    "     \n",
    "        \n",
    "    Y = im(sig_eq[n+1])\n",
    "    \n",
    "    Y += deriv(im(sig_eq[n]))\n",
    "    \n",
    "    for k in range(0, n+1):\n",
    "        Y += 2 * re(sig_eq[k]) * im(sig_eq[n-k])\n",
    "        \n",
    "    Y += im(q_coeff(n)) / 2 * (u + v)\n",
    "    \n",
    "    Y += - deriv(v) / sqrt(2) * epsilon * im(r_eq[n])\n",
    "    \n",
    "    Z = 0\n",
    "    for m in range(0, n+1):\n",
    "        ZZ = im(sig_eq[m+1])\n",
    "\n",
    "        ZZ += deriv(im(sig_eq[m]))\n",
    "\n",
    "        for k in range(0, m+1):\n",
    "            ZZ += 2 * re(sig_eq[k]) * im(sig_eq[m-k])\n",
    "\n",
    "        ZZ += im(q_coeff(m)) / 2 * (u + v)\n",
    "\n",
    "        ZZ += - deriv(v) / sqrt(2) * epsilon * im(r_eq[m])\n",
    "    \n",
    "        Z += coeff(n-k) / I * ZZ \n",
    "      \n",
    "    A = re(sig_eq[n])\n",
    "    for m in range(0, n+1):\n",
    "        A += coeff(n-m) / I * im(sig_eq[m])\n",
    "        \n",
    "\n",
    "    display(polynomize(X + Z))"
   ]
  },
  {
   "cell_type": "code",
   "execution_count": null,
   "id": "3e3aeced",
   "metadata": {},
   "outputs": [],
   "source": [
    "def coeff(n):\n",
    "    if n < 0 or n % 2 == 0:\n",
    "        return 0\n",
    "    return binomial(- Rational(1,2), (n-1)//2) * sqrt(2)**n * I**n * epsiloninv**n\n",
    "\n",
    "for n in range(0, N): \n",
    "    print(\"n =\", n)\n",
    "    \n",
    "    X = E_plus_eq[n+1]\n",
    "    \n",
    "    X += deriv(E_plus_eq[n])\n",
    "    \n",
    "    for k in range(0, n+1):\n",
    "        X += re(sig_eq[k]) * re(sig_eq[n-k])\n",
    "        \n",
    "    for k in range(0, n+1):\n",
    "        X += - im(sig_eq[k]) * im(sig_eq[n-k])\n",
    "    \n",
    "    for k in range(0, n+1):\n",
    "        for m in range(0, k+1):\n",
    "            X += - 2 / I * coeff(n) * re(sig_eq[k-m]) * im(sig_eq[n-k])\n",
    "        \n",
    "    if n == 0:\n",
    "        X += u + epsilon**2 / 2 * u * v\n",
    "        \n",
    "    X += deriv(v) / sqrt(2) * F_plus_eq[n]\n",
    "    \n",
    "    display(polynomize(X))"
   ]
  },
  {
   "cell_type": "code",
   "execution_count": null,
   "id": "bb5cafa5",
   "metadata": {},
   "outputs": [],
   "source": [
    "for n in range(0, N): \n",
    "    print(\"n =\", n)\n",
    "    \n",
    "    X = E_plus_eq[n+1]\n",
    "    \n",
    "    X += deriv(E_plus_eq[n])\n",
    "    \n",
    "    for k in range(0, n+1):\n",
    "        X += E_plus_eq[k] * E_plus_eq[n-k]\n",
    "        \n",
    "    for k in range(0, n+1):\n",
    "        X += - im(sig_eq[k]) * im(sig_eq[n-k])\n",
    "    \n",
    "    #for k in range(0, n+1):\n",
    "    #    for m in range(0, k+1):\n",
    "    #        X += - 2**m * epsiloninv**(2*m) * im(sig_eq[k-m]) * im(sig_eq[n-k])\n",
    "        \n",
    "    if n == 0:\n",
    "        X += u + epsilon**2 / 2 * u * v\n",
    "        \n",
    "    X += deriv(v) / sqrt(2) * F_plus_eq[n]\n",
    "    \n",
    "    display(polynomize(X))"
   ]
  },
  {
   "cell_type": "code",
   "execution_count": null,
   "id": "6951ab5c",
   "metadata": {
    "scrolled": true
   },
   "outputs": [],
   "source": [
    "\n",
    "def G(n):\n",
    "    if n == 0:\n",
    "        return 1\n",
    "    if n % 2 == 1 and n >= 0:\n",
    "        return binomial(2 * (n//2), n//2) * sqrt(2) * I * epsiloninv**n / 2**(n//2)\n",
    "    else:\n",
    "        return 0\n",
    "    \n",
    "def q_coeff(n):\n",
    "    if n % 2 == 0 or n < 0:\n",
    "        return 0\n",
    "    else:\n",
    "        nn = (n - 1) // 2\n",
    "        if nn % 2 == 0:\n",
    "            return I**n * epsiloninv**n * catalan(nn) / (sqrt(2) * 2**nn)\n",
    "        elif nn % 2 == 1:\n",
    "            return - I**n * epsiloninv**n* catalan(nn) / (sqrt(2) * 2**nn)\n",
    "\n",
    "\n",
    "def sqrtt(x):\n",
    "    return I*sqrt(-x)\n",
    "\n",
    "X = Symbol('X')\n",
    "\n",
    "def get_expansion(eqn, x0, var, num):\n",
    "    epsilonpos = Symbol('epsilon_2', positive=True)\n",
    "    epsiloninvpos = Symbol('eta_2', positive=True)\n",
    "    \n",
    "    eqn = eqn.subs(epsilon, epsilonpos).subs(epsiloninv, epsiloninvpos)\n",
    "    ser = series(eqn, x0=0, x=var, n=num).removeO().subs(epsilonpos, epsilon).subs(epsiloninvpos, epsiloninv)\n",
    "    return [simplify(ser.coeff(var**n) if n > 0 else ser.subs(var, 0)) for n in range(0, num)]\n",
    "    \n",
    "N = 6\n",
    "\n",
    "#h_plus = get_expansion(1 + 1 / sqrtt(1 - Rational(1, 2) / epsiloninv**2 / X**2), 0, X, N+1)\n",
    "#h_minus = get_expansion(1 - 1 / sqrtt(1 - Rational(1, 2) / epsiloninv**2 / X**2), 0, X, N+1)\n",
    "\n",
    "h_plus = [binomial(-Rational(1, 2), n//2) * (sqrt(2) * I * epsiloninv)**n if n % 2 == 1 else 0 for n in range(N+1)]\n",
    "h_plus[0] = 1\n",
    "h_minus = [- binomial(-Rational(1, 2), n//2) * (sqrt(2) * I * epsiloninv)**n if n % 2 == 1 else 0 for n in range(N+1)]\n",
    "h_minus[0] = 1\n",
    "\n",
    "h_plus_mod = get_expansion(1 + 1 / sqrtt(1 + Rational(1, 2) / epsiloninv**2 / X**2), 0, X, N+1)\n",
    "h_minus_mod = get_expansion(1 - 1 / sqrtt(1 + Rational(1, 2) / epsiloninv**2 / X**2), 0, X, N+1)\n",
    "\n",
    "exp1 = [get_expansion((X / sqrtt(1 - 1 / (8 * epsiloninv**2 * X**2)))**n, 0, X, N+1) for n in range(N+1)]\n",
    "\n",
    "for n in range(N+1):\n",
    "    #print(\"n =\", n)\n",
    "    for k in range(N+1):\n",
    "        #print(\"k =\", k)\n",
    "        #display(exp1[n][k])\n",
    "        pass\n",
    "    pass\n",
    "\n",
    "E_plus_sym = [Symbol('E^+_{' + str(n) + '}') for n in range(N+1)]\n",
    "E_plus_eq = [E_plus_sym[n] for n in range(N+1)]\n",
    "\n",
    "E_minus_sym = [Symbol('E^-_{' + str(n) + '}') for n in range(N+1)]\n",
    "E_minus_eq = [E_plus_sym[n] for n in range(N+1)]\n",
    "\n",
    "F_plus_sym = [Symbol('F^+_{' + str(n) + '}') for n in range(N+1)]\n",
    "F_plus_eq = [E_plus_sym[n] for n in range(N+1)]\n",
    "\n",
    "F_minus_sym = [Symbol('F^-_{' + str(n) + '}') for n in range(N+1)]\n",
    "F_minus_eq = [E_plus_sym[n] for n in range(N+1)]\n",
    "\n",
    "Ft_plus_sym = [Symbol('\\\\tilde{F}^+_{' + str(n) + '}') for n in range(N+1)]\n",
    "Ft_plus_eq = [E_plus_sym[n] for n in range(N+1)]\n",
    "\n",
    "Ft_minus_sym = [Symbol('\\\\tilde{F}^-_{' + str(n) + '}') for n in range(N+1)]\n",
    "Ft_minus_eq = [E_plus_sym[n] for n in range(N+1)]\n",
    "\n",
    "r_sym = [Symbol('r_{' + str(n) + '}') for n in range(N+1)]\n",
    "r_eq = [r_sym[n] for n in range(N+1)]\n",
    "r_poly = [r_sym[n] for n in range(N+1)]\n",
    "\n",
    "sig_sym = [Symbol('\\sigma_{' + str(n) + '}') for n in range(N+1)]\n",
    "sig_eq = [sig_sym[n] for n in range(N+1)]\n",
    "sig_poly = [sig_sym[n] for n in range(N+1)]\n",
    "\n",
    "r_factor = 1 #Symbol('\\lambda')\n",
    "r_eq[0] = r_factor * (- I * sqrt(2) * epsiloninv)\n",
    "r_eq[1] = r_factor * (u - epsiloninv**2 + (Rational(1, 2) + epsilon**2 * v / 2) * r_eq[0]**2)\n",
    "r_poly[0] = polynomize(r_eq[0])\n",
    "r_poly[1] = polynomize(r_eq[1])\n",
    "\n",
    "\n",
    "sig_eq[0] = epsilon / (2 * sqrt(2) * I) * (u + v)\n",
    "sig_eq[1] = deriv(sig_eq[0]) + sig_eq[0]**2 + u * (1 + epsilon**2 * v / 2) - (u + v) / 2 + epsilon**2 * deriv(v) / 2 * r_eq[0]\n",
    "sig_poly[0] = polynomize(sig_eq[0])\n",
    "sig_poly[1] = polynomize(sig_eq[1])\n",
    "\n",
    "for n in range(1, N):\n",
    "    \n",
    "    print(\"n =\", n)\n",
    "    print(datetime.datetime.now())\n",
    "\n",
    "    X = 0\n",
    "\n",
    "    X += - deriv(r_eq[n]) \n",
    "    \n",
    "    X += q_coeff(n) * epsiloninv**2\n",
    "\n",
    "    for k in range(0, n+1):\n",
    "        X += (Rational(1, 2) + epsilon**2 * v / 2) * r_eq[k] * r_eq[n-k]\n",
    "\n",
    "    for k in range(1, n+1):\n",
    "        X += epsilon / (2 * sqrt(2) * I) * r_eq[k] * r_eq[n+1-k]\n",
    "\n",
    "    for k in range(0, n+1):\n",
    "        for j in range(0, k+1):\n",
    "            X += q_coeff(j) * r_eq[k-j] * r_eq[n-k] / 2\n",
    "            \n",
    "    r_eq[n+1] = r_factor * X\n",
    "    r_poly[n+1] = polynomize(r_eq[n+1])\n",
    "    r_eq[n+1] = depolynomize(r_poly[n+1])\n",
    "    \n",
    "    X = 0\n",
    "\n",
    "    X += deriv(sig_eq[n]) \n",
    "    \n",
    "    X += q_coeff(n) / 2 * (u + v)\n",
    "    \n",
    "    for k in range(0, n+1):\n",
    "        X += sig_eq[k] * sig_eq[n-k]\n",
    "\n",
    "    X += epsilon**2 * deriv(v) / 2 * r_eq[n]\n",
    "\n",
    "    sig_eq[n+1] = X\n",
    "    sig_poly[n+1] = polynomize(sig_eq[n+1])\n",
    "    sig_eq[n+1] = depolynomize(sig_poly[n+1])\n",
    "    \n",
    "    #display(Eq(r_sym[n], polynomize(r_eq[n])))\n",
    "    \n",
    "for n in range(0, N+1):\n",
    "    E_plus_eq[n] = 0\n",
    "    for k in range(0, n+1):\n",
    "        E_plus_eq[n] += re(sig_eq[k] * h_plus[n-k])\n",
    "    \n",
    "    E_minus_eq[n] = 0\n",
    "    for k in range(0, n+1):\n",
    "        E_minus_eq[n] += re(sig_eq[k] * h_minus[n-k])\n",
    "        \n",
    "    F_plus_eq[n] = 0\n",
    "    for k in range(0, n+1):\n",
    "        F_plus_eq[n] += im(sig_eq[k] * h_plus[n-k])\n",
    "        \n",
    "    F_minus_eq[n] = 0\n",
    "    for k in range(0, n+1):\n",
    "        F_minus_eq[n] += im(sig_eq[k] * h_minus[n-k])\n",
    "        \n",
    "    Ft_plus_eq[n] = 0\n",
    "    for k in range(0, N+1):\n",
    "        Ft_plus_eq[n] += exp1[k][n] * F_plus_eq[k]\n",
    "        \n",
    "    Ft_minus_eq[n] = 0\n",
    "    for k in range(0, N+1):\n",
    "        Ft_minus_eq[n] += exp1[k][n] * F_minus_eq[k]\n",
    "       \n",
    "    display(Eq(sig_sym[n], sig_poly[n]))\n",
    "    display(Eq(E_plus_sym[n], polynomize(E_plus_eq[n])))\n",
    "    display(Eq(E_minus_sym[n], polynomize(E_minus_eq[n])))\n",
    "    display(Eq(F_plus_sym[n], polynomize(F_plus_eq[n])))\n",
    "    display(Eq(F_minus_sym[n], polynomize(F_minus_eq[n])))\n",
    "    #display(Eq(Ft_plus_sym[n], polynomize(Ft_plus_eq[n])))\n",
    "    #display(Eq(Ft_minus_sym[n], polynomize(Ft_minus_eq[n])))\n",
    "\n"
   ]
  },
  {
   "cell_type": "code",
   "execution_count": null,
   "id": "4d3abc8a",
   "metadata": {},
   "outputs": [],
   "source": [
    "N = 8\n",
    "\n",
    "def polynomize_matrix(M):\n",
    "    return Matrix([[polynomize(M[0,0]), polynomize(M[0,1])], [polynomize(M[1,0]), polynomize(M[1,1])]])\n",
    "def depolynomize_matrix(M):\n",
    "    return Matrix([[depolynomize(M[0,0]), depolynomize(M[0,1])], [depolynomize(M[1,0]), depolynomize(M[1,1])]])\n",
    "\n",
    "def coeff(n):\n",
    "    return binomial(-Rational(1, 2), n//2) * (sqrt(2) * I * epsiloninv)**n if n % 2 == 1 else 0\n",
    "\n",
    "M_sym = [Symbol('M_{' + str(n) + '}') for n in range(N+1)]\n",
    "M_eq = [M_sym[n] for n in range(N+1)]\n",
    "\n",
    "M_eq[0] = Matrix([[0, - I * epsilon * sqrt(2) * (u + v) / 4], [- I * epsilon * sqrt(2) * (u + v) / 4 , 0]])\n",
    "\n",
    "P = Matrix([[0, 1], [1, 0]])\n",
    "\n",
    "for n in range(0, N):\n",
    "\n",
    "    print(\"n =\", n+1)\n",
    "\n",
    "    X = Matrix([[deriv(M_eq[n][0,0]), deriv(M_eq[n][0,1])], [deriv(M_eq[n][1,0]), deriv(M_eq[n][1,1])]])\n",
    "    \n",
    "    for k in range(0, n+1):\n",
    "        X += Rational(1, 2) * (M_eq[k] * M_eq[n-k] + P * M_eq[k] * P * M_eq[n-k])\n",
    "        \n",
    "    X -= (u + v) / 2 * epsilon**2 / 2 * Matrix([[0, - im(- coeff(n+2)) * I], [im(coeff(n+2)) * I, 0]])\n",
    "    \n",
    "    X -= Matrix([[0, (- u * (1 + epsilon**2 * v / 2) + (u + v)) * im(- coeff(n)) * I], [- u * (1 + epsilon**2 * v / 2) * im(coeff(n)) * I, 0]])\n",
    "    \n",
    "    if n == 0:\n",
    "        X -= Matrix([[- u * (1 + epsilon**2 * v / 2), 0], [0 , - u * (1 + epsilon**2 * v / 2) + (u + v)]])\n",
    "\n",
    "    M_eq[n+1] = Matrix([[depolynomize(polynomize(X[0,0])), \n",
    "                         depolynomize(polynomize(X[0,1]))], \n",
    "                        [depolynomize(polynomize(X[1,0])), \n",
    "                         depolynomize(polynomize(X[1,1]))]])\n",
    "    \n",
    "    obtained = polynomize_matrix(M_eq[n+1])\n",
    "    \n",
    "    compare = Matrix([[polynomize(E_plus_eq[n+1]) + O(epsilon**2),\n",
    "                    polynomize(I * F_minus_eq[n+1]) + O(epsilon**2)],\n",
    "                   [polynomize(I * F_plus_eq[n+1]) + O(epsilon**2),\n",
    "                    polynomize(E_minus_eq[n+1]) + O(epsilon**2)]])\n",
    "    \n",
    "    display(polynomize_matrix(M_eq[n+1]))\n"
   ]
  },
  {
   "cell_type": "code",
   "execution_count": null,
   "id": "4c712d69",
   "metadata": {},
   "outputs": [],
   "source": [
    "\n",
    "q_coeffs = [I * catalan(n//2) / sqrt(2)**n * epsiloninv**n if n % 2 == 1 else 0 for n in range(0, N+1)]\n",
    "\n",
    "\n",
    "Eh_plus_sym = [Symbol('\\\\hat{E}^+_{' + str(n) + '}') for n in range(N+1)]\n",
    "Eh_plus_eq = [Eh_plus_sym[n] for n in range(N+1)]\n",
    "\n",
    "Eh_minus_sym = [Symbol('\\\\hat{E}^-_{' + str(n) + '}') for n in range(N+1)]\n",
    "Eh_minus_eq = [Eh_minus_sym[n] for n in range(N+1)]\n",
    "\n",
    "Fh_plus_sym = [Symbol('\\\\hat{F}^+_{' + str(n) + '}') for n in range(N+1)]\n",
    "Fh_plus_eq = [Fh_plus_sym[n] for n in range(N+1)]\n",
    "\n",
    "Fh_minus_sym = [Symbol('\\\\hat{F}^-_{' + str(n) + '}') for n in range(N+1)]\n",
    "Fh_minus_eq = [Fh_minus_sym[n] for n in range(N+1)]\n",
    "\n",
    "\n",
    "sigh_sym = [Symbol('\\\\hat{\\sigma}_{' + str(n) + '}') for n in range(N+1)]\n",
    "sigh_eq = [sigh_sym[n] for n in range(N+1)]\n",
    "\n",
    "for n in range(N-1):\n",
    "    print(\"n =\", n)\n",
    "\n",
    "    sigh_eq[n] = 0\n",
    "    \n",
    "    sigh_eq[n] += - deriv(sig_eq[n])\n",
    "    \n",
    "    sigh_eq[n] += sig_eq[n+1]\n",
    "    \n",
    "    for k in range(0, n+1):\n",
    "        sigh_eq[n] += - sig_eq[k] * sig_eq[n-k]\n",
    "    \n",
    "    sigh_eq[n] += - q_coeffs[n] * (u + v) / 2\n",
    "    \n",
    "    sigh_eq[n] += - epsilon**2 * deriv(v) / 2 * r_eq[n]\n",
    "    \n",
    "    if n == 0:\n",
    "        sigh_eq[n] += - u * (1 + epsilon**2 * v / 2) + (u + v) / 2\n",
    "\n",
    "    Eh_plus_eq[n] = 0\n",
    "    \n",
    "    #Eh_plus_eq[n] += - deriv(E_plus_eq[n])\n",
    "    \n",
    "    #Eh_plus_eq[n] += E_plus_eq[n+1]\n",
    "    \n",
    "    for k in range(0, n+1):\n",
    "        #Eh_plus_eq[n] += - E_plus_eq[k] * E_plus_eq[n-k] / 2\n",
    "        pass\n",
    "    for k in range(0, n+1):\n",
    "        Eh_plus_eq[n] += F_plus_eq[k] * F_plus_eq[n-k] / 2\n",
    "        pass\n",
    "    for k in range(0, n+1):\n",
    "        #Eh_plus_eq[n] += - E_plus_eq[k] * E_minus_eq[n-k] / 2\n",
    "        pass\n",
    "    for k in range(0, n+1):\n",
    "        Eh_plus_eq[n] += + F_plus_eq[k] * F_minus_eq[n-k] / 2\n",
    "        pass\n",
    "    for k in range(0, n+1):\n",
    "        #Eh_plus_eq[n] += - epsilon**2 * deriv(v) / 2 * re(r_eq[k] * h_plus[n-k])\n",
    "        pass\n",
    "    if n == 0:\n",
    "        #Eh_plus_eq[n] += - u * (1 + epsilon**2 * v / 2)\n",
    "        pass\n",
    "    \n",
    "    Eh_minus_eq[n] = 0\n",
    "    \n",
    "    Eh_minus_eq[n] += - deriv(E_minus_eq[n])\n",
    "    \n",
    "    #Eh_minus_eq[n] += E_minus_eq[n+1]\n",
    "    \n",
    "    for k in range(0, n+1):\n",
    "        Eh_minus_eq[n] += - E_minus_eq[k] * E_minus_eq[n-k] / 2\n",
    "        pass\n",
    "    for k in range(0, n+1):\n",
    "        Eh_minus_eq[n] += F_minus_eq[k] * F_minus_eq[n-k] / 2\n",
    "        pass\n",
    "    for k in range(0, n+1):\n",
    "        Eh_minus_eq[n] += - E_minus_eq[k] * E_plus_eq[n-k] / 2\n",
    "        pass\n",
    "    for k in range(0, n+1):\n",
    "        Eh_minus_eq[n] += + F_minus_eq[k] * F_plus_eq[n-k] / 2\n",
    "        pass\n",
    "    for k in range(0, n+1):\n",
    "        Eh_minus_eq[n] += - epsilon**2 * deriv(v) / 2 * re(r_eq[k] * h_minus[n-k])\n",
    "        pass\n",
    "    if n == 0:\n",
    "        Eh_minus_eq[n] += - u * (1 + epsilon**2 * v / 2) + (u + v)\n",
    "        pass\n",
    "        \n",
    "    Fh_plus_eq[n] = 0\n",
    "    \n",
    "    Fh_plus_eq[n] += - deriv(F_plus_eq[n])\n",
    "    \n",
    "    #Fh_plus_eq[n] += F_plus_eq[n+1]\n",
    "    \n",
    "    for k in range(0, n+1):\n",
    "        Fh_plus_eq[n] += - E_plus_eq[k] * F_plus_eq[n-k]\n",
    "        pass\n",
    "    for k in range(0, n+1):\n",
    "        Fh_plus_eq[n] += - E_plus_eq[k] * F_minus_eq[n-k] / 2\n",
    "        pass\n",
    "    for k in range(0, n+1):\n",
    "        Fh_plus_eq[n] += - F_plus_eq[k] * E_minus_eq[n-k] / 2\n",
    "        pass\n",
    "    for k in range(0, n+1):\n",
    "        Fh_plus_eq[n] += - epsilon**2 * deriv(v) / 2 * im(r_eq[k] * h_plus[n-k])\n",
    "        pass\n",
    "    \n",
    "    Fh_plus_eq[n] += (u + v) / 2 * epsilon**2 / 2 * im(h_plus[n+2])\n",
    "    \n",
    "    Fh_plus_eq[n] += - u * (1 + epsilon**2 * v / 2) * (im(h_plus[n]) if n > 0 else 0)\n",
    "        \n",
    "\n",
    "    Fh_minus_eq[n] = 0\n",
    "    \n",
    "    Fh_minus_eq[n] += - deriv(F_minus_eq[n])\n",
    "    \n",
    "    Fh_minus_eq[n] += F_minus_eq[n+1]\n",
    "    \n",
    "    for k in range(0, n+1):\n",
    "        Fh_minus_eq[n] += - E_minus_eq[k] * F_minus_eq[n-k]\n",
    "        pass\n",
    "    for k in range(0, n+1):\n",
    "        Fh_minus_eq[n] += - E_minus_eq[k] * F_plus_eq[n-k] / 2\n",
    "        pass\n",
    "    for k in range(0, n+1):\n",
    "        Fh_minus_eq[n] += - F_minus_eq[k] * E_plus_eq[n-k] / 2\n",
    "        pass\n",
    "    for k in range(0, n+1):\n",
    "        Fh_minus_eq[n] += - epsilon**2 * deriv(v) / 2 * im(r_eq[k] * h_minus[n-k])\n",
    "        pass\n",
    "    \n",
    "    Fh_minus_eq[n] += - (u + v) / 2 * epsilon**2 / 2 * im(h_minus[n+2])\n",
    "    \n",
    "    Fh_minus_eq[n] += (- u * (1 + epsilon**2 * v / 2) + (u + v)) * (im(h_minus[n]) if n > 0 else 0)\n",
    "        \n",
    "    display(Eq(E_plus_sym[n], polynomize(E_plus_eq[n])))\n",
    "    display(Eq(E_minus_sym[n], polynomize(E_minus_eq[n])))\n",
    "    display(Eq(F_plus_sym[n], polynomize(F_plus_eq[n])))\n",
    "    display(Eq(F_minus_sym[n], polynomize(F_minus_eq[n])))\n",
    "    \n",
    "    #display(Eq(Eh_plus_sym[n], polynomize(Eh_plus_eq[n])))\n",
    "    #display(Eq(Eh_minus_sym[n], polynomize(Eh_minus_eq[n])))\n",
    "    #display(Eq(Fh_plus_sym[n], polynomize(Fh_plus_eq[n])))\n",
    "    #display(Eq(Fh_minus_sym[n], polynomize(Fh_minus_eq[n])))\n",
    "\n",
    "    #display(Eq(sigh_sym[n], polynomize(sigh_eq[n])))\n",
    "\n"
   ]
  },
  {
   "cell_type": "code",
   "execution_count": null,
   "id": "43d818b6",
   "metadata": {
    "scrolled": true
   },
   "outputs": [],
   "source": [
    "def p_coeff(n):\n",
    "    if n == -1:\n",
    "        return simplify(epsilon / sqrt(2))\n",
    "    if n >= 0:\n",
    "        return simplify(1 / sqrt(2) * epsiloninv**(2*n+1) * Rational((-2)**(-n) * (factorial(2*n) / (factorial(n) * factorial(n+1)))))\n",
    "    return 0\n",
    "\n",
    "def q_coeff(n):\n",
    "    if n % 2 == 0 or n < 0:\n",
    "        return 0\n",
    "    else:\n",
    "        nn = (n - 1) // 2\n",
    "        if nn % 2 == 0:\n",
    "            return I**n * epsiloninv**n * catalan(nn) / (sqrt(2) * 2**nn)\n",
    "        elif nn % 2 == 1:\n",
    "            return - I**n * epsiloninv**n* catalan(nn) / (sqrt(2) * 2**nn)\n",
    "\n",
    "for k in range(10):\n",
    "    display(q_coeff(k))"
   ]
  },
  {
   "cell_type": "code",
   "execution_count": null,
   "id": "3c841ba0",
   "metadata": {},
   "outputs": [],
   "source": [
    "import pickle\n",
    "import datetime\n",
    "\n",
    "\n",
    "output_folder = \"res/\"\n",
    "\n",
    "def p_coeff(n):\n",
    "    if n == -1:\n",
    "        return simplify(epsilon / sqrt(2))\n",
    "    if n >= 0:\n",
    "        return simplify(1 / sqrt(2) * epsiloninv**(2*n+1) * Rational((-2)**(-n) * (factorial(2*n) / (factorial(n) * factorial(n+1)))))\n",
    "    return 0\n",
    "\n",
    "def q_coeff(n):\n",
    "    if n % 2 == 0 or n < 0:\n",
    "        return 0\n",
    "    else:\n",
    "        nn = (n - 1) // 2\n",
    "        if nn % 2 == 0:\n",
    "            return I**n * epsiloninv**n * catalan(nn) / (sqrt(2) * 2**nn)\n",
    "        elif nn % 2 == 1:\n",
    "            return - I**n * epsiloninv**n* catalan(nn) / (sqrt(2) * 2**nn)\n",
    "\n",
    "def a_coeff(n):\n",
    "    return catalan(n) / 2**n\n",
    "    \n",
    "N = 7\n",
    "\n",
    "r_sym = [Symbol('r_{' + str(n) + '}') for n in range(N+1)]\n",
    "r_eq = [r_sym[n] for n in range(N+1)]\n",
    "r_poly = [r_sym[n] for n in range(N+1)]\n",
    "\n",
    "sig_sym = [Symbol('\\sigma_{' + str(n) + '}') for n in range(N+1)]\n",
    "sig_eq = [sig_sym[n] for n in range(N+1)]\n",
    "sig_poly = [sig_sym[n] for n in range(N+1)]\n",
    "\n",
    "E_sym = [Symbol('E_{' + str(n) + '}') for n in range(N+1)]\n",
    "E_eq = [E_sym[n] for n in range(N+1)]\n",
    "E_poly = [E_sym[n] for n in range(N+1)]\n",
    "\n",
    "Et_sym = [Symbol('\\\\tilde{E}_{' + str(n) + '}') for n in range(N+1)]\n",
    "Et_eq = [Et_sym[n] for n in range(N+1)]\n",
    "Et_poly = [Et_sym[n] for n in range(N+1)]\n",
    "\n",
    "variant_sign = 1\n",
    "\n",
    "r_factor = 1 #Symbol('\\lambda')\n",
    "r_eq[0] = r_factor * (- I * sqrt(2) * epsiloninv)\n",
    "r_eq[1] = r_factor * (u - epsiloninv**2 + (Rational(1, 2) + epsilon**2 * v**2 / 2) * r_eq[0]**2)\n",
    "r_poly[0] = polynomize(r_eq[0])\n",
    "r_poly[1] = polynomize(r_eq[1])\n",
    "\n",
    "sig_eq[0] = epsilon / (2 * sqrt(2) * I) * (u + v)\n",
    "sig_eq[1] = deriv(sig_eq[0]) + sig_eq[0]**2 + u * (1 + epsilon**2 * v / 2) - (u + v) / 2 + epsilon**2 * deriv(v) / 2 * r_eq[0]\n",
    "sig_poly[0] = polynomize(sig_eq[0])\n",
    "sig_poly[1] = polynomize(sig_eq[1])\n",
    "\n",
    "E_eq[0] = re(sig_eq[0])\n",
    "Et_eq[0] = im(sig_eq[0])\n",
    "E_poly[0] = polynomize(E_eq[0])\n",
    "Et_poly[0] = polynomize(Et_eq[0])\n",
    "\n",
    "E_eq[1] = re(sig_eq[1]) - variant_sign * epsiloninv * sqrt(2) * Et_eq[0]\n",
    "Et_eq[1] = im(sig_eq[1])\n",
    "E_poly[1] = polynomize(E_eq[1])\n",
    "Et_poly[1] = polynomize(Et_eq[1])\n",
    "\n",
    "for n in range(1, N):\n",
    "    \n",
    "    print(\"n =\", n)\n",
    "    print(datetime.datetime.now())\n",
    "\n",
    "    X = 0\n",
    "\n",
    "    X += - deriv(r_eq[n]) + q_coeff(n) * epsiloninv**2\n",
    "    #display(Eq(Symbol('X'), polynomize(X) + O(epsilon)))\n",
    "\n",
    "    for k in range(0, n+1):\n",
    "        X += (Rational(1, 2) + epsilon**2 * v**2 / 2) * r_eq[k] * r_eq[n-k]\n",
    "    #display(Eq(Symbol('X'), polynomize(X) + O(epsilon)))\n",
    "\n",
    "    for k in range(1, n+1):\n",
    "        X += epsilon / (2 * sqrt(2) * I) * r_eq[k] * r_eq[n+1-k]\n",
    "    #display(Eq(Symbol('X'), polynomize(X) + O(epsilon)))\n",
    "\n",
    "    for k in range(0, n+1):\n",
    "        for j in range(0, k+1):\n",
    "            X += q_coeff(j) * r_eq[k-j] * r_eq[n-k] / 2\n",
    "            \n",
    "    #display(Eq(Symbol('X'), polynomize(X) + O(epsilon)))\n",
    "\n",
    "    r_eq[n+1] = r_factor * X\n",
    "    r_poly[n+1] = polynomize(r_eq[n+1])\n",
    "    r_eq[n+1] = depolynomize(r_poly[n+1])\n",
    "    \n",
    "    X = 0\n",
    "\n",
    "    X += deriv(sig_eq[n]) + q_coeff(n) / 2 * (u + v)\n",
    "    \n",
    "    for k in range(0, n+1):\n",
    "        X += sig_eq[k] * sig_eq[n-k]\n",
    "\n",
    "    X += epsilon**2 * deriv(v) / 2 * r_eq[n]\n",
    "\n",
    "    sig_eq[n+1] = X\n",
    "    sig_poly[n+1] = polynomize(sig_eq[n+1])\n",
    "    sig_eq[n+1] = depolynomize(sig_poly[n+1])\n",
    "\n",
    "    E_eq[n+1] = re(sig_eq[n+1]) - variant_sign * epsiloninv * sqrt(2) * Et_eq[n]\n",
    "    E_poly[n+1] = polynomize(E_eq[n+1])\n",
    "    E_eq[n+1] = depolynomize(E_poly[n+1])\n",
    "\n",
    "    Et_eq[n+1] = im(sig_eq[n+1])\n",
    "    for k in range(n-1, -1, -2):\n",
    "        Et_eq[n+1] += Et_eq[k] * epsiloninv**(n+1-k) * a_coeff((n+1-k)//2 - 1)\n",
    "    Et_poly[n+1] = polynomize(Et_eq[n+1])\n",
    "    Et_eq[n+1] = depolynomize(Et_poly[n+1])\n",
    "\n",
    "    \n",
    "for n in range(0, N+1):\n",
    "    display(Eq(sig_sym[n], sig_poly[n]))\n",
    "    #display(Eq(re(r_sym[n]), re(r_poly[n] + O(epsilon**2))))\n",
    "    #display(Eq(re(sig_sym[n]), re(sig_poly[n] + O(epsilon**2))))\n",
    "    display(Eq(E_sym[n], E_poly[n]))\n"
   ]
  },
  {
   "cell_type": "code",
   "execution_count": null,
   "id": "90f3a159",
   "metadata": {},
   "outputs": [],
   "source": [
    "energy = E_poly[7].coeffs()[-1]\n",
    "monomial = Add.make_args(energy)[0]\n",
    "display(Add.make_args(monomial))"
   ]
  },
  {
   "cell_type": "code",
   "execution_count": null,
   "id": "5958c6d9",
   "metadata": {},
   "outputs": [],
   "source": [
    "energy = sig_eq[6]\n",
    "\n",
    "def reduce(expr, sym):\n",
    "    print(\"REDUCE: \", str(expr))\n",
    "    reduction = expr\n",
    "    summands = Add.make_args(expr)\n",
    "    for summand in expr.args:\n",
    "        for factor in summand.args:\n",
    "            print(\"Summand: \", str(summand), \"Factor: \", str(factor))\n",
    "            coefficient = 1\n",
    "            if str(sym) not in str(factor):\n",
    "                coefficient = factor\n",
    "                print(\"coefficient: \", coefficient)\n",
    "            if str(sym) in str(factor) and '{x' in str(factor) and '**' not in str(factor):\n",
    "                display(str(factor))\n",
    "                \n",
    "                factor_integrated = Symbol(str(factor).replace('x', '', 1).replace('('+str(sym)+')_{}', str(sym), 1), real=True)\n",
    "                print(\"integrand: \", str(factor_integrated))\n",
    "                rest_deriv = deriv(simplify(summand / factor))\n",
    "                print(\"deriv: \", str(rest_deriv))\n",
    "                if rest_deriv == 0:\n",
    "                    reduction = simplify(reduction - summand)\n",
    "                    return reduction\n",
    "                else:\n",
    "                    new = - factor_integrated * rest_deriv\n",
    "                    print(\"new: \", str(new))\n",
    "                    for new_summand in Add.make_args(new):\n",
    "                        new_coefficient = 1\n",
    "                        if str(sym) not in str(new_summand.args[0]):\n",
    "                                new_coefficient = new_summand.args[0]\n",
    "                                print(\"New coefficient: \", new_coefficient)\n",
    "                                \n",
    "                        for other_summand in Add.make_args(expr):\n",
    "                            print(\"Other summand: \", other_summand)\n",
    "                            other_coefficient = 1\n",
    "                            if str(sym) not in str(other_summand.args[0]):\n",
    "                                other_coefficient = other_summand.args[0]\n",
    "                                print(\"Other coefficient: \", other_coefficient)\n",
    "\n",
    "                            print(\"Compare: \", other_summand / other_coefficient, \"with\", new_summand / new_coefficient)\n",
    "                            print(\"Find: \", simplify(other_summand / other_coefficient - new_summand / new_coefficient))\n",
    "                            if simplify(other_summand / other_coefficient - new_summand / new_coefficient) == 0:\n",
    "                                print(\"We have a match: \")\n",
    "                                print(other_summand / other_coefficient, other_coefficient)\n",
    "\n",
    "                                reduction = simplify(reduction - new / new_coefficient * other_coefficient)\n",
    "                                return reduction\n",
    "                                \n",
    "energy = reduce(energy, Symbol('v', real=True))\n",
    "energy = reduce(energy, Symbol('v', real=True))\n",
    "energy = reduce(energy, Symbol('v', real=True))\n",
    "energy = reduce(energy, Symbol('v', real=True))\n",
    "energy = reduce(energy, Symbol('v', real=True))\n",
    "energy = reduce(energy, Symbol('v', real=True))\n",
    "energy = reduce(energy, Symbol('v', real=True))\n",
    "energy = reduce(energy, Symbol('v', real=True))\n"
   ]
  },
  {
   "cell_type": "code",
   "execution_count": null,
   "id": "1da733bb",
   "metadata": {},
   "outputs": [],
   "source": [
    "import pickle\n",
    "import datetime\n",
    "\n",
    "\n",
    "output_folder = \"res/\"\n",
    "\n",
    "def p_coeff(n):\n",
    "    if n == -1:\n",
    "        return simplify(epsilon / sqrt(2))\n",
    "    if n >= 0:\n",
    "        return simplify(1 / sqrt(2) * epsiloninv**(2*n+1) * Rational((-2)**(-n) * (factorial(2*n) / (factorial(n) * factorial(n+1)))))\n",
    "    return 0\n",
    "\n",
    "def q_coeff(n):\n",
    "    if n % 2 == 0 or n < 0:\n",
    "        return 0\n",
    "    else:\n",
    "        nn = (n - 1) // 2\n",
    "        if nn % 2 == 0:\n",
    "            return I**n * epsiloninv**n * catalan(nn) / (sqrt(2) * 2**nn)\n",
    "        elif nn % 2 == 1:\n",
    "            return - I**n * epsiloninv**n * catalan(nn) / (sqrt(2) * 2**nn)\n",
    "        \n",
    "def qt_coeff(n):\n",
    "    if n % 2 == 0 or n < 0:\n",
    "        return 0\n",
    "    else:\n",
    "        nn = (n - 1) // 2\n",
    "        if nn % 2 == 0:\n",
    "            return (-1)**n * epsiloninv**n * catalan(nn) / (sqrt(2) * 2**nn)\n",
    "        elif nn % 2 == 1:\n",
    "            return - (-1)**n * epsiloninv**n * catalan(nn) / (sqrt(2) * 2**nn)\n",
    "        \n",
    "        \n",
    "def a_coeff(n):\n",
    "    return catalan(n) / 2**n\n",
    "    \n",
    "N = 18\n",
    "\n",
    "r_sym = [Symbol('r_{' + str(n) + '}') for n in range(N+1)]\n",
    "r_eq = [r_sym[n] for n in range(N+1)]\n",
    "r_poly = [r_sym[n] for n in range(N+1)]\n",
    "\n",
    "R_sym = [Symbol('R_{' + str(n) + '}') for n in range(N+1)]\n",
    "R_eq = [R_sym[n] for n in range(N+1)]\n",
    "R_poly = [R_sym[n] for n in range(N+1)]\n",
    "\n",
    "r_factor = 1 \n",
    "lam, mu = symbols('\\lambda, mu')\n",
    "\n",
    "r_eq[0] = r_factor * (- I * sqrt(2) * epsiloninv)\n",
    "r_eq[1] = r_factor * (u - epsiloninv**2 + (Rational(1, 2) + epsilon**2 * v**2 / 2) * r_eq[0]**2)\n",
    "r_poly[0] = polynomize(r_eq[0])\n",
    "r_poly[1] = polynomize(r_eq[1])\n",
    "\n",
    "R_eq[0] = sqrt(2) * epsilon\n",
    "R_eq[1] = 2 #epsilon**2 * u + 1 + (Rational(1, 2) * epsiloninv**2 - v**2 / 2) * R_eq[0]**2\n",
    "R_poly[0] = polynomize(R_eq[0])\n",
    "R_poly[1] = polynomize(R_eq[1])\n",
    "\n",
    "\n",
    "for n in range(1, N):\n",
    "    \n",
    "    print(\"n =\", n)\n",
    "    print(datetime.datetime.now())\n",
    "\n",
    "    #X = 0\n",
    "    #\n",
    "    #X += - deriv(r_eq[n]) + q_coeff(n) * epsiloninv**2\n",
    "    #\n",
    "    #for k in range(0, n+1):\n",
    "    #    X += (Rational(1, 2) + epsilon**2 * v**2 / 2) * r_eq[k] * r_eq[n-k]\n",
    "    #\n",
    "    #for k in range(1, n+1):\n",
    "    #    X += epsilon / (2 * sqrt(2) * I) * r_eq[k] * r_eq[n+1-k]\n",
    "    #\n",
    "    #for k in range(0, n+1):\n",
    "    #    for j in range(0, k+1):\n",
    "    #        X += q_coeff(j) * r_eq[k-j] * r_eq[n-k] / 2\n",
    "    #        \n",
    "    #r_eq[n+1] = r_factor * X\n",
    "    #r_poly[n+1] = polynomize(r_eq[n+1])\n",
    "    #r_eq[n+1] = depolynomize(r_poly[n+1])\n",
    "    \n",
    "    #display(Eq(r_sym[n+1], r_poly[n+1]))\n",
    "    \n",
    "    X = 0\n",
    "\n",
    "    #X += - deriv(R_eq[n]) \n",
    "    \n",
    "    X += - qt_coeff(n)\n",
    "    \n",
    "    #display(Eq(Symbol('A'), polynomize(- qt_coeff(n))))\n",
    "    \n",
    "    Y = 0\n",
    "    for k in range(0, n+1):\n",
    "        X += (epsiloninv**2 / 2 - v**2 / 2) * R_eq[k] * R_eq[n-k]\n",
    "        Y += (epsiloninv**2 / 2 - v**2 / 2) * R_eq[k] * R_eq[n-k]\n",
    "        \n",
    "    display(Eq(Symbol('B'), polynomize(Y) + O(epsilon)))\n",
    "    \n",
    "    Y = 0\n",
    "    for k in range(1, n+1):\n",
    "        X -= epsiloninv / (2 * sqrt(2)) * R_eq[k] * R_eq[n+1-k]\n",
    "        Y -= epsiloninv / (2 * sqrt(2)) * R_eq[k] * R_eq[n+1-k]\n",
    "\n",
    "    display(Eq(Symbol('C'), polynomize(Y) + O(epsilon)))\n",
    "\n",
    "    Y = 0\n",
    "    for k in range(0, n+1):\n",
    "        for j in range(0, k+1):\n",
    "            X += epsiloninv**2 / 2 * qt_coeff(j) * R_eq[k-j] * R_eq[n-k]\n",
    "            Y += epsiloninv**2 / 2 * qt_coeff(j) * R_eq[k-j] * R_eq[n-k]\n",
    "            \n",
    "    display(Eq(Symbol('D'), polynomize(Y) + O(epsilon)))\n",
    "\n",
    "    R_eq[n+1] = r_factor * X\n",
    "    R_poly[n+1] = polynomize(R_eq[n+1])\n",
    "    R_eq[n+1] = depolynomize(R_poly[n+1])\n",
    "    \n",
    "    display(Eq(R_sym[n+1], R_poly[n+1] + O(epsilon)))\n"
   ]
  },
  {
   "cell_type": "code",
   "execution_count": null,
   "id": "302d36f3",
   "metadata": {},
   "outputs": [],
   "source": [
    "#pickle.dump([polynomize(s) for s in sig_eq], open(\"data/poly_sig_eq_\" + str(7) + \".p\", \"wb\"))\n",
    "#pickle.dump([polynomize(r) for r in r_eq], open(\"data/poly_r_eq_\" + str(7) + \".p\", \"wb\"))\n",
    "\n",
    "\n",
    "for n in range(N+1):\n",
    "    \n",
    "    display(Eq(sig_sym[n], polynomize(sig_eq[n])))\n",
    "\n",
    "        \n",
    "    if n == 0:\n",
    "        F_eq[0] = re(sig_eq[0])\n",
    "        display(Eq(F_sym[0], polynomize(F_eq[0])))\n",
    "        \n",
    "        Ft_eq[0] = im(sig_eq[0])\n",
    "        display(Eq(Ft_sym[0], polynomize(Ft_eq[0])))\n",
    "        \n",
    "    if n == 1:\n",
    "        F_eq[1] = re(sig_eq[1]) - epsiloninv * sqrt(2) * Ft_eq[0]\n",
    "        display(Eq(F_sym[1], polynomize(F_eq[1])))\n",
    "        \n",
    "        Ft_eq[1] = im(sig_eq[1])\n",
    "        display(Eq(Ft_sym[1], polynomize(Ft_eq[1])))\n",
    "        \n",
    "    if n == 2:\n",
    "        F_eq[2] = re(sig_eq[2]) - epsiloninv * sqrt(2) * Ft_eq[1]\n",
    "        display(Eq(F_sym[2], polynomize(F_eq[2])))\n",
    "        \n",
    "        Ft_eq[2] = im(sig_eq[2]) + epsiloninv**2 * Ft_eq[0]\n",
    "        display(Eq(Ft_sym[2], polynomize(Ft_eq[2])))\n",
    "       \n",
    "    if n == 3:\n",
    "        F_eq[3] = re(sig_eq[3]) - epsiloninv * sqrt(2) * Ft_eq[2]\n",
    "        display(Eq(F_sym[3], polynomize(F_eq[3])))\n",
    "        \n",
    "        Ft_eq[3] = im(sig_eq[3]) + epsiloninv**2 * Ft_eq[1]\n",
    "        display(Eq(Ft_sym[3], polynomize(Ft_eq[3])))\n",
    "        \n",
    "    if n == 4:\n",
    "        F_eq[4] = re(sig_eq[4]) - epsiloninv * sqrt(2) * Ft_eq[3]\n",
    "        display(Eq(F_sym[4], polynomize(F_eq[4])))\n",
    "        \n",
    "        Ft_eq[4] = im(sig_eq[4]) + epsiloninv**2 * Ft_eq[2] + epsiloninv**4 / 2 * Ft_eq[0]\n",
    "        display(Eq(Ft_sym[4], polynomize(Ft_eq[4])))\n",
    "        \n",
    "    if n == 5:\n",
    "        F_eq[5] = re(sig_eq[5]) - epsiloninv * sqrt(2) * Ft_eq[4]\n",
    "        display(Eq(F_sym[5], polynomize(F_eq[5])))\n",
    "        \n",
    "        Ft_eq[5] = im(sig_eq[5]) + epsiloninv**2 * Ft_eq[3] + epsiloninv**4 / 2 * Ft_eq[1]\n",
    "        display(Eq(Ft_sym[5], polynomize(Ft_eq[5])))\n",
    "        \n",
    "    if n == 6:\n",
    "        F_eq[6] = re(sig_eq[6]) - epsiloninv * sqrt(2) * Ft_eq[5]\n",
    "        display(Eq(F_sym[6], polynomize(F_eq[6])))\n",
    "        \n",
    "        Ft_eq[6] = im(sig_eq[6]) + epsiloninv**2 * Ft_eq[4] + epsiloninv**4 / 2 * Ft_eq[2] + epsiloninv**6 / 2 * Ft_eq[0]\n",
    "        display(Eq(Ft_sym[6], polynomize(Ft_eq[6])))\n",
    "        \n",
    "    if n == 7:\n",
    "        F_eq[7] = re(sig_eq[7]) - epsiloninv * sqrt(2) * Ft_eq[6]\n",
    "        display(Eq(F_sym[7], polynomize(F_eq[7])))\n",
    "        \n",
    "        Ft_eq[7] = im(sig_eq[7]) + epsiloninv**2 * Ft_eq[5] + epsiloninv**4 / 2 * Ft_eq[3] + epsiloninv**6 / 2 * Ft_eq[1]\n",
    "        display(Eq(Ft_sym[7], polynomize(Ft_eq[7])))\n",
    "        \n",
    "    #display(Eq(r_sym[n], polynomize(r_eq[n])))\n",
    "\n"
   ]
  },
  {
   "cell_type": "code",
   "execution_count": null,
   "id": "ad5764a4",
   "metadata": {},
   "outputs": [],
   "source": [
    "X = Symbol('X')\n",
    "\n",
    "epsilon = Symbol('\\\\epsilon', positive=True)\n",
    "\n",
    "eqn = 1 / (2 + sqrt(1 - epsilon**2 / (2 * X**2)) + 1 / sqrt(1 - epsilon**2 / (2 * X**2)))\n",
    "\n",
    "ser = series(eqn, x0=0, x=X, n=None)\n",
    "\n",
    "display(simplify(next(ser)))\n",
    "\n",
    "for n in range(15):\n",
    "    print(\"n =\", n)\n",
    "    display(simplify(next(ser)))\n",
    "    #display(polynomize(q_coeff(2*n+1)))\n",
    "    #display(polynomize(epsiloninv**(2*n+1) * I / (sqrt(2)**(2*n+1)) * catalan(n)))"
   ]
  },
  {
   "cell_type": "code",
   "execution_count": null,
   "id": "5cdbc2e7",
   "metadata": {},
   "outputs": [],
   "source": [
    "\n",
    "def sqrtt(x):\n",
    "    return I*sqrt(-x)\n",
    "\n",
    "X = Symbol('X')\n",
    "\n",
    "epsilon = Symbol('epsilon', positive=True)\n",
    "\n",
    "eqn = sqrtt(- (u + (sqrtt(1 - epsilon**2 / 2 / X**2) - 1) / epsilon**2) / (1 + epsilon**2 * v + sqrtt(1 - epsilon**2 / 2 / X**2)))\n",
    "#eqn = 1 / (1 - sqrt(1 - epsilon**2 / 2 * X**2))\n",
    "ser = series(eqn, x0 = 0, x=X, n=None)\n",
    "\n",
    "for j in range(15):\n",
    "    display(simplify(next(ser)))\n"
   ]
  },
  {
   "cell_type": "code",
   "execution_count": null,
   "id": "06d788c7",
   "metadata": {},
   "outputs": [],
   "source": [
    "def L(n):\n",
    "    if n == 0:\n",
    "        return - I\n",
    "    if n == 1: \n",
    "        return sqrt(2) / 4\n",
    "    if n >= 2 and n % 2 == 0:\n",
    "        nn = n // 2\n",
    "        return I * catalan(nn-1) / sqrt(2)**(5*n-2)\n",
    "    return 0\n",
    "\n",
    "def Lt(n):\n",
    "    if n == 0:\n",
    "        return - I\n",
    "    if n == 1: \n",
    "        return - sqrt(2) / 4\n",
    "    if n >= 2 and n % 2 == 0:\n",
    "        nn = n // 2\n",
    "        return I * catalan(nn-1) / sqrt(2)**(5*n-2)\n",
    "    return 0\n",
    "\n",
    "def G(n):\n",
    "    if n == 0:\n",
    "        return 1\n",
    "    if n % 2 == 1 and n >= 0:\n",
    "        return - binomial(2 * (n//2), n//2) * sqrt(2) * I * epsiloninv**n / 2**(n//2)\n",
    "    else:\n",
    "        return 0\n",
    "    \n",
    "def sqrtt(x):\n",
    "    return I*sqrt(-x)\n",
    "\n",
    "epsilon = Symbol('epsilon', positive=True)\n",
    "\n",
    "X = Symbol('X')\n",
    "theta = Symbol('theta')\n",
    "\n",
    "eqn = 1 - 1 / (epsilon / (sqrt(2) * I) * X * sqrt(1 - 2 / (epsilon**2 * X**2)))\n",
    "ser = series(eqn, x0 = oo, x=X, n=None)\n",
    "for n in range(-1,11):\n",
    "    print(\"n =\", n)\n",
    "    display(next(ser))\n",
    "    if n == -1:\n",
    "        display(polynomize(G(0)))\n",
    "    else:\n",
    "        display(polynomize(G(2*n+1)))\n",
    "    \n",
    "for n in range(-5, 5):\n",
    "    display(binomial(Rational(1,2), n) * (-epsilon**2/2)**n)\n",
    "    \n",
    "for n in range(-1, 14):\n",
    "    display(polynomize(I * (-1)**n * p_coeff(n)))\n",
    "    pass\n",
    "\n",
    "eqn = I / sqrt(1 + 2 / (sqrtt(1 + 2 * (4) * theta**2) - 1))\n",
    "ser = series(eqn, x0 = oo, x=theta, n=17)\n",
    "#display(Eq(eqn, ser))\n",
    "\n",
    "eqn2 = I / sqrtt(1 - 2 / (sqrtt(1 + 2 * (4) * theta**2) + 1))\n",
    "ser2 = series(eqn2, x0 = oo, x=theta, n=17)\n",
    "#display(Eq(eqn2, ser2))\n",
    "\n",
    "for n in range(14):\n",
    "    #display(L(n))\n",
    "    pass\n",
    "\n"
   ]
  },
  {
   "cell_type": "code",
   "execution_count": null,
   "id": "018debcc",
   "metadata": {},
   "outputs": [],
   "source": [
    "def binomial2(n, k):\n",
    "    return factorial2(n) / (factorial2(k) * factorial2(n - k))\n",
    "\n",
    "def PPP(l, n):\n",
    "    if l == 0:\n",
    "        if n == 0:\n",
    "            return -1\n",
    "        return 0\n",
    "    return (-1)**((l-1)//2 + (n+1)//2) * (2 * sqrt(2))**(l - n) * binomial(-Rational(1,2) - n//2, l - n)\n",
    "\n",
    "def PPPt(n, k):\n",
    "    if n - k < 0:\n",
    "        return 0\n",
    "    if n - k == 0:\n",
    "        return -1\n",
    "    else:\n",
    "        return (-1)**(1+(n-1)//2+(k-1)//2) * (2 * sqrt(2))**(n-k) * binomial(n - 1 - k//2, (k-1)//2)\n",
    "\n",
    "def BB3(n, s, k):\n",
    "    if k % 2 == 0:\n",
    "        return (-1)**(1+s//2+(n+1)//2) * (2 * sqrt(2))**(n-s) * binomial(n - (s+1)//2, s//2)\n",
    "    if k % 2 == 1:\n",
    "        return (-1)**(1+(s-1)//2+(n+1)//2) * (2 * sqrt(2))**(n-s) * binomial(n - s//2 - 1, (s-1)//2)\n",
    "    \n",
    "def BBt3(n, s, k):\n",
    "    if k % 2 == 0:\n",
    "        return (-1)**(1+(s-1)//2+(n+1)//2) * (2 * sqrt(2))**(n-s) * binomial(n - s//2 - 1, (s-1)//2)\n",
    "    if k % 2 == 1:\n",
    "        return (-1)**(1+s//2+(n+1)//2) * (2 * sqrt(2))**(n-s) * binomial(n - (s+1)//2, s//2)\n",
    "\n",
    "def BBtt3(n, s, k):\n",
    "    if k % 2 == 0:\n",
    "        return (-1)**(s//2+n//2) * (2 * sqrt(2))**(n-s) * binomial2(2*(n - (s+1)//2) - 1, 2*(s//2) - 1)\n",
    "    if k % 2 == 1:\n",
    "        return (-1)**((s+1)//2+n//2) * (2 * sqrt(2))**(n-s) * binomial2(2*(n - s//2) - 1, 2*((s+1)//2) - 1)\n",
    "\n",
    "def BBttt3(n, s, k):\n",
    "    if k % 2 == 0:\n",
    "        return (-1)**((s+1)//2+n//2) * (2 * sqrt(2))**(n-s) * binomial2(2*(n - s//2) - 1, 2*((s+1)//2) - 1)\n",
    "    if k % 2 == 1:\n",
    "        return (-1)**(s//2+n//2) * (2 * sqrt(2))**(n-s) * binomial2(2*(n - (s+1)//2) - 1, 2*(s//2) - 1)\n",
    "\n",
    "def JJ(n, s):\n",
    "    return PPPt(n, s-1)\n",
    "    return (-1)**((n-1)//2 + s//2) * (2 * sqrt(2))**(n+1-s) *  binomial(n - (s+1)//2, s//2 - 1)\n",
    "\n",
    "def JJt(n, s):\n",
    "    return PPP(n, s-1)\n",
    "    if s == 0:\n",
    "        return - (-1)**(n//2 + (s+1)//2) / sqrt(2)**(n-1-s) * catalan(n)\n",
    "    return (-1)**(n//2 + (s+1)//2) / sqrt(2)**(n+1-s) * binomial(n-s//2, (s-1)//2) * binomial(2*(n-s//2), n-s//2) / binomial(2*((s-1)//2), (s-1)//2)\n",
    "\n",
    "def L(n):\n",
    "    if n == 0:\n",
    "        return I\n",
    "    if n == 1: \n",
    "        return - sqrt(2)\n",
    "    if n >= 2 and n % 2 == 0:\n",
    "        nn = n // 2\n",
    "        return - I * catalan(nn-1) / 2**(nn-1)\n",
    "    return 0\n",
    "\n",
    "N = 5\n",
    "\n",
    "lam = Symbol('\\lambda', real=True)\n",
    "\n",
    "F_sym = [Symbol('F_{' + str(n) + '}') for n in range(N+1)]\n",
    "Ft_sym = [Symbol('\\\\tilde{F}_{' + str(n) + '}') for n in range(N+1)]\n",
    "\n",
    "F_eq = [F_sym[n] for n in range(N+1)]\n",
    "Ft_eq = [Ft_sym[n] for n in range(N+1)]\n",
    "\n",
    "E_sym = [Symbol('E_{' + str(n) + '}') for n in range(N+1)]\n",
    "Et_sym = [Symbol('\\\\tilde{E}_{' + str(n) + '}') for n in range(N+1)]\n",
    "\n",
    "E_eq = [E_sym[n] for n in range(N+1)]\n",
    "Et_eq = [Et_sym[n] for n in range(N+1)]\n",
    "\n",
    "E_alt = [E_sym[n] for n in range(N+1)]\n",
    "Et_alt = [Et_sym[n] for n in range(N+1)]\n",
    "\n",
    "\n",
    "H_sym = [Symbol('H_{' + str(n) + '}') for n in range(N+1)]\n",
    "Ht_sym = [Symbol('\\\\tilde{H}_{' + str(n) + '}') for n in range(N+1)]\n",
    "\n",
    "H_eq = [H_sym[n] for n in range(N+1)]\n",
    "Ht_eq = [Ht_sym[n] for n in range(N+1)]\n",
    "\n",
    "omega_sym = [Symbol('\\\\omega_{' + str(n) + '}') for n in range(N+1)]\n",
    "omegat_sym = [Symbol('\\\\tilde{\\\\omega}_{' + str(n) + '}') for n in range(N+1)]\n",
    "\n",
    "omega_eq = [omega_sym[n] for n in range(N+1)]\n",
    "omegat_eq = [omegat_sym[n] for n in range(N+1)]\n",
    "\n",
    "H_alt = [H_sym[n] for n in range(N+1)]\n",
    "Ht_alt = [Ht_sym[n] for n in range(N+1)]\n",
    "\n",
    "r_sym = [Symbol('r_{' + str(n) + '}') for n in range(N+1)]\n",
    "r_eq = [r_sym[n] for n in range(N+1)]\n",
    "\n",
    "R_sym = [Symbol('R_{' + str(n) + '}') for n in range(N+1)]\n",
    "R_eq = [R_sym[n] for n in range(N+1)]\n",
    "\n",
    "Rt_sym = [Symbol('\\\\tilde{R}_{' + str(n) + '}') for n in range(N+1)]\n",
    "Rt_eq = [Rt_sym[n] for n in range(N+1)]\n",
    "\n",
    "r_eq[0] = - sqrt(2) * I * epsiloninv\n",
    "r_eq[1] = u - v - 2 * epsiloninv**2\n",
    "\n",
    "R_eq[0] = lam * im(r_eq[0])\n",
    "R_eq[1] = lam * re(r_eq[1])\n",
    "\n",
    "Rt_eq[0] = 0\n",
    "Rt_eq[1] = 0\n",
    "\n",
    "F_eq[0] = - epsilon / (2 * sqrt(2)) * (u + v)\n",
    "F_eq[1] = (u - v) / 2 + epsilon**2 * (u * v / 2 - (u + v)**2 / 8)\n",
    "Ft_eq[0] = 0\n",
    "Ft_eq[1] = - epsilon / (2 * sqrt(2)) * deriv(u + v + lam * 2 * v)\n",
    "\n",
    "E_eq[0] = F_eq[0]\n",
    "E_eq[1] = F_eq[1] + epsiloninv * PPP(1, 0) * E_eq[0]\n",
    "Et_eq[0] = 0\n",
    "Et_eq[1] = Ft_eq[1] + epsiloninv * PPPt(1, 0) * Et_eq[0]\n",
    "\n",
    "H_eq[0] = Et_eq[0]\n",
    "H_eq[1] = E_eq[1]\n",
    "Ht_eq[0] = E_eq[0]\n",
    "Ht_eq[1] = Et_eq[1]\n",
    "\n",
    "S_sym = [Symbol('S_{' + str(n) + '}') for n in range(N+1)]\n",
    "\n",
    "S_eq = [S_sym[n] for n in range(N+1)]\n",
    "\n",
    "S_eq[0] = 0\n",
    "S_eq[1] = u\n",
    "\n",
    "for n in range(1, N):\n",
    "    X = deriv(S_eq[n])\n",
    "    \n",
    "    for k in range(n+1):\n",
    "        X += S_eq[k] * S_eq[n-k]\n",
    "    \n",
    "    #S_eq[n+1] = X\n",
    "\n",
    "\n",
    "for n in range(1, N):\n",
    "    print(n)\n",
    "    \n",
    "    X = 0\n",
    "    \n",
    "    X -= deriv(r_eq[n])\n",
    "    \n",
    "    for k in range(0, n+1):\n",
    "        X += (1 + epsilon**2 / 2 * v) * r_eq[k] * r_eq[n-k]\n",
    "    \n",
    "    for k in range(1, n+1):\n",
    "        X -= I * epsilon / (2 * sqrt(2)) * r_eq[k] * r_eq[n+1-k]\n",
    "    \n",
    "    r_eq[n+1] = X\n",
    "    \n",
    "    if (n+1) % 2 == 0:\n",
    "        R_eq[n+1] = lam * im(r_eq[n+1])\n",
    "        Rt_eq[n+1] = lam * re(r_eq[n+1])\n",
    "    elif (n+1) % 2 == 1:\n",
    "        R_eq[n+1] = lam * re(r_eq[n+1])\n",
    "        Rt_eq[n+1] = lam * im(r_eq[n+1])\n",
    "        \n",
    "    X = 0\n",
    "    \n",
    "    X += epsilon**2 / 2 * deriv(v) * Rt_eq[n]\n",
    "    \n",
    "    for k in range(0, n+1):\n",
    "        X += epsiloninv**(n+1-k) * PPP(n+1, k) * E_eq[k] - epsiloninv**(n-k) * PPPt(n, k) * deriv(Et_eq[k])\n",
    "                \n",
    "        for j in range(k, n+1):\n",
    "            for m in range(0, n-j+1):\n",
    "                X += epsiloninv**(n - k - m) * (n%2 + ((n+1)%2)*(-1)**j) * PPPt(j, k) * PPPt(n-j, m) * Et_eq[k] * Et_eq[m]\n",
    "                pass\n",
    "            \n",
    "            for m in range(0, n-j+1):\n",
    "                X += epsiloninv**(n - k - m) * (n%2 - ((n+1)%2)*(-1)**j) * PPP(j, k) * PPP(n-j, m) * E_eq[k] * E_eq[m]\n",
    "                pass\n",
    "            \n",
    "        for j in range(1, n+2-k): \n",
    "            X -= epsiloninv**(n+1-k) * E_eq[k] * 2 * catalan(j-1) / sqrt(2)**j * (-1)**((j+n%2)//2) * PPP(n+1-j, k)\n",
    "            pass\n",
    "        \n",
    "    E_eq[n+1] = X\n",
    "    \n",
    "    X = 0\n",
    "    \n",
    "    X += epsilon**2 / 2 * deriv(v) * R_eq[n]\n",
    "    \n",
    "    for k in range(0, n+1):\n",
    "        X += epsiloninv**(n+1-k) * PPPt(n+1, k) * Et_eq[k] - epsiloninv**(n-k) * PPP(n, k) * deriv(E_eq[k])\n",
    "        \n",
    "        for j in range(k, n+1):\n",
    "            for m in range(0, n-j+1):\n",
    "                X += epsiloninv**(n - k - m) * ((n+1)%2 + (n%2)*(-1)**j) * PPPt(j, k) * PPP(n-j, m) * Et_eq[k] * E_eq[m]\n",
    "                pass\n",
    "            \n",
    "            for m in range(0, n-j+1):\n",
    "                X += epsiloninv**(n - k - m) * ((n+1)%2 - (n%2)*(-1)**j) * PPP(j, k) * PPPt(n-j, m) * E_eq[k] * Et_eq[m]\n",
    "                pass\n",
    "            \n",
    "        for j in range(1, n+2-k): \n",
    "            X -= epsiloninv**(n+1-k) * Et_eq[k] * 2 * catalan(j-1) / sqrt(2)**j * (-1)**((j+(n+1)%2)//2) * PPPt(n+1-j, k)\n",
    "            pass    \n",
    "    \n",
    "    Et_eq[n+1] = X\n",
    "    \n",
    "    \n",
    "for n in range(0, N // 2):\n",
    "    \n",
    "    \n",
    "    X = 0\n",
    "    \n",
    "    X += epsilon**2 * deriv(v) / 2 * R_eq[2*n+1]\n",
    "    \n",
    "    for s in range(0, n+1):\n",
    "        X += epsiloninv**(2*n+2-2*s) * JJt(2*n+1, 2*s) * H_eq[2*s]\n",
    "        X -= epsiloninv**(2*n+1-2*s) * PPP(2*n+1, 2*s) * deriv(Ht_eq[2*s])\n",
    "        \n",
    "        for k in range(0, 2*s+1):\n",
    "            X += 2 * BBtt3(2*n+1, 2*s, 0) * epsiloninv**(2*n+1-2*s) * H_eq[k] * Ht_eq[2*s-k]\n",
    "            \n",
    "    for s in range(0, n+1):\n",
    "        X += epsiloninv**(2*n+2-2*s-1) * JJt(2*n+1, 2*s+1) * Ht_eq[2*s+1]\n",
    "        X -= epsiloninv**(2*n+1-2*s-1) * PPP(2*n+1, 2*s+1) * deriv(H_eq[2*s+1])\n",
    "        \n",
    "        for k in range(0, 2*s+2):\n",
    "            X += BBtt3(2*n+1, 2*s+1, 0) * epsiloninv**(2*n+1-2*s-1) * H_eq[k] * H_eq[2*s+1-k]\n",
    "            X += BBttt3(2*n+1, 2*s+1, 0) * epsiloninv**(2*n+1-2*s-1) * Ht_eq[k] * Ht_eq[2*s+1-k]\n",
    "        \n",
    "    if 2*n+2 <= N:\n",
    "        H_eq[2*n+2] = X\n",
    "\n",
    "    \n",
    "    X = 0\n",
    "    \n",
    "    X += epsilon**2 * deriv(v) / 2 * Rt_eq[2*n+1]\n",
    "    \n",
    "    for s in range(0, n+1):\n",
    "        X += epsiloninv**(2*n+2-2*s) * JJ(2*n+1, 2*s) * Ht_eq[2*s]\n",
    "        X -= epsiloninv**(2*n+1-2*s) * PPPt(2*n+1, 2*s) * deriv(H_eq[2*s])\n",
    "        \n",
    "        for k in range(0, 2*s+1):\n",
    "            X += BB3(2*n+1, 2*s, 0) * epsiloninv**(2*n+1-2*s) * Ht_eq[k] * Ht_eq[2*s-k]\n",
    "            X += BBt3(2*n+1, 2*s, 0) * epsiloninv**(2*n+1-2*s) * H_eq[k] * H_eq[2*s-k]\n",
    "        \n",
    "    for s in range(0, n+1):\n",
    "        X += epsiloninv**(2*n+2-2*s-1) * JJ(2*n+1, 2*s+1) * H_eq[2*s+1]\n",
    "        X -= epsiloninv**(2*n+1-2*s-1) * PPPt(2*n+1, 2*s+1) * deriv(Ht_eq[2*s+1])\n",
    "        \n",
    "        for k in range(0, 2*s+2):\n",
    "            X += 2 * BB3(2*n+1, 2*s+1, 0) * epsiloninv**(2*n+1-2*s-1) * Ht_eq[k] * H_eq[2*s+1-k]\n",
    "       \n",
    "    if 2*n+2 <= N:\n",
    "        Ht_eq[2*n+2] = X\n",
    "    \n",
    "    \n",
    "    X = 0\n",
    "    \n",
    "    X += epsilon**2 * deriv(v) / 2 * Rt_eq[2*n+2]\n",
    "    \n",
    "    for s in range(0, n+2):\n",
    "        X += epsiloninv**(2*n+3-2*s) * JJ(2*n+2, 2*s) * Ht_eq[2*s]\n",
    "        X -= epsiloninv**(2*n+2-2*s) * PPPt(2*n+2, 2*s) * deriv(H_eq[2*s])\n",
    "        \n",
    "        for k in range(0, 2*s+1):\n",
    "            X += BB3(2*n+2, 2*s, 0) * epsiloninv**(2*n+2-2*s) * Ht_eq[k] * Ht_eq[2*s-k]\n",
    "            X += BBt3(2*n+2, 2*s, 0) * epsiloninv**(2*n+2-2*s) * H_eq[k] * H_eq[2*s-k]\n",
    "        \n",
    "    for s in range(0, n+1):\n",
    "        X += epsiloninv**(2*n+3-2*s-1) * JJ(2*n+2, 2*s+1) * H_eq[2*s+1]\n",
    "        X -= epsiloninv**(2*n+2-2*s-1) * PPPt(2*n+2, 2*s+1) * deriv(Ht_eq[2*s+1])\n",
    "        \n",
    "        for k in range(0, 2*s+2):\n",
    "            X += 2 * BB3(2*n+2, 2*s+1, 0) * epsiloninv**(2*n+2-2*s-1) * Ht_eq[k] * H_eq[2*s+1-k]\n",
    "        \n",
    "    if 2*n+3 <= N:\n",
    "        H_eq[2*n+3] = X\n",
    "    \n",
    "    \n",
    "    X = 0\n",
    "    \n",
    "    X += epsilon**2 * deriv(v) / 2 * R_eq[2*n+2]\n",
    "    \n",
    "    for s in range(0, n+2):\n",
    "        X += epsiloninv**(2*n+3-2*s) * JJt(2*n+2, 2*s) * H_eq[2*s]\n",
    "        X -= epsiloninv**(2*n+2-2*s) * PPP(2*n+2, 2*s) * deriv(Ht_eq[2*s])\n",
    "        \n",
    "        for k in range(0, 2*s+1):\n",
    "            X += 2 * BBtt3(2*n+2, 2*s, 0) * epsiloninv**(2*n+2-2*s) * H_eq[k] * Ht_eq[2*s-k]\n",
    "            \n",
    "    for s in range(0, n+1):\n",
    "        X += epsiloninv**(2*n+3-2*s-1) * JJt(2*n+2, 2*s+1) * Ht_eq[2*s+1]\n",
    "        X -= epsiloninv**(2*n+2-2*s-1) * PPP(2*n+2, 2*s+1) * deriv(H_eq[2*s+1])\n",
    "        \n",
    "        for k in range(0, 2*s+2):\n",
    "            X += BBtt3(2*n+2, 2*s+1, 0) * epsiloninv**(2*n+2-2*s-1) * H_eq[k] * H_eq[2*s+1-k]\n",
    "            X += BBttt3(2*n+2, 2*s+1, 0) * epsiloninv**(2*n+2-2*s-1) * Ht_eq[k] * Ht_eq[2*s+1-k]\n",
    "        \n",
    "    if 2*n+3 <= N:\n",
    "        Ht_eq[2*n+3] = X\n",
    "    \n",
    "\n",
    "\n",
    "    \n",
    "for n in range(0, N+1):\n",
    "    \n",
    "    omega_eq[n] = H_eq[n]\n",
    "    for k in range(0, n+1):\n",
    "        omega_eq[n] += L(k) * epsiloninv**k * Ht_eq[n-k]\n",
    "    \n",
    "    omegat_eq[n] = H_eq[n]\n",
    "    for k in range(0, n+1):\n",
    "        omegat_eq[n] -= L(k) * epsiloninv**k * Ht_eq[n-k]\n",
    "    \n",
    "    #display(Eq(r_sym[n], polynomize(r_eq[n])))\n",
    "    \n",
    "    #display(Eq(E_sym[n], polynomize(E_eq[n])))\n",
    "    #display(Eq(Et_sym[n], polynomize(Et_eq[n])))\n",
    "\n",
    "    display(Eq(H_sym[n], polynomize(H_eq[n])))\n",
    "    display(Eq(Ht_sym[n], polynomize(Ht_eq[n])))\n",
    "    \n",
    "    display(Eq(omega_sym[n], polynomize(omega_eq[n])))\n",
    "    display(Eq(omegat_sym[n], polynomize(omegat_eq[n])))\n",
    "\n",
    "    #display(Eq(S_sym[n], simplify(S_eq[n])))\n"
   ]
  },
  {
   "cell_type": "code",
   "execution_count": null,
   "id": "7b770fa5",
   "metadata": {},
   "outputs": [],
   "source": [
    "import pickle\n",
    "\n",
    "factors = pickle.load(open(\"factors_9.p\", \"rb\"))\n",
    "\n",
    "def binomial2(n, k):\n",
    "    return factorial2(n) / (factorial2(k) * factorial2(n - k))\n",
    "\n",
    "def PP(l, n):\n",
    "    return (-1)**(l//2 + n//2) * (sqrt(2) * 2)**(l - n) * binomial(-Rational(1,2) + l//2 - n, l - n)\n",
    "\n",
    "def PP2(l, n):\n",
    "    if l//2 >= n:\n",
    "        return (-1)**(l + n//2) * (2 * sqrt(2))**(l - n) * binomial2(2 * (l - n), 2 * (l//2 - n) - 1)**(-1) / (2 * (l - l//2) + 1)\n",
    "    \n",
    "    elif l//2 < n:\n",
    "        return (-1)**(1 + (l+1)//2 + (n-1)//2) * (2 * sqrt(2))**(l - n) * binomial2(2 * (l - l//2) - 1, 2 * (n - l//2) - 1)\n",
    "    \n",
    "\n",
    "def QQQ(l, n):\n",
    "    return (-1)**((l-1)//2 + (n+1)//2) * epsiloninv**(l - n) * (2 * sqrt(2))**(l - n) * binomial(-Rational(1,2) - n//2, l - n)\n",
    "\n",
    "def PPP(l, n):\n",
    "    if l - n < 0:\n",
    "        return 0\n",
    "    if l - n == 0:\n",
    "        return -1\n",
    "    else:\n",
    "        return (-1)**((l-1)//2 + (n+1)//2) * (2 * sqrt(2))**(l - n) * binomial(-Rational(1,2) - n//2, l - n)\n",
    "\n",
    "def PPPt(n, k):\n",
    "    if n - k < 0:\n",
    "        return 0\n",
    "    if n - k == 0:\n",
    "        return -1\n",
    "    else:\n",
    "        return (-1)**(1+(n-1)//2+(k-1)//2) * (2 * sqrt(2))**(n-k) * binomial(n - 1 - k//2, (k-1)//2)\n",
    "\n",
    "def PPPt3(n, k):\n",
    "    if n == k:\n",
    "        return -1\n",
    "\n",
    "    def auxilliary(n, k):\n",
    "        if n == 0:\n",
    "            return 1\n",
    "        if k <= n and k >= 0:\n",
    "            A = 0\n",
    "            for j in range(0, min(k, n-k)+1):\n",
    "                A += (-1)**j * 2**(n-j-1) * binomial(k, j) * binomial(n-j, k)\n",
    "            return A\n",
    "        else:\n",
    "            return 0\n",
    "    A = 0\n",
    "    for j in range(n-k, n):\n",
    "        A += (-1)**(1+j+n//2+(k-1)//2) * sqrt(2)**(n-k+2) * binomial(n-1, j) * auxilliary(j, n-k)\n",
    "    return A\n",
    "    \n",
    "def PPPt2(n, k):\n",
    "    return (-1)**(n*(k+1)) * PPP(n - (k+1)%2, k - (k+1)%2)\n",
    "\n",
    "def CC(l, n): \n",
    "    return 2 * catalan(l - 1 - n) / sqrt(2)**(l - n) * (-1)**((l - n + (l-1)%2) // 2)\n",
    "\n",
    "def AA(l, n):\n",
    "    return 2 * catalan(l - n) / sqrt(2)**(l - n + 1) * (-1)**((l - n + 1 + l%2) // 2)\n",
    "\n",
    "def DD(l, n):\n",
    "    return (- PP(l+1, n) - CC(l+1, n)) / (- PP(l+1, l) - CC(l+1, l))\n",
    "\n",
    "\n",
    "def SS(l, k):\n",
    "    return binomial(2 * l - k, l - k//2) * sqrt(2)**(k//2-l) * (-1)**(l//2 + k//4)\n",
    "\n",
    "def BB(n, s, k):\n",
    "    S = 0\n",
    "    for i in range(0, n-s+1):\n",
    "        S += (n%2 - ((n+1)%2) * (-1)**(i+k)) * PPP(i+k, k) * PPP(n-i-k,s-k)\n",
    "    return S\n",
    "\n",
    "def BBt(n, s, k):\n",
    "    S = 0\n",
    "    for i in range(0, n-s+1):\n",
    "        S += (n%2 + ((n+1)%2) * (-1)**(i+k)) * PPPt(i+k, k) * PPPt(n-i-k,s-k)\n",
    "    return S\n",
    "\n",
    "def BBtt(n, s, k):\n",
    "    S = 0\n",
    "    for i in range(0, n-s+1):\n",
    "        S += ((n+1)%2 + (n%2) * (-1)**(i+k)) * PPPt(i+k, k) * PPP(n-i-k,s-k)\n",
    "    return S\n",
    "\n",
    "def BBttt(n, s, k):\n",
    "    S = 0\n",
    "    for i in range(0, n-s+1):\n",
    "        S += ((n+1)%2 - (n%2) * (-1)**(i+k)) * PPP(i+k, k) * PPPt(n-i-k,s-k)\n",
    "    return S\n",
    "\n",
    "def BB3(n, s, k):\n",
    "    if k % 2 == 0:\n",
    "        return (-1)**(1+s//2+(n+1)//2) * (2 * sqrt(2))**(n-s) * binomial(n - (s+1)//2, s//2)\n",
    "    if k % 2 == 1:\n",
    "        return (-1)**(1+(s-1)//2+(n+1)//2) * (2 * sqrt(2))**(n-s) * binomial(n - s//2 - 1, (s-1)//2)\n",
    "    \n",
    "def BBt3(n, s, k):\n",
    "    if k % 2 == 0:\n",
    "        return (-1)**(1+(s-1)//2+(n+1)//2) * (2 * sqrt(2))**(n-s) * binomial(n - s//2 - 1, (s-1)//2)\n",
    "    if k % 2 == 1:\n",
    "        return (-1)**(1+s//2+(n+1)//2) * (2 * sqrt(2))**(n-s) * binomial(n - (s+1)//2, s//2)\n",
    "\n",
    "def BBtt3(n, s, k):\n",
    "    if k % 2 == 0:\n",
    "        return (-1)**(s//2+n//2) * (2 * sqrt(2))**(n-s) * binomial2(2*(n - (s+1)//2) - 1, 2*(s//2) - 1)\n",
    "    if k % 2 == 1:\n",
    "        return (-1)**((s+1)//2+n//2) * (2 * sqrt(2))**(n-s) * binomial2(2*(n - s//2) - 1, 2*((s+1)//2) - 1)\n",
    "\n",
    "def BBttt3(n, s, k):\n",
    "    if k % 2 == 0:\n",
    "        return (-1)**((s+1)//2+n//2) * (2 * sqrt(2))**(n-s) * binomial2(2*(n - s//2) - 1, 2*((s+1)//2) - 1)\n",
    "    if k % 2 == 1:\n",
    "        return (-1)**(s//2+n//2) * (2 * sqrt(2))**(n-s) * binomial2(2*(n - (s+1)//2) - 1, 2*(s//2) - 1)\n",
    "\n",
    "def CC(n, s):\n",
    "    S = 0\n",
    "    for j in range(1, n+2-s): \n",
    "        S += 2 * catalan(j-1) / sqrt(2)**j * (-1)**((j+n%2)//2) * PPP(n+1-j, s)\n",
    "    return S\n",
    "\n",
    "def CCt(n, s):\n",
    "    S = 0\n",
    "    for j in range(1, n+2-s): \n",
    "        S += 2 * catalan(j-1) / sqrt(2)**j * (-1)**((j+(n+1)%2)//2) * PPPt(n+1-j, s)\n",
    "    return S\n",
    "\n",
    "def expansion(n, k):\n",
    "    return binomial(n+k, k) * binomial(2*(n+k), n+k) / binomial(2*k, k)\n",
    "\n",
    "def EE(n, k):\n",
    "    #Generating function: c(x) / sqrt(1 - 4*x)**(2*k+1)\n",
    "    return round(binomial(n+k+1, k) * (binomial(2*(n+k+1), n+k+1) / binomial(2*k, k) - k * 4**(n+1) / (n+k+1)) / 2)\n",
    "\n",
    "def EEt(n, k):\n",
    "    #Generating function: c(x) / sqrt(1 - 4*x)**(2*k+2)\n",
    "    if k == -1:\n",
    "        return catalan(n)\n",
    "    return round(- binomial(n+k+1, k) * (binomial(2*(n+k+1), n+k+1) / binomial(2*k, k) - 4**(n+1)) / 2)\n",
    "\n",
    "def CC2(n, s):\n",
    "    return (-1)**(1+s//2+(n+1)//2) / sqrt(2)**(n-s-1) * EE(n-s, s // 2)\n",
    "\n",
    "def CCt2(n, s):\n",
    "    return (-1)**((s+1)//2+n//2) / sqrt(2)**(n-s-1) * EEt(n-s, (s-1) // 2)\n",
    "\n",
    "\n",
    "def CC3(n, s):\n",
    "    S = 0\n",
    "    for j in range(0, n-s+1):\n",
    "        S += catalan(j) * (-1)**(1+s//2+(n+1)//2) / sqrt(2)**(n-s-1) * expansion(n-s-j, s//2)\n",
    "    return S\n",
    "\n",
    "def JJ(n, s):\n",
    "    return (-1)**((n-1)//2 + s//2) * (2 * sqrt(2))**(n+1-s) *  binomial(n - (s+1)//2, s//2 - 1)\n",
    "\n",
    "def JJt(n, s):\n",
    "    if s == 0:\n",
    "        return - (-1)**(n//2 + (s+1)//2) / sqrt(2)**(n-1-s) * catalan(n)\n",
    "    return (-1)**(n//2 + (s+1)//2) / sqrt(2)**(n-1-s) * 1 / 2 * binomial(n-s//2, (s-1)//2) * binomial(2*(n-s//2), n-s//2) / binomial(2*((s-1)//2), (s-1)//2)\n",
    "\n",
    "     \n",
    "X = Symbol('X')\n",
    "Y = Symbol('Y')\n",
    "\n",
    "for s in range(0, 16):\n",
    "    print(\"s =\", s)\n",
    "    A = 0\n",
    "    B = 0\n",
    "    for n in range(0, 16):\n",
    "        A += X**n * BBtt3(2*n+2*s+1, 2*s, 0) * (sqrt(2))**(2*n+1) / 2\n",
    "        #B += X**(n) * PPP(n, s-1)\n",
    "\n",
    "    display(Poly(simplify(A), X))\n",
    "    #display(Poly(simplify(B), X))\n",
    "\n",
    "    #A += X**(n-s) * JJt(n, s)\n",
    "    #B += X**(n-s) * PPP(n, s-1)        -----> identical for n >= s >= 0\n",
    "\n",
    "    #A += X**(n-s) * JJ(n, s)\n",
    "    #B += X**(n-s) * PPPt(n, s-1)        -----> identical for n >= s >= 0\n",
    "      "
   ]
  },
  {
   "cell_type": "code",
   "execution_count": null,
   "id": "e76ccf64",
   "metadata": {},
   "outputs": [],
   "source": [
    "\n",
    "def PPP(l, n):\n",
    "    if l - n < 0:\n",
    "        return 0\n",
    "    if l - n == 0:\n",
    "        return -1\n",
    "    else:\n",
    "        return (-1)**((l-1)//2 + (n+1)//2) * (2 * sqrt(2))**(l - n) * binomial(-Rational(1,2) - n//2, l - n)\n",
    "\n",
    "    \n",
    "def custom_display(expr, title):\n",
    "    print(\"--- Real: \", title, \"---\")\n",
    "    display(polynomize(re(expr)))\n",
    "    #display(polynomize(multi_substituter(re(expr), [(u, theta/2 + a), (v, theta/2 - a)])))\n",
    "    print(\"--- Imag: \", title, \"---\")\n",
    "    display(polynomize(im(expr)))\n",
    "    #display(polynomize(multi_substituter(im(expr), [(u, theta/2 + a), (v, theta/2 - a)])))\n",
    "    \n",
    "def p_coeff(n):\n",
    "    if n == -1:\n",
    "        return simplify(epsilon / sqrt(2))\n",
    "    if n >= 0:\n",
    "        return p_factor * simplify(1 / sqrt(2) * epsiloninv**(2*n+1) * Rational((-2)**(-n) * (factorial(2*n) / (factorial(n) * factorial(n+1)))))\n",
    "    return 0\n",
    "\n",
    "def p_coeff_inv(n):\n",
    "    if n == -1:\n",
    "        return simplify(sqrt(2) * epsiloninv)\n",
    "    if n >= 0:\n",
    "        return p_factor * simplify(sqrt(2) * epsilon**(2*n+1) * Rational((-2)**n * (factorial(n) * factorial(n+1)) / (factorial(2*n))))\n",
    "    return 0\n",
    "    \n",
    "r_factor = 1 \n",
    "p_factor = 1\n",
    "\n",
    "\n",
    "r_seq = []\n",
    "\n",
    "sigma_seq = []\n",
    "\n",
    "N = 5\n",
    "\n",
    "F_sym = [Symbol('F_{' + str(n) + '}') for n in range(N+1)]\n",
    "Ft_sym = [Symbol('\\\\tilde{F}_{' + str(n) + '}') for n in range(N+1)]\n",
    "\n",
    "F_eq = [F_sym[n] for n in range(N+1)]\n",
    "Ft_eq = [Ft_sym[n] for n in range(N+1)]\n",
    "\n",
    "E_sym = [Symbol('E_{' + str(n) + '}') for n in range(N+1)]\n",
    "Et_sym = [Symbol('\\\\tilde{E}_{' + str(n) + '}') for n in range(N+1)]\n",
    "\n",
    "E_eq = [E_sym[n] for n in range(N+1)]\n",
    "Et_eq = [Et_sym[n] for n in range(N+1)]\n",
    "\n",
    "r_sym = [Symbol('r_{' + str(n) + '}') for n in range(N+1)]\n",
    "r_eq = [r_sym[n] for n in range(N+1)]\n",
    "\n",
    "sigma_sym = [Symbol('\\sigma_{' + str(n) + '}') for n in range(N+1)]\n",
    "sigma_eq = [sigma_sym[n] for n in range(N+1)] \n",
    "\n",
    "r_eq[0] = - sqrt(2) * I * epsiloninv\n",
    "r_eq[1] = u - v - 2 * epsiloninv**2\n",
    "\n",
    "sigma_eq[0] = - I * epsilon / (2 * sqrt(2)) * (u + v)\n",
    "sigma_eq[1] = (u - v) / 2 - epsilon**2 * (u - v)**2 / 8 - I * epsilon / (2 * sqrt(2)) * deriv(u + v) - I * epsilon / sqrt(2) * deriv(v)\n",
    "\n",
    "for n in range(1, N):\n",
    "    \n",
    "    X = 0\n",
    "    \n",
    "    X -= deriv(r_eq[n])\n",
    "    \n",
    "    for k in range(0, n+1):\n",
    "        X += (1 + epsilon**2 / 2 * v) * r_eq[k] * r_eq[n-k]\n",
    "    \n",
    "    for k in range(1, n+1):\n",
    "        X -= I * epsilon / (2 * sqrt(2)) * r_eq[k] * r_eq[n+1-k]\n",
    "    \n",
    "    r_eq[n+1] = X\n",
    "        \n",
    "    X = 0\n",
    "    \n",
    "    X += deriv(sigma_eq[n])\n",
    "    \n",
    "    X += epsilon**2 / 2 * deriv(v) * r_eq[n]\n",
    "    \n",
    "    for k in range(0, n+1):\n",
    "        X += sigma_eq[k] * sigma_eq[n-k]\n",
    "        \n",
    "    for k in range(0, n+1):\n",
    "        X += sigma_eq[k] * epsiloninv**(n+1-k) * catalan(n-k) * 2 / (sqrt(2) * I)**(n+1-k)\n",
    "\n",
    "    sigma_eq[n+1] = X\n",
    "    \n",
    "\n",
    "        \n",
    "X = 0\n",
    "Y = 0\n",
    "nn_is_even = True\n",
    "\n",
    "for n in range(-1, N):\n",
    "    print(\" --- nn = \", n+1, \" ---\")\n",
    "\n",
    "    if n == -1:\n",
    "        r_seq.append(r_factor * (- sqrt(2) * I * epsiloninv))\n",
    " \n",
    "        sigma_seq.append((u + v) * epsilon**2 * p_coeff_inv(-1) / (4 * I))\n",
    "        #custom_display(sigma_seq[-1], \"sigma_0\")\n",
    "    \n",
    "    elif n == 0:\n",
    "        r_seq.append(r_factor * (u - v - 2 * epsiloninv**2))\n",
    "\n",
    "        sigma_seq.append(simplify(deriv(sigma_seq[0]) + sigma_seq[0]**2 - 2 * I * p_coeff(0) * sigma_seq[0] + epsilon**2 / 2 * deriv(v) * r_seq[0] \n",
    "                                   + u * (1 + epsilon**2 / 2 * v)))\n",
    "        #custom_display(sigma_seq[-1], \"sigma_1\")\n",
    "    else:\n",
    "        r_square_term_1 = 0\n",
    "        for k in range(0, n+1):\n",
    "            r_square_term_1 += r_seq[k] * r_seq[n - k]\n",
    "\n",
    "        r_square_term_2 = 0\n",
    "        for k in range(1, n+1):\n",
    "            r_square_term_2 += r_seq[k] * r_seq[n + 1 - k]\n",
    "\n",
    "        sigma_square_term = 0\n",
    "        for k in range(0, n+1):\n",
    "            sigma_square_term += (sigma_seq[k] + epsiloninv**(k+1) * catalan(k) / (I**(k+1) * sqrt(2)**(k-1))) * sigma_seq[n - k]\n",
    "        \n",
    "        r_seq.append(r_factor * (- deriv(r_seq[n]) + (1 + epsilon**2 / 2 * v) * r_square_term_1 + epsiloninv / (sqrt(2) * I) * epsilon**2 / 2 * r_square_term_2))\n",
    "        sigma_seq.append(simplify(deriv(sigma_seq[n]) + sigma_square_term \n",
    "                                  + epsilon**2 / 2 * deriv(v) * r_seq[n]))\n",
    "        #custom_display(sigma_seq[-1], \"sigma_\" + str(n+1))\n",
    "\n",
    "\n",
    "for n in range(N + 1):\n",
    "    if n % 2 == 0:\n",
    "        F_eq[n] = im(sigma_eq[n])\n",
    "    if n % 2 == 1:\n",
    "        F_eq[n] = re(sigma_eq[n])\n",
    "\n",
    "    E_eq[n] = F_eq[n]\n",
    "    for j in range(n):\n",
    "        E_eq[n] += epsiloninv**(n - j) * PPP(n, j) * E_eq[j]\n",
    "    \n",
    "    display(Eq(sigma_sym[n], polynomize(sigma_eq[n])))\n",
    "    display(Eq(sigma_sym[n], polynomize(sigma_eq[n] - sigma_seq[n])))\n",
    "\n",
    "    display(Eq(r_sym[n], polynomize(r_eq[n])))\n",
    "    display(Eq(r_sym[n], polynomize(r_eq[n] - r_seq[n])))\n",
    "\n",
    "    display(Eq(E_sym[n], polynomize(E_eq[n])))\n",
    "    "
   ]
  },
  {
   "cell_type": "code",
   "execution_count": null,
   "id": "8b09f9ed",
   "metadata": {},
   "outputs": [],
   "source": []
  }
 ],
 "metadata": {
  "kernelspec": {
   "display_name": "Python 3 (ipykernel)",
   "language": "python",
   "name": "python3"
  },
  "language_info": {
   "codemirror_mode": {
    "name": "ipython",
    "version": 3
   },
   "file_extension": ".py",
   "mimetype": "text/x-python",
   "name": "python",
   "nbconvert_exporter": "python",
   "pygments_lexer": "ipython3",
   "version": "3.10.9"
  }
 },
 "nbformat": 4,
 "nbformat_minor": 5
}
