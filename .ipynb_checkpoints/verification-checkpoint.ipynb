{
 "cells": [
  {
   "cell_type": "markdown",
   "id": "e0569c93",
   "metadata": {},
   "source": [
    "### Verification notebook"
   ]
  },
  {
   "cell_type": "code",
   "execution_count": 1,
   "id": "18d83e48",
   "metadata": {},
   "outputs": [
    {
     "data": {
      "application/javascript": [
       "IPython.OutputArea.auto_scroll_threshold = 9999;\n"
      ],
      "text/plain": [
       "<IPython.core.display.Javascript object>"
      ]
     },
     "metadata": {},
     "output_type": "display_data"
    }
   ],
   "source": [
    "%%javascript\n",
    "IPython.OutputArea.auto_scroll_threshold = 9999;"
   ]
  },
  {
   "cell_type": "code",
   "execution_count": 2,
   "id": "7b22986f",
   "metadata": {},
   "outputs": [
    {
     "name": "stdout",
     "output_type": "stream",
     "text": [
      "env: USE_SYMENGINE=1\n"
     ]
    }
   ],
   "source": [
    "from sympy import *\n",
    "from IPython.display import display\n",
    "import time\n",
    "import pickle\n",
    "import datetime\n",
    "from collections import defaultdict\n",
    "\n",
    "%env USE_SYMENGINE 1\n",
    "\n",
    "def Equ(*args, **kwargs):\n",
    "    kwargs['evaluate'] = False\n",
    "    return Eq(*args, **kwargs)"
   ]
  },
  {
   "cell_type": "code",
   "execution_count": 20,
   "id": "a584fa23",
   "metadata": {},
   "outputs": [
    {
     "name": "stdout",
     "output_type": "stream",
     "text": [
      "env: USE_SYMENGINE=1\n"
     ]
    },
    {
     "data": {
      "text/latex": [
       "$\\displaystyle \\left[\\begin{matrix}\\frac{f \\left(- (\\phi)_{x} + 2 A\\right)}{2} & i (g)_{x}\\\\i (f)_{x} & \\frac{g \\left(- (\\phi)_{x} - 2 A\\right)}{2}\\end{matrix}\\right]$"
      ],
      "text/plain": [
       "Matrix([\n",
       "[f*(-(\\phi)_{x} + 2*A)/2,               I*(g)_{x}],\n",
       "[              I*(f)_{x}, g*(-(\\phi)_{x} - 2*A)/2]])"
      ]
     },
     "metadata": {},
     "output_type": "display_data"
    },
    {
     "name": "stdout",
     "output_type": "stream",
     "text": [
      "Test 1: success\n"
     ]
    },
    {
     "data": {
      "text/latex": [
       "$\\displaystyle \\left[\\begin{matrix}0 & g \\left((A)_{xx} + 2 i (A)_{x} (\\phi)_{x} + i (\\phi)_{xx} A - (\\phi)_{x}^{2} A - 2 A^{3} + 2 A\\right) e^{i \\phi}\\\\f \\left((A)_{xx} - 2 i (A)_{x} (\\phi)_{x} - i (\\phi)_{xx} A - (\\phi)_{x}^{2} A - 2 A^{3} + 2 A\\right) e^{- i \\phi} & 0\\end{matrix}\\right]$"
      ],
      "text/plain": [
       "Matrix([\n",
       "[                                                                                                    0, g*((A)_{xx} + 2*I*(A)_{x}*(\\phi)_{x} + I*(\\phi)_{xx}*A - (\\phi)_{x}**2*A - 2*A**3 + 2*A)*exp(I*\\phi)],\n",
       "[f*((A)_{xx} - 2*I*(A)_{x}*(\\phi)_{x} - I*(\\phi)_{xx}*A - (\\phi)_{x}**2*A - 2*A**3 + 2*A)*exp(-I*\\phi),                                                                                                    0]])"
      ]
     },
     "metadata": {},
     "output_type": "display_data"
    },
    {
     "name": "stdout",
     "output_type": "stream",
     "text": [
      "Test 2: success\n"
     ]
    }
   ],
   "source": [
    "#courtesy: https://stackoverflow.com/questions/15463412/differential-operator-usable-in-matrix-form-in-python-module-sympy\n",
    "\n",
    "from IPython.display import display\n",
    "from sympy.core.decorators import call_highest_priority\n",
    "from sympy import Expr, Matrix, Mul, Add, diff, Function\n",
    "from sympy.core.numbers import Zero\n",
    "%env USE_SYMENGINE 1\n",
    "\n",
    "class D(Expr):\n",
    "    _op_priority = 11.\n",
    "    is_commutative = False\n",
    "    diff_symbols = []\n",
    "    diff_symbols_nc = []\n",
    "    non_diff_symbols = []\n",
    "    non_diff_symbols_nc = []\n",
    "\n",
    "    def __init__(self, *variables, **assumptions):\n",
    "        super(D, self).__init__()\n",
    "        self.evaluate = False\n",
    "        self.variables = variables\n",
    "\n",
    "    def __repr__(self):\n",
    "        return 'D%s' % str(self.variables)\n",
    "\n",
    "    def __str__(self):\n",
    "        return self.__repr__()\n",
    "\n",
    "    @call_highest_priority('__mul__')\n",
    "    def __rmul__(self, other):\n",
    "        return Mul(other, self)\n",
    "\n",
    "    @call_highest_priority('__rmul__')\n",
    "    def __mul__(self, other):\n",
    "        if isinstance(other, D):\n",
    "            variables = self.variables + other.variables\n",
    "            return D(*variables)\n",
    "        \n",
    "        if isinstance(other, Matrix):\n",
    "            other_copy = other.copy()\n",
    "            for i, elem in enumerate(other):\n",
    "                other_copy[i] = self * elem\n",
    "            return other_copy\n",
    "\n",
    "        if self.evaluate:\n",
    "            return D.multi_deriv(other, *self.variables)\n",
    "        else:\n",
    "            return Mul(self, other)\n",
    "\n",
    "    def __pow__(self, other):\n",
    "        variables = self.variables\n",
    "        for i in range(other-1):\n",
    "            variables += self.variables\n",
    "        return D(*variables)\n",
    "\n",
    "    @staticmethod\n",
    "    def deriv(expr, xyz):\n",
    "        if not hasattr(expr, 'free_symbols'):\n",
    "            return 0\n",
    "        \n",
    "        def custom_replace(expr):\n",
    "            X = Wild('X')\n",
    "            F = WildFunction('F')\n",
    "            def replace_helper(F, X):\n",
    "                if F.args == (X,):\n",
    "                    return F.func(deriv(X)) / deriv(X)\n",
    "                else: return Derivative(F, X)        \n",
    "            return expr.replace(Derivative(F, X), replace_helper)\n",
    "        # custom_replace makes functions that can not be differentiated commute with differentiaition.\n",
    "                \n",
    "        res = 0\n",
    "\n",
    "        res += custom_replace(Derivative(expr, xyz).doit())\n",
    "\n",
    "        original = [(sym, sym.is_real) for sym in D.diff_symbols if sym in expr.free_symbols]\n",
    "        original_nc = [(sym_nc, sym_c.is_real) for sym_c, sym_nc in zip(D.diff_symbols, D.diff_symbols_nc) if sym_nc in expr.free_symbols]\n",
    "\n",
    "        for sym, is_real in original:\n",
    "            deriv_term = custom_replace(Derivative(expr, sym).doit())\n",
    "            if deriv_term != 0:\n",
    "                newName = multi_var_deriv_name(sym, xyz)\n",
    "\n",
    "                #dsym = Symbol(newName, commutative=True, real=True)\n",
    "                dsym = Symbol(newName, commutative=True, real=is_real)\n",
    "                \n",
    "                if dsym not in D.diff_symbols:\n",
    "                    D.create_diff_symbol(newName, real=is_real)\n",
    "                    \n",
    "                res += deriv_term * dsym\n",
    "                \n",
    "        for sym, is_real in set(original_nc):\n",
    "            deriv_term = custom_replace(Derivative(expr, sym).doit())\n",
    "            if deriv_term != 0:\n",
    "                newName = multi_var_deriv_name(sym, xyz)\n",
    "\n",
    "                dsym = Symbol(newName, commutative=False)\n",
    "                \n",
    "                if dsym not in D.diff_symbols_nc:\n",
    "                    D.create_diff_symbol(newName, real=is_real)\n",
    "                    \n",
    "                res += deriv_term * dsym\n",
    "                \n",
    "        return res\n",
    "    \n",
    "    @staticmethod\n",
    "    def multi_deriv(expr, *variables):\n",
    "        result = expr\n",
    "        for xyz in variables:\n",
    "            result = D.deriv(result, xyz)\n",
    "        return result\n",
    "    \n",
    "    @staticmethod\n",
    "    def create_diff_symbol(name, real=None):\n",
    "        #new_symbol = Symbol(name, commutative=True, real=True)\n",
    "        new_symbol = Symbol(name, commutative=True, real=real)\n",
    "        if new_symbol not in D.diff_symbols:\n",
    "            D.diff_symbols.append(new_symbol)\n",
    "        new_symbol_nc = Symbol(name, commutative=False)\n",
    "        if new_symbol_nc not in D.diff_symbols_nc:\n",
    "            D.diff_symbols_nc.append(new_symbol_nc)\n",
    "        return new_symbol, new_symbol_nc\n",
    "\n",
    "    @staticmethod\n",
    "    def create_non_diff_symbol(name, real=None):\n",
    "        # new_symbol = Symbol(name, commutative=True, real=True)\n",
    "        new_symbol = Symbol(name, commutative=True, real=real)\n",
    "        if new_symbol not in D.non_diff_symbols:\n",
    "            D.non_diff_symbols.append(new_symbol)\n",
    "        new_symbol_nc = Symbol(name, commutative=False)\n",
    "        if new_symbol_nc not in D.diff_symbols_nc:\n",
    "            D.non_diff_symbols_nc.append(new_symbol_nc)\n",
    "        return new_symbol, new_symbol_nc\n",
    "    \n",
    "    @staticmethod\n",
    "    def create_diff_symbols(*names, real=None):\n",
    "        new_symbols = []\n",
    "        for name in names:\n",
    "            new_symbol, new_symbol_nc = D.create_diff_symbol(name, real)\n",
    "            new_symbols.append(new_symbol_nc)\n",
    "            new_symbols.append(new_symbol)\n",
    "\n",
    "        return new_symbols\n",
    "    \n",
    "    @staticmethod\n",
    "    def create_non_diff_symbols(*names, real=None):\n",
    "        new_symbols = []\n",
    "        for name in names:\n",
    "            new_symbol, new_symbol_nc = D.create_non_diff_symbol(name, real)\n",
    "            new_symbols.append(new_symbol_nc)\n",
    "            new_symbols.append(new_symbol)\n",
    "            \n",
    "        return new_symbols\n",
    "    \n",
    "    @staticmethod\n",
    "    def comm_to_non_comm(expr):\n",
    "        for (sym, sym_nc) in zip(D.diff_symbols, D.diff_symbols_nc):\n",
    "            expr = expr.subs(sym, sym_nc)\n",
    "        for (sym, sym_nc) in zip(D.non_diff_symbols, D.non_diff_symbols_nc):\n",
    "            expr = expr.subs(sym, sym_nc)\n",
    "        return expr\n",
    "    \n",
    "    @staticmethod\n",
    "    def non_comm_to_comm(expr):\n",
    "        for (sym, sym_nc) in zip(D.diff_symbols, D.diff_symbols_nc):\n",
    "            expr = expr.subs(sym_nc, sym)\n",
    "        for (sym, sym_nc) in zip(D.non_diff_symbols, D.non_diff_symbols_nc):\n",
    "            expr = expr.subs(sym_nc, sym)\n",
    "        return expr\n",
    "        \n",
    "    @staticmethod\n",
    "    def reset_symbols():\n",
    "        D.diff_symbols = []\n",
    "        D.diff_symbols_nc = []\n",
    "        D.non_diff_symbols = []\n",
    "        D.non_diff_symbols_nc = []\n",
    "        \n",
    "\n",
    "def var_deriv_name(var):\n",
    "    if ')_{x' in var.name:\n",
    "        return var.name[:-1] + 'x}'\n",
    "    else:\n",
    "        return '(' + var.name + ')_{x}'\n",
    "        #return var.name + '_x'\n",
    "\n",
    "def multi_var_deriv_name(var, xyz):\n",
    "    if ')_{' in var.name:\n",
    "        i = var.name.rindex(')_{') + 3\n",
    "        derivs = var.name[i:-1]\n",
    "\n",
    "        return var.name[:i] + ''.join(sorted(derivs + xyz.name)) + '}'\n",
    "    else:\n",
    "        return '(' + var.name + ')_{' + xyz.name + '}'\n",
    "    \n",
    "def mydiff(expr, *variables):\n",
    "    if isinstance(expr, D):\n",
    "        expr.variables += variables\n",
    "        return D(*expr.variables)\n",
    "    if isinstance(expr, Matrix):\n",
    "        expr_copy = expr.copy()\n",
    "        for i, elem in enumerate(expr):\n",
    "            expr_copy[i] = D.multi_deriv(expr, *variables)\n",
    "        return expr_copy\n",
    "    if isinstance(expr, conjugate):\n",
    "        return conjugate(D.multi_deriv(expr.args[0], *variables))\n",
    "    if isinstance(expr, im):\n",
    "        return im(D.multi_deriv(expr.args[0], *variables))\n",
    "    if isinstance(expr, re):\n",
    "        return re(D.multi_deriv(expr.args[0], *variables))\n",
    "    \n",
    "    return D.multi_deriv(expr, *variables)\n",
    "\n",
    "\n",
    "def isFunction(expr):\n",
    "    return hasattr(expr, 'args') and len(expr.args) > 0 and hasattr(expr, 'func')\n",
    "\n",
    "spacing = '|   '\n",
    "def evaluateMul(expr, printing=False, space=spacing, postFunc=None):\n",
    "    if printing:\n",
    "        print(space, 'evaluateMul', expr, expr.args)\n",
    "    if hasattr(expr, 'expand'):\n",
    "        expr = expr.expand()\n",
    "    if expr.args:\n",
    "        if printing:\n",
    "            print(space, 'hasArgs')\n",
    "        if isinstance(expr.args[-1], D):\n",
    "            if printing:\n",
    "                print(space, 'finalD: zero')\n",
    "            return Zero()\n",
    "    initial_args = expr.args\n",
    "    for i in range(len(expr.args)-1, -1, -1):\n",
    "        arg = initial_args[i]\n",
    "        if hasattr(arg, 'expand'):\n",
    "            arg = arg.expand()\n",
    "        if printing:\n",
    "            print(space, 'arg', i, 'is', arg)\n",
    "        if isinstance(arg, D):\n",
    "            if printing:\n",
    "                print(space, 'arg is D')\n",
    "            left = Mul(*initial_args[:i])\n",
    "            if printing:\n",
    "                print(space, 'left', left)\n",
    "            right = Mul(*expr.args[i+1:])\n",
    "            if printing:\n",
    "                print(space, 'right', right)\n",
    "            right = mydiff(right, *arg.variables)\n",
    "            if printing:\n",
    "                print(space, 'new right', right)\n",
    "            if printing:\n",
    "                print(space, 'restart')\n",
    "            return processExpr(left * right, printing=printing, space=space+spacing, postFunc=postFunc)\n",
    "        else:\n",
    "            if printing:\n",
    "                print(space, 'arg is processed further')\n",
    "            arg = processExpr(arg, printing=printing, space=space+spacing, postFunc=postFunc)\n",
    "            left = Mul(*initial_args[:i])\n",
    "            if printing:\n",
    "                print(space, 'left', left)\n",
    "            right = Mul(*expr.args[i+1:])\n",
    "            if printing:\n",
    "                print(space, 'right', right)\n",
    "            expr = left * arg * right\n",
    "            if len(expr.args) < len(initial_args):\n",
    "                return processExpr(expr, printing=printing, space=space+spacing, postFunc=postFunc)\n",
    "\n",
    "    if printing:\n",
    "        print(space, '--Mul-->', expr)\n",
    "    return postFunc(expr) if postFunc else expr\n",
    "\n",
    "def processExpr(expr, printing=False, space=spacing, postFunc=None):\n",
    "    if printing:\n",
    "        print(space, 'processExpr: ', expr)\n",
    "    if hasattr(expr, 'expand'):\n",
    "        expr = expr.expand()\n",
    "    if isinstance(expr, Matrix):\n",
    "        if printing:\n",
    "            print(space, 'Matrix')\n",
    "        for i, elem in enumerate(expr):\n",
    "            expr[i] = processExpr(elem, printing=printing, space=space+spacing, postFunc=postFunc)\n",
    "        if printing:\n",
    "            print(space, 'newExpr', expr)\n",
    "    elif isinstance(expr, Mul):\n",
    "        if printing:\n",
    "            print(space, 'Mul')\n",
    "        expr = evaluateMul(expr, printing=printing, space=space+spacing, postFunc=postFunc)\n",
    "    elif isinstance(expr, D):\n",
    "        if printing:\n",
    "            print(space, 'D')\n",
    "        expr = Zero()\n",
    "    elif isFunction(expr):\n",
    "        if printing:\n",
    "            print(space, 'Function', expr.args)\n",
    "        new_args = [processExpr(a, printing=printing, space=space+spacing, postFunc=postFunc) for a in expr.args]\n",
    "        expr = expr.func(*new_args)     \n",
    "    if printing:\n",
    "        print(space, '------->', expr)\n",
    "    return postFunc(expr) if postFunc else expr\n",
    "\n",
    "def evaluateExpr(expr, printing=False, space=spacing):\n",
    "    expr = D.comm_to_non_comm(expr)\n",
    "    expr = processExpr(expr, printing=printing, space=space)\n",
    "    expr = D.non_comm_to_comm(expr)\n",
    "    return(expr)\n",
    "\n",
    "def test_suite():\n",
    "    D.reset_symbols()\n",
    "    x, x_c, y, y_c, z, z_c = D.create_non_diff_symbols('x', 'y', 'z')\n",
    "    qq, qq_c, qq_conj, qq_conj_c, = D.create_diff_symbols('q', '\\overline{q}')\n",
    "    uu, uu_c, ff, ff_c, gg, gg_c, vv, vv_c = D.create_diff_symbols('u', 'f', 'g', 'v')\n",
    "    AA, AA_c, pphi, pphi_c = D.create_diff_symbols('A', '\\phi')\n",
    "\n",
    "    theta = I / 2 * (pphi - pi / 2)\n",
    "\n",
    "    M = 1 / sqrt(2) * Matrix([[exp(- theta), exp(theta)], [exp(- theta), - exp(theta)]])\n",
    "    M_conj = 1 / sqrt(2) * Matrix([[exp(theta), exp(- theta)], [exp(theta), - exp(- theta)]])\n",
    "    \n",
    "    Lax = I * Matrix([[D(x), - qq], [qq_conj, - D(x)]]).subs(qq, AA * exp(I * pphi)).subs(qq_conj, AA * exp(- I * pphi))\n",
    "    \n",
    "    Pax = I * Matrix([[2 * D(x, x) - (AA**2 - 1), - AA * exp(I * pphi) * D(x) - D(x) * AA * exp(I * pphi)],\n",
    "                    [AA * exp(- I * pphi) * D(x) + D(x) * AA * exp(- I * pphi), - 2 * D(x, x) + (AA**2 - 1)]])\n",
    "    \n",
    "    F = Matrix([[ff, 0], [0, gg]])\n",
    "    \n",
    "    res1 = evaluateExpr(Matrix([[AA - (D(x) * pphi - pphi * D(x)) / 2, I * D(x)], \n",
    "                   [I * D(x), - AA - (D(x) * pphi - pphi * D(x)) / 2]]) * F)\n",
    "    \n",
    "    res2 = evaluateExpr(evaluateExpr(Matrix([[0, (D(x, x) - 2 * (AA**2 - 1)) * AA * exp(I * pphi)],\n",
    "                [(D(x, x) - 2 * (AA**2 - 1)) * AA * exp(- I * pphi), 0]])) * F)\n",
    "\n",
    "    \n",
    "    old_expr = M * Lax * Transpose(M_conj) * F\n",
    "    expr = old_expr.copy()\n",
    "    new_expr = evaluateExpr(expr)\n",
    "    display(simplify(new_expr))\n",
    "    if simplify(new_expr - res1) == Matrix([[0, 0], [0, 0]]):\n",
    "        print('Test 1: success')\n",
    "    else:\n",
    "        print('Test 2: failed')\n",
    "    old_expr = (Pax * Lax - Lax * Pax) * F\n",
    "    expr = old_expr.copy()\n",
    "    new_expr = evaluateExpr(expr)\n",
    "    display(simplify(new_expr))\n",
    "    if simplify(new_expr - res2) == Matrix([[0, 0], [0, 0]]):\n",
    "        print('Test 2: success')\n",
    "    else:\n",
    "        print('Test 2: failed')\n",
    "    D.reset_symbols()\n",
    "    \n",
    "test_suite()"
   ]
  },
  {
   "cell_type": "code",
   "execution_count": 21,
   "id": "e07da8b5",
   "metadata": {},
   "outputs": [],
   "source": [
    "from collections import deque\n",
    "from multiset import Multiset\n",
    "\n",
    "def get_var_name_from_deriv(sym):\n",
    "    start = sym.name.find('(')\n",
    "    end = sym.name.find(')')\n",
    "    if start != -1 and end != -1:\n",
    "        sym_name = sym.name[start+1:end]\n",
    "        return sym_name\n",
    "    else:\n",
    "        sym_name = sym.name\n",
    "        return sym_name\n",
    "        \n",
    "def get_multiindex_from_deriv(sym):\n",
    "    start = sym.name.find('(')\n",
    "    end = sym.name.find(')')\n",
    "    if start != -1 and end != -1:\n",
    "        return sym.name[end+3:-1]\n",
    "    else:\n",
    "        return ''\n",
    "    \n",
    "def get_order_from_deriv(sym):\n",
    "    start = sym.name.find('(')\n",
    "    end = sym.name.find(')')\n",
    "    if start != -1 and end != -1:\n",
    "        sym_name = sym.name[start+1:end]\n",
    "        return len(sym.name) - 4 - sym.name.find(')_{')\n",
    "    else:\n",
    "        return 0\n",
    "\n",
    "def deriv(poly):\n",
    "    return multi_deriv(poly, [x])\n",
    "\n",
    "def higher_deriv(poly, n):\n",
    "    return multi_deriv(poly, [x] * n)\n",
    "   \n",
    "def multi_deriv(expr, xyz):\n",
    "    if isinstance(xyz, (list, tuple)):\n",
    "        result = expr\n",
    "        for elem in xyz:\n",
    "            result = multi_deriv(result, elem)\n",
    "        return result\n",
    "    \n",
    "    if isinstance(expr, Matrix):\n",
    "        expr_copy = expr.copy()\n",
    "        for i, elem in enumerate(expr):\n",
    "            expr_copy[i] = multi_deriv(elem, xyz)\n",
    "        return expr_copy\n",
    "    \n",
    "    if not hasattr(expr, 'free_symbols'):\n",
    "        return 0\n",
    "    \n",
    "    res = 0\n",
    "    res += Derivative(expr, xyz).doit()\n",
    "\n",
    "    fixed_symbols = (set(D.diff_symbols) | set(D.diff_symbols_nc)) & set(expr.free_symbols)\n",
    "    symbols_to_iterate = list(fixed_symbols)  # Creates a separate list copy\n",
    "\n",
    "    for sym in symbols_to_iterate:\n",
    "        \n",
    "        def custom_replace(expr):\n",
    "            X = Wild('X')\n",
    "            F = WildFunction('F')\n",
    "            def replace_helper(F, X):\n",
    "                if F.args == (X,):\n",
    "                    return F.func(deriv(X)) / deriv(X)\n",
    "                else: return Derivative(F, X)        \n",
    "            return expr.replace(Derivative(F, X), replace_helper)\n",
    "        # custom_replace makes functions that can not be differentiated commute with differentiaition.\n",
    "        deriv_term = custom_replace(Derivative(expr, sym).doit())\n",
    "        if deriv_term != 0:\n",
    "            newName = multi_var_deriv_name(sym, xyz)\n",
    "            if sym.is_commutative:\n",
    "                dsym = next((s for s in D.diff_symbols if s.name == newName), D.create_diff_symbols(newName, real=sym.is_real)[1])\n",
    "            else:\n",
    "                dsym = next((s for s in D.diff_symbols_nc if s.name == newName), D.create_diff_symbols(newName, real=sym.is_real)[0])\n",
    "            res += deriv_term * dsym\n",
    "    \n",
    "    return res\n",
    "\n",
    "def single_subs(expr, var, sub, scale=1):\n",
    "    if not hasattr(expr, 'subs'):\n",
    "        return expr\n",
    "        \n",
    "    if isinstance(scale, dict):\n",
    "        for xyz, scaling in scale.items():\n",
    "            expr = expr.subs(xyz, scaling * xyz)\n",
    "            \n",
    "    if var not in set(D.diff_symbols) | set(D.diff_symbols_nc):\n",
    "        return expr.subs(var, sub)\n",
    "    \n",
    "    var_name = get_var_name_from_deriv(var)\n",
    "    var_multiindex = Multiset(get_multiindex_from_deriv(var))\n",
    "    \n",
    "    fixed_symbols = (set(D.diff_symbols) | set(D.diff_symbols_nc)) & set(expr.free_symbols)\n",
    "    symbols_to_iterate = list(fixed_symbols)  # Creates a separate list copy\n",
    "\n",
    "    for sym in symbols_to_iterate:\n",
    "        if get_var_name_from_deriv(sym) == var_name:\n",
    "            sym_multiindex = Multiset(get_multiindex_from_deriv(sym))\n",
    "            if var_multiindex.issubset(sym_multiindex):\n",
    "                target_multiindex = sym_multiindex.difference(var_multiindex)\n",
    "                target_operator = [Symbol(char, real=True) for char in target_multiindex]\n",
    "                #target_operator = [Symbol(char) for char in target_multiindex]\n",
    "                if isinstance(scale, dict):\n",
    "                    factor = 1\n",
    "                    for direction in target_operator:\n",
    "                        factor *= scale.get(direction, 1)\n",
    "                else:\n",
    "                    factor = scale**len(target_operator)\n",
    "                expr = expr.subs(sym, factor * multi_deriv(sub, target_operator))\n",
    "\n",
    "    return expr\n",
    "\n",
    "def subs(expr, data, scale=1):\n",
    "    for (var, sub) in data:\n",
    "        expr = single_subs(expr, var, sub, scale=scale)\n",
    "    return expr\n",
    "\n",
    "def variation(expr, sym):\n",
    "    if not hasattr(expr, 'free_symbols'):\n",
    "        return 0\n",
    "    \n",
    "    res = 0\n",
    "    order = 0\n",
    "\n",
    "    syms = []\n",
    "    orders = []\n",
    "\n",
    "    start = sym.name.find('(')\n",
    "    end = sym.name.find(')')\n",
    "    if start != -1 and end != -1:\n",
    "        sym_name = sym.name[start+1:end]\n",
    "        syms.append(sym)\n",
    "        orders.append(len(sym.name) - 4 - sym.name.find(')_{'))\n",
    "    else:\n",
    "        sym_name = sym.name\n",
    "        syms.append(sym)\n",
    "        orders.append(0)\n",
    "\n",
    "    for s in expr.free_symbols:\n",
    "        start = s.name.find('(')\n",
    "        end = s.name.find(')')\n",
    "        if start != -1 and end != -1 and sym_name == s.name[start+1:end]:\n",
    "            if s.name not in [sym.name for sym in syms]:\n",
    "                syms.append(s)\n",
    "                orders.append(len(s.name) - 4 - s.name.find(')_{'))    \n",
    "    \n",
    "    for (sym, order) in zip(syms, orders):\n",
    "        res += (-1)**order * higher_deriv(Derivative(expr, sym).doit(), order)\n",
    "\n",
    "    return simplify(res)\n",
    "\n",
    "epsilon, epsiloninv = symbols('\\epsilon, \\eta', positive=True)\n",
    "\n",
    "def polynomize(expr):\n",
    "    return simplify(Poly(expr, epsilon, epsiloninv).subs(epsiloninv, 1/epsilon))\n",
    "\n",
    "def depolynomize(poly):\n",
    "    monoms = poly.monoms()\n",
    "    coeffs = poly.coeffs()\n",
    "    \n",
    "    X = 0\n",
    "    for (k, m) in enumerate(monoms):\n",
    "        X += epsilon**m[0] * epsiloninv**m[1] * coeffs[k]\n",
    "            \n",
    "    return X\n",
    "\n",
    "def poly_simplify(expr):\n",
    "    return depolynomize(polynomize(expr))\n",
    "\n",
    "\n",
    "def traverse(expr):\n",
    "    if any(a.is_Number and abs(a) != 1 for a in expr.args):\n",
    "        print(expr,'->',expr.func(*[(a if not a.is_Number else 1) for a in expr.args]))\n",
    "    if expr.is_Number and abs(expr) != 1:\n",
    "        return 1, True\n",
    "    oldexpr = expr\n",
    "    args = expr.args\n",
    "    sargs = []\n",
    "    hit = False\n",
    "    for arg in args:\n",
    "        arg,arghit = traverse(arg)\n",
    "        hit |= arghit\n",
    "        sargs.append(arg)\n",
    "\n",
    "    if(hit):\n",
    "        expr = expr.func(*sargs)\n",
    "        return expr, True\n",
    "    else:\n",
    "        return oldexpr, False\n",
    "\n",
    "def extract_deriv(expr, k): \n",
    "    expr = simplify(expr).expand()\n",
    "    #print(\"expr =\", expr) \n",
    "    res = 0\n",
    "    if isinstance(expr, Add):\n",
    "        for mon in expr.args:\n",
    "            #print(\"mon =\", mon)\n",
    "            count = 0\n",
    "            if hasattr(mon, \"name\"):\n",
    "                #print(mon.name)\n",
    "                if \"_{x\" in mon.name:\n",
    "                    count += 1\n",
    "                    #print(\"count =\", count)\n",
    "            else:\n",
    "                for fac in mon.args:\n",
    "                    #print(\"fac =\", fac)\n",
    "                    if hasattr(fac, \"name\"):\n",
    "                        #print(fac.name)\n",
    "                        if \"_{x\" in fac.name:\n",
    "                            count += 1\n",
    "                            #print(\"count =\", count)\n",
    "                    elif isinstance(fac, Pow):\n",
    "                        #print(fac.base.name, fac.exp)\n",
    "                        if \"_{x\" in fac.base.name and fac.exp > 0:\n",
    "                            count += fac.exp     \n",
    "                            #print(\"count =\", count)\n",
    "            #print(\"final count =\", count)\n",
    "            if count == k:\n",
    "                res += mon\n",
    "\n",
    "    else:\n",
    "        mon = expr\n",
    "        #print(\"mon =\", mon)\n",
    "        count = 0\n",
    "        if hasattr(mon, \"name\"):\n",
    "            #print(mon.name)\n",
    "            if \"_{x\" in mon.name:\n",
    "                count += 1\n",
    "                #print(\"count =\", count)\n",
    "        elif hasattr(mon, \"args\"):\n",
    "            for fac in mon.args:\n",
    "                #print(\"fac =\", fac)\n",
    "                if hasattr(fac, \"name\"):\n",
    "                    #print(fac.name)\n",
    "                    if \"_{x\" in fac.name:\n",
    "                        count += 1\n",
    "                        #print(\"count =\", count)\n",
    "                elif isinstance(fac, Pow):\n",
    "                    #print(fac.base.name, fac.exp)\n",
    "                    if \"_{x\" in fac.base.name and fac.exp > 0:\n",
    "                        count += fac.exp     \n",
    "                        #print(\"count =\", count)\n",
    "        #print(\"final count =\", count)\n",
    "        if count == k:\n",
    "            res += mon\n",
    "\n",
    "    #print(\"res =\", res)\n",
    "    return res\n",
    "        \n",
    "def extract_deriv_alt(expr, k):\n",
    "    expr = simplify(expr).expand()\n",
    "    #print(\"expr =\", expr) \n",
    "    res = 0\n",
    "    if isinstance(expr, Add):\n",
    "        for mon in expr.args:\n",
    "            presence_deriv_q_conj = False\n",
    "            #print(\"mon =\", mon)\n",
    "            count = 0\n",
    "            if hasattr(mon, \"name\"):\n",
    "                #print(mon.name)\n",
    "                if \"_{x\" in mon.name:\n",
    "                    count += 1\n",
    "                    if get_var_name_from_deriv(mon) == q_conj.name:\n",
    "                        presence_deriv_q_conj = True\n",
    "            else:\n",
    "                for fac in mon.args:\n",
    "                    #print(\"fac =\", fac)\n",
    "                    if hasattr(fac, \"name\"):\n",
    "                        #print(fac.name)\n",
    "                        if \"_{x\" in fac.name:\n",
    "                            count += 1\n",
    "                            if get_var_name_from_deriv(fac) == q_conj.name:\n",
    "                                presence_deriv_q_conj = True\n",
    "                            #print(\"count =\", count)\n",
    "                    elif isinstance(fac, Pow):\n",
    "                        #print(fac.base.name, fac.exp)\n",
    "                        if \"_{x\" in fac.base.name and fac.exp > 0:\n",
    "                            count += fac.exp     \n",
    "                            if get_var_name_from_deriv(fac.base) == q_conj.name:\n",
    "                                presence_deriv_q_conj = True\n",
    "                            #print(\"count =\", count)\n",
    "            #print(\"final count =\", count)\n",
    "            if count == k and presence_deriv_q_conj:\n",
    "                res += mon\n",
    "\n",
    "    else:\n",
    "        presence_deriv_q_conj = False\n",
    "        mon = expr\n",
    "        #print(\"mon =\", mon)\n",
    "        count = 0\n",
    "        if hasattr(mon, \"name\"):\n",
    "            #print(mon.name)\n",
    "            if \"_{x\" in mon.name:\n",
    "                count += 1\n",
    "                if get_var_name_from_deriv(mon) == q_conj.name:\n",
    "                    presence_deriv_q_conj = True\n",
    "                #print(\"count =\", count)\n",
    "        elif hasattr(mon, \"args\"):\n",
    "            for fac in mon.args:\n",
    "                #print(\"fac =\", fac)\n",
    "                if hasattr(fac, \"name\"):\n",
    "                    #print(fac.name)\n",
    "                    if \"_{x\" in fac.name:\n",
    "                        count += 1\n",
    "                        if get_var_name_from_deriv(fac) == q_conj.name:\n",
    "                            presence_deriv_q_conj = True\n",
    "                        #print(\"count =\", count)\n",
    "                elif isinstance(fac, Pow):\n",
    "                    #print(fac.base.name, fac.exp)\n",
    "                    if \"_{x\" in fac.base.name and fac.exp > 0:\n",
    "                        count += fac.exp   \n",
    "                        if get_var_name_from_deriv(fac.base) == q_conj.name:\n",
    "                            presence_deriv_q_conj = True\n",
    "                        #print(\"count =\", count)\n",
    "        #print(\"final count =\", count)\n",
    "        if count == k and presence_deriv_q_conj:\n",
    "            res += mon\n",
    "\n",
    "    #print(\"res =\", res)\n",
    "    return res\n",
    "\n"
   ]
  },
  {
   "cell_type": "markdown",
   "id": "2a325440",
   "metadata": {},
   "source": [
    "# Symbols"
   ]
  },
  {
   "cell_type": "code",
   "execution_count": 558,
   "id": "2b066584",
   "metadata": {},
   "outputs": [],
   "source": [
    "D.reset_symbols()\n",
    "xx, x, yy, y, tt, t = D.create_non_diff_symbols('x', 'y', 't', real=True)\n",
    "qq, q, qq_conj, q_conj = D.create_diff_symbols('q', '\\\\tilde{q}')\n",
    "pp, p, pp_conj, p_conj = D.create_diff_symbols('p', '\\\\tilde{p}')\n",
    "AA, A, aa, a = D.create_diff_symbols('A', 'a', real=True)\n",
    "uu, u, vv, v, aa, a, pphi, phi, ff, f, gg, g = D.create_diff_symbols('u', 'v', 'a', '\\\\phi', 'f', 'g', real=True)\n",
    "WW_plus, W_plus, WW_minus, W_minus, ww_plus, w_plus, ww_minus, w_minus = D.create_diff_symbols('W_+', 'W_-', 'w_+', 'w_-', real=True)\n",
    "qq_pm, q_pm, qq_conj_pm, q_conj_pm = D.create_non_diff_symbols('q_\\\\pm', '\\\\tilde{q}_\\pm')\n",
    "pphi_pm, phi_pm, pphi_minus, phi_minus, pphi_plus, phi_plus = D.create_non_diff_symbols('\\\\phi_\\pm', '\\\\phi_-', '\\\\phi_+', real=True)\n",
    "ssig, sig, rr, r, ssigt, sigt, rrt, rt = D.create_diff_symbols('\\\\sigma', 'r', '\\\\tilde{\\\\sigma}', '\\\\tilde{r}')\n",
    "kap = Symbol('\\\\kappa', positive=True)\n",
    "lam, z = symbols('\\\\lambda z', real=False)\n",
    "tlam, tz = symbols('\\\\tilde{\\\\lambda} \\\\tilde{z}', positive=True)\n",
    "\n",
    "PPhi_11, Phi_11, PPhi_12, Phi_12, PPhi_21, Phi_21, PPhi_22, Phi_22 = D.create_diff_symbols(\n",
    "    '\\\\Phi_{1,1}', '\\\\Phi_{1,2}', '\\\\Phi_{2,1}', '\\\\Phi_{2,2}'\n",
    ")\n",
    "PPhi_plus_11, Phi_plus_11, PPhi_plus_12, Phi_plus_12, PPhi_plus_21, Phi_plus_21, PPhi_plus_22, Phi_plus_22 = D.create_diff_symbols(\n",
    "    '\\\\Phi_{1,1}^+', '\\\\Phi_{1,2}^+', '\\\\Phi_{2,1}^+', '\\\\Phi_{2,2}^+'\n",
    ")\n",
    "PPhi_minus_11, Phi_minus_11, PPhi_minus_12, Phi_minus_12, PPhi_minus_21, Phi_minus_21, PPhi_minus_22, Phi_minus_22 = D.create_diff_symbols(\n",
    "    '\\\\Phi_{1,1}^-', '\\\\Phi_{1,2}^-', '\\\\Phi_{2,1}^-', '\\\\Phi_{2,2}^-'\n",
    ")\n",
    "PPsi_11, Psi_11, PPsi_12, Psi_12, PPsi_21, Psi_21, PPsi_22, Psi_22 = D.create_diff_symbols(\n",
    "    '\\\\Psi_{1,1}', '\\\\Psi_{1,2}', '\\\\Psi_{2,1}', '\\\\Psi_{2,2}'\n",
    ")\n",
    "PPsi_plus_11, Psi_plus_11, PPsi_plus_12, Psi_plus_12, PPsi_plus_21, Psi_plus_21, PPsi_plus_22, Psi_plus_22 = D.create_diff_symbols(\n",
    "    '\\\\Psi_{1,1}^+', '\\\\Psi_{1,2}^+', '\\\\Psi_{2,1}^+', '\\\\Psi_{2,2}^+'\n",
    ")\n",
    "PPsi_minus_11, Psi_minus_11, PPsi_minus_12, Psi_minus_12, PPsi_minus_21, Psi_minus_21, PPsi_minus_22, Psi_minus_22 = D.create_diff_symbols(\n",
    "    '\\\\Psi_{1,1}^-', '\\\\Psi_{1,2}^-', '\\\\Psi_{2,1}^-', '\\\\Psi_{2,2}^-'\n",
    ")\n",
    "PPhi = Matrix([[PPhi_11, PPhi_21],\n",
    "              [PPhi_12, PPhi_22]])\n",
    "Phi = Matrix([[Phi_11, Phi_21],\n",
    "             [Phi_12, Phi_22]])\n",
    "PPsi = Matrix([[PPsi_11, PPsi_21],\n",
    "              [PPsi_12, PPsi_22]])\n",
    "Psi = Matrix([[Psi_11, Psi_21],\n",
    "             [Psi_12, Psi_22]])\n",
    "PPhi_plus = Matrix([[PPhi_plus_11, PPhi_plus_21],\n",
    "                   [PPhi_plus_12, PPhi_plus_22]])\n",
    "Phi_plus = Matrix([[Phi_plus_11, Phi_plus_21],\n",
    "                  [Phi_plus_12, Phi_plus_22]])\n",
    "PPhi_minus = Matrix([[PPhi_minus_11, PPhi_minus_21],\n",
    "                    [PPhi_minus_12, PPhi_minus_22]])\n",
    "Phi_minus = Matrix([[Phi_minus_11, Phi_minus_21],\n",
    "                   [Phi_minus_12, Phi_minus_22]])\n",
    "PPsi_plus = Matrix([[PPsi_plus_11, PPsi_plus_21],\n",
    "                   [PPsi_plus_12, PPsi_plus_22]])\n",
    "Psi_plus = Matrix([[Psi_plus_11, Psi_plus_21],\n",
    "                  [Psi_plus_12, Psi_plus_22]])\n",
    "PPsi_minus = Matrix([[PPsi_minus_11, PPsi_minus_21],\n",
    "                    [PPsi_minus_12, PPsi_minus_22]])\n",
    "Psi_minus = Matrix([[Psi_minus_11, Psi_minus_21],\n",
    "                   [Psi_minus_12, Psi_minus_22]])\n",
    "\n",
    "\n",
    "def tsimplify(expr):\n",
    "    return simplify(simplify(expr.subs(lam, I * tlam).subs(z, I * tz)).subs(tlam, lam / I).subs(tz, z / I))\n",
    "def realify(expr):\n",
    "    return expr.subs(lam, I * tlam).subs(z, I * tz)\n",
    "def complexify(expr):\n",
    "    return expr.subs(tz, - I * z).subs(tlam, - I * lam)\n",
    "\n"
   ]
  },
  {
   "cell_type": "markdown",
   "id": "a1e2151a",
   "metadata": {},
   "source": [
    "# Equations"
   ]
  },
  {
   "cell_type": "code",
   "execution_count": 7,
   "id": "ed1c5fdc",
   "metadata": {},
   "outputs": [
    {
     "data": {
      "text/latex": [
       "$\\displaystyle (u)_{t} = - (u)_{xxx} + 6 (u)_{x} u$"
      ],
      "text/plain": [
       "Eq((u)_{t}, -(u)_{xxx} + 6*(u)_{x}*u)"
      ]
     },
     "metadata": {},
     "output_type": "display_data"
    },
    {
     "data": {
      "text/latex": [
       "$\\displaystyle i (q)_{t} = - (q)_{xx} + 2 \\tilde{q} q^{2}$"
      ],
      "text/plain": [
       "Eq(I*(q)_{t}, -(q)_{xx} + 2*\\tilde{q}*q**2)"
      ]
     },
     "metadata": {},
     "output_type": "display_data"
    },
    {
     "data": {
      "text/latex": [
       "$\\displaystyle i (\\tilde{q})_{t} = (\\tilde{q})_{xx} - 2 \\tilde{q}^{2} q$"
      ],
      "text/plain": [
       "Eq(I*(\\tilde{q})_{t}, (\\tilde{q})_{xx} - 2*\\tilde{q}**2*q)"
      ]
     },
     "metadata": {},
     "output_type": "display_data"
    },
    {
     "data": {
      "text/latex": [
       "$\\displaystyle i (q)_{t} = - (q)_{xx} + 2 q \\left(\\tilde{q} q - 1\\right)$"
      ],
      "text/plain": [
       "Eq(I*(q)_{t}, -(q)_{xx} + 2*q*(\\tilde{q}*q - 1))"
      ]
     },
     "metadata": {},
     "output_type": "display_data"
    },
    {
     "data": {
      "text/latex": [
       "$\\displaystyle i (\\tilde{q})_{t} = (\\tilde{q})_{xx} - 2 \\tilde{q} \\left(\\tilde{q} q - 1\\right)$"
      ],
      "text/plain": [
       "Eq(I*(\\tilde{q})_{t}, (\\tilde{q})_{xx} - 2*\\tilde{q}*(\\tilde{q}*q - 1))"
      ]
     },
     "metadata": {},
     "output_type": "display_data"
    },
    {
     "data": {
      "text/latex": [
       "$\\displaystyle (a)_{t} = - 2 (a)_{x} v - (v)_{x} a$"
      ],
      "text/plain": [
       "Eq((a)_{t}, -2*(a)_{x}*v - (v)_{x}*a)"
      ]
     },
     "metadata": {},
     "output_type": "display_data"
    },
    {
     "data": {
      "text/latex": [
       "$\\displaystyle (v)_{t} = \\frac{(a)_{xxx}}{a} - \\frac{(a)_{xx} (a)_{x}}{a^{2}} - 4 (a)_{x} a - 2 (v)_{x} v$"
      ],
      "text/plain": [
       "Eq((v)_{t}, (a)_{xxx}/a - (a)_{xx}*(a)_{x}/a**2 - 4*(a)_{x}*a - 2*(v)_{x}*v)"
      ]
     },
     "metadata": {},
     "output_type": "display_data"
    },
    {
     "data": {
      "text/latex": [
       "$\\displaystyle (w_-)_{t} = \\frac{(w_+)_{xxx}}{2 \\left(w_{+} - w_{-} + 2\\right)} - \\frac{(w_+)_{x} \\left((w_+)_{xx} - (w_-)_{xx}\\right)}{2 \\left(w_{+} - w_{-} + 2\\right)^{2}} - \\frac{(w_-)_{xxx}}{2 \\left(w_{+} - w_{-} + 2\\right)} + \\frac{(w_-)_{x} \\left((w_+)_{xx} - (w_-)_{xx}\\right)}{2 \\left(w_{+} - w_{-} + 2\\right)^{2}} + (w_-)_{x} \\left(- w_{+} - 3 w_{-} + 2\\right)$"
      ],
      "text/plain": [
       "Eq((w_-)_{t}, (w_+)_{xxx}/(2*(w_+ - w_- + 2)) - (w_+)_{x}*((w_+)_{xx} - (w_-)_{xx})/(2*(w_+ - w_- + 2)**2) - (w_-)_{xxx}/(2*(w_+ - w_- + 2)) + (w_-)_{x}*((w_+)_{xx} - (w_-)_{xx})/(2*(w_+ - w_- + 2)**2) + (w_-)_{x}*(-w_+ - 3*w_- + 2))"
      ]
     },
     "metadata": {},
     "output_type": "display_data"
    },
    {
     "data": {
      "text/latex": [
       "$\\displaystyle (w_+)_{t} = \\frac{(w_+)_{xxx}}{2 \\left(w_{+} - w_{-} + 2\\right)} - \\frac{(w_+)_{x} \\left((w_+)_{xx} - (w_-)_{xx}\\right)}{2 \\left(w_{+} - w_{-} + 2\\right)^{2}} + (w_+)_{x} \\left(- 3 w_{+} - w_{-} - 2\\right) - \\frac{(w_-)_{xxx}}{2 \\left(w_{+} - w_{-} + 2\\right)} + \\frac{(w_-)_{x} \\left((w_+)_{xx} - (w_-)_{xx}\\right)}{2 \\left(w_{+} - w_{-} + 2\\right)^{2}}$"
      ],
      "text/plain": [
       "Eq((w_+)_{t}, (w_+)_{xxx}/(2*(w_+ - w_- + 2)) - (w_+)_{x}*((w_+)_{xx} - (w_-)_{xx})/(2*(w_+ - w_- + 2)**2) + (w_+)_{x}*(-3*w_+ - w_- - 2) - (w_-)_{xxx}/(2*(w_+ - w_- + 2)) + (w_-)_{x}*((w_+)_{xx} - (w_-)_{xx})/(2*(w_+ - w_- + 2)**2))"
      ]
     },
     "metadata": {},
     "output_type": "display_data"
    },
    {
     "data": {
      "text/latex": [
       "$\\displaystyle (W_-)_{t} = \\frac{2 (W_+)_{xxx}}{W_{+} \\epsilon^{2} - W_{-} \\epsilon^{2} + 2} - \\frac{2 (W_+)_{x} \\epsilon^{2} \\left((W_+)_{xx} - (W_-)_{xx}\\right)}{\\left(W_{+} \\epsilon^{2} - W_{-} \\epsilon^{2} + 2\\right)^{2}} - \\frac{2 (W_-)_{xxx}}{W_{+} \\epsilon^{2} - W_{-} \\epsilon^{2} + 2} + \\frac{2 (W_-)_{x} \\epsilon^{2} \\left((W_+)_{xx} - (W_-)_{xx}\\right)}{\\left(W_{+} \\epsilon^{2} - W_{-} \\epsilon^{2} + 2\\right)^{2}} + (W_-)_{x} \\left(- 2 W_{+} - 6 W_{-} + \\frac{4}{\\epsilon^{2}}\\right)$"
      ],
      "text/plain": [
       "Eq((W_-)_{t}, 2*(W_+)_{xxx}/(W_+*\\epsilon**2 - W_-*\\epsilon**2 + 2) - 2*(W_+)_{x}*\\epsilon**2*((W_+)_{xx} - (W_-)_{xx})/(W_+*\\epsilon**2 - W_-*\\epsilon**2 + 2)**2 - 2*(W_-)_{xxx}/(W_+*\\epsilon**2 - W_-*\\epsilon**2 + 2) + 2*(W_-)_{x}*\\epsilon**2*((W_+)_{xx} - (W_-)_{xx})/(W_+*\\epsilon**2 - W_-*\\epsilon**2 + 2)**2 + (W_-)_{x}*(-2*W_+ - 6*W_- + 4/\\epsilon**2))"
      ]
     },
     "metadata": {},
     "output_type": "display_data"
    },
    {
     "data": {
      "text/latex": [
       "$\\displaystyle (W_+)_{t} = \\frac{2 (W_+)_{xxx}}{W_{+} \\epsilon^{2} - W_{-} \\epsilon^{2} + 2} - \\frac{2 (W_+)_{x} \\epsilon^{2} \\left((W_+)_{xx} - (W_-)_{xx}\\right)}{\\left(W_{+} \\epsilon^{2} - W_{-} \\epsilon^{2} + 2\\right)^{2}} + (W_+)_{x} \\left(- 6 W_{+} - 2 W_{-} - \\frac{4}{\\epsilon^{2}}\\right) - \\frac{2 (W_-)_{xxx}}{W_{+} \\epsilon^{2} - W_{-} \\epsilon^{2} + 2} + \\frac{2 (W_-)_{x} \\epsilon^{2} \\left((W_+)_{xx} - (W_-)_{xx}\\right)}{\\left(W_{+} \\epsilon^{2} - W_{-} \\epsilon^{2} + 2\\right)^{2}}$"
      ],
      "text/plain": [
       "Eq((W_+)_{t}, 2*(W_+)_{xxx}/(W_+*\\epsilon**2 - W_-*\\epsilon**2 + 2) - 2*(W_+)_{x}*\\epsilon**2*((W_+)_{xx} - (W_-)_{xx})/(W_+*\\epsilon**2 - W_-*\\epsilon**2 + 2)**2 + (W_+)_{x}*(-6*W_+ - 2*W_- - 4/\\epsilon**2) - 2*(W_-)_{xxx}/(W_+*\\epsilon**2 - W_-*\\epsilon**2 + 2) + 2*(W_-)_{x}*\\epsilon**2*((W_+)_{xx} - (W_-)_{xx})/(W_+*\\epsilon**2 - W_-*\\epsilon**2 + 2)**2)"
      ]
     },
     "metadata": {},
     "output_type": "display_data"
    },
    {
     "data": {
      "text/latex": [
       "$\\displaystyle \\text{Error}_{(q, \\overline{q}) \\leftrightarrow (a, v)}^1 = 0$"
      ],
      "text/plain": [
       "Eq(\\text{Error}_{(q, \\overline{q}) \\leftrightarrow (a, v)}^1, 0)"
      ]
     },
     "metadata": {},
     "output_type": "display_data"
    },
    {
     "data": {
      "text/latex": [
       "$\\displaystyle \\text{Error}_{(q, \\overline{q}) \\leftrightarrow (a, v)}^2 = 0$"
      ],
      "text/plain": [
       "Eq(\\text{Error}_{(q, \\overline{q}) \\leftrightarrow (a, v)}^2, 0)"
      ]
     },
     "metadata": {},
     "output_type": "display_data"
    },
    {
     "data": {
      "text/latex": [
       "$\\displaystyle \\text{Error}_{(a, v) \\leftrightarrow (w_-, w_+)}^1 = 0$"
      ],
      "text/plain": [
       "Eq(\\text{Error}_{(a, v) \\leftrightarrow (w_-, w_+)}^1, 0)"
      ]
     },
     "metadata": {},
     "output_type": "display_data"
    },
    {
     "data": {
      "text/latex": [
       "$\\displaystyle \\text{Error}_{(a, v) \\leftrightarrow (w_-, w_+)}^2 = 0$"
      ],
      "text/plain": [
       "Eq(\\text{Error}_{(a, v) \\leftrightarrow (w_-, w_+)}^2, 0)"
      ]
     },
     "metadata": {},
     "output_type": "display_data"
    },
    {
     "data": {
      "text/latex": [
       "$\\displaystyle \\text{Error}_{(w_-, w_+) \\leftrightarrow (W_-, W_+)}^2 = 0$"
      ],
      "text/plain": [
       "Eq(\\text{Error}_{(w_-, w_+) \\leftrightarrow (W_-, W_+)}^2, 0)"
      ]
     },
     "metadata": {},
     "output_type": "display_data"
    },
    {
     "data": {
      "text/latex": [
       "$\\displaystyle \\text{Error}_{(w_-, w_+) \\leftrightarrow (W_-, W_+)}^2 = 0$"
      ],
      "text/plain": [
       "Eq(\\text{Error}_{(w_-, w_+) \\leftrightarrow (W_-, W_+)}^2, 0)"
      ]
     },
     "metadata": {},
     "output_type": "display_data"
    }
   ],
   "source": [
    "KdV_LHS = multi_deriv(u, t)\n",
    "KdV_RHS = 6 * u * deriv(u) - higher_deriv(u, 3)\n",
    "\n",
    "NLS_q_LHS = I * multi_deriv(q, t) \n",
    "NLS_q_RHS = - higher_deriv(q, 2) + 2 * q**2 * q_conj\n",
    "\n",
    "NLS_q_conj_LHS = I * multi_deriv(q_conj, t) \n",
    "NLS_q_conj_RHS = higher_deriv(q_conj, 2) - 2 * q_conj**2 * q\n",
    "\n",
    "GP_q_LHS = I * multi_deriv(q, t) \n",
    "GP_q_RHS = - higher_deriv(q, 2) + 2 * q * (q * q_conj - 1)\n",
    "\n",
    "GP_q_conj_LHS = I * multi_deriv(q_conj, t) \n",
    "GP_q_conj_RHS = higher_deriv(q_conj, 2) - 2 * q_conj * (q_conj * q - 1)\n",
    "\n",
    "hGP_a_LHS = multi_deriv(a, t)\n",
    "hGP_a_RHS = - a * deriv(v) - 2 * v * deriv(a)\n",
    "hGP_v_LHS = multi_deriv(v, t)\n",
    "hGP_v_RHS = - deriv(v**2) - 2 * deriv(a**2) + deriv(higher_deriv(a, 2) / a)\n",
    "\n",
    "hGP_w_minus_LHS = multi_deriv(w_minus, t)\n",
    "hGP_w_minus_RHS = - (3 * w_minus + w_plus - 2) * deriv(w_minus) + Rational(1,2) * deriv(higher_deriv(w_plus - w_minus, 2) / (w_plus - w_minus + 2))\n",
    "hGP_w_plus_LHS = multi_deriv(w_plus, t)\n",
    "hGP_w_plus_RHS = - (w_minus + 3 * w_plus + 2) * deriv(w_plus) + Rational(1,2) * deriv(higher_deriv(w_plus - w_minus, 2) / (w_plus - w_minus + 2))\n",
    "\n",
    "rGP_W_minus_LHS = multi_deriv(W_minus, t)\n",
    "rGP_W_minus_RHS = - (6 * W_minus + 2 * W_plus - 4 / epsilon**2) * deriv(W_minus) + 2 * deriv(higher_deriv(W_plus - W_minus, 2) / (epsilon**2 * W_plus - epsilon**2 * W_minus + 2))\n",
    "rGP_W_plus_LHS = multi_deriv(W_plus, t)\n",
    "rGP_W_plus_RHS = - (2 * W_minus + 6 * W_plus + 4 / epsilon**2) * deriv(W_plus) + 2 * deriv(higher_deriv(W_plus - W_minus, 2) / (epsilon**2 * W_plus - epsilon**2 * W_minus + 2))\n",
    "\n",
    "\n",
    "display(Eq(KdV_LHS, KdV_RHS, evaluate=False))\n",
    "display(Eq(NLS_q_LHS, NLS_q_RHS, evaluate=False))\n",
    "display(Eq(NLS_q_conj_LHS, NLS_q_conj_RHS, evaluate=False))\n",
    "display(Eq(GP_q_LHS, GP_q_RHS, evaluate=False))\n",
    "display(Eq(GP_q_conj_LHS, GP_q_conj_RHS, evaluate=False))\n",
    "display(Eq(hGP_a_LHS, hGP_a_RHS, evaluate=False))\n",
    "display(Eq(hGP_v_LHS, hGP_v_RHS, evaluate=False))\n",
    "display(Eq(hGP_w_minus_LHS, hGP_w_minus_RHS, evaluate=False))\n",
    "display(Eq(hGP_w_plus_LHS, hGP_w_plus_RHS, evaluate=False))\n",
    "display(Eq(rGP_W_minus_LHS, rGP_W_minus_RHS, evaluate=False))\n",
    "display(Eq(rGP_W_plus_LHS, rGP_W_plus_RHS, evaluate=False))\n",
    "\n",
    "\n",
    "substituted_hGP_a_LHS = subs(hGP_a_LHS, [(a, sqrt(q * q_conj)), (v, (q_conj * deriv(q) - q * deriv(q_conj)) / (2 * I * q * q_conj))])\n",
    "substituted_hGP_a_RHS = subs(hGP_a_RHS, [(a, sqrt(q * q_conj)), (v, (q_conj * deriv(q) - q * deriv(q_conj)) / (2 * I * q * q_conj))])\n",
    "substituted_hGP_v_LHS = subs(hGP_v_LHS, [(a, sqrt(q * q_conj)), (v, (q_conj * deriv(q) - q * deriv(q_conj)) / (2 * I * q * q_conj))])\n",
    "substituted_hGP_v_RHS = subs(hGP_v_RHS, [(a, sqrt(q * q_conj)), (v, (q_conj * deriv(q) - q * deriv(q_conj)) / (2 * I * q * q_conj))])\n",
    "\n",
    "equation_applied_to_substituted_hGP_a_LHS = subs(substituted_hGP_a_LHS, [(simplify(GP_q_LHS / I), GP_q_RHS / I), (simplify(GP_q_conj_LHS / I), GP_q_conj_RHS / I)])\n",
    "equation_applied_to_substituted_hGP_v_LHS = subs(substituted_hGP_v_LHS, [(simplify(GP_q_LHS / I), GP_q_RHS / I), (simplify(GP_q_conj_LHS / I), GP_q_conj_RHS / I)])\n",
    "\n",
    "display(Equ(Symbol('\\\\text{Error}_{(q, \\overline{q}) \\leftrightarrow (a, v)}^1'), simplify(equation_applied_to_substituted_hGP_a_LHS - substituted_hGP_a_RHS)))\n",
    "display(Equ(Symbol('\\\\text{Error}_{(q, \\overline{q}) \\leftrightarrow (a, v)}^2'), simplify(equation_applied_to_substituted_hGP_v_LHS - substituted_hGP_v_RHS)))\n",
    "\n",
    "\n",
    "substituted_hGP_w_minus_LHS = subs(hGP_w_minus_LHS, [(w_minus, v / 2 - (a - 1)), (w_plus, v / 2 + (a - 1))])\n",
    "substituted_hGP_w_minus_RHS = subs(hGP_w_minus_RHS, [(w_minus, v / 2 - (a - 1)), (w_plus, v / 2 + (a - 1))])\n",
    "substituted_hGP_w_plus_LHS = subs(hGP_w_plus_LHS, [(w_minus, v / 2 - (a - 1)), (w_plus, v / 2 + (a - 1))])\n",
    "substituted_hGP_w_plus_RHS = subs(hGP_w_plus_RHS, [(w_minus, v / 2 - (a - 1)), (w_plus, v / 2 + (a - 1))])\n",
    "\n",
    "equation_applied_to_substituted_hGP_w_minus_LHS = subs(substituted_hGP_w_minus_LHS, [(hGP_a_LHS, hGP_a_RHS), (hGP_v_LHS, hGP_v_RHS)])\n",
    "equation_applied_to_substituted_hGP_w_plus_LHS = subs(substituted_hGP_w_plus_LHS, [(hGP_a_LHS, hGP_a_RHS), (hGP_v_LHS, hGP_v_RHS)])\n",
    "\n",
    "display(Equ(Symbol('\\\\text{Error}_{(a, v) \\leftrightarrow (w_-, w_+)}^1'), simplify(equation_applied_to_substituted_hGP_w_minus_LHS - substituted_hGP_w_minus_RHS)))\n",
    "display(Equ(Symbol('\\\\text{Error}_{(a, v) \\leftrightarrow (w_-, w_+)}^2'), simplify(equation_applied_to_substituted_hGP_w_plus_LHS - substituted_hGP_w_plus_RHS)))\n",
    "\n",
    "\n",
    "substituted_rGP_W_minus_LHS = subs(rGP_W_minus_LHS, [(W_minus, epsilon**(-2) * w_minus), (W_plus, epsilon**(-2) * w_plus)], scale={t: epsilon**(-3) * sqrt(2), x: epsilon**(-1) / sqrt(2)})\n",
    "substituted_rGP_W_minus_RHS = subs(rGP_W_minus_RHS, [(W_minus, epsilon**(-2) * w_minus), (W_plus, epsilon**(-2) * w_plus)], scale={t: epsilon**(-3) * sqrt(2), x: epsilon**(-1) / sqrt(2)})\n",
    "substituted_rGP_W_plus_LHS = subs(rGP_W_plus_LHS, [(W_minus, epsilon**(-2) * w_minus), (W_plus, epsilon**(-2) * w_plus)], scale={t: epsilon**(-3) * sqrt(2), x: epsilon**(-1) / sqrt(2)})\n",
    "substituted_rGP_W_plus_RHS = subs(rGP_W_plus_RHS, [(W_minus, epsilon**(-2) * w_minus), (W_plus, epsilon**(-2) * w_plus)], scale={t: epsilon**(-3) * sqrt(2), x: epsilon**(-1) / sqrt(2)})\n",
    "\n",
    "equation_applied_to_substituted_rGP_W_minus_LHS = subs(substituted_rGP_W_minus_LHS, [(hGP_w_minus_LHS, hGP_w_minus_RHS), (hGP_w_plus_LHS, hGP_w_plus_RHS)], scale={t: epsilon**(-3) * sqrt(2), x: epsilon**(-1) / sqrt(2)})\n",
    "equation_applied_to_substituted_rGP_W_plus_LHS = subs(substituted_rGP_W_plus_LHS, [(hGP_w_minus_LHS, hGP_w_minus_RHS), (hGP_w_plus_LHS, hGP_w_plus_RHS)], scale={t: epsilon**(-3) * sqrt(2), x: epsilon**(-1) / sqrt(2)})\n",
    "\n",
    "display(Equ(Symbol('\\\\text{Error}_{(w_-, w_+) \\leftrightarrow (W_-, W_+)}^2'), simplify(equation_applied_to_substituted_rGP_W_minus_LHS - substituted_rGP_W_minus_RHS)))\n",
    "display(Equ(Symbol('\\\\text{Error}_{(w_-, w_+) \\leftrightarrow (W_-, W_+)}^2'), simplify(equation_applied_to_substituted_rGP_W_plus_LHS - substituted_rGP_W_plus_RHS)))\n",
    "\n"
   ]
  },
  {
   "cell_type": "markdown",
   "id": "5964dcb6",
   "metadata": {},
   "source": [
    "# Equations vs Lax Pairs"
   ]
  },
  {
   "cell_type": "code",
   "execution_count": 8,
   "id": "1e74da86",
   "metadata": {},
   "outputs": [
    {
     "data": {
      "text/latex": [
       "$\\displaystyle \\text{Error}_{\\text{KdV vs Lax pair}} = 0$"
      ],
      "text/plain": [
       "Eq(\\text{Error}_{\\text{KdV vs Lax pair}}, 0)"
      ]
     },
     "metadata": {},
     "output_type": "display_data"
    },
    {
     "data": {
      "text/latex": [
       "$\\displaystyle \\text{Error}_{\\text{NLS vs Lax pair}} = \\left[\\begin{matrix}0 & 0\\\\0 & 0\\end{matrix}\\right]$"
      ],
      "text/plain": [
       "Eq(\\text{Error}_{\\text{NLS vs Lax pair}}, Matrix([\n",
       "[0, 0],\n",
       "[0, 0]]))"
      ]
     },
     "metadata": {},
     "output_type": "display_data"
    },
    {
     "data": {
      "text/latex": [
       "$\\displaystyle \\text{Error}_{\\text{GP vs Lax pair}} = \\left[\\begin{matrix}0 & 0\\\\0 & 0\\end{matrix}\\right]$"
      ],
      "text/plain": [
       "Eq(\\text{Error}_{\\text{GP vs Lax pair}}, Matrix([\n",
       "[0, 0],\n",
       "[0, 0]]))"
      ]
     },
     "metadata": {},
     "output_type": "display_data"
    },
    {
     "data": {
      "text/latex": [
       "$\\displaystyle \\text{Error}_{\\text{hGP vs Lax pair}}^{(a, v)} = \\left[\\begin{matrix}0 & 0\\\\0 & 0\\end{matrix}\\right]$"
      ],
      "text/plain": [
       "Eq(\\text{Error}_{\\text{hGP vs Lax pair}}^{(a, v)}, Matrix([\n",
       "[0, 0],\n",
       "[0, 0]]))"
      ]
     },
     "metadata": {},
     "output_type": "display_data"
    },
    {
     "data": {
      "text/latex": [
       "$\\displaystyle \\text{Error}_{\\text{hGP vs Lax pair}}^{(w_-, w_+)} = \\left[\\begin{matrix}0 & 0\\\\0 & 0\\end{matrix}\\right]$"
      ],
      "text/plain": [
       "Eq(\\text{Error}_{\\text{hGP vs Lax pair}}^{(w_-, w_+)}, Matrix([\n",
       "[0, 0],\n",
       "[0, 0]]))"
      ]
     },
     "metadata": {},
     "output_type": "display_data"
    },
    {
     "data": {
      "text/latex": [
       "$\\displaystyle \\text{Error}_{\\text{rGP vs Lax pair}}^{(W_-, W_+)} = \\left[\\begin{matrix}0 & 0\\\\0 & 0\\end{matrix}\\right]$"
      ],
      "text/plain": [
       "Eq(\\text{Error}_{\\text{rGP vs Lax pair}}^{(W_-, W_+)}, Matrix([\n",
       "[0, 0],\n",
       "[0, 0]]))"
      ]
     },
     "metadata": {},
     "output_type": "display_data"
    },
    {
     "data": {
      "text/latex": [
       "$\\displaystyle \\text{Error}_{\\text{transformed GP vs hGP Lax pair}}^L = \\left[\\begin{matrix}0 & 0\\\\0 & 0\\end{matrix}\\right]$"
      ],
      "text/plain": [
       "Eq(\\text{Error}_{\\text{transformed GP vs hGP Lax pair}}^L, Matrix([\n",
       "[0, 0],\n",
       "[0, 0]]))"
      ]
     },
     "metadata": {},
     "output_type": "display_data"
    },
    {
     "data": {
      "text/latex": [
       "$\\displaystyle \\text{Error}_{\\text{transformed GP vs hGP Lax pair}}^P = \\left[\\begin{matrix}0 & 0\\\\0 & 0\\end{matrix}\\right]$"
      ],
      "text/plain": [
       "Eq(\\text{Error}_{\\text{transformed GP vs hGP Lax pair}}^P, Matrix([\n",
       "[0, 0],\n",
       "[0, 0]]))"
      ]
     },
     "metadata": {},
     "output_type": "display_data"
    }
   ],
   "source": [
    "L_KdV = - D(xx, xx) + uu\n",
    "P_KdV = - 4 * D(xx, xx, xx) + 3 * evaluateExpr(D(xx) * uu) + 6 * uu * D(xx)\n",
    "\n",
    "tested_KdV_Lax_equation = evaluateExpr((evaluateExpr(D(tt) * L_KdV) + L_KdV * P_KdV - P_KdV * L_KdV) * ff)\n",
    "tested_KdV_equation = (KdV_LHS - KdV_RHS) * f\n",
    "\n",
    "display(Equ(Symbol('\\\\text{Error}_{\\\\text{KdV vs Lax pair}}'), simplify(tested_KdV_Lax_equation - tested_KdV_equation)))\n",
    "\n",
    "\n",
    "L_NLS = I * Matrix([[D(xx), - qq], [qq_conj, - D(xx)]])\n",
    "P_NLS = I * Matrix([[2 * D(xx, xx) - qq * qq_conj, - qq * D(xx) - D(xx) * qq], [qq_conj * D(xx) + D(xx) * qq_conj, - 2 * D(xx, xx) + qq * qq_conj]])\n",
    "\n",
    "tested_NLS_Lax_equation = evaluateExpr((processExpr(D(tt) * L_NLS) + L_NLS * P_NLS - P_NLS * L_NLS) * ff)\n",
    "tested_NLS_equation = Matrix([[0, NLS_q_RHS - NLS_q_LHS], [- NLS_q_conj_RHS + NLS_q_conj_LHS, 0]]) * f\n",
    "\n",
    "display(Equ(Symbol('\\\\text{Error}_{\\\\text{NLS vs Lax pair}}'), simplify(tested_NLS_Lax_equation - tested_NLS_equation)))\n",
    "\n",
    "\n",
    "L_GP = I * Matrix([[D(xx), - qq], [qq_conj, - D(xx)]])\n",
    "P_GP = I * Matrix([[2 * D(xx, xx) - (qq * qq_conj - 1), - qq * D(xx) - D(xx) * qq], [qq_conj * D(xx) + D(xx) * qq_conj, - 2 * D(xx, xx) + (qq * qq_conj - 1)]])\n",
    "\n",
    "tested_GP_Lax_equation = evaluateExpr((processExpr(D(tt) * L_GP) + L_GP * P_GP - P_GP * L_GP) * ff)\n",
    "tested_GP_equation = Matrix([[0, GP_q_RHS - GP_q_LHS], [- GP_q_conj_RHS + GP_q_conj_LHS, 0]]) * f\n",
    "\n",
    "display(Equ(Symbol('\\\\text{Error}_{\\\\text{GP vs Lax pair}}'), simplify(tested_GP_Lax_equation - tested_GP_equation)))\n",
    "\n",
    "\n",
    "L_hGP_av = Matrix([[aa - vv / 2, I * D(xx)], [I * D(xx), - aa - vv / 2]])\n",
    "P_hGP_av = Matrix([\n",
    "    [processExpr(D(xx) * (aa - vv)) + 2 * (aa - vv) * D(xx),\n",
    "     I / 2 * (4 * D(xx, xx) - processExpr(D(xx, xx) * aa) / aa)], \n",
    "    [I / 2 * (4 * D(xx, xx) - processExpr(D(xx, xx) * aa) / aa),\n",
    "     processExpr(D(xx) * (- aa - vv)) + 2 * (- aa - vv) * D(xx)\n",
    "]])\n",
    "\n",
    "tested_hGP_av_Lax_equation = evaluateExpr((processExpr(D(tt) * L_hGP_av) + L_hGP_av * P_hGP_av - P_hGP_av * L_hGP_av) * ff)\n",
    "tested_hGP_av_equation = Matrix([[(hGP_v_RHS - hGP_v_LHS) / 2 - (hGP_a_RHS - hGP_a_LHS), 0], \n",
    "                                 [0, (hGP_v_RHS - hGP_v_LHS) / 2 + (hGP_a_RHS - hGP_a_LHS)]]) * f\n",
    "\n",
    "display(Equ(Symbol('\\\\text{Error}_{\\\\text{hGP vs Lax pair}}^{(a, v)}'), simplify(tested_hGP_av_Lax_equation - tested_hGP_av_equation)))\n",
    "\n",
    "\n",
    "L_hGP_w = Matrix([[- ww_minus + 1, I * D(xx)], [I * D(xx), - ww_plus - 1]])\n",
    "P_hGP_w = Matrix([\n",
    "    [processExpr(- D(xx) * (3 * ww_minus + ww_plus - 2) / 2) - (3 * ww_minus + ww_plus - 2) * D(xx),\n",
    "     I / 2 * (4 * D(xx, xx) - processExpr(D(xx, xx) * (ww_plus - ww_minus + 2) / 2) / ((ww_plus - ww_minus + 2) / 2))], \n",
    "    [I / 2 * (4 * D(xx, xx) - processExpr(D(xx, xx) * (ww_plus - ww_minus + 2) / 2) / ((ww_plus - ww_minus + 2) / 2)),\n",
    "     processExpr(- D(xx) * (ww_minus + 3 * ww_plus + 2) / 2) - (ww_minus + 3 * ww_plus + 2) * D(xx)]\n",
    "])\n",
    "\n",
    "tested_hGP_w_Lax_equation = evaluateExpr((processExpr(D(tt) * L_hGP_w) + L_hGP_w * P_hGP_w - P_hGP_w * L_hGP_w) * ff)\n",
    "tested_hGP_w_equation = Matrix([[hGP_w_minus_RHS - hGP_w_minus_LHS, 0], [0, hGP_w_plus_RHS - hGP_w_plus_LHS]]) * f\n",
    "\n",
    "display(Equ(Symbol('\\\\text{Error}_{\\\\text{hGP vs Lax pair}}^{(w_-, w_+)}'), simplify(tested_hGP_w_Lax_equation - tested_hGP_w_equation)))\n",
    "\n",
    "\n",
    "L_rGP_W = Matrix([[- WW_minus + 1 / epsilon**2, I * sqrt(2) / epsilon * D(xx)], [I * sqrt(2) / epsilon * D(xx), - WW_plus - 1 / epsilon**2]])\n",
    "P_rGP_W = sqrt(2) / epsilon**3 * Matrix([\n",
    "    [processExpr(- sqrt(2) * epsilon * D(xx) * (3 * epsilon**2 * WW_minus + epsilon**2 * WW_plus - 2) / 2) - (3 * epsilon**2 * WW_minus + epsilon**2 * WW_plus - 2) * sqrt(2) * epsilon * D(xx),\n",
    "     I / 2 * (4 * 2 * epsilon**2 * D(xx, xx) - processExpr(2 * epsilon**2 * D(xx, xx) * (epsilon**2 * WW_plus - epsilon**2 * WW_minus + 2) / 2) / ((epsilon**2 * WW_plus - epsilon**2 * WW_minus + 2) / 2))], \n",
    "    [I / 2* (4  * 2 * epsilon**2 * D(xx, xx) - processExpr(2 * epsilon**2 * D(xx, xx) * (epsilon**2 * WW_plus - epsilon**2 * WW_minus + 2) / 2) / ((epsilon**2 * WW_plus - epsilon**2 * WW_minus + 2) / 2)),\n",
    "     processExpr(- sqrt(2) * epsilon * D(xx) * (epsilon**2 * WW_minus + 3 * epsilon**2 * WW_plus + 2) / 2) - (epsilon**2 * WW_minus + 3 * epsilon**2 * WW_plus + 2) * sqrt(2) * epsilon * D(xx)]\n",
    "])\n",
    "\n",
    "tested_rGP_W_Lax_equation = evaluateExpr((processExpr(D(tt) * L_rGP_W) + L_rGP_W * P_rGP_W - P_rGP_W * L_rGP_W) * ff)\n",
    "tested_rGP_W_equation = Matrix([[rGP_W_minus_RHS - rGP_W_minus_LHS, 0], [0, rGP_W_plus_RHS - rGP_W_plus_LHS]]) * f\n",
    "\n",
    "display(Equ(Symbol('\\\\text{Error}_{\\\\text{rGP vs Lax pair}}^{(W_-, W_+)}'), simplify(tested_rGP_W_Lax_equation - tested_rGP_W_equation)))\n",
    "\n",
    "\n",
    "theta = I / 2 * (phi - pi / 2)\n",
    "ttheta = I / 2 * (pphi - pi / 2)\n",
    "theta_pm = I / 2 * (phi_pm - pi / 2)\n",
    "ttheta_pm = I / 2 * (pphi_pm - pi / 2)\n",
    "M = 1 / sqrt(2) * Matrix([[exp(- theta), exp(theta)], [exp(- theta), - exp(theta)]])\n",
    "MM = 1 / sqrt(2) * Matrix([[exp(- ttheta), exp(ttheta)], [exp(- ttheta), - exp(ttheta)]])\n",
    "M_conj = 1 / sqrt(2) * Matrix([[exp(theta), exp(- theta)], [exp(theta), - exp(- theta)]])\n",
    "MM_conj = 1 / sqrt(2) * Matrix([[exp(ttheta), exp(- ttheta)], [exp(ttheta), - exp(- ttheta)]])\n",
    "M_pm = 1 / sqrt(2) * Matrix([[exp(- theta_pm), exp(theta_pm)], [exp(- theta_pm), - exp(theta_pm)]])\n",
    "MM_pm = 1 / sqrt(2) * Matrix([[exp(- ttheta_pm), exp(ttheta_pm)], [exp(- ttheta_pm), - exp(ttheta_pm)]])\n",
    "M_conj_pm = 1 / sqrt(2) * Matrix([[exp(theta_pm), exp(- theta_pm)], [exp(theta_pm), - exp(- theta_pm)]])\n",
    "MM_conj_pm = 1 / sqrt(2) * Matrix([[exp(ttheta_pm), exp(- ttheta_pm)], [exp(ttheta_pm), - exp(- ttheta_pm)]])\n",
    "\n",
    "tested_transformed_L_GP = evaluateExpr(MM * L_GP * Transpose(MM_conj) * ff)\n",
    "tested_transformed_P_GP = evaluateExpr((processExpr(D(tt) * MM) * Transpose(M_conj) + MM * P_GP * Transpose(MM_conj)) * ff)\n",
    "\n",
    "substituted_tested_transformed_L_GP = subs(tested_transformed_L_GP, [(q, a * exp(I * phi)), (q_conj, a * exp(- I * phi)), (deriv(phi), v)])\n",
    "substituted_tested_transformed_P_GP = subs(tested_transformed_P_GP, [\n",
    "    (phi, log(q / a) / I), \n",
    "    (hGP_a_LHS, hGP_a_RHS), \n",
    "    (simplify(GP_q_LHS / I), GP_q_RHS / I), \n",
    "    (simplify(GP_q_conj_LHS / I), GP_q_conj_RHS / I),\n",
    "    (q, a * exp(I * phi)), \n",
    "    (q_conj, a * exp(- I * phi)),\n",
    "    (deriv(phi), v)\n",
    "])\n",
    "\n",
    "tested_L_hGP_av = evaluateExpr(L_hGP_av * ff)\n",
    "tested_P_hGP_av = evaluateExpr(P_hGP_av * ff)\n",
    "\n",
    "display(Equ(Symbol('\\\\text{Error}_{\\\\text{transformed GP vs hGP Lax pair}}^L'), simplify(substituted_tested_transformed_L_GP - tested_L_hGP_av)))\n",
    "display(Equ(Symbol('\\\\text{Error}_{\\\\text{transformed GP vs hGP Lax pair}}^P'), simplify(substituted_tested_transformed_P_GP - tested_P_hGP_av)))\n"
   ]
  },
  {
   "cell_type": "markdown",
   "id": "b37aa679",
   "metadata": {},
   "source": [
    "# Jost solutions - dark soliton case"
   ]
  },
  {
   "cell_type": "code",
   "execution_count": 530,
   "id": "eca87dd0",
   "metadata": {},
   "outputs": [
    {
     "data": {
      "text/latex": [
       "$\\displaystyle \\overline{\\zeta_1} q_{+} \\left(a_{1} + i b_{1} \\left(- e^{- b_{1} \\left(- 2 a_{1} t + x\\right)} + e^{b_{1} \\left(- 2 a_{1} t + x\\right)}\\right) \\left(e^{- b_{1} \\left(- 2 a_{1} t + x\\right)} + e^{b_{1} \\left(- 2 a_{1} t + x\\right)}\\right)^{-1}\\right)$"
      ],
      "text/plain": [
       "\\overline{\\zeta_1}*q_+*(a_1 + I*b_1*(-exp(-b_1*(-2*a_1*t + x)) + exp(b_1*(-2*a_1*t + x)))*(exp(-b_1*(-2*a_1*t + x)) + exp(b_1*(-2*a_1*t + x)))**(-1))"
      ]
     },
     "metadata": {},
     "output_type": "display_data"
    },
    {
     "data": {
      "text/latex": [
       "$\\displaystyle 0$"
      ],
      "text/plain": [
       "0"
      ]
     },
     "metadata": {},
     "output_type": "display_data"
    }
   ],
   "source": [
    "def mytanh(x):\n",
    "    return (exp(x) - exp(-x)) / (exp(x) + exp(-x))\n",
    "def mysech(x):\n",
    "    return 2 / (exp(x) + exp(-x))\n",
    "\n",
    "a, b, a_1, b_1, q_plus, q_minus = symbols('a b a_1 b_1 q_+ q_-', positive=True)\n",
    "z = Symbol('z')\n",
    "zeta_1 = Symbol('zeta_1')\n",
    "zeta_1_conj = Symbol('\\\\overline{\\\\zeta_1}')\n",
    "zeta = Symbol('zeta')\n",
    "zeta_sub = lam + z_GP\n",
    "zeta_1_sub = a_1 + I * b_1\n",
    "zeta_1_conj_sub = a_1 - I * b_1\n",
    "b_1_sub = sqrt(1 - a_1**2)\n",
    "theta_1 = b_1 * (xx - 2 * a_1 * tt)\n",
    "soliton = q_plus * zeta_1_conj * (a_1 + I * b_1 * mytanh(theta_1))\n",
    "soliton_conj = 1 / q_plus * zeta_1 * (a_1 - I * b_1 * mytanh(theta_1))\n",
    "soliton_sub = soliton.subs(zeta_1, zeta_1_sub).subs(zeta_1_conj, zeta_1_conj_sub)\n",
    "soliton_conj_sub = soliton_conj.subs(zeta_1, zeta_1_sub).subs(zeta_1_conj, zeta_1_conj_sub)\n",
    "\n",
    "display(soliton)\n",
    "eqn = evaluateExpr((I * D(tt) - D(xx, xx)) * soliton_sub + 2 * (soliton_sub * soliton_conj_sub - 1) * soliton_sub).subs(b_1, b_1_sub)\n",
    "eqn = simplify(eqn)\n",
    "display(eqn)\n"
   ]
  },
  {
   "cell_type": "code",
   "execution_count": 531,
   "id": "229ef49e",
   "metadata": {},
   "outputs": [],
   "source": [
    "ssoliton = simplify(soliton.subs(tt, 0))\n",
    "ssoliton_conj = simplify(soliton_conj.subs(tt, 0))\n",
    "theta_1 = simplify(theta_1.subs(tt, 0))\n"
   ]
  },
  {
   "cell_type": "code",
   "execution_count": 537,
   "id": "913fc1fb",
   "metadata": {},
   "outputs": [],
   "source": [
    "\n",
    "mjost_11 = q_minus * (zeta - zeta_1) / (zeta - zeta_1_conj)\n",
    "mjost_11 += I * q_minus / (zeta - zeta_1_conj) * b_1 * mysech(theta_1) * exp(- theta_1)\n",
    "\n",
    "mjost_12 = I / zeta * (zeta - zeta_1) / (zeta - zeta_1_conj) * zeta_1_conj**2\n",
    "mjost_12 += - zeta_1_conj / (zeta - zeta_1_conj) * b_1 * mysech(theta_1) * exp(- theta_1)\n",
    "\n",
    "mjost_21 = - I / zeta\n",
    "mjost_21 += - 1 / (zeta - zeta_1_conj) / zeta_1 * b_1 * mysech(theta_1) * exp(- theta_1)\n",
    "\n",
    "mjost_22 = 1 / q_plus\n",
    "mjost_22 += - I / q_plus / (zeta - zeta_1_conj) * b_1 * mysech(theta_1) * exp(- theta_1)\n",
    "\n",
    "mjost_1 = Matrix([mjost_11, mjost_12])\n",
    "mjost_2 = Matrix([mjost_21, mjost_22])\n",
    "\n",
    "z_sub = (zeta - 1 / zeta) / 2\n",
    "lam_sub = (zeta + 1 / zeta) / 2\n"
   ]
  },
  {
   "cell_type": "code",
   "execution_count": 559,
   "id": "6e8acec4",
   "metadata": {},
   "outputs": [
    {
     "data": {
      "text/latex": [
       "$\\displaystyle \\left[\\begin{matrix}0\\\\0\\end{matrix}\\right]$"
      ],
      "text/plain": [
       "Matrix([\n",
       "[0],\n",
       "[0]])"
      ]
     },
     "metadata": {},
     "output_type": "display_data"
    },
    {
     "data": {
      "text/latex": [
       "$\\displaystyle \\left[\\begin{matrix}0\\\\0\\end{matrix}\\right]$"
      ],
      "text/plain": [
       "Matrix([\n",
       "[0],\n",
       "[0]])"
      ]
     },
     "metadata": {},
     "output_type": "display_data"
    }
   ],
   "source": [
    "expr11 = evaluateExpr(I * Matrix([[D(xx) - I * z_sub, 0], [0, - D(xx) + I * z_sub]]) * mjost_1)\n",
    "expr12 = evaluateExpr(I * Matrix([[0, - ssoliton], [ssoliton_conj, 0]]) * mjost_1)\n",
    "expr13 = evaluateExpr(Matrix([[- lam_sub, 0], [0, - lam_sub]]) * mjost_1)\n",
    "\n",
    "expr21 = evaluateExpr(I * Matrix([[D(xx) + I * z_sub, 0], [0, - D(xx) - I * z_sub]]) * mjost_2)\n",
    "expr22 = evaluateExpr(I * Matrix([[0, - ssoliton], [ssoliton_conj, 0]]) * mjost_2)\n",
    "expr23 = evaluateExpr(Matrix([[- lam_sub, 0], [0, - lam_sub]]) * mjost_2)\n",
    "\n",
    "subs_list = [(q_plus, zeta_1**2 * q_minus), (zeta_1, zeta_1_sub), (zeta_1_conj, zeta_1_conj_sub), (b_1, b_1_sub)]\n",
    "exprall1 = simplify(subs(simplify(expr11 + expr12 + expr13), subs_list))\n",
    "exprall2 = simplify(subs(simplify(expr21 + expr22 + expr23), subs_list))\n",
    "\n",
    "display(exprall1)\n",
    "display(exprall2)"
   ]
  },
  {
   "cell_type": "code",
   "execution_count": 566,
   "id": "8960808c",
   "metadata": {},
   "outputs": [
    {
     "data": {
      "text/latex": [
       "$\\displaystyle \\left[\\begin{matrix}\\frac{2 i b_{1} q_{-} \\left(e^{- b_{1} y} + e^{b_{1} y}\\right)^{-1} e^{- b_{1} y}}{- \\overline{\\zeta_1} + \\zeta} + \\frac{q_{-} \\left(\\zeta - \\zeta_{1}\\right)}{- \\overline{\\zeta_1} + \\zeta} & - \\frac{2 b_{1} \\left(e^{- b_{1} y} + e^{b_{1} y}\\right)^{-1} e^{- b_{1} y}}{\\zeta_{1} \\left(- \\overline{\\zeta_1} + \\zeta\\right)} - \\frac{i}{\\zeta}\\\\\\frac{i \\overline{\\zeta_1}^{2} \\left(\\zeta - \\zeta_{1}\\right)}{\\zeta \\left(- \\overline{\\zeta_1} + \\zeta\\right)} - \\frac{2 \\overline{\\zeta_1} b_{1} \\left(e^{- b_{1} y} + e^{b_{1} y}\\right)^{-1} e^{- b_{1} y}}{- \\overline{\\zeta_1} + \\zeta} & - \\frac{2 i b_{1} \\left(e^{- b_{1} y} + e^{b_{1} y}\\right)^{-1} e^{- b_{1} y}}{q_{+} \\left(- \\overline{\\zeta_1} + \\zeta\\right)} + \\frac{1}{q_{+}}\\end{matrix}\\right]$"
      ],
      "text/plain": [
       "Matrix([\n",
       "[                                        2*I*b_1*q_-*(exp(-b_1*y) + exp(b_1*y))**(-1)*exp(-b_1*y)/(-\\overline{\\zeta_1} + zeta) + q_-*(zeta - zeta_1)/(-\\overline{\\zeta_1} + zeta), -2*b_1*(exp(-b_1*y) + exp(b_1*y))**(-1)*exp(-b_1*y)/(zeta_1*(-\\overline{\\zeta_1} + zeta)) - I/zeta],\n",
       "[I*\\overline{\\zeta_1}**2*(zeta - zeta_1)/(zeta*(-\\overline{\\zeta_1} + zeta)) - 2*\\overline{\\zeta_1}*b_1*(exp(-b_1*y) + exp(b_1*y))**(-1)*exp(-b_1*y)/(-\\overline{\\zeta_1} + zeta),   -2*I*b_1*(exp(-b_1*y) + exp(b_1*y))**(-1)*exp(-b_1*y)/(q_+*(-\\overline{\\zeta_1} + zeta)) + 1/q_+]])"
      ]
     },
     "metadata": {},
     "output_type": "display_data"
    }
   ],
   "source": [
    "display(mjost.subs(xx, yy))"
   ]
  },
  {
   "cell_type": "code",
   "execution_count": 571,
   "id": "1d0fa4e1",
   "metadata": {},
   "outputs": [],
   "source": [
    "mjost = evaluateExpr(Matrix([[mjost_11, mjost_21], [mjost_12, mjost_22]])).subs(zeta_1_conj, 1 / zeta_1)\n",
    "mjost_inv = evaluateExpr(1 / det(E_GP) * Matrix([[- mjost_11, mjost_12], [mjost_21, - mjost_22]])).subs(zeta_1_conj, 1 / zeta_1)\n"
   ]
  },
  {
   "cell_type": "code",
   "execution_count": 572,
   "id": "8045582e",
   "metadata": {},
   "outputs": [
    {
     "data": {
      "text/latex": [
       "$\\displaystyle \\left[\\begin{matrix}\\left(- \\frac{2 b_{1} e^{- b_{1} y}}{\\left(\\zeta \\zeta_{1} - 1\\right) \\left(e^{b_{1} y} + e^{- b_{1} y}\\right)} - \\frac{i}{\\zeta}\\right) \\left(- \\frac{2 b_{1} e^{- b_{1} x}}{\\left(e^{b_{1} x} + e^{- b_{1} x}\\right) \\left(- 2 \\lambda^{2} \\zeta \\zeta_{1} + 2 \\lambda^{2} + 2 \\lambda \\zeta \\zeta_{1} \\sqrt{\\lambda^{2} - 1} - 2 \\lambda \\sqrt{\\lambda^{2} - 1} + 2 \\zeta \\zeta_{1} - 2\\right)} - \\frac{i}{- 2 \\lambda^{2} \\zeta + 2 \\lambda \\zeta \\sqrt{\\lambda^{2} - 1} + 2 \\zeta}\\right) + \\left(\\frac{2 i b_{1} q_{-} e^{- b_{1} y}}{\\left(\\zeta - \\frac{1}{\\zeta_{1}}\\right) \\left(e^{b_{1} y} + e^{- b_{1} y}\\right)} + \\frac{q_{-} \\zeta}{\\zeta - \\frac{1}{\\zeta_{1}}} - \\frac{q_{-} \\zeta_{1}}{\\zeta - \\frac{1}{\\zeta_{1}}}\\right) \\left(- \\frac{2 i b_{1} q_{-} e^{- b_{1} x}}{\\left(e^{b_{1} x} + e^{- b_{1} x}\\right) \\left(- 2 \\lambda^{2} \\zeta + \\frac{2 \\lambda^{2}}{\\zeta_{1}} + 2 \\lambda \\zeta \\sqrt{\\lambda^{2} - 1} - \\frac{2 \\lambda \\sqrt{\\lambda^{2} - 1}}{\\zeta_{1}} + 2 \\zeta - \\frac{2}{\\zeta_{1}}\\right)} - \\frac{q_{-} \\zeta}{- 2 \\lambda^{2} \\zeta + \\frac{2 \\lambda^{2}}{\\zeta_{1}} + 2 \\lambda \\zeta \\sqrt{\\lambda^{2} - 1} - \\frac{2 \\lambda \\sqrt{\\lambda^{2} - 1}}{\\zeta_{1}} + 2 \\zeta - \\frac{2}{\\zeta_{1}}} + \\frac{q_{-} \\zeta_{1}}{- 2 \\lambda^{2} \\zeta + \\frac{2 \\lambda^{2}}{\\zeta_{1}} + 2 \\lambda \\zeta \\sqrt{\\lambda^{2} - 1} - \\frac{2 \\lambda \\sqrt{\\lambda^{2} - 1}}{\\zeta_{1}} + 2 \\zeta - \\frac{2}{\\zeta_{1}}}\\right) & \\left(- \\frac{2 b_{1} e^{- b_{1} y}}{\\left(\\zeta \\zeta_{1} - 1\\right) \\left(e^{b_{1} y} + e^{- b_{1} y}\\right)} - \\frac{i}{\\zeta}\\right) \\left(\\frac{2 i b_{1} e^{- b_{1} x}}{\\left(e^{b_{1} x} + e^{- b_{1} x}\\right) \\left(- 2 \\lambda^{2} q_{+} \\zeta + \\frac{2 \\lambda^{2} q_{+}}{\\zeta_{1}} + 2 \\lambda q_{+} \\zeta \\sqrt{\\lambda^{2} - 1} - \\frac{2 \\lambda q_{+} \\sqrt{\\lambda^{2} - 1}}{\\zeta_{1}} + 2 q_{+} \\zeta - \\frac{2 q_{+}}{\\zeta_{1}}\\right)} - \\frac{1}{- 2 \\lambda^{2} q_{+} + 2 \\lambda q_{+} \\sqrt{\\lambda^{2} - 1} + 2 q_{+}}\\right) + \\left(- \\frac{2 b_{1} e^{- b_{1} x}}{\\zeta_{1} \\left(e^{b_{1} x} + e^{- b_{1} x}\\right) \\left(- 2 \\lambda^{2} \\zeta + \\frac{2 \\lambda^{2}}{\\zeta_{1}} + 2 \\lambda \\zeta \\sqrt{\\lambda^{2} - 1} - \\frac{2 \\lambda \\sqrt{\\lambda^{2} - 1}}{\\zeta_{1}} + 2 \\zeta - \\frac{2}{\\zeta_{1}}\\right)} + \\frac{i \\zeta}{\\zeta_{1}^{2} \\left(- 2 \\lambda^{2} \\zeta^{2} + \\frac{2 \\lambda^{2} \\zeta}{\\zeta_{1}} + 2 \\lambda \\zeta^{2} \\sqrt{\\lambda^{2} - 1} - \\frac{2 \\lambda \\zeta \\sqrt{\\lambda^{2} - 1}}{\\zeta_{1}} + 2 \\zeta^{2} - \\frac{2 \\zeta}{\\zeta_{1}}\\right)} - \\frac{i}{\\zeta_{1} \\left(- 2 \\lambda^{2} \\zeta^{2} + \\frac{2 \\lambda^{2} \\zeta}{\\zeta_{1}} + 2 \\lambda \\zeta^{2} \\sqrt{\\lambda^{2} - 1} - \\frac{2 \\lambda \\zeta \\sqrt{\\lambda^{2} - 1}}{\\zeta_{1}} + 2 \\zeta^{2} - \\frac{2 \\zeta}{\\zeta_{1}}\\right)}\\right) \\left(\\frac{2 i b_{1} q_{-} e^{- b_{1} y}}{\\left(\\zeta - \\frac{1}{\\zeta_{1}}\\right) \\left(e^{b_{1} y} + e^{- b_{1} y}\\right)} + \\frac{q_{-} \\zeta}{\\zeta - \\frac{1}{\\zeta_{1}}} - \\frac{q_{-} \\zeta_{1}}{\\zeta - \\frac{1}{\\zeta_{1}}}\\right)\\\\\\left(- \\frac{2 b_{1} e^{- b_{1} x}}{\\left(e^{b_{1} x} + e^{- b_{1} x}\\right) \\left(- 2 \\lambda^{2} \\zeta \\zeta_{1} + 2 \\lambda^{2} + 2 \\lambda \\zeta \\zeta_{1} \\sqrt{\\lambda^{2} - 1} - 2 \\lambda \\sqrt{\\lambda^{2} - 1} + 2 \\zeta \\zeta_{1} - 2\\right)} - \\frac{i}{- 2 \\lambda^{2} \\zeta + 2 \\lambda \\zeta \\sqrt{\\lambda^{2} - 1} + 2 \\zeta}\\right) \\left(- \\frac{2 i b_{1} e^{- b_{1} y}}{\\left(q_{+} \\zeta - \\frac{q_{+}}{\\zeta_{1}}\\right) \\left(e^{b_{1} y} + e^{- b_{1} y}\\right)} + \\frac{1}{q_{+}}\\right) + \\left(- \\frac{2 b_{1} e^{- b_{1} y}}{\\zeta_{1} \\left(\\zeta - \\frac{1}{\\zeta_{1}}\\right) \\left(e^{b_{1} y} + e^{- b_{1} y}\\right)} + \\frac{i \\zeta}{\\zeta_{1}^{2} \\left(\\zeta^{2} - \\frac{\\zeta}{\\zeta_{1}}\\right)} - \\frac{i}{\\zeta_{1} \\left(\\zeta^{2} - \\frac{\\zeta}{\\zeta_{1}}\\right)}\\right) \\left(- \\frac{2 i b_{1} q_{-} e^{- b_{1} x}}{\\left(e^{b_{1} x} + e^{- b_{1} x}\\right) \\left(- 2 \\lambda^{2} \\zeta + \\frac{2 \\lambda^{2}}{\\zeta_{1}} + 2 \\lambda \\zeta \\sqrt{\\lambda^{2} - 1} - \\frac{2 \\lambda \\sqrt{\\lambda^{2} - 1}}{\\zeta_{1}} + 2 \\zeta - \\frac{2}{\\zeta_{1}}\\right)} - \\frac{q_{-} \\zeta}{- 2 \\lambda^{2} \\zeta + \\frac{2 \\lambda^{2}}{\\zeta_{1}} + 2 \\lambda \\zeta \\sqrt{\\lambda^{2} - 1} - \\frac{2 \\lambda \\sqrt{\\lambda^{2} - 1}}{\\zeta_{1}} + 2 \\zeta - \\frac{2}{\\zeta_{1}}} + \\frac{q_{-} \\zeta_{1}}{- 2 \\lambda^{2} \\zeta + \\frac{2 \\lambda^{2}}{\\zeta_{1}} + 2 \\lambda \\zeta \\sqrt{\\lambda^{2} - 1} - \\frac{2 \\lambda \\sqrt{\\lambda^{2} - 1}}{\\zeta_{1}} + 2 \\zeta - \\frac{2}{\\zeta_{1}}}\\right) & \\left(- \\frac{2 i b_{1} e^{- b_{1} y}}{\\left(q_{+} \\zeta - \\frac{q_{+}}{\\zeta_{1}}\\right) \\left(e^{b_{1} y} + e^{- b_{1} y}\\right)} + \\frac{1}{q_{+}}\\right) \\left(\\frac{2 i b_{1} e^{- b_{1} x}}{\\left(e^{b_{1} x} + e^{- b_{1} x}\\right) \\left(- 2 \\lambda^{2} q_{+} \\zeta + \\frac{2 \\lambda^{2} q_{+}}{\\zeta_{1}} + 2 \\lambda q_{+} \\zeta \\sqrt{\\lambda^{2} - 1} - \\frac{2 \\lambda q_{+} \\sqrt{\\lambda^{2} - 1}}{\\zeta_{1}} + 2 q_{+} \\zeta - \\frac{2 q_{+}}{\\zeta_{1}}\\right)} - \\frac{1}{- 2 \\lambda^{2} q_{+} + 2 \\lambda q_{+} \\sqrt{\\lambda^{2} - 1} + 2 q_{+}}\\right) + \\left(- \\frac{2 b_{1} e^{- b_{1} y}}{\\zeta_{1} \\left(\\zeta - \\frac{1}{\\zeta_{1}}\\right) \\left(e^{b_{1} y} + e^{- b_{1} y}\\right)} + \\frac{i \\zeta}{\\zeta_{1}^{2} \\left(\\zeta^{2} - \\frac{\\zeta}{\\zeta_{1}}\\right)} - \\frac{i}{\\zeta_{1} \\left(\\zeta^{2} - \\frac{\\zeta}{\\zeta_{1}}\\right)}\\right) \\left(- \\frac{2 b_{1} e^{- b_{1} x}}{\\zeta_{1} \\left(e^{b_{1} x} + e^{- b_{1} x}\\right) \\left(- 2 \\lambda^{2} \\zeta + \\frac{2 \\lambda^{2}}{\\zeta_{1}} + 2 \\lambda \\zeta \\sqrt{\\lambda^{2} - 1} - \\frac{2 \\lambda \\sqrt{\\lambda^{2} - 1}}{\\zeta_{1}} + 2 \\zeta - \\frac{2}{\\zeta_{1}}\\right)} + \\frac{i \\zeta}{\\zeta_{1}^{2} \\left(- 2 \\lambda^{2} \\zeta^{2} + \\frac{2 \\lambda^{2} \\zeta}{\\zeta_{1}} + 2 \\lambda \\zeta^{2} \\sqrt{\\lambda^{2} - 1} - \\frac{2 \\lambda \\zeta \\sqrt{\\lambda^{2} - 1}}{\\zeta_{1}} + 2 \\zeta^{2} - \\frac{2 \\zeta}{\\zeta_{1}}\\right)} - \\frac{i}{\\zeta_{1} \\left(- 2 \\lambda^{2} \\zeta^{2} + \\frac{2 \\lambda^{2} \\zeta}{\\zeta_{1}} + 2 \\lambda \\zeta^{2} \\sqrt{\\lambda^{2} - 1} - \\frac{2 \\lambda \\zeta \\sqrt{\\lambda^{2} - 1}}{\\zeta_{1}} + 2 \\zeta^{2} - \\frac{2 \\zeta}{\\zeta_{1}}\\right)}\\right)\\end{matrix}\\right]$"
      ],
      "text/plain": [
       "Matrix([\n",
       "[                               (-2*b_1*exp(-b_1*y)/((zeta*zeta_1 - 1)*(exp(b_1*y) + exp(-b_1*y))) - I/zeta)*(-2*b_1*exp(-b_1*x)/((exp(b_1*x) + exp(-b_1*x))*(-2*\\lambda**2*zeta*zeta_1 + 2*\\lambda**2 + 2*\\lambda*zeta*zeta_1*sqrt(\\lambda**2 - 1) - 2*\\lambda*sqrt(\\lambda**2 - 1) + 2*zeta*zeta_1 - 2)) - I/(-2*\\lambda**2*zeta + 2*\\lambda*zeta*sqrt(\\lambda**2 - 1) + 2*zeta)) + (2*I*b_1*q_-*exp(-b_1*y)/((zeta - 1/zeta_1)*(exp(b_1*y) + exp(-b_1*y))) + q_-*zeta/(zeta - 1/zeta_1) - q_-*zeta_1/(zeta - 1/zeta_1))*(-2*I*b_1*q_-*exp(-b_1*x)/((exp(b_1*x) + exp(-b_1*x))*(-2*\\lambda**2*zeta + 2*\\lambda**2/zeta_1 + 2*\\lambda*zeta*sqrt(\\lambda**2 - 1) - 2*\\lambda*sqrt(\\lambda**2 - 1)/zeta_1 + 2*zeta - 2/zeta_1)) - q_-*zeta/(-2*\\lambda**2*zeta + 2*\\lambda**2/zeta_1 + 2*\\lambda*zeta*sqrt(\\lambda**2 - 1) - 2*\\lambda*sqrt(\\lambda**2 - 1)/zeta_1 + 2*zeta - 2/zeta_1) + q_-*zeta_1/(-2*\\lambda**2*zeta + 2*\\lambda**2/zeta_1 + 2*\\lambda*zeta*sqrt(\\lambda**2 - 1) - 2*\\lambda*sqrt(\\lambda**2 - 1)/zeta_1 + 2*zeta - 2/zeta_1)),                                (-2*b_1*exp(-b_1*y)/((zeta*zeta_1 - 1)*(exp(b_1*y) + exp(-b_1*y))) - I/zeta)*(2*I*b_1*exp(-b_1*x)/((exp(b_1*x) + exp(-b_1*x))*(-2*\\lambda**2*q_+*zeta + 2*\\lambda**2*q_+/zeta_1 + 2*\\lambda*q_+*zeta*sqrt(\\lambda**2 - 1) - 2*\\lambda*q_+*sqrt(\\lambda**2 - 1)/zeta_1 + 2*q_+*zeta - 2*q_+/zeta_1)) - 1/(-2*\\lambda**2*q_+ + 2*\\lambda*q_+*sqrt(\\lambda**2 - 1) + 2*q_+)) + (-2*b_1*exp(-b_1*x)/(zeta_1*(exp(b_1*x) + exp(-b_1*x))*(-2*\\lambda**2*zeta + 2*\\lambda**2/zeta_1 + 2*\\lambda*zeta*sqrt(\\lambda**2 - 1) - 2*\\lambda*sqrt(\\lambda**2 - 1)/zeta_1 + 2*zeta - 2/zeta_1)) + I*zeta/(zeta_1**2*(-2*\\lambda**2*zeta**2 + 2*\\lambda**2*zeta/zeta_1 + 2*\\lambda*zeta**2*sqrt(\\lambda**2 - 1) - 2*\\lambda*zeta*sqrt(\\lambda**2 - 1)/zeta_1 + 2*zeta**2 - 2*zeta/zeta_1)) - I/(zeta_1*(-2*\\lambda**2*zeta**2 + 2*\\lambda**2*zeta/zeta_1 + 2*\\lambda*zeta**2*sqrt(\\lambda**2 - 1) - 2*\\lambda*zeta*sqrt(\\lambda**2 - 1)/zeta_1 + 2*zeta**2 - 2*zeta/zeta_1)))*(2*I*b_1*q_-*exp(-b_1*y)/((zeta - 1/zeta_1)*(exp(b_1*y) + exp(-b_1*y))) + q_-*zeta/(zeta - 1/zeta_1) - q_-*zeta_1/(zeta - 1/zeta_1))],\n",
       "[(-2*b_1*exp(-b_1*x)/((exp(b_1*x) + exp(-b_1*x))*(-2*\\lambda**2*zeta*zeta_1 + 2*\\lambda**2 + 2*\\lambda*zeta*zeta_1*sqrt(\\lambda**2 - 1) - 2*\\lambda*sqrt(\\lambda**2 - 1) + 2*zeta*zeta_1 - 2)) - I/(-2*\\lambda**2*zeta + 2*\\lambda*zeta*sqrt(\\lambda**2 - 1) + 2*zeta))*(-2*I*b_1*exp(-b_1*y)/((q_+*zeta - q_+/zeta_1)*(exp(b_1*y) + exp(-b_1*y))) + 1/q_+) + (-2*b_1*exp(-b_1*y)/(zeta_1*(zeta - 1/zeta_1)*(exp(b_1*y) + exp(-b_1*y))) + I*zeta/(zeta_1**2*(zeta**2 - zeta/zeta_1)) - I/(zeta_1*(zeta**2 - zeta/zeta_1)))*(-2*I*b_1*q_-*exp(-b_1*x)/((exp(b_1*x) + exp(-b_1*x))*(-2*\\lambda**2*zeta + 2*\\lambda**2/zeta_1 + 2*\\lambda*zeta*sqrt(\\lambda**2 - 1) - 2*\\lambda*sqrt(\\lambda**2 - 1)/zeta_1 + 2*zeta - 2/zeta_1)) - q_-*zeta/(-2*\\lambda**2*zeta + 2*\\lambda**2/zeta_1 + 2*\\lambda*zeta*sqrt(\\lambda**2 - 1) - 2*\\lambda*sqrt(\\lambda**2 - 1)/zeta_1 + 2*zeta - 2/zeta_1) + q_-*zeta_1/(-2*\\lambda**2*zeta + 2*\\lambda**2/zeta_1 + 2*\\lambda*zeta*sqrt(\\lambda**2 - 1) - 2*\\lambda*sqrt(\\lambda**2 - 1)/zeta_1 + 2*zeta - 2/zeta_1)), (-2*I*b_1*exp(-b_1*y)/((q_+*zeta - q_+/zeta_1)*(exp(b_1*y) + exp(-b_1*y))) + 1/q_+)*(2*I*b_1*exp(-b_1*x)/((exp(b_1*x) + exp(-b_1*x))*(-2*\\lambda**2*q_+*zeta + 2*\\lambda**2*q_+/zeta_1 + 2*\\lambda*q_+*zeta*sqrt(\\lambda**2 - 1) - 2*\\lambda*q_+*sqrt(\\lambda**2 - 1)/zeta_1 + 2*q_+*zeta - 2*q_+/zeta_1)) - 1/(-2*\\lambda**2*q_+ + 2*\\lambda*q_+*sqrt(\\lambda**2 - 1) + 2*q_+)) + (-2*b_1*exp(-b_1*y)/(zeta_1*(zeta - 1/zeta_1)*(exp(b_1*y) + exp(-b_1*y))) + I*zeta/(zeta_1**2*(zeta**2 - zeta/zeta_1)) - I/(zeta_1*(zeta**2 - zeta/zeta_1)))*(-2*b_1*exp(-b_1*x)/(zeta_1*(exp(b_1*x) + exp(-b_1*x))*(-2*\\lambda**2*zeta + 2*\\lambda**2/zeta_1 + 2*\\lambda*zeta*sqrt(\\lambda**2 - 1) - 2*\\lambda*sqrt(\\lambda**2 - 1)/zeta_1 + 2*zeta - 2/zeta_1)) + I*zeta/(zeta_1**2*(-2*\\lambda**2*zeta**2 + 2*\\lambda**2*zeta/zeta_1 + 2*\\lambda*zeta**2*sqrt(\\lambda**2 - 1) - 2*\\lambda*zeta*sqrt(\\lambda**2 - 1)/zeta_1 + 2*zeta**2 - 2*zeta/zeta_1)) - I/(zeta_1*(-2*\\lambda**2*zeta**2 + 2*\\lambda**2*zeta/zeta_1 + 2*\\lambda*zeta**2*sqrt(\\lambda**2 - 1) - 2*\\lambda*zeta*sqrt(\\lambda**2 - 1)/zeta_1 + 2*zeta**2 - 2*zeta/zeta_1)))]])"
      ]
     },
     "metadata": {},
     "output_type": "display_data"
    }
   ],
   "source": [
    "myprod = mjost.subs(x, y) * mjost_inv\n",
    "display(myprod)"
   ]
  },
  {
   "cell_type": "code",
   "execution_count": 574,
   "id": "f0122c18",
   "metadata": {},
   "outputs": [],
   "source": [
    "myprod2 = subs(myprod, subs_list)"
   ]
  },
  {
   "cell_type": "code",
   "execution_count": 575,
   "id": "9838ae15",
   "metadata": {},
   "outputs": [
    {
     "data": {
      "text/latex": [
       "$\\displaystyle \\left[\\begin{matrix}\\left(- \\frac{2 \\sqrt{1 - a_{1}^{2}} e^{- y \\sqrt{1 - a_{1}^{2}}}}{\\left(\\zeta \\left(a_{1} + i \\sqrt{1 - a_{1}^{2}}\\right) - 1\\right) \\left(e^{y \\sqrt{1 - a_{1}^{2}}} + e^{- y \\sqrt{1 - a_{1}^{2}}}\\right)} - \\frac{i}{\\zeta}\\right) \\left(- \\frac{2 \\sqrt{1 - a_{1}^{2}} e^{- x \\sqrt{1 - a_{1}^{2}}}}{\\left(e^{x \\sqrt{1 - a_{1}^{2}}} + e^{- x \\sqrt{1 - a_{1}^{2}}}\\right) \\left(- 2 \\lambda^{2} \\zeta \\left(a_{1} + i \\sqrt{1 - a_{1}^{2}}\\right) + 2 \\lambda^{2} + 2 \\lambda \\zeta \\sqrt{\\lambda^{2} - 1} \\left(a_{1} + i \\sqrt{1 - a_{1}^{2}}\\right) - 2 \\lambda \\sqrt{\\lambda^{2} - 1} + 2 \\zeta \\left(a_{1} + i \\sqrt{1 - a_{1}^{2}}\\right) - 2\\right)} - \\frac{i}{- 2 \\lambda^{2} \\zeta + 2 \\lambda \\zeta \\sqrt{\\lambda^{2} - 1} + 2 \\zeta}\\right) + \\left(\\frac{q_{-} \\zeta}{\\zeta - \\frac{1}{a_{1} + i \\sqrt{1 - a_{1}^{2}}}} + \\frac{2 i q_{-} \\sqrt{1 - a_{1}^{2}} e^{- y \\sqrt{1 - a_{1}^{2}}}}{\\left(\\zeta - \\frac{1}{a_{1} + i \\sqrt{1 - a_{1}^{2}}}\\right) \\left(e^{y \\sqrt{1 - a_{1}^{2}}} + e^{- y \\sqrt{1 - a_{1}^{2}}}\\right)} - \\frac{q_{-} \\left(a_{1} + i \\sqrt{1 - a_{1}^{2}}\\right)}{\\zeta - \\frac{1}{a_{1} + i \\sqrt{1 - a_{1}^{2}}}}\\right) \\left(- \\frac{q_{-} \\zeta}{- 2 \\lambda^{2} \\zeta + \\frac{2 \\lambda^{2}}{a_{1} + i \\sqrt{1 - a_{1}^{2}}} + 2 \\lambda \\zeta \\sqrt{\\lambda^{2} - 1} - \\frac{2 \\lambda \\sqrt{\\lambda^{2} - 1}}{a_{1} + i \\sqrt{1 - a_{1}^{2}}} + 2 \\zeta - \\frac{2}{a_{1} + i \\sqrt{1 - a_{1}^{2}}}} - \\frac{2 i q_{-} \\sqrt{1 - a_{1}^{2}} e^{- x \\sqrt{1 - a_{1}^{2}}}}{\\left(e^{x \\sqrt{1 - a_{1}^{2}}} + e^{- x \\sqrt{1 - a_{1}^{2}}}\\right) \\left(- 2 \\lambda^{2} \\zeta + \\frac{2 \\lambda^{2}}{a_{1} + i \\sqrt{1 - a_{1}^{2}}} + 2 \\lambda \\zeta \\sqrt{\\lambda^{2} - 1} - \\frac{2 \\lambda \\sqrt{\\lambda^{2} - 1}}{a_{1} + i \\sqrt{1 - a_{1}^{2}}} + 2 \\zeta - \\frac{2}{a_{1} + i \\sqrt{1 - a_{1}^{2}}}\\right)} + \\frac{q_{-} \\left(a_{1} + i \\sqrt{1 - a_{1}^{2}}\\right)}{- 2 \\lambda^{2} \\zeta + \\frac{2 \\lambda^{2}}{a_{1} + i \\sqrt{1 - a_{1}^{2}}} + 2 \\lambda \\zeta \\sqrt{\\lambda^{2} - 1} - \\frac{2 \\lambda \\sqrt{\\lambda^{2} - 1}}{a_{1} + i \\sqrt{1 - a_{1}^{2}}} + 2 \\zeta - \\frac{2}{a_{1} + i \\sqrt{1 - a_{1}^{2}}}}\\right) & \\left(- \\frac{2 \\sqrt{1 - a_{1}^{2}} e^{- y \\sqrt{1 - a_{1}^{2}}}}{\\left(\\zeta \\left(a_{1} + i \\sqrt{1 - a_{1}^{2}}\\right) - 1\\right) \\left(e^{y \\sqrt{1 - a_{1}^{2}}} + e^{- y \\sqrt{1 - a_{1}^{2}}}\\right)} - \\frac{i}{\\zeta}\\right) \\left(\\frac{2 i \\sqrt{1 - a_{1}^{2}} e^{- x \\sqrt{1 - a_{1}^{2}}}}{\\left(e^{x \\sqrt{1 - a_{1}^{2}}} + e^{- x \\sqrt{1 - a_{1}^{2}}}\\right) \\left(- 2 \\lambda^{2} q_{-} \\zeta \\left(a_{1} + i \\sqrt{1 - a_{1}^{2}}\\right)^{2} + 2 \\lambda^{2} q_{-} \\left(a_{1} + i \\sqrt{1 - a_{1}^{2}}\\right) + 2 \\lambda q_{-} \\zeta \\sqrt{\\lambda^{2} - 1} \\left(a_{1} + i \\sqrt{1 - a_{1}^{2}}\\right)^{2} - 2 \\lambda q_{-} \\sqrt{\\lambda^{2} - 1} \\left(a_{1} + i \\sqrt{1 - a_{1}^{2}}\\right) + 2 q_{-} \\zeta \\left(a_{1} + i \\sqrt{1 - a_{1}^{2}}\\right)^{2} - 2 q_{-} \\left(a_{1} + i \\sqrt{1 - a_{1}^{2}}\\right)\\right)} - \\frac{1}{- 2 \\lambda^{2} q_{-} \\left(a_{1} + i \\sqrt{1 - a_{1}^{2}}\\right)^{2} + 2 \\lambda q_{-} \\sqrt{\\lambda^{2} - 1} \\left(a_{1} + i \\sqrt{1 - a_{1}^{2}}\\right)^{2} + 2 q_{-} \\left(a_{1} + i \\sqrt{1 - a_{1}^{2}}\\right)^{2}}\\right) + \\left(\\frac{q_{-} \\zeta}{\\zeta - \\frac{1}{a_{1} + i \\sqrt{1 - a_{1}^{2}}}} + \\frac{2 i q_{-} \\sqrt{1 - a_{1}^{2}} e^{- y \\sqrt{1 - a_{1}^{2}}}}{\\left(\\zeta - \\frac{1}{a_{1} + i \\sqrt{1 - a_{1}^{2}}}\\right) \\left(e^{y \\sqrt{1 - a_{1}^{2}}} + e^{- y \\sqrt{1 - a_{1}^{2}}}\\right)} - \\frac{q_{-} \\left(a_{1} + i \\sqrt{1 - a_{1}^{2}}\\right)}{\\zeta - \\frac{1}{a_{1} + i \\sqrt{1 - a_{1}^{2}}}}\\right) \\left(\\frac{i \\zeta}{\\left(a_{1} + i \\sqrt{1 - a_{1}^{2}}\\right)^{2} \\left(- 2 \\lambda^{2} \\zeta^{2} + \\frac{2 \\lambda^{2} \\zeta}{a_{1} + i \\sqrt{1 - a_{1}^{2}}} + 2 \\lambda \\zeta^{2} \\sqrt{\\lambda^{2} - 1} - \\frac{2 \\lambda \\zeta \\sqrt{\\lambda^{2} - 1}}{a_{1} + i \\sqrt{1 - a_{1}^{2}}} + 2 \\zeta^{2} - \\frac{2 \\zeta}{a_{1} + i \\sqrt{1 - a_{1}^{2}}}\\right)} - \\frac{2 \\sqrt{1 - a_{1}^{2}} e^{- x \\sqrt{1 - a_{1}^{2}}}}{\\left(a_{1} + i \\sqrt{1 - a_{1}^{2}}\\right) \\left(e^{x \\sqrt{1 - a_{1}^{2}}} + e^{- x \\sqrt{1 - a_{1}^{2}}}\\right) \\left(- 2 \\lambda^{2} \\zeta + \\frac{2 \\lambda^{2}}{a_{1} + i \\sqrt{1 - a_{1}^{2}}} + 2 \\lambda \\zeta \\sqrt{\\lambda^{2} - 1} - \\frac{2 \\lambda \\sqrt{\\lambda^{2} - 1}}{a_{1} + i \\sqrt{1 - a_{1}^{2}}} + 2 \\zeta - \\frac{2}{a_{1} + i \\sqrt{1 - a_{1}^{2}}}\\right)} - \\frac{i}{\\left(a_{1} + i \\sqrt{1 - a_{1}^{2}}\\right) \\left(- 2 \\lambda^{2} \\zeta^{2} + \\frac{2 \\lambda^{2} \\zeta}{a_{1} + i \\sqrt{1 - a_{1}^{2}}} + 2 \\lambda \\zeta^{2} \\sqrt{\\lambda^{2} - 1} - \\frac{2 \\lambda \\zeta \\sqrt{\\lambda^{2} - 1}}{a_{1} + i \\sqrt{1 - a_{1}^{2}}} + 2 \\zeta^{2} - \\frac{2 \\zeta}{a_{1} + i \\sqrt{1 - a_{1}^{2}}}\\right)}\\right)\\\\\\left(- \\frac{2 \\sqrt{1 - a_{1}^{2}} e^{- x \\sqrt{1 - a_{1}^{2}}}}{\\left(e^{x \\sqrt{1 - a_{1}^{2}}} + e^{- x \\sqrt{1 - a_{1}^{2}}}\\right) \\left(- 2 \\lambda^{2} \\zeta \\left(a_{1} + i \\sqrt{1 - a_{1}^{2}}\\right) + 2 \\lambda^{2} + 2 \\lambda \\zeta \\sqrt{\\lambda^{2} - 1} \\left(a_{1} + i \\sqrt{1 - a_{1}^{2}}\\right) - 2 \\lambda \\sqrt{\\lambda^{2} - 1} + 2 \\zeta \\left(a_{1} + i \\sqrt{1 - a_{1}^{2}}\\right) - 2\\right)} - \\frac{i}{- 2 \\lambda^{2} \\zeta + 2 \\lambda \\zeta \\sqrt{\\lambda^{2} - 1} + 2 \\zeta}\\right) \\left(- \\frac{2 i \\sqrt{1 - a_{1}^{2}} e^{- y \\sqrt{1 - a_{1}^{2}}}}{\\left(q_{-} \\zeta \\left(a_{1} + i \\sqrt{1 - a_{1}^{2}}\\right)^{2} - q_{-} \\left(a_{1} + i \\sqrt{1 - a_{1}^{2}}\\right)\\right) \\left(e^{y \\sqrt{1 - a_{1}^{2}}} + e^{- y \\sqrt{1 - a_{1}^{2}}}\\right)} + \\frac{1}{q_{-} \\left(a_{1} + i \\sqrt{1 - a_{1}^{2}}\\right)^{2}}\\right) + \\left(- \\frac{q_{-} \\zeta}{- 2 \\lambda^{2} \\zeta + \\frac{2 \\lambda^{2}}{a_{1} + i \\sqrt{1 - a_{1}^{2}}} + 2 \\lambda \\zeta \\sqrt{\\lambda^{2} - 1} - \\frac{2 \\lambda \\sqrt{\\lambda^{2} - 1}}{a_{1} + i \\sqrt{1 - a_{1}^{2}}} + 2 \\zeta - \\frac{2}{a_{1} + i \\sqrt{1 - a_{1}^{2}}}} - \\frac{2 i q_{-} \\sqrt{1 - a_{1}^{2}} e^{- x \\sqrt{1 - a_{1}^{2}}}}{\\left(e^{x \\sqrt{1 - a_{1}^{2}}} + e^{- x \\sqrt{1 - a_{1}^{2}}}\\right) \\left(- 2 \\lambda^{2} \\zeta + \\frac{2 \\lambda^{2}}{a_{1} + i \\sqrt{1 - a_{1}^{2}}} + 2 \\lambda \\zeta \\sqrt{\\lambda^{2} - 1} - \\frac{2 \\lambda \\sqrt{\\lambda^{2} - 1}}{a_{1} + i \\sqrt{1 - a_{1}^{2}}} + 2 \\zeta - \\frac{2}{a_{1} + i \\sqrt{1 - a_{1}^{2}}}\\right)} + \\frac{q_{-} \\left(a_{1} + i \\sqrt{1 - a_{1}^{2}}\\right)}{- 2 \\lambda^{2} \\zeta + \\frac{2 \\lambda^{2}}{a_{1} + i \\sqrt{1 - a_{1}^{2}}} + 2 \\lambda \\zeta \\sqrt{\\lambda^{2} - 1} - \\frac{2 \\lambda \\sqrt{\\lambda^{2} - 1}}{a_{1} + i \\sqrt{1 - a_{1}^{2}}} + 2 \\zeta - \\frac{2}{a_{1} + i \\sqrt{1 - a_{1}^{2}}}}\\right) \\left(\\frac{i \\zeta}{\\left(a_{1} + i \\sqrt{1 - a_{1}^{2}}\\right)^{2} \\left(\\zeta^{2} - \\frac{\\zeta}{a_{1} + i \\sqrt{1 - a_{1}^{2}}}\\right)} - \\frac{2 \\sqrt{1 - a_{1}^{2}} e^{- y \\sqrt{1 - a_{1}^{2}}}}{\\left(a_{1} + i \\sqrt{1 - a_{1}^{2}}\\right) \\left(\\zeta - \\frac{1}{a_{1} + i \\sqrt{1 - a_{1}^{2}}}\\right) \\left(e^{y \\sqrt{1 - a_{1}^{2}}} + e^{- y \\sqrt{1 - a_{1}^{2}}}\\right)} - \\frac{i}{\\left(a_{1} + i \\sqrt{1 - a_{1}^{2}}\\right) \\left(\\zeta^{2} - \\frac{\\zeta}{a_{1} + i \\sqrt{1 - a_{1}^{2}}}\\right)}\\right) & \\left(- \\frac{2 i \\sqrt{1 - a_{1}^{2}} e^{- y \\sqrt{1 - a_{1}^{2}}}}{\\left(q_{-} \\zeta \\left(a_{1} + i \\sqrt{1 - a_{1}^{2}}\\right)^{2} - q_{-} \\left(a_{1} + i \\sqrt{1 - a_{1}^{2}}\\right)\\right) \\left(e^{y \\sqrt{1 - a_{1}^{2}}} + e^{- y \\sqrt{1 - a_{1}^{2}}}\\right)} + \\frac{1}{q_{-} \\left(a_{1} + i \\sqrt{1 - a_{1}^{2}}\\right)^{2}}\\right) \\left(\\frac{2 i \\sqrt{1 - a_{1}^{2}} e^{- x \\sqrt{1 - a_{1}^{2}}}}{\\left(e^{x \\sqrt{1 - a_{1}^{2}}} + e^{- x \\sqrt{1 - a_{1}^{2}}}\\right) \\left(- 2 \\lambda^{2} q_{-} \\zeta \\left(a_{1} + i \\sqrt{1 - a_{1}^{2}}\\right)^{2} + 2 \\lambda^{2} q_{-} \\left(a_{1} + i \\sqrt{1 - a_{1}^{2}}\\right) + 2 \\lambda q_{-} \\zeta \\sqrt{\\lambda^{2} - 1} \\left(a_{1} + i \\sqrt{1 - a_{1}^{2}}\\right)^{2} - 2 \\lambda q_{-} \\sqrt{\\lambda^{2} - 1} \\left(a_{1} + i \\sqrt{1 - a_{1}^{2}}\\right) + 2 q_{-} \\zeta \\left(a_{1} + i \\sqrt{1 - a_{1}^{2}}\\right)^{2} - 2 q_{-} \\left(a_{1} + i \\sqrt{1 - a_{1}^{2}}\\right)\\right)} - \\frac{1}{- 2 \\lambda^{2} q_{-} \\left(a_{1} + i \\sqrt{1 - a_{1}^{2}}\\right)^{2} + 2 \\lambda q_{-} \\sqrt{\\lambda^{2} - 1} \\left(a_{1} + i \\sqrt{1 - a_{1}^{2}}\\right)^{2} + 2 q_{-} \\left(a_{1} + i \\sqrt{1 - a_{1}^{2}}\\right)^{2}}\\right) + \\left(\\frac{i \\zeta}{\\left(a_{1} + i \\sqrt{1 - a_{1}^{2}}\\right)^{2} \\left(\\zeta^{2} - \\frac{\\zeta}{a_{1} + i \\sqrt{1 - a_{1}^{2}}}\\right)} - \\frac{2 \\sqrt{1 - a_{1}^{2}} e^{- y \\sqrt{1 - a_{1}^{2}}}}{\\left(a_{1} + i \\sqrt{1 - a_{1}^{2}}\\right) \\left(\\zeta - \\frac{1}{a_{1} + i \\sqrt{1 - a_{1}^{2}}}\\right) \\left(e^{y \\sqrt{1 - a_{1}^{2}}} + e^{- y \\sqrt{1 - a_{1}^{2}}}\\right)} - \\frac{i}{\\left(a_{1} + i \\sqrt{1 - a_{1}^{2}}\\right) \\left(\\zeta^{2} - \\frac{\\zeta}{a_{1} + i \\sqrt{1 - a_{1}^{2}}}\\right)}\\right) \\left(\\frac{i \\zeta}{\\left(a_{1} + i \\sqrt{1 - a_{1}^{2}}\\right)^{2} \\left(- 2 \\lambda^{2} \\zeta^{2} + \\frac{2 \\lambda^{2} \\zeta}{a_{1} + i \\sqrt{1 - a_{1}^{2}}} + 2 \\lambda \\zeta^{2} \\sqrt{\\lambda^{2} - 1} - \\frac{2 \\lambda \\zeta \\sqrt{\\lambda^{2} - 1}}{a_{1} + i \\sqrt{1 - a_{1}^{2}}} + 2 \\zeta^{2} - \\frac{2 \\zeta}{a_{1} + i \\sqrt{1 - a_{1}^{2}}}\\right)} - \\frac{2 \\sqrt{1 - a_{1}^{2}} e^{- x \\sqrt{1 - a_{1}^{2}}}}{\\left(a_{1} + i \\sqrt{1 - a_{1}^{2}}\\right) \\left(e^{x \\sqrt{1 - a_{1}^{2}}} + e^{- x \\sqrt{1 - a_{1}^{2}}}\\right) \\left(- 2 \\lambda^{2} \\zeta + \\frac{2 \\lambda^{2}}{a_{1} + i \\sqrt{1 - a_{1}^{2}}} + 2 \\lambda \\zeta \\sqrt{\\lambda^{2} - 1} - \\frac{2 \\lambda \\sqrt{\\lambda^{2} - 1}}{a_{1} + i \\sqrt{1 - a_{1}^{2}}} + 2 \\zeta - \\frac{2}{a_{1} + i \\sqrt{1 - a_{1}^{2}}}\\right)} - \\frac{i}{\\left(a_{1} + i \\sqrt{1 - a_{1}^{2}}\\right) \\left(- 2 \\lambda^{2} \\zeta^{2} + \\frac{2 \\lambda^{2} \\zeta}{a_{1} + i \\sqrt{1 - a_{1}^{2}}} + 2 \\lambda \\zeta^{2} \\sqrt{\\lambda^{2} - 1} - \\frac{2 \\lambda \\zeta \\sqrt{\\lambda^{2} - 1}}{a_{1} + i \\sqrt{1 - a_{1}^{2}}} + 2 \\zeta^{2} - \\frac{2 \\zeta}{a_{1} + i \\sqrt{1 - a_{1}^{2}}}\\right)}\\right)\\end{matrix}\\right]$"
      ],
      "text/plain": [
       "Matrix([\n",
       "[                                                                                                                                    (-2*sqrt(1 - a_1**2)*exp(-y*sqrt(1 - a_1**2))/((zeta*(a_1 + I*sqrt(1 - a_1**2)) - 1)*(exp(y*sqrt(1 - a_1**2)) + exp(-y*sqrt(1 - a_1**2)))) - I/zeta)*(-2*sqrt(1 - a_1**2)*exp(-x*sqrt(1 - a_1**2))/((exp(x*sqrt(1 - a_1**2)) + exp(-x*sqrt(1 - a_1**2)))*(-2*\\lambda**2*zeta*(a_1 + I*sqrt(1 - a_1**2)) + 2*\\lambda**2 + 2*\\lambda*zeta*sqrt(\\lambda**2 - 1)*(a_1 + I*sqrt(1 - a_1**2)) - 2*\\lambda*sqrt(\\lambda**2 - 1) + 2*zeta*(a_1 + I*sqrt(1 - a_1**2)) - 2)) - I/(-2*\\lambda**2*zeta + 2*\\lambda*zeta*sqrt(\\lambda**2 - 1) + 2*zeta)) + (q_-*zeta/(zeta - 1/(a_1 + I*sqrt(1 - a_1**2))) + 2*I*q_-*sqrt(1 - a_1**2)*exp(-y*sqrt(1 - a_1**2))/((zeta - 1/(a_1 + I*sqrt(1 - a_1**2)))*(exp(y*sqrt(1 - a_1**2)) + exp(-y*sqrt(1 - a_1**2)))) - q_-*(a_1 + I*sqrt(1 - a_1**2))/(zeta - 1/(a_1 + I*sqrt(1 - a_1**2))))*(-q_-*zeta/(-2*\\lambda**2*zeta + 2*\\lambda**2/(a_1 + I*sqrt(1 - a_1**2)) + 2*\\lambda*zeta*sqrt(\\lambda**2 - 1) - 2*\\lambda*sqrt(\\lambda**2 - 1)/(a_1 + I*sqrt(1 - a_1**2)) + 2*zeta - 2/(a_1 + I*sqrt(1 - a_1**2))) - 2*I*q_-*sqrt(1 - a_1**2)*exp(-x*sqrt(1 - a_1**2))/((exp(x*sqrt(1 - a_1**2)) + exp(-x*sqrt(1 - a_1**2)))*(-2*\\lambda**2*zeta + 2*\\lambda**2/(a_1 + I*sqrt(1 - a_1**2)) + 2*\\lambda*zeta*sqrt(\\lambda**2 - 1) - 2*\\lambda*sqrt(\\lambda**2 - 1)/(a_1 + I*sqrt(1 - a_1**2)) + 2*zeta - 2/(a_1 + I*sqrt(1 - a_1**2)))) + q_-*(a_1 + I*sqrt(1 - a_1**2))/(-2*\\lambda**2*zeta + 2*\\lambda**2/(a_1 + I*sqrt(1 - a_1**2)) + 2*\\lambda*zeta*sqrt(\\lambda**2 - 1) - 2*\\lambda*sqrt(\\lambda**2 - 1)/(a_1 + I*sqrt(1 - a_1**2)) + 2*zeta - 2/(a_1 + I*sqrt(1 - a_1**2)))),                                                                                                                                     (-2*sqrt(1 - a_1**2)*exp(-y*sqrt(1 - a_1**2))/((zeta*(a_1 + I*sqrt(1 - a_1**2)) - 1)*(exp(y*sqrt(1 - a_1**2)) + exp(-y*sqrt(1 - a_1**2)))) - I/zeta)*(2*I*sqrt(1 - a_1**2)*exp(-x*sqrt(1 - a_1**2))/((exp(x*sqrt(1 - a_1**2)) + exp(-x*sqrt(1 - a_1**2)))*(-2*\\lambda**2*q_-*zeta*(a_1 + I*sqrt(1 - a_1**2))**2 + 2*\\lambda**2*q_-*(a_1 + I*sqrt(1 - a_1**2)) + 2*\\lambda*q_-*zeta*sqrt(\\lambda**2 - 1)*(a_1 + I*sqrt(1 - a_1**2))**2 - 2*\\lambda*q_-*sqrt(\\lambda**2 - 1)*(a_1 + I*sqrt(1 - a_1**2)) + 2*q_-*zeta*(a_1 + I*sqrt(1 - a_1**2))**2 - 2*q_-*(a_1 + I*sqrt(1 - a_1**2)))) - 1/(-2*\\lambda**2*q_-*(a_1 + I*sqrt(1 - a_1**2))**2 + 2*\\lambda*q_-*sqrt(\\lambda**2 - 1)*(a_1 + I*sqrt(1 - a_1**2))**2 + 2*q_-*(a_1 + I*sqrt(1 - a_1**2))**2)) + (q_-*zeta/(zeta - 1/(a_1 + I*sqrt(1 - a_1**2))) + 2*I*q_-*sqrt(1 - a_1**2)*exp(-y*sqrt(1 - a_1**2))/((zeta - 1/(a_1 + I*sqrt(1 - a_1**2)))*(exp(y*sqrt(1 - a_1**2)) + exp(-y*sqrt(1 - a_1**2)))) - q_-*(a_1 + I*sqrt(1 - a_1**2))/(zeta - 1/(a_1 + I*sqrt(1 - a_1**2))))*(I*zeta/((a_1 + I*sqrt(1 - a_1**2))**2*(-2*\\lambda**2*zeta**2 + 2*\\lambda**2*zeta/(a_1 + I*sqrt(1 - a_1**2)) + 2*\\lambda*zeta**2*sqrt(\\lambda**2 - 1) - 2*\\lambda*zeta*sqrt(\\lambda**2 - 1)/(a_1 + I*sqrt(1 - a_1**2)) + 2*zeta**2 - 2*zeta/(a_1 + I*sqrt(1 - a_1**2)))) - 2*sqrt(1 - a_1**2)*exp(-x*sqrt(1 - a_1**2))/((a_1 + I*sqrt(1 - a_1**2))*(exp(x*sqrt(1 - a_1**2)) + exp(-x*sqrt(1 - a_1**2)))*(-2*\\lambda**2*zeta + 2*\\lambda**2/(a_1 + I*sqrt(1 - a_1**2)) + 2*\\lambda*zeta*sqrt(\\lambda**2 - 1) - 2*\\lambda*sqrt(\\lambda**2 - 1)/(a_1 + I*sqrt(1 - a_1**2)) + 2*zeta - 2/(a_1 + I*sqrt(1 - a_1**2)))) - I/((a_1 + I*sqrt(1 - a_1**2))*(-2*\\lambda**2*zeta**2 + 2*\\lambda**2*zeta/(a_1 + I*sqrt(1 - a_1**2)) + 2*\\lambda*zeta**2*sqrt(\\lambda**2 - 1) - 2*\\lambda*zeta*sqrt(\\lambda**2 - 1)/(a_1 + I*sqrt(1 - a_1**2)) + 2*zeta**2 - 2*zeta/(a_1 + I*sqrt(1 - a_1**2)))))],\n",
       "[(-2*sqrt(1 - a_1**2)*exp(-x*sqrt(1 - a_1**2))/((exp(x*sqrt(1 - a_1**2)) + exp(-x*sqrt(1 - a_1**2)))*(-2*\\lambda**2*zeta*(a_1 + I*sqrt(1 - a_1**2)) + 2*\\lambda**2 + 2*\\lambda*zeta*sqrt(\\lambda**2 - 1)*(a_1 + I*sqrt(1 - a_1**2)) - 2*\\lambda*sqrt(\\lambda**2 - 1) + 2*zeta*(a_1 + I*sqrt(1 - a_1**2)) - 2)) - I/(-2*\\lambda**2*zeta + 2*\\lambda*zeta*sqrt(\\lambda**2 - 1) + 2*zeta))*(-2*I*sqrt(1 - a_1**2)*exp(-y*sqrt(1 - a_1**2))/((q_-*zeta*(a_1 + I*sqrt(1 - a_1**2))**2 - q_-*(a_1 + I*sqrt(1 - a_1**2)))*(exp(y*sqrt(1 - a_1**2)) + exp(-y*sqrt(1 - a_1**2)))) + 1/(q_-*(a_1 + I*sqrt(1 - a_1**2))**2)) + (-q_-*zeta/(-2*\\lambda**2*zeta + 2*\\lambda**2/(a_1 + I*sqrt(1 - a_1**2)) + 2*\\lambda*zeta*sqrt(\\lambda**2 - 1) - 2*\\lambda*sqrt(\\lambda**2 - 1)/(a_1 + I*sqrt(1 - a_1**2)) + 2*zeta - 2/(a_1 + I*sqrt(1 - a_1**2))) - 2*I*q_-*sqrt(1 - a_1**2)*exp(-x*sqrt(1 - a_1**2))/((exp(x*sqrt(1 - a_1**2)) + exp(-x*sqrt(1 - a_1**2)))*(-2*\\lambda**2*zeta + 2*\\lambda**2/(a_1 + I*sqrt(1 - a_1**2)) + 2*\\lambda*zeta*sqrt(\\lambda**2 - 1) - 2*\\lambda*sqrt(\\lambda**2 - 1)/(a_1 + I*sqrt(1 - a_1**2)) + 2*zeta - 2/(a_1 + I*sqrt(1 - a_1**2)))) + q_-*(a_1 + I*sqrt(1 - a_1**2))/(-2*\\lambda**2*zeta + 2*\\lambda**2/(a_1 + I*sqrt(1 - a_1**2)) + 2*\\lambda*zeta*sqrt(\\lambda**2 - 1) - 2*\\lambda*sqrt(\\lambda**2 - 1)/(a_1 + I*sqrt(1 - a_1**2)) + 2*zeta - 2/(a_1 + I*sqrt(1 - a_1**2))))*(I*zeta/((a_1 + I*sqrt(1 - a_1**2))**2*(zeta**2 - zeta/(a_1 + I*sqrt(1 - a_1**2)))) - 2*sqrt(1 - a_1**2)*exp(-y*sqrt(1 - a_1**2))/((a_1 + I*sqrt(1 - a_1**2))*(zeta - 1/(a_1 + I*sqrt(1 - a_1**2)))*(exp(y*sqrt(1 - a_1**2)) + exp(-y*sqrt(1 - a_1**2)))) - I/((a_1 + I*sqrt(1 - a_1**2))*(zeta**2 - zeta/(a_1 + I*sqrt(1 - a_1**2))))), (-2*I*sqrt(1 - a_1**2)*exp(-y*sqrt(1 - a_1**2))/((q_-*zeta*(a_1 + I*sqrt(1 - a_1**2))**2 - q_-*(a_1 + I*sqrt(1 - a_1**2)))*(exp(y*sqrt(1 - a_1**2)) + exp(-y*sqrt(1 - a_1**2)))) + 1/(q_-*(a_1 + I*sqrt(1 - a_1**2))**2))*(2*I*sqrt(1 - a_1**2)*exp(-x*sqrt(1 - a_1**2))/((exp(x*sqrt(1 - a_1**2)) + exp(-x*sqrt(1 - a_1**2)))*(-2*\\lambda**2*q_-*zeta*(a_1 + I*sqrt(1 - a_1**2))**2 + 2*\\lambda**2*q_-*(a_1 + I*sqrt(1 - a_1**2)) + 2*\\lambda*q_-*zeta*sqrt(\\lambda**2 - 1)*(a_1 + I*sqrt(1 - a_1**2))**2 - 2*\\lambda*q_-*sqrt(\\lambda**2 - 1)*(a_1 + I*sqrt(1 - a_1**2)) + 2*q_-*zeta*(a_1 + I*sqrt(1 - a_1**2))**2 - 2*q_-*(a_1 + I*sqrt(1 - a_1**2)))) - 1/(-2*\\lambda**2*q_-*(a_1 + I*sqrt(1 - a_1**2))**2 + 2*\\lambda*q_-*sqrt(\\lambda**2 - 1)*(a_1 + I*sqrt(1 - a_1**2))**2 + 2*q_-*(a_1 + I*sqrt(1 - a_1**2))**2)) + (I*zeta/((a_1 + I*sqrt(1 - a_1**2))**2*(zeta**2 - zeta/(a_1 + I*sqrt(1 - a_1**2)))) - 2*sqrt(1 - a_1**2)*exp(-y*sqrt(1 - a_1**2))/((a_1 + I*sqrt(1 - a_1**2))*(zeta - 1/(a_1 + I*sqrt(1 - a_1**2)))*(exp(y*sqrt(1 - a_1**2)) + exp(-y*sqrt(1 - a_1**2)))) - I/((a_1 + I*sqrt(1 - a_1**2))*(zeta**2 - zeta/(a_1 + I*sqrt(1 - a_1**2)))))*(I*zeta/((a_1 + I*sqrt(1 - a_1**2))**2*(-2*\\lambda**2*zeta**2 + 2*\\lambda**2*zeta/(a_1 + I*sqrt(1 - a_1**2)) + 2*\\lambda*zeta**2*sqrt(\\lambda**2 - 1) - 2*\\lambda*zeta*sqrt(\\lambda**2 - 1)/(a_1 + I*sqrt(1 - a_1**2)) + 2*zeta**2 - 2*zeta/(a_1 + I*sqrt(1 - a_1**2)))) - 2*sqrt(1 - a_1**2)*exp(-x*sqrt(1 - a_1**2))/((a_1 + I*sqrt(1 - a_1**2))*(exp(x*sqrt(1 - a_1**2)) + exp(-x*sqrt(1 - a_1**2)))*(-2*\\lambda**2*zeta + 2*\\lambda**2/(a_1 + I*sqrt(1 - a_1**2)) + 2*\\lambda*zeta*sqrt(\\lambda**2 - 1) - 2*\\lambda*sqrt(\\lambda**2 - 1)/(a_1 + I*sqrt(1 - a_1**2)) + 2*zeta - 2/(a_1 + I*sqrt(1 - a_1**2)))) - I/((a_1 + I*sqrt(1 - a_1**2))*(-2*\\lambda**2*zeta**2 + 2*\\lambda**2*zeta/(a_1 + I*sqrt(1 - a_1**2)) + 2*\\lambda*zeta**2*sqrt(\\lambda**2 - 1) - 2*\\lambda*zeta*sqrt(\\lambda**2 - 1)/(a_1 + I*sqrt(1 - a_1**2)) + 2*zeta**2 - 2*zeta/(a_1 + I*sqrt(1 - a_1**2)))))]])"
      ]
     },
     "metadata": {},
     "output_type": "display_data"
    }
   ],
   "source": [
    "display(myprod2)"
   ]
  },
  {
   "cell_type": "code",
   "execution_count": 576,
   "id": "a9aa5e46",
   "metadata": {},
   "outputs": [
    {
     "ename": "KeyboardInterrupt",
     "evalue": "",
     "output_type": "error",
     "traceback": [
      "\u001b[1;31m---------------------------------------------------------------------------\u001b[0m",
      "\u001b[1;31mKeyboardInterrupt\u001b[0m                         Traceback (most recent call last)",
      "Cell \u001b[1;32mIn[576], line 1\u001b[0m\n\u001b[1;32m----> 1\u001b[0m myprod3 \u001b[38;5;241m=\u001b[39m \u001b[43msimplify\u001b[49m\u001b[43m(\u001b[49m\u001b[43mmyprod2\u001b[49m\u001b[43m)\u001b[49m\n",
      "File \u001b[1;32m~\\anaconda3\\lib\\site-packages\\sympy\\simplify\\simplify.py:601\u001b[0m, in \u001b[0;36msimplify\u001b[1;34m(expr, ratio, measure, rational, inverse, doit, **kwargs)\u001b[0m\n\u001b[0;32m    599\u001b[0m _eval_simplify \u001b[38;5;241m=\u001b[39m \u001b[38;5;28mgetattr\u001b[39m(expr, \u001b[38;5;124m'\u001b[39m\u001b[38;5;124m_eval_simplify\u001b[39m\u001b[38;5;124m'\u001b[39m, \u001b[38;5;28;01mNone\u001b[39;00m)\n\u001b[0;32m    600\u001b[0m \u001b[38;5;28;01mif\u001b[39;00m _eval_simplify \u001b[38;5;129;01mis\u001b[39;00m \u001b[38;5;129;01mnot\u001b[39;00m \u001b[38;5;28;01mNone\u001b[39;00m:\n\u001b[1;32m--> 601\u001b[0m     \u001b[38;5;28;01mreturn\u001b[39;00m _eval_simplify(\u001b[38;5;241m*\u001b[39m\u001b[38;5;241m*\u001b[39mkwargs)\n\u001b[0;32m    603\u001b[0m original_expr \u001b[38;5;241m=\u001b[39m expr \u001b[38;5;241m=\u001b[39m collect_abs(signsimp(expr))\n\u001b[0;32m    605\u001b[0m \u001b[38;5;28;01mif\u001b[39;00m \u001b[38;5;129;01mnot\u001b[39;00m \u001b[38;5;28misinstance\u001b[39m(expr, Basic) \u001b[38;5;129;01mor\u001b[39;00m \u001b[38;5;129;01mnot\u001b[39;00m expr\u001b[38;5;241m.\u001b[39margs:  \u001b[38;5;66;03m# XXX: temporary hack\u001b[39;00m\n",
      "File \u001b[1;32m~\\anaconda3\\lib\\site-packages\\sympy\\matrices\\common.py:2515\u001b[0m, in \u001b[0;36mMatrixOperations._eval_simplify\u001b[1;34m(self, **kwargs)\u001b[0m\n\u001b[0;32m   2512\u001b[0m \u001b[38;5;28;01mdef\u001b[39;00m \u001b[38;5;21m_eval_simplify\u001b[39m(\u001b[38;5;28mself\u001b[39m, \u001b[38;5;241m*\u001b[39m\u001b[38;5;241m*\u001b[39mkwargs):\n\u001b[0;32m   2513\u001b[0m     \u001b[38;5;66;03m# XXX: We can't use self.simplify here as mutable subclasses will\u001b[39;00m\n\u001b[0;32m   2514\u001b[0m     \u001b[38;5;66;03m# override simplify and have it return None\u001b[39;00m\n\u001b[1;32m-> 2515\u001b[0m     \u001b[38;5;28;01mreturn\u001b[39;00m MatrixOperations\u001b[38;5;241m.\u001b[39msimplify(\u001b[38;5;28mself\u001b[39m, \u001b[38;5;241m*\u001b[39m\u001b[38;5;241m*\u001b[39mkwargs)\n",
      "File \u001b[1;32m~\\anaconda3\\lib\\site-packages\\sympy\\matrices\\common.py:2405\u001b[0m, in \u001b[0;36mMatrixOperations.simplify\u001b[1;34m(self, **kwargs)\u001b[0m\n\u001b[0;32m   2392\u001b[0m \u001b[38;5;28;01mdef\u001b[39;00m \u001b[38;5;21msimplify\u001b[39m(\u001b[38;5;28mself\u001b[39m, \u001b[38;5;241m*\u001b[39m\u001b[38;5;241m*\u001b[39mkwargs):\n\u001b[0;32m   2393\u001b[0m \u001b[38;5;250m    \u001b[39m\u001b[38;5;124;03m\"\"\"Apply simplify to each element of the matrix.\u001b[39;00m\n\u001b[0;32m   2394\u001b[0m \n\u001b[0;32m   2395\u001b[0m \u001b[38;5;124;03m    Examples\u001b[39;00m\n\u001b[1;32m   (...)\u001b[0m\n\u001b[0;32m   2403\u001b[0m \u001b[38;5;124;03m    Matrix([[x]])\u001b[39;00m\n\u001b[0;32m   2404\u001b[0m \u001b[38;5;124;03m    \"\"\"\u001b[39;00m\n\u001b[1;32m-> 2405\u001b[0m     \u001b[38;5;28;01mreturn\u001b[39;00m \u001b[38;5;28;43mself\u001b[39;49m\u001b[38;5;241;43m.\u001b[39;49m\u001b[43mapplyfunc\u001b[49m\u001b[43m(\u001b[49m\u001b[38;5;28;43;01mlambda\u001b[39;49;00m\u001b[43m \u001b[49m\u001b[43mx\u001b[49m\u001b[43m:\u001b[49m\u001b[43m \u001b[49m\u001b[43mx\u001b[49m\u001b[38;5;241;43m.\u001b[39;49m\u001b[43msimplify\u001b[49m\u001b[43m(\u001b[49m\u001b[38;5;241;43m*\u001b[39;49m\u001b[38;5;241;43m*\u001b[39;49m\u001b[43mkwargs\u001b[49m\u001b[43m)\u001b[49m\u001b[43m)\u001b[49m\n",
      "File \u001b[1;32m~\\anaconda3\\lib\\site-packages\\sympy\\matrices\\common.py:2058\u001b[0m, in \u001b[0;36mMatrixOperations.applyfunc\u001b[1;34m(self, f)\u001b[0m\n\u001b[0;32m   2055\u001b[0m \u001b[38;5;28;01mif\u001b[39;00m \u001b[38;5;129;01mnot\u001b[39;00m \u001b[38;5;28mcallable\u001b[39m(f):\n\u001b[0;32m   2056\u001b[0m     \u001b[38;5;28;01mraise\u001b[39;00m \u001b[38;5;167;01mTypeError\u001b[39;00m(\u001b[38;5;124m\"\u001b[39m\u001b[38;5;124m`f` must be callable.\u001b[39m\u001b[38;5;124m\"\u001b[39m)\n\u001b[1;32m-> 2058\u001b[0m \u001b[38;5;28;01mreturn\u001b[39;00m \u001b[38;5;28;43mself\u001b[39;49m\u001b[38;5;241;43m.\u001b[39;49m\u001b[43m_eval_applyfunc\u001b[49m\u001b[43m(\u001b[49m\u001b[43mf\u001b[49m\u001b[43m)\u001b[49m\n",
      "File \u001b[1;32m~\\anaconda3\\lib\\site-packages\\sympy\\matrices\\common.py:2000\u001b[0m, in \u001b[0;36mMatrixOperations._eval_applyfunc\u001b[1;34m(self, f)\u001b[0m\n\u001b[0;32m   1999\u001b[0m \u001b[38;5;28;01mdef\u001b[39;00m \u001b[38;5;21m_eval_applyfunc\u001b[39m(\u001b[38;5;28mself\u001b[39m, f):\n\u001b[1;32m-> 2000\u001b[0m     out \u001b[38;5;241m=\u001b[39m \u001b[38;5;28mself\u001b[39m\u001b[38;5;241m.\u001b[39m_new(\u001b[38;5;28mself\u001b[39m\u001b[38;5;241m.\u001b[39mrows, \u001b[38;5;28mself\u001b[39m\u001b[38;5;241m.\u001b[39mcols, [f(x) \u001b[38;5;28;01mfor\u001b[39;00m x \u001b[38;5;129;01min\u001b[39;00m \u001b[38;5;28mself\u001b[39m])\n\u001b[0;32m   2001\u001b[0m     \u001b[38;5;28;01mreturn\u001b[39;00m out\n",
      "File \u001b[1;32m~\\anaconda3\\lib\\site-packages\\sympy\\matrices\\common.py:2000\u001b[0m, in \u001b[0;36m<listcomp>\u001b[1;34m(.0)\u001b[0m\n\u001b[0;32m   1999\u001b[0m \u001b[38;5;28;01mdef\u001b[39;00m \u001b[38;5;21m_eval_applyfunc\u001b[39m(\u001b[38;5;28mself\u001b[39m, f):\n\u001b[1;32m-> 2000\u001b[0m     out \u001b[38;5;241m=\u001b[39m \u001b[38;5;28mself\u001b[39m\u001b[38;5;241m.\u001b[39m_new(\u001b[38;5;28mself\u001b[39m\u001b[38;5;241m.\u001b[39mrows, \u001b[38;5;28mself\u001b[39m\u001b[38;5;241m.\u001b[39mcols, [\u001b[43mf\u001b[49m\u001b[43m(\u001b[49m\u001b[43mx\u001b[49m\u001b[43m)\u001b[49m \u001b[38;5;28;01mfor\u001b[39;00m x \u001b[38;5;129;01min\u001b[39;00m \u001b[38;5;28mself\u001b[39m])\n\u001b[0;32m   2001\u001b[0m     \u001b[38;5;28;01mreturn\u001b[39;00m out\n",
      "File \u001b[1;32m~\\anaconda3\\lib\\site-packages\\sympy\\matrices\\common.py:2405\u001b[0m, in \u001b[0;36mMatrixOperations.simplify.<locals>.<lambda>\u001b[1;34m(x)\u001b[0m\n\u001b[0;32m   2392\u001b[0m \u001b[38;5;28;01mdef\u001b[39;00m \u001b[38;5;21msimplify\u001b[39m(\u001b[38;5;28mself\u001b[39m, \u001b[38;5;241m*\u001b[39m\u001b[38;5;241m*\u001b[39mkwargs):\n\u001b[0;32m   2393\u001b[0m \u001b[38;5;250m    \u001b[39m\u001b[38;5;124;03m\"\"\"Apply simplify to each element of the matrix.\u001b[39;00m\n\u001b[0;32m   2394\u001b[0m \n\u001b[0;32m   2395\u001b[0m \u001b[38;5;124;03m    Examples\u001b[39;00m\n\u001b[1;32m   (...)\u001b[0m\n\u001b[0;32m   2403\u001b[0m \u001b[38;5;124;03m    Matrix([[x]])\u001b[39;00m\n\u001b[0;32m   2404\u001b[0m \u001b[38;5;124;03m    \"\"\"\u001b[39;00m\n\u001b[1;32m-> 2405\u001b[0m     \u001b[38;5;28;01mreturn\u001b[39;00m \u001b[38;5;28mself\u001b[39m\u001b[38;5;241m.\u001b[39mapplyfunc(\u001b[38;5;28;01mlambda\u001b[39;00m x: x\u001b[38;5;241m.\u001b[39msimplify(\u001b[38;5;241m*\u001b[39m\u001b[38;5;241m*\u001b[39mkwargs))\n",
      "File \u001b[1;32m~\\anaconda3\\lib\\site-packages\\sympy\\core\\basic.py:1767\u001b[0m, in \u001b[0;36mBasic.simplify\u001b[1;34m(self, **kwargs)\u001b[0m\n\u001b[0;32m   1765\u001b[0m \u001b[38;5;250m\u001b[39m\u001b[38;5;124;03m\"\"\"See the simplify function in sympy.simplify\"\"\"\u001b[39;00m\n\u001b[0;32m   1766\u001b[0m \u001b[38;5;28;01mfrom\u001b[39;00m \u001b[38;5;21;01msympy\u001b[39;00m\u001b[38;5;21;01m.\u001b[39;00m\u001b[38;5;21;01msimplify\u001b[39;00m\u001b[38;5;21;01m.\u001b[39;00m\u001b[38;5;21;01msimplify\u001b[39;00m \u001b[38;5;28;01mimport\u001b[39;00m simplify\n\u001b[1;32m-> 1767\u001b[0m \u001b[38;5;28;01mreturn\u001b[39;00m simplify(\u001b[38;5;28mself\u001b[39m, \u001b[38;5;241m*\u001b[39m\u001b[38;5;241m*\u001b[39mkwargs)\n",
      "File \u001b[1;32m~\\anaconda3\\lib\\site-packages\\sympy\\simplify\\simplify.py:644\u001b[0m, in \u001b[0;36msimplify\u001b[1;34m(expr, ratio, measure, rational, inverse, doit, **kwargs)\u001b[0m\n\u001b[0;32m    642\u001b[0m expr \u001b[38;5;241m=\u001b[39m _bottom_up(expr, \u001b[38;5;28;01mlambda\u001b[39;00m w: \u001b[38;5;28mgetattr\u001b[39m(w, \u001b[38;5;124m'\u001b[39m\u001b[38;5;124mnormal\u001b[39m\u001b[38;5;124m'\u001b[39m, \u001b[38;5;28;01mlambda\u001b[39;00m: w)())\n\u001b[0;32m    643\u001b[0m expr \u001b[38;5;241m=\u001b[39m Mul(\u001b[38;5;241m*\u001b[39mpowsimp(expr)\u001b[38;5;241m.\u001b[39mas_content_primitive())\n\u001b[1;32m--> 644\u001b[0m _e \u001b[38;5;241m=\u001b[39m \u001b[43mcancel\u001b[49m\u001b[43m(\u001b[49m\u001b[43mexpr\u001b[49m\u001b[43m)\u001b[49m\n\u001b[0;32m    645\u001b[0m expr1 \u001b[38;5;241m=\u001b[39m shorter(_e, _mexpand(_e)\u001b[38;5;241m.\u001b[39mcancel())  \u001b[38;5;66;03m# issue 6829\u001b[39;00m\n\u001b[0;32m    646\u001b[0m expr2 \u001b[38;5;241m=\u001b[39m shorter(together(expr, deep\u001b[38;5;241m=\u001b[39m\u001b[38;5;28;01mTrue\u001b[39;00m), together(expr1, deep\u001b[38;5;241m=\u001b[39m\u001b[38;5;28;01mTrue\u001b[39;00m))\n",
      "File \u001b[1;32m~\\anaconda3\\lib\\site-packages\\sympy\\polys\\polytools.py:6797\u001b[0m, in \u001b[0;36mcancel\u001b[1;34m(f, _signsimp, *gens, **args)\u001b[0m\n\u001b[0;32m   6794\u001b[0m                 \u001b[38;5;28;01mpass\u001b[39;00m\n\u001b[0;32m   6795\u001b[0m         \u001b[38;5;28;01mreturn\u001b[39;00m f\u001b[38;5;241m.\u001b[39mxreplace(\u001b[38;5;28mdict\u001b[39m(reps))\n\u001b[1;32m-> 6797\u001b[0m c, (P, Q) \u001b[38;5;241m=\u001b[39m \u001b[38;5;241m1\u001b[39m, \u001b[43mF\u001b[49m\u001b[38;5;241;43m.\u001b[39;49m\u001b[43mcancel\u001b[49m\u001b[43m(\u001b[49m\u001b[43mG\u001b[49m\u001b[43m)\u001b[49m\n\u001b[0;32m   6798\u001b[0m \u001b[38;5;28;01mif\u001b[39;00m opt\u001b[38;5;241m.\u001b[39mget(\u001b[38;5;124m'\u001b[39m\u001b[38;5;124mpolys\u001b[39m\u001b[38;5;124m'\u001b[39m, \u001b[38;5;28;01mFalse\u001b[39;00m) \u001b[38;5;129;01mand\u001b[39;00m \u001b[38;5;124m'\u001b[39m\u001b[38;5;124mgens\u001b[39m\u001b[38;5;124m'\u001b[39m \u001b[38;5;129;01mnot\u001b[39;00m \u001b[38;5;129;01min\u001b[39;00m opt:\n\u001b[0;32m   6799\u001b[0m     opt[\u001b[38;5;124m'\u001b[39m\u001b[38;5;124mgens\u001b[39m\u001b[38;5;124m'\u001b[39m] \u001b[38;5;241m=\u001b[39m R\u001b[38;5;241m.\u001b[39msymbols\n",
      "File \u001b[1;32m~\\anaconda3\\lib\\site-packages\\sympy\\polys\\rings.py:2223\u001b[0m, in \u001b[0;36mPolyElement.cancel\u001b[1;34m(self, g)\u001b[0m\n\u001b[0;32m   2220\u001b[0m domain \u001b[38;5;241m=\u001b[39m ring\u001b[38;5;241m.\u001b[39mdomain\n\u001b[0;32m   2222\u001b[0m \u001b[38;5;28;01mif\u001b[39;00m \u001b[38;5;129;01mnot\u001b[39;00m (domain\u001b[38;5;241m.\u001b[39mis_Field \u001b[38;5;129;01mand\u001b[39;00m domain\u001b[38;5;241m.\u001b[39mhas_assoc_Ring):\n\u001b[1;32m-> 2223\u001b[0m     _, p, q \u001b[38;5;241m=\u001b[39m \u001b[43mf\u001b[49m\u001b[38;5;241;43m.\u001b[39;49m\u001b[43mcofactors\u001b[49m\u001b[43m(\u001b[49m\u001b[43mg\u001b[49m\u001b[43m)\u001b[49m\n\u001b[0;32m   2224\u001b[0m \u001b[38;5;28;01melse\u001b[39;00m:\n\u001b[0;32m   2225\u001b[0m     new_ring \u001b[38;5;241m=\u001b[39m ring\u001b[38;5;241m.\u001b[39mclone(domain\u001b[38;5;241m=\u001b[39mdomain\u001b[38;5;241m.\u001b[39mget_ring())\n",
      "File \u001b[1;32m~\\anaconda3\\lib\\site-packages\\sympy\\polys\\rings.py:2139\u001b[0m, in \u001b[0;36mPolyElement.cofactors\u001b[1;34m(f, g)\u001b[0m\n\u001b[0;32m   2136\u001b[0m     \u001b[38;5;28;01mreturn\u001b[39;00m h, cff, cfg\n\u001b[0;32m   2138\u001b[0m J, (f, g) \u001b[38;5;241m=\u001b[39m f\u001b[38;5;241m.\u001b[39mdeflate(g)\n\u001b[1;32m-> 2139\u001b[0m h, cff, cfg \u001b[38;5;241m=\u001b[39m \u001b[43mf\u001b[49m\u001b[38;5;241;43m.\u001b[39;49m\u001b[43m_gcd\u001b[49m\u001b[43m(\u001b[49m\u001b[43mg\u001b[49m\u001b[43m)\u001b[49m\n\u001b[0;32m   2141\u001b[0m \u001b[38;5;28;01mreturn\u001b[39;00m (h\u001b[38;5;241m.\u001b[39minflate(J), cff\u001b[38;5;241m.\u001b[39minflate(J), cfg\u001b[38;5;241m.\u001b[39minflate(J))\n",
      "File \u001b[1;32m~\\anaconda3\\lib\\site-packages\\sympy\\polys\\rings.py:2174\u001b[0m, in \u001b[0;36mPolyElement._gcd\u001b[1;34m(f, g)\u001b[0m\n\u001b[0;32m   2172\u001b[0m     \u001b[38;5;28;01mreturn\u001b[39;00m f\u001b[38;5;241m.\u001b[39m_gcd_ZZ(g)\n\u001b[0;32m   2173\u001b[0m \u001b[38;5;28;01melse\u001b[39;00m: \u001b[38;5;66;03m# TODO: don't use dense representation (port PRS algorithms)\u001b[39;00m\n\u001b[1;32m-> 2174\u001b[0m     \u001b[38;5;28;01mreturn\u001b[39;00m \u001b[43mring\u001b[49m\u001b[38;5;241;43m.\u001b[39;49m\u001b[43mdmp_inner_gcd\u001b[49m\u001b[43m(\u001b[49m\u001b[43mf\u001b[49m\u001b[43m,\u001b[49m\u001b[43m \u001b[49m\u001b[43mg\u001b[49m\u001b[43m)\u001b[49m\n",
      "File \u001b[1;32m~\\anaconda3\\lib\\site-packages\\sympy\\polys\\compatibility.py:663\u001b[0m, in \u001b[0;36mIPolys.dmp_inner_gcd\u001b[1;34m(self, f, g)\u001b[0m\n\u001b[0;32m    662\u001b[0m \u001b[38;5;28;01mdef\u001b[39;00m \u001b[38;5;21mdmp_inner_gcd\u001b[39m(\u001b[38;5;28mself\u001b[39m, f, g):\n\u001b[1;32m--> 663\u001b[0m     H, F, G \u001b[38;5;241m=\u001b[39m \u001b[43mdmp_inner_gcd\u001b[49m\u001b[43m(\u001b[49m\u001b[38;5;28;43mself\u001b[39;49m\u001b[38;5;241;43m.\u001b[39;49m\u001b[43mto_dense\u001b[49m\u001b[43m(\u001b[49m\u001b[43mf\u001b[49m\u001b[43m)\u001b[49m\u001b[43m,\u001b[49m\u001b[43m \u001b[49m\u001b[38;5;28;43mself\u001b[39;49m\u001b[38;5;241;43m.\u001b[39;49m\u001b[43mto_dense\u001b[49m\u001b[43m(\u001b[49m\u001b[43mg\u001b[49m\u001b[43m)\u001b[49m\u001b[43m,\u001b[49m\u001b[43m \u001b[49m\u001b[38;5;28;43mself\u001b[39;49m\u001b[38;5;241;43m.\u001b[39;49m\u001b[43mngens\u001b[49m\u001b[38;5;241;43m-\u001b[39;49m\u001b[38;5;241;43m1\u001b[39;49m\u001b[43m,\u001b[49m\u001b[43m \u001b[49m\u001b[38;5;28;43mself\u001b[39;49m\u001b[38;5;241;43m.\u001b[39;49m\u001b[43mdomain\u001b[49m\u001b[43m)\u001b[49m\n\u001b[0;32m    664\u001b[0m     \u001b[38;5;28;01mreturn\u001b[39;00m (\u001b[38;5;28mself\u001b[39m\u001b[38;5;241m.\u001b[39mfrom_dense(H), \u001b[38;5;28mself\u001b[39m\u001b[38;5;241m.\u001b[39mfrom_dense(F), \u001b[38;5;28mself\u001b[39m\u001b[38;5;241m.\u001b[39mfrom_dense(G))\n",
      "File \u001b[1;32m~\\anaconda3\\lib\\site-packages\\sympy\\polys\\euclidtools.py:1584\u001b[0m, in \u001b[0;36mdmp_inner_gcd\u001b[1;34m(f, g, u, K)\u001b[0m\n\u001b[0;32m   1581\u001b[0m     \u001b[38;5;28;01mreturn\u001b[39;00m dup_inner_gcd(f, g, K)\n\u001b[0;32m   1583\u001b[0m J, (f, g) \u001b[38;5;241m=\u001b[39m dmp_multi_deflate((f, g), u, K)\n\u001b[1;32m-> 1584\u001b[0m h, cff, cfg \u001b[38;5;241m=\u001b[39m \u001b[43m_dmp_inner_gcd\u001b[49m\u001b[43m(\u001b[49m\u001b[43mf\u001b[49m\u001b[43m,\u001b[49m\u001b[43m \u001b[49m\u001b[43mg\u001b[49m\u001b[43m,\u001b[49m\u001b[43m \u001b[49m\u001b[43mu\u001b[49m\u001b[43m,\u001b[49m\u001b[43m \u001b[49m\u001b[43mK\u001b[49m\u001b[43m)\u001b[49m\n\u001b[0;32m   1586\u001b[0m \u001b[38;5;28;01mreturn\u001b[39;00m (dmp_inflate(h, J, u, K),\n\u001b[0;32m   1587\u001b[0m         dmp_inflate(cff, J, u, K),\n\u001b[0;32m   1588\u001b[0m         dmp_inflate(cfg, J, u, K))\n",
      "File \u001b[1;32m~\\anaconda3\\lib\\site-packages\\sympy\\polys\\euclidtools.py:1557\u001b[0m, in \u001b[0;36m_dmp_inner_gcd\u001b[1;34m(f, g, u, K)\u001b[0m\n\u001b[0;32m   1554\u001b[0m     \u001b[38;5;28;01mexcept\u001b[39;00m HeuristicGCDFailed:\n\u001b[0;32m   1555\u001b[0m         \u001b[38;5;28;01mpass\u001b[39;00m\n\u001b[1;32m-> 1557\u001b[0m \u001b[38;5;28;01mreturn\u001b[39;00m \u001b[43mdmp_rr_prs_gcd\u001b[49m\u001b[43m(\u001b[49m\u001b[43mf\u001b[49m\u001b[43m,\u001b[49m\u001b[43m \u001b[49m\u001b[43mg\u001b[49m\u001b[43m,\u001b[49m\u001b[43m \u001b[49m\u001b[43mu\u001b[49m\u001b[43m,\u001b[49m\u001b[43m \u001b[49m\u001b[43mK\u001b[49m\u001b[43m)\u001b[49m\n",
      "File \u001b[1;32m~\\anaconda3\\lib\\site-packages\\sympy\\polys\\euclidtools.py:1069\u001b[0m, in \u001b[0;36mdmp_rr_prs_gcd\u001b[1;34m(f, g, u, K)\u001b[0m\n\u001b[0;32m   1066\u001b[0m gc, G \u001b[38;5;241m=\u001b[39m dmp_primitive(g, u, K)\n\u001b[0;32m   1068\u001b[0m h \u001b[38;5;241m=\u001b[39m dmp_subresultants(F, G, u, K)[\u001b[38;5;241m-\u001b[39m\u001b[38;5;241m1\u001b[39m]\n\u001b[1;32m-> 1069\u001b[0m c, _, _ \u001b[38;5;241m=\u001b[39m \u001b[43mdmp_rr_prs_gcd\u001b[49m\u001b[43m(\u001b[49m\u001b[43mfc\u001b[49m\u001b[43m,\u001b[49m\u001b[43m \u001b[49m\u001b[43mgc\u001b[49m\u001b[43m,\u001b[49m\u001b[43m \u001b[49m\u001b[43mu\u001b[49m\u001b[43m \u001b[49m\u001b[38;5;241;43m-\u001b[39;49m\u001b[43m \u001b[49m\u001b[38;5;241;43m1\u001b[39;49m\u001b[43m,\u001b[49m\u001b[43m \u001b[49m\u001b[43mK\u001b[49m\u001b[43m)\u001b[49m\n\u001b[0;32m   1071\u001b[0m \u001b[38;5;28;01mif\u001b[39;00m K\u001b[38;5;241m.\u001b[39mis_negative(dmp_ground_LC(h, u, K)):\n\u001b[0;32m   1072\u001b[0m     h \u001b[38;5;241m=\u001b[39m dmp_neg(h, u, K)\n",
      "File \u001b[1;32m~\\anaconda3\\lib\\site-packages\\sympy\\polys\\euclidtools.py:1068\u001b[0m, in \u001b[0;36mdmp_rr_prs_gcd\u001b[1;34m(f, g, u, K)\u001b[0m\n\u001b[0;32m   1065\u001b[0m fc, F \u001b[38;5;241m=\u001b[39m dmp_primitive(f, u, K)\n\u001b[0;32m   1066\u001b[0m gc, G \u001b[38;5;241m=\u001b[39m dmp_primitive(g, u, K)\n\u001b[1;32m-> 1068\u001b[0m h \u001b[38;5;241m=\u001b[39m \u001b[43mdmp_subresultants\u001b[49m\u001b[43m(\u001b[49m\u001b[43mF\u001b[49m\u001b[43m,\u001b[49m\u001b[43m \u001b[49m\u001b[43mG\u001b[49m\u001b[43m,\u001b[49m\u001b[43m \u001b[49m\u001b[43mu\u001b[49m\u001b[43m,\u001b[49m\u001b[43m \u001b[49m\u001b[43mK\u001b[49m\u001b[43m)\u001b[49m[\u001b[38;5;241m-\u001b[39m\u001b[38;5;241m1\u001b[39m]\n\u001b[0;32m   1069\u001b[0m c, _, _ \u001b[38;5;241m=\u001b[39m dmp_rr_prs_gcd(fc, gc, u \u001b[38;5;241m-\u001b[39m \u001b[38;5;241m1\u001b[39m, K)\n\u001b[0;32m   1071\u001b[0m \u001b[38;5;28;01mif\u001b[39;00m K\u001b[38;5;241m.\u001b[39mis_negative(dmp_ground_LC(h, u, K)):\n",
      "File \u001b[1;32m~\\anaconda3\\lib\\site-packages\\sympy\\polys\\euclidtools.py:549\u001b[0m, in \u001b[0;36mdmp_subresultants\u001b[1;34m(f, g, u, K)\u001b[0m\n\u001b[0;32m    529\u001b[0m \u001b[38;5;28;01mdef\u001b[39;00m \u001b[38;5;21mdmp_subresultants\u001b[39m(f, g, u, K):\n\u001b[0;32m    530\u001b[0m \u001b[38;5;250m    \u001b[39m\u001b[38;5;124;03m\"\"\"\u001b[39;00m\n\u001b[0;32m    531\u001b[0m \u001b[38;5;124;03m    Computes subresultant PRS of two polynomials in `K[X]`.\u001b[39;00m\n\u001b[0;32m    532\u001b[0m \n\u001b[1;32m   (...)\u001b[0m\n\u001b[0;32m    547\u001b[0m \n\u001b[0;32m    548\u001b[0m \u001b[38;5;124;03m    \"\"\"\u001b[39;00m\n\u001b[1;32m--> 549\u001b[0m     \u001b[38;5;28;01mreturn\u001b[39;00m \u001b[43mdmp_inner_subresultants\u001b[49m\u001b[43m(\u001b[49m\u001b[43mf\u001b[49m\u001b[43m,\u001b[49m\u001b[43m \u001b[49m\u001b[43mg\u001b[49m\u001b[43m,\u001b[49m\u001b[43m \u001b[49m\u001b[43mu\u001b[49m\u001b[43m,\u001b[49m\u001b[43m \u001b[49m\u001b[43mK\u001b[49m\u001b[43m)\u001b[49m[\u001b[38;5;241m0\u001b[39m]\n",
      "File \u001b[1;32m~\\anaconda3\\lib\\site-packages\\sympy\\polys\\euclidtools.py:512\u001b[0m, in \u001b[0;36mdmp_inner_subresultants\u001b[1;34m(f, g, u, K)\u001b[0m\n\u001b[0;32m    507\u001b[0m f, g, m, d \u001b[38;5;241m=\u001b[39m g, h, k, m \u001b[38;5;241m-\u001b[39m k\n\u001b[0;32m    509\u001b[0m b \u001b[38;5;241m=\u001b[39m dmp_mul(dmp_neg(lc, v, K),\n\u001b[0;32m    510\u001b[0m             dmp_pow(c, d, v, K), v, K)\n\u001b[1;32m--> 512\u001b[0m h \u001b[38;5;241m=\u001b[39m \u001b[43mdmp_prem\u001b[49m\u001b[43m(\u001b[49m\u001b[43mf\u001b[49m\u001b[43m,\u001b[49m\u001b[43m \u001b[49m\u001b[43mg\u001b[49m\u001b[43m,\u001b[49m\u001b[43m \u001b[49m\u001b[43mu\u001b[49m\u001b[43m,\u001b[49m\u001b[43m \u001b[49m\u001b[43mK\u001b[49m\u001b[43m)\u001b[49m\n\u001b[0;32m    513\u001b[0m h \u001b[38;5;241m=\u001b[39m [ dmp_quo(ch, b, v, K) \u001b[38;5;28;01mfor\u001b[39;00m ch \u001b[38;5;129;01min\u001b[39;00m h ]\n\u001b[0;32m    515\u001b[0m lc \u001b[38;5;241m=\u001b[39m dmp_LC(g, K)\n",
      "File \u001b[1;32m~\\anaconda3\\lib\\site-packages\\sympy\\polys\\densearith.py:1237\u001b[0m, in \u001b[0;36mdmp_prem\u001b[1;34m(f, g, u, K)\u001b[0m\n\u001b[0;32m   1234\u001b[0m lc_r \u001b[38;5;241m=\u001b[39m dmp_LC(r, K)\n\u001b[0;32m   1235\u001b[0m j, N \u001b[38;5;241m=\u001b[39m dr \u001b[38;5;241m-\u001b[39m dg, N \u001b[38;5;241m-\u001b[39m \u001b[38;5;241m1\u001b[39m\n\u001b[1;32m-> 1237\u001b[0m R \u001b[38;5;241m=\u001b[39m \u001b[43mdmp_mul_term\u001b[49m\u001b[43m(\u001b[49m\u001b[43mr\u001b[49m\u001b[43m,\u001b[49m\u001b[43m \u001b[49m\u001b[43mlc_g\u001b[49m\u001b[43m,\u001b[49m\u001b[43m \u001b[49m\u001b[38;5;241;43m0\u001b[39;49m\u001b[43m,\u001b[49m\u001b[43m \u001b[49m\u001b[43mu\u001b[49m\u001b[43m,\u001b[49m\u001b[43m \u001b[49m\u001b[43mK\u001b[49m\u001b[43m)\u001b[49m\n\u001b[0;32m   1238\u001b[0m G \u001b[38;5;241m=\u001b[39m dmp_mul_term(g, lc_r, j, u, K)\n\u001b[0;32m   1239\u001b[0m r \u001b[38;5;241m=\u001b[39m dmp_sub(R, G, u, K)\n",
      "File \u001b[1;32m~\\anaconda3\\lib\\site-packages\\sympy\\polys\\densearith.py:184\u001b[0m, in \u001b[0;36mdmp_mul_term\u001b[1;34m(f, c, i, u, K)\u001b[0m\n\u001b[0;32m    182\u001b[0m     \u001b[38;5;28;01mreturn\u001b[39;00m dmp_zero(u)\n\u001b[0;32m    183\u001b[0m \u001b[38;5;28;01melse\u001b[39;00m:\n\u001b[1;32m--> 184\u001b[0m     \u001b[38;5;28;01mreturn\u001b[39;00m [ dmp_mul(cf, c, v, K) \u001b[38;5;28;01mfor\u001b[39;00m cf \u001b[38;5;129;01min\u001b[39;00m f ] \u001b[38;5;241m+\u001b[39m dmp_zeros(i, v, K)\n",
      "File \u001b[1;32m~\\anaconda3\\lib\\site-packages\\sympy\\polys\\densearith.py:184\u001b[0m, in \u001b[0;36m<listcomp>\u001b[1;34m(.0)\u001b[0m\n\u001b[0;32m    182\u001b[0m     \u001b[38;5;28;01mreturn\u001b[39;00m dmp_zero(u)\n\u001b[0;32m    183\u001b[0m \u001b[38;5;28;01melse\u001b[39;00m:\n\u001b[1;32m--> 184\u001b[0m     \u001b[38;5;28;01mreturn\u001b[39;00m [ \u001b[43mdmp_mul\u001b[49m\u001b[43m(\u001b[49m\u001b[43mcf\u001b[49m\u001b[43m,\u001b[49m\u001b[43m \u001b[49m\u001b[43mc\u001b[49m\u001b[43m,\u001b[49m\u001b[43m \u001b[49m\u001b[43mv\u001b[49m\u001b[43m,\u001b[49m\u001b[43m \u001b[49m\u001b[43mK\u001b[49m\u001b[43m)\u001b[49m \u001b[38;5;28;01mfor\u001b[39;00m cf \u001b[38;5;129;01min\u001b[39;00m f ] \u001b[38;5;241m+\u001b[39m dmp_zeros(i, v, K)\n",
      "File \u001b[1;32m~\\anaconda3\\lib\\site-packages\\sympy\\polys\\densearith.py:828\u001b[0m, in \u001b[0;36mdmp_mul\u001b[1;34m(f, g, u, K)\u001b[0m\n\u001b[0;32m    825\u001b[0m     coeff \u001b[38;5;241m=\u001b[39m dmp_zero(v)\n\u001b[0;32m    827\u001b[0m     \u001b[38;5;28;01mfor\u001b[39;00m j \u001b[38;5;129;01min\u001b[39;00m \u001b[38;5;28mrange\u001b[39m(\u001b[38;5;28mmax\u001b[39m(\u001b[38;5;241m0\u001b[39m, i \u001b[38;5;241m-\u001b[39m dg), \u001b[38;5;28mmin\u001b[39m(df, i) \u001b[38;5;241m+\u001b[39m \u001b[38;5;241m1\u001b[39m):\n\u001b[1;32m--> 828\u001b[0m         coeff \u001b[38;5;241m=\u001b[39m dmp_add(coeff, \u001b[43mdmp_mul\u001b[49m\u001b[43m(\u001b[49m\u001b[43mf\u001b[49m\u001b[43m[\u001b[49m\u001b[43mj\u001b[49m\u001b[43m]\u001b[49m\u001b[43m,\u001b[49m\u001b[43m \u001b[49m\u001b[43mg\u001b[49m\u001b[43m[\u001b[49m\u001b[43mi\u001b[49m\u001b[43m \u001b[49m\u001b[38;5;241;43m-\u001b[39;49m\u001b[43m \u001b[49m\u001b[43mj\u001b[49m\u001b[43m]\u001b[49m\u001b[43m,\u001b[49m\u001b[43m \u001b[49m\u001b[43mv\u001b[49m\u001b[43m,\u001b[49m\u001b[43m \u001b[49m\u001b[43mK\u001b[49m\u001b[43m)\u001b[49m, v, K)\n\u001b[0;32m    830\u001b[0m     h\u001b[38;5;241m.\u001b[39mappend(coeff)\n\u001b[0;32m    832\u001b[0m \u001b[38;5;28;01mreturn\u001b[39;00m dmp_strip(h, u)\n",
      "File \u001b[1;32m~\\anaconda3\\lib\\site-packages\\sympy\\polys\\densearith.py:828\u001b[0m, in \u001b[0;36mdmp_mul\u001b[1;34m(f, g, u, K)\u001b[0m\n\u001b[0;32m    825\u001b[0m     coeff \u001b[38;5;241m=\u001b[39m dmp_zero(v)\n\u001b[0;32m    827\u001b[0m     \u001b[38;5;28;01mfor\u001b[39;00m j \u001b[38;5;129;01min\u001b[39;00m \u001b[38;5;28mrange\u001b[39m(\u001b[38;5;28mmax\u001b[39m(\u001b[38;5;241m0\u001b[39m, i \u001b[38;5;241m-\u001b[39m dg), \u001b[38;5;28mmin\u001b[39m(df, i) \u001b[38;5;241m+\u001b[39m \u001b[38;5;241m1\u001b[39m):\n\u001b[1;32m--> 828\u001b[0m         coeff \u001b[38;5;241m=\u001b[39m dmp_add(coeff, \u001b[43mdmp_mul\u001b[49m\u001b[43m(\u001b[49m\u001b[43mf\u001b[49m\u001b[43m[\u001b[49m\u001b[43mj\u001b[49m\u001b[43m]\u001b[49m\u001b[43m,\u001b[49m\u001b[43m \u001b[49m\u001b[43mg\u001b[49m\u001b[43m[\u001b[49m\u001b[43mi\u001b[49m\u001b[43m \u001b[49m\u001b[38;5;241;43m-\u001b[39;49m\u001b[43m \u001b[49m\u001b[43mj\u001b[49m\u001b[43m]\u001b[49m\u001b[43m,\u001b[49m\u001b[43m \u001b[49m\u001b[43mv\u001b[49m\u001b[43m,\u001b[49m\u001b[43m \u001b[49m\u001b[43mK\u001b[49m\u001b[43m)\u001b[49m, v, K)\n\u001b[0;32m    830\u001b[0m     h\u001b[38;5;241m.\u001b[39mappend(coeff)\n\u001b[0;32m    832\u001b[0m \u001b[38;5;28;01mreturn\u001b[39;00m dmp_strip(h, u)\n",
      "    \u001b[1;31m[... skipping similar frames: dmp_mul at line 828 (2 times)]\u001b[0m\n",
      "File \u001b[1;32m~\\anaconda3\\lib\\site-packages\\sympy\\polys\\densearith.py:828\u001b[0m, in \u001b[0;36mdmp_mul\u001b[1;34m(f, g, u, K)\u001b[0m\n\u001b[0;32m    825\u001b[0m     coeff \u001b[38;5;241m=\u001b[39m dmp_zero(v)\n\u001b[0;32m    827\u001b[0m     \u001b[38;5;28;01mfor\u001b[39;00m j \u001b[38;5;129;01min\u001b[39;00m \u001b[38;5;28mrange\u001b[39m(\u001b[38;5;28mmax\u001b[39m(\u001b[38;5;241m0\u001b[39m, i \u001b[38;5;241m-\u001b[39m dg), \u001b[38;5;28mmin\u001b[39m(df, i) \u001b[38;5;241m+\u001b[39m \u001b[38;5;241m1\u001b[39m):\n\u001b[1;32m--> 828\u001b[0m         coeff \u001b[38;5;241m=\u001b[39m dmp_add(coeff, \u001b[43mdmp_mul\u001b[49m\u001b[43m(\u001b[49m\u001b[43mf\u001b[49m\u001b[43m[\u001b[49m\u001b[43mj\u001b[49m\u001b[43m]\u001b[49m\u001b[43m,\u001b[49m\u001b[43m \u001b[49m\u001b[43mg\u001b[49m\u001b[43m[\u001b[49m\u001b[43mi\u001b[49m\u001b[43m \u001b[49m\u001b[38;5;241;43m-\u001b[39;49m\u001b[43m \u001b[49m\u001b[43mj\u001b[49m\u001b[43m]\u001b[49m\u001b[43m,\u001b[49m\u001b[43m \u001b[49m\u001b[43mv\u001b[49m\u001b[43m,\u001b[49m\u001b[43m \u001b[49m\u001b[43mK\u001b[49m\u001b[43m)\u001b[49m, v, K)\n\u001b[0;32m    830\u001b[0m     h\u001b[38;5;241m.\u001b[39mappend(coeff)\n\u001b[0;32m    832\u001b[0m \u001b[38;5;28;01mreturn\u001b[39;00m dmp_strip(h, u)\n",
      "File \u001b[1;32m~\\anaconda3\\lib\\site-packages\\sympy\\polys\\densearith.py:807\u001b[0m, in \u001b[0;36mdmp_mul\u001b[1;34m(f, g, u, K)\u001b[0m\n\u001b[0;32m    793\u001b[0m \u001b[38;5;250m\u001b[39m\u001b[38;5;124;03m\"\"\"\u001b[39;00m\n\u001b[0;32m    794\u001b[0m \u001b[38;5;124;03mMultiply dense polynomials in ``K[X]``.\u001b[39;00m\n\u001b[0;32m    795\u001b[0m \n\u001b[1;32m   (...)\u001b[0m\n\u001b[0;32m    804\u001b[0m \n\u001b[0;32m    805\u001b[0m \u001b[38;5;124;03m\"\"\"\u001b[39;00m\n\u001b[0;32m    806\u001b[0m \u001b[38;5;28;01mif\u001b[39;00m \u001b[38;5;129;01mnot\u001b[39;00m u:\n\u001b[1;32m--> 807\u001b[0m     \u001b[38;5;28;01mreturn\u001b[39;00m \u001b[43mdup_mul\u001b[49m\u001b[43m(\u001b[49m\u001b[43mf\u001b[49m\u001b[43m,\u001b[49m\u001b[43m \u001b[49m\u001b[43mg\u001b[49m\u001b[43m,\u001b[49m\u001b[43m \u001b[49m\u001b[43mK\u001b[49m\u001b[43m)\u001b[49m\n\u001b[0;32m    809\u001b[0m \u001b[38;5;28;01mif\u001b[39;00m f \u001b[38;5;241m==\u001b[39m g:\n\u001b[0;32m    810\u001b[0m     \u001b[38;5;28;01mreturn\u001b[39;00m dmp_sqr(f, u, K)\n",
      "File \u001b[1;32m~\\anaconda3\\lib\\site-packages\\sympy\\polys\\densearith.py:767\u001b[0m, in \u001b[0;36mdup_mul\u001b[1;34m(f, g, K)\u001b[0m\n\u001b[0;32m    764\u001b[0m     coeff \u001b[38;5;241m=\u001b[39m K\u001b[38;5;241m.\u001b[39mzero\n\u001b[0;32m    766\u001b[0m     \u001b[38;5;28;01mfor\u001b[39;00m j \u001b[38;5;129;01min\u001b[39;00m \u001b[38;5;28mrange\u001b[39m(\u001b[38;5;28mmax\u001b[39m(\u001b[38;5;241m0\u001b[39m, i \u001b[38;5;241m-\u001b[39m dg), \u001b[38;5;28mmin\u001b[39m(df, i) \u001b[38;5;241m+\u001b[39m \u001b[38;5;241m1\u001b[39m):\n\u001b[1;32m--> 767\u001b[0m         coeff \u001b[38;5;241m+\u001b[39m\u001b[38;5;241m=\u001b[39m \u001b[43mf\u001b[49m\u001b[43m[\u001b[49m\u001b[43mj\u001b[49m\u001b[43m]\u001b[49m\u001b[38;5;241;43m*\u001b[39;49m\u001b[43mg\u001b[49m\u001b[43m[\u001b[49m\u001b[43mi\u001b[49m\u001b[43m \u001b[49m\u001b[38;5;241;43m-\u001b[39;49m\u001b[43m \u001b[49m\u001b[43mj\u001b[49m\u001b[43m]\u001b[49m\n\u001b[0;32m    769\u001b[0m     h\u001b[38;5;241m.\u001b[39mappend(coeff)\n\u001b[0;32m    771\u001b[0m \u001b[38;5;28;01mreturn\u001b[39;00m dup_strip(h)\n",
      "File \u001b[1;32m~\\anaconda3\\lib\\site-packages\\sympy\\polys\\domains\\gaussiandomains.py:98\u001b[0m, in \u001b[0;36mGaussianElement.__mul__\u001b[1;34m(self, other)\u001b[0m\n\u001b[0;32m     96\u001b[0m x, y \u001b[38;5;241m=\u001b[39m \u001b[38;5;28mself\u001b[39m\u001b[38;5;241m.\u001b[39m_get_xy(other)\n\u001b[0;32m     97\u001b[0m \u001b[38;5;28;01mif\u001b[39;00m x \u001b[38;5;129;01mis\u001b[39;00m \u001b[38;5;129;01mnot\u001b[39;00m \u001b[38;5;28;01mNone\u001b[39;00m:\n\u001b[1;32m---> 98\u001b[0m     \u001b[38;5;28;01mreturn\u001b[39;00m \u001b[38;5;28;43mself\u001b[39;49m\u001b[38;5;241;43m.\u001b[39;49m\u001b[43mnew\u001b[49m\u001b[43m(\u001b[49m\u001b[38;5;28;43mself\u001b[39;49m\u001b[38;5;241;43m.\u001b[39;49m\u001b[43mx\u001b[49m\u001b[38;5;241;43m*\u001b[39;49m\u001b[43mx\u001b[49m\u001b[43m \u001b[49m\u001b[38;5;241;43m-\u001b[39;49m\u001b[43m \u001b[49m\u001b[38;5;28;43mself\u001b[39;49m\u001b[38;5;241;43m.\u001b[39;49m\u001b[43my\u001b[49m\u001b[38;5;241;43m*\u001b[39;49m\u001b[43my\u001b[49m\u001b[43m,\u001b[49m\u001b[43m \u001b[49m\u001b[38;5;28;43mself\u001b[39;49m\u001b[38;5;241;43m.\u001b[39;49m\u001b[43mx\u001b[49m\u001b[38;5;241;43m*\u001b[39;49m\u001b[43my\u001b[49m\u001b[43m \u001b[49m\u001b[38;5;241;43m+\u001b[39;49m\u001b[43m \u001b[49m\u001b[38;5;28;43mself\u001b[39;49m\u001b[38;5;241;43m.\u001b[39;49m\u001b[43my\u001b[49m\u001b[38;5;241;43m*\u001b[39;49m\u001b[43mx\u001b[49m\u001b[43m)\u001b[49m\n\u001b[0;32m     99\u001b[0m \u001b[38;5;28;01melse\u001b[39;00m:\n\u001b[0;32m    100\u001b[0m     \u001b[38;5;28;01mreturn\u001b[39;00m \u001b[38;5;28mNotImplemented\u001b[39m\n",
      "File \u001b[1;32m~\\anaconda3\\lib\\site-packages\\sympy\\polys\\domains\\gaussiandomains.py:28\u001b[0m, in \u001b[0;36mGaussianElement.new\u001b[1;34m(cls, x, y)\u001b[0m\n\u001b[0;32m     25\u001b[0m \u001b[38;5;129m@classmethod\u001b[39m\n\u001b[0;32m     26\u001b[0m \u001b[38;5;28;01mdef\u001b[39;00m \u001b[38;5;21mnew\u001b[39m(\u001b[38;5;28mcls\u001b[39m, x, y):\n\u001b[0;32m     27\u001b[0m \u001b[38;5;250m    \u001b[39m\u001b[38;5;124;03m\"\"\"Create a new GaussianElement of the same domain.\"\"\"\u001b[39;00m\n\u001b[1;32m---> 28\u001b[0m     obj \u001b[38;5;241m=\u001b[39m \u001b[38;5;28;43msuper\u001b[39;49m\u001b[43m(\u001b[49m\u001b[43m)\u001b[49m\u001b[38;5;241m.\u001b[39m\u001b[38;5;21m__new__\u001b[39m(\u001b[38;5;28mcls\u001b[39m)\n\u001b[0;32m     29\u001b[0m     obj\u001b[38;5;241m.\u001b[39mx \u001b[38;5;241m=\u001b[39m x\n\u001b[0;32m     30\u001b[0m     obj\u001b[38;5;241m.\u001b[39my \u001b[38;5;241m=\u001b[39m y\n",
      "\u001b[1;31mKeyboardInterrupt\u001b[0m: "
     ]
    }
   ],
   "source": [
    "myprod3 = simplify(myprod2)"
   ]
  },
  {
   "cell_type": "code",
   "execution_count": 554,
   "id": "657cdb67",
   "metadata": {},
   "outputs": [
    {
     "data": {
      "text/latex": [
       "$\\displaystyle \\left[\\begin{matrix}\\frac{- q_{-}^{2} \\zeta^{2} \\zeta_{1}^{2} \\left(2 i b_{1} \\left(\\left(1 + e^{2 b_{1} x}\\right) e^{- b_{1} x}\\right)^{-1} e^{- b_{1} x} + \\zeta - \\zeta_{1}\\right)^{2} + \\left(2 b_{1} \\zeta \\left(\\left(1 + e^{2 b_{1} x}\\right) e^{- b_{1} x}\\right)^{-1} e^{- b_{1} x} - i \\zeta_{1} \\left(\\overline{\\zeta_1} - \\zeta\\right)\\right)^{2}}{2 \\zeta^{2} \\zeta_{1}^{2} \\left(\\overline{\\zeta_1} - \\zeta\\right)^{2} \\left(- \\lambda^{2} + \\lambda \\sqrt{\\lambda^{2} - 1} + 1\\right)} & \\frac{- \\overline{\\zeta_1} q_{+} q_{-} \\zeta_{1} \\cdot \\left(2 i b_{1} \\left(\\left(1 + e^{2 b_{1} x}\\right) e^{- b_{1} x}\\right)^{-1} + \\left(\\zeta - \\zeta_{1}\\right) e^{b_{1} x}\\right) \\left(- i \\overline{\\zeta_1} \\left(\\zeta - \\zeta_{1}\\right) + 2 b_{1} \\zeta \\left(\\left(1 + e^{2 b_{1} x}\\right) e^{- b_{1} x}\\right)^{-1} e^{- b_{1} x}\\right) e^{- b_{1} x} - \\left(2 b_{1} \\zeta \\left(\\left(1 + e^{2 b_{1} x}\\right) e^{- b_{1} x}\\right)^{-1} e^{- b_{1} x} - i \\zeta_{1} \\left(\\overline{\\zeta_1} - \\zeta\\right)\\right) \\left(\\overline{\\zeta_1} + 2 i b_{1} \\left(\\left(1 + e^{2 b_{1} x}\\right) e^{- b_{1} x}\\right)^{-1} e^{- b_{1} x} - \\zeta\\right)}{2 q_{+} \\zeta \\zeta_{1} \\left(\\overline{\\zeta_1} - \\zeta\\right)^{2} \\left(- \\lambda^{2} + \\lambda \\sqrt{\\lambda^{2} - 1} + 1\\right)}\\\\\\frac{\\overline{\\zeta_1} q_{+} q_{-} \\zeta_{1} \\left(- i \\overline{\\zeta_1} \\left(\\zeta - \\zeta_{1}\\right) + 2 b_{1} \\zeta \\left(\\left(1 + e^{2 b_{1} x}\\right) e^{- b_{1} x}\\right)^{-1} e^{- b_{1} x}\\right) \\left(2 i b_{1} \\left(\\left(1 + e^{2 b_{1} x}\\right) e^{- b_{1} x}\\right)^{-1} + \\left(\\zeta - \\zeta_{1}\\right) e^{b_{1} x}\\right) e^{- b_{1} x} + \\left(\\overline{\\zeta_1} + 2 i b_{1} \\left(\\left(1 + e^{2 b_{1} x}\\right) e^{- b_{1} x}\\right)^{-1} e^{- b_{1} x} - \\zeta\\right) \\left(2 b_{1} \\zeta \\left(\\left(1 + e^{2 b_{1} x}\\right) e^{- b_{1} x}\\right)^{-1} e^{- b_{1} x} - i \\zeta_{1} \\left(\\overline{\\zeta_1} - \\zeta\\right)\\right)}{2 q_{+} \\zeta \\zeta_{1} \\left(\\overline{\\zeta_1} - \\zeta\\right)^{2} \\left(- \\lambda^{2} + \\lambda \\sqrt{\\lambda^{2} - 1} + 1\\right)} & \\frac{\\overline{\\zeta_1}^{2} q_{+}^{2} \\left(i \\overline{\\zeta_1} \\left(\\zeta - \\zeta_{1}\\right) - 2 b_{1} \\zeta \\left(\\left(1 + e^{2 b_{1} x}\\right) e^{- b_{1} x}\\right)^{-1} e^{- b_{1} x}\\right)^{2} - \\zeta^{2} \\left(\\overline{\\zeta_1} + 2 i b_{1} \\left(\\left(1 + e^{2 b_{1} x}\\right) e^{- b_{1} x}\\right)^{-1} e^{- b_{1} x} - \\zeta\\right)^{2}}{2 q_{+}^{2} \\zeta^{2} \\left(\\overline{\\zeta_1} - \\zeta\\right)^{2} \\left(- \\lambda^{2} + \\lambda \\sqrt{\\lambda^{2} - 1} + 1\\right)}\\end{matrix}\\right]$"
      ],
      "text/plain": [
       "Matrix([\n",
       "[                                                                                                                                                                                                              (-q_-**2*zeta**2*zeta_1**2*(2*I*b_1*((1 + exp(2*b_1*x))*exp(-b_1*x))**(-1)*exp(-b_1*x) + zeta - zeta_1)**2 + (2*b_1*zeta*((1 + exp(2*b_1*x))*exp(-b_1*x))**(-1)*exp(-b_1*x) - I*zeta_1*(\\overline{\\zeta_1} - zeta))**2)/(2*zeta**2*zeta_1**2*(\\overline{\\zeta_1} - zeta)**2*(-\\lambda**2 + \\lambda*sqrt(\\lambda**2 - 1) + 1)), (-\\overline{\\zeta_1}*q_+*q_-*zeta_1*(2*I*b_1*((1 + exp(2*b_1*x))*exp(-b_1*x))**(-1) + (zeta - zeta_1)*exp(b_1*x))*(-I*\\overline{\\zeta_1}*(zeta - zeta_1) + 2*b_1*zeta*((1 + exp(2*b_1*x))*exp(-b_1*x))**(-1)*exp(-b_1*x))*exp(-b_1*x) - (2*b_1*zeta*((1 + exp(2*b_1*x))*exp(-b_1*x))**(-1)*exp(-b_1*x) - I*zeta_1*(\\overline{\\zeta_1} - zeta))*(\\overline{\\zeta_1} + 2*I*b_1*((1 + exp(2*b_1*x))*exp(-b_1*x))**(-1)*exp(-b_1*x) - zeta))/(2*q_+*zeta*zeta_1*(\\overline{\\zeta_1} - zeta)**2*(-\\lambda**2 + \\lambda*sqrt(\\lambda**2 - 1) + 1))],\n",
       "[(\\overline{\\zeta_1}*q_+*q_-*zeta_1*(-I*\\overline{\\zeta_1}*(zeta - zeta_1) + 2*b_1*zeta*((1 + exp(2*b_1*x))*exp(-b_1*x))**(-1)*exp(-b_1*x))*(2*I*b_1*((1 + exp(2*b_1*x))*exp(-b_1*x))**(-1) + (zeta - zeta_1)*exp(b_1*x))*exp(-b_1*x) + (\\overline{\\zeta_1} + 2*I*b_1*((1 + exp(2*b_1*x))*exp(-b_1*x))**(-1)*exp(-b_1*x) - zeta)*(2*b_1*zeta*((1 + exp(2*b_1*x))*exp(-b_1*x))**(-1)*exp(-b_1*x) - I*zeta_1*(\\overline{\\zeta_1} - zeta)))/(2*q_+*zeta*zeta_1*(\\overline{\\zeta_1} - zeta)**2*(-\\lambda**2 + \\lambda*sqrt(\\lambda**2 - 1) + 1)),                                                                                                                                                                                            (\\overline{\\zeta_1}**2*q_+**2*(I*\\overline{\\zeta_1}*(zeta - zeta_1) - 2*b_1*zeta*((1 + exp(2*b_1*x))*exp(-b_1*x))**(-1)*exp(-b_1*x))**2 - zeta**2*(\\overline{\\zeta_1} + 2*I*b_1*((1 + exp(2*b_1*x))*exp(-b_1*x))**(-1)*exp(-b_1*x) - zeta)**2)/(2*q_+**2*zeta**2*(\\overline{\\zeta_1} - zeta)**2*(-\\lambda**2 + \\lambda*sqrt(\\lambda**2 - 1) + 1))]])"
      ]
     },
     "metadata": {},
     "output_type": "display_data"
    }
   ],
   "source": [
    "ident = simplify(mjost * mjost_inv)\n",
    "display(ident)"
   ]
  },
  {
   "cell_type": "code",
   "execution_count": 555,
   "id": "94075fb8",
   "metadata": {},
   "outputs": [],
   "source": [
    "res = simplify(subs(ident, subs_list))"
   ]
  },
  {
   "cell_type": "code",
   "execution_count": 556,
   "id": "53683e7d",
   "metadata": {},
   "outputs": [
    {
     "data": {
      "text/latex": [
       "$\\displaystyle \\left[\\begin{matrix}- \\frac{q_{-}^{2} \\zeta^{2} \\left(a_{1} + i \\sqrt{1 - a_{1}^{2}}\\right)^{2} \\left(\\left(2 i \\sqrt{1 - a_{1}^{2}} \\left(\\left(1 + e^{2 \\sqrt{1 - a_{1}^{2}} x}\\right) e^{- \\sqrt{1 - a_{1}^{2}} x}\\right)^{-1} - \\left(a_{1} - \\zeta + i \\sqrt{1 - a_{1}^{2}}\\right) e^{\\sqrt{1 - a_{1}^{2}} x}\\right) e^{- \\sqrt{1 - a_{1}^{2}} x}\\right)^{2} - \\left(\\left(2 \\zeta \\sqrt{1 - a_{1}^{2}} \\left(\\left(1 + e^{2 \\sqrt{1 - a_{1}^{2}} x}\\right) e^{- \\sqrt{1 - a_{1}^{2}} x}\\right)^{-1} + i \\left(a_{1} + i \\sqrt{1 - a_{1}^{2}}\\right) \\left(- a_{1} + \\zeta + i \\sqrt{1 - a_{1}^{2}}\\right) e^{\\sqrt{1 - a_{1}^{2}} x}\\right) e^{- \\sqrt{1 - a_{1}^{2}} x}\\right)^{2}}{2 \\zeta^{2} \\left(a_{1} + i \\sqrt{1 - a_{1}^{2}}\\right)^{2} \\left(- \\lambda^{2} + \\lambda \\sqrt{\\lambda^{2} - 1} + 1\\right) \\left(- a_{1} + \\zeta + i \\sqrt{1 - a_{1}^{2}}\\right)^{2}} & - \\frac{\\left(q_{-}^{2} \\left(a_{1} - i \\sqrt{1 - a_{1}^{2}}\\right) \\left(a_{1} + i \\sqrt{1 - a_{1}^{2}}\\right)^{3} \\cdot \\left(2 i \\sqrt{1 - a_{1}^{2}} \\left(\\left(1 + e^{2 \\sqrt{1 - a_{1}^{2}} x}\\right) e^{- \\sqrt{1 - a_{1}^{2}} x}\\right)^{-1} - \\left(a_{1} - \\zeta + i \\sqrt{1 - a_{1}^{2}}\\right) e^{\\sqrt{1 - a_{1}^{2}} x}\\right) \\left(2 \\zeta \\sqrt{1 - a_{1}^{2}} \\left(\\left(1 + e^{2 \\sqrt{1 - a_{1}^{2}} x}\\right) e^{- \\sqrt{1 - a_{1}^{2}} x}\\right)^{-1} + i \\left(a_{1} - i \\sqrt{1 - a_{1}^{2}}\\right) \\left(a_{1} - \\zeta + i \\sqrt{1 - a_{1}^{2}}\\right) e^{\\sqrt{1 - a_{1}^{2}} x}\\right) + \\left(2 \\zeta \\sqrt{1 - a_{1}^{2}} \\left(\\left(1 + e^{2 \\sqrt{1 - a_{1}^{2}} x}\\right) e^{- \\sqrt{1 - a_{1}^{2}} x}\\right)^{-1} + i \\left(a_{1} + i \\sqrt{1 - a_{1}^{2}}\\right) \\left(- a_{1} + \\zeta + i \\sqrt{1 - a_{1}^{2}}\\right) e^{\\sqrt{1 - a_{1}^{2}} x}\\right) \\left(2 i \\sqrt{1 - a_{1}^{2}} \\left(\\left(1 + e^{2 \\sqrt{1 - a_{1}^{2}} x}\\right) e^{- \\sqrt{1 - a_{1}^{2}} x}\\right)^{-1} - \\left(- a_{1} + \\zeta + i \\sqrt{1 - a_{1}^{2}}\\right) e^{\\sqrt{1 - a_{1}^{2}} x}\\right)\\right) e^{- 2 \\sqrt{1 - a_{1}^{2}} x}}{2 q_{-} \\zeta \\left(a_{1} + i \\sqrt{1 - a_{1}^{2}}\\right)^{3} \\left(- \\lambda^{2} + \\lambda \\sqrt{\\lambda^{2} - 1} + 1\\right) \\left(- a_{1} + \\zeta + i \\sqrt{1 - a_{1}^{2}}\\right)^{2}}\\\\\\frac{\\left(q_{-}^{2} \\left(a_{1} - i \\sqrt{1 - a_{1}^{2}}\\right) \\left(a_{1} + i \\sqrt{1 - a_{1}^{2}}\\right)^{3} \\cdot \\left(2 \\zeta \\sqrt{1 - a_{1}^{2}} \\left(\\left(1 + e^{2 \\sqrt{1 - a_{1}^{2}} x}\\right) e^{- \\sqrt{1 - a_{1}^{2}} x}\\right)^{-1} + i \\left(a_{1} - i \\sqrt{1 - a_{1}^{2}}\\right) \\left(a_{1} - \\zeta + i \\sqrt{1 - a_{1}^{2}}\\right) e^{\\sqrt{1 - a_{1}^{2}} x}\\right) \\left(2 i \\sqrt{1 - a_{1}^{2}} \\left(\\left(1 + e^{2 \\sqrt{1 - a_{1}^{2}} x}\\right) e^{- \\sqrt{1 - a_{1}^{2}} x}\\right)^{-1} + \\left(- a_{1} + \\zeta - i \\sqrt{1 - a_{1}^{2}}\\right) e^{\\sqrt{1 - a_{1}^{2}} x}\\right) + \\left(2 i \\sqrt{1 - a_{1}^{2}} \\left(\\left(1 + e^{2 \\sqrt{1 - a_{1}^{2}} x}\\right) e^{- \\sqrt{1 - a_{1}^{2}} x}\\right)^{-1} + \\left(a_{1} - \\zeta - i \\sqrt{1 - a_{1}^{2}}\\right) e^{\\sqrt{1 - a_{1}^{2}} x}\\right) \\left(2 \\zeta \\sqrt{1 - a_{1}^{2}} \\left(\\left(1 + e^{2 \\sqrt{1 - a_{1}^{2}} x}\\right) e^{- \\sqrt{1 - a_{1}^{2}} x}\\right)^{-1} + i \\left(a_{1} + i \\sqrt{1 - a_{1}^{2}}\\right) \\left(- a_{1} + \\zeta + i \\sqrt{1 - a_{1}^{2}}\\right) e^{\\sqrt{1 - a_{1}^{2}} x}\\right)\\right) e^{- 2 \\sqrt{1 - a_{1}^{2}} x}}{2 q_{-} \\zeta \\left(a_{1} + i \\sqrt{1 - a_{1}^{2}}\\right)^{3} \\left(- \\lambda^{2} + \\lambda \\sqrt{\\lambda^{2} - 1} + 1\\right) \\left(- a_{1} + \\zeta + i \\sqrt{1 - a_{1}^{2}}\\right)^{2}} & \\frac{q_{-}^{2} \\left(a_{1} - i \\sqrt{1 - a_{1}^{2}}\\right)^{2} \\left(a_{1} + i \\sqrt{1 - a_{1}^{2}}\\right)^{4} \\left(\\left(2 \\zeta \\sqrt{1 - a_{1}^{2}} \\left(\\left(1 + e^{2 \\sqrt{1 - a_{1}^{2}} x}\\right) e^{- \\sqrt{1 - a_{1}^{2}} x}\\right)^{-1} + i \\left(a_{1} - i \\sqrt{1 - a_{1}^{2}}\\right) \\left(a_{1} - \\zeta + i \\sqrt{1 - a_{1}^{2}}\\right) e^{\\sqrt{1 - a_{1}^{2}} x}\\right) e^{- \\sqrt{1 - a_{1}^{2}} x}\\right)^{2} - \\zeta^{2} \\left(\\left(2 i \\sqrt{1 - a_{1}^{2}} \\left(\\left(1 + e^{2 \\sqrt{1 - a_{1}^{2}} x}\\right) e^{- \\sqrt{1 - a_{1}^{2}} x}\\right)^{-1} + \\left(a_{1} - \\zeta - i \\sqrt{1 - a_{1}^{2}}\\right) e^{\\sqrt{1 - a_{1}^{2}} x}\\right) e^{- \\sqrt{1 - a_{1}^{2}} x}\\right)^{2}}{2 q_{-}^{2} \\zeta^{2} \\left(a_{1} + i \\sqrt{1 - a_{1}^{2}}\\right)^{4} \\left(- \\lambda^{2} + \\lambda \\sqrt{\\lambda^{2} - 1} + 1\\right) \\left(- a_{1} + \\zeta + i \\sqrt{1 - a_{1}^{2}}\\right)^{2}}\\end{matrix}\\right]$"
      ],
      "text/plain": [
       "Matrix([\n",
       "[                                                                                                                                                                                                                                                                                                                           -(q_-**2*zeta**2*(a_1 + I*sqrt(1 - a_1**2))**2*((2*I*sqrt(1 - a_1**2)*((1 + exp(2*sqrt(1 - a_1**2)*x))*exp(-sqrt(1 - a_1**2)*x))**(-1) - (a_1 - zeta + I*sqrt(1 - a_1**2))*exp(sqrt(1 - a_1**2)*x))*exp(-sqrt(1 - a_1**2)*x))**2 - ((2*zeta*sqrt(1 - a_1**2)*((1 + exp(2*sqrt(1 - a_1**2)*x))*exp(-sqrt(1 - a_1**2)*x))**(-1) + I*(a_1 + I*sqrt(1 - a_1**2))*(-a_1 + zeta + I*sqrt(1 - a_1**2))*exp(sqrt(1 - a_1**2)*x))*exp(-sqrt(1 - a_1**2)*x))**2)/(2*zeta**2*(a_1 + I*sqrt(1 - a_1**2))**2*(-\\lambda**2 + \\lambda*sqrt(\\lambda**2 - 1) + 1)*(-a_1 + zeta + I*sqrt(1 - a_1**2))**2), -(q_-**2*(a_1 - I*sqrt(1 - a_1**2))*(a_1 + I*sqrt(1 - a_1**2))**3*(2*I*sqrt(1 - a_1**2)*((1 + exp(2*sqrt(1 - a_1**2)*x))*exp(-sqrt(1 - a_1**2)*x))**(-1) - (a_1 - zeta + I*sqrt(1 - a_1**2))*exp(sqrt(1 - a_1**2)*x))*(2*zeta*sqrt(1 - a_1**2)*((1 + exp(2*sqrt(1 - a_1**2)*x))*exp(-sqrt(1 - a_1**2)*x))**(-1) + I*(a_1 - I*sqrt(1 - a_1**2))*(a_1 - zeta + I*sqrt(1 - a_1**2))*exp(sqrt(1 - a_1**2)*x)) + (2*zeta*sqrt(1 - a_1**2)*((1 + exp(2*sqrt(1 - a_1**2)*x))*exp(-sqrt(1 - a_1**2)*x))**(-1) + I*(a_1 + I*sqrt(1 - a_1**2))*(-a_1 + zeta + I*sqrt(1 - a_1**2))*exp(sqrt(1 - a_1**2)*x))*(2*I*sqrt(1 - a_1**2)*((1 + exp(2*sqrt(1 - a_1**2)*x))*exp(-sqrt(1 - a_1**2)*x))**(-1) - (-a_1 + zeta + I*sqrt(1 - a_1**2))*exp(sqrt(1 - a_1**2)*x)))*exp(-2*sqrt(1 - a_1**2)*x)/(2*q_-*zeta*(a_1 + I*sqrt(1 - a_1**2))**3*(-\\lambda**2 + \\lambda*sqrt(\\lambda**2 - 1) + 1)*(-a_1 + zeta + I*sqrt(1 - a_1**2))**2)],\n",
       "[(q_-**2*(a_1 - I*sqrt(1 - a_1**2))*(a_1 + I*sqrt(1 - a_1**2))**3*(2*zeta*sqrt(1 - a_1**2)*((1 + exp(2*sqrt(1 - a_1**2)*x))*exp(-sqrt(1 - a_1**2)*x))**(-1) + I*(a_1 - I*sqrt(1 - a_1**2))*(a_1 - zeta + I*sqrt(1 - a_1**2))*exp(sqrt(1 - a_1**2)*x))*(2*I*sqrt(1 - a_1**2)*((1 + exp(2*sqrt(1 - a_1**2)*x))*exp(-sqrt(1 - a_1**2)*x))**(-1) + (-a_1 + zeta - I*sqrt(1 - a_1**2))*exp(sqrt(1 - a_1**2)*x)) + (2*I*sqrt(1 - a_1**2)*((1 + exp(2*sqrt(1 - a_1**2)*x))*exp(-sqrt(1 - a_1**2)*x))**(-1) + (a_1 - zeta - I*sqrt(1 - a_1**2))*exp(sqrt(1 - a_1**2)*x))*(2*zeta*sqrt(1 - a_1**2)*((1 + exp(2*sqrt(1 - a_1**2)*x))*exp(-sqrt(1 - a_1**2)*x))**(-1) + I*(a_1 + I*sqrt(1 - a_1**2))*(-a_1 + zeta + I*sqrt(1 - a_1**2))*exp(sqrt(1 - a_1**2)*x)))*exp(-2*sqrt(1 - a_1**2)*x)/(2*q_-*zeta*(a_1 + I*sqrt(1 - a_1**2))**3*(-\\lambda**2 + \\lambda*sqrt(\\lambda**2 - 1) + 1)*(-a_1 + zeta + I*sqrt(1 - a_1**2))**2),                                                                                                                                                                                                                                                                                          (q_-**2*(a_1 - I*sqrt(1 - a_1**2))**2*(a_1 + I*sqrt(1 - a_1**2))**4*((2*zeta*sqrt(1 - a_1**2)*((1 + exp(2*sqrt(1 - a_1**2)*x))*exp(-sqrt(1 - a_1**2)*x))**(-1) + I*(a_1 - I*sqrt(1 - a_1**2))*(a_1 - zeta + I*sqrt(1 - a_1**2))*exp(sqrt(1 - a_1**2)*x))*exp(-sqrt(1 - a_1**2)*x))**2 - zeta**2*((2*I*sqrt(1 - a_1**2)*((1 + exp(2*sqrt(1 - a_1**2)*x))*exp(-sqrt(1 - a_1**2)*x))**(-1) + (a_1 - zeta - I*sqrt(1 - a_1**2))*exp(sqrt(1 - a_1**2)*x))*exp(-sqrt(1 - a_1**2)*x))**2)/(2*q_-**2*zeta**2*(a_1 + I*sqrt(1 - a_1**2))**4*(-\\lambda**2 + \\lambda*sqrt(\\lambda**2 - 1) + 1)*(-a_1 + zeta + I*sqrt(1 - a_1**2))**2)]])"
      ]
     },
     "metadata": {},
     "output_type": "display_data"
    }
   ],
   "source": [
    "display(res)"
   ]
  },
  {
   "cell_type": "code",
   "execution_count": 548,
   "id": "da9afbce",
   "metadata": {},
   "outputs": [
    {
     "data": {
      "text/latex": [
       "$\\displaystyle \\left[\\begin{matrix}- \\frac{q_{-} \\left(a_{1} - \\zeta + i \\left(\\sqrt{1 - a_{1}^{2}} - \\sqrt{1 - a_{1}^{2}} \\cosh^{-1}{\\left(\\sqrt{1 - a_{1}^{2}} x \\right)} e^{- \\sqrt{1 - a_{1}^{2}} x}\\right)\\right)}{- a_{1} + \\zeta + i \\sqrt{1 - a_{1}^{2}}} & - \\frac{\\sqrt{1 - a_{1}^{2}} \\cosh^{-1}{\\left(\\sqrt{1 - a_{1}^{2}} x \\right)} e^{- \\sqrt{1 - a_{1}^{2}} x} - \\frac{\\zeta \\sqrt{1 - a_{1}^{2}} - i \\left(a_{1} \\zeta - 1\\right)}{\\zeta}}{a_{1} \\zeta + i \\zeta \\sqrt{1 - a_{1}^{2}} - 1}\\\\\\frac{\\left(a_{1} - i \\sqrt{1 - a_{1}^{2}}\\right) \\left(- i a_{1} \\zeta - \\zeta \\sqrt{1 - a_{1}^{2}} + 2 \\zeta \\sqrt{1 - a_{1}^{2}} \\left(\\left(1 + e^{2 \\sqrt{1 - a_{1}^{2}} x}\\right) e^{- \\sqrt{1 - a_{1}^{2}} x}\\right)^{-1} e^{- \\sqrt{1 - a_{1}^{2}} x} + i\\right)}{\\zeta \\left(a_{1} - \\zeta - i \\sqrt{1 - a_{1}^{2}}\\right)} & \\frac{- a_{1} + \\zeta + i \\sqrt{1 - a_{1}^{2}} - 2 i \\sqrt{1 - a_{1}^{2}} \\left(\\left(1 + e^{2 \\sqrt{1 - a_{1}^{2}} x}\\right) e^{- \\sqrt{1 - a_{1}^{2}} x}\\right)^{-1} e^{- \\sqrt{1 - a_{1}^{2}} x}}{q_{-} \\left(a_{1} + i \\sqrt{1 - a_{1}^{2}}\\right)^{2} \\left(- a_{1} + \\zeta + i \\sqrt{1 - a_{1}^{2}}\\right)}\\end{matrix}\\right]$"
      ],
      "text/plain": [
       "Matrix([\n",
       "[                                                                           -q_-*(a_1 - zeta + I*(sqrt(1 - a_1**2) - sqrt(1 - a_1**2)*cosh(sqrt(1 - a_1**2)*x)**(-1)*exp(-sqrt(1 - a_1**2)*x)))/(-a_1 + zeta + I*sqrt(1 - a_1**2)),                                                     -(sqrt(1 - a_1**2)*cosh(sqrt(1 - a_1**2)*x)**(-1)*exp(-sqrt(1 - a_1**2)*x) - (zeta*sqrt(1 - a_1**2) - I*(a_1*zeta - 1))/zeta)/(a_1*zeta + I*zeta*sqrt(1 - a_1**2) - 1)],\n",
       "[(a_1 - I*sqrt(1 - a_1**2))*(-I*a_1*zeta - zeta*sqrt(1 - a_1**2) + 2*zeta*sqrt(1 - a_1**2)*((1 + exp(2*sqrt(1 - a_1**2)*x))*exp(-sqrt(1 - a_1**2)*x))**(-1)*exp(-sqrt(1 - a_1**2)*x) + I)/(zeta*(a_1 - zeta - I*sqrt(1 - a_1**2))), (-a_1 + zeta + I*sqrt(1 - a_1**2) - 2*I*sqrt(1 - a_1**2)*((1 + exp(2*sqrt(1 - a_1**2)*x))*exp(-sqrt(1 - a_1**2)*x))**(-1)*exp(-sqrt(1 - a_1**2)*x))/(q_-*(a_1 + I*sqrt(1 - a_1**2))**2*(-a_1 + zeta + I*sqrt(1 - a_1**2)))]])"
      ]
     },
     "metadata": {},
     "output_type": "display_data"
    },
    {
     "ename": "KeyboardInterrupt",
     "evalue": "",
     "output_type": "error",
     "traceback": [
      "\u001b[1;31m---------------------------------------------------------------------------\u001b[0m",
      "\u001b[1;31mKeyboardInterrupt\u001b[0m                         Traceback (most recent call last)",
      "Cell \u001b[1;32mIn[548], line 2\u001b[0m\n\u001b[0;32m      1\u001b[0m display(mjost_subbed)\n\u001b[1;32m----> 2\u001b[0m display(\u001b[43mdet\u001b[49m\u001b[43m(\u001b[49m\u001b[43mmjost_subbed\u001b[49m\u001b[43m)\u001b[49m)\n",
      "File \u001b[1;32m~\\anaconda3\\lib\\site-packages\\sympy\\matrices\\expressions\\determinant.py:63\u001b[0m, in \u001b[0;36mdet\u001b[1;34m(matexpr)\u001b[0m\n\u001b[0;32m     49\u001b[0m \u001b[38;5;28;01mdef\u001b[39;00m \u001b[38;5;21mdet\u001b[39m(matexpr):\n\u001b[0;32m     50\u001b[0m \u001b[38;5;250m    \u001b[39m\u001b[38;5;124;03m\"\"\" Matrix Determinant\u001b[39;00m\n\u001b[0;32m     51\u001b[0m \n\u001b[0;32m     52\u001b[0m \u001b[38;5;124;03m    Examples\u001b[39;00m\n\u001b[1;32m   (...)\u001b[0m\n\u001b[0;32m     60\u001b[0m \u001b[38;5;124;03m    1\u001b[39;00m\n\u001b[0;32m     61\u001b[0m \u001b[38;5;124;03m    \"\"\"\u001b[39;00m\n\u001b[1;32m---> 63\u001b[0m     \u001b[38;5;28;01mreturn\u001b[39;00m \u001b[43mDeterminant\u001b[49m\u001b[43m(\u001b[49m\u001b[43mmatexpr\u001b[49m\u001b[43m)\u001b[49m\u001b[38;5;241;43m.\u001b[39;49m\u001b[43mdoit\u001b[49m\u001b[43m(\u001b[49m\u001b[43m)\u001b[49m\n",
      "File \u001b[1;32m~\\anaconda3\\lib\\site-packages\\sympy\\matrices\\expressions\\determinant.py:45\u001b[0m, in \u001b[0;36mDeterminant.doit\u001b[1;34m(self, expand, **hints)\u001b[0m\n\u001b[0;32m     43\u001b[0m \u001b[38;5;28;01mdef\u001b[39;00m \u001b[38;5;21mdoit\u001b[39m(\u001b[38;5;28mself\u001b[39m, expand\u001b[38;5;241m=\u001b[39m\u001b[38;5;28;01mFalse\u001b[39;00m, \u001b[38;5;241m*\u001b[39m\u001b[38;5;241m*\u001b[39mhints):\n\u001b[0;32m     44\u001b[0m     \u001b[38;5;28;01mtry\u001b[39;00m:\n\u001b[1;32m---> 45\u001b[0m         \u001b[38;5;28;01mreturn\u001b[39;00m \u001b[38;5;28;43mself\u001b[39;49m\u001b[38;5;241;43m.\u001b[39;49m\u001b[43marg\u001b[49m\u001b[38;5;241;43m.\u001b[39;49m\u001b[43m_eval_determinant\u001b[49m\u001b[43m(\u001b[49m\u001b[43m)\u001b[49m\n\u001b[0;32m     46\u001b[0m     \u001b[38;5;28;01mexcept\u001b[39;00m (\u001b[38;5;167;01mAttributeError\u001b[39;00m, \u001b[38;5;167;01mNotImplementedError\u001b[39;00m):\n\u001b[0;32m     47\u001b[0m         \u001b[38;5;28;01mreturn\u001b[39;00m \u001b[38;5;28mself\u001b[39m\n",
      "File \u001b[1;32m~\\anaconda3\\lib\\site-packages\\sympy\\matrices\\matrices.py:115\u001b[0m, in \u001b[0;36mMatrixDeterminant._eval_determinant\u001b[1;34m(self)\u001b[0m\n\u001b[0;32m    114\u001b[0m \u001b[38;5;28;01mdef\u001b[39;00m \u001b[38;5;21m_eval_determinant\u001b[39m(\u001b[38;5;28mself\u001b[39m): \u001b[38;5;66;03m# for expressions.determinant.Determinant\u001b[39;00m\n\u001b[1;32m--> 115\u001b[0m     \u001b[38;5;28;01mreturn\u001b[39;00m \u001b[43m_det\u001b[49m\u001b[43m(\u001b[49m\u001b[38;5;28;43mself\u001b[39;49m\u001b[43m)\u001b[49m\n",
      "File \u001b[1;32m~\\anaconda3\\lib\\site-packages\\sympy\\matrices\\determinant.py:651\u001b[0m, in \u001b[0;36m_det\u001b[1;34m(M, method, iszerofunc)\u001b[0m\n\u001b[0;32m    649\u001b[0m \u001b[38;5;28;01melif\u001b[39;00m n \u001b[38;5;241m==\u001b[39m \u001b[38;5;241m2\u001b[39m:\n\u001b[0;32m    650\u001b[0m     m \u001b[38;5;241m=\u001b[39m M[\u001b[38;5;241m0\u001b[39m, \u001b[38;5;241m0\u001b[39m] \u001b[38;5;241m*\u001b[39m M[\u001b[38;5;241m1\u001b[39m, \u001b[38;5;241m1\u001b[39m] \u001b[38;5;241m-\u001b[39m M[\u001b[38;5;241m0\u001b[39m, \u001b[38;5;241m1\u001b[39m] \u001b[38;5;241m*\u001b[39m M[\u001b[38;5;241m1\u001b[39m, \u001b[38;5;241m0\u001b[39m]\n\u001b[1;32m--> 651\u001b[0m     \u001b[38;5;28;01mreturn\u001b[39;00m \u001b[43m_get_intermediate_simp\u001b[49m\u001b[43m(\u001b[49m\u001b[43m_dotprodsimp\u001b[49m\u001b[43m)\u001b[49m\u001b[43m(\u001b[49m\u001b[43mm\u001b[49m\u001b[43m)\u001b[49m\n\u001b[0;32m    652\u001b[0m \u001b[38;5;28;01melif\u001b[39;00m n \u001b[38;5;241m==\u001b[39m \u001b[38;5;241m3\u001b[39m:\n\u001b[0;32m    653\u001b[0m     m \u001b[38;5;241m=\u001b[39m  (M[\u001b[38;5;241m0\u001b[39m, \u001b[38;5;241m0\u001b[39m] \u001b[38;5;241m*\u001b[39m M[\u001b[38;5;241m1\u001b[39m, \u001b[38;5;241m1\u001b[39m] \u001b[38;5;241m*\u001b[39m M[\u001b[38;5;241m2\u001b[39m, \u001b[38;5;241m2\u001b[39m]\n\u001b[0;32m    654\u001b[0m         \u001b[38;5;241m+\u001b[39m M[\u001b[38;5;241m0\u001b[39m, \u001b[38;5;241m1\u001b[39m] \u001b[38;5;241m*\u001b[39m M[\u001b[38;5;241m1\u001b[39m, \u001b[38;5;241m2\u001b[39m] \u001b[38;5;241m*\u001b[39m M[\u001b[38;5;241m2\u001b[39m, \u001b[38;5;241m0\u001b[39m]\n\u001b[0;32m    655\u001b[0m         \u001b[38;5;241m+\u001b[39m M[\u001b[38;5;241m0\u001b[39m, \u001b[38;5;241m2\u001b[39m] \u001b[38;5;241m*\u001b[39m M[\u001b[38;5;241m1\u001b[39m, \u001b[38;5;241m0\u001b[39m] \u001b[38;5;241m*\u001b[39m M[\u001b[38;5;241m2\u001b[39m, \u001b[38;5;241m1\u001b[39m]\n\u001b[0;32m    656\u001b[0m         \u001b[38;5;241m-\u001b[39m M[\u001b[38;5;241m0\u001b[39m, \u001b[38;5;241m2\u001b[39m] \u001b[38;5;241m*\u001b[39m M[\u001b[38;5;241m1\u001b[39m, \u001b[38;5;241m1\u001b[39m] \u001b[38;5;241m*\u001b[39m M[\u001b[38;5;241m2\u001b[39m, \u001b[38;5;241m0\u001b[39m]\n\u001b[0;32m    657\u001b[0m         \u001b[38;5;241m-\u001b[39m M[\u001b[38;5;241m0\u001b[39m, \u001b[38;5;241m0\u001b[39m] \u001b[38;5;241m*\u001b[39m M[\u001b[38;5;241m1\u001b[39m, \u001b[38;5;241m2\u001b[39m] \u001b[38;5;241m*\u001b[39m M[\u001b[38;5;241m2\u001b[39m, \u001b[38;5;241m1\u001b[39m]\n\u001b[0;32m    658\u001b[0m         \u001b[38;5;241m-\u001b[39m M[\u001b[38;5;241m0\u001b[39m, \u001b[38;5;241m1\u001b[39m] \u001b[38;5;241m*\u001b[39m M[\u001b[38;5;241m1\u001b[39m, \u001b[38;5;241m0\u001b[39m] \u001b[38;5;241m*\u001b[39m M[\u001b[38;5;241m2\u001b[39m, \u001b[38;5;241m2\u001b[39m])\n",
      "File \u001b[1;32m~\\anaconda3\\lib\\site-packages\\sympy\\matrices\\utilities.py:27\u001b[0m, in \u001b[0;36m_dotprodsimp\u001b[1;34m(expr, withsimp)\u001b[0m\n\u001b[0;32m     25\u001b[0m \u001b[38;5;250m\u001b[39m\u001b[38;5;124;03m\"\"\"Wrapper for simplify.dotprodsimp to avoid circular imports.\"\"\"\u001b[39;00m\n\u001b[0;32m     26\u001b[0m \u001b[38;5;28;01mfrom\u001b[39;00m \u001b[38;5;21;01msympy\u001b[39;00m\u001b[38;5;21;01m.\u001b[39;00m\u001b[38;5;21;01msimplify\u001b[39;00m\u001b[38;5;21;01m.\u001b[39;00m\u001b[38;5;21;01msimplify\u001b[39;00m \u001b[38;5;28;01mimport\u001b[39;00m dotprodsimp \u001b[38;5;28;01mas\u001b[39;00m dps\n\u001b[1;32m---> 27\u001b[0m \u001b[38;5;28;01mreturn\u001b[39;00m \u001b[43mdps\u001b[49m\u001b[43m(\u001b[49m\u001b[43mexpr\u001b[49m\u001b[43m,\u001b[49m\u001b[43m \u001b[49m\u001b[43mwithsimp\u001b[49m\u001b[38;5;241;43m=\u001b[39;49m\u001b[43mwithsimp\u001b[49m\u001b[43m)\u001b[49m\n",
      "File \u001b[1;32m~\\anaconda3\\lib\\site-packages\\sympy\\simplify\\simplify.py:2093\u001b[0m, in \u001b[0;36mdotprodsimp\u001b[1;34m(expr, withsimp)\u001b[0m\n\u001b[0;32m   2090\u001b[0m expr2   \u001b[38;5;241m=\u001b[39m nonalg_subs_dummies(expr, dummies)\n\u001b[0;32m   2092\u001b[0m \u001b[38;5;28;01mif\u001b[39;00m expr2 \u001b[38;5;129;01mis\u001b[39;00m expr \u001b[38;5;129;01mor\u001b[39;00m count_ops_alg(expr2)[\u001b[38;5;241m0\u001b[39m] \u001b[38;5;241m>\u001b[39m\u001b[38;5;241m=\u001b[39m \u001b[38;5;241m6\u001b[39m: \u001b[38;5;66;03m# check again after substitution\u001b[39;00m\n\u001b[1;32m-> 2093\u001b[0m     expr3 \u001b[38;5;241m=\u001b[39m \u001b[43mcancel\u001b[49m\u001b[43m(\u001b[49m\u001b[43mexpr2\u001b[49m\u001b[43m)\u001b[49m\n\u001b[0;32m   2095\u001b[0m     \u001b[38;5;28;01mif\u001b[39;00m expr3 \u001b[38;5;241m!=\u001b[39m expr2:\n\u001b[0;32m   2096\u001b[0m         expr       \u001b[38;5;241m=\u001b[39m expr3\u001b[38;5;241m.\u001b[39msubs([(d, e) \u001b[38;5;28;01mfor\u001b[39;00m e, d \u001b[38;5;129;01min\u001b[39;00m dummies\u001b[38;5;241m.\u001b[39mitems()])\n",
      "File \u001b[1;32m~\\anaconda3\\lib\\site-packages\\sympy\\polys\\polytools.py:6766\u001b[0m, in \u001b[0;36mcancel\u001b[1;34m(f, _signsimp, *gens, **args)\u001b[0m\n\u001b[0;32m   6764\u001b[0m \u001b[38;5;28;01mif\u001b[39;00m f\u001b[38;5;241m.\u001b[39mhas(Piecewise):\n\u001b[0;32m   6765\u001b[0m     \u001b[38;5;28;01mraise\u001b[39;00m PolynomialError()\n\u001b[1;32m-> 6766\u001b[0m R, (F, G) \u001b[38;5;241m=\u001b[39m sring((p, q), \u001b[38;5;241m*\u001b[39mgens, \u001b[38;5;241m*\u001b[39m\u001b[38;5;241m*\u001b[39margs)\n\u001b[0;32m   6767\u001b[0m \u001b[38;5;28;01mif\u001b[39;00m \u001b[38;5;129;01mnot\u001b[39;00m R\u001b[38;5;241m.\u001b[39mngens:\n\u001b[0;32m   6768\u001b[0m     \u001b[38;5;28;01mif\u001b[39;00m \u001b[38;5;129;01mnot\u001b[39;00m \u001b[38;5;28misinstance\u001b[39m(f, (\u001b[38;5;28mtuple\u001b[39m, Tuple)):\n",
      "File \u001b[1;32m~\\anaconda3\\lib\\site-packages\\sympy\\polys\\rings.py:163\u001b[0m, in \u001b[0;36msring\u001b[1;34m(exprs, *symbols, **options)\u001b[0m\n\u001b[0;32m    160\u001b[0m opt \u001b[38;5;241m=\u001b[39m build_options(symbols, options)\n\u001b[0;32m    162\u001b[0m \u001b[38;5;66;03m# TODO: rewrite this so that it doesn't use expand() (see poly()).\u001b[39;00m\n\u001b[1;32m--> 163\u001b[0m reps, opt \u001b[38;5;241m=\u001b[39m \u001b[43m_parallel_dict_from_expr\u001b[49m\u001b[43m(\u001b[49m\u001b[43mexprs\u001b[49m\u001b[43m,\u001b[49m\u001b[43m \u001b[49m\u001b[43mopt\u001b[49m\u001b[43m)\u001b[49m\n\u001b[0;32m    165\u001b[0m \u001b[38;5;28;01mif\u001b[39;00m opt\u001b[38;5;241m.\u001b[39mdomain \u001b[38;5;129;01mis\u001b[39;00m \u001b[38;5;28;01mNone\u001b[39;00m:\n\u001b[0;32m    166\u001b[0m     coeffs \u001b[38;5;241m=\u001b[39m \u001b[38;5;28msum\u001b[39m([ \u001b[38;5;28mlist\u001b[39m(rep\u001b[38;5;241m.\u001b[39mvalues()) \u001b[38;5;28;01mfor\u001b[39;00m rep \u001b[38;5;129;01min\u001b[39;00m reps ], [])\n",
      "File \u001b[1;32m~\\anaconda3\\lib\\site-packages\\sympy\\polys\\polyutils.py:326\u001b[0m, in \u001b[0;36m_parallel_dict_from_expr\u001b[1;34m(exprs, opt)\u001b[0m\n\u001b[0;32m    324\u001b[0m \u001b[38;5;250m\u001b[39m\u001b[38;5;124;03m\"\"\"Transform expressions into a multinomial form. \"\"\"\u001b[39;00m\n\u001b[0;32m    325\u001b[0m \u001b[38;5;28;01mif\u001b[39;00m opt\u001b[38;5;241m.\u001b[39mexpand \u001b[38;5;129;01mis\u001b[39;00m \u001b[38;5;129;01mnot\u001b[39;00m \u001b[38;5;28;01mFalse\u001b[39;00m:\n\u001b[1;32m--> 326\u001b[0m     exprs \u001b[38;5;241m=\u001b[39m [ expr\u001b[38;5;241m.\u001b[39mexpand() \u001b[38;5;28;01mfor\u001b[39;00m expr \u001b[38;5;129;01min\u001b[39;00m exprs ]\n\u001b[0;32m    328\u001b[0m \u001b[38;5;28;01mif\u001b[39;00m \u001b[38;5;28many\u001b[39m(expr\u001b[38;5;241m.\u001b[39mis_commutative \u001b[38;5;129;01mis\u001b[39;00m \u001b[38;5;28;01mFalse\u001b[39;00m \u001b[38;5;28;01mfor\u001b[39;00m expr \u001b[38;5;129;01min\u001b[39;00m exprs):\n\u001b[0;32m    329\u001b[0m     \u001b[38;5;28;01mraise\u001b[39;00m PolynomialError(\u001b[38;5;124m'\u001b[39m\u001b[38;5;124mnon-commutative expressions are not supported\u001b[39m\u001b[38;5;124m'\u001b[39m)\n",
      "File \u001b[1;32m~\\anaconda3\\lib\\site-packages\\sympy\\polys\\polyutils.py:326\u001b[0m, in \u001b[0;36m<listcomp>\u001b[1;34m(.0)\u001b[0m\n\u001b[0;32m    324\u001b[0m \u001b[38;5;250m\u001b[39m\u001b[38;5;124;03m\"\"\"Transform expressions into a multinomial form. \"\"\"\u001b[39;00m\n\u001b[0;32m    325\u001b[0m \u001b[38;5;28;01mif\u001b[39;00m opt\u001b[38;5;241m.\u001b[39mexpand \u001b[38;5;129;01mis\u001b[39;00m \u001b[38;5;129;01mnot\u001b[39;00m \u001b[38;5;28;01mFalse\u001b[39;00m:\n\u001b[1;32m--> 326\u001b[0m     exprs \u001b[38;5;241m=\u001b[39m [ \u001b[43mexpr\u001b[49m\u001b[38;5;241;43m.\u001b[39;49m\u001b[43mexpand\u001b[49m\u001b[43m(\u001b[49m\u001b[43m)\u001b[49m \u001b[38;5;28;01mfor\u001b[39;00m expr \u001b[38;5;129;01min\u001b[39;00m exprs ]\n\u001b[0;32m    328\u001b[0m \u001b[38;5;28;01mif\u001b[39;00m \u001b[38;5;28many\u001b[39m(expr\u001b[38;5;241m.\u001b[39mis_commutative \u001b[38;5;129;01mis\u001b[39;00m \u001b[38;5;28;01mFalse\u001b[39;00m \u001b[38;5;28;01mfor\u001b[39;00m expr \u001b[38;5;129;01min\u001b[39;00m exprs):\n\u001b[0;32m    329\u001b[0m     \u001b[38;5;28;01mraise\u001b[39;00m PolynomialError(\u001b[38;5;124m'\u001b[39m\u001b[38;5;124mnon-commutative expressions are not supported\u001b[39m\u001b[38;5;124m'\u001b[39m)\n",
      "File \u001b[1;32m~\\anaconda3\\lib\\site-packages\\sympy\\core\\cache.py:70\u001b[0m, in \u001b[0;36m__cacheit.<locals>.func_wrapper.<locals>.wrapper\u001b[1;34m(*args, **kwargs)\u001b[0m\n\u001b[0;32m     67\u001b[0m \u001b[38;5;129m@wraps\u001b[39m(func)\n\u001b[0;32m     68\u001b[0m \u001b[38;5;28;01mdef\u001b[39;00m \u001b[38;5;21mwrapper\u001b[39m(\u001b[38;5;241m*\u001b[39margs, \u001b[38;5;241m*\u001b[39m\u001b[38;5;241m*\u001b[39mkwargs):\n\u001b[0;32m     69\u001b[0m     \u001b[38;5;28;01mtry\u001b[39;00m:\n\u001b[1;32m---> 70\u001b[0m         retval \u001b[38;5;241m=\u001b[39m cfunc(\u001b[38;5;241m*\u001b[39margs, \u001b[38;5;241m*\u001b[39m\u001b[38;5;241m*\u001b[39mkwargs)\n\u001b[0;32m     71\u001b[0m     \u001b[38;5;28;01mexcept\u001b[39;00m \u001b[38;5;167;01mTypeError\u001b[39;00m \u001b[38;5;28;01mas\u001b[39;00m e:\n\u001b[0;32m     72\u001b[0m         \u001b[38;5;28;01mif\u001b[39;00m \u001b[38;5;129;01mnot\u001b[39;00m e\u001b[38;5;241m.\u001b[39margs \u001b[38;5;129;01mor\u001b[39;00m \u001b[38;5;129;01mnot\u001b[39;00m e\u001b[38;5;241m.\u001b[39margs[\u001b[38;5;241m0\u001b[39m]\u001b[38;5;241m.\u001b[39mstartswith(\u001b[38;5;124m'\u001b[39m\u001b[38;5;124munhashable type:\u001b[39m\u001b[38;5;124m'\u001b[39m):\n",
      "File \u001b[1;32m~\\anaconda3\\lib\\site-packages\\sympy\\core\\expr.py:3651\u001b[0m, in \u001b[0;36mExpr.expand\u001b[1;34m(self, deep, modulus, power_base, power_exp, mul, log, multinomial, basic, **hints)\u001b[0m\n\u001b[0;32m   3649\u001b[0m     \u001b[38;5;28;01mif\u001b[39;00m use_hint:\n\u001b[0;32m   3650\u001b[0m         hint \u001b[38;5;241m=\u001b[39m \u001b[38;5;124m'\u001b[39m\u001b[38;5;124m_eval_expand_\u001b[39m\u001b[38;5;124m'\u001b[39m \u001b[38;5;241m+\u001b[39m hint\n\u001b[1;32m-> 3651\u001b[0m         expr, hit \u001b[38;5;241m=\u001b[39m Expr\u001b[38;5;241m.\u001b[39m_expand_hint(expr, hint, deep\u001b[38;5;241m=\u001b[39mdeep, \u001b[38;5;241m*\u001b[39m\u001b[38;5;241m*\u001b[39mhints)\n\u001b[0;32m   3653\u001b[0m \u001b[38;5;28;01mwhile\u001b[39;00m \u001b[38;5;28;01mTrue\u001b[39;00m:\n\u001b[0;32m   3654\u001b[0m     was \u001b[38;5;241m=\u001b[39m expr\n",
      "File \u001b[1;32m~\\anaconda3\\lib\\site-packages\\sympy\\core\\expr.py:3584\u001b[0m, in \u001b[0;36mExpr._expand_hint\u001b[1;34m(expr, hint, deep, **hints)\u001b[0m\n\u001b[0;32m   3582\u001b[0m sargs \u001b[38;5;241m=\u001b[39m []\n\u001b[0;32m   3583\u001b[0m \u001b[38;5;28;01mfor\u001b[39;00m arg \u001b[38;5;129;01min\u001b[39;00m expr\u001b[38;5;241m.\u001b[39margs:\n\u001b[1;32m-> 3584\u001b[0m     arg, arghit \u001b[38;5;241m=\u001b[39m Expr\u001b[38;5;241m.\u001b[39m_expand_hint(arg, hint, \u001b[38;5;241m*\u001b[39m\u001b[38;5;241m*\u001b[39mhints)\n\u001b[0;32m   3585\u001b[0m     hit \u001b[38;5;241m|\u001b[39m\u001b[38;5;241m=\u001b[39m arghit\n\u001b[0;32m   3586\u001b[0m     sargs\u001b[38;5;241m.\u001b[39mappend(arg)\n",
      "File \u001b[1;32m~\\anaconda3\\lib\\site-packages\\sympy\\core\\expr.py:3592\u001b[0m, in \u001b[0;36mExpr._expand_hint\u001b[1;34m(expr, hint, deep, **hints)\u001b[0m\n\u001b[0;32m   3589\u001b[0m         expr \u001b[38;5;241m=\u001b[39m expr\u001b[38;5;241m.\u001b[39mfunc(\u001b[38;5;241m*\u001b[39msargs)\n\u001b[0;32m   3591\u001b[0m \u001b[38;5;28;01mif\u001b[39;00m \u001b[38;5;28mhasattr\u001b[39m(expr, hint):\n\u001b[1;32m-> 3592\u001b[0m     newexpr \u001b[38;5;241m=\u001b[39m \u001b[38;5;28mgetattr\u001b[39m(expr, hint)(\u001b[38;5;241m*\u001b[39m\u001b[38;5;241m*\u001b[39mhints)\n\u001b[0;32m   3593\u001b[0m     \u001b[38;5;28;01mif\u001b[39;00m newexpr \u001b[38;5;241m!=\u001b[39m expr:\n\u001b[0;32m   3594\u001b[0m         \u001b[38;5;28;01mreturn\u001b[39;00m (newexpr, \u001b[38;5;28;01mTrue\u001b[39;00m)\n",
      "File \u001b[1;32m~\\anaconda3\\lib\\site-packages\\sympy\\core\\mul.py:947\u001b[0m, in \u001b[0;36mMul._eval_expand_mul\u001b[1;34m(self, **hints)\u001b[0m\n\u001b[0;32m    945\u001b[0m \u001b[38;5;28;01mif\u001b[39;00m sums:\n\u001b[0;32m    946\u001b[0m     deep \u001b[38;5;241m=\u001b[39m hints\u001b[38;5;241m.\u001b[39mget(\u001b[38;5;124m\"\u001b[39m\u001b[38;5;124mdeep\u001b[39m\u001b[38;5;124m\"\u001b[39m, \u001b[38;5;28;01mFalse\u001b[39;00m)\n\u001b[1;32m--> 947\u001b[0m     terms \u001b[38;5;241m=\u001b[39m \u001b[38;5;28;43mself\u001b[39;49m\u001b[38;5;241;43m.\u001b[39;49m\u001b[43mfunc\u001b[49m\u001b[38;5;241;43m.\u001b[39;49m\u001b[43m_expandsums\u001b[49m\u001b[43m(\u001b[49m\u001b[43msums\u001b[49m\u001b[43m)\u001b[49m\n\u001b[0;32m    948\u001b[0m     args \u001b[38;5;241m=\u001b[39m []\n\u001b[0;32m    949\u001b[0m     \u001b[38;5;28;01mfor\u001b[39;00m term \u001b[38;5;129;01min\u001b[39;00m terms:\n",
      "File \u001b[1;32m~\\anaconda3\\lib\\site-packages\\sympy\\core\\mul.py:912\u001b[0m, in \u001b[0;36mMul._expandsums\u001b[1;34m(sums)\u001b[0m\n\u001b[0;32m    909\u001b[0m left \u001b[38;5;241m=\u001b[39m Mul\u001b[38;5;241m.\u001b[39m_expandsums(sums[:L\u001b[38;5;241m/\u001b[39m\u001b[38;5;241m/\u001b[39m\u001b[38;5;241m2\u001b[39m])\n\u001b[0;32m    910\u001b[0m right \u001b[38;5;241m=\u001b[39m Mul\u001b[38;5;241m.\u001b[39m_expandsums(sums[L\u001b[38;5;241m/\u001b[39m\u001b[38;5;241m/\u001b[39m\u001b[38;5;241m2\u001b[39m:])\n\u001b[1;32m--> 912\u001b[0m terms \u001b[38;5;241m=\u001b[39m [Mul(a, b) \u001b[38;5;28;01mfor\u001b[39;00m a \u001b[38;5;129;01min\u001b[39;00m left \u001b[38;5;28;01mfor\u001b[39;00m b \u001b[38;5;129;01min\u001b[39;00m right]\n\u001b[0;32m    913\u001b[0m added \u001b[38;5;241m=\u001b[39m Add(\u001b[38;5;241m*\u001b[39mterms)\n\u001b[0;32m    914\u001b[0m \u001b[38;5;28;01mreturn\u001b[39;00m Add\u001b[38;5;241m.\u001b[39mmake_args(added)\n",
      "File \u001b[1;32m~\\anaconda3\\lib\\site-packages\\sympy\\core\\mul.py:912\u001b[0m, in \u001b[0;36m<listcomp>\u001b[1;34m(.0)\u001b[0m\n\u001b[0;32m    909\u001b[0m left \u001b[38;5;241m=\u001b[39m Mul\u001b[38;5;241m.\u001b[39m_expandsums(sums[:L\u001b[38;5;241m/\u001b[39m\u001b[38;5;241m/\u001b[39m\u001b[38;5;241m2\u001b[39m])\n\u001b[0;32m    910\u001b[0m right \u001b[38;5;241m=\u001b[39m Mul\u001b[38;5;241m.\u001b[39m_expandsums(sums[L\u001b[38;5;241m/\u001b[39m\u001b[38;5;241m/\u001b[39m\u001b[38;5;241m2\u001b[39m:])\n\u001b[1;32m--> 912\u001b[0m terms \u001b[38;5;241m=\u001b[39m [\u001b[43mMul\u001b[49m\u001b[43m(\u001b[49m\u001b[43ma\u001b[49m\u001b[43m,\u001b[49m\u001b[43m \u001b[49m\u001b[43mb\u001b[49m\u001b[43m)\u001b[49m \u001b[38;5;28;01mfor\u001b[39;00m a \u001b[38;5;129;01min\u001b[39;00m left \u001b[38;5;28;01mfor\u001b[39;00m b \u001b[38;5;129;01min\u001b[39;00m right]\n\u001b[0;32m    913\u001b[0m added \u001b[38;5;241m=\u001b[39m Add(\u001b[38;5;241m*\u001b[39mterms)\n\u001b[0;32m    914\u001b[0m \u001b[38;5;28;01mreturn\u001b[39;00m Add\u001b[38;5;241m.\u001b[39mmake_args(added)\n",
      "File \u001b[1;32m~\\anaconda3\\lib\\site-packages\\sympy\\core\\cache.py:70\u001b[0m, in \u001b[0;36m__cacheit.<locals>.func_wrapper.<locals>.wrapper\u001b[1;34m(*args, **kwargs)\u001b[0m\n\u001b[0;32m     67\u001b[0m \u001b[38;5;129m@wraps\u001b[39m(func)\n\u001b[0;32m     68\u001b[0m \u001b[38;5;28;01mdef\u001b[39;00m \u001b[38;5;21mwrapper\u001b[39m(\u001b[38;5;241m*\u001b[39margs, \u001b[38;5;241m*\u001b[39m\u001b[38;5;241m*\u001b[39mkwargs):\n\u001b[0;32m     69\u001b[0m     \u001b[38;5;28;01mtry\u001b[39;00m:\n\u001b[1;32m---> 70\u001b[0m         retval \u001b[38;5;241m=\u001b[39m cfunc(\u001b[38;5;241m*\u001b[39margs, \u001b[38;5;241m*\u001b[39m\u001b[38;5;241m*\u001b[39mkwargs)\n\u001b[0;32m     71\u001b[0m     \u001b[38;5;28;01mexcept\u001b[39;00m \u001b[38;5;167;01mTypeError\u001b[39;00m \u001b[38;5;28;01mas\u001b[39;00m e:\n\u001b[0;32m     72\u001b[0m         \u001b[38;5;28;01mif\u001b[39;00m \u001b[38;5;129;01mnot\u001b[39;00m e\u001b[38;5;241m.\u001b[39margs \u001b[38;5;129;01mor\u001b[39;00m \u001b[38;5;129;01mnot\u001b[39;00m e\u001b[38;5;241m.\u001b[39margs[\u001b[38;5;241m0\u001b[39m]\u001b[38;5;241m.\u001b[39mstartswith(\u001b[38;5;124m'\u001b[39m\u001b[38;5;124munhashable type:\u001b[39m\u001b[38;5;124m'\u001b[39m):\n",
      "File \u001b[1;32m~\\anaconda3\\lib\\site-packages\\sympy\\core\\operations.py:98\u001b[0m, in \u001b[0;36mAssocOp.__new__\u001b[1;34m(cls, evaluate, _sympify, *args)\u001b[0m\n\u001b[0;32m     95\u001b[0m \u001b[38;5;28;01mif\u001b[39;00m \u001b[38;5;28mlen\u001b[39m(args) \u001b[38;5;241m==\u001b[39m \u001b[38;5;241m1\u001b[39m:\n\u001b[0;32m     96\u001b[0m     \u001b[38;5;28;01mreturn\u001b[39;00m args[\u001b[38;5;241m0\u001b[39m]\n\u001b[1;32m---> 98\u001b[0m c_part, nc_part, order_symbols \u001b[38;5;241m=\u001b[39m \u001b[38;5;28;43mcls\u001b[39;49m\u001b[38;5;241;43m.\u001b[39;49m\u001b[43mflatten\u001b[49m\u001b[43m(\u001b[49m\u001b[43margs\u001b[49m\u001b[43m)\u001b[49m\n\u001b[0;32m     99\u001b[0m is_commutative \u001b[38;5;241m=\u001b[39m \u001b[38;5;129;01mnot\u001b[39;00m nc_part\n\u001b[0;32m    100\u001b[0m obj \u001b[38;5;241m=\u001b[39m \u001b[38;5;28mcls\u001b[39m\u001b[38;5;241m.\u001b[39m_from_args(c_part \u001b[38;5;241m+\u001b[39m nc_part, is_commutative)\n",
      "File \u001b[1;32m~\\anaconda3\\lib\\site-packages\\sympy\\core\\mul.py:656\u001b[0m, in \u001b[0;36mMul.flatten\u001b[1;34m(cls, seq)\u001b[0m\n\u001b[0;32m    653\u001b[0m c_part\u001b[38;5;241m.\u001b[39mextend([Pow(b, e) \u001b[38;5;28;01mfor\u001b[39;00m e, b \u001b[38;5;129;01min\u001b[39;00m pnew\u001b[38;5;241m.\u001b[39mitems()])\n\u001b[0;32m    655\u001b[0m \u001b[38;5;66;03m# oo, -oo\u001b[39;00m\n\u001b[1;32m--> 656\u001b[0m \u001b[38;5;28;01mif\u001b[39;00m \u001b[43mcoeff\u001b[49m\u001b[43m \u001b[49m\u001b[38;5;129;43;01min\u001b[39;49;00m\u001b[43m \u001b[49m\u001b[43m(\u001b[49m\u001b[43mS\u001b[49m\u001b[38;5;241;43m.\u001b[39;49m\u001b[43mInfinity\u001b[49m\u001b[43m,\u001b[49m\u001b[43m \u001b[49m\u001b[43mS\u001b[49m\u001b[38;5;241;43m.\u001b[39;49m\u001b[43mNegativeInfinity\u001b[49m\u001b[43m)\u001b[49m:\n\u001b[0;32m    657\u001b[0m     \u001b[38;5;28;01mdef\u001b[39;00m \u001b[38;5;21m_handle_for_oo\u001b[39m(c_part, coeff_sign):\n\u001b[0;32m    658\u001b[0m         new_c_part \u001b[38;5;241m=\u001b[39m []\n",
      "File \u001b[1;32m~\\anaconda3\\lib\\site-packages\\sympy\\core\\numbers.py:3418\u001b[0m, in \u001b[0;36mInfinity.__eq__\u001b[1;34m(self, other)\u001b[0m\n\u001b[0;32m   3417\u001b[0m \u001b[38;5;28;01mdef\u001b[39;00m \u001b[38;5;21m__eq__\u001b[39m(\u001b[38;5;28mself\u001b[39m, other):\n\u001b[1;32m-> 3418\u001b[0m     \u001b[38;5;28;01mreturn\u001b[39;00m other \u001b[38;5;129;01mis\u001b[39;00m S\u001b[38;5;241m.\u001b[39mInfinity \u001b[38;5;129;01mor\u001b[39;00m \u001b[43mother\u001b[49m\u001b[43m \u001b[49m\u001b[38;5;241;43m==\u001b[39;49m\u001b[43m \u001b[49m\u001b[38;5;28;43mfloat\u001b[39;49m\u001b[43m(\u001b[49m\u001b[38;5;124;43m'\u001b[39;49m\u001b[38;5;124;43minf\u001b[39;49m\u001b[38;5;124;43m'\u001b[39;49m\u001b[43m)\u001b[49m\n",
      "File \u001b[1;32m~\\anaconda3\\lib\\site-packages\\sympy\\core\\numbers.py:2239\u001b[0m, in \u001b[0;36mInteger.__eq__\u001b[1;34m(self, other)\u001b[0m\n\u001b[0;32m   2238\u001b[0m \u001b[38;5;28;01mdef\u001b[39;00m \u001b[38;5;21m__eq__\u001b[39m(\u001b[38;5;28mself\u001b[39m, other):\n\u001b[1;32m-> 2239\u001b[0m     \u001b[38;5;28;01mif\u001b[39;00m \u001b[38;5;28;43misinstance\u001b[39;49m\u001b[43m(\u001b[49m\u001b[43mother\u001b[49m\u001b[43m,\u001b[49m\u001b[43m \u001b[49m\u001b[38;5;28;43mint\u001b[39;49m\u001b[43m)\u001b[49m:\n\u001b[0;32m   2240\u001b[0m         \u001b[38;5;28;01mreturn\u001b[39;00m (\u001b[38;5;28mself\u001b[39m\u001b[38;5;241m.\u001b[39mp \u001b[38;5;241m==\u001b[39m other)\n\u001b[0;32m   2241\u001b[0m     \u001b[38;5;28;01melif\u001b[39;00m \u001b[38;5;28misinstance\u001b[39m(other, Integer):\n",
      "\u001b[1;31mKeyboardInterrupt\u001b[0m: "
     ]
    }
   ],
   "source": [
    "display(mjost_subbed)\n",
    "display(det(mjost_subbed))"
   ]
  },
  {
   "cell_type": "markdown",
   "id": "ae129898",
   "metadata": {},
   "source": [
    "# Jost solutions - general case"
   ]
  },
  {
   "cell_type": "code",
   "execution_count": 9,
   "id": "1776910a",
   "metadata": {},
   "outputs": [
    {
     "data": {
      "text/latex": [
       "$\\displaystyle \\text{Error}_{\\text{NLS Jost matches Lax}} = \\left[\\begin{matrix}0 & 0\\\\0 & 0\\end{matrix}\\right]$"
      ],
      "text/plain": [
       "Eq(\\text{Error}_{\\text{NLS Jost matches Lax}}, Matrix([\n",
       "[0, 0],\n",
       "[0, 0]]))"
      ]
     },
     "metadata": {},
     "output_type": "display_data"
    },
    {
     "data": {
      "text/latex": [
       "$\\displaystyle \\text{Error}_{\\text{NLS z matches eigenvalues}} = \\left[\\begin{matrix}0 & 0\\\\0 & 0\\end{matrix}\\right]$"
      ],
      "text/plain": [
       "Eq(\\text{Error}_{\\text{NLS z matches eigenvalues}}, Matrix([\n",
       "[0, 0],\n",
       "[0, 0]]))"
      ]
     },
     "metadata": {},
     "output_type": "display_data"
    },
    {
     "data": {
      "text/latex": [
       "$\\displaystyle \\text{Error}_{\\text{NLS linear solution vs semigroup}} = \\left[\\begin{matrix}0 & 0\\\\0 & 0\\end{matrix}\\right]$"
      ],
      "text/plain": [
       "Eq(\\text{Error}_{\\text{NLS linear solution vs semigroup}}, Matrix([\n",
       "[0, 0],\n",
       "[0, 0]]))"
      ]
     },
     "metadata": {},
     "output_type": "display_data"
    },
    {
     "data": {
      "text/latex": [
       "$\\displaystyle \\text{Error}_{\\text{NLS linear solution is solution}} = \\left[\\begin{matrix}0 & 0\\\\0 & 0\\end{matrix}\\right]$"
      ],
      "text/plain": [
       "Eq(\\text{Error}_{\\text{NLS linear solution is solution}}, Matrix([\n",
       "[0, 0],\n",
       "[0, 0]]))"
      ]
     },
     "metadata": {},
     "output_type": "display_data"
    },
    {
     "data": {
      "text/latex": [
       "$\\displaystyle \\text{Error}_{\\text{GP Jost matches Lax}} = \\left[\\begin{matrix}0 & 0\\\\0 & 0\\end{matrix}\\right]$"
      ],
      "text/plain": [
       "Eq(\\text{Error}_{\\text{GP Jost matches Lax}}, Matrix([\n",
       "[0, 0],\n",
       "[0, 0]]))"
      ]
     },
     "metadata": {},
     "output_type": "display_data"
    },
    {
     "data": {
      "text/latex": [
       "$\\displaystyle \\text{Error}_{\\text{GP z matches eigenvalues}} = \\left[\\begin{matrix}0 & 0\\\\0 & 0\\end{matrix}\\right]$"
      ],
      "text/plain": [
       "Eq(\\text{Error}_{\\text{GP z matches eigenvalues}}, Matrix([\n",
       "[0, 0],\n",
       "[0, 0]]))"
      ]
     },
     "metadata": {},
     "output_type": "display_data"
    },
    {
     "data": {
      "text/latex": [
       "$\\displaystyle \\text{Error}_{\\text{GP linear solution vs semigroup}} = \\left[\\begin{matrix}0 & 0\\\\0 & 0\\end{matrix}\\right]$"
      ],
      "text/plain": [
       "Eq(\\text{Error}_{\\text{GP linear solution vs semigroup}}, Matrix([\n",
       "[0, 0],\n",
       "[0, 0]]))"
      ]
     },
     "metadata": {},
     "output_type": "display_data"
    },
    {
     "data": {
      "text/latex": [
       "$\\displaystyle \\text{Error}_{\\text{GP linear solution is solution}} = \\left[\\begin{matrix}0 & 0\\\\0 & 0\\end{matrix}\\right]$"
      ],
      "text/plain": [
       "Eq(\\text{Error}_{\\text{GP linear solution is solution}}, Matrix([\n",
       "[0, 0],\n",
       "[0, 0]]))"
      ]
     },
     "metadata": {},
     "output_type": "display_data"
    },
    {
     "data": {
      "text/latex": [
       "$\\displaystyle \\text{Error}_{\\text{hGP Jost matches Lax}} = \\left[\\begin{matrix}0 & 0\\\\0 & 0\\end{matrix}\\right]$"
      ],
      "text/plain": [
       "Eq(\\text{Error}_{\\text{hGP Jost matches Lax}}, Matrix([\n",
       "[0, 0],\n",
       "[0, 0]]))"
      ]
     },
     "metadata": {},
     "output_type": "display_data"
    },
    {
     "data": {
      "text/latex": [
       "$\\displaystyle \\text{Error}_{\\text{hGP z matches eigenvalues}} = \\left[\\begin{matrix}0 & 0\\\\0 & 0\\end{matrix}\\right]$"
      ],
      "text/plain": [
       "Eq(\\text{Error}_{\\text{hGP z matches eigenvalues}}, Matrix([\n",
       "[0, 0],\n",
       "[0, 0]]))"
      ]
     },
     "metadata": {},
     "output_type": "display_data"
    },
    {
     "data": {
      "text/latex": [
       "$\\displaystyle \\text{Error}_{\\text{hGP linear solution vs semigroup}} = \\left[\\begin{matrix}0 & 0\\\\0 & 0\\end{matrix}\\right]$"
      ],
      "text/plain": [
       "Eq(\\text{Error}_{\\text{hGP linear solution vs semigroup}}, Matrix([\n",
       "[0, 0],\n",
       "[0, 0]]))"
      ]
     },
     "metadata": {},
     "output_type": "display_data"
    },
    {
     "data": {
      "text/latex": [
       "$\\displaystyle \\text{Error}_{\\text{hGP linear solution is solution}} = \\left[\\begin{matrix}0 & 0\\\\0 & 0\\end{matrix}\\right]$"
      ],
      "text/plain": [
       "Eq(\\text{Error}_{\\text{hGP linear solution is solution}}, Matrix([\n",
       "[0, 0],\n",
       "[0, 0]]))"
      ]
     },
     "metadata": {},
     "output_type": "display_data"
    },
    {
     "data": {
      "text/latex": [
       "$\\displaystyle \\text{Error}_{\\text{rGP Jost matches Lax}} = \\left[\\begin{matrix}0 & 0\\\\0 & 0\\end{matrix}\\right]$"
      ],
      "text/plain": [
       "Eq(\\text{Error}_{\\text{rGP Jost matches Lax}}, Matrix([\n",
       "[0, 0],\n",
       "[0, 0]]))"
      ]
     },
     "metadata": {},
     "output_type": "display_data"
    },
    {
     "data": {
      "text/latex": [
       "$\\displaystyle \\text{Error}_{\\text{rGP z matches eigenvalues}} = \\left[\\begin{matrix}0 & 0\\\\0 & 0\\end{matrix}\\right]$"
      ],
      "text/plain": [
       "Eq(\\text{Error}_{\\text{rGP z matches eigenvalues}}, Matrix([\n",
       "[0, 0],\n",
       "[0, 0]]))"
      ]
     },
     "metadata": {},
     "output_type": "display_data"
    },
    {
     "data": {
      "text/latex": [
       "$\\displaystyle \\text{Error}_{\\text{rGP linear solution vs semigroup}} = \\left[\\begin{matrix}0 & 0\\\\0 & 0\\end{matrix}\\right]$"
      ],
      "text/plain": [
       "Eq(\\text{Error}_{\\text{rGP linear solution vs semigroup}}, Matrix([\n",
       "[0, 0],\n",
       "[0, 0]]))"
      ]
     },
     "metadata": {},
     "output_type": "display_data"
    },
    {
     "data": {
      "text/latex": [
       "$\\displaystyle \\text{Error}_{\\text{rGP linear solution is solution}} = \\left[\\begin{matrix}0 & 0\\\\0 & 0\\end{matrix}\\right]$"
      ],
      "text/plain": [
       "Eq(\\text{Error}_{\\text{rGP linear solution is solution}}, Matrix([\n",
       "[0, 0],\n",
       "[0, 0]]))"
      ]
     },
     "metadata": {},
     "output_type": "display_data"
    },
    {
     "data": {
      "text/latex": [
       "$\\displaystyle \\text{Error}_{\\text{hGP Jost solution from GP Jost solution}} = \\left[\\begin{matrix}0 & 0\\\\0 & 0\\end{matrix}\\right]$"
      ],
      "text/plain": [
       "Eq(\\text{Error}_{\\text{hGP Jost solution from GP Jost solution}}, Matrix([\n",
       "[0, 0],\n",
       "[0, 0]]))"
      ]
     },
     "metadata": {},
     "output_type": "display_data"
    },
    {
     "data": {
      "text/latex": [
       "$\\displaystyle \\text{Error}_{\\text{hGP linear solution from GP linear solution}} = \\left[\\begin{matrix}0 & 0\\\\0 & 0\\end{matrix}\\right]$"
      ],
      "text/plain": [
       "Eq(\\text{Error}_{\\text{hGP linear solution from GP linear solution}}, Matrix([\n",
       "[0, 0],\n",
       "[0, 0]]))"
      ]
     },
     "metadata": {},
     "output_type": "display_data"
    },
    {
     "data": {
      "text/latex": [
       "$\\displaystyle \\text{Error}_{\\text{rGP Jost solution from GP Jost solution}} = \\left[\\begin{matrix}0 & 0\\\\0 & 0\\end{matrix}\\right]$"
      ],
      "text/plain": [
       "Eq(\\text{Error}_{\\text{rGP Jost solution from GP Jost solution}}, Matrix([\n",
       "[0, 0],\n",
       "[0, 0]]))"
      ]
     },
     "metadata": {},
     "output_type": "display_data"
    },
    {
     "data": {
      "text/latex": [
       "$\\displaystyle \\text{Error}_{\\text{rGP linear solution from GP linear solution}} = \\left[\\begin{matrix}0 & 0\\\\0 & 0\\end{matrix}\\right]$"
      ],
      "text/plain": [
       "Eq(\\text{Error}_{\\text{rGP linear solution from GP linear solution}}, Matrix([\n",
       "[0, 0],\n",
       "[0, 0]]))"
      ]
     },
     "metadata": {},
     "output_type": "display_data"
    }
   ],
   "source": [
    "\n",
    "Id = Matrix([[1, 0], [0, 1]])\n",
    "Null = Matrix([[0, 0], [0, 0]])\n",
    "sigma_2 = Matrix([[0, 1], [1, 0]])\n",
    "sigma_3 = Matrix([[1, 0], [0, -1]])\n",
    "\n",
    "def ssqrt(z):\n",
    "    return - I * sqrt(- z)\n",
    "\n",
    "\n",
    "rho_NLS = sigma_3\n",
    "A_NLS = - I * lam * rho_NLS\n",
    "AA_NLS = - I * lam * rho_NLS\n",
    "U_NLS = Matrix([[0, q], [q_conj, 0]])\n",
    "UU_NLS = Matrix([[0, qq], [qq_conj, 0]])\n",
    "U_pm_NLS = Null\n",
    "UU_pm_NLS = Null\n",
    "z_NLS = lam\n",
    "lam_NLS = z\n",
    "E_NLS = Id\n",
    "EE_NLS = Id\n",
    "Lin_NLS = E_NLS * Matrix([[exp(- x * I * z_NLS), 0], [0, exp(x * I * z_NLS)]])\n",
    "LLin_NLS = EE_NLS * Matrix([[exp(- xx * I * z_NLS), 0], [0, exp(xx * I * z_NLS)]])\n",
    "L_pm_NLS = subs(L_NLS, [(qq, qq_pm), (qq_conj, 1 / qq_pm)])\n",
    "\n",
    "obtained_Jost_NLS = evaluateExpr((- D(xx) * Id + AA_NLS + UU_NLS) * PPhi)\n",
    "actual_Jost_NLS = evaluateExpr((L_NLS - lam * Id) * PPhi)\n",
    "\n",
    "display(Equ(Symbol('\\\\text{Error}_{\\\\text{NLS Jost matches Lax}}'), simplify(actual_Jost_NLS + I * rho_NLS * obtained_Jost_NLS)))\n",
    "display(Equ(Symbol('\\\\text{Error}_{\\\\text{NLS z matches eigenvalues}}'), simplify((A_NLS + U_pm_NLS).diagonalize()[1] + I * z_NLS * sigma_3)))\n",
    "display(Equ(Symbol('\\\\text{Error}_{\\\\text{NLS linear solution vs semigroup}}'), simplify(Lin_NLS - exp(x * (A_NLS + U_pm_NLS)) * E_NLS)))\n",
    "display(Equ(Symbol('\\\\text{Error}_{\\\\text{NLS linear solution is solution}}'), simplify(evaluateExpr((- D(xx) * Id + AA_NLS + UU_pm_NLS) * LLin_NLS))))\n",
    "\n",
    "\n",
    "rho_GP = sigma_3\n",
    "A_GP = - I * lam * rho_GP\n",
    "AA_GP = - I * lam * rho_GP\n",
    "U_GP = Matrix([[0, q], [q_conj, 0]])\n",
    "UU_GP = Matrix([[0, qq], [qq_conj, 0]])\n",
    "U_pm_GP = Matrix([[0, q_pm], [1 / q_pm, 0]])\n",
    "UU_pm_GP = Matrix([[0, qq_pm], [1 / qq_pm, 0]])\n",
    "z_GP = sqrt(lam**2 - 1)\n",
    "# z_GP = I * sqrt(- lam**2 + 1)\n",
    "#lam_GP = I * sqrt(- z**2 - 1)\n",
    "lam_GP = sqrt(1 + z**2)\n",
    "# E_GP = Matrix([[1, I * q_pm * (z_GP - lam)], [- I / q_pm * (z_GP - lam), 1]]) * sigma_3 * Matrix([[exp(theta_pm), 0], [0, exp(- theta_pm)]]) #Put these two matrices to hGP and the phase shift term in T shifts over\n",
    "# EE_GP = Matrix([[1, I * qq_pm * (z_GP - lam)], [- I / qq_pm * (z_GP - lam), 1]]) * sigma_3 * Matrix([[exp(ttheta_pm), 0], [0, exp(- ttheta_pm)]])\n",
    "E_GP = Matrix([[q_pm, I * (z_GP - lam)], [- I * (z_GP - lam), 1 / q_pm]])\n",
    "EE_GP = Matrix([[qq_pm, I * (z_GP - lam)], [- I * (z_GP - lam), 1 / qq_pm]])\n",
    "# E_GP = Matrix([[q_pm, I * (z_GP - lam)], [I * (lam - z_GP), 1 / q_pm]])\n",
    "# EE_GP = Matrix([[qq_pm, - qq_pm], [- I * (zz_GP - llam), - I * (zz_GP + llam)]])\n",
    "Lin_GP = E_GP * Matrix([[exp(- x * I * z_GP), 0], [0, exp(x * I * z_GP)]])\n",
    "LLin_GP = EE_GP * Matrix([[exp(- xx * I * z_GP), 0], [0, exp(xx * I * z_GP)]])\n",
    "L_pm_GP = subs(L_GP, [(qq, qq_pm), (qq_conj, 1 / qq_pm)])\n",
    "\n",
    "obtained_Jost_GP = evaluateExpr((- D(xx) * Id + AA_GP + UU_GP) * PPhi)\n",
    "actual_Jost_GP = evaluateExpr((L_GP - lam * Id) * PPhi)\n",
    "\n",
    "display(Equ(Symbol('\\\\text{Error}_{\\\\text{GP Jost matches Lax}}'), simplify(actual_Jost_GP + I * rho_GP * obtained_Jost_GP)))\n",
    "display(Equ(Symbol('\\\\text{Error}_{\\\\text{GP z matches eigenvalues}}'), tsimplify(sigma_2 * (A_GP + U_pm_GP).diagonalize()[1] * sigma_2 + I * z_GP * sigma_3)))\n",
    "display(Equ(Symbol('\\\\text{Error}_{\\\\text{GP linear solution vs semigroup}}'), tsimplify(Lin_GP - exp(x * (A_GP + U_pm_GP)) * E_GP)))\n",
    "display(Equ(Symbol('\\\\text{Error}_{\\\\text{GP linear solution is solution}}'), simplify(evaluateExpr((- D(xx) * Id + AA_GP + UU_pm_GP) * LLin_GP))))\n",
    "\n",
    "\n",
    "rho_hGP = sigma_2\n",
    "A_hGP = - I * lam * rho_hGP\n",
    "AA_hGP = - I * lam * rho_hGP\n",
    "U_hGP = Matrix([[0, - I * (w_plus + 1)], [- I * (w_minus - 1), 0]])\n",
    "UU_hGP = Matrix([[0, - I * (ww_plus + 1)], [- I * (ww_minus - 1), 0]])\n",
    "U_pm_hGP = Matrix([[0, - I], [I, 0]])\n",
    "UU_pm_hGP = Matrix([[0, - I], [I, 0]])\n",
    "z_hGP = sqrt(lam**2 - 1)\n",
    "#lam_hGP = I * sqrt(- z**2 - 1)\n",
    "lam_hGP = sqrt(1 + z**2)\n",
    "# E_hGP = 1 / sqrt(2) * Matrix([[lam - z_hGP + 1, - lam + z_hGP - 1], [- lam + z_hGP + 1, - lam + z_hGP + 1]]) #* Matrix([[exp(- theta_pm), 0], [0, exp(theta_pm)]]) * sigma_3\n",
    "# EE_hGP = 1 / sqrt(2) * Matrix([[lam - z_hGP + 1, - lam + z_hGP - 1], [- lam + z_hGP + 1, - lam + z_hGP + 1]]) #* Matrix([[exp(- ttheta_pm), 0], [0, exp(ttheta_pm)]]) * sigma_3\n",
    "E_hGP = I / sqrt(2) * Matrix([[lam - z_hGP + 1, - lam + z_hGP - 1], [- lam + z_hGP + 1, - lam + z_hGP + 1]]) * Matrix([[exp(theta_pm), 0], [0, exp(- theta_pm)]])\n",
    "EE_hGP = I / sqrt(2) * Matrix([[lam - z_hGP + 1, - lam + z_hGP - 1], [- lam + z_hGP + 1, - lam + z_hGP + 1]]) * Matrix([[exp(ttheta_pm), 0], [0, exp(- ttheta_pm)]])\n",
    "Lin_hGP = E_hGP * Matrix([[exp(- x * I * z_hGP), 0], [0, exp(x * I * z_hGP)]])\n",
    "LLin_hGP = EE_hGP * Matrix([[exp(- xx * I * z_hGP), 0], [0, exp(xx * I * z_hGP)]])\n",
    "L_pm_hGP = subs(L_hGP_w, [(ww_minus, 0), (ww_plus, 0)])\n",
    "\n",
    "obtained_Jost_hGP = evaluateExpr((- D(xx) * Id + AA_hGP + UU_hGP) * PPhi)\n",
    "actual_Jost_hGP = evaluateExpr((L_hGP_w - lam * Id) * PPhi)\n",
    "\n",
    "display(Equ(Symbol('\\\\text{Error}_{\\\\text{hGP Jost matches Lax}}'), simplify(actual_Jost_hGP + I * rho_hGP * obtained_Jost_hGP)))\n",
    "display(Equ(Symbol('\\\\text{Error}_{\\\\text{hGP z matches eigenvalues}}'), tsimplify(sigma_2 * (A_hGP + U_pm_hGP).diagonalize()[1] * sigma_2 + I * z_hGP * sigma_3)))\n",
    "display(Equ(Symbol('\\\\text{Error}_{\\\\text{hGP linear solution vs semigroup}}'), tsimplify(Lin_hGP - exp(x * (A_hGP + U_pm_hGP)) * E_hGP)))\n",
    "display(Equ(Symbol('\\\\text{Error}_{\\\\text{hGP linear solution is solution}}'), simplify(evaluateExpr((- D(xx) * Id + AA_hGP + UU_pm_hGP) * LLin_hGP))))\n",
    "\n",
    "\n",
    "rho_rGP = sigma_2\n",
    "A_rGP = - I * lam / sqrt(2) / epsilon * rho_rGP\n",
    "AA_rGP = - I * lam / sqrt(2) / epsilon * rho_rGP\n",
    "U_rGP = Matrix([[0, - I * epsilon / sqrt(2) * (W_plus + 1 / epsilon**2)], [- I * epsilon / sqrt(2) * (W_minus - 1 / epsilon**2), 0]])\n",
    "UU_rGP = Matrix([[0, - I * epsilon / sqrt(2) * (WW_plus + 1 / epsilon**2)], [- I * epsilon / sqrt(2) * (WW_minus - 1 / epsilon**2), 0]])\n",
    "U_pm_rGP = Matrix([[0, - I / epsilon / sqrt(2)], [I / epsilon / sqrt(2), 0]])\n",
    "UU_pm_rGP = Matrix([[0, - I / epsilon / sqrt(2)], [I / epsilon / sqrt(2), 0]])\n",
    "z_rGP = sqrt(lam**2 - 1) / sqrt(2) / epsilon\n",
    "#lam_rGP = I * sqrt(- 2 * epsilon**2 * z**2 - 1)\n",
    "lam_rGP = sqrt(1 + 2 * epsilon**2 * z**2)\n",
    "# E_rGP = 1 / sqrt(2) * Matrix([\n",
    "#     [lam - sqrt(2) * epsilon * z_rGP + 1, - lam + sqrt(2) * epsilon * z_rGP - 1], \n",
    "#     [- lam + sqrt(2) * epsilon * z_rGP + 1, - lam + sqrt(2) * epsilon * z_rGP + 1]\n",
    "# ]) #* Matrix([[exp(- theta_pm), 0], [0, exp(theta_pm)]]) * sigma_3\n",
    "# EE_rGP = 1 / sqrt(2) * Matrix([\n",
    "#     [lam - sqrt(2) * epsilon * z_rGP + 1, - lam + sqrt(2) * epsilon * z_rGP - 1],\n",
    "#     [- lam + sqrt(2) * epsilon * z_rGP + 1, - lam + sqrt(2) * epsilon * z_rGP + 1]\n",
    "# ]) #* Matrix([[exp(- ttheta_pm), 0], [0, exp(ttheta_pm)]]) * sigma_3\n",
    "E_rGP = I / sqrt(2) * Matrix([\n",
    "    [lam - sqrt(2) * epsilon * z_rGP + 1, - lam + sqrt(2) * epsilon * z_rGP - 1], \n",
    "    [- lam + sqrt(2) * epsilon * z_rGP + 1, - lam + sqrt(2) * epsilon * z_rGP + 1]\n",
    "]) * Matrix([[exp(theta_pm), 0], [0, exp(- theta_pm)]])\n",
    "EE_rGP = I / sqrt(2) * Matrix([\n",
    "    [lam - sqrt(2) * epsilon * z_rGP + 1, - lam + sqrt(2) * epsilon * z_rGP - 1],\n",
    "    [- lam + sqrt(2) * epsilon * z_rGP + 1, - lam + sqrt(2) * epsilon * z_rGP + 1]\n",
    "]) * Matrix([[exp(ttheta_pm), 0], [0, exp(- ttheta_pm)]])\n",
    "Lin_rGP = E_rGP * Matrix([[exp(- x * I * z_rGP), 0], [0, exp(x * I * z_rGP)]])\n",
    "LLin_rGP = EE_rGP * Matrix([[exp(- xx * I * z_rGP), 0], [0, exp(xx * I * z_rGP)]])\n",
    "L_pm_rGP = subs(L_hGP_w, [(WW_minus, 0), (WW_plus, 0)])\n",
    "\n",
    "obtained_Jost_rGP = evaluateExpr((- D(xx) * Id + AA_rGP + UU_rGP) * PPhi)\n",
    "actual_Jost_rGP = evaluateExpr((L_rGP_W - lam / epsilon**2 * Id) * PPhi)\n",
    "\n",
    "display(Equ(Symbol('\\\\text{Error}_{\\\\text{rGP Jost matches Lax}}'), simplify(actual_Jost_rGP + sqrt(2) / epsilon * I * rho_rGP * obtained_Jost_rGP)))\n",
    "display(Equ(Symbol('\\\\text{Error}_{\\\\text{rGP z matches eigenvalues}}'), tsimplify(sigma_2 * (A_rGP + U_pm_rGP).diagonalize()[1] * sigma_2 + I * z_rGP * sigma_3)))\n",
    "display(Equ(Symbol('\\\\text{Error}_{\\\\text{rGP linear solution vs semigroup}}'), tsimplify(Lin_rGP - exp(x * (A_rGP + U_pm_rGP)) * E_rGP)))\n",
    "display(Equ(Symbol('\\\\text{Error}_{\\\\text{rGP linear solution is solution}}'), simplify(evaluateExpr((- D(xx) * Id + AA_rGP + UU_pm_rGP) * LLin_rGP))))\n",
    "\n",
    "\n",
    "Jost_GP_to_hGP = subs(evaluateExpr(I * rho_GP * (- D(xx) * Id + AA_GP + UU_GP) * PPhi), [\n",
    "    (q, (w_plus - w_minus + 2) / 2 * exp(I * phi)),\n",
    "    (q_conj, (w_plus - w_minus + 2) / 2 * exp(- I * phi)),\n",
    "    (deriv(phi), w_minus + w_plus)\n",
    "])\n",
    "Jost_hGP = subs(evaluateExpr(Transpose(MM_conj) * I * rho_hGP * (- D(xx) * Id + AA_hGP + UU_hGP) * MM * PPhi), [\n",
    "    (deriv(phi), w_minus + w_plus)\n",
    "])\n",
    "\n",
    "display(Equ(Symbol('\\\\text{Error}_{\\\\text{hGP Jost solution from GP Jost solution}}'), simplify(Jost_GP_to_hGP - Jost_hGP)))\n",
    "\n",
    "display(Equ(Symbol('\\\\text{Error}_{\\\\text{hGP linear solution from GP linear solution}}'), \n",
    "            tsimplify(subs(M_pm * Lin_GP, [(q_pm, exp(I * phi_pm))]) - Lin_hGP)))\n",
    "\n",
    "\n",
    "Jost_GP_to_rGP = subs(evaluateExpr((- D(xx) * Id + AA_GP + UU_GP) * PPhi), [\n",
    "    (q, (w_plus - w_minus + 2) / 2 * exp(I * phi)),\n",
    "    (q_conj, (w_plus - w_minus + 2) / 2 * exp(- I * phi)),\n",
    "    (deriv(phi), w_minus + w_plus),\n",
    "    (w_minus, epsilon**2 * W_minus), \n",
    "    (w_plus, epsilon**2 * W_plus)\n",
    "], scale={\n",
    "    x: epsilon * sqrt(2)\n",
    "})\n",
    "Jost_rGP = subs(subs(evaluateExpr(rho_GP * Transpose(MM_conj) * sqrt(2) * epsilon * rho_rGP * (- D(xx) * Id + AA_rGP + UU_rGP) * MM * PPhi), [\n",
    "    (phi, phi), (Phi_11, Phi_11), (Phi_12, Phi_12), (Phi_21, Phi_21), (Phi_22, Phi_22),\n",
    "], scale={\n",
    "    x: epsilon**(-1) / sqrt(2)\n",
    "}), [(deriv(phi), epsilon**2 * (W_minus + W_plus))])\n",
    "\n",
    "display(Equ(Symbol('\\\\text{Error}_{\\\\text{rGP Jost solution from GP Jost solution}}'), simplify(Jost_GP_to_rGP - Jost_rGP)))\n",
    "\n",
    "display(Equ(Symbol('\\\\text{Error}_{\\\\text{rGP linear solution from GP linear solution}}'), \n",
    "            simplify(subs(M_pm * Lin_GP, [(q_pm, exp(I * phi_pm)), (x, x / sqrt(2) / epsilon)]) - Lin_rGP)))\n",
    "\n",
    "\n",
    "\n"
   ]
  },
  {
   "cell_type": "markdown",
   "id": "bdde0206",
   "metadata": {},
   "source": [
    "# Transmission Coefficient"
   ]
  },
  {
   "cell_type": "code",
   "execution_count": 10,
   "id": "19a65f11",
   "metadata": {},
   "outputs": [
    {
     "name": "stdout",
     "output_type": "stream",
     "text": [
      "boundary terms: \n"
     ]
    },
    {
     "data": {
      "text/latex": [
       "$\\displaystyle 0$"
      ],
      "text/plain": [
       "0"
      ]
     },
     "metadata": {},
     "output_type": "display_data"
    },
    {
     "data": {
      "text/latex": [
       "$\\displaystyle - i \\phi_{+} + i \\phi_{-}$"
      ],
      "text/plain": [
       "-I*\\phi_+ + I*\\phi_-"
      ]
     },
     "metadata": {},
     "output_type": "display_data"
    },
    {
     "data": {
      "text/latex": [
       "$\\displaystyle - \\frac{i \\phi_{+}}{2} + \\frac{i \\phi_{-}}{2}$"
      ],
      "text/plain": [
       "-I*\\phi_+/2 + I*\\phi_-/2"
      ]
     },
     "metadata": {},
     "output_type": "display_data"
    },
    {
     "data": {
      "text/latex": [
       "$\\displaystyle - \\frac{i \\phi_{+}}{2} + \\frac{i \\phi_{-}}{2}$"
      ],
      "text/plain": [
       "-I*\\phi_+/2 + I*\\phi_-/2"
      ]
     },
     "metadata": {},
     "output_type": "display_data"
    },
    {
     "data": {
      "text/latex": [
       "$\\displaystyle \\text{Error}_{\\text{NLS formula for $\\sigma$}} = 0$"
      ],
      "text/plain": [
       "Eq(\\text{Error}_{\\text{NLS formula for $\\sigma$}}, 0)"
      ]
     },
     "metadata": {},
     "output_type": "display_data"
    },
    {
     "data": {
      "text/latex": [
       "$\\displaystyle \\text{Error}_{\\text{NLS formula for $r$}} = 0$"
      ],
      "text/plain": [
       "Eq(\\text{Error}_{\\text{NLS formula for $r$}}, 0)"
      ]
     },
     "metadata": {},
     "output_type": "display_data"
    },
    {
     "data": {
      "text/latex": [
       "$\\displaystyle \\text{Error}_{\\text{GP formula for $\\sigma$}} = 0$"
      ],
      "text/plain": [
       "Eq(\\text{Error}_{\\text{GP formula for $\\sigma$}}, 0)"
      ]
     },
     "metadata": {},
     "output_type": "display_data"
    },
    {
     "data": {
      "text/latex": [
       "$\\displaystyle \\text{Error}_{\\text{GP formula for $r$}} = 0$"
      ],
      "text/plain": [
       "Eq(\\text{Error}_{\\text{GP formula for $r$}}, 0)"
      ]
     },
     "metadata": {},
     "output_type": "display_data"
    },
    {
     "data": {
      "text/latex": [
       "$\\displaystyle \\text{Error}_{\\text{hGP formula for $\\sigma$}} = 0$"
      ],
      "text/plain": [
       "Eq(\\text{Error}_{\\text{hGP formula for $\\sigma$}}, 0)"
      ]
     },
     "metadata": {},
     "output_type": "display_data"
    },
    {
     "data": {
      "text/latex": [
       "$\\displaystyle \\text{Error}_{\\text{hGP formula for $r$}} = 0$"
      ],
      "text/plain": [
       "Eq(\\text{Error}_{\\text{hGP formula for $r$}}, 0)"
      ]
     },
     "metadata": {},
     "output_type": "display_data"
    },
    {
     "data": {
      "text/latex": [
       "$\\displaystyle \\text{Error}_{\\text{rGP formula for $\\sigma$}} = 0$"
      ],
      "text/plain": [
       "Eq(\\text{Error}_{\\text{rGP formula for $\\sigma$}}, 0)"
      ]
     },
     "metadata": {},
     "output_type": "display_data"
    },
    {
     "data": {
      "text/latex": [
       "$\\displaystyle \\text{Error}_{\\text{rGP formula for $r$}} = 0$"
      ],
      "text/plain": [
       "Eq(\\text{Error}_{\\text{rGP formula for $r$}}, 0)"
      ]
     },
     "metadata": {},
     "output_type": "display_data"
    },
    {
     "data": {
      "text/latex": [
       "$\\displaystyle \\text{Error}_{\\text{rGP formula for $\\tilde{\\sigma}$}} = 0$"
      ],
      "text/plain": [
       "Eq(\\text{Error}_{\\text{rGP formula for $\\tilde{\\sigma}$}}, 0)"
      ]
     },
     "metadata": {},
     "output_type": "display_data"
    },
    {
     "data": {
      "text/latex": [
       "$\\displaystyle \\text{Error}_{\\text{rGP formula for $\\tilde{r}$}} = 0$"
      ],
      "text/plain": [
       "Eq(\\text{Error}_{\\text{rGP formula for $\\tilde{r}$}}, 0)"
      ]
     },
     "metadata": {},
     "output_type": "display_data"
    }
   ],
   "source": [
    "E_minus_NLS = subs(E_NLS, [(q_pm, exp(I * phi_minus)), (phi_pm, phi_minus)])\n",
    "E_plus_NLS = subs(E_NLS, [(q_pm, exp(I * phi_plus)), (phi_pm, phi_plus)])\n",
    "E_minus_GP = subs(E_GP, [(q_pm, exp(I * phi_minus)), (phi_pm, phi_minus)])\n",
    "E_plus_GP = subs(E_GP, [(q_pm, exp(I * phi_plus)), (phi_pm, phi_plus)])\n",
    "E_minus_hGP = subs(E_hGP, [(phi_pm, phi_minus)])\n",
    "E_plus_hGP = subs(E_hGP, [(phi_pm, phi_plus)])\n",
    "E_minus_rGP = subs(E_rGP, [(phi_pm, phi_minus)])\n",
    "E_plus_rGP = subs(E_rGP, [(phi_pm, phi_plus)])\n",
    "\n",
    "T_boundary_NLS = simplify(log(E_minus_NLS[0,0]) - log(E_plus_NLS[0,0])).expand(force=True)\n",
    "T_integrand_NLS = deriv(Phi[0,0]) / Phi[0,0] + I * z_NLS\n",
    "T_boundary_GP = simplify(log(E_minus_GP[0,0]) - log(E_plus_GP[0,0])).expand(force=True)\n",
    "T_integrand_GP = deriv(Phi[0,0]) / Phi[0,0] + I * z_GP\n",
    "T_boundary_hGP = simplify(log(E_minus_hGP[0,0]) - log(E_plus_hGP[0,0])).expand(force=True)\n",
    "T_integrand_hGP = deriv((M * Phi)[0,0]) / (M * Phi)[0,0] + I * z_hGP\n",
    "T_boundary_rGP = simplify(log(E_minus_rGP[0,0]) - log(E_plus_rGP[0,0])).expand(force=True)\n",
    "T_integrand_rGP = subs(deriv((M * Phi)[0,0]) / (M * Phi)[0,0], [\n",
    "    (Phi_11, Phi_11), \n",
    "    (Phi_12, Phi_12), \n",
    "    (phi, phi)\n",
    "], scale={x: 1 / sqrt(2) / epsilon}) + I * z_rGP\n",
    "\n",
    "print(\"boundary terms: \")\n",
    "display(T_boundary_NLS, T_boundary_GP, T_boundary_hGP, T_boundary_rGP)\n",
    "\n",
    "M_minus = subs(M, [(phi, phi_minus)])\n",
    "M_plus = subs(M, [(phi, phi_plus)])\n",
    "\n",
    "sig_LHS_NLS = subs(deriv(sig), [(lam, lam_NLS)])\n",
    "sig_RHS_NLS = subs(- sig**2 + (2 * I * z_NLS) * sig + z_NLS**2 + (deriv(U_NLS) + (A_NLS + U_NLS)**2)[0,0] + (deriv(U_NLS) + (A_NLS + U_NLS)**2)[0,1] * r, [(lam, lam_NLS)])\n",
    "r_LHS_NLS = subs(deriv(r), [(lam, lam_NLS)])\n",
    "r_RHS_NLS = subs(- (A_NLS + U_NLS)[0,1] * r**2 + ((A_NLS + U_NLS)[1,1] - (A_NLS + U_NLS)[0,0]) * r + (A_NLS + U_NLS)[1,0], [(lam, lam_NLS)])\n",
    "\n",
    "substituted_sig_RHS_NLS = subs(sig_RHS_NLS, [\n",
    "    (sig, deriv(Phi_11) / Phi_11 + I * z_NLS), \n",
    "    (r, Phi_12 / Phi_11),\n",
    "    (deriv(Phi_11), ((A_NLS + U_NLS) * Phi)[0,0]),\n",
    "    (deriv(Phi_12), ((A_NLS + U_NLS) * Phi)[1,0]),\n",
    "    (deriv(Phi_11), ((A_NLS + U_NLS) * Phi)[0,0]),\n",
    "    (deriv(Phi_12), ((A_NLS + U_NLS) * Phi)[1,0]),\n",
    "    (lam, lam_NLS)\n",
    "])\n",
    "substituted_sig_LHS_NLS = subs(sig_LHS_NLS, [\n",
    "    (sig, deriv(Phi_11) / Phi_11 + I * z_NLS), \n",
    "    (r, Phi_12 / Phi_11),\n",
    "    (deriv(Phi_11), ((A_NLS + U_NLS) * Phi)[0,0]),\n",
    "    (deriv(Phi_12), ((A_NLS + U_NLS) * Phi)[1,0]),\n",
    "    (deriv(Phi_11), ((A_NLS + U_NLS) * Phi)[0,0]),\n",
    "    (deriv(Phi_12), ((A_NLS + U_NLS) * Phi)[1,0]),\n",
    "    (lam, lam_NLS)\n",
    "])\n",
    "substituted_r_RHS_NLS = subs(r_RHS_NLS, [\n",
    "    (sig, deriv(Phi_11) / Phi_11 + I * z_NLS), \n",
    "    (r, Phi_12 / Phi_11),\n",
    "    (deriv(Phi_11), ((A_NLS + U_NLS) * Phi)[0,0]),\n",
    "    (deriv(Phi_12), ((A_NLS + U_NLS) * Phi)[1,0]),\n",
    "    (lam, lam_NLS)\n",
    "])\n",
    "substituted_r_LHS_NLS = subs(r_LHS_NLS, [\n",
    "    (sig, deriv(Phi_11) / Phi_11 + I * z_NLS), \n",
    "    (r, Phi_12 / Phi_11),\n",
    "    (deriv(Phi_11), ((A_NLS + U_NLS) * Phi)[0,0]),\n",
    "    (deriv(Phi_12), ((A_NLS + U_NLS) * Phi)[1,0]),\n",
    "    (lam, lam_NLS)\n",
    "])\n",
    "\n",
    "display(Equ(Symbol('\\\\text{Error}_{\\\\text{NLS formula for $\\\\sigma$}}'), simplify(substituted_sig_LHS_NLS - substituted_sig_RHS_NLS)))\n",
    "display(Equ(Symbol('\\\\text{Error}_{\\\\text{NLS formula for $r$}}'), simplify(substituted_r_LHS_NLS - substituted_r_RHS_NLS)))\n",
    "\n",
    "\n",
    "sig_LHS_GP = subs(deriv(sig), [(lam, lam_GP)])\n",
    "sig_RHS_GP = subs(- sig**2 + (2 * I * z_GP) * sig + z_GP**2 + (deriv(U_GP) + (A_GP + U_GP)**2)[0,0] + (deriv(U_GP) + (A_GP + U_GP)**2)[0,1] * r, [(lam, lam_GP)])\n",
    "r_LHS_GP = subs(deriv(r), [(lam, lam_GP)])\n",
    "r_RHS_GP = subs(- (A_GP + U_GP)[0,1] * r**2 + ((A_GP + U_GP)[1,1] - (A_GP + U_GP)[0,0]) * r + (A_GP + U_GP)[1,0], [(lam, lam_GP)])\n",
    "\n",
    "substituted_sig_RHS_GP = subs(sig_RHS_GP, [\n",
    "    (sig, deriv(Phi_11) / Phi_11 + I * z_GP), \n",
    "    (r, Phi_12 / Phi_11),\n",
    "    (deriv(Phi_11), ((A_GP + U_GP) * Phi)[0,0]),\n",
    "    (deriv(Phi_12), ((A_GP + U_GP) * Phi)[1,0]),\n",
    "    (deriv(Phi_11), ((A_GP + U_GP) * Phi)[0,0]),\n",
    "    (deriv(Phi_12), ((A_GP + U_GP) * Phi)[1,0]),\n",
    "    (lam, lam_GP)\n",
    "])\n",
    "substituted_sig_LHS_GP = subs(sig_LHS_GP, [\n",
    "    (sig, deriv(Phi_11) / Phi_11 + I * z_GP), \n",
    "    (r, Phi_12 / Phi_11),\n",
    "    (deriv(Phi_11), ((A_GP + U_GP) * Phi)[0,0]),\n",
    "    (deriv(Phi_12), ((A_GP + U_GP) * Phi)[1,0]),\n",
    "    (deriv(Phi_11), ((A_GP + U_GP) * Phi)[0,0]),\n",
    "    (deriv(Phi_12), ((A_GP + U_GP) * Phi)[1,0]),\n",
    "    (lam, lam_GP)\n",
    "])\n",
    "substituted_r_RHS_GP = subs(r_RHS_GP, [\n",
    "    (sig, deriv(Phi_11) / Phi_11 + I * z_GP), \n",
    "    (r, Phi_12 / Phi_11),\n",
    "    (deriv(Phi_11), ((A_GP + U_GP) * Phi)[0,0]),\n",
    "    (deriv(Phi_12), ((A_GP + U_GP) * Phi)[1,0]),\n",
    "    (lam, lam_GP)\n",
    "])\n",
    "substituted_r_LHS_GP = subs(r_LHS_GP, [\n",
    "    (sig, deriv(Phi_11) / Phi_11 + I * z_GP), \n",
    "    (r, Phi_12 / Phi_11),\n",
    "    (deriv(Phi_11), ((A_GP + U_GP) * Phi)[0,0]),\n",
    "    (deriv(Phi_12), ((A_GP + U_GP) * Phi)[1,0]),\n",
    "    (lam, lam_GP)\n",
    "])\n",
    "\n",
    "\n",
    "display(Equ(Symbol('\\\\text{Error}_{\\\\text{GP formula for $\\\\sigma$}}'), simplify(substituted_sig_LHS_GP - substituted_sig_RHS_GP)))\n",
    "display(Equ(Symbol('\\\\text{Error}_{\\\\text{GP formula for $r$}}'), simplify(substituted_r_LHS_GP - substituted_r_RHS_GP)))\n",
    "\n",
    "\n",
    "sig_LHS_hGP = subs(deriv(sig), [(lam, lam_hGP)])\n",
    "sig_RHS_hGP = subs(- sig**2 + (2 * I * z_hGP) * sig + z_hGP**2 + (deriv(U_hGP) + (A_hGP + U_hGP)**2)[0,0] + (deriv(U_hGP) + (A_hGP + U_hGP)**2)[0,1] * r, [(lam, lam_hGP)])\n",
    "r_LHS_hGP = subs(deriv(r), [(lam, lam_hGP)])\n",
    "r_RHS_hGP = subs(- (A_hGP + U_hGP)[0,1] * r**2 + ((A_hGP + U_hGP)[1,1] - (A_hGP + U_hGP)[0,0]) * r + (A_hGP + U_hGP)[1,0], [(lam, lam_hGP)])\n",
    "\n",
    "substituted_sig_RHS_hGP = subs(sig_RHS_hGP, [\n",
    "    (sig, deriv(Phi_11) / Phi_11 + I * z_hGP), \n",
    "    (r, Phi_12 / Phi_11),\n",
    "    (deriv(Phi_11), ((A_hGP + U_hGP) * Phi)[0,0]),\n",
    "    (deriv(Phi_12), ((A_hGP + U_hGP) * Phi)[1,0]),\n",
    "    (lam, lam_hGP)\n",
    "])\n",
    "substituted_sig_LHS_hGP = subs(sig_LHS_hGP, [\n",
    "    (sig, deriv(Phi_11) / Phi_11 + I * z_hGP), \n",
    "    (r, Phi_12 / Phi_11),\n",
    "    (deriv(Phi_11), ((A_hGP + U_hGP) * Phi)[0,0]),\n",
    "    (deriv(Phi_12), ((A_hGP + U_hGP) * Phi)[1,0]),\n",
    "    (lam, lam_hGP)\n",
    "])\n",
    "substituted_r_RHS_hGP = subs(r_RHS_hGP, [\n",
    "    (sig, deriv(Phi_11) / Phi_11 + I * z_hGP), \n",
    "    (r, Phi_12 / Phi_11),\n",
    "    (deriv(Phi_11), ((A_hGP + U_hGP) * Phi)[0,0]),\n",
    "    (deriv(Phi_12), ((A_hGP + U_hGP) * Phi)[1,0]),\n",
    "    (lam, lam_hGP)\n",
    "])\n",
    "substituted_r_LHS_hGP = subs(r_LHS_hGP, [\n",
    "    (sig, deriv(Phi_11) / Phi_11 + I * z_hGP), \n",
    "    (r, Phi_12 / Phi_11),\n",
    "    (deriv(Phi_11), ((A_hGP + U_hGP) * Phi)[0,0]),\n",
    "    (deriv(Phi_12), ((A_hGP + U_hGP) * Phi)[1,0]),\n",
    "    (lam, lam_hGP)\n",
    "])\n",
    "\n",
    "display(Equ(Symbol('\\\\text{Error}_{\\\\text{hGP formula for $\\\\sigma$}}'), simplify(substituted_sig_LHS_hGP - substituted_sig_RHS_hGP)))\n",
    "display(Equ(Symbol('\\\\text{Error}_{\\\\text{hGP formula for $r$}}'), simplify(substituted_r_LHS_hGP - substituted_r_RHS_hGP)))\n",
    "\n",
    "\n",
    "sig_LHS_rGP = subs(deriv(sig), [(lam, lam_rGP)])\n",
    "sig_RHS_rGP = subs(- sig**2 + (2 * I * z_rGP) * sig + z_rGP**2 + (deriv(U_rGP) + (A_rGP + U_rGP)**2)[0,0] + (deriv(U_rGP) + (A_rGP + U_rGP)**2)[0,1] * r, [(lam, lam_rGP)])\n",
    "r_LHS_rGP = subs(deriv(r), [(lam, lam_rGP)])\n",
    "r_RHS_rGP = subs(- (A_rGP + U_rGP)[0,1] * r**2 + ((A_rGP + U_rGP)[1,1] - (A_rGP + U_rGP)[0,0]) * r + (A_rGP + U_rGP)[1,0], [(lam, lam_rGP)])\n",
    "sigt_LHS_rGP = subs(- deriv(sigt), [(lam, lam_rGP)])\n",
    "sigt_RHS_rGP = subs(- sigt**2 + (2 * I * z_rGP) * sigt + z_rGP**2 + (deriv(U_rGP) + (A_rGP + U_rGP)**2)[1,1] + (deriv(U_rGP) + (A_rGP + U_rGP)**2)[1,0] * rt, [(lam, lam_rGP)])\n",
    "rt_LHS_rGP = subs(deriv(rt), [(lam, lam_rGP)])\n",
    "rt_RHS_rGP = subs(- (A_rGP + U_rGP)[1,0] * rt**2 + ((A_rGP + U_rGP)[0,0] - (A_rGP + U_rGP)[1,1]) * rt + (A_rGP + U_rGP)[0,1], [(lam, lam_rGP)])\n",
    "\n",
    "subs_list = [\n",
    "    (sig, deriv(Phi_11) / Phi_11 + I * z_rGP), \n",
    "    (r, Phi_12 / Phi_11),\n",
    "    (deriv(Phi_11), ((A_rGP + U_rGP) * Phi)[0,0]),\n",
    "    (deriv(Phi_12), ((A_rGP + U_rGP) * Phi)[1,0]),\n",
    "    (lam, lam_rGP)\n",
    "]\n",
    "substituted_sig_RHS_rGP = subs(sig_RHS_rGP, subs_list)\n",
    "substituted_sig_LHS_rGP = subs(sig_LHS_rGP, subs_list)\n",
    "substituted_r_RHS_rGP = subs(r_RHS_rGP, subs_list)\n",
    "substituted_r_LHS_rGP = subs(r_LHS_rGP, subs_list)\n",
    "\n",
    "subs_list = [\n",
    "    (sigt, - deriv(Phi_22) / Phi_22 + I * z_rGP), \n",
    "    (rt, Phi_21 / Phi_22),\n",
    "    (deriv(Phi_22), ((A_rGP + U_rGP) * Phi)[1,1]),\n",
    "    (deriv(Phi_21), ((A_rGP + U_rGP) * Phi)[0,1]),\n",
    "    (lam, lam_rGP)\n",
    "]\n",
    "substituted_sigt_RHS_rGP = subs(sigt_RHS_rGP, subs_list)\n",
    "substituted_sigt_LHS_rGP = subs(sigt_LHS_rGP, subs_list)\n",
    "substituted_rt_RHS_rGP = subs(rt_RHS_rGP, subs_list)\n",
    "substituted_rt_LHS_rGP = subs(rt_LHS_rGP, subs_list)\n",
    "\n",
    "display(Equ(Symbol('\\\\text{Error}_{\\\\text{rGP formula for $\\\\sigma$}}'), simplify(substituted_sig_LHS_rGP - substituted_sig_RHS_rGP)))\n",
    "display(Equ(Symbol('\\\\text{Error}_{\\\\text{rGP formula for $r$}}'), simplify(substituted_r_LHS_rGP - substituted_r_RHS_rGP)))\n",
    "display(Equ(Symbol('\\\\text{Error}_{\\\\text{rGP formula for $\\\\tilde{\\\\sigma}$}}'), simplify(substituted_sigt_LHS_rGP - substituted_sigt_RHS_rGP)))\n",
    "display(Equ(Symbol('\\\\text{Error}_{\\\\text{rGP formula for $\\\\tilde{r}$}}'), simplify(substituted_rt_LHS_rGP - substituted_rt_RHS_rGP)))\n",
    "\n",
    "\n",
    "sig_eqn_NLS = tsimplify((- sig_LHS_NLS + sig_RHS_NLS).expand())\n",
    "r_eqn_NLS = tsimplify((- r_LHS_NLS + r_RHS_NLS).expand())\n",
    "sig_eqn_GP = tsimplify((- sig_LHS_GP+ sig_RHS_GP).expand())\n",
    "r_eqn_GP = tsimplify((- r_LHS_GP + r_RHS_GP).expand())\n",
    "sig_eqn_hGP= tsimplify((- sig_LHS_hGP + sig_RHS_hGP).expand())\n",
    "r_eqn_hGP =tsimplify((- r_LHS_hGP + r_RHS_hGP).expand())\n",
    "sig_eqn_rGP = tsimplify((- sig_LHS_rGP + sig_RHS_rGP).expand())\n",
    "r_eqn_rGP = tsimplify((- r_LHS_rGP + r_RHS_rGP).expand())\n",
    "sigt_eqn_rGP = tsimplify((- sigt_LHS_rGP + sigt_RHS_rGP).expand())\n",
    "rt_eqn_rGP = tsimplify((- rt_LHS_rGP + rt_RHS_rGP).expand())\n",
    "\n",
    "sig_eqn_lam_NLS = tsimplify((- sig_LHS_NLS + sig_RHS_NLS).subs(z, z_NLS).expand())\n",
    "r_eqn_lam_NLS = tsimplify((- r_LHS_NLS + r_RHS_NLS).subs(z, z_NLS).expand())\n",
    "sig_eqn_lam_GP = tsimplify((- sig_LHS_GP+ sig_RHS_GP).subs(z, z_GP).expand())\n",
    "r_eqn_lam_GP = tsimplify((- r_LHS_GP + r_RHS_GP).subs(z, z_GP).expand())\n",
    "sig_eqn_lam_hGP= tsimplify((- sig_LHS_hGP + sig_RHS_hGP).subs(z, z_hGP).expand())\n",
    "r_eqn_lam_hGP =tsimplify((- r_LHS_hGP + r_RHS_hGP).subs(z, z_hGP).expand())\n",
    "sig_eqn_lam_rGP = tsimplify((- sig_LHS_rGP + sig_RHS_rGP).subs(z, z_rGP).expand())\n",
    "r_eqn_lam_rGP = tsimplify((- r_LHS_rGP + r_RHS_rGP).subs(z, z_rGP).expand())\n",
    "sigt_eqn_lam_rGP = tsimplify((- sigt_LHS_rGP + sigt_RHS_rGP).subs(z, z_rGP).expand())\n",
    "rt_eqn_lam_rGP = tsimplify((- rt_LHS_rGP + rt_RHS_rGP).subs(z, z_rGP).expand())\n"
   ]
  },
  {
   "cell_type": "markdown",
   "id": "59763f64",
   "metadata": {},
   "source": [
    "# Approximation formal"
   ]
  },
  {
   "cell_type": "code",
   "execution_count": null,
   "id": "e5f0bdaf",
   "metadata": {},
   "outputs": [],
   "source": [
    "mmu, mu, nnu, nu, rrho, rho, ttheta, theta, oomega, omega, ttau, tau, aalpha, alpha, bbeta, beta = D.create_diff_symbols(\n",
    "    '\\\\mu', '\\\\nu', '\\\\rho', '\\\\theta', '\\\\omega', '\\\\tau', '\\\\alpha', '\\\\beta'\n",
    ")\n",
    "mmut, mut, nnut, nut, rrhot, rhot, tthetat, thetat, oomegat, omegat, ttaut, taut, aalphat, alphat, bbetat, betat = D.create_diff_symbols(\n",
    "    '\\\\tilde{\\\\mu}', '\\\\tilde{\\\\nu}', '\\\\tilde{\\\\rho}', '\\\\tilde{\\\\theta}', '\\\\tilde{\\\\omega}', '\\\\tilde{\\\\tau}', '\\\\tilde{\\\\alpha}', '\\\\tilde{\\\\beta}'\n",
    ")\n",
    "\n",
    "# sig_eqn_lam_rGP = tsimplify((sig_LHS_rGP - sig_RHS_rGP).subs(z, z_rGP))\n",
    "# sigt_eqn_lam_rGP = tsimplify((sigt_LHS_rGP - sigt_RHS_rGP).subs(z, z_rGP))\n",
    "# r_eqn_lam_rGP = tsimplify((r_LHS_rGP - r_RHS_rGP).subs(z, z_rGP))\n",
    "# rt_eqn_lam_rGP = tsimplify((rt_LHS_rGP - rt_RHS_rGP).subs(z, z_rGP))\n",
    "\n",
    "mu_sub = re(sig) + 1 / (I * lam) * im(sig)\n",
    "mut_sub = re(sigt) + 1 / (I * lam) * im(sigt)\n",
    "nu_sub = re(sig) - 1 / (I * lam) * im(sig)\n",
    "nut_sub = re(sigt) - 1 / (I * lam) * im(sigt)\n",
    "rho_sub = re(sig)\n",
    "rhot_sub = re(sigt)\n",
    "theta_sub = 1 / (I * lam) * im(sig)\n",
    "thetat_sub = 1 / (I * lam) * im(sigt)\n",
    "\n",
    "alpha_sub = re(I * epsilon * r) + 1 / (I * lam) * im(I * epsilon * r)\n",
    "alphat_sub = re(I * epsilon * rt) + 1 / (I * lam) * im(I * epsilon * rt)\n",
    "beta_sub = re(I * epsilon * r) - 1 / (I * lam) * im(I * epsilon * r)\n",
    "betat_sub = re(I * epsilon * rt) - 1 / (I * lam) * im(I * epsilon * rt)\n",
    "omega_sub = re(I * epsilon * r)\n",
    "omegat_sub = re(I * epsilon * rt)\n",
    "tau_sub = 1 / (I * lam) * im(I * epsilon * r)\n",
    "taut_sub = 1 / (I * lam) * im(I * epsilon * rt)\n",
    "\n",
    "mu_eqn = tsimplify(mu_sub.subs(sig, - sig_eqn_lam_rGP))\n",
    "mut_eqn = tsimplify(mut_sub.subs(sigt, - sigt_eqn_lam_rGP))\n",
    "nu_eqn = tsimplify(nu_sub.subs(sig, - sig_eqn_lam_rGP))\n",
    "nut_eqn = tsimplify(nut_sub.subs(sigt, - sigt_eqn_lam_rGP))\n",
    "rho_eqn = tsimplify(rho_sub.subs(sig, - sig_eqn_lam_rGP))\n",
    "rhot_eqn = tsimplify(rhot_sub.subs(sigt, - sigt_eqn_lam_rGP))\n",
    "theta_eqn = tsimplify(theta_sub.subs(sig, - sig_eqn_lam_rGP))\n",
    "thetat_eqn = tsimplify(thetat_sub.subs(sigt, - sigt_eqn_lam_rGP))\n",
    "alpha_eqn = sqrt(2) * tsimplify(alpha_sub.subs(r, - r_eqn_lam_rGP))\n",
    "alphat_eqn = sqrt(2) * tsimplify(alphat_sub.subs(rt, - rt_eqn_lam_rGP))\n",
    "beta_eqn = sqrt(2) * tsimplify(beta_sub.subs(r, - r_eqn_lam_rGP))\n",
    "betat_eqn = sqrt(2) * tsimplify(betat_sub.subs(rt, - rt_eqn_lam_rGP))\n",
    "omega_eqn = sqrt(2) * tsimplify(omega_sub.subs(r, - r_eqn_lam_rGP))\n",
    "omegat_eqn = sqrt(2) * tsimplify(omegat_sub.subs(rt, - rt_eqn_lam_rGP))\n",
    "tau_eqn = sqrt(2) * tsimplify(tau_sub.subs(r, - r_eqn_lam_rGP))\n",
    "taut_eqn = sqrt(2) * tsimplify(taut_sub.subs(rt, - rt_eqn_lam_rGP))\n",
    "\n",
    "subs_list = [\n",
    "    (z, z_rGP),\n",
    "    (mu, mu_sub), (mut, mut_sub),\n",
    "    (nu, nu_sub), (nut, nut_sub),\n",
    "    (rho, rho_sub), (rhot, rhot_sub),\n",
    "    (theta, theta_sub), (thetat, thetat_sub),\n",
    "    (alpha, alpha_sub), (alphat, alphat_sub),\n",
    "    (beta, beta_sub), (betat, betat_sub),\n",
    "    (omega, omega_sub), (omegat, omegat_sub),\n",
    "    (tau, tau_sub), (taut, taut_sub)\n",
    "]\n",
    "mu_eqn_expected = deriv(mu) - (2*I*z) * mu + mu**2 - epsilon**2 / 2 * (2*I*z)**2 * theta**2 - W_plus + epsilon**2 / 2 * W_minus * W_plus + deriv(W_plus) / sqrt(2) * alpha  \n",
    "mut_eqn_expected = - deriv(mut) - (2*I*z) * mut + mut**2 - epsilon**2 / 2 * (2*I*z)**2 * thetat**2 - W_plus + epsilon**2 / 2 * W_minus * W_plus + deriv(W_minus) / sqrt(2) * alphat  \n",
    "nu_eqn_expected = deriv(nu) - (2*I*z) * nu + nu**2 - epsilon**2 / 2 * (2*I*z)**2 * theta**2 + W_minus + epsilon**2 / 2 * W_minus * W_plus + deriv(W_plus) / sqrt(2) * beta\n",
    "nut_eqn_expected = - deriv(nut) - (2*I*z) * nut + nut**2 - epsilon**2 / 2 * (2*I*z)**2 * thetat**2 + W_minus + epsilon**2 / 2 * W_minus * W_plus + deriv(W_minus) / sqrt(2) * betat\n",
    "rho_eqn_expected = deriv(rho) - (2*I*z) * rho + rho**2 + theta**2 - epsilon**2 / 2 * (2*I*z)**2 * theta**2 + epsilon**2 / 2 * W_minus * W_plus + W_minus / 2 - W_plus / 2 + deriv(W_plus) / sqrt(2) * omega\n",
    "rhot_eqn_expected = - deriv(rhot) - (2*I*z) * rhot + rhot**2 + thetat**2 - epsilon**2 / 2 * (2*I*z)**2 * thetat**2 + epsilon**2 / 2 * W_minus * W_plus + W_minus / 2 - W_plus / 2 + deriv(W_minus) / sqrt(2) * omegat\n",
    "theta_eqn_expected = deriv(theta) - (2*I*z) * theta + 2 * rho * theta - W_minus / 2 - W_plus / 2 + deriv(W_plus) / sqrt(2) * tau\n",
    "thetat_eqn_expected = - deriv(thetat) - (2*I*z) * thetat + 2 * rhot * thetat - W_minus / 2 - W_plus / 2 + deriv(W_minus) / sqrt(2) * taut\n",
    "omega_eqn_expected = sqrt(2) * deriv(omega) + (2*I*z)**2 / 2 * tau**2 - W_plus * (omega**2 + tau**2 - epsilon**2 / 2 * (2*I*z)**2 * tau**2) - (2*I*z)**2 * omega * tau + 1 - epsilon**(-2) * beta**2 - epsilon**2 * W_minus\n",
    "omegat_eqn_expected = sqrt(2) * deriv(omegat) - (2*I*z)**2 / 2 * taut**2 - W_minus * (omegat**2 + taut**2 - epsilon**2 / 2 * (2*I*z)**2 * taut**2) - (2*I*z)**2 * omegat * taut - 1 + epsilon**(-2) * alphat**2 - epsilon**2 * W_plus\n",
    "tau_eqn_expected = sqrt(2) * deriv(tau) - (2*I*z)**2 / 2 * tau**2 - 2 * W_plus * omega * tau + 1 + epsilon**(-2) * beta**2\n",
    "taut_eqn_expected = sqrt(2) * deriv(taut) - (2*I*z)**2 / 2 * taut**2 - 2 *  W_minus * omegat * taut + 1 + epsilon**(-2) * alphat**2\n",
    "alpha_eqn_expected = sqrt(2) * deriv(alpha) - W_plus * alpha**2 + (2*I*z)**2 * (epsilon**2 / 2 * W_plus * tau**2 - omega * tau) + 2 - epsilon**2 * W_minus\n",
    "alphat_eqn_expected = sqrt(2) * deriv(alphat) - (W_minus - 2 * epsilon**(-2)) * alphat**2 + (2*I*z)**2 * (epsilon**2 / 2 * W_minus * taut**2 - alphat * taut) - epsilon**2 * W_plus\n",
    "beta_eqn_expected = sqrt(2) * deriv(beta) - (W_plus + 2 * epsilon**(-2)) * beta**2 + (2*I*z)**2 * (epsilon**2 / 2 * W_plus * tau**2 - beta * tau) - epsilon**2 * W_minus\n",
    "betat_eqn_expected = sqrt(2) * deriv(betat) - W_minus * betat**2 + (2*I*z)**2 * (epsilon**2 / 2 * W_minus * taut**2 - omegat * taut) - 2 - epsilon**2 * W_plus\n",
    "\n",
    "mu_eqn_expected_substituted = tsimplify(subs(mu_eqn_expected, subs_list))\n",
    "mut_eqn_expected_substituted = tsimplify(subs(mut_eqn_expected, subs_list))\n",
    "nu_eqn_expected_substituted = tsimplify(subs(nu_eqn_expected, subs_list))\n",
    "nut_eqn_expected_substituted = tsimplify(subs(nut_eqn_expected, subs_list))\n",
    "rho_eqn_expected_substituted = tsimplify(subs(rho_eqn_expected, subs_list))\n",
    "rhot_eqn_expected_substituted = tsimplify(subs(rhot_eqn_expected, subs_list))\n",
    "theta_eqn_expected_substituted = tsimplify(subs(theta_eqn_expected, subs_list))\n",
    "thetat_eqn_expected_substituted = tsimplify(subs(thetat_eqn_expected, subs_list))\n",
    "omega_eqn_expected_substituted = tsimplify(subs(omega_eqn_expected, subs_list))\n",
    "omegat_eqn_expected_substituted = tsimplify(subs(omegat_eqn_expected, subs_list))\n",
    "tau_eqn_expected_substituted = tsimplify(subs(tau_eqn_expected, subs_list))\n",
    "taut_eqn_expected_substituted = tsimplify(subs(taut_eqn_expected, subs_list))\n",
    "alpha_eqn_expected_substituted = tsimplify(subs(alpha_eqn_expected, subs_list))\n",
    "alphat_eqn_expected_substituted = tsimplify(subs(alphat_eqn_expected, subs_list))\n",
    "beta_eqn_expected_substituted = tsimplify(subs(beta_eqn_expected, subs_list))\n",
    "betat_eqn_expected_substituted = tsimplify(subs(betat_eqn_expected, subs_list))\n",
    "\n",
    "display(Equ(Symbol('\\\\text{Error}_{\\\\text{calculated vs expected ODEs}}^\\\\mu'), simplify(mu_eqn - mu_eqn_expected_substituted)))\n",
    "display(Equ(Symbol('\\\\text{Error}_{\\\\text{calculated vs expected ODEs}}^{\\\\tilde{\\\\mu}}'), simplify(mut_eqn - mut_eqn_expected_substituted)))\n",
    "display(Equ(Symbol('\\\\text{Error}_{\\\\text{calculated vs expected ODEs}}^\\\\nu'), simplify(nu_eqn - nu_eqn_expected_substituted)))\n",
    "display(Equ(Symbol('\\\\text{Error}_{\\\\text{calculated vs expected ODEs}}^{\\\\tilde{\\\\nu}}'), simplify(nut_eqn - nut_eqn_expected_substituted)))\n",
    "display(Equ(Symbol('\\\\text{Error}_{\\\\text{calculated vs expected ODEs}}^\\\\rho'), simplify(rho_eqn - rho_eqn_expected_substituted)))\n",
    "display(Equ(Symbol('\\\\text{Error}_{\\\\text{calculated vs expected ODEs}}^{\\\\tilde{\\\\rho}}'), simplify(rhot_eqn - rhot_eqn_expected_substituted)))\n",
    "display(Equ(Symbol('\\\\text{Error}_{\\\\text{calculated vs expected ODEs}}^\\\\theta'), simplify(theta_eqn - theta_eqn_expected_substituted)))\n",
    "display(Equ(Symbol('\\\\text{Error}_{\\\\text{calculated vs expected ODEs}}^{\\\\tilde{\\\\theta}}'), simplify(thetat_eqn - thetat_eqn_expected_substituted)))\n",
    "display(Equ(Symbol('\\\\text{Error}_{\\\\text{calculated vs expected ODEs}}^\\\\omega'), simplify(omega_eqn - omega_eqn_expected_substituted)))\n",
    "display(Equ(Symbol('\\\\text{Error}_{\\\\text{calculated vs expected ODEs}}^{\\\\tilde{\\\\omega}}'), simplify(omegat_eqn - omegat_eqn_expected_substituted)))\n",
    "display(Equ(Symbol('\\\\text{Error}_{\\\\text{calculated vs expected ODEs}}^\\\\tau'), simplify(tau_eqn - tau_eqn_expected_substituted)))\n",
    "display(Equ(Symbol('\\\\text{Error}_{\\\\text{calculated vs expected ODEs}}^{\\\\tilde{\\\\tau}}'), simplify(taut_eqn - taut_eqn_expected_substituted)))\n",
    "display(Equ(Symbol('\\\\text{Error}_{\\\\text{calculated vs expected ODEs}}^\\\\alpha'), simplify(alpha_eqn - alpha_eqn_expected_substituted)))\n",
    "display(Equ(Symbol('\\\\text{Error}_{\\\\text{calculated vs expected ODEs}}^{\\\\tilde{\\\\alpha}}'), simplify(alphat_eqn - alphat_eqn_expected_substituted)))\n",
    "display(Equ(Symbol('\\\\text{Error}_{\\\\text{calculated vs expected ODEs}}^\\\\beta'), simplify(beta_eqn - beta_eqn_expected_substituted)))\n",
    "display(Equ(Symbol('\\\\text{Error}_{\\\\text{calculated vs expected ODEs}}^{\\\\tilde{\\\\beta}}'), simplify(betat_eqn - betat_eqn_expected_substituted)))\n",
    "\n",
    "display(collect(subs(mu_eqn_expected, [(beta, epsilon**2 * beta), (alphat, epsilon**2 * alphat)]).expand() + O(epsilon**2), epsilon))\n",
    "display(collect(subs(nu_eqn_expected, [(beta, epsilon**2 * beta), (alphat, epsilon**2 * alphat)]).expand() + O(epsilon**2), epsilon))\n",
    "display(collect(subs(rho_eqn_expected, [(beta, epsilon**2 * beta), (alphat, epsilon**2 * alphat)]).expand() + O(epsilon**2), epsilon))\n",
    "display(collect(subs(theta_eqn_expected, [(beta, epsilon**2 * beta), (alphat, epsilon**2 * alphat)]).expand() + O(epsilon**2), epsilon))\n",
    "display(collect(subs(omega_eqn_expected, [(beta, epsilon**2 * beta), (alphat, epsilon**2 * alphat)]).expand() + O(epsilon**2), epsilon))\n",
    "display(collect(subs(tau_eqn_expected, [(beta, epsilon**2 * beta), (alphat, epsilon**2 * alphat)]).expand() + O(epsilon**2), epsilon))\n",
    "display(collect(subs(alpha_eqn_expected, [(beta, epsilon**2 * beta), (alphat, epsilon**2 * alphat)]).expand() + O(epsilon**2), epsilon))\n",
    "display(collect(subs(beta_eqn_expected * epsilon**(-2), [(beta, epsilon**2 * beta), (alphat, epsilon**2 * alphat)]).expand() + O(epsilon**2), epsilon))\n",
    "\n",
    "display(collect(subs(mut_eqn_expected, [(beta, epsilon**2 * beta), (alphat, epsilon**2 * alphat)]).expand() + O(epsilon**2), epsilon))\n",
    "display(collect(subs(nut_eqn_expected, [(beta, epsilon**2 * beta), (alphat, epsilon**2 * alphat)]).expand() + O(epsilon**2), epsilon))\n",
    "display(collect(subs(rhot_eqn_expected, [(beta, epsilon**2 * beta), (alphat, epsilon**2 * alphat)]).expand() + O(epsilon**2), epsilon))\n",
    "display(collect(subs(thetat_eqn_expected, [(beta, epsilon**2 * beta), (alphat, epsilon**2 * alphat)]).expand() + O(epsilon**2), epsilon))\n",
    "display(collect(subs(omegat_eqn_expected, [(beta, epsilon**2 * beta), (alphat, epsilon**2 * alphat)]).expand() + O(epsilon**2), epsilon))\n",
    "display(collect(subs(taut_eqn_expected, [(beta, epsilon**2 * beta), (alphat, epsilon**2 * alphat)]).expand() + O(epsilon**2), epsilon))\n",
    "display(collect(subs(alphat_eqn_expected * epsilon**(-2), [(beta, epsilon**2 * beta), (alphat, epsilon**2 * alphat)]).expand() + O(epsilon**2), epsilon))\n",
    "display(collect(subs(betat_eqn_expected, [(beta, epsilon**2 * beta), (alphat, epsilon**2 * alphat)]).expand() + O(epsilon**2), epsilon))\n"
   ]
  },
  {
   "cell_type": "markdown",
   "id": "0eee2d5b",
   "metadata": {},
   "source": [
    "# Expansions - General"
   ]
  },
  {
   "cell_type": "code",
   "execution_count": null,
   "id": "02f792bf",
   "metadata": {},
   "outputs": [],
   "source": [
    "def series_expansion(expr, x0, var, num):\n",
    "    tvar = var.subs(z, tz).subs(lam, tlam)\n",
    "    ser = complexify(series(realify(expr), x0=x0, x=tvar, n=num).removeO())\n",
    "    expansion_dict = defaultdict(lambda: 0)\n",
    "    for term in ser.as_ordered_terms():\n",
    "        powers_dict = term.as_powers_dict()\n",
    "        exponent = powers_dict.get(var, 0)\n",
    "        coefficient = term.subs(var, 1)\n",
    "        expansion_dict[exponent] += coefficient\n",
    "    if not expansion_dict:\n",
    "        return None, None\n",
    "    final_dict = dict(expansion_dict)\n",
    "    return final_dict\n",
    "\n",
    "N = 7\n",
    "\n",
    "sig_syms = D.create_diff_symbols(*[f'\\\\sigma_{{{n}}}' for n in range(0, N+1)])\n",
    "sig_syms = sig_syms[1::2]\n",
    "sig_syms = {n: sig_syms[n] for n in range(0, N+1)}\n",
    "sigt_syms = D.create_diff_symbols(*[f'\\\\tilde{{\\\\sigma_{{{n}}}}}' for n in range(0, N+1)])\n",
    "sigt_syms = sigt_syms[1::2]\n",
    "sigt_syms = {n: sigt_syms[n] for n in range(0, N+1)}\n",
    "\n",
    "sig_series = sum([s * (2 * I * z)**(-n) for n, s in sig_syms.items()])\n",
    "sig_lam_series = sum([s * (2 * I * lam)**(-n) for n, s in sig_syms.items()])\n",
    "sigt_series = sum([s * (2 * I * z)**(-n) for n, s in sigt_syms.items()])\n",
    "\n",
    "r_syms = D.create_diff_symbols(*[f'r_{{{n}}}' for n in range(0, N+1)])\n",
    "r_syms = r_syms[1::2]\n",
    "r_syms = {n: r_syms[n] for n in range(0, N+1)}\n",
    "R_syms = D.create_diff_symbols(*[f'R_{{{n}}}' for n in range(0, N+1)])\n",
    "R_syms = R_syms[1::2]\n",
    "R_syms = {n: R_syms[n] for n in range(0, N+1)}\n",
    "rt_syms = D.create_diff_symbols(*[f'\\\\tilde{{r_{{{n}}}}}' for n in range(0, N+1)])\n",
    "rt_syms = rt_syms[1::2]\n",
    "rt_syms = {n: rt_syms[n] for n in range(0, N+1)}\n",
    "\n",
    "R_series = sum([s * (2 * I * lam)**(-n) for n, s in r_syms.items()])\n",
    "r_series = sum([s * (2 * I * z)**(-n) for n, s in r_syms.items()])\n",
    "r_lam_series = sum([s * (2 * I * lam)**(-n) for n, s in r_syms.items()])\n",
    "rt_series = sum([s * (2 * I * z)**(-n) for n, s in rt_syms.items()])"
   ]
  },
  {
   "cell_type": "markdown",
   "id": "565f978b",
   "metadata": {},
   "source": [
    "# Expansions - NLS"
   ]
  },
  {
   "cell_type": "code",
   "execution_count": null,
   "id": "10a854fa",
   "metadata": {},
   "outputs": [],
   "source": [
    "sig_expanded_NLS = {n: c / (2 * I)**n for n, c in series_expansion(sig_eqn_lam_NLS, oo, lam, N).items()}\n",
    "sig_expanded_NLS = simplify(sum([(2 * I * lam)**n * c for n, c in sig_expanded_NLS.items()])).expand()\n",
    "sig_expanded_NLS = simplify(subs(sig_expanded_NLS, [(sig, sig_lam_series), (r, r_lam_series)])).expand()\n",
    "sig_orders_NLS = {n: c / (2 * I)**n for n, c in series_expansion(sig_expanded_NLS, oo, lam, N).items()}\n",
    "sig_orders_NLS = {n: sig_orders_NLS[n] for n in sorted(sig_orders_NLS, reverse=True)}\n",
    "sig_iter_NLS = {1-n: solve(e, sig_syms[1-n])[-1] for n, e in sig_orders_NLS.items()}\n",
    "\n",
    "r_eqn_lam_NLS = r_eqn_NLS.subs(z, z_NLS)\n",
    "r_expanded_NLS = {n: c / (2 * I)**n for n, c in series_expansion(r_eqn_lam_NLS, oo, lam, N).items()}\n",
    "r_expanded_NLS = simplify(sum([(2 * I * lam)**n * c for n, c in r_expanded_NLS.items()])).expand()\n",
    "r_expanded_NLS = simplify(subs(r_expanded_NLS, [(sig, sig_lam_series), (r, r_lam_series)])).expand()\n",
    "r_orders_NLS = {n: c / (2 * I)**n for n, c in series_expansion(r_expanded_NLS, oo, lam, N).items()}\n",
    "r_orders_NLS = {n: r_orders_NLS[n] for n in sorted(r_orders_NLS, reverse=True)}\n",
    "r_iter_NLS = {1-n: solve(e, r_syms[1-n])[-1] for n, e in r_orders_NLS.items()}\n",
    "\n",
    "sig_expr_NLS = {n: 0 for n in sig_iter_NLS.keys()}\n",
    "r_expr_NLS = {n: 0 for n in r_iter_NLS.keys()}\n",
    "\n",
    "for n in sig_iter_NLS.keys():\n",
    "    print(\"NLS n =\", n)\n",
    "    sig_subs_list = [(sig_syms[k], sig_expr_NLS[k]) for k in sig_expr_NLS.keys() if k < n]\n",
    "    r_subs_list = [(r_syms[k], r_expr_NLS[k]) for k in r_expr_NLS.keys() if k < n]\n",
    "    subs_list = [sub for sub_pair in zip(sig_subs_list, r_subs_list) for sub in sub_pair]\n",
    "    \n",
    "    sig_expr_NLS[n] = simplify(subs(sig_iter_NLS[n], subs_list))\n",
    "    r_expr_NLS[n] = simplify(subs(r_iter_NLS[n], subs_list))\n",
    "        \n",
    "s = 1 #1: correct sign, -1: wrong sign (old)\n",
    "\n",
    "r_eq_NLS = [r_syms[n] for n in range(N+1)]\n",
    "sig_eq_NLS = [sig_syms[n] for n in range(N+1)]\n",
    "\n",
    "sig_eq_NLS[0] = 0\n",
    "sig_eq_NLS[1] = - q * q_conj\n",
    "\n",
    "r_eq_NLS[0] = 0\n",
    "r_eq_NLS[1] = - s * q_conj\n",
    "\n",
    "for n in range(1, N):\n",
    "    print(\"n =\", n)\n",
    "\n",
    "    X = s * deriv(r_eq_NLS[n])\n",
    "    for k in range(0, n + 1):\n",
    "        X += s * q * (r_eq_NLS[k] * r_eq_NLS[n-k])\n",
    "    r_eq_NLS[n+1] = simplify(X)\n",
    "\n",
    "    X = deriv(sig_eq_NLS[n])\n",
    "    for k in range(0, n + 1):\n",
    "        X += sig_eq_NLS[k] * sig_eq_NLS[n-k]\n",
    "    X += - deriv(q) * r_eq_NLS[n]\n",
    "    sig_eq_NLS[n+1] = simplify(X)\n",
    "\n",
    "for n in range(0, N+1):\n",
    "    display(Equ(Symbol('\\\\text{Error}_{\\\\text{NLS $r$ symbolic vs iteration}}'), simplify(r_eq_NLS[n] - r_expr_NLS[n])))\n",
    "    display(Equ(Symbol('\\\\text{Error}_{\\\\text{NLS $\\sigma$ symbolic vs iteration}}'), simplify(sig_eq_NLS[n] - sig_expr_NLS[n])))\n"
   ]
  },
  {
   "cell_type": "markdown",
   "id": "08ec338a",
   "metadata": {},
   "source": [
    "# Expansions - GP"
   ]
  },
  {
   "cell_type": "code",
   "execution_count": null,
   "id": "91e108a1",
   "metadata": {},
   "outputs": [],
   "source": [
    "sig_expanded_GP = {n: c / (2 * I)**n for n, c in series_expansion(sig_eqn_GP, oo, z, N).items()}\n",
    "sig_expanded_GP = simplify(sum([(2 * I * z)**n * c for n, c in sig_expanded_GP.items()])).expand()\n",
    "sig_expanded_GP = simplify(subs(sig_expanded_GP, [(sig, sig_series), (r, r_series)])).expand()\n",
    "sig_orders_GP = {n: c / (2 * I)**n for n, c in series_expansion(sig_expanded_GP, oo, z, N).items()}\n",
    "sig_orders_GP = {n: sig_orders_GP[n] for n in sorted(sig_orders_GP, reverse=True)}\n",
    "sig_iter_GP = {1-n: solve(e, sig_syms[1-n])[-1] for n, e in sig_orders_GP.items()}\n",
    "\n",
    "r_expanded_GP = {n: c / (2 * I)**n for n, c in series_expansion(r_eqn_GP, oo, z, N).items()}\n",
    "r_expanded_GP = simplify(sum([(2 * I * z)**n * c for n, c in r_expanded_GP.items()])).expand()\n",
    "r_expanded_GP = simplify(subs(r_expanded_GP, [(sig, sig_series), (r, r_series)])).expand()\n",
    "r_orders_GP = {n: c / (2 * I)**n for n, c in series_expansion(r_expanded_GP, oo, z, N).items()}\n",
    "r_orders_GP = {n: r_orders_GP[n] for n in sorted(r_orders_GP, reverse=True)}\n",
    "r_iter_GP = {1-n: solve(e, r_syms[1-n])[-1] for n, e in r_orders_GP.items()}\n",
    "\n",
    "R_expanded_GP = {n: c / (2 * I)**n for n, c in series_expansion(r_eqn_lam_GP, oo, lam, N).items()}\n",
    "R_expanded_GP = simplify(sum([(2 * I * lam)**n * c for n, c in R_expanded_GP.items()])).expand()\n",
    "R_expanded_GP = simplify(subs(R_expanded_GP, [(sig, sig_series), (r, r_lam_series)])).expand()\n",
    "R_orders_GP = {n: c / (2 * I)**n for n, c in series_expansion(R_expanded_GP, oo, lam, N).items()}\n",
    "R_orders_GP = {n: R_orders_GP[n] for n in sorted(R_orders_GP, reverse=True)}\n",
    "R_iter_GP = {1-n: solve(e, r_syms[1-n])[-1] for n, e in R_orders_GP.items()}\n",
    "\n",
    "sig_expr_GP = {n: 0 for n in sig_iter_GP.keys()}\n",
    "r_expr_GP = {n: 0 for n in r_iter_GP.keys()}\n",
    "R_expr_GP = {n: 0 for n in R_iter_GP.keys()}\n",
    "\n",
    "for n in sig_iter_GP.keys():\n",
    "    print(\"GP n =\", n)\n",
    "    sig_subs_list = [(sig_syms[k], sig_expr_GP[k]) for k in sig_expr_GP.keys() if k < n]\n",
    "    r_subs_list = [(r_syms[k], r_expr_GP[k]) for k in r_expr_GP.keys() if k < n]\n",
    "    R_subs_list = [(r_syms[k], R_expr_GP[k]) for k in r_expr_GP.keys() if k < n]\n",
    "    subs_list = [sub for sub_pair in zip(sig_subs_list, r_subs_list) for sub in sub_pair]\n",
    "    \n",
    "    sig_expr_GP[n] = simplify(subs(sig_iter_GP[n], subs_list))\n",
    "    r_expr_GP[n] = simplify(subs(r_iter_GP[n], subs_list))\n",
    "    R_expr_GP[n] = simplify(subs(R_iter_GP[n], R_subs_list))\n",
    "    \n",
    "s = 1 #1: correct sign, -1: wrong sign (old)\n",
    "\n",
    "sig_eq_GP = [sig_syms[n] for n in range(N+1)]\n",
    "r_eq_GP = [r_syms[n] for n in range(N+1)]\n",
    "\n",
    "sig_eq_GP[0] = 0\n",
    "sig_eq_GP[1] = 1 - q * q_conj\n",
    "\n",
    "r_eq_GP[0] = 0\n",
    "r_eq_GP[1] = - s * q_conj\n",
    "\n",
    "for n in range(1, N):\n",
    "    print(\"n =\", n)\n",
    "    X = 0\n",
    "    for m in range(0, n//2 + 1):\n",
    "        X += s * deriv(r_eq_GP[n-2*m]) * binomial(m - Rational(n,2), m) * 4**m\n",
    "    for k in range(0, n + 1):\n",
    "        for m1 in range(0, k//2 + 1):\n",
    "            for m2 in range(0, (n-k)//2 + 1):\n",
    "                X += s * q * r_eq_GP[k-2*m1] * binomial(m1 - Rational(k,2), m1) * 4**m1 * r_eq_GP[n-k-2*m2] * binomial(m2 - Rational(n-k,2), m2) * 4**m2\n",
    "    for m in range(1, (n+1)//2 + 1):\n",
    "        X += - r_eq_GP[n+1-2*m] * binomial(m - Rational(n+1,2), m) * 4**m\n",
    "    r_eq_GP[n+1] = simplify(X)\n",
    "    \n",
    "    X = deriv(sig_eq_GP[n])\n",
    "    for k in range(0, n + 1):\n",
    "        X += sig_eq_GP[k] * sig_eq_GP[n-k]  \n",
    "    X += - deriv(q) * r_eq_GP[n]\n",
    "    sig_eq_GP[n+1] = simplify(X)\n",
    "    \n",
    "for n in range(0, N+1):\n",
    "    display(Equ(Symbol('\\\\text{Error}_{\\\\text{GP $r$ symbolic vs iteration}}'), simplify(r_eq_GP[n] - r_expr_GP[n])))\n",
    "    display(Equ(Symbol('\\\\text{Error}_{\\\\text{GP $\\sigma$ symbolic vs iteration}}'), simplify(sig_eq_GP[n] - sig_expr_GP[n])))\n"
   ]
  },
  {
   "cell_type": "markdown",
   "id": "42a745d8",
   "metadata": {},
   "source": [
    "# Expansions - hGP"
   ]
  },
  {
   "cell_type": "code",
   "execution_count": null,
   "id": "213ba711",
   "metadata": {},
   "outputs": [],
   "source": [
    "sig_expanded_hGP = {n: c / (2 * I)**n for n, c in series_expansion(sig_eqn_hGP, oo, z, N).items()}\n",
    "sig_expanded_hGP = simplify(sum([(2 * I * z)**n * c for n, c in sig_expanded_hGP.items()])).expand()\n",
    "sig_expanded_hGP = simplify(subs(sig_expanded_hGP, [(sig, sig_series), (r, r_series)])).expand()\n",
    "sig_orders_hGP = {n: c / (2 * I)**n for n, c in series_expansion(sig_expanded_hGP, oo, z, N).items()}\n",
    "sig_orders_hGP = {n: sig_orders_hGP[n] for n in sorted(sig_orders_hGP, reverse=True)}\n",
    "sig_iter_hGP = {1-n: solve(e, sig_syms[1-n])[-1] for n, e in sig_orders_hGP.items()}\n",
    "\n",
    "r_eqn_lam_hGP = r_eqn_hGP.subs(z, z_hGP)\n",
    "r_expanded_hGP = {n: c / (2 * I)**n for n, c in series_expansion(r_eqn_hGP, oo, z, N).items()}\n",
    "r_expanded_hGP = simplify(sum([(2 * I * z)**n * c for n, c in r_expanded_hGP.items()])).expand()\n",
    "r_expanded_hGP = simplify(subs(r_expanded_hGP, [(sig, sig_series), (r, r_series)])).expand()\n",
    "r_orders_hGP = {n: c / (2 * I)**n for n, c in series_expansion(r_expanded_hGP, oo, z, N).items()}\n",
    "r_orders_hGP = {n: r_orders_hGP[n] for n in sorted(r_orders_hGP, reverse=True)}\n",
    "r_iter_hGP = {1-n: solve(e, r_syms[1-n])[-1] for n, e in r_orders_hGP.items()}\n",
    "\n",
    "sig_expr_hGP = {n: 0 for n in sig_iter_hGP.keys()}\n",
    "r_expr_hGP = {n: 0 for n in r_iter_hGP.keys()}\n",
    "\n",
    "for n in sig_iter_hGP.keys():\n",
    "    print(\"hGP n =\", n)\n",
    "    sig_subs_list = [(sig_syms[k], sig_expr_hGP[k]) for k in sig_expr_hGP.keys() if k < n]\n",
    "    r_subs_list = [(r_syms[k], r_expr_hGP[k]) for k in r_expr_hGP.keys() if k < n]\n",
    "    subs_list = [sub for sub_pair in zip(sig_subs_list, r_subs_list) for sub in sub_pair]\n",
    "    \n",
    "    sig_expr_hGP[n] = simplify(subs(sig_iter_hGP[n], subs_list))\n",
    "    r_expr_hGP[n] = simplify(subs(r_iter_hGP[n], subs_list))\n",
    "    \n",
    "\n",
    "def qt_coeff(n):\n",
    "    if n == -1:\n",
    "        return 1 / (I * 2)\n",
    "    if n < -1 or (n % 2 == 0 and n >= 0):\n",
    "        return 0\n",
    "    else:\n",
    "        return I * catalan((n - 1) // 2)\n",
    "\n",
    "\n",
    "r_eq_hGP = [r_syms[n] for n in range(N+1)]\n",
    "r_factor = 1\n",
    "r_eq_hGP[0] = r_factor\n",
    "r_eq_hGP[1] = r_factor / I * (w_plus - w_minus + 2)\n",
    "\n",
    "sig_eq_hGP = [sig_syms[n] for n in range(N+1)]\n",
    "sig_eq_hGP[0] = - I / 2 * (w_plus + w_minus)\n",
    "sig_eq_hGP[1] = I / 2 * deriv(w_plus - w_minus) - (w_plus - w_minus)**2 / 4 - (w_plus - w_minus)\n",
    "\n",
    "for n in range(1, N):\n",
    "    print(\"Iter rGP n =\", n)\n",
    "    X = deriv(r_eq_hGP[n])\n",
    "    X += qt_coeff(n) * I\n",
    "    for k in range(0, n+1):\n",
    "        X += (- w_plus - 1) * r_eq_hGP[n-k] * r_eq_hGP[k] * I\n",
    "    for m in range(0, n+1):\n",
    "        for k in range(0, m+1):     \n",
    "            X += - qt_coeff(n-m) * r_eq_hGP[m-k] * r_eq_hGP[k] * I\n",
    "    for k in range(1, n+1):\n",
    "        X += - qt_coeff(-1) * r_eq_hGP[n+1-k] * r_eq_hGP[k] * I\n",
    "    r_eq_hGP[n+1] = simplify(r_factor * X)\n",
    "    \n",
    "    X = deriv(sig_eq_hGP[n])\n",
    "    for k in range(0, n+1):\n",
    "        X += sig_eq_hGP[n-k] * sig_eq_hGP[k]\n",
    "    X += qt_coeff(n) * (w_minus + w_plus)\n",
    "    X += deriv(w_plus) * r_eq_hGP[n] * I\n",
    "    sig_eq_hGP[n+1] = simplify(X)\n",
    "    \n",
    "for n in range(0, N+1):\n",
    "    display(Equ(Symbol('\\\\text{Error}_{\\\\text{hGP $r$ symbolic vs iteration}}'), simplify(r_eq_hGP[n] - r_expr_hGP[n])))\n",
    "    display(Equ(Symbol('\\\\text{Error}_{\\\\text{hGP $\\sigma$ symbolic vs iteration}}'), simplify(sig_eq_hGP[n] - sig_expr_hGP[n])))\n"
   ]
  },
  {
   "cell_type": "markdown",
   "id": "931c72f2",
   "metadata": {},
   "source": [
    "# Expansions - rGP"
   ]
  },
  {
   "cell_type": "code",
   "execution_count": null,
   "id": "f29a3e03",
   "metadata": {},
   "outputs": [],
   "source": [
    "sig_expanded_rGP = {n: c / (2 * I)**n for n, c in series_expansion(sig_eqn_rGP, oo, z, N).items()}\n",
    "sig_expanded_rGP = simplify(sum([(2 * I * z)**n * c for n, c in sig_expanded_rGP.items()])).expand()\n",
    "sig_expanded_rGP = simplify(subs(sig_expanded_rGP, [(sig, sig_series), (r, r_series)])).expand()\n",
    "sig_orders_rGP = {n: c / (2 * I)**n for n, c in series_expansion(sig_expanded_rGP, oo, z, N).items()}\n",
    "sig_orders_rGP = {n: sig_orders_rGP[n] for n in sorted(sig_orders_rGP, reverse=True)}\n",
    "sig_iter_rGP = {1-n: solve(e, sig_syms[1-n])[-1] for n, e in sig_orders_rGP.items()}\n",
    "\n",
    "sigt_expanded_rGP = {n: c / (2 * I)**n for n, c in series_expansion(sigt_eqn_rGP, oo, z, N).items()}\n",
    "sigt_expanded_rGP = simplify(sum([(2 * I * z)**n * c for n, c in sigt_expanded_rGP.items()])).expand()\n",
    "sigt_expanded_rGP = simplify(subs(sigt_expanded_rGP, [(sigt, sigt_series), (rt, rt_series)])).expand()\n",
    "sigt_orders_rGP = {n: c / (2 * I)**n for n, c in series_expansion(sigt_expanded_rGP, oo, z, N).items()}\n",
    "sigt_orders_rGP = {n: sigt_orders_rGP[n] for n in sorted(sigt_orders_rGP, reverse=True)}\n",
    "sigt_iter_rGP = {1-n: solve(e, sigt_syms[1-n])[-1] for n, e in sigt_orders_rGP.items()}\n",
    "\n",
    "r_expanded_rGP = {n: c / (2 * I)**n for n, c in series_expansion(r_eqn_rGP, oo, z, N).items()}\n",
    "r_expanded_rGP = simplify(sum([(2 * I * z)**n * c for n, c in r_expanded_rGP.items()])).expand()\n",
    "r_expanded_rGP = simplify(subs(r_expanded_rGP, [(sig, sig_series), (r, r_series)])).expand()\n",
    "r_orders_rGP = {n: c / (2 * I)**n for n, c in series_expansion(r_expanded_rGP, oo, z, N).items()}\n",
    "r_orders_rGP = {n: r_orders_rGP[n] for n in sorted(r_orders_rGP, reverse=True)}\n",
    "r_iter_rGP = {1-n: solve(e, r_syms[1-n])[-1] for n, e in r_orders_rGP.items()}\n",
    "\n",
    "rt_expanded_rGP = {n: c / (2 * I)**n for n, c in series_expansion(rt_eqn_rGP, oo, z, N).items()}\n",
    "rt_expanded_rGP = simplify(sum([(2 * I * z)**n * c for n, c in rt_expanded_rGP.items()])).expand()\n",
    "rt_expanded_rGP = simplify(subs(rt_expanded_rGP, [(sigt, sigt_series), (rt, rt_series)])).expand()\n",
    "rt_orders_rGP = {n: c / (2 * I)**n for n, c in series_expansion(rt_expanded_rGP, oo, z, N).items()}\n",
    "rt_orders_rGP = {n: rt_orders_rGP[n] for n in sorted(rt_orders_rGP, reverse=True)}\n",
    "rt_iter_rGP = {1-n: solve(e, rt_syms[1-n])[-1] for n, e in rt_orders_rGP.items()}\n",
    "\n",
    "# Not necessary it seems\n",
    "# sig_iter_rGP = {k: sig_iter_rGP.get(k, 0) for k in set(sig_iter_rGP.keys()) | set(r_iter_rGP.keys())}\n",
    "# r_iter_rGP = {k: r_iter_rGP.get(k, 0) for k in set(sig_iter_rGP.keys()) | set(r_iter_rGP.keys())}\n",
    "\n",
    "sig_expr_rGP = {n: 0 for n in sig_iter_rGP.keys()}\n",
    "sigt_expr_rGP = {n: 0 for n in sigt_iter_rGP.keys()}\n",
    "r_expr_rGP = {n: 0 for n in r_iter_rGP.keys()}\n",
    "rt_expr_rGP = {n: 0 for n in rt_iter_rGP.keys()}\n",
    "\n",
    "\n",
    "for n in sig_iter_rGP.keys():\n",
    "    print(\"rGP n =\", n)\n",
    "    sig_subs_list = [(sig_syms[k], sig_expr_rGP[k]) for k in sig_expr_rGP.keys() if k < n]\n",
    "    r_subs_list = [(r_syms[k], r_expr_rGP[k]) for k in r_expr_rGP.keys() if k < n]\n",
    "    subs_list = [sub for sub_pair in zip(sig_subs_list, r_subs_list) for sub in sub_pair]\n",
    "    \n",
    "    sig_expr_rGP[n] = simplify(subs(sig_iter_rGP[n], subs_list))\n",
    "    r_expr_rGP[n] = simplify(subs(r_iter_rGP[n], subs_list))\n",
    "\n",
    "    sigt_subs_list = [(sigt_syms[k], sigt_expr_rGP[k]) for k in sigt_expr_rGP.keys() if k < n]\n",
    "    rt_subs_list = [(rt_syms[k], rt_expr_rGP[k]) for k in rt_expr_rGP.keys() if k < n]\n",
    "    subs_list = [sub for sub_pair in zip(sigt_subs_list, rt_subs_list) for sub in sub_pair]\n",
    "    \n",
    "    sigt_expr_rGP[n] = simplify(subs(sigt_iter_rGP[n], subs_list))    \n",
    "    rt_expr_rGP[n] = simplify(subs(rt_iter_rGP[n], subs_list))\n",
    "\n",
    "\n",
    "def q_coeff(n):\n",
    "    if n == -1:\n",
    "        return epsilon / (I * sqrt(2))\n",
    "    if n < -1 or (n % 2 == 0 and n >= 0):\n",
    "        return 0\n",
    "    else:\n",
    "        return I * catalan((n - 1) // 2) / sqrt(2)**n / epsilon**n\n",
    "\n",
    "r_eq = [r_syms[n] for n in range(N+1)]\n",
    "r_factor = 1\n",
    "r_eq[0] = r_factor\n",
    "r_eq[1] = r_factor / I * epsilon / sqrt(2) * (W_plus - W_minus + 2 / epsilon**2)\n",
    "\n",
    "sig_eq = [sig_syms[n] for n in range(N+1)]\n",
    "sig_eq[0] = q_coeff(-1) / 2 * (W_plus + W_minus)\n",
    "sig_eq[1] = q_coeff(-1) / 2 * deriv(W_plus + W_minus) + q_coeff(-1)**2 / 4 * (W_plus + W_minus)**2 \n",
    "sig_eq[1] += epsilon**2 / 2 * W_minus * W_plus + (W_minus - W_plus) / 2 \n",
    "sig_eq[1] += epsilon / sqrt(2) * deriv(W_plus) * r_eq[0]  * I\n",
    "\n",
    "for n in range(1, N):\n",
    "    print(\"Iter rGP n =\", n)\n",
    "    X = deriv(r_eq[n])\n",
    "    X += - q_coeff(n) / sqrt(2) / epsilon / I\n",
    "    for k in range(0, n+1):\n",
    "        X += epsilon / sqrt(2) * (- W_plus - 1 / epsilon**2) * r_eq[n-k] * r_eq[k] * I\n",
    "    for m in range(0, n+1):\n",
    "        for k in range(0, m+1):     \n",
    "            X += - 1 / epsilon / sqrt(2) * q_coeff(n-m) * r_eq[m-k] * r_eq[k] * I\n",
    "    for k in range(1, n+1):\n",
    "        X += - q_coeff(-1) / sqrt(2) / epsilon * r_eq[n+1-k] * r_eq[k] * I\n",
    "    r_eq[n+1] = simplify(r_factor * X)\n",
    "    \n",
    "    X = deriv(sig_eq[n])\n",
    "    for k in range(0, n+1):\n",
    "        X += sig_eq[n-k] * sig_eq[k]\n",
    "    X += q_coeff(n) / 2 * (W_minus + W_plus)\n",
    "    X += epsilon / sqrt(2) * deriv(W_plus) * r_eq[n] * I\n",
    "    sig_eq[n+1] = simplify(X)\n",
    "    \n",
    "for n in range(0, N+1):\n",
    "    display(Equ(Symbol('\\\\text{Error}_{\\\\text{rGP $r$ symbolic vs iteration}}'), simplify(r_eq[n] - r_expr_rGP[n])))\n",
    "    display(Equ(Symbol('\\\\text{Error}_{\\\\text{rGP $\\sigma$ symbolic vs iteration}}'), simplify(sig_eq[n] - sig_expr_rGP[n])))\n"
   ]
  },
  {
   "cell_type": "code",
   "execution_count": null,
   "id": "37eff32c",
   "metadata": {},
   "outputs": [],
   "source": [
    "for n in range(N+1):\n",
    "    display(Equ(sig_syms[n], variation(sig_expr_rGP[n] - sigt_expr_rGP[n], W_plus)))\n",
    "    display(Equ(sig_syms[n], variation(sig_expr_rGP[n] - sigt_expr_rGP[n], W_minus)))\n"
   ]
  },
  {
   "cell_type": "markdown",
   "id": "4de911f7",
   "metadata": {},
   "source": [
    "# Expansions - KdV"
   ]
  },
  {
   "cell_type": "code",
   "execution_count": null,
   "id": "9b5df118",
   "metadata": {},
   "outputs": [],
   "source": [
    "N = 7\n",
    "sig_eq_plus_KdV = [sig_syms[n] for n in range(N+1)]\n",
    "sig_eq_minus_KdV = [sig_syms[n] for n in range(N+1)]\n",
    "sig_eq_plus_KdV[0] = 0\n",
    "sig_eq_minus_KdV[0] = 0\n",
    "sig_eq_plus_KdV[1] = - W_plus\n",
    "sig_eq_minus_KdV[1] = W_minus\n",
    "\n",
    "for n in range(1, N):\n",
    "    print(\"Iter KdV n =\", n)\n",
    "\n",
    "    X = deriv(sig_eq_plus_KdV[n])\n",
    "    Y = deriv(sig_eq_minus_KdV[n])\n",
    "    for k in range(0, n+1):\n",
    "        X += sig_eq_plus_KdV[n-k] * sig_eq_plus_KdV[k]\n",
    "        Y += sig_eq_minus_KdV[n-k] * sig_eq_minus_KdV[k]\n",
    "\n",
    "    sig_eq_plus_KdV[n+1] = simplify(X)\n",
    "    sig_eq_minus_KdV[n+1] = simplify(Y)\n"
   ]
  },
  {
   "cell_type": "code",
   "execution_count": null,
   "id": "0ceee45b",
   "metadata": {},
   "outputs": [],
   "source": [
    "# for n in range(8):\n",
    "#     print(\"n =\", n)\n",
    "#     display(simplify(sig_eq_minus_KdV[n]))\n",
    "#     display(simplify(sig_eq_plus_KdV[n]))\n",
    "\n",
    "for n in range(8):\n",
    "    #display(simplify(Rational(1,2) * deriv(variation(sig_eq_minus_KdV[n], W_minus))))\n",
    "    display(simplify(Rational(1,2) * deriv(variation(sig_eq_plus_KdV[n], W_plus))))"
   ]
  },
  {
   "cell_type": "markdown",
   "id": "8b11bc01",
   "metadata": {},
   "source": [
    "# Hamiltonians"
   ]
  },
  {
   "cell_type": "code",
   "execution_count": null,
   "id": "9585f0be",
   "metadata": {},
   "outputs": [],
   "source": [
    "N = 7"
   ]
  },
  {
   "cell_type": "code",
   "execution_count": null,
   "id": "99462c1f",
   "metadata": {},
   "outputs": [],
   "source": [
    "H_NLS = {n-1: - (-I)**(n-1) * e for n, e in sig_expr_NLS.items()}\n",
    "H_NLS[-1] += simplify(- (-I)**(-1) * T_boundary_NLS.subs(phi_plus, 0).subs(phi_minus, 0))\n",
    "\n",
    "H_GP = {n-1: - (-I)**(n-1) * e for n, e in sig_expr_GP.items()}\n",
    "H_GP[-1] += simplify(- (-I)**(-1) * T_boundary_GP.subs(phi_plus, (q_conj * deriv(q) - q * deriv(q_conj)) / (2 * I * q * q_conj)).subs(phi_minus, 0))\n",
    "\n",
    "H_hGP = {n-1: - (-I)**(n-1) * e for n, e in sig_expr_hGP.items()}\n",
    "H_hGP[-1] += simplify(- (-I)**(-1) * T_boundary_hGP.subs(phi_plus, w_plus + w_minus).subs(phi_minus, 0))\n",
    "\n",
    "H_rGP = {n-1: - (-I)**(n-1) * (sqrt(2) * epsilon)**n * e for n, e in sig_expr_rGP.items()}\n",
    "H_rGP[-1] += simplify(- (-I)**(-1) * (sqrt(2) * epsilon)**(-1) * T_boundary_rGP.subs(phi_plus, epsilon**2 * (W_plus + W_minus)).subs(phi_minus, 0))\n",
    "\n",
    "Ht_rGP = {n-1: - (-I)**(n-1) * (sqrt(2) * epsilon)**n * e for n, e in sigt_expr_rGP.items()}\n",
    "Ht_rGP[-1] += simplify(- (-I)**(-1) * (sqrt(2) * epsilon)**(-1) * T_boundary_rGP.subs(phi_plus, epsilon**2 * (W_plus + W_minus)).subs(phi_minus, 0))\n",
    "\n",
    "H_wpGP = {n: 0 for n in range(len(H_rGP.keys())) if 2*n in H_rGP.keys() and 2*n-1 in H_rGP.keys()}\n",
    "H_wmGP = {n: 0 for n in range(len(H_rGP.keys())) if 2*n in H_rGP.keys() and 2*n-1 in H_rGP.keys()}\n",
    "\n",
    "for n in range(0, N//2+1):\n",
    "    X = re(H_rGP[2*n])\n",
    "    Y = re(Ht_rGP[2*n])\n",
    "    for j in range(n+1):\n",
    "        expansion_coeff = binomial(-Rational(1,2), n-j) * 4**(n-j) * (2 - (1 if j == 0 else 0))\n",
    "        X += expansion_coeff * re(H_rGP[2*j-1])\n",
    "        Y -= expansion_coeff * re(Ht_rGP[2*j-1])\n",
    "    H_wmGP[n] = collect(simplify(X).expand(), epsilon)\n",
    "    H_wpGP[n] = collect(simplify(Y).expand(), epsilon)\n",
    "    \n",
    "H_plus_KdV = {n-1: (-1)**(n+1) * sig_eq_plus_KdV[2*n+1] for n in range((len(sig_eq_plus_KdV) - 1) // 2 + 1)}\n",
    "H_minus_KdV = {n-1: (-1)**(n+1) * sig_eq_minus_KdV[2*n+1] for n in range((len(sig_eq_minus_KdV) - 1) // 2 + 1)}\n"
   ]
  },
  {
   "cell_type": "code",
   "execution_count": null,
   "id": "5bb9738c",
   "metadata": {},
   "outputs": [],
   "source": [
    "for n in H_wpGP.keys():\n",
    "    display(Equ(Symbol(f'\\\\text{{Error}}_{{\\\\text{{wpGP vs KdV}}}}^{{{n}}}'), collect(simplify(\n",
    "        1 / (sqrt(2) * epsilon)**(2*n-1) / 4 * H_wpGP[n] - epsilon**2 / 2 * H_plus_KdV[n-1] + O(epsilon**4)\n",
    "    ).expand().removeO(), epsilon)))\n",
    "    display(Equ(Symbol(f'\\\\text{{Error}}_{{\\\\text{{mpGP vs KdV}}}}^{{{n}}}'), collect(simplify(\n",
    "        1 / (sqrt(2) * epsilon)**(2*n-1) / 4 * H_wmGP[n] - epsilon**2 / 2 * H_minus_KdV[n-1] + O(epsilon**4)\n",
    "    ).expand().removeO(), epsilon)))\n"
   ]
  },
  {
   "cell_type": "markdown",
   "id": "b5d5343a",
   "metadata": {},
   "source": [
    "# NLS Hierarchy"
   ]
  },
  {
   "cell_type": "code",
   "execution_count": null,
   "id": "878d5cba",
   "metadata": {},
   "outputs": [],
   "source": [
    "J_NLS = I * Matrix([[0, - 1], [1, 0]])\n",
    "\n",
    "NLS_hierarchy_full_LHS = {n: Matrix([multi_deriv(q, T_list[n]), multi_deriv(q_conj, T_list[n])]) for n in H_NLS.keys()}\n",
    "NLS_hierarchy_full_RHS = {n: evaluateExpr(J_NLS * D.comm_to_non_comm(Matrix([variation(H_NLS[n], q), variation(H_NLS[n], q_conj)]))) for n in H_NLS.keys()}"
   ]
  },
  {
   "cell_type": "markdown",
   "id": "7e8ca046",
   "metadata": {},
   "source": [
    "# GP Hierarchy"
   ]
  },
  {
   "cell_type": "code",
   "execution_count": null,
   "id": "24494304",
   "metadata": {},
   "outputs": [],
   "source": [
    "J_GP = I * Matrix([[0, - 1], [1, 0]])\n",
    "\n",
    "GP_hierarchy_full_LHS = {n: Matrix([multi_deriv(q, T_list[n]), multi_deriv(q_conj, T_list[n])]) for n in H_GP.keys()}\n",
    "GP_hierarchy_full_RHS = {n: evaluateExpr(J_GP * D.comm_to_non_comm(Matrix([variation(H_GP[n], q), variation(H_GP[n], q_conj)]))) for n in H_GP.keys()}"
   ]
  },
  {
   "cell_type": "markdown",
   "id": "6e4e455c",
   "metadata": {},
   "source": [
    "# hGP Hierarchy"
   ]
  },
  {
   "cell_type": "code",
   "execution_count": null,
   "id": "377b5ecf",
   "metadata": {},
   "outputs": [],
   "source": [
    "J_hGP = Matrix([\n",
    "    [- D(xx) / aa - 1 / aa * D(xx), D(xx) / aa - 1 / aa * D(xx)],\n",
    "    [- D(xx) / aa + 1 / aa * D(xx), D(xx) / aa + 1 / aa * D(xx)]\n",
    "]) / 4\n",
    "\n",
    "hGP_hierarchy_full_LHS = {n: Matrix([multi_deriv(w_plus, T_list[n]), multi_deriv(w_minus, T_list[n])]) for n in H_hGP.keys()}\n",
    "hGP_hierarchy_full_RHS = {n: evaluateExpr(J_hGP * D.comm_to_non_comm(Matrix([variation(H_hGP[n], w_plus), variation(H_hGP[n], w_minus)]))) for n in H_hGP.keys()}"
   ]
  },
  {
   "cell_type": "markdown",
   "id": "c4d24b63",
   "metadata": {},
   "source": [
    "# rGP Hierarchy"
   ]
  },
  {
   "cell_type": "code",
   "execution_count": null,
   "id": "a70a76c0",
   "metadata": {},
   "outputs": [],
   "source": [
    "J_rGP = Matrix([\n",
    "    [- D(xx) / AA - 1 / AA * D(xx), D(xx) / AA - 1 / AA * D(xx)],\n",
    "    [- D(xx) / AA + 1 / AA * D(xx), D(xx) / AA + 1 / AA * D(xx)]\n",
    "]) / (2 * epsilon**2)\n",
    "\n",
    "rGP_hierarchy_full_LHS = {n: Matrix([multi_deriv(W_plus, T_list[n]), multi_deriv(W_minus, T_list[n])]) for n in H_rGP.keys()}\n",
    "rGP_hierarchy_full_RHS = {n: evaluateExpr(J_rGP * D.comm_to_non_comm(Matrix([variation(H_rGP[n], W_plus), variation(H_rGP[n], W_minus)]))) for n in H_rGP.keys()}"
   ]
  },
  {
   "cell_type": "markdown",
   "id": "6dee0f67",
   "metadata": {},
   "source": [
    "# wpGM and wmGP Hierarchy"
   ]
  },
  {
   "cell_type": "code",
   "execution_count": null,
   "id": "c351b556",
   "metadata": {},
   "outputs": [],
   "source": [
    "J_wpmGP = Matrix([\n",
    "    [- D(xx) - D(xx), D(xx) - D(xx)],\n",
    "    [- D(xx) + D(xx), D(xx) + D(xx)]\n",
    "]) / (2 * epsilon**2)\n",
    "\n",
    "wpGP_hierarchy_full_LHS = {n: Matrix([multi_deriv(W_plus, T_list[n]), multi_deriv(W_minus, T_list[n])]) for n in H_wpGP.keys()}\n",
    "wpGP_hierarchy_full_RHS = {n: evaluateExpr(1 / (sqrt(2) * epsilon)**(2*n-1) / 4 * J_wpmGP * D.comm_to_non_comm(Matrix([variation(H_wpGP[n], W_plus), variation(H_wpGP[n], W_minus)]))) for n in H_wpGP.keys()}\n",
    "wmGP_hierarchy_full_LHS = {n: Matrix([multi_deriv(W_plus, T_list[n]), multi_deriv(W_minus, T_list[n])]) for n in H_wmGP.keys()}\n",
    "wmGP_hierarchy_full_RHS = {n: evaluateExpr(1 / (sqrt(2) * epsilon)**(2*n-1) / 4 * J_wpmGP * D.comm_to_non_comm(Matrix([variation(H_wmGP[n], W_plus), variation(H_wmGP[n], W_minus)]))) for n in H_wmGP.keys()}"
   ]
  },
  {
   "cell_type": "markdown",
   "id": "54302e0b",
   "metadata": {},
   "source": [
    "# KdV Hierarchy"
   ]
  },
  {
   "cell_type": "code",
   "execution_count": null,
   "id": "5bf44ece",
   "metadata": {},
   "outputs": [],
   "source": [
    "J_KdV = Rational(1,2) * D(xx)\n",
    "\n",
    "KdV_hierarchy_plus_LHS = {n: multi_deriv(W_plus, T_list[n]) for n in H_plus_KdV.keys()}\n",
    "KdV_hierarchy_plus_RHS = {n: evaluateExpr(J_KdV * D.comm_to_non_comm(variation(H_plus_KdV[n], W_plus))) for n in H_plus_KdV.keys()}\n",
    "\n",
    "KdV_hierarchy_minus_LHS = {n: multi_deriv(W_minus, T_list[n]) for n in H_minus_KdV.keys()}\n",
    "KdV_hierarchy_minus_RHS = {n: evaluateExpr(J_KdV * D.comm_to_non_comm(variation(H_minus_KdV[n], W_minus))) for n in H_minus_KdV.keys()}\n"
   ]
  },
  {
   "cell_type": "code",
   "execution_count": null,
   "id": "2d443ddc",
   "metadata": {},
   "outputs": [],
   "source": [
    "T_list = {n: T for n in range(-1, N+1) for TT, T in [D.create_non_diff_symbols(f'T_{{{n}}}', real=True)]}\n",
    "t_list = {n: t for n in range(-1, N+1) for tt, t in [D.create_non_diff_symbols(f't_{{{n}}}', real=True)]}\n",
    "X = D.create_non_diff_symbols('X', real=True)\n"
   ]
  },
  {
   "cell_type": "code",
   "execution_count": null,
   "id": "e84b699b",
   "metadata": {},
   "outputs": [],
   "source": [
    "display(multi_deriv(u, T_list[5]))"
   ]
  },
  {
   "cell_type": "code",
   "execution_count": null,
   "id": "a900b5ca",
   "metadata": {},
   "outputs": [],
   "source": []
  },
  {
   "cell_type": "code",
   "execution_count": null,
   "id": "499bf487",
   "metadata": {},
   "outputs": [],
   "source": [
    "qq_overline, q_overline = D.create_diff_symbols('\\\\overline{q}', real=False)\n",
    "for n in GP_hierarchy_full_RHS.keys():\n",
    "    display(Equ(multi_deriv(I * q, t_list[n]), simplify(subs(I * GP_hierarchy_full_RHS[n][0], [(q_conj, q_overline)]))))"
   ]
  },
  {
   "cell_type": "code",
   "execution_count": null,
   "id": "ca58e802",
   "metadata": {},
   "outputs": [],
   "source": [
    "for n in KdV_hierarchy_plus_RHS.keys():\n",
    "    display(Equ(multi_deriv(u, t_list[n]), subs(simplify(KdV_hierarchy_plus_RHS[n]), [(W_plus, u)])))"
   ]
  },
  {
   "cell_type": "code",
   "execution_count": null,
   "id": "ca8a41a7",
   "metadata": {},
   "outputs": [],
   "source": [
    "for n in rGP_hierarchy_full_RHS.keys():\n",
    "    display(Equ(rGP_hierarchy_full_LHS[n][0], simplify(rGP_hierarchy_full_RHS[n][0]).expand()))\n",
    "    display(Equ(rGP_hierarchy_full_LHS[n][1], simplify(rGP_hierarchy_full_RHS[n][1]).expand()))"
   ]
  },
  {
   "cell_type": "code",
   "execution_count": null,
   "id": "47ae8045",
   "metadata": {},
   "outputs": [],
   "source": [
    "for n in wpGP_hierarchy_full_RHS.keys():\n",
    "    display(Equ(wpGP_hierarchy_full_LHS[n], Matrix([\n",
    "        simplify(wpGP_hierarchy_full_RHS[n][0] + KdV_hierarchy_plus_RHS[n-1] + O(epsilon**2)), \n",
    "        simplify(wpGP_hierarchy_full_RHS[n][1] + O(epsilon**2))\n",
    "    ])))\n",
    "    display(Equ(wmGP_hierarchy_full_LHS[n], Matrix([\n",
    "        simplify(wmGP_hierarchy_full_RHS[n][0] + O(epsilon**2)), \n",
    "        simplify(wmGP_hierarchy_full_RHS[n][1] - KdV_hierarchy_minus_RHS[n-1] + O(epsilon**2))\n",
    "    ])))"
   ]
  },
  {
   "cell_type": "code",
   "execution_count": null,
   "id": "60a3aa19",
   "metadata": {},
   "outputs": [],
   "source": [
    "def order_epsilon(expr):\n",
    "    from sympy import collect, Order\n",
    "    if expr.has(Order):\n",
    "        o = expr.getO()\n",
    "        p = expr.removeO()\n",
    "    else:\n",
    "        o = 0\n",
    "        p = expr\n",
    "    p = collect(p, epsilon)\n",
    "    terms = p.as_ordered_terms()\n",
    "    sorted_terms = sorted(terms, key=lambda t: t.as_coeff_exponent(epsilon)[1])\n",
    "    return sum(sorted_terms) + o\n"
   ]
  },
  {
   "cell_type": "code",
   "execution_count": null,
   "id": "d671d6b2",
   "metadata": {},
   "outputs": [],
   "source": [
    "for n in [0, 1, 2]:\n",
    "    display(Equ(Symbol(f'(W_+)_{{T_{{{n}}}}}'), collect(simplify(wpGP_hierarchy_full_RHS[n][0] + wmGP_hierarchy_full_RHS[n][0] + O(epsilon**4)).expand(), epsilon)))\n",
    "    display(Equ(Symbol(f'(W_-)_{{T_{{{n}}}}}'), collect(simplify(wpGP_hierarchy_full_RHS[n][1] + wmGP_hierarchy_full_RHS[n][1] + O(epsilon**4)).expand(), epsilon)))\n",
    "for n in [0, 1, 2]:\n",
    "    display(Equ(Symbol(f'(W_+)_{{T_{{{n}}}}}'), collect(simplify(wpGP_hierarchy_full_RHS[n][0] - wmGP_hierarchy_full_RHS[n][0] + O(epsilon**4)).expand(), epsilon)))\n",
    "    display(Equ(Symbol(f'(W_-)_{{T_{{{n}}}}}'), collect(simplify(wpGP_hierarchy_full_RHS[n][1] - wmGP_hierarchy_full_RHS[n][1] + O(epsilon**4)).expand(), epsilon)))\n",
    "\n",
    "for n in [0, 1, 2]:\n",
    "    display(Equ(Symbol(f'(W_+)_{{T_{{{n}}}}}'), collect(simplify(wmGP_hierarchy_full_RHS[n][0] + O(epsilon**4)).expand(), epsilon)))\n",
    "    display(Equ(Symbol(f'(W_-)_{{T_{{{n}}}}}'), collect(simplify(wmGP_hierarchy_full_RHS[n][1] + O(epsilon**4)).expand(), epsilon)))\n"
   ]
  },
  {
   "cell_type": "markdown",
   "id": "cd3967c4",
   "metadata": {},
   "source": [
    "# GP vs hGP Hierarchy"
   ]
  },
  {
   "cell_type": "code",
   "execution_count": null,
   "id": "03e596e7",
   "metadata": {},
   "outputs": [],
   "source": [
    "subs_list_1 = [\n",
    "    (w_minus, v / 2 - (a - 1)), \n",
    "    (w_plus, v / 2 + (a - 1)),\n",
    "]\n",
    "subs_list_2 = [\n",
    "    (a, sqrt(q * q_conj)), \n",
    "    (v, (q_conj * deriv(q) - q * deriv(q_conj)) / (2 * I * q * q_conj))\n",
    "]\n",
    "for n in GP_hierarchy_full_RHS.keys():\n",
    "    substituted_hGP_hierarchy_full_LHS = simplify(subs(simplify(subs(hGP_hierarchy_full_LHS[n], subs_list_1)), subs_list_2))\n",
    "    substituted_hGP_hierarchy_full_RHS = simplify(subs(simplify(subs(hGP_hierarchy_full_RHS[n], subs_list_1)), subs_list_2))\n",
    "    equation_applied_to_substituted_hGP_hierarchy_full_LHS = subs(substituted_hGP_hierarchy_full_LHS, [\n",
    "        (GP_hierarchy_full_LHS[n][0], GP_hierarchy_full_RHS[n][0]), (GP_hierarchy_full_LHS[n][1], GP_hierarchy_full_RHS[n][1])\n",
    "    ])\n",
    "    display(Equ(Symbol(f'\\\\text{{Error}}_{{\\\\text{{GP vs hGP hierarchy}}}}^{{{n}}}'), simplify(substituted_hGP_hierarchy_full_RHS - equation_applied_to_substituted_hGP_hierarchy_full_LHS)))"
   ]
  },
  {
   "cell_type": "markdown",
   "id": "7b5623c4",
   "metadata": {},
   "source": [
    "# hGP vs rGP Hierarchy"
   ]
  },
  {
   "cell_type": "code",
   "execution_count": null,
   "id": "076f71d0",
   "metadata": {},
   "outputs": [],
   "source": [
    "subs_list_2 = [\n",
    "    (A, a),\n",
    "    (W_minus, epsilon**(-2) * w_minus), \n",
    "    (W_plus, epsilon**(-2) * w_plus),\n",
    "]\n",
    "subs_scale = {\n",
    "    t: 1, #epsilon**(-3) * sqrt(2), \n",
    "    x: epsilon**(-1) / sqrt(2)\n",
    "}\n",
    "for n in hGP_hierarchy_full_RHS.keys():\n",
    "    substituted_rGP_hierarchy_full_LHS = simplify(subs(simplify(subs(rGP_hierarchy_full_LHS[n], subs_list_1)), subs_list_2, scale=subs_scale))\n",
    "    substituted_rGP_hierarchy_full_RHS = simplify(subs(simplify(subs(rGP_hierarchy_full_RHS[n], subs_list_1)), subs_list_2, scale=subs_scale))\n",
    "    equation_applied_to_substituted_rGP_hierarchy_full_LHS = subs(substituted_rGP_hierarchy_full_LHS, [\n",
    "        (hGP_hierarchy_full_LHS[n][0], hGP_hierarchy_full_RHS[n][0]), (hGP_hierarchy_full_LHS[n][1], hGP_hierarchy_full_RHS[n][1])\n",
    "    ])\n",
    "    display(Equ(Symbol(f'\\\\text{{Error}}_{{\\\\text{{hGP vs rGP hierarchy}}}}^{{{n}}}'), simplify(substituted_rGP_hierarchy_full_RHS - equation_applied_to_substituted_rGP_hierarchy_full_LHS)))"
   ]
  },
  {
   "cell_type": "markdown",
   "id": "c2c7d977",
   "metadata": {},
   "source": [
    "# Approximation Iterations"
   ]
  },
  {
   "cell_type": "code",
   "execution_count": null,
   "id": "67a09cc0",
   "metadata": {},
   "outputs": [],
   "source": [
    "predicted_sig_expr_wpGP = {n: 0 for n in sig_expr_rGP.keys()}\n",
    "predicted_sig_expr_wmGP = {n: 0 for n in sig_expr_rGP.keys()}\n",
    "predicted_H_wpGP = {n: 0 for n in H_rGP.keys()}\n",
    "predicted_H_wmGP = {n: 0 for n in H_rGP.keys()}\n",
    "\n",
    "for n in range(0, N//2+1):\n",
    "    X = re(sig_expr_rGP[2*n+1])\n",
    "    Y = re(sigt_expr_rGP[2*n+1])\n",
    "    for j in range(n+1):\n",
    "        expansion_coeff = I * binomial(-Rational(1,2), n-j) * (I * sqrt(2) / epsilon)**(2*n-2*j+1)\n",
    "        X += expansion_coeff * im(sig_expr_rGP[2*j])\n",
    "        Y -= expansion_coeff * im(sigt_expr_rGP[2*j])\n",
    "    predicted_sig_expr_wmGP[n] = collect(simplify(X).expand(), epsilon)\n",
    "    predicted_sig_expr_wpGP[n] = collect(simplify(Y).expand(), epsilon)\n",
    "\n",
    "    \n",
    "# for n in range(0, N//2+1):\n",
    "#     X = re(H_rGP[2*n])\n",
    "#     Y = re(Ht_rGP[2*n])\n",
    "#     for j in range(n+1):\n",
    "#         expansion_coeff = I * binomial(-Rational(1,2), n-j) * (I * sqrt(2) / epsilon)**(2*n-2*j+1) / (- I**(2*n) / (sqrt(2) * epsilon)**(2*n+1))\n",
    "#         X -= expansion_coeff * im(- I**(2*j-1) / (sqrt(2) * epsilon)**(2*j) * (2 - (1 if j == 0 else 0)) / 2 * H_rGP[2*j-1])\n",
    "#         Y += expansion_coeff * im(- I**(2*j-1) / (sqrt(2) * epsilon)**(2*j) * (2 - (1 if j == 0 else 0)) / 2 * Ht_rGP[2*j-1])\n",
    "#     X *= (- I**(2*n) / (sqrt(2) * epsilon)**(2*n+1))\n",
    "#     Y *= (- I**(2*n) / (sqrt(2) * epsilon)**(2*n+1))\n",
    "#     predicted_H_wmGP[n] = collect(simplify(X).expand(), epsilon)\n",
    "#     predicted_H_wpGP[n] = collect(simplify(Y).expand(), epsilon)\n",
    "\n",
    "\n",
    "for n in range(0, N//2+1):\n",
    "    X = re(H_rGP[2*n])\n",
    "    Y = re(Ht_rGP[2*n])\n",
    "    for j in range(n+1):\n",
    "        expansion_coeff = binomial(-Rational(1,2), n-j) * 4**(n-j) * (2 - (1 if j == 0 else 0))\n",
    "        X += expansion_coeff * re(H_rGP[2*j-1])\n",
    "        Y -= expansion_coeff * re(Ht_rGP[2*j-1])\n",
    "    X *= (-1)**(n+1) / (sqrt(2) * epsilon)**(2*n+1)\n",
    "    Y *= (-1)**(n+1) / (sqrt(2) * epsilon)**(2*n+1)\n",
    "    predicted_H_wmGP[n] = collect(simplify(X).expand(), epsilon)\n",
    "    predicted_H_wpGP[n] = collect(simplify(Y).expand(), epsilon)\n",
    "\n",
    "for n in range(-1, N//2+1):\n",
    "    display(Equ(Symbol(f'\\\\text{{Error}}_{{\\\\text{{wpGP sigma vs H}}}}^{{{n}}}'), simplify(predicted_H_wpGP[n] - predicted_sig_expr_wpGP[n])))\n",
    "    display(Equ(Symbol(f'\\\\text{{Error}}_{{\\\\text{{wmpGP sigma vs H}}}}^{{{n}}}'), simplify(predicted_H_wmGP[n] - predicted_sig_expr_wmGP[n])))\n",
    "    display(Equ(Symbol(f'\\\\text{{Error}}_{{\\\\text{{wpGP vs KdV}}}}^{{{n}}}'), collect(simplify(predicted_H_wpGP[n] - sig_eq_plus_KdV[2*n+1] + O(epsilon**2)).expand().removeO(), epsilon)))\n",
    "    display(Equ(Symbol(f'\\\\text{{Error}}_{{\\\\text{{mpGP vs KdV}}}}^{{{n}}}'), collect(simplify(predicted_H_wmGP[n] - sig_eq_minus_KdV[2*n+1] + O(epsilon**2)).expand().removeO(), epsilon)))\n"
   ]
  },
  {
   "cell_type": "code",
   "execution_count": null,
   "id": "d7ce390a",
   "metadata": {},
   "outputs": [],
   "source": [
    "H_NLS.keys()"
   ]
  },
  {
   "cell_type": "code",
   "execution_count": null,
   "id": "e7e247fc",
   "metadata": {},
   "outputs": [],
   "source": [
    "# NLS_hierarchy_q_LHS = {n: I * multi_deriv(q, t) for n in H_NLS.keys()}\n",
    "# NLS_hierarchy_q_RHS = {n: variation(H_NLS[n], q_conj) for n in H_NLS.keys()}\n",
    "# GP_hierarchy_q_LHS = {n: I * multi_deriv(q, t) for n in H_GP.keys()}\n",
    "# GP_hierarchy_q_RHS = {n: variation(H_GP[n], q_conj) for n in H_GP.keys()}\n",
    "\n",
    "NLS_hierarchy_q_LHS = {n: I * NLS_hierarchy_full_LHS[n][0] for n in NLS_hierarchy_full_LHS.keys()}\n",
    "NLS_hierarchy_q_RHS = {n: I * NLS_hierarchy_full_RHS[n][0] for n in NLS_hierarchy_full_RHS.keys()}\n",
    "GP_hierarchy_q_LHS = {n: I * GP_hierarchy_full_LHS[n][0] for n in GP_hierarchy_full_LHS.keys()}\n",
    "GP_hierarchy_q_RHS = {n: I * GP_hierarchy_full_RHS[n][0] for n in GP_hierarchy_full_RHS.keys()}"
   ]
  },
  {
   "cell_type": "markdown",
   "id": "86b3e159",
   "metadata": {},
   "source": [
    "# Expansions - NLS vs GP"
   ]
  },
  {
   "cell_type": "code",
   "execution_count": null,
   "id": "4b79d0aa",
   "metadata": {},
   "outputs": [],
   "source": [
    "display(tsimplify(subs(sig_eqn_lam_NLS, [(sig, sig + I * lam)]).expand()))\n",
    "display(tsimplify(subs(sig_eqn_GP, [(sig, sig + I * z), (z, z_GP)]).expand()))\n",
    "\n",
    "sig_expr_GP_from_NLS = {n: 0 for n in sig_expr_NLS.keys()}\n",
    "sig_expr_NLS_from_GP = {n: 0 for n in sig_expr_GP.keys()}\n",
    "\n",
    "for n in sig_expr_NLS.keys():\n",
    "    nn = n // 2\n",
    "    if n % 2 == 0:\n",
    "        sig_expr_GP_from_NLS[2*nn] = 0\n",
    "        for m in range(nn+1):\n",
    "            sig_expr_GP_from_NLS[2*nn] += binomial(nn-1, nn-m) * 4**(nn-m) * sig_expr_NLS[2*m]\n",
    "        sig_expr_NLS_from_GP[2*nn] = 0\n",
    "        for m in range(nn+1):\n",
    "            sig_expr_NLS_from_GP[2*nn] += binomial(nn-1, nn-m) * (-4)**(nn-m) * sig_expr_GP[2*m]\n",
    "    else:\n",
    "        sig_expr_GP_from_NLS[2*nn+1] = 0\n",
    "        for m in range(nn+1):\n",
    "            sig_expr_GP_from_NLS[2*nn+1] += binomial(nn-Rational(1,2), nn-m) * 4**(nn-m) * sig_expr_NLS[2*m+1]\n",
    "        sig_expr_GP_from_NLS[2*nn+1] += catalan(nn)\n",
    "        sig_expr_NLS_from_GP[2*nn+1] = 0\n",
    "        for m in range(nn+1):\n",
    "            sig_expr_NLS_from_GP[2*nn+1] += binomial(nn-Rational(1,2), nn-m) * (-4)**(nn-m) * sig_expr_GP[2*m+1]\n",
    "        sig_expr_NLS_from_GP[2*nn+1] += (-1)**(nn+1) * catalan(nn)\n",
    "\n",
    "error = 0\n",
    "for n in sig_expr_NLS.keys():\n",
    "    error += simplify(sig_expr_NLS[n] - sig_expr_NLS_from_GP[n])**2\n",
    "display(Equ(Symbol('\\\\text{Error}_{\\\\text{NLS from GP $\\\\sigma$}}'), error))\n",
    "error = 0\n",
    "for n in sig_expr_NLS.keys():\n",
    "    error += simplify(sig_expr_GP[n] - sig_expr_GP_from_NLS[n])**2\n",
    "display(Equ(Symbol('\\\\text{Error}_{\\\\text{GP from NLS $\\\\sigma$}}'), error))\n",
    "\n",
    "\n",
    "H_GP_from_NLS = {n: 0 for n in H_NLS.keys()}\n",
    "H_NLS_from_GP = {n: 0 for n in H_GP.keys()}\n",
    "\n",
    "for n in [k for k in sig_expr_NLS.keys() if k >= 0]:\n",
    "    nn = n // 2\n",
    "    if n % 2 == 0:\n",
    "        H_GP_from_NLS[2*nn-1] = 0\n",
    "        for m in range(1, nn+1):\n",
    "            H_GP_from_NLS[2*nn-1] += binomial(nn-1, nn-m) * (-4)**(nn-m) * H_NLS[2*m-1]\n",
    "        H_NLS_from_GP[2*nn-1] = 0\n",
    "        for m in range(1, nn+1):\n",
    "            H_NLS_from_GP[2*nn-1] += binomial(nn-1, nn-m) * 4**(nn-m) * H_GP[2*m-1]\n",
    "    else:\n",
    "        H_GP_from_NLS[2*nn] = 0\n",
    "        for m in range(nn+1):\n",
    "            H_GP_from_NLS[2*nn] += binomial(nn-Rational(1,2), nn-m) * (-4)**(nn-m) * H_NLS[2*m]\n",
    "        H_GP_from_NLS[2*nn] += - I**(2*nn) * catalan(nn)\n",
    "        H_NLS_from_GP[2*nn] = 0\n",
    "        for m in range(nn+1):\n",
    "            H_NLS_from_GP[2*nn] += binomial(nn-Rational(1,2), nn-m) * 4**(nn-m) * H_GP[2*m]\n",
    "        H_NLS_from_GP[2*nn] += catalan(nn)\n",
    "error = 0\n",
    "for n in [k for k in H_NLS.keys() if k >= 0]:\n",
    "    error += simplify(H_NLS[n] - H_NLS_from_GP[n])**2\n",
    "display(Equ(Symbol('\\\\text{Error}_{\\\\text{NLS from GP $H$}}'), error))\n",
    "error = 0\n",
    "for n in [k for k in H_NLS.keys() if k >= 0]:\n",
    "    error += simplify(H_GP[n] - H_GP_from_NLS[n])**2\n",
    "display(Equ(Symbol('\\\\text{Error}_{\\\\text{GP from NLS $H$}}'), error))\n",
    "\n",
    "\n",
    "hierarchy_GP_from_NLS = {n: 0 for n in NLS_hierarchy_q_RHS.keys()}\n",
    "hierarchy_NLS_from_GP = {n: 0 for n in GP_hierarchy_q_RHS.keys()}\n",
    "\n",
    "for n in [k for k in sig_expr_NLS.keys() if k >= 0]:\n",
    "    nn = n // 2\n",
    "    if n % 2 == 0:\n",
    "        hierarchy_GP_from_NLS[2*nn-1] = 0\n",
    "        for m in range(1, nn+1):\n",
    "            hierarchy_GP_from_NLS[2*nn-1] += binomial(nn-1, nn-m) * (-4)**(nn-m) * NLS_hierarchy_q_RHS[2*m-1]\n",
    "        hierarchy_NLS_from_GP[2*nn-1] = 0\n",
    "        for m in range(1, nn+1):\n",
    "            hierarchy_NLS_from_GP[2*nn-1] += binomial(nn-1, nn-m) * 4**(nn-m) * GP_hierarchy_q_RHS[2*m-1]\n",
    "    else:\n",
    "        hierarchy_GP_from_NLS[2*nn] = 0\n",
    "        for m in range(nn+1):\n",
    "            hierarchy_GP_from_NLS[2*nn] += binomial(nn-Rational(1,2), nn-m) * (-4)**(nn-m) * NLS_hierarchy_q_RHS[2*m]\n",
    "        hierarchy_NLS_from_GP[2*nn] = 0\n",
    "        for m in range(nn+1):\n",
    "            hierarchy_NLS_from_GP[2*nn] += binomial(nn-Rational(1,2), nn-m) * 4**(nn-m) * GP_hierarchy_q_RHS[2*m]\n",
    "error = 0\n",
    "for n in [k for k in NLS_hierarchy_q_RHS.keys() if k >= 0]:\n",
    "    error += simplify(NLS_hierarchy_q_RHS[n] - hierarchy_NLS_from_GP[n])**2\n",
    "display(Equ(Symbol('\\\\text{Error}_{\\\\text{NLS from GP hierarchy}}'), error))\n",
    "error = 0\n",
    "for n in [k for k in GP_hierarchy_q_RHS.keys() if k >= 0]:\n",
    "    error += simplify(GP_hierarchy_q_RHS[n] - hierarchy_GP_from_NLS[n])**2\n",
    "display(Equ(Symbol('\\\\text{Error}_{\\\\text{GP from NLS hierarchy}}'), error))\n"
   ]
  },
  {
   "cell_type": "markdown",
   "id": "addc8fa9",
   "metadata": {},
   "source": [
    "# Modified linear part - NLS"
   ]
  },
  {
   "cell_type": "code",
   "execution_count": null,
   "id": "6ffc5f6c",
   "metadata": {},
   "outputs": [],
   "source": [
    "N_old = N\n",
    "N = 20\n",
    "\n",
    "def A_coeff(n, j):\n",
    "    return - 4**j * binomial(Rational(n,2) - 1, j)\n",
    "error = 0\n",
    "for n in range(2, N+1):\n",
    "    if n == 2:\n",
    "        X = - A_coeff(2, 0) - 1\n",
    "        error += X**2\n",
    "    else:\n",
    "        for j in range((n+1)//2):\n",
    "            X = - A_coeff(n+1, j)\n",
    "            for k in range(1, 2*j, 2):\n",
    "                X += 2 * catalan(Rational(k-1,2)) * A_coeff(n-k, j-Rational(k+1,2))\n",
    "            if j == Rational(n-1,2):\n",
    "                X += - catalan(Rational(n-1,2)) * Rational(n+1,2)\n",
    "            else:\n",
    "                X += A_coeff(n, j)\n",
    "            error += X**2\n",
    "display(Equ(Symbol('\\\\text{Error}_{\\\\text{$A$ formula vs iteration}}'), error))\n",
    "\n",
    "\n",
    "def B_coeff(n, j):\n",
    "    return - sum([(-1)**l * (catalan(l+1) - 2*catalan(l)) * 4**(j-l) * binomial(Rational(n-1,2) - 1, j - l) for l in range(j+1)])\n",
    "error = 0\n",
    "for n in range(4, N+1):\n",
    "    if n == 4:\n",
    "        X = - B_coeff(2, 0) + 1\n",
    "        error += X**2\n",
    "    else:\n",
    "        for j in range((n+1)//2-1):\n",
    "            X = - B_coeff(n+1, j)\n",
    "            for k in range(1, 2*j, 2):\n",
    "                X += 2 * catalan(Rational(k-1,2)) * B_coeff(n-k, j-Rational(k+1,2))\n",
    "            if j == Rational(n-3,2):\n",
    "                X += catalan(Rational(n-1,2)) * Rational(n-1,2)\n",
    "            else:\n",
    "                X += B_coeff(n, j)\n",
    "            error += X**2\n",
    "display(Equ(Symbol('\\\\text{Error}_{\\\\text{$B$ formula vs iteration}}'), error))\n",
    "     \n",
    "\n",
    "def D_coeff(n, j):\n",
    "    return - A_coeff(n, j)\n",
    "\n",
    "\n",
    "def E_coeff(n, j):\n",
    "    return - B_coeff(n, j)\n",
    "\n",
    "\n",
    "def Ft_coeff(n, j):\n",
    "    m = n // 2\n",
    "    if n % 2 == 0:\n",
    "        return 0\n",
    "    if n % 2 == 1:\n",
    "        return - (8*m-8*j-6) * 4**j * binomial(m-Rational(1,2), j)\n",
    "error = 0\n",
    "for n in range(1, N+1):\n",
    "    for j in range((n-1)//2-1):\n",
    "        X = - Ft_coeff(n+1, j) \n",
    "        if n % 2 == 0:\n",
    "            X += 2 * sum([Ft_coeff(n-2*k-1, j-k-1) * catalan(k) for k in range(j)]) - 2 * (j+1) * D_coeff(n, j+1)\n",
    "            X += 2 * sum([sum([(-1)**t * (1 + (1 if t != Rational(n,2)-1-j else 0)) * D_coeff(t+1+2*k, k) * D_coeff(n-1-2*k-t, j-k) for t in range(1, n//2-j)]) for k in range(j+1)])\n",
    "        error += X**2\n",
    "display(Equ(Symbol('\\\\text{Error}_{\\\\text{$\\\\tilde{F}$ formula vs iteration}}'), error))\n",
    "error = 0\n",
    "for n in range(1, N+1):\n",
    "    for j in range((n-1)//2-1):\n",
    "        X = - Ft_coeff(n+1, j) \n",
    "        if n % 2 == 0:\n",
    "            X += 2 * sum([Ft_coeff(n-2*k-1, j-k-1) * catalan(k) for k in range(j)]) - 2 * (-4)**j * binomial(j-n//2, j) - 2 * (j+1) * 4**(j+1) * binomial(n//2-1, j+1)\n",
    "        error += X**2\n",
    "display(Equ(Symbol('\\\\text{Error}_{\\\\text{$\\\\tilde{F}$ formula vs substituted iteration}}'), error))\n",
    "\n",
    "\n",
    "def Gt_coeff(n, j):\n",
    "    X = (-1)**(n+1) * 4 * ((n-1)//2-j) * sum([catalan(k) * 4**(j-1-k) * binomial((n-1)//2-Rational(1,2)-k, j-1-k) for k in range(j)])\n",
    "    if n % 2 == 1:\n",
    "        X += 2 * 4**(j-1) * binomial(Rational(n,2)-1, j-1)\n",
    "    return X\n",
    "error = 0\n",
    "for n in range(1, N+1):\n",
    "    for j in range((n-1)//2):\n",
    "        X = - Gt_coeff(n+1, j) + 2 * sum([Gt_coeff(n-2*k-1, j-k-1) * catalan(k) for k in range(j)]) - (j+1) * E_coeff(n, j-1) + (-1)**n * j * D_coeff(n, j)\n",
    "        X += 2 * sum([sum([(-1)**t * D_coeff(t+1+2*k, k) * E_coeff(n-1-2*k-t, j-2-k) for t in range(1, n-2*j)]) for k in range(0, j-1)])\n",
    "        error += X**2\n",
    "display(Equ(Symbol('\\\\text{Error}_{\\\\text{$\\\\tilde{G}$ formula vs iteration}}'), error))\n",
    "error = 0\n",
    "for n in range(1, N+1):\n",
    "    for j in range((n-1)//2):\n",
    "        X = - Gt_coeff(n+1, j) + 2 * sum([Gt_coeff(n-2*k-1, j-k-1) * catalan(k) for k in range(j)]) + (-1)**n * j * 4**j * binomial(Rational(n,2)-1, j)\n",
    "        X += - sum([(catalan(l+1) - 2*catalan(l)) * (-1)**l * (\n",
    "            (j+1) * 4**(j-1-l) * binomial(Rational(n-1,2)-1, j-1-l)\n",
    "            + 2* (1 if n%2==0 else 0) * 4**(j-2-l) * binomial(Rational(n-1,2)-1, j-2-l)\n",
    "        ) for l in range(j)])\n",
    "        error += X**2\n",
    "display(Equ(Symbol('\\\\text{Error}_{\\\\text{$\\\\tilde{G}$ formula vs substituted iteration}}'), error))\n",
    "      \n",
    "    \n",
    "def J_coeff_unrefined(n, j):\n",
    "    return (1 if j<=(n-1)//2-2 else 0) * Ft_coeff(n, j) + (1 if n%2==1 else 0) * 2 * (j+1) * D_coeff(n, j+1)\n",
    "def J_coeff(n, j):\n",
    "    return 2 * 4**j * binomial(Rational(n,2)-1, j) if n%2==1 else 0\n",
    "error = 0\n",
    "for n in range(N+1):\n",
    "    for j in range(n//2-1):\n",
    "        error += simplify(J_coeff_unrefined(n, j) - J_coeff(n, j))**2\n",
    "display(Equ(Symbol('\\\\text{Error}_{\\\\text{$J$ different formula}}'), error))\n",
    "\n",
    "\n",
    "def K_coeff_unrefined(n, j):\n",
    "    return  (1 if j<=(n-1)//2-1 else 0) * Gt_coeff(n, j) + (j+1) * ((1 if j>=1 else 0) * E_coeff(n, j-1) + (-1)**n * D_coeff(n, j))\n",
    "def K_coeff_half_refined(n, j):\n",
    "    return (-1)**n * D_coeff(n+1, j) + 2 * (1 if n%2==1 else 0) * E_coeff(n, j-2)\n",
    "def K_coeff(n, j):\n",
    "    return (-1)**n * 4**j * binomial(Rational(n-1,2), j) + 2 * (1 if n%2==1 else 0) * sum([(-1)**l * (catalan(l+1) - 2*catalan(l)) * 4**(j-2-l) * binomial(Rational(n-1,2) - 1, j-2-l) for l in range(j-1)])\n",
    "error = 0\n",
    "for n in range(N+1):\n",
    "    for j in range(n//2):\n",
    "        error += simplify(K_coeff_unrefined(n, j) - K_coeff_half_refined(n, j))**2\n",
    "for n in range(N+1):\n",
    "    for j in range(n//2):\n",
    "        error += simplify(K_coeff_half_refined(n, j) - K_coeff(n, j))**2\n",
    "display(Equ(Symbol('\\\\text{Error}_{\\\\text{$K$ different formula}}'), error))\n",
    "\n",
    "N = N_old"
   ]
  },
  {
   "cell_type": "code",
   "execution_count": null,
   "id": "c05667a2",
   "metadata": {},
   "outputs": [],
   "source": [
    "def pi_0_r_NLS(n):\n",
    "    return 0 if (n%2==0) else - catalan(Rational(n-1,2)) * q_conj**Rational(n+1,2) * (-q)**Rational(n-1,2)\n",
    "error = 0\n",
    "for n in range(N+1):\n",
    "    error += simplify(pi_0_r_NLS(n) - extract_deriv(r_expr_NLS[n], 0))**2\n",
    "    \n",
    "display(Equ(Symbol('\\\\text{Error}_{\\\\text{NLS $\\pi_0 r$ formula vs iteration}}'), error))\n",
    "\n",
    "\n",
    "def pi_0_sig_NLS(n):\n",
    "    return 0 if (n%2==0) else catalan(Rational(n-1,2)) * q_conj**Rational(n+1,2) * (-q)**Rational(n+1,2)\n",
    "error = 0\n",
    "for n in range(N+1):\n",
    "    error += simplify(pi_0_sig_NLS(n) - extract_deriv(sig_expr_NLS[n], 0))**2\n",
    "display(Equ(Symbol('\\\\text{Error}_{\\\\text{NLS $\\pi_0 \\\\sigma$ formula vs iteration}}'), error))\n",
    "\n",
    "\n",
    "def pi_1_r_NLS(n):\n",
    "    X = 0\n",
    "    for j in range(n//2):\n",
    "        X += A_coeff(n, j) * (-q)**j * q_conj**j * higher_deriv(q_conj, n-1-2*j)\n",
    "    for j in range(n//2 - 1):\n",
    "        X += B_coeff(n, j) * (-q)**j * q_conj**(j+2) * higher_deriv(q, n-3-2*j)\n",
    "    return X\n",
    "error = 0\n",
    "for n in range(N+1):\n",
    "    error += simplify(pi_1_r_NLS(n) - extract_deriv(r_expr_NLS[n], 1))**2\n",
    "display(Equ(Symbol('\\\\text{Error}_{\\\\text{NLS $\\pi_1 r$ formula vs iteration}}'), error))\n",
    "\n",
    "\n",
    "def pi_1_sig_NLS(n):\n",
    "    X = 0\n",
    "    for j in range(n//2):\n",
    "        X += D_coeff(n, j) * (-q)**(j+1) * q_conj**j * higher_deriv(q_conj, n-1-2*j)\n",
    "    for j in range(n//2 - 1):\n",
    "        X += E_coeff(n, j) * (-q)**(j+1) * q_conj**(j+2) * higher_deriv(q, n-3-2*j)\n",
    "    return X\n",
    "error = 0\n",
    "for n in range(N+1):\n",
    "    error += simplify(pi_1_sig_NLS(n) - extract_deriv(sig_expr_NLS[n], 1))**2\n",
    "display(Equ(Symbol('\\\\text{Error}_{\\\\text{NLS $\\pi_1 \\\\sigma$ formula vs iteration}}'), error))\n",
    "\n",
    "def pi_1_delta_pi_2_alt_sig_NLS(n):\n",
    "    X = 0\n",
    "    for j in range((n-1)//2 - 1):\n",
    "        X += Ft_coeff(n, j) * (-q)**(j+2) * q_conj**j * higher_deriv(q_conj, n-3-2*j)\n",
    "    for j in range((n-1)//2):\n",
    "        X += Gt_coeff(n, j) * (-q)**j * q_conj**j * higher_deriv(q, n-1-2*j)\n",
    "    return X\n",
    "error = 0\n",
    "for n in range(N+1):\n",
    "    error += simplify(pi_1_delta_pi_2_alt_sig_NLS(n) - extract_deriv(variation(extract_deriv_alt(sig_expr_NLS[n], 2), q_conj), 1))**2\n",
    "display(Equ(Symbol('\\\\text{Error}_{\\\\text{NLS $\\pi_1 \\delta \\\\tilde{\\pi_2} \\\\sigma$ formula vs iteration}}'), error))\n",
    "\n",
    "def pi_1_delta_sig_NLS(n):\n",
    "    X = 0\n",
    "    for j in range(n//2-1):\n",
    "        X += J_coeff(n, j) * (-q)**(j+2) * q_conj**j * higher_deriv(q_conj, n-3-2*j)\n",
    "    for j in range(n//2):\n",
    "        X += K_coeff(n, j) * (-q)**j * q_conj**j * higher_deriv(q, n-1-2*j)\n",
    "    return X\n",
    "error = 0\n",
    "for n in range(N+1):\n",
    "    error += simplify(pi_1_delta_sig_NLS(n) - extract_deriv(variation(sig_expr_NLS[n], q_conj), 1))**2\n",
    "display(Equ(Symbol('\\\\text{Error}_{\\\\text{NLS $\\pi_1 \\delta \\\\sigma$ formula vs iteration}}'), error))\n"
   ]
  },
  {
   "cell_type": "markdown",
   "id": "7ec5f269",
   "metadata": {},
   "source": [
    "# Structure of the NLS and GP hierarchies"
   ]
  },
  {
   "cell_type": "code",
   "execution_count": null,
   "id": "15f5bc8a",
   "metadata": {},
   "outputs": [],
   "source": [
    "print(NLS_hierarchy_q_RHS.keys())"
   ]
  },
  {
   "cell_type": "code",
   "execution_count": null,
   "id": "fad773c8",
   "metadata": {},
   "outputs": [],
   "source": [
    "error = 0\n",
    "for n in range(N):\n",
    "    NLS_hierarchy_q_RHS_predicted = 0\n",
    "    m = n // 2\n",
    "    if n % 2 == 0:\n",
    "        NLS_hierarchy_q_RHS_predicted += - (-1)**m * sum([J_coeff(2*m+1, j) * (-q)**(j+2) * q_conj**j * higher_deriv(q_conj, 2*m-2-2*j) for j in range(m-1)])\n",
    "        NLS_hierarchy_q_RHS_predicted += - (-1)**m * sum([K_coeff(2*m+1, j) * (-q)**j * q_conj**j * higher_deriv(q, 2*m-2*j) for j in range(m)])\n",
    "        NLS_hierarchy_q_RHS_predicted += - (-1)**m * (m+1) * catalan(m) * (-q)**(m+1) * q_conj**m\n",
    "        error += simplify(extract_deriv(simplify(NLS_hierarchy_q_RHS[2*m] - NLS_hierarchy_q_RHS_predicted), 1))**2\n",
    "    if n % 2 == 1:\n",
    "        NLS_hierarchy_q_RHS_predicted += I * (-1)**m * sum([K_coeff(2*m+2, j) * (-q)**j * q_conj**j * higher_deriv(q, 2*m+1-2*j) for j in range(m+1)])\n",
    "        error += simplify(extract_deriv(simplify(NLS_hierarchy_q_RHS[2*m+1] - NLS_hierarchy_q_RHS_predicted), 1))**2\n",
    "display(Equ(Symbol('\\\\text{Error}_{\\\\text{NLS hierarchy predicted part error}}'), error))\n",
    "\n",
    "error = 0\n",
    "for n in range(N):\n",
    "    GP_hierarchy_q_RHS_predicted = 0\n",
    "    m = n // 2\n",
    "    if n % 2 == 0:\n",
    "        for k in range(m+1):\n",
    "            X = - sum([(-1)**(k-j) * J_coeff(2*k+1, j) * q**(j+2) * q_conj**j * higher_deriv(q_conj, 2*k-2-2*j) for j in range(k-1)])\n",
    "            X += - sum([(-1)**(k-j) * K_coeff(2*k+1, j) * q**j * q_conj**j * higher_deriv(q, 2*k-2*j) for j in range(k)])\n",
    "            X += (k+1) * catalan(k) * q**(k+1) * q_conj**k\n",
    "            X *= binomial(m - Rational(1,2), m - k) * (-4)**(m-k)\n",
    "            GP_hierarchy_q_RHS_predicted += X\n",
    "        error += simplify(extract_deriv(simplify(GP_hierarchy_q_RHS[2*m] - GP_hierarchy_q_RHS_predicted), 1))**2\n",
    "    if n % 2 == 1:\n",
    "        for k in range(m+1):\n",
    "            X = - I * sum([(-1)**(k-j) * K_coeff(2*k, j) * q**j * q_conj**j * higher_deriv(q, 2*k-1-2*j) for j in range(k)])\n",
    "            X *= binomial(m - 1, m - k) * (-4)**(m-k)\n",
    "            GP_hierarchy_q_RHS_predicted += X\n",
    "        error += simplify(extract_deriv(simplify(GP_hierarchy_q_RHS[2*m-1] - GP_hierarchy_q_RHS_predicted), 1))**2\n",
    "display(Equ(Symbol('\\\\text{Error}_{\\\\text{GP hierarchy predicted part error}}'), error))\n"
   ]
  },
  {
   "cell_type": "markdown",
   "id": "cc77586d",
   "metadata": {},
   "source": [
    "# Modified linear part - GP"
   ]
  },
  {
   "cell_type": "code",
   "execution_count": null,
   "id": "a961a51a",
   "metadata": {},
   "outputs": [],
   "source": [
    "for n in  GP_modified_linear_part.keys():\n",
    "    print(\"n =\", n)\n",
    "    display(GP_hierarchy_q_RHS[n])\n",
    "    display(GP_modified_linear_part[n])"
   ]
  },
  {
   "cell_type": "code",
   "execution_count": null,
   "id": "1cf89d99",
   "metadata": {},
   "outputs": [],
   "source": [
    "error1 = 0\n",
    "error2 = 0\n",
    "\n",
    "GP_modified_linear_part = {n: 0 for n in H_GP.keys()}\n",
    "for n in GP_modified_linear_part.keys():\n",
    "    GP_modified_linear_part[n] = subs(extract_deriv(variation(H_GP[n], q_conj), 1), [(q, p), (q_conj, p_conj)])\n",
    "    if hasattr(GP_modified_linear_part[n], 'subs'):\n",
    "        GP_modified_linear_part[n] = simplify(simplify(GP_modified_linear_part[n].subs(p, 1 / p_conj)).subs(p_conj, 1 / q_pm))\n",
    "    \n",
    "for n in H_GP.keys():\n",
    "    m = (n+1)//2\n",
    "    \n",
    "    if n % 2 == 0:\n",
    "        GP_modified_linear_part_first = q_pm**2 * sum([\n",
    "            sum([\n",
    "                (I**(2*j) * higher_deriv(p_conj, 2*j)) * binomial(m-Rational(1,2), m-k) * (-4)**(m-k) * J_coeff(2*k+1, k-1-j) \n",
    "            for k in range(j+1, m+1)]) \n",
    "        for j in range(1, m)])\n",
    "        GP_modified_linear_part_first += - sum([\n",
    "            sum([\n",
    "                (I**(2*j) * higher_deriv(p, 2*j)) * binomial(m-Rational(1,2), m-k) * (-4)**(m-k) * K_coeff(2*k+1, k-j) \n",
    "            for k in range(j, m+1)]) \n",
    "        for j in range(1, m+1)])\n",
    "        \n",
    "        GP_modified_linear_part_second = (1 if m >= 2 else 0) * q_pm**2 * 2 * I**(2*m-2) * higher_deriv(p_conj, 2*m-2)\n",
    "        GP_modified_linear_part_second += (1 if m >= 2 else 0) * 2*I**(2*m-2) * higher_deriv(p, 2*m-2)\n",
    "        GP_modified_linear_part_second += (1 if m >= 1 else 0) * I**(2*m) * higher_deriv(p, 2*m)\n",
    "    \n",
    "    if n % 2 == 1:\n",
    "        GP_modified_linear_part_first = sum([\n",
    "            sum([\n",
    "                (I**(2*j+1) * higher_deriv(p, 2*j+1)) * binomial(m-1, m-k) * (-4)**(m-k) * K_coeff(2*k, k-1-j) \n",
    "            for k in range(j+1, m+1)]) \n",
    "        for j in range(0, m)])\n",
    "    \n",
    "        GP_modified_linear_part_second = sum([4**(m-1-j) * binomial(Rational(1,2), m-1-j) * I**(2*j+1) * higher_deriv(p, 2*j+1) for j in range(m)])\n",
    "        \n",
    "    error1 += simplify(GP_modified_linear_part_first - GP_modified_linear_part[n])\n",
    "    error2 += simplify(GP_modified_linear_part_second - GP_modified_linear_part[n])\n",
    "display(Equ(Symbol('\\\\text{Error}_{\\\\text{GP modified linear part first formula error}}'), error1))\n",
    "display(Equ(Symbol('\\\\text{Error}_{\\\\text{GP modified linear part second formula error}}'), error2))\n"
   ]
  },
  {
   "cell_type": "code",
   "execution_count": null,
   "id": "6880eaf2",
   "metadata": {},
   "outputs": [],
   "source": [
    "for n in GP_modified_linear_part.keys():\n",
    "    m = (n+1)//2\n",
    "    if n % 2 == 1:\n",
    "        print(\"n =\", n, \"m =\", m)\n",
    "        X = simplify(sum([binomial(-Rational(1,2), m-k) * 4**(m-k) * GP_modified_linear_part[2*k-1] for k in range(m+1)]))\n",
    "        display(X)\n",
    "        "
   ]
  },
  {
   "cell_type": "code",
   "execution_count": null,
   "id": "14cd8e9c",
   "metadata": {},
   "outputs": [],
   "source": [
    "X, Y = symbols('X Y')\n",
    "\n",
    "expr = Rational(1,2) * (1 - 1/sqrt(1+4*Y)) * (-8*Y/sqrt(1+4*Y)**3 + 4/sqrt(1+4*Y))\n",
    "expr += Y/sqrt(1+4*Y) * (-16*Y/sqrt(1+4*Y)**3 + 4/sqrt(1+4*Y))\n",
    "\n",
    "expr3 = 1 / sqrt(1+4*Y) + 1 / sqrt(1+4*Y)**3 - 2/(1+4*Y)**2\n",
    "display(simplify(expr - expr3))\n",
    "\n",
    "ser = series_expansion(expr3, 0, Y, 20)\n",
    "ser[0] = 0\n",
    "\n",
    "for j in range(0, 20):\n",
    "    print(ser[j] - Gt_coeff(0, j))\n"
   ]
  },
  {
   "cell_type": "code",
   "execution_count": null,
   "id": "4ed103ef",
   "metadata": {},
   "outputs": [],
   "source": [
    "expr = Matrix([[u + f, g], [- g, u - f]])\n",
    "diag = expr.diagonalize()\n",
    "display(diag[0])\n",
    "display(diag[1])\n",
    "display(simplify(diag[0].inv() * diag[1] * diag[0]))\n",
    "display(simplify(diag[0] * diag[1] * diag[0].inv()))"
   ]
  },
  {
   "cell_type": "code",
   "execution_count": null,
   "id": "e719a9bc",
   "metadata": {},
   "outputs": [],
   "source": [
    "\n",
    "for n in range(N+1):\n",
    "    display(Equ(sig_sym[n], simplify(subs(sig_eq[n], [(u, W_minus), (v, W_plus), (epsiloninv, 1 / epsilon)]) - sig_iter_evaluated_rGP[n])))\n",
    "    display(Equ(r_sym[n], simplify(subs(- I * r_eq[n], [(u, W_minus), (v, W_plus), (epsiloninv, 1 / epsilon)]) - r_iter_evaluated_rGP[n])))"
   ]
  },
  {
   "cell_type": "code",
   "execution_count": null,
   "id": "13f8cb71",
   "metadata": {},
   "outputs": [],
   "source": [
    "\n",
    "\n",
    "def q_coeff(n):\n",
    "    if n == -1:\n",
    "        return epsilon / (I * sqrt(2))\n",
    "    if n < -1 or (n % 2 == 0 and n >= 0):\n",
    "        return 0\n",
    "    else:\n",
    "        return I * catalan((n - 1) // 2) / sqrt(2)**n * epsiloninv**n\n",
    "       \n",
    "def q_coeff_plus(n):\n",
    "    if n == 0:\n",
    "        return 1\n",
    "    return q_coeff(n)\n",
    "\n",
    "def q_coeff_minus(n):\n",
    "    if n == 0:\n",
    "        return 1\n",
    "    return - q_coeff(n)\n",
    "    \n",
    "def qinv_coeff(n):\n",
    "    if n < 0 or n % 2 == 0:\n",
    "        return 0\n",
    "    return binomial(- Rational(1,2), (n-1)//2) * sqrt(2)**n * I**n * epsiloninv**n\n",
    "\n",
    "def sqrtt(x):\n",
    "    return I*sqrt(-x)\n",
    "\n",
    "\n",
    "X = Symbol('X')\n",
    "\n",
    "def get_expansion(eqn, x0, var, num):\n",
    "    epsilonpos = Symbol('epsilon_2', positive=True)\n",
    "    epsiloninvpos = Symbol('eta_2', positive=True)\n",
    "    \n",
    "    eqn = eqn.subs(epsilon, epsilonpos).subs(epsiloninv, epsiloninvpos)\n",
    "    ser = series(eqn, x0=0, x=var, n=num).removeO().subs(epsilonpos, epsilon).subs(epsiloninvpos, epsiloninv)\n",
    "    return [simplify(ser.coeff(var**n) if n > 0 else ser.subs(var, 0)) for n in range(0, num)]\n",
    "    \n",
    "N = 8\n",
    "\n",
    "h_plus = get_expansion(1 + 1 / sqrtt(1 - Rational(1, 2) / epsiloninv**2 / X**2), 0, X, N+1)\n",
    "h_minus = get_expansion(1 - 1 / sqrtt(1 - Rational(1, 2) / epsiloninv**2 / X**2), 0, X, N+1)\n",
    "\n",
    "    \n",
    "#h_plus = [binomial(-Rational(1, 2), n//2) * (sqrt(2) * I * epsiloninv)**n if n % 2 == 1 else 0 for n in range(N+1)]\n",
    "#h_plus[0] = 1\n",
    "#h_minus = [- binomial(-Rational(1, 2), n//2) * (sqrt(2) * I * epsiloninv)**n if n % 2 == 1 else 0 for n in range(N+1)]\n",
    "#h_minus[0] = 1\n",
    "\n",
    "h_plus_mod = get_expansion(1 + 1 / sqrtt(1 + Rational(1, 2) / epsiloninv**2 / X**2), 0, X, N+1)\n",
    "h_minus_mod = get_expansion(1 - 1 / sqrtt(1 + Rational(1, 2) / epsiloninv**2 / X**2), 0, X, N+1)\n",
    "\n",
    "exp1 = [get_expansion((X / sqrtt(1 - 1 / (8 * epsiloninv**2 * X**2)))**n, 0, X, N+1) for n in range(N+1)]\n",
    "\n",
    "E_plus_sym = [Symbol('E^+_{' + str(n) + '}') for n in range(N+1)]\n",
    "E_plus_eq = [E_plus_sym[n] for n in range(N+1)]\n",
    "\n",
    "E_minus_sym = [Symbol('E^-_{' + str(n) + '}') for n in range(N+1)]\n",
    "E_minus_eq = [E_plus_sym[n] for n in range(N+1)]\n",
    "\n",
    "F_plus_sym = [Symbol('F^+_{' + str(n) + '}') for n in range(N+1)]\n",
    "F_plus_eq = [E_plus_sym[n] for n in range(N+1)]\n",
    "\n",
    "F_minus_sym = [Symbol('F^-_{' + str(n) + '}') for n in range(N+1)]\n",
    "F_minus_eq = [E_plus_sym[n] for n in range(N+1)]\n",
    "\n",
    "Ft_plus_sym = [Symbol('\\\\tilde{F}^+_{' + str(n) + '}') for n in range(N+1)]\n",
    "Ft_plus_eq = [E_plus_sym[n] for n in range(N+1)]\n",
    "\n",
    "Ft_minus_sym = [Symbol('\\\\tilde{F}^-_{' + str(n) + '}') for n in range(N+1)]\n",
    "Ft_minus_eq = [E_plus_sym[n] for n in range(N+1)]\n",
    "\n",
    "G_sym = [Symbol('G_{' + str(n) + '}') for n in range(N+1)]\n",
    "G_eq = [G_sym[n] for n in range(N+1)]\n",
    "\n",
    "r_factor = 1 #Symbol('lambda', real=True) #1\n",
    "\n",
    "r_sym = [Symbol('r_{' + str(n) + '}') for n in range(N+1)]\n",
    "r_eq = [r_sym[n] for n in range(N+1)]\n",
    "r_poly = [r_sym[n] for n in range(N+1)]\n",
    "\n",
    "r_eq[0] = r_factor * I\n",
    "r_eq[1] = r_factor * epsilon / sqrt(2) * (v - u + 2 * epsiloninv**2)\n",
    "r_poly[0] = polynomize(r_eq[0])\n",
    "r_poly[1] = polynomize(r_eq[1])\n",
    "\n",
    "sig_sym = [Symbol('\\sigma_{' + str(n) + '}') for n in range(N+1)]\n",
    "sig_eq = [sig_sym[n] for n in range(N+1)]\n",
    "sig_poly = [sig_sym[n] for n in range(N+1)]\n",
    "\n",
    "sig_eq[0] = q_coeff(-1) / 2 * (v + u)\n",
    "sig_eq[1] = q_coeff(-1) / 2 * deriv(v + u) + q_coeff(-1)**2 / 4 * (v + u)**2 \n",
    "sig_eq[1] += epsilon**2 / 2 * u * v + (u - v) / 2 \n",
    "sig_eq[1] += epsilon / sqrt(2) * deriv(v) * r_eq[0]  \n",
    "\n",
    "sig_poly[0] = polynomize(sig_eq[0])\n",
    "sig_poly[1] = polynomize(sig_eq[1])\n",
    "\n",
    "sig_plus_sym = [Symbol('\\sigma_+^{' + str(n) + '}') for n in range(N+1)]\n",
    "sig_plus_eq = [sig_plus_sym[n] for n in range(N+1)]\n",
    "\n",
    "sig_minus_sym = [Symbol('\\sigma_-^{' + str(n) + '}') for n in range(N+1)]\n",
    "sig_minus_eq = [sig_minus_sym[n] for n in range(N+1)]\n",
    "\n",
    "sig_plus_eq[0] = 0\n",
    "sig_plus_eq[1] = - deriv(sig_plus_eq[0]) + sig_plus_eq[0]**2 - v\n",
    "\n",
    "sig_minus_eq[0] = 0\n",
    "sig_minus_eq[1] = deriv(sig_minus_eq[0]) + sig_minus_eq[0]**2 + u\n",
    "\n",
    "for n in range(1, N):\n",
    "    print(\"n =\", n)\n",
    "\n",
    "    X = - deriv(sig_plus_eq[n])\n",
    "    \n",
    "    for k in range(n+1):\n",
    "        X += sig_plus_eq[k] * sig_plus_eq[n-k]\n",
    "        \n",
    "    sig_plus_eq[n+1] = simplify(X)\n",
    "        \n",
    "    X = deriv(sig_minus_eq[n])\n",
    "\n",
    "    for k in range(n+1):\n",
    "        X += sig_minus_eq[k] * sig_minus_eq[n-k]\n",
    "\n",
    "    sig_minus_eq[n+1] = simplify(X)\n",
    "        \n",
    "    X = 0\n",
    "    \n",
    "    X += deriv(r_eq[n])\n",
    "\n",
    "    X += - q_coeff(n) / sqrt(2) * epsiloninv\n",
    "    \n",
    "    for k in range(0, n+1):\n",
    "        X += epsilon / sqrt(2) * (- v - epsiloninv**2) * r_eq[n-k] * r_eq[k]\n",
    "\n",
    "    for m in range(0, n+1):\n",
    "        for k in range(0, m+1):     \n",
    "            X += - epsiloninv / sqrt(2) * q_coeff(n-m) * r_eq[m-k] * r_eq[k]\n",
    "\n",
    "    for k in range(1, n+1):\n",
    "        X += - q_coeff(-1) / sqrt(2) * epsiloninv * r_eq[n+1-k] * r_eq[k]\n",
    "\n",
    "    r_eq[n+1] = r_factor * X\n",
    "    r_poly[n+1] = polynomize(r_eq[n+1])\n",
    "    r_eq[n+1] = depolynomize(r_poly[n+1])\n",
    "    \n",
    "    X = 0\n",
    "    \n",
    "    X += deriv(sig_eq[n])\n",
    "    \n",
    "    for k in range(0, n+1):\n",
    "        X += sig_eq[n-k] * sig_eq[k]\n",
    "        \n",
    "    X += q_coeff(n) / 2 * (u + v)\n",
    "    \n",
    "    X += epsilon / sqrt(2) * deriv(v) * r_eq[n]\n",
    "    \n",
    "    sig_eq[n+1] = X\n",
    "    sig_poly[n+1] = polynomize(sig_eq[n+1])\n",
    "    sig_eq[n+1] = depolynomize(sig_poly[n+1])\n",
    "\n",
    "for n in range(0, N+1):\n",
    "    print(\"n =\", n)\n",
    "    E_plus_eq[n] = 0\n",
    "    for k in range(0, n+1):\n",
    "        E_plus_eq[n] += re(sig_eq[k] * h_plus[n-k])\n",
    "        #E_plus_eq[n] += re(epsilon * r_eq[k] * h_plus[n-k])\n",
    "        #E_plus_eq[n] += re(sig_eq[k] * q_coeff_plus(n-k))\n",
    "    E_minus_eq[n] = 0\n",
    "    for k in range(0, n+1):\n",
    "        E_minus_eq[n] += re(sig_eq[k] * h_minus[n-k])\n",
    "        #E_minus_eq[n] += re(epsilon * r_eq[k] * h_minus[n-k])\n",
    "        #E_minus_eq[n] += re(sig_eq[k] * q_coeff_minus(n-k))\n",
    "        \n",
    "    F_plus_eq[n] = 0\n",
    "    for k in range(0, n+1):\n",
    "        F_plus_eq[n] += re(epsilon * r_eq[k] * h_plus[n-k])\n",
    "        \n",
    "    F_minus_eq[n] = 0\n",
    "    for k in range(0, n+1):\n",
    "        F_minus_eq[n] += re(epsilon * r_eq[k] * h_minus[n-k])\n",
    "        \n",
    "    G_eq[n] = 0\n",
    "    for k in range(0, n+1):\n",
    "        G_eq[n] += im(sig_eq[k]) * qinv_coeff(n-k) / I\n"
   ]
  },
  {
   "cell_type": "code",
   "execution_count": null,
   "id": "28c91aad",
   "metadata": {},
   "outputs": [],
   "source": [
    "for n in range(N+1):\n",
    "#     display(Equ(E_plus_sym[n], collect(simplify(E_plus_eq[n].subs(epsiloninv, epsilon)).expand(), epsilon)))\n",
    "#     display(Equ(E_minus_sym[n], collect(simplify(E_minus_eq[n].subs(epsiloninv, epsilon)).expand(), epsilon)))\n",
    "#     display(Equ(Y_plus_sym[n], collect(simplify(Y_plus_eq[n].subs(epsiloninv, epsilon)).expand(), epsilon)))\n",
    "#     display(Equ(Y_minus_sym[n], collect(simplify(Y_minus_eq[n].subs(epsiloninv, epsilon)).expand(), epsilon)))\n",
    "    display(Equ(EE_sym[n], collect(simplify(EE_eq[n].subs(epsiloninv, epsilon)).expand(), epsilon)))\n",
    "    display(Equ(PP_sym[n], collect(simplify(PP_eq[n].subs(epsiloninv, epsilon)).expand(), epsilon)))"
   ]
  },
  {
   "cell_type": "code",
   "execution_count": null,
   "id": "1c6337b1",
   "metadata": {},
   "outputs": [],
   "source": []
  }
 ],
 "metadata": {
  "kernelspec": {
   "display_name": "Python 3 (ipykernel)",
   "language": "python",
   "name": "python3"
  },
  "language_info": {
   "codemirror_mode": {
    "name": "ipython",
    "version": 3
   },
   "file_extension": ".py",
   "mimetype": "text/x-python",
   "name": "python",
   "nbconvert_exporter": "python",
   "pygments_lexer": "ipython3",
   "version": "3.10.9"
  }
 },
 "nbformat": 4,
 "nbformat_minor": 5
}
