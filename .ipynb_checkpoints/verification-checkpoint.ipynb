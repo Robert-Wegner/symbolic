{
 "cells": [
  {
   "cell_type": "markdown",
   "id": "e0569c93",
   "metadata": {},
   "source": [
    "# Verification notebook"
   ]
  },
  {
   "cell_type": "markdown",
   "id": "f5bb7549",
   "metadata": {},
   "source": [
    "## Instructions\n",
    "1. Run the cells in order to initialize things\n",
    "2. After the \"Symbols\" cell everything is set up and the symbolic computations for NLS and GP energies/momenta follow"
   ]
  },
  {
   "cell_type": "code",
   "execution_count": 1,
   "id": "18d83e48",
   "metadata": {},
   "outputs": [
    {
     "data": {
      "application/javascript": [
       "IPython.OutputArea.auto_scroll_threshold = 9999;\n"
      ],
      "text/plain": [
       "<IPython.core.display.Javascript object>"
      ]
     },
     "metadata": {},
     "output_type": "display_data"
    }
   ],
   "source": [
    "%%javascript\n",
    "IPython.OutputArea.auto_scroll_threshold = 9999;"
   ]
  },
  {
   "cell_type": "code",
   "execution_count": 2,
   "id": "7b22986f",
   "metadata": {},
   "outputs": [
    {
     "name": "stdout",
     "output_type": "stream",
     "text": [
      "env: USE_SYMENGINE=1\n"
     ]
    }
   ],
   "source": [
    "from sympy import *\n",
    "from IPython.display import display\n",
    "import time\n",
    "import pickle\n",
    "import datetime\n",
    "from collections import defaultdict\n",
    "\n",
    "%env USE_SYMENGINE 1\n",
    "\n",
    "def Equ(*args, **kwargs):\n",
    "    kwargs['evaluate'] = False\n",
    "    return Eq(*args, **kwargs)"
   ]
  },
  {
   "cell_type": "code",
   "execution_count": 3,
   "id": "a584fa23",
   "metadata": {},
   "outputs": [
    {
     "name": "stdout",
     "output_type": "stream",
     "text": [
      "env: USE_SYMENGINE=1\n"
     ]
    },
    {
     "data": {
      "text/latex": [
       "$\\displaystyle \\left[\\begin{matrix}\\frac{f \\left(- (\\phi)_{x} + 2 A\\right)}{2} & i (g)_{x}\\\\i (f)_{x} & \\frac{g \\left(- (\\phi)_{x} - 2 A\\right)}{2}\\end{matrix}\\right]$"
      ],
      "text/plain": [
       "Matrix([\n",
       "[f*(-(\\phi)_{x} + 2*A)/2,               I*(g)_{x}],\n",
       "[              I*(f)_{x}, g*(-(\\phi)_{x} - 2*A)/2]])"
      ]
     },
     "metadata": {},
     "output_type": "display_data"
    },
    {
     "name": "stdout",
     "output_type": "stream",
     "text": [
      "Test 1: success\n"
     ]
    },
    {
     "data": {
      "text/latex": [
       "$\\displaystyle \\left[\\begin{matrix}0 & g \\left((A)_{xx} + 2 i (A)_{x} (\\phi)_{x} + i (\\phi)_{xx} A - (\\phi)_{x}^{2} A - 2 A^{3} + 2 A\\right) e^{i \\phi}\\\\f \\left((A)_{xx} - 2 i (A)_{x} (\\phi)_{x} - i (\\phi)_{xx} A - (\\phi)_{x}^{2} A - 2 A^{3} + 2 A\\right) e^{- i \\phi} & 0\\end{matrix}\\right]$"
      ],
      "text/plain": [
       "Matrix([\n",
       "[                                                                                                    0, g*((A)_{xx} + 2*I*(A)_{x}*(\\phi)_{x} + I*(\\phi)_{xx}*A - (\\phi)_{x}**2*A - 2*A**3 + 2*A)*exp(I*\\phi)],\n",
       "[f*((A)_{xx} - 2*I*(A)_{x}*(\\phi)_{x} - I*(\\phi)_{xx}*A - (\\phi)_{x}**2*A - 2*A**3 + 2*A)*exp(-I*\\phi),                                                                                                    0]])"
      ]
     },
     "metadata": {},
     "output_type": "display_data"
    },
    {
     "name": "stdout",
     "output_type": "stream",
     "text": [
      "Test 2: success\n"
     ]
    }
   ],
   "source": [
    "#courtesy: https://stackoverflow.com/questions/15463412/differential-operator-usable-in-matrix-form-in-python-module-sympy\n",
    "from IPython.display import display\n",
    "from sympy.core.decorators import call_highest_priority\n",
    "from sympy import Expr, Matrix, Mul, Add, diff, Function\n",
    "from sympy.core.numbers import Zero\n",
    "%env USE_SYMENGINE 1\n",
    "\n",
    "class D(Expr):\n",
    "    _op_priority = 11.\n",
    "    is_commutative = False\n",
    "    diff_symbols = []\n",
    "    diff_symbols_nc = []\n",
    "    non_diff_symbols = []\n",
    "    non_diff_symbols_nc = []\n",
    "\n",
    "    def __init__(self, *variables, **assumptions):\n",
    "        super(D, self).__init__()\n",
    "        self.evaluate = False\n",
    "        self.variables = variables\n",
    "\n",
    "    def __repr__(self):\n",
    "        return 'D%s' % str(self.variables)\n",
    "\n",
    "    def __str__(self):\n",
    "        return self.__repr__()\n",
    "\n",
    "    @call_highest_priority('__mul__')\n",
    "    def __rmul__(self, other):\n",
    "        return Mul(other, self)\n",
    "\n",
    "    @call_highest_priority('__rmul__')\n",
    "    def __mul__(self, other):\n",
    "        if isinstance(other, D):\n",
    "            variables = self.variables + other.variables\n",
    "            return D(*variables)\n",
    "        \n",
    "        if isinstance(other, Matrix):\n",
    "            other_copy = other.copy()\n",
    "            for i, elem in enumerate(other):\n",
    "                other_copy[i] = self * elem\n",
    "            return other_copy\n",
    "\n",
    "        if self.evaluate:\n",
    "            return D.multi_deriv(other, *self.variables)\n",
    "        else:\n",
    "            return Mul(self, other)\n",
    "\n",
    "    def __pow__(self, other):\n",
    "        variables = self.variables\n",
    "        for i in range(other-1):\n",
    "            variables += self.variables\n",
    "        return D(*variables)\n",
    "\n",
    "    @staticmethod\n",
    "    def deriv(expr, xyz):\n",
    "        if not hasattr(expr, 'free_symbols'):\n",
    "            return 0\n",
    "        \n",
    "        def custom_replace(expr):\n",
    "            X = Wild('X')\n",
    "            F = WildFunction('F')\n",
    "            def replace_helper(F, X):\n",
    "                if F.args == (X,):\n",
    "                    return F.func(deriv(X)) / deriv(X)\n",
    "                else: return Derivative(F, X)        \n",
    "            return expr.replace(Derivative(F, X), replace_helper)\n",
    "        # custom_replace makes functions that can not be differentiated commute with differentiaition.\n",
    "                \n",
    "        res = 0\n",
    "\n",
    "        res += custom_replace(Derivative(expr, xyz).doit())\n",
    "\n",
    "        original = [(sym, sym.is_real) for sym in D.diff_symbols if sym in expr.free_symbols]\n",
    "        original_nc = [(sym_nc, sym_c.is_real) for sym_c, sym_nc in zip(D.diff_symbols, D.diff_symbols_nc) if sym_nc in expr.free_symbols]\n",
    "\n",
    "        for sym, is_real in original:\n",
    "            deriv_term = custom_replace(Derivative(expr, sym).doit())\n",
    "            if deriv_term != 0:\n",
    "                newName = multi_var_deriv_name(sym, xyz)\n",
    "\n",
    "                #dsym = Symbol(newName, commutative=True, real=True)\n",
    "                dsym = Symbol(newName, commutative=True, real=is_real)\n",
    "                \n",
    "                if dsym not in D.diff_symbols:\n",
    "                    D.create_diff_symbol(newName, real=is_real)\n",
    "                    \n",
    "                res += deriv_term * dsym\n",
    "                \n",
    "        for sym, is_real in original_nc:\n",
    "            deriv_term = custom_replace(Derivative(expr, sym).doit())\n",
    "            if deriv_term != 0:\n",
    "                newName = multi_var_deriv_name(sym, xyz)\n",
    "\n",
    "                dsym = Symbol(newName, commutative=False)\n",
    "                \n",
    "                if dsym not in D.diff_symbols_nc:\n",
    "                    D.create_diff_symbol(newName, real=is_real)\n",
    "                    \n",
    "                res += deriv_term * dsym\n",
    "                \n",
    "        return res\n",
    "    \n",
    "    @staticmethod\n",
    "    def multi_deriv(expr, *variables):\n",
    "        result = expr\n",
    "        for xyz in variables:\n",
    "            result = D.deriv(result, xyz)\n",
    "        return result\n",
    "    \n",
    "#     @staticmethod\n",
    "#     def create_diff_symbol(name, real=None):\n",
    "#         #new_symbol = Symbol(name, commutative=True, real=True)\n",
    "#         new_symbol = Symbol(name, commutative=True, real=real)\n",
    "#         if new_symbol not in D.diff_symbols:\n",
    "#             D.diff_symbols.append(new_symbol)\n",
    "#         new_symbol_nc = Symbol(name, commutative=False)\n",
    "#         if new_symbol_nc not in D.diff_symbols_nc:\n",
    "#             D.diff_symbols_nc.append(new_symbol_nc)\n",
    "#         return new_symbol, new_symbol_nc\n",
    "\n",
    "    @staticmethod\n",
    "    def create_diff_symbol(name, real=None):\n",
    "        comm = Symbol(name, commutative=True, real=real)\n",
    "        nonc = Symbol(name, commutative=False)\n",
    "        ic = comm in D.diff_symbols\n",
    "        inc = nonc in D.diff_symbols_nc\n",
    "        if not ic and not inc:\n",
    "            D.diff_symbols.append(comm)\n",
    "            D.diff_symbols_nc.append(nonc)\n",
    "        elif ic and not inc:\n",
    "            i = D.diff_symbols.index(comm)\n",
    "            D.diff_symbols_nc.insert(i, nonc)\n",
    "        elif inc and not ic:\n",
    "            i = D.diff_symbols_nc.index(nonc)\n",
    "            D.diff_symbols.insert(i, comm)\n",
    "        return comm, nonc\n",
    "    \n",
    "#     @staticmethod\n",
    "#     def create_non_diff_symbol(name, real=None):\n",
    "#         # new_symbol = Symbol(name, commutative=True, real=True)\n",
    "#         new_symbol = Symbol(name, commutative=True, real=real)\n",
    "#         if new_symbol not in D.non_diff_symbols:\n",
    "#             D.non_diff_symbols.append(new_symbol)\n",
    "#         new_symbol_nc = Symbol(name, commutative=False)\n",
    "#         if new_symbol_nc not in D.non_diff_symbols_nc:\n",
    "#             D.non_diff_symbols_nc.append(new_symbol_nc)\n",
    "#         return new_symbol, new_symbol_nc\n",
    "    \n",
    "    @staticmethod\n",
    "    def create_non_diff_symbol(name, real=None):\n",
    "        comm = Symbol(name, commutative=True, real=real)\n",
    "        nonc = Symbol(name, commutative=False)\n",
    "        ic = comm in D.non_diff_symbols\n",
    "        inc = nonc in D.non_diff_symbols_nc\n",
    "        if not ic and not inc:\n",
    "            D.non_diff_symbols.append(comm)\n",
    "            D.non_diff_symbols_nc.append(nonc)\n",
    "        elif ic and not inc:\n",
    "            i = D.non_diff_symbols.index(comm)\n",
    "            D.non_diff_symbols_nc.insert(i, nonc)\n",
    "        elif inc and not ic:\n",
    "            i = D.non_diff_symbols_nc.index(nonc)\n",
    "            D.non_diff_symbols.insert(i, comm)\n",
    "        return comm, nonc\n",
    "\n",
    "    @staticmethod\n",
    "    def create_diff_symbols(*names, real=None):\n",
    "        new_symbols = []\n",
    "        for name in names:\n",
    "            new_symbol, new_symbol_nc = D.create_diff_symbol(name, real)\n",
    "            new_symbols.append(new_symbol_nc)\n",
    "            new_symbols.append(new_symbol)\n",
    "\n",
    "        return new_symbols\n",
    "    \n",
    "    @staticmethod\n",
    "    def create_non_diff_symbols(*names, real=None):\n",
    "        new_symbols = []\n",
    "        for name in names:\n",
    "            new_symbol, new_symbol_nc = D.create_non_diff_symbol(name, real)\n",
    "            new_symbols.append(new_symbol_nc)\n",
    "            new_symbols.append(new_symbol)\n",
    "            \n",
    "        return new_symbols\n",
    "    \n",
    "    @staticmethod\n",
    "    def comm_to_non_comm(expr):\n",
    "        if not hasattr(expr, \"subs\"):\n",
    "            return expr\n",
    "        for (sym, sym_nc) in zip(D.diff_symbols, D.diff_symbols_nc):\n",
    "            expr = expr.subs(sym, sym_nc)\n",
    "        for (sym, sym_nc) in zip(D.non_diff_symbols, D.non_diff_symbols_nc):\n",
    "            expr = expr.subs(sym, sym_nc)\n",
    "        return expr\n",
    "    \n",
    "    @staticmethod\n",
    "    def non_comm_to_comm(expr):\n",
    "        if not hasattr(expr, \"subs\"):\n",
    "            return expr\n",
    "        for (sym, sym_nc) in zip(D.diff_symbols, D.diff_symbols_nc):\n",
    "            expr = expr.subs(sym_nc, sym)\n",
    "        for (sym, sym_nc) in zip(D.non_diff_symbols, D.non_diff_symbols_nc):\n",
    "            expr = expr.subs(sym_nc, sym)\n",
    "        return expr\n",
    "        \n",
    "    @staticmethod\n",
    "    def reset_symbols():\n",
    "        D.diff_symbols = []\n",
    "        D.diff_symbols_nc = []\n",
    "        D.non_diff_symbols = []\n",
    "        D.non_diff_symbols_nc = []\n",
    "        \n",
    "\n",
    "def var_deriv_name(var):\n",
    "    if ')_{x' in var.name:\n",
    "        return var.name[:-1] + 'x}'\n",
    "    else:\n",
    "        return '(' + var.name + ')_{x}'\n",
    "        #return var.name + '_x'\n",
    "\n",
    "def multi_var_deriv_name(var, xyz):\n",
    "    if ')_{' in var.name:\n",
    "        i = var.name.rindex(')_{') + 3\n",
    "        derivs = var.name[i:-1]\n",
    "\n",
    "        return var.name[:i] + ''.join(sorted(derivs + xyz.name)) + '}'\n",
    "    else:\n",
    "        return '(' + var.name + ')_{' + xyz.name + '}'\n",
    "    \n",
    "def mydiff(expr, *variables):\n",
    "    if isinstance(expr, D):\n",
    "        expr.variables += variables\n",
    "        return D(*expr.variables)\n",
    "    if isinstance(expr, Matrix):\n",
    "        expr_copy = expr.copy()\n",
    "        for i, elem in enumerate(expr):\n",
    "            expr_copy[i] = D.multi_deriv(expr, *variables)\n",
    "        return expr_copy\n",
    "    if isinstance(expr, conjugate):\n",
    "        return conjugate(D.multi_deriv(expr.args[0], *variables))\n",
    "    if isinstance(expr, im):\n",
    "        return im(D.multi_deriv(expr.args[0], *variables))\n",
    "    if isinstance(expr, re):\n",
    "        return re(D.multi_deriv(expr.args[0], *variables))\n",
    "    \n",
    "    return D.multi_deriv(expr, *variables)\n",
    "\n",
    "\n",
    "def isFunction(expr):\n",
    "    return hasattr(expr, 'args') and len(expr.args) > 0 and hasattr(expr, 'func')\n",
    "\n",
    "spacing = '|   '\n",
    "def evaluateMul(expr, printing=False, space=spacing, postFunc=None):\n",
    "    if printing:\n",
    "        print(space, 'evaluateMul', expr, expr.args)\n",
    "    if hasattr(expr, 'expand'):\n",
    "        expr = expr.expand()\n",
    "    if expr.args:\n",
    "        if printing:\n",
    "            print(space, 'hasArgs')\n",
    "        if isinstance(expr.args[-1], D):\n",
    "            if printing:\n",
    "                print(space, 'finalD: zero')\n",
    "            return Zero()\n",
    "    initial_args = expr.args\n",
    "    for i in range(len(expr.args)-1, -1, -1):\n",
    "        arg = initial_args[i]\n",
    "        if hasattr(arg, 'expand'):\n",
    "            arg = arg.expand()\n",
    "        if printing:\n",
    "            print(space, 'arg', i, 'is', arg)\n",
    "        if isinstance(arg, D):\n",
    "            if printing:\n",
    "                print(space, 'arg is D')\n",
    "            left = Mul(*initial_args[:i])\n",
    "            if printing:\n",
    "                print(space, 'left', left)\n",
    "            right = Mul(*expr.args[i+1:])\n",
    "            if printing:\n",
    "                print(space, 'right', right)\n",
    "            right = mydiff(right, *arg.variables)\n",
    "            if printing:\n",
    "                print(space, 'new right', right)\n",
    "            if printing:\n",
    "                print(space, 'restart')\n",
    "            return processExpr(left * right, printing=printing, space=space+spacing, postFunc=postFunc)\n",
    "        else:\n",
    "            if printing:\n",
    "                print(space, 'arg is processed further')\n",
    "            arg = processExpr(arg, printing=printing, space=space+spacing, postFunc=postFunc)\n",
    "            left = Mul(*initial_args[:i])\n",
    "            if printing:\n",
    "                print(space, 'left', left)\n",
    "            right = Mul(*expr.args[i+1:])\n",
    "            if printing:\n",
    "                print(space, 'right', right)\n",
    "            expr = left * arg * right\n",
    "            if len(expr.args) < len(initial_args):\n",
    "                return processExpr(expr, printing=printing, space=space+spacing, postFunc=postFunc)\n",
    "\n",
    "    if printing:\n",
    "        print(space, '--Mul-->', expr)\n",
    "    return postFunc(expr) if postFunc else expr\n",
    "\n",
    "def processExpr(expr, printing=False, space=spacing, postFunc=None):\n",
    "    if printing:\n",
    "        print(space, 'processExpr: ', expr)\n",
    "    if hasattr(expr, 'expand'):\n",
    "        expr = expr.expand()\n",
    "    if isinstance(expr, Matrix):\n",
    "        if printing:\n",
    "            print(space, 'Matrix')\n",
    "        for i, elem in enumerate(expr):\n",
    "            expr[i] = processExpr(elem, printing=printing, space=space+spacing, postFunc=postFunc)\n",
    "        if printing:\n",
    "            print(space, 'newExpr', expr)\n",
    "    elif isinstance(expr, Mul):\n",
    "        if printing:\n",
    "            print(space, 'Mul')\n",
    "        expr = evaluateMul(expr, printing=printing, space=space+spacing, postFunc=postFunc)\n",
    "    elif isinstance(expr, D):\n",
    "        if printing:\n",
    "            print(space, 'D')\n",
    "        expr = Zero()\n",
    "    elif isFunction(expr):\n",
    "        if printing:\n",
    "            print(space, 'Function', expr.args)\n",
    "        new_args = [processExpr(a, printing=printing, space=space+spacing, postFunc=postFunc) for a in expr.args]\n",
    "        expr = expr.func(*new_args)     \n",
    "    if printing:\n",
    "        print(space, '------->', expr)\n",
    "    return postFunc(expr) if postFunc else expr\n",
    "\n",
    "def evaluateExpr(expr, printing=False, space=spacing):\n",
    "    expr = D.comm_to_non_comm(expr)\n",
    "    expr = processExpr(expr, printing=printing, space=space)\n",
    "    expr = D.non_comm_to_comm(expr)\n",
    "    return(expr)\n",
    "\n",
    "def test_suite():\n",
    "    D.reset_symbols()\n",
    "    x, x_c, y, y_c, z, z_c = D.create_non_diff_symbols('x', 'y', 'z')\n",
    "    qq, qq_c, qq_conj, qq_conj_c, = D.create_diff_symbols('q', '\\overline{q}')\n",
    "    uu, uu_c, ff, ff_c, gg, gg_c, vv, vv_c = D.create_diff_symbols('u', 'f', 'g', 'v')\n",
    "    AA, AA_c, pphi, pphi_c = D.create_diff_symbols('A', '\\phi')\n",
    "\n",
    "    theta = I / 2 * (pphi - pi / 2)\n",
    "\n",
    "    M = 1 / sqrt(2) * Matrix([[exp(- theta), exp(theta)], [exp(- theta), - exp(theta)]])\n",
    "    M_conj = 1 / sqrt(2) * Matrix([[exp(theta), exp(- theta)], [exp(theta), - exp(- theta)]])\n",
    "    \n",
    "    Lax = I * Matrix([[D(x), - qq], [qq_conj, - D(x)]]).subs(qq, AA * exp(I * pphi)).subs(qq_conj, AA * exp(- I * pphi))\n",
    "    \n",
    "    Pax = I * Matrix([[2 * D(x, x) - (AA**2 - 1), - AA * exp(I * pphi) * D(x) - D(x) * AA * exp(I * pphi)],\n",
    "                    [AA * exp(- I * pphi) * D(x) + D(x) * AA * exp(- I * pphi), - 2 * D(x, x) + (AA**2 - 1)]])\n",
    "    \n",
    "    F = Matrix([[ff, 0], [0, gg]])\n",
    "    \n",
    "    res1 = evaluateExpr(Matrix([[AA - (D(x) * pphi - pphi * D(x)) / 2, I * D(x)], \n",
    "                   [I * D(x), - AA - (D(x) * pphi - pphi * D(x)) / 2]]) * F)\n",
    "    \n",
    "    res2 = evaluateExpr(evaluateExpr(Matrix([[0, (D(x, x) - 2 * (AA**2 - 1)) * AA * exp(I * pphi)],\n",
    "                [(D(x, x) - 2 * (AA**2 - 1)) * AA * exp(- I * pphi), 0]])) * F)\n",
    "\n",
    "    \n",
    "    old_expr = M * Lax * Transpose(M_conj) * F\n",
    "    expr = old_expr.copy()\n",
    "    new_expr = evaluateExpr(expr)\n",
    "    display(simplify(new_expr))\n",
    "    if simplify(new_expr - res1) == Matrix([[0, 0], [0, 0]]):\n",
    "        print('Test 1: success')\n",
    "    else:\n",
    "        print('Test 2: failed')\n",
    "    old_expr = (Pax * Lax - Lax * Pax) * F\n",
    "    expr = old_expr.copy()\n",
    "    new_expr = evaluateExpr(expr)\n",
    "    display(simplify(new_expr))\n",
    "    if simplify(new_expr - res2) == Matrix([[0, 0], [0, 0]]):\n",
    "        print('Test 2: success')\n",
    "    else:\n",
    "        print('Test 2: failed')\n",
    "    D.reset_symbols()\n",
    "    \n",
    "test_suite()"
   ]
  },
  {
   "cell_type": "code",
   "execution_count": 4,
   "id": "1fbc92c4",
   "metadata": {},
   "outputs": [],
   "source": [
    "from collections import deque\n",
    "from multiset import Multiset\n",
    "\n",
    "def get_var_name_from_deriv(sym):\n",
    "    start = sym.name.find('(')\n",
    "    end = sym.name.find(')')\n",
    "    if start != -1 and end != -1:\n",
    "        sym_name = sym.name[start+1:end]\n",
    "        return sym_name\n",
    "    else:\n",
    "        sym_name = sym.name\n",
    "        return sym_name\n",
    "        \n",
    "def get_multiindex_from_deriv(sym):\n",
    "    start = sym.name.find('(')\n",
    "    end = sym.name.find(')')\n",
    "    if start != -1 and end != -1:\n",
    "        return sym.name[end+3:-1]\n",
    "    else:\n",
    "        return ''\n",
    "    \n",
    "def get_order_from_deriv(sym):\n",
    "    start = sym.name.find('(')\n",
    "    end = sym.name.find(')')\n",
    "    if start != -1 and end != -1:\n",
    "        sym_name = sym.name[start+1:end]\n",
    "        return len(sym.name) - 4 - sym.name.find(')_{')\n",
    "    else:\n",
    "        return 0\n",
    "\n",
    "def get_var_from_name(name, isComm):\n",
    "    if isComm:\n",
    "        var = next((s for s in D.diff_symbols if s.name == name and get_order_from_deriv(s) == 0), 0)\n",
    "    else:\n",
    "        var = next((s for s in D.diff_symbols_nc if s.name == name and get_order_from_deriv(s) == 0), 0)\n",
    "    return var\n",
    "\n",
    "def get_dvar_from_deriv_name(deriv_name, isComm, isReal=None):\n",
    "    if isComm:\n",
    "        var = next((s for s in D.diff_symbols if s.name == deriv_name), \n",
    "            D.create_diff_symbols(deriv_name, isReal=isReal)[1])\n",
    "    else:\n",
    "        var = next((s for s in D.diff_symbols_nc if s.name == deriv_name), \n",
    "            D.create_diff_symbols(deriv_name, isReal=isReal)[0])\n",
    "    return var\n",
    "\n",
    "def get_var_from_deriv(var):\n",
    "    return get_var_from_name(get_var_name_from_deriv(var), var.is_commutative)\n",
    "    \n",
    "def deriv(poly):\n",
    "    return multi_deriv(poly, [x])\n",
    "\n",
    "def higher_deriv(poly, n):\n",
    "    return multi_deriv(poly, [x] * n)\n",
    "   \n",
    "def multi_deriv(expr, xyz):\n",
    "    if isinstance(xyz, (list, tuple)):\n",
    "        result = expr\n",
    "        for elem in xyz:\n",
    "            result = multi_deriv(result, elem)\n",
    "        return result\n",
    "    \n",
    "    if isinstance(expr, Matrix):\n",
    "        expr_copy = expr.copy()\n",
    "        for i, elem in enumerate(expr):\n",
    "            expr_copy[i] = multi_deriv(elem, xyz)\n",
    "        return expr_copy\n",
    "    \n",
    "    if not hasattr(expr, 'free_symbols'):\n",
    "        return 0\n",
    "    \n",
    "    res = 0\n",
    "    res += Derivative(expr, xyz).doit()\n",
    "\n",
    "    fixed_symbols = (set(D.diff_symbols) | set(D.diff_symbols_nc)) & set(expr.free_symbols)\n",
    "    symbols_to_iterate = list(fixed_symbols)  # Creates a separate list copy\n",
    "\n",
    "    for sym in symbols_to_iterate:\n",
    "        \n",
    "        def custom_replace(expr):\n",
    "            X = Wild('X')\n",
    "            F = WildFunction('F')\n",
    "            def replace_helper(F, X):\n",
    "                if F.args == (X,):\n",
    "                    return F.func(deriv(X)) / deriv(X)\n",
    "                else: return Derivative(F, X)        \n",
    "            return expr.replace(Derivative(F, X), replace_helper)\n",
    "        # custom_replace makes functions that can not be differentiated commute with differentiaition.\n",
    "        deriv_term = custom_replace(Derivative(expr, sym).doit())\n",
    "        if deriv_term != 0:\n",
    "            newName = multi_var_deriv_name(sym, xyz)\n",
    "            if sym.is_commutative:\n",
    "                dsym = next((s for s in D.diff_symbols if s.name == newName), D.create_diff_symbols(newName, real=sym.is_real)[1])\n",
    "            else:\n",
    "                dsym = next((s for s in D.diff_symbols_nc if s.name == newName), D.create_diff_symbols(newName, real=sym.is_real)[0])\n",
    "            res += deriv_term * dsym\n",
    "    \n",
    "    return res\n",
    "\n",
    "def single_subs(expr, var, sub, scale=1):\n",
    "    if not hasattr(expr, 'subs'):\n",
    "        return expr\n",
    "        \n",
    "    if isinstance(scale, dict):\n",
    "        for xyz, scaling in scale.items():\n",
    "            expr = expr.subs(xyz, scaling * xyz)\n",
    "            \n",
    "    if var not in set(D.diff_symbols) | set(D.diff_symbols_nc):\n",
    "        return expr.subs(var, sub)\n",
    "    \n",
    "    var_name = get_var_name_from_deriv(var)\n",
    "    var_multiindex = Multiset(get_multiindex_from_deriv(var))\n",
    "    \n",
    "    fixed_symbols = (set(D.diff_symbols) | set(D.diff_symbols_nc)) & set(expr.free_symbols)\n",
    "    symbols_to_iterate = list(fixed_symbols)  # Creates a separate list copy\n",
    "\n",
    "    for sym in symbols_to_iterate:\n",
    "        if get_var_name_from_deriv(sym) == var_name:\n",
    "            sym_multiindex = Multiset(get_multiindex_from_deriv(sym))\n",
    "            if var_multiindex.issubset(sym_multiindex):\n",
    "                target_multiindex = sym_multiindex.difference(var_multiindex)\n",
    "                target_operator = [Symbol(char, real=True) for char in target_multiindex]\n",
    "                #target_operator = [Symbol(char) for char in target_multiindex]\n",
    "                if isinstance(scale, dict):\n",
    "                    factor = 1\n",
    "                    for direction in target_operator:\n",
    "                        factor *= scale.get(direction, 1)\n",
    "                else:\n",
    "                    factor = scale**len(target_operator)\n",
    "                expr = expr.subs(sym, factor * multi_deriv(sub, target_operator))\n",
    "\n",
    "    return expr\n",
    "\n",
    "def subs(expr, data, scale=1):\n",
    "    for (var, sub) in data:\n",
    "        expr = single_subs(expr, var, sub, scale=scale)\n",
    "    return expr\n",
    "\n",
    "def variation(expr, sym):\n",
    "    if not hasattr(expr, 'free_symbols'):\n",
    "        return 0\n",
    "    \n",
    "    res = 0\n",
    "    order = 0\n",
    "\n",
    "    syms = []\n",
    "    orders = []\n",
    "\n",
    "    start = sym.name.find('(')\n",
    "    end = sym.name.find(')')\n",
    "    if start != -1 and end != -1:\n",
    "        sym_name = sym.name[start+1:end]\n",
    "        syms.append(sym)\n",
    "        orders.append(len(sym.name) - 4 - sym.name.find(')_{'))\n",
    "    else:\n",
    "        sym_name = sym.name\n",
    "        syms.append(sym)\n",
    "        orders.append(0)\n",
    "\n",
    "    for s in expr.free_symbols:\n",
    "        start = s.name.find('(')\n",
    "        end = s.name.find(')')\n",
    "        if start != -1 and end != -1 and sym_name == s.name[start+1:end]:\n",
    "            if s.name not in [sym.name for sym in syms]:\n",
    "                syms.append(s)\n",
    "                orders.append(len(s.name) - 4 - s.name.find(')_{'))    \n",
    "    \n",
    "    for (sym, order) in zip(syms, orders):\n",
    "        res += (-1)**order * higher_deriv(Derivative(expr, sym).doit(), order)\n",
    "\n",
    "    return simplify(res)\n",
    "\n",
    "epsilon, epsiloninv = symbols('\\epsilon, \\eta', positive=True)\n",
    "\n",
    "def polynomize(expr):\n",
    "    return simplify(Poly(expr, epsilon, epsiloninv).subs(epsiloninv, 1/epsilon))\n",
    "\n",
    "def depolynomize(poly):\n",
    "    monoms = poly.monoms()\n",
    "    coeffs = poly.coeffs()\n",
    "    \n",
    "    X = 0\n",
    "    for (k, m) in enumerate(monoms):\n",
    "        X += epsilon**m[0] * epsiloninv**m[1] * coeffs[k]\n",
    "            \n",
    "    return X\n",
    "\n",
    "def poly_simplify(expr):\n",
    "    return depolynomize(polynomize(expr))\n",
    "\n",
    "def extract_deriv(expr, k): \n",
    "    expr = simplify(expr).expand()\n",
    "    res = 0\n",
    "    if isinstance(expr, Add):\n",
    "        for mon in expr.args:\n",
    "            count = 0\n",
    "            if hasattr(mon, \"name\"):\n",
    "                if \"_{x\" in mon.name:\n",
    "                    count += 1\n",
    "            else:\n",
    "                for fac in mon.args:\n",
    "                    if hasattr(fac, \"name\"):\n",
    "                        if \"_{x\" in fac.name:\n",
    "                            count += 1\n",
    "                    elif isinstance(fac, Pow):\n",
    "                        if \"_{x\" in fac.base.name and fac.exp > 0:\n",
    "                            count += fac.exp     \n",
    "            if count == k:\n",
    "                res += mon\n",
    "\n",
    "    else:\n",
    "        mon = expr\n",
    "        count = 0\n",
    "        if hasattr(mon, \"name\"):\n",
    "            if \"_{x\" in mon.name:\n",
    "                count += 1\n",
    "        elif hasattr(mon, \"args\"):\n",
    "            for fac in mon.args:\n",
    "                if hasattr(fac, \"name\"):\n",
    "                    if \"_{x\" in fac.name:\n",
    "                        count += 1\n",
    "                elif isinstance(fac, Pow):\n",
    "                    if \"_{x\" in fac.base.name and fac.exp > 0:\n",
    "                        count += fac.exp     \n",
    "        if count == k:\n",
    "            res += mon\n",
    "\n",
    "    return res\n",
    "        \n",
    "def extract_deriv_alt(expr, k):\n",
    "    expr = simplify(expr).expand()\n",
    "    res = 0\n",
    "    if isinstance(expr, Add):\n",
    "        for mon in expr.args:\n",
    "            presence_deriv_q_conj = False\n",
    "            count = 0\n",
    "            if hasattr(mon, \"name\"):\n",
    "                if \"_{x\" in mon.name:\n",
    "                    count += 1\n",
    "                    if get_var_name_from_deriv(mon) == q_conj.name:\n",
    "                        presence_deriv_q_conj = True\n",
    "            else:\n",
    "                for fac in mon.args:\n",
    "                    if hasattr(fac, \"name\"):\n",
    "                        if \"_{x\" in fac.name:\n",
    "                            count += 1\n",
    "                            if get_var_name_from_deriv(fac) == q_conj.name:\n",
    "                                presence_deriv_q_conj = True\n",
    "                    elif isinstance(fac, Pow):\n",
    "                        if \"_{x\" in fac.base.name and fac.exp > 0:\n",
    "                            count += fac.exp     \n",
    "                            if get_var_name_from_deriv(fac.base) == q_conj.name:\n",
    "                                presence_deriv_q_conj = True\n",
    "            if count == k and presence_deriv_q_conj:\n",
    "                res += mon\n",
    "\n",
    "    else:\n",
    "        presence_deriv_q_conj = False\n",
    "        mon = expr\n",
    "        count = 0\n",
    "        if hasattr(mon, \"name\"):\n",
    "            if \"_{x\" in mon.name:\n",
    "                count += 1\n",
    "                if get_var_name_from_deriv(mon) == q_conj.name:\n",
    "                    presence_deriv_q_conj = True\n",
    "        elif hasattr(mon, \"args\"):\n",
    "            for fac in mon.args:\n",
    "                if hasattr(fac, \"name\"):\n",
    "                    if \"_{x\" in fac.name:\n",
    "                        count += 1\n",
    "                        if get_var_name_from_deriv(fac) == q_conj.name:\n",
    "                            presence_deriv_q_conj = True\n",
    "                elif isinstance(fac, Pow):\n",
    "                    if \"_{x\" in fac.base.name and fac.exp > 0:\n",
    "                        count += fac.exp   \n",
    "                        if get_var_name_from_deriv(fac.base) == q_conj.name:\n",
    "                            presence_deriv_q_conj = True\n",
    "        if count == k and presence_deriv_q_conj:\n",
    "            res += mon\n",
    "    return res\n",
    "\n",
    "def group_by_orders(expr, syms):\n",
    "    sym_names = [get_var_name_from_deriv(sym) for sym in syms]\n",
    "    deriv_syms = [sym for sym in D.diff_symbols if (get_var_name_from_deriv(sym) in sym_names)]    \n",
    "    \n",
    "    if hasattr(expr, \"expand\"):\n",
    "        expr = simplify(expr).expand()\n",
    "    if isinstance(expr, Add):\n",
    "        args = expr.args\n",
    "    else:\n",
    "        args = [expr]\n",
    "        \n",
    "    order_groups = {}\n",
    "    for mon in args:\n",
    "        order = 0\n",
    "        if isinstance(mon, Pow):\n",
    "            if mon.args[0] in deriv_syms:\n",
    "                order += mon.args[1]\n",
    "        if isinstance(mon, Mul):\n",
    "            factors = mon.args\n",
    "            for fac in factors:\n",
    "                if isinstance(fac, Pow):\n",
    "                    if fac.args[0] in deriv_syms:\n",
    "                        order += fac.args[1]\n",
    "                elif fac in deriv_syms:\n",
    "                    order += 1\n",
    "        elif mon in deriv_syms:\n",
    "            order += 1\n",
    "            \n",
    "        order_groups[order] = order_groups.get(order, 0) + mon\n",
    "    return {key: order_groups[key] for key in sorted(order_groups.keys())}\n",
    "\n",
    "def integrate_by_parts(expr, syms):\n",
    "    deriv_sym_lists = []\n",
    "    for base in syms:\n",
    "        base_name = get_var_name_from_deriv(base)\n",
    "        group = [ds for ds in D.diff_symbols\n",
    "                 if get_var_name_from_deriv(ds) == base_name]\n",
    "        group.sort(key=get_order_from_deriv)\n",
    "        deriv_sym_lists.append(group)\n",
    "\n",
    "    if hasattr(expr, \"expand\"):\n",
    "        expr = simplify(expr).expand()\n",
    "\n",
    "    monomials = expr.args if isinstance(expr, Add) else [expr]\n",
    "    res = 0\n",
    "\n",
    "    for mon in monomials:\n",
    "        res += mon\n",
    "        powers = mon.as_powers_dict()\n",
    "        for group in deriv_sym_lists:\n",
    "            present = [ds for ds in group if ds in powers]\n",
    "            if not present:\n",
    "                continue\n",
    "            if len(present) == 1:\n",
    "                target_ds = present[0]\n",
    "                coef = 1\n",
    "                dorder = get_order_from_deriv(target_ds)\n",
    "            else:\n",
    "                total_order = sum(get_order_from_deriv(ds) for ds in present)\n",
    "                if total_order % 2 == 0:\n",
    "                    target_ds = min(present, key=get_order_from_deriv)\n",
    "                    coef = 1\n",
    "                    dorder = get_order_from_deriv(target_ds)\n",
    "                else:\n",
    "                    target_ds = max(present, key=get_order_from_deriv)\n",
    "                    coef = Rational(1, 2)\n",
    "                    orders = sorted(get_order_from_deriv(ds) for ds in present)\n",
    "                    dorder = orders[-1] - orders[-2]\n",
    "            base_sym = get_var_from_deriv(target_ds)\n",
    "            remaining_order = get_order_from_deriv(target_ds) - dorder\n",
    "            remaining_factor = (\n",
    "                higher_deriv(base_sym, remaining_order)\n",
    "                if remaining_order else base_sym\n",
    "            )\n",
    "            replacement = coef * (\n",
    "                -mon\n",
    "                + (-1)**dorder * remaining_factor * higher_deriv(simplify(mon / target_ds), dorder)\n",
    "            )\n",
    "            res += replacement\n",
    "            break\n",
    "    return res\n",
    "\n",
    "def integrate_by_parts_multiple(expr, syms, N):\n",
    "    res = expr\n",
    "    for _ in range(int(N)):\n",
    "        res = integrate_by_parts(res, syms)\n",
    "    return res\n",
    "\n",
    "def integrate_by_parts_auto(expr, syms, max_iter=20):\n",
    "    res = expr\n",
    "    k = 0\n",
    "    for _ in range(max_iter):\n",
    "        k += 1\n",
    "        new_res = simplify(integrate_by_parts(res, syms))\n",
    "        if simplify(new_res - res) == 0:\n",
    "            break\n",
    "        res = new_res\n",
    "    return res\n",
    "\n",
    "def operator_from_bilinear(expr, syms):\n",
    "    if len(syms) != 2:\n",
    "        print(\"This function is only intended for bilinear forms\")    \n",
    "    op = Matrix([[0 for n in range(len(syms))] for k in range(len(syms))])\n",
    "    sym_names = [get_var_name_from_deriv(sym) for sym in syms]\n",
    "    deriv_syms = [(i, s) for i, sym_name in enumerate(sym_names) for s in D.diff_symbols if get_var_name_from_deriv(s) == sym_name]\n",
    "    expr = integrate_by_parts_auto(expr, syms)\n",
    "    \n",
    "    if hasattr(expr, \"expand\"):\n",
    "        expr = simplify(expr).expand()\n",
    "    if isinstance(expr, Add):\n",
    "        args = expr.args\n",
    "    else:\n",
    "        args = [expr]\n",
    "        \n",
    "    res = 0\n",
    "    for mon in args:\n",
    "        if hasattr(mon, \"free_symbols\"):\n",
    "            ind1, sym1 = next(((i, sym) for (i, sym) in deriv_syms if sym in mon.free_symbols), None)\n",
    "            ind2, sym2 = next(((i, sym) for (i, sym) in deriv_syms if sym in simplify(mon / sym1).free_symbols), None)\n",
    "            dorder = get_order_from_deriv(sym2)\n",
    "            op[ind1, ind2] += D.comm_to_non_comm(mon / sym1 / sym2) * (D(xx)**dorder if dorder > 0 else 1)\n",
    "    return op\n",
    "\n",
    "def operator_from_linear(expr, sym):\n",
    "    op = 0\n",
    "    sym_name = get_var_name_from_deriv(sym)\n",
    "    deriv_syms = [s for s in D.diff_symbols if get_var_name_from_deriv(s) == sym_name]\n",
    "    \n",
    "    if hasattr(expr, \"expand\"):\n",
    "        expr = simplify(expr).expand()\n",
    "    if isinstance(expr, Add):\n",
    "        args = expr.args\n",
    "    else:\n",
    "        args = [expr]\n",
    "    res = 0\n",
    "    for mon in args:\n",
    "        if hasattr(mon, \"free_symbols\"):\n",
    "            sym1 = next((sym for sym in deriv_syms if sym in mon.free_symbols), None)\n",
    "            if (sym1):\n",
    "                dorder = get_order_from_deriv(sym1)\n",
    "                op += D.comm_to_non_comm(mon / sym1) * (D(xx)**dorder if dorder > 0 else 1)\n",
    "    return op\n",
    "\n",
    "def operator_adjoint(op):\n",
    "    if isinstance(op, Matrix):\n",
    "        return op.T.applyfunc(operator_adjoint)\n",
    "    if hasattr(op, \"expand\"):\n",
    "        op = op.expand()\n",
    "    if isinstance(op, Add):\n",
    "        return sum(operator_adjoint(t) for t in op.args)\n",
    "    def _count_order(f):\n",
    "        if isinstance(f, D):\n",
    "            return len(f.variables)\n",
    "        if getattr(f, 'is_Pow', False) and isinstance(f.base, D):\n",
    "            try:\n",
    "                return int(f.exp) * len(f.base.variables)\n",
    "            except:\n",
    "                return 0\n",
    "        return 0\n",
    "    facs = list(op.args) if isinstance(op, Mul) else [op]\n",
    "    k = sum(_count_order(f) for f in facs)\n",
    "    r = Mul(*reversed(facs), evaluate=False)\n",
    "    return (-1)**k * r\n",
    "\n",
    "def func_deriv(expr, var, pvar):\n",
    "    t = Symbol('s')\n",
    "    return Derivative(subs(expr, [(q_conj, q_conj + t * p_conj)]), t).doit().subs(t, 0)\n"
   ]
  },
  {
   "cell_type": "markdown",
   "id": "2a325440",
   "metadata": {},
   "source": [
    "# Symbols"
   ]
  },
  {
   "cell_type": "code",
   "execution_count": 5,
   "id": "2b066584",
   "metadata": {},
   "outputs": [
    {
     "name": "stdout",
     "output_type": "stream",
     "text": [
      "\n",
      "Above each symbol has two variants, one with a repeated name 'xx' or 'qq', and one with a single name 'x' or 'q'.\n",
      "The symbols with the single name are commutative. The symbols with the repeated name are not commutative.\n",
      "In order to use differential operators we need non-commutative symbols. For example note that the first expression is simplified to zero\n",
      "while the second is not. We want the second behavior for differential operators, so here the 'double' symbols need to be used.\n",
      "\n"
     ]
    },
    {
     "data": {
      "text/latex": [
       "$\\displaystyle 0$"
      ],
      "text/plain": [
       "0"
      ]
     },
     "metadata": {},
     "output_type": "display_data"
    },
    {
     "data": {
      "text/latex": [
       "$\\displaystyle - q \\operatorname{D}\\left(x\\right) + \\operatorname{D}\\left(x\\right) q$"
      ],
      "text/plain": [
       "-q*D(x) + D(x)*q"
      ]
     },
     "metadata": {},
     "output_type": "display_data"
    },
    {
     "name": "stdout",
     "output_type": "stream",
     "text": [
      "\n",
      "In order to evaluate this Differential operator as if it is being applied to the function one, we use\n",
      "\n"
     ]
    },
    {
     "data": {
      "text/latex": [
       "$\\displaystyle (q)_{x}$"
      ],
      "text/plain": [
       "(q)_{x}"
      ]
     },
     "metadata": {},
     "output_type": "display_data"
    },
    {
     "name": "stdout",
     "output_type": "stream",
     "text": [
      "\n",
      "Note that outside of evaluateExpr we do not think of the expression as a differential operator anymore, instead just a function.\n",
      "There we use 'single' variable names.\n",
      "\n"
     ]
    },
    {
     "data": {
      "text/latex": [
       "$\\displaystyle - (f)_{x} q + (q)_{x}$"
      ],
      "text/plain": [
       "-(f)_{x}*q + (q)_{x}"
      ]
     },
     "metadata": {},
     "output_type": "display_data"
    },
    {
     "data": {
      "text/latex": [
       "$\\displaystyle (q)_{x} f$"
      ],
      "text/plain": [
       "(q)_{x}*f"
      ]
     },
     "metadata": {},
     "output_type": "display_data"
    },
    {
     "name": "stdout",
     "output_type": "stream",
     "text": [
      "\n",
      "We can also take derivatives in several directions and use coordinates\n",
      "\n"
     ]
    },
    {
     "data": {
      "text/latex": [
       "$\\displaystyle (f)_{xy} x$"
      ],
      "text/plain": [
       "(f)_{xy}*x"
      ]
     },
     "metadata": {},
     "output_type": "display_data"
    },
    {
     "data": {
      "text/latex": [
       "$\\displaystyle (f)_{xy} x y + (f)_{x} x$"
      ],
      "text/plain": [
       "(f)_{xy}*x*y + (f)_{x}*x"
      ]
     },
     "metadata": {},
     "output_type": "display_data"
    },
    {
     "name": "stdout",
     "output_type": "stream",
     "text": [
      "\n",
      "We can also consider matrix operators\n",
      "\n"
     ]
    },
    {
     "data": {
      "text/latex": [
       "$\\displaystyle \\left[\\begin{matrix}(f)_{x} + \\lambda g\\\\(g)_{x} - \\lambda f\\end{matrix}\\right]$"
      ],
      "text/plain": [
       "Matrix([\n",
       "[(f)_{x} + \\lambda*g],\n",
       "[(g)_{x} - \\lambda*f]])"
      ]
     },
     "metadata": {},
     "output_type": "display_data"
    },
    {
     "name": "stdout",
     "output_type": "stream",
     "text": [
      "\n",
      "In the computations below we don't use the full differential operator machinery (yet).\n",
      "Just taking derivatives of differentiable symbols can be done as below.\n",
      "We also demonstrate that sympy has some inbuilt functions.\n",
      "\n"
     ]
    },
    {
     "data": {
      "text/latex": [
       "$\\displaystyle (f)_{x}$"
      ],
      "text/plain": [
       "(f)_{x}"
      ]
     },
     "metadata": {},
     "output_type": "display_data"
    },
    {
     "data": {
      "text/latex": [
       "$\\displaystyle (p)_{xx}$"
      ],
      "text/plain": [
       "(p)_{xx}"
      ]
     },
     "metadata": {},
     "output_type": "display_data"
    },
    {
     "data": {
      "text/latex": [
       "$\\displaystyle (a)_{xxx} e^{a} + 2 (a)_{xx} (a)_{x} e^{a} + (a)_{x} \\left((a)_{xx} e^{a} + (a)_{x}^{2} e^{a}\\right)$"
      ],
      "text/plain": [
       "(a)_{xxx}*exp(a) + 2*(a)_{xx}*(a)_{x}*exp(a) + (a)_{x}*((a)_{xx}*exp(a) + (a)_{x}**2*exp(a))"
      ]
     },
     "metadata": {},
     "output_type": "display_data"
    },
    {
     "data": {
      "text/latex": [
       "$\\displaystyle 8 e^{2 x}$"
      ],
      "text/plain": [
       "8*exp(2*x)"
      ]
     },
     "metadata": {},
     "output_type": "display_data"
    },
    {
     "data": {
      "text/latex": [
       "$\\displaystyle (u)_{txy}$"
      ],
      "text/plain": [
       "(u)_{txy}"
      ]
     },
     "metadata": {},
     "output_type": "display_data"
    },
    {
     "data": {
      "text/latex": [
       "$\\displaystyle \\frac{3 y^{2} e^{\\frac{x}{2}}}{4}$"
      ],
      "text/plain": [
       "3*y**2*exp(x/2)/4"
      ]
     },
     "metadata": {},
     "output_type": "display_data"
    }
   ],
   "source": [
    "D.reset_symbols()\n",
    "#To use our custom calculus functionalities we need to initially define all the symbols we use.\n",
    "\n",
    "#We define directions to take derivatives in\n",
    "xx, x, yy, y, tt, t = D.create_non_diff_symbols('x', 'y', 't', real=True)\n",
    "EEps, Eps = D.create_non_diff_symbols('e', real=True)\n",
    "\n",
    "#We define some complex valued differentiable symbols\n",
    "qq, q, qq_conj, q_conj = D.create_diff_symbols('q', '\\\\tilde{q}')\n",
    "pp, p, pp_conj, p_conj = D.create_diff_symbols('p', '\\\\tilde{p}')\n",
    "ww, w, ww_conj, w_conj = D.create_diff_symbols('w', '\\\\tilde{w}')\n",
    "vv, v, vv_conj, v_conj = D.create_diff_symbols('v', '\\\\tilde{v}')\n",
    "\n",
    "#We define some real valued differential symbols\n",
    "AA, A, aa, a = D.create_diff_symbols('A', 'a', real=True)\n",
    "uu, u, aa, a, pphi, phi, ff, f, gg, g = D.create_diff_symbols('u', 'a', '\\\\phi', 'f', 'g', real=True)\n",
    "WW_plus, W_plus, WW_minus, W_minus, ww_plus, w_plus, ww_minus, w_minus = D.create_diff_symbols('W_+', 'W_-', 'w_+', 'w_-', real=True)\n",
    "qq_pm, q_pm, qq_conj_pm, q_conj_pm = D.create_non_diff_symbols('q_\\\\pm', '\\\\tilde{q}_\\pm')\n",
    "pphi_pm, phi_pm, pphi_minus, phi_minus, pphi_plus, phi_plus = D.create_non_diff_symbols('\\\\phi_\\pm', '\\\\phi_-', '\\\\phi_+', real=True)\n",
    "ssig, sig, rr, r, ssigt, sigt, rrt, rt = D.create_diff_symbols('\\\\sigma', 'r', '\\\\tilde{\\\\sigma}', '\\\\tilde{r}')\n",
    "\n",
    "#We define some simple constant symbols\n",
    "lam, z = symbols('\\\\lambda z')\n",
    "\n",
    "print('''\n",
    "Above each symbol has two variants, one with a repeated name 'xx' or 'qq', and one with a single name 'x' or 'q'.\n",
    "The symbols with the single name are commutative. The symbols with the repeated name are not commutative.\n",
    "In order to use differential operators we need non-commutative symbols. For example note that the first expression is simplified to zero\n",
    "while the second is not. We want the second behavior for differential operators, so here the 'double' symbols need to be used.\n",
    "''')\n",
    "display(simplify(D(xx) * q - q * D(xx)))\n",
    "display(simplify(D(xx) * qq - qq * D(xx)))\n",
    "\n",
    "print('''\n",
    "In order to evaluate this Differential operator as if it is being applied to the function one, we use\n",
    "''')\n",
    "display(evaluateExpr(D(xx) * qq - qq * D(xx)))\n",
    "\n",
    "print('''\n",
    "Note that outside of evaluateExpr we do not think of the expression as a differential operator anymore, instead just a function.\n",
    "There we use 'single' variable names.\n",
    "''')\n",
    "display(evaluateExpr(((D(xx) * qq - qq * D(xx) * ff))))\n",
    "display(evaluateExpr((D(xx) * qq - qq * D(xx)) * f))\n",
    "\n",
    "print('''\n",
    "We can also take derivatives in several directions and use coordinates\n",
    "''')\n",
    "display(evaluateExpr(xx * D(xx, yy) * ff))\n",
    "display(evaluateExpr(xx * D(xx, yy) * yy * ff))\n",
    "\n",
    "print('''\n",
    "We can also consider matrix operators\n",
    "''')\n",
    "M = Matrix([[D(xx), lam], [- lam, D(xx)]])\n",
    "V = Matrix([ff, gg])\n",
    "display(evaluateExpr(M * V))\n",
    "\n",
    "print('''\n",
    "In the computations below we don't use the full differential operator machinery (yet).\n",
    "Just taking derivatives of differentiable symbols can be done as below.\n",
    "We also demonstrate that sympy has some inbuilt functions.\n",
    "''')\n",
    "display(deriv(f))\n",
    "display(deriv(deriv(p)))\n",
    "display(higher_deriv(exp(a), 3))\n",
    "display(higher_deriv(exp(2 * x), 3))\n",
    "display(multi_deriv(u, [x, y, t]))\n",
    "display(multi_deriv(exp(Rational(1, 2) * x) * y**3, [x, x, y]))"
   ]
  },
  {
   "cell_type": "markdown",
   "id": "0eee2d5b",
   "metadata": {},
   "source": [
    "# Expansions - General"
   ]
  },
  {
   "cell_type": "code",
   "execution_count": 6,
   "id": "02f792bf",
   "metadata": {},
   "outputs": [],
   "source": [
    "def series_expansion(expr, x0, var, num):\n",
    "    tvar = var.subs(z, tz).subs(lam, tlam)\n",
    "    ser = complexify(series(realify(expr), x0=x0, x=tvar, n=num).removeO())\n",
    "    expansion_dict = defaultdict(lambda: 0)\n",
    "    for term in ser.as_ordered_terms():\n",
    "        powers_dict = term.as_powers_dict()\n",
    "        exponent = powers_dict.get(var, 0)\n",
    "        coefficient = term.subs(var, 1)\n",
    "        expansion_dict[exponent] += coefficient\n",
    "    if not expansion_dict:\n",
    "        return None, None\n",
    "    final_dict = dict(expansion_dict)\n",
    "    return final_dict\n",
    "\n",
    "N = 13\n",
    "\n",
    "sig_syms = D.create_diff_symbols(*[f'\\\\sigma_{{{n}}}' for n in range(0, N+1)])\n",
    "sig_syms = sig_syms[1::2]\n",
    "sig_syms = {n: sig_syms[n] for n in range(0, N+1)}\n",
    "sigt_syms = D.create_diff_symbols(*[f'\\\\tilde{{\\\\sigma_{{{n}}}}}' for n in range(0, N+1)])\n",
    "sigt_syms = sigt_syms[1::2]\n",
    "sigt_syms = {n: sigt_syms[n] for n in range(0, N+1)}\n",
    "\n",
    "r_syms = D.create_diff_symbols(*[f'r_{{{n}}}' for n in range(0, N+1)])\n",
    "r_syms = r_syms[1::2]\n",
    "r_syms = {n: r_syms[n] for n in range(0, N+1)}\n",
    "R_syms = D.create_diff_symbols(*[f'R_{{{n}}}' for n in range(0, N+1)])\n",
    "R_syms = R_syms[1::2]\n",
    "R_syms = {n: R_syms[n] for n in range(0, N+1)}\n",
    "rt_syms = D.create_diff_symbols(*[f'\\\\tilde{{r_{{{n}}}}}' for n in range(0, N+1)])\n",
    "rt_syms = rt_syms[1::2]\n",
    "rt_syms = {n: rt_syms[n] for n in range(0, N+1)}\n"
   ]
  },
  {
   "cell_type": "markdown",
   "id": "565f978b",
   "metadata": {},
   "source": [
    "# Expansions - NLS"
   ]
  },
  {
   "cell_type": "code",
   "execution_count": 7,
   "id": "10a854fa",
   "metadata": {},
   "outputs": [
    {
     "name": "stdout",
     "output_type": "stream",
     "text": [
      "n = 1\n",
      "n = 2\n",
      "n = 3\n",
      "n = 4\n",
      "n = 5\n",
      "n = 6\n",
      "n = 7\n",
      "n = 8\n",
      "n = 9\n",
      "n = 10\n",
      "n = 11\n",
      "n = 12\n"
     ]
    }
   ],
   "source": [
    "sig_eq_NLS_defocusing = [sig_syms[n] for n in range(N+1)]\n",
    "sig_eq_NLS_focusing = [sig_syms[n] for n in range(N+1)]\n",
    "sig_eq_GP_defocusing = [sig_syms[n] for n in range(N+1)]\n",
    "sig_eq_GP_focusing = [sig_syms[n] for n in range(N+1)]\n",
    "\n",
    "sig_eq_NLS_defocusing[0] = 0\n",
    "sig_eq_NLS_defocusing[1] = - q * q_conj\n",
    "sig_eq_NLS_focusing[0] = 0\n",
    "sig_eq_NLS_focusing[1] = q * q_conj\n",
    "sig_eq_GP_defocusing[0] = 0\n",
    "sig_eq_GP_defocusing[1] = 1 - q * q_conj\n",
    "\n",
    "\n",
    "for n in range(1, N):\n",
    "    print(\"n =\", n)\n",
    "    X = q * deriv(sig_eq_NLS_defocusing[n] / q)\n",
    "    for k in range(0, n + 1):\n",
    "        X += sig_eq_NLS_defocusing[k] * sig_eq_NLS_defocusing[n-k]\n",
    "    sig_eq_NLS_defocusing[n+1] = simplify(X)\n",
    "\n",
    "    X = q * deriv(sig_eq_NLS_focusing[n] / q)\n",
    "    for k in range(0, n + 1):\n",
    "        X += sig_eq_NLS_focusing[k] * sig_eq_NLS_focusing[n-k]\n",
    "    sig_eq_NLS_focusing[n+1] = simplify(X)"
   ]
  },
  {
   "cell_type": "code",
   "execution_count": 8,
   "id": "176930fd",
   "metadata": {},
   "outputs": [],
   "source": [
    "for n in range(N+1):\n",
    "    nn = n // 2\n",
    "    if n % 2 == 0:\n",
    "        sig_eq_GP_defocusing[2*nn] = 0\n",
    "        for m in range(nn+1):\n",
    "            sig_eq_GP_defocusing[2*nn] += binomial(nn-1, nn-m) * 4**(nn-m) * sig_eq_NLS_defocusing[2*m]\n",
    "    else:\n",
    "        sig_eq_GP_defocusing[2*nn+1] = 0\n",
    "        for m in range(nn+1):\n",
    "            sig_eq_GP_defocusing[2*nn+1] += binomial(nn-Rational(1,2), nn-m) * 4**(nn-m) * sig_eq_NLS_defocusing[2*m+1]\n",
    "        sig_eq_GP_defocusing[2*nn+1] += catalan(nn)\n"
   ]
  },
  {
   "cell_type": "code",
   "execution_count": 11,
   "id": "a68d4687",
   "metadata": {},
   "outputs": [
    {
     "data": {
      "text/plain": [
       "[(q, q),\n",
       " (\\tilde{q}, \\tilde{q}),\n",
       " (p, p),\n",
       " (\\tilde{p}, \\tilde{p}),\n",
       " (w, w),\n",
       " (\\tilde{w}, \\tilde{w}),\n",
       " (v, v),\n",
       " (\\tilde{v}, \\tilde{v}),\n",
       " (A, A),\n",
       " (a, a),\n",
       " (u, u),\n",
       " (\\phi, \\phi),\n",
       " (f, f),\n",
       " (g, g),\n",
       " (W_+, W_+),\n",
       " (W_-, W_-),\n",
       " (w_+, w_+),\n",
       " (w_-, w_-),\n",
       " (\\sigma, \\sigma),\n",
       " (r, r),\n",
       " (\\tilde{\\sigma}, \\tilde{\\sigma}),\n",
       " (\\tilde{r}, \\tilde{r}),\n",
       " ((q)_{x}, (q)_{x}),\n",
       " ((q)_{x}, (f)_{x}),\n",
       " ((f)_{x}, (f)_{xy}),\n",
       " ((f)_{xy}, (g)_{x}),\n",
       " ((g)_{x}, (p)_{x}),\n",
       " ((p)_{x}, (p)_{xx}),\n",
       " ((p)_{xx}, (a)_{x}),\n",
       " ((a)_{x}, (a)_{xx}),\n",
       " ((a)_{xx}, (a)_{xxx}),\n",
       " ((a)_{xxx}, (u)_{x}),\n",
       " ((u)_{x}, (u)_{xy}),\n",
       " ((u)_{xy}, (u)_{txy}),\n",
       " ((u)_{txy}, \\sigma_{0}),\n",
       " (\\sigma_{0}, \\sigma_{1}),\n",
       " (\\sigma_{1}, \\sigma_{2}),\n",
       " (\\sigma_{2}, \\sigma_{3}),\n",
       " (\\sigma_{3}, \\sigma_{4}),\n",
       " (\\sigma_{4}, \\sigma_{5}),\n",
       " (\\sigma_{5}, \\sigma_{6}),\n",
       " (\\sigma_{6}, \\sigma_{7}),\n",
       " (\\sigma_{7}, \\sigma_{8}),\n",
       " (\\sigma_{8}, \\sigma_{9}),\n",
       " (\\sigma_{9}, \\sigma_{10}),\n",
       " (\\sigma_{10}, \\sigma_{11}),\n",
       " (\\sigma_{11}, \\sigma_{12}),\n",
       " (\\sigma_{12}, \\sigma_{13}),\n",
       " (\\sigma_{13}, \\tilde{\\sigma_{0}}),\n",
       " (\\tilde{\\sigma_{0}}, \\tilde{\\sigma_{1}}),\n",
       " (\\tilde{\\sigma_{1}}, \\tilde{\\sigma_{2}}),\n",
       " (\\tilde{\\sigma_{2}}, \\tilde{\\sigma_{3}}),\n",
       " (\\tilde{\\sigma_{3}}, \\tilde{\\sigma_{4}}),\n",
       " (\\tilde{\\sigma_{4}}, \\tilde{\\sigma_{5}}),\n",
       " (\\tilde{\\sigma_{5}}, \\tilde{\\sigma_{6}}),\n",
       " (\\tilde{\\sigma_{6}}, \\tilde{\\sigma_{7}}),\n",
       " (\\tilde{\\sigma_{7}}, \\tilde{\\sigma_{8}}),\n",
       " (\\tilde{\\sigma_{8}}, \\tilde{\\sigma_{9}}),\n",
       " (\\tilde{\\sigma_{9}}, \\tilde{\\sigma_{10}}),\n",
       " (\\tilde{\\sigma_{10}}, \\tilde{\\sigma_{11}}),\n",
       " (\\tilde{\\sigma_{11}}, \\tilde{\\sigma_{12}}),\n",
       " (\\tilde{\\sigma_{12}}, \\tilde{\\sigma_{13}}),\n",
       " (\\tilde{\\sigma_{13}}, r_{0}),\n",
       " (r_{0}, r_{1}),\n",
       " (r_{1}, r_{2}),\n",
       " (r_{2}, r_{3}),\n",
       " (r_{3}, r_{4}),\n",
       " (r_{4}, r_{5}),\n",
       " (r_{5}, r_{6}),\n",
       " (r_{6}, r_{7}),\n",
       " (r_{7}, r_{8}),\n",
       " (r_{8}, r_{9}),\n",
       " (r_{9}, r_{10}),\n",
       " (r_{10}, r_{11}),\n",
       " (r_{11}, r_{12}),\n",
       " (r_{12}, r_{13}),\n",
       " (r_{13}, R_{0}),\n",
       " (R_{0}, R_{1}),\n",
       " (R_{1}, R_{2}),\n",
       " (R_{2}, R_{3}),\n",
       " (R_{3}, R_{4}),\n",
       " (R_{4}, R_{5}),\n",
       " (R_{5}, R_{6}),\n",
       " (R_{6}, R_{7}),\n",
       " (R_{7}, R_{8}),\n",
       " (R_{8}, R_{9}),\n",
       " (R_{9}, R_{10}),\n",
       " (R_{10}, R_{11}),\n",
       " (R_{11}, R_{12}),\n",
       " (R_{12}, R_{13}),\n",
       " (R_{13}, \\tilde{r_{0}}),\n",
       " (\\tilde{r_{0}}, \\tilde{r_{1}}),\n",
       " (\\tilde{r_{1}}, \\tilde{r_{2}}),\n",
       " (\\tilde{r_{2}}, \\tilde{r_{3}}),\n",
       " (\\tilde{r_{3}}, \\tilde{r_{4}}),\n",
       " (\\tilde{r_{4}}, \\tilde{r_{5}}),\n",
       " (\\tilde{r_{5}}, \\tilde{r_{6}}),\n",
       " (\\tilde{r_{6}}, \\tilde{r_{7}}),\n",
       " (\\tilde{r_{7}}, \\tilde{r_{8}}),\n",
       " (\\tilde{r_{8}}, \\tilde{r_{9}}),\n",
       " (\\tilde{r_{9}}, \\tilde{r_{10}}),\n",
       " (\\tilde{r_{10}}, \\tilde{r_{11}}),\n",
       " (\\tilde{r_{11}}, \\tilde{r_{12}}),\n",
       " (\\tilde{r_{12}}, \\tilde{r_{13}}),\n",
       " (\\tilde{r_{13}}, (\\tilde{q})_{x}),\n",
       " ((\\tilde{q})_{x}, (\\tilde{q})_{xx}),\n",
       " ((\\tilde{q})_{xx}, (\\tilde{q})_{xxx}),\n",
       " ((\\tilde{q})_{xxx}, (\\tilde{q})_{xxxx}),\n",
       " ((\\tilde{q})_{xxxx}, (q)_{xx}),\n",
       " ((q)_{xx}, (q)_{xxx}),\n",
       " ((q)_{xxx}, (\\tilde{q})_{xxxxx}),\n",
       " ((\\tilde{q})_{xxxxx}, (q)_{xxxx}),\n",
       " ((q)_{xxxx}, (\\tilde{q})_{xxxxxx}),\n",
       " ((\\tilde{q})_{xxxxxx}, (q)_{xxxxx}),\n",
       " ((q)_{xxxxx}, (\\tilde{q})_{xxxxxxx}),\n",
       " ((\\tilde{q})_{xxxxxxx}, (\\tilde{q})_{xxxxxxxx}),\n",
       " ((\\tilde{q})_{xxxxxxxx}, (q)_{xxxxxx}),\n",
       " ((q)_{xxxxxx}, (\\tilde{q})_{xxxxxxxxx}),\n",
       " ((\\tilde{q})_{xxxxxxxxx}, (q)_{xxxxxxx}),\n",
       " ((q)_{xxxxxxx}, (\\tilde{q})_{xxxxxxxxxx}),\n",
       " ((\\tilde{q})_{xxxxxxxxxx}, (q)_{xxxxxxxx}),\n",
       " ((q)_{xxxxxxxx}, (\\tilde{q})_{xxxxxxxxxxx}),\n",
       " ((\\tilde{q})_{xxxxxxxxxxx}, (q)_{xxxxxxxxx}),\n",
       " ((q)_{xxxxxxxxx}, (\\tilde{q})_{xxxxxxxxxxxx}),\n",
       " ((\\tilde{q})_{xxxxxxxxxxxx}, (q)_{xxxxxxxxxx}),\n",
       " ((q)_{xxxxxxxxxx}, (w)_{x}),\n",
       " ((w)_{x}, (w)_{xx}),\n",
       " ((w)_{xx}, (\\tilde{w})_{x}),\n",
       " ((\\tilde{w})_{x}, (\\tilde{w})_{xx}),\n",
       " ((\\tilde{w})_{xx}, (\\tilde{p})_{x}),\n",
       " ((\\tilde{p})_{x}, (\\tilde{p})_{xx}),\n",
       " ((\\tilde{p})_{xx}, (f)_{xx}),\n",
       " ((f)_{xx}, (w)_{xxx}),\n",
       " ((w)_{xxx}, (w)_{xxxx}),\n",
       " ((w)_{xxxx}, (\\tilde{p})_{xxx}),\n",
       " ((\\tilde{p})_{xxx}, (f)_{xxx}),\n",
       " ((f)_{xxx}, (\\tilde{p})_{xxxx}),\n",
       " ((\\tilde{p})_{xxxx}, (f)_{xxxx}),\n",
       " ((f)_{xxxx}, (w)_{xxxxx}),\n",
       " ((w)_{xxxxx}, (\\tilde{w})_{xxx}),\n",
       " ((\\tilde{w})_{xxx}, (\\tilde{p})_{xxxxx}),\n",
       " ((\\tilde{p})_{xxxxx}, (f)_{xxxxx})]"
      ]
     },
     "metadata": {},
     "output_type": "display_data"
    }
   ],
   "source": [
    "display(list(zip(D.diff_symbols, D.diff_symbols_nc)))"
   ]
  },
  {
   "cell_type": "code",
   "execution_count": 10,
   "id": "7fe7755a",
   "metadata": {},
   "outputs": [
    {
     "name": "stdout",
     "output_type": "stream",
     "text": [
      "-----0-----\n"
     ]
    },
    {
     "data": {
      "text/latex": [
       "$\\displaystyle 0$"
      ],
      "text/plain": [
       "0"
      ]
     },
     "metadata": {},
     "output_type": "display_data"
    },
    {
     "name": "stdout",
     "output_type": "stream",
     "text": [
      "-----1-----\n"
     ]
    },
    {
     "data": {
      "text/latex": [
       "$\\displaystyle f w$"
      ],
      "text/plain": [
       "f*w"
      ]
     },
     "metadata": {},
     "output_type": "display_data"
    },
    {
     "name": "stdout",
     "output_type": "stream",
     "text": [
      "-----2-----\n"
     ]
    },
    {
     "data": {
      "text/latex": [
       "$\\displaystyle 0 = 0$"
      ],
      "text/plain": [
       "Eq(0, 0)"
      ]
     },
     "metadata": {},
     "output_type": "display_data"
    },
    {
     "data": {
      "text/latex": [
       "$\\displaystyle 0 = 0$"
      ],
      "text/plain": [
       "Eq(0, 0)"
      ]
     },
     "metadata": {},
     "output_type": "display_data"
    },
    {
     "data": {
      "text/latex": [
       "$\\displaystyle 0 = 0$"
      ],
      "text/plain": [
       "Eq(0, 0)"
      ]
     },
     "metadata": {},
     "output_type": "display_data"
    },
    {
     "data": {
      "text/latex": [
       "$\\displaystyle - (w)_{x} \\left(f + w\\right)$"
      ],
      "text/plain": [
       "-(w)_{x}*(f + w)"
      ]
     },
     "metadata": {},
     "output_type": "display_data"
    },
    {
     "name": "stdout",
     "output_type": "stream",
     "text": [
      "-----3-----\n"
     ]
    },
    {
     "data": {
      "text/latex": [
       "$\\displaystyle 0 = 0$"
      ],
      "text/plain": [
       "Eq(0, 0)"
      ]
     },
     "metadata": {},
     "output_type": "display_data"
    },
    {
     "data": {
      "text/latex": [
       "$\\displaystyle 0 = 0$"
      ],
      "text/plain": [
       "Eq(0, 0)"
      ]
     },
     "metadata": {},
     "output_type": "display_data"
    },
    {
     "data": {
      "text/latex": [
       "$\\displaystyle 0 = 0$"
      ],
      "text/plain": [
       "Eq(0, 0)"
      ]
     },
     "metadata": {},
     "output_type": "display_data"
    },
    {
     "data": {
      "text/latex": [
       "$\\displaystyle (\\tilde{p})_{xx} w + 2 (w)_{x}^{2} + 2 f w^{3} - 12 f w \\left((w)_{x}^{2} - w^{4}\\right)$"
      ],
      "text/plain": [
       "(\\tilde{p})_{xx}*w + 2*(w)_{x}**2 + 2*f*w**3 - 12*f*w*((w)_{x}**2 - w**4)"
      ]
     },
     "metadata": {},
     "output_type": "display_data"
    },
    {
     "name": "stdout",
     "output_type": "stream",
     "text": [
      "-----4-----\n"
     ]
    },
    {
     "data": {
      "text/latex": [
       "$\\displaystyle 0 = \\tilde{q}^{2} q \\left((q)_{x} - (q)_{x}\\right)$"
      ],
      "text/plain": [
       "Eq(0, \\tilde{q}**2*q*((q)_{x} - (q)_{x}))"
      ]
     },
     "metadata": {},
     "output_type": "display_data"
    },
    {
     "data": {
      "text/latex": [
       "$\\displaystyle 0 = 2 f q \\left((\\tilde{q})_{x} q + (q)_{x} \\tilde{q} - (q)_{x} \\tilde{q} - \\tilde{r_{13}} q\\right)$"
      ],
      "text/plain": [
       "Eq(0, 2*f*q*((\\tilde{q})_{x}*q + (q)_{x}*\\tilde{q} - (q)_{x}*\\tilde{q} - \\tilde{r_{13}}*q))"
      ]
     },
     "metadata": {},
     "output_type": "display_data"
    },
    {
     "data": {
      "text/latex": [
       "$\\displaystyle 0 = 2 f q \\left((\\tilde{q})_{x} q + (q)_{x} \\tilde{q} - (q)_{x} \\tilde{q} - \\tilde{r_{13}} q\\right)$"
      ],
      "text/plain": [
       "Eq(0, 2*f*q*((\\tilde{q})_{x}*q + (q)_{x}*\\tilde{q} - (q)_{x}*\\tilde{q} - \\tilde{r_{13}}*q))"
      ]
     },
     "metadata": {},
     "output_type": "display_data"
    },
    {
     "data": {
      "text/latex": [
       "$\\displaystyle - (\\tilde{p})_{xxx} w - 3 (\\tilde{p})_{xx} (w)_{x} - 2 (w)_{x} f w^{2} - 4 (w)_{x} w^{3} + 36 (w)_{x} w \\left((w)_{x}^{2} - w^{4}\\right) - 4 \\tilde{r_{13}} f w^{2} + 2 f w^{3}$"
      ],
      "text/plain": [
       "-(\\tilde{p})_{xxx}*w - 3*(\\tilde{p})_{xx}*(w)_{x} - 2*(w)_{x}*f*w**2 - 4*(w)_{x}*w**3 + 36*(w)_{x}*w*((w)_{x}**2 - w**4) - 4*\\tilde{r_{13}}*f*w**2 + 2*f*w**3"
      ]
     },
     "metadata": {},
     "output_type": "display_data"
    },
    {
     "name": "stdout",
     "output_type": "stream",
     "text": [
      "-----5-----\n"
     ]
    },
    {
     "data": {
      "text/latex": [
       "$\\displaystyle 0 = 4 (\\tilde{q})_{x} \\tilde{q} q \\left((q)_{x} - (q)_{x}\\right)$"
      ],
      "text/plain": [
       "Eq(0, 4*(\\tilde{q})_{x}*\\tilde{q}*q*((q)_{x} - (q)_{x}))"
      ]
     },
     "metadata": {},
     "output_type": "display_data"
    },
    {
     "data": {
      "text/latex": [
       "$\\displaystyle 0 = 2 q \\left(- (\\tilde{p})_{xx} \\tilde{q} f + 3 (\\tilde{q})_{x} (q)_{x} f + 2 (\\tilde{q})_{x} (q)_{x} q - 2 (\\tilde{q})_{x} (q)_{x} f + (q)_{xx} \\tilde{q} f + 2 (q)_{x}^{2} \\tilde{q} - 2 (q)_{x} (q)_{x} \\tilde{q} - (q)_{x} \\tilde{r_{13}} f - 2 (q)_{x} \\tilde{r_{13}} q\\right)$"
      ],
      "text/plain": [
       "Eq(0, 2*q*(-(\\tilde{p})_{xx}*\\tilde{q}*f + 3*(\\tilde{q})_{x}*(q)_{x}*f + 2*(\\tilde{q})_{x}*(q)_{x}*q - 2*(\\tilde{q})_{x}*(q)_{x}*f + (q)_{xx}*\\tilde{q}*f + 2*(q)_{x}**2*\\tilde{q} - 2*(q)_{x}*(q)_{x}*\\tilde{q} - (q)_{x}*\\tilde{r_{13}}*f - 2*(q)_{x}*\\tilde{r_{13}}*q))"
      ]
     },
     "metadata": {},
     "output_type": "display_data"
    },
    {
     "data": {
      "text/latex": [
       "$\\displaystyle 0 = - 6 (\\tilde{p})_{xx} \\tilde{q} f q + 4 (\\tilde{q})_{xxxx} \\tilde{q} f q - 4 (\\tilde{q})_{xx} f q^{2} + 6 (\\tilde{q})_{x} (q)_{x} f q - 4 (\\tilde{q})_{x} (q)_{x} q^{2} - 12 (\\tilde{q})_{x} (q)_{x} f q + 4 (\\tilde{q})_{x} f q^{2} + 2 (q)_{xx} \\tilde{q} f q - 4 (q)_{x}^{2} \\tilde{q} q - 4 (q)_{x} (q)_{x} \\tilde{q} f + 4 (q)_{x} (q)_{x} \\tilde{q} q - 6 (q)_{x} \\tilde{r_{13}} f q + 4 (q)_{x} \\tilde{r_{13}} q^{2} + 4 (q)_{x}^{2} \\tilde{q} f + 12 (q)_{x} \\tilde{r_{13}} f q$"
      ],
      "text/plain": [
       "Eq(0, -6*(\\tilde{p})_{xx}*\\tilde{q}*f*q + 4*(\\tilde{q})_{xxxx}*\\tilde{q}*f*q - 4*(\\tilde{q})_{xx}*f*q**2 + 6*(\\tilde{q})_{x}*(q)_{x}*f*q - 4*(\\tilde{q})_{x}*(q)_{x}*q**2 - 12*(\\tilde{q})_{x}*(q)_{x}*f*q + 4*(\\tilde{q})_{x}*f*q**2 + 2*(q)_{xx}*\\tilde{q}*f*q - 4*(q)_{x}**2*\\tilde{q}*q - 4*(q)_{x}*(q)_{x}*\\tilde{q}*f + 4*(q)_{x}*(q)_{x}*\\tilde{q}*q - 6*(q)_{x}*\\tilde{r_{13}}*f*q + 4*(q)_{x}*\\tilde{r_{13}}*q**2 + 4*(q)_{x}**2*\\tilde{q}*f + 12*(q)_{x}*\\tilde{r_{13}}*f*q)"
      ]
     },
     "metadata": {},
     "output_type": "display_data"
    },
    {
     "data": {
      "text/latex": [
       "$\\displaystyle (\\tilde{p})_{xxxx} w + 4 (\\tilde{p})_{xxx} (w)_{x} - 6 (\\tilde{p})_{xx} f w^{2} + 6 (\\tilde{p})_{xx} w^{3} - 72 (\\tilde{p})_{xx} w \\left((w)_{x}^{2} - w^{4}\\right) - 8 (w)_{x}^{2} f w + 8 (w)_{x}^{2} w^{2} + 18 (w)_{x} \\tilde{r_{13}} f w + 12 (w)_{x} \\tilde{r_{13}} w^{2} + 6 (w)_{x} f w^{2} - 12 (w)_{x} f \\left((w)_{x}^{2} - 9 w^{4}\\right) - 8 (w)_{x} w^{3} + 10 f w^{5} - 144 f w^{3} \\left((w)_{x}^{2} - w^{4}\\right)$"
      ],
      "text/plain": [
       "(\\tilde{p})_{xxxx}*w + 4*(\\tilde{p})_{xxx}*(w)_{x} - 6*(\\tilde{p})_{xx}*f*w**2 + 6*(\\tilde{p})_{xx}*w**3 - 72*(\\tilde{p})_{xx}*w*((w)_{x}**2 - w**4) - 8*(w)_{x}**2*f*w + 8*(w)_{x}**2*w**2 + 18*(w)_{x}*\\tilde{r_{13}}*f*w + 12*(w)_{x}*\\tilde{r_{13}}*w**2 + 6*(w)_{x}*f*w**2 - 12*(w)_{x}*f*((w)_{x}**2 - 9*w**4) - 8*(w)_{x}*w**3 + 10*f*w**5 - 144*f*w**3*((w)_{x}**2 - w**4)"
      ]
     },
     "metadata": {},
     "output_type": "display_data"
    },
    {
     "name": "stdout",
     "output_type": "stream",
     "text": [
      "-----6-----\n"
     ]
    },
    {
     "data": {
      "text/latex": [
       "$\\displaystyle 0 = q \\left(6 (\\tilde{q})_{xx} (q)_{x} \\tilde{q} - 6 (\\tilde{q})_{xx} (q)_{x} \\tilde{q} + 5 (\\tilde{q})_{x}^{2} (q)_{x} - 5 (\\tilde{q})_{x}^{2} (q)_{x} + 4 (q)_{x} \\tilde{q}^{3} q - 4 (q)_{x} \\tilde{q}^{3} q\\right)$"
      ],
      "text/plain": [
       "Eq(0, q*(6*(\\tilde{q})_{xx}*(q)_{x}*\\tilde{q} - 6*(\\tilde{q})_{xx}*(q)_{x}*\\tilde{q} + 5*(\\tilde{q})_{x}**2*(q)_{x} - 5*(\\tilde{q})_{x}**2*(q)_{x} + 4*(q)_{x}*\\tilde{q}**3*q - 4*(q)_{x}*\\tilde{q}**3*q))"
      ]
     },
     "metadata": {},
     "output_type": "display_data"
    },
    {
     "data": {
      "text/latex": [
       "$\\displaystyle 0 = 2 q \\left(- 3 (\\tilde{p})_{xx} (\\tilde{q})_{x} f + 3 (\\tilde{p})_{xx} (\\tilde{q})_{x} q - 3 (\\tilde{p})_{xx} (q)_{x} \\tilde{q} - 3 (\\tilde{p})_{xx} \\tilde{r_{13}} q - (\\tilde{q})_{xxxxx} \\tilde{q} f + 3 (\\tilde{q})_{xx} (q)_{x} f - 3 (\\tilde{q})_{xx} (q)_{x} f + 4 (\\tilde{q})_{x} (q)_{xx} f + 8 (\\tilde{q})_{x} (q)_{x}^{2} - 5 (\\tilde{q})_{x} (q)_{x} (q)_{x} + 6 (\\tilde{q})_{x} \\tilde{q} f q^{2} + (q)_{xxx} \\tilde{q} f + 3 (q)_{xx} (q)_{x} \\tilde{q} - (q)_{xx} \\tilde{r_{13}} f - 3 (q)_{x}^{2} \\tilde{r_{13}} + 6 (q)_{x} \\tilde{q}^{2} f q - 6 (q)_{x} \\tilde{q}^{2} f q - 6 \\tilde{q} \\tilde{r_{13}} f q^{2}\\right)$"
      ],
      "text/plain": [
       "Eq(0, 2*q*(-3*(\\tilde{p})_{xx}*(\\tilde{q})_{x}*f + 3*(\\tilde{p})_{xx}*(\\tilde{q})_{x}*q - 3*(\\tilde{p})_{xx}*(q)_{x}*\\tilde{q} - 3*(\\tilde{p})_{xx}*\\tilde{r_{13}}*q - (\\tilde{q})_{xxxxx}*\\tilde{q}*f + 3*(\\tilde{q})_{xx}*(q)_{x}*f - 3*(\\tilde{q})_{xx}*(q)_{x}*f + 4*(\\tilde{q})_{x}*(q)_{xx}*f + 8*(\\tilde{q})_{x}*(q)_{x}**2 - 5*(\\tilde{q})_{x}*(q)_{x}*(q)_{x} + 6*(\\tilde{q})_{x}*\\tilde{q}*f*q**2 + (q)_{xxx}*\\tilde{q}*f + 3*(q)_{xx}*(q)_{x}*\\tilde{q} - (q)_{xx}*\\tilde{r_{13}}*f - 3*(q)_{x}**2*\\tilde{r_{13}} + 6*(q)_{x}*\\tilde{q}**2*f*q - 6*(q)_{x}*\\tilde{q}**2*f*q - 6*\\tilde{q}*\\tilde{r_{13}}*f*q**2))"
      ]
     },
     "metadata": {},
     "output_type": "display_data"
    },
    {
     "name": "stderr",
     "output_type": "stream",
     "text": [
      "\n",
      "KeyboardInterrupt\n",
      "\n"
     ]
    }
   ],
   "source": [
    "subs_list_NLS_focusing = [\n",
    "    (higher_deriv(w, 2), - 2 * w**2 * w_conj),\n",
    "    (higher_deriv(w_conj, 2), - 2 * w_conj**2 * w),\n",
    "    (w_conj, w)\n",
    "]\n",
    "subs_list_NLS_alt_focusing = [\n",
    "    (higher_deriv(w, 2), - 2 * w**2 * w_conj),\n",
    "    (higher_deriv(w_conj, 2), - 2 * w_conj**2 * w),\n",
    "    (w_conj, w),\n",
    "    (deriv(w)**2, Eps**2 - w**4)\n",
    "]\n",
    "ops = []\n",
    "ops_adjoint = []\n",
    "for n in range(0, N+1):\n",
    "    print(f\"-----{n}-----\")\n",
    "    op = operator_from_linear(func_deriv(sig_eq_NLS_focusing[n], q_conj, p_conj), p_conj)\n",
    "    ops.append(op)\n",
    "    op_adjoint = operator_adjoint(op)\n",
    "    ops_adjoint.append(op_adjoint)\n",
    "    if n > 1:\n",
    "        X = sig_eq_NLS_focusing[n]\n",
    "        X -= deriv(sig_eq_NLS_focusing[n-1]) - deriv(q) / q * sig_eq_NLS_focusing[n-1]\n",
    "        for k in range(n):\n",
    "            X -= sig_eq_NLS_focusing[k] * sig_eq_NLS_focusing[n-1-k]\n",
    "        display(Equ(0, simplify(X)))\n",
    "        \n",
    "        Y = op\n",
    "        Y -= D(xx) * operator_from_linear(func_deriv(sig_eq_NLS_focusing[n-1], q_conj, p_conj), p_conj)\n",
    "        Y -= - deriv(qq) / qq  * ops[n-1]\n",
    "        for k in range(n):\n",
    "            Y -= D.comm_to_non_comm(sig_eq_NLS_focusing[k]) * ops[n-1-k]\n",
    "            Y -= D.comm_to_non_comm(sig_eq_NLS_focusing[n-1-k]) * ops[k]\n",
    "        display(Equ(0, simplify(evaluateExpr(Y * ff))))\n",
    "        \n",
    "        Z = ops_adjoint[n]\n",
    "        Z -= - operator_adjoint(operator_from_linear(func_deriv(sig_eq_NLS_focusing[n-1], q_conj, p_conj), p_conj)) * D(xx)\n",
    "        Z -= - ops_adjoint[n-1] * deriv(qq) / qq\n",
    "        for k in range(n):\n",
    "            Z -= ops_adjoint[n-1-k] * D.comm_to_non_comm(sig_eq_NLS_focusing[k])\n",
    "            Z -= ops_adjoint[k] * D.comm_to_non_comm(sig_eq_NLS_focusing[n-1-k])\n",
    "        display(Equ(0, simplify(evaluateExpr(Z * ff))))\n",
    "                \n",
    "    display(\n",
    "        simplify(subs(\n",
    "        simplify(subs(\n",
    "        subs(evaluateExpr(op_adjoint * ff), [(q, w), (q_conj, w)])\n",
    "        , subs_list_NLS_focusing * 5))\n",
    "        , subs_list_NLS_focusing * 5))\n",
    "    )"
   ]
  },
  {
   "cell_type": "code",
   "execution_count": null,
   "id": "022a460e",
   "metadata": {},
   "outputs": [],
   "source": [
    "for n in range(1, min(N, 8)+1):\n",
    "    X = func_deriv(sig_eq_NLS_focusing[n+1], q_conj, p_conj)\n",
    "    X -= - deriv(q) / q * func_deriv(sig_eq_NLS_focusing[n], q_conj, p_conj)\n",
    "    for k in range(n+1):\n",
    "        X -= 2 * sig_eq_NLS_focusing[k] * func_deriv(sig_eq_NLS_focusing[n-k], q_conj, p_conj)\n",
    "    X = simplify(X)\n",
    "    print(f\"---{n}---\")\n",
    "    display(simplify(integrate_by_parts(simplify(X), [p_conj]) / p_conj))"
   ]
  },
  {
   "cell_type": "code",
   "execution_count": null,
   "id": "06e587dc",
   "metadata": {},
   "outputs": [],
   "source": [
    "display(simplify(2*deriv(q) * deriv(deriv(q) / q) * f + q * deriv(deriv(deriv(q) / q) * f)))"
   ]
  },
  {
   "cell_type": "code",
   "execution_count": null,
   "id": "16720165",
   "metadata": {},
   "outputs": [],
   "source": [
    "subs_list_NLS_focusing = [\n",
    "    (higher_deriv(w, 2), - 2 * w**2 * w_conj),\n",
    "    (higher_deriv(w_conj, 2), - 2 * w_conj**2 * w),\n",
    "    (w_conj, w)\n",
    "]\n",
    "subs_list_NLS_alt_focusing = [\n",
    "    (higher_deriv(w, 2), - 2 * w**2 * w_conj),\n",
    "    (higher_deriv(w_conj, 2), - 2 * w_conj**2 * w),\n",
    "    (w_conj, w),\n",
    "    (deriv(w)**2, Eps**2 - w**4)\n",
    "]\n",
    "\n",
    "for n in range(0, min(N, 80)+1):\n",
    "    #expr2 = simplify(subs(stationary_NLS_focusing[n], [(q, w), (q_conj, w)])).expand()\n",
    "    expr2 = simplify(subs(simplify(integrate_by_parts(func_deriv(\n",
    "        sig_eq_NLS_focusing[n], q_conj, p_conj), [p_conj]) / p_conj), [(q, w), (q_conj, w)]))\n",
    "    display(Equ(sig_syms[n], expr2.expand() if hasattr(expr2, 'expand') else expr2))\n",
    "    display(Equ(sig_syms[n], \n",
    "            \n",
    "        simplify(subs(\n",
    "        simplify(subs(\n",
    "        simplify(subs(\n",
    "            deriv(1 / w * expr2)\n",
    "        , subs_list_NLS_alt_focusing * 5))\n",
    "        , subs_list_NLS_alt_focusing * 5))\n",
    "        , subs_list_NLS_alt_focusing * 5))\n",
    "    ))\n",
    "    display(Equ(sig_syms[n], \n",
    "        simplify(subs(\n",
    "        simplify(subs(\n",
    "        simplify(subs(\n",
    "            deriv(1 / deriv(w) * expr2)\n",
    "        , subs_list_NLS_alt_focusing * 5))\n",
    "        , subs_list_NLS_alt_focusing * 5))\n",
    "        , subs_list_NLS_alt_focusing * 5))\n",
    "    ))"
   ]
  },
  {
   "cell_type": "code",
   "execution_count": null,
   "id": "5c4058c2",
   "metadata": {},
   "outputs": [],
   "source": [
    "for n in range(2, min(N, 80)+1):\n",
    "    expr2 = simplify(subs(stationary_NLS_focusing[n], [(q, w), (q_conj, w)])).expand()\n",
    "    display(Equ(sig_syms[n], expr2.expand() if hasattr(expr2, 'expand') else expr2))\n",
    "    display(Equ(sig_syms[n], \n",
    "        simplify(subs(\n",
    "        simplify(subs(\n",
    "        simplify(subs(\n",
    "            deriv(1 / w * stationary_NLS_focusing[n-1])\n",
    "        , subs_list_NLS_alt_focusing * 5))\n",
    "        , subs_list_NLS_alt_focusing * 5))\n",
    "        , subs_list_NLS_alt_focusing * 5))\n",
    "    ))\n",
    "    display(Equ(sig_syms[n], \n",
    "        simplify(subs(\n",
    "        simplify(subs(\n",
    "        simplify(subs(\n",
    "            deriv(1 / deriv(w) * stationary_NLS_focusing[n-1])\n",
    "        , subs_list_NLS_alt_focusing * 5))\n",
    "        , subs_list_NLS_alt_focusing * 5))\n",
    "        , subs_list_NLS_alt_focusing * 5))\n",
    "    ))"
   ]
  },
  {
   "cell_type": "code",
   "execution_count": null,
   "id": "4c233355",
   "metadata": {},
   "outputs": [],
   "source": [
    "for n in range(min(N, 8)+1):\n",
    "    expr1 = sig_eq_NLS_focusing[n]\n",
    "    expr2 = sig_eq_NLS_defocusing[n]\n",
    "    expr3 = sig_eq_GP_defocusing[n]\n",
    "    display(Equ(sig_syms[n], expr1.expand() if hasattr(expr1, 'expand') else expr1))\n",
    "    #display(Equ(sig_syms[n], expr2.expand() if hasattr(expr2, 'expand') else expr2))\n",
    "    #display(Equ(sig_syms[n], expr3.expand() if hasattr(expr3, 'expand') else expr3))"
   ]
  },
  {
   "cell_type": "code",
   "execution_count": null,
   "id": "a9fe16d0",
   "metadata": {},
   "outputs": [],
   "source": [
    "H_NLS_focusing = {n-1: - (-I)**(n-1) * e for n, e in enumerate(sig_eq_NLS_focusing)}\n",
    "H_NLS_defocusing = {n-1: - (-I)**(n-1) * e for n, e in enumerate(sig_eq_NLS_defocusing)}\n",
    "H_GP_defocusing = {n-1: - (-I)**(n-1) * e for n, e in enumerate(sig_eq_GP_defocusing)}\n",
    "\n",
    "H_NLS_focusing[-1] = - Rational(1, 2) * I * (deriv(q) / q - deriv(q_conj) / q_conj)\n",
    "H_NLS_defocusing[-1] = Rational(1, 2) * I * (deriv(q) / q - deriv(q_conj) / q_conj)\n",
    "H_GP_defocusing[-1] = Rational(1, 2) * I * (deriv(q) / q - deriv(q_conj) / q_conj)\n",
    "\n",
    "H_NLS_focusing = {n: Rational(1,2**(n//2)) * subs(H_NLS_focusing[n], [(q, q), (q_conj, q_conj)], scale={x: sqrt(2)}) for n in H_NLS_focusing.keys()}\n",
    "H_NLS_defocusing = {n: Rational(1,2**(n//2)) * subs(H_NLS_defocusing[n], [(q, q), (q_conj, q_conj)], scale={x: sqrt(2)}) for n in H_NLS_defocusing.keys()}\n",
    "H_GP_defocusing = {n: Rational(1,2**(n//2)) * subs(H_GP_defocusing[n], [(q, q), (q_conj, q_conj)], scale={x: sqrt(2)}) for n in H_GP_defocusing.keys()}\n",
    "\n",
    "print(\"-1-\")\n",
    "stationary_NLS_focusing = {n: simplify(subs(variation(expr, q_conj), [(q, w), (q_conj, w)])) for n, expr in H_NLS_focusing.items()}\n",
    "print(\"-2-\")\n",
    "stationary_NLS_defocusing = {n: simplify(subs(variation(expr, q_conj), [(q, w), (q_conj, w)])) for n, expr in H_NLS_defocusing.items()}\n",
    "print(\"-3-\")\n",
    "stationary_GP_defocusing = {n: simplify(subs(variation(expr, q_conj), [(q, w), (q_conj, w)])) for n, expr in H_GP_defocusing.items()}\n"
   ]
  },
  {
   "cell_type": "markdown",
   "id": "0706c5e9",
   "metadata": {},
   "source": [
    "## Critical points - defocusing case"
   ]
  },
  {
   "cell_type": "code",
   "execution_count": null,
   "id": "de8a6197",
   "metadata": {
    "scrolled": true
   },
   "outputs": [],
   "source": [
    "\n",
    "E_GaPe = deriv(q) * deriv(q_conj) + Rational(1,2) * (1 - q * q_conj)**2\n",
    "Q_GaPe = q * q_conj\n",
    "Q_GaPe_2 = q * q_conj - 1\n",
    "M_GaPe = I / 2 * (q_conj * deriv(q) - q * deriv(q_conj))\n",
    "R_GaPe = higher_deriv(q, 2) * higher_deriv(q_conj, 2) + 3 * q * q_conj * deriv(q) * deriv(q_conj) + (q * deriv(q_conj) + q_conj * deriv(q))**2 / 2 + q**3 * q_conj**3 / 2\n",
    "R_GaPe_2 = higher_deriv(q, 2) * higher_deriv(q_conj, 2) + 3 * q * q_conj * deriv(q) * deriv(q_conj) + (q * deriv(q_conj) + q_conj * deriv(q))**2 / 2 + q**3 * q_conj**3 / 2 - Rational(1,2)\n",
    "S_GaPe = R_GaPe - Rational(1, 2) * (3 - Eps**2) * Q_GaPe\n",
    "S_GaPe_2 = R_GaPe_2 - Rational(1, 2) * (3 - Eps**2) * Q_GaPe_2\n",
    "\n",
    "display(Equ(Symbol('\\\\text{Error for }Q_{\\\\text{GaPe}}'), Matrix([variation(H_NLS_defocusing[0] - Q_GaPe, q), variation(H_NLS_defocusing[0] - Q_GaPe, q_conj)])))\n",
    "display(Equ(Symbol('\\\\text{Error for }E_{\\\\text{GaPe}}'), Matrix([variation(H_GP_defocusing[2] - E_GaPe, q), variation(H_GP_defocusing[2] - E_GaPe, q_conj)])))\n",
    "display(Equ(Symbol('\\\\text{Error for }R_{\\\\text{GaPe}}'), Matrix([variation(H_NLS_defocusing[4] - R_GaPe, q), variation(H_NLS_defocusing[4] - R_GaPe, q_conj)])))\n",
    "\n",
    "\n",
    "subs_list_GP_defocusing = [\n",
    "    (higher_deriv(w, 2), w**2 * w_conj - w),\n",
    "    (higher_deriv(w_conj, 2), w_conj**2 * w - w_conj),\n",
    "    (w_conj, w)\n",
    "]\n",
    "subs_list_GP_alt_defocusing = [\n",
    "    (higher_deriv(w, 2), w**2 * w_conj - w),\n",
    "    (higher_deriv(w_conj, 2), w_conj**2 * w - w_conj),\n",
    "    (w_conj, w),\n",
    "    (deriv(w)**2, Rational(1, 2) * ((w**2 - 1)**2-Eps**2))\n",
    "]\n",
    "\n",
    "for n in range(-1, min(N, 8)):\n",
    "    display(Equ(Symbol(f'\\\\mathcal{{{\"E\" if n%2==0 else \"P\"}}}_{{\\\\text{{NLS}}}}^{{{n//2}}}(q, \\\\tilde{{q}})'), H_NLS_defocusing[n].expand()))\n",
    "    display(Equ(Symbol(f'\\\\mathcal{{{\"E\" if n%2==0 else \"P\"}}}_{{\\\\text{{GP}}}}^{{{n//2}}}(q, \\\\tilde{{q}})'), H_GP_defocusing[n].expand()))\n",
    "\n",
    "for n in range(-1, min(N, 8)):\n",
    "    display(Equ(Symbol(f'\\\\frac{{\\\\delta \\\\mathcal{{{\"E\" if n%2==0 else \"P\"}}}_{{\\\\text{{NLS}}}}^{{{n//2}}}(w)}}{{\\delta w}}'), stationary_NLS_defocusing[n].expand()))\n",
    "    display(Equ(Symbol(f'\\\\frac{{\\\\delta \\\\mathcal{{{\"E\" if n%2==0 else \"P\"}}}_{{\\\\text{{GP}}}}^{{{n//2}}}(w)}}{{\\delta w}}'), stationary_GP_defocusing[n].expand()))\n",
    "\n",
    "for n in range(-1, min(N, 14)):\n",
    "    display(Equ(Symbol(f'\\\\frac{{\\\\delta \\\\mathcal{{{\"E\" if n%2==0 else \"P\"}}}_{{\\\\text{{NLS}}}}^{{{n//2}}}(w)}}{{\\delta w}}\\\\Bigg\\\\vert_{{\\\\substack{{(w)_{{xx}} = w^3 - w \\\\\\\\ 2 (w)_x^2 = (w^2 - 1)^2 - \\\\mathcal{{E}}^2}}}}'), \n",
    "        simplify(subs(simplify(subs(stationary_NLS_defocusing[n], subs_list_GP_alt_defocusing*n)), subs_list_GP_alt_defocusing*n))\n",
    "    ))\n",
    "    display(Equ(Symbol(f'\\\\frac{{\\\\delta \\\\mathcal{{{\"E\" if n%2==0 else \"P\"}}}_{{\\\\text{{GP}}}}^{{{n//2}}}(w)}}{{\\delta w}}\\\\Bigg\\\\vert_{{\\\\substack{{(w)_{{xx}} = w^3 - w \\\\\\\\ 2 (w)_x^2 = (w^2 - 1)^2 - \\\\mathcal{{E}}^2}}}}'), \n",
    "        simplify(subs(simplify(subs(stationary_GP_defocusing[n], subs_list_GP_alt_defocusing*n)), subs_list_GP_alt_defocusing*n))\n",
    "    ))\n",
    "\n",
    "for n in range(-1, min(N, 14)):\n",
    "    factor1 = 1 / w if n%2==0 else 1 / deriv(w)\n",
    "    sqrtstring = \"\\\\sqrt{{2}}\"\n",
    "    display(Equ(Symbol(f'\\\\Bigg(\\\\frac{{1}}{{{\"w\" if n%2==0 else \"(w)_x\"}}} \\\\frac{{\\\\delta \\\\mathcal{{{\"E\" if n%2==0 else \"P\"}}}_{{\\\\text{{GP}}}}^{{{n//2}}}(w)}}{{\\delta w}}\\\\Bigg)_x \\\\Bigg\\\\vert_{{(w)_{{xx}} = w^3 - w}}'), simplify(subs(\n",
    "        deriv(factor1 * simplify(subs(\n",
    "            stationary_GP_defocusing[n]\n",
    "        , subs_list_GP_alt_defocusing * n)))\n",
    "    , subs_list_GP_alt_defocusing * n))\n",
    "    ))\n",
    "    \n",
    "# for n in range(min(N+1, 14)):\n",
    "#     if n%2==0:\n",
    "#         display(latex(Equ(Symbol(f'\\\\Bigg(\\\\frac{{1}}{{(w)_x}} \\\\frac{{\\\\delta \\\\mathcal{{{\"E\" if n%2==1 else \"P\"}}}_{{\\\\text{{GP}}}}^{{{n//2}}}(w)}}{{\\delta w}}\\\\Bigg)_x \\\\Bigg\\\\vert_{{(w)_{{xxx}} = 3 (w)_x w^2 - 2 (w)_x}}'), simplify(subs(\n",
    "#             simplify(subs(\n",
    "#                 deriv( 1 / deriv(w) * simplify(subs(\n",
    "#                     stationary_GP_eqs[n]\n",
    "#                 , subs_list2 * 5)))\n",
    "#             , subs_list2 * 5))\n",
    "#         , subs_list2 * 5))\n",
    "#         )))\n",
    "#     if n%2==1:\n",
    "#         display(latex(Equ(Symbol(f'\\\\Bigg(\\\\frac{{1}}{{w}}\\\\Bigg(\\\\frac{{\\\\delta \\\\mathcal{{{\"E\" if n%2==1 else \"P\"}}}_{{\\\\text{{GP}}}}^{{{n//2}}}(w)}}{{\\delta w}}\\\\Bigg)_x \\Bigg)_x \\\\Bigg\\\\vert_{{(w)_{{xxx}} = 3 (w)_x w^2 - 2 (w)_x}}'), simplify(subs(\n",
    "#             deriv(simplify(subs(\n",
    "#                 1 / deriv(w) * deriv(simplify(subs(\n",
    "#                     stationary_GP_eqs[n]\n",
    "#                 , subs_list2 * 5)))\n",
    "#             , subs_list2 * 5)))\n",
    "#         , subs_list2 * 5))\n",
    "#         )))\n",
    "    \n",
    "\n"
   ]
  },
  {
   "cell_type": "markdown",
   "id": "cb19beba",
   "metadata": {},
   "source": [
    "## Critical Points - focusing case"
   ]
  },
  {
   "cell_type": "code",
   "execution_count": null,
   "id": "226165d8",
   "metadata": {},
   "outputs": [],
   "source": [
    "\n",
    "subs_list_NLS_focusing = [\n",
    "    (higher_deriv(w, 2), - w**2 * w_conj),\n",
    "    (higher_deriv(w_conj, 2), - w_conj**2 * w),\n",
    "    (w_conj, w)\n",
    "]\n",
    "subs_list_NLS_alt_focusing = [\n",
    "    (higher_deriv(w, 2), - w**2 * w_conj),\n",
    "    (higher_deriv(w_conj, 2), - w_conj**2 * w),\n",
    "    (w_conj, w),\n",
    "    (deriv(w)**2, Rational(1, 2) * (Eps**2 - w**4))\n",
    "]\n",
    "\n",
    "for n in range(-1, min(N, 8)):\n",
    "    display(Equ(Symbol(f'\\\\mathcal{{{\"E\" if n%2==0 else \"P\"}}}_{{\\\\text{{NLS}}}}^{{{n//2}}}(q, \\\\tilde{{q}})'), H_NLS_focusing[n].expand()))\n",
    "\n",
    "for n in range(-1, min(N, 8)):\n",
    "    display(Equ(Symbol(f'\\\\frac{{\\\\delta \\\\mathcal{{{\"E\" if n%2==0 else \"P\"}}}_{{\\\\text{{NLS}}}}^{{{n//2}}}(w)}}{{\\delta w}}'), stationary_NLS_focusing[n].expand()))\n",
    "\n",
    "for n in range(-1, min(N, 14)):\n",
    "    display(Equ(Symbol(f'\\\\frac{{\\\\delta \\\\mathcal{{{\"E\" if n%2==0 else \"P\"}}}_{{\\\\text{{NLS}}}}^{{{n//2}}}(w)}}{{\\delta w}}\\\\Bigg\\\\vert_{{\\\\substack{{(w)_{{xx}} = - w^3 \\\\\\\\ 2 (w_x)^2 = \\\\mathcal{{E}}^2 - w^4}}}}'), \n",
    "        simplify(subs(simplify(subs(stationary_NLS_focusing[n], subs_list_NLS_alt_focusing*n)), subs_list_NLS_alt_focusing*n))\n",
    "    ))\n",
    "\n",
    "for n in range(-1, min(N, 14)):\n",
    "    factor1 = 1 / w if n%2==0 else 1 / deriv(w)\n",
    "    sqrtstring = \"\\\\sqrt{{2}}\"\n",
    "    display(Equ(Symbol(f'\\\\Bigg(\\\\frac{{1}}{{{\"w\" if n%2==0 else \"(w)_x\"}}} \\\\frac{{\\\\delta \\\\mathcal{{{\"E\" if n%2==0 else \"P\"}}}_{{\\\\text{{GP}}}}^{{{n//2}}}(w)}}{{\\delta w}}\\\\Bigg)_x \\\\Bigg\\\\vert_{{(w)_{{xx}} = - w^3}}'), \n",
    "        simplify(subs(deriv(factor1 * simplify(subs(\n",
    "            stationary_NLS_focusing[n]\n",
    "        , subs_list_NLS_focusing * n)))\n",
    "    , subs_list_NLS_focusing * n))\n",
    "    ))\n",
    "    "
   ]
  },
  {
   "cell_type": "markdown",
   "id": "23785456",
   "metadata": {},
   "source": [
    "## Second order variations - focusing case"
   ]
  },
  {
   "cell_type": "code",
   "execution_count": null,
   "id": "248b87da",
   "metadata": {},
   "outputs": [],
   "source": [
    "subs_list = [(q, w + f + I * g), (q_conj, w + f - I * g)]\n",
    "subs_list_NLS_alt_focusing_noncomm = [(D.comm_to_non_comm(tup[0]), D.comm_to_non_comm(tup[1])) for tup in subs_list_NLS_alt_focusing]\n",
    "\n",
    "for n in range(0, N):\n",
    "    bilinear = group_by_orders(subs(H_NLS_focusing[n], subs_list), [f, g]).get(2, 0)\n",
    "    op = operator_from_bilinear(bilinear, [f, g])\n",
    "    #diff = simplify(bilinear - (Matrix([f, g]).transpose() * evaluateExpr(op * Matrix([ff, gg])))[0,0])\n",
    "    #display(Equ(0, simplify(variation(diff, f))**2 + simplify(variation(diff, g))**2 + simplify(variation(diff, w))**2))\n",
    "    new_op = simplify(subs(simplify(subs(op, subs_list_NLS_alt_focusing_noncomm*n)), subs_list_NLS_alt_focusing_noncomm*n)).expand()\n",
    "    #display(Equ(Symbol(f'\\\\big(f \\;\\; g \\\\big) \\\\frac{{\\\\delta \\\\mathcal{{{\"E\" if n%2==0 else \"P\"}}}_{{\\\\text{{NLS}}}}^{{{n//2}}}(w)}}{{\\delta w \\delta w}}\\\\begin{{pmatrix}} f \\\\\\\\ g \\\\end{{pmatrix}}'), bilinear))\n",
    "    display(Equ(Symbol(f'\\\\frac{{\\\\delta \\\\mathcal{{{\"E\" if n%2==0 else \"P\"}}}_{{\\\\text{{NLS}}}}^{{{n//2}}}(w)}}{{\\delta w \\delta w}}\\\\Bigg\\\\vert_{{\\\\substack{{(w)_{{xx}} = w^3 - w \\\\\\\\ 2 (w^2)_x = (w^2 - 1)^2 - \\\\mathcal{{E}}^2}}}}'), \n",
    "        Matrix([new_op[0,0], new_op[0,1], new_op[1,0], new_op[1,1]])))\n",
    "    #display(simplify(subs(evaluateExpr(new_op * Matrix([deriv(ww), ww])), subs_list_GP_alt_defocusing*n)))"
   ]
  },
  {
   "cell_type": "markdown",
   "id": "0c32f00b",
   "metadata": {},
   "source": [
    "## Second order variations - defocusing case"
   ]
  },
  {
   "cell_type": "code",
   "execution_count": null,
   "id": "c6cb41f1",
   "metadata": {},
   "outputs": [],
   "source": [
    "bilinear = group_by_orders(subs(S_GaPe_2, subs_list), [f, g]).get(2, 0)\n",
    "display(Equ(Symbol(\"bilinear\"), bilinear))\n",
    "display(Equ(Symbol(\"bilinear ibp\"), simplify(integrate_by_parts_auto(bilinear, [f, g])).expand()))\n",
    "\n",
    "op = operator_from_bilinear(bilinear, [f, g])\n",
    "#diff = simplify(bilinear - (Matrix([f, g]).transpose() * evaluateExpr(op * Matrix([ff, gg])))[0,0])\n",
    "#display(Equ(0, simplify(variation(diff, f))**2 + simplify(variation(diff, g))**2 + simplify(variation(diff, w))**2))\n",
    "new_op = simplify(subs(simplify(subs(op, subs_list_GP_alt_defocusing_noncomm*n)), subs_list_GP_alt_defocusing_noncomm*n)).expand()\n",
    "#display(Equ(Symbol(f'\\\\big(f \\;\\; g \\\\big) \\\\frac{{\\\\delta \\\\mathcal{{{\"E\" if n%2==0 else \"P\"}}}_{{\\\\text{{NLS}}}}^{{{n//2}}}(w)}}{{\\delta w \\delta w}}\\\\begin{{pmatrix}} f \\\\\\\\ g \\\\end{{pmatrix}}'), bilinear))\n",
    "display(Equ(Symbol(f'\\\\frac{{\\\\delta \\\\mathcal{{{\"E\" if n%2==0 else \"P\"}}}_{{\\\\text{{NLS}}}}^{{{n//2}}}(w)}}{{\\delta w \\delta w}}\\\\Bigg\\\\vert_{{\\\\substack{{(w)_{{xx}} = w^3 - w \\\\\\\\ 2 (w^2)_x = (w^2 - 1)^2 - \\\\mathcal{{E}}^2}}}}'), \n",
    "    Matrix([op[0,0], op[0,1], op[1,0], op[1,1]])))\n",
    "display(Equ(Symbol(f'\\\\frac{{\\\\delta \\\\mathcal{{{\"E\" if n%2==0 else \"P\"}}}_{{\\\\text{{NLS}}}}^{{{n//2}}}(w)}}{{\\delta w \\delta w}}\\\\Bigg\\\\vert_{{\\\\substack{{(w)_{{xx}} = w^3 - w \\\\\\\\ 2 (w^2)_x = (w^2 - 1)^2 - \\\\mathcal{{E}}^2}}}}'), \n",
    "    Matrix([new_op[0,0], new_op[0,1], new_op[1,0], new_op[1,1]])))\n",
    "#display(simplify(subs(evaluateExpr(new_op * Matrix([deriv(ww), ww])), subs_list_GP_alt_defocusing*n)))\n",
    "    "
   ]
  },
  {
   "cell_type": "code",
   "execution_count": null,
   "id": "f22eddc4",
   "metadata": {},
   "outputs": [],
   "source": [
    "subs_list = [(q, w + f + I * g), (q_conj, w + f - I * g)]\n",
    "subs_list_GP_alt_defocusing_noncomm = [(D.comm_to_non_comm(tup[0]), D.comm_to_non_comm(tup[1])) for tup in subs_list_GP_alt_defocusing]\n",
    "\n",
    "for n in range(0, N):\n",
    "    bilinear = group_by_orders(subs(H_GP_defocusing[n], subs_list), [f, g]).get(2, 0)\n",
    "    op = operator_from_bilinear(bilinear, [f, g])\n",
    "    #diff = simplify(bilinear - (Matrix([f, g]).transpose() * evaluateExpr(op * Matrix([ff, gg])))[0,0])\n",
    "    #display(Equ(0, simplify(variation(diff, f))**2 + simplify(variation(diff, g))**2 + simplify(variation(diff, w))**2))\n",
    "    new_op = simplify(subs(simplify(subs(op, subs_list_GP_alt_defocusing_noncomm*n)), subs_list_GP_alt_defocusing_noncomm*n)).expand()\n",
    "    #display(Equ(Symbol(f'\\\\big(f \\;\\; g \\\\big) \\\\frac{{\\\\delta \\\\mathcal{{{\"E\" if n%2==0 else \"P\"}}}_{{\\\\text{{NLS}}}}^{{{n//2}}}(w)}}{{\\delta w \\delta w}}\\\\begin{{pmatrix}} f \\\\\\\\ g \\\\end{{pmatrix}}'), bilinear))\n",
    "    display(Equ(Symbol(f'\\\\frac{{\\\\delta \\\\mathcal{{{\"E\" if n%2==0 else \"P\"}}}_{{\\\\text{{NLS}}}}^{{{n//2}}}(w)}}{{\\delta w \\delta w}}\\\\Bigg\\\\vert_{{\\\\substack{{(w)_{{xx}} = w^3 - w \\\\\\\\ 2 (w^2)_x = (w^2 - 1)^2 - \\\\mathcal{{E}}^2}}}}'), \n",
    "        Matrix([new_op[0,0], new_op[0,1], new_op[1,0], new_op[1,1]])))\n",
    "    #display(simplify(subs(evaluateExpr(new_op * Matrix([deriv(ww), ww])), subs_list_GP_alt_defocusing*n)))\n",
    "    \n",
    "    bilinear = group_by_orders(subs(H_NLS_defocusing[n], subs_list), [f, g]).get(2, 0)\n",
    "    op = operator_from_bilinear(bilinear, [f, g])\n",
    "    #diff = simplify(bilinear - (Matrix([f, g]).transpose() * evaluateExpr(op * Matrix([ff, gg])))[0,0])\n",
    "    #display(Equ(0, simplify(variation(diff, f))**2 + simplify(variation(diff, g))**2 + simplify(variation(diff, w))**2))\n",
    "    new_op = simplify(subs(simplify(subs(op, subs_list_GP_alt_defocusing_noncomm*n)), subs_list_GP_alt_defocusing_noncomm*n)).expand()\n",
    "    #display(Equ(Symbol(f'\\\\big(f \\;\\; g \\\\big) \\\\frac{{\\\\delta \\\\mathcal{{{\"E\" if n%2==0 else \"P\"}}}_{{\\\\text{{GP}}}}^{{{n//2}}}(w)}}{{\\delta w \\delta w}}\\\\begin{{pmatrix}} f \\\\\\\\ g \\\\end{{pmatrix}}'), bilinear))\n",
    "    display(Equ(Symbol(f'\\\\frac{{\\\\delta \\\\mathcal{{{\"E\" if n%2==0 else \"P\"}}}_{{\\\\text{{GP}}}}^{{{n//2}}}(w)}}{{\\delta w \\delta w}}\\\\Bigg\\\\vert_{{\\\\substack{{(w)_{{xx}} = w^3 - w \\\\\\\\ 2 (w^2)_x = (w^2 - 1)^2 - \\\\mathcal{{E}}^2}}}}'), \n",
    "        Matrix([new_op[0,0], new_op[0,1], new_op[1,0], new_op[1,1]])))\n",
    "    #display(simplify(subs(evaluateExpr(new_op * Matrix([deriv(ww), ww])), subs_list_GP_alt_defocusing*n)))"
   ]
  },
  {
   "cell_type": "code",
   "execution_count": null,
   "id": "1a35f076",
   "metadata": {},
   "outputs": [],
   "source": []
  }
 ],
 "metadata": {
  "kernelspec": {
   "display_name": "Python 3 (ipykernel)",
   "language": "python",
   "name": "python3"
  },
  "language_info": {
   "codemirror_mode": {
    "name": "ipython",
    "version": 3
   },
   "file_extension": ".py",
   "mimetype": "text/x-python",
   "name": "python",
   "nbconvert_exporter": "python",
   "pygments_lexer": "ipython3",
   "version": "3.10.9"
  }
 },
 "nbformat": 4,
 "nbformat_minor": 5
}
