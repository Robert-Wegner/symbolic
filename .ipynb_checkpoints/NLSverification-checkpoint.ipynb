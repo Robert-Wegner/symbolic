{
 "cells": [
  {
   "cell_type": "code",
   "execution_count": 1,
   "id": "ed523435",
   "metadata": {},
   "outputs": [
    {
     "data": {
      "application/javascript": [
       "IPython.OutputArea.auto_scroll_threshold = 9999;\n"
      ],
      "text/plain": [
       "<IPython.core.display.Javascript object>"
      ]
     },
     "metadata": {},
     "output_type": "display_data"
    }
   ],
   "source": [
    "%%javascript\n",
    "IPython.OutputArea.auto_scroll_threshold = 9999;"
   ]
  },
  {
   "cell_type": "code",
   "execution_count": 2,
   "id": "9c9e8e3c",
   "metadata": {},
   "outputs": [
    {
     "name": "stdout",
     "output_type": "stream",
     "text": [
      "env: USE_SYMENGINE=1\n"
     ]
    }
   ],
   "source": [
    "from sympy import *\n",
    "from IPython.display import display\n",
    "import time\n",
    "import pickle\n",
    "import datetime\n",
    "%env USE_SYMENGINE 1\n",
    "\n",
    "epsilon, epsiloninv, u, v, a, theta = symbols('\\\\epsilon, \\\\eta, u, v, a, \\\\theta', real=True)\n",
    "\n",
    "\n",
    "q = symbols('q', real=False)\n",
    "q_conj = symbols('\\\\tilde{q}', real=False)\n",
    "\n",
    "\n",
    "W_plus = Symbol('W_+', real=True)\n",
    "W_minus = Symbol('W_-', real=True)\n",
    "w_plus = Symbol('w_+', real=True)\n",
    "w_minus = Symbol('w_-', real=True)\n",
    "V_sym = Symbol('V')\n",
    "N_sym = Symbol('N')\n",
    "A_sym = Symbol('A')\n",
    "phi_sym = Symbol('\\\\phi')\n",
    "n_sym = Symbol('n')\n",
    "a_sym = Symbol('a')\n",
    "\n",
    "differentiable_symbols = [u, v, a, theta, q, q_conj, w_plus, w_minus, W_plus, W_minus, V_sym, N_sym, A_sym, phi_sym, n_sym, a_sym]\n"
   ]
  },
  {
   "cell_type": "code",
   "execution_count": 3,
   "id": "ab365133",
   "metadata": {},
   "outputs": [],
   "source": [
    "\n",
    "def var_deriv_name(var):\n",
    "    if \"_{x\" in var.name:\n",
    "        return var.name[:-1] + 'x}'\n",
    "    else:\n",
    "        return '(' + var.name + ')_{x}'\n",
    "        #return var.name + '_x'\n",
    "        \n",
    "def get_var_name_from_deriv(sym):\n",
    "    start = sym.name.find('(')\n",
    "    end = sym.name.find(')')\n",
    "    if start != -1 and end != -1:\n",
    "        sym_name = sym.name[start+1:end]\n",
    "        return sym_name\n",
    "        #orders.append(len(sym.name) - 4 - sym.name.find(')_{'))\n",
    "    else:\n",
    "        sym_name = sym.name\n",
    "        return sym_name\n",
    "        #orders.append(0)\n",
    "\n",
    "def get_order_from_deriv(sym):\n",
    "    start = sym.name.find('(')\n",
    "    end = sym.name.find(')')\n",
    "    if start != -1 and end != -1:\n",
    "        sym_name = sym.name[start+1:end]\n",
    "        return len(sym.name) - 4 - sym.name.find(')_{')\n",
    "    else:\n",
    "        return 0\n",
    "        \n",
    "def deriv(poly, append_to_list=True):\n",
    "    res = 0\n",
    "    original = differentiable_symbols.copy()\n",
    "    for sym in original:\n",
    "        deriv_term = Derivative(poly, sym).doit()\n",
    "        if deriv_term != 0:\n",
    "            #print(\"looking at: \", sym)\n",
    "            newName = var_deriv_name(sym)\n",
    "\n",
    "            if newName in [s.name for s in differentiable_symbols]:\n",
    "                dsym = differentiable_symbols[[s.name for s in differentiable_symbols].index(newName)]\n",
    "                #print(\"newName found: \", dsym)\n",
    "            else:\n",
    "                dsym = Symbol(newName, real=True)\n",
    "                if append_to_list:\n",
    "                    print(\"new differentiable symbol: \", dsym)\n",
    "                    differentiable_symbols.append(dsym)\n",
    "                #print(\"newName not found: \", dsym)\n",
    "            #print(\"syms: \", syms)\n",
    "            res += deriv_term * dsym\n",
    "            #print(\"res: \", res)\n",
    "    \n",
    "    return res\n",
    "    \n",
    "\n",
    "def higher_deriv(var, n):\n",
    "    if n > 0:\n",
    "        return deriv(higher_deriv(var, n-1))\n",
    "    else:\n",
    "        return var\n",
    "    \n",
    "def variation(expr, sym):\n",
    "    if not hasattr(expr, 'free_symbols'):\n",
    "        return 0\n",
    "    \n",
    "    res = 0\n",
    "    order = 0\n",
    "\n",
    "    syms = []\n",
    "    orders = []\n",
    "\n",
    "    start = sym.name.find('(')\n",
    "    end = sym.name.find(')')\n",
    "    if start != -1 and end != -1:\n",
    "        sym_name = sym.name[start+1:end]\n",
    "        syms.append(sym)\n",
    "        orders.append(len(sym.name) - 4 - sym.name.find(')_{'))\n",
    "    else:\n",
    "        sym_name = sym.name\n",
    "        syms.append(sym)\n",
    "        orders.append(0)\n",
    "\n",
    "    for s in expr.free_symbols:\n",
    "        start = s.name.find('(')\n",
    "        end = s.name.find(')')\n",
    "        if start != -1 and end != -1 and sym_name == s.name[start+1:end]:\n",
    "            if s.name not in [sym.name for sym in syms]:\n",
    "                syms.append(s)\n",
    "                orders.append(len(s.name) - 4 - s.name.find(')_{'))    \n",
    "    \n",
    "    for (sym, order) in zip(syms, orders):\n",
    "        res += (-1)**order * higher_deriv(Derivative(expr, sym).doit(), order)\n",
    "\n",
    "    return simplify(res)\n",
    "\n",
    "def polynomize(expr):\n",
    "    return simplify(Poly(expr, epsilon, epsiloninv).subs(epsiloninv, 1/epsilon))\n",
    "\n",
    "def depolynomize(poly):\n",
    "    monoms = poly.monoms()\n",
    "    coeffs = poly.coeffs()\n",
    "    \n",
    "    X = 0\n",
    "    for (k, m) in enumerate(monoms):\n",
    "        X += epsilon**m[0] * epsiloninv**m[1] * coeffs[k]\n",
    "            \n",
    "    return X\n",
    "\n",
    "def poly_simplify(expr):\n",
    "    return depolynomize(polynomize(expr))\n",
    "\n",
    "def substituter(expr, var, sub, magnitude=1, scale=1):\n",
    "    if not hasattr(expr, 'subs'):\n",
    "        return expr\n",
    "    for subvar in sub.free_symbols:\n",
    "        if var in differentiable_symbols and subvar not in differentiable_symbols:\n",
    "            print(\"Warning: Substituting differentiable by non-differentiable symbol.\")\n",
    "            #differentiable_symbols.append(subvar)\n",
    "            pass\n",
    "        \n",
    "    original = differentiable_symbols.copy()\n",
    "    expr = expr.subs(var, magnitude * sub)\n",
    "    \n",
    "    cont = True\n",
    "    m = 0\n",
    "    while cont:\n",
    "        #print(\"var\", var, \"sub\", sub)\n",
    "        dvar = deriv(var, append_to_list=False)\n",
    "        m += 1\n",
    "        \n",
    "        if dvar in differentiable_symbols:\n",
    "            dsub = simplify(deriv(sub))\n",
    "            #print(\"new sub variable from\", sub, \"to\", dsub)\n",
    "            expr = simplify(expr.subs(dvar, magnitude * scale**m * dsub))\n",
    "                    \n",
    "            var = dvar\n",
    "            sub = dsub\n",
    "                    \n",
    "            #print(\"substited\", var, \"by\", sub)\n",
    "        else: \n",
    "            cont = False\n",
    "            \n",
    "    if hasattr(expr, 'applyfunc'):\n",
    "        return expr.applyfunc(poly_simplify)\n",
    "    else:\n",
    "        return poly_simplify(expr)\n",
    "    \n",
    "def multi_substituter(expr, data, magnitude=1, scale=1):\n",
    "    for (var, sub) in data:\n",
    "        expr = substituter(expr, var, sub, magnitude=magnitude, scale=scale)\n",
    "    return expr\n",
    "\n",
    "def extract_deriv(expr, k): \n",
    "    expr = simplify(expr).expand()\n",
    "    #print(\"expr =\", expr) \n",
    "    res = 0\n",
    "    if isinstance(expr, Add):\n",
    "        for mon in expr.args:\n",
    "            #print(\"mon =\", mon)\n",
    "            count = 0\n",
    "            if hasattr(mon, \"name\"):\n",
    "                #print(mon.name)\n",
    "                if \"_{x\" in mon.name:\n",
    "                    count += 1\n",
    "                    #print(\"count =\", count)\n",
    "            else:\n",
    "                for fac in mon.args:\n",
    "                    #print(\"fac =\", fac)\n",
    "                    if hasattr(fac, \"name\"):\n",
    "                        #print(fac.name)\n",
    "                        if \"_{x\" in fac.name:\n",
    "                            count += 1\n",
    "                            #print(\"count =\", count)\n",
    "                    elif isinstance(fac, Pow):\n",
    "                        #print(fac.base.name, fac.exp)\n",
    "                        if \"_{x\" in fac.base.name and fac.exp > 0:\n",
    "                            count += fac.exp     \n",
    "                            #print(\"count =\", count)\n",
    "            #print(\"final count =\", count)\n",
    "            if count == k:\n",
    "                res += mon\n",
    "\n",
    "    else:\n",
    "        mon = expr\n",
    "        #print(\"mon =\", mon)\n",
    "        count = 0\n",
    "        if hasattr(mon, \"name\"):\n",
    "            #print(mon.name)\n",
    "            if \"_{x\" in mon.name:\n",
    "                count += 1\n",
    "                #print(\"count =\", count)\n",
    "        elif hasattr(mon, \"args\"):\n",
    "            for fac in mon.args:\n",
    "                #print(\"fac =\", fac)\n",
    "                if hasattr(fac, \"name\"):\n",
    "                    #print(fac.name)\n",
    "                    if \"_{x\" in fac.name:\n",
    "                        count += 1\n",
    "                        #print(\"count =\", count)\n",
    "                elif isinstance(fac, Pow):\n",
    "                    #print(fac.base.name, fac.exp)\n",
    "                    if \"_{x\" in fac.base.name and fac.exp > 0:\n",
    "                        count += fac.exp     \n",
    "                        #print(\"count =\", count)\n",
    "        #print(\"final count =\", count)\n",
    "        if count == k:\n",
    "            res += mon\n",
    "\n",
    "    #print(\"res =\", res)\n",
    "    return res\n",
    "        \n",
    "def extract_deriv_alt(expr, k):\n",
    "    expr = simplify(expr).expand()\n",
    "    #print(\"expr =\", expr) \n",
    "    res = 0\n",
    "    if isinstance(expr, Add):\n",
    "        for mon in expr.args:\n",
    "            presence_deriv_q_conj = False\n",
    "            #print(\"mon =\", mon)\n",
    "            count = 0\n",
    "            if hasattr(mon, \"name\"):\n",
    "                #print(mon.name)\n",
    "                if \"_{x\" in mon.name:\n",
    "                    count += 1\n",
    "                    if get_var_name_from_deriv(mon) == q_conj.name:\n",
    "                        presence_deriv_q_conj = True\n",
    "            else:\n",
    "                for fac in mon.args:\n",
    "                    #print(\"fac =\", fac)\n",
    "                    if hasattr(fac, \"name\"):\n",
    "                        #print(fac.name)\n",
    "                        if \"_{x\" in fac.name:\n",
    "                            count += 1\n",
    "                            if get_var_name_from_deriv(fac) == q_conj.name:\n",
    "                                presence_deriv_q_conj = True\n",
    "                            #print(\"count =\", count)\n",
    "                    elif isinstance(fac, Pow):\n",
    "                        #print(fac.base.name, fac.exp)\n",
    "                        if \"_{x\" in fac.base.name and fac.exp > 0:\n",
    "                            count += fac.exp     \n",
    "                            if get_var_name_from_deriv(fac.base) == q_conj.name:\n",
    "                                presence_deriv_q_conj = True\n",
    "                            #print(\"count =\", count)\n",
    "            #print(\"final count =\", count)\n",
    "            if count == k and presence_deriv_q_conj:\n",
    "                res += mon\n",
    "\n",
    "    else:\n",
    "        presence_deriv_q_conj = False\n",
    "        mon = expr\n",
    "        #print(\"mon =\", mon)\n",
    "        count = 0\n",
    "        if hasattr(mon, \"name\"):\n",
    "            #print(mon.name)\n",
    "            if \"_{x\" in mon.name:\n",
    "                count += 1\n",
    "                if get_var_name_from_deriv(mon) == q_conj.name:\n",
    "                    presence_deriv_q_conj = True\n",
    "                #print(\"count =\", count)\n",
    "        elif hasattr(mon, \"args\"):\n",
    "            for fac in mon.args:\n",
    "                #print(\"fac =\", fac)\n",
    "                if hasattr(fac, \"name\"):\n",
    "                    #print(fac.name)\n",
    "                    if \"_{x\" in fac.name:\n",
    "                        count += 1\n",
    "                        if get_var_name_from_deriv(fac) == q_conj.name:\n",
    "                            presence_deriv_q_conj = True\n",
    "                        #print(\"count =\", count)\n",
    "                elif isinstance(fac, Pow):\n",
    "                    #print(fac.base.name, fac.exp)\n",
    "                    if \"_{x\" in fac.base.name and fac.exp > 0:\n",
    "                        count += fac.exp   \n",
    "                        if get_var_name_from_deriv(fac.base) == q_conj.name:\n",
    "                            presence_deriv_q_conj = True\n",
    "                        #print(\"count =\", count)\n",
    "        #print(\"final count =\", count)\n",
    "        if count == k and presence_deriv_q_conj:\n",
    "            res += mon\n",
    "\n",
    "    #print(\"res =\", res)\n",
    "    return res\n",
    "\n",
    "N = 10"
   ]
  },
  {
   "cell_type": "code",
   "execution_count": 13,
   "id": "2f43e738",
   "metadata": {},
   "outputs": [
    {
     "name": "stdout",
     "output_type": "stream",
     "text": [
      "n = 1\n",
      "n = 2\n",
      "n = 3\n",
      "n = 4\n",
      "n = 5\n",
      "n = 6\n",
      "n = 7\n"
     ]
    }
   ],
   "source": [
    "def q_coeff(n):\n",
    "    if n == -1:\n",
    "        #return Symbol('q_{' + str(n) + '}', real=True) * epsilon / I\n",
    "        return epsilon / (I * sqrt(2))\n",
    "    if n < -1 or (n % 2 == 0 and n >= 0):\n",
    "        return 0\n",
    "    else:\n",
    "        #if n > 1:\n",
    "            #return Symbol('q_{' + str(n) + '}', real=True) * I * epsiloninv**n\n",
    "        return I * catalan((n - 1) // 2) / sqrt(2)**n * epsiloninv**n\n",
    "       \n",
    "def alt_q_coeff(n):\n",
    "    if n == -1:\n",
    "        return epsilon / I * Symbol('q_{-1}', real=True)\n",
    "    if n < -1 or (n % 2 == 0 and n >= 0):\n",
    "        return 0\n",
    "    else:\n",
    "        return I * epsiloninv**n * Symbol('q_{' + str(n) + '}', real=True)\n",
    "    \n",
    "def plus_beta_coeff(n):\n",
    "    if n == 0:\n",
    "        return - 1 * Rational(1, 2)\n",
    "    else:\n",
    "        return - q_coeff(n) * Rational(1, 2)\n",
    "    \n",
    "def minus_beta_coeff(n):\n",
    "    if n == 0:\n",
    "        return - 1 * Rational(1, 2)\n",
    "    else:\n",
    "        return q_coeff(n) * Rational(1, 2)\n",
    "\n",
    "def alt_beta_coeff(n):\n",
    "    if n == 0:\n",
    "        return - 1 #Rational(1, 2)\n",
    "    else:\n",
    "        return 0\n",
    "    \n",
    "N = 8\n",
    "\n",
    "S_sym = [Symbol('S_{' + str(n) + '}') for n in range(N+1)]\n",
    "S_eq = [S_sym[n] for n in range(N+1)]\n",
    "\n",
    "SS_sym = [Symbol('SS_{' + str(n) + '}') for n in range(N+1)]\n",
    "SS_eq = [S_sym[n] for n in range(N+1)]\n",
    "\n",
    "S_plus_sym = [Symbol('S^+_{' + str(n) + '}') for n in range(N+1)]\n",
    "S_plus_eq = [S_plus_sym[n] for n in range(N+1)]\n",
    "\n",
    "S_minus_sym = [Symbol('S^-_{' + str(n) + '}') for n in range(N+1)]\n",
    "S_minus_eq = [S_plus_sym[n] for n in range(N+1)]\n",
    "\n",
    "sigq_sym = [Symbol('\\\\sigma^q_{' + str(n) + '}') for n in range(N+1)]\n",
    "sigq_eq = [sigq_sym[n] for n in range(N+1)]\n",
    "\n",
    "rq_sym = [Symbol('r^q_{' + str(n) + '}') for n in range(N+1)]\n",
    "rq_eq = [rq_sym[n] for n in range(N+1)]\n",
    "\n",
    "Rq_sym = [Symbol('R^q_{' + str(n) + '}') for n in range(N+1)]\n",
    "Rq_eq = [rq_sym[n] for n in range(N+1)]\n",
    "\n",
    "sigs_sym = [Symbol('\\\\sigma^s_{' + str(n) + '}') for n in range(N+1)]\n",
    "sigs_eq = [sigs_sym[n] for n in range(N+1)]\n",
    "\n",
    "S_eq[0] = 0\n",
    "S_eq[1] = u\n",
    "\n",
    "SS_eq[0] = 0\n",
    "SS_eq[1] = - u\n",
    "\n",
    "S_plus_eq[0] = 0\n",
    "S_plus_eq[1] = u+v\n",
    "\n",
    "S_minus_eq[0] = 0\n",
    "S_minus_eq[1] = u-v\n",
    "\n",
    "sigq_eq[0] = 0\n",
    "sigq_eq[1] = 1 - q * q_conj\n",
    "\n",
    "sigs_eq[0] = 0\n",
    "sigs_eq[1] = - q * q_conj\n",
    "\n",
    "s = 1 #1: correct sign, -1: wrong sign (old)\n",
    "rq_eq[0] = 0\n",
    "rq_eq[1] = - s * q_conj\n",
    "\n",
    "Rq_eq[0] = 0\n",
    "Rq_eq[1] = - s * q_conj\n",
    "\n",
    "for n in range(1, N):\n",
    "    print(\"n =\", n)\n",
    "    \n",
    "    X = deriv(S_eq[n])\n",
    "    \n",
    "    for k in range(n+1):\n",
    "        X += S_eq[k] * S_eq[n-k]\n",
    "\n",
    "    S_eq[n+1] = poly_simplify(X)\n",
    "    \n",
    "    X = deriv(SS_eq[n])\n",
    "    \n",
    "    for k in range(n+1):\n",
    "        X += SS_eq[k] * SS_eq[n-k]\n",
    "\n",
    "    SS_eq[n+1] = poly_simplify(X)\n",
    "    \n",
    "    X = deriv(S_plus_eq[n])\n",
    "    \n",
    "    for k in range(n+1):\n",
    "        X += (S_plus_eq[k] + S_minus_eq[k])/2 * S_plus_eq[n-k]\n",
    "        \n",
    "    S_plus_eq[n+1] = poly_simplify(X)\n",
    "        \n",
    "    X = - deriv(S_minus_eq[n])\n",
    "\n",
    "    for k in range(n+1):\n",
    "        X += - (S_plus_eq[k] + S_minus_eq[k])/2 * S_minus_eq[n-k]\n",
    "\n",
    "    S_minus_eq[n+1] = poly_simplify(X)\n",
    "\n",
    "    X = 0\n",
    "    \n",
    "    for m in range(0, n//2 + 1):\n",
    "        X += s * deriv(rq_eq[n-2*m]) * binomial(m - Rational(n,2), m) * 4**m\n",
    "        \n",
    "    for k in range(0, n + 1):\n",
    "        for m1 in range(0, k//2 + 1):\n",
    "            for m2 in range(0, (n-k)//2 + 1):\n",
    "                X += s * q * rq_eq[k-2*m1] * binomial(m1 - Rational(k,2), m1) * 4**m1 * rq_eq[n-k-2*m2] * binomial(m2 - Rational(n-k,2), m2) * 4**m2\n",
    "    \n",
    "    for m in range(1, (n+1)//2 + 1):\n",
    "        X += - rq_eq[n+1-2*m] * binomial(m - Rational(n+1,2), m) * 4**m\n",
    "        \n",
    "    rq_eq[n+1] = simplify(X)\n",
    "    \n",
    "    X = s * deriv(Rq_eq[n])\n",
    "    \n",
    "    for k in range(0, n + 1):\n",
    "        X += s * q * (Rq_eq[k] * Rq_eq[n-k])\n",
    "        \n",
    "    Rq_eq[n+1] = simplify(X)\n",
    "    \n",
    "    X = deriv(sigq_eq[n])\n",
    "    \n",
    "    for k in range(0, n + 1):\n",
    "        X += sigq_eq[k] * sigq_eq[n-k]\n",
    "        \n",
    "    X += - deriv(q) * rq_eq[n]\n",
    "    \n",
    "    sigq_eq[n+1] = simplify(X)\n",
    "    \n",
    "    X = deriv(sigs_eq[n])\n",
    "    \n",
    "    for k in range(0, n + 1):\n",
    "        X += sigs_eq[k] * sigs_eq[n-k]\n",
    "        \n",
    "    X += - deriv(q) * Rq_eq[n]\n",
    "    \n",
    "    sigs_eq[n+1] = simplify(X)\n",
    "    \n",
    "    #display(Eq(S_sym[n], S_eq[n]))\n",
    "    #display(Eq(S_plus_sym[n], S_plus_eq[n]))\n",
    "    #display(Eq(S_minus_sym[n], S_minus_eq[n]))\n",
    "    \n",
    "    #display(Eq(S_sym[n], simplify(deriv(variation(S_eq[n], u)) / 2)))\n",
    "    #display(Eq(S_plus_sym[n], simplify(deriv(variation(S_plus_eq[n], u)) / 2)))\n",
    "    #display(Eq(S_minus_sym[n], simplify(deriv(variation(S_minus_eq[n], v)) / 2)))\n"
   ]
  },
  {
   "cell_type": "code",
   "execution_count": 6,
   "id": "a4e68d6c",
   "metadata": {},
   "outputs": [
    {
     "data": {
      "text/latex": [
       "$\\displaystyle \\sigma^s_{0} = 0$"
      ],
      "text/plain": [
       "Eq(\\sigma^s_{0}, 0)"
      ]
     },
     "metadata": {},
     "output_type": "display_data"
    },
    {
     "data": {
      "text/latex": [
       "$\\displaystyle R^q_{0} = 0$"
      ],
      "text/plain": [
       "Eq(R^q_{0}, 0)"
      ]
     },
     "metadata": {},
     "output_type": "display_data"
    },
    {
     "data": {
      "text/latex": [
       "$\\displaystyle \\sigma^q_{0} = 0$"
      ],
      "text/plain": [
       "Eq(\\sigma^q_{0}, 0)"
      ]
     },
     "metadata": {},
     "output_type": "display_data"
    },
    {
     "data": {
      "text/latex": [
       "$\\displaystyle r^q_{0} = 0$"
      ],
      "text/plain": [
       "Eq(r^q_{0}, 0)"
      ]
     },
     "metadata": {},
     "output_type": "display_data"
    },
    {
     "data": {
      "text/latex": [
       "$\\displaystyle \\sigma^s_{1} = - \\tilde{q} q$"
      ],
      "text/plain": [
       "Eq(\\sigma^s_{1}, -\\tilde{q}*q)"
      ]
     },
     "metadata": {},
     "output_type": "display_data"
    },
    {
     "data": {
      "text/latex": [
       "$\\displaystyle R^q_{1} = \\tilde{q}$"
      ],
      "text/plain": [
       "Eq(R^q_{1}, \\tilde{q})"
      ]
     },
     "metadata": {},
     "output_type": "display_data"
    },
    {
     "data": {
      "text/latex": [
       "$\\displaystyle \\sigma^q_{1} = - \\tilde{q} q + 1$"
      ],
      "text/plain": [
       "Eq(\\sigma^q_{1}, -\\tilde{q}*q + 1)"
      ]
     },
     "metadata": {},
     "output_type": "display_data"
    },
    {
     "data": {
      "text/latex": [
       "$\\displaystyle r^q_{1} = \\tilde{q}$"
      ],
      "text/plain": [
       "Eq(r^q_{1}, \\tilde{q})"
      ]
     },
     "metadata": {},
     "output_type": "display_data"
    },
    {
     "data": {
      "text/latex": [
       "$\\displaystyle \\sigma^s_{2} = - (\\tilde{q})_{x} q - 2 (q)_{x} \\tilde{q}$"
      ],
      "text/plain": [
       "Eq(\\sigma^s_{2}, -(\\tilde{q})_{x}*q - 2*(q)_{x}*\\tilde{q})"
      ]
     },
     "metadata": {},
     "output_type": "display_data"
    },
    {
     "data": {
      "text/latex": [
       "$\\displaystyle R^q_{2} = - (\\tilde{q})_{x}$"
      ],
      "text/plain": [
       "Eq(R^q_{2}, -(\\tilde{q})_{x})"
      ]
     },
     "metadata": {},
     "output_type": "display_data"
    },
    {
     "data": {
      "text/latex": [
       "$\\displaystyle \\sigma^q_{2} = - (\\tilde{q})_{x} q - 2 (q)_{x} \\tilde{q}$"
      ],
      "text/plain": [
       "Eq(\\sigma^q_{2}, -(\\tilde{q})_{x}*q - 2*(q)_{x}*\\tilde{q})"
      ]
     },
     "metadata": {},
     "output_type": "display_data"
    },
    {
     "data": {
      "text/latex": [
       "$\\displaystyle r^q_{2} = - (\\tilde{q})_{x}$"
      ],
      "text/plain": [
       "Eq(r^q_{2}, -(\\tilde{q})_{x})"
      ]
     },
     "metadata": {},
     "output_type": "display_data"
    },
    {
     "data": {
      "text/latex": [
       "$\\displaystyle \\sigma^s_{3} = - (\\tilde{q})_{xx} q - 2 (\\tilde{q})_{x} (q)_{x} - 2 (q)_{xx} \\tilde{q} + \\tilde{q}^{2} q^{2}$"
      ],
      "text/plain": [
       "Eq(\\sigma^s_{3}, -(\\tilde{q})_{xx}*q - 2*(\\tilde{q})_{x}*(q)_{x} - 2*(q)_{xx}*\\tilde{q} + \\tilde{q}**2*q**2)"
      ]
     },
     "metadata": {},
     "output_type": "display_data"
    },
    {
     "data": {
      "text/latex": [
       "$\\displaystyle R^q_{3} = (\\tilde{q})_{xx} - \\tilde{q}^{2} q$"
      ],
      "text/plain": [
       "Eq(R^q_{3}, (\\tilde{q})_{xx} - \\tilde{q}**2*q)"
      ]
     },
     "metadata": {},
     "output_type": "display_data"
    },
    {
     "data": {
      "text/latex": [
       "$\\displaystyle \\sigma^q_{3} = - (\\tilde{q})_{xx} q - 2 (\\tilde{q})_{x} (q)_{x} - 2 (q)_{xx} \\tilde{q} + \\left(\\tilde{q} q - 1\\right)^{2}$"
      ],
      "text/plain": [
       "Eq(\\sigma^q_{3}, -(\\tilde{q})_{xx}*q - 2*(\\tilde{q})_{x}*(q)_{x} - 2*(q)_{xx}*\\tilde{q} + (\\tilde{q}*q - 1)**2)"
      ]
     },
     "metadata": {},
     "output_type": "display_data"
    },
    {
     "data": {
      "text/latex": [
       "$\\displaystyle r^q_{3} = (\\tilde{q})_{xx} - \\tilde{q}^{2} q + 2 \\tilde{q}$"
      ],
      "text/plain": [
       "Eq(r^q_{3}, (\\tilde{q})_{xx} - \\tilde{q}**2*q + 2*\\tilde{q})"
      ]
     },
     "metadata": {},
     "output_type": "display_data"
    },
    {
     "data": {
      "text/latex": [
       "$\\displaystyle \\sigma^s_{4} = - (\\tilde{q})_{xxx} q - 4 (\\tilde{q})_{xx} (q)_{x} - 4 (\\tilde{q})_{x} (q)_{xx} + 4 (\\tilde{q})_{x} \\tilde{q} q^{2} - 2 (q)_{xxx} \\tilde{q} + 7 (q)_{x} \\tilde{q}^{2} q$"
      ],
      "text/plain": [
       "Eq(\\sigma^s_{4}, -(\\tilde{q})_{xxx}*q - 4*(\\tilde{q})_{xx}*(q)_{x} - 4*(\\tilde{q})_{x}*(q)_{xx} + 4*(\\tilde{q})_{x}*\\tilde{q}*q**2 - 2*(q)_{xxx}*\\tilde{q} + 7*(q)_{x}*\\tilde{q}**2*q)"
      ]
     },
     "metadata": {},
     "output_type": "display_data"
    },
    {
     "data": {
      "text/latex": [
       "$\\displaystyle R^q_{4} = - (\\tilde{q})_{xxx} + 4 (\\tilde{q})_{x} \\tilde{q} q + (q)_{x} \\tilde{q}^{2}$"
      ],
      "text/plain": [
       "Eq(R^q_{4}, -(\\tilde{q})_{xxx} + 4*(\\tilde{q})_{x}*\\tilde{q}*q + (q)_{x}*\\tilde{q}**2)"
      ]
     },
     "metadata": {},
     "output_type": "display_data"
    },
    {
     "data": {
      "text/latex": [
       "$\\displaystyle \\sigma^q_{4} = - (\\tilde{q})_{xxx} q - 4 (\\tilde{q})_{xx} (q)_{x} - 4 (\\tilde{q})_{x} (q)_{xx} + 4 (\\tilde{q})_{x} \\tilde{q} q^{2} - 4 (\\tilde{q})_{x} q - 2 (q)_{xxx} \\tilde{q} + 7 (q)_{x} \\tilde{q}^{2} q - 8 (q)_{x} \\tilde{q}$"
      ],
      "text/plain": [
       "Eq(\\sigma^q_{4}, -(\\tilde{q})_{xxx}*q - 4*(\\tilde{q})_{xx}*(q)_{x} - 4*(\\tilde{q})_{x}*(q)_{xx} + 4*(\\tilde{q})_{x}*\\tilde{q}*q**2 - 4*(\\tilde{q})_{x}*q - 2*(q)_{xxx}*\\tilde{q} + 7*(q)_{x}*\\tilde{q}**2*q - 8*(q)_{x}*\\tilde{q})"
      ]
     },
     "metadata": {},
     "output_type": "display_data"
    },
    {
     "data": {
      "text/latex": [
       "$\\displaystyle r^q_{4} = - (\\tilde{q})_{xxx} + 4 (\\tilde{q})_{x} \\tilde{q} q - 4 (\\tilde{q})_{x} + (q)_{x} \\tilde{q}^{2}$"
      ],
      "text/plain": [
       "Eq(r^q_{4}, -(\\tilde{q})_{xxx} + 4*(\\tilde{q})_{x}*\\tilde{q}*q - 4*(\\tilde{q})_{x} + (q)_{x}*\\tilde{q}**2)"
      ]
     },
     "metadata": {},
     "output_type": "display_data"
    },
    {
     "data": {
      "text/latex": [
       "$\\displaystyle \\sigma^s_{5} = - (\\tilde{q})_{xxxx} q - 4 (\\tilde{q})_{xxx} (q)_{x} - 8 (\\tilde{q})_{xx} (q)_{xx} + 6 (\\tilde{q})_{xx} \\tilde{q} q^{2} + 5 (\\tilde{q})_{x}^{2} q^{2} - 6 (\\tilde{q})_{x} (q)_{xxx} + 26 (\\tilde{q})_{x} (q)_{x} \\tilde{q} q - 2 (q)_{xxxx} \\tilde{q} + 11 (q)_{xx} \\tilde{q}^{2} q + 10 (q)_{x}^{2} \\tilde{q}^{2} - 2 \\tilde{q}^{3} q^{3}$"
      ],
      "text/plain": [
       "Eq(\\sigma^s_{5}, -(\\tilde{q})_{xxxx}*q - 4*(\\tilde{q})_{xxx}*(q)_{x} - 8*(\\tilde{q})_{xx}*(q)_{xx} + 6*(\\tilde{q})_{xx}*\\tilde{q}*q**2 + 5*(\\tilde{q})_{x}**2*q**2 - 6*(\\tilde{q})_{x}*(q)_{xxx} + 26*(\\tilde{q})_{x}*(q)_{x}*\\tilde{q}*q - 2*(q)_{xxxx}*\\tilde{q} + 11*(q)_{xx}*\\tilde{q}**2*q + 10*(q)_{x}**2*\\tilde{q}**2 - 2*\\tilde{q}**3*q**3)"
      ]
     },
     "metadata": {},
     "output_type": "display_data"
    },
    {
     "data": {
      "text/latex": [
       "$\\displaystyle R^q_{5} = (\\tilde{q})_{xxxx} - 6 (\\tilde{q})_{xx} \\tilde{q} q - 5 (\\tilde{q})_{x}^{2} q - 6 (\\tilde{q})_{x} (q)_{x} \\tilde{q} - (q)_{xx} \\tilde{q}^{2} + 2 \\tilde{q}^{3} q^{2}$"
      ],
      "text/plain": [
       "Eq(R^q_{5}, (\\tilde{q})_{xxxx} - 6*(\\tilde{q})_{xx}*\\tilde{q}*q - 5*(\\tilde{q})_{x}**2*q - 6*(\\tilde{q})_{x}*(q)_{x}*\\tilde{q} - (q)_{xx}*\\tilde{q}**2 + 2*\\tilde{q}**3*q**2)"
      ]
     },
     "metadata": {},
     "output_type": "display_data"
    },
    {
     "data": {
      "text/latex": [
       "$\\displaystyle \\sigma^q_{5} = - (\\tilde{q})_{xxxx} q - 4 (\\tilde{q})_{xxx} (q)_{x} - 8 (\\tilde{q})_{xx} (q)_{xx} + 6 (\\tilde{q})_{xx} \\tilde{q} q^{2} - 6 (\\tilde{q})_{xx} q + 5 (\\tilde{q})_{x}^{2} q^{2} - 6 (\\tilde{q})_{x} (q)_{xxx} + 26 (\\tilde{q})_{x} (q)_{x} \\tilde{q} q - 12 (\\tilde{q})_{x} (q)_{x} - 2 (q)_{xxxx} \\tilde{q} + 11 (q)_{xx} \\tilde{q}^{2} q - 12 (q)_{xx} \\tilde{q} + 10 (q)_{x}^{2} \\tilde{q}^{2} - 2 \\tilde{q}^{3} q^{3} + 6 \\tilde{q}^{2} q^{2} - 6 \\tilde{q} q + 2$"
      ],
      "text/plain": [
       "Eq(\\sigma^q_{5}, -(\\tilde{q})_{xxxx}*q - 4*(\\tilde{q})_{xxx}*(q)_{x} - 8*(\\tilde{q})_{xx}*(q)_{xx} + 6*(\\tilde{q})_{xx}*\\tilde{q}*q**2 - 6*(\\tilde{q})_{xx}*q + 5*(\\tilde{q})_{x}**2*q**2 - 6*(\\tilde{q})_{x}*(q)_{xxx} + 26*(\\tilde{q})_{x}*(q)_{x}*\\tilde{q}*q - 12*(\\tilde{q})_{x}*(q)_{x} - 2*(q)_{xxxx}*\\tilde{q} + 11*(q)_{xx}*\\tilde{q}**2*q - 12*(q)_{xx}*\\tilde{q} + 10*(q)_{x}**2*\\tilde{q}**2 - 2*\\tilde{q}**3*q**3 + 6*\\tilde{q}**2*q**2 - 6*\\tilde{q}*q + 2)"
      ]
     },
     "metadata": {},
     "output_type": "display_data"
    },
    {
     "data": {
      "text/latex": [
       "$\\displaystyle r^q_{5} = (\\tilde{q})_{xxxx} - 6 (\\tilde{q})_{xx} \\tilde{q} q + 6 (\\tilde{q})_{xx} - 5 (\\tilde{q})_{x}^{2} q - 6 (\\tilde{q})_{x} (q)_{x} \\tilde{q} - (q)_{xx} \\tilde{q}^{2} + 2 \\tilde{q}^{3} q^{2} - 6 \\tilde{q}^{2} q + 6 \\tilde{q}$"
      ],
      "text/plain": [
       "Eq(r^q_{5}, (\\tilde{q})_{xxxx} - 6*(\\tilde{q})_{xx}*\\tilde{q}*q + 6*(\\tilde{q})_{xx} - 5*(\\tilde{q})_{x}**2*q - 6*(\\tilde{q})_{x}*(q)_{x}*\\tilde{q} - (q)_{xx}*\\tilde{q}**2 + 2*\\tilde{q}**3*q**2 - 6*\\tilde{q}**2*q + 6*\\tilde{q})"
      ]
     },
     "metadata": {},
     "output_type": "display_data"
    },
    {
     "data": {
      "text/latex": [
       "$\\displaystyle \\sigma^s_{6} = - (\\tilde{q})_{xxxxx} q - 6 (\\tilde{q})_{xxxx} (q)_{x} - 12 (\\tilde{q})_{xxx} (q)_{xx} + 8 (\\tilde{q})_{xxx} \\tilde{q} q^{2} + 18 (\\tilde{q})_{xx} (\\tilde{q})_{x} q^{2} - 14 (\\tilde{q})_{xx} (q)_{xxx} + 56 (\\tilde{q})_{xx} (q)_{x} \\tilde{q} q + 45 (\\tilde{q})_{x}^{2} (q)_{x} q - 8 (\\tilde{q})_{x} (q)_{xxxx} + 60 (\\tilde{q})_{x} (q)_{xx} \\tilde{q} q + 60 (\\tilde{q})_{x} (q)_{x}^{2} \\tilde{q} - 16 (\\tilde{q})_{x} \\tilde{q}^{2} q^{3} - 2 (q)_{xxxxx} \\tilde{q} + 15 (q)_{xxx} \\tilde{q}^{2} q + 40 (q)_{xx} (q)_{x} \\tilde{q}^{2} - 26 (q)_{x} \\tilde{q}^{3} q^{2}$"
      ],
      "text/plain": [
       "Eq(\\sigma^s_{6}, -(\\tilde{q})_{xxxxx}*q - 6*(\\tilde{q})_{xxxx}*(q)_{x} - 12*(\\tilde{q})_{xxx}*(q)_{xx} + 8*(\\tilde{q})_{xxx}*\\tilde{q}*q**2 + 18*(\\tilde{q})_{xx}*(\\tilde{q})_{x}*q**2 - 14*(\\tilde{q})_{xx}*(q)_{xxx} + 56*(\\tilde{q})_{xx}*(q)_{x}*\\tilde{q}*q + 45*(\\tilde{q})_{x}**2*(q)_{x}*q - 8*(\\tilde{q})_{x}*(q)_{xxxx} + 60*(\\tilde{q})_{x}*(q)_{xx}*\\tilde{q}*q + 60*(\\tilde{q})_{x}*(q)_{x}**2*\\tilde{q} - 16*(\\tilde{q})_{x}*\\tilde{q}**2*q**3 - 2*(q)_{xxxxx}*\\tilde{q} + 15*(q)_{xxx}*\\tilde{q}**2*q + 40*(q)_{xx}*(q)_{x}*\\tilde{q}**2 - 26*(q)_{x}*\\tilde{q}**3*q**2)"
      ]
     },
     "metadata": {},
     "output_type": "display_data"
    },
    {
     "data": {
      "text/latex": [
       "$\\displaystyle R^q_{6} = - (\\tilde{q})_{xxxxx} + 8 (\\tilde{q})_{xxx} \\tilde{q} q + 18 (\\tilde{q})_{xx} (\\tilde{q})_{x} q + 12 (\\tilde{q})_{xx} (q)_{x} \\tilde{q} + 11 (\\tilde{q})_{x}^{2} (q)_{x} + 8 (\\tilde{q})_{x} (q)_{xx} \\tilde{q} - 16 (\\tilde{q})_{x} \\tilde{q}^{2} q^{2} + (q)_{xxx} \\tilde{q}^{2} - 6 (q)_{x} \\tilde{q}^{3} q$"
      ],
      "text/plain": [
       "Eq(R^q_{6}, -(\\tilde{q})_{xxxxx} + 8*(\\tilde{q})_{xxx}*\\tilde{q}*q + 18*(\\tilde{q})_{xx}*(\\tilde{q})_{x}*q + 12*(\\tilde{q})_{xx}*(q)_{x}*\\tilde{q} + 11*(\\tilde{q})_{x}**2*(q)_{x} + 8*(\\tilde{q})_{x}*(q)_{xx}*\\tilde{q} - 16*(\\tilde{q})_{x}*\\tilde{q}**2*q**2 + (q)_{xxx}*\\tilde{q}**2 - 6*(q)_{x}*\\tilde{q}**3*q)"
      ]
     },
     "metadata": {},
     "output_type": "display_data"
    },
    {
     "data": {
      "text/latex": [
       "$\\displaystyle \\sigma^q_{6} = - (\\tilde{q})_{xxxxx} q - 6 (\\tilde{q})_{xxxx} (q)_{x} - 12 (\\tilde{q})_{xxx} (q)_{xx} + 8 (\\tilde{q})_{xxx} \\tilde{q} q^{2} - 8 (\\tilde{q})_{xxx} q + 18 (\\tilde{q})_{xx} (\\tilde{q})_{x} q^{2} - 14 (\\tilde{q})_{xx} (q)_{xxx} + 56 (\\tilde{q})_{xx} (q)_{x} \\tilde{q} q - 32 (\\tilde{q})_{xx} (q)_{x} + 45 (\\tilde{q})_{x}^{2} (q)_{x} q - 8 (\\tilde{q})_{x} (q)_{xxxx} + 60 (\\tilde{q})_{x} (q)_{xx} \\tilde{q} q - 32 (\\tilde{q})_{x} (q)_{xx} + 60 (\\tilde{q})_{x} (q)_{x}^{2} \\tilde{q} - 16 (\\tilde{q})_{x} \\tilde{q}^{2} q^{3} + 32 (\\tilde{q})_{x} \\tilde{q} q^{2} - 16 (\\tilde{q})_{x} q - 2 (q)_{xxxxx} \\tilde{q} + 15 (q)_{xxx} \\tilde{q}^{2} q - 16 (q)_{xxx} \\tilde{q} + 40 (q)_{xx} (q)_{x} \\tilde{q}^{2} - 26 (q)_{x} \\tilde{q}^{3} q^{2} + 56 (q)_{x} \\tilde{q}^{2} q - 32 (q)_{x} \\tilde{q}$"
      ],
      "text/plain": [
       "Eq(\\sigma^q_{6}, -(\\tilde{q})_{xxxxx}*q - 6*(\\tilde{q})_{xxxx}*(q)_{x} - 12*(\\tilde{q})_{xxx}*(q)_{xx} + 8*(\\tilde{q})_{xxx}*\\tilde{q}*q**2 - 8*(\\tilde{q})_{xxx}*q + 18*(\\tilde{q})_{xx}*(\\tilde{q})_{x}*q**2 - 14*(\\tilde{q})_{xx}*(q)_{xxx} + 56*(\\tilde{q})_{xx}*(q)_{x}*\\tilde{q}*q - 32*(\\tilde{q})_{xx}*(q)_{x} + 45*(\\tilde{q})_{x}**2*(q)_{x}*q - 8*(\\tilde{q})_{x}*(q)_{xxxx} + 60*(\\tilde{q})_{x}*(q)_{xx}*\\tilde{q}*q - 32*(\\tilde{q})_{x}*(q)_{xx} + 60*(\\tilde{q})_{x}*(q)_{x}**2*\\tilde{q} - 16*(\\tilde{q})_{x}*\\tilde{q}**2*q**3 + 32*(\\tilde{q})_{x}*\\tilde{q}*q**2 - 16*(\\tilde{q})_{x}*q - 2*(q)_{xxxxx}*\\tilde{q} + 15*(q)_{xxx}*\\tilde{q}**2*q - 16*(q)_{xxx}*\\tilde{q} + 40*(q)_{xx}*(q)_{x}*\\tilde{q}**2 - 26*(q)_{x}*\\tilde{q}**3*q**2 + 56*(q)_{x}*\\tilde{q}**2*q - 32*(q)_{x}*\\tilde{q})"
      ]
     },
     "metadata": {},
     "output_type": "display_data"
    },
    {
     "data": {
      "text/latex": [
       "$\\displaystyle r^q_{6} = - (\\tilde{q})_{xxxxx} + 8 (\\tilde{q})_{xxx} \\tilde{q} q - 8 (\\tilde{q})_{xxx} + 18 (\\tilde{q})_{xx} (\\tilde{q})_{x} q + 12 (\\tilde{q})_{xx} (q)_{x} \\tilde{q} + 11 (\\tilde{q})_{x}^{2} (q)_{x} + 8 (\\tilde{q})_{x} (q)_{xx} \\tilde{q} - 16 (\\tilde{q})_{x} \\tilde{q}^{2} q^{2} + 32 (\\tilde{q})_{x} \\tilde{q} q - 16 (\\tilde{q})_{x} + (q)_{xxx} \\tilde{q}^{2} - 6 (q)_{x} \\tilde{q}^{3} q + 8 (q)_{x} \\tilde{q}^{2}$"
      ],
      "text/plain": [
       "Eq(r^q_{6}, -(\\tilde{q})_{xxxxx} + 8*(\\tilde{q})_{xxx}*\\tilde{q}*q - 8*(\\tilde{q})_{xxx} + 18*(\\tilde{q})_{xx}*(\\tilde{q})_{x}*q + 12*(\\tilde{q})_{xx}*(q)_{x}*\\tilde{q} + 11*(\\tilde{q})_{x}**2*(q)_{x} + 8*(\\tilde{q})_{x}*(q)_{xx}*\\tilde{q} - 16*(\\tilde{q})_{x}*\\tilde{q}**2*q**2 + 32*(\\tilde{q})_{x}*\\tilde{q}*q - 16*(\\tilde{q})_{x} + (q)_{xxx}*\\tilde{q}**2 - 6*(q)_{x}*\\tilde{q}**3*q + 8*(q)_{x}*\\tilde{q}**2)"
      ]
     },
     "metadata": {},
     "output_type": "display_data"
    },
    {
     "ename": "IndexError",
     "evalue": "list index out of range",
     "output_type": "error",
     "traceback": [
      "\u001b[1;31m---------------------------------------------------------------------------\u001b[0m",
      "\u001b[1;31mIndexError\u001b[0m                                Traceback (most recent call last)",
      "Cell \u001b[1;32mIn[6], line 2\u001b[0m\n\u001b[0;32m      1\u001b[0m \u001b[38;5;28;01mfor\u001b[39;00m n \u001b[38;5;129;01min\u001b[39;00m \u001b[38;5;28mrange\u001b[39m(\u001b[38;5;241m12\u001b[39m):\n\u001b[1;32m----> 2\u001b[0m     display(Eq(\u001b[43msigs_sym\u001b[49m\u001b[43m[\u001b[49m\u001b[43mn\u001b[49m\u001b[43m]\u001b[49m, sigs_eq[n]))\n\u001b[0;32m      3\u001b[0m     display(Eq(Rq_sym[n], Rq_eq[n]))\n\u001b[0;32m      4\u001b[0m     display(Eq(sigq_sym[n], sigq_eq[n]))\n",
      "\u001b[1;31mIndexError\u001b[0m: list index out of range"
     ]
    }
   ],
   "source": [
    "for n in range(12):\n",
    "    display(Eq(sigs_sym[n], sigs_eq[n]))\n",
    "    display(Eq(Rq_sym[n], Rq_eq[n]))\n",
    "    display(Eq(sigq_sym[n], sigq_eq[n]))\n",
    "    display(Eq(rq_sym[n], rq_eq[n]))\n"
   ]
  },
  {
   "cell_type": "code",
   "execution_count": 7,
   "id": "a2320d93",
   "metadata": {},
   "outputs": [],
   "source": [
    "def H_NLS(n):\n",
    "    return - I**n * sigs_eq[n+1]\n",
    "\n",
    "def H_GP(n):\n",
    "    return - I**n * sigq_eq[n+1]"
   ]
  },
  {
   "cell_type": "code",
   "execution_count": 12,
   "id": "0e37fc72",
   "metadata": {},
   "outputs": [
    {
     "name": "stdout",
     "output_type": "stream",
     "text": [
      "NLS-hierarchy hamiltonians\n"
     ]
    },
    {
     "data": {
      "text/latex": [
       "$\\displaystyle H_{\\text{NLS}}^{0} = 0$"
      ],
      "text/plain": [
       "Eq(H_{\\text{NLS}}^{0}, 0)"
      ]
     },
     "metadata": {},
     "output_type": "display_data"
    },
    {
     "data": {
      "text/latex": [
       "$\\displaystyle H_{\\text{NLS}}^{1} = - \\tilde{q} q$"
      ],
      "text/plain": [
       "Eq(H_{\\text{NLS}}^{1}, -\\tilde{q}*q)"
      ]
     },
     "metadata": {},
     "output_type": "display_data"
    },
    {
     "data": {
      "text/latex": [
       "$\\displaystyle H_{\\text{NLS}}^{2} = - (\\tilde{q})_{x} q - 2 (q)_{x} \\tilde{q}$"
      ],
      "text/plain": [
       "Eq(H_{\\text{NLS}}^{2}, -(\\tilde{q})_{x}*q - 2*(q)_{x}*\\tilde{q})"
      ]
     },
     "metadata": {},
     "output_type": "display_data"
    },
    {
     "data": {
      "text/latex": [
       "$\\displaystyle H_{\\text{NLS}}^{3} = - (\\tilde{q})_{xx} q - 2 (\\tilde{q})_{x} (q)_{x} - 2 (q)_{xx} \\tilde{q} + \\tilde{q}^{2} q^{2}$"
      ],
      "text/plain": [
       "Eq(H_{\\text{NLS}}^{3}, -(\\tilde{q})_{xx}*q - 2*(\\tilde{q})_{x}*(q)_{x} - 2*(q)_{xx}*\\tilde{q} + \\tilde{q}**2*q**2)"
      ]
     },
     "metadata": {},
     "output_type": "display_data"
    },
    {
     "data": {
      "text/latex": [
       "$\\displaystyle H_{\\text{NLS}}^{4} = - (\\tilde{q})_{xxx} q - 4 (\\tilde{q})_{xx} (q)_{x} - 4 (\\tilde{q})_{x} (q)_{xx} + 4 (\\tilde{q})_{x} \\tilde{q} q^{2} - 2 (q)_{xxx} \\tilde{q} + 7 (q)_{x} \\tilde{q}^{2} q$"
      ],
      "text/plain": [
       "Eq(H_{\\text{NLS}}^{4}, -(\\tilde{q})_{xxx}*q - 4*(\\tilde{q})_{xx}*(q)_{x} - 4*(\\tilde{q})_{x}*(q)_{xx} + 4*(\\tilde{q})_{x}*\\tilde{q}*q**2 - 2*(q)_{xxx}*\\tilde{q} + 7*(q)_{x}*\\tilde{q}**2*q)"
      ]
     },
     "metadata": {},
     "output_type": "display_data"
    },
    {
     "data": {
      "text/latex": [
       "$\\displaystyle H_{\\text{NLS}}^{5} = - (\\tilde{q})_{xxxx} q - 4 (\\tilde{q})_{xxx} (q)_{x} - 8 (\\tilde{q})_{xx} (q)_{xx} + 6 (\\tilde{q})_{xx} \\tilde{q} q^{2} + 5 (\\tilde{q})_{x}^{2} q^{2} - 6 (\\tilde{q})_{x} (q)_{xxx} + 26 (\\tilde{q})_{x} (q)_{x} \\tilde{q} q - 2 (q)_{xxxx} \\tilde{q} + 11 (q)_{xx} \\tilde{q}^{2} q + 10 (q)_{x}^{2} \\tilde{q}^{2} - 2 \\tilde{q}^{3} q^{3}$"
      ],
      "text/plain": [
       "Eq(H_{\\text{NLS}}^{5}, -(\\tilde{q})_{xxxx}*q - 4*(\\tilde{q})_{xxx}*(q)_{x} - 8*(\\tilde{q})_{xx}*(q)_{xx} + 6*(\\tilde{q})_{xx}*\\tilde{q}*q**2 + 5*(\\tilde{q})_{x}**2*q**2 - 6*(\\tilde{q})_{x}*(q)_{xxx} + 26*(\\tilde{q})_{x}*(q)_{x}*\\tilde{q}*q - 2*(q)_{xxxx}*\\tilde{q} + 11*(q)_{xx}*\\tilde{q}**2*q + 10*(q)_{x}**2*\\tilde{q}**2 - 2*\\tilde{q}**3*q**3)"
      ]
     },
     "metadata": {},
     "output_type": "display_data"
    },
    {
     "data": {
      "text/latex": [
       "$\\displaystyle H_{\\text{NLS}}^{6} = - (\\tilde{q})_{xxxxx} q - 6 (\\tilde{q})_{xxxx} (q)_{x} - 12 (\\tilde{q})_{xxx} (q)_{xx} + 8 (\\tilde{q})_{xxx} \\tilde{q} q^{2} + 18 (\\tilde{q})_{xx} (\\tilde{q})_{x} q^{2} - 14 (\\tilde{q})_{xx} (q)_{xxx} + 56 (\\tilde{q})_{xx} (q)_{x} \\tilde{q} q + 45 (\\tilde{q})_{x}^{2} (q)_{x} q - 8 (\\tilde{q})_{x} (q)_{xxxx} + 60 (\\tilde{q})_{x} (q)_{xx} \\tilde{q} q + 60 (\\tilde{q})_{x} (q)_{x}^{2} \\tilde{q} - 16 (\\tilde{q})_{x} \\tilde{q}^{2} q^{3} - 2 (q)_{xxxxx} \\tilde{q} + 15 (q)_{xxx} \\tilde{q}^{2} q + 40 (q)_{xx} (q)_{x} \\tilde{q}^{2} - 26 (q)_{x} \\tilde{q}^{3} q^{2}$"
      ],
      "text/plain": [
       "Eq(H_{\\text{NLS}}^{6}, -(\\tilde{q})_{xxxxx}*q - 6*(\\tilde{q})_{xxxx}*(q)_{x} - 12*(\\tilde{q})_{xxx}*(q)_{xx} + 8*(\\tilde{q})_{xxx}*\\tilde{q}*q**2 + 18*(\\tilde{q})_{xx}*(\\tilde{q})_{x}*q**2 - 14*(\\tilde{q})_{xx}*(q)_{xxx} + 56*(\\tilde{q})_{xx}*(q)_{x}*\\tilde{q}*q + 45*(\\tilde{q})_{x}**2*(q)_{x}*q - 8*(\\tilde{q})_{x}*(q)_{xxxx} + 60*(\\tilde{q})_{x}*(q)_{xx}*\\tilde{q}*q + 60*(\\tilde{q})_{x}*(q)_{x}**2*\\tilde{q} - 16*(\\tilde{q})_{x}*\\tilde{q}**2*q**3 - 2*(q)_{xxxxx}*\\tilde{q} + 15*(q)_{xxx}*\\tilde{q}**2*q + 40*(q)_{xx}*(q)_{x}*\\tilde{q}**2 - 26*(q)_{x}*\\tilde{q}**3*q**2)"
      ]
     },
     "metadata": {},
     "output_type": "display_data"
    },
    {
     "data": {
      "text/latex": [
       "$\\displaystyle H_{\\text{NLS}}^{7} = - (\\tilde{q})_{xxxxxx} q - 6 (\\tilde{q})_{xxxxx} (q)_{x} - 18 (\\tilde{q})_{xxxx} (q)_{xx} + 10 (\\tilde{q})_{xxxx} \\tilde{q} q^{2} + 28 (\\tilde{q})_{xxx} (\\tilde{q})_{x} q^{2} - 26 (\\tilde{q})_{xxx} (q)_{xxx} + 76 (\\tilde{q})_{xxx} (q)_{x} \\tilde{q} q + 19 (\\tilde{q})_{xx}^{2} q^{2} + 176 (\\tilde{q})_{xx} (\\tilde{q})_{x} (q)_{x} q - 22 (\\tilde{q})_{xx} (q)_{xxxx} + 136 (\\tilde{q})_{xx} (q)_{xx} \\tilde{q} q + 120 (\\tilde{q})_{xx} (q)_{x}^{2} \\tilde{q} - 30 (\\tilde{q})_{xx} \\tilde{q}^{2} q^{3} + 113 (\\tilde{q})_{x}^{2} (q)_{xx} q + 98 (\\tilde{q})_{x}^{2} (q)_{x}^{2} - 50 (\\tilde{q})_{x}^{2} \\tilde{q} q^{3} - 10 (\\tilde{q})_{x} (q)_{xxxxx} + 106 (\\tilde{q})_{x} (q)_{xxx} \\tilde{q} q + 276 (\\tilde{q})_{x} (q)_{xx} (q)_{x} \\tilde{q} - 196 (\\tilde{q})_{x} (q)_{x} \\tilde{q}^{2} q^{2} - 2 (q)_{xxxxxx} \\tilde{q} + 19 (q)_{xxxx} \\tilde{q}^{2} q + 62 (q)_{xxx} (q)_{x} \\tilde{q}^{2} + 44 (q)_{xx}^{2} \\tilde{q}^{2} - 52 (q)_{xx} \\tilde{q}^{3} q^{2} - 94 (q)_{x}^{2} \\tilde{q}^{3} q + 5 \\tilde{q}^{4} q^{4}$"
      ],
      "text/plain": [
       "Eq(H_{\\text{NLS}}^{7}, -(\\tilde{q})_{xxxxxx}*q - 6*(\\tilde{q})_{xxxxx}*(q)_{x} - 18*(\\tilde{q})_{xxxx}*(q)_{xx} + 10*(\\tilde{q})_{xxxx}*\\tilde{q}*q**2 + 28*(\\tilde{q})_{xxx}*(\\tilde{q})_{x}*q**2 - 26*(\\tilde{q})_{xxx}*(q)_{xxx} + 76*(\\tilde{q})_{xxx}*(q)_{x}*\\tilde{q}*q + 19*(\\tilde{q})_{xx}**2*q**2 + 176*(\\tilde{q})_{xx}*(\\tilde{q})_{x}*(q)_{x}*q - 22*(\\tilde{q})_{xx}*(q)_{xxxx} + 136*(\\tilde{q})_{xx}*(q)_{xx}*\\tilde{q}*q + 120*(\\tilde{q})_{xx}*(q)_{x}**2*\\tilde{q} - 30*(\\tilde{q})_{xx}*\\tilde{q}**2*q**3 + 113*(\\tilde{q})_{x}**2*(q)_{xx}*q + 98*(\\tilde{q})_{x}**2*(q)_{x}**2 - 50*(\\tilde{q})_{x}**2*\\tilde{q}*q**3 - 10*(\\tilde{q})_{x}*(q)_{xxxxx} + 106*(\\tilde{q})_{x}*(q)_{xxx}*\\tilde{q}*q + 276*(\\tilde{q})_{x}*(q)_{xx}*(q)_{x}*\\tilde{q} - 196*(\\tilde{q})_{x}*(q)_{x}*\\tilde{q}**2*q**2 - 2*(q)_{xxxxxx}*\\tilde{q} + 19*(q)_{xxxx}*\\tilde{q}**2*q + 62*(q)_{xxx}*(q)_{x}*\\tilde{q}**2 + 44*(q)_{xx}**2*\\tilde{q}**2 - 52*(q)_{xx}*\\tilde{q}**3*q**2 - 94*(q)_{x}**2*\\tilde{q}**3*q + 5*\\tilde{q}**4*q**4)"
      ]
     },
     "metadata": {},
     "output_type": "display_data"
    },
    {
     "name": "stdout",
     "output_type": "stream",
     "text": [
      "GP-hierarchy hamiltonians\n"
     ]
    },
    {
     "data": {
      "text/latex": [
       "$\\displaystyle H_{\\text{GP}}^{0} = 0$"
      ],
      "text/plain": [
       "Eq(H_{\\text{GP}}^{0}, 0)"
      ]
     },
     "metadata": {},
     "output_type": "display_data"
    },
    {
     "data": {
      "text/latex": [
       "$\\displaystyle H_{\\text{GP}}^{1} = - \\tilde{q} q + 1$"
      ],
      "text/plain": [
       "Eq(H_{\\text{GP}}^{1}, -\\tilde{q}*q + 1)"
      ]
     },
     "metadata": {},
     "output_type": "display_data"
    },
    {
     "data": {
      "text/latex": [
       "$\\displaystyle H_{\\text{GP}}^{2} = - (\\tilde{q})_{x} q - 2 (q)_{x} \\tilde{q}$"
      ],
      "text/plain": [
       "Eq(H_{\\text{GP}}^{2}, -(\\tilde{q})_{x}*q - 2*(q)_{x}*\\tilde{q})"
      ]
     },
     "metadata": {},
     "output_type": "display_data"
    },
    {
     "data": {
      "text/latex": [
       "$\\displaystyle H_{\\text{GP}}^{3} = - (\\tilde{q})_{xx} q - 2 (\\tilde{q})_{x} (q)_{x} - 2 (q)_{xx} \\tilde{q} + \\left(\\tilde{q} q - 1\\right)^{2}$"
      ],
      "text/plain": [
       "Eq(H_{\\text{GP}}^{3}, -(\\tilde{q})_{xx}*q - 2*(\\tilde{q})_{x}*(q)_{x} - 2*(q)_{xx}*\\tilde{q} + (\\tilde{q}*q - 1)**2)"
      ]
     },
     "metadata": {},
     "output_type": "display_data"
    },
    {
     "data": {
      "text/latex": [
       "$\\displaystyle H_{\\text{GP}}^{4} = - (\\tilde{q})_{xxx} q - 4 (\\tilde{q})_{xx} (q)_{x} - 4 (\\tilde{q})_{x} (q)_{xx} + 4 (\\tilde{q})_{x} \\tilde{q} q^{2} - 4 (\\tilde{q})_{x} q - 2 (q)_{xxx} \\tilde{q} + 7 (q)_{x} \\tilde{q}^{2} q - 8 (q)_{x} \\tilde{q}$"
      ],
      "text/plain": [
       "Eq(H_{\\text{GP}}^{4}, -(\\tilde{q})_{xxx}*q - 4*(\\tilde{q})_{xx}*(q)_{x} - 4*(\\tilde{q})_{x}*(q)_{xx} + 4*(\\tilde{q})_{x}*\\tilde{q}*q**2 - 4*(\\tilde{q})_{x}*q - 2*(q)_{xxx}*\\tilde{q} + 7*(q)_{x}*\\tilde{q}**2*q - 8*(q)_{x}*\\tilde{q})"
      ]
     },
     "metadata": {},
     "output_type": "display_data"
    },
    {
     "data": {
      "text/latex": [
       "$\\displaystyle H_{\\text{GP}}^{5} = - (\\tilde{q})_{xxxx} q - 4 (\\tilde{q})_{xxx} (q)_{x} - 8 (\\tilde{q})_{xx} (q)_{xx} + 6 (\\tilde{q})_{xx} \\tilde{q} q^{2} - 6 (\\tilde{q})_{xx} q + 5 (\\tilde{q})_{x}^{2} q^{2} - 6 (\\tilde{q})_{x} (q)_{xxx} + 26 (\\tilde{q})_{x} (q)_{x} \\tilde{q} q - 12 (\\tilde{q})_{x} (q)_{x} - 2 (q)_{xxxx} \\tilde{q} + 11 (q)_{xx} \\tilde{q}^{2} q - 12 (q)_{xx} \\tilde{q} + 10 (q)_{x}^{2} \\tilde{q}^{2} - 2 \\tilde{q}^{3} q^{3} + 6 \\tilde{q}^{2} q^{2} - 6 \\tilde{q} q + 2$"
      ],
      "text/plain": [
       "Eq(H_{\\text{GP}}^{5}, -(\\tilde{q})_{xxxx}*q - 4*(\\tilde{q})_{xxx}*(q)_{x} - 8*(\\tilde{q})_{xx}*(q)_{xx} + 6*(\\tilde{q})_{xx}*\\tilde{q}*q**2 - 6*(\\tilde{q})_{xx}*q + 5*(\\tilde{q})_{x}**2*q**2 - 6*(\\tilde{q})_{x}*(q)_{xxx} + 26*(\\tilde{q})_{x}*(q)_{x}*\\tilde{q}*q - 12*(\\tilde{q})_{x}*(q)_{x} - 2*(q)_{xxxx}*\\tilde{q} + 11*(q)_{xx}*\\tilde{q}**2*q - 12*(q)_{xx}*\\tilde{q} + 10*(q)_{x}**2*\\tilde{q}**2 - 2*\\tilde{q}**3*q**3 + 6*\\tilde{q}**2*q**2 - 6*\\tilde{q}*q + 2)"
      ]
     },
     "metadata": {},
     "output_type": "display_data"
    },
    {
     "data": {
      "text/latex": [
       "$\\displaystyle H_{\\text{GP}}^{6} = - (\\tilde{q})_{xxxxx} q - 6 (\\tilde{q})_{xxxx} (q)_{x} - 12 (\\tilde{q})_{xxx} (q)_{xx} + 8 (\\tilde{q})_{xxx} \\tilde{q} q^{2} - 8 (\\tilde{q})_{xxx} q + 18 (\\tilde{q})_{xx} (\\tilde{q})_{x} q^{2} - 14 (\\tilde{q})_{xx} (q)_{xxx} + 56 (\\tilde{q})_{xx} (q)_{x} \\tilde{q} q - 32 (\\tilde{q})_{xx} (q)_{x} + 45 (\\tilde{q})_{x}^{2} (q)_{x} q - 8 (\\tilde{q})_{x} (q)_{xxxx} + 60 (\\tilde{q})_{x} (q)_{xx} \\tilde{q} q - 32 (\\tilde{q})_{x} (q)_{xx} + 60 (\\tilde{q})_{x} (q)_{x}^{2} \\tilde{q} - 16 (\\tilde{q})_{x} \\tilde{q}^{2} q^{3} + 32 (\\tilde{q})_{x} \\tilde{q} q^{2} - 16 (\\tilde{q})_{x} q - 2 (q)_{xxxxx} \\tilde{q} + 15 (q)_{xxx} \\tilde{q}^{2} q - 16 (q)_{xxx} \\tilde{q} + 40 (q)_{xx} (q)_{x} \\tilde{q}^{2} - 26 (q)_{x} \\tilde{q}^{3} q^{2} + 56 (q)_{x} \\tilde{q}^{2} q - 32 (q)_{x} \\tilde{q}$"
      ],
      "text/plain": [
       "Eq(H_{\\text{GP}}^{6}, -(\\tilde{q})_{xxxxx}*q - 6*(\\tilde{q})_{xxxx}*(q)_{x} - 12*(\\tilde{q})_{xxx}*(q)_{xx} + 8*(\\tilde{q})_{xxx}*\\tilde{q}*q**2 - 8*(\\tilde{q})_{xxx}*q + 18*(\\tilde{q})_{xx}*(\\tilde{q})_{x}*q**2 - 14*(\\tilde{q})_{xx}*(q)_{xxx} + 56*(\\tilde{q})_{xx}*(q)_{x}*\\tilde{q}*q - 32*(\\tilde{q})_{xx}*(q)_{x} + 45*(\\tilde{q})_{x}**2*(q)_{x}*q - 8*(\\tilde{q})_{x}*(q)_{xxxx} + 60*(\\tilde{q})_{x}*(q)_{xx}*\\tilde{q}*q - 32*(\\tilde{q})_{x}*(q)_{xx} + 60*(\\tilde{q})_{x}*(q)_{x}**2*\\tilde{q} - 16*(\\tilde{q})_{x}*\\tilde{q}**2*q**3 + 32*(\\tilde{q})_{x}*\\tilde{q}*q**2 - 16*(\\tilde{q})_{x}*q - 2*(q)_{xxxxx}*\\tilde{q} + 15*(q)_{xxx}*\\tilde{q}**2*q - 16*(q)_{xxx}*\\tilde{q} + 40*(q)_{xx}*(q)_{x}*\\tilde{q}**2 - 26*(q)_{x}*\\tilde{q}**3*q**2 + 56*(q)_{x}*\\tilde{q}**2*q - 32*(q)_{x}*\\tilde{q})"
      ]
     },
     "metadata": {},
     "output_type": "display_data"
    },
    {
     "data": {
      "text/latex": [
       "$\\displaystyle H_{\\text{GP}}^{7} = - (\\tilde{q})_{xxxxxx} q - 6 (\\tilde{q})_{xxxxx} (q)_{x} - 18 (\\tilde{q})_{xxxx} (q)_{xx} + 10 (\\tilde{q})_{xxxx} \\tilde{q} q^{2} - 10 (\\tilde{q})_{xxxx} q + 28 (\\tilde{q})_{xxx} (\\tilde{q})_{x} q^{2} - 26 (\\tilde{q})_{xxx} (q)_{xxx} + 76 (\\tilde{q})_{xxx} (q)_{x} \\tilde{q} q - 40 (\\tilde{q})_{xxx} (q)_{x} + 19 (\\tilde{q})_{xx}^{2} q^{2} + 176 (\\tilde{q})_{xx} (\\tilde{q})_{x} (q)_{x} q - 22 (\\tilde{q})_{xx} (q)_{xxxx} + 136 (\\tilde{q})_{xx} (q)_{xx} \\tilde{q} q - 80 (\\tilde{q})_{xx} (q)_{xx} + 120 (\\tilde{q})_{xx} (q)_{x}^{2} \\tilde{q} - 30 (\\tilde{q})_{xx} \\tilde{q}^{2} q^{3} + 60 (\\tilde{q})_{xx} \\tilde{q} q^{2} - 30 (\\tilde{q})_{xx} q + 113 (\\tilde{q})_{x}^{2} (q)_{xx} q + 98 (\\tilde{q})_{x}^{2} (q)_{x}^{2} - 50 (\\tilde{q})_{x}^{2} \\tilde{q} q^{3} + 50 (\\tilde{q})_{x}^{2} q^{2} - 10 (\\tilde{q})_{x} (q)_{xxxxx} + 106 (\\tilde{q})_{x} (q)_{xxx} \\tilde{q} q - 60 (\\tilde{q})_{x} (q)_{xxx} + 276 (\\tilde{q})_{x} (q)_{xx} (q)_{x} \\tilde{q} - 196 (\\tilde{q})_{x} (q)_{x} \\tilde{q}^{2} q^{2} + 260 (\\tilde{q})_{x} (q)_{x} \\tilde{q} q - 60 (\\tilde{q})_{x} (q)_{x} - 2 (q)_{xxxxxx} \\tilde{q} + 19 (q)_{xxxx} \\tilde{q}^{2} q - 20 (q)_{xxxx} \\tilde{q} + 62 (q)_{xxx} (q)_{x} \\tilde{q}^{2} + 44 (q)_{xx}^{2} \\tilde{q}^{2} - 52 (q)_{xx} \\tilde{q}^{3} q^{2} + 110 (q)_{xx} \\tilde{q}^{2} q - 60 (q)_{xx} \\tilde{q} - 94 (q)_{x}^{2} \\tilde{q}^{3} q + 100 (q)_{x}^{2} \\tilde{q}^{2} + 5 \\tilde{q}^{4} q^{4} - 20 \\tilde{q}^{3} q^{3} + 30 \\tilde{q}^{2} q^{2} - 20 \\tilde{q} q + 5$"
      ],
      "text/plain": [
       "Eq(H_{\\text{GP}}^{7}, -(\\tilde{q})_{xxxxxx}*q - 6*(\\tilde{q})_{xxxxx}*(q)_{x} - 18*(\\tilde{q})_{xxxx}*(q)_{xx} + 10*(\\tilde{q})_{xxxx}*\\tilde{q}*q**2 - 10*(\\tilde{q})_{xxxx}*q + 28*(\\tilde{q})_{xxx}*(\\tilde{q})_{x}*q**2 - 26*(\\tilde{q})_{xxx}*(q)_{xxx} + 76*(\\tilde{q})_{xxx}*(q)_{x}*\\tilde{q}*q - 40*(\\tilde{q})_{xxx}*(q)_{x} + 19*(\\tilde{q})_{xx}**2*q**2 + 176*(\\tilde{q})_{xx}*(\\tilde{q})_{x}*(q)_{x}*q - 22*(\\tilde{q})_{xx}*(q)_{xxxx} + 136*(\\tilde{q})_{xx}*(q)_{xx}*\\tilde{q}*q - 80*(\\tilde{q})_{xx}*(q)_{xx} + 120*(\\tilde{q})_{xx}*(q)_{x}**2*\\tilde{q} - 30*(\\tilde{q})_{xx}*\\tilde{q}**2*q**3 + 60*(\\tilde{q})_{xx}*\\tilde{q}*q**2 - 30*(\\tilde{q})_{xx}*q + 113*(\\tilde{q})_{x}**2*(q)_{xx}*q + 98*(\\tilde{q})_{x}**2*(q)_{x}**2 - 50*(\\tilde{q})_{x}**2*\\tilde{q}*q**3 + 50*(\\tilde{q})_{x}**2*q**2 - 10*(\\tilde{q})_{x}*(q)_{xxxxx} + 106*(\\tilde{q})_{x}*(q)_{xxx}*\\tilde{q}*q - 60*(\\tilde{q})_{x}*(q)_{xxx} + 276*(\\tilde{q})_{x}*(q)_{xx}*(q)_{x}*\\tilde{q} - 196*(\\tilde{q})_{x}*(q)_{x}*\\tilde{q}**2*q**2 + 260*(\\tilde{q})_{x}*(q)_{x}*\\tilde{q}*q - 60*(\\tilde{q})_{x}*(q)_{x} - 2*(q)_{xxxxxx}*\\tilde{q} + 19*(q)_{xxxx}*\\tilde{q}**2*q - 20*(q)_{xxxx}*\\tilde{q} + 62*(q)_{xxx}*(q)_{x}*\\tilde{q}**2 + 44*(q)_{xx}**2*\\tilde{q}**2 - 52*(q)_{xx}*\\tilde{q}**3*q**2 + 110*(q)_{xx}*\\tilde{q}**2*q - 60*(q)_{xx}*\\tilde{q} - 94*(q)_{x}**2*\\tilde{q}**3*q + 100*(q)_{x}**2*\\tilde{q}**2 + 5*\\tilde{q}**4*q**4 - 20*\\tilde{q}**3*q**3 + 30*\\tilde{q}**2*q**2 - 20*\\tilde{q}*q + 5)"
      ]
     },
     "metadata": {},
     "output_type": "display_data"
    },
    {
     "name": "stdout",
     "output_type": "stream",
     "text": [
      "GP-to-NLS formula\n"
     ]
    },
    {
     "data": {
      "text/latex": [
       "$\\displaystyle 0 = 0$"
      ],
      "text/plain": [
       "Eq(0, 0)"
      ]
     },
     "metadata": {},
     "output_type": "display_data"
    },
    {
     "data": {
      "text/latex": [
       "$\\displaystyle 0 = 0$"
      ],
      "text/plain": [
       "Eq(0, 0)"
      ]
     },
     "metadata": {},
     "output_type": "display_data"
    },
    {
     "data": {
      "text/latex": [
       "$\\displaystyle 0 = 0$"
      ],
      "text/plain": [
       "Eq(0, 0)"
      ]
     },
     "metadata": {},
     "output_type": "display_data"
    },
    {
     "data": {
      "text/latex": [
       "$\\displaystyle 0 = 0$"
      ],
      "text/plain": [
       "Eq(0, 0)"
      ]
     },
     "metadata": {},
     "output_type": "display_data"
    },
    {
     "data": {
      "text/latex": [
       "$\\displaystyle 0 = 0$"
      ],
      "text/plain": [
       "Eq(0, 0)"
      ]
     },
     "metadata": {},
     "output_type": "display_data"
    },
    {
     "data": {
      "text/latex": [
       "$\\displaystyle 0 = 0$"
      ],
      "text/plain": [
       "Eq(0, 0)"
      ]
     },
     "metadata": {},
     "output_type": "display_data"
    },
    {
     "data": {
      "text/latex": [
       "$\\displaystyle 0 = 0$"
      ],
      "text/plain": [
       "Eq(0, 0)"
      ]
     },
     "metadata": {},
     "output_type": "display_data"
    },
    {
     "data": {
      "text/latex": [
       "$\\displaystyle 0 = 0$"
      ],
      "text/plain": [
       "Eq(0, 0)"
      ]
     },
     "metadata": {},
     "output_type": "display_data"
    },
    {
     "name": "stdout",
     "output_type": "stream",
     "text": [
      "NLS-to-GP formula\n"
     ]
    },
    {
     "data": {
      "text/latex": [
       "$\\displaystyle 0 = 0$"
      ],
      "text/plain": [
       "Eq(0, 0)"
      ]
     },
     "metadata": {},
     "output_type": "display_data"
    },
    {
     "data": {
      "text/latex": [
       "$\\displaystyle 0 = 0$"
      ],
      "text/plain": [
       "Eq(0, 0)"
      ]
     },
     "metadata": {},
     "output_type": "display_data"
    },
    {
     "data": {
      "text/latex": [
       "$\\displaystyle 0 = 0$"
      ],
      "text/plain": [
       "Eq(0, 0)"
      ]
     },
     "metadata": {},
     "output_type": "display_data"
    },
    {
     "data": {
      "text/latex": [
       "$\\displaystyle 0 = 0$"
      ],
      "text/plain": [
       "Eq(0, 0)"
      ]
     },
     "metadata": {},
     "output_type": "display_data"
    },
    {
     "data": {
      "text/latex": [
       "$\\displaystyle 0 = 0$"
      ],
      "text/plain": [
       "Eq(0, 0)"
      ]
     },
     "metadata": {},
     "output_type": "display_data"
    },
    {
     "data": {
      "text/latex": [
       "$\\displaystyle 0 = 0$"
      ],
      "text/plain": [
       "Eq(0, 0)"
      ]
     },
     "metadata": {},
     "output_type": "display_data"
    },
    {
     "data": {
      "text/latex": [
       "$\\displaystyle 0 = 0$"
      ],
      "text/plain": [
       "Eq(0, 0)"
      ]
     },
     "metadata": {},
     "output_type": "display_data"
    },
    {
     "data": {
      "text/latex": [
       "$\\displaystyle 0 = 0$"
      ],
      "text/plain": [
       "Eq(0, 0)"
      ]
     },
     "metadata": {},
     "output_type": "display_data"
    }
   ],
   "source": [
    "print(\"NLS-hierarchy hamiltonians\")\n",
    "N = 8\n",
    "for n in range(N):\n",
    "    display(Eq(Symbol(\"H_{\\\\text{NLS}}^{\" + str(n) + \"}\"), sigs_eq[n]))\n",
    "    \n",
    "print(\"GP-hierarchy hamiltonians\")\n",
    "N = 8\n",
    "for n in range(N):\n",
    "    display(Eq(Symbol(\"H_{\\\\text{GP}}^{\" + str(n) + \"}\"), sigq_eq[n]))\n",
    "    \n",
    "print(\"GP-to-NLS formula\")\n",
    "for n in range(N):\n",
    "    if n % 2 == 0:\n",
    "        nn = Rational(n, 2)\n",
    "        X = sigs_eq[2*nn]\n",
    "        for mm in range(nn + 1):\n",
    "            X -= binomial(nn - 1, nn - mm) * (-4)**(nn-mm) * sigq_eq[2*mm]\n",
    "        display(Eq(0, simplify(X), evaluate=False))\n",
    "\n",
    "    if n % 2 == 1:\n",
    "        nn = Rational(n-1, 2)\n",
    "        X = sigs_eq[2*nn+1]\n",
    "        for mm in range(nn + 1):\n",
    "            X -= binomial(nn - Rational(1,2), nn - mm) * (-4)**(nn-mm) * sigq_eq[2*mm+1]\n",
    "        X -= (-1)**(nn+1) * catalan(nn)\n",
    "        display(Eq(0, simplify(X), evaluate=False))\n",
    "\n",
    "print(\"NLS-to-GP formula\")\n",
    "for n in range(N):\n",
    "    if n % 2 == 0:\n",
    "        nn = Rational(n, 2)\n",
    "        X = sigq_eq[2*nn]\n",
    "        for mm in range(nn + 1):\n",
    "            X -= binomial(nn - 1, nn - mm) * 4**(nn-mm) * sigs_eq[2*mm]\n",
    "        display(Eq(0, simplify(X), evaluate=False))\n",
    "        \n",
    "    if n % 2 == 1:\n",
    "        nn = Rational(n-1, 2)\n",
    "        X = sigq_eq[2*nn+1]\n",
    "        for mm in range(nn + 1):\n",
    "            X -= binomial(nn - Rational(1,2), nn - mm) * 4**(nn-mm) * sigs_eq[2*mm+1]\n",
    "        X -= catalan(nn)\n",
    "        display(Eq(0, simplify(X), evaluate=False))\n"
   ]
  },
  {
   "cell_type": "code",
   "execution_count": 8,
   "id": "c5023a0f",
   "metadata": {},
   "outputs": [
    {
     "name": "stdout",
     "output_type": "stream",
     "text": [
      "NLS-hierarchy vs predicted part vs difference\n"
     ]
    },
    {
     "data": {
      "text/latex": [
       "$\\displaystyle \\frac{\\delta \\mathcal{H}_{\\text{NLS}}^{0}}{\\delta \\tilde{q}} = q$"
      ],
      "text/plain": [
       "Eq(\\frac{\\delta \\mathcal{H}_{\\text{NLS}}^{0}}{\\delta \\tilde{q}}, q)"
      ]
     },
     "metadata": {},
     "output_type": "display_data"
    },
    {
     "data": {
      "text/latex": [
       "$\\displaystyle \\mathcal{P}^{0} = q$"
      ],
      "text/plain": [
       "Eq(\\mathcal{P}^{0}, q)"
      ]
     },
     "metadata": {},
     "output_type": "display_data"
    },
    {
     "data": {
      "text/latex": [
       "$\\displaystyle \\frac{\\delta \\mathcal{H}_{\\text{NLS}}^{0}}{\\delta \\tilde{q}} - \\mathcal{P}^{0} = 0$"
      ],
      "text/plain": [
       "Eq(\\frac{\\delta \\mathcal{H}_{\\text{NLS}}^{0}}{\\delta \\tilde{q}} - \\mathcal{P}^{0}, 0)"
      ]
     },
     "metadata": {},
     "output_type": "display_data"
    },
    {
     "data": {
      "text/latex": [
       "$\\displaystyle \\frac{\\delta \\mathcal{H}_{\\text{NLS}}^{1}}{\\delta \\tilde{q}} = i (q)_{x}$"
      ],
      "text/plain": [
       "Eq(\\frac{\\delta \\mathcal{H}_{\\text{NLS}}^{1}}{\\delta \\tilde{q}}, I*(q)_{x})"
      ]
     },
     "metadata": {},
     "output_type": "display_data"
    },
    {
     "data": {
      "text/latex": [
       "$\\displaystyle \\mathcal{P}^{1} = i (q)_{x}$"
      ],
      "text/plain": [
       "Eq(\\mathcal{P}^{1}, I*(q)_{x})"
      ]
     },
     "metadata": {},
     "output_type": "display_data"
    },
    {
     "data": {
      "text/latex": [
       "$\\displaystyle \\frac{\\delta \\mathcal{H}_{\\text{NLS}}^{1}}{\\delta \\tilde{q}} - \\mathcal{P}^{1} = 0$"
      ],
      "text/plain": [
       "Eq(\\frac{\\delta \\mathcal{H}_{\\text{NLS}}^{1}}{\\delta \\tilde{q}} - \\mathcal{P}^{1}, 0)"
      ]
     },
     "metadata": {},
     "output_type": "display_data"
    },
    {
     "data": {
      "text/latex": [
       "$\\displaystyle \\frac{\\delta \\mathcal{H}_{\\text{NLS}}^{2}}{\\delta \\tilde{q}} = - (q)_{xx} + 2 \\tilde{q} q^{2}$"
      ],
      "text/plain": [
       "Eq(\\frac{\\delta \\mathcal{H}_{\\text{NLS}}^{2}}{\\delta \\tilde{q}}, -(q)_{xx} + 2*\\tilde{q}*q**2)"
      ]
     },
     "metadata": {},
     "output_type": "display_data"
    },
    {
     "data": {
      "text/latex": [
       "$\\displaystyle \\mathcal{P}^{2} = - (q)_{xx} + 2 \\tilde{q} q^{2}$"
      ],
      "text/plain": [
       "Eq(\\mathcal{P}^{2}, -(q)_{xx} + 2*\\tilde{q}*q**2)"
      ]
     },
     "metadata": {},
     "output_type": "display_data"
    },
    {
     "data": {
      "text/latex": [
       "$\\displaystyle \\frac{\\delta \\mathcal{H}_{\\text{NLS}}^{2}}{\\delta \\tilde{q}} - \\mathcal{P}^{2} = 0$"
      ],
      "text/plain": [
       "Eq(\\frac{\\delta \\mathcal{H}_{\\text{NLS}}^{2}}{\\delta \\tilde{q}} - \\mathcal{P}^{2}, 0)"
      ]
     },
     "metadata": {},
     "output_type": "display_data"
    },
    {
     "data": {
      "text/latex": [
       "$\\displaystyle \\frac{\\delta \\mathcal{H}_{\\text{NLS}}^{3}}{\\delta \\tilde{q}} = i \\left(- (q)_{xxx} + 6 (q)_{x} \\tilde{q} q\\right)$"
      ],
      "text/plain": [
       "Eq(\\frac{\\delta \\mathcal{H}_{\\text{NLS}}^{3}}{\\delta \\tilde{q}}, I*(-(q)_{xxx} + 6*(q)_{x}*\\tilde{q}*q))"
      ]
     },
     "metadata": {},
     "output_type": "display_data"
    },
    {
     "data": {
      "text/latex": [
       "$\\displaystyle \\mathcal{P}^{3} = i \\left(- (q)_{xxx} + 6 (q)_{x} \\tilde{q} q\\right)$"
      ],
      "text/plain": [
       "Eq(\\mathcal{P}^{3}, I*(-(q)_{xxx} + 6*(q)_{x}*\\tilde{q}*q))"
      ]
     },
     "metadata": {},
     "output_type": "display_data"
    },
    {
     "data": {
      "text/latex": [
       "$\\displaystyle \\frac{\\delta \\mathcal{H}_{\\text{NLS}}^{3}}{\\delta \\tilde{q}} - \\mathcal{P}^{3} = 0$"
      ],
      "text/plain": [
       "Eq(\\frac{\\delta \\mathcal{H}_{\\text{NLS}}^{3}}{\\delta \\tilde{q}} - \\mathcal{P}^{3}, 0)"
      ]
     },
     "metadata": {},
     "output_type": "display_data"
    },
    {
     "data": {
      "text/latex": [
       "$\\displaystyle \\frac{\\delta \\mathcal{H}_{\\text{NLS}}^{4}}{\\delta \\tilde{q}} = - 2 (\\tilde{q})_{xx} q^{2} - 4 (\\tilde{q})_{x} (q)_{x} q + (q)_{xxxx} - 8 (q)_{xx} \\tilde{q} q - 6 (q)_{x}^{2} \\tilde{q} + 6 \\tilde{q}^{2} q^{3}$"
      ],
      "text/plain": [
       "Eq(\\frac{\\delta \\mathcal{H}_{\\text{NLS}}^{4}}{\\delta \\tilde{q}}, -2*(\\tilde{q})_{xx}*q**2 - 4*(\\tilde{q})_{x}*(q)_{x}*q + (q)_{xxxx} - 8*(q)_{xx}*\\tilde{q}*q - 6*(q)_{x}**2*\\tilde{q} + 6*\\tilde{q}**2*q**3)"
      ]
     },
     "metadata": {},
     "output_type": "display_data"
    },
    {
     "data": {
      "text/latex": [
       "$\\displaystyle \\mathcal{P}^{4} = - 2 (\\tilde{q})_{xx} q^{2} + (q)_{xxxx} - 8 (q)_{xx} \\tilde{q} q + 6 \\tilde{q}^{2} q^{3}$"
      ],
      "text/plain": [
       "Eq(\\mathcal{P}^{4}, -2*(\\tilde{q})_{xx}*q**2 + (q)_{xxxx} - 8*(q)_{xx}*\\tilde{q}*q + 6*\\tilde{q}**2*q**3)"
      ]
     },
     "metadata": {},
     "output_type": "display_data"
    },
    {
     "data": {
      "text/latex": [
       "$\\displaystyle \\frac{\\delta \\mathcal{H}_{\\text{NLS}}^{4}}{\\delta \\tilde{q}} - \\mathcal{P}^{4} = - 4 (\\tilde{q})_{x} (q)_{x} q - 6 (q)_{x}^{2} \\tilde{q}$"
      ],
      "text/plain": [
       "Eq(\\frac{\\delta \\mathcal{H}_{\\text{NLS}}^{4}}{\\delta \\tilde{q}} - \\mathcal{P}^{4}, -4*(\\tilde{q})_{x}*(q)_{x}*q - 6*(q)_{x}**2*\\tilde{q})"
      ]
     },
     "metadata": {},
     "output_type": "display_data"
    },
    {
     "data": {
      "text/latex": [
       "$\\displaystyle \\frac{\\delta \\mathcal{H}_{\\text{NLS}}^{5}}{\\delta \\tilde{q}} = i \\left(- 10 (\\tilde{q})_{xx} (q)_{x} q - 10 (\\tilde{q})_{x} (q)_{xx} q - 10 (\\tilde{q})_{x} (q)_{x}^{2} + (q)_{xxxxx} - 10 (q)_{xxx} \\tilde{q} q - 20 (q)_{xx} (q)_{x} \\tilde{q} + 30 (q)_{x} \\tilde{q}^{2} q^{2}\\right)$"
      ],
      "text/plain": [
       "Eq(\\frac{\\delta \\mathcal{H}_{\\text{NLS}}^{5}}{\\delta \\tilde{q}}, I*(-10*(\\tilde{q})_{xx}*(q)_{x}*q - 10*(\\tilde{q})_{x}*(q)_{xx}*q - 10*(\\tilde{q})_{x}*(q)_{x}**2 + (q)_{xxxxx} - 10*(q)_{xxx}*\\tilde{q}*q - 20*(q)_{xx}*(q)_{x}*\\tilde{q} + 30*(q)_{x}*\\tilde{q}**2*q**2))"
      ]
     },
     "metadata": {},
     "output_type": "display_data"
    },
    {
     "data": {
      "text/latex": [
       "$\\displaystyle \\mathcal{P}^{5} = i \\left((q)_{xxxxx} - 10 (q)_{xxx} \\tilde{q} q + 30 (q)_{x} \\tilde{q}^{2} q^{2}\\right)$"
      ],
      "text/plain": [
       "Eq(\\mathcal{P}^{5}, I*((q)_{xxxxx} - 10*(q)_{xxx}*\\tilde{q}*q + 30*(q)_{x}*\\tilde{q}**2*q**2))"
      ]
     },
     "metadata": {},
     "output_type": "display_data"
    },
    {
     "data": {
      "text/latex": [
       "$\\displaystyle \\frac{\\delta \\mathcal{H}_{\\text{NLS}}^{5}}{\\delta \\tilde{q}} - \\mathcal{P}^{5} = - 10 i (\\tilde{q})_{xx} (q)_{x} q - 10 i (\\tilde{q})_{x} (q)_{xx} q - 10 i (\\tilde{q})_{x} (q)_{x}^{2} - 20 i (q)_{xx} (q)_{x} \\tilde{q}$"
      ],
      "text/plain": [
       "Eq(\\frac{\\delta \\mathcal{H}_{\\text{NLS}}^{5}}{\\delta \\tilde{q}} - \\mathcal{P}^{5}, -10*I*(\\tilde{q})_{xx}*(q)_{x}*q - 10*I*(\\tilde{q})_{x}*(q)_{xx}*q - 10*I*(\\tilde{q})_{x}*(q)_{x}**2 - 20*I*(q)_{xx}*(q)_{x}*\\tilde{q})"
      ]
     },
     "metadata": {},
     "output_type": "display_data"
    },
    {
     "data": {
      "text/latex": [
       "$\\displaystyle \\frac{\\delta \\mathcal{H}_{\\text{NLS}}^{6}}{\\delta \\tilde{q}} = 2 (\\tilde{q})_{xxxx} q^{2} + 8 (\\tilde{q})_{xxx} (q)_{x} q + 22 (\\tilde{q})_{xx} (q)_{xx} q + 20 (\\tilde{q})_{xx} (q)_{x}^{2} - 20 (\\tilde{q})_{xx} \\tilde{q} q^{3} - 10 (\\tilde{q})_{x}^{2} q^{3} + 18 (\\tilde{q})_{x} (q)_{xxx} q + 50 (\\tilde{q})_{x} (q)_{xx} (q)_{x} - 60 (\\tilde{q})_{x} (q)_{x} \\tilde{q} q^{2} - (q)_{xxxxxx} + 12 (q)_{xxxx} \\tilde{q} q + 30 (q)_{xxx} (q)_{x} \\tilde{q} + 20 (q)_{xx}^{2} \\tilde{q} - 50 (q)_{xx} \\tilde{q}^{2} q^{2} - 70 (q)_{x}^{2} \\tilde{q}^{2} q + 20 \\tilde{q}^{3} q^{4}$"
      ],
      "text/plain": [
       "Eq(\\frac{\\delta \\mathcal{H}_{\\text{NLS}}^{6}}{\\delta \\tilde{q}}, 2*(\\tilde{q})_{xxxx}*q**2 + 8*(\\tilde{q})_{xxx}*(q)_{x}*q + 22*(\\tilde{q})_{xx}*(q)_{xx}*q + 20*(\\tilde{q})_{xx}*(q)_{x}**2 - 20*(\\tilde{q})_{xx}*\\tilde{q}*q**3 - 10*(\\tilde{q})_{x}**2*q**3 + 18*(\\tilde{q})_{x}*(q)_{xxx}*q + 50*(\\tilde{q})_{x}*(q)_{xx}*(q)_{x} - 60*(\\tilde{q})_{x}*(q)_{x}*\\tilde{q}*q**2 - (q)_{xxxxxx} + 12*(q)_{xxxx}*\\tilde{q}*q + 30*(q)_{xxx}*(q)_{x}*\\tilde{q} + 20*(q)_{xx}**2*\\tilde{q} - 50*(q)_{xx}*\\tilde{q}**2*q**2 - 70*(q)_{x}**2*\\tilde{q}**2*q + 20*\\tilde{q}**3*q**4)"
      ]
     },
     "metadata": {},
     "output_type": "display_data"
    },
    {
     "data": {
      "text/latex": [
       "$\\displaystyle \\mathcal{P}^{6} = 2 (\\tilde{q})_{xxxx} q^{2} - 20 (\\tilde{q})_{xx} \\tilde{q} q^{3} - (q)_{xxxxxx} + 12 (q)_{xxxx} \\tilde{q} q - 50 (q)_{xx} \\tilde{q}^{2} q^{2} + 20 \\tilde{q}^{3} q^{4}$"
      ],
      "text/plain": [
       "Eq(\\mathcal{P}^{6}, 2*(\\tilde{q})_{xxxx}*q**2 - 20*(\\tilde{q})_{xx}*\\tilde{q}*q**3 - (q)_{xxxxxx} + 12*(q)_{xxxx}*\\tilde{q}*q - 50*(q)_{xx}*\\tilde{q}**2*q**2 + 20*\\tilde{q}**3*q**4)"
      ]
     },
     "metadata": {},
     "output_type": "display_data"
    },
    {
     "data": {
      "text/latex": [
       "$\\displaystyle \\frac{\\delta \\mathcal{H}_{\\text{NLS}}^{6}}{\\delta \\tilde{q}} - \\mathcal{P}^{6} = 8 (\\tilde{q})_{xxx} (q)_{x} q + 22 (\\tilde{q})_{xx} (q)_{xx} q + 20 (\\tilde{q})_{xx} (q)_{x}^{2} - 10 (\\tilde{q})_{x}^{2} q^{3} + 18 (\\tilde{q})_{x} (q)_{xxx} q + 50 (\\tilde{q})_{x} (q)_{xx} (q)_{x} - 60 (\\tilde{q})_{x} (q)_{x} \\tilde{q} q^{2} + 30 (q)_{xxx} (q)_{x} \\tilde{q} + 20 (q)_{xx}^{2} \\tilde{q} - 70 (q)_{x}^{2} \\tilde{q}^{2} q$"
      ],
      "text/plain": [
       "Eq(\\frac{\\delta \\mathcal{H}_{\\text{NLS}}^{6}}{\\delta \\tilde{q}} - \\mathcal{P}^{6}, 8*(\\tilde{q})_{xxx}*(q)_{x}*q + 22*(\\tilde{q})_{xx}*(q)_{xx}*q + 20*(\\tilde{q})_{xx}*(q)_{x}**2 - 10*(\\tilde{q})_{x}**2*q**3 + 18*(\\tilde{q})_{x}*(q)_{xxx}*q + 50*(\\tilde{q})_{x}*(q)_{xx}*(q)_{x} - 60*(\\tilde{q})_{x}*(q)_{x}*\\tilde{q}*q**2 + 30*(q)_{xxx}*(q)_{x}*\\tilde{q} + 20*(q)_{xx}**2*\\tilde{q} - 70*(q)_{x}**2*\\tilde{q}**2*q)"
      ]
     },
     "metadata": {},
     "output_type": "display_data"
    },
    {
     "data": {
      "text/latex": [
       "$\\displaystyle \\frac{\\delta \\mathcal{H}_{\\text{NLS}}^{7}}{\\delta \\tilde{q}} = i \\left(14 (\\tilde{q})_{xxxx} (q)_{x} q + 28 (\\tilde{q})_{xxx} (q)_{xx} q + 28 (\\tilde{q})_{xxx} (q)_{x}^{2} + 42 (\\tilde{q})_{xx} (q)_{xxx} q + 112 (\\tilde{q})_{xx} (q)_{xx} (q)_{x} - 140 (\\tilde{q})_{xx} (q)_{x} \\tilde{q} q^{2} - 70 (\\tilde{q})_{x}^{2} (q)_{x} q^{2} + 28 (\\tilde{q})_{x} (q)_{xxxx} q + 98 (\\tilde{q})_{x} (q)_{xxx} (q)_{x} + 70 (\\tilde{q})_{x} (q)_{xx}^{2} - 140 (\\tilde{q})_{x} (q)_{xx} \\tilde{q} q^{2} - 280 (\\tilde{q})_{x} (q)_{x}^{2} \\tilde{q} q - (q)_{xxxxxxx} + 14 (q)_{xxxxx} \\tilde{q} q + 42 (q)_{xxxx} (q)_{x} \\tilde{q} + 70 (q)_{xxx} (q)_{xx} \\tilde{q} - 70 (q)_{xxx} \\tilde{q}^{2} q^{2} - 280 (q)_{xx} (q)_{x} \\tilde{q}^{2} q - 70 (q)_{x}^{3} \\tilde{q}^{2} + 140 (q)_{x} \\tilde{q}^{3} q^{3}\\right)$"
      ],
      "text/plain": [
       "Eq(\\frac{\\delta \\mathcal{H}_{\\text{NLS}}^{7}}{\\delta \\tilde{q}}, I*(14*(\\tilde{q})_{xxxx}*(q)_{x}*q + 28*(\\tilde{q})_{xxx}*(q)_{xx}*q + 28*(\\tilde{q})_{xxx}*(q)_{x}**2 + 42*(\\tilde{q})_{xx}*(q)_{xxx}*q + 112*(\\tilde{q})_{xx}*(q)_{xx}*(q)_{x} - 140*(\\tilde{q})_{xx}*(q)_{x}*\\tilde{q}*q**2 - 70*(\\tilde{q})_{x}**2*(q)_{x}*q**2 + 28*(\\tilde{q})_{x}*(q)_{xxxx}*q + 98*(\\tilde{q})_{x}*(q)_{xxx}*(q)_{x} + 70*(\\tilde{q})_{x}*(q)_{xx}**2 - 140*(\\tilde{q})_{x}*(q)_{xx}*\\tilde{q}*q**2 - 280*(\\tilde{q})_{x}*(q)_{x}**2*\\tilde{q}*q - (q)_{xxxxxxx} + 14*(q)_{xxxxx}*\\tilde{q}*q + 42*(q)_{xxxx}*(q)_{x}*\\tilde{q} + 70*(q)_{xxx}*(q)_{xx}*\\tilde{q} - 70*(q)_{xxx}*\\tilde{q}**2*q**2 - 280*(q)_{xx}*(q)_{x}*\\tilde{q}**2*q - 70*(q)_{x}**3*\\tilde{q}**2 + 140*(q)_{x}*\\tilde{q}**3*q**3))"
      ]
     },
     "metadata": {},
     "output_type": "display_data"
    },
    {
     "data": {
      "text/latex": [
       "$\\displaystyle \\mathcal{P}^{7} = i \\left(- (q)_{xxxxxxx} + 14 (q)_{xxxxx} \\tilde{q} q - 70 (q)_{xxx} \\tilde{q}^{2} q^{2} + 140 (q)_{x} \\tilde{q}^{3} q^{3}\\right)$"
      ],
      "text/plain": [
       "Eq(\\mathcal{P}^{7}, I*(-(q)_{xxxxxxx} + 14*(q)_{xxxxx}*\\tilde{q}*q - 70*(q)_{xxx}*\\tilde{q}**2*q**2 + 140*(q)_{x}*\\tilde{q}**3*q**3))"
      ]
     },
     "metadata": {},
     "output_type": "display_data"
    },
    {
     "data": {
      "text/latex": [
       "$\\displaystyle \\frac{\\delta \\mathcal{H}_{\\text{NLS}}^{7}}{\\delta \\tilde{q}} - \\mathcal{P}^{7} = 14 i (\\tilde{q})_{xxxx} (q)_{x} q + 28 i (\\tilde{q})_{xxx} (q)_{xx} q + 28 i (\\tilde{q})_{xxx} (q)_{x}^{2} + 42 i (\\tilde{q})_{xx} (q)_{xxx} q + 112 i (\\tilde{q})_{xx} (q)_{xx} (q)_{x} - 140 i (\\tilde{q})_{xx} (q)_{x} \\tilde{q} q^{2} - 70 i (\\tilde{q})_{x}^{2} (q)_{x} q^{2} + 28 i (\\tilde{q})_{x} (q)_{xxxx} q + 98 i (\\tilde{q})_{x} (q)_{xxx} (q)_{x} + 70 i (\\tilde{q})_{x} (q)_{xx}^{2} - 140 i (\\tilde{q})_{x} (q)_{xx} \\tilde{q} q^{2} - 280 i (\\tilde{q})_{x} (q)_{x}^{2} \\tilde{q} q + 42 i (q)_{xxxx} (q)_{x} \\tilde{q} + 70 i (q)_{xxx} (q)_{xx} \\tilde{q} - 280 i (q)_{xx} (q)_{x} \\tilde{q}^{2} q - 70 i (q)_{x}^{3} \\tilde{q}^{2}$"
      ],
      "text/plain": [
       "Eq(\\frac{\\delta \\mathcal{H}_{\\text{NLS}}^{7}}{\\delta \\tilde{q}} - \\mathcal{P}^{7}, 14*I*(\\tilde{q})_{xxxx}*(q)_{x}*q + 28*I*(\\tilde{q})_{xxx}*(q)_{xx}*q + 28*I*(\\tilde{q})_{xxx}*(q)_{x}**2 + 42*I*(\\tilde{q})_{xx}*(q)_{xxx}*q + 112*I*(\\tilde{q})_{xx}*(q)_{xx}*(q)_{x} - 140*I*(\\tilde{q})_{xx}*(q)_{x}*\\tilde{q}*q**2 - 70*I*(\\tilde{q})_{x}**2*(q)_{x}*q**2 + 28*I*(\\tilde{q})_{x}*(q)_{xxxx}*q + 98*I*(\\tilde{q})_{x}*(q)_{xxx}*(q)_{x} + 70*I*(\\tilde{q})_{x}*(q)_{xx}**2 - 140*I*(\\tilde{q})_{x}*(q)_{xx}*\\tilde{q}*q**2 - 280*I*(\\tilde{q})_{x}*(q)_{x}**2*\\tilde{q}*q + 42*I*(q)_{xxxx}*(q)_{x}*\\tilde{q} + 70*I*(q)_{xxx}*(q)_{xx}*\\tilde{q} - 280*I*(q)_{xx}*(q)_{x}*\\tilde{q}**2*q - 70*I*(q)_{x}**3*\\tilde{q}**2)"
      ]
     },
     "metadata": {},
     "output_type": "display_data"
    },
    {
     "data": {
      "text/latex": [
       "$\\displaystyle \\frac{\\delta \\mathcal{H}_{\\text{NLS}}^{8}}{\\delta \\tilde{q}} = - 2 (\\tilde{q})_{xxxxxx} q^{2} - 12 (\\tilde{q})_{xxxxx} (q)_{x} q - 44 (\\tilde{q})_{xxxx} (q)_{xx} q - 42 (\\tilde{q})_{xxxx} (q)_{x}^{2} + 28 (\\tilde{q})_{xxxx} \\tilde{q} q^{3} + 56 (\\tilde{q})_{xxx} (\\tilde{q})_{x} q^{3} - 68 (\\tilde{q})_{xxx} (q)_{xxx} q - 196 (\\tilde{q})_{xxx} (q)_{xx} (q)_{x} + 168 (\\tilde{q})_{xxx} (q)_{x} \\tilde{q} q^{2} + 42 (\\tilde{q})_{xx}^{2} q^{3} + 336 (\\tilde{q})_{xx} (\\tilde{q})_{x} (q)_{x} q^{2} - 72 (\\tilde{q})_{xx} (q)_{xxxx} q - 252 (\\tilde{q})_{xx} (q)_{xxx} (q)_{x} - 182 (\\tilde{q})_{xx} (q)_{xx}^{2} + 392 (\\tilde{q})_{xx} (q)_{xx} \\tilde{q} q^{2} + 588 (\\tilde{q})_{xx} (q)_{x}^{2} \\tilde{q} q - 140 (\\tilde{q})_{xx} \\tilde{q}^{2} q^{4} + 238 (\\tilde{q})_{x}^{2} (q)_{xx} q^{2} + 378 (\\tilde{q})_{x}^{2} (q)_{x}^{2} q - 140 (\\tilde{q})_{x}^{2} \\tilde{q} q^{4} - 40 (\\tilde{q})_{x} (q)_{xxxxx} q - 168 (\\tilde{q})_{x} (q)_{xxxx} (q)_{x} - 308 (\\tilde{q})_{x} (q)_{xxx} (q)_{xx} + 308 (\\tilde{q})_{x} (q)_{xxx} \\tilde{q} q^{2} + 1456 (\\tilde{q})_{x} (q)_{xx} (q)_{x} \\tilde{q} q + 420 (\\tilde{q})_{x} (q)_{x}^{3} \\tilde{q} - 560 (\\tilde{q})_{x} (q)_{x} \\tilde{q}^{2} q^{3} + (q)_{xxxxxxxx} - 16 (q)_{xxxxxx} \\tilde{q} q - 56 (q)_{xxxxx} (q)_{x} \\tilde{q} - 112 (q)_{xxxx} (q)_{xx} \\tilde{q} + 98 (q)_{xxxx} \\tilde{q}^{2} q^{2} - 70 (q)_{xxx}^{2} \\tilde{q} + 476 (q)_{xxx} (q)_{x} \\tilde{q}^{2} q + 322 (q)_{xx}^{2} \\tilde{q}^{2} q + 490 (q)_{xx} (q)_{x}^{2} \\tilde{q}^{2} - 280 (q)_{xx} \\tilde{q}^{3} q^{3} - 560 (q)_{x}^{2} \\tilde{q}^{3} q^{2} + 70 \\tilde{q}^{4} q^{5}$"
      ],
      "text/plain": [
       "Eq(\\frac{\\delta \\mathcal{H}_{\\text{NLS}}^{8}}{\\delta \\tilde{q}}, -2*(\\tilde{q})_{xxxxxx}*q**2 - 12*(\\tilde{q})_{xxxxx}*(q)_{x}*q - 44*(\\tilde{q})_{xxxx}*(q)_{xx}*q - 42*(\\tilde{q})_{xxxx}*(q)_{x}**2 + 28*(\\tilde{q})_{xxxx}*\\tilde{q}*q**3 + 56*(\\tilde{q})_{xxx}*(\\tilde{q})_{x}*q**3 - 68*(\\tilde{q})_{xxx}*(q)_{xxx}*q - 196*(\\tilde{q})_{xxx}*(q)_{xx}*(q)_{x} + 168*(\\tilde{q})_{xxx}*(q)_{x}*\\tilde{q}*q**2 + 42*(\\tilde{q})_{xx}**2*q**3 + 336*(\\tilde{q})_{xx}*(\\tilde{q})_{x}*(q)_{x}*q**2 - 72*(\\tilde{q})_{xx}*(q)_{xxxx}*q - 252*(\\tilde{q})_{xx}*(q)_{xxx}*(q)_{x} - 182*(\\tilde{q})_{xx}*(q)_{xx}**2 + 392*(\\tilde{q})_{xx}*(q)_{xx}*\\tilde{q}*q**2 + 588*(\\tilde{q})_{xx}*(q)_{x}**2*\\tilde{q}*q - 140*(\\tilde{q})_{xx}*\\tilde{q}**2*q**4 + 238*(\\tilde{q})_{x}**2*(q)_{xx}*q**2 + 378*(\\tilde{q})_{x}**2*(q)_{x}**2*q - 140*(\\tilde{q})_{x}**2*\\tilde{q}*q**4 - 40*(\\tilde{q})_{x}*(q)_{xxxxx}*q - 168*(\\tilde{q})_{x}*(q)_{xxxx}*(q)_{x} - 308*(\\tilde{q})_{x}*(q)_{xxx}*(q)_{xx} + 308*(\\tilde{q})_{x}*(q)_{xxx}*\\tilde{q}*q**2 + 1456*(\\tilde{q})_{x}*(q)_{xx}*(q)_{x}*\\tilde{q}*q + 420*(\\tilde{q})_{x}*(q)_{x}**3*\\tilde{q} - 560*(\\tilde{q})_{x}*(q)_{x}*\\tilde{q}**2*q**3 + (q)_{xxxxxxxx} - 16*(q)_{xxxxxx}*\\tilde{q}*q - 56*(q)_{xxxxx}*(q)_{x}*\\tilde{q} - 112*(q)_{xxxx}*(q)_{xx}*\\tilde{q} + 98*(q)_{xxxx}*\\tilde{q}**2*q**2 - 70*(q)_{xxx}**2*\\tilde{q} + 476*(q)_{xxx}*(q)_{x}*\\tilde{q}**2*q + 322*(q)_{xx}**2*\\tilde{q}**2*q + 490*(q)_{xx}*(q)_{x}**2*\\tilde{q}**2 - 280*(q)_{xx}*\\tilde{q}**3*q**3 - 560*(q)_{x}**2*\\tilde{q}**3*q**2 + 70*\\tilde{q}**4*q**5)"
      ]
     },
     "metadata": {},
     "output_type": "display_data"
    },
    {
     "data": {
      "text/latex": [
       "$\\displaystyle \\mathcal{P}^{8} = - 2 (\\tilde{q})_{xxxxxx} q^{2} + 28 (\\tilde{q})_{xxxx} \\tilde{q} q^{3} - 140 (\\tilde{q})_{xx} \\tilde{q}^{2} q^{4} + (q)_{xxxxxxxx} - 16 (q)_{xxxxxx} \\tilde{q} q + 98 (q)_{xxxx} \\tilde{q}^{2} q^{2} - 280 (q)_{xx} \\tilde{q}^{3} q^{3} + 70 \\tilde{q}^{4} q^{5}$"
      ],
      "text/plain": [
       "Eq(\\mathcal{P}^{8}, -2*(\\tilde{q})_{xxxxxx}*q**2 + 28*(\\tilde{q})_{xxxx}*\\tilde{q}*q**3 - 140*(\\tilde{q})_{xx}*\\tilde{q}**2*q**4 + (q)_{xxxxxxxx} - 16*(q)_{xxxxxx}*\\tilde{q}*q + 98*(q)_{xxxx}*\\tilde{q}**2*q**2 - 280*(q)_{xx}*\\tilde{q}**3*q**3 + 70*\\tilde{q}**4*q**5)"
      ]
     },
     "metadata": {},
     "output_type": "display_data"
    },
    {
     "data": {
      "text/latex": [
       "$\\displaystyle \\frac{\\delta \\mathcal{H}_{\\text{NLS}}^{8}}{\\delta \\tilde{q}} - \\mathcal{P}^{8} = - 12 (\\tilde{q})_{xxxxx} (q)_{x} q - 44 (\\tilde{q})_{xxxx} (q)_{xx} q - 42 (\\tilde{q})_{xxxx} (q)_{x}^{2} + 56 (\\tilde{q})_{xxx} (\\tilde{q})_{x} q^{3} - 68 (\\tilde{q})_{xxx} (q)_{xxx} q - 196 (\\tilde{q})_{xxx} (q)_{xx} (q)_{x} + 168 (\\tilde{q})_{xxx} (q)_{x} \\tilde{q} q^{2} + 42 (\\tilde{q})_{xx}^{2} q^{3} + 336 (\\tilde{q})_{xx} (\\tilde{q})_{x} (q)_{x} q^{2} - 72 (\\tilde{q})_{xx} (q)_{xxxx} q - 252 (\\tilde{q})_{xx} (q)_{xxx} (q)_{x} - 182 (\\tilde{q})_{xx} (q)_{xx}^{2} + 392 (\\tilde{q})_{xx} (q)_{xx} \\tilde{q} q^{2} + 588 (\\tilde{q})_{xx} (q)_{x}^{2} \\tilde{q} q + 238 (\\tilde{q})_{x}^{2} (q)_{xx} q^{2} + 378 (\\tilde{q})_{x}^{2} (q)_{x}^{2} q - 140 (\\tilde{q})_{x}^{2} \\tilde{q} q^{4} - 40 (\\tilde{q})_{x} (q)_{xxxxx} q - 168 (\\tilde{q})_{x} (q)_{xxxx} (q)_{x} - 308 (\\tilde{q})_{x} (q)_{xxx} (q)_{xx} + 308 (\\tilde{q})_{x} (q)_{xxx} \\tilde{q} q^{2} + 1456 (\\tilde{q})_{x} (q)_{xx} (q)_{x} \\tilde{q} q + 420 (\\tilde{q})_{x} (q)_{x}^{3} \\tilde{q} - 560 (\\tilde{q})_{x} (q)_{x} \\tilde{q}^{2} q^{3} - 56 (q)_{xxxxx} (q)_{x} \\tilde{q} - 112 (q)_{xxxx} (q)_{xx} \\tilde{q} - 70 (q)_{xxx}^{2} \\tilde{q} + 476 (q)_{xxx} (q)_{x} \\tilde{q}^{2} q + 322 (q)_{xx}^{2} \\tilde{q}^{2} q + 490 (q)_{xx} (q)_{x}^{2} \\tilde{q}^{2} - 560 (q)_{x}^{2} \\tilde{q}^{3} q^{2}$"
      ],
      "text/plain": [
       "Eq(\\frac{\\delta \\mathcal{H}_{\\text{NLS}}^{8}}{\\delta \\tilde{q}} - \\mathcal{P}^{8}, -12*(\\tilde{q})_{xxxxx}*(q)_{x}*q - 44*(\\tilde{q})_{xxxx}*(q)_{xx}*q - 42*(\\tilde{q})_{xxxx}*(q)_{x}**2 + 56*(\\tilde{q})_{xxx}*(\\tilde{q})_{x}*q**3 - 68*(\\tilde{q})_{xxx}*(q)_{xxx}*q - 196*(\\tilde{q})_{xxx}*(q)_{xx}*(q)_{x} + 168*(\\tilde{q})_{xxx}*(q)_{x}*\\tilde{q}*q**2 + 42*(\\tilde{q})_{xx}**2*q**3 + 336*(\\tilde{q})_{xx}*(\\tilde{q})_{x}*(q)_{x}*q**2 - 72*(\\tilde{q})_{xx}*(q)_{xxxx}*q - 252*(\\tilde{q})_{xx}*(q)_{xxx}*(q)_{x} - 182*(\\tilde{q})_{xx}*(q)_{xx}**2 + 392*(\\tilde{q})_{xx}*(q)_{xx}*\\tilde{q}*q**2 + 588*(\\tilde{q})_{xx}*(q)_{x}**2*\\tilde{q}*q + 238*(\\tilde{q})_{x}**2*(q)_{xx}*q**2 + 378*(\\tilde{q})_{x}**2*(q)_{x}**2*q - 140*(\\tilde{q})_{x}**2*\\tilde{q}*q**4 - 40*(\\tilde{q})_{x}*(q)_{xxxxx}*q - 168*(\\tilde{q})_{x}*(q)_{xxxx}*(q)_{x} - 308*(\\tilde{q})_{x}*(q)_{xxx}*(q)_{xx} + 308*(\\tilde{q})_{x}*(q)_{xxx}*\\tilde{q}*q**2 + 1456*(\\tilde{q})_{x}*(q)_{xx}*(q)_{x}*\\tilde{q}*q + 420*(\\tilde{q})_{x}*(q)_{x}**3*\\tilde{q} - 560*(\\tilde{q})_{x}*(q)_{x}*\\tilde{q}**2*q**3 - 56*(q)_{xxxxx}*(q)_{x}*\\tilde{q} - 112*(q)_{xxxx}*(q)_{xx}*\\tilde{q} - 70*(q)_{xxx}**2*\\tilde{q} + 476*(q)_{xxx}*(q)_{x}*\\tilde{q}**2*q + 322*(q)_{xx}**2*\\tilde{q}**2*q + 490*(q)_{xx}*(q)_{x}**2*\\tilde{q}**2 - 560*(q)_{x}**2*\\tilde{q}**3*q**2)"
      ]
     },
     "metadata": {},
     "output_type": "display_data"
    },
    {
     "data": {
      "text/latex": [
       "$\\displaystyle \\frac{\\delta \\mathcal{H}_{\\text{NLS}}^{9}}{\\delta \\tilde{q}} = i \\left(- 18 (\\tilde{q})_{xxxxxx} (q)_{x} q - 54 (\\tilde{q})_{xxxxx} (q)_{xx} q - 54 (\\tilde{q})_{xxxxx} (q)_{x}^{2} - 114 (\\tilde{q})_{xxxx} (q)_{xxx} q - 324 (\\tilde{q})_{xxxx} (q)_{xx} (q)_{x} + 252 (\\tilde{q})_{xxxx} (q)_{x} \\tilde{q} q^{2} + 504 (\\tilde{q})_{xxx} (\\tilde{q})_{x} (q)_{x} q^{2} - 138 (\\tilde{q})_{xxx} (q)_{xxxx} q - 516 (\\tilde{q})_{xxx} (q)_{xxx} (q)_{x} - 378 (\\tilde{q})_{xxx} (q)_{xx}^{2} + 504 (\\tilde{q})_{xxx} (q)_{xx} \\tilde{q} q^{2} + 1008 (\\tilde{q})_{xxx} (q)_{x}^{2} \\tilde{q} q + 378 (\\tilde{q})_{xx}^{2} (q)_{x} q^{2} + 924 (\\tilde{q})_{xx} (\\tilde{q})_{x} (q)_{xx} q^{2} + 2100 (\\tilde{q})_{xx} (\\tilde{q})_{x} (q)_{x}^{2} q - 114 (\\tilde{q})_{xx} (q)_{xxxxx} q - 492 (\\tilde{q})_{xx} (q)_{xxxx} (q)_{x} - 924 (\\tilde{q})_{xx} (q)_{xxx} (q)_{xx} + 756 (\\tilde{q})_{xx} (q)_{xxx} \\tilde{q} q^{2} + 3696 (\\tilde{q})_{xx} (q)_{xx} (q)_{x} \\tilde{q} q + 1008 (\\tilde{q})_{xx} (q)_{x}^{3} \\tilde{q} - 1260 (\\tilde{q})_{xx} (q)_{x} \\tilde{q}^{2} q^{3} + 462 (\\tilde{q})_{x}^{2} (q)_{xxx} q^{2} + 2604 (\\tilde{q})_{x}^{2} (q)_{xx} (q)_{x} q + 798 (\\tilde{q})_{x}^{2} (q)_{x}^{3} - 1260 (\\tilde{q})_{x}^{2} (q)_{x} \\tilde{q} q^{3} - 54 (\\tilde{q})_{x} (q)_{xxxxxx} q - 264 (\\tilde{q})_{x} (q)_{xxxxx} (q)_{x} - 588 (\\tilde{q})_{x} (q)_{xxxx} (q)_{xx} + 504 (\\tilde{q})_{x} (q)_{xxxx} \\tilde{q} q^{2} - 378 (\\tilde{q})_{x} (q)_{xxx}^{2} + 3192 (\\tilde{q})_{x} (q)_{xxx} (q)_{x} \\tilde{q} q + 2184 (\\tilde{q})_{x} (q)_{xx}^{2} \\tilde{q} q + 3696 (\\tilde{q})_{x} (q)_{xx} (q)_{x}^{2} \\tilde{q} - 1260 (\\tilde{q})_{x} (q)_{xx} \\tilde{q}^{2} q^{3} - 3780 (\\tilde{q})_{x} (q)_{x}^{2} \\tilde{q}^{2} q^{2} + (q)_{xxxxxxxxx} - 18 (q)_{xxxxxxx} \\tilde{q} q - 72 (q)_{xxxxxx} (q)_{x} \\tilde{q} - 168 (q)_{xxxxx} (q)_{xx} \\tilde{q} + 126 (q)_{xxxxx} \\tilde{q}^{2} q^{2} - 252 (q)_{xxxx} (q)_{xxx} \\tilde{q} + 756 (q)_{xxxx} (q)_{x} \\tilde{q}^{2} q + 1260 (q)_{xxx} (q)_{xx} \\tilde{q}^{2} q + 966 (q)_{xxx} (q)_{x}^{2} \\tilde{q}^{2} - 420 (q)_{xxx} \\tilde{q}^{3} q^{3} + 1302 (q)_{xx}^{2} (q)_{x} \\tilde{q}^{2} - 2520 (q)_{xx} (q)_{x} \\tilde{q}^{3} q^{2} - 1260 (q)_{x}^{3} \\tilde{q}^{3} q + 630 (q)_{x} \\tilde{q}^{4} q^{4}\\right)$"
      ],
      "text/plain": [
       "Eq(\\frac{\\delta \\mathcal{H}_{\\text{NLS}}^{9}}{\\delta \\tilde{q}}, I*(-18*(\\tilde{q})_{xxxxxx}*(q)_{x}*q - 54*(\\tilde{q})_{xxxxx}*(q)_{xx}*q - 54*(\\tilde{q})_{xxxxx}*(q)_{x}**2 - 114*(\\tilde{q})_{xxxx}*(q)_{xxx}*q - 324*(\\tilde{q})_{xxxx}*(q)_{xx}*(q)_{x} + 252*(\\tilde{q})_{xxxx}*(q)_{x}*\\tilde{q}*q**2 + 504*(\\tilde{q})_{xxx}*(\\tilde{q})_{x}*(q)_{x}*q**2 - 138*(\\tilde{q})_{xxx}*(q)_{xxxx}*q - 516*(\\tilde{q})_{xxx}*(q)_{xxx}*(q)_{x} - 378*(\\tilde{q})_{xxx}*(q)_{xx}**2 + 504*(\\tilde{q})_{xxx}*(q)_{xx}*\\tilde{q}*q**2 + 1008*(\\tilde{q})_{xxx}*(q)_{x}**2*\\tilde{q}*q + 378*(\\tilde{q})_{xx}**2*(q)_{x}*q**2 + 924*(\\tilde{q})_{xx}*(\\tilde{q})_{x}*(q)_{xx}*q**2 + 2100*(\\tilde{q})_{xx}*(\\tilde{q})_{x}*(q)_{x}**2*q - 114*(\\tilde{q})_{xx}*(q)_{xxxxx}*q - 492*(\\tilde{q})_{xx}*(q)_{xxxx}*(q)_{x} - 924*(\\tilde{q})_{xx}*(q)_{xxx}*(q)_{xx} + 756*(\\tilde{q})_{xx}*(q)_{xxx}*\\tilde{q}*q**2 + 3696*(\\tilde{q})_{xx}*(q)_{xx}*(q)_{x}*\\tilde{q}*q + 1008*(\\tilde{q})_{xx}*(q)_{x}**3*\\tilde{q} - 1260*(\\tilde{q})_{xx}*(q)_{x}*\\tilde{q}**2*q**3 + 462*(\\tilde{q})_{x}**2*(q)_{xxx}*q**2 + 2604*(\\tilde{q})_{x}**2*(q)_{xx}*(q)_{x}*q + 798*(\\tilde{q})_{x}**2*(q)_{x}**3 - 1260*(\\tilde{q})_{x}**2*(q)_{x}*\\tilde{q}*q**3 - 54*(\\tilde{q})_{x}*(q)_{xxxxxx}*q - 264*(\\tilde{q})_{x}*(q)_{xxxxx}*(q)_{x} - 588*(\\tilde{q})_{x}*(q)_{xxxx}*(q)_{xx} + 504*(\\tilde{q})_{x}*(q)_{xxxx}*\\tilde{q}*q**2 - 378*(\\tilde{q})_{x}*(q)_{xxx}**2 + 3192*(\\tilde{q})_{x}*(q)_{xxx}*(q)_{x}*\\tilde{q}*q + 2184*(\\tilde{q})_{x}*(q)_{xx}**2*\\tilde{q}*q + 3696*(\\tilde{q})_{x}*(q)_{xx}*(q)_{x}**2*\\tilde{q} - 1260*(\\tilde{q})_{x}*(q)_{xx}*\\tilde{q}**2*q**3 - 3780*(\\tilde{q})_{x}*(q)_{x}**2*\\tilde{q}**2*q**2 + (q)_{xxxxxxxxx} - 18*(q)_{xxxxxxx}*\\tilde{q}*q - 72*(q)_{xxxxxx}*(q)_{x}*\\tilde{q} - 168*(q)_{xxxxx}*(q)_{xx}*\\tilde{q} + 126*(q)_{xxxxx}*\\tilde{q}**2*q**2 - 252*(q)_{xxxx}*(q)_{xxx}*\\tilde{q} + 756*(q)_{xxxx}*(q)_{x}*\\tilde{q}**2*q + 1260*(q)_{xxx}*(q)_{xx}*\\tilde{q}**2*q + 966*(q)_{xxx}*(q)_{x}**2*\\tilde{q}**2 - 420*(q)_{xxx}*\\tilde{q}**3*q**3 + 1302*(q)_{xx}**2*(q)_{x}*\\tilde{q}**2 - 2520*(q)_{xx}*(q)_{x}*\\tilde{q}**3*q**2 - 1260*(q)_{x}**3*\\tilde{q}**3*q + 630*(q)_{x}*\\tilde{q}**4*q**4))"
      ]
     },
     "metadata": {},
     "output_type": "display_data"
    },
    {
     "data": {
      "text/latex": [
       "$\\displaystyle \\mathcal{P}^{9} = i \\left((q)_{xxxxxxxxx} - 18 (q)_{xxxxxxx} \\tilde{q} q + 126 (q)_{xxxxx} \\tilde{q}^{2} q^{2} - 420 (q)_{xxx} \\tilde{q}^{3} q^{3} + 630 (q)_{x} \\tilde{q}^{4} q^{4}\\right)$"
      ],
      "text/plain": [
       "Eq(\\mathcal{P}^{9}, I*((q)_{xxxxxxxxx} - 18*(q)_{xxxxxxx}*\\tilde{q}*q + 126*(q)_{xxxxx}*\\tilde{q}**2*q**2 - 420*(q)_{xxx}*\\tilde{q}**3*q**3 + 630*(q)_{x}*\\tilde{q}**4*q**4))"
      ]
     },
     "metadata": {},
     "output_type": "display_data"
    },
    {
     "data": {
      "text/latex": [
       "$\\displaystyle \\frac{\\delta \\mathcal{H}_{\\text{NLS}}^{9}}{\\delta \\tilde{q}} - \\mathcal{P}^{9} = - 18 i (\\tilde{q})_{xxxxxx} (q)_{x} q - 54 i (\\tilde{q})_{xxxxx} (q)_{xx} q - 54 i (\\tilde{q})_{xxxxx} (q)_{x}^{2} - 114 i (\\tilde{q})_{xxxx} (q)_{xxx} q - 324 i (\\tilde{q})_{xxxx} (q)_{xx} (q)_{x} + 252 i (\\tilde{q})_{xxxx} (q)_{x} \\tilde{q} q^{2} + 504 i (\\tilde{q})_{xxx} (\\tilde{q})_{x} (q)_{x} q^{2} - 138 i (\\tilde{q})_{xxx} (q)_{xxxx} q - 516 i (\\tilde{q})_{xxx} (q)_{xxx} (q)_{x} - 378 i (\\tilde{q})_{xxx} (q)_{xx}^{2} + 504 i (\\tilde{q})_{xxx} (q)_{xx} \\tilde{q} q^{2} + 1008 i (\\tilde{q})_{xxx} (q)_{x}^{2} \\tilde{q} q + 378 i (\\tilde{q})_{xx}^{2} (q)_{x} q^{2} + 924 i (\\tilde{q})_{xx} (\\tilde{q})_{x} (q)_{xx} q^{2} + 2100 i (\\tilde{q})_{xx} (\\tilde{q})_{x} (q)_{x}^{2} q - 114 i (\\tilde{q})_{xx} (q)_{xxxxx} q - 492 i (\\tilde{q})_{xx} (q)_{xxxx} (q)_{x} - 924 i (\\tilde{q})_{xx} (q)_{xxx} (q)_{xx} + 756 i (\\tilde{q})_{xx} (q)_{xxx} \\tilde{q} q^{2} + 3696 i (\\tilde{q})_{xx} (q)_{xx} (q)_{x} \\tilde{q} q + 1008 i (\\tilde{q})_{xx} (q)_{x}^{3} \\tilde{q} - 1260 i (\\tilde{q})_{xx} (q)_{x} \\tilde{q}^{2} q^{3} + 462 i (\\tilde{q})_{x}^{2} (q)_{xxx} q^{2} + 2604 i (\\tilde{q})_{x}^{2} (q)_{xx} (q)_{x} q + 798 i (\\tilde{q})_{x}^{2} (q)_{x}^{3} - 1260 i (\\tilde{q})_{x}^{2} (q)_{x} \\tilde{q} q^{3} - 54 i (\\tilde{q})_{x} (q)_{xxxxxx} q - 264 i (\\tilde{q})_{x} (q)_{xxxxx} (q)_{x} - 588 i (\\tilde{q})_{x} (q)_{xxxx} (q)_{xx} + 504 i (\\tilde{q})_{x} (q)_{xxxx} \\tilde{q} q^{2} - 378 i (\\tilde{q})_{x} (q)_{xxx}^{2} + 3192 i (\\tilde{q})_{x} (q)_{xxx} (q)_{x} \\tilde{q} q + 2184 i (\\tilde{q})_{x} (q)_{xx}^{2} \\tilde{q} q + 3696 i (\\tilde{q})_{x} (q)_{xx} (q)_{x}^{2} \\tilde{q} - 1260 i (\\tilde{q})_{x} (q)_{xx} \\tilde{q}^{2} q^{3} - 3780 i (\\tilde{q})_{x} (q)_{x}^{2} \\tilde{q}^{2} q^{2} - 72 i (q)_{xxxxxx} (q)_{x} \\tilde{q} - 168 i (q)_{xxxxx} (q)_{xx} \\tilde{q} - 252 i (q)_{xxxx} (q)_{xxx} \\tilde{q} + 756 i (q)_{xxxx} (q)_{x} \\tilde{q}^{2} q + 1260 i (q)_{xxx} (q)_{xx} \\tilde{q}^{2} q + 966 i (q)_{xxx} (q)_{x}^{2} \\tilde{q}^{2} + 1302 i (q)_{xx}^{2} (q)_{x} \\tilde{q}^{2} - 2520 i (q)_{xx} (q)_{x} \\tilde{q}^{3} q^{2} - 1260 i (q)_{x}^{3} \\tilde{q}^{3} q$"
      ],
      "text/plain": [
       "Eq(\\frac{\\delta \\mathcal{H}_{\\text{NLS}}^{9}}{\\delta \\tilde{q}} - \\mathcal{P}^{9}, -18*I*(\\tilde{q})_{xxxxxx}*(q)_{x}*q - 54*I*(\\tilde{q})_{xxxxx}*(q)_{xx}*q - 54*I*(\\tilde{q})_{xxxxx}*(q)_{x}**2 - 114*I*(\\tilde{q})_{xxxx}*(q)_{xxx}*q - 324*I*(\\tilde{q})_{xxxx}*(q)_{xx}*(q)_{x} + 252*I*(\\tilde{q})_{xxxx}*(q)_{x}*\\tilde{q}*q**2 + 504*I*(\\tilde{q})_{xxx}*(\\tilde{q})_{x}*(q)_{x}*q**2 - 138*I*(\\tilde{q})_{xxx}*(q)_{xxxx}*q - 516*I*(\\tilde{q})_{xxx}*(q)_{xxx}*(q)_{x} - 378*I*(\\tilde{q})_{xxx}*(q)_{xx}**2 + 504*I*(\\tilde{q})_{xxx}*(q)_{xx}*\\tilde{q}*q**2 + 1008*I*(\\tilde{q})_{xxx}*(q)_{x}**2*\\tilde{q}*q + 378*I*(\\tilde{q})_{xx}**2*(q)_{x}*q**2 + 924*I*(\\tilde{q})_{xx}*(\\tilde{q})_{x}*(q)_{xx}*q**2 + 2100*I*(\\tilde{q})_{xx}*(\\tilde{q})_{x}*(q)_{x}**2*q - 114*I*(\\tilde{q})_{xx}*(q)_{xxxxx}*q - 492*I*(\\tilde{q})_{xx}*(q)_{xxxx}*(q)_{x} - 924*I*(\\tilde{q})_{xx}*(q)_{xxx}*(q)_{xx} + 756*I*(\\tilde{q})_{xx}*(q)_{xxx}*\\tilde{q}*q**2 + 3696*I*(\\tilde{q})_{xx}*(q)_{xx}*(q)_{x}*\\tilde{q}*q + 1008*I*(\\tilde{q})_{xx}*(q)_{x}**3*\\tilde{q} - 1260*I*(\\tilde{q})_{xx}*(q)_{x}*\\tilde{q}**2*q**3 + 462*I*(\\tilde{q})_{x}**2*(q)_{xxx}*q**2 + 2604*I*(\\tilde{q})_{x}**2*(q)_{xx}*(q)_{x}*q + 798*I*(\\tilde{q})_{x}**2*(q)_{x}**3 - 1260*I*(\\tilde{q})_{x}**2*(q)_{x}*\\tilde{q}*q**3 - 54*I*(\\tilde{q})_{x}*(q)_{xxxxxx}*q - 264*I*(\\tilde{q})_{x}*(q)_{xxxxx}*(q)_{x} - 588*I*(\\tilde{q})_{x}*(q)_{xxxx}*(q)_{xx} + 504*I*(\\tilde{q})_{x}*(q)_{xxxx}*\\tilde{q}*q**2 - 378*I*(\\tilde{q})_{x}*(q)_{xxx}**2 + 3192*I*(\\tilde{q})_{x}*(q)_{xxx}*(q)_{x}*\\tilde{q}*q + 2184*I*(\\tilde{q})_{x}*(q)_{xx}**2*\\tilde{q}*q + 3696*I*(\\tilde{q})_{x}*(q)_{xx}*(q)_{x}**2*\\tilde{q} - 1260*I*(\\tilde{q})_{x}*(q)_{xx}*\\tilde{q}**2*q**3 - 3780*I*(\\tilde{q})_{x}*(q)_{x}**2*\\tilde{q}**2*q**2 - 72*I*(q)_{xxxxxx}*(q)_{x}*\\tilde{q} - 168*I*(q)_{xxxxx}*(q)_{xx}*\\tilde{q} - 252*I*(q)_{xxxx}*(q)_{xxx}*\\tilde{q} + 756*I*(q)_{xxxx}*(q)_{x}*\\tilde{q}**2*q + 1260*I*(q)_{xxx}*(q)_{xx}*\\tilde{q}**2*q + 966*I*(q)_{xxx}*(q)_{x}**2*\\tilde{q}**2 + 1302*I*(q)_{xx}**2*(q)_{x}*\\tilde{q}**2 - 2520*I*(q)_{xx}*(q)_{x}*\\tilde{q}**3*q**2 - 1260*I*(q)_{x}**3*\\tilde{q}**3*q)"
      ]
     },
     "metadata": {},
     "output_type": "display_data"
    }
   ],
   "source": [
    "print(\"NLS-hierarchy vs predicted part vs difference\")\n",
    "\n",
    "N = 10\n",
    "for n in range(N):\n",
    "    display(Eq(Symbol(\"\\\\frac{\\delta \\\\mathcal{H}_{\\\\text{NLS}}^{\" + str(n) + \"}}{\\delta \\\\tilde{q}}\"), simplify(variation(H_NLS(n), q_conj))))\n",
    "    \n",
    "    X = 0\n",
    "\n",
    "    if n % 2 == 0:\n",
    "        m = Rational(n, 2)\n",
    "        for j in range(m - 1):\n",
    "            X += - 2 * (-1)**m * 4**j * binomial(m - Rational(1,2), j) * (-q)**(j+2) * q_conj**j * higher_deriv(q_conj, 2*m-2-2*j)\n",
    "        for j in range(m):\n",
    "            X += Rational(1,2) * (-1)**m * 4**j * (binomial(m-Rational(1,2),j) + binomial(m+Rational(1,2),j)) * (-q)**j * q_conj**j * higher_deriv(q, 2*m-2*j)\n",
    "        X += - (-1)**m * (m + 1) * catalan(m) * (-q)**(m+1) * q_conj**m\n",
    "\n",
    "    if n % 2 == 1:\n",
    "        m = Rational(n-1, 2)\n",
    "        for j in range(m + 1):\n",
    "            X += I * (-1)**m * 4**j * binomial(m + Rational(1,2), j) * (-q)**j * q_conj**j * higher_deriv(q, 2*m+1-2*j)\n",
    "\n",
    "    display(Eq(Symbol(\"\\\\mathcal{P}^{\" + str(n) + \"}\"), simplify(X)))\n",
    "    display(Eq(Symbol(\"\\\\frac{\\delta \\\\mathcal{H}_{\\\\text{NLS}}^{\" + str(n) + \"}}{\\delta \\\\tilde{q}} - \\\\mathcal{P}^{\" + str(n) + \"}\"), simplify(variation(H_NLS(n), q_conj) - X).expand()))\n"
   ]
  },
  {
   "cell_type": "code",
   "execution_count": 9,
   "id": "bc54222e",
   "metadata": {},
   "outputs": [
    {
     "name": "stdout",
     "output_type": "stream",
     "text": [
      "GP-hierarchy vs predicted part vs difference\n"
     ]
    },
    {
     "data": {
      "text/latex": [
       "$\\displaystyle \\frac{\\delta H_{\\text{GP}}^{0}}{\\delta \\tilde{q}} = q$"
      ],
      "text/plain": [
       "Eq(\\frac{\\delta H_{\\text{GP}}^{0}}{\\delta \\tilde{q}}, q)"
      ]
     },
     "metadata": {},
     "output_type": "display_data"
    },
    {
     "data": {
      "text/latex": [
       "$\\displaystyle \\mathcal{P}^{0} = q$"
      ],
      "text/plain": [
       "Eq(\\mathcal{P}^{0}, q)"
      ]
     },
     "metadata": {},
     "output_type": "display_data"
    },
    {
     "data": {
      "text/latex": [
       "$\\displaystyle \\frac{\\delta H_{\\text{GP}}^{0}}{\\delta \\tilde{q}} - \\mathcal{P}^{0} = 0$"
      ],
      "text/plain": [
       "Eq(\\frac{\\delta H_{\\text{GP}}^{0}}{\\delta \\tilde{q}} - \\mathcal{P}^{0}, 0)"
      ]
     },
     "metadata": {},
     "output_type": "display_data"
    },
    {
     "data": {
      "text/latex": [
       "$\\displaystyle \\frac{\\delta H_{\\text{GP}}^{1}}{\\delta \\tilde{q}} = i (q)_{x}$"
      ],
      "text/plain": [
       "Eq(\\frac{\\delta H_{\\text{GP}}^{1}}{\\delta \\tilde{q}}, I*(q)_{x})"
      ]
     },
     "metadata": {},
     "output_type": "display_data"
    },
    {
     "data": {
      "text/latex": [
       "$\\displaystyle \\mathcal{P}^{1} = i (q)_{x}$"
      ],
      "text/plain": [
       "Eq(\\mathcal{P}^{1}, I*(q)_{x})"
      ]
     },
     "metadata": {},
     "output_type": "display_data"
    },
    {
     "data": {
      "text/latex": [
       "$\\displaystyle \\frac{\\delta H_{\\text{GP}}^{1}}{\\delta \\tilde{q}} - \\mathcal{P}^{1} = 0$"
      ],
      "text/plain": [
       "Eq(\\frac{\\delta H_{\\text{GP}}^{1}}{\\delta \\tilde{q}} - \\mathcal{P}^{1}, 0)"
      ]
     },
     "metadata": {},
     "output_type": "display_data"
    },
    {
     "data": {
      "text/latex": [
       "$\\displaystyle \\frac{\\delta H_{\\text{GP}}^{2}}{\\delta \\tilde{q}} = - (q)_{xx} + 2 q \\left(\\tilde{q} q - 1\\right)$"
      ],
      "text/plain": [
       "Eq(\\frac{\\delta H_{\\text{GP}}^{2}}{\\delta \\tilde{q}}, -(q)_{xx} + 2*q*(\\tilde{q}*q - 1))"
      ]
     },
     "metadata": {},
     "output_type": "display_data"
    },
    {
     "data": {
      "text/latex": [
       "$\\displaystyle \\mathcal{P}^{2} = - (q)_{xx} + 2 \\tilde{q} q^{2} - 2 q$"
      ],
      "text/plain": [
       "Eq(\\mathcal{P}^{2}, -(q)_{xx} + 2*\\tilde{q}*q**2 - 2*q)"
      ]
     },
     "metadata": {},
     "output_type": "display_data"
    },
    {
     "data": {
      "text/latex": [
       "$\\displaystyle \\frac{\\delta H_{\\text{GP}}^{2}}{\\delta \\tilde{q}} - \\mathcal{P}^{2} = 0$"
      ],
      "text/plain": [
       "Eq(\\frac{\\delta H_{\\text{GP}}^{2}}{\\delta \\tilde{q}} - \\mathcal{P}^{2}, 0)"
      ]
     },
     "metadata": {},
     "output_type": "display_data"
    },
    {
     "data": {
      "text/latex": [
       "$\\displaystyle \\frac{\\delta H_{\\text{GP}}^{3}}{\\delta \\tilde{q}} = i \\left(- (q)_{xxx} + 6 (q)_{x} \\tilde{q} q - 4 (q)_{x}\\right)$"
      ],
      "text/plain": [
       "Eq(\\frac{\\delta H_{\\text{GP}}^{3}}{\\delta \\tilde{q}}, I*(-(q)_{xxx} + 6*(q)_{x}*\\tilde{q}*q - 4*(q)_{x}))"
      ]
     },
     "metadata": {},
     "output_type": "display_data"
    },
    {
     "data": {
      "text/latex": [
       "$\\displaystyle \\mathcal{P}^{3} = i \\left(- (q)_{xxx} + 6 (q)_{x} \\tilde{q} q - 4 (q)_{x}\\right)$"
      ],
      "text/plain": [
       "Eq(\\mathcal{P}^{3}, I*(-(q)_{xxx} + 6*(q)_{x}*\\tilde{q}*q - 4*(q)_{x}))"
      ]
     },
     "metadata": {},
     "output_type": "display_data"
    },
    {
     "data": {
      "text/latex": [
       "$\\displaystyle \\frac{\\delta H_{\\text{GP}}^{3}}{\\delta \\tilde{q}} - \\mathcal{P}^{3} = 0$"
      ],
      "text/plain": [
       "Eq(\\frac{\\delta H_{\\text{GP}}^{3}}{\\delta \\tilde{q}} - \\mathcal{P}^{3}, 0)"
      ]
     },
     "metadata": {},
     "output_type": "display_data"
    },
    {
     "data": {
      "text/latex": [
       "$\\displaystyle \\frac{\\delta H_{\\text{GP}}^{4}}{\\delta \\tilde{q}} = - 2 (\\tilde{q})_{xx} q^{2} - 4 (\\tilde{q})_{x} (q)_{x} q + (q)_{xxxx} - 8 (q)_{xx} \\tilde{q} q + 6 (q)_{xx} - 6 (q)_{x}^{2} \\tilde{q} + 6 \\tilde{q}^{2} q^{3} - 12 \\tilde{q} q^{2} + 6 q$"
      ],
      "text/plain": [
       "Eq(\\frac{\\delta H_{\\text{GP}}^{4}}{\\delta \\tilde{q}}, -2*(\\tilde{q})_{xx}*q**2 - 4*(\\tilde{q})_{x}*(q)_{x}*q + (q)_{xxxx} - 8*(q)_{xx}*\\tilde{q}*q + 6*(q)_{xx} - 6*(q)_{x}**2*\\tilde{q} + 6*\\tilde{q}**2*q**3 - 12*\\tilde{q}*q**2 + 6*q)"
      ]
     },
     "metadata": {},
     "output_type": "display_data"
    },
    {
     "data": {
      "text/latex": [
       "$\\displaystyle \\mathcal{P}^{4} = - 2 (\\tilde{q})_{xx} q^{2} + (q)_{xxxx} - 8 (q)_{xx} \\tilde{q} q + 6 (q)_{xx} + 6 \\tilde{q}^{2} q^{3} - 12 \\tilde{q} q^{2} + 6 q$"
      ],
      "text/plain": [
       "Eq(\\mathcal{P}^{4}, -2*(\\tilde{q})_{xx}*q**2 + (q)_{xxxx} - 8*(q)_{xx}*\\tilde{q}*q + 6*(q)_{xx} + 6*\\tilde{q}**2*q**3 - 12*\\tilde{q}*q**2 + 6*q)"
      ]
     },
     "metadata": {},
     "output_type": "display_data"
    },
    {
     "data": {
      "text/latex": [
       "$\\displaystyle \\frac{\\delta H_{\\text{GP}}^{4}}{\\delta \\tilde{q}} - \\mathcal{P}^{4} = - 4 (\\tilde{q})_{x} (q)_{x} q - 6 (q)_{x}^{2} \\tilde{q}$"
      ],
      "text/plain": [
       "Eq(\\frac{\\delta H_{\\text{GP}}^{4}}{\\delta \\tilde{q}} - \\mathcal{P}^{4}, -4*(\\tilde{q})_{x}*(q)_{x}*q - 6*(q)_{x}**2*\\tilde{q})"
      ]
     },
     "metadata": {},
     "output_type": "display_data"
    },
    {
     "data": {
      "text/latex": [
       "$\\displaystyle \\frac{\\delta H_{\\text{GP}}^{5}}{\\delta \\tilde{q}} = i \\left(- 10 (\\tilde{q})_{xx} (q)_{x} q - 10 (\\tilde{q})_{x} (q)_{xx} q - 10 (\\tilde{q})_{x} (q)_{x}^{2} + (q)_{xxxxx} - 10 (q)_{xxx} \\tilde{q} q + 8 (q)_{xxx} - 20 (q)_{xx} (q)_{x} \\tilde{q} + 30 (q)_{x} \\tilde{q}^{2} q^{2} - 48 (q)_{x} \\tilde{q} q + 16 (q)_{x}\\right)$"
      ],
      "text/plain": [
       "Eq(\\frac{\\delta H_{\\text{GP}}^{5}}{\\delta \\tilde{q}}, I*(-10*(\\tilde{q})_{xx}*(q)_{x}*q - 10*(\\tilde{q})_{x}*(q)_{xx}*q - 10*(\\tilde{q})_{x}*(q)_{x}**2 + (q)_{xxxxx} - 10*(q)_{xxx}*\\tilde{q}*q + 8*(q)_{xxx} - 20*(q)_{xx}*(q)_{x}*\\tilde{q} + 30*(q)_{x}*\\tilde{q}**2*q**2 - 48*(q)_{x}*\\tilde{q}*q + 16*(q)_{x}))"
      ]
     },
     "metadata": {},
     "output_type": "display_data"
    },
    {
     "data": {
      "text/latex": [
       "$\\displaystyle \\mathcal{P}^{5} = i \\left((q)_{xxxxx} - 10 (q)_{xxx} \\tilde{q} q + 8 (q)_{xxx} + 30 (q)_{x} \\tilde{q}^{2} q^{2} - 48 (q)_{x} \\tilde{q} q + 16 (q)_{x}\\right)$"
      ],
      "text/plain": [
       "Eq(\\mathcal{P}^{5}, I*((q)_{xxxxx} - 10*(q)_{xxx}*\\tilde{q}*q + 8*(q)_{xxx} + 30*(q)_{x}*\\tilde{q}**2*q**2 - 48*(q)_{x}*\\tilde{q}*q + 16*(q)_{x}))"
      ]
     },
     "metadata": {},
     "output_type": "display_data"
    },
    {
     "data": {
      "text/latex": [
       "$\\displaystyle \\frac{\\delta H_{\\text{GP}}^{5}}{\\delta \\tilde{q}} - \\mathcal{P}^{5} = - 10 i (\\tilde{q})_{xx} (q)_{x} q - 10 i (\\tilde{q})_{x} (q)_{xx} q - 10 i (\\tilde{q})_{x} (q)_{x}^{2} - 20 i (q)_{xx} (q)_{x} \\tilde{q}$"
      ],
      "text/plain": [
       "Eq(\\frac{\\delta H_{\\text{GP}}^{5}}{\\delta \\tilde{q}} - \\mathcal{P}^{5}, -10*I*(\\tilde{q})_{xx}*(q)_{x}*q - 10*I*(\\tilde{q})_{x}*(q)_{xx}*q - 10*I*(\\tilde{q})_{x}*(q)_{x}**2 - 20*I*(q)_{xx}*(q)_{x}*\\tilde{q})"
      ]
     },
     "metadata": {},
     "output_type": "display_data"
    },
    {
     "data": {
      "text/latex": [
       "$\\displaystyle \\frac{\\delta H_{\\text{GP}}^{6}}{\\delta \\tilde{q}} = 2 (\\tilde{q})_{xxxx} q^{2} + 8 (\\tilde{q})_{xxx} (q)_{x} q + 22 (\\tilde{q})_{xx} (q)_{xx} q + 20 (\\tilde{q})_{xx} (q)_{x}^{2} - 20 (\\tilde{q})_{xx} \\tilde{q} q^{3} + 20 (\\tilde{q})_{xx} q^{2} - 10 (\\tilde{q})_{x}^{2} q^{3} + 18 (\\tilde{q})_{x} (q)_{xxx} q + 50 (\\tilde{q})_{x} (q)_{xx} (q)_{x} - 60 (\\tilde{q})_{x} (q)_{x} \\tilde{q} q^{2} + 40 (\\tilde{q})_{x} (q)_{x} q - (q)_{xxxxxx} + 12 (q)_{xxxx} \\tilde{q} q - 10 (q)_{xxxx} + 30 (q)_{xxx} (q)_{x} \\tilde{q} + 20 (q)_{xx}^{2} \\tilde{q} - 50 (q)_{xx} \\tilde{q}^{2} q^{2} + 80 (q)_{xx} \\tilde{q} q - 30 (q)_{xx} - 70 (q)_{x}^{2} \\tilde{q}^{2} q + 60 (q)_{x}^{2} \\tilde{q} + 20 \\tilde{q}^{3} q^{4} - 60 \\tilde{q}^{2} q^{3} + 60 \\tilde{q} q^{2} - 20 q$"
      ],
      "text/plain": [
       "Eq(\\frac{\\delta H_{\\text{GP}}^{6}}{\\delta \\tilde{q}}, 2*(\\tilde{q})_{xxxx}*q**2 + 8*(\\tilde{q})_{xxx}*(q)_{x}*q + 22*(\\tilde{q})_{xx}*(q)_{xx}*q + 20*(\\tilde{q})_{xx}*(q)_{x}**2 - 20*(\\tilde{q})_{xx}*\\tilde{q}*q**3 + 20*(\\tilde{q})_{xx}*q**2 - 10*(\\tilde{q})_{x}**2*q**3 + 18*(\\tilde{q})_{x}*(q)_{xxx}*q + 50*(\\tilde{q})_{x}*(q)_{xx}*(q)_{x} - 60*(\\tilde{q})_{x}*(q)_{x}*\\tilde{q}*q**2 + 40*(\\tilde{q})_{x}*(q)_{x}*q - (q)_{xxxxxx} + 12*(q)_{xxxx}*\\tilde{q}*q - 10*(q)_{xxxx} + 30*(q)_{xxx}*(q)_{x}*\\tilde{q} + 20*(q)_{xx}**2*\\tilde{q} - 50*(q)_{xx}*\\tilde{q}**2*q**2 + 80*(q)_{xx}*\\tilde{q}*q - 30*(q)_{xx} - 70*(q)_{x}**2*\\tilde{q}**2*q + 60*(q)_{x}**2*\\tilde{q} + 20*\\tilde{q}**3*q**4 - 60*\\tilde{q}**2*q**3 + 60*\\tilde{q}*q**2 - 20*q)"
      ]
     },
     "metadata": {},
     "output_type": "display_data"
    },
    {
     "data": {
      "text/latex": [
       "$\\displaystyle \\mathcal{P}^{6} = 2 (\\tilde{q})_{xxxx} q^{2} - 20 (\\tilde{q})_{xx} \\tilde{q} q^{3} + 20 (\\tilde{q})_{xx} q^{2} - (q)_{xxxxxx} + 12 (q)_{xxxx} \\tilde{q} q - 10 (q)_{xxxx} - 50 (q)_{xx} \\tilde{q}^{2} q^{2} + 80 (q)_{xx} \\tilde{q} q - 30 (q)_{xx} + 20 \\tilde{q}^{3} q^{4} - 60 \\tilde{q}^{2} q^{3} + 60 \\tilde{q} q^{2} - 20 q$"
      ],
      "text/plain": [
       "Eq(\\mathcal{P}^{6}, 2*(\\tilde{q})_{xxxx}*q**2 - 20*(\\tilde{q})_{xx}*\\tilde{q}*q**3 + 20*(\\tilde{q})_{xx}*q**2 - (q)_{xxxxxx} + 12*(q)_{xxxx}*\\tilde{q}*q - 10*(q)_{xxxx} - 50*(q)_{xx}*\\tilde{q}**2*q**2 + 80*(q)_{xx}*\\tilde{q}*q - 30*(q)_{xx} + 20*\\tilde{q}**3*q**4 - 60*\\tilde{q}**2*q**3 + 60*\\tilde{q}*q**2 - 20*q)"
      ]
     },
     "metadata": {},
     "output_type": "display_data"
    },
    {
     "data": {
      "text/latex": [
       "$\\displaystyle \\frac{\\delta H_{\\text{GP}}^{6}}{\\delta \\tilde{q}} - \\mathcal{P}^{6} = 8 (\\tilde{q})_{xxx} (q)_{x} q + 22 (\\tilde{q})_{xx} (q)_{xx} q + 20 (\\tilde{q})_{xx} (q)_{x}^{2} - 10 (\\tilde{q})_{x}^{2} q^{3} + 18 (\\tilde{q})_{x} (q)_{xxx} q + 50 (\\tilde{q})_{x} (q)_{xx} (q)_{x} - 60 (\\tilde{q})_{x} (q)_{x} \\tilde{q} q^{2} + 40 (\\tilde{q})_{x} (q)_{x} q + 30 (q)_{xxx} (q)_{x} \\tilde{q} + 20 (q)_{xx}^{2} \\tilde{q} - 70 (q)_{x}^{2} \\tilde{q}^{2} q + 60 (q)_{x}^{2} \\tilde{q}$"
      ],
      "text/plain": [
       "Eq(\\frac{\\delta H_{\\text{GP}}^{6}}{\\delta \\tilde{q}} - \\mathcal{P}^{6}, 8*(\\tilde{q})_{xxx}*(q)_{x}*q + 22*(\\tilde{q})_{xx}*(q)_{xx}*q + 20*(\\tilde{q})_{xx}*(q)_{x}**2 - 10*(\\tilde{q})_{x}**2*q**3 + 18*(\\tilde{q})_{x}*(q)_{xxx}*q + 50*(\\tilde{q})_{x}*(q)_{xx}*(q)_{x} - 60*(\\tilde{q})_{x}*(q)_{x}*\\tilde{q}*q**2 + 40*(\\tilde{q})_{x}*(q)_{x}*q + 30*(q)_{xxx}*(q)_{x}*\\tilde{q} + 20*(q)_{xx}**2*\\tilde{q} - 70*(q)_{x}**2*\\tilde{q}**2*q + 60*(q)_{x}**2*\\tilde{q})"
      ]
     },
     "metadata": {},
     "output_type": "display_data"
    },
    {
     "data": {
      "text/latex": [
       "$\\displaystyle \\frac{\\delta H_{\\text{GP}}^{7}}{\\delta \\tilde{q}} = i \\left(14 (\\tilde{q})_{xxxx} (q)_{x} q + 28 (\\tilde{q})_{xxx} (q)_{xx} q + 28 (\\tilde{q})_{xxx} (q)_{x}^{2} + 42 (\\tilde{q})_{xx} (q)_{xxx} q + 112 (\\tilde{q})_{xx} (q)_{xx} (q)_{x} - 140 (\\tilde{q})_{xx} (q)_{x} \\tilde{q} q^{2} + 120 (\\tilde{q})_{xx} (q)_{x} q - 70 (\\tilde{q})_{x}^{2} (q)_{x} q^{2} + 28 (\\tilde{q})_{x} (q)_{xxxx} q + 98 (\\tilde{q})_{x} (q)_{xxx} (q)_{x} + 70 (\\tilde{q})_{x} (q)_{xx}^{2} - 140 (\\tilde{q})_{x} (q)_{xx} \\tilde{q} q^{2} + 120 (\\tilde{q})_{x} (q)_{xx} q - 280 (\\tilde{q})_{x} (q)_{x}^{2} \\tilde{q} q + 120 (\\tilde{q})_{x} (q)_{x}^{2} - (q)_{xxxxxxx} + 14 (q)_{xxxxx} \\tilde{q} q - 12 (q)_{xxxxx} + 42 (q)_{xxxx} (q)_{x} \\tilde{q} + 70 (q)_{xxx} (q)_{xx} \\tilde{q} - 70 (q)_{xxx} \\tilde{q}^{2} q^{2} + 120 (q)_{xxx} \\tilde{q} q - 48 (q)_{xxx} - 280 (q)_{xx} (q)_{x} \\tilde{q}^{2} q + 240 (q)_{xx} (q)_{x} \\tilde{q} - 70 (q)_{x}^{3} \\tilde{q}^{2} + 140 (q)_{x} \\tilde{q}^{3} q^{3} - 360 (q)_{x} \\tilde{q}^{2} q^{2} + 288 (q)_{x} \\tilde{q} q - 64 (q)_{x}\\right)$"
      ],
      "text/plain": [
       "Eq(\\frac{\\delta H_{\\text{GP}}^{7}}{\\delta \\tilde{q}}, I*(14*(\\tilde{q})_{xxxx}*(q)_{x}*q + 28*(\\tilde{q})_{xxx}*(q)_{xx}*q + 28*(\\tilde{q})_{xxx}*(q)_{x}**2 + 42*(\\tilde{q})_{xx}*(q)_{xxx}*q + 112*(\\tilde{q})_{xx}*(q)_{xx}*(q)_{x} - 140*(\\tilde{q})_{xx}*(q)_{x}*\\tilde{q}*q**2 + 120*(\\tilde{q})_{xx}*(q)_{x}*q - 70*(\\tilde{q})_{x}**2*(q)_{x}*q**2 + 28*(\\tilde{q})_{x}*(q)_{xxxx}*q + 98*(\\tilde{q})_{x}*(q)_{xxx}*(q)_{x} + 70*(\\tilde{q})_{x}*(q)_{xx}**2 - 140*(\\tilde{q})_{x}*(q)_{xx}*\\tilde{q}*q**2 + 120*(\\tilde{q})_{x}*(q)_{xx}*q - 280*(\\tilde{q})_{x}*(q)_{x}**2*\\tilde{q}*q + 120*(\\tilde{q})_{x}*(q)_{x}**2 - (q)_{xxxxxxx} + 14*(q)_{xxxxx}*\\tilde{q}*q - 12*(q)_{xxxxx} + 42*(q)_{xxxx}*(q)_{x}*\\tilde{q} + 70*(q)_{xxx}*(q)_{xx}*\\tilde{q} - 70*(q)_{xxx}*\\tilde{q}**2*q**2 + 120*(q)_{xxx}*\\tilde{q}*q - 48*(q)_{xxx} - 280*(q)_{xx}*(q)_{x}*\\tilde{q}**2*q + 240*(q)_{xx}*(q)_{x}*\\tilde{q} - 70*(q)_{x}**3*\\tilde{q}**2 + 140*(q)_{x}*\\tilde{q}**3*q**3 - 360*(q)_{x}*\\tilde{q}**2*q**2 + 288*(q)_{x}*\\tilde{q}*q - 64*(q)_{x}))"
      ]
     },
     "metadata": {},
     "output_type": "display_data"
    },
    {
     "data": {
      "text/latex": [
       "$\\displaystyle \\mathcal{P}^{7} = i \\left(- (q)_{xxxxxxx} + 14 (q)_{xxxxx} \\tilde{q} q - 12 (q)_{xxxxx} - 70 (q)_{xxx} \\tilde{q}^{2} q^{2} + 120 (q)_{xxx} \\tilde{q} q - 48 (q)_{xxx} + 140 (q)_{x} \\tilde{q}^{3} q^{3} - 360 (q)_{x} \\tilde{q}^{2} q^{2} + 288 (q)_{x} \\tilde{q} q - 64 (q)_{x}\\right)$"
      ],
      "text/plain": [
       "Eq(\\mathcal{P}^{7}, I*(-(q)_{xxxxxxx} + 14*(q)_{xxxxx}*\\tilde{q}*q - 12*(q)_{xxxxx} - 70*(q)_{xxx}*\\tilde{q}**2*q**2 + 120*(q)_{xxx}*\\tilde{q}*q - 48*(q)_{xxx} + 140*(q)_{x}*\\tilde{q}**3*q**3 - 360*(q)_{x}*\\tilde{q}**2*q**2 + 288*(q)_{x}*\\tilde{q}*q - 64*(q)_{x}))"
      ]
     },
     "metadata": {},
     "output_type": "display_data"
    },
    {
     "data": {
      "text/latex": [
       "$\\displaystyle \\frac{\\delta H_{\\text{GP}}^{7}}{\\delta \\tilde{q}} - \\mathcal{P}^{7} = 14 i (\\tilde{q})_{xxxx} (q)_{x} q + 28 i (\\tilde{q})_{xxx} (q)_{xx} q + 28 i (\\tilde{q})_{xxx} (q)_{x}^{2} + 42 i (\\tilde{q})_{xx} (q)_{xxx} q + 112 i (\\tilde{q})_{xx} (q)_{xx} (q)_{x} - 140 i (\\tilde{q})_{xx} (q)_{x} \\tilde{q} q^{2} + 120 i (\\tilde{q})_{xx} (q)_{x} q - 70 i (\\tilde{q})_{x}^{2} (q)_{x} q^{2} + 28 i (\\tilde{q})_{x} (q)_{xxxx} q + 98 i (\\tilde{q})_{x} (q)_{xxx} (q)_{x} + 70 i (\\tilde{q})_{x} (q)_{xx}^{2} - 140 i (\\tilde{q})_{x} (q)_{xx} \\tilde{q} q^{2} + 120 i (\\tilde{q})_{x} (q)_{xx} q - 280 i (\\tilde{q})_{x} (q)_{x}^{2} \\tilde{q} q + 120 i (\\tilde{q})_{x} (q)_{x}^{2} + 42 i (q)_{xxxx} (q)_{x} \\tilde{q} + 70 i (q)_{xxx} (q)_{xx} \\tilde{q} - 280 i (q)_{xx} (q)_{x} \\tilde{q}^{2} q + 240 i (q)_{xx} (q)_{x} \\tilde{q} - 70 i (q)_{x}^{3} \\tilde{q}^{2}$"
      ],
      "text/plain": [
       "Eq(\\frac{\\delta H_{\\text{GP}}^{7}}{\\delta \\tilde{q}} - \\mathcal{P}^{7}, 14*I*(\\tilde{q})_{xxxx}*(q)_{x}*q + 28*I*(\\tilde{q})_{xxx}*(q)_{xx}*q + 28*I*(\\tilde{q})_{xxx}*(q)_{x}**2 + 42*I*(\\tilde{q})_{xx}*(q)_{xxx}*q + 112*I*(\\tilde{q})_{xx}*(q)_{xx}*(q)_{x} - 140*I*(\\tilde{q})_{xx}*(q)_{x}*\\tilde{q}*q**2 + 120*I*(\\tilde{q})_{xx}*(q)_{x}*q - 70*I*(\\tilde{q})_{x}**2*(q)_{x}*q**2 + 28*I*(\\tilde{q})_{x}*(q)_{xxxx}*q + 98*I*(\\tilde{q})_{x}*(q)_{xxx}*(q)_{x} + 70*I*(\\tilde{q})_{x}*(q)_{xx}**2 - 140*I*(\\tilde{q})_{x}*(q)_{xx}*\\tilde{q}*q**2 + 120*I*(\\tilde{q})_{x}*(q)_{xx}*q - 280*I*(\\tilde{q})_{x}*(q)_{x}**2*\\tilde{q}*q + 120*I*(\\tilde{q})_{x}*(q)_{x}**2 + 42*I*(q)_{xxxx}*(q)_{x}*\\tilde{q} + 70*I*(q)_{xxx}*(q)_{xx}*\\tilde{q} - 280*I*(q)_{xx}*(q)_{x}*\\tilde{q}**2*q + 240*I*(q)_{xx}*(q)_{x}*\\tilde{q} - 70*I*(q)_{x}**3*\\tilde{q}**2)"
      ]
     },
     "metadata": {},
     "output_type": "display_data"
    },
    {
     "data": {
      "text/latex": [
       "$\\displaystyle \\frac{\\delta H_{\\text{GP}}^{8}}{\\delta \\tilde{q}} = - 2 (\\tilde{q})_{xxxxxx} q^{2} - 12 (\\tilde{q})_{xxxxx} (q)_{x} q - 44 (\\tilde{q})_{xxxx} (q)_{xx} q - 42 (\\tilde{q})_{xxxx} (q)_{x}^{2} + 28 (\\tilde{q})_{xxxx} \\tilde{q} q^{3} - 28 (\\tilde{q})_{xxxx} q^{2} + 56 (\\tilde{q})_{xxx} (\\tilde{q})_{x} q^{3} - 68 (\\tilde{q})_{xxx} (q)_{xxx} q - 196 (\\tilde{q})_{xxx} (q)_{xx} (q)_{x} + 168 (\\tilde{q})_{xxx} (q)_{x} \\tilde{q} q^{2} - 112 (\\tilde{q})_{xxx} (q)_{x} q + 42 (\\tilde{q})_{xx}^{2} q^{3} + 336 (\\tilde{q})_{xx} (\\tilde{q})_{x} (q)_{x} q^{2} - 72 (\\tilde{q})_{xx} (q)_{xxxx} q - 252 (\\tilde{q})_{xx} (q)_{xxx} (q)_{x} - 182 (\\tilde{q})_{xx} (q)_{xx}^{2} + 392 (\\tilde{q})_{xx} (q)_{xx} \\tilde{q} q^{2} - 308 (\\tilde{q})_{xx} (q)_{xx} q + 588 (\\tilde{q})_{xx} (q)_{x}^{2} \\tilde{q} q - 280 (\\tilde{q})_{xx} (q)_{x}^{2} - 140 (\\tilde{q})_{xx} \\tilde{q}^{2} q^{4} + 280 (\\tilde{q})_{xx} \\tilde{q} q^{3} - 140 (\\tilde{q})_{xx} q^{2} + 238 (\\tilde{q})_{x}^{2} (q)_{xx} q^{2} + 378 (\\tilde{q})_{x}^{2} (q)_{x}^{2} q - 140 (\\tilde{q})_{x}^{2} \\tilde{q} q^{4} + 140 (\\tilde{q})_{x}^{2} q^{3} - 40 (\\tilde{q})_{x} (q)_{xxxxx} q - 168 (\\tilde{q})_{x} (q)_{xxxx} (q)_{x} - 308 (\\tilde{q})_{x} (q)_{xxx} (q)_{xx} + 308 (\\tilde{q})_{x} (q)_{xxx} \\tilde{q} q^{2} - 252 (\\tilde{q})_{x} (q)_{xxx} q + 1456 (\\tilde{q})_{x} (q)_{xx} (q)_{x} \\tilde{q} q - 700 (\\tilde{q})_{x} (q)_{xx} (q)_{x} + 420 (\\tilde{q})_{x} (q)_{x}^{3} \\tilde{q} - 560 (\\tilde{q})_{x} (q)_{x} \\tilde{q}^{2} q^{3} + 840 (\\tilde{q})_{x} (q)_{x} \\tilde{q} q^{2} - 280 (\\tilde{q})_{x} (q)_{x} q + (q)_{xxxxxxxx} - 16 (q)_{xxxxxx} \\tilde{q} q + 14 (q)_{xxxxxx} - 56 (q)_{xxxxx} (q)_{x} \\tilde{q} - 112 (q)_{xxxx} (q)_{xx} \\tilde{q} + 98 (q)_{xxxx} \\tilde{q}^{2} q^{2} - 168 (q)_{xxxx} \\tilde{q} q + 70 (q)_{xxxx} - 70 (q)_{xxx}^{2} \\tilde{q} + 476 (q)_{xxx} (q)_{x} \\tilde{q}^{2} q - 420 (q)_{xxx} (q)_{x} \\tilde{q} + 322 (q)_{xx}^{2} \\tilde{q}^{2} q - 280 (q)_{xx}^{2} \\tilde{q} + 490 (q)_{xx} (q)_{x}^{2} \\tilde{q}^{2} - 280 (q)_{xx} \\tilde{q}^{3} q^{3} + 700 (q)_{xx} \\tilde{q}^{2} q^{2} - 560 (q)_{xx} \\tilde{q} q + 140 (q)_{xx} - 560 (q)_{x}^{2} \\tilde{q}^{3} q^{2} + 980 (q)_{x}^{2} \\tilde{q}^{2} q - 420 (q)_{x}^{2} \\tilde{q} + 70 \\tilde{q}^{4} q^{5} - 280 \\tilde{q}^{3} q^{4} + 420 \\tilde{q}^{2} q^{3} - 280 \\tilde{q} q^{2} + 70 q$"
      ],
      "text/plain": [
       "Eq(\\frac{\\delta H_{\\text{GP}}^{8}}{\\delta \\tilde{q}}, -2*(\\tilde{q})_{xxxxxx}*q**2 - 12*(\\tilde{q})_{xxxxx}*(q)_{x}*q - 44*(\\tilde{q})_{xxxx}*(q)_{xx}*q - 42*(\\tilde{q})_{xxxx}*(q)_{x}**2 + 28*(\\tilde{q})_{xxxx}*\\tilde{q}*q**3 - 28*(\\tilde{q})_{xxxx}*q**2 + 56*(\\tilde{q})_{xxx}*(\\tilde{q})_{x}*q**3 - 68*(\\tilde{q})_{xxx}*(q)_{xxx}*q - 196*(\\tilde{q})_{xxx}*(q)_{xx}*(q)_{x} + 168*(\\tilde{q})_{xxx}*(q)_{x}*\\tilde{q}*q**2 - 112*(\\tilde{q})_{xxx}*(q)_{x}*q + 42*(\\tilde{q})_{xx}**2*q**3 + 336*(\\tilde{q})_{xx}*(\\tilde{q})_{x}*(q)_{x}*q**2 - 72*(\\tilde{q})_{xx}*(q)_{xxxx}*q - 252*(\\tilde{q})_{xx}*(q)_{xxx}*(q)_{x} - 182*(\\tilde{q})_{xx}*(q)_{xx}**2 + 392*(\\tilde{q})_{xx}*(q)_{xx}*\\tilde{q}*q**2 - 308*(\\tilde{q})_{xx}*(q)_{xx}*q + 588*(\\tilde{q})_{xx}*(q)_{x}**2*\\tilde{q}*q - 280*(\\tilde{q})_{xx}*(q)_{x}**2 - 140*(\\tilde{q})_{xx}*\\tilde{q}**2*q**4 + 280*(\\tilde{q})_{xx}*\\tilde{q}*q**3 - 140*(\\tilde{q})_{xx}*q**2 + 238*(\\tilde{q})_{x}**2*(q)_{xx}*q**2 + 378*(\\tilde{q})_{x}**2*(q)_{x}**2*q - 140*(\\tilde{q})_{x}**2*\\tilde{q}*q**4 + 140*(\\tilde{q})_{x}**2*q**3 - 40*(\\tilde{q})_{x}*(q)_{xxxxx}*q - 168*(\\tilde{q})_{x}*(q)_{xxxx}*(q)_{x} - 308*(\\tilde{q})_{x}*(q)_{xxx}*(q)_{xx} + 308*(\\tilde{q})_{x}*(q)_{xxx}*\\tilde{q}*q**2 - 252*(\\tilde{q})_{x}*(q)_{xxx}*q + 1456*(\\tilde{q})_{x}*(q)_{xx}*(q)_{x}*\\tilde{q}*q - 700*(\\tilde{q})_{x}*(q)_{xx}*(q)_{x} + 420*(\\tilde{q})_{x}*(q)_{x}**3*\\tilde{q} - 560*(\\tilde{q})_{x}*(q)_{x}*\\tilde{q}**2*q**3 + 840*(\\tilde{q})_{x}*(q)_{x}*\\tilde{q}*q**2 - 280*(\\tilde{q})_{x}*(q)_{x}*q + (q)_{xxxxxxxx} - 16*(q)_{xxxxxx}*\\tilde{q}*q + 14*(q)_{xxxxxx} - 56*(q)_{xxxxx}*(q)_{x}*\\tilde{q} - 112*(q)_{xxxx}*(q)_{xx}*\\tilde{q} + 98*(q)_{xxxx}*\\tilde{q}**2*q**2 - 168*(q)_{xxxx}*\\tilde{q}*q + 70*(q)_{xxxx} - 70*(q)_{xxx}**2*\\tilde{q} + 476*(q)_{xxx}*(q)_{x}*\\tilde{q}**2*q - 420*(q)_{xxx}*(q)_{x}*\\tilde{q} + 322*(q)_{xx}**2*\\tilde{q}**2*q - 280*(q)_{xx}**2*\\tilde{q} + 490*(q)_{xx}*(q)_{x}**2*\\tilde{q}**2 - 280*(q)_{xx}*\\tilde{q}**3*q**3 + 700*(q)_{xx}*\\tilde{q}**2*q**2 - 560*(q)_{xx}*\\tilde{q}*q + 140*(q)_{xx} - 560*(q)_{x}**2*\\tilde{q}**3*q**2 + 980*(q)_{x}**2*\\tilde{q}**2*q - 420*(q)_{x}**2*\\tilde{q} + 70*\\tilde{q}**4*q**5 - 280*\\tilde{q}**3*q**4 + 420*\\tilde{q}**2*q**3 - 280*\\tilde{q}*q**2 + 70*q)"
      ]
     },
     "metadata": {},
     "output_type": "display_data"
    },
    {
     "data": {
      "text/latex": [
       "$\\displaystyle \\mathcal{P}^{8} = - 2 (\\tilde{q})_{xxxxxx} q^{2} + 28 (\\tilde{q})_{xxxx} \\tilde{q} q^{3} - 28 (\\tilde{q})_{xxxx} q^{2} - 140 (\\tilde{q})_{xx} \\tilde{q}^{2} q^{4} + 280 (\\tilde{q})_{xx} \\tilde{q} q^{3} - 140 (\\tilde{q})_{xx} q^{2} + (q)_{xxxxxxxx} - 16 (q)_{xxxxxx} \\tilde{q} q + 14 (q)_{xxxxxx} + 98 (q)_{xxxx} \\tilde{q}^{2} q^{2} - 168 (q)_{xxxx} \\tilde{q} q + 70 (q)_{xxxx} - 280 (q)_{xx} \\tilde{q}^{3} q^{3} + 700 (q)_{xx} \\tilde{q}^{2} q^{2} - 560 (q)_{xx} \\tilde{q} q + 140 (q)_{xx} + 70 \\tilde{q}^{4} q^{5} - 280 \\tilde{q}^{3} q^{4} + 420 \\tilde{q}^{2} q^{3} - 280 \\tilde{q} q^{2} + 70 q$"
      ],
      "text/plain": [
       "Eq(\\mathcal{P}^{8}, -2*(\\tilde{q})_{xxxxxx}*q**2 + 28*(\\tilde{q})_{xxxx}*\\tilde{q}*q**3 - 28*(\\tilde{q})_{xxxx}*q**2 - 140*(\\tilde{q})_{xx}*\\tilde{q}**2*q**4 + 280*(\\tilde{q})_{xx}*\\tilde{q}*q**3 - 140*(\\tilde{q})_{xx}*q**2 + (q)_{xxxxxxxx} - 16*(q)_{xxxxxx}*\\tilde{q}*q + 14*(q)_{xxxxxx} + 98*(q)_{xxxx}*\\tilde{q}**2*q**2 - 168*(q)_{xxxx}*\\tilde{q}*q + 70*(q)_{xxxx} - 280*(q)_{xx}*\\tilde{q}**3*q**3 + 700*(q)_{xx}*\\tilde{q}**2*q**2 - 560*(q)_{xx}*\\tilde{q}*q + 140*(q)_{xx} + 70*\\tilde{q}**4*q**5 - 280*\\tilde{q}**3*q**4 + 420*\\tilde{q}**2*q**3 - 280*\\tilde{q}*q**2 + 70*q)"
      ]
     },
     "metadata": {},
     "output_type": "display_data"
    },
    {
     "data": {
      "text/latex": [
       "$\\displaystyle \\frac{\\delta H_{\\text{GP}}^{8}}{\\delta \\tilde{q}} - \\mathcal{P}^{8} = - 12 (\\tilde{q})_{xxxxx} (q)_{x} q - 44 (\\tilde{q})_{xxxx} (q)_{xx} q - 42 (\\tilde{q})_{xxxx} (q)_{x}^{2} + 56 (\\tilde{q})_{xxx} (\\tilde{q})_{x} q^{3} - 68 (\\tilde{q})_{xxx} (q)_{xxx} q - 196 (\\tilde{q})_{xxx} (q)_{xx} (q)_{x} + 168 (\\tilde{q})_{xxx} (q)_{x} \\tilde{q} q^{2} - 112 (\\tilde{q})_{xxx} (q)_{x} q + 42 (\\tilde{q})_{xx}^{2} q^{3} + 336 (\\tilde{q})_{xx} (\\tilde{q})_{x} (q)_{x} q^{2} - 72 (\\tilde{q})_{xx} (q)_{xxxx} q - 252 (\\tilde{q})_{xx} (q)_{xxx} (q)_{x} - 182 (\\tilde{q})_{xx} (q)_{xx}^{2} + 392 (\\tilde{q})_{xx} (q)_{xx} \\tilde{q} q^{2} - 308 (\\tilde{q})_{xx} (q)_{xx} q + 588 (\\tilde{q})_{xx} (q)_{x}^{2} \\tilde{q} q - 280 (\\tilde{q})_{xx} (q)_{x}^{2} + 238 (\\tilde{q})_{x}^{2} (q)_{xx} q^{2} + 378 (\\tilde{q})_{x}^{2} (q)_{x}^{2} q - 140 (\\tilde{q})_{x}^{2} \\tilde{q} q^{4} + 140 (\\tilde{q})_{x}^{2} q^{3} - 40 (\\tilde{q})_{x} (q)_{xxxxx} q - 168 (\\tilde{q})_{x} (q)_{xxxx} (q)_{x} - 308 (\\tilde{q})_{x} (q)_{xxx} (q)_{xx} + 308 (\\tilde{q})_{x} (q)_{xxx} \\tilde{q} q^{2} - 252 (\\tilde{q})_{x} (q)_{xxx} q + 1456 (\\tilde{q})_{x} (q)_{xx} (q)_{x} \\tilde{q} q - 700 (\\tilde{q})_{x} (q)_{xx} (q)_{x} + 420 (\\tilde{q})_{x} (q)_{x}^{3} \\tilde{q} - 560 (\\tilde{q})_{x} (q)_{x} \\tilde{q}^{2} q^{3} + 840 (\\tilde{q})_{x} (q)_{x} \\tilde{q} q^{2} - 280 (\\tilde{q})_{x} (q)_{x} q - 56 (q)_{xxxxx} (q)_{x} \\tilde{q} - 112 (q)_{xxxx} (q)_{xx} \\tilde{q} - 70 (q)_{xxx}^{2} \\tilde{q} + 476 (q)_{xxx} (q)_{x} \\tilde{q}^{2} q - 420 (q)_{xxx} (q)_{x} \\tilde{q} + 322 (q)_{xx}^{2} \\tilde{q}^{2} q - 280 (q)_{xx}^{2} \\tilde{q} + 490 (q)_{xx} (q)_{x}^{2} \\tilde{q}^{2} - 560 (q)_{x}^{2} \\tilde{q}^{3} q^{2} + 980 (q)_{x}^{2} \\tilde{q}^{2} q - 420 (q)_{x}^{2} \\tilde{q}$"
      ],
      "text/plain": [
       "Eq(\\frac{\\delta H_{\\text{GP}}^{8}}{\\delta \\tilde{q}} - \\mathcal{P}^{8}, -12*(\\tilde{q})_{xxxxx}*(q)_{x}*q - 44*(\\tilde{q})_{xxxx}*(q)_{xx}*q - 42*(\\tilde{q})_{xxxx}*(q)_{x}**2 + 56*(\\tilde{q})_{xxx}*(\\tilde{q})_{x}*q**3 - 68*(\\tilde{q})_{xxx}*(q)_{xxx}*q - 196*(\\tilde{q})_{xxx}*(q)_{xx}*(q)_{x} + 168*(\\tilde{q})_{xxx}*(q)_{x}*\\tilde{q}*q**2 - 112*(\\tilde{q})_{xxx}*(q)_{x}*q + 42*(\\tilde{q})_{xx}**2*q**3 + 336*(\\tilde{q})_{xx}*(\\tilde{q})_{x}*(q)_{x}*q**2 - 72*(\\tilde{q})_{xx}*(q)_{xxxx}*q - 252*(\\tilde{q})_{xx}*(q)_{xxx}*(q)_{x} - 182*(\\tilde{q})_{xx}*(q)_{xx}**2 + 392*(\\tilde{q})_{xx}*(q)_{xx}*\\tilde{q}*q**2 - 308*(\\tilde{q})_{xx}*(q)_{xx}*q + 588*(\\tilde{q})_{xx}*(q)_{x}**2*\\tilde{q}*q - 280*(\\tilde{q})_{xx}*(q)_{x}**2 + 238*(\\tilde{q})_{x}**2*(q)_{xx}*q**2 + 378*(\\tilde{q})_{x}**2*(q)_{x}**2*q - 140*(\\tilde{q})_{x}**2*\\tilde{q}*q**4 + 140*(\\tilde{q})_{x}**2*q**3 - 40*(\\tilde{q})_{x}*(q)_{xxxxx}*q - 168*(\\tilde{q})_{x}*(q)_{xxxx}*(q)_{x} - 308*(\\tilde{q})_{x}*(q)_{xxx}*(q)_{xx} + 308*(\\tilde{q})_{x}*(q)_{xxx}*\\tilde{q}*q**2 - 252*(\\tilde{q})_{x}*(q)_{xxx}*q + 1456*(\\tilde{q})_{x}*(q)_{xx}*(q)_{x}*\\tilde{q}*q - 700*(\\tilde{q})_{x}*(q)_{xx}*(q)_{x} + 420*(\\tilde{q})_{x}*(q)_{x}**3*\\tilde{q} - 560*(\\tilde{q})_{x}*(q)_{x}*\\tilde{q}**2*q**3 + 840*(\\tilde{q})_{x}*(q)_{x}*\\tilde{q}*q**2 - 280*(\\tilde{q})_{x}*(q)_{x}*q - 56*(q)_{xxxxx}*(q)_{x}*\\tilde{q} - 112*(q)_{xxxx}*(q)_{xx}*\\tilde{q} - 70*(q)_{xxx}**2*\\tilde{q} + 476*(q)_{xxx}*(q)_{x}*\\tilde{q}**2*q - 420*(q)_{xxx}*(q)_{x}*\\tilde{q} + 322*(q)_{xx}**2*\\tilde{q}**2*q - 280*(q)_{xx}**2*\\tilde{q} + 490*(q)_{xx}*(q)_{x}**2*\\tilde{q}**2 - 560*(q)_{x}**2*\\tilde{q}**3*q**2 + 980*(q)_{x}**2*\\tilde{q}**2*q - 420*(q)_{x}**2*\\tilde{q})"
      ]
     },
     "metadata": {},
     "output_type": "display_data"
    },
    {
     "data": {
      "text/latex": [
       "$\\displaystyle \\frac{\\delta H_{\\text{GP}}^{9}}{\\delta \\tilde{q}} = i \\left(- 18 (\\tilde{q})_{xxxxxx} (q)_{x} q - 54 (\\tilde{q})_{xxxxx} (q)_{xx} q - 54 (\\tilde{q})_{xxxxx} (q)_{x}^{2} - 114 (\\tilde{q})_{xxxx} (q)_{xxx} q - 324 (\\tilde{q})_{xxxx} (q)_{xx} (q)_{x} + 252 (\\tilde{q})_{xxxx} (q)_{x} \\tilde{q} q^{2} - 224 (\\tilde{q})_{xxxx} (q)_{x} q + 504 (\\tilde{q})_{xxx} (\\tilde{q})_{x} (q)_{x} q^{2} - 138 (\\tilde{q})_{xxx} (q)_{xxxx} q - 516 (\\tilde{q})_{xxx} (q)_{xxx} (q)_{x} - 378 (\\tilde{q})_{xxx} (q)_{xx}^{2} + 504 (\\tilde{q})_{xxx} (q)_{xx} \\tilde{q} q^{2} - 448 (\\tilde{q})_{xxx} (q)_{xx} q + 1008 (\\tilde{q})_{xxx} (q)_{x}^{2} \\tilde{q} q - 448 (\\tilde{q})_{xxx} (q)_{x}^{2} + 378 (\\tilde{q})_{xx}^{2} (q)_{x} q^{2} + 924 (\\tilde{q})_{xx} (\\tilde{q})_{x} (q)_{xx} q^{2} + 2100 (\\tilde{q})_{xx} (\\tilde{q})_{x} (q)_{x}^{2} q - 114 (\\tilde{q})_{xx} (q)_{xxxxx} q - 492 (\\tilde{q})_{xx} (q)_{xxxx} (q)_{x} - 924 (\\tilde{q})_{xx} (q)_{xxx} (q)_{xx} + 756 (\\tilde{q})_{xx} (q)_{xxx} \\tilde{q} q^{2} - 672 (\\tilde{q})_{xx} (q)_{xxx} q + 3696 (\\tilde{q})_{xx} (q)_{xx} (q)_{x} \\tilde{q} q - 1792 (\\tilde{q})_{xx} (q)_{xx} (q)_{x} + 1008 (\\tilde{q})_{xx} (q)_{x}^{3} \\tilde{q} - 1260 (\\tilde{q})_{xx} (q)_{x} \\tilde{q}^{2} q^{3} + 2240 (\\tilde{q})_{xx} (q)_{x} \\tilde{q} q^{2} - 960 (\\tilde{q})_{xx} (q)_{x} q + 462 (\\tilde{q})_{x}^{2} (q)_{xxx} q^{2} + 2604 (\\tilde{q})_{x}^{2} (q)_{xx} (q)_{x} q + 798 (\\tilde{q})_{x}^{2} (q)_{x}^{3} - 1260 (\\tilde{q})_{x}^{2} (q)_{x} \\tilde{q} q^{3} + 1120 (\\tilde{q})_{x}^{2} (q)_{x} q^{2} - 54 (\\tilde{q})_{x} (q)_{xxxxxx} q - 264 (\\tilde{q})_{x} (q)_{xxxxx} (q)_{x} - 588 (\\tilde{q})_{x} (q)_{xxxx} (q)_{xx} + 504 (\\tilde{q})_{x} (q)_{xxxx} \\tilde{q} q^{2} - 448 (\\tilde{q})_{x} (q)_{xxxx} q - 378 (\\tilde{q})_{x} (q)_{xxx}^{2} + 3192 (\\tilde{q})_{x} (q)_{xxx} (q)_{x} \\tilde{q} q - 1568 (\\tilde{q})_{x} (q)_{xxx} (q)_{x} + 2184 (\\tilde{q})_{x} (q)_{xx}^{2} \\tilde{q} q - 1120 (\\tilde{q})_{x} (q)_{xx}^{2} + 3696 (\\tilde{q})_{x} (q)_{xx} (q)_{x}^{2} \\tilde{q} - 1260 (\\tilde{q})_{x} (q)_{xx} \\tilde{q}^{2} q^{3} + 2240 (\\tilde{q})_{x} (q)_{xx} \\tilde{q} q^{2} - 960 (\\tilde{q})_{x} (q)_{xx} q - 3780 (\\tilde{q})_{x} (q)_{x}^{2} \\tilde{q}^{2} q^{2} + 4480 (\\tilde{q})_{x} (q)_{x}^{2} \\tilde{q} q - 960 (\\tilde{q})_{x} (q)_{x}^{2} + (q)_{xxxxxxxxx} - 18 (q)_{xxxxxxx} \\tilde{q} q + 16 (q)_{xxxxxxx} - 72 (q)_{xxxxxx} (q)_{x} \\tilde{q} - 168 (q)_{xxxxx} (q)_{xx} \\tilde{q} + 126 (q)_{xxxxx} \\tilde{q}^{2} q^{2} - 224 (q)_{xxxxx} \\tilde{q} q + 96 (q)_{xxxxx} - 252 (q)_{xxxx} (q)_{xxx} \\tilde{q} + 756 (q)_{xxxx} (q)_{x} \\tilde{q}^{2} q - 672 (q)_{xxxx} (q)_{x} \\tilde{q} + 1260 (q)_{xxx} (q)_{xx} \\tilde{q}^{2} q - 1120 (q)_{xxx} (q)_{xx} \\tilde{q} + 966 (q)_{xxx} (q)_{x}^{2} \\tilde{q}^{2} - 420 (q)_{xxx} \\tilde{q}^{3} q^{3} + 1120 (q)_{xxx} \\tilde{q}^{2} q^{2} - 960 (q)_{xxx} \\tilde{q} q + 256 (q)_{xxx} + 1302 (q)_{xx}^{2} (q)_{x} \\tilde{q}^{2} - 2520 (q)_{xx} (q)_{x} \\tilde{q}^{3} q^{2} + 4480 (q)_{xx} (q)_{x} \\tilde{q}^{2} q - 1920 (q)_{xx} (q)_{x} \\tilde{q} - 1260 (q)_{x}^{3} \\tilde{q}^{3} q + 1120 (q)_{x}^{3} \\tilde{q}^{2} + 630 (q)_{x} \\tilde{q}^{4} q^{4} - 2240 (q)_{x} \\tilde{q}^{3} q^{3} + 2880 (q)_{x} \\tilde{q}^{2} q^{2} - 1536 (q)_{x} \\tilde{q} q + 256 (q)_{x}\\right)$"
      ],
      "text/plain": [
       "Eq(\\frac{\\delta H_{\\text{GP}}^{9}}{\\delta \\tilde{q}}, I*(-18*(\\tilde{q})_{xxxxxx}*(q)_{x}*q - 54*(\\tilde{q})_{xxxxx}*(q)_{xx}*q - 54*(\\tilde{q})_{xxxxx}*(q)_{x}**2 - 114*(\\tilde{q})_{xxxx}*(q)_{xxx}*q - 324*(\\tilde{q})_{xxxx}*(q)_{xx}*(q)_{x} + 252*(\\tilde{q})_{xxxx}*(q)_{x}*\\tilde{q}*q**2 - 224*(\\tilde{q})_{xxxx}*(q)_{x}*q + 504*(\\tilde{q})_{xxx}*(\\tilde{q})_{x}*(q)_{x}*q**2 - 138*(\\tilde{q})_{xxx}*(q)_{xxxx}*q - 516*(\\tilde{q})_{xxx}*(q)_{xxx}*(q)_{x} - 378*(\\tilde{q})_{xxx}*(q)_{xx}**2 + 504*(\\tilde{q})_{xxx}*(q)_{xx}*\\tilde{q}*q**2 - 448*(\\tilde{q})_{xxx}*(q)_{xx}*q + 1008*(\\tilde{q})_{xxx}*(q)_{x}**2*\\tilde{q}*q - 448*(\\tilde{q})_{xxx}*(q)_{x}**2 + 378*(\\tilde{q})_{xx}**2*(q)_{x}*q**2 + 924*(\\tilde{q})_{xx}*(\\tilde{q})_{x}*(q)_{xx}*q**2 + 2100*(\\tilde{q})_{xx}*(\\tilde{q})_{x}*(q)_{x}**2*q - 114*(\\tilde{q})_{xx}*(q)_{xxxxx}*q - 492*(\\tilde{q})_{xx}*(q)_{xxxx}*(q)_{x} - 924*(\\tilde{q})_{xx}*(q)_{xxx}*(q)_{xx} + 756*(\\tilde{q})_{xx}*(q)_{xxx}*\\tilde{q}*q**2 - 672*(\\tilde{q})_{xx}*(q)_{xxx}*q + 3696*(\\tilde{q})_{xx}*(q)_{xx}*(q)_{x}*\\tilde{q}*q - 1792*(\\tilde{q})_{xx}*(q)_{xx}*(q)_{x} + 1008*(\\tilde{q})_{xx}*(q)_{x}**3*\\tilde{q} - 1260*(\\tilde{q})_{xx}*(q)_{x}*\\tilde{q}**2*q**3 + 2240*(\\tilde{q})_{xx}*(q)_{x}*\\tilde{q}*q**2 - 960*(\\tilde{q})_{xx}*(q)_{x}*q + 462*(\\tilde{q})_{x}**2*(q)_{xxx}*q**2 + 2604*(\\tilde{q})_{x}**2*(q)_{xx}*(q)_{x}*q + 798*(\\tilde{q})_{x}**2*(q)_{x}**3 - 1260*(\\tilde{q})_{x}**2*(q)_{x}*\\tilde{q}*q**3 + 1120*(\\tilde{q})_{x}**2*(q)_{x}*q**2 - 54*(\\tilde{q})_{x}*(q)_{xxxxxx}*q - 264*(\\tilde{q})_{x}*(q)_{xxxxx}*(q)_{x} - 588*(\\tilde{q})_{x}*(q)_{xxxx}*(q)_{xx} + 504*(\\tilde{q})_{x}*(q)_{xxxx}*\\tilde{q}*q**2 - 448*(\\tilde{q})_{x}*(q)_{xxxx}*q - 378*(\\tilde{q})_{x}*(q)_{xxx}**2 + 3192*(\\tilde{q})_{x}*(q)_{xxx}*(q)_{x}*\\tilde{q}*q - 1568*(\\tilde{q})_{x}*(q)_{xxx}*(q)_{x} + 2184*(\\tilde{q})_{x}*(q)_{xx}**2*\\tilde{q}*q - 1120*(\\tilde{q})_{x}*(q)_{xx}**2 + 3696*(\\tilde{q})_{x}*(q)_{xx}*(q)_{x}**2*\\tilde{q} - 1260*(\\tilde{q})_{x}*(q)_{xx}*\\tilde{q}**2*q**3 + 2240*(\\tilde{q})_{x}*(q)_{xx}*\\tilde{q}*q**2 - 960*(\\tilde{q})_{x}*(q)_{xx}*q - 3780*(\\tilde{q})_{x}*(q)_{x}**2*\\tilde{q}**2*q**2 + 4480*(\\tilde{q})_{x}*(q)_{x}**2*\\tilde{q}*q - 960*(\\tilde{q})_{x}*(q)_{x}**2 + (q)_{xxxxxxxxx} - 18*(q)_{xxxxxxx}*\\tilde{q}*q + 16*(q)_{xxxxxxx} - 72*(q)_{xxxxxx}*(q)_{x}*\\tilde{q} - 168*(q)_{xxxxx}*(q)_{xx}*\\tilde{q} + 126*(q)_{xxxxx}*\\tilde{q}**2*q**2 - 224*(q)_{xxxxx}*\\tilde{q}*q + 96*(q)_{xxxxx} - 252*(q)_{xxxx}*(q)_{xxx}*\\tilde{q} + 756*(q)_{xxxx}*(q)_{x}*\\tilde{q}**2*q - 672*(q)_{xxxx}*(q)_{x}*\\tilde{q} + 1260*(q)_{xxx}*(q)_{xx}*\\tilde{q}**2*q - 1120*(q)_{xxx}*(q)_{xx}*\\tilde{q} + 966*(q)_{xxx}*(q)_{x}**2*\\tilde{q}**2 - 420*(q)_{xxx}*\\tilde{q}**3*q**3 + 1120*(q)_{xxx}*\\tilde{q}**2*q**2 - 960*(q)_{xxx}*\\tilde{q}*q + 256*(q)_{xxx} + 1302*(q)_{xx}**2*(q)_{x}*\\tilde{q}**2 - 2520*(q)_{xx}*(q)_{x}*\\tilde{q}**3*q**2 + 4480*(q)_{xx}*(q)_{x}*\\tilde{q}**2*q - 1920*(q)_{xx}*(q)_{x}*\\tilde{q} - 1260*(q)_{x}**3*\\tilde{q}**3*q + 1120*(q)_{x}**3*\\tilde{q}**2 + 630*(q)_{x}*\\tilde{q}**4*q**4 - 2240*(q)_{x}*\\tilde{q}**3*q**3 + 2880*(q)_{x}*\\tilde{q}**2*q**2 - 1536*(q)_{x}*\\tilde{q}*q + 256*(q)_{x}))"
      ]
     },
     "metadata": {},
     "output_type": "display_data"
    },
    {
     "data": {
      "text/latex": [
       "$\\displaystyle \\mathcal{P}^{9} = i \\left((q)_{xxxxxxxxx} - 18 (q)_{xxxxxxx} \\tilde{q} q + 16 (q)_{xxxxxxx} + 126 (q)_{xxxxx} \\tilde{q}^{2} q^{2} - 224 (q)_{xxxxx} \\tilde{q} q + 96 (q)_{xxxxx} - 420 (q)_{xxx} \\tilde{q}^{3} q^{3} + 1120 (q)_{xxx} \\tilde{q}^{2} q^{2} - 960 (q)_{xxx} \\tilde{q} q + 256 (q)_{xxx} + 630 (q)_{x} \\tilde{q}^{4} q^{4} - 2240 (q)_{x} \\tilde{q}^{3} q^{3} + 2880 (q)_{x} \\tilde{q}^{2} q^{2} - 1536 (q)_{x} \\tilde{q} q + 256 (q)_{x}\\right)$"
      ],
      "text/plain": [
       "Eq(\\mathcal{P}^{9}, I*((q)_{xxxxxxxxx} - 18*(q)_{xxxxxxx}*\\tilde{q}*q + 16*(q)_{xxxxxxx} + 126*(q)_{xxxxx}*\\tilde{q}**2*q**2 - 224*(q)_{xxxxx}*\\tilde{q}*q + 96*(q)_{xxxxx} - 420*(q)_{xxx}*\\tilde{q}**3*q**3 + 1120*(q)_{xxx}*\\tilde{q}**2*q**2 - 960*(q)_{xxx}*\\tilde{q}*q + 256*(q)_{xxx} + 630*(q)_{x}*\\tilde{q}**4*q**4 - 2240*(q)_{x}*\\tilde{q}**3*q**3 + 2880*(q)_{x}*\\tilde{q}**2*q**2 - 1536*(q)_{x}*\\tilde{q}*q + 256*(q)_{x}))"
      ]
     },
     "metadata": {},
     "output_type": "display_data"
    },
    {
     "data": {
      "text/latex": [
       "$\\displaystyle \\frac{\\delta H_{\\text{GP}}^{9}}{\\delta \\tilde{q}} - \\mathcal{P}^{9} = - 18 i (\\tilde{q})_{xxxxxx} (q)_{x} q - 54 i (\\tilde{q})_{xxxxx} (q)_{xx} q - 54 i (\\tilde{q})_{xxxxx} (q)_{x}^{2} - 114 i (\\tilde{q})_{xxxx} (q)_{xxx} q - 324 i (\\tilde{q})_{xxxx} (q)_{xx} (q)_{x} + 252 i (\\tilde{q})_{xxxx} (q)_{x} \\tilde{q} q^{2} - 224 i (\\tilde{q})_{xxxx} (q)_{x} q + 504 i (\\tilde{q})_{xxx} (\\tilde{q})_{x} (q)_{x} q^{2} - 138 i (\\tilde{q})_{xxx} (q)_{xxxx} q - 516 i (\\tilde{q})_{xxx} (q)_{xxx} (q)_{x} - 378 i (\\tilde{q})_{xxx} (q)_{xx}^{2} + 504 i (\\tilde{q})_{xxx} (q)_{xx} \\tilde{q} q^{2} - 448 i (\\tilde{q})_{xxx} (q)_{xx} q + 1008 i (\\tilde{q})_{xxx} (q)_{x}^{2} \\tilde{q} q - 448 i (\\tilde{q})_{xxx} (q)_{x}^{2} + 378 i (\\tilde{q})_{xx}^{2} (q)_{x} q^{2} + 924 i (\\tilde{q})_{xx} (\\tilde{q})_{x} (q)_{xx} q^{2} + 2100 i (\\tilde{q})_{xx} (\\tilde{q})_{x} (q)_{x}^{2} q - 114 i (\\tilde{q})_{xx} (q)_{xxxxx} q - 492 i (\\tilde{q})_{xx} (q)_{xxxx} (q)_{x} - 924 i (\\tilde{q})_{xx} (q)_{xxx} (q)_{xx} + 756 i (\\tilde{q})_{xx} (q)_{xxx} \\tilde{q} q^{2} - 672 i (\\tilde{q})_{xx} (q)_{xxx} q + 3696 i (\\tilde{q})_{xx} (q)_{xx} (q)_{x} \\tilde{q} q - 1792 i (\\tilde{q})_{xx} (q)_{xx} (q)_{x} + 1008 i (\\tilde{q})_{xx} (q)_{x}^{3} \\tilde{q} - 1260 i (\\tilde{q})_{xx} (q)_{x} \\tilde{q}^{2} q^{3} + 2240 i (\\tilde{q})_{xx} (q)_{x} \\tilde{q} q^{2} - 960 i (\\tilde{q})_{xx} (q)_{x} q + 462 i (\\tilde{q})_{x}^{2} (q)_{xxx} q^{2} + 2604 i (\\tilde{q})_{x}^{2} (q)_{xx} (q)_{x} q + 798 i (\\tilde{q})_{x}^{2} (q)_{x}^{3} - 1260 i (\\tilde{q})_{x}^{2} (q)_{x} \\tilde{q} q^{3} + 1120 i (\\tilde{q})_{x}^{2} (q)_{x} q^{2} - 54 i (\\tilde{q})_{x} (q)_{xxxxxx} q - 264 i (\\tilde{q})_{x} (q)_{xxxxx} (q)_{x} - 588 i (\\tilde{q})_{x} (q)_{xxxx} (q)_{xx} + 504 i (\\tilde{q})_{x} (q)_{xxxx} \\tilde{q} q^{2} - 448 i (\\tilde{q})_{x} (q)_{xxxx} q - 378 i (\\tilde{q})_{x} (q)_{xxx}^{2} + 3192 i (\\tilde{q})_{x} (q)_{xxx} (q)_{x} \\tilde{q} q - 1568 i (\\tilde{q})_{x} (q)_{xxx} (q)_{x} + 2184 i (\\tilde{q})_{x} (q)_{xx}^{2} \\tilde{q} q - 1120 i (\\tilde{q})_{x} (q)_{xx}^{2} + 3696 i (\\tilde{q})_{x} (q)_{xx} (q)_{x}^{2} \\tilde{q} - 1260 i (\\tilde{q})_{x} (q)_{xx} \\tilde{q}^{2} q^{3} + 2240 i (\\tilde{q})_{x} (q)_{xx} \\tilde{q} q^{2} - 960 i (\\tilde{q})_{x} (q)_{xx} q - 3780 i (\\tilde{q})_{x} (q)_{x}^{2} \\tilde{q}^{2} q^{2} + 4480 i (\\tilde{q})_{x} (q)_{x}^{2} \\tilde{q} q - 960 i (\\tilde{q})_{x} (q)_{x}^{2} - 72 i (q)_{xxxxxx} (q)_{x} \\tilde{q} - 168 i (q)_{xxxxx} (q)_{xx} \\tilde{q} - 252 i (q)_{xxxx} (q)_{xxx} \\tilde{q} + 756 i (q)_{xxxx} (q)_{x} \\tilde{q}^{2} q - 672 i (q)_{xxxx} (q)_{x} \\tilde{q} + 1260 i (q)_{xxx} (q)_{xx} \\tilde{q}^{2} q - 1120 i (q)_{xxx} (q)_{xx} \\tilde{q} + 966 i (q)_{xxx} (q)_{x}^{2} \\tilde{q}^{2} + 1302 i (q)_{xx}^{2} (q)_{x} \\tilde{q}^{2} - 2520 i (q)_{xx} (q)_{x} \\tilde{q}^{3} q^{2} + 4480 i (q)_{xx} (q)_{x} \\tilde{q}^{2} q - 1920 i (q)_{xx} (q)_{x} \\tilde{q} - 1260 i (q)_{x}^{3} \\tilde{q}^{3} q + 1120 i (q)_{x}^{3} \\tilde{q}^{2}$"
      ],
      "text/plain": [
       "Eq(\\frac{\\delta H_{\\text{GP}}^{9}}{\\delta \\tilde{q}} - \\mathcal{P}^{9}, -18*I*(\\tilde{q})_{xxxxxx}*(q)_{x}*q - 54*I*(\\tilde{q})_{xxxxx}*(q)_{xx}*q - 54*I*(\\tilde{q})_{xxxxx}*(q)_{x}**2 - 114*I*(\\tilde{q})_{xxxx}*(q)_{xxx}*q - 324*I*(\\tilde{q})_{xxxx}*(q)_{xx}*(q)_{x} + 252*I*(\\tilde{q})_{xxxx}*(q)_{x}*\\tilde{q}*q**2 - 224*I*(\\tilde{q})_{xxxx}*(q)_{x}*q + 504*I*(\\tilde{q})_{xxx}*(\\tilde{q})_{x}*(q)_{x}*q**2 - 138*I*(\\tilde{q})_{xxx}*(q)_{xxxx}*q - 516*I*(\\tilde{q})_{xxx}*(q)_{xxx}*(q)_{x} - 378*I*(\\tilde{q})_{xxx}*(q)_{xx}**2 + 504*I*(\\tilde{q})_{xxx}*(q)_{xx}*\\tilde{q}*q**2 - 448*I*(\\tilde{q})_{xxx}*(q)_{xx}*q + 1008*I*(\\tilde{q})_{xxx}*(q)_{x}**2*\\tilde{q}*q - 448*I*(\\tilde{q})_{xxx}*(q)_{x}**2 + 378*I*(\\tilde{q})_{xx}**2*(q)_{x}*q**2 + 924*I*(\\tilde{q})_{xx}*(\\tilde{q})_{x}*(q)_{xx}*q**2 + 2100*I*(\\tilde{q})_{xx}*(\\tilde{q})_{x}*(q)_{x}**2*q - 114*I*(\\tilde{q})_{xx}*(q)_{xxxxx}*q - 492*I*(\\tilde{q})_{xx}*(q)_{xxxx}*(q)_{x} - 924*I*(\\tilde{q})_{xx}*(q)_{xxx}*(q)_{xx} + 756*I*(\\tilde{q})_{xx}*(q)_{xxx}*\\tilde{q}*q**2 - 672*I*(\\tilde{q})_{xx}*(q)_{xxx}*q + 3696*I*(\\tilde{q})_{xx}*(q)_{xx}*(q)_{x}*\\tilde{q}*q - 1792*I*(\\tilde{q})_{xx}*(q)_{xx}*(q)_{x} + 1008*I*(\\tilde{q})_{xx}*(q)_{x}**3*\\tilde{q} - 1260*I*(\\tilde{q})_{xx}*(q)_{x}*\\tilde{q}**2*q**3 + 2240*I*(\\tilde{q})_{xx}*(q)_{x}*\\tilde{q}*q**2 - 960*I*(\\tilde{q})_{xx}*(q)_{x}*q + 462*I*(\\tilde{q})_{x}**2*(q)_{xxx}*q**2 + 2604*I*(\\tilde{q})_{x}**2*(q)_{xx}*(q)_{x}*q + 798*I*(\\tilde{q})_{x}**2*(q)_{x}**3 - 1260*I*(\\tilde{q})_{x}**2*(q)_{x}*\\tilde{q}*q**3 + 1120*I*(\\tilde{q})_{x}**2*(q)_{x}*q**2 - 54*I*(\\tilde{q})_{x}*(q)_{xxxxxx}*q - 264*I*(\\tilde{q})_{x}*(q)_{xxxxx}*(q)_{x} - 588*I*(\\tilde{q})_{x}*(q)_{xxxx}*(q)_{xx} + 504*I*(\\tilde{q})_{x}*(q)_{xxxx}*\\tilde{q}*q**2 - 448*I*(\\tilde{q})_{x}*(q)_{xxxx}*q - 378*I*(\\tilde{q})_{x}*(q)_{xxx}**2 + 3192*I*(\\tilde{q})_{x}*(q)_{xxx}*(q)_{x}*\\tilde{q}*q - 1568*I*(\\tilde{q})_{x}*(q)_{xxx}*(q)_{x} + 2184*I*(\\tilde{q})_{x}*(q)_{xx}**2*\\tilde{q}*q - 1120*I*(\\tilde{q})_{x}*(q)_{xx}**2 + 3696*I*(\\tilde{q})_{x}*(q)_{xx}*(q)_{x}**2*\\tilde{q} - 1260*I*(\\tilde{q})_{x}*(q)_{xx}*\\tilde{q}**2*q**3 + 2240*I*(\\tilde{q})_{x}*(q)_{xx}*\\tilde{q}*q**2 - 960*I*(\\tilde{q})_{x}*(q)_{xx}*q - 3780*I*(\\tilde{q})_{x}*(q)_{x}**2*\\tilde{q}**2*q**2 + 4480*I*(\\tilde{q})_{x}*(q)_{x}**2*\\tilde{q}*q - 960*I*(\\tilde{q})_{x}*(q)_{x}**2 - 72*I*(q)_{xxxxxx}*(q)_{x}*\\tilde{q} - 168*I*(q)_{xxxxx}*(q)_{xx}*\\tilde{q} - 252*I*(q)_{xxxx}*(q)_{xxx}*\\tilde{q} + 756*I*(q)_{xxxx}*(q)_{x}*\\tilde{q}**2*q - 672*I*(q)_{xxxx}*(q)_{x}*\\tilde{q} + 1260*I*(q)_{xxx}*(q)_{xx}*\\tilde{q}**2*q - 1120*I*(q)_{xxx}*(q)_{xx}*\\tilde{q} + 966*I*(q)_{xxx}*(q)_{x}**2*\\tilde{q}**2 + 1302*I*(q)_{xx}**2*(q)_{x}*\\tilde{q}**2 - 2520*I*(q)_{xx}*(q)_{x}*\\tilde{q}**3*q**2 + 4480*I*(q)_{xx}*(q)_{x}*\\tilde{q}**2*q - 1920*I*(q)_{xx}*(q)_{x}*\\tilde{q} - 1260*I*(q)_{x}**3*\\tilde{q}**3*q + 1120*I*(q)_{x}**3*\\tilde{q}**2)"
      ]
     },
     "metadata": {},
     "output_type": "display_data"
    }
   ],
   "source": [
    "print(\"GP-hierarchy vs predicted part vs difference\")\n",
    "\n",
    "N = 10\n",
    "for n in range(N):\n",
    "    display(Eq(Symbol(\"\\\\frac{\\delta H_{\\\\text{GP}}^{\" + str(n) + \"}}{\\delta \\\\tilde{q}}\"), simplify(variation(H_GP(n), q_conj))))\n",
    "    \n",
    "    X = 0\n",
    "\n",
    "    if n % 2 == 0:\n",
    "        m = Rational(n, 2)\n",
    "        for k in range(m + 1):\n",
    "            for j in range(k - 1):\n",
    "                X += - binomial(m-Rational(1,2), m-k) * (-4)**(m-k) * 2 * (-1)**k * (-4)**j * binomial(k - Rational(1,2), j) * q**(j+2) * q_conj**j * higher_deriv(q_conj, 2*k-2-2*j)\n",
    "            for j in range(k):\n",
    "                X += binomial(m-Rational(1,2), m-k) * (-4)**(m-k) * Rational(1,2) * (-1)**k * (-4)**j * (binomial(k-Rational(1,2),j) + binomial(k+Rational(1,2),j)) * q**j * q_conj**j * higher_deriv(q, 2*k-2*j)\n",
    "            X += binomial(m-Rational(1,2), m-k) * (-4)**(m-k) * (k + 1) * catalan(k) * q**(k+1) * q_conj**k\n",
    "\n",
    "    if n % 2 == 1:\n",
    "        m = Rational(n+1, 2)\n",
    "        for k in range(m + 1):\n",
    "            for j in range(k):\n",
    "                X += I * binomial(m-1, m-k) * (-4)**(m-k) * (-1)**(k-1) * (-4)**j * binomial(k - 1 + Rational(1,2), j) * q**j * q_conj**j * higher_deriv(q, 2*(k-1)+1-2*j)\n",
    "\n",
    "    display(Eq(Symbol(\"\\\\mathcal{P}^{\" + str(n) + \"}\"), simplify(X)))\n",
    "    display(Eq(Symbol(\"\\\\frac{\\delta H_{\\\\text{GP}}^{\" + str(n) + \"}}{\\delta \\\\tilde{q}} - \\\\mathcal{P}^{\" + str(n) + \"}\"), simplify(variation(H_GP(n), q_conj) - X).expand()))\n"
   ]
  }
 ],
 "metadata": {
  "kernelspec": {
   "display_name": "Python 3 (ipykernel)",
   "language": "python",
   "name": "python3"
  },
  "language_info": {
   "codemirror_mode": {
    "name": "ipython",
    "version": 3
   },
   "file_extension": ".py",
   "mimetype": "text/x-python",
   "name": "python",
   "nbconvert_exporter": "python",
   "pygments_lexer": "ipython3",
   "version": "3.10.9"
  }
 },
 "nbformat": 4,
 "nbformat_minor": 5
}
